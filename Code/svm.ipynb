{
 "cells": [
  {
   "cell_type": "code",
   "execution_count": 31,
   "metadata": {
    "colab": {},
    "colab_type": "code",
    "id": "IyBRiMVRyxHj"
   },
   "outputs": [],
   "source": [
    "import math\n",
    "import numpy as np"
   ]
  },
  {
   "cell_type": "code",
   "execution_count": 32,
   "metadata": {
    "colab": {},
    "colab_type": "code",
    "id": "4vM88pr78qu2"
   },
   "outputs": [],
   "source": [
    "# +1 if x > y and -1 otherwise\n",
    "def labels_line(p):\n",
    "    if p[0] > p[1]:\n",
    "        return 1\n",
    "    else:\n",
    "        return -1\n",
    "\n",
    "# +1 if y > sin(5x)/2 and -1 otherwise\n",
    "def labels_sine(p):\n",
    "    if p[1] > math.sin(5*p[0]) / 2:\n",
    "        return 1\n",
    "    else:\n",
    "        return -1   "
   ]
  },
  {
   "cell_type": "code",
   "execution_count": 33,
   "metadata": {},
   "outputs": [],
   "source": [
    "import plotly.graph_objects as go"
   ]
  },
  {
   "cell_type": "code",
   "execution_count": 34,
   "metadata": {
    "colab": {},
    "colab_type": "code",
    "id": "NyKdRUpL0hvP"
   },
   "outputs": [],
   "source": [
    "def plot_data_decision_line(X, y, clf, fig, title):\n",
    "    fig.add_trace(go.Scatter(x=X[:, 0], y=X[:, 1],\n",
    "                mode='markers', name='Data', \n",
    "                marker = dict(color=y, colorscale=\"RdBu\", size=10)))\n",
    "\n",
    "    x = np.linspace(-1, 1, 2)\n",
    "\n",
    "    a = -clf.coef_[0,0] / clf.coef_[0,1]\n",
    "    b0 = -clf.intercept_ / clf.coef_[0,1]\n",
    "    b1 = -(1 + clf.intercept_) / clf.coef_[0,1]\n",
    "    b2 = -(-1 + clf.intercept_) / clf.coef_[0,1]\n",
    "\n",
    "    fig.add_trace(go.Scatter(x=x, y=a*x + b0,\n",
    "                      mode='lines', name='Decision line'))\n",
    "    fig.add_trace(go.Scatter(x=x, y=a*x + b1,\n",
    "                      mode='lines', name='Support line',\n",
    "                      line=dict(dash=\"dash\")))\n",
    "    fig.add_trace(go.Scatter(x=x, y=a*x + b2,\n",
    "                      mode='lines', name='Support line',\n",
    "                      line=dict(dash=\"dash\")))\n",
    "    fig.update_layout(title=title, width=600)\n",
    "\n",
    "def plot_data_decision_function(X, y, clf, fig, title, sx, sy):\n",
    "\n",
    "    # plot the decision function\n",
    "    xm = sx*np.linspace(-1, 1, 20)\n",
    "    ym = sy*np.linspace(-1, 1, 20)\n",
    "    xx, yy = np.meshgrid(xm,ym)\n",
    "\n",
    "    Z = clf.decision_function(np.c_[xx.ravel(), yy.ravel()])\n",
    "    # Computes the decision function that separates the 1 labels \n",
    "    # from the -1 labels\n",
    "    # ravel() returns a contiguous flattened array\n",
    "    # c_ concatenates arrays along the 2nd dimension\n",
    "    Z = Z.reshape(xx.shape)\n",
    "\n",
    "    fig.add_trace(go.Scatter(x=X[:, 0], y=X[:, 1],\n",
    "                  mode='markers', showlegend=False, \n",
    "                  marker = dict(color=y, colorscale=\"RdBu\", size=10)))\n",
    "    fig.add_trace(go.Contour(x=xm,y=ym,z=Z,colorscale='RdBu'))\n",
    "    fig.update_layout(title=title, width=600)"
   ]
  },
  {
   "cell_type": "code",
   "execution_count": 35,
   "metadata": {},
   "outputs": [],
   "source": [
    "from sklearn import svm"
   ]
  },
  {
   "cell_type": "code",
   "execution_count": 36,
   "metadata": {
    "colab": {
     "base_uri": "https://localhost:8080/",
     "height": 732
    },
    "colab_type": "code",
    "id": "SwYZxjhilPdn",
    "outputId": "7ca169f9-388d-45c6-abac-7812014d0732"
   },
   "outputs": [
    {
     "name": "stdout",
     "output_type": "stream",
     "text": [
      "Shape of X:  (8, 2)\n",
      "[[-0.1280102  -0.94814754]\n",
      " [ 0.09932496 -0.12935521]\n",
      " [-0.1592644  -0.33933036]\n",
      " [-0.59070273  0.23854193]\n",
      " [-0.40069065 -0.46634545]\n",
      " [ 0.24226767  0.05828419]\n",
      " [-0.73084011  0.02715624]\n",
      " [-0.63112027  0.5706703 ]]\n",
      "Shape of y:  (8,)\n",
      "[ 1.  1.  1. -1.  1.  1. -1. -1.]\n"
     ]
    },
    {
     "data": {
      "application/vnd.plotly.v1+json": {
       "config": {
        "plotlyServerURL": "https://plot.ly"
       },
       "data": [
        {
         "marker": {
          "color": [
           1,
           1,
           1,
           -1,
           1,
           1,
           -1,
           -1
          ],
          "colorscale": [
           [
            0,
            "rgb(103,0,31)"
           ],
           [
            0.1,
            "rgb(178,24,43)"
           ],
           [
            0.2,
            "rgb(214,96,77)"
           ],
           [
            0.3,
            "rgb(244,165,130)"
           ],
           [
            0.4,
            "rgb(253,219,199)"
           ],
           [
            0.5,
            "rgb(247,247,247)"
           ],
           [
            0.6,
            "rgb(209,229,240)"
           ],
           [
            0.7,
            "rgb(146,197,222)"
           ],
           [
            0.8,
            "rgb(67,147,195)"
           ],
           [
            0.9,
            "rgb(33,102,172)"
           ],
           [
            1,
            "rgb(5,48,97)"
           ]
          ],
          "size": 10
         },
         "mode": "markers",
         "name": "Data",
         "type": "scatter",
         "x": [
          -0.12801019571599248,
          0.09932495575741829,
          -0.15926439582502194,
          -0.590702731924315,
          -0.4006906526509537,
          0.2422676655385898,
          -0.7308401093101329,
          -0.6311202687061694
         ],
         "y": [
          -0.9481475363442173,
          -0.12935521476344625,
          -0.33933035799225175,
          0.2385419327013274,
          -0.46634544979426673,
          0.05828418855407813,
          0.027156242531492847,
          0.5706702956333469
         ]
        },
        {
         "mode": "lines",
         "name": "Decision line",
         "type": "scatter",
         "x": [
          -1,
          1
         ],
         "y": [
          -0.5738907576148911,
          1.0580334895207892
         ]
        },
        {
         "line": {
          "dash": "dash"
         },
         "mode": "lines",
         "name": "Support line",
         "type": "scatter",
         "x": [
          -1,
          1
         ],
         "y": [
          -0.19237664532879895,
          1.4395476018068813
         ]
        },
        {
         "line": {
          "dash": "dash"
         },
         "mode": "lines",
         "name": "Support line",
         "type": "scatter",
         "x": [
          -1,
          1
         ],
         "y": [
          -0.9554048699009834,
          0.6765193772346969
         ]
        }
       ],
       "layout": {
        "template": {
         "data": {
          "bar": [
           {
            "error_x": {
             "color": "#2a3f5f"
            },
            "error_y": {
             "color": "#2a3f5f"
            },
            "marker": {
             "line": {
              "color": "#E5ECF6",
              "width": 0.5
             }
            },
            "type": "bar"
           }
          ],
          "barpolar": [
           {
            "marker": {
             "line": {
              "color": "#E5ECF6",
              "width": 0.5
             }
            },
            "type": "barpolar"
           }
          ],
          "carpet": [
           {
            "aaxis": {
             "endlinecolor": "#2a3f5f",
             "gridcolor": "white",
             "linecolor": "white",
             "minorgridcolor": "white",
             "startlinecolor": "#2a3f5f"
            },
            "baxis": {
             "endlinecolor": "#2a3f5f",
             "gridcolor": "white",
             "linecolor": "white",
             "minorgridcolor": "white",
             "startlinecolor": "#2a3f5f"
            },
            "type": "carpet"
           }
          ],
          "choropleth": [
           {
            "colorbar": {
             "outlinewidth": 0,
             "ticks": ""
            },
            "type": "choropleth"
           }
          ],
          "contour": [
           {
            "colorbar": {
             "outlinewidth": 0,
             "ticks": ""
            },
            "colorscale": [
             [
              0,
              "#0d0887"
             ],
             [
              0.1111111111111111,
              "#46039f"
             ],
             [
              0.2222222222222222,
              "#7201a8"
             ],
             [
              0.3333333333333333,
              "#9c179e"
             ],
             [
              0.4444444444444444,
              "#bd3786"
             ],
             [
              0.5555555555555556,
              "#d8576b"
             ],
             [
              0.6666666666666666,
              "#ed7953"
             ],
             [
              0.7777777777777778,
              "#fb9f3a"
             ],
             [
              0.8888888888888888,
              "#fdca26"
             ],
             [
              1,
              "#f0f921"
             ]
            ],
            "type": "contour"
           }
          ],
          "contourcarpet": [
           {
            "colorbar": {
             "outlinewidth": 0,
             "ticks": ""
            },
            "type": "contourcarpet"
           }
          ],
          "heatmap": [
           {
            "colorbar": {
             "outlinewidth": 0,
             "ticks": ""
            },
            "colorscale": [
             [
              0,
              "#0d0887"
             ],
             [
              0.1111111111111111,
              "#46039f"
             ],
             [
              0.2222222222222222,
              "#7201a8"
             ],
             [
              0.3333333333333333,
              "#9c179e"
             ],
             [
              0.4444444444444444,
              "#bd3786"
             ],
             [
              0.5555555555555556,
              "#d8576b"
             ],
             [
              0.6666666666666666,
              "#ed7953"
             ],
             [
              0.7777777777777778,
              "#fb9f3a"
             ],
             [
              0.8888888888888888,
              "#fdca26"
             ],
             [
              1,
              "#f0f921"
             ]
            ],
            "type": "heatmap"
           }
          ],
          "heatmapgl": [
           {
            "colorbar": {
             "outlinewidth": 0,
             "ticks": ""
            },
            "colorscale": [
             [
              0,
              "#0d0887"
             ],
             [
              0.1111111111111111,
              "#46039f"
             ],
             [
              0.2222222222222222,
              "#7201a8"
             ],
             [
              0.3333333333333333,
              "#9c179e"
             ],
             [
              0.4444444444444444,
              "#bd3786"
             ],
             [
              0.5555555555555556,
              "#d8576b"
             ],
             [
              0.6666666666666666,
              "#ed7953"
             ],
             [
              0.7777777777777778,
              "#fb9f3a"
             ],
             [
              0.8888888888888888,
              "#fdca26"
             ],
             [
              1,
              "#f0f921"
             ]
            ],
            "type": "heatmapgl"
           }
          ],
          "histogram": [
           {
            "marker": {
             "colorbar": {
              "outlinewidth": 0,
              "ticks": ""
             }
            },
            "type": "histogram"
           }
          ],
          "histogram2d": [
           {
            "colorbar": {
             "outlinewidth": 0,
             "ticks": ""
            },
            "colorscale": [
             [
              0,
              "#0d0887"
             ],
             [
              0.1111111111111111,
              "#46039f"
             ],
             [
              0.2222222222222222,
              "#7201a8"
             ],
             [
              0.3333333333333333,
              "#9c179e"
             ],
             [
              0.4444444444444444,
              "#bd3786"
             ],
             [
              0.5555555555555556,
              "#d8576b"
             ],
             [
              0.6666666666666666,
              "#ed7953"
             ],
             [
              0.7777777777777778,
              "#fb9f3a"
             ],
             [
              0.8888888888888888,
              "#fdca26"
             ],
             [
              1,
              "#f0f921"
             ]
            ],
            "type": "histogram2d"
           }
          ],
          "histogram2dcontour": [
           {
            "colorbar": {
             "outlinewidth": 0,
             "ticks": ""
            },
            "colorscale": [
             [
              0,
              "#0d0887"
             ],
             [
              0.1111111111111111,
              "#46039f"
             ],
             [
              0.2222222222222222,
              "#7201a8"
             ],
             [
              0.3333333333333333,
              "#9c179e"
             ],
             [
              0.4444444444444444,
              "#bd3786"
             ],
             [
              0.5555555555555556,
              "#d8576b"
             ],
             [
              0.6666666666666666,
              "#ed7953"
             ],
             [
              0.7777777777777778,
              "#fb9f3a"
             ],
             [
              0.8888888888888888,
              "#fdca26"
             ],
             [
              1,
              "#f0f921"
             ]
            ],
            "type": "histogram2dcontour"
           }
          ],
          "mesh3d": [
           {
            "colorbar": {
             "outlinewidth": 0,
             "ticks": ""
            },
            "type": "mesh3d"
           }
          ],
          "parcoords": [
           {
            "line": {
             "colorbar": {
              "outlinewidth": 0,
              "ticks": ""
             }
            },
            "type": "parcoords"
           }
          ],
          "pie": [
           {
            "automargin": true,
            "type": "pie"
           }
          ],
          "scatter": [
           {
            "marker": {
             "colorbar": {
              "outlinewidth": 0,
              "ticks": ""
             }
            },
            "type": "scatter"
           }
          ],
          "scatter3d": [
           {
            "line": {
             "colorbar": {
              "outlinewidth": 0,
              "ticks": ""
             }
            },
            "marker": {
             "colorbar": {
              "outlinewidth": 0,
              "ticks": ""
             }
            },
            "type": "scatter3d"
           }
          ],
          "scattercarpet": [
           {
            "marker": {
             "colorbar": {
              "outlinewidth": 0,
              "ticks": ""
             }
            },
            "type": "scattercarpet"
           }
          ],
          "scattergeo": [
           {
            "marker": {
             "colorbar": {
              "outlinewidth": 0,
              "ticks": ""
             }
            },
            "type": "scattergeo"
           }
          ],
          "scattergl": [
           {
            "marker": {
             "colorbar": {
              "outlinewidth": 0,
              "ticks": ""
             }
            },
            "type": "scattergl"
           }
          ],
          "scattermapbox": [
           {
            "marker": {
             "colorbar": {
              "outlinewidth": 0,
              "ticks": ""
             }
            },
            "type": "scattermapbox"
           }
          ],
          "scatterpolar": [
           {
            "marker": {
             "colorbar": {
              "outlinewidth": 0,
              "ticks": ""
             }
            },
            "type": "scatterpolar"
           }
          ],
          "scatterpolargl": [
           {
            "marker": {
             "colorbar": {
              "outlinewidth": 0,
              "ticks": ""
             }
            },
            "type": "scatterpolargl"
           }
          ],
          "scatterternary": [
           {
            "marker": {
             "colorbar": {
              "outlinewidth": 0,
              "ticks": ""
             }
            },
            "type": "scatterternary"
           }
          ],
          "surface": [
           {
            "colorbar": {
             "outlinewidth": 0,
             "ticks": ""
            },
            "colorscale": [
             [
              0,
              "#0d0887"
             ],
             [
              0.1111111111111111,
              "#46039f"
             ],
             [
              0.2222222222222222,
              "#7201a8"
             ],
             [
              0.3333333333333333,
              "#9c179e"
             ],
             [
              0.4444444444444444,
              "#bd3786"
             ],
             [
              0.5555555555555556,
              "#d8576b"
             ],
             [
              0.6666666666666666,
              "#ed7953"
             ],
             [
              0.7777777777777778,
              "#fb9f3a"
             ],
             [
              0.8888888888888888,
              "#fdca26"
             ],
             [
              1,
              "#f0f921"
             ]
            ],
            "type": "surface"
           }
          ],
          "table": [
           {
            "cells": {
             "fill": {
              "color": "#EBF0F8"
             },
             "line": {
              "color": "white"
             }
            },
            "header": {
             "fill": {
              "color": "#C8D4E3"
             },
             "line": {
              "color": "white"
             }
            },
            "type": "table"
           }
          ]
         },
         "layout": {
          "annotationdefaults": {
           "arrowcolor": "#2a3f5f",
           "arrowhead": 0,
           "arrowwidth": 1
          },
          "coloraxis": {
           "colorbar": {
            "outlinewidth": 0,
            "ticks": ""
           }
          },
          "colorscale": {
           "diverging": [
            [
             0,
             "#8e0152"
            ],
            [
             0.1,
             "#c51b7d"
            ],
            [
             0.2,
             "#de77ae"
            ],
            [
             0.3,
             "#f1b6da"
            ],
            [
             0.4,
             "#fde0ef"
            ],
            [
             0.5,
             "#f7f7f7"
            ],
            [
             0.6,
             "#e6f5d0"
            ],
            [
             0.7,
             "#b8e186"
            ],
            [
             0.8,
             "#7fbc41"
            ],
            [
             0.9,
             "#4d9221"
            ],
            [
             1,
             "#276419"
            ]
           ],
           "sequential": [
            [
             0,
             "#0d0887"
            ],
            [
             0.1111111111111111,
             "#46039f"
            ],
            [
             0.2222222222222222,
             "#7201a8"
            ],
            [
             0.3333333333333333,
             "#9c179e"
            ],
            [
             0.4444444444444444,
             "#bd3786"
            ],
            [
             0.5555555555555556,
             "#d8576b"
            ],
            [
             0.6666666666666666,
             "#ed7953"
            ],
            [
             0.7777777777777778,
             "#fb9f3a"
            ],
            [
             0.8888888888888888,
             "#fdca26"
            ],
            [
             1,
             "#f0f921"
            ]
           ],
           "sequentialminus": [
            [
             0,
             "#0d0887"
            ],
            [
             0.1111111111111111,
             "#46039f"
            ],
            [
             0.2222222222222222,
             "#7201a8"
            ],
            [
             0.3333333333333333,
             "#9c179e"
            ],
            [
             0.4444444444444444,
             "#bd3786"
            ],
            [
             0.5555555555555556,
             "#d8576b"
            ],
            [
             0.6666666666666666,
             "#ed7953"
            ],
            [
             0.7777777777777778,
             "#fb9f3a"
            ],
            [
             0.8888888888888888,
             "#fdca26"
            ],
            [
             1,
             "#f0f921"
            ]
           ]
          },
          "colorway": [
           "#636efa",
           "#EF553B",
           "#00cc96",
           "#ab63fa",
           "#FFA15A",
           "#19d3f3",
           "#FF6692",
           "#B6E880",
           "#FF97FF",
           "#FECB52"
          ],
          "font": {
           "color": "#2a3f5f"
          },
          "geo": {
           "bgcolor": "white",
           "lakecolor": "white",
           "landcolor": "#E5ECF6",
           "showlakes": true,
           "showland": true,
           "subunitcolor": "white"
          },
          "hoverlabel": {
           "align": "left"
          },
          "hovermode": "closest",
          "mapbox": {
           "style": "light"
          },
          "paper_bgcolor": "white",
          "plot_bgcolor": "#E5ECF6",
          "polar": {
           "angularaxis": {
            "gridcolor": "white",
            "linecolor": "white",
            "ticks": ""
           },
           "bgcolor": "#E5ECF6",
           "radialaxis": {
            "gridcolor": "white",
            "linecolor": "white",
            "ticks": ""
           }
          },
          "scene": {
           "xaxis": {
            "backgroundcolor": "#E5ECF6",
            "gridcolor": "white",
            "gridwidth": 2,
            "linecolor": "white",
            "showbackground": true,
            "ticks": "",
            "zerolinecolor": "white"
           },
           "yaxis": {
            "backgroundcolor": "#E5ECF6",
            "gridcolor": "white",
            "gridwidth": 2,
            "linecolor": "white",
            "showbackground": true,
            "ticks": "",
            "zerolinecolor": "white"
           },
           "zaxis": {
            "backgroundcolor": "#E5ECF6",
            "gridcolor": "white",
            "gridwidth": 2,
            "linecolor": "white",
            "showbackground": true,
            "ticks": "",
            "zerolinecolor": "white"
           }
          },
          "shapedefaults": {
           "line": {
            "color": "#2a3f5f"
           }
          },
          "ternary": {
           "aaxis": {
            "gridcolor": "white",
            "linecolor": "white",
            "ticks": ""
           },
           "baxis": {
            "gridcolor": "white",
            "linecolor": "white",
            "ticks": ""
           },
           "bgcolor": "#E5ECF6",
           "caxis": {
            "gridcolor": "white",
            "linecolor": "white",
            "ticks": ""
           }
          },
          "title": {
           "x": 0.05
          },
          "xaxis": {
           "automargin": true,
           "gridcolor": "white",
           "linecolor": "white",
           "ticks": "",
           "title": {
            "standoff": 15
           },
           "zerolinecolor": "white",
           "zerolinewidth": 2
          },
          "yaxis": {
           "automargin": true,
           "gridcolor": "white",
           "linecolor": "white",
           "ticks": "",
           "title": {
            "standoff": 15
           },
           "zerolinecolor": "white",
           "zerolinewidth": 2
          }
         }
        },
        "title": {
         "text": "SVM"
        },
        "width": 600
       }
      },
      "text/html": [
       "<div>\n",
       "        \n",
       "        \n",
       "            <div id=\"0603338b-7292-44de-bef9-a605d0703384\" class=\"plotly-graph-div\" style=\"height:525px; width:600px;\"></div>\n",
       "            <script type=\"text/javascript\">\n",
       "                require([\"plotly\"], function(Plotly) {\n",
       "                    window.PLOTLYENV=window.PLOTLYENV || {};\n",
       "                    \n",
       "                if (document.getElementById(\"0603338b-7292-44de-bef9-a605d0703384\")) {\n",
       "                    Plotly.newPlot(\n",
       "                        '0603338b-7292-44de-bef9-a605d0703384',\n",
       "                        [{\"marker\": {\"color\": [1.0, 1.0, 1.0, -1.0, 1.0, 1.0, -1.0, -1.0], \"colorscale\": [[0.0, \"rgb(103,0,31)\"], [0.1, \"rgb(178,24,43)\"], [0.2, \"rgb(214,96,77)\"], [0.3, \"rgb(244,165,130)\"], [0.4, \"rgb(253,219,199)\"], [0.5, \"rgb(247,247,247)\"], [0.6, \"rgb(209,229,240)\"], [0.7, \"rgb(146,197,222)\"], [0.8, \"rgb(67,147,195)\"], [0.9, \"rgb(33,102,172)\"], [1.0, \"rgb(5,48,97)\"]], \"size\": 10}, \"mode\": \"markers\", \"name\": \"Data\", \"type\": \"scatter\", \"x\": [-0.12801019571599248, 0.09932495575741829, -0.15926439582502194, -0.590702731924315, -0.4006906526509537, 0.2422676655385898, -0.7308401093101329, -0.6311202687061694], \"y\": [-0.9481475363442173, -0.12935521476344625, -0.33933035799225175, 0.2385419327013274, -0.46634544979426673, 0.05828418855407813, 0.027156242531492847, 0.5706702956333469]}, {\"mode\": \"lines\", \"name\": \"Decision line\", \"type\": \"scatter\", \"x\": [-1.0, 1.0], \"y\": [-0.5738907576148911, 1.0580334895207892]}, {\"line\": {\"dash\": \"dash\"}, \"mode\": \"lines\", \"name\": \"Support line\", \"type\": \"scatter\", \"x\": [-1.0, 1.0], \"y\": [-0.19237664532879895, 1.4395476018068813]}, {\"line\": {\"dash\": \"dash\"}, \"mode\": \"lines\", \"name\": \"Support line\", \"type\": \"scatter\", \"x\": [-1.0, 1.0], \"y\": [-0.9554048699009834, 0.6765193772346969]}],\n",
       "                        {\"template\": {\"data\": {\"bar\": [{\"error_x\": {\"color\": \"#2a3f5f\"}, \"error_y\": {\"color\": \"#2a3f5f\"}, \"marker\": {\"line\": {\"color\": \"#E5ECF6\", \"width\": 0.5}}, \"type\": \"bar\"}], \"barpolar\": [{\"marker\": {\"line\": {\"color\": \"#E5ECF6\", \"width\": 0.5}}, \"type\": \"barpolar\"}], \"carpet\": [{\"aaxis\": {\"endlinecolor\": \"#2a3f5f\", \"gridcolor\": \"white\", \"linecolor\": \"white\", \"minorgridcolor\": \"white\", \"startlinecolor\": \"#2a3f5f\"}, \"baxis\": {\"endlinecolor\": \"#2a3f5f\", \"gridcolor\": \"white\", \"linecolor\": \"white\", \"minorgridcolor\": \"white\", \"startlinecolor\": \"#2a3f5f\"}, \"type\": \"carpet\"}], \"choropleth\": [{\"colorbar\": {\"outlinewidth\": 0, \"ticks\": \"\"}, \"type\": \"choropleth\"}], \"contour\": [{\"colorbar\": {\"outlinewidth\": 0, \"ticks\": \"\"}, \"colorscale\": [[0.0, \"#0d0887\"], [0.1111111111111111, \"#46039f\"], [0.2222222222222222, \"#7201a8\"], [0.3333333333333333, \"#9c179e\"], [0.4444444444444444, \"#bd3786\"], [0.5555555555555556, \"#d8576b\"], [0.6666666666666666, \"#ed7953\"], [0.7777777777777778, \"#fb9f3a\"], [0.8888888888888888, \"#fdca26\"], [1.0, \"#f0f921\"]], \"type\": \"contour\"}], \"contourcarpet\": [{\"colorbar\": {\"outlinewidth\": 0, \"ticks\": \"\"}, \"type\": \"contourcarpet\"}], \"heatmap\": [{\"colorbar\": {\"outlinewidth\": 0, \"ticks\": \"\"}, \"colorscale\": [[0.0, \"#0d0887\"], [0.1111111111111111, \"#46039f\"], [0.2222222222222222, \"#7201a8\"], [0.3333333333333333, \"#9c179e\"], [0.4444444444444444, \"#bd3786\"], [0.5555555555555556, \"#d8576b\"], [0.6666666666666666, \"#ed7953\"], [0.7777777777777778, \"#fb9f3a\"], [0.8888888888888888, \"#fdca26\"], [1.0, \"#f0f921\"]], \"type\": \"heatmap\"}], \"heatmapgl\": [{\"colorbar\": {\"outlinewidth\": 0, \"ticks\": \"\"}, \"colorscale\": [[0.0, \"#0d0887\"], [0.1111111111111111, \"#46039f\"], [0.2222222222222222, \"#7201a8\"], [0.3333333333333333, \"#9c179e\"], [0.4444444444444444, \"#bd3786\"], [0.5555555555555556, \"#d8576b\"], [0.6666666666666666, \"#ed7953\"], [0.7777777777777778, \"#fb9f3a\"], [0.8888888888888888, \"#fdca26\"], [1.0, \"#f0f921\"]], \"type\": \"heatmapgl\"}], \"histogram\": [{\"marker\": {\"colorbar\": {\"outlinewidth\": 0, \"ticks\": \"\"}}, \"type\": \"histogram\"}], \"histogram2d\": [{\"colorbar\": {\"outlinewidth\": 0, \"ticks\": \"\"}, \"colorscale\": [[0.0, \"#0d0887\"], [0.1111111111111111, \"#46039f\"], [0.2222222222222222, \"#7201a8\"], [0.3333333333333333, \"#9c179e\"], [0.4444444444444444, \"#bd3786\"], [0.5555555555555556, \"#d8576b\"], [0.6666666666666666, \"#ed7953\"], [0.7777777777777778, \"#fb9f3a\"], [0.8888888888888888, \"#fdca26\"], [1.0, \"#f0f921\"]], \"type\": \"histogram2d\"}], \"histogram2dcontour\": [{\"colorbar\": {\"outlinewidth\": 0, \"ticks\": \"\"}, \"colorscale\": [[0.0, \"#0d0887\"], [0.1111111111111111, \"#46039f\"], [0.2222222222222222, \"#7201a8\"], [0.3333333333333333, \"#9c179e\"], [0.4444444444444444, \"#bd3786\"], [0.5555555555555556, \"#d8576b\"], [0.6666666666666666, \"#ed7953\"], [0.7777777777777778, \"#fb9f3a\"], [0.8888888888888888, \"#fdca26\"], [1.0, \"#f0f921\"]], \"type\": \"histogram2dcontour\"}], \"mesh3d\": [{\"colorbar\": {\"outlinewidth\": 0, \"ticks\": \"\"}, \"type\": \"mesh3d\"}], \"parcoords\": [{\"line\": {\"colorbar\": {\"outlinewidth\": 0, \"ticks\": \"\"}}, \"type\": \"parcoords\"}], \"pie\": [{\"automargin\": true, \"type\": \"pie\"}], \"scatter\": [{\"marker\": {\"colorbar\": {\"outlinewidth\": 0, \"ticks\": \"\"}}, \"type\": \"scatter\"}], \"scatter3d\": [{\"line\": {\"colorbar\": {\"outlinewidth\": 0, \"ticks\": \"\"}}, \"marker\": {\"colorbar\": {\"outlinewidth\": 0, \"ticks\": \"\"}}, \"type\": \"scatter3d\"}], \"scattercarpet\": [{\"marker\": {\"colorbar\": {\"outlinewidth\": 0, \"ticks\": \"\"}}, \"type\": \"scattercarpet\"}], \"scattergeo\": [{\"marker\": {\"colorbar\": {\"outlinewidth\": 0, \"ticks\": \"\"}}, \"type\": \"scattergeo\"}], \"scattergl\": [{\"marker\": {\"colorbar\": {\"outlinewidth\": 0, \"ticks\": \"\"}}, \"type\": \"scattergl\"}], \"scattermapbox\": [{\"marker\": {\"colorbar\": {\"outlinewidth\": 0, \"ticks\": \"\"}}, \"type\": \"scattermapbox\"}], \"scatterpolar\": [{\"marker\": {\"colorbar\": {\"outlinewidth\": 0, \"ticks\": \"\"}}, \"type\": \"scatterpolar\"}], \"scatterpolargl\": [{\"marker\": {\"colorbar\": {\"outlinewidth\": 0, \"ticks\": \"\"}}, \"type\": \"scatterpolargl\"}], \"scatterternary\": [{\"marker\": {\"colorbar\": {\"outlinewidth\": 0, \"ticks\": \"\"}}, \"type\": \"scatterternary\"}], \"surface\": [{\"colorbar\": {\"outlinewidth\": 0, \"ticks\": \"\"}, \"colorscale\": [[0.0, \"#0d0887\"], [0.1111111111111111, \"#46039f\"], [0.2222222222222222, \"#7201a8\"], [0.3333333333333333, \"#9c179e\"], [0.4444444444444444, \"#bd3786\"], [0.5555555555555556, \"#d8576b\"], [0.6666666666666666, \"#ed7953\"], [0.7777777777777778, \"#fb9f3a\"], [0.8888888888888888, \"#fdca26\"], [1.0, \"#f0f921\"]], \"type\": \"surface\"}], \"table\": [{\"cells\": {\"fill\": {\"color\": \"#EBF0F8\"}, \"line\": {\"color\": \"white\"}}, \"header\": {\"fill\": {\"color\": \"#C8D4E3\"}, \"line\": {\"color\": \"white\"}}, \"type\": \"table\"}]}, \"layout\": {\"annotationdefaults\": {\"arrowcolor\": \"#2a3f5f\", \"arrowhead\": 0, \"arrowwidth\": 1}, \"coloraxis\": {\"colorbar\": {\"outlinewidth\": 0, \"ticks\": \"\"}}, \"colorscale\": {\"diverging\": [[0, \"#8e0152\"], [0.1, \"#c51b7d\"], [0.2, \"#de77ae\"], [0.3, \"#f1b6da\"], [0.4, \"#fde0ef\"], [0.5, \"#f7f7f7\"], [0.6, \"#e6f5d0\"], [0.7, \"#b8e186\"], [0.8, \"#7fbc41\"], [0.9, \"#4d9221\"], [1, \"#276419\"]], \"sequential\": [[0.0, \"#0d0887\"], [0.1111111111111111, \"#46039f\"], [0.2222222222222222, \"#7201a8\"], [0.3333333333333333, \"#9c179e\"], [0.4444444444444444, \"#bd3786\"], [0.5555555555555556, \"#d8576b\"], [0.6666666666666666, \"#ed7953\"], [0.7777777777777778, \"#fb9f3a\"], [0.8888888888888888, \"#fdca26\"], [1.0, \"#f0f921\"]], \"sequentialminus\": [[0.0, \"#0d0887\"], [0.1111111111111111, \"#46039f\"], [0.2222222222222222, \"#7201a8\"], [0.3333333333333333, \"#9c179e\"], [0.4444444444444444, \"#bd3786\"], [0.5555555555555556, \"#d8576b\"], [0.6666666666666666, \"#ed7953\"], [0.7777777777777778, \"#fb9f3a\"], [0.8888888888888888, \"#fdca26\"], [1.0, \"#f0f921\"]]}, \"colorway\": [\"#636efa\", \"#EF553B\", \"#00cc96\", \"#ab63fa\", \"#FFA15A\", \"#19d3f3\", \"#FF6692\", \"#B6E880\", \"#FF97FF\", \"#FECB52\"], \"font\": {\"color\": \"#2a3f5f\"}, \"geo\": {\"bgcolor\": \"white\", \"lakecolor\": \"white\", \"landcolor\": \"#E5ECF6\", \"showlakes\": true, \"showland\": true, \"subunitcolor\": \"white\"}, \"hoverlabel\": {\"align\": \"left\"}, \"hovermode\": \"closest\", \"mapbox\": {\"style\": \"light\"}, \"paper_bgcolor\": \"white\", \"plot_bgcolor\": \"#E5ECF6\", \"polar\": {\"angularaxis\": {\"gridcolor\": \"white\", \"linecolor\": \"white\", \"ticks\": \"\"}, \"bgcolor\": \"#E5ECF6\", \"radialaxis\": {\"gridcolor\": \"white\", \"linecolor\": \"white\", \"ticks\": \"\"}}, \"scene\": {\"xaxis\": {\"backgroundcolor\": \"#E5ECF6\", \"gridcolor\": \"white\", \"gridwidth\": 2, \"linecolor\": \"white\", \"showbackground\": true, \"ticks\": \"\", \"zerolinecolor\": \"white\"}, \"yaxis\": {\"backgroundcolor\": \"#E5ECF6\", \"gridcolor\": \"white\", \"gridwidth\": 2, \"linecolor\": \"white\", \"showbackground\": true, \"ticks\": \"\", \"zerolinecolor\": \"white\"}, \"zaxis\": {\"backgroundcolor\": \"#E5ECF6\", \"gridcolor\": \"white\", \"gridwidth\": 2, \"linecolor\": \"white\", \"showbackground\": true, \"ticks\": \"\", \"zerolinecolor\": \"white\"}}, \"shapedefaults\": {\"line\": {\"color\": \"#2a3f5f\"}}, \"ternary\": {\"aaxis\": {\"gridcolor\": \"white\", \"linecolor\": \"white\", \"ticks\": \"\"}, \"baxis\": {\"gridcolor\": \"white\", \"linecolor\": \"white\", \"ticks\": \"\"}, \"bgcolor\": \"#E5ECF6\", \"caxis\": {\"gridcolor\": \"white\", \"linecolor\": \"white\", \"ticks\": \"\"}}, \"title\": {\"x\": 0.05}, \"xaxis\": {\"automargin\": true, \"gridcolor\": \"white\", \"linecolor\": \"white\", \"ticks\": \"\", \"title\": {\"standoff\": 15}, \"zerolinecolor\": \"white\", \"zerolinewidth\": 2}, \"yaxis\": {\"automargin\": true, \"gridcolor\": \"white\", \"linecolor\": \"white\", \"ticks\": \"\", \"title\": {\"standoff\": 15}, \"zerolinecolor\": \"white\", \"zerolinewidth\": 2}}}, \"title\": {\"text\": \"SVM\"}, \"width\": 600},\n",
       "                        {\"responsive\": true}\n",
       "                    ).then(function(){\n",
       "                            \n",
       "var gd = document.getElementById('0603338b-7292-44de-bef9-a605d0703384');\n",
       "var x = new MutationObserver(function (mutations, observer) {{\n",
       "        var display = window.getComputedStyle(gd).display;\n",
       "        if (!display || display === 'none') {{\n",
       "            console.log([gd, 'removed!']);\n",
       "            Plotly.purge(gd);\n",
       "            observer.disconnect();\n",
       "        }}\n",
       "}});\n",
       "\n",
       "// Listen for the removal of the full notebook cells\n",
       "var notebookContainer = gd.closest('#notebook-container');\n",
       "if (notebookContainer) {{\n",
       "    x.observe(notebookContainer, {childList: true});\n",
       "}}\n",
       "\n",
       "// Listen for the clearing of the current output cell\n",
       "var outputEl = gd.closest('.output');\n",
       "if (outputEl) {{\n",
       "    x.observe(outputEl, {childList: true});\n",
       "}}\n",
       "\n",
       "                        })\n",
       "                };\n",
       "                });\n",
       "            </script>\n",
       "        </div>"
      ]
     },
     "metadata": {},
     "output_type": "display_data"
    }
   ],
   "source": [
    "# we create 8 random uniform points in the unit square\n",
    "\n",
    "np.random.seed(2)\n",
    "X = 2*np.random.rand(8, 2) - 1\n",
    "\n",
    "y = np.zeros(X.shape[0])\n",
    "\n",
    "# initialize labels\n",
    "for i in range(0,X.shape[0]):\n",
    "    y[i] = labels_line(X[i,:])\n",
    "\n",
    "print('Shape of X: ', X.shape)\n",
    "print(X)\n",
    "print('Shape of y: ', y.shape)\n",
    "print(y)\n",
    "\n",
    "clf = svm.SVC(kernel='linear', C=1e2)\n",
    "clf.fit(X, y)\n",
    "\n",
    "fig = go.Figure()\n",
    "plot_data_decision_line(X,y,clf,fig,\"SVM\")\n",
    "fig.show()"
   ]
  },
  {
   "cell_type": "code",
   "execution_count": 37,
   "metadata": {},
   "outputs": [],
   "source": [
    "fig.write_html('../_includes/svm1.html',full_html=False)"
   ]
  },
  {
   "cell_type": "code",
   "execution_count": 38,
   "metadata": {
    "colab": {
     "base_uri": "https://localhost:8080/",
     "height": 542
    },
    "colab_type": "code",
    "id": "-BUQDuNI2VFk",
    "outputId": "4851d27c-c5f8-461d-91e8-26abadc55ccb"
   },
   "outputs": [
    {
     "data": {
      "application/vnd.plotly.v1+json": {
       "config": {
        "plotlyServerURL": "https://plot.ly"
       },
       "data": [
        {
         "marker": {
          "color": [
           1,
           1,
           1,
           -1,
           1,
           -1,
           1,
           -1,
           -1,
           -1,
           1,
           -1,
           -1,
           -1,
           -1,
           -1,
           -1,
           1,
           -1,
           -1,
           -1,
           -1,
           -1,
           1,
           -1,
           1,
           1,
           1,
           -1,
           1,
           -1,
           1
          ],
          "colorscale": [
           [
            0,
            "rgb(103,0,31)"
           ],
           [
            0.1,
            "rgb(178,24,43)"
           ],
           [
            0.2,
            "rgb(214,96,77)"
           ],
           [
            0.3,
            "rgb(244,165,130)"
           ],
           [
            0.4,
            "rgb(253,219,199)"
           ],
           [
            0.5,
            "rgb(247,247,247)"
           ],
           [
            0.6,
            "rgb(209,229,240)"
           ],
           [
            0.7,
            "rgb(146,197,222)"
           ],
           [
            0.8,
            "rgb(67,147,195)"
           ],
           [
            0.9,
            "rgb(33,102,172)"
           ],
           [
            1,
            "rgb(5,48,97)"
           ]
          ],
          "size": 10
         },
         "mode": "markers",
         "showlegend": false,
         "type": "scatter",
         "x": [
          0.9725536577231977,
          0.019491049943163086,
          -0.3261625445080729,
          -0.44704571369240087,
          0.7243178709197058,
          -0.7182255102951693,
          0.47264983630721646,
          -0.31781396697724795,
          -0.565798722491812,
          -0.7516424445485406,
          0.9064277463414698,
          0.1388261937606614,
          0.006734121920556335,
          -0.9316170039712195,
          -0.6882972744358813,
          -0.6605951231951612,
          -0.25321248465679247,
          0.7166331758358033,
          0.16692339546489388,
          -0.6444147596206389,
          -0.11525483630306499,
          0.527841432578291,
          -0.8588531457788544,
          0.27378846393161993,
          -0.6161425732957695,
          0.02684041567968065,
          0.19804003738063058,
          -0.3982750111338085,
          0.1286401175491414,
          0.6060552843619602,
          -0.07723144822941297,
          0.499331276215482
         ],
         "y": [
          0.7467838916413092,
          -0.4563285714358485,
          -0.5660914699661515,
          -0.3133688144410849,
          -0.6866006599810228,
          0.5141605612813767,
          -0.2886738167284366,
          0.3336061011066529,
          0.12285396486587463,
          -0.36052703109294426,
          -0.7252864184044392,
          0.951330965846412,
          0.3353284122962119,
          -0.08776126737914058,
          -0.047902067002260074,
          0.792516674480342,
          -0.24061413905049656,
          0.29212210976951436,
          0.3367000536776703,
          0.6984960336357258,
          0.6629354195428565,
          0.8393819531399234,
          -0.6876691671210882,
          0.11139137486249662,
          -0.14868803469344027,
          -0.46124482853952586,
          -0.5596521097365512,
          -0.9032110318751712,
          0.8720644097439192,
          0.3946102986918616,
          0.32486922204759705,
          0.0629097846715081
         ]
        },
        {
         "colorscale": [
          [
           0,
           "rgb(103,0,31)"
          ],
          [
           0.1,
           "rgb(178,24,43)"
          ],
          [
           0.2,
           "rgb(214,96,77)"
          ],
          [
           0.3,
           "rgb(244,165,130)"
          ],
          [
           0.4,
           "rgb(253,219,199)"
          ],
          [
           0.5,
           "rgb(247,247,247)"
          ],
          [
           0.6,
           "rgb(209,229,240)"
          ],
          [
           0.7,
           "rgb(146,197,222)"
          ],
          [
           0.8,
           "rgb(67,147,195)"
          ],
          [
           0.9,
           "rgb(33,102,172)"
          ],
          [
           1,
           "rgb(5,48,97)"
          ]
         ],
         "type": "contour",
         "x": [
          -1.4,
          -1.2526315789473683,
          -1.1052631578947367,
          -0.9578947368421052,
          -0.8105263157894737,
          -0.6631578947368421,
          -0.5157894736842106,
          -0.368421052631579,
          -0.22105263157894742,
          -0.07368421052631585,
          0.0736842105263157,
          0.22105263157894742,
          0.3684210526315788,
          0.5157894736842102,
          0.663157894736842,
          0.8105263157894737,
          0.957894736842105,
          1.1052631578947365,
          1.252631578947368,
          1.4
         ],
         "y": [
          -1.1,
          -0.9842105263157895,
          -0.868421052631579,
          -0.7526315789473685,
          -0.636842105263158,
          -0.5210526315789474,
          -0.40526315789473694,
          -0.2894736842105264,
          -0.17368421052631586,
          -0.057894736842105325,
          0.0578947368421052,
          0.17368421052631586,
          0.28947368421052627,
          0.40526315789473666,
          0.5210526315789473,
          0.636842105263158,
          0.7526315789473684,
          0.8684210526315788,
          0.9842105263157894,
          1.1
         ],
         "z": [
          [
           -1.1494157322236598,
           -0.8287103073237246,
           -0.50800488242379,
           -0.18729945752385446,
           0.13340596737608107,
           0.4541113922760164,
           0.774816817175951,
           1.0955222420758866,
           1.4162276669758218,
           1.736933091875757,
           2.0576385167756923,
           2.378343941675628,
           2.699049366575563,
           3.0197547914754974,
           3.340460216375433,
           3.661165641275368,
           3.981871066175304,
           4.302576491075239,
           4.623281915975174,
           4.943987340875109
          ],
          [
           -1.346953981741756,
           -1.026248556841821,
           -0.7055431319418857,
           -0.38483770704195075,
           -0.06413228214201501,
           0.25657314275792065,
           0.5772785676578555,
           0.8979839925577908,
           1.218689417457726,
           1.539394842357661,
           1.8601002672575968,
           2.180805692157532,
           2.501511117057467,
           2.8222165419574017,
           3.1429219668573376,
           3.4636273917572726,
           3.784332816657208,
           4.1050382415571445,
           4.4257436664570795,
           4.7464490913570145
          ],
          [
           -1.5444922312598512,
           -1.2237868063599153,
           -0.9030813814599814,
           -0.5823759565600456,
           -0.2616705316601108,
           0.059034893239825095,
           0.3797403181397596,
           0.7004457430396954,
           1.0211511679396306,
           1.3418565928395658,
           1.6625620177395013,
           1.9832674426394366,
           2.3039728675393714,
           2.6246782924393064,
           2.9453837173392423,
           3.2660891422391773,
           3.5867945671391124,
           3.9074999920390474,
           4.228205416938984,
           4.548910841838919
          ],
          [
           -1.7420304807779472,
           -1.4213250558780113,
           -1.1006196309780767,
           -0.7799142060781412,
           -0.45920878117820585,
           -0.13850335627827032,
           0.18220206862166455,
           0.5029074935215999,
           0.8236129184215351,
           1.1443183433214703,
           1.4650237682214058,
           1.7857291931213417,
           2.1064346180212756,
           2.427140042921211,
           2.747845467821146,
           3.068550892721082,
           3.389256317621017,
           3.7099617425209517,
           4.030667167420888,
           4.351372592320823
          ],
          [
           -1.9395687302960423,
           -1.618863305396107,
           -1.298157880496172,
           -0.9774524555962364,
           -0.6567470306963016,
           -0.3360416057963661,
           -0.015336180896431108,
           0.3053692440035043,
           0.6260746689034397,
           0.9467800938033746,
           1.26748551870331,
           1.5881909436032458,
           1.9088963685031806,
           2.2296017934031154,
           2.550307218303051,
           2.8710126432029868,
           3.191718068102922,
           3.512423493002856,
           3.833128917902792,
           4.153834342802728
          ],
          [
           -2.1371069798141384,
           -1.8164015549142027,
           -1.4956961300142675,
           -1.1749907051143325,
           -0.8542852802143972,
           -0.533579855314462,
           -0.21287443041452692,
           0.10783099448540849,
           0.42853641938534387,
           0.7492418442852791,
           1.0699472691852145,
           1.3906526940851498,
           1.711358118985085,
           2.0320635438850196,
           2.352768968784955,
           2.6734743936848906,
           2.9941798185848256,
           3.314885243484761,
           3.6355906683846957,
           3.9562960932846316
          ],
          [
           -2.3346452293322337,
           -2.0139398044322983,
           -1.6932343795323637,
           -1.3725289546324275,
           -1.0518235297324927,
           -0.7311181048325573,
           -0.4104126799326223,
           -0.08970725503268709,
           0.2309981698672483,
           0.5517035947671836,
           0.8724090196671188,
           1.1931144445670547,
           1.5138198694669895,
           1.8345252943669244,
           2.15523071926686,
           2.475936144166795,
           2.7966415690667303,
           3.117346993966665,
           3.4380524188666004,
           3.7587578437665363
          ],
          [
           -2.53218347885033,
           -2.2114780539503944,
           -1.8907726290504585,
           -1.5700672041505233,
           -1.249361779250588,
           -0.9286563543506531,
           -0.6079509294507177,
           -0.28724550455078257,
           0.03345992034915274,
           0.35416534524908805,
           0.6748707701490233,
           0.9955761950489589,
           1.316281619948894,
           1.6369870448488288,
           1.9576924697487645,
           2.2783978946487,
           2.599103319548635,
           2.9198087444485696,
           3.2405141693485056,
           3.5612195942484415
          ],
          [
           -2.7297217283684247,
           -2.4090163034684897,
           -2.0883108785685547,
           -1.7676054536686188,
           -1.446900028768684,
           -1.1261946038687485,
           -0.8054891789688136,
           -0.48478375406887797,
           -0.16407832916894283,
           0.15662709573099248,
           0.4773325206309277,
           0.7980379455308634,
           1.1187433704307983,
           1.4394487953307333,
           1.7601542202306688,
           2.0808596451306043,
           2.4015650700305393,
           2.7222704949304735,
           3.04297591983041,
           3.3636813447303457
          ],
          [
           -2.9272599778865205,
           -2.6065545529865846,
           -2.28584912808665,
           -1.965143703186715,
           -1.6444382782867792,
           -1.3237328533868442,
           -1.0030274284869092,
           -0.6823220035869736,
           -0.3616165786870384,
           -0.0409111537871031,
           0.27979427111283217,
           0.6004996960127678,
           0.9212051209127026,
           1.2419105458126374,
           1.562615970712573,
           1.8833213956125092,
           2.2040268205124436,
           2.5247322454123795,
           2.8454376703123145,
           3.1661430952122496
          ],
          [
           -3.1247982274046158,
           -2.8040928025046807,
           -2.483387377604746,
           -2.1626819527048102,
           -1.8419765278048752,
           -1.5212711029049397,
           -1.2005656780050047,
           -0.8798602531050693,
           -0.5591548282051338,
           -0.23844940330519865,
           0.08225602159473658,
           0.4029614464946722,
           0.723666871394607,
           1.044372296294542,
           1.3650777211944776,
           1.6857831460944133,
           2.006488570994348,
           2.3271939958942833,
           2.647899420794219,
           2.9686048456941547
          ],
          [
           -3.3223364769227124,
           -3.001631052022776,
           -2.6809256271228414,
           -2.3602202022229064,
           -2.039514777322971,
           -1.7188093524230355,
           -1.3981039275231004,
           -1.077398502623165,
           -0.7566930777232298,
           -0.43598765282329444,
           -0.11528222792335917,
           0.2054231969765764,
           0.5261286218765114,
           0.846834046776446,
           1.1675394716763823,
           1.4882448965763178,
           1.8089503214762523,
           2.129655746376187,
           2.4503611712761226,
           2.771066596176058
          ],
          [
           -3.5198747264408077,
           -3.199169301540872,
           -2.8784638766409367,
           -2.5577584517410026,
           -2.2370530268410667,
           -1.9163476019411305,
           -1.595642177041196,
           -1.2749367521412605,
           -0.9542313272413252,
           -0.63352590234139,
           -0.3128204774414546,
           0.007884947458481038,
           0.32859037235841576,
           0.6492957972583508,
           0.9700012221582865,
           1.2907066470582222,
           1.6114120719581575,
           1.9321174968580923,
           2.252822921758028,
           2.5735283466579633
          ],
          [
           -3.717412975958903,
           -3.396707551058967,
           -3.076002126159032,
           -2.755296701259097,
           -2.4345912763591615,
           -2.113885851459226,
           -1.793180426559291,
           -1.472475001659356,
           -1.1517695767594203,
           -0.8310641518594851,
           -0.51035872695955,
           -0.1896533020596144,
           0.13105212284032053,
           0.4517575477402558,
           0.7724629726401914,
           1.093168397540127,
           1.4138738224400618,
           1.734579247339997,
           2.0552846722399325,
           2.375990097139867
          ],
          [
           -3.914951225476999,
           -3.5942458005770628,
           -3.2735403756771277,
           -2.9528349507771927,
           -2.6321295258772572,
           -2.311424100977322,
           -1.9907186760773865,
           -1.6700132511774513,
           -1.349307826277516,
           -1.0286024013775807,
           -0.7078969764776456,
           -0.38719155157771007,
           -0.0664861266777754,
           0.2542192982221599,
           0.5749247231220955,
           0.895630148022031,
           1.216335572921966,
           1.5370409978219008,
           1.8577464227218365,
           2.1784518476217714
          ],
          [
           -4.112489474995094,
           -3.7917840500951585,
           -3.471078625195224,
           -3.1503732002952884,
           -2.8296677753953534,
           -2.508962350495418,
           -2.1882569255954825,
           -1.8675515006955474,
           -1.546846075795612,
           -1.2261406508956767,
           -0.9054352259957416,
           -0.5847298010958061,
           -0.26402437619587127,
           0.05668104870406415,
           0.3773864736039997,
           0.6980918985039352,
           1.01879732340387,
           1.3395027483038051,
           1.6602081732037408,
           1.980913598103676
          ],
          [
           -4.310027724513189,
           -3.9893222996132534,
           -3.668616874713319,
           -3.3479114498133846,
           -3.0272060249134487,
           -2.7065006000135132,
           -2.3857951751135777,
           -2.065089750213643,
           -1.7443843253137077,
           -1.4236789004137722,
           -1.1029734755138367,
           -0.7822680506139013,
           -0.4615626257139666,
           -0.14085720081403175,
           0.17984822408590417,
           0.5005536489858398,
           0.8212590738857747,
           1.1419644987857098,
           1.462669923685645,
           1.7833753485855803
          ],
          [
           -4.507565974031285,
           -4.186860549131349,
           -3.866155124231414,
           -3.545449699331479,
           -3.2247442744315444,
           -2.904038849531608,
           -2.5833334246316735,
           -2.262627999731738,
           -1.9419225748318025,
           -1.621217149931867,
           -1.300511725031932,
           -0.9798063001319967,
           -0.6591008752320617,
           -0.3383954503321265,
           -0.01769002543219117,
           0.3030153994677448,
           0.6237208243676798,
           0.9444262492676145,
           1.26513167416755,
           1.5858370990674857
          ],
          [
           -4.70510422354938,
           -4.384398798649444,
           -4.06369337374951,
           -3.7429879488495748,
           -3.4222825239496397,
           -3.1015770990497042,
           -2.7808716741497697,
           -2.460166249249834,
           -2.1394608243498983,
           -1.8187553994499632,
           -1.4980499745500275,
           -1.1773445496500923,
           -0.8566391247501576,
           -0.5359336998502224,
           -0.21522827495028735,
           0.10547714994964862,
           0.4261825748495838,
           0.7468879997495185,
           1.0675934246494538,
           1.38829884954939
          ],
          [
           -4.902642473067475,
           -4.58193704816754,
           -4.261231623267606,
           -3.940526198367671,
           -3.6198207734677346,
           -3.2991153485678004,
           -2.978409923667865,
           -2.6577044987679295,
           -2.3369990738679944,
           -2.016293648968059,
           -1.6955882240681233,
           -1.374882799168188,
           -1.0541773742682528,
           -0.7334719493683182,
           -0.4127665244683828,
           -0.09206109956844748,
           0.22864432533148804,
           0.549349750231423,
           0.8700551751313582,
           1.1907606000312936
          ]
         ]
        }
       ],
       "layout": {
        "template": {
         "data": {
          "bar": [
           {
            "error_x": {
             "color": "#2a3f5f"
            },
            "error_y": {
             "color": "#2a3f5f"
            },
            "marker": {
             "line": {
              "color": "#E5ECF6",
              "width": 0.5
             }
            },
            "type": "bar"
           }
          ],
          "barpolar": [
           {
            "marker": {
             "line": {
              "color": "#E5ECF6",
              "width": 0.5
             }
            },
            "type": "barpolar"
           }
          ],
          "carpet": [
           {
            "aaxis": {
             "endlinecolor": "#2a3f5f",
             "gridcolor": "white",
             "linecolor": "white",
             "minorgridcolor": "white",
             "startlinecolor": "#2a3f5f"
            },
            "baxis": {
             "endlinecolor": "#2a3f5f",
             "gridcolor": "white",
             "linecolor": "white",
             "minorgridcolor": "white",
             "startlinecolor": "#2a3f5f"
            },
            "type": "carpet"
           }
          ],
          "choropleth": [
           {
            "colorbar": {
             "outlinewidth": 0,
             "ticks": ""
            },
            "type": "choropleth"
           }
          ],
          "contour": [
           {
            "colorbar": {
             "outlinewidth": 0,
             "ticks": ""
            },
            "colorscale": [
             [
              0,
              "#0d0887"
             ],
             [
              0.1111111111111111,
              "#46039f"
             ],
             [
              0.2222222222222222,
              "#7201a8"
             ],
             [
              0.3333333333333333,
              "#9c179e"
             ],
             [
              0.4444444444444444,
              "#bd3786"
             ],
             [
              0.5555555555555556,
              "#d8576b"
             ],
             [
              0.6666666666666666,
              "#ed7953"
             ],
             [
              0.7777777777777778,
              "#fb9f3a"
             ],
             [
              0.8888888888888888,
              "#fdca26"
             ],
             [
              1,
              "#f0f921"
             ]
            ],
            "type": "contour"
           }
          ],
          "contourcarpet": [
           {
            "colorbar": {
             "outlinewidth": 0,
             "ticks": ""
            },
            "type": "contourcarpet"
           }
          ],
          "heatmap": [
           {
            "colorbar": {
             "outlinewidth": 0,
             "ticks": ""
            },
            "colorscale": [
             [
              0,
              "#0d0887"
             ],
             [
              0.1111111111111111,
              "#46039f"
             ],
             [
              0.2222222222222222,
              "#7201a8"
             ],
             [
              0.3333333333333333,
              "#9c179e"
             ],
             [
              0.4444444444444444,
              "#bd3786"
             ],
             [
              0.5555555555555556,
              "#d8576b"
             ],
             [
              0.6666666666666666,
              "#ed7953"
             ],
             [
              0.7777777777777778,
              "#fb9f3a"
             ],
             [
              0.8888888888888888,
              "#fdca26"
             ],
             [
              1,
              "#f0f921"
             ]
            ],
            "type": "heatmap"
           }
          ],
          "heatmapgl": [
           {
            "colorbar": {
             "outlinewidth": 0,
             "ticks": ""
            },
            "colorscale": [
             [
              0,
              "#0d0887"
             ],
             [
              0.1111111111111111,
              "#46039f"
             ],
             [
              0.2222222222222222,
              "#7201a8"
             ],
             [
              0.3333333333333333,
              "#9c179e"
             ],
             [
              0.4444444444444444,
              "#bd3786"
             ],
             [
              0.5555555555555556,
              "#d8576b"
             ],
             [
              0.6666666666666666,
              "#ed7953"
             ],
             [
              0.7777777777777778,
              "#fb9f3a"
             ],
             [
              0.8888888888888888,
              "#fdca26"
             ],
             [
              1,
              "#f0f921"
             ]
            ],
            "type": "heatmapgl"
           }
          ],
          "histogram": [
           {
            "marker": {
             "colorbar": {
              "outlinewidth": 0,
              "ticks": ""
             }
            },
            "type": "histogram"
           }
          ],
          "histogram2d": [
           {
            "colorbar": {
             "outlinewidth": 0,
             "ticks": ""
            },
            "colorscale": [
             [
              0,
              "#0d0887"
             ],
             [
              0.1111111111111111,
              "#46039f"
             ],
             [
              0.2222222222222222,
              "#7201a8"
             ],
             [
              0.3333333333333333,
              "#9c179e"
             ],
             [
              0.4444444444444444,
              "#bd3786"
             ],
             [
              0.5555555555555556,
              "#d8576b"
             ],
             [
              0.6666666666666666,
              "#ed7953"
             ],
             [
              0.7777777777777778,
              "#fb9f3a"
             ],
             [
              0.8888888888888888,
              "#fdca26"
             ],
             [
              1,
              "#f0f921"
             ]
            ],
            "type": "histogram2d"
           }
          ],
          "histogram2dcontour": [
           {
            "colorbar": {
             "outlinewidth": 0,
             "ticks": ""
            },
            "colorscale": [
             [
              0,
              "#0d0887"
             ],
             [
              0.1111111111111111,
              "#46039f"
             ],
             [
              0.2222222222222222,
              "#7201a8"
             ],
             [
              0.3333333333333333,
              "#9c179e"
             ],
             [
              0.4444444444444444,
              "#bd3786"
             ],
             [
              0.5555555555555556,
              "#d8576b"
             ],
             [
              0.6666666666666666,
              "#ed7953"
             ],
             [
              0.7777777777777778,
              "#fb9f3a"
             ],
             [
              0.8888888888888888,
              "#fdca26"
             ],
             [
              1,
              "#f0f921"
             ]
            ],
            "type": "histogram2dcontour"
           }
          ],
          "mesh3d": [
           {
            "colorbar": {
             "outlinewidth": 0,
             "ticks": ""
            },
            "type": "mesh3d"
           }
          ],
          "parcoords": [
           {
            "line": {
             "colorbar": {
              "outlinewidth": 0,
              "ticks": ""
             }
            },
            "type": "parcoords"
           }
          ],
          "pie": [
           {
            "automargin": true,
            "type": "pie"
           }
          ],
          "scatter": [
           {
            "marker": {
             "colorbar": {
              "outlinewidth": 0,
              "ticks": ""
             }
            },
            "type": "scatter"
           }
          ],
          "scatter3d": [
           {
            "line": {
             "colorbar": {
              "outlinewidth": 0,
              "ticks": ""
             }
            },
            "marker": {
             "colorbar": {
              "outlinewidth": 0,
              "ticks": ""
             }
            },
            "type": "scatter3d"
           }
          ],
          "scattercarpet": [
           {
            "marker": {
             "colorbar": {
              "outlinewidth": 0,
              "ticks": ""
             }
            },
            "type": "scattercarpet"
           }
          ],
          "scattergeo": [
           {
            "marker": {
             "colorbar": {
              "outlinewidth": 0,
              "ticks": ""
             }
            },
            "type": "scattergeo"
           }
          ],
          "scattergl": [
           {
            "marker": {
             "colorbar": {
              "outlinewidth": 0,
              "ticks": ""
             }
            },
            "type": "scattergl"
           }
          ],
          "scattermapbox": [
           {
            "marker": {
             "colorbar": {
              "outlinewidth": 0,
              "ticks": ""
             }
            },
            "type": "scattermapbox"
           }
          ],
          "scatterpolar": [
           {
            "marker": {
             "colorbar": {
              "outlinewidth": 0,
              "ticks": ""
             }
            },
            "type": "scatterpolar"
           }
          ],
          "scatterpolargl": [
           {
            "marker": {
             "colorbar": {
              "outlinewidth": 0,
              "ticks": ""
             }
            },
            "type": "scatterpolargl"
           }
          ],
          "scatterternary": [
           {
            "marker": {
             "colorbar": {
              "outlinewidth": 0,
              "ticks": ""
             }
            },
            "type": "scatterternary"
           }
          ],
          "surface": [
           {
            "colorbar": {
             "outlinewidth": 0,
             "ticks": ""
            },
            "colorscale": [
             [
              0,
              "#0d0887"
             ],
             [
              0.1111111111111111,
              "#46039f"
             ],
             [
              0.2222222222222222,
              "#7201a8"
             ],
             [
              0.3333333333333333,
              "#9c179e"
             ],
             [
              0.4444444444444444,
              "#bd3786"
             ],
             [
              0.5555555555555556,
              "#d8576b"
             ],
             [
              0.6666666666666666,
              "#ed7953"
             ],
             [
              0.7777777777777778,
              "#fb9f3a"
             ],
             [
              0.8888888888888888,
              "#fdca26"
             ],
             [
              1,
              "#f0f921"
             ]
            ],
            "type": "surface"
           }
          ],
          "table": [
           {
            "cells": {
             "fill": {
              "color": "#EBF0F8"
             },
             "line": {
              "color": "white"
             }
            },
            "header": {
             "fill": {
              "color": "#C8D4E3"
             },
             "line": {
              "color": "white"
             }
            },
            "type": "table"
           }
          ]
         },
         "layout": {
          "annotationdefaults": {
           "arrowcolor": "#2a3f5f",
           "arrowhead": 0,
           "arrowwidth": 1
          },
          "coloraxis": {
           "colorbar": {
            "outlinewidth": 0,
            "ticks": ""
           }
          },
          "colorscale": {
           "diverging": [
            [
             0,
             "#8e0152"
            ],
            [
             0.1,
             "#c51b7d"
            ],
            [
             0.2,
             "#de77ae"
            ],
            [
             0.3,
             "#f1b6da"
            ],
            [
             0.4,
             "#fde0ef"
            ],
            [
             0.5,
             "#f7f7f7"
            ],
            [
             0.6,
             "#e6f5d0"
            ],
            [
             0.7,
             "#b8e186"
            ],
            [
             0.8,
             "#7fbc41"
            ],
            [
             0.9,
             "#4d9221"
            ],
            [
             1,
             "#276419"
            ]
           ],
           "sequential": [
            [
             0,
             "#0d0887"
            ],
            [
             0.1111111111111111,
             "#46039f"
            ],
            [
             0.2222222222222222,
             "#7201a8"
            ],
            [
             0.3333333333333333,
             "#9c179e"
            ],
            [
             0.4444444444444444,
             "#bd3786"
            ],
            [
             0.5555555555555556,
             "#d8576b"
            ],
            [
             0.6666666666666666,
             "#ed7953"
            ],
            [
             0.7777777777777778,
             "#fb9f3a"
            ],
            [
             0.8888888888888888,
             "#fdca26"
            ],
            [
             1,
             "#f0f921"
            ]
           ],
           "sequentialminus": [
            [
             0,
             "#0d0887"
            ],
            [
             0.1111111111111111,
             "#46039f"
            ],
            [
             0.2222222222222222,
             "#7201a8"
            ],
            [
             0.3333333333333333,
             "#9c179e"
            ],
            [
             0.4444444444444444,
             "#bd3786"
            ],
            [
             0.5555555555555556,
             "#d8576b"
            ],
            [
             0.6666666666666666,
             "#ed7953"
            ],
            [
             0.7777777777777778,
             "#fb9f3a"
            ],
            [
             0.8888888888888888,
             "#fdca26"
            ],
            [
             1,
             "#f0f921"
            ]
           ]
          },
          "colorway": [
           "#636efa",
           "#EF553B",
           "#00cc96",
           "#ab63fa",
           "#FFA15A",
           "#19d3f3",
           "#FF6692",
           "#B6E880",
           "#FF97FF",
           "#FECB52"
          ],
          "font": {
           "color": "#2a3f5f"
          },
          "geo": {
           "bgcolor": "white",
           "lakecolor": "white",
           "landcolor": "#E5ECF6",
           "showlakes": true,
           "showland": true,
           "subunitcolor": "white"
          },
          "hoverlabel": {
           "align": "left"
          },
          "hovermode": "closest",
          "mapbox": {
           "style": "light"
          },
          "paper_bgcolor": "white",
          "plot_bgcolor": "#E5ECF6",
          "polar": {
           "angularaxis": {
            "gridcolor": "white",
            "linecolor": "white",
            "ticks": ""
           },
           "bgcolor": "#E5ECF6",
           "radialaxis": {
            "gridcolor": "white",
            "linecolor": "white",
            "ticks": ""
           }
          },
          "scene": {
           "xaxis": {
            "backgroundcolor": "#E5ECF6",
            "gridcolor": "white",
            "gridwidth": 2,
            "linecolor": "white",
            "showbackground": true,
            "ticks": "",
            "zerolinecolor": "white"
           },
           "yaxis": {
            "backgroundcolor": "#E5ECF6",
            "gridcolor": "white",
            "gridwidth": 2,
            "linecolor": "white",
            "showbackground": true,
            "ticks": "",
            "zerolinecolor": "white"
           },
           "zaxis": {
            "backgroundcolor": "#E5ECF6",
            "gridcolor": "white",
            "gridwidth": 2,
            "linecolor": "white",
            "showbackground": true,
            "ticks": "",
            "zerolinecolor": "white"
           }
          },
          "shapedefaults": {
           "line": {
            "color": "#2a3f5f"
           }
          },
          "ternary": {
           "aaxis": {
            "gridcolor": "white",
            "linecolor": "white",
            "ticks": ""
           },
           "baxis": {
            "gridcolor": "white",
            "linecolor": "white",
            "ticks": ""
           },
           "bgcolor": "#E5ECF6",
           "caxis": {
            "gridcolor": "white",
            "linecolor": "white",
            "ticks": ""
           }
          },
          "title": {
           "x": 0.05
          },
          "xaxis": {
           "automargin": true,
           "gridcolor": "white",
           "linecolor": "white",
           "ticks": "",
           "title": {
            "standoff": 15
           },
           "zerolinecolor": "white",
           "zerolinewidth": 2
          },
          "yaxis": {
           "automargin": true,
           "gridcolor": "white",
           "linecolor": "white",
           "ticks": "",
           "title": {
            "standoff": 15
           },
           "zerolinecolor": "white",
           "zerolinewidth": 2
          }
         }
        },
        "title": {
         "text": "Decision function"
        },
        "width": 600
       }
      },
      "text/html": [
       "<div>\n",
       "        \n",
       "        \n",
       "            <div id=\"d9239d99-b31b-4446-a84f-77e7f0b27a13\" class=\"plotly-graph-div\" style=\"height:525px; width:600px;\"></div>\n",
       "            <script type=\"text/javascript\">\n",
       "                require([\"plotly\"], function(Plotly) {\n",
       "                    window.PLOTLYENV=window.PLOTLYENV || {};\n",
       "                    \n",
       "                if (document.getElementById(\"d9239d99-b31b-4446-a84f-77e7f0b27a13\")) {\n",
       "                    Plotly.newPlot(\n",
       "                        'd9239d99-b31b-4446-a84f-77e7f0b27a13',\n",
       "                        [{\"marker\": {\"color\": [1.0, 1.0, 1.0, -1.0, 1.0, -1.0, 1.0, -1.0, -1.0, -1.0, 1.0, -1.0, -1.0, -1.0, -1.0, -1.0, -1.0, 1.0, -1.0, -1.0, -1.0, -1.0, -1.0, 1.0, -1.0, 1.0, 1.0, 1.0, -1.0, 1.0, -1.0, 1.0], \"colorscale\": [[0.0, \"rgb(103,0,31)\"], [0.1, \"rgb(178,24,43)\"], [0.2, \"rgb(214,96,77)\"], [0.3, \"rgb(244,165,130)\"], [0.4, \"rgb(253,219,199)\"], [0.5, \"rgb(247,247,247)\"], [0.6, \"rgb(209,229,240)\"], [0.7, \"rgb(146,197,222)\"], [0.8, \"rgb(67,147,195)\"], [0.9, \"rgb(33,102,172)\"], [1.0, \"rgb(5,48,97)\"]], \"size\": 10}, \"mode\": \"markers\", \"showlegend\": false, \"type\": \"scatter\", \"x\": [0.9725536577231977, 0.019491049943163086, -0.3261625445080729, -0.44704571369240087, 0.7243178709197058, -0.7182255102951693, 0.47264983630721646, -0.31781396697724795, -0.565798722491812, -0.7516424445485406, 0.9064277463414698, 0.1388261937606614, 0.006734121920556335, -0.9316170039712195, -0.6882972744358813, -0.6605951231951612, -0.25321248465679247, 0.7166331758358033, 0.16692339546489388, -0.6444147596206389, -0.11525483630306499, 0.527841432578291, -0.8588531457788544, 0.27378846393161993, -0.6161425732957695, 0.02684041567968065, 0.19804003738063058, -0.3982750111338085, 0.1286401175491414, 0.6060552843619602, -0.07723144822941297, 0.499331276215482], \"y\": [0.7467838916413092, -0.4563285714358485, -0.5660914699661515, -0.3133688144410849, -0.6866006599810228, 0.5141605612813767, -0.2886738167284366, 0.3336061011066529, 0.12285396486587463, -0.36052703109294426, -0.7252864184044392, 0.951330965846412, 0.3353284122962119, -0.08776126737914058, -0.047902067002260074, 0.792516674480342, -0.24061413905049656, 0.29212210976951436, 0.3367000536776703, 0.6984960336357258, 0.6629354195428565, 0.8393819531399234, -0.6876691671210882, 0.11139137486249662, -0.14868803469344027, -0.46124482853952586, -0.5596521097365512, -0.9032110318751712, 0.8720644097439192, 0.3946102986918616, 0.32486922204759705, 0.0629097846715081]}, {\"colorscale\": [[0.0, \"rgb(103,0,31)\"], [0.1, \"rgb(178,24,43)\"], [0.2, \"rgb(214,96,77)\"], [0.3, \"rgb(244,165,130)\"], [0.4, \"rgb(253,219,199)\"], [0.5, \"rgb(247,247,247)\"], [0.6, \"rgb(209,229,240)\"], [0.7, \"rgb(146,197,222)\"], [0.8, \"rgb(67,147,195)\"], [0.9, \"rgb(33,102,172)\"], [1.0, \"rgb(5,48,97)\"]], \"type\": \"contour\", \"x\": [-1.4, -1.2526315789473683, -1.1052631578947367, -0.9578947368421052, -0.8105263157894737, -0.6631578947368421, -0.5157894736842106, -0.368421052631579, -0.22105263157894742, -0.07368421052631585, 0.0736842105263157, 0.22105263157894742, 0.3684210526315788, 0.5157894736842102, 0.663157894736842, 0.8105263157894737, 0.957894736842105, 1.1052631578947365, 1.252631578947368, 1.4], \"y\": [-1.1, -0.9842105263157895, -0.868421052631579, -0.7526315789473685, -0.636842105263158, -0.5210526315789474, -0.40526315789473694, -0.2894736842105264, -0.17368421052631586, -0.057894736842105325, 0.0578947368421052, 0.17368421052631586, 0.28947368421052627, 0.40526315789473666, 0.5210526315789473, 0.636842105263158, 0.7526315789473684, 0.8684210526315788, 0.9842105263157894, 1.1], \"z\": [[-1.1494157322236598, -0.8287103073237246, -0.50800488242379, -0.18729945752385446, 0.13340596737608107, 0.4541113922760164, 0.774816817175951, 1.0955222420758866, 1.4162276669758218, 1.736933091875757, 2.0576385167756923, 2.378343941675628, 2.699049366575563, 3.0197547914754974, 3.340460216375433, 3.661165641275368, 3.981871066175304, 4.302576491075239, 4.623281915975174, 4.943987340875109], [-1.346953981741756, -1.026248556841821, -0.7055431319418857, -0.38483770704195075, -0.06413228214201501, 0.25657314275792065, 0.5772785676578555, 0.8979839925577908, 1.218689417457726, 1.539394842357661, 1.8601002672575968, 2.180805692157532, 2.501511117057467, 2.8222165419574017, 3.1429219668573376, 3.4636273917572726, 3.784332816657208, 4.1050382415571445, 4.4257436664570795, 4.7464490913570145], [-1.5444922312598512, -1.2237868063599153, -0.9030813814599814, -0.5823759565600456, -0.2616705316601108, 0.059034893239825095, 0.3797403181397596, 0.7004457430396954, 1.0211511679396306, 1.3418565928395658, 1.6625620177395013, 1.9832674426394366, 2.3039728675393714, 2.6246782924393064, 2.9453837173392423, 3.2660891422391773, 3.5867945671391124, 3.9074999920390474, 4.228205416938984, 4.548910841838919], [-1.7420304807779472, -1.4213250558780113, -1.1006196309780767, -0.7799142060781412, -0.45920878117820585, -0.13850335627827032, 0.18220206862166455, 0.5029074935215999, 0.8236129184215351, 1.1443183433214703, 1.4650237682214058, 1.7857291931213417, 2.1064346180212756, 2.427140042921211, 2.747845467821146, 3.068550892721082, 3.389256317621017, 3.7099617425209517, 4.030667167420888, 4.351372592320823], [-1.9395687302960423, -1.618863305396107, -1.298157880496172, -0.9774524555962364, -0.6567470306963016, -0.3360416057963661, -0.015336180896431108, 0.3053692440035043, 0.6260746689034397, 0.9467800938033746, 1.26748551870331, 1.5881909436032458, 1.9088963685031806, 2.2296017934031154, 2.550307218303051, 2.8710126432029868, 3.191718068102922, 3.512423493002856, 3.833128917902792, 4.153834342802728], [-2.1371069798141384, -1.8164015549142027, -1.4956961300142675, -1.1749907051143325, -0.8542852802143972, -0.533579855314462, -0.21287443041452692, 0.10783099448540849, 0.42853641938534387, 0.7492418442852791, 1.0699472691852145, 1.3906526940851498, 1.711358118985085, 2.0320635438850196, 2.352768968784955, 2.6734743936848906, 2.9941798185848256, 3.314885243484761, 3.6355906683846957, 3.9562960932846316], [-2.3346452293322337, -2.0139398044322983, -1.6932343795323637, -1.3725289546324275, -1.0518235297324927, -0.7311181048325573, -0.4104126799326223, -0.08970725503268709, 0.2309981698672483, 0.5517035947671836, 0.8724090196671188, 1.1931144445670547, 1.5138198694669895, 1.8345252943669244, 2.15523071926686, 2.475936144166795, 2.7966415690667303, 3.117346993966665, 3.4380524188666004, 3.7587578437665363], [-2.53218347885033, -2.2114780539503944, -1.8907726290504585, -1.5700672041505233, -1.249361779250588, -0.9286563543506531, -0.6079509294507177, -0.28724550455078257, 0.03345992034915274, 0.35416534524908805, 0.6748707701490233, 0.9955761950489589, 1.316281619948894, 1.6369870448488288, 1.9576924697487645, 2.2783978946487, 2.599103319548635, 2.9198087444485696, 3.2405141693485056, 3.5612195942484415], [-2.7297217283684247, -2.4090163034684897, -2.0883108785685547, -1.7676054536686188, -1.446900028768684, -1.1261946038687485, -0.8054891789688136, -0.48478375406887797, -0.16407832916894283, 0.15662709573099248, 0.4773325206309277, 0.7980379455308634, 1.1187433704307983, 1.4394487953307333, 1.7601542202306688, 2.0808596451306043, 2.4015650700305393, 2.7222704949304735, 3.04297591983041, 3.3636813447303457], [-2.9272599778865205, -2.6065545529865846, -2.28584912808665, -1.965143703186715, -1.6444382782867792, -1.3237328533868442, -1.0030274284869092, -0.6823220035869736, -0.3616165786870384, -0.0409111537871031, 0.27979427111283217, 0.6004996960127678, 0.9212051209127026, 1.2419105458126374, 1.562615970712573, 1.8833213956125092, 2.2040268205124436, 2.5247322454123795, 2.8454376703123145, 3.1661430952122496], [-3.1247982274046158, -2.8040928025046807, -2.483387377604746, -2.1626819527048102, -1.8419765278048752, -1.5212711029049397, -1.2005656780050047, -0.8798602531050693, -0.5591548282051338, -0.23844940330519865, 0.08225602159473658, 0.4029614464946722, 0.723666871394607, 1.044372296294542, 1.3650777211944776, 1.6857831460944133, 2.006488570994348, 2.3271939958942833, 2.647899420794219, 2.9686048456941547], [-3.3223364769227124, -3.001631052022776, -2.6809256271228414, -2.3602202022229064, -2.039514777322971, -1.7188093524230355, -1.3981039275231004, -1.077398502623165, -0.7566930777232298, -0.43598765282329444, -0.11528222792335917, 0.2054231969765764, 0.5261286218765114, 0.846834046776446, 1.1675394716763823, 1.4882448965763178, 1.8089503214762523, 2.129655746376187, 2.4503611712761226, 2.771066596176058], [-3.5198747264408077, -3.199169301540872, -2.8784638766409367, -2.5577584517410026, -2.2370530268410667, -1.9163476019411305, -1.595642177041196, -1.2749367521412605, -0.9542313272413252, -0.63352590234139, -0.3128204774414546, 0.007884947458481038, 0.32859037235841576, 0.6492957972583508, 0.9700012221582865, 1.2907066470582222, 1.6114120719581575, 1.9321174968580923, 2.252822921758028, 2.5735283466579633], [-3.717412975958903, -3.396707551058967, -3.076002126159032, -2.755296701259097, -2.4345912763591615, -2.113885851459226, -1.793180426559291, -1.472475001659356, -1.1517695767594203, -0.8310641518594851, -0.51035872695955, -0.1896533020596144, 0.13105212284032053, 0.4517575477402558, 0.7724629726401914, 1.093168397540127, 1.4138738224400618, 1.734579247339997, 2.0552846722399325, 2.375990097139867], [-3.914951225476999, -3.5942458005770628, -3.2735403756771277, -2.9528349507771927, -2.6321295258772572, -2.311424100977322, -1.9907186760773865, -1.6700132511774513, -1.349307826277516, -1.0286024013775807, -0.7078969764776456, -0.38719155157771007, -0.0664861266777754, 0.2542192982221599, 0.5749247231220955, 0.895630148022031, 1.216335572921966, 1.5370409978219008, 1.8577464227218365, 2.1784518476217714], [-4.112489474995094, -3.7917840500951585, -3.471078625195224, -3.1503732002952884, -2.8296677753953534, -2.508962350495418, -2.1882569255954825, -1.8675515006955474, -1.546846075795612, -1.2261406508956767, -0.9054352259957416, -0.5847298010958061, -0.26402437619587127, 0.05668104870406415, 0.3773864736039997, 0.6980918985039352, 1.01879732340387, 1.3395027483038051, 1.6602081732037408, 1.980913598103676], [-4.310027724513189, -3.9893222996132534, -3.668616874713319, -3.3479114498133846, -3.0272060249134487, -2.7065006000135132, -2.3857951751135777, -2.065089750213643, -1.7443843253137077, -1.4236789004137722, -1.1029734755138367, -0.7822680506139013, -0.4615626257139666, -0.14085720081403175, 0.17984822408590417, 0.5005536489858398, 0.8212590738857747, 1.1419644987857098, 1.462669923685645, 1.7833753485855803], [-4.507565974031285, -4.186860549131349, -3.866155124231414, -3.545449699331479, -3.2247442744315444, -2.904038849531608, -2.5833334246316735, -2.262627999731738, -1.9419225748318025, -1.621217149931867, -1.300511725031932, -0.9798063001319967, -0.6591008752320617, -0.3383954503321265, -0.01769002543219117, 0.3030153994677448, 0.6237208243676798, 0.9444262492676145, 1.26513167416755, 1.5858370990674857], [-4.70510422354938, -4.384398798649444, -4.06369337374951, -3.7429879488495748, -3.4222825239496397, -3.1015770990497042, -2.7808716741497697, -2.460166249249834, -2.1394608243498983, -1.8187553994499632, -1.4980499745500275, -1.1773445496500923, -0.8566391247501576, -0.5359336998502224, -0.21522827495028735, 0.10547714994964862, 0.4261825748495838, 0.7468879997495185, 1.0675934246494538, 1.38829884954939], [-4.902642473067475, -4.58193704816754, -4.261231623267606, -3.940526198367671, -3.6198207734677346, -3.2991153485678004, -2.978409923667865, -2.6577044987679295, -2.3369990738679944, -2.016293648968059, -1.6955882240681233, -1.374882799168188, -1.0541773742682528, -0.7334719493683182, -0.4127665244683828, -0.09206109956844748, 0.22864432533148804, 0.549349750231423, 0.8700551751313582, 1.1907606000312936]]}],\n",
       "                        {\"template\": {\"data\": {\"bar\": [{\"error_x\": {\"color\": \"#2a3f5f\"}, \"error_y\": {\"color\": \"#2a3f5f\"}, \"marker\": {\"line\": {\"color\": \"#E5ECF6\", \"width\": 0.5}}, \"type\": \"bar\"}], \"barpolar\": [{\"marker\": {\"line\": {\"color\": \"#E5ECF6\", \"width\": 0.5}}, \"type\": \"barpolar\"}], \"carpet\": [{\"aaxis\": {\"endlinecolor\": \"#2a3f5f\", \"gridcolor\": \"white\", \"linecolor\": \"white\", \"minorgridcolor\": \"white\", \"startlinecolor\": \"#2a3f5f\"}, \"baxis\": {\"endlinecolor\": \"#2a3f5f\", \"gridcolor\": \"white\", \"linecolor\": \"white\", \"minorgridcolor\": \"white\", \"startlinecolor\": \"#2a3f5f\"}, \"type\": \"carpet\"}], \"choropleth\": [{\"colorbar\": {\"outlinewidth\": 0, \"ticks\": \"\"}, \"type\": \"choropleth\"}], \"contour\": [{\"colorbar\": {\"outlinewidth\": 0, \"ticks\": \"\"}, \"colorscale\": [[0.0, \"#0d0887\"], [0.1111111111111111, \"#46039f\"], [0.2222222222222222, \"#7201a8\"], [0.3333333333333333, \"#9c179e\"], [0.4444444444444444, \"#bd3786\"], [0.5555555555555556, \"#d8576b\"], [0.6666666666666666, \"#ed7953\"], [0.7777777777777778, \"#fb9f3a\"], [0.8888888888888888, \"#fdca26\"], [1.0, \"#f0f921\"]], \"type\": \"contour\"}], \"contourcarpet\": [{\"colorbar\": {\"outlinewidth\": 0, \"ticks\": \"\"}, \"type\": \"contourcarpet\"}], \"heatmap\": [{\"colorbar\": {\"outlinewidth\": 0, \"ticks\": \"\"}, \"colorscale\": [[0.0, \"#0d0887\"], [0.1111111111111111, \"#46039f\"], [0.2222222222222222, \"#7201a8\"], [0.3333333333333333, \"#9c179e\"], [0.4444444444444444, \"#bd3786\"], [0.5555555555555556, \"#d8576b\"], [0.6666666666666666, \"#ed7953\"], [0.7777777777777778, \"#fb9f3a\"], [0.8888888888888888, \"#fdca26\"], [1.0, \"#f0f921\"]], \"type\": \"heatmap\"}], \"heatmapgl\": [{\"colorbar\": {\"outlinewidth\": 0, \"ticks\": \"\"}, \"colorscale\": [[0.0, \"#0d0887\"], [0.1111111111111111, \"#46039f\"], [0.2222222222222222, \"#7201a8\"], [0.3333333333333333, \"#9c179e\"], [0.4444444444444444, \"#bd3786\"], [0.5555555555555556, \"#d8576b\"], [0.6666666666666666, \"#ed7953\"], [0.7777777777777778, \"#fb9f3a\"], [0.8888888888888888, \"#fdca26\"], [1.0, \"#f0f921\"]], \"type\": \"heatmapgl\"}], \"histogram\": [{\"marker\": {\"colorbar\": {\"outlinewidth\": 0, \"ticks\": \"\"}}, \"type\": \"histogram\"}], \"histogram2d\": [{\"colorbar\": {\"outlinewidth\": 0, \"ticks\": \"\"}, \"colorscale\": [[0.0, \"#0d0887\"], [0.1111111111111111, \"#46039f\"], [0.2222222222222222, \"#7201a8\"], [0.3333333333333333, \"#9c179e\"], [0.4444444444444444, \"#bd3786\"], [0.5555555555555556, \"#d8576b\"], [0.6666666666666666, \"#ed7953\"], [0.7777777777777778, \"#fb9f3a\"], [0.8888888888888888, \"#fdca26\"], [1.0, \"#f0f921\"]], \"type\": \"histogram2d\"}], \"histogram2dcontour\": [{\"colorbar\": {\"outlinewidth\": 0, \"ticks\": \"\"}, \"colorscale\": [[0.0, \"#0d0887\"], [0.1111111111111111, \"#46039f\"], [0.2222222222222222, \"#7201a8\"], [0.3333333333333333, \"#9c179e\"], [0.4444444444444444, \"#bd3786\"], [0.5555555555555556, \"#d8576b\"], [0.6666666666666666, \"#ed7953\"], [0.7777777777777778, \"#fb9f3a\"], [0.8888888888888888, \"#fdca26\"], [1.0, \"#f0f921\"]], \"type\": \"histogram2dcontour\"}], \"mesh3d\": [{\"colorbar\": {\"outlinewidth\": 0, \"ticks\": \"\"}, \"type\": \"mesh3d\"}], \"parcoords\": [{\"line\": {\"colorbar\": {\"outlinewidth\": 0, \"ticks\": \"\"}}, \"type\": \"parcoords\"}], \"pie\": [{\"automargin\": true, \"type\": \"pie\"}], \"scatter\": [{\"marker\": {\"colorbar\": {\"outlinewidth\": 0, \"ticks\": \"\"}}, \"type\": \"scatter\"}], \"scatter3d\": [{\"line\": {\"colorbar\": {\"outlinewidth\": 0, \"ticks\": \"\"}}, \"marker\": {\"colorbar\": {\"outlinewidth\": 0, \"ticks\": \"\"}}, \"type\": \"scatter3d\"}], \"scattercarpet\": [{\"marker\": {\"colorbar\": {\"outlinewidth\": 0, \"ticks\": \"\"}}, \"type\": \"scattercarpet\"}], \"scattergeo\": [{\"marker\": {\"colorbar\": {\"outlinewidth\": 0, \"ticks\": \"\"}}, \"type\": \"scattergeo\"}], \"scattergl\": [{\"marker\": {\"colorbar\": {\"outlinewidth\": 0, \"ticks\": \"\"}}, \"type\": \"scattergl\"}], \"scattermapbox\": [{\"marker\": {\"colorbar\": {\"outlinewidth\": 0, \"ticks\": \"\"}}, \"type\": \"scattermapbox\"}], \"scatterpolar\": [{\"marker\": {\"colorbar\": {\"outlinewidth\": 0, \"ticks\": \"\"}}, \"type\": \"scatterpolar\"}], \"scatterpolargl\": [{\"marker\": {\"colorbar\": {\"outlinewidth\": 0, \"ticks\": \"\"}}, \"type\": \"scatterpolargl\"}], \"scatterternary\": [{\"marker\": {\"colorbar\": {\"outlinewidth\": 0, \"ticks\": \"\"}}, \"type\": \"scatterternary\"}], \"surface\": [{\"colorbar\": {\"outlinewidth\": 0, \"ticks\": \"\"}, \"colorscale\": [[0.0, \"#0d0887\"], [0.1111111111111111, \"#46039f\"], [0.2222222222222222, \"#7201a8\"], [0.3333333333333333, \"#9c179e\"], [0.4444444444444444, \"#bd3786\"], [0.5555555555555556, \"#d8576b\"], [0.6666666666666666, \"#ed7953\"], [0.7777777777777778, \"#fb9f3a\"], [0.8888888888888888, \"#fdca26\"], [1.0, \"#f0f921\"]], \"type\": \"surface\"}], \"table\": [{\"cells\": {\"fill\": {\"color\": \"#EBF0F8\"}, \"line\": {\"color\": \"white\"}}, \"header\": {\"fill\": {\"color\": \"#C8D4E3\"}, \"line\": {\"color\": \"white\"}}, \"type\": \"table\"}]}, \"layout\": {\"annotationdefaults\": {\"arrowcolor\": \"#2a3f5f\", \"arrowhead\": 0, \"arrowwidth\": 1}, \"coloraxis\": {\"colorbar\": {\"outlinewidth\": 0, \"ticks\": \"\"}}, \"colorscale\": {\"diverging\": [[0, \"#8e0152\"], [0.1, \"#c51b7d\"], [0.2, \"#de77ae\"], [0.3, \"#f1b6da\"], [0.4, \"#fde0ef\"], [0.5, \"#f7f7f7\"], [0.6, \"#e6f5d0\"], [0.7, \"#b8e186\"], [0.8, \"#7fbc41\"], [0.9, \"#4d9221\"], [1, \"#276419\"]], \"sequential\": [[0.0, \"#0d0887\"], [0.1111111111111111, \"#46039f\"], [0.2222222222222222, \"#7201a8\"], [0.3333333333333333, \"#9c179e\"], [0.4444444444444444, \"#bd3786\"], [0.5555555555555556, \"#d8576b\"], [0.6666666666666666, \"#ed7953\"], [0.7777777777777778, \"#fb9f3a\"], [0.8888888888888888, \"#fdca26\"], [1.0, \"#f0f921\"]], \"sequentialminus\": [[0.0, \"#0d0887\"], [0.1111111111111111, \"#46039f\"], [0.2222222222222222, \"#7201a8\"], [0.3333333333333333, \"#9c179e\"], [0.4444444444444444, \"#bd3786\"], [0.5555555555555556, \"#d8576b\"], [0.6666666666666666, \"#ed7953\"], [0.7777777777777778, \"#fb9f3a\"], [0.8888888888888888, \"#fdca26\"], [1.0, \"#f0f921\"]]}, \"colorway\": [\"#636efa\", \"#EF553B\", \"#00cc96\", \"#ab63fa\", \"#FFA15A\", \"#19d3f3\", \"#FF6692\", \"#B6E880\", \"#FF97FF\", \"#FECB52\"], \"font\": {\"color\": \"#2a3f5f\"}, \"geo\": {\"bgcolor\": \"white\", \"lakecolor\": \"white\", \"landcolor\": \"#E5ECF6\", \"showlakes\": true, \"showland\": true, \"subunitcolor\": \"white\"}, \"hoverlabel\": {\"align\": \"left\"}, \"hovermode\": \"closest\", \"mapbox\": {\"style\": \"light\"}, \"paper_bgcolor\": \"white\", \"plot_bgcolor\": \"#E5ECF6\", \"polar\": {\"angularaxis\": {\"gridcolor\": \"white\", \"linecolor\": \"white\", \"ticks\": \"\"}, \"bgcolor\": \"#E5ECF6\", \"radialaxis\": {\"gridcolor\": \"white\", \"linecolor\": \"white\", \"ticks\": \"\"}}, \"scene\": {\"xaxis\": {\"backgroundcolor\": \"#E5ECF6\", \"gridcolor\": \"white\", \"gridwidth\": 2, \"linecolor\": \"white\", \"showbackground\": true, \"ticks\": \"\", \"zerolinecolor\": \"white\"}, \"yaxis\": {\"backgroundcolor\": \"#E5ECF6\", \"gridcolor\": \"white\", \"gridwidth\": 2, \"linecolor\": \"white\", \"showbackground\": true, \"ticks\": \"\", \"zerolinecolor\": \"white\"}, \"zaxis\": {\"backgroundcolor\": \"#E5ECF6\", \"gridcolor\": \"white\", \"gridwidth\": 2, \"linecolor\": \"white\", \"showbackground\": true, \"ticks\": \"\", \"zerolinecolor\": \"white\"}}, \"shapedefaults\": {\"line\": {\"color\": \"#2a3f5f\"}}, \"ternary\": {\"aaxis\": {\"gridcolor\": \"white\", \"linecolor\": \"white\", \"ticks\": \"\"}, \"baxis\": {\"gridcolor\": \"white\", \"linecolor\": \"white\", \"ticks\": \"\"}, \"bgcolor\": \"#E5ECF6\", \"caxis\": {\"gridcolor\": \"white\", \"linecolor\": \"white\", \"ticks\": \"\"}}, \"title\": {\"x\": 0.05}, \"xaxis\": {\"automargin\": true, \"gridcolor\": \"white\", \"linecolor\": \"white\", \"ticks\": \"\", \"title\": {\"standoff\": 15}, \"zerolinecolor\": \"white\", \"zerolinewidth\": 2}, \"yaxis\": {\"automargin\": true, \"gridcolor\": \"white\", \"linecolor\": \"white\", \"ticks\": \"\", \"title\": {\"standoff\": 15}, \"zerolinecolor\": \"white\", \"zerolinewidth\": 2}}}, \"title\": {\"text\": \"Decision function\"}, \"width\": 600},\n",
       "                        {\"responsive\": true}\n",
       "                    ).then(function(){\n",
       "                            \n",
       "var gd = document.getElementById('d9239d99-b31b-4446-a84f-77e7f0b27a13');\n",
       "var x = new MutationObserver(function (mutations, observer) {{\n",
       "        var display = window.getComputedStyle(gd).display;\n",
       "        if (!display || display === 'none') {{\n",
       "            console.log([gd, 'removed!']);\n",
       "            Plotly.purge(gd);\n",
       "            observer.disconnect();\n",
       "        }}\n",
       "}});\n",
       "\n",
       "// Listen for the removal of the full notebook cells\n",
       "var notebookContainer = gd.closest('#notebook-container');\n",
       "if (notebookContainer) {{\n",
       "    x.observe(notebookContainer, {childList: true});\n",
       "}}\n",
       "\n",
       "// Listen for the clearing of the current output cell\n",
       "var outputEl = gd.closest('.output');\n",
       "if (outputEl) {{\n",
       "    x.observe(outputEl, {childList: true});\n",
       "}}\n",
       "\n",
       "                        })\n",
       "                };\n",
       "                });\n",
       "            </script>\n",
       "        </div>"
      ]
     },
     "metadata": {},
     "output_type": "display_data"
    }
   ],
   "source": [
    "# 20 uniform points in the unit square\n",
    "# the decision function is plotted\n",
    "\n",
    "np.random.seed(2020)\n",
    "X = 2*np.random.rand(32, 2) - 1\n",
    "\n",
    "y = np.zeros(X.shape[0])\n",
    "\n",
    "# initialize labels\n",
    "for i in range(0,X.shape[0]):\n",
    "    y[i] = labels_line(X[i,:])\n",
    "\n",
    "# fit the model\n",
    "clf = svm.SVC(kernel=\"linear\")\n",
    "clf.fit(X, y)\n",
    "\n",
    "# plot\n",
    "fig = go.Figure()\n",
    "plot_data_decision_function(X, y, clf, fig, \"Decision function\", 1.4, 1.1)\n",
    "fig.show()"
   ]
  },
  {
   "cell_type": "code",
   "execution_count": 39,
   "metadata": {},
   "outputs": [],
   "source": [
    "fig.write_html('../_includes/svm2.html')"
   ]
  },
  {
   "cell_type": "code",
   "execution_count": 40,
   "metadata": {
    "colab": {
     "base_uri": "https://localhost:8080/",
     "height": 542
    },
    "colab_type": "code",
    "id": "X0ldlL-b-xTY",
    "outputId": "cf277cb0-b788-484b-eee7-868af18d3412"
   },
   "outputs": [
    {
     "data": {
      "application/vnd.plotly.v1+json": {
       "config": {
        "plotlyServerURL": "https://plot.ly"
       },
       "data": [
        {
         "marker": {
          "color": [
           1,
           1,
           1,
           -1,
           1,
           -1,
           1,
           -1,
           -1,
           -1,
           1,
           -1,
           -1,
           -1,
           -1,
           -1,
           -1,
           1,
           -1,
           -1,
           -1,
           -1,
           -1,
           1,
           -1,
           1,
           1,
           1,
           -1,
           1,
           -1,
           1
          ],
          "colorscale": [
           [
            0,
            "rgb(103,0,31)"
           ],
           [
            0.1,
            "rgb(178,24,43)"
           ],
           [
            0.2,
            "rgb(214,96,77)"
           ],
           [
            0.3,
            "rgb(244,165,130)"
           ],
           [
            0.4,
            "rgb(253,219,199)"
           ],
           [
            0.5,
            "rgb(247,247,247)"
           ],
           [
            0.6,
            "rgb(209,229,240)"
           ],
           [
            0.7,
            "rgb(146,197,222)"
           ],
           [
            0.8,
            "rgb(67,147,195)"
           ],
           [
            0.9,
            "rgb(33,102,172)"
           ],
           [
            1,
            "rgb(5,48,97)"
           ]
          ],
          "size": 10
         },
         "mode": "markers",
         "showlegend": false,
         "type": "scatter",
         "x": [
          0.9553637840845721,
          0.413774153732544,
          -0.08831908338511785,
          -0.716311572309574,
          0.8384759927653522,
          -0.9189032643724722,
          0.9252022719166835,
          -0.7399517311510524,
          -0.48925060555223643,
          -0.2571837448661536,
          1.2472725791348636,
          0.510513677909929,
          -0.04406140907115674,
          -0.4526388712024112,
          -0.7410664407399503,
          -0.22886574311621488,
          0.17911530841163925,
          0.37731160017527965,
          -0.06378794718172476,
          -0.8489738247618893,
          -0.3427115406107284,
          0.9447028381045965,
          -0.45863108539764097,
          -0.18525916158486833,
          -0.4153494280377563,
          0.0796861975497053,
          0.5519713431835059,
          -0.4458606043168418,
          0.25925994466408386,
          0.47631133533063985,
          0.1819529446408592,
          0.278359410797857
         ],
         "y": [
          0.27605812463923307,
          -0.12479648779441244,
          -0.1675941715729361,
          -0.6334083046840374,
          -1.169931177950523,
          0.6827014390184523,
          0.02753319544241517,
          -0.03178097011285652,
          -0.19986741088871618,
          -0.7431521635159125,
          -1.2112596885582636,
          1.3537377109563529,
          0.45351038797141097,
          -0.1904827831957029,
          -0.314642087224532,
          0.5653191431978359,
          -0.3273836422608506,
          0.2609246378791865,
          0.7809686257402683,
          0.3500558857040055,
          1.0279165085806263,
          1.0891625473328055,
          -1.165262851885486,
          0.5099443861470127,
          0.020659018247940475,
          -0.2385031665809073,
          -0.45063353486546276,
          -1.1065515039848557,
          0.8790992552575336,
          0.032823644523019335,
          0.7838474218040596,
          0.2937141868189893
         ]
        },
        {
         "colorscale": [
          [
           0,
           "rgb(103,0,31)"
          ],
          [
           0.1,
           "rgb(178,24,43)"
          ],
          [
           0.2,
           "rgb(214,96,77)"
          ],
          [
           0.3,
           "rgb(244,165,130)"
          ],
          [
           0.4,
           "rgb(253,219,199)"
          ],
          [
           0.5,
           "rgb(247,247,247)"
          ],
          [
           0.6,
           "rgb(209,229,240)"
          ],
          [
           0.7,
           "rgb(146,197,222)"
          ],
          [
           0.8,
           "rgb(67,147,195)"
          ],
          [
           0.9,
           "rgb(33,102,172)"
          ],
          [
           1,
           "rgb(5,48,97)"
          ]
         ],
         "type": "contour",
         "x": [
          -1.9,
          -1.7,
          -1.5,
          -1.3,
          -1.1,
          -0.9,
          -0.7000000000000001,
          -0.5,
          -0.3000000000000001,
          -0.10000000000000009,
          0.09999999999999988,
          0.3000000000000001,
          0.49999999999999983,
          0.6999999999999996,
          0.8999999999999998,
          1.1,
          1.2999999999999998,
          1.4999999999999996,
          1.6999999999999997,
          1.9
         ],
         "y": [
          -1.5,
          -1.3421052631578947,
          -1.1842105263157894,
          -1.0263157894736843,
          -0.868421052631579,
          -0.7105263157894737,
          -0.5526315789473685,
          -0.3947368421052632,
          -0.23684210526315796,
          -0.07894736842105271,
          0.07894736842105254,
          0.23684210526315796,
          0.39473684210526305,
          0.5526315789473681,
          0.7105263157894736,
          0.868421052631579,
          1.026315789473684,
          1.1842105263157892,
          1.3421052631578947,
          1.5
         ],
         "z": [
          [
           -2.126263778602263,
           -1.7690578633022804,
           -1.4118519480022993,
           -1.0546460327023173,
           -0.6974401174023349,
           -0.34023420210235333,
           0.016971713197628358,
           0.37417762849761127,
           0.731383543797593,
           1.0885894590975753,
           1.4457953743975573,
           1.8030012896975398,
           2.160207204997521,
           2.517413120297502,
           2.8746190355974846,
           3.2318249508974675,
           3.589030866197449,
           3.9462367814974297,
           4.303442696797414,
           4.660648612097397
          ],
          [
           -2.302154153807738,
           -1.9449482385077563,
           -1.5877423232077752,
           -1.2305364079077932,
           -0.8733304926078113,
           -0.5161245773078291,
           -0.158918662007847,
           0.19828725329213504,
           0.5554931685921171,
           0.9126990838920993,
           1.269904999192081,
           1.6271109144920635,
           1.9843168297920455,
           2.341522745092026,
           2.698728660392009,
           3.0559345756919916,
           3.413140490991973,
           3.770346406291955,
           4.127552321591938,
           4.48475823689192
          ],
          [
           -2.4780445290132143,
           -2.120838613713233,
           -1.763632698413251,
           -1.4064267831132695,
           -1.0492208678132866,
           -0.6920149525133054,
           -0.3348090372133229,
           0.022396878086659022,
           0.3796027933866407,
           0.7368087086866227,
           1.094014623986605,
           1.4512205392865876,
           1.8084264545865687,
           2.1656323698865503,
           2.5228382851865327,
           2.880044200486515,
           3.237250115786497,
           3.594456031086478,
           3.951661946386461,
           4.308867861686444
          ],
          [
           -2.653934904218691,
           -2.2967289889187095,
           -1.939523073618727,
           -1.5823171583187454,
           -1.225111243018763,
           -0.8679053277187807,
           -0.5106994124187988,
           -0.1534934971188172,
           0.20371241818116503,
           0.5609183334811471,
           0.9181242487811289,
           1.2753301640811117,
           1.6325360793810932,
           1.989741994681074,
           2.3469479099810564,
           2.7041538252810398,
           3.061359740581021,
           3.418565655881002,
           3.7757715711809854,
           4.132977486480967
          ],
          [
           -2.8298252794241665,
           -2.4726193641241854,
           -2.115413448824203,
           -1.7582075335242213,
           -1.4010016182242393,
           -1.0437957029242573,
           -0.686589787624275,
           -0.32938387232429317,
           0.027822042975688965,
           0.38502795827567116,
           0.7422338735756532,
           1.0994397888756353,
           1.456645704175617,
           1.8138516194755985,
           2.171057534775581,
           2.528263450075563,
           2.885469365375545,
           3.242675280675526,
           3.599881195975508,
           3.957087111275491
          ],
          [
           -3.0057156546296433,
           -2.6485097393296617,
           -2.29130382402968,
           -1.9340979087296977,
           -1.576891993429716,
           -1.2196860781297332,
           -0.8624801628297513,
           -0.5052742475297689,
           -0.1480683322297875,
           0.2091375830701948,
           0.5663434983701767,
           0.9235494136701589,
           1.2807553289701405,
           1.6379612442701221,
           1.9951671595701046,
           2.352373074870088,
           2.7095789901700678,
           3.06678490547005,
           3.4239908207700323,
           3.781196736070014
          ],
          [
           -3.181606029835119,
           -2.8244001145351367,
           -2.467194199235156,
           -2.1099882839351736,
           -1.752782368635192,
           -1.39557645333521,
           -1.0383705380352275,
           -0.6811646227352453,
           -0.32395870743526356,
           0.03324720786471824,
           0.3904531231647006,
           0.7476590384646832,
           1.1048649537646646,
           1.4620708690646458,
           1.8192767843646287,
           2.176482699664611,
           2.5336886149645927,
           2.8908945302645734,
           3.2481004455645563,
           3.6053063608645384
          ],
          [
           -3.3574964050405955,
           -3.0002904897406126,
           -2.6430845744406324,
           -2.28587865914065,
           -1.9286727438406688,
           -1.5714668285406859,
           -1.2142609132407038,
           -0.8570549979407216,
           -0.4998490826407399,
           -0.14264316734075788,
           0.21456274795922425,
           0.5717686632592065,
           0.9289745785591882,
           1.2861804938591694,
           1.643386409159152,
           2.0005923244591344,
           2.357798239759116,
           2.715004155059098,
           3.07221007035908,
           3.4294159856590625
          ],
          [
           -3.5333867802460723,
           -3.1761808649460894,
           -2.8189749496461087,
           -2.4617690343461263,
           -2.1045631190461442,
           -1.7473572037461618,
           -1.3901512884461797,
           -1.0329453731461977,
           -0.675739457846216,
           -0.31853354254623384,
           0.03867237275374813,
           0.3958782880537306,
           0.7530842033537123,
           1.1102901186536935,
           1.467496033953676,
           1.8247019492536585,
           2.18190786455364,
           2.539113779853621,
           2.896319695153604,
           3.253525610453586
          ],
          [
           -3.7092771554515482,
           -3.352071240151566,
           -2.9948653248515846,
           -2.6376594095516026,
           -2.280453494251621,
           -1.9232475789516381,
           -1.566041663651656,
           -1.2088357483516738,
           -0.851629833051692,
           -0.49442391775171,
           -0.13721800245172805,
           0.21998791284825436,
           0.5771938281482359,
           0.934399743448218,
           1.2916056587482,
           1.6488115740481826,
           2.0060174893481633,
           2.363223404648145,
           2.7204293199481273,
           3.07763523524811
          ],
          [
           -3.8851675306570246,
           -3.527961615357042,
           -3.1707557000570605,
           -2.813549784757079,
           -2.456343869457097,
           -2.099137954157114,
           -1.7419320388571324,
           -1.3847261235571502,
           -1.0275202082571682,
           -0.6703142929571863,
           -0.31310837765720434,
           0.04409753764277802,
           0.4013034529427597,
           0.7585093682427416,
           1.1157152835427238,
           1.4729211988427067,
           1.830127114142687,
           2.187333029442669,
           2.544538944742652,
           2.901744860042634
          ],
          [
           -4.0610579058625005,
           -3.7038519905625176,
           -3.346646075262536,
           -2.9894401599625544,
           -2.632234244662573,
           -2.2750283293625904,
           -1.9178224140626088,
           -1.5606164987626263,
           -1.2034105834626447,
           -0.8462046681626626,
           -0.4889987528626806,
           -0.1317928375626981,
           0.2254130777372837,
           0.5826189930372649,
           0.9398249083372475,
           1.2970308236372299,
           1.654236738937212,
           2.0114426542371935,
           2.3686485695371755,
           2.725854484837158
          ],
          [
           -4.236948281067977,
           -3.879742365767994,
           -3.522536450468013,
           -3.1653305351680308,
           -2.8081246198680487,
           -2.4509187045680667,
           -2.0937127892680842,
           -1.7365068739681027,
           -1.3793009586681206,
           -1.0220950433681386,
           -0.6648891280681566,
           -0.30768321276817423,
           0.049522702531807405,
           0.4067286178317887,
           0.7639345331317712,
           1.1211404484317535,
           1.4783463637317356,
           1.8355522790317171,
           2.192758194331699,
           2.549964109631681
          ],
          [
           -4.412838656273451,
           -4.055632740973469,
           -3.6984268256734882,
           -3.341220910373507,
           -2.984014995073525,
           -2.626809079773543,
           -2.26960316447356,
           -1.9123972491735786,
           -1.5551913338735965,
           -1.1979854185736145,
           -0.8407795032736324,
           -0.48357358797365035,
           -0.1263676726736686,
           0.23083824262631303,
           0.5880441579262953,
           0.9452500732262782,
           1.3024559885262592,
           1.6596619038262412,
           2.0168678191262224,
           2.3740737344262057
          ],
          [
           -4.588729031478928,
           -4.231523116178947,
           -3.874317200878965,
           -3.517111285578984,
           -3.1599053702790014,
           -2.8026994549790194,
           -2.4454935396790374,
           -2.0882876243790554,
           -1.7310817090790733,
           -1.3738757937790909,
           -1.0166698784791088,
           -0.6594639631791263,
           -0.30225804787914484,
           0.05494786742083663,
           0.41215378272081926,
           0.7693596980208023,
           1.1265656133207829,
           1.483771528620765,
           1.840977443920746,
           2.1981833592207294
          ],
          [
           -4.764619406684405,
           -4.407413491384423,
           -4.050207576084441,
           -3.69300166078446,
           -3.3357957454844773,
           -2.9785898301844953,
           -2.6213839148845133,
           -2.2641779995845313,
           -1.9069720842845497,
           -1.5497661689845672,
           -1.1925602536845854,
           -0.8353543383846032,
           -0.4781484230846214,
           -0.12094250778463977,
           0.2362634075153427,
           0.593469322815325,
           0.9506752381153069,
           1.307881153415288,
           1.6650870687152701,
           2.022292984015252
          ],
          [
           -4.94050978188988,
           -4.583303866589899,
           -4.226097951289917,
           -3.8688920359899357,
           -3.5116861206899537,
           -3.1544802053899708,
           -2.797274290089989,
           -2.4400683747900067,
           -2.082862459490025,
           -1.725656544190043,
           -1.368450628890061,
           -1.0112447135900786,
           -0.6540387982900975,
           -0.29683288299011534,
           0.0603730323098669,
           0.4175789476098497,
           0.7747848629098305,
           1.1319907782098122,
           1.489196693509795,
           1.8464026088097767
          ],
          [
           -5.116400157095358,
           -4.759194241795375,
           -4.401988326495394,
           -4.044782411195412,
           -3.687576495895429,
           -3.3303705805954475,
           -2.973164665295465,
           -2.615958749995483,
           -2.2587528346955015,
           -1.9015469193955195,
           -1.5443410040955374,
           -1.187135088795555,
           -0.8299291734955736,
           -0.47272325819559124,
           -0.11551734289560944,
           0.2416885724043738,
           0.5988944877043544,
           0.956100403004336,
           1.3133063183043174,
           1.6705122336043003
          ],
          [
           -5.292290532300833,
           -4.93508461700085,
           -4.577878701700869,
           -4.220672786400888,
           -3.863466871100906,
           -3.506260955800924,
           -3.1490550405009414,
           -2.7918491252009594,
           -2.434643209900978,
           -2.077437294600996,
           -1.7202313793010133,
           -1.3630254640010313,
           -1.0058195487010493,
           -0.648613633401067,
           -0.29140771810108634,
           0.06579819719889712,
           0.42300411249887837,
           0.7802100277988598,
           1.1374159430988424,
           1.494621858398824
          ],
          [
           -5.46818090750631,
           -5.1109749922063274,
           -4.753769076906346,
           -4.396563161606363,
           -4.039357246306381,
           -3.6821513310063994,
           -3.3249454157064187,
           -2.9677395004064357,
           -2.610533585106454,
           -2.2533276698064717,
           -1.8961217545064901,
           -1.5389158392065072,
           -1.1817099239065256,
           -0.8245040086065439,
           -0.467298093306562,
           -0.11009217800657922,
           0.24711373729340302,
           0.6043196525933837,
           0.9615255678933675,
           1.3187314831933485
          ]
         ]
        }
       ],
       "layout": {
        "template": {
         "data": {
          "bar": [
           {
            "error_x": {
             "color": "#2a3f5f"
            },
            "error_y": {
             "color": "#2a3f5f"
            },
            "marker": {
             "line": {
              "color": "#E5ECF6",
              "width": 0.5
             }
            },
            "type": "bar"
           }
          ],
          "barpolar": [
           {
            "marker": {
             "line": {
              "color": "#E5ECF6",
              "width": 0.5
             }
            },
            "type": "barpolar"
           }
          ],
          "carpet": [
           {
            "aaxis": {
             "endlinecolor": "#2a3f5f",
             "gridcolor": "white",
             "linecolor": "white",
             "minorgridcolor": "white",
             "startlinecolor": "#2a3f5f"
            },
            "baxis": {
             "endlinecolor": "#2a3f5f",
             "gridcolor": "white",
             "linecolor": "white",
             "minorgridcolor": "white",
             "startlinecolor": "#2a3f5f"
            },
            "type": "carpet"
           }
          ],
          "choropleth": [
           {
            "colorbar": {
             "outlinewidth": 0,
             "ticks": ""
            },
            "type": "choropleth"
           }
          ],
          "contour": [
           {
            "colorbar": {
             "outlinewidth": 0,
             "ticks": ""
            },
            "colorscale": [
             [
              0,
              "#0d0887"
             ],
             [
              0.1111111111111111,
              "#46039f"
             ],
             [
              0.2222222222222222,
              "#7201a8"
             ],
             [
              0.3333333333333333,
              "#9c179e"
             ],
             [
              0.4444444444444444,
              "#bd3786"
             ],
             [
              0.5555555555555556,
              "#d8576b"
             ],
             [
              0.6666666666666666,
              "#ed7953"
             ],
             [
              0.7777777777777778,
              "#fb9f3a"
             ],
             [
              0.8888888888888888,
              "#fdca26"
             ],
             [
              1,
              "#f0f921"
             ]
            ],
            "type": "contour"
           }
          ],
          "contourcarpet": [
           {
            "colorbar": {
             "outlinewidth": 0,
             "ticks": ""
            },
            "type": "contourcarpet"
           }
          ],
          "heatmap": [
           {
            "colorbar": {
             "outlinewidth": 0,
             "ticks": ""
            },
            "colorscale": [
             [
              0,
              "#0d0887"
             ],
             [
              0.1111111111111111,
              "#46039f"
             ],
             [
              0.2222222222222222,
              "#7201a8"
             ],
             [
              0.3333333333333333,
              "#9c179e"
             ],
             [
              0.4444444444444444,
              "#bd3786"
             ],
             [
              0.5555555555555556,
              "#d8576b"
             ],
             [
              0.6666666666666666,
              "#ed7953"
             ],
             [
              0.7777777777777778,
              "#fb9f3a"
             ],
             [
              0.8888888888888888,
              "#fdca26"
             ],
             [
              1,
              "#f0f921"
             ]
            ],
            "type": "heatmap"
           }
          ],
          "heatmapgl": [
           {
            "colorbar": {
             "outlinewidth": 0,
             "ticks": ""
            },
            "colorscale": [
             [
              0,
              "#0d0887"
             ],
             [
              0.1111111111111111,
              "#46039f"
             ],
             [
              0.2222222222222222,
              "#7201a8"
             ],
             [
              0.3333333333333333,
              "#9c179e"
             ],
             [
              0.4444444444444444,
              "#bd3786"
             ],
             [
              0.5555555555555556,
              "#d8576b"
             ],
             [
              0.6666666666666666,
              "#ed7953"
             ],
             [
              0.7777777777777778,
              "#fb9f3a"
             ],
             [
              0.8888888888888888,
              "#fdca26"
             ],
             [
              1,
              "#f0f921"
             ]
            ],
            "type": "heatmapgl"
           }
          ],
          "histogram": [
           {
            "marker": {
             "colorbar": {
              "outlinewidth": 0,
              "ticks": ""
             }
            },
            "type": "histogram"
           }
          ],
          "histogram2d": [
           {
            "colorbar": {
             "outlinewidth": 0,
             "ticks": ""
            },
            "colorscale": [
             [
              0,
              "#0d0887"
             ],
             [
              0.1111111111111111,
              "#46039f"
             ],
             [
              0.2222222222222222,
              "#7201a8"
             ],
             [
              0.3333333333333333,
              "#9c179e"
             ],
             [
              0.4444444444444444,
              "#bd3786"
             ],
             [
              0.5555555555555556,
              "#d8576b"
             ],
             [
              0.6666666666666666,
              "#ed7953"
             ],
             [
              0.7777777777777778,
              "#fb9f3a"
             ],
             [
              0.8888888888888888,
              "#fdca26"
             ],
             [
              1,
              "#f0f921"
             ]
            ],
            "type": "histogram2d"
           }
          ],
          "histogram2dcontour": [
           {
            "colorbar": {
             "outlinewidth": 0,
             "ticks": ""
            },
            "colorscale": [
             [
              0,
              "#0d0887"
             ],
             [
              0.1111111111111111,
              "#46039f"
             ],
             [
              0.2222222222222222,
              "#7201a8"
             ],
             [
              0.3333333333333333,
              "#9c179e"
             ],
             [
              0.4444444444444444,
              "#bd3786"
             ],
             [
              0.5555555555555556,
              "#d8576b"
             ],
             [
              0.6666666666666666,
              "#ed7953"
             ],
             [
              0.7777777777777778,
              "#fb9f3a"
             ],
             [
              0.8888888888888888,
              "#fdca26"
             ],
             [
              1,
              "#f0f921"
             ]
            ],
            "type": "histogram2dcontour"
           }
          ],
          "mesh3d": [
           {
            "colorbar": {
             "outlinewidth": 0,
             "ticks": ""
            },
            "type": "mesh3d"
           }
          ],
          "parcoords": [
           {
            "line": {
             "colorbar": {
              "outlinewidth": 0,
              "ticks": ""
             }
            },
            "type": "parcoords"
           }
          ],
          "pie": [
           {
            "automargin": true,
            "type": "pie"
           }
          ],
          "scatter": [
           {
            "marker": {
             "colorbar": {
              "outlinewidth": 0,
              "ticks": ""
             }
            },
            "type": "scatter"
           }
          ],
          "scatter3d": [
           {
            "line": {
             "colorbar": {
              "outlinewidth": 0,
              "ticks": ""
             }
            },
            "marker": {
             "colorbar": {
              "outlinewidth": 0,
              "ticks": ""
             }
            },
            "type": "scatter3d"
           }
          ],
          "scattercarpet": [
           {
            "marker": {
             "colorbar": {
              "outlinewidth": 0,
              "ticks": ""
             }
            },
            "type": "scattercarpet"
           }
          ],
          "scattergeo": [
           {
            "marker": {
             "colorbar": {
              "outlinewidth": 0,
              "ticks": ""
             }
            },
            "type": "scattergeo"
           }
          ],
          "scattergl": [
           {
            "marker": {
             "colorbar": {
              "outlinewidth": 0,
              "ticks": ""
             }
            },
            "type": "scattergl"
           }
          ],
          "scattermapbox": [
           {
            "marker": {
             "colorbar": {
              "outlinewidth": 0,
              "ticks": ""
             }
            },
            "type": "scattermapbox"
           }
          ],
          "scatterpolar": [
           {
            "marker": {
             "colorbar": {
              "outlinewidth": 0,
              "ticks": ""
             }
            },
            "type": "scatterpolar"
           }
          ],
          "scatterpolargl": [
           {
            "marker": {
             "colorbar": {
              "outlinewidth": 0,
              "ticks": ""
             }
            },
            "type": "scatterpolargl"
           }
          ],
          "scatterternary": [
           {
            "marker": {
             "colorbar": {
              "outlinewidth": 0,
              "ticks": ""
             }
            },
            "type": "scatterternary"
           }
          ],
          "surface": [
           {
            "colorbar": {
             "outlinewidth": 0,
             "ticks": ""
            },
            "colorscale": [
             [
              0,
              "#0d0887"
             ],
             [
              0.1111111111111111,
              "#46039f"
             ],
             [
              0.2222222222222222,
              "#7201a8"
             ],
             [
              0.3333333333333333,
              "#9c179e"
             ],
             [
              0.4444444444444444,
              "#bd3786"
             ],
             [
              0.5555555555555556,
              "#d8576b"
             ],
             [
              0.6666666666666666,
              "#ed7953"
             ],
             [
              0.7777777777777778,
              "#fb9f3a"
             ],
             [
              0.8888888888888888,
              "#fdca26"
             ],
             [
              1,
              "#f0f921"
             ]
            ],
            "type": "surface"
           }
          ],
          "table": [
           {
            "cells": {
             "fill": {
              "color": "#EBF0F8"
             },
             "line": {
              "color": "white"
             }
            },
            "header": {
             "fill": {
              "color": "#C8D4E3"
             },
             "line": {
              "color": "white"
             }
            },
            "type": "table"
           }
          ]
         },
         "layout": {
          "annotationdefaults": {
           "arrowcolor": "#2a3f5f",
           "arrowhead": 0,
           "arrowwidth": 1
          },
          "coloraxis": {
           "colorbar": {
            "outlinewidth": 0,
            "ticks": ""
           }
          },
          "colorscale": {
           "diverging": [
            [
             0,
             "#8e0152"
            ],
            [
             0.1,
             "#c51b7d"
            ],
            [
             0.2,
             "#de77ae"
            ],
            [
             0.3,
             "#f1b6da"
            ],
            [
             0.4,
             "#fde0ef"
            ],
            [
             0.5,
             "#f7f7f7"
            ],
            [
             0.6,
             "#e6f5d0"
            ],
            [
             0.7,
             "#b8e186"
            ],
            [
             0.8,
             "#7fbc41"
            ],
            [
             0.9,
             "#4d9221"
            ],
            [
             1,
             "#276419"
            ]
           ],
           "sequential": [
            [
             0,
             "#0d0887"
            ],
            [
             0.1111111111111111,
             "#46039f"
            ],
            [
             0.2222222222222222,
             "#7201a8"
            ],
            [
             0.3333333333333333,
             "#9c179e"
            ],
            [
             0.4444444444444444,
             "#bd3786"
            ],
            [
             0.5555555555555556,
             "#d8576b"
            ],
            [
             0.6666666666666666,
             "#ed7953"
            ],
            [
             0.7777777777777778,
             "#fb9f3a"
            ],
            [
             0.8888888888888888,
             "#fdca26"
            ],
            [
             1,
             "#f0f921"
            ]
           ],
           "sequentialminus": [
            [
             0,
             "#0d0887"
            ],
            [
             0.1111111111111111,
             "#46039f"
            ],
            [
             0.2222222222222222,
             "#7201a8"
            ],
            [
             0.3333333333333333,
             "#9c179e"
            ],
            [
             0.4444444444444444,
             "#bd3786"
            ],
            [
             0.5555555555555556,
             "#d8576b"
            ],
            [
             0.6666666666666666,
             "#ed7953"
            ],
            [
             0.7777777777777778,
             "#fb9f3a"
            ],
            [
             0.8888888888888888,
             "#fdca26"
            ],
            [
             1,
             "#f0f921"
            ]
           ]
          },
          "colorway": [
           "#636efa",
           "#EF553B",
           "#00cc96",
           "#ab63fa",
           "#FFA15A",
           "#19d3f3",
           "#FF6692",
           "#B6E880",
           "#FF97FF",
           "#FECB52"
          ],
          "font": {
           "color": "#2a3f5f"
          },
          "geo": {
           "bgcolor": "white",
           "lakecolor": "white",
           "landcolor": "#E5ECF6",
           "showlakes": true,
           "showland": true,
           "subunitcolor": "white"
          },
          "hoverlabel": {
           "align": "left"
          },
          "hovermode": "closest",
          "mapbox": {
           "style": "light"
          },
          "paper_bgcolor": "white",
          "plot_bgcolor": "#E5ECF6",
          "polar": {
           "angularaxis": {
            "gridcolor": "white",
            "linecolor": "white",
            "ticks": ""
           },
           "bgcolor": "#E5ECF6",
           "radialaxis": {
            "gridcolor": "white",
            "linecolor": "white",
            "ticks": ""
           }
          },
          "scene": {
           "xaxis": {
            "backgroundcolor": "#E5ECF6",
            "gridcolor": "white",
            "gridwidth": 2,
            "linecolor": "white",
            "showbackground": true,
            "ticks": "",
            "zerolinecolor": "white"
           },
           "yaxis": {
            "backgroundcolor": "#E5ECF6",
            "gridcolor": "white",
            "gridwidth": 2,
            "linecolor": "white",
            "showbackground": true,
            "ticks": "",
            "zerolinecolor": "white"
           },
           "zaxis": {
            "backgroundcolor": "#E5ECF6",
            "gridcolor": "white",
            "gridwidth": 2,
            "linecolor": "white",
            "showbackground": true,
            "ticks": "",
            "zerolinecolor": "white"
           }
          },
          "shapedefaults": {
           "line": {
            "color": "#2a3f5f"
           }
          },
          "ternary": {
           "aaxis": {
            "gridcolor": "white",
            "linecolor": "white",
            "ticks": ""
           },
           "baxis": {
            "gridcolor": "white",
            "linecolor": "white",
            "ticks": ""
           },
           "bgcolor": "#E5ECF6",
           "caxis": {
            "gridcolor": "white",
            "linecolor": "white",
            "ticks": ""
           }
          },
          "title": {
           "x": 0.05
          },
          "xaxis": {
           "automargin": true,
           "gridcolor": "white",
           "linecolor": "white",
           "ticks": "",
           "title": {
            "standoff": 15
           },
           "zerolinecolor": "white",
           "zerolinewidth": 2
          },
          "yaxis": {
           "automargin": true,
           "gridcolor": "white",
           "linecolor": "white",
           "ticks": "",
           "title": {
            "standoff": 15
           },
           "zerolinecolor": "white",
           "zerolinewidth": 2
          }
         }
        },
        "title": {
         "text": "Decision function"
        },
        "width": 600
       }
      },
      "text/html": [
       "<div>\n",
       "        \n",
       "        \n",
       "            <div id=\"e29304d0-a47d-430e-b208-3d8e00344c11\" class=\"plotly-graph-div\" style=\"height:525px; width:600px;\"></div>\n",
       "            <script type=\"text/javascript\">\n",
       "                require([\"plotly\"], function(Plotly) {\n",
       "                    window.PLOTLYENV=window.PLOTLYENV || {};\n",
       "                    \n",
       "                if (document.getElementById(\"e29304d0-a47d-430e-b208-3d8e00344c11\")) {\n",
       "                    Plotly.newPlot(\n",
       "                        'e29304d0-a47d-430e-b208-3d8e00344c11',\n",
       "                        [{\"marker\": {\"color\": [1.0, 1.0, 1.0, -1.0, 1.0, -1.0, 1.0, -1.0, -1.0, -1.0, 1.0, -1.0, -1.0, -1.0, -1.0, -1.0, -1.0, 1.0, -1.0, -1.0, -1.0, -1.0, -1.0, 1.0, -1.0, 1.0, 1.0, 1.0, -1.0, 1.0, -1.0, 1.0], \"colorscale\": [[0.0, \"rgb(103,0,31)\"], [0.1, \"rgb(178,24,43)\"], [0.2, \"rgb(214,96,77)\"], [0.3, \"rgb(244,165,130)\"], [0.4, \"rgb(253,219,199)\"], [0.5, \"rgb(247,247,247)\"], [0.6, \"rgb(209,229,240)\"], [0.7, \"rgb(146,197,222)\"], [0.8, \"rgb(67,147,195)\"], [0.9, \"rgb(33,102,172)\"], [1.0, \"rgb(5,48,97)\"]], \"size\": 10}, \"mode\": \"markers\", \"showlegend\": false, \"type\": \"scatter\", \"x\": [0.9553637840845721, 0.413774153732544, -0.08831908338511785, -0.716311572309574, 0.8384759927653522, -0.9189032643724722, 0.9252022719166835, -0.7399517311510524, -0.48925060555223643, -0.2571837448661536, 1.2472725791348636, 0.510513677909929, -0.04406140907115674, -0.4526388712024112, -0.7410664407399503, -0.22886574311621488, 0.17911530841163925, 0.37731160017527965, -0.06378794718172476, -0.8489738247618893, -0.3427115406107284, 0.9447028381045965, -0.45863108539764097, -0.18525916158486833, -0.4153494280377563, 0.0796861975497053, 0.5519713431835059, -0.4458606043168418, 0.25925994466408386, 0.47631133533063985, 0.1819529446408592, 0.278359410797857], \"y\": [0.27605812463923307, -0.12479648779441244, -0.1675941715729361, -0.6334083046840374, -1.169931177950523, 0.6827014390184523, 0.02753319544241517, -0.03178097011285652, -0.19986741088871618, -0.7431521635159125, -1.2112596885582636, 1.3537377109563529, 0.45351038797141097, -0.1904827831957029, -0.314642087224532, 0.5653191431978359, -0.3273836422608506, 0.2609246378791865, 0.7809686257402683, 0.3500558857040055, 1.0279165085806263, 1.0891625473328055, -1.165262851885486, 0.5099443861470127, 0.020659018247940475, -0.2385031665809073, -0.45063353486546276, -1.1065515039848557, 0.8790992552575336, 0.032823644523019335, 0.7838474218040596, 0.2937141868189893]}, {\"colorscale\": [[0.0, \"rgb(103,0,31)\"], [0.1, \"rgb(178,24,43)\"], [0.2, \"rgb(214,96,77)\"], [0.3, \"rgb(244,165,130)\"], [0.4, \"rgb(253,219,199)\"], [0.5, \"rgb(247,247,247)\"], [0.6, \"rgb(209,229,240)\"], [0.7, \"rgb(146,197,222)\"], [0.8, \"rgb(67,147,195)\"], [0.9, \"rgb(33,102,172)\"], [1.0, \"rgb(5,48,97)\"]], \"type\": \"contour\", \"x\": [-1.9, -1.7, -1.5, -1.3, -1.1, -0.9, -0.7000000000000001, -0.5, -0.3000000000000001, -0.10000000000000009, 0.09999999999999988, 0.3000000000000001, 0.49999999999999983, 0.6999999999999996, 0.8999999999999998, 1.1, 1.2999999999999998, 1.4999999999999996, 1.6999999999999997, 1.9], \"y\": [-1.5, -1.3421052631578947, -1.1842105263157894, -1.0263157894736843, -0.868421052631579, -0.7105263157894737, -0.5526315789473685, -0.3947368421052632, -0.23684210526315796, -0.07894736842105271, 0.07894736842105254, 0.23684210526315796, 0.39473684210526305, 0.5526315789473681, 0.7105263157894736, 0.868421052631579, 1.026315789473684, 1.1842105263157892, 1.3421052631578947, 1.5], \"z\": [[-2.126263778602263, -1.7690578633022804, -1.4118519480022993, -1.0546460327023173, -0.6974401174023349, -0.34023420210235333, 0.016971713197628358, 0.37417762849761127, 0.731383543797593, 1.0885894590975753, 1.4457953743975573, 1.8030012896975398, 2.160207204997521, 2.517413120297502, 2.8746190355974846, 3.2318249508974675, 3.589030866197449, 3.9462367814974297, 4.303442696797414, 4.660648612097397], [-2.302154153807738, -1.9449482385077563, -1.5877423232077752, -1.2305364079077932, -0.8733304926078113, -0.5161245773078291, -0.158918662007847, 0.19828725329213504, 0.5554931685921171, 0.9126990838920993, 1.269904999192081, 1.6271109144920635, 1.9843168297920455, 2.341522745092026, 2.698728660392009, 3.0559345756919916, 3.413140490991973, 3.770346406291955, 4.127552321591938, 4.48475823689192], [-2.4780445290132143, -2.120838613713233, -1.763632698413251, -1.4064267831132695, -1.0492208678132866, -0.6920149525133054, -0.3348090372133229, 0.022396878086659022, 0.3796027933866407, 0.7368087086866227, 1.094014623986605, 1.4512205392865876, 1.8084264545865687, 2.1656323698865503, 2.5228382851865327, 2.880044200486515, 3.237250115786497, 3.594456031086478, 3.951661946386461, 4.308867861686444], [-2.653934904218691, -2.2967289889187095, -1.939523073618727, -1.5823171583187454, -1.225111243018763, -0.8679053277187807, -0.5106994124187988, -0.1534934971188172, 0.20371241818116503, 0.5609183334811471, 0.9181242487811289, 1.2753301640811117, 1.6325360793810932, 1.989741994681074, 2.3469479099810564, 2.7041538252810398, 3.061359740581021, 3.418565655881002, 3.7757715711809854, 4.132977486480967], [-2.8298252794241665, -2.4726193641241854, -2.115413448824203, -1.7582075335242213, -1.4010016182242393, -1.0437957029242573, -0.686589787624275, -0.32938387232429317, 0.027822042975688965, 0.38502795827567116, 0.7422338735756532, 1.0994397888756353, 1.456645704175617, 1.8138516194755985, 2.171057534775581, 2.528263450075563, 2.885469365375545, 3.242675280675526, 3.599881195975508, 3.957087111275491], [-3.0057156546296433, -2.6485097393296617, -2.29130382402968, -1.9340979087296977, -1.576891993429716, -1.2196860781297332, -0.8624801628297513, -0.5052742475297689, -0.1480683322297875, 0.2091375830701948, 0.5663434983701767, 0.9235494136701589, 1.2807553289701405, 1.6379612442701221, 1.9951671595701046, 2.352373074870088, 2.7095789901700678, 3.06678490547005, 3.4239908207700323, 3.781196736070014], [-3.181606029835119, -2.8244001145351367, -2.467194199235156, -2.1099882839351736, -1.752782368635192, -1.39557645333521, -1.0383705380352275, -0.6811646227352453, -0.32395870743526356, 0.03324720786471824, 0.3904531231647006, 0.7476590384646832, 1.1048649537646646, 1.4620708690646458, 1.8192767843646287, 2.176482699664611, 2.5336886149645927, 2.8908945302645734, 3.2481004455645563, 3.6053063608645384], [-3.3574964050405955, -3.0002904897406126, -2.6430845744406324, -2.28587865914065, -1.9286727438406688, -1.5714668285406859, -1.2142609132407038, -0.8570549979407216, -0.4998490826407399, -0.14264316734075788, 0.21456274795922425, 0.5717686632592065, 0.9289745785591882, 1.2861804938591694, 1.643386409159152, 2.0005923244591344, 2.357798239759116, 2.715004155059098, 3.07221007035908, 3.4294159856590625], [-3.5333867802460723, -3.1761808649460894, -2.8189749496461087, -2.4617690343461263, -2.1045631190461442, -1.7473572037461618, -1.3901512884461797, -1.0329453731461977, -0.675739457846216, -0.31853354254623384, 0.03867237275374813, 0.3958782880537306, 0.7530842033537123, 1.1102901186536935, 1.467496033953676, 1.8247019492536585, 2.18190786455364, 2.539113779853621, 2.896319695153604, 3.253525610453586], [-3.7092771554515482, -3.352071240151566, -2.9948653248515846, -2.6376594095516026, -2.280453494251621, -1.9232475789516381, -1.566041663651656, -1.2088357483516738, -0.851629833051692, -0.49442391775171, -0.13721800245172805, 0.21998791284825436, 0.5771938281482359, 0.934399743448218, 1.2916056587482, 1.6488115740481826, 2.0060174893481633, 2.363223404648145, 2.7204293199481273, 3.07763523524811], [-3.8851675306570246, -3.527961615357042, -3.1707557000570605, -2.813549784757079, -2.456343869457097, -2.099137954157114, -1.7419320388571324, -1.3847261235571502, -1.0275202082571682, -0.6703142929571863, -0.31310837765720434, 0.04409753764277802, 0.4013034529427597, 0.7585093682427416, 1.1157152835427238, 1.4729211988427067, 1.830127114142687, 2.187333029442669, 2.544538944742652, 2.901744860042634], [-4.0610579058625005, -3.7038519905625176, -3.346646075262536, -2.9894401599625544, -2.632234244662573, -2.2750283293625904, -1.9178224140626088, -1.5606164987626263, -1.2034105834626447, -0.8462046681626626, -0.4889987528626806, -0.1317928375626981, 0.2254130777372837, 0.5826189930372649, 0.9398249083372475, 1.2970308236372299, 1.654236738937212, 2.0114426542371935, 2.3686485695371755, 2.725854484837158], [-4.236948281067977, -3.879742365767994, -3.522536450468013, -3.1653305351680308, -2.8081246198680487, -2.4509187045680667, -2.0937127892680842, -1.7365068739681027, -1.3793009586681206, -1.0220950433681386, -0.6648891280681566, -0.30768321276817423, 0.049522702531807405, 0.4067286178317887, 0.7639345331317712, 1.1211404484317535, 1.4783463637317356, 1.8355522790317171, 2.192758194331699, 2.549964109631681], [-4.412838656273451, -4.055632740973469, -3.6984268256734882, -3.341220910373507, -2.984014995073525, -2.626809079773543, -2.26960316447356, -1.9123972491735786, -1.5551913338735965, -1.1979854185736145, -0.8407795032736324, -0.48357358797365035, -0.1263676726736686, 0.23083824262631303, 0.5880441579262953, 0.9452500732262782, 1.3024559885262592, 1.6596619038262412, 2.0168678191262224, 2.3740737344262057], [-4.588729031478928, -4.231523116178947, -3.874317200878965, -3.517111285578984, -3.1599053702790014, -2.8026994549790194, -2.4454935396790374, -2.0882876243790554, -1.7310817090790733, -1.3738757937790909, -1.0166698784791088, -0.6594639631791263, -0.30225804787914484, 0.05494786742083663, 0.41215378272081926, 0.7693596980208023, 1.1265656133207829, 1.483771528620765, 1.840977443920746, 2.1981833592207294], [-4.764619406684405, -4.407413491384423, -4.050207576084441, -3.69300166078446, -3.3357957454844773, -2.9785898301844953, -2.6213839148845133, -2.2641779995845313, -1.9069720842845497, -1.5497661689845672, -1.1925602536845854, -0.8353543383846032, -0.4781484230846214, -0.12094250778463977, 0.2362634075153427, 0.593469322815325, 0.9506752381153069, 1.307881153415288, 1.6650870687152701, 2.022292984015252], [-4.94050978188988, -4.583303866589899, -4.226097951289917, -3.8688920359899357, -3.5116861206899537, -3.1544802053899708, -2.797274290089989, -2.4400683747900067, -2.082862459490025, -1.725656544190043, -1.368450628890061, -1.0112447135900786, -0.6540387982900975, -0.29683288299011534, 0.0603730323098669, 0.4175789476098497, 0.7747848629098305, 1.1319907782098122, 1.489196693509795, 1.8464026088097767], [-5.116400157095358, -4.759194241795375, -4.401988326495394, -4.044782411195412, -3.687576495895429, -3.3303705805954475, -2.973164665295465, -2.615958749995483, -2.2587528346955015, -1.9015469193955195, -1.5443410040955374, -1.187135088795555, -0.8299291734955736, -0.47272325819559124, -0.11551734289560944, 0.2416885724043738, 0.5988944877043544, 0.956100403004336, 1.3133063183043174, 1.6705122336043003], [-5.292290532300833, -4.93508461700085, -4.577878701700869, -4.220672786400888, -3.863466871100906, -3.506260955800924, -3.1490550405009414, -2.7918491252009594, -2.434643209900978, -2.077437294600996, -1.7202313793010133, -1.3630254640010313, -1.0058195487010493, -0.648613633401067, -0.29140771810108634, 0.06579819719889712, 0.42300411249887837, 0.7802100277988598, 1.1374159430988424, 1.494621858398824], [-5.46818090750631, -5.1109749922063274, -4.753769076906346, -4.396563161606363, -4.039357246306381, -3.6821513310063994, -3.3249454157064187, -2.9677395004064357, -2.610533585106454, -2.2533276698064717, -1.8961217545064901, -1.5389158392065072, -1.1817099239065256, -0.8245040086065439, -0.467298093306562, -0.11009217800657922, 0.24711373729340302, 0.6043196525933837, 0.9615255678933675, 1.3187314831933485]]}],\n",
       "                        {\"template\": {\"data\": {\"bar\": [{\"error_x\": {\"color\": \"#2a3f5f\"}, \"error_y\": {\"color\": \"#2a3f5f\"}, \"marker\": {\"line\": {\"color\": \"#E5ECF6\", \"width\": 0.5}}, \"type\": \"bar\"}], \"barpolar\": [{\"marker\": {\"line\": {\"color\": \"#E5ECF6\", \"width\": 0.5}}, \"type\": \"barpolar\"}], \"carpet\": [{\"aaxis\": {\"endlinecolor\": \"#2a3f5f\", \"gridcolor\": \"white\", \"linecolor\": \"white\", \"minorgridcolor\": \"white\", \"startlinecolor\": \"#2a3f5f\"}, \"baxis\": {\"endlinecolor\": \"#2a3f5f\", \"gridcolor\": \"white\", \"linecolor\": \"white\", \"minorgridcolor\": \"white\", \"startlinecolor\": \"#2a3f5f\"}, \"type\": \"carpet\"}], \"choropleth\": [{\"colorbar\": {\"outlinewidth\": 0, \"ticks\": \"\"}, \"type\": \"choropleth\"}], \"contour\": [{\"colorbar\": {\"outlinewidth\": 0, \"ticks\": \"\"}, \"colorscale\": [[0.0, \"#0d0887\"], [0.1111111111111111, \"#46039f\"], [0.2222222222222222, \"#7201a8\"], [0.3333333333333333, \"#9c179e\"], [0.4444444444444444, \"#bd3786\"], [0.5555555555555556, \"#d8576b\"], [0.6666666666666666, \"#ed7953\"], [0.7777777777777778, \"#fb9f3a\"], [0.8888888888888888, \"#fdca26\"], [1.0, \"#f0f921\"]], \"type\": \"contour\"}], \"contourcarpet\": [{\"colorbar\": {\"outlinewidth\": 0, \"ticks\": \"\"}, \"type\": \"contourcarpet\"}], \"heatmap\": [{\"colorbar\": {\"outlinewidth\": 0, \"ticks\": \"\"}, \"colorscale\": [[0.0, \"#0d0887\"], [0.1111111111111111, \"#46039f\"], [0.2222222222222222, \"#7201a8\"], [0.3333333333333333, \"#9c179e\"], [0.4444444444444444, \"#bd3786\"], [0.5555555555555556, \"#d8576b\"], [0.6666666666666666, \"#ed7953\"], [0.7777777777777778, \"#fb9f3a\"], [0.8888888888888888, \"#fdca26\"], [1.0, \"#f0f921\"]], \"type\": \"heatmap\"}], \"heatmapgl\": [{\"colorbar\": {\"outlinewidth\": 0, \"ticks\": \"\"}, \"colorscale\": [[0.0, \"#0d0887\"], [0.1111111111111111, \"#46039f\"], [0.2222222222222222, \"#7201a8\"], [0.3333333333333333, \"#9c179e\"], [0.4444444444444444, \"#bd3786\"], [0.5555555555555556, \"#d8576b\"], [0.6666666666666666, \"#ed7953\"], [0.7777777777777778, \"#fb9f3a\"], [0.8888888888888888, \"#fdca26\"], [1.0, \"#f0f921\"]], \"type\": \"heatmapgl\"}], \"histogram\": [{\"marker\": {\"colorbar\": {\"outlinewidth\": 0, \"ticks\": \"\"}}, \"type\": \"histogram\"}], \"histogram2d\": [{\"colorbar\": {\"outlinewidth\": 0, \"ticks\": \"\"}, \"colorscale\": [[0.0, \"#0d0887\"], [0.1111111111111111, \"#46039f\"], [0.2222222222222222, \"#7201a8\"], [0.3333333333333333, \"#9c179e\"], [0.4444444444444444, \"#bd3786\"], [0.5555555555555556, \"#d8576b\"], [0.6666666666666666, \"#ed7953\"], [0.7777777777777778, \"#fb9f3a\"], [0.8888888888888888, \"#fdca26\"], [1.0, \"#f0f921\"]], \"type\": \"histogram2d\"}], \"histogram2dcontour\": [{\"colorbar\": {\"outlinewidth\": 0, \"ticks\": \"\"}, \"colorscale\": [[0.0, \"#0d0887\"], [0.1111111111111111, \"#46039f\"], [0.2222222222222222, \"#7201a8\"], [0.3333333333333333, \"#9c179e\"], [0.4444444444444444, \"#bd3786\"], [0.5555555555555556, \"#d8576b\"], [0.6666666666666666, \"#ed7953\"], [0.7777777777777778, \"#fb9f3a\"], [0.8888888888888888, \"#fdca26\"], [1.0, \"#f0f921\"]], \"type\": \"histogram2dcontour\"}], \"mesh3d\": [{\"colorbar\": {\"outlinewidth\": 0, \"ticks\": \"\"}, \"type\": \"mesh3d\"}], \"parcoords\": [{\"line\": {\"colorbar\": {\"outlinewidth\": 0, \"ticks\": \"\"}}, \"type\": \"parcoords\"}], \"pie\": [{\"automargin\": true, \"type\": \"pie\"}], \"scatter\": [{\"marker\": {\"colorbar\": {\"outlinewidth\": 0, \"ticks\": \"\"}}, \"type\": \"scatter\"}], \"scatter3d\": [{\"line\": {\"colorbar\": {\"outlinewidth\": 0, \"ticks\": \"\"}}, \"marker\": {\"colorbar\": {\"outlinewidth\": 0, \"ticks\": \"\"}}, \"type\": \"scatter3d\"}], \"scattercarpet\": [{\"marker\": {\"colorbar\": {\"outlinewidth\": 0, \"ticks\": \"\"}}, \"type\": \"scattercarpet\"}], \"scattergeo\": [{\"marker\": {\"colorbar\": {\"outlinewidth\": 0, \"ticks\": \"\"}}, \"type\": \"scattergeo\"}], \"scattergl\": [{\"marker\": {\"colorbar\": {\"outlinewidth\": 0, \"ticks\": \"\"}}, \"type\": \"scattergl\"}], \"scattermapbox\": [{\"marker\": {\"colorbar\": {\"outlinewidth\": 0, \"ticks\": \"\"}}, \"type\": \"scattermapbox\"}], \"scatterpolar\": [{\"marker\": {\"colorbar\": {\"outlinewidth\": 0, \"ticks\": \"\"}}, \"type\": \"scatterpolar\"}], \"scatterpolargl\": [{\"marker\": {\"colorbar\": {\"outlinewidth\": 0, \"ticks\": \"\"}}, \"type\": \"scatterpolargl\"}], \"scatterternary\": [{\"marker\": {\"colorbar\": {\"outlinewidth\": 0, \"ticks\": \"\"}}, \"type\": \"scatterternary\"}], \"surface\": [{\"colorbar\": {\"outlinewidth\": 0, \"ticks\": \"\"}, \"colorscale\": [[0.0, \"#0d0887\"], [0.1111111111111111, \"#46039f\"], [0.2222222222222222, \"#7201a8\"], [0.3333333333333333, \"#9c179e\"], [0.4444444444444444, \"#bd3786\"], [0.5555555555555556, \"#d8576b\"], [0.6666666666666666, \"#ed7953\"], [0.7777777777777778, \"#fb9f3a\"], [0.8888888888888888, \"#fdca26\"], [1.0, \"#f0f921\"]], \"type\": \"surface\"}], \"table\": [{\"cells\": {\"fill\": {\"color\": \"#EBF0F8\"}, \"line\": {\"color\": \"white\"}}, \"header\": {\"fill\": {\"color\": \"#C8D4E3\"}, \"line\": {\"color\": \"white\"}}, \"type\": \"table\"}]}, \"layout\": {\"annotationdefaults\": {\"arrowcolor\": \"#2a3f5f\", \"arrowhead\": 0, \"arrowwidth\": 1}, \"coloraxis\": {\"colorbar\": {\"outlinewidth\": 0, \"ticks\": \"\"}}, \"colorscale\": {\"diverging\": [[0, \"#8e0152\"], [0.1, \"#c51b7d\"], [0.2, \"#de77ae\"], [0.3, \"#f1b6da\"], [0.4, \"#fde0ef\"], [0.5, \"#f7f7f7\"], [0.6, \"#e6f5d0\"], [0.7, \"#b8e186\"], [0.8, \"#7fbc41\"], [0.9, \"#4d9221\"], [1, \"#276419\"]], \"sequential\": [[0.0, \"#0d0887\"], [0.1111111111111111, \"#46039f\"], [0.2222222222222222, \"#7201a8\"], [0.3333333333333333, \"#9c179e\"], [0.4444444444444444, \"#bd3786\"], [0.5555555555555556, \"#d8576b\"], [0.6666666666666666, \"#ed7953\"], [0.7777777777777778, \"#fb9f3a\"], [0.8888888888888888, \"#fdca26\"], [1.0, \"#f0f921\"]], \"sequentialminus\": [[0.0, \"#0d0887\"], [0.1111111111111111, \"#46039f\"], [0.2222222222222222, \"#7201a8\"], [0.3333333333333333, \"#9c179e\"], [0.4444444444444444, \"#bd3786\"], [0.5555555555555556, \"#d8576b\"], [0.6666666666666666, \"#ed7953\"], [0.7777777777777778, \"#fb9f3a\"], [0.8888888888888888, \"#fdca26\"], [1.0, \"#f0f921\"]]}, \"colorway\": [\"#636efa\", \"#EF553B\", \"#00cc96\", \"#ab63fa\", \"#FFA15A\", \"#19d3f3\", \"#FF6692\", \"#B6E880\", \"#FF97FF\", \"#FECB52\"], \"font\": {\"color\": \"#2a3f5f\"}, \"geo\": {\"bgcolor\": \"white\", \"lakecolor\": \"white\", \"landcolor\": \"#E5ECF6\", \"showlakes\": true, \"showland\": true, \"subunitcolor\": \"white\"}, \"hoverlabel\": {\"align\": \"left\"}, \"hovermode\": \"closest\", \"mapbox\": {\"style\": \"light\"}, \"paper_bgcolor\": \"white\", \"plot_bgcolor\": \"#E5ECF6\", \"polar\": {\"angularaxis\": {\"gridcolor\": \"white\", \"linecolor\": \"white\", \"ticks\": \"\"}, \"bgcolor\": \"#E5ECF6\", \"radialaxis\": {\"gridcolor\": \"white\", \"linecolor\": \"white\", \"ticks\": \"\"}}, \"scene\": {\"xaxis\": {\"backgroundcolor\": \"#E5ECF6\", \"gridcolor\": \"white\", \"gridwidth\": 2, \"linecolor\": \"white\", \"showbackground\": true, \"ticks\": \"\", \"zerolinecolor\": \"white\"}, \"yaxis\": {\"backgroundcolor\": \"#E5ECF6\", \"gridcolor\": \"white\", \"gridwidth\": 2, \"linecolor\": \"white\", \"showbackground\": true, \"ticks\": \"\", \"zerolinecolor\": \"white\"}, \"zaxis\": {\"backgroundcolor\": \"#E5ECF6\", \"gridcolor\": \"white\", \"gridwidth\": 2, \"linecolor\": \"white\", \"showbackground\": true, \"ticks\": \"\", \"zerolinecolor\": \"white\"}}, \"shapedefaults\": {\"line\": {\"color\": \"#2a3f5f\"}}, \"ternary\": {\"aaxis\": {\"gridcolor\": \"white\", \"linecolor\": \"white\", \"ticks\": \"\"}, \"baxis\": {\"gridcolor\": \"white\", \"linecolor\": \"white\", \"ticks\": \"\"}, \"bgcolor\": \"#E5ECF6\", \"caxis\": {\"gridcolor\": \"white\", \"linecolor\": \"white\", \"ticks\": \"\"}}, \"title\": {\"x\": 0.05}, \"xaxis\": {\"automargin\": true, \"gridcolor\": \"white\", \"linecolor\": \"white\", \"ticks\": \"\", \"title\": {\"standoff\": 15}, \"zerolinecolor\": \"white\", \"zerolinewidth\": 2}, \"yaxis\": {\"automargin\": true, \"gridcolor\": \"white\", \"linecolor\": \"white\", \"ticks\": \"\", \"title\": {\"standoff\": 15}, \"zerolinecolor\": \"white\", \"zerolinewidth\": 2}}}, \"title\": {\"text\": \"Decision function\"}, \"width\": 600},\n",
       "                        {\"responsive\": true}\n",
       "                    ).then(function(){\n",
       "                            \n",
       "var gd = document.getElementById('e29304d0-a47d-430e-b208-3d8e00344c11');\n",
       "var x = new MutationObserver(function (mutations, observer) {{\n",
       "        var display = window.getComputedStyle(gd).display;\n",
       "        if (!display || display === 'none') {{\n",
       "            console.log([gd, 'removed!']);\n",
       "            Plotly.purge(gd);\n",
       "            observer.disconnect();\n",
       "        }}\n",
       "}});\n",
       "\n",
       "// Listen for the removal of the full notebook cells\n",
       "var notebookContainer = gd.closest('#notebook-container');\n",
       "if (notebookContainer) {{\n",
       "    x.observe(notebookContainer, {childList: true});\n",
       "}}\n",
       "\n",
       "// Listen for the clearing of the current output cell\n",
       "var outputEl = gd.closest('.output');\n",
       "if (outputEl) {{\n",
       "    x.observe(outputEl, {childList: true});\n",
       "}}\n",
       "\n",
       "                        })\n",
       "                };\n",
       "                });\n",
       "            </script>\n",
       "        </div>"
      ]
     },
     "metadata": {},
     "output_type": "display_data"
    }
   ],
   "source": [
    "# 20 uniform points in the unit square\n",
    "# noise is added to the coordinates of the points\n",
    "\n",
    "np.random.seed(2020)\n",
    "X = 2*np.random.rand(32, 2) - 1\n",
    "\n",
    "y = np.zeros(X.shape[0])\n",
    "\n",
    "# initialize labels\n",
    "for i in range(0,X.shape[0]):\n",
    "    y[i] = labels_line(X[i,:])\n",
    "\n",
    "# randomly perturb the points X\n",
    "for i in range(0,X.shape[0]):\n",
    "    X[i,:] = X[i,:] + ( 2*np.random.rand(1, 2) - 1 ) / 2\n",
    "\n",
    "# fit the model\n",
    "clf = svm.SVC(kernel=\"linear\")\n",
    "clf.fit(X, y)\n",
    "\n",
    "# plot\n",
    "fig = go.Figure()\n",
    "plot_data_decision_function(X, y, clf, fig, \"Decision function\", 1.9, 1.5)\n",
    "fig.show()"
   ]
  },
  {
   "cell_type": "code",
   "execution_count": 41,
   "metadata": {},
   "outputs": [],
   "source": [
    "fig.write_html('../_includes/svm3.html',full_html=False)"
   ]
  },
  {
   "cell_type": "code",
   "execution_count": 12,
   "metadata": {
    "colab": {
     "base_uri": "https://localhost:8080/",
     "height": 542
    },
    "colab_type": "code",
    "id": "KPDBcUSu7f88",
    "outputId": "d9bf93fe-f76f-4ffc-dbd0-4020e2f9a434"
   },
   "outputs": [
    {
     "data": {
      "application/vnd.plotly.v1+json": {
       "config": {
        "plotlyServerURL": "https://plot.ly"
       },
       "data": [
        {
         "marker": {
          "color": [
           1,
           1,
           1,
           -1,
           1,
           -1,
           1,
           -1,
           -1,
           -1,
           1,
           -1,
           -1,
           -1,
           -1,
           -1,
           -1,
           1,
           -1,
           -1,
           -1,
           -1,
           -1,
           1,
           -1,
           1,
           1,
           1,
           -1,
           1,
           -1,
           1
          ],
          "colorscale": [
           [
            0,
            "rgb(103,0,31)"
           ],
           [
            0.1,
            "rgb(178,24,43)"
           ],
           [
            0.2,
            "rgb(214,96,77)"
           ],
           [
            0.3,
            "rgb(244,165,130)"
           ],
           [
            0.4,
            "rgb(253,219,199)"
           ],
           [
            0.5,
            "rgb(247,247,247)"
           ],
           [
            0.6,
            "rgb(209,229,240)"
           ],
           [
            0.7,
            "rgb(146,197,222)"
           ],
           [
            0.8,
            "rgb(67,147,195)"
           ],
           [
            0.9,
            "rgb(33,102,172)"
           ],
           [
            1,
            "rgb(5,48,97)"
           ]
          ],
          "size": 10
         },
         "mode": "markers",
         "name": "Data",
         "type": "scatter",
         "x": [
          0.9553637840845721,
          0.413774153732544,
          -0.08831908338511785,
          -0.716311572309574,
          0.8384759927653522,
          -0.9189032643724722,
          0.9252022719166835,
          -0.7399517311510524,
          -0.48925060555223643,
          -0.2571837448661536,
          1.2472725791348636,
          0.510513677909929,
          -0.04406140907115674,
          -0.4526388712024112,
          -0.7410664407399503,
          -0.22886574311621488,
          0.17911530841163925,
          0.37731160017527965,
          -0.06378794718172476,
          -0.8489738247618893,
          -0.3427115406107284,
          0.9447028381045965,
          -0.45863108539764097,
          -0.18525916158486833,
          -0.4153494280377563,
          0.0796861975497053,
          0.5519713431835059,
          -0.4458606043168418,
          0.25925994466408386,
          0.47631133533063985,
          0.1819529446408592,
          0.278359410797857
         ],
         "y": [
          0.27605812463923307,
          -0.12479648779441244,
          -0.1675941715729361,
          -0.6334083046840374,
          -1.169931177950523,
          0.6827014390184523,
          0.02753319544241517,
          -0.03178097011285652,
          -0.19986741088871618,
          -0.7431521635159125,
          -1.2112596885582636,
          1.3537377109563529,
          0.45351038797141097,
          -0.1904827831957029,
          -0.314642087224532,
          0.5653191431978359,
          -0.3273836422608506,
          0.2609246378791865,
          0.7809686257402683,
          0.3500558857040055,
          1.0279165085806263,
          1.0891625473328055,
          -1.165262851885486,
          0.5099443861470127,
          0.020659018247940475,
          -0.2385031665809073,
          -0.45063353486546276,
          -1.1065515039848557,
          0.8790992552575336,
          0.032823644523019335,
          0.7838474218040596,
          0.2937141868189893
         ]
        },
        {
         "mode": "lines",
         "name": "Decision line",
         "type": "scatter",
         "x": [
          -1,
          1
         ],
         "y": [
          -1.9657540624795429,
          1.240841746350025
         ]
        },
        {
         "line": {
          "dash": "dash"
         },
         "mode": "lines",
         "name": "Support line",
         "type": "scatter",
         "x": [
          -1,
          1
         ],
         "y": [
          -1.068065734407858,
          2.13853007442171
         ]
        },
        {
         "line": {
          "dash": "dash"
         },
         "mode": "lines",
         "name": "Support line",
         "type": "scatter",
         "x": [
          -1,
          1
         ],
         "y": [
          -2.863442390551228,
          0.3431534182783398
         ]
        }
       ],
       "layout": {
        "template": {
         "data": {
          "bar": [
           {
            "error_x": {
             "color": "#2a3f5f"
            },
            "error_y": {
             "color": "#2a3f5f"
            },
            "marker": {
             "line": {
              "color": "#E5ECF6",
              "width": 0.5
             }
            },
            "type": "bar"
           }
          ],
          "barpolar": [
           {
            "marker": {
             "line": {
              "color": "#E5ECF6",
              "width": 0.5
             }
            },
            "type": "barpolar"
           }
          ],
          "carpet": [
           {
            "aaxis": {
             "endlinecolor": "#2a3f5f",
             "gridcolor": "white",
             "linecolor": "white",
             "minorgridcolor": "white",
             "startlinecolor": "#2a3f5f"
            },
            "baxis": {
             "endlinecolor": "#2a3f5f",
             "gridcolor": "white",
             "linecolor": "white",
             "minorgridcolor": "white",
             "startlinecolor": "#2a3f5f"
            },
            "type": "carpet"
           }
          ],
          "choropleth": [
           {
            "colorbar": {
             "outlinewidth": 0,
             "ticks": ""
            },
            "type": "choropleth"
           }
          ],
          "contour": [
           {
            "colorbar": {
             "outlinewidth": 0,
             "ticks": ""
            },
            "colorscale": [
             [
              0,
              "#0d0887"
             ],
             [
              0.1111111111111111,
              "#46039f"
             ],
             [
              0.2222222222222222,
              "#7201a8"
             ],
             [
              0.3333333333333333,
              "#9c179e"
             ],
             [
              0.4444444444444444,
              "#bd3786"
             ],
             [
              0.5555555555555556,
              "#d8576b"
             ],
             [
              0.6666666666666666,
              "#ed7953"
             ],
             [
              0.7777777777777778,
              "#fb9f3a"
             ],
             [
              0.8888888888888888,
              "#fdca26"
             ],
             [
              1,
              "#f0f921"
             ]
            ],
            "type": "contour"
           }
          ],
          "contourcarpet": [
           {
            "colorbar": {
             "outlinewidth": 0,
             "ticks": ""
            },
            "type": "contourcarpet"
           }
          ],
          "heatmap": [
           {
            "colorbar": {
             "outlinewidth": 0,
             "ticks": ""
            },
            "colorscale": [
             [
              0,
              "#0d0887"
             ],
             [
              0.1111111111111111,
              "#46039f"
             ],
             [
              0.2222222222222222,
              "#7201a8"
             ],
             [
              0.3333333333333333,
              "#9c179e"
             ],
             [
              0.4444444444444444,
              "#bd3786"
             ],
             [
              0.5555555555555556,
              "#d8576b"
             ],
             [
              0.6666666666666666,
              "#ed7953"
             ],
             [
              0.7777777777777778,
              "#fb9f3a"
             ],
             [
              0.8888888888888888,
              "#fdca26"
             ],
             [
              1,
              "#f0f921"
             ]
            ],
            "type": "heatmap"
           }
          ],
          "heatmapgl": [
           {
            "colorbar": {
             "outlinewidth": 0,
             "ticks": ""
            },
            "colorscale": [
             [
              0,
              "#0d0887"
             ],
             [
              0.1111111111111111,
              "#46039f"
             ],
             [
              0.2222222222222222,
              "#7201a8"
             ],
             [
              0.3333333333333333,
              "#9c179e"
             ],
             [
              0.4444444444444444,
              "#bd3786"
             ],
             [
              0.5555555555555556,
              "#d8576b"
             ],
             [
              0.6666666666666666,
              "#ed7953"
             ],
             [
              0.7777777777777778,
              "#fb9f3a"
             ],
             [
              0.8888888888888888,
              "#fdca26"
             ],
             [
              1,
              "#f0f921"
             ]
            ],
            "type": "heatmapgl"
           }
          ],
          "histogram": [
           {
            "marker": {
             "colorbar": {
              "outlinewidth": 0,
              "ticks": ""
             }
            },
            "type": "histogram"
           }
          ],
          "histogram2d": [
           {
            "colorbar": {
             "outlinewidth": 0,
             "ticks": ""
            },
            "colorscale": [
             [
              0,
              "#0d0887"
             ],
             [
              0.1111111111111111,
              "#46039f"
             ],
             [
              0.2222222222222222,
              "#7201a8"
             ],
             [
              0.3333333333333333,
              "#9c179e"
             ],
             [
              0.4444444444444444,
              "#bd3786"
             ],
             [
              0.5555555555555556,
              "#d8576b"
             ],
             [
              0.6666666666666666,
              "#ed7953"
             ],
             [
              0.7777777777777778,
              "#fb9f3a"
             ],
             [
              0.8888888888888888,
              "#fdca26"
             ],
             [
              1,
              "#f0f921"
             ]
            ],
            "type": "histogram2d"
           }
          ],
          "histogram2dcontour": [
           {
            "colorbar": {
             "outlinewidth": 0,
             "ticks": ""
            },
            "colorscale": [
             [
              0,
              "#0d0887"
             ],
             [
              0.1111111111111111,
              "#46039f"
             ],
             [
              0.2222222222222222,
              "#7201a8"
             ],
             [
              0.3333333333333333,
              "#9c179e"
             ],
             [
              0.4444444444444444,
              "#bd3786"
             ],
             [
              0.5555555555555556,
              "#d8576b"
             ],
             [
              0.6666666666666666,
              "#ed7953"
             ],
             [
              0.7777777777777778,
              "#fb9f3a"
             ],
             [
              0.8888888888888888,
              "#fdca26"
             ],
             [
              1,
              "#f0f921"
             ]
            ],
            "type": "histogram2dcontour"
           }
          ],
          "mesh3d": [
           {
            "colorbar": {
             "outlinewidth": 0,
             "ticks": ""
            },
            "type": "mesh3d"
           }
          ],
          "parcoords": [
           {
            "line": {
             "colorbar": {
              "outlinewidth": 0,
              "ticks": ""
             }
            },
            "type": "parcoords"
           }
          ],
          "pie": [
           {
            "automargin": true,
            "type": "pie"
           }
          ],
          "scatter": [
           {
            "marker": {
             "colorbar": {
              "outlinewidth": 0,
              "ticks": ""
             }
            },
            "type": "scatter"
           }
          ],
          "scatter3d": [
           {
            "line": {
             "colorbar": {
              "outlinewidth": 0,
              "ticks": ""
             }
            },
            "marker": {
             "colorbar": {
              "outlinewidth": 0,
              "ticks": ""
             }
            },
            "type": "scatter3d"
           }
          ],
          "scattercarpet": [
           {
            "marker": {
             "colorbar": {
              "outlinewidth": 0,
              "ticks": ""
             }
            },
            "type": "scattercarpet"
           }
          ],
          "scattergeo": [
           {
            "marker": {
             "colorbar": {
              "outlinewidth": 0,
              "ticks": ""
             }
            },
            "type": "scattergeo"
           }
          ],
          "scattergl": [
           {
            "marker": {
             "colorbar": {
              "outlinewidth": 0,
              "ticks": ""
             }
            },
            "type": "scattergl"
           }
          ],
          "scattermapbox": [
           {
            "marker": {
             "colorbar": {
              "outlinewidth": 0,
              "ticks": ""
             }
            },
            "type": "scattermapbox"
           }
          ],
          "scatterpolar": [
           {
            "marker": {
             "colorbar": {
              "outlinewidth": 0,
              "ticks": ""
             }
            },
            "type": "scatterpolar"
           }
          ],
          "scatterpolargl": [
           {
            "marker": {
             "colorbar": {
              "outlinewidth": 0,
              "ticks": ""
             }
            },
            "type": "scatterpolargl"
           }
          ],
          "scatterternary": [
           {
            "marker": {
             "colorbar": {
              "outlinewidth": 0,
              "ticks": ""
             }
            },
            "type": "scatterternary"
           }
          ],
          "surface": [
           {
            "colorbar": {
             "outlinewidth": 0,
             "ticks": ""
            },
            "colorscale": [
             [
              0,
              "#0d0887"
             ],
             [
              0.1111111111111111,
              "#46039f"
             ],
             [
              0.2222222222222222,
              "#7201a8"
             ],
             [
              0.3333333333333333,
              "#9c179e"
             ],
             [
              0.4444444444444444,
              "#bd3786"
             ],
             [
              0.5555555555555556,
              "#d8576b"
             ],
             [
              0.6666666666666666,
              "#ed7953"
             ],
             [
              0.7777777777777778,
              "#fb9f3a"
             ],
             [
              0.8888888888888888,
              "#fdca26"
             ],
             [
              1,
              "#f0f921"
             ]
            ],
            "type": "surface"
           }
          ],
          "table": [
           {
            "cells": {
             "fill": {
              "color": "#EBF0F8"
             },
             "line": {
              "color": "white"
             }
            },
            "header": {
             "fill": {
              "color": "#C8D4E3"
             },
             "line": {
              "color": "white"
             }
            },
            "type": "table"
           }
          ]
         },
         "layout": {
          "annotationdefaults": {
           "arrowcolor": "#2a3f5f",
           "arrowhead": 0,
           "arrowwidth": 1
          },
          "coloraxis": {
           "colorbar": {
            "outlinewidth": 0,
            "ticks": ""
           }
          },
          "colorscale": {
           "diverging": [
            [
             0,
             "#8e0152"
            ],
            [
             0.1,
             "#c51b7d"
            ],
            [
             0.2,
             "#de77ae"
            ],
            [
             0.3,
             "#f1b6da"
            ],
            [
             0.4,
             "#fde0ef"
            ],
            [
             0.5,
             "#f7f7f7"
            ],
            [
             0.6,
             "#e6f5d0"
            ],
            [
             0.7,
             "#b8e186"
            ],
            [
             0.8,
             "#7fbc41"
            ],
            [
             0.9,
             "#4d9221"
            ],
            [
             1,
             "#276419"
            ]
           ],
           "sequential": [
            [
             0,
             "#0d0887"
            ],
            [
             0.1111111111111111,
             "#46039f"
            ],
            [
             0.2222222222222222,
             "#7201a8"
            ],
            [
             0.3333333333333333,
             "#9c179e"
            ],
            [
             0.4444444444444444,
             "#bd3786"
            ],
            [
             0.5555555555555556,
             "#d8576b"
            ],
            [
             0.6666666666666666,
             "#ed7953"
            ],
            [
             0.7777777777777778,
             "#fb9f3a"
            ],
            [
             0.8888888888888888,
             "#fdca26"
            ],
            [
             1,
             "#f0f921"
            ]
           ],
           "sequentialminus": [
            [
             0,
             "#0d0887"
            ],
            [
             0.1111111111111111,
             "#46039f"
            ],
            [
             0.2222222222222222,
             "#7201a8"
            ],
            [
             0.3333333333333333,
             "#9c179e"
            ],
            [
             0.4444444444444444,
             "#bd3786"
            ],
            [
             0.5555555555555556,
             "#d8576b"
            ],
            [
             0.6666666666666666,
             "#ed7953"
            ],
            [
             0.7777777777777778,
             "#fb9f3a"
            ],
            [
             0.8888888888888888,
             "#fdca26"
            ],
            [
             1,
             "#f0f921"
            ]
           ]
          },
          "colorway": [
           "#636efa",
           "#EF553B",
           "#00cc96",
           "#ab63fa",
           "#FFA15A",
           "#19d3f3",
           "#FF6692",
           "#B6E880",
           "#FF97FF",
           "#FECB52"
          ],
          "font": {
           "color": "#2a3f5f"
          },
          "geo": {
           "bgcolor": "white",
           "lakecolor": "white",
           "landcolor": "#E5ECF6",
           "showlakes": true,
           "showland": true,
           "subunitcolor": "white"
          },
          "hoverlabel": {
           "align": "left"
          },
          "hovermode": "closest",
          "mapbox": {
           "style": "light"
          },
          "paper_bgcolor": "white",
          "plot_bgcolor": "#E5ECF6",
          "polar": {
           "angularaxis": {
            "gridcolor": "white",
            "linecolor": "white",
            "ticks": ""
           },
           "bgcolor": "#E5ECF6",
           "radialaxis": {
            "gridcolor": "white",
            "linecolor": "white",
            "ticks": ""
           }
          },
          "scene": {
           "xaxis": {
            "backgroundcolor": "#E5ECF6",
            "gridcolor": "white",
            "gridwidth": 2,
            "linecolor": "white",
            "showbackground": true,
            "ticks": "",
            "zerolinecolor": "white"
           },
           "yaxis": {
            "backgroundcolor": "#E5ECF6",
            "gridcolor": "white",
            "gridwidth": 2,
            "linecolor": "white",
            "showbackground": true,
            "ticks": "",
            "zerolinecolor": "white"
           },
           "zaxis": {
            "backgroundcolor": "#E5ECF6",
            "gridcolor": "white",
            "gridwidth": 2,
            "linecolor": "white",
            "showbackground": true,
            "ticks": "",
            "zerolinecolor": "white"
           }
          },
          "shapedefaults": {
           "line": {
            "color": "#2a3f5f"
           }
          },
          "ternary": {
           "aaxis": {
            "gridcolor": "white",
            "linecolor": "white",
            "ticks": ""
           },
           "baxis": {
            "gridcolor": "white",
            "linecolor": "white",
            "ticks": ""
           },
           "bgcolor": "#E5ECF6",
           "caxis": {
            "gridcolor": "white",
            "linecolor": "white",
            "ticks": ""
           }
          },
          "title": {
           "x": 0.05
          },
          "xaxis": {
           "automargin": true,
           "gridcolor": "white",
           "linecolor": "white",
           "ticks": "",
           "title": {
            "standoff": 15
           },
           "zerolinecolor": "white",
           "zerolinewidth": 2
          },
          "yaxis": {
           "automargin": true,
           "gridcolor": "white",
           "linecolor": "white",
           "ticks": "",
           "title": {
            "standoff": 15
           },
           "zerolinecolor": "white",
           "zerolinewidth": 2
          }
         }
        },
        "title": {
         "text": "With noise"
        },
        "width": 600
       }
      },
      "text/html": [
       "<div>\n",
       "        \n",
       "        \n",
       "            <div id=\"b1bc2235-93db-4edb-8a78-966db32dd3d9\" class=\"plotly-graph-div\" style=\"height:525px; width:600px;\"></div>\n",
       "            <script type=\"text/javascript\">\n",
       "                require([\"plotly\"], function(Plotly) {\n",
       "                    window.PLOTLYENV=window.PLOTLYENV || {};\n",
       "                    \n",
       "                if (document.getElementById(\"b1bc2235-93db-4edb-8a78-966db32dd3d9\")) {\n",
       "                    Plotly.newPlot(\n",
       "                        'b1bc2235-93db-4edb-8a78-966db32dd3d9',\n",
       "                        [{\"marker\": {\"color\": [1.0, 1.0, 1.0, -1.0, 1.0, -1.0, 1.0, -1.0, -1.0, -1.0, 1.0, -1.0, -1.0, -1.0, -1.0, -1.0, -1.0, 1.0, -1.0, -1.0, -1.0, -1.0, -1.0, 1.0, -1.0, 1.0, 1.0, 1.0, -1.0, 1.0, -1.0, 1.0], \"colorscale\": [[0.0, \"rgb(103,0,31)\"], [0.1, \"rgb(178,24,43)\"], [0.2, \"rgb(214,96,77)\"], [0.3, \"rgb(244,165,130)\"], [0.4, \"rgb(253,219,199)\"], [0.5, \"rgb(247,247,247)\"], [0.6, \"rgb(209,229,240)\"], [0.7, \"rgb(146,197,222)\"], [0.8, \"rgb(67,147,195)\"], [0.9, \"rgb(33,102,172)\"], [1.0, \"rgb(5,48,97)\"]], \"size\": 10}, \"mode\": \"markers\", \"name\": \"Data\", \"type\": \"scatter\", \"x\": [0.9553637840845721, 0.413774153732544, -0.08831908338511785, -0.716311572309574, 0.8384759927653522, -0.9189032643724722, 0.9252022719166835, -0.7399517311510524, -0.48925060555223643, -0.2571837448661536, 1.2472725791348636, 0.510513677909929, -0.04406140907115674, -0.4526388712024112, -0.7410664407399503, -0.22886574311621488, 0.17911530841163925, 0.37731160017527965, -0.06378794718172476, -0.8489738247618893, -0.3427115406107284, 0.9447028381045965, -0.45863108539764097, -0.18525916158486833, -0.4153494280377563, 0.0796861975497053, 0.5519713431835059, -0.4458606043168418, 0.25925994466408386, 0.47631133533063985, 0.1819529446408592, 0.278359410797857], \"y\": [0.27605812463923307, -0.12479648779441244, -0.1675941715729361, -0.6334083046840374, -1.169931177950523, 0.6827014390184523, 0.02753319544241517, -0.03178097011285652, -0.19986741088871618, -0.7431521635159125, -1.2112596885582636, 1.3537377109563529, 0.45351038797141097, -0.1904827831957029, -0.314642087224532, 0.5653191431978359, -0.3273836422608506, 0.2609246378791865, 0.7809686257402683, 0.3500558857040055, 1.0279165085806263, 1.0891625473328055, -1.165262851885486, 0.5099443861470127, 0.020659018247940475, -0.2385031665809073, -0.45063353486546276, -1.1065515039848557, 0.8790992552575336, 0.032823644523019335, 0.7838474218040596, 0.2937141868189893]}, {\"mode\": \"lines\", \"name\": \"Decision line\", \"type\": \"scatter\", \"x\": [-1.0, 1.0], \"y\": [-1.9657540624795429, 1.240841746350025]}, {\"line\": {\"dash\": \"dash\"}, \"mode\": \"lines\", \"name\": \"Support line\", \"type\": \"scatter\", \"x\": [-1.0, 1.0], \"y\": [-1.068065734407858, 2.13853007442171]}, {\"line\": {\"dash\": \"dash\"}, \"mode\": \"lines\", \"name\": \"Support line\", \"type\": \"scatter\", \"x\": [-1.0, 1.0], \"y\": [-2.863442390551228, 0.3431534182783398]}],\n",
       "                        {\"template\": {\"data\": {\"bar\": [{\"error_x\": {\"color\": \"#2a3f5f\"}, \"error_y\": {\"color\": \"#2a3f5f\"}, \"marker\": {\"line\": {\"color\": \"#E5ECF6\", \"width\": 0.5}}, \"type\": \"bar\"}], \"barpolar\": [{\"marker\": {\"line\": {\"color\": \"#E5ECF6\", \"width\": 0.5}}, \"type\": \"barpolar\"}], \"carpet\": [{\"aaxis\": {\"endlinecolor\": \"#2a3f5f\", \"gridcolor\": \"white\", \"linecolor\": \"white\", \"minorgridcolor\": \"white\", \"startlinecolor\": \"#2a3f5f\"}, \"baxis\": {\"endlinecolor\": \"#2a3f5f\", \"gridcolor\": \"white\", \"linecolor\": \"white\", \"minorgridcolor\": \"white\", \"startlinecolor\": \"#2a3f5f\"}, \"type\": \"carpet\"}], \"choropleth\": [{\"colorbar\": {\"outlinewidth\": 0, \"ticks\": \"\"}, \"type\": \"choropleth\"}], \"contour\": [{\"colorbar\": {\"outlinewidth\": 0, \"ticks\": \"\"}, \"colorscale\": [[0.0, \"#0d0887\"], [0.1111111111111111, \"#46039f\"], [0.2222222222222222, \"#7201a8\"], [0.3333333333333333, \"#9c179e\"], [0.4444444444444444, \"#bd3786\"], [0.5555555555555556, \"#d8576b\"], [0.6666666666666666, \"#ed7953\"], [0.7777777777777778, \"#fb9f3a\"], [0.8888888888888888, \"#fdca26\"], [1.0, \"#f0f921\"]], \"type\": \"contour\"}], \"contourcarpet\": [{\"colorbar\": {\"outlinewidth\": 0, \"ticks\": \"\"}, \"type\": \"contourcarpet\"}], \"heatmap\": [{\"colorbar\": {\"outlinewidth\": 0, \"ticks\": \"\"}, \"colorscale\": [[0.0, \"#0d0887\"], [0.1111111111111111, \"#46039f\"], [0.2222222222222222, \"#7201a8\"], [0.3333333333333333, \"#9c179e\"], [0.4444444444444444, \"#bd3786\"], [0.5555555555555556, \"#d8576b\"], [0.6666666666666666, \"#ed7953\"], [0.7777777777777778, \"#fb9f3a\"], [0.8888888888888888, \"#fdca26\"], [1.0, \"#f0f921\"]], \"type\": \"heatmap\"}], \"heatmapgl\": [{\"colorbar\": {\"outlinewidth\": 0, \"ticks\": \"\"}, \"colorscale\": [[0.0, \"#0d0887\"], [0.1111111111111111, \"#46039f\"], [0.2222222222222222, \"#7201a8\"], [0.3333333333333333, \"#9c179e\"], [0.4444444444444444, \"#bd3786\"], [0.5555555555555556, \"#d8576b\"], [0.6666666666666666, \"#ed7953\"], [0.7777777777777778, \"#fb9f3a\"], [0.8888888888888888, \"#fdca26\"], [1.0, \"#f0f921\"]], \"type\": \"heatmapgl\"}], \"histogram\": [{\"marker\": {\"colorbar\": {\"outlinewidth\": 0, \"ticks\": \"\"}}, \"type\": \"histogram\"}], \"histogram2d\": [{\"colorbar\": {\"outlinewidth\": 0, \"ticks\": \"\"}, \"colorscale\": [[0.0, \"#0d0887\"], [0.1111111111111111, \"#46039f\"], [0.2222222222222222, \"#7201a8\"], [0.3333333333333333, \"#9c179e\"], [0.4444444444444444, \"#bd3786\"], [0.5555555555555556, \"#d8576b\"], [0.6666666666666666, \"#ed7953\"], [0.7777777777777778, \"#fb9f3a\"], [0.8888888888888888, \"#fdca26\"], [1.0, \"#f0f921\"]], \"type\": \"histogram2d\"}], \"histogram2dcontour\": [{\"colorbar\": {\"outlinewidth\": 0, \"ticks\": \"\"}, \"colorscale\": [[0.0, \"#0d0887\"], [0.1111111111111111, \"#46039f\"], [0.2222222222222222, \"#7201a8\"], [0.3333333333333333, \"#9c179e\"], [0.4444444444444444, \"#bd3786\"], [0.5555555555555556, \"#d8576b\"], [0.6666666666666666, \"#ed7953\"], [0.7777777777777778, \"#fb9f3a\"], [0.8888888888888888, \"#fdca26\"], [1.0, \"#f0f921\"]], \"type\": \"histogram2dcontour\"}], \"mesh3d\": [{\"colorbar\": {\"outlinewidth\": 0, \"ticks\": \"\"}, \"type\": \"mesh3d\"}], \"parcoords\": [{\"line\": {\"colorbar\": {\"outlinewidth\": 0, \"ticks\": \"\"}}, \"type\": \"parcoords\"}], \"pie\": [{\"automargin\": true, \"type\": \"pie\"}], \"scatter\": [{\"marker\": {\"colorbar\": {\"outlinewidth\": 0, \"ticks\": \"\"}}, \"type\": \"scatter\"}], \"scatter3d\": [{\"line\": {\"colorbar\": {\"outlinewidth\": 0, \"ticks\": \"\"}}, \"marker\": {\"colorbar\": {\"outlinewidth\": 0, \"ticks\": \"\"}}, \"type\": \"scatter3d\"}], \"scattercarpet\": [{\"marker\": {\"colorbar\": {\"outlinewidth\": 0, \"ticks\": \"\"}}, \"type\": \"scattercarpet\"}], \"scattergeo\": [{\"marker\": {\"colorbar\": {\"outlinewidth\": 0, \"ticks\": \"\"}}, \"type\": \"scattergeo\"}], \"scattergl\": [{\"marker\": {\"colorbar\": {\"outlinewidth\": 0, \"ticks\": \"\"}}, \"type\": \"scattergl\"}], \"scattermapbox\": [{\"marker\": {\"colorbar\": {\"outlinewidth\": 0, \"ticks\": \"\"}}, \"type\": \"scattermapbox\"}], \"scatterpolar\": [{\"marker\": {\"colorbar\": {\"outlinewidth\": 0, \"ticks\": \"\"}}, \"type\": \"scatterpolar\"}], \"scatterpolargl\": [{\"marker\": {\"colorbar\": {\"outlinewidth\": 0, \"ticks\": \"\"}}, \"type\": \"scatterpolargl\"}], \"scatterternary\": [{\"marker\": {\"colorbar\": {\"outlinewidth\": 0, \"ticks\": \"\"}}, \"type\": \"scatterternary\"}], \"surface\": [{\"colorbar\": {\"outlinewidth\": 0, \"ticks\": \"\"}, \"colorscale\": [[0.0, \"#0d0887\"], [0.1111111111111111, \"#46039f\"], [0.2222222222222222, \"#7201a8\"], [0.3333333333333333, \"#9c179e\"], [0.4444444444444444, \"#bd3786\"], [0.5555555555555556, \"#d8576b\"], [0.6666666666666666, \"#ed7953\"], [0.7777777777777778, \"#fb9f3a\"], [0.8888888888888888, \"#fdca26\"], [1.0, \"#f0f921\"]], \"type\": \"surface\"}], \"table\": [{\"cells\": {\"fill\": {\"color\": \"#EBF0F8\"}, \"line\": {\"color\": \"white\"}}, \"header\": {\"fill\": {\"color\": \"#C8D4E3\"}, \"line\": {\"color\": \"white\"}}, \"type\": \"table\"}]}, \"layout\": {\"annotationdefaults\": {\"arrowcolor\": \"#2a3f5f\", \"arrowhead\": 0, \"arrowwidth\": 1}, \"coloraxis\": {\"colorbar\": {\"outlinewidth\": 0, \"ticks\": \"\"}}, \"colorscale\": {\"diverging\": [[0, \"#8e0152\"], [0.1, \"#c51b7d\"], [0.2, \"#de77ae\"], [0.3, \"#f1b6da\"], [0.4, \"#fde0ef\"], [0.5, \"#f7f7f7\"], [0.6, \"#e6f5d0\"], [0.7, \"#b8e186\"], [0.8, \"#7fbc41\"], [0.9, \"#4d9221\"], [1, \"#276419\"]], \"sequential\": [[0.0, \"#0d0887\"], [0.1111111111111111, \"#46039f\"], [0.2222222222222222, \"#7201a8\"], [0.3333333333333333, \"#9c179e\"], [0.4444444444444444, \"#bd3786\"], [0.5555555555555556, \"#d8576b\"], [0.6666666666666666, \"#ed7953\"], [0.7777777777777778, \"#fb9f3a\"], [0.8888888888888888, \"#fdca26\"], [1.0, \"#f0f921\"]], \"sequentialminus\": [[0.0, \"#0d0887\"], [0.1111111111111111, \"#46039f\"], [0.2222222222222222, \"#7201a8\"], [0.3333333333333333, \"#9c179e\"], [0.4444444444444444, \"#bd3786\"], [0.5555555555555556, \"#d8576b\"], [0.6666666666666666, \"#ed7953\"], [0.7777777777777778, \"#fb9f3a\"], [0.8888888888888888, \"#fdca26\"], [1.0, \"#f0f921\"]]}, \"colorway\": [\"#636efa\", \"#EF553B\", \"#00cc96\", \"#ab63fa\", \"#FFA15A\", \"#19d3f3\", \"#FF6692\", \"#B6E880\", \"#FF97FF\", \"#FECB52\"], \"font\": {\"color\": \"#2a3f5f\"}, \"geo\": {\"bgcolor\": \"white\", \"lakecolor\": \"white\", \"landcolor\": \"#E5ECF6\", \"showlakes\": true, \"showland\": true, \"subunitcolor\": \"white\"}, \"hoverlabel\": {\"align\": \"left\"}, \"hovermode\": \"closest\", \"mapbox\": {\"style\": \"light\"}, \"paper_bgcolor\": \"white\", \"plot_bgcolor\": \"#E5ECF6\", \"polar\": {\"angularaxis\": {\"gridcolor\": \"white\", \"linecolor\": \"white\", \"ticks\": \"\"}, \"bgcolor\": \"#E5ECF6\", \"radialaxis\": {\"gridcolor\": \"white\", \"linecolor\": \"white\", \"ticks\": \"\"}}, \"scene\": {\"xaxis\": {\"backgroundcolor\": \"#E5ECF6\", \"gridcolor\": \"white\", \"gridwidth\": 2, \"linecolor\": \"white\", \"showbackground\": true, \"ticks\": \"\", \"zerolinecolor\": \"white\"}, \"yaxis\": {\"backgroundcolor\": \"#E5ECF6\", \"gridcolor\": \"white\", \"gridwidth\": 2, \"linecolor\": \"white\", \"showbackground\": true, \"ticks\": \"\", \"zerolinecolor\": \"white\"}, \"zaxis\": {\"backgroundcolor\": \"#E5ECF6\", \"gridcolor\": \"white\", \"gridwidth\": 2, \"linecolor\": \"white\", \"showbackground\": true, \"ticks\": \"\", \"zerolinecolor\": \"white\"}}, \"shapedefaults\": {\"line\": {\"color\": \"#2a3f5f\"}}, \"ternary\": {\"aaxis\": {\"gridcolor\": \"white\", \"linecolor\": \"white\", \"ticks\": \"\"}, \"baxis\": {\"gridcolor\": \"white\", \"linecolor\": \"white\", \"ticks\": \"\"}, \"bgcolor\": \"#E5ECF6\", \"caxis\": {\"gridcolor\": \"white\", \"linecolor\": \"white\", \"ticks\": \"\"}}, \"title\": {\"x\": 0.05}, \"xaxis\": {\"automargin\": true, \"gridcolor\": \"white\", \"linecolor\": \"white\", \"ticks\": \"\", \"title\": {\"standoff\": 15}, \"zerolinecolor\": \"white\", \"zerolinewidth\": 2}, \"yaxis\": {\"automargin\": true, \"gridcolor\": \"white\", \"linecolor\": \"white\", \"ticks\": \"\", \"title\": {\"standoff\": 15}, \"zerolinecolor\": \"white\", \"zerolinewidth\": 2}}}, \"title\": {\"text\": \"With noise\"}, \"width\": 600},\n",
       "                        {\"responsive\": true}\n",
       "                    ).then(function(){\n",
       "                            \n",
       "var gd = document.getElementById('b1bc2235-93db-4edb-8a78-966db32dd3d9');\n",
       "var x = new MutationObserver(function (mutations, observer) {{\n",
       "        var display = window.getComputedStyle(gd).display;\n",
       "        if (!display || display === 'none') {{\n",
       "            console.log([gd, 'removed!']);\n",
       "            Plotly.purge(gd);\n",
       "            observer.disconnect();\n",
       "        }}\n",
       "}});\n",
       "\n",
       "// Listen for the removal of the full notebook cells\n",
       "var notebookContainer = gd.closest('#notebook-container');\n",
       "if (notebookContainer) {{\n",
       "    x.observe(notebookContainer, {childList: true});\n",
       "}}\n",
       "\n",
       "// Listen for the clearing of the current output cell\n",
       "var outputEl = gd.closest('.output');\n",
       "if (outputEl) {{\n",
       "    x.observe(outputEl, {childList: true});\n",
       "}}\n",
       "\n",
       "                        })\n",
       "                };\n",
       "                });\n",
       "            </script>\n",
       "        </div>"
      ]
     },
     "metadata": {},
     "output_type": "display_data"
    }
   ],
   "source": [
    "# plot points and decision line\n",
    "fig = go.Figure()\n",
    "plot_data_decision_line(X,y,clf,fig,\"With noise\")\n",
    "fig.show()"
   ]
  },
  {
   "cell_type": "code",
   "execution_count": 13,
   "metadata": {},
   "outputs": [],
   "source": [
    "fig.write_html('../_includes/svm4.html')"
   ]
  },
  {
   "cell_type": "code",
   "execution_count": 14,
   "metadata": {
    "colab": {
     "base_uri": "https://localhost:8080/",
     "height": 542
    },
    "colab_type": "code",
    "id": "aAbIBExv_GQ4",
    "outputId": "20287bd2-3e61-40f5-c113-fbd6dc20a999"
   },
   "outputs": [
    {
     "data": {
      "application/vnd.plotly.v1+json": {
       "config": {
        "plotlyServerURL": "https://plot.ly"
       },
       "data": [
        {
         "marker": {
          "color": [
           -1,
           1,
           -1,
           -1,
           -1,
           -1,
           -1,
           -1,
           -1,
           -1,
           1,
           1,
           1,
           1,
           1,
           1,
           1,
           1,
           1,
           1
          ],
          "colorscale": [
           [
            0,
            "rgb(103,0,31)"
           ],
           [
            0.1,
            "rgb(178,24,43)"
           ],
           [
            0.2,
            "rgb(214,96,77)"
           ],
           [
            0.3,
            "rgb(244,165,130)"
           ],
           [
            0.4,
            "rgb(253,219,199)"
           ],
           [
            0.5,
            "rgb(247,247,247)"
           ],
           [
            0.6,
            "rgb(209,229,240)"
           ],
           [
            0.7,
            "rgb(146,197,222)"
           ],
           [
            0.8,
            "rgb(67,147,195)"
           ],
           [
            0.9,
            "rgb(33,102,172)"
           ],
           [
            1,
            "rgb(5,48,97)"
           ]
          ],
          "size": 10
         },
         "mode": "markers",
         "name": "Data",
         "type": "scatter",
         "x": [
          0.5,
          -0.5,
          -0.4315406361270182,
          -0.4617614284231002,
          -0.16892053227007353,
          -0.5295563775737924,
          -0.23183754092319586,
          -0.42945349174431197,
          -0.49144968062295297,
          -0.5379106111371351,
          0.5766069365853674,
          0.3847065484401654,
          0.3516835304801391,
          0.11709574900719513,
          0.17792568139102968,
          0.1848512192012097,
          0.28669687883580186,
          0.5291582939589509,
          0.39173084886622345,
          0.1888963100948403
         ],
         "y": [
          0,
          0,
          0.20847713250846214,
          0.27165779638972876,
          0.1783498350047443,
          0.4785401403203442,
          0.2778315458178908,
          0.4334015252766632,
          0.3807134912164687,
          0.25986824222676397,
          -0.5313216046011098,
          -0.11216725853839699,
          -0.266167896925947,
          -0.3719403168447851,
          -0.361975516750565,
          -0.15187083137991447,
          -0.4101535347626241,
          -0.2769694725576214,
          -0.2658249865805824,
          -0.17537599159106854
         ]
        }
       ],
       "layout": {
        "template": {
         "data": {
          "bar": [
           {
            "error_x": {
             "color": "#2a3f5f"
            },
            "error_y": {
             "color": "#2a3f5f"
            },
            "marker": {
             "line": {
              "color": "#E5ECF6",
              "width": 0.5
             }
            },
            "type": "bar"
           }
          ],
          "barpolar": [
           {
            "marker": {
             "line": {
              "color": "#E5ECF6",
              "width": 0.5
             }
            },
            "type": "barpolar"
           }
          ],
          "carpet": [
           {
            "aaxis": {
             "endlinecolor": "#2a3f5f",
             "gridcolor": "white",
             "linecolor": "white",
             "minorgridcolor": "white",
             "startlinecolor": "#2a3f5f"
            },
            "baxis": {
             "endlinecolor": "#2a3f5f",
             "gridcolor": "white",
             "linecolor": "white",
             "minorgridcolor": "white",
             "startlinecolor": "#2a3f5f"
            },
            "type": "carpet"
           }
          ],
          "choropleth": [
           {
            "colorbar": {
             "outlinewidth": 0,
             "ticks": ""
            },
            "type": "choropleth"
           }
          ],
          "contour": [
           {
            "colorbar": {
             "outlinewidth": 0,
             "ticks": ""
            },
            "colorscale": [
             [
              0,
              "#0d0887"
             ],
             [
              0.1111111111111111,
              "#46039f"
             ],
             [
              0.2222222222222222,
              "#7201a8"
             ],
             [
              0.3333333333333333,
              "#9c179e"
             ],
             [
              0.4444444444444444,
              "#bd3786"
             ],
             [
              0.5555555555555556,
              "#d8576b"
             ],
             [
              0.6666666666666666,
              "#ed7953"
             ],
             [
              0.7777777777777778,
              "#fb9f3a"
             ],
             [
              0.8888888888888888,
              "#fdca26"
             ],
             [
              1,
              "#f0f921"
             ]
            ],
            "type": "contour"
           }
          ],
          "contourcarpet": [
           {
            "colorbar": {
             "outlinewidth": 0,
             "ticks": ""
            },
            "type": "contourcarpet"
           }
          ],
          "heatmap": [
           {
            "colorbar": {
             "outlinewidth": 0,
             "ticks": ""
            },
            "colorscale": [
             [
              0,
              "#0d0887"
             ],
             [
              0.1111111111111111,
              "#46039f"
             ],
             [
              0.2222222222222222,
              "#7201a8"
             ],
             [
              0.3333333333333333,
              "#9c179e"
             ],
             [
              0.4444444444444444,
              "#bd3786"
             ],
             [
              0.5555555555555556,
              "#d8576b"
             ],
             [
              0.6666666666666666,
              "#ed7953"
             ],
             [
              0.7777777777777778,
              "#fb9f3a"
             ],
             [
              0.8888888888888888,
              "#fdca26"
             ],
             [
              1,
              "#f0f921"
             ]
            ],
            "type": "heatmap"
           }
          ],
          "heatmapgl": [
           {
            "colorbar": {
             "outlinewidth": 0,
             "ticks": ""
            },
            "colorscale": [
             [
              0,
              "#0d0887"
             ],
             [
              0.1111111111111111,
              "#46039f"
             ],
             [
              0.2222222222222222,
              "#7201a8"
             ],
             [
              0.3333333333333333,
              "#9c179e"
             ],
             [
              0.4444444444444444,
              "#bd3786"
             ],
             [
              0.5555555555555556,
              "#d8576b"
             ],
             [
              0.6666666666666666,
              "#ed7953"
             ],
             [
              0.7777777777777778,
              "#fb9f3a"
             ],
             [
              0.8888888888888888,
              "#fdca26"
             ],
             [
              1,
              "#f0f921"
             ]
            ],
            "type": "heatmapgl"
           }
          ],
          "histogram": [
           {
            "marker": {
             "colorbar": {
              "outlinewidth": 0,
              "ticks": ""
             }
            },
            "type": "histogram"
           }
          ],
          "histogram2d": [
           {
            "colorbar": {
             "outlinewidth": 0,
             "ticks": ""
            },
            "colorscale": [
             [
              0,
              "#0d0887"
             ],
             [
              0.1111111111111111,
              "#46039f"
             ],
             [
              0.2222222222222222,
              "#7201a8"
             ],
             [
              0.3333333333333333,
              "#9c179e"
             ],
             [
              0.4444444444444444,
              "#bd3786"
             ],
             [
              0.5555555555555556,
              "#d8576b"
             ],
             [
              0.6666666666666666,
              "#ed7953"
             ],
             [
              0.7777777777777778,
              "#fb9f3a"
             ],
             [
              0.8888888888888888,
              "#fdca26"
             ],
             [
              1,
              "#f0f921"
             ]
            ],
            "type": "histogram2d"
           }
          ],
          "histogram2dcontour": [
           {
            "colorbar": {
             "outlinewidth": 0,
             "ticks": ""
            },
            "colorscale": [
             [
              0,
              "#0d0887"
             ],
             [
              0.1111111111111111,
              "#46039f"
             ],
             [
              0.2222222222222222,
              "#7201a8"
             ],
             [
              0.3333333333333333,
              "#9c179e"
             ],
             [
              0.4444444444444444,
              "#bd3786"
             ],
             [
              0.5555555555555556,
              "#d8576b"
             ],
             [
              0.6666666666666666,
              "#ed7953"
             ],
             [
              0.7777777777777778,
              "#fb9f3a"
             ],
             [
              0.8888888888888888,
              "#fdca26"
             ],
             [
              1,
              "#f0f921"
             ]
            ],
            "type": "histogram2dcontour"
           }
          ],
          "mesh3d": [
           {
            "colorbar": {
             "outlinewidth": 0,
             "ticks": ""
            },
            "type": "mesh3d"
           }
          ],
          "parcoords": [
           {
            "line": {
             "colorbar": {
              "outlinewidth": 0,
              "ticks": ""
             }
            },
            "type": "parcoords"
           }
          ],
          "pie": [
           {
            "automargin": true,
            "type": "pie"
           }
          ],
          "scatter": [
           {
            "marker": {
             "colorbar": {
              "outlinewidth": 0,
              "ticks": ""
             }
            },
            "type": "scatter"
           }
          ],
          "scatter3d": [
           {
            "line": {
             "colorbar": {
              "outlinewidth": 0,
              "ticks": ""
             }
            },
            "marker": {
             "colorbar": {
              "outlinewidth": 0,
              "ticks": ""
             }
            },
            "type": "scatter3d"
           }
          ],
          "scattercarpet": [
           {
            "marker": {
             "colorbar": {
              "outlinewidth": 0,
              "ticks": ""
             }
            },
            "type": "scattercarpet"
           }
          ],
          "scattergeo": [
           {
            "marker": {
             "colorbar": {
              "outlinewidth": 0,
              "ticks": ""
             }
            },
            "type": "scattergeo"
           }
          ],
          "scattergl": [
           {
            "marker": {
             "colorbar": {
              "outlinewidth": 0,
              "ticks": ""
             }
            },
            "type": "scattergl"
           }
          ],
          "scattermapbox": [
           {
            "marker": {
             "colorbar": {
              "outlinewidth": 0,
              "ticks": ""
             }
            },
            "type": "scattermapbox"
           }
          ],
          "scatterpolar": [
           {
            "marker": {
             "colorbar": {
              "outlinewidth": 0,
              "ticks": ""
             }
            },
            "type": "scatterpolar"
           }
          ],
          "scatterpolargl": [
           {
            "marker": {
             "colorbar": {
              "outlinewidth": 0,
              "ticks": ""
             }
            },
            "type": "scatterpolargl"
           }
          ],
          "scatterternary": [
           {
            "marker": {
             "colorbar": {
              "outlinewidth": 0,
              "ticks": ""
             }
            },
            "type": "scatterternary"
           }
          ],
          "surface": [
           {
            "colorbar": {
             "outlinewidth": 0,
             "ticks": ""
            },
            "colorscale": [
             [
              0,
              "#0d0887"
             ],
             [
              0.1111111111111111,
              "#46039f"
             ],
             [
              0.2222222222222222,
              "#7201a8"
             ],
             [
              0.3333333333333333,
              "#9c179e"
             ],
             [
              0.4444444444444444,
              "#bd3786"
             ],
             [
              0.5555555555555556,
              "#d8576b"
             ],
             [
              0.6666666666666666,
              "#ed7953"
             ],
             [
              0.7777777777777778,
              "#fb9f3a"
             ],
             [
              0.8888888888888888,
              "#fdca26"
             ],
             [
              1,
              "#f0f921"
             ]
            ],
            "type": "surface"
           }
          ],
          "table": [
           {
            "cells": {
             "fill": {
              "color": "#EBF0F8"
             },
             "line": {
              "color": "white"
             }
            },
            "header": {
             "fill": {
              "color": "#C8D4E3"
             },
             "line": {
              "color": "white"
             }
            },
            "type": "table"
           }
          ]
         },
         "layout": {
          "annotationdefaults": {
           "arrowcolor": "#2a3f5f",
           "arrowhead": 0,
           "arrowwidth": 1
          },
          "coloraxis": {
           "colorbar": {
            "outlinewidth": 0,
            "ticks": ""
           }
          },
          "colorscale": {
           "diverging": [
            [
             0,
             "#8e0152"
            ],
            [
             0.1,
             "#c51b7d"
            ],
            [
             0.2,
             "#de77ae"
            ],
            [
             0.3,
             "#f1b6da"
            ],
            [
             0.4,
             "#fde0ef"
            ],
            [
             0.5,
             "#f7f7f7"
            ],
            [
             0.6,
             "#e6f5d0"
            ],
            [
             0.7,
             "#b8e186"
            ],
            [
             0.8,
             "#7fbc41"
            ],
            [
             0.9,
             "#4d9221"
            ],
            [
             1,
             "#276419"
            ]
           ],
           "sequential": [
            [
             0,
             "#0d0887"
            ],
            [
             0.1111111111111111,
             "#46039f"
            ],
            [
             0.2222222222222222,
             "#7201a8"
            ],
            [
             0.3333333333333333,
             "#9c179e"
            ],
            [
             0.4444444444444444,
             "#bd3786"
            ],
            [
             0.5555555555555556,
             "#d8576b"
            ],
            [
             0.6666666666666666,
             "#ed7953"
            ],
            [
             0.7777777777777778,
             "#fb9f3a"
            ],
            [
             0.8888888888888888,
             "#fdca26"
            ],
            [
             1,
             "#f0f921"
            ]
           ],
           "sequentialminus": [
            [
             0,
             "#0d0887"
            ],
            [
             0.1111111111111111,
             "#46039f"
            ],
            [
             0.2222222222222222,
             "#7201a8"
            ],
            [
             0.3333333333333333,
             "#9c179e"
            ],
            [
             0.4444444444444444,
             "#bd3786"
            ],
            [
             0.5555555555555556,
             "#d8576b"
            ],
            [
             0.6666666666666666,
             "#ed7953"
            ],
            [
             0.7777777777777778,
             "#fb9f3a"
            ],
            [
             0.8888888888888888,
             "#fdca26"
            ],
            [
             1,
             "#f0f921"
            ]
           ]
          },
          "colorway": [
           "#636efa",
           "#EF553B",
           "#00cc96",
           "#ab63fa",
           "#FFA15A",
           "#19d3f3",
           "#FF6692",
           "#B6E880",
           "#FF97FF",
           "#FECB52"
          ],
          "font": {
           "color": "#2a3f5f"
          },
          "geo": {
           "bgcolor": "white",
           "lakecolor": "white",
           "landcolor": "#E5ECF6",
           "showlakes": true,
           "showland": true,
           "subunitcolor": "white"
          },
          "hoverlabel": {
           "align": "left"
          },
          "hovermode": "closest",
          "mapbox": {
           "style": "light"
          },
          "paper_bgcolor": "white",
          "plot_bgcolor": "#E5ECF6",
          "polar": {
           "angularaxis": {
            "gridcolor": "white",
            "linecolor": "white",
            "ticks": ""
           },
           "bgcolor": "#E5ECF6",
           "radialaxis": {
            "gridcolor": "white",
            "linecolor": "white",
            "ticks": ""
           }
          },
          "scene": {
           "xaxis": {
            "backgroundcolor": "#E5ECF6",
            "gridcolor": "white",
            "gridwidth": 2,
            "linecolor": "white",
            "showbackground": true,
            "ticks": "",
            "zerolinecolor": "white"
           },
           "yaxis": {
            "backgroundcolor": "#E5ECF6",
            "gridcolor": "white",
            "gridwidth": 2,
            "linecolor": "white",
            "showbackground": true,
            "ticks": "",
            "zerolinecolor": "white"
           },
           "zaxis": {
            "backgroundcolor": "#E5ECF6",
            "gridcolor": "white",
            "gridwidth": 2,
            "linecolor": "white",
            "showbackground": true,
            "ticks": "",
            "zerolinecolor": "white"
           }
          },
          "shapedefaults": {
           "line": {
            "color": "#2a3f5f"
           }
          },
          "ternary": {
           "aaxis": {
            "gridcolor": "white",
            "linecolor": "white",
            "ticks": ""
           },
           "baxis": {
            "gridcolor": "white",
            "linecolor": "white",
            "ticks": ""
           },
           "bgcolor": "#E5ECF6",
           "caxis": {
            "gridcolor": "white",
            "linecolor": "white",
            "ticks": ""
           }
          },
          "title": {
           "x": 0.05
          },
          "xaxis": {
           "automargin": true,
           "gridcolor": "white",
           "linecolor": "white",
           "ticks": "",
           "title": {
            "standoff": 15
           },
           "zerolinecolor": "white",
           "zerolinewidth": 2
          },
          "yaxis": {
           "automargin": true,
           "gridcolor": "white",
           "linecolor": "white",
           "ticks": "",
           "title": {
            "standoff": 15
           },
           "zerolinecolor": "white",
           "zerolinewidth": 2
          }
         }
        },
        "width": 600,
        "yaxis": {
         "scaleanchor": "x",
         "scaleratio": 1
        }
       }
      },
      "text/html": [
       "<div>\n",
       "        \n",
       "        \n",
       "            <div id=\"aea7b28a-ebc5-44c5-832c-14692852550f\" class=\"plotly-graph-div\" style=\"height:525px; width:600px;\"></div>\n",
       "            <script type=\"text/javascript\">\n",
       "                require([\"plotly\"], function(Plotly) {\n",
       "                    window.PLOTLYENV=window.PLOTLYENV || {};\n",
       "                    \n",
       "                if (document.getElementById(\"aea7b28a-ebc5-44c5-832c-14692852550f\")) {\n",
       "                    Plotly.newPlot(\n",
       "                        'aea7b28a-ebc5-44c5-832c-14692852550f',\n",
       "                        [{\"marker\": {\"color\": [-1.0, 1.0, -1.0, -1.0, -1.0, -1.0, -1.0, -1.0, -1.0, -1.0, 1.0, 1.0, 1.0, 1.0, 1.0, 1.0, 1.0, 1.0, 1.0, 1.0], \"colorscale\": [[0.0, \"rgb(103,0,31)\"], [0.1, \"rgb(178,24,43)\"], [0.2, \"rgb(214,96,77)\"], [0.3, \"rgb(244,165,130)\"], [0.4, \"rgb(253,219,199)\"], [0.5, \"rgb(247,247,247)\"], [0.6, \"rgb(209,229,240)\"], [0.7, \"rgb(146,197,222)\"], [0.8, \"rgb(67,147,195)\"], [0.9, \"rgb(33,102,172)\"], [1.0, \"rgb(5,48,97)\"]], \"size\": 10}, \"mode\": \"markers\", \"name\": \"Data\", \"type\": \"scatter\", \"x\": [0.5, -0.5, -0.4315406361270182, -0.4617614284231002, -0.16892053227007353, -0.5295563775737924, -0.23183754092319586, -0.42945349174431197, -0.49144968062295297, -0.5379106111371351, 0.5766069365853674, 0.3847065484401654, 0.3516835304801391, 0.11709574900719513, 0.17792568139102968, 0.1848512192012097, 0.28669687883580186, 0.5291582939589509, 0.39173084886622345, 0.1888963100948403], \"y\": [0.0, 0.0, 0.20847713250846214, 0.27165779638972876, 0.1783498350047443, 0.4785401403203442, 0.2778315458178908, 0.4334015252766632, 0.3807134912164687, 0.25986824222676397, -0.5313216046011098, -0.11216725853839699, -0.266167896925947, -0.3719403168447851, -0.361975516750565, -0.15187083137991447, -0.4101535347626241, -0.2769694725576214, -0.2658249865805824, -0.17537599159106854]}],\n",
       "                        {\"template\": {\"data\": {\"bar\": [{\"error_x\": {\"color\": \"#2a3f5f\"}, \"error_y\": {\"color\": \"#2a3f5f\"}, \"marker\": {\"line\": {\"color\": \"#E5ECF6\", \"width\": 0.5}}, \"type\": \"bar\"}], \"barpolar\": [{\"marker\": {\"line\": {\"color\": \"#E5ECF6\", \"width\": 0.5}}, \"type\": \"barpolar\"}], \"carpet\": [{\"aaxis\": {\"endlinecolor\": \"#2a3f5f\", \"gridcolor\": \"white\", \"linecolor\": \"white\", \"minorgridcolor\": \"white\", \"startlinecolor\": \"#2a3f5f\"}, \"baxis\": {\"endlinecolor\": \"#2a3f5f\", \"gridcolor\": \"white\", \"linecolor\": \"white\", \"minorgridcolor\": \"white\", \"startlinecolor\": \"#2a3f5f\"}, \"type\": \"carpet\"}], \"choropleth\": [{\"colorbar\": {\"outlinewidth\": 0, \"ticks\": \"\"}, \"type\": \"choropleth\"}], \"contour\": [{\"colorbar\": {\"outlinewidth\": 0, \"ticks\": \"\"}, \"colorscale\": [[0.0, \"#0d0887\"], [0.1111111111111111, \"#46039f\"], [0.2222222222222222, \"#7201a8\"], [0.3333333333333333, \"#9c179e\"], [0.4444444444444444, \"#bd3786\"], [0.5555555555555556, \"#d8576b\"], [0.6666666666666666, \"#ed7953\"], [0.7777777777777778, \"#fb9f3a\"], [0.8888888888888888, \"#fdca26\"], [1.0, \"#f0f921\"]], \"type\": \"contour\"}], \"contourcarpet\": [{\"colorbar\": {\"outlinewidth\": 0, \"ticks\": \"\"}, \"type\": \"contourcarpet\"}], \"heatmap\": [{\"colorbar\": {\"outlinewidth\": 0, \"ticks\": \"\"}, \"colorscale\": [[0.0, \"#0d0887\"], [0.1111111111111111, \"#46039f\"], [0.2222222222222222, \"#7201a8\"], [0.3333333333333333, \"#9c179e\"], [0.4444444444444444, \"#bd3786\"], [0.5555555555555556, \"#d8576b\"], [0.6666666666666666, \"#ed7953\"], [0.7777777777777778, \"#fb9f3a\"], [0.8888888888888888, \"#fdca26\"], [1.0, \"#f0f921\"]], \"type\": \"heatmap\"}], \"heatmapgl\": [{\"colorbar\": {\"outlinewidth\": 0, \"ticks\": \"\"}, \"colorscale\": [[0.0, \"#0d0887\"], [0.1111111111111111, \"#46039f\"], [0.2222222222222222, \"#7201a8\"], [0.3333333333333333, \"#9c179e\"], [0.4444444444444444, \"#bd3786\"], [0.5555555555555556, \"#d8576b\"], [0.6666666666666666, \"#ed7953\"], [0.7777777777777778, \"#fb9f3a\"], [0.8888888888888888, \"#fdca26\"], [1.0, \"#f0f921\"]], \"type\": \"heatmapgl\"}], \"histogram\": [{\"marker\": {\"colorbar\": {\"outlinewidth\": 0, \"ticks\": \"\"}}, \"type\": \"histogram\"}], \"histogram2d\": [{\"colorbar\": {\"outlinewidth\": 0, \"ticks\": \"\"}, \"colorscale\": [[0.0, \"#0d0887\"], [0.1111111111111111, \"#46039f\"], [0.2222222222222222, \"#7201a8\"], [0.3333333333333333, \"#9c179e\"], [0.4444444444444444, \"#bd3786\"], [0.5555555555555556, \"#d8576b\"], [0.6666666666666666, \"#ed7953\"], [0.7777777777777778, \"#fb9f3a\"], [0.8888888888888888, \"#fdca26\"], [1.0, \"#f0f921\"]], \"type\": \"histogram2d\"}], \"histogram2dcontour\": [{\"colorbar\": {\"outlinewidth\": 0, \"ticks\": \"\"}, \"colorscale\": [[0.0, \"#0d0887\"], [0.1111111111111111, \"#46039f\"], [0.2222222222222222, \"#7201a8\"], [0.3333333333333333, \"#9c179e\"], [0.4444444444444444, \"#bd3786\"], [0.5555555555555556, \"#d8576b\"], [0.6666666666666666, \"#ed7953\"], [0.7777777777777778, \"#fb9f3a\"], [0.8888888888888888, \"#fdca26\"], [1.0, \"#f0f921\"]], \"type\": \"histogram2dcontour\"}], \"mesh3d\": [{\"colorbar\": {\"outlinewidth\": 0, \"ticks\": \"\"}, \"type\": \"mesh3d\"}], \"parcoords\": [{\"line\": {\"colorbar\": {\"outlinewidth\": 0, \"ticks\": \"\"}}, \"type\": \"parcoords\"}], \"pie\": [{\"automargin\": true, \"type\": \"pie\"}], \"scatter\": [{\"marker\": {\"colorbar\": {\"outlinewidth\": 0, \"ticks\": \"\"}}, \"type\": \"scatter\"}], \"scatter3d\": [{\"line\": {\"colorbar\": {\"outlinewidth\": 0, \"ticks\": \"\"}}, \"marker\": {\"colorbar\": {\"outlinewidth\": 0, \"ticks\": \"\"}}, \"type\": \"scatter3d\"}], \"scattercarpet\": [{\"marker\": {\"colorbar\": {\"outlinewidth\": 0, \"ticks\": \"\"}}, \"type\": \"scattercarpet\"}], \"scattergeo\": [{\"marker\": {\"colorbar\": {\"outlinewidth\": 0, \"ticks\": \"\"}}, \"type\": \"scattergeo\"}], \"scattergl\": [{\"marker\": {\"colorbar\": {\"outlinewidth\": 0, \"ticks\": \"\"}}, \"type\": \"scattergl\"}], \"scattermapbox\": [{\"marker\": {\"colorbar\": {\"outlinewidth\": 0, \"ticks\": \"\"}}, \"type\": \"scattermapbox\"}], \"scatterpolar\": [{\"marker\": {\"colorbar\": {\"outlinewidth\": 0, \"ticks\": \"\"}}, \"type\": \"scatterpolar\"}], \"scatterpolargl\": [{\"marker\": {\"colorbar\": {\"outlinewidth\": 0, \"ticks\": \"\"}}, \"type\": \"scatterpolargl\"}], \"scatterternary\": [{\"marker\": {\"colorbar\": {\"outlinewidth\": 0, \"ticks\": \"\"}}, \"type\": \"scatterternary\"}], \"surface\": [{\"colorbar\": {\"outlinewidth\": 0, \"ticks\": \"\"}, \"colorscale\": [[0.0, \"#0d0887\"], [0.1111111111111111, \"#46039f\"], [0.2222222222222222, \"#7201a8\"], [0.3333333333333333, \"#9c179e\"], [0.4444444444444444, \"#bd3786\"], [0.5555555555555556, \"#d8576b\"], [0.6666666666666666, \"#ed7953\"], [0.7777777777777778, \"#fb9f3a\"], [0.8888888888888888, \"#fdca26\"], [1.0, \"#f0f921\"]], \"type\": \"surface\"}], \"table\": [{\"cells\": {\"fill\": {\"color\": \"#EBF0F8\"}, \"line\": {\"color\": \"white\"}}, \"header\": {\"fill\": {\"color\": \"#C8D4E3\"}, \"line\": {\"color\": \"white\"}}, \"type\": \"table\"}]}, \"layout\": {\"annotationdefaults\": {\"arrowcolor\": \"#2a3f5f\", \"arrowhead\": 0, \"arrowwidth\": 1}, \"coloraxis\": {\"colorbar\": {\"outlinewidth\": 0, \"ticks\": \"\"}}, \"colorscale\": {\"diverging\": [[0, \"#8e0152\"], [0.1, \"#c51b7d\"], [0.2, \"#de77ae\"], [0.3, \"#f1b6da\"], [0.4, \"#fde0ef\"], [0.5, \"#f7f7f7\"], [0.6, \"#e6f5d0\"], [0.7, \"#b8e186\"], [0.8, \"#7fbc41\"], [0.9, \"#4d9221\"], [1, \"#276419\"]], \"sequential\": [[0.0, \"#0d0887\"], [0.1111111111111111, \"#46039f\"], [0.2222222222222222, \"#7201a8\"], [0.3333333333333333, \"#9c179e\"], [0.4444444444444444, \"#bd3786\"], [0.5555555555555556, \"#d8576b\"], [0.6666666666666666, \"#ed7953\"], [0.7777777777777778, \"#fb9f3a\"], [0.8888888888888888, \"#fdca26\"], [1.0, \"#f0f921\"]], \"sequentialminus\": [[0.0, \"#0d0887\"], [0.1111111111111111, \"#46039f\"], [0.2222222222222222, \"#7201a8\"], [0.3333333333333333, \"#9c179e\"], [0.4444444444444444, \"#bd3786\"], [0.5555555555555556, \"#d8576b\"], [0.6666666666666666, \"#ed7953\"], [0.7777777777777778, \"#fb9f3a\"], [0.8888888888888888, \"#fdca26\"], [1.0, \"#f0f921\"]]}, \"colorway\": [\"#636efa\", \"#EF553B\", \"#00cc96\", \"#ab63fa\", \"#FFA15A\", \"#19d3f3\", \"#FF6692\", \"#B6E880\", \"#FF97FF\", \"#FECB52\"], \"font\": {\"color\": \"#2a3f5f\"}, \"geo\": {\"bgcolor\": \"white\", \"lakecolor\": \"white\", \"landcolor\": \"#E5ECF6\", \"showlakes\": true, \"showland\": true, \"subunitcolor\": \"white\"}, \"hoverlabel\": {\"align\": \"left\"}, \"hovermode\": \"closest\", \"mapbox\": {\"style\": \"light\"}, \"paper_bgcolor\": \"white\", \"plot_bgcolor\": \"#E5ECF6\", \"polar\": {\"angularaxis\": {\"gridcolor\": \"white\", \"linecolor\": \"white\", \"ticks\": \"\"}, \"bgcolor\": \"#E5ECF6\", \"radialaxis\": {\"gridcolor\": \"white\", \"linecolor\": \"white\", \"ticks\": \"\"}}, \"scene\": {\"xaxis\": {\"backgroundcolor\": \"#E5ECF6\", \"gridcolor\": \"white\", \"gridwidth\": 2, \"linecolor\": \"white\", \"showbackground\": true, \"ticks\": \"\", \"zerolinecolor\": \"white\"}, \"yaxis\": {\"backgroundcolor\": \"#E5ECF6\", \"gridcolor\": \"white\", \"gridwidth\": 2, \"linecolor\": \"white\", \"showbackground\": true, \"ticks\": \"\", \"zerolinecolor\": \"white\"}, \"zaxis\": {\"backgroundcolor\": \"#E5ECF6\", \"gridcolor\": \"white\", \"gridwidth\": 2, \"linecolor\": \"white\", \"showbackground\": true, \"ticks\": \"\", \"zerolinecolor\": \"white\"}}, \"shapedefaults\": {\"line\": {\"color\": \"#2a3f5f\"}}, \"ternary\": {\"aaxis\": {\"gridcolor\": \"white\", \"linecolor\": \"white\", \"ticks\": \"\"}, \"baxis\": {\"gridcolor\": \"white\", \"linecolor\": \"white\", \"ticks\": \"\"}, \"bgcolor\": \"#E5ECF6\", \"caxis\": {\"gridcolor\": \"white\", \"linecolor\": \"white\", \"ticks\": \"\"}}, \"title\": {\"x\": 0.05}, \"xaxis\": {\"automargin\": true, \"gridcolor\": \"white\", \"linecolor\": \"white\", \"ticks\": \"\", \"title\": {\"standoff\": 15}, \"zerolinecolor\": \"white\", \"zerolinewidth\": 2}, \"yaxis\": {\"automargin\": true, \"gridcolor\": \"white\", \"linecolor\": \"white\", \"ticks\": \"\", \"title\": {\"standoff\": 15}, \"zerolinecolor\": \"white\", \"zerolinewidth\": 2}}}, \"width\": 600, \"yaxis\": {\"scaleanchor\": \"x\", \"scaleratio\": 1}},\n",
       "                        {\"responsive\": true}\n",
       "                    ).then(function(){\n",
       "                            \n",
       "var gd = document.getElementById('aea7b28a-ebc5-44c5-832c-14692852550f');\n",
       "var x = new MutationObserver(function (mutations, observer) {{\n",
       "        var display = window.getComputedStyle(gd).display;\n",
       "        if (!display || display === 'none') {{\n",
       "            console.log([gd, 'removed!']);\n",
       "            Plotly.purge(gd);\n",
       "            observer.disconnect();\n",
       "        }}\n",
       "}});\n",
       "\n",
       "// Listen for the removal of the full notebook cells\n",
       "var notebookContainer = gd.closest('#notebook-container');\n",
       "if (notebookContainer) {{\n",
       "    x.observe(notebookContainer, {childList: true});\n",
       "}}\n",
       "\n",
       "// Listen for the clearing of the current output cell\n",
       "var outputEl = gd.closest('.output');\n",
       "if (outputEl) {{\n",
       "    x.observe(outputEl, {childList: true});\n",
       "}}\n",
       "\n",
       "                        })\n",
       "                };\n",
       "                });\n",
       "            </script>\n",
       "        </div>"
      ]
     },
     "metadata": {},
     "output_type": "display_data"
    }
   ],
   "source": [
    "# 2 outlier points\n",
    "np.random.seed(2020)\n",
    "\n",
    "# two clusters of points\n",
    "X = np.r_[np.random.rand(10, 2)/2 + [-0.6, 0.1], \n",
    "          np.random.rand(10, 2)/2 + [0.1, -0.6]]\n",
    "\n",
    "y = np.zeros(X.shape[0])\n",
    "\n",
    "# initialize labels\n",
    "for i in range(0,X.shape[0]):\n",
    "    y[i] = labels_line(X[i,:])\n",
    "\n",
    "# creating two outliers\n",
    "X[0,:] = np.array([0.5, 0])\n",
    "y[0] = -1\n",
    "X[1,:] = np.array([-0.5, 0])\n",
    "y[1] = 1\n",
    "\n",
    "# plot the points\n",
    "fig = go.Figure()\n",
    "fig.add_trace(go.Scatter(x=X[:, 0], y=X[:, 1],\n",
    "              mode='markers', name='Data', \n",
    "              marker = dict(color=y, colorscale=\"RdBu\", size=10)))\n",
    "fig.update_layout(width=600,\n",
    "                  yaxis = dict(scaleanchor = \"x\", scaleratio = 1))  \n",
    "fig.show()"
   ]
  },
  {
   "cell_type": "code",
   "execution_count": 15,
   "metadata": {},
   "outputs": [],
   "source": [
    "fig.write_html('../_includes/svm5.html')"
   ]
  },
  {
   "cell_type": "code",
   "execution_count": 16,
   "metadata": {
    "colab": {
     "base_uri": "https://localhost:8080/",
     "height": 542
    },
    "colab_type": "code",
    "id": "TAq8O922_nL6",
    "outputId": "f152e0b0-92e8-4e93-c104-6770624091c1"
   },
   "outputs": [
    {
     "data": {
      "application/vnd.plotly.v1+json": {
       "config": {
        "plotlyServerURL": "https://plot.ly"
       },
       "data": [
        {
         "marker": {
          "color": [
           -1,
           1,
           -1,
           -1,
           -1,
           -1,
           -1,
           -1,
           -1,
           -1,
           1,
           1,
           1,
           1,
           1,
           1,
           1,
           1,
           1,
           1
          ],
          "colorscale": [
           [
            0,
            "rgb(103,0,31)"
           ],
           [
            0.1,
            "rgb(178,24,43)"
           ],
           [
            0.2,
            "rgb(214,96,77)"
           ],
           [
            0.3,
            "rgb(244,165,130)"
           ],
           [
            0.4,
            "rgb(253,219,199)"
           ],
           [
            0.5,
            "rgb(247,247,247)"
           ],
           [
            0.6,
            "rgb(209,229,240)"
           ],
           [
            0.7,
            "rgb(146,197,222)"
           ],
           [
            0.8,
            "rgb(67,147,195)"
           ],
           [
            0.9,
            "rgb(33,102,172)"
           ],
           [
            1,
            "rgb(5,48,97)"
           ]
          ],
          "size": 10
         },
         "mode": "markers",
         "name": "Data",
         "type": "scatter",
         "x": [
          0.5,
          -0.5,
          -0.4315406361270182,
          -0.4617614284231002,
          -0.16892053227007353,
          -0.5295563775737924,
          -0.23183754092319586,
          -0.42945349174431197,
          -0.49144968062295297,
          -0.5379106111371351,
          0.5766069365853674,
          0.3847065484401654,
          0.3516835304801391,
          0.11709574900719513,
          0.17792568139102968,
          0.1848512192012097,
          0.28669687883580186,
          0.5291582939589509,
          0.39173084886622345,
          0.1888963100948403
         ],
         "y": [
          0,
          0,
          0.20847713250846214,
          0.27165779638972876,
          0.1783498350047443,
          0.4785401403203442,
          0.2778315458178908,
          0.4334015252766632,
          0.3807134912164687,
          0.25986824222676397,
          -0.5313216046011098,
          -0.11216725853839699,
          -0.266167896925947,
          -0.3719403168447851,
          -0.361975516750565,
          -0.15187083137991447,
          -0.4101535347626241,
          -0.2769694725576214,
          -0.2658249865805824,
          -0.17537599159106854
         ]
        },
        {
         "mode": "lines",
         "name": "Decision line",
         "type": "scatter",
         "x": [
          -1,
          1
         ],
         "y": [
          0.26668050531303217,
          -0.18086624992640216
         ]
        },
        {
         "line": {
          "dash": "dash"
         },
         "mode": "lines",
         "name": "Support line",
         "type": "scatter",
         "x": [
          -1,
          1
         ],
         "y": [
          0.3356754983728446,
          -0.11187125686658973
         ]
        },
        {
         "line": {
          "dash": "dash"
         },
         "mode": "lines",
         "name": "Support line",
         "type": "scatter",
         "x": [
          -1,
          1
         ],
         "y": [
          0.1976855122532198,
          -0.24986124298621454
         ]
        }
       ],
       "layout": {
        "template": {
         "data": {
          "bar": [
           {
            "error_x": {
             "color": "#2a3f5f"
            },
            "error_y": {
             "color": "#2a3f5f"
            },
            "marker": {
             "line": {
              "color": "#E5ECF6",
              "width": 0.5
             }
            },
            "type": "bar"
           }
          ],
          "barpolar": [
           {
            "marker": {
             "line": {
              "color": "#E5ECF6",
              "width": 0.5
             }
            },
            "type": "barpolar"
           }
          ],
          "carpet": [
           {
            "aaxis": {
             "endlinecolor": "#2a3f5f",
             "gridcolor": "white",
             "linecolor": "white",
             "minorgridcolor": "white",
             "startlinecolor": "#2a3f5f"
            },
            "baxis": {
             "endlinecolor": "#2a3f5f",
             "gridcolor": "white",
             "linecolor": "white",
             "minorgridcolor": "white",
             "startlinecolor": "#2a3f5f"
            },
            "type": "carpet"
           }
          ],
          "choropleth": [
           {
            "colorbar": {
             "outlinewidth": 0,
             "ticks": ""
            },
            "type": "choropleth"
           }
          ],
          "contour": [
           {
            "colorbar": {
             "outlinewidth": 0,
             "ticks": ""
            },
            "colorscale": [
             [
              0,
              "#0d0887"
             ],
             [
              0.1111111111111111,
              "#46039f"
             ],
             [
              0.2222222222222222,
              "#7201a8"
             ],
             [
              0.3333333333333333,
              "#9c179e"
             ],
             [
              0.4444444444444444,
              "#bd3786"
             ],
             [
              0.5555555555555556,
              "#d8576b"
             ],
             [
              0.6666666666666666,
              "#ed7953"
             ],
             [
              0.7777777777777778,
              "#fb9f3a"
             ],
             [
              0.8888888888888888,
              "#fdca26"
             ],
             [
              1,
              "#f0f921"
             ]
            ],
            "type": "contour"
           }
          ],
          "contourcarpet": [
           {
            "colorbar": {
             "outlinewidth": 0,
             "ticks": ""
            },
            "type": "contourcarpet"
           }
          ],
          "heatmap": [
           {
            "colorbar": {
             "outlinewidth": 0,
             "ticks": ""
            },
            "colorscale": [
             [
              0,
              "#0d0887"
             ],
             [
              0.1111111111111111,
              "#46039f"
             ],
             [
              0.2222222222222222,
              "#7201a8"
             ],
             [
              0.3333333333333333,
              "#9c179e"
             ],
             [
              0.4444444444444444,
              "#bd3786"
             ],
             [
              0.5555555555555556,
              "#d8576b"
             ],
             [
              0.6666666666666666,
              "#ed7953"
             ],
             [
              0.7777777777777778,
              "#fb9f3a"
             ],
             [
              0.8888888888888888,
              "#fdca26"
             ],
             [
              1,
              "#f0f921"
             ]
            ],
            "type": "heatmap"
           }
          ],
          "heatmapgl": [
           {
            "colorbar": {
             "outlinewidth": 0,
             "ticks": ""
            },
            "colorscale": [
             [
              0,
              "#0d0887"
             ],
             [
              0.1111111111111111,
              "#46039f"
             ],
             [
              0.2222222222222222,
              "#7201a8"
             ],
             [
              0.3333333333333333,
              "#9c179e"
             ],
             [
              0.4444444444444444,
              "#bd3786"
             ],
             [
              0.5555555555555556,
              "#d8576b"
             ],
             [
              0.6666666666666666,
              "#ed7953"
             ],
             [
              0.7777777777777778,
              "#fb9f3a"
             ],
             [
              0.8888888888888888,
              "#fdca26"
             ],
             [
              1,
              "#f0f921"
             ]
            ],
            "type": "heatmapgl"
           }
          ],
          "histogram": [
           {
            "marker": {
             "colorbar": {
              "outlinewidth": 0,
              "ticks": ""
             }
            },
            "type": "histogram"
           }
          ],
          "histogram2d": [
           {
            "colorbar": {
             "outlinewidth": 0,
             "ticks": ""
            },
            "colorscale": [
             [
              0,
              "#0d0887"
             ],
             [
              0.1111111111111111,
              "#46039f"
             ],
             [
              0.2222222222222222,
              "#7201a8"
             ],
             [
              0.3333333333333333,
              "#9c179e"
             ],
             [
              0.4444444444444444,
              "#bd3786"
             ],
             [
              0.5555555555555556,
              "#d8576b"
             ],
             [
              0.6666666666666666,
              "#ed7953"
             ],
             [
              0.7777777777777778,
              "#fb9f3a"
             ],
             [
              0.8888888888888888,
              "#fdca26"
             ],
             [
              1,
              "#f0f921"
             ]
            ],
            "type": "histogram2d"
           }
          ],
          "histogram2dcontour": [
           {
            "colorbar": {
             "outlinewidth": 0,
             "ticks": ""
            },
            "colorscale": [
             [
              0,
              "#0d0887"
             ],
             [
              0.1111111111111111,
              "#46039f"
             ],
             [
              0.2222222222222222,
              "#7201a8"
             ],
             [
              0.3333333333333333,
              "#9c179e"
             ],
             [
              0.4444444444444444,
              "#bd3786"
             ],
             [
              0.5555555555555556,
              "#d8576b"
             ],
             [
              0.6666666666666666,
              "#ed7953"
             ],
             [
              0.7777777777777778,
              "#fb9f3a"
             ],
             [
              0.8888888888888888,
              "#fdca26"
             ],
             [
              1,
              "#f0f921"
             ]
            ],
            "type": "histogram2dcontour"
           }
          ],
          "mesh3d": [
           {
            "colorbar": {
             "outlinewidth": 0,
             "ticks": ""
            },
            "type": "mesh3d"
           }
          ],
          "parcoords": [
           {
            "line": {
             "colorbar": {
              "outlinewidth": 0,
              "ticks": ""
             }
            },
            "type": "parcoords"
           }
          ],
          "pie": [
           {
            "automargin": true,
            "type": "pie"
           }
          ],
          "scatter": [
           {
            "marker": {
             "colorbar": {
              "outlinewidth": 0,
              "ticks": ""
             }
            },
            "type": "scatter"
           }
          ],
          "scatter3d": [
           {
            "line": {
             "colorbar": {
              "outlinewidth": 0,
              "ticks": ""
             }
            },
            "marker": {
             "colorbar": {
              "outlinewidth": 0,
              "ticks": ""
             }
            },
            "type": "scatter3d"
           }
          ],
          "scattercarpet": [
           {
            "marker": {
             "colorbar": {
              "outlinewidth": 0,
              "ticks": ""
             }
            },
            "type": "scattercarpet"
           }
          ],
          "scattergeo": [
           {
            "marker": {
             "colorbar": {
              "outlinewidth": 0,
              "ticks": ""
             }
            },
            "type": "scattergeo"
           }
          ],
          "scattergl": [
           {
            "marker": {
             "colorbar": {
              "outlinewidth": 0,
              "ticks": ""
             }
            },
            "type": "scattergl"
           }
          ],
          "scattermapbox": [
           {
            "marker": {
             "colorbar": {
              "outlinewidth": 0,
              "ticks": ""
             }
            },
            "type": "scattermapbox"
           }
          ],
          "scatterpolar": [
           {
            "marker": {
             "colorbar": {
              "outlinewidth": 0,
              "ticks": ""
             }
            },
            "type": "scatterpolar"
           }
          ],
          "scatterpolargl": [
           {
            "marker": {
             "colorbar": {
              "outlinewidth": 0,
              "ticks": ""
             }
            },
            "type": "scatterpolargl"
           }
          ],
          "scatterternary": [
           {
            "marker": {
             "colorbar": {
              "outlinewidth": 0,
              "ticks": ""
             }
            },
            "type": "scatterternary"
           }
          ],
          "surface": [
           {
            "colorbar": {
             "outlinewidth": 0,
             "ticks": ""
            },
            "colorscale": [
             [
              0,
              "#0d0887"
             ],
             [
              0.1111111111111111,
              "#46039f"
             ],
             [
              0.2222222222222222,
              "#7201a8"
             ],
             [
              0.3333333333333333,
              "#9c179e"
             ],
             [
              0.4444444444444444,
              "#bd3786"
             ],
             [
              0.5555555555555556,
              "#d8576b"
             ],
             [
              0.6666666666666666,
              "#ed7953"
             ],
             [
              0.7777777777777778,
              "#fb9f3a"
             ],
             [
              0.8888888888888888,
              "#fdca26"
             ],
             [
              1,
              "#f0f921"
             ]
            ],
            "type": "surface"
           }
          ],
          "table": [
           {
            "cells": {
             "fill": {
              "color": "#EBF0F8"
             },
             "line": {
              "color": "white"
             }
            },
            "header": {
             "fill": {
              "color": "#C8D4E3"
             },
             "line": {
              "color": "white"
             }
            },
            "type": "table"
           }
          ]
         },
         "layout": {
          "annotationdefaults": {
           "arrowcolor": "#2a3f5f",
           "arrowhead": 0,
           "arrowwidth": 1
          },
          "coloraxis": {
           "colorbar": {
            "outlinewidth": 0,
            "ticks": ""
           }
          },
          "colorscale": {
           "diverging": [
            [
             0,
             "#8e0152"
            ],
            [
             0.1,
             "#c51b7d"
            ],
            [
             0.2,
             "#de77ae"
            ],
            [
             0.3,
             "#f1b6da"
            ],
            [
             0.4,
             "#fde0ef"
            ],
            [
             0.5,
             "#f7f7f7"
            ],
            [
             0.6,
             "#e6f5d0"
            ],
            [
             0.7,
             "#b8e186"
            ],
            [
             0.8,
             "#7fbc41"
            ],
            [
             0.9,
             "#4d9221"
            ],
            [
             1,
             "#276419"
            ]
           ],
           "sequential": [
            [
             0,
             "#0d0887"
            ],
            [
             0.1111111111111111,
             "#46039f"
            ],
            [
             0.2222222222222222,
             "#7201a8"
            ],
            [
             0.3333333333333333,
             "#9c179e"
            ],
            [
             0.4444444444444444,
             "#bd3786"
            ],
            [
             0.5555555555555556,
             "#d8576b"
            ],
            [
             0.6666666666666666,
             "#ed7953"
            ],
            [
             0.7777777777777778,
             "#fb9f3a"
            ],
            [
             0.8888888888888888,
             "#fdca26"
            ],
            [
             1,
             "#f0f921"
            ]
           ],
           "sequentialminus": [
            [
             0,
             "#0d0887"
            ],
            [
             0.1111111111111111,
             "#46039f"
            ],
            [
             0.2222222222222222,
             "#7201a8"
            ],
            [
             0.3333333333333333,
             "#9c179e"
            ],
            [
             0.4444444444444444,
             "#bd3786"
            ],
            [
             0.5555555555555556,
             "#d8576b"
            ],
            [
             0.6666666666666666,
             "#ed7953"
            ],
            [
             0.7777777777777778,
             "#fb9f3a"
            ],
            [
             0.8888888888888888,
             "#fdca26"
            ],
            [
             1,
             "#f0f921"
            ]
           ]
          },
          "colorway": [
           "#636efa",
           "#EF553B",
           "#00cc96",
           "#ab63fa",
           "#FFA15A",
           "#19d3f3",
           "#FF6692",
           "#B6E880",
           "#FF97FF",
           "#FECB52"
          ],
          "font": {
           "color": "#2a3f5f"
          },
          "geo": {
           "bgcolor": "white",
           "lakecolor": "white",
           "landcolor": "#E5ECF6",
           "showlakes": true,
           "showland": true,
           "subunitcolor": "white"
          },
          "hoverlabel": {
           "align": "left"
          },
          "hovermode": "closest",
          "mapbox": {
           "style": "light"
          },
          "paper_bgcolor": "white",
          "plot_bgcolor": "#E5ECF6",
          "polar": {
           "angularaxis": {
            "gridcolor": "white",
            "linecolor": "white",
            "ticks": ""
           },
           "bgcolor": "#E5ECF6",
           "radialaxis": {
            "gridcolor": "white",
            "linecolor": "white",
            "ticks": ""
           }
          },
          "scene": {
           "xaxis": {
            "backgroundcolor": "#E5ECF6",
            "gridcolor": "white",
            "gridwidth": 2,
            "linecolor": "white",
            "showbackground": true,
            "ticks": "",
            "zerolinecolor": "white"
           },
           "yaxis": {
            "backgroundcolor": "#E5ECF6",
            "gridcolor": "white",
            "gridwidth": 2,
            "linecolor": "white",
            "showbackground": true,
            "ticks": "",
            "zerolinecolor": "white"
           },
           "zaxis": {
            "backgroundcolor": "#E5ECF6",
            "gridcolor": "white",
            "gridwidth": 2,
            "linecolor": "white",
            "showbackground": true,
            "ticks": "",
            "zerolinecolor": "white"
           }
          },
          "shapedefaults": {
           "line": {
            "color": "#2a3f5f"
           }
          },
          "ternary": {
           "aaxis": {
            "gridcolor": "white",
            "linecolor": "white",
            "ticks": ""
           },
           "baxis": {
            "gridcolor": "white",
            "linecolor": "white",
            "ticks": ""
           },
           "bgcolor": "#E5ECF6",
           "caxis": {
            "gridcolor": "white",
            "linecolor": "white",
            "ticks": ""
           }
          },
          "title": {
           "x": 0.05
          },
          "xaxis": {
           "automargin": true,
           "gridcolor": "white",
           "linecolor": "white",
           "ticks": "",
           "title": {
            "standoff": 15
           },
           "zerolinecolor": "white",
           "zerolinewidth": 2
          },
          "yaxis": {
           "automargin": true,
           "gridcolor": "white",
           "linecolor": "white",
           "ticks": "",
           "title": {
            "standoff": 15
           },
           "zerolinecolor": "white",
           "zerolinewidth": 2
          }
         }
        },
        "title": {
         "text": "C=10^4"
        },
        "width": 600
       }
      },
      "text/html": [
       "<div>\n",
       "        \n",
       "        \n",
       "            <div id=\"845fe787-a9e7-4db6-93e4-1dc9d7d10a15\" class=\"plotly-graph-div\" style=\"height:525px; width:600px;\"></div>\n",
       "            <script type=\"text/javascript\">\n",
       "                require([\"plotly\"], function(Plotly) {\n",
       "                    window.PLOTLYENV=window.PLOTLYENV || {};\n",
       "                    \n",
       "                if (document.getElementById(\"845fe787-a9e7-4db6-93e4-1dc9d7d10a15\")) {\n",
       "                    Plotly.newPlot(\n",
       "                        '845fe787-a9e7-4db6-93e4-1dc9d7d10a15',\n",
       "                        [{\"marker\": {\"color\": [-1.0, 1.0, -1.0, -1.0, -1.0, -1.0, -1.0, -1.0, -1.0, -1.0, 1.0, 1.0, 1.0, 1.0, 1.0, 1.0, 1.0, 1.0, 1.0, 1.0], \"colorscale\": [[0.0, \"rgb(103,0,31)\"], [0.1, \"rgb(178,24,43)\"], [0.2, \"rgb(214,96,77)\"], [0.3, \"rgb(244,165,130)\"], [0.4, \"rgb(253,219,199)\"], [0.5, \"rgb(247,247,247)\"], [0.6, \"rgb(209,229,240)\"], [0.7, \"rgb(146,197,222)\"], [0.8, \"rgb(67,147,195)\"], [0.9, \"rgb(33,102,172)\"], [1.0, \"rgb(5,48,97)\"]], \"size\": 10}, \"mode\": \"markers\", \"name\": \"Data\", \"type\": \"scatter\", \"x\": [0.5, -0.5, -0.4315406361270182, -0.4617614284231002, -0.16892053227007353, -0.5295563775737924, -0.23183754092319586, -0.42945349174431197, -0.49144968062295297, -0.5379106111371351, 0.5766069365853674, 0.3847065484401654, 0.3516835304801391, 0.11709574900719513, 0.17792568139102968, 0.1848512192012097, 0.28669687883580186, 0.5291582939589509, 0.39173084886622345, 0.1888963100948403], \"y\": [0.0, 0.0, 0.20847713250846214, 0.27165779638972876, 0.1783498350047443, 0.4785401403203442, 0.2778315458178908, 0.4334015252766632, 0.3807134912164687, 0.25986824222676397, -0.5313216046011098, -0.11216725853839699, -0.266167896925947, -0.3719403168447851, -0.361975516750565, -0.15187083137991447, -0.4101535347626241, -0.2769694725576214, -0.2658249865805824, -0.17537599159106854]}, {\"mode\": \"lines\", \"name\": \"Decision line\", \"type\": \"scatter\", \"x\": [-1.0, 1.0], \"y\": [0.26668050531303217, -0.18086624992640216]}, {\"line\": {\"dash\": \"dash\"}, \"mode\": \"lines\", \"name\": \"Support line\", \"type\": \"scatter\", \"x\": [-1.0, 1.0], \"y\": [0.3356754983728446, -0.11187125686658973]}, {\"line\": {\"dash\": \"dash\"}, \"mode\": \"lines\", \"name\": \"Support line\", \"type\": \"scatter\", \"x\": [-1.0, 1.0], \"y\": [0.1976855122532198, -0.24986124298621454]}],\n",
       "                        {\"template\": {\"data\": {\"bar\": [{\"error_x\": {\"color\": \"#2a3f5f\"}, \"error_y\": {\"color\": \"#2a3f5f\"}, \"marker\": {\"line\": {\"color\": \"#E5ECF6\", \"width\": 0.5}}, \"type\": \"bar\"}], \"barpolar\": [{\"marker\": {\"line\": {\"color\": \"#E5ECF6\", \"width\": 0.5}}, \"type\": \"barpolar\"}], \"carpet\": [{\"aaxis\": {\"endlinecolor\": \"#2a3f5f\", \"gridcolor\": \"white\", \"linecolor\": \"white\", \"minorgridcolor\": \"white\", \"startlinecolor\": \"#2a3f5f\"}, \"baxis\": {\"endlinecolor\": \"#2a3f5f\", \"gridcolor\": \"white\", \"linecolor\": \"white\", \"minorgridcolor\": \"white\", \"startlinecolor\": \"#2a3f5f\"}, \"type\": \"carpet\"}], \"choropleth\": [{\"colorbar\": {\"outlinewidth\": 0, \"ticks\": \"\"}, \"type\": \"choropleth\"}], \"contour\": [{\"colorbar\": {\"outlinewidth\": 0, \"ticks\": \"\"}, \"colorscale\": [[0.0, \"#0d0887\"], [0.1111111111111111, \"#46039f\"], [0.2222222222222222, \"#7201a8\"], [0.3333333333333333, \"#9c179e\"], [0.4444444444444444, \"#bd3786\"], [0.5555555555555556, \"#d8576b\"], [0.6666666666666666, \"#ed7953\"], [0.7777777777777778, \"#fb9f3a\"], [0.8888888888888888, \"#fdca26\"], [1.0, \"#f0f921\"]], \"type\": \"contour\"}], \"contourcarpet\": [{\"colorbar\": {\"outlinewidth\": 0, \"ticks\": \"\"}, \"type\": \"contourcarpet\"}], \"heatmap\": [{\"colorbar\": {\"outlinewidth\": 0, \"ticks\": \"\"}, \"colorscale\": [[0.0, \"#0d0887\"], [0.1111111111111111, \"#46039f\"], [0.2222222222222222, \"#7201a8\"], [0.3333333333333333, \"#9c179e\"], [0.4444444444444444, \"#bd3786\"], [0.5555555555555556, \"#d8576b\"], [0.6666666666666666, \"#ed7953\"], [0.7777777777777778, \"#fb9f3a\"], [0.8888888888888888, \"#fdca26\"], [1.0, \"#f0f921\"]], \"type\": \"heatmap\"}], \"heatmapgl\": [{\"colorbar\": {\"outlinewidth\": 0, \"ticks\": \"\"}, \"colorscale\": [[0.0, \"#0d0887\"], [0.1111111111111111, \"#46039f\"], [0.2222222222222222, \"#7201a8\"], [0.3333333333333333, \"#9c179e\"], [0.4444444444444444, \"#bd3786\"], [0.5555555555555556, \"#d8576b\"], [0.6666666666666666, \"#ed7953\"], [0.7777777777777778, \"#fb9f3a\"], [0.8888888888888888, \"#fdca26\"], [1.0, \"#f0f921\"]], \"type\": \"heatmapgl\"}], \"histogram\": [{\"marker\": {\"colorbar\": {\"outlinewidth\": 0, \"ticks\": \"\"}}, \"type\": \"histogram\"}], \"histogram2d\": [{\"colorbar\": {\"outlinewidth\": 0, \"ticks\": \"\"}, \"colorscale\": [[0.0, \"#0d0887\"], [0.1111111111111111, \"#46039f\"], [0.2222222222222222, \"#7201a8\"], [0.3333333333333333, \"#9c179e\"], [0.4444444444444444, \"#bd3786\"], [0.5555555555555556, \"#d8576b\"], [0.6666666666666666, \"#ed7953\"], [0.7777777777777778, \"#fb9f3a\"], [0.8888888888888888, \"#fdca26\"], [1.0, \"#f0f921\"]], \"type\": \"histogram2d\"}], \"histogram2dcontour\": [{\"colorbar\": {\"outlinewidth\": 0, \"ticks\": \"\"}, \"colorscale\": [[0.0, \"#0d0887\"], [0.1111111111111111, \"#46039f\"], [0.2222222222222222, \"#7201a8\"], [0.3333333333333333, \"#9c179e\"], [0.4444444444444444, \"#bd3786\"], [0.5555555555555556, \"#d8576b\"], [0.6666666666666666, \"#ed7953\"], [0.7777777777777778, \"#fb9f3a\"], [0.8888888888888888, \"#fdca26\"], [1.0, \"#f0f921\"]], \"type\": \"histogram2dcontour\"}], \"mesh3d\": [{\"colorbar\": {\"outlinewidth\": 0, \"ticks\": \"\"}, \"type\": \"mesh3d\"}], \"parcoords\": [{\"line\": {\"colorbar\": {\"outlinewidth\": 0, \"ticks\": \"\"}}, \"type\": \"parcoords\"}], \"pie\": [{\"automargin\": true, \"type\": \"pie\"}], \"scatter\": [{\"marker\": {\"colorbar\": {\"outlinewidth\": 0, \"ticks\": \"\"}}, \"type\": \"scatter\"}], \"scatter3d\": [{\"line\": {\"colorbar\": {\"outlinewidth\": 0, \"ticks\": \"\"}}, \"marker\": {\"colorbar\": {\"outlinewidth\": 0, \"ticks\": \"\"}}, \"type\": \"scatter3d\"}], \"scattercarpet\": [{\"marker\": {\"colorbar\": {\"outlinewidth\": 0, \"ticks\": \"\"}}, \"type\": \"scattercarpet\"}], \"scattergeo\": [{\"marker\": {\"colorbar\": {\"outlinewidth\": 0, \"ticks\": \"\"}}, \"type\": \"scattergeo\"}], \"scattergl\": [{\"marker\": {\"colorbar\": {\"outlinewidth\": 0, \"ticks\": \"\"}}, \"type\": \"scattergl\"}], \"scattermapbox\": [{\"marker\": {\"colorbar\": {\"outlinewidth\": 0, \"ticks\": \"\"}}, \"type\": \"scattermapbox\"}], \"scatterpolar\": [{\"marker\": {\"colorbar\": {\"outlinewidth\": 0, \"ticks\": \"\"}}, \"type\": \"scatterpolar\"}], \"scatterpolargl\": [{\"marker\": {\"colorbar\": {\"outlinewidth\": 0, \"ticks\": \"\"}}, \"type\": \"scatterpolargl\"}], \"scatterternary\": [{\"marker\": {\"colorbar\": {\"outlinewidth\": 0, \"ticks\": \"\"}}, \"type\": \"scatterternary\"}], \"surface\": [{\"colorbar\": {\"outlinewidth\": 0, \"ticks\": \"\"}, \"colorscale\": [[0.0, \"#0d0887\"], [0.1111111111111111, \"#46039f\"], [0.2222222222222222, \"#7201a8\"], [0.3333333333333333, \"#9c179e\"], [0.4444444444444444, \"#bd3786\"], [0.5555555555555556, \"#d8576b\"], [0.6666666666666666, \"#ed7953\"], [0.7777777777777778, \"#fb9f3a\"], [0.8888888888888888, \"#fdca26\"], [1.0, \"#f0f921\"]], \"type\": \"surface\"}], \"table\": [{\"cells\": {\"fill\": {\"color\": \"#EBF0F8\"}, \"line\": {\"color\": \"white\"}}, \"header\": {\"fill\": {\"color\": \"#C8D4E3\"}, \"line\": {\"color\": \"white\"}}, \"type\": \"table\"}]}, \"layout\": {\"annotationdefaults\": {\"arrowcolor\": \"#2a3f5f\", \"arrowhead\": 0, \"arrowwidth\": 1}, \"coloraxis\": {\"colorbar\": {\"outlinewidth\": 0, \"ticks\": \"\"}}, \"colorscale\": {\"diverging\": [[0, \"#8e0152\"], [0.1, \"#c51b7d\"], [0.2, \"#de77ae\"], [0.3, \"#f1b6da\"], [0.4, \"#fde0ef\"], [0.5, \"#f7f7f7\"], [0.6, \"#e6f5d0\"], [0.7, \"#b8e186\"], [0.8, \"#7fbc41\"], [0.9, \"#4d9221\"], [1, \"#276419\"]], \"sequential\": [[0.0, \"#0d0887\"], [0.1111111111111111, \"#46039f\"], [0.2222222222222222, \"#7201a8\"], [0.3333333333333333, \"#9c179e\"], [0.4444444444444444, \"#bd3786\"], [0.5555555555555556, \"#d8576b\"], [0.6666666666666666, \"#ed7953\"], [0.7777777777777778, \"#fb9f3a\"], [0.8888888888888888, \"#fdca26\"], [1.0, \"#f0f921\"]], \"sequentialminus\": [[0.0, \"#0d0887\"], [0.1111111111111111, \"#46039f\"], [0.2222222222222222, \"#7201a8\"], [0.3333333333333333, \"#9c179e\"], [0.4444444444444444, \"#bd3786\"], [0.5555555555555556, \"#d8576b\"], [0.6666666666666666, \"#ed7953\"], [0.7777777777777778, \"#fb9f3a\"], [0.8888888888888888, \"#fdca26\"], [1.0, \"#f0f921\"]]}, \"colorway\": [\"#636efa\", \"#EF553B\", \"#00cc96\", \"#ab63fa\", \"#FFA15A\", \"#19d3f3\", \"#FF6692\", \"#B6E880\", \"#FF97FF\", \"#FECB52\"], \"font\": {\"color\": \"#2a3f5f\"}, \"geo\": {\"bgcolor\": \"white\", \"lakecolor\": \"white\", \"landcolor\": \"#E5ECF6\", \"showlakes\": true, \"showland\": true, \"subunitcolor\": \"white\"}, \"hoverlabel\": {\"align\": \"left\"}, \"hovermode\": \"closest\", \"mapbox\": {\"style\": \"light\"}, \"paper_bgcolor\": \"white\", \"plot_bgcolor\": \"#E5ECF6\", \"polar\": {\"angularaxis\": {\"gridcolor\": \"white\", \"linecolor\": \"white\", \"ticks\": \"\"}, \"bgcolor\": \"#E5ECF6\", \"radialaxis\": {\"gridcolor\": \"white\", \"linecolor\": \"white\", \"ticks\": \"\"}}, \"scene\": {\"xaxis\": {\"backgroundcolor\": \"#E5ECF6\", \"gridcolor\": \"white\", \"gridwidth\": 2, \"linecolor\": \"white\", \"showbackground\": true, \"ticks\": \"\", \"zerolinecolor\": \"white\"}, \"yaxis\": {\"backgroundcolor\": \"#E5ECF6\", \"gridcolor\": \"white\", \"gridwidth\": 2, \"linecolor\": \"white\", \"showbackground\": true, \"ticks\": \"\", \"zerolinecolor\": \"white\"}, \"zaxis\": {\"backgroundcolor\": \"#E5ECF6\", \"gridcolor\": \"white\", \"gridwidth\": 2, \"linecolor\": \"white\", \"showbackground\": true, \"ticks\": \"\", \"zerolinecolor\": \"white\"}}, \"shapedefaults\": {\"line\": {\"color\": \"#2a3f5f\"}}, \"ternary\": {\"aaxis\": {\"gridcolor\": \"white\", \"linecolor\": \"white\", \"ticks\": \"\"}, \"baxis\": {\"gridcolor\": \"white\", \"linecolor\": \"white\", \"ticks\": \"\"}, \"bgcolor\": \"#E5ECF6\", \"caxis\": {\"gridcolor\": \"white\", \"linecolor\": \"white\", \"ticks\": \"\"}}, \"title\": {\"x\": 0.05}, \"xaxis\": {\"automargin\": true, \"gridcolor\": \"white\", \"linecolor\": \"white\", \"ticks\": \"\", \"title\": {\"standoff\": 15}, \"zerolinecolor\": \"white\", \"zerolinewidth\": 2}, \"yaxis\": {\"automargin\": true, \"gridcolor\": \"white\", \"linecolor\": \"white\", \"ticks\": \"\", \"title\": {\"standoff\": 15}, \"zerolinecolor\": \"white\", \"zerolinewidth\": 2}}}, \"title\": {\"text\": \"C=10^4\"}, \"width\": 600},\n",
       "                        {\"responsive\": true}\n",
       "                    ).then(function(){\n",
       "                            \n",
       "var gd = document.getElementById('845fe787-a9e7-4db6-93e4-1dc9d7d10a15');\n",
       "var x = new MutationObserver(function (mutations, observer) {{\n",
       "        var display = window.getComputedStyle(gd).display;\n",
       "        if (!display || display === 'none') {{\n",
       "            console.log([gd, 'removed!']);\n",
       "            Plotly.purge(gd);\n",
       "            observer.disconnect();\n",
       "        }}\n",
       "}});\n",
       "\n",
       "// Listen for the removal of the full notebook cells\n",
       "var notebookContainer = gd.closest('#notebook-container');\n",
       "if (notebookContainer) {{\n",
       "    x.observe(notebookContainer, {childList: true});\n",
       "}}\n",
       "\n",
       "// Listen for the clearing of the current output cell\n",
       "var outputEl = gd.closest('.output');\n",
       "if (outputEl) {{\n",
       "    x.observe(outputEl, {childList: true});\n",
       "}}\n",
       "\n",
       "                        })\n",
       "                };\n",
       "                });\n",
       "            </script>\n",
       "        </div>"
      ]
     },
     "metadata": {},
     "output_type": "display_data"
    }
   ],
   "source": [
    "# 2 outlier points\n",
    "# Large value of C = overfit\n",
    "\n",
    "np.random.seed(2020)\n",
    "\n",
    "# two clusters of points\n",
    "X = np.r_[np.random.rand(10, 2)/2 + [-0.6, 0.1], \n",
    "          np.random.rand(10, 2)/2 + [0.1, -0.6]]\n",
    "\n",
    "y = np.zeros(X.shape[0])\n",
    "\n",
    "# initialize labels\n",
    "for i in range(0,X.shape[0]):\n",
    "    y[i] = labels_line(X[i,:])\n",
    "\n",
    "# creating two outliers\n",
    "X[0,:] = np.array([0.5, 0])\n",
    "y[0] = -1\n",
    "X[1,:] = np.array([-0.5, 0])\n",
    "y[1] = 1\n",
    "\n",
    "# fit the model\n",
    "clf = svm.SVC(kernel=\"linear\", C = 1e4)\n",
    "clf.fit(X, y)\n",
    "\n",
    "fig = go.Figure()\n",
    "plot_data_decision_line(X,y,clf,fig,\"C=10^4\")\n",
    "fig.show()"
   ]
  },
  {
   "cell_type": "code",
   "execution_count": 17,
   "metadata": {},
   "outputs": [],
   "source": [
    "fig.write_html('../_includes/svm6.html')"
   ]
  },
  {
   "cell_type": "code",
   "execution_count": 18,
   "metadata": {
    "colab": {
     "base_uri": "https://localhost:8080/",
     "height": 542
    },
    "colab_type": "code",
    "id": "G7V1U5KKFC9C",
    "outputId": "94339303-93d6-4c92-f032-6bb3715570b1"
   },
   "outputs": [
    {
     "data": {
      "application/vnd.plotly.v1+json": {
       "config": {
        "plotlyServerURL": "https://plot.ly"
       },
       "data": [
        {
         "marker": {
          "color": [
           -1,
           1,
           -1,
           -1,
           -1,
           -1,
           -1,
           -1,
           -1,
           -1,
           1,
           1,
           1,
           1,
           1,
           1,
           1,
           1,
           1,
           1
          ],
          "colorscale": [
           [
            0,
            "rgb(103,0,31)"
           ],
           [
            0.1,
            "rgb(178,24,43)"
           ],
           [
            0.2,
            "rgb(214,96,77)"
           ],
           [
            0.3,
            "rgb(244,165,130)"
           ],
           [
            0.4,
            "rgb(253,219,199)"
           ],
           [
            0.5,
            "rgb(247,247,247)"
           ],
           [
            0.6,
            "rgb(209,229,240)"
           ],
           [
            0.7,
            "rgb(146,197,222)"
           ],
           [
            0.8,
            "rgb(67,147,195)"
           ],
           [
            0.9,
            "rgb(33,102,172)"
           ],
           [
            1,
            "rgb(5,48,97)"
           ]
          ],
          "size": 10
         },
         "mode": "markers",
         "name": "Data",
         "type": "scatter",
         "x": [
          0.5,
          -0.5,
          -0.4315406361270182,
          -0.4617614284231002,
          -0.16892053227007353,
          -0.5295563775737924,
          -0.23183754092319586,
          -0.42945349174431197,
          -0.49144968062295297,
          -0.5379106111371351,
          0.5766069365853674,
          0.3847065484401654,
          0.3516835304801391,
          0.11709574900719513,
          0.17792568139102968,
          0.1848512192012097,
          0.28669687883580186,
          0.5291582939589509,
          0.39173084886622345,
          0.1888963100948403
         ],
         "y": [
          0,
          0,
          0.20847713250846214,
          0.27165779638972876,
          0.1783498350047443,
          0.4785401403203442,
          0.2778315458178908,
          0.4334015252766632,
          0.3807134912164687,
          0.25986824222676397,
          -0.5313216046011098,
          -0.11216725853839699,
          -0.266167896925947,
          -0.3719403168447851,
          -0.361975516750565,
          -0.15187083137991447,
          -0.4101535347626241,
          -0.2769694725576214,
          -0.2658249865805824,
          -0.17537599159106854
         ]
        },
        {
         "mode": "lines",
         "name": "Decision line",
         "type": "scatter",
         "x": [
          -1,
          1
         ],
         "y": [
          -0.592683383156503,
          1.3038054873658305
         ]
        },
        {
         "line": {
          "dash": "dash"
         },
         "mode": "lines",
         "name": "Support line",
         "type": "scatter",
         "x": [
          -1,
          1
         ],
         "y": [
          0.49325423586097394,
          2.3897431063833077
         ]
        },
        {
         "line": {
          "dash": "dash"
         },
         "mode": "lines",
         "name": "Support line",
         "type": "scatter",
         "x": [
          -1,
          1
         ],
         "y": [
          -1.6786210021739802,
          0.21786786834835337
         ]
        }
       ],
       "layout": {
        "template": {
         "data": {
          "bar": [
           {
            "error_x": {
             "color": "#2a3f5f"
            },
            "error_y": {
             "color": "#2a3f5f"
            },
            "marker": {
             "line": {
              "color": "#E5ECF6",
              "width": 0.5
             }
            },
            "type": "bar"
           }
          ],
          "barpolar": [
           {
            "marker": {
             "line": {
              "color": "#E5ECF6",
              "width": 0.5
             }
            },
            "type": "barpolar"
           }
          ],
          "carpet": [
           {
            "aaxis": {
             "endlinecolor": "#2a3f5f",
             "gridcolor": "white",
             "linecolor": "white",
             "minorgridcolor": "white",
             "startlinecolor": "#2a3f5f"
            },
            "baxis": {
             "endlinecolor": "#2a3f5f",
             "gridcolor": "white",
             "linecolor": "white",
             "minorgridcolor": "white",
             "startlinecolor": "#2a3f5f"
            },
            "type": "carpet"
           }
          ],
          "choropleth": [
           {
            "colorbar": {
             "outlinewidth": 0,
             "ticks": ""
            },
            "type": "choropleth"
           }
          ],
          "contour": [
           {
            "colorbar": {
             "outlinewidth": 0,
             "ticks": ""
            },
            "colorscale": [
             [
              0,
              "#0d0887"
             ],
             [
              0.1111111111111111,
              "#46039f"
             ],
             [
              0.2222222222222222,
              "#7201a8"
             ],
             [
              0.3333333333333333,
              "#9c179e"
             ],
             [
              0.4444444444444444,
              "#bd3786"
             ],
             [
              0.5555555555555556,
              "#d8576b"
             ],
             [
              0.6666666666666666,
              "#ed7953"
             ],
             [
              0.7777777777777778,
              "#fb9f3a"
             ],
             [
              0.8888888888888888,
              "#fdca26"
             ],
             [
              1,
              "#f0f921"
             ]
            ],
            "type": "contour"
           }
          ],
          "contourcarpet": [
           {
            "colorbar": {
             "outlinewidth": 0,
             "ticks": ""
            },
            "type": "contourcarpet"
           }
          ],
          "heatmap": [
           {
            "colorbar": {
             "outlinewidth": 0,
             "ticks": ""
            },
            "colorscale": [
             [
              0,
              "#0d0887"
             ],
             [
              0.1111111111111111,
              "#46039f"
             ],
             [
              0.2222222222222222,
              "#7201a8"
             ],
             [
              0.3333333333333333,
              "#9c179e"
             ],
             [
              0.4444444444444444,
              "#bd3786"
             ],
             [
              0.5555555555555556,
              "#d8576b"
             ],
             [
              0.6666666666666666,
              "#ed7953"
             ],
             [
              0.7777777777777778,
              "#fb9f3a"
             ],
             [
              0.8888888888888888,
              "#fdca26"
             ],
             [
              1,
              "#f0f921"
             ]
            ],
            "type": "heatmap"
           }
          ],
          "heatmapgl": [
           {
            "colorbar": {
             "outlinewidth": 0,
             "ticks": ""
            },
            "colorscale": [
             [
              0,
              "#0d0887"
             ],
             [
              0.1111111111111111,
              "#46039f"
             ],
             [
              0.2222222222222222,
              "#7201a8"
             ],
             [
              0.3333333333333333,
              "#9c179e"
             ],
             [
              0.4444444444444444,
              "#bd3786"
             ],
             [
              0.5555555555555556,
              "#d8576b"
             ],
             [
              0.6666666666666666,
              "#ed7953"
             ],
             [
              0.7777777777777778,
              "#fb9f3a"
             ],
             [
              0.8888888888888888,
              "#fdca26"
             ],
             [
              1,
              "#f0f921"
             ]
            ],
            "type": "heatmapgl"
           }
          ],
          "histogram": [
           {
            "marker": {
             "colorbar": {
              "outlinewidth": 0,
              "ticks": ""
             }
            },
            "type": "histogram"
           }
          ],
          "histogram2d": [
           {
            "colorbar": {
             "outlinewidth": 0,
             "ticks": ""
            },
            "colorscale": [
             [
              0,
              "#0d0887"
             ],
             [
              0.1111111111111111,
              "#46039f"
             ],
             [
              0.2222222222222222,
              "#7201a8"
             ],
             [
              0.3333333333333333,
              "#9c179e"
             ],
             [
              0.4444444444444444,
              "#bd3786"
             ],
             [
              0.5555555555555556,
              "#d8576b"
             ],
             [
              0.6666666666666666,
              "#ed7953"
             ],
             [
              0.7777777777777778,
              "#fb9f3a"
             ],
             [
              0.8888888888888888,
              "#fdca26"
             ],
             [
              1,
              "#f0f921"
             ]
            ],
            "type": "histogram2d"
           }
          ],
          "histogram2dcontour": [
           {
            "colorbar": {
             "outlinewidth": 0,
             "ticks": ""
            },
            "colorscale": [
             [
              0,
              "#0d0887"
             ],
             [
              0.1111111111111111,
              "#46039f"
             ],
             [
              0.2222222222222222,
              "#7201a8"
             ],
             [
              0.3333333333333333,
              "#9c179e"
             ],
             [
              0.4444444444444444,
              "#bd3786"
             ],
             [
              0.5555555555555556,
              "#d8576b"
             ],
             [
              0.6666666666666666,
              "#ed7953"
             ],
             [
              0.7777777777777778,
              "#fb9f3a"
             ],
             [
              0.8888888888888888,
              "#fdca26"
             ],
             [
              1,
              "#f0f921"
             ]
            ],
            "type": "histogram2dcontour"
           }
          ],
          "mesh3d": [
           {
            "colorbar": {
             "outlinewidth": 0,
             "ticks": ""
            },
            "type": "mesh3d"
           }
          ],
          "parcoords": [
           {
            "line": {
             "colorbar": {
              "outlinewidth": 0,
              "ticks": ""
             }
            },
            "type": "parcoords"
           }
          ],
          "pie": [
           {
            "automargin": true,
            "type": "pie"
           }
          ],
          "scatter": [
           {
            "marker": {
             "colorbar": {
              "outlinewidth": 0,
              "ticks": ""
             }
            },
            "type": "scatter"
           }
          ],
          "scatter3d": [
           {
            "line": {
             "colorbar": {
              "outlinewidth": 0,
              "ticks": ""
             }
            },
            "marker": {
             "colorbar": {
              "outlinewidth": 0,
              "ticks": ""
             }
            },
            "type": "scatter3d"
           }
          ],
          "scattercarpet": [
           {
            "marker": {
             "colorbar": {
              "outlinewidth": 0,
              "ticks": ""
             }
            },
            "type": "scattercarpet"
           }
          ],
          "scattergeo": [
           {
            "marker": {
             "colorbar": {
              "outlinewidth": 0,
              "ticks": ""
             }
            },
            "type": "scattergeo"
           }
          ],
          "scattergl": [
           {
            "marker": {
             "colorbar": {
              "outlinewidth": 0,
              "ticks": ""
             }
            },
            "type": "scattergl"
           }
          ],
          "scattermapbox": [
           {
            "marker": {
             "colorbar": {
              "outlinewidth": 0,
              "ticks": ""
             }
            },
            "type": "scattermapbox"
           }
          ],
          "scatterpolar": [
           {
            "marker": {
             "colorbar": {
              "outlinewidth": 0,
              "ticks": ""
             }
            },
            "type": "scatterpolar"
           }
          ],
          "scatterpolargl": [
           {
            "marker": {
             "colorbar": {
              "outlinewidth": 0,
              "ticks": ""
             }
            },
            "type": "scatterpolargl"
           }
          ],
          "scatterternary": [
           {
            "marker": {
             "colorbar": {
              "outlinewidth": 0,
              "ticks": ""
             }
            },
            "type": "scatterternary"
           }
          ],
          "surface": [
           {
            "colorbar": {
             "outlinewidth": 0,
             "ticks": ""
            },
            "colorscale": [
             [
              0,
              "#0d0887"
             ],
             [
              0.1111111111111111,
              "#46039f"
             ],
             [
              0.2222222222222222,
              "#7201a8"
             ],
             [
              0.3333333333333333,
              "#9c179e"
             ],
             [
              0.4444444444444444,
              "#bd3786"
             ],
             [
              0.5555555555555556,
              "#d8576b"
             ],
             [
              0.6666666666666666,
              "#ed7953"
             ],
             [
              0.7777777777777778,
              "#fb9f3a"
             ],
             [
              0.8888888888888888,
              "#fdca26"
             ],
             [
              1,
              "#f0f921"
             ]
            ],
            "type": "surface"
           }
          ],
          "table": [
           {
            "cells": {
             "fill": {
              "color": "#EBF0F8"
             },
             "line": {
              "color": "white"
             }
            },
            "header": {
             "fill": {
              "color": "#C8D4E3"
             },
             "line": {
              "color": "white"
             }
            },
            "type": "table"
           }
          ]
         },
         "layout": {
          "annotationdefaults": {
           "arrowcolor": "#2a3f5f",
           "arrowhead": 0,
           "arrowwidth": 1
          },
          "coloraxis": {
           "colorbar": {
            "outlinewidth": 0,
            "ticks": ""
           }
          },
          "colorscale": {
           "diverging": [
            [
             0,
             "#8e0152"
            ],
            [
             0.1,
             "#c51b7d"
            ],
            [
             0.2,
             "#de77ae"
            ],
            [
             0.3,
             "#f1b6da"
            ],
            [
             0.4,
             "#fde0ef"
            ],
            [
             0.5,
             "#f7f7f7"
            ],
            [
             0.6,
             "#e6f5d0"
            ],
            [
             0.7,
             "#b8e186"
            ],
            [
             0.8,
             "#7fbc41"
            ],
            [
             0.9,
             "#4d9221"
            ],
            [
             1,
             "#276419"
            ]
           ],
           "sequential": [
            [
             0,
             "#0d0887"
            ],
            [
             0.1111111111111111,
             "#46039f"
            ],
            [
             0.2222222222222222,
             "#7201a8"
            ],
            [
             0.3333333333333333,
             "#9c179e"
            ],
            [
             0.4444444444444444,
             "#bd3786"
            ],
            [
             0.5555555555555556,
             "#d8576b"
            ],
            [
             0.6666666666666666,
             "#ed7953"
            ],
            [
             0.7777777777777778,
             "#fb9f3a"
            ],
            [
             0.8888888888888888,
             "#fdca26"
            ],
            [
             1,
             "#f0f921"
            ]
           ],
           "sequentialminus": [
            [
             0,
             "#0d0887"
            ],
            [
             0.1111111111111111,
             "#46039f"
            ],
            [
             0.2222222222222222,
             "#7201a8"
            ],
            [
             0.3333333333333333,
             "#9c179e"
            ],
            [
             0.4444444444444444,
             "#bd3786"
            ],
            [
             0.5555555555555556,
             "#d8576b"
            ],
            [
             0.6666666666666666,
             "#ed7953"
            ],
            [
             0.7777777777777778,
             "#fb9f3a"
            ],
            [
             0.8888888888888888,
             "#fdca26"
            ],
            [
             1,
             "#f0f921"
            ]
           ]
          },
          "colorway": [
           "#636efa",
           "#EF553B",
           "#00cc96",
           "#ab63fa",
           "#FFA15A",
           "#19d3f3",
           "#FF6692",
           "#B6E880",
           "#FF97FF",
           "#FECB52"
          ],
          "font": {
           "color": "#2a3f5f"
          },
          "geo": {
           "bgcolor": "white",
           "lakecolor": "white",
           "landcolor": "#E5ECF6",
           "showlakes": true,
           "showland": true,
           "subunitcolor": "white"
          },
          "hoverlabel": {
           "align": "left"
          },
          "hovermode": "closest",
          "mapbox": {
           "style": "light"
          },
          "paper_bgcolor": "white",
          "plot_bgcolor": "#E5ECF6",
          "polar": {
           "angularaxis": {
            "gridcolor": "white",
            "linecolor": "white",
            "ticks": ""
           },
           "bgcolor": "#E5ECF6",
           "radialaxis": {
            "gridcolor": "white",
            "linecolor": "white",
            "ticks": ""
           }
          },
          "scene": {
           "xaxis": {
            "backgroundcolor": "#E5ECF6",
            "gridcolor": "white",
            "gridwidth": 2,
            "linecolor": "white",
            "showbackground": true,
            "ticks": "",
            "zerolinecolor": "white"
           },
           "yaxis": {
            "backgroundcolor": "#E5ECF6",
            "gridcolor": "white",
            "gridwidth": 2,
            "linecolor": "white",
            "showbackground": true,
            "ticks": "",
            "zerolinecolor": "white"
           },
           "zaxis": {
            "backgroundcolor": "#E5ECF6",
            "gridcolor": "white",
            "gridwidth": 2,
            "linecolor": "white",
            "showbackground": true,
            "ticks": "",
            "zerolinecolor": "white"
           }
          },
          "shapedefaults": {
           "line": {
            "color": "#2a3f5f"
           }
          },
          "ternary": {
           "aaxis": {
            "gridcolor": "white",
            "linecolor": "white",
            "ticks": ""
           },
           "baxis": {
            "gridcolor": "white",
            "linecolor": "white",
            "ticks": ""
           },
           "bgcolor": "#E5ECF6",
           "caxis": {
            "gridcolor": "white",
            "linecolor": "white",
            "ticks": ""
           }
          },
          "title": {
           "x": 0.05
          },
          "xaxis": {
           "automargin": true,
           "gridcolor": "white",
           "linecolor": "white",
           "ticks": "",
           "title": {
            "standoff": 15
           },
           "zerolinecolor": "white",
           "zerolinewidth": 2
          },
          "yaxis": {
           "automargin": true,
           "gridcolor": "white",
           "linecolor": "white",
           "ticks": "",
           "title": {
            "standoff": 15
           },
           "zerolinecolor": "white",
           "zerolinewidth": 2
          }
         }
        },
        "title": {
         "text": "C=0.2"
        },
        "width": 600
       }
      },
      "text/html": [
       "<div>\n",
       "        \n",
       "        \n",
       "            <div id=\"6e39ba12-bd42-45bd-b9a1-2e5dbec130d0\" class=\"plotly-graph-div\" style=\"height:525px; width:600px;\"></div>\n",
       "            <script type=\"text/javascript\">\n",
       "                require([\"plotly\"], function(Plotly) {\n",
       "                    window.PLOTLYENV=window.PLOTLYENV || {};\n",
       "                    \n",
       "                if (document.getElementById(\"6e39ba12-bd42-45bd-b9a1-2e5dbec130d0\")) {\n",
       "                    Plotly.newPlot(\n",
       "                        '6e39ba12-bd42-45bd-b9a1-2e5dbec130d0',\n",
       "                        [{\"marker\": {\"color\": [-1.0, 1.0, -1.0, -1.0, -1.0, -1.0, -1.0, -1.0, -1.0, -1.0, 1.0, 1.0, 1.0, 1.0, 1.0, 1.0, 1.0, 1.0, 1.0, 1.0], \"colorscale\": [[0.0, \"rgb(103,0,31)\"], [0.1, \"rgb(178,24,43)\"], [0.2, \"rgb(214,96,77)\"], [0.3, \"rgb(244,165,130)\"], [0.4, \"rgb(253,219,199)\"], [0.5, \"rgb(247,247,247)\"], [0.6, \"rgb(209,229,240)\"], [0.7, \"rgb(146,197,222)\"], [0.8, \"rgb(67,147,195)\"], [0.9, \"rgb(33,102,172)\"], [1.0, \"rgb(5,48,97)\"]], \"size\": 10}, \"mode\": \"markers\", \"name\": \"Data\", \"type\": \"scatter\", \"x\": [0.5, -0.5, -0.4315406361270182, -0.4617614284231002, -0.16892053227007353, -0.5295563775737924, -0.23183754092319586, -0.42945349174431197, -0.49144968062295297, -0.5379106111371351, 0.5766069365853674, 0.3847065484401654, 0.3516835304801391, 0.11709574900719513, 0.17792568139102968, 0.1848512192012097, 0.28669687883580186, 0.5291582939589509, 0.39173084886622345, 0.1888963100948403], \"y\": [0.0, 0.0, 0.20847713250846214, 0.27165779638972876, 0.1783498350047443, 0.4785401403203442, 0.2778315458178908, 0.4334015252766632, 0.3807134912164687, 0.25986824222676397, -0.5313216046011098, -0.11216725853839699, -0.266167896925947, -0.3719403168447851, -0.361975516750565, -0.15187083137991447, -0.4101535347626241, -0.2769694725576214, -0.2658249865805824, -0.17537599159106854]}, {\"mode\": \"lines\", \"name\": \"Decision line\", \"type\": \"scatter\", \"x\": [-1.0, 1.0], \"y\": [-0.592683383156503, 1.3038054873658305]}, {\"line\": {\"dash\": \"dash\"}, \"mode\": \"lines\", \"name\": \"Support line\", \"type\": \"scatter\", \"x\": [-1.0, 1.0], \"y\": [0.49325423586097394, 2.3897431063833077]}, {\"line\": {\"dash\": \"dash\"}, \"mode\": \"lines\", \"name\": \"Support line\", \"type\": \"scatter\", \"x\": [-1.0, 1.0], \"y\": [-1.6786210021739802, 0.21786786834835337]}],\n",
       "                        {\"template\": {\"data\": {\"bar\": [{\"error_x\": {\"color\": \"#2a3f5f\"}, \"error_y\": {\"color\": \"#2a3f5f\"}, \"marker\": {\"line\": {\"color\": \"#E5ECF6\", \"width\": 0.5}}, \"type\": \"bar\"}], \"barpolar\": [{\"marker\": {\"line\": {\"color\": \"#E5ECF6\", \"width\": 0.5}}, \"type\": \"barpolar\"}], \"carpet\": [{\"aaxis\": {\"endlinecolor\": \"#2a3f5f\", \"gridcolor\": \"white\", \"linecolor\": \"white\", \"minorgridcolor\": \"white\", \"startlinecolor\": \"#2a3f5f\"}, \"baxis\": {\"endlinecolor\": \"#2a3f5f\", \"gridcolor\": \"white\", \"linecolor\": \"white\", \"minorgridcolor\": \"white\", \"startlinecolor\": \"#2a3f5f\"}, \"type\": \"carpet\"}], \"choropleth\": [{\"colorbar\": {\"outlinewidth\": 0, \"ticks\": \"\"}, \"type\": \"choropleth\"}], \"contour\": [{\"colorbar\": {\"outlinewidth\": 0, \"ticks\": \"\"}, \"colorscale\": [[0.0, \"#0d0887\"], [0.1111111111111111, \"#46039f\"], [0.2222222222222222, \"#7201a8\"], [0.3333333333333333, \"#9c179e\"], [0.4444444444444444, \"#bd3786\"], [0.5555555555555556, \"#d8576b\"], [0.6666666666666666, \"#ed7953\"], [0.7777777777777778, \"#fb9f3a\"], [0.8888888888888888, \"#fdca26\"], [1.0, \"#f0f921\"]], \"type\": \"contour\"}], \"contourcarpet\": [{\"colorbar\": {\"outlinewidth\": 0, \"ticks\": \"\"}, \"type\": \"contourcarpet\"}], \"heatmap\": [{\"colorbar\": {\"outlinewidth\": 0, \"ticks\": \"\"}, \"colorscale\": [[0.0, \"#0d0887\"], [0.1111111111111111, \"#46039f\"], [0.2222222222222222, \"#7201a8\"], [0.3333333333333333, \"#9c179e\"], [0.4444444444444444, \"#bd3786\"], [0.5555555555555556, \"#d8576b\"], [0.6666666666666666, \"#ed7953\"], [0.7777777777777778, \"#fb9f3a\"], [0.8888888888888888, \"#fdca26\"], [1.0, \"#f0f921\"]], \"type\": \"heatmap\"}], \"heatmapgl\": [{\"colorbar\": {\"outlinewidth\": 0, \"ticks\": \"\"}, \"colorscale\": [[0.0, \"#0d0887\"], [0.1111111111111111, \"#46039f\"], [0.2222222222222222, \"#7201a8\"], [0.3333333333333333, \"#9c179e\"], [0.4444444444444444, \"#bd3786\"], [0.5555555555555556, \"#d8576b\"], [0.6666666666666666, \"#ed7953\"], [0.7777777777777778, \"#fb9f3a\"], [0.8888888888888888, \"#fdca26\"], [1.0, \"#f0f921\"]], \"type\": \"heatmapgl\"}], \"histogram\": [{\"marker\": {\"colorbar\": {\"outlinewidth\": 0, \"ticks\": \"\"}}, \"type\": \"histogram\"}], \"histogram2d\": [{\"colorbar\": {\"outlinewidth\": 0, \"ticks\": \"\"}, \"colorscale\": [[0.0, \"#0d0887\"], [0.1111111111111111, \"#46039f\"], [0.2222222222222222, \"#7201a8\"], [0.3333333333333333, \"#9c179e\"], [0.4444444444444444, \"#bd3786\"], [0.5555555555555556, \"#d8576b\"], [0.6666666666666666, \"#ed7953\"], [0.7777777777777778, \"#fb9f3a\"], [0.8888888888888888, \"#fdca26\"], [1.0, \"#f0f921\"]], \"type\": \"histogram2d\"}], \"histogram2dcontour\": [{\"colorbar\": {\"outlinewidth\": 0, \"ticks\": \"\"}, \"colorscale\": [[0.0, \"#0d0887\"], [0.1111111111111111, \"#46039f\"], [0.2222222222222222, \"#7201a8\"], [0.3333333333333333, \"#9c179e\"], [0.4444444444444444, \"#bd3786\"], [0.5555555555555556, \"#d8576b\"], [0.6666666666666666, \"#ed7953\"], [0.7777777777777778, \"#fb9f3a\"], [0.8888888888888888, \"#fdca26\"], [1.0, \"#f0f921\"]], \"type\": \"histogram2dcontour\"}], \"mesh3d\": [{\"colorbar\": {\"outlinewidth\": 0, \"ticks\": \"\"}, \"type\": \"mesh3d\"}], \"parcoords\": [{\"line\": {\"colorbar\": {\"outlinewidth\": 0, \"ticks\": \"\"}}, \"type\": \"parcoords\"}], \"pie\": [{\"automargin\": true, \"type\": \"pie\"}], \"scatter\": [{\"marker\": {\"colorbar\": {\"outlinewidth\": 0, \"ticks\": \"\"}}, \"type\": \"scatter\"}], \"scatter3d\": [{\"line\": {\"colorbar\": {\"outlinewidth\": 0, \"ticks\": \"\"}}, \"marker\": {\"colorbar\": {\"outlinewidth\": 0, \"ticks\": \"\"}}, \"type\": \"scatter3d\"}], \"scattercarpet\": [{\"marker\": {\"colorbar\": {\"outlinewidth\": 0, \"ticks\": \"\"}}, \"type\": \"scattercarpet\"}], \"scattergeo\": [{\"marker\": {\"colorbar\": {\"outlinewidth\": 0, \"ticks\": \"\"}}, \"type\": \"scattergeo\"}], \"scattergl\": [{\"marker\": {\"colorbar\": {\"outlinewidth\": 0, \"ticks\": \"\"}}, \"type\": \"scattergl\"}], \"scattermapbox\": [{\"marker\": {\"colorbar\": {\"outlinewidth\": 0, \"ticks\": \"\"}}, \"type\": \"scattermapbox\"}], \"scatterpolar\": [{\"marker\": {\"colorbar\": {\"outlinewidth\": 0, \"ticks\": \"\"}}, \"type\": \"scatterpolar\"}], \"scatterpolargl\": [{\"marker\": {\"colorbar\": {\"outlinewidth\": 0, \"ticks\": \"\"}}, \"type\": \"scatterpolargl\"}], \"scatterternary\": [{\"marker\": {\"colorbar\": {\"outlinewidth\": 0, \"ticks\": \"\"}}, \"type\": \"scatterternary\"}], \"surface\": [{\"colorbar\": {\"outlinewidth\": 0, \"ticks\": \"\"}, \"colorscale\": [[0.0, \"#0d0887\"], [0.1111111111111111, \"#46039f\"], [0.2222222222222222, \"#7201a8\"], [0.3333333333333333, \"#9c179e\"], [0.4444444444444444, \"#bd3786\"], [0.5555555555555556, \"#d8576b\"], [0.6666666666666666, \"#ed7953\"], [0.7777777777777778, \"#fb9f3a\"], [0.8888888888888888, \"#fdca26\"], [1.0, \"#f0f921\"]], \"type\": \"surface\"}], \"table\": [{\"cells\": {\"fill\": {\"color\": \"#EBF0F8\"}, \"line\": {\"color\": \"white\"}}, \"header\": {\"fill\": {\"color\": \"#C8D4E3\"}, \"line\": {\"color\": \"white\"}}, \"type\": \"table\"}]}, \"layout\": {\"annotationdefaults\": {\"arrowcolor\": \"#2a3f5f\", \"arrowhead\": 0, \"arrowwidth\": 1}, \"coloraxis\": {\"colorbar\": {\"outlinewidth\": 0, \"ticks\": \"\"}}, \"colorscale\": {\"diverging\": [[0, \"#8e0152\"], [0.1, \"#c51b7d\"], [0.2, \"#de77ae\"], [0.3, \"#f1b6da\"], [0.4, \"#fde0ef\"], [0.5, \"#f7f7f7\"], [0.6, \"#e6f5d0\"], [0.7, \"#b8e186\"], [0.8, \"#7fbc41\"], [0.9, \"#4d9221\"], [1, \"#276419\"]], \"sequential\": [[0.0, \"#0d0887\"], [0.1111111111111111, \"#46039f\"], [0.2222222222222222, \"#7201a8\"], [0.3333333333333333, \"#9c179e\"], [0.4444444444444444, \"#bd3786\"], [0.5555555555555556, \"#d8576b\"], [0.6666666666666666, \"#ed7953\"], [0.7777777777777778, \"#fb9f3a\"], [0.8888888888888888, \"#fdca26\"], [1.0, \"#f0f921\"]], \"sequentialminus\": [[0.0, \"#0d0887\"], [0.1111111111111111, \"#46039f\"], [0.2222222222222222, \"#7201a8\"], [0.3333333333333333, \"#9c179e\"], [0.4444444444444444, \"#bd3786\"], [0.5555555555555556, \"#d8576b\"], [0.6666666666666666, \"#ed7953\"], [0.7777777777777778, \"#fb9f3a\"], [0.8888888888888888, \"#fdca26\"], [1.0, \"#f0f921\"]]}, \"colorway\": [\"#636efa\", \"#EF553B\", \"#00cc96\", \"#ab63fa\", \"#FFA15A\", \"#19d3f3\", \"#FF6692\", \"#B6E880\", \"#FF97FF\", \"#FECB52\"], \"font\": {\"color\": \"#2a3f5f\"}, \"geo\": {\"bgcolor\": \"white\", \"lakecolor\": \"white\", \"landcolor\": \"#E5ECF6\", \"showlakes\": true, \"showland\": true, \"subunitcolor\": \"white\"}, \"hoverlabel\": {\"align\": \"left\"}, \"hovermode\": \"closest\", \"mapbox\": {\"style\": \"light\"}, \"paper_bgcolor\": \"white\", \"plot_bgcolor\": \"#E5ECF6\", \"polar\": {\"angularaxis\": {\"gridcolor\": \"white\", \"linecolor\": \"white\", \"ticks\": \"\"}, \"bgcolor\": \"#E5ECF6\", \"radialaxis\": {\"gridcolor\": \"white\", \"linecolor\": \"white\", \"ticks\": \"\"}}, \"scene\": {\"xaxis\": {\"backgroundcolor\": \"#E5ECF6\", \"gridcolor\": \"white\", \"gridwidth\": 2, \"linecolor\": \"white\", \"showbackground\": true, \"ticks\": \"\", \"zerolinecolor\": \"white\"}, \"yaxis\": {\"backgroundcolor\": \"#E5ECF6\", \"gridcolor\": \"white\", \"gridwidth\": 2, \"linecolor\": \"white\", \"showbackground\": true, \"ticks\": \"\", \"zerolinecolor\": \"white\"}, \"zaxis\": {\"backgroundcolor\": \"#E5ECF6\", \"gridcolor\": \"white\", \"gridwidth\": 2, \"linecolor\": \"white\", \"showbackground\": true, \"ticks\": \"\", \"zerolinecolor\": \"white\"}}, \"shapedefaults\": {\"line\": {\"color\": \"#2a3f5f\"}}, \"ternary\": {\"aaxis\": {\"gridcolor\": \"white\", \"linecolor\": \"white\", \"ticks\": \"\"}, \"baxis\": {\"gridcolor\": \"white\", \"linecolor\": \"white\", \"ticks\": \"\"}, \"bgcolor\": \"#E5ECF6\", \"caxis\": {\"gridcolor\": \"white\", \"linecolor\": \"white\", \"ticks\": \"\"}}, \"title\": {\"x\": 0.05}, \"xaxis\": {\"automargin\": true, \"gridcolor\": \"white\", \"linecolor\": \"white\", \"ticks\": \"\", \"title\": {\"standoff\": 15}, \"zerolinecolor\": \"white\", \"zerolinewidth\": 2}, \"yaxis\": {\"automargin\": true, \"gridcolor\": \"white\", \"linecolor\": \"white\", \"ticks\": \"\", \"title\": {\"standoff\": 15}, \"zerolinecolor\": \"white\", \"zerolinewidth\": 2}}}, \"title\": {\"text\": \"C=0.2\"}, \"width\": 600},\n",
       "                        {\"responsive\": true}\n",
       "                    ).then(function(){\n",
       "                            \n",
       "var gd = document.getElementById('6e39ba12-bd42-45bd-b9a1-2e5dbec130d0');\n",
       "var x = new MutationObserver(function (mutations, observer) {{\n",
       "        var display = window.getComputedStyle(gd).display;\n",
       "        if (!display || display === 'none') {{\n",
       "            console.log([gd, 'removed!']);\n",
       "            Plotly.purge(gd);\n",
       "            observer.disconnect();\n",
       "        }}\n",
       "}});\n",
       "\n",
       "// Listen for the removal of the full notebook cells\n",
       "var notebookContainer = gd.closest('#notebook-container');\n",
       "if (notebookContainer) {{\n",
       "    x.observe(notebookContainer, {childList: true});\n",
       "}}\n",
       "\n",
       "// Listen for the clearing of the current output cell\n",
       "var outputEl = gd.closest('.output');\n",
       "if (outputEl) {{\n",
       "    x.observe(outputEl, {childList: true});\n",
       "}}\n",
       "\n",
       "                        })\n",
       "                };\n",
       "                });\n",
       "            </script>\n",
       "        </div>"
      ]
     },
     "metadata": {},
     "output_type": "display_data"
    }
   ],
   "source": [
    "# outliers\n",
    "\n",
    "# small C; under-fitting case; prediction is not accurate\n",
    "\n",
    "# fit the model\n",
    "clf = svm.SVC(kernel=\"linear\", C = 0.2)\n",
    "clf.fit(X, y)\n",
    "\n",
    "fig = go.Figure()\n",
    "plot_data_decision_line(X,y,clf,fig,\"C=0.2\")\n",
    "fig.show()"
   ]
  },
  {
   "cell_type": "code",
   "execution_count": 19,
   "metadata": {},
   "outputs": [],
   "source": [
    "fig.write_html('../_includes/svm7.html')"
   ]
  },
  {
   "cell_type": "code",
   "execution_count": 20,
   "metadata": {
    "colab": {
     "base_uri": "https://localhost:8080/",
     "height": 542
    },
    "colab_type": "code",
    "id": "yCrmWGB2EUBk",
    "outputId": "24ad56b0-a2e9-41fa-8474-d35fcd9dde86"
   },
   "outputs": [
    {
     "data": {
      "application/vnd.plotly.v1+json": {
       "config": {
        "plotlyServerURL": "https://plot.ly"
       },
       "data": [
        {
         "marker": {
          "color": [
           -1,
           1,
           -1,
           -1,
           -1,
           -1,
           -1,
           -1,
           -1,
           -1,
           1,
           1,
           1,
           1,
           1,
           1,
           1,
           1,
           1,
           1
          ],
          "colorscale": [
           [
            0,
            "rgb(103,0,31)"
           ],
           [
            0.1,
            "rgb(178,24,43)"
           ],
           [
            0.2,
            "rgb(214,96,77)"
           ],
           [
            0.3,
            "rgb(244,165,130)"
           ],
           [
            0.4,
            "rgb(253,219,199)"
           ],
           [
            0.5,
            "rgb(247,247,247)"
           ],
           [
            0.6,
            "rgb(209,229,240)"
           ],
           [
            0.7,
            "rgb(146,197,222)"
           ],
           [
            0.8,
            "rgb(67,147,195)"
           ],
           [
            0.9,
            "rgb(33,102,172)"
           ],
           [
            1,
            "rgb(5,48,97)"
           ]
          ],
          "size": 10
         },
         "mode": "markers",
         "name": "Data",
         "type": "scatter",
         "x": [
          0.5,
          -0.5,
          -0.4315406361270182,
          -0.4617614284231002,
          -0.16892053227007353,
          -0.5295563775737924,
          -0.23183754092319586,
          -0.42945349174431197,
          -0.49144968062295297,
          -0.5379106111371351,
          0.5766069365853674,
          0.3847065484401654,
          0.3516835304801391,
          0.11709574900719513,
          0.17792568139102968,
          0.1848512192012097,
          0.28669687883580186,
          0.5291582939589509,
          0.39173084886622345,
          0.1888963100948403
         ],
         "y": [
          0,
          0,
          0.20847713250846214,
          0.27165779638972876,
          0.1783498350047443,
          0.4785401403203442,
          0.2778315458178908,
          0.4334015252766632,
          0.3807134912164687,
          0.25986824222676397,
          -0.5313216046011098,
          -0.11216725853839699,
          -0.266167896925947,
          -0.3719403168447851,
          -0.361975516750565,
          -0.15187083137991447,
          -0.4101535347626241,
          -0.2769694725576214,
          -0.2658249865805824,
          -0.17537599159106854
         ]
        },
        {
         "mode": "lines",
         "name": "Decision line",
         "type": "scatter",
         "x": [
          -1,
          1
         ],
         "y": [
          -0.8028504801332003,
          1.1026175889587888
         ]
        },
        {
         "line": {
          "dash": "dash"
         },
         "mode": "lines",
         "name": "Support line",
         "type": "scatter",
         "x": [
          -1,
          1
         ],
         "y": [
          0.030332482480200706,
          1.9358005515721897
         ]
        },
        {
         "line": {
          "dash": "dash"
         },
         "mode": "lines",
         "name": "Support line",
         "type": "scatter",
         "x": [
          -1,
          1
         ],
         "y": [
          -1.6360334427466012,
          0.26943462634538773
         ]
        },
        {
         "mode": "lines",
         "name": "y=x",
         "type": "scatter",
         "x": [
          -1,
          1
         ],
         "y": [
          -1,
          1
         ]
        }
       ],
       "layout": {
        "template": {
         "data": {
          "bar": [
           {
            "error_x": {
             "color": "#2a3f5f"
            },
            "error_y": {
             "color": "#2a3f5f"
            },
            "marker": {
             "line": {
              "color": "#E5ECF6",
              "width": 0.5
             }
            },
            "type": "bar"
           }
          ],
          "barpolar": [
           {
            "marker": {
             "line": {
              "color": "#E5ECF6",
              "width": 0.5
             }
            },
            "type": "barpolar"
           }
          ],
          "carpet": [
           {
            "aaxis": {
             "endlinecolor": "#2a3f5f",
             "gridcolor": "white",
             "linecolor": "white",
             "minorgridcolor": "white",
             "startlinecolor": "#2a3f5f"
            },
            "baxis": {
             "endlinecolor": "#2a3f5f",
             "gridcolor": "white",
             "linecolor": "white",
             "minorgridcolor": "white",
             "startlinecolor": "#2a3f5f"
            },
            "type": "carpet"
           }
          ],
          "choropleth": [
           {
            "colorbar": {
             "outlinewidth": 0,
             "ticks": ""
            },
            "type": "choropleth"
           }
          ],
          "contour": [
           {
            "colorbar": {
             "outlinewidth": 0,
             "ticks": ""
            },
            "colorscale": [
             [
              0,
              "#0d0887"
             ],
             [
              0.1111111111111111,
              "#46039f"
             ],
             [
              0.2222222222222222,
              "#7201a8"
             ],
             [
              0.3333333333333333,
              "#9c179e"
             ],
             [
              0.4444444444444444,
              "#bd3786"
             ],
             [
              0.5555555555555556,
              "#d8576b"
             ],
             [
              0.6666666666666666,
              "#ed7953"
             ],
             [
              0.7777777777777778,
              "#fb9f3a"
             ],
             [
              0.8888888888888888,
              "#fdca26"
             ],
             [
              1,
              "#f0f921"
             ]
            ],
            "type": "contour"
           }
          ],
          "contourcarpet": [
           {
            "colorbar": {
             "outlinewidth": 0,
             "ticks": ""
            },
            "type": "contourcarpet"
           }
          ],
          "heatmap": [
           {
            "colorbar": {
             "outlinewidth": 0,
             "ticks": ""
            },
            "colorscale": [
             [
              0,
              "#0d0887"
             ],
             [
              0.1111111111111111,
              "#46039f"
             ],
             [
              0.2222222222222222,
              "#7201a8"
             ],
             [
              0.3333333333333333,
              "#9c179e"
             ],
             [
              0.4444444444444444,
              "#bd3786"
             ],
             [
              0.5555555555555556,
              "#d8576b"
             ],
             [
              0.6666666666666666,
              "#ed7953"
             ],
             [
              0.7777777777777778,
              "#fb9f3a"
             ],
             [
              0.8888888888888888,
              "#fdca26"
             ],
             [
              1,
              "#f0f921"
             ]
            ],
            "type": "heatmap"
           }
          ],
          "heatmapgl": [
           {
            "colorbar": {
             "outlinewidth": 0,
             "ticks": ""
            },
            "colorscale": [
             [
              0,
              "#0d0887"
             ],
             [
              0.1111111111111111,
              "#46039f"
             ],
             [
              0.2222222222222222,
              "#7201a8"
             ],
             [
              0.3333333333333333,
              "#9c179e"
             ],
             [
              0.4444444444444444,
              "#bd3786"
             ],
             [
              0.5555555555555556,
              "#d8576b"
             ],
             [
              0.6666666666666666,
              "#ed7953"
             ],
             [
              0.7777777777777778,
              "#fb9f3a"
             ],
             [
              0.8888888888888888,
              "#fdca26"
             ],
             [
              1,
              "#f0f921"
             ]
            ],
            "type": "heatmapgl"
           }
          ],
          "histogram": [
           {
            "marker": {
             "colorbar": {
              "outlinewidth": 0,
              "ticks": ""
             }
            },
            "type": "histogram"
           }
          ],
          "histogram2d": [
           {
            "colorbar": {
             "outlinewidth": 0,
             "ticks": ""
            },
            "colorscale": [
             [
              0,
              "#0d0887"
             ],
             [
              0.1111111111111111,
              "#46039f"
             ],
             [
              0.2222222222222222,
              "#7201a8"
             ],
             [
              0.3333333333333333,
              "#9c179e"
             ],
             [
              0.4444444444444444,
              "#bd3786"
             ],
             [
              0.5555555555555556,
              "#d8576b"
             ],
             [
              0.6666666666666666,
              "#ed7953"
             ],
             [
              0.7777777777777778,
              "#fb9f3a"
             ],
             [
              0.8888888888888888,
              "#fdca26"
             ],
             [
              1,
              "#f0f921"
             ]
            ],
            "type": "histogram2d"
           }
          ],
          "histogram2dcontour": [
           {
            "colorbar": {
             "outlinewidth": 0,
             "ticks": ""
            },
            "colorscale": [
             [
              0,
              "#0d0887"
             ],
             [
              0.1111111111111111,
              "#46039f"
             ],
             [
              0.2222222222222222,
              "#7201a8"
             ],
             [
              0.3333333333333333,
              "#9c179e"
             ],
             [
              0.4444444444444444,
              "#bd3786"
             ],
             [
              0.5555555555555556,
              "#d8576b"
             ],
             [
              0.6666666666666666,
              "#ed7953"
             ],
             [
              0.7777777777777778,
              "#fb9f3a"
             ],
             [
              0.8888888888888888,
              "#fdca26"
             ],
             [
              1,
              "#f0f921"
             ]
            ],
            "type": "histogram2dcontour"
           }
          ],
          "mesh3d": [
           {
            "colorbar": {
             "outlinewidth": 0,
             "ticks": ""
            },
            "type": "mesh3d"
           }
          ],
          "parcoords": [
           {
            "line": {
             "colorbar": {
              "outlinewidth": 0,
              "ticks": ""
             }
            },
            "type": "parcoords"
           }
          ],
          "pie": [
           {
            "automargin": true,
            "type": "pie"
           }
          ],
          "scatter": [
           {
            "marker": {
             "colorbar": {
              "outlinewidth": 0,
              "ticks": ""
             }
            },
            "type": "scatter"
           }
          ],
          "scatter3d": [
           {
            "line": {
             "colorbar": {
              "outlinewidth": 0,
              "ticks": ""
             }
            },
            "marker": {
             "colorbar": {
              "outlinewidth": 0,
              "ticks": ""
             }
            },
            "type": "scatter3d"
           }
          ],
          "scattercarpet": [
           {
            "marker": {
             "colorbar": {
              "outlinewidth": 0,
              "ticks": ""
             }
            },
            "type": "scattercarpet"
           }
          ],
          "scattergeo": [
           {
            "marker": {
             "colorbar": {
              "outlinewidth": 0,
              "ticks": ""
             }
            },
            "type": "scattergeo"
           }
          ],
          "scattergl": [
           {
            "marker": {
             "colorbar": {
              "outlinewidth": 0,
              "ticks": ""
             }
            },
            "type": "scattergl"
           }
          ],
          "scattermapbox": [
           {
            "marker": {
             "colorbar": {
              "outlinewidth": 0,
              "ticks": ""
             }
            },
            "type": "scattermapbox"
           }
          ],
          "scatterpolar": [
           {
            "marker": {
             "colorbar": {
              "outlinewidth": 0,
              "ticks": ""
             }
            },
            "type": "scatterpolar"
           }
          ],
          "scatterpolargl": [
           {
            "marker": {
             "colorbar": {
              "outlinewidth": 0,
              "ticks": ""
             }
            },
            "type": "scatterpolargl"
           }
          ],
          "scatterternary": [
           {
            "marker": {
             "colorbar": {
              "outlinewidth": 0,
              "ticks": ""
             }
            },
            "type": "scatterternary"
           }
          ],
          "surface": [
           {
            "colorbar": {
             "outlinewidth": 0,
             "ticks": ""
            },
            "colorscale": [
             [
              0,
              "#0d0887"
             ],
             [
              0.1111111111111111,
              "#46039f"
             ],
             [
              0.2222222222222222,
              "#7201a8"
             ],
             [
              0.3333333333333333,
              "#9c179e"
             ],
             [
              0.4444444444444444,
              "#bd3786"
             ],
             [
              0.5555555555555556,
              "#d8576b"
             ],
             [
              0.6666666666666666,
              "#ed7953"
             ],
             [
              0.7777777777777778,
              "#fb9f3a"
             ],
             [
              0.8888888888888888,
              "#fdca26"
             ],
             [
              1,
              "#f0f921"
             ]
            ],
            "type": "surface"
           }
          ],
          "table": [
           {
            "cells": {
             "fill": {
              "color": "#EBF0F8"
             },
             "line": {
              "color": "white"
             }
            },
            "header": {
             "fill": {
              "color": "#C8D4E3"
             },
             "line": {
              "color": "white"
             }
            },
            "type": "table"
           }
          ]
         },
         "layout": {
          "annotationdefaults": {
           "arrowcolor": "#2a3f5f",
           "arrowhead": 0,
           "arrowwidth": 1
          },
          "coloraxis": {
           "colorbar": {
            "outlinewidth": 0,
            "ticks": ""
           }
          },
          "colorscale": {
           "diverging": [
            [
             0,
             "#8e0152"
            ],
            [
             0.1,
             "#c51b7d"
            ],
            [
             0.2,
             "#de77ae"
            ],
            [
             0.3,
             "#f1b6da"
            ],
            [
             0.4,
             "#fde0ef"
            ],
            [
             0.5,
             "#f7f7f7"
            ],
            [
             0.6,
             "#e6f5d0"
            ],
            [
             0.7,
             "#b8e186"
            ],
            [
             0.8,
             "#7fbc41"
            ],
            [
             0.9,
             "#4d9221"
            ],
            [
             1,
             "#276419"
            ]
           ],
           "sequential": [
            [
             0,
             "#0d0887"
            ],
            [
             0.1111111111111111,
             "#46039f"
            ],
            [
             0.2222222222222222,
             "#7201a8"
            ],
            [
             0.3333333333333333,
             "#9c179e"
            ],
            [
             0.4444444444444444,
             "#bd3786"
            ],
            [
             0.5555555555555556,
             "#d8576b"
            ],
            [
             0.6666666666666666,
             "#ed7953"
            ],
            [
             0.7777777777777778,
             "#fb9f3a"
            ],
            [
             0.8888888888888888,
             "#fdca26"
            ],
            [
             1,
             "#f0f921"
            ]
           ],
           "sequentialminus": [
            [
             0,
             "#0d0887"
            ],
            [
             0.1111111111111111,
             "#46039f"
            ],
            [
             0.2222222222222222,
             "#7201a8"
            ],
            [
             0.3333333333333333,
             "#9c179e"
            ],
            [
             0.4444444444444444,
             "#bd3786"
            ],
            [
             0.5555555555555556,
             "#d8576b"
            ],
            [
             0.6666666666666666,
             "#ed7953"
            ],
            [
             0.7777777777777778,
             "#fb9f3a"
            ],
            [
             0.8888888888888888,
             "#fdca26"
            ],
            [
             1,
             "#f0f921"
            ]
           ]
          },
          "colorway": [
           "#636efa",
           "#EF553B",
           "#00cc96",
           "#ab63fa",
           "#FFA15A",
           "#19d3f3",
           "#FF6692",
           "#B6E880",
           "#FF97FF",
           "#FECB52"
          ],
          "font": {
           "color": "#2a3f5f"
          },
          "geo": {
           "bgcolor": "white",
           "lakecolor": "white",
           "landcolor": "#E5ECF6",
           "showlakes": true,
           "showland": true,
           "subunitcolor": "white"
          },
          "hoverlabel": {
           "align": "left"
          },
          "hovermode": "closest",
          "mapbox": {
           "style": "light"
          },
          "paper_bgcolor": "white",
          "plot_bgcolor": "#E5ECF6",
          "polar": {
           "angularaxis": {
            "gridcolor": "white",
            "linecolor": "white",
            "ticks": ""
           },
           "bgcolor": "#E5ECF6",
           "radialaxis": {
            "gridcolor": "white",
            "linecolor": "white",
            "ticks": ""
           }
          },
          "scene": {
           "xaxis": {
            "backgroundcolor": "#E5ECF6",
            "gridcolor": "white",
            "gridwidth": 2,
            "linecolor": "white",
            "showbackground": true,
            "ticks": "",
            "zerolinecolor": "white"
           },
           "yaxis": {
            "backgroundcolor": "#E5ECF6",
            "gridcolor": "white",
            "gridwidth": 2,
            "linecolor": "white",
            "showbackground": true,
            "ticks": "",
            "zerolinecolor": "white"
           },
           "zaxis": {
            "backgroundcolor": "#E5ECF6",
            "gridcolor": "white",
            "gridwidth": 2,
            "linecolor": "white",
            "showbackground": true,
            "ticks": "",
            "zerolinecolor": "white"
           }
          },
          "shapedefaults": {
           "line": {
            "color": "#2a3f5f"
           }
          },
          "ternary": {
           "aaxis": {
            "gridcolor": "white",
            "linecolor": "white",
            "ticks": ""
           },
           "baxis": {
            "gridcolor": "white",
            "linecolor": "white",
            "ticks": ""
           },
           "bgcolor": "#E5ECF6",
           "caxis": {
            "gridcolor": "white",
            "linecolor": "white",
            "ticks": ""
           }
          },
          "title": {
           "x": 0.05
          },
          "xaxis": {
           "automargin": true,
           "gridcolor": "white",
           "linecolor": "white",
           "ticks": "",
           "title": {
            "standoff": 15
           },
           "zerolinecolor": "white",
           "zerolinewidth": 2
          },
          "yaxis": {
           "automargin": true,
           "gridcolor": "white",
           "linecolor": "white",
           "ticks": "",
           "title": {
            "standoff": 15
           },
           "zerolinecolor": "white",
           "zerolinewidth": 2
          }
         }
        },
        "title": {
         "text": "C=0.3"
        },
        "width": 600
       }
      },
      "text/html": [
       "<div>\n",
       "        \n",
       "        \n",
       "            <div id=\"323671f2-6dab-4155-9caf-fde79a63447c\" class=\"plotly-graph-div\" style=\"height:525px; width:600px;\"></div>\n",
       "            <script type=\"text/javascript\">\n",
       "                require([\"plotly\"], function(Plotly) {\n",
       "                    window.PLOTLYENV=window.PLOTLYENV || {};\n",
       "                    \n",
       "                if (document.getElementById(\"323671f2-6dab-4155-9caf-fde79a63447c\")) {\n",
       "                    Plotly.newPlot(\n",
       "                        '323671f2-6dab-4155-9caf-fde79a63447c',\n",
       "                        [{\"marker\": {\"color\": [-1.0, 1.0, -1.0, -1.0, -1.0, -1.0, -1.0, -1.0, -1.0, -1.0, 1.0, 1.0, 1.0, 1.0, 1.0, 1.0, 1.0, 1.0, 1.0, 1.0], \"colorscale\": [[0.0, \"rgb(103,0,31)\"], [0.1, \"rgb(178,24,43)\"], [0.2, \"rgb(214,96,77)\"], [0.3, \"rgb(244,165,130)\"], [0.4, \"rgb(253,219,199)\"], [0.5, \"rgb(247,247,247)\"], [0.6, \"rgb(209,229,240)\"], [0.7, \"rgb(146,197,222)\"], [0.8, \"rgb(67,147,195)\"], [0.9, \"rgb(33,102,172)\"], [1.0, \"rgb(5,48,97)\"]], \"size\": 10}, \"mode\": \"markers\", \"name\": \"Data\", \"type\": \"scatter\", \"x\": [0.5, -0.5, -0.4315406361270182, -0.4617614284231002, -0.16892053227007353, -0.5295563775737924, -0.23183754092319586, -0.42945349174431197, -0.49144968062295297, -0.5379106111371351, 0.5766069365853674, 0.3847065484401654, 0.3516835304801391, 0.11709574900719513, 0.17792568139102968, 0.1848512192012097, 0.28669687883580186, 0.5291582939589509, 0.39173084886622345, 0.1888963100948403], \"y\": [0.0, 0.0, 0.20847713250846214, 0.27165779638972876, 0.1783498350047443, 0.4785401403203442, 0.2778315458178908, 0.4334015252766632, 0.3807134912164687, 0.25986824222676397, -0.5313216046011098, -0.11216725853839699, -0.266167896925947, -0.3719403168447851, -0.361975516750565, -0.15187083137991447, -0.4101535347626241, -0.2769694725576214, -0.2658249865805824, -0.17537599159106854]}, {\"mode\": \"lines\", \"name\": \"Decision line\", \"type\": \"scatter\", \"x\": [-1.0, 1.0], \"y\": [-0.8028504801332003, 1.1026175889587888]}, {\"line\": {\"dash\": \"dash\"}, \"mode\": \"lines\", \"name\": \"Support line\", \"type\": \"scatter\", \"x\": [-1.0, 1.0], \"y\": [0.030332482480200706, 1.9358005515721897]}, {\"line\": {\"dash\": \"dash\"}, \"mode\": \"lines\", \"name\": \"Support line\", \"type\": \"scatter\", \"x\": [-1.0, 1.0], \"y\": [-1.6360334427466012, 0.26943462634538773]}, {\"mode\": \"lines\", \"name\": \"y=x\", \"type\": \"scatter\", \"x\": [-1.0, 1.0], \"y\": [-1.0, 1.0]}],\n",
       "                        {\"template\": {\"data\": {\"bar\": [{\"error_x\": {\"color\": \"#2a3f5f\"}, \"error_y\": {\"color\": \"#2a3f5f\"}, \"marker\": {\"line\": {\"color\": \"#E5ECF6\", \"width\": 0.5}}, \"type\": \"bar\"}], \"barpolar\": [{\"marker\": {\"line\": {\"color\": \"#E5ECF6\", \"width\": 0.5}}, \"type\": \"barpolar\"}], \"carpet\": [{\"aaxis\": {\"endlinecolor\": \"#2a3f5f\", \"gridcolor\": \"white\", \"linecolor\": \"white\", \"minorgridcolor\": \"white\", \"startlinecolor\": \"#2a3f5f\"}, \"baxis\": {\"endlinecolor\": \"#2a3f5f\", \"gridcolor\": \"white\", \"linecolor\": \"white\", \"minorgridcolor\": \"white\", \"startlinecolor\": \"#2a3f5f\"}, \"type\": \"carpet\"}], \"choropleth\": [{\"colorbar\": {\"outlinewidth\": 0, \"ticks\": \"\"}, \"type\": \"choropleth\"}], \"contour\": [{\"colorbar\": {\"outlinewidth\": 0, \"ticks\": \"\"}, \"colorscale\": [[0.0, \"#0d0887\"], [0.1111111111111111, \"#46039f\"], [0.2222222222222222, \"#7201a8\"], [0.3333333333333333, \"#9c179e\"], [0.4444444444444444, \"#bd3786\"], [0.5555555555555556, \"#d8576b\"], [0.6666666666666666, \"#ed7953\"], [0.7777777777777778, \"#fb9f3a\"], [0.8888888888888888, \"#fdca26\"], [1.0, \"#f0f921\"]], \"type\": \"contour\"}], \"contourcarpet\": [{\"colorbar\": {\"outlinewidth\": 0, \"ticks\": \"\"}, \"type\": \"contourcarpet\"}], \"heatmap\": [{\"colorbar\": {\"outlinewidth\": 0, \"ticks\": \"\"}, \"colorscale\": [[0.0, \"#0d0887\"], [0.1111111111111111, \"#46039f\"], [0.2222222222222222, \"#7201a8\"], [0.3333333333333333, \"#9c179e\"], [0.4444444444444444, \"#bd3786\"], [0.5555555555555556, \"#d8576b\"], [0.6666666666666666, \"#ed7953\"], [0.7777777777777778, \"#fb9f3a\"], [0.8888888888888888, \"#fdca26\"], [1.0, \"#f0f921\"]], \"type\": \"heatmap\"}], \"heatmapgl\": [{\"colorbar\": {\"outlinewidth\": 0, \"ticks\": \"\"}, \"colorscale\": [[0.0, \"#0d0887\"], [0.1111111111111111, \"#46039f\"], [0.2222222222222222, \"#7201a8\"], [0.3333333333333333, \"#9c179e\"], [0.4444444444444444, \"#bd3786\"], [0.5555555555555556, \"#d8576b\"], [0.6666666666666666, \"#ed7953\"], [0.7777777777777778, \"#fb9f3a\"], [0.8888888888888888, \"#fdca26\"], [1.0, \"#f0f921\"]], \"type\": \"heatmapgl\"}], \"histogram\": [{\"marker\": {\"colorbar\": {\"outlinewidth\": 0, \"ticks\": \"\"}}, \"type\": \"histogram\"}], \"histogram2d\": [{\"colorbar\": {\"outlinewidth\": 0, \"ticks\": \"\"}, \"colorscale\": [[0.0, \"#0d0887\"], [0.1111111111111111, \"#46039f\"], [0.2222222222222222, \"#7201a8\"], [0.3333333333333333, \"#9c179e\"], [0.4444444444444444, \"#bd3786\"], [0.5555555555555556, \"#d8576b\"], [0.6666666666666666, \"#ed7953\"], [0.7777777777777778, \"#fb9f3a\"], [0.8888888888888888, \"#fdca26\"], [1.0, \"#f0f921\"]], \"type\": \"histogram2d\"}], \"histogram2dcontour\": [{\"colorbar\": {\"outlinewidth\": 0, \"ticks\": \"\"}, \"colorscale\": [[0.0, \"#0d0887\"], [0.1111111111111111, \"#46039f\"], [0.2222222222222222, \"#7201a8\"], [0.3333333333333333, \"#9c179e\"], [0.4444444444444444, \"#bd3786\"], [0.5555555555555556, \"#d8576b\"], [0.6666666666666666, \"#ed7953\"], [0.7777777777777778, \"#fb9f3a\"], [0.8888888888888888, \"#fdca26\"], [1.0, \"#f0f921\"]], \"type\": \"histogram2dcontour\"}], \"mesh3d\": [{\"colorbar\": {\"outlinewidth\": 0, \"ticks\": \"\"}, \"type\": \"mesh3d\"}], \"parcoords\": [{\"line\": {\"colorbar\": {\"outlinewidth\": 0, \"ticks\": \"\"}}, \"type\": \"parcoords\"}], \"pie\": [{\"automargin\": true, \"type\": \"pie\"}], \"scatter\": [{\"marker\": {\"colorbar\": {\"outlinewidth\": 0, \"ticks\": \"\"}}, \"type\": \"scatter\"}], \"scatter3d\": [{\"line\": {\"colorbar\": {\"outlinewidth\": 0, \"ticks\": \"\"}}, \"marker\": {\"colorbar\": {\"outlinewidth\": 0, \"ticks\": \"\"}}, \"type\": \"scatter3d\"}], \"scattercarpet\": [{\"marker\": {\"colorbar\": {\"outlinewidth\": 0, \"ticks\": \"\"}}, \"type\": \"scattercarpet\"}], \"scattergeo\": [{\"marker\": {\"colorbar\": {\"outlinewidth\": 0, \"ticks\": \"\"}}, \"type\": \"scattergeo\"}], \"scattergl\": [{\"marker\": {\"colorbar\": {\"outlinewidth\": 0, \"ticks\": \"\"}}, \"type\": \"scattergl\"}], \"scattermapbox\": [{\"marker\": {\"colorbar\": {\"outlinewidth\": 0, \"ticks\": \"\"}}, \"type\": \"scattermapbox\"}], \"scatterpolar\": [{\"marker\": {\"colorbar\": {\"outlinewidth\": 0, \"ticks\": \"\"}}, \"type\": \"scatterpolar\"}], \"scatterpolargl\": [{\"marker\": {\"colorbar\": {\"outlinewidth\": 0, \"ticks\": \"\"}}, \"type\": \"scatterpolargl\"}], \"scatterternary\": [{\"marker\": {\"colorbar\": {\"outlinewidth\": 0, \"ticks\": \"\"}}, \"type\": \"scatterternary\"}], \"surface\": [{\"colorbar\": {\"outlinewidth\": 0, \"ticks\": \"\"}, \"colorscale\": [[0.0, \"#0d0887\"], [0.1111111111111111, \"#46039f\"], [0.2222222222222222, \"#7201a8\"], [0.3333333333333333, \"#9c179e\"], [0.4444444444444444, \"#bd3786\"], [0.5555555555555556, \"#d8576b\"], [0.6666666666666666, \"#ed7953\"], [0.7777777777777778, \"#fb9f3a\"], [0.8888888888888888, \"#fdca26\"], [1.0, \"#f0f921\"]], \"type\": \"surface\"}], \"table\": [{\"cells\": {\"fill\": {\"color\": \"#EBF0F8\"}, \"line\": {\"color\": \"white\"}}, \"header\": {\"fill\": {\"color\": \"#C8D4E3\"}, \"line\": {\"color\": \"white\"}}, \"type\": \"table\"}]}, \"layout\": {\"annotationdefaults\": {\"arrowcolor\": \"#2a3f5f\", \"arrowhead\": 0, \"arrowwidth\": 1}, \"coloraxis\": {\"colorbar\": {\"outlinewidth\": 0, \"ticks\": \"\"}}, \"colorscale\": {\"diverging\": [[0, \"#8e0152\"], [0.1, \"#c51b7d\"], [0.2, \"#de77ae\"], [0.3, \"#f1b6da\"], [0.4, \"#fde0ef\"], [0.5, \"#f7f7f7\"], [0.6, \"#e6f5d0\"], [0.7, \"#b8e186\"], [0.8, \"#7fbc41\"], [0.9, \"#4d9221\"], [1, \"#276419\"]], \"sequential\": [[0.0, \"#0d0887\"], [0.1111111111111111, \"#46039f\"], [0.2222222222222222, \"#7201a8\"], [0.3333333333333333, \"#9c179e\"], [0.4444444444444444, \"#bd3786\"], [0.5555555555555556, \"#d8576b\"], [0.6666666666666666, \"#ed7953\"], [0.7777777777777778, \"#fb9f3a\"], [0.8888888888888888, \"#fdca26\"], [1.0, \"#f0f921\"]], \"sequentialminus\": [[0.0, \"#0d0887\"], [0.1111111111111111, \"#46039f\"], [0.2222222222222222, \"#7201a8\"], [0.3333333333333333, \"#9c179e\"], [0.4444444444444444, \"#bd3786\"], [0.5555555555555556, \"#d8576b\"], [0.6666666666666666, \"#ed7953\"], [0.7777777777777778, \"#fb9f3a\"], [0.8888888888888888, \"#fdca26\"], [1.0, \"#f0f921\"]]}, \"colorway\": [\"#636efa\", \"#EF553B\", \"#00cc96\", \"#ab63fa\", \"#FFA15A\", \"#19d3f3\", \"#FF6692\", \"#B6E880\", \"#FF97FF\", \"#FECB52\"], \"font\": {\"color\": \"#2a3f5f\"}, \"geo\": {\"bgcolor\": \"white\", \"lakecolor\": \"white\", \"landcolor\": \"#E5ECF6\", \"showlakes\": true, \"showland\": true, \"subunitcolor\": \"white\"}, \"hoverlabel\": {\"align\": \"left\"}, \"hovermode\": \"closest\", \"mapbox\": {\"style\": \"light\"}, \"paper_bgcolor\": \"white\", \"plot_bgcolor\": \"#E5ECF6\", \"polar\": {\"angularaxis\": {\"gridcolor\": \"white\", \"linecolor\": \"white\", \"ticks\": \"\"}, \"bgcolor\": \"#E5ECF6\", \"radialaxis\": {\"gridcolor\": \"white\", \"linecolor\": \"white\", \"ticks\": \"\"}}, \"scene\": {\"xaxis\": {\"backgroundcolor\": \"#E5ECF6\", \"gridcolor\": \"white\", \"gridwidth\": 2, \"linecolor\": \"white\", \"showbackground\": true, \"ticks\": \"\", \"zerolinecolor\": \"white\"}, \"yaxis\": {\"backgroundcolor\": \"#E5ECF6\", \"gridcolor\": \"white\", \"gridwidth\": 2, \"linecolor\": \"white\", \"showbackground\": true, \"ticks\": \"\", \"zerolinecolor\": \"white\"}, \"zaxis\": {\"backgroundcolor\": \"#E5ECF6\", \"gridcolor\": \"white\", \"gridwidth\": 2, \"linecolor\": \"white\", \"showbackground\": true, \"ticks\": \"\", \"zerolinecolor\": \"white\"}}, \"shapedefaults\": {\"line\": {\"color\": \"#2a3f5f\"}}, \"ternary\": {\"aaxis\": {\"gridcolor\": \"white\", \"linecolor\": \"white\", \"ticks\": \"\"}, \"baxis\": {\"gridcolor\": \"white\", \"linecolor\": \"white\", \"ticks\": \"\"}, \"bgcolor\": \"#E5ECF6\", \"caxis\": {\"gridcolor\": \"white\", \"linecolor\": \"white\", \"ticks\": \"\"}}, \"title\": {\"x\": 0.05}, \"xaxis\": {\"automargin\": true, \"gridcolor\": \"white\", \"linecolor\": \"white\", \"ticks\": \"\", \"title\": {\"standoff\": 15}, \"zerolinecolor\": \"white\", \"zerolinewidth\": 2}, \"yaxis\": {\"automargin\": true, \"gridcolor\": \"white\", \"linecolor\": \"white\", \"ticks\": \"\", \"title\": {\"standoff\": 15}, \"zerolinecolor\": \"white\", \"zerolinewidth\": 2}}}, \"title\": {\"text\": \"C=0.3\"}, \"width\": 600},\n",
       "                        {\"responsive\": true}\n",
       "                    ).then(function(){\n",
       "                            \n",
       "var gd = document.getElementById('323671f2-6dab-4155-9caf-fde79a63447c');\n",
       "var x = new MutationObserver(function (mutations, observer) {{\n",
       "        var display = window.getComputedStyle(gd).display;\n",
       "        if (!display || display === 'none') {{\n",
       "            console.log([gd, 'removed!']);\n",
       "            Plotly.purge(gd);\n",
       "            observer.disconnect();\n",
       "        }}\n",
       "}});\n",
       "\n",
       "// Listen for the removal of the full notebook cells\n",
       "var notebookContainer = gd.closest('#notebook-container');\n",
       "if (notebookContainer) {{\n",
       "    x.observe(notebookContainer, {childList: true});\n",
       "}}\n",
       "\n",
       "// Listen for the clearing of the current output cell\n",
       "var outputEl = gd.closest('.output');\n",
       "if (outputEl) {{\n",
       "    x.observe(outputEl, {childList: true});\n",
       "}}\n",
       "\n",
       "                        })\n",
       "                };\n",
       "                });\n",
       "            </script>\n",
       "        </div>"
      ]
     },
     "metadata": {},
     "output_type": "display_data"
    }
   ],
   "source": [
    "# outliers\n",
    "\n",
    "# fit the model\n",
    "clf = svm.SVC(kernel=\"linear\", C = 0.3)\n",
    "clf.fit(X, y)\n",
    "\n",
    "fig = go.Figure()\n",
    "plot_data_decision_line(X,y,clf,fig,\"C=0.3\")\n",
    "x_l = np.linspace(-1, 1, 2)\n",
    "fig.add_trace(go.Scatter(x=x_l, y=x_l, mode='lines', name='y=x'))\n",
    "fig.show()"
   ]
  },
  {
   "cell_type": "code",
   "execution_count": 21,
   "metadata": {},
   "outputs": [],
   "source": [
    "fig.write_html('../_includes/svm8.html')"
   ]
  },
  {
   "cell_type": "code",
   "execution_count": 22,
   "metadata": {
    "colab": {
     "base_uri": "https://localhost:8080/",
     "height": 542
    },
    "colab_type": "code",
    "id": "4E7y9Jtf2uUw",
    "outputId": "3f95b60d-3702-487b-8add-c1d0f859af4e"
   },
   "outputs": [
    {
     "data": {
      "application/vnd.plotly.v1+json": {
       "config": {
        "plotlyServerURL": "https://plot.ly"
       },
       "data": [
        {
         "marker": {
          "color": [
           1,
           1,
           1,
           -1,
           1,
           -1,
           1,
           -1,
           -1,
           -1,
           1,
           -1,
           -1,
           -1,
           -1,
           -1,
           -1,
           1,
           -1,
           -1,
           -1,
           -1,
           -1,
           1,
           -1,
           1,
           1,
           1,
           -1,
           1,
           -1,
           1
          ],
          "colorscale": [
           [
            0,
            "rgb(103,0,31)"
           ],
           [
            0.1,
            "rgb(178,24,43)"
           ],
           [
            0.2,
            "rgb(214,96,77)"
           ],
           [
            0.3,
            "rgb(244,165,130)"
           ],
           [
            0.4,
            "rgb(253,219,199)"
           ],
           [
            0.5,
            "rgb(247,247,247)"
           ],
           [
            0.6,
            "rgb(209,229,240)"
           ],
           [
            0.7,
            "rgb(146,197,222)"
           ],
           [
            0.8,
            "rgb(67,147,195)"
           ],
           [
            0.9,
            "rgb(33,102,172)"
           ],
           [
            1,
            "rgb(5,48,97)"
           ]
          ],
          "size": 10
         },
         "mode": "markers",
         "showlegend": false,
         "type": "scatter",
         "x": [
          0.9553637840845721,
          0.413774153732544,
          -0.08831908338511785,
          -0.716311572309574,
          0.8384759927653522,
          -0.9189032643724722,
          0.9252022719166835,
          -0.7399517311510524,
          -0.48925060555223643,
          -0.2571837448661536,
          1.2472725791348636,
          0.510513677909929,
          -0.04406140907115674,
          -0.4526388712024112,
          -0.7410664407399503,
          -0.22886574311621488,
          0.17911530841163925,
          0.37731160017527965,
          -0.06378794718172476,
          -0.8489738247618893,
          -0.3427115406107284,
          0.9447028381045965,
          -0.45863108539764097,
          -0.18525916158486833,
          -0.4153494280377563,
          0.0796861975497053,
          0.5519713431835059,
          -0.4458606043168418,
          0.25925994466408386,
          0.47631133533063985,
          0.1819529446408592,
          0.278359410797857
         ],
         "y": [
          0.27605812463923307,
          -0.12479648779441244,
          -0.1675941715729361,
          -0.6334083046840374,
          -1.169931177950523,
          0.6827014390184523,
          0.02753319544241517,
          -0.03178097011285652,
          -0.19986741088871618,
          -0.7431521635159125,
          -1.2112596885582636,
          1.3537377109563529,
          0.45351038797141097,
          -0.1904827831957029,
          -0.314642087224532,
          0.5653191431978359,
          -0.3273836422608506,
          0.2609246378791865,
          0.7809686257402683,
          0.3500558857040055,
          1.0279165085806263,
          1.0891625473328055,
          -1.165262851885486,
          0.5099443861470127,
          0.020659018247940475,
          -0.2385031665809073,
          -0.45063353486546276,
          -1.1065515039848557,
          0.8790992552575336,
          0.032823644523019335,
          0.7838474218040596,
          0.2937141868189893
         ]
        },
        {
         "colorscale": [
          [
           0,
           "rgb(103,0,31)"
          ],
          [
           0.1,
           "rgb(178,24,43)"
          ],
          [
           0.2,
           "rgb(214,96,77)"
          ],
          [
           0.3,
           "rgb(244,165,130)"
          ],
          [
           0.4,
           "rgb(253,219,199)"
          ],
          [
           0.5,
           "rgb(247,247,247)"
          ],
          [
           0.6,
           "rgb(209,229,240)"
          ],
          [
           0.7,
           "rgb(146,197,222)"
          ],
          [
           0.8,
           "rgb(67,147,195)"
          ],
          [
           0.9,
           "rgb(33,102,172)"
          ],
          [
           1,
           "rgb(5,48,97)"
          ]
         ],
         "type": "contour",
         "x": [
          -1.8,
          -1.6105263157894738,
          -1.4210526315789473,
          -1.231578947368421,
          -1.0421052631578949,
          -0.8526315789473685,
          -0.6631578947368422,
          -0.4736842105263159,
          -0.2842105263157896,
          -0.09473684210526326,
          0.09473684210526305,
          0.2842105263157896,
          0.47368421052631565,
          0.6631578947368418,
          0.8526315789473683,
          1.0421052631578949,
          1.2315789473684209,
          1.4210526315789471,
          1.6105263157894736,
          1.8
         ],
         "y": [
          -1.5,
          -1.3421052631578947,
          -1.1842105263157894,
          -1.0263157894736843,
          -0.868421052631579,
          -0.7105263157894737,
          -0.5526315789473685,
          -0.3947368421052632,
          -0.23684210526315796,
          -0.07894736842105271,
          0.07894736842105254,
          0.23684210526315796,
          0.39473684210526305,
          0.5526315789473681,
          0.7105263157894736,
          0.868421052631579,
          1.026315789473684,
          1.1842105263157892,
          1.3421052631578947,
          1.5
         ],
         "z": [
          [
           -1.9476608209522723,
           -1.6092552169838679,
           -1.270849613015463,
           -0.9324440090470597,
           -0.5940384050786561,
           -0.2556328011102519,
           0.0827728028581518,
           0.4211784068265556,
           0.75958401079496,
           1.0979896147633648,
           1.436395218731768,
           1.7748008227001724,
           2.113206426668576,
           2.4516120306369804,
           2.7900176346053844,
           3.128423238573789,
           3.466828842542192,
           3.8052344465105974,
           4.143640050479001,
           4.482045654447404
          ],
          [
           -2.1235511961577487,
           -1.7851455921893442,
           -1.4467399882209406,
           -1.1083343842525366,
           -0.769928780284132,
           -0.43152317631572834,
           -0.09311757234732354,
           0.2452880316210796,
           0.5836936355894832,
           0.9220992395578881,
           1.260504843526292,
           1.598910447494697,
           1.9373160514630992,
           2.275721655431503,
           2.6141272593999085,
           2.9525328633683126,
           3.2909384673367157,
           3.6293440713051193,
           3.967749675273524,
           4.306155279241929
          ],
          [
           -2.299441571363224,
           -1.9610359673948201,
           -1.622630363426416,
           -1.2842247594580125,
           -0.9458191554896084,
           -0.6074135515212047,
           -0.2690079475528,
           0.06939765641560425,
           0.4078032603840075,
           0.746208864352412,
           1.0846144683208157,
           1.423020072289221,
           1.7614256762576233,
           2.0998312802260277,
           2.438236884194432,
           2.7766424881628367,
           3.1150480921312402,
           3.4534536960996434,
           3.7918593000680487,
           4.130264904036453
          ],
          [
           -2.4753319465687005,
           -2.1369263426002965,
           -1.798520738631892,
           -1.4601151346634884,
           -1.1217095306950848,
           -0.7833039267266804,
           -0.44489832275827573,
           -0.10649271878987221,
           0.2319128851785318,
           0.5703184891469362,
           0.9087240931153399,
           1.2471296970837442,
           1.5855353010521478,
           1.9239409050205514,
           2.2623465089889554,
           2.6007521129573603,
           2.9391577169257643,
           3.2775633208941675,
           3.6159689248625724,
           3.9543745288309755
          ],
          [
           -2.6512223217741755,
           -2.312816717805772,
           -1.9744111138373683,
           -1.6360055098689639,
           -1.2975999059005603,
           -0.9591943019321566,
           -0.620788697963752,
           -0.2823830939953478,
           0.056022509973055856,
           0.3944281139414597,
           0.732833717909864,
           1.0712393218782688,
           1.409644925846672,
           1.748050529815076,
           2.0864561337834804,
           2.424861737751885,
           2.763267341720288,
           3.1016729456886916,
           3.440078549657096,
           3.778484153625501
          ],
          [
           -2.8271126969796523,
           -2.4887070930112487,
           -2.1503014890428442,
           -1.8118958850744407,
           -1.473490281106037,
           -1.1350846771376326,
           -0.7966790731692286,
           -0.4582734692008244,
           -0.11986786523242016,
           0.21853773873598348,
           0.5569433427043878,
           0.8953489466727919,
           1.2337545506411955,
           1.5721601546095991,
           1.910565758578004,
           2.2489713625464085,
           2.5873769665148116,
           2.925782570483215,
           3.2641881744516197,
           3.6025937784200246
          ],
          [
           -3.003003072185128,
           -2.664597468216725,
           -2.326191864248321,
           -1.9877862602799166,
           -1.6493806563115134,
           -1.3109750523431085,
           -0.9725694483747044,
           -0.6341638444063002,
           -0.29575824043789656,
           0.04264736353050769,
           0.3810529674989116,
           0.719458571467316,
           1.0578641754357196,
           1.3962697794041232,
           1.7346753833725277,
           2.073080987340932,
           2.4114865913093353,
           2.7498921952777398,
           3.0882977992461442,
           3.4267034032145482
          ],
          [
           -3.1788934473906054,
           -2.840487843422201,
           -2.5020822394537974,
           -2.163676635485393,
           -1.8252710315169893,
           -1.4868654275485849,
           -1.1484598235801808,
           -0.8100542196117766,
           -0.47164861564337285,
           -0.13324301167496877,
           0.20516259229343525,
           0.5435681962618396,
           0.8819738002302432,
           1.2203794041986473,
           1.5587850081670513,
           1.8971906121354563,
           2.23559621610386,
           2.574001820072264,
           2.9124074240406674,
           3.250813028009071
          ],
          [
           -3.3547838225960804,
           -3.0163782186276773,
           -2.6779726146592733,
           -2.339567010690869,
           -2.0011614067224652,
           -1.6627558027540608,
           -1.3243501987856572,
           -0.985944594817253,
           -0.6475389908488489,
           -0.3091333868804449,
           0.02927221708795913,
           0.3676778210563636,
           0.7060834250247671,
           1.044489028993171,
           1.3828946329615754,
           1.7213002369299795,
           2.059705840898383,
           2.398111444866787,
           2.7365170488351915,
           3.0749226528035947
          ],
          [
           -3.5306741978015577,
           -3.1922685938331545,
           -2.853862989864749,
           -2.5154573858963456,
           -2.1770517819279416,
           -1.8386461779595376,
           -1.500240573991133,
           -1.161834970022729,
           -0.8234293660543252,
           -0.485023762085921,
           -0.14661815811751705,
           0.19178744585088736,
           0.5301930498192912,
           0.868598653787695,
           1.2070042577560987,
           1.5454098617245036,
           1.8838154656929067,
           2.2222210696613103,
           2.560626673629715,
           2.8990322775981188
          ],
          [
           -3.7065645730070336,
           -3.3681589690386295,
           -3.0297533650702255,
           -2.691347761101822,
           -2.3529421571334175,
           -2.0145365531650135,
           -1.6761309491966094,
           -1.3377253452282054,
           -0.9993197412598014,
           -0.6609141372913971,
           -0.32250853332299323,
           0.015897070645411127,
           0.3543026746138147,
           0.6927082785822184,
           1.0311138825506228,
           1.3695194865190272,
           1.7079250904874304,
           2.0463306944558344,
           2.384736298424239,
           2.723141902392643
          ],
          [
           -3.882454948212509,
           -3.544049344244107,
           -3.205643740275702,
           -2.867238136307298,
           -2.528832532338894,
           -2.19042692837049,
           -1.8520213244020858,
           -1.5136157204336818,
           -1.1752101164652777,
           -0.8368045124968737,
           -0.4983989085284697,
           -0.15999330456006522,
           0.17841229940833825,
           0.5168179033767423,
           0.8552235073451467,
           1.1936291113135513,
           1.532034715281955,
           1.8704403192503585,
           2.2088459232187634,
           2.547251527187166
          ],
          [
           -4.058345323417986,
           -3.719939719449582,
           -3.3815341154811773,
           -3.0431285115127737,
           -2.70472290754437,
           -2.3663173035759653,
           -2.0279116996075617,
           -1.6895060956391577,
           -1.3511004916707539,
           -1.0126948877023496,
           -0.6742892837339456,
           -0.335883679765541,
           0.0025219242028625133,
           0.34092752817126637,
           0.6793331321396704,
           1.017738736108075,
           1.3561443400764785,
           1.6945499440448826,
           2.0329555480132866,
           2.37136115198169
          ],
          [
           -4.234235698623461,
           -3.8958300946550586,
           -3.5574244906866537,
           -3.21901888671825,
           -2.880613282749846,
           -2.542207678781441,
           -2.2038020748130376,
           -1.8653964708446336,
           -1.5269908668762295,
           -1.1885852629078255,
           -0.8501796589394215,
           -0.5117740549710172,
           -0.17336845100261344,
           0.16503715296579002,
           0.5034427569341949,
           0.8418483609025996,
           1.1802539648710026,
           1.5186595688394071,
           1.8570651728078107,
           2.195470776776215
          ],
          [
           -4.4101260738289385,
           -4.071720469860534,
           -3.7333148658921296,
           -3.3949092619237264,
           -3.0565036579553224,
           -2.7180980539869184,
           -2.379692450018514,
           -2.04128684605011,
           -1.7028812420817059,
           -1.3644756381133019,
           -1.0260700341448983,
           -0.6876644301764938,
           -0.34925882620809007,
           -0.0108532222396861,
           0.32755238172871814,
           0.665957985697122,
           1.0043635896655259,
           1.3427691936339303,
           1.6811747976023335,
           2.019580401570737
          ],
          [
           -4.586016449034415,
           -4.24761084506601,
           -3.909205241097607,
           -3.570799637129203,
           -3.232394033160799,
           -2.8939884291923947,
           -2.5555828252239907,
           -2.2171772212555867,
           -1.8787716172871827,
           -1.5403660133187786,
           -1.2019604093503746,
           -0.8635548053819699,
           -0.5251492014135662,
           -0.18674359744516245,
           0.15166200652324202,
           0.49006761049164604,
           0.8284732144600496,
           1.166878818428453,
           1.5052844223968576,
           1.8436900263652611
          ],
          [
           -4.761906824239891,
           -4.423501220271485,
           -4.085095616303082,
           -3.7466900123346787,
           -3.4082844083662747,
           -3.0698788043978715,
           -2.731473200429466,
           -2.393067596461062,
           -2.0546619924926586,
           -1.716256388524254,
           -1.3778507845558505,
           -1.0394451805874458,
           -0.7010395766190425,
           -0.36263397265063835,
           -0.024228368682233936,
           0.3141772352861709,
           0.6525828392545733,
           0.9909884432229782,
           1.3293940471913817,
           1.6677996511597866
          ],
          [
           -4.937797199445366,
           -4.599391595476962,
           -4.260985991508559,
           -3.922580387540155,
           -3.584174783571751,
           -3.2457691796033465,
           -2.907363575634942,
           -2.5689579716665385,
           -2.2305523676981345,
           -1.8921467637297305,
           -1.5537411597613264,
           -1.215335555792922,
           -0.8769299518245177,
           -0.5385243478561148,
           -0.20011874388771017,
           0.13828686008069369,
           0.47669246404909826,
           0.8150980680175014,
           1.1535036719859062,
           1.4919092759543098
          ],
          [
           -5.113687574650842,
           -4.775281970682439,
           -4.436876366714034,
           -4.09847076274563,
           -3.760065158777227,
           -3.421659554808823,
           -3.083253950840418,
           -2.744848346872015,
           -2.4064427429036113,
           -2.0680371389352064,
           -1.7296315349668028,
           -1.3912259309983974,
           -1.0528203270299943,
           -0.7144147230615904,
           -0.37600911909318635,
           -0.037603515124782105,
           0.30080208884362114,
           0.6392076928120264,
           0.97761329678043,
           1.3160189007488343
          ],
          [
           -5.289577949856318,
           -4.951172345887915,
           -4.61276674191951,
           -4.274361137951107,
           -3.9359555339827033,
           -3.5975499300142983,
           -3.2591443260458948,
           -2.9207387220774907,
           -2.5823331181090867,
           -2.2439275141406827,
           -1.9055219101722787,
           -1.5671163062038742,
           -1.228710702235471,
           -0.8903050982670667,
           -0.5518994942986624,
           -0.213493890330258,
           0.12491171363814535,
           0.46331731760654826,
           0.8017229215749532,
           1.1401285255433584
          ]
         ]
        }
       ],
       "layout": {
        "template": {
         "data": {
          "bar": [
           {
            "error_x": {
             "color": "#2a3f5f"
            },
            "error_y": {
             "color": "#2a3f5f"
            },
            "marker": {
             "line": {
              "color": "#E5ECF6",
              "width": 0.5
             }
            },
            "type": "bar"
           }
          ],
          "barpolar": [
           {
            "marker": {
             "line": {
              "color": "#E5ECF6",
              "width": 0.5
             }
            },
            "type": "barpolar"
           }
          ],
          "carpet": [
           {
            "aaxis": {
             "endlinecolor": "#2a3f5f",
             "gridcolor": "white",
             "linecolor": "white",
             "minorgridcolor": "white",
             "startlinecolor": "#2a3f5f"
            },
            "baxis": {
             "endlinecolor": "#2a3f5f",
             "gridcolor": "white",
             "linecolor": "white",
             "minorgridcolor": "white",
             "startlinecolor": "#2a3f5f"
            },
            "type": "carpet"
           }
          ],
          "choropleth": [
           {
            "colorbar": {
             "outlinewidth": 0,
             "ticks": ""
            },
            "type": "choropleth"
           }
          ],
          "contour": [
           {
            "colorbar": {
             "outlinewidth": 0,
             "ticks": ""
            },
            "colorscale": [
             [
              0,
              "#0d0887"
             ],
             [
              0.1111111111111111,
              "#46039f"
             ],
             [
              0.2222222222222222,
              "#7201a8"
             ],
             [
              0.3333333333333333,
              "#9c179e"
             ],
             [
              0.4444444444444444,
              "#bd3786"
             ],
             [
              0.5555555555555556,
              "#d8576b"
             ],
             [
              0.6666666666666666,
              "#ed7953"
             ],
             [
              0.7777777777777778,
              "#fb9f3a"
             ],
             [
              0.8888888888888888,
              "#fdca26"
             ],
             [
              1,
              "#f0f921"
             ]
            ],
            "type": "contour"
           }
          ],
          "contourcarpet": [
           {
            "colorbar": {
             "outlinewidth": 0,
             "ticks": ""
            },
            "type": "contourcarpet"
           }
          ],
          "heatmap": [
           {
            "colorbar": {
             "outlinewidth": 0,
             "ticks": ""
            },
            "colorscale": [
             [
              0,
              "#0d0887"
             ],
             [
              0.1111111111111111,
              "#46039f"
             ],
             [
              0.2222222222222222,
              "#7201a8"
             ],
             [
              0.3333333333333333,
              "#9c179e"
             ],
             [
              0.4444444444444444,
              "#bd3786"
             ],
             [
              0.5555555555555556,
              "#d8576b"
             ],
             [
              0.6666666666666666,
              "#ed7953"
             ],
             [
              0.7777777777777778,
              "#fb9f3a"
             ],
             [
              0.8888888888888888,
              "#fdca26"
             ],
             [
              1,
              "#f0f921"
             ]
            ],
            "type": "heatmap"
           }
          ],
          "heatmapgl": [
           {
            "colorbar": {
             "outlinewidth": 0,
             "ticks": ""
            },
            "colorscale": [
             [
              0,
              "#0d0887"
             ],
             [
              0.1111111111111111,
              "#46039f"
             ],
             [
              0.2222222222222222,
              "#7201a8"
             ],
             [
              0.3333333333333333,
              "#9c179e"
             ],
             [
              0.4444444444444444,
              "#bd3786"
             ],
             [
              0.5555555555555556,
              "#d8576b"
             ],
             [
              0.6666666666666666,
              "#ed7953"
             ],
             [
              0.7777777777777778,
              "#fb9f3a"
             ],
             [
              0.8888888888888888,
              "#fdca26"
             ],
             [
              1,
              "#f0f921"
             ]
            ],
            "type": "heatmapgl"
           }
          ],
          "histogram": [
           {
            "marker": {
             "colorbar": {
              "outlinewidth": 0,
              "ticks": ""
             }
            },
            "type": "histogram"
           }
          ],
          "histogram2d": [
           {
            "colorbar": {
             "outlinewidth": 0,
             "ticks": ""
            },
            "colorscale": [
             [
              0,
              "#0d0887"
             ],
             [
              0.1111111111111111,
              "#46039f"
             ],
             [
              0.2222222222222222,
              "#7201a8"
             ],
             [
              0.3333333333333333,
              "#9c179e"
             ],
             [
              0.4444444444444444,
              "#bd3786"
             ],
             [
              0.5555555555555556,
              "#d8576b"
             ],
             [
              0.6666666666666666,
              "#ed7953"
             ],
             [
              0.7777777777777778,
              "#fb9f3a"
             ],
             [
              0.8888888888888888,
              "#fdca26"
             ],
             [
              1,
              "#f0f921"
             ]
            ],
            "type": "histogram2d"
           }
          ],
          "histogram2dcontour": [
           {
            "colorbar": {
             "outlinewidth": 0,
             "ticks": ""
            },
            "colorscale": [
             [
              0,
              "#0d0887"
             ],
             [
              0.1111111111111111,
              "#46039f"
             ],
             [
              0.2222222222222222,
              "#7201a8"
             ],
             [
              0.3333333333333333,
              "#9c179e"
             ],
             [
              0.4444444444444444,
              "#bd3786"
             ],
             [
              0.5555555555555556,
              "#d8576b"
             ],
             [
              0.6666666666666666,
              "#ed7953"
             ],
             [
              0.7777777777777778,
              "#fb9f3a"
             ],
             [
              0.8888888888888888,
              "#fdca26"
             ],
             [
              1,
              "#f0f921"
             ]
            ],
            "type": "histogram2dcontour"
           }
          ],
          "mesh3d": [
           {
            "colorbar": {
             "outlinewidth": 0,
             "ticks": ""
            },
            "type": "mesh3d"
           }
          ],
          "parcoords": [
           {
            "line": {
             "colorbar": {
              "outlinewidth": 0,
              "ticks": ""
             }
            },
            "type": "parcoords"
           }
          ],
          "pie": [
           {
            "automargin": true,
            "type": "pie"
           }
          ],
          "scatter": [
           {
            "marker": {
             "colorbar": {
              "outlinewidth": 0,
              "ticks": ""
             }
            },
            "type": "scatter"
           }
          ],
          "scatter3d": [
           {
            "line": {
             "colorbar": {
              "outlinewidth": 0,
              "ticks": ""
             }
            },
            "marker": {
             "colorbar": {
              "outlinewidth": 0,
              "ticks": ""
             }
            },
            "type": "scatter3d"
           }
          ],
          "scattercarpet": [
           {
            "marker": {
             "colorbar": {
              "outlinewidth": 0,
              "ticks": ""
             }
            },
            "type": "scattercarpet"
           }
          ],
          "scattergeo": [
           {
            "marker": {
             "colorbar": {
              "outlinewidth": 0,
              "ticks": ""
             }
            },
            "type": "scattergeo"
           }
          ],
          "scattergl": [
           {
            "marker": {
             "colorbar": {
              "outlinewidth": 0,
              "ticks": ""
             }
            },
            "type": "scattergl"
           }
          ],
          "scattermapbox": [
           {
            "marker": {
             "colorbar": {
              "outlinewidth": 0,
              "ticks": ""
             }
            },
            "type": "scattermapbox"
           }
          ],
          "scatterpolar": [
           {
            "marker": {
             "colorbar": {
              "outlinewidth": 0,
              "ticks": ""
             }
            },
            "type": "scatterpolar"
           }
          ],
          "scatterpolargl": [
           {
            "marker": {
             "colorbar": {
              "outlinewidth": 0,
              "ticks": ""
             }
            },
            "type": "scatterpolargl"
           }
          ],
          "scatterternary": [
           {
            "marker": {
             "colorbar": {
              "outlinewidth": 0,
              "ticks": ""
             }
            },
            "type": "scatterternary"
           }
          ],
          "surface": [
           {
            "colorbar": {
             "outlinewidth": 0,
             "ticks": ""
            },
            "colorscale": [
             [
              0,
              "#0d0887"
             ],
             [
              0.1111111111111111,
              "#46039f"
             ],
             [
              0.2222222222222222,
              "#7201a8"
             ],
             [
              0.3333333333333333,
              "#9c179e"
             ],
             [
              0.4444444444444444,
              "#bd3786"
             ],
             [
              0.5555555555555556,
              "#d8576b"
             ],
             [
              0.6666666666666666,
              "#ed7953"
             ],
             [
              0.7777777777777778,
              "#fb9f3a"
             ],
             [
              0.8888888888888888,
              "#fdca26"
             ],
             [
              1,
              "#f0f921"
             ]
            ],
            "type": "surface"
           }
          ],
          "table": [
           {
            "cells": {
             "fill": {
              "color": "#EBF0F8"
             },
             "line": {
              "color": "white"
             }
            },
            "header": {
             "fill": {
              "color": "#C8D4E3"
             },
             "line": {
              "color": "white"
             }
            },
            "type": "table"
           }
          ]
         },
         "layout": {
          "annotationdefaults": {
           "arrowcolor": "#2a3f5f",
           "arrowhead": 0,
           "arrowwidth": 1
          },
          "coloraxis": {
           "colorbar": {
            "outlinewidth": 0,
            "ticks": ""
           }
          },
          "colorscale": {
           "diverging": [
            [
             0,
             "#8e0152"
            ],
            [
             0.1,
             "#c51b7d"
            ],
            [
             0.2,
             "#de77ae"
            ],
            [
             0.3,
             "#f1b6da"
            ],
            [
             0.4,
             "#fde0ef"
            ],
            [
             0.5,
             "#f7f7f7"
            ],
            [
             0.6,
             "#e6f5d0"
            ],
            [
             0.7,
             "#b8e186"
            ],
            [
             0.8,
             "#7fbc41"
            ],
            [
             0.9,
             "#4d9221"
            ],
            [
             1,
             "#276419"
            ]
           ],
           "sequential": [
            [
             0,
             "#0d0887"
            ],
            [
             0.1111111111111111,
             "#46039f"
            ],
            [
             0.2222222222222222,
             "#7201a8"
            ],
            [
             0.3333333333333333,
             "#9c179e"
            ],
            [
             0.4444444444444444,
             "#bd3786"
            ],
            [
             0.5555555555555556,
             "#d8576b"
            ],
            [
             0.6666666666666666,
             "#ed7953"
            ],
            [
             0.7777777777777778,
             "#fb9f3a"
            ],
            [
             0.8888888888888888,
             "#fdca26"
            ],
            [
             1,
             "#f0f921"
            ]
           ],
           "sequentialminus": [
            [
             0,
             "#0d0887"
            ],
            [
             0.1111111111111111,
             "#46039f"
            ],
            [
             0.2222222222222222,
             "#7201a8"
            ],
            [
             0.3333333333333333,
             "#9c179e"
            ],
            [
             0.4444444444444444,
             "#bd3786"
            ],
            [
             0.5555555555555556,
             "#d8576b"
            ],
            [
             0.6666666666666666,
             "#ed7953"
            ],
            [
             0.7777777777777778,
             "#fb9f3a"
            ],
            [
             0.8888888888888888,
             "#fdca26"
            ],
            [
             1,
             "#f0f921"
            ]
           ]
          },
          "colorway": [
           "#636efa",
           "#EF553B",
           "#00cc96",
           "#ab63fa",
           "#FFA15A",
           "#19d3f3",
           "#FF6692",
           "#B6E880",
           "#FF97FF",
           "#FECB52"
          ],
          "font": {
           "color": "#2a3f5f"
          },
          "geo": {
           "bgcolor": "white",
           "lakecolor": "white",
           "landcolor": "#E5ECF6",
           "showlakes": true,
           "showland": true,
           "subunitcolor": "white"
          },
          "hoverlabel": {
           "align": "left"
          },
          "hovermode": "closest",
          "mapbox": {
           "style": "light"
          },
          "paper_bgcolor": "white",
          "plot_bgcolor": "#E5ECF6",
          "polar": {
           "angularaxis": {
            "gridcolor": "white",
            "linecolor": "white",
            "ticks": ""
           },
           "bgcolor": "#E5ECF6",
           "radialaxis": {
            "gridcolor": "white",
            "linecolor": "white",
            "ticks": ""
           }
          },
          "scene": {
           "xaxis": {
            "backgroundcolor": "#E5ECF6",
            "gridcolor": "white",
            "gridwidth": 2,
            "linecolor": "white",
            "showbackground": true,
            "ticks": "",
            "zerolinecolor": "white"
           },
           "yaxis": {
            "backgroundcolor": "#E5ECF6",
            "gridcolor": "white",
            "gridwidth": 2,
            "linecolor": "white",
            "showbackground": true,
            "ticks": "",
            "zerolinecolor": "white"
           },
           "zaxis": {
            "backgroundcolor": "#E5ECF6",
            "gridcolor": "white",
            "gridwidth": 2,
            "linecolor": "white",
            "showbackground": true,
            "ticks": "",
            "zerolinecolor": "white"
           }
          },
          "shapedefaults": {
           "line": {
            "color": "#2a3f5f"
           }
          },
          "ternary": {
           "aaxis": {
            "gridcolor": "white",
            "linecolor": "white",
            "ticks": ""
           },
           "baxis": {
            "gridcolor": "white",
            "linecolor": "white",
            "ticks": ""
           },
           "bgcolor": "#E5ECF6",
           "caxis": {
            "gridcolor": "white",
            "linecolor": "white",
            "ticks": ""
           }
          },
          "title": {
           "x": 0.05
          },
          "xaxis": {
           "automargin": true,
           "gridcolor": "white",
           "linecolor": "white",
           "ticks": "",
           "title": {
            "standoff": 15
           },
           "zerolinecolor": "white",
           "zerolinewidth": 2
          },
          "yaxis": {
           "automargin": true,
           "gridcolor": "white",
           "linecolor": "white",
           "ticks": "",
           "title": {
            "standoff": 15
           },
           "zerolinecolor": "white",
           "zerolinewidth": 2
          }
         }
        },
        "title": {
         "text": "Decision function"
        },
        "width": 600
       }
      },
      "text/html": [
       "<div>\n",
       "        \n",
       "        \n",
       "            <div id=\"3d0c562b-efa8-4f42-b3ab-7040c67aa136\" class=\"plotly-graph-div\" style=\"height:525px; width:600px;\"></div>\n",
       "            <script type=\"text/javascript\">\n",
       "                require([\"plotly\"], function(Plotly) {\n",
       "                    window.PLOTLYENV=window.PLOTLYENV || {};\n",
       "                    \n",
       "                if (document.getElementById(\"3d0c562b-efa8-4f42-b3ab-7040c67aa136\")) {\n",
       "                    Plotly.newPlot(\n",
       "                        '3d0c562b-efa8-4f42-b3ab-7040c67aa136',\n",
       "                        [{\"marker\": {\"color\": [1.0, 1.0, 1.0, -1.0, 1.0, -1.0, 1.0, -1.0, -1.0, -1.0, 1.0, -1.0, -1.0, -1.0, -1.0, -1.0, -1.0, 1.0, -1.0, -1.0, -1.0, -1.0, -1.0, 1.0, -1.0, 1.0, 1.0, 1.0, -1.0, 1.0, -1.0, 1.0], \"colorscale\": [[0.0, \"rgb(103,0,31)\"], [0.1, \"rgb(178,24,43)\"], [0.2, \"rgb(214,96,77)\"], [0.3, \"rgb(244,165,130)\"], [0.4, \"rgb(253,219,199)\"], [0.5, \"rgb(247,247,247)\"], [0.6, \"rgb(209,229,240)\"], [0.7, \"rgb(146,197,222)\"], [0.8, \"rgb(67,147,195)\"], [0.9, \"rgb(33,102,172)\"], [1.0, \"rgb(5,48,97)\"]], \"size\": 10}, \"mode\": \"markers\", \"showlegend\": false, \"type\": \"scatter\", \"x\": [0.9553637840845721, 0.413774153732544, -0.08831908338511785, -0.716311572309574, 0.8384759927653522, -0.9189032643724722, 0.9252022719166835, -0.7399517311510524, -0.48925060555223643, -0.2571837448661536, 1.2472725791348636, 0.510513677909929, -0.04406140907115674, -0.4526388712024112, -0.7410664407399503, -0.22886574311621488, 0.17911530841163925, 0.37731160017527965, -0.06378794718172476, -0.8489738247618893, -0.3427115406107284, 0.9447028381045965, -0.45863108539764097, -0.18525916158486833, -0.4153494280377563, 0.0796861975497053, 0.5519713431835059, -0.4458606043168418, 0.25925994466408386, 0.47631133533063985, 0.1819529446408592, 0.278359410797857], \"y\": [0.27605812463923307, -0.12479648779441244, -0.1675941715729361, -0.6334083046840374, -1.169931177950523, 0.6827014390184523, 0.02753319544241517, -0.03178097011285652, -0.19986741088871618, -0.7431521635159125, -1.2112596885582636, 1.3537377109563529, 0.45351038797141097, -0.1904827831957029, -0.314642087224532, 0.5653191431978359, -0.3273836422608506, 0.2609246378791865, 0.7809686257402683, 0.3500558857040055, 1.0279165085806263, 1.0891625473328055, -1.165262851885486, 0.5099443861470127, 0.020659018247940475, -0.2385031665809073, -0.45063353486546276, -1.1065515039848557, 0.8790992552575336, 0.032823644523019335, 0.7838474218040596, 0.2937141868189893]}, {\"colorscale\": [[0.0, \"rgb(103,0,31)\"], [0.1, \"rgb(178,24,43)\"], [0.2, \"rgb(214,96,77)\"], [0.3, \"rgb(244,165,130)\"], [0.4, \"rgb(253,219,199)\"], [0.5, \"rgb(247,247,247)\"], [0.6, \"rgb(209,229,240)\"], [0.7, \"rgb(146,197,222)\"], [0.8, \"rgb(67,147,195)\"], [0.9, \"rgb(33,102,172)\"], [1.0, \"rgb(5,48,97)\"]], \"type\": \"contour\", \"x\": [-1.8, -1.6105263157894738, -1.4210526315789473, -1.231578947368421, -1.0421052631578949, -0.8526315789473685, -0.6631578947368422, -0.4736842105263159, -0.2842105263157896, -0.09473684210526326, 0.09473684210526305, 0.2842105263157896, 0.47368421052631565, 0.6631578947368418, 0.8526315789473683, 1.0421052631578949, 1.2315789473684209, 1.4210526315789471, 1.6105263157894736, 1.8], \"y\": [-1.5, -1.3421052631578947, -1.1842105263157894, -1.0263157894736843, -0.868421052631579, -0.7105263157894737, -0.5526315789473685, -0.3947368421052632, -0.23684210526315796, -0.07894736842105271, 0.07894736842105254, 0.23684210526315796, 0.39473684210526305, 0.5526315789473681, 0.7105263157894736, 0.868421052631579, 1.026315789473684, 1.1842105263157892, 1.3421052631578947, 1.5], \"z\": [[-1.9476608209522723, -1.6092552169838679, -1.270849613015463, -0.9324440090470597, -0.5940384050786561, -0.2556328011102519, 0.0827728028581518, 0.4211784068265556, 0.75958401079496, 1.0979896147633648, 1.436395218731768, 1.7748008227001724, 2.113206426668576, 2.4516120306369804, 2.7900176346053844, 3.128423238573789, 3.466828842542192, 3.8052344465105974, 4.143640050479001, 4.482045654447404], [-2.1235511961577487, -1.7851455921893442, -1.4467399882209406, -1.1083343842525366, -0.769928780284132, -0.43152317631572834, -0.09311757234732354, 0.2452880316210796, 0.5836936355894832, 0.9220992395578881, 1.260504843526292, 1.598910447494697, 1.9373160514630992, 2.275721655431503, 2.6141272593999085, 2.9525328633683126, 3.2909384673367157, 3.6293440713051193, 3.967749675273524, 4.306155279241929], [-2.299441571363224, -1.9610359673948201, -1.622630363426416, -1.2842247594580125, -0.9458191554896084, -0.6074135515212047, -0.2690079475528, 0.06939765641560425, 0.4078032603840075, 0.746208864352412, 1.0846144683208157, 1.423020072289221, 1.7614256762576233, 2.0998312802260277, 2.438236884194432, 2.7766424881628367, 3.1150480921312402, 3.4534536960996434, 3.7918593000680487, 4.130264904036453], [-2.4753319465687005, -2.1369263426002965, -1.798520738631892, -1.4601151346634884, -1.1217095306950848, -0.7833039267266804, -0.44489832275827573, -0.10649271878987221, 0.2319128851785318, 0.5703184891469362, 0.9087240931153399, 1.2471296970837442, 1.5855353010521478, 1.9239409050205514, 2.2623465089889554, 2.6007521129573603, 2.9391577169257643, 3.2775633208941675, 3.6159689248625724, 3.9543745288309755], [-2.6512223217741755, -2.312816717805772, -1.9744111138373683, -1.6360055098689639, -1.2975999059005603, -0.9591943019321566, -0.620788697963752, -0.2823830939953478, 0.056022509973055856, 0.3944281139414597, 0.732833717909864, 1.0712393218782688, 1.409644925846672, 1.748050529815076, 2.0864561337834804, 2.424861737751885, 2.763267341720288, 3.1016729456886916, 3.440078549657096, 3.778484153625501], [-2.8271126969796523, -2.4887070930112487, -2.1503014890428442, -1.8118958850744407, -1.473490281106037, -1.1350846771376326, -0.7966790731692286, -0.4582734692008244, -0.11986786523242016, 0.21853773873598348, 0.5569433427043878, 0.8953489466727919, 1.2337545506411955, 1.5721601546095991, 1.910565758578004, 2.2489713625464085, 2.5873769665148116, 2.925782570483215, 3.2641881744516197, 3.6025937784200246], [-3.003003072185128, -2.664597468216725, -2.326191864248321, -1.9877862602799166, -1.6493806563115134, -1.3109750523431085, -0.9725694483747044, -0.6341638444063002, -0.29575824043789656, 0.04264736353050769, 0.3810529674989116, 0.719458571467316, 1.0578641754357196, 1.3962697794041232, 1.7346753833725277, 2.073080987340932, 2.4114865913093353, 2.7498921952777398, 3.0882977992461442, 3.4267034032145482], [-3.1788934473906054, -2.840487843422201, -2.5020822394537974, -2.163676635485393, -1.8252710315169893, -1.4868654275485849, -1.1484598235801808, -0.8100542196117766, -0.47164861564337285, -0.13324301167496877, 0.20516259229343525, 0.5435681962618396, 0.8819738002302432, 1.2203794041986473, 1.5587850081670513, 1.8971906121354563, 2.23559621610386, 2.574001820072264, 2.9124074240406674, 3.250813028009071], [-3.3547838225960804, -3.0163782186276773, -2.6779726146592733, -2.339567010690869, -2.0011614067224652, -1.6627558027540608, -1.3243501987856572, -0.985944594817253, -0.6475389908488489, -0.3091333868804449, 0.02927221708795913, 0.3676778210563636, 0.7060834250247671, 1.044489028993171, 1.3828946329615754, 1.7213002369299795, 2.059705840898383, 2.398111444866787, 2.7365170488351915, 3.0749226528035947], [-3.5306741978015577, -3.1922685938331545, -2.853862989864749, -2.5154573858963456, -2.1770517819279416, -1.8386461779595376, -1.500240573991133, -1.161834970022729, -0.8234293660543252, -0.485023762085921, -0.14661815811751705, 0.19178744585088736, 0.5301930498192912, 0.868598653787695, 1.2070042577560987, 1.5454098617245036, 1.8838154656929067, 2.2222210696613103, 2.560626673629715, 2.8990322775981188], [-3.7065645730070336, -3.3681589690386295, -3.0297533650702255, -2.691347761101822, -2.3529421571334175, -2.0145365531650135, -1.6761309491966094, -1.3377253452282054, -0.9993197412598014, -0.6609141372913971, -0.32250853332299323, 0.015897070645411127, 0.3543026746138147, 0.6927082785822184, 1.0311138825506228, 1.3695194865190272, 1.7079250904874304, 2.0463306944558344, 2.384736298424239, 2.723141902392643], [-3.882454948212509, -3.544049344244107, -3.205643740275702, -2.867238136307298, -2.528832532338894, -2.19042692837049, -1.8520213244020858, -1.5136157204336818, -1.1752101164652777, -0.8368045124968737, -0.4983989085284697, -0.15999330456006522, 0.17841229940833825, 0.5168179033767423, 0.8552235073451467, 1.1936291113135513, 1.532034715281955, 1.8704403192503585, 2.2088459232187634, 2.547251527187166], [-4.058345323417986, -3.719939719449582, -3.3815341154811773, -3.0431285115127737, -2.70472290754437, -2.3663173035759653, -2.0279116996075617, -1.6895060956391577, -1.3511004916707539, -1.0126948877023496, -0.6742892837339456, -0.335883679765541, 0.0025219242028625133, 0.34092752817126637, 0.6793331321396704, 1.017738736108075, 1.3561443400764785, 1.6945499440448826, 2.0329555480132866, 2.37136115198169], [-4.234235698623461, -3.8958300946550586, -3.5574244906866537, -3.21901888671825, -2.880613282749846, -2.542207678781441, -2.2038020748130376, -1.8653964708446336, -1.5269908668762295, -1.1885852629078255, -0.8501796589394215, -0.5117740549710172, -0.17336845100261344, 0.16503715296579002, 0.5034427569341949, 0.8418483609025996, 1.1802539648710026, 1.5186595688394071, 1.8570651728078107, 2.195470776776215], [-4.4101260738289385, -4.071720469860534, -3.7333148658921296, -3.3949092619237264, -3.0565036579553224, -2.7180980539869184, -2.379692450018514, -2.04128684605011, -1.7028812420817059, -1.3644756381133019, -1.0260700341448983, -0.6876644301764938, -0.34925882620809007, -0.0108532222396861, 0.32755238172871814, 0.665957985697122, 1.0043635896655259, 1.3427691936339303, 1.6811747976023335, 2.019580401570737], [-4.586016449034415, -4.24761084506601, -3.909205241097607, -3.570799637129203, -3.232394033160799, -2.8939884291923947, -2.5555828252239907, -2.2171772212555867, -1.8787716172871827, -1.5403660133187786, -1.2019604093503746, -0.8635548053819699, -0.5251492014135662, -0.18674359744516245, 0.15166200652324202, 0.49006761049164604, 0.8284732144600496, 1.166878818428453, 1.5052844223968576, 1.8436900263652611], [-4.761906824239891, -4.423501220271485, -4.085095616303082, -3.7466900123346787, -3.4082844083662747, -3.0698788043978715, -2.731473200429466, -2.393067596461062, -2.0546619924926586, -1.716256388524254, -1.3778507845558505, -1.0394451805874458, -0.7010395766190425, -0.36263397265063835, -0.024228368682233936, 0.3141772352861709, 0.6525828392545733, 0.9909884432229782, 1.3293940471913817, 1.6677996511597866], [-4.937797199445366, -4.599391595476962, -4.260985991508559, -3.922580387540155, -3.584174783571751, -3.2457691796033465, -2.907363575634942, -2.5689579716665385, -2.2305523676981345, -1.8921467637297305, -1.5537411597613264, -1.215335555792922, -0.8769299518245177, -0.5385243478561148, -0.20011874388771017, 0.13828686008069369, 0.47669246404909826, 0.8150980680175014, 1.1535036719859062, 1.4919092759543098], [-5.113687574650842, -4.775281970682439, -4.436876366714034, -4.09847076274563, -3.760065158777227, -3.421659554808823, -3.083253950840418, -2.744848346872015, -2.4064427429036113, -2.0680371389352064, -1.7296315349668028, -1.3912259309983974, -1.0528203270299943, -0.7144147230615904, -0.37600911909318635, -0.037603515124782105, 0.30080208884362114, 0.6392076928120264, 0.97761329678043, 1.3160189007488343], [-5.289577949856318, -4.951172345887915, -4.61276674191951, -4.274361137951107, -3.9359555339827033, -3.5975499300142983, -3.2591443260458948, -2.9207387220774907, -2.5823331181090867, -2.2439275141406827, -1.9055219101722787, -1.5671163062038742, -1.228710702235471, -0.8903050982670667, -0.5518994942986624, -0.213493890330258, 0.12491171363814535, 0.46331731760654826, 0.8017229215749532, 1.1401285255433584]]}],\n",
       "                        {\"template\": {\"data\": {\"bar\": [{\"error_x\": {\"color\": \"#2a3f5f\"}, \"error_y\": {\"color\": \"#2a3f5f\"}, \"marker\": {\"line\": {\"color\": \"#E5ECF6\", \"width\": 0.5}}, \"type\": \"bar\"}], \"barpolar\": [{\"marker\": {\"line\": {\"color\": \"#E5ECF6\", \"width\": 0.5}}, \"type\": \"barpolar\"}], \"carpet\": [{\"aaxis\": {\"endlinecolor\": \"#2a3f5f\", \"gridcolor\": \"white\", \"linecolor\": \"white\", \"minorgridcolor\": \"white\", \"startlinecolor\": \"#2a3f5f\"}, \"baxis\": {\"endlinecolor\": \"#2a3f5f\", \"gridcolor\": \"white\", \"linecolor\": \"white\", \"minorgridcolor\": \"white\", \"startlinecolor\": \"#2a3f5f\"}, \"type\": \"carpet\"}], \"choropleth\": [{\"colorbar\": {\"outlinewidth\": 0, \"ticks\": \"\"}, \"type\": \"choropleth\"}], \"contour\": [{\"colorbar\": {\"outlinewidth\": 0, \"ticks\": \"\"}, \"colorscale\": [[0.0, \"#0d0887\"], [0.1111111111111111, \"#46039f\"], [0.2222222222222222, \"#7201a8\"], [0.3333333333333333, \"#9c179e\"], [0.4444444444444444, \"#bd3786\"], [0.5555555555555556, \"#d8576b\"], [0.6666666666666666, \"#ed7953\"], [0.7777777777777778, \"#fb9f3a\"], [0.8888888888888888, \"#fdca26\"], [1.0, \"#f0f921\"]], \"type\": \"contour\"}], \"contourcarpet\": [{\"colorbar\": {\"outlinewidth\": 0, \"ticks\": \"\"}, \"type\": \"contourcarpet\"}], \"heatmap\": [{\"colorbar\": {\"outlinewidth\": 0, \"ticks\": \"\"}, \"colorscale\": [[0.0, \"#0d0887\"], [0.1111111111111111, \"#46039f\"], [0.2222222222222222, \"#7201a8\"], [0.3333333333333333, \"#9c179e\"], [0.4444444444444444, \"#bd3786\"], [0.5555555555555556, \"#d8576b\"], [0.6666666666666666, \"#ed7953\"], [0.7777777777777778, \"#fb9f3a\"], [0.8888888888888888, \"#fdca26\"], [1.0, \"#f0f921\"]], \"type\": \"heatmap\"}], \"heatmapgl\": [{\"colorbar\": {\"outlinewidth\": 0, \"ticks\": \"\"}, \"colorscale\": [[0.0, \"#0d0887\"], [0.1111111111111111, \"#46039f\"], [0.2222222222222222, \"#7201a8\"], [0.3333333333333333, \"#9c179e\"], [0.4444444444444444, \"#bd3786\"], [0.5555555555555556, \"#d8576b\"], [0.6666666666666666, \"#ed7953\"], [0.7777777777777778, \"#fb9f3a\"], [0.8888888888888888, \"#fdca26\"], [1.0, \"#f0f921\"]], \"type\": \"heatmapgl\"}], \"histogram\": [{\"marker\": {\"colorbar\": {\"outlinewidth\": 0, \"ticks\": \"\"}}, \"type\": \"histogram\"}], \"histogram2d\": [{\"colorbar\": {\"outlinewidth\": 0, \"ticks\": \"\"}, \"colorscale\": [[0.0, \"#0d0887\"], [0.1111111111111111, \"#46039f\"], [0.2222222222222222, \"#7201a8\"], [0.3333333333333333, \"#9c179e\"], [0.4444444444444444, \"#bd3786\"], [0.5555555555555556, \"#d8576b\"], [0.6666666666666666, \"#ed7953\"], [0.7777777777777778, \"#fb9f3a\"], [0.8888888888888888, \"#fdca26\"], [1.0, \"#f0f921\"]], \"type\": \"histogram2d\"}], \"histogram2dcontour\": [{\"colorbar\": {\"outlinewidth\": 0, \"ticks\": \"\"}, \"colorscale\": [[0.0, \"#0d0887\"], [0.1111111111111111, \"#46039f\"], [0.2222222222222222, \"#7201a8\"], [0.3333333333333333, \"#9c179e\"], [0.4444444444444444, \"#bd3786\"], [0.5555555555555556, \"#d8576b\"], [0.6666666666666666, \"#ed7953\"], [0.7777777777777778, \"#fb9f3a\"], [0.8888888888888888, \"#fdca26\"], [1.0, \"#f0f921\"]], \"type\": \"histogram2dcontour\"}], \"mesh3d\": [{\"colorbar\": {\"outlinewidth\": 0, \"ticks\": \"\"}, \"type\": \"mesh3d\"}], \"parcoords\": [{\"line\": {\"colorbar\": {\"outlinewidth\": 0, \"ticks\": \"\"}}, \"type\": \"parcoords\"}], \"pie\": [{\"automargin\": true, \"type\": \"pie\"}], \"scatter\": [{\"marker\": {\"colorbar\": {\"outlinewidth\": 0, \"ticks\": \"\"}}, \"type\": \"scatter\"}], \"scatter3d\": [{\"line\": {\"colorbar\": {\"outlinewidth\": 0, \"ticks\": \"\"}}, \"marker\": {\"colorbar\": {\"outlinewidth\": 0, \"ticks\": \"\"}}, \"type\": \"scatter3d\"}], \"scattercarpet\": [{\"marker\": {\"colorbar\": {\"outlinewidth\": 0, \"ticks\": \"\"}}, \"type\": \"scattercarpet\"}], \"scattergeo\": [{\"marker\": {\"colorbar\": {\"outlinewidth\": 0, \"ticks\": \"\"}}, \"type\": \"scattergeo\"}], \"scattergl\": [{\"marker\": {\"colorbar\": {\"outlinewidth\": 0, \"ticks\": \"\"}}, \"type\": \"scattergl\"}], \"scattermapbox\": [{\"marker\": {\"colorbar\": {\"outlinewidth\": 0, \"ticks\": \"\"}}, \"type\": \"scattermapbox\"}], \"scatterpolar\": [{\"marker\": {\"colorbar\": {\"outlinewidth\": 0, \"ticks\": \"\"}}, \"type\": \"scatterpolar\"}], \"scatterpolargl\": [{\"marker\": {\"colorbar\": {\"outlinewidth\": 0, \"ticks\": \"\"}}, \"type\": \"scatterpolargl\"}], \"scatterternary\": [{\"marker\": {\"colorbar\": {\"outlinewidth\": 0, \"ticks\": \"\"}}, \"type\": \"scatterternary\"}], \"surface\": [{\"colorbar\": {\"outlinewidth\": 0, \"ticks\": \"\"}, \"colorscale\": [[0.0, \"#0d0887\"], [0.1111111111111111, \"#46039f\"], [0.2222222222222222, \"#7201a8\"], [0.3333333333333333, \"#9c179e\"], [0.4444444444444444, \"#bd3786\"], [0.5555555555555556, \"#d8576b\"], [0.6666666666666666, \"#ed7953\"], [0.7777777777777778, \"#fb9f3a\"], [0.8888888888888888, \"#fdca26\"], [1.0, \"#f0f921\"]], \"type\": \"surface\"}], \"table\": [{\"cells\": {\"fill\": {\"color\": \"#EBF0F8\"}, \"line\": {\"color\": \"white\"}}, \"header\": {\"fill\": {\"color\": \"#C8D4E3\"}, \"line\": {\"color\": \"white\"}}, \"type\": \"table\"}]}, \"layout\": {\"annotationdefaults\": {\"arrowcolor\": \"#2a3f5f\", \"arrowhead\": 0, \"arrowwidth\": 1}, \"coloraxis\": {\"colorbar\": {\"outlinewidth\": 0, \"ticks\": \"\"}}, \"colorscale\": {\"diverging\": [[0, \"#8e0152\"], [0.1, \"#c51b7d\"], [0.2, \"#de77ae\"], [0.3, \"#f1b6da\"], [0.4, \"#fde0ef\"], [0.5, \"#f7f7f7\"], [0.6, \"#e6f5d0\"], [0.7, \"#b8e186\"], [0.8, \"#7fbc41\"], [0.9, \"#4d9221\"], [1, \"#276419\"]], \"sequential\": [[0.0, \"#0d0887\"], [0.1111111111111111, \"#46039f\"], [0.2222222222222222, \"#7201a8\"], [0.3333333333333333, \"#9c179e\"], [0.4444444444444444, \"#bd3786\"], [0.5555555555555556, \"#d8576b\"], [0.6666666666666666, \"#ed7953\"], [0.7777777777777778, \"#fb9f3a\"], [0.8888888888888888, \"#fdca26\"], [1.0, \"#f0f921\"]], \"sequentialminus\": [[0.0, \"#0d0887\"], [0.1111111111111111, \"#46039f\"], [0.2222222222222222, \"#7201a8\"], [0.3333333333333333, \"#9c179e\"], [0.4444444444444444, \"#bd3786\"], [0.5555555555555556, \"#d8576b\"], [0.6666666666666666, \"#ed7953\"], [0.7777777777777778, \"#fb9f3a\"], [0.8888888888888888, \"#fdca26\"], [1.0, \"#f0f921\"]]}, \"colorway\": [\"#636efa\", \"#EF553B\", \"#00cc96\", \"#ab63fa\", \"#FFA15A\", \"#19d3f3\", \"#FF6692\", \"#B6E880\", \"#FF97FF\", \"#FECB52\"], \"font\": {\"color\": \"#2a3f5f\"}, \"geo\": {\"bgcolor\": \"white\", \"lakecolor\": \"white\", \"landcolor\": \"#E5ECF6\", \"showlakes\": true, \"showland\": true, \"subunitcolor\": \"white\"}, \"hoverlabel\": {\"align\": \"left\"}, \"hovermode\": \"closest\", \"mapbox\": {\"style\": \"light\"}, \"paper_bgcolor\": \"white\", \"plot_bgcolor\": \"#E5ECF6\", \"polar\": {\"angularaxis\": {\"gridcolor\": \"white\", \"linecolor\": \"white\", \"ticks\": \"\"}, \"bgcolor\": \"#E5ECF6\", \"radialaxis\": {\"gridcolor\": \"white\", \"linecolor\": \"white\", \"ticks\": \"\"}}, \"scene\": {\"xaxis\": {\"backgroundcolor\": \"#E5ECF6\", \"gridcolor\": \"white\", \"gridwidth\": 2, \"linecolor\": \"white\", \"showbackground\": true, \"ticks\": \"\", \"zerolinecolor\": \"white\"}, \"yaxis\": {\"backgroundcolor\": \"#E5ECF6\", \"gridcolor\": \"white\", \"gridwidth\": 2, \"linecolor\": \"white\", \"showbackground\": true, \"ticks\": \"\", \"zerolinecolor\": \"white\"}, \"zaxis\": {\"backgroundcolor\": \"#E5ECF6\", \"gridcolor\": \"white\", \"gridwidth\": 2, \"linecolor\": \"white\", \"showbackground\": true, \"ticks\": \"\", \"zerolinecolor\": \"white\"}}, \"shapedefaults\": {\"line\": {\"color\": \"#2a3f5f\"}}, \"ternary\": {\"aaxis\": {\"gridcolor\": \"white\", \"linecolor\": \"white\", \"ticks\": \"\"}, \"baxis\": {\"gridcolor\": \"white\", \"linecolor\": \"white\", \"ticks\": \"\"}, \"bgcolor\": \"#E5ECF6\", \"caxis\": {\"gridcolor\": \"white\", \"linecolor\": \"white\", \"ticks\": \"\"}}, \"title\": {\"x\": 0.05}, \"xaxis\": {\"automargin\": true, \"gridcolor\": \"white\", \"linecolor\": \"white\", \"ticks\": \"\", \"title\": {\"standoff\": 15}, \"zerolinecolor\": \"white\", \"zerolinewidth\": 2}, \"yaxis\": {\"automargin\": true, \"gridcolor\": \"white\", \"linecolor\": \"white\", \"ticks\": \"\", \"title\": {\"standoff\": 15}, \"zerolinecolor\": \"white\", \"zerolinewidth\": 2}}}, \"title\": {\"text\": \"Decision function\"}, \"width\": 600},\n",
       "                        {\"responsive\": true}\n",
       "                    ).then(function(){\n",
       "                            \n",
       "var gd = document.getElementById('3d0c562b-efa8-4f42-b3ab-7040c67aa136');\n",
       "var x = new MutationObserver(function (mutations, observer) {{\n",
       "        var display = window.getComputedStyle(gd).display;\n",
       "        if (!display || display === 'none') {{\n",
       "            console.log([gd, 'removed!']);\n",
       "            Plotly.purge(gd);\n",
       "            observer.disconnect();\n",
       "        }}\n",
       "}});\n",
       "\n",
       "// Listen for the removal of the full notebook cells\n",
       "var notebookContainer = gd.closest('#notebook-container');\n",
       "if (notebookContainer) {{\n",
       "    x.observe(notebookContainer, {childList: true});\n",
       "}}\n",
       "\n",
       "// Listen for the clearing of the current output cell\n",
       "var outputEl = gd.closest('.output');\n",
       "if (outputEl) {{\n",
       "    x.observe(outputEl, {childList: true});\n",
       "}}\n",
       "\n",
       "                        })\n",
       "                };\n",
       "                });\n",
       "            </script>\n",
       "        </div>"
      ]
     },
     "metadata": {},
     "output_type": "display_data"
    }
   ],
   "source": [
    "# Data with noise\n",
    "# noise is added to the coordinates of the points\n",
    "\n",
    "np.random.seed(2020)\n",
    "X = 2*np.random.rand(32, 2) - 1\n",
    "\n",
    "y = np.zeros(X.shape[0])\n",
    "\n",
    "# initialize labels\n",
    "for i in range(0,X.shape[0]):\n",
    "    y[i] = labels_line(X[i,:])\n",
    "\n",
    "# randomly perturb the points X\n",
    "for i in range(0,X.shape[0]):\n",
    "    X[i,:] = X[i,:] + ( 2*np.random.rand(1, 2) - 1 ) / 2\n",
    "\n",
    "# fit the model\n",
    "clf = svm.SVC(kernel=\"linear\",C=1)\n",
    "clf.fit(X, y)\n",
    "\n",
    "# plot\n",
    "fig = go.Figure()\n",
    "plot_data_decision_function(X, y, clf, fig, \"Decision function\", 1.8, 1.5)\n",
    "fig.show()"
   ]
  },
  {
   "cell_type": "code",
   "execution_count": 23,
   "metadata": {},
   "outputs": [],
   "source": [
    "from sklearn.model_selection import train_test_split"
   ]
  },
  {
   "cell_type": "code",
   "execution_count": 24,
   "metadata": {
    "colab": {},
    "colab_type": "code",
    "id": "67uGbYhN3A4C"
   },
   "outputs": [],
   "source": [
    "np.random.seed(2020)\n",
    "\n",
    "X = np.random.randn(256, 2)\n",
    "y = np.zeros(X.shape[0])\n",
    "\n",
    "# initialize labels\n",
    "for i in range(0,X.shape[0]):\n",
    "    y[i] = labels_line(X[i,:])\n",
    "\n",
    "# randomly perturb the points X\n",
    "for i in range(0,X.shape[0]):\n",
    "    X[i,:] = X[i,:] + np.random.randn(2)/4\n",
    "\n",
    "n_opt_C = 128\n",
    "\n",
    "C_range = np.logspace(-3,1,n_opt_C)\n",
    "score = np.zeros(n_opt_C)\n",
    "a = np.zeros(n_opt_C)\n",
    "b = np.zeros(n_opt_C)\n",
    "\n",
    "k = 0\n",
    "for C in C_range:\n",
    "    X_train, X_valid, y_train, y_valid = train_test_split(X, y, test_size=0.4)\n",
    "    clf = svm.SVC(kernel='linear', C=C).fit(X_train, y_train)\n",
    "    score[k] = clf.score(X_valid, y_valid)\n",
    "    a[k] = -clf.coef_[0,0] / clf.coef_[0,1]\n",
    "    b[k] = -clf.intercept_ / clf.coef_[0,1]\n",
    "    k = k+1"
   ]
  },
  {
   "cell_type": "code",
   "execution_count": 25,
   "metadata": {
    "colab": {
     "base_uri": "https://localhost:8080/",
     "height": 717
    },
    "colab_type": "code",
    "id": "Ly1zWpzCGvqE",
    "outputId": "e567ed98-775b-41e4-bf06-38e5550786a1"
   },
   "outputs": [
    {
     "data": {
      "application/vnd.plotly.v1+json": {
       "config": {
        "plotlyServerURL": "https://plot.ly"
       },
       "data": [
        {
         "marker": {
          "color": [
           -1,
           -1,
           1,
           -1,
           1,
           -1,
           1,
           1,
           1,
           1,
           1,
           1,
           1,
           1,
           -1,
           1,
           1,
           1,
           1,
           -1,
           1,
           -1,
           -1,
           -1,
           1,
           -1,
           1,
           -1,
           -1,
           1,
           -1,
           -1,
           1,
           -1,
           1,
           -1,
           -1,
           -1,
           -1,
           1,
           -1,
           1,
           -1,
           -1,
           1,
           -1,
           -1,
           -1,
           -1,
           1,
           1,
           -1,
           1,
           -1,
           -1,
           1,
           -1,
           1,
           -1,
           1,
           1,
           -1,
           1,
           1,
           -1,
           1,
           1,
           1,
           -1,
           -1,
           -1,
           -1,
           1,
           1,
           -1,
           1,
           -1,
           -1,
           1,
           -1,
           -1,
           1,
           1,
           -1,
           -1,
           -1,
           1,
           -1,
           1,
           -1,
           -1,
           -1,
           1,
           1,
           1,
           -1,
           1,
           -1,
           1,
           -1,
           -1,
           -1,
           1,
           -1,
           -1,
           1,
           -1,
           1,
           1,
           -1,
           1,
           -1,
           -1,
           1,
           1,
           -1,
           -1,
           -1,
           1,
           1,
           -1,
           -1,
           1,
           -1,
           1,
           -1,
           -1,
           1,
           -1,
           -1,
           1,
           1,
           1,
           -1,
           -1,
           1,
           -1,
           -1,
           -1,
           -1,
           1,
           -1,
           1,
           1,
           1,
           1,
           1,
           1,
           -1,
           1,
           -1,
           1,
           1,
           1,
           -1,
           -1,
           -1,
           -1,
           1,
           -1,
           -1,
           -1,
           -1,
           -1,
           -1,
           1,
           1,
           1,
           -1,
           -1,
           1,
           -1,
           -1,
           1,
           1,
           -1,
           -1,
           1,
           1,
           -1,
           1,
           1,
           -1,
           -1,
           -1,
           -1,
           -1,
           1,
           -1,
           1,
           1,
           -1,
           -1,
           1,
           1,
           1,
           1,
           -1,
           -1,
           -1,
           -1,
           -1,
           -1,
           -1,
           1,
           -1,
           1,
           1,
           -1,
           1,
           -1,
           -1,
           -1,
           1,
           1,
           1,
           -1,
           -1,
           -1,
           1,
           1,
           -1,
           1,
           1,
           -1,
           1,
           1,
           -1,
           1,
           -1,
           1,
           -1,
           1,
           1,
           1,
           -1,
           1,
           1,
           -1,
           1,
           1,
           1,
           -1,
           1,
           1,
           -1,
           1,
           -1,
           1,
           1,
           1,
           -1,
           1,
           1,
           1,
           -1
          ],
          "colorscale": [
           [
            0,
            "rgb(103,0,31)"
           ],
           [
            0.1,
            "rgb(178,24,43)"
           ],
           [
            0.2,
            "rgb(214,96,77)"
           ],
           [
            0.3,
            "rgb(244,165,130)"
           ],
           [
            0.4,
            "rgb(253,219,199)"
           ],
           [
            0.5,
            "rgb(247,247,247)"
           ],
           [
            0.6,
            "rgb(209,229,240)"
           ],
           [
            0.7,
            "rgb(146,197,222)"
           ],
           [
            0.8,
            "rgb(67,147,195)"
           ],
           [
            0.9,
            "rgb(33,102,172)"
           ],
           [
            1,
            "rgb(5,48,97)"
           ]
          ],
          "size": 10
         },
         "mode": "markers",
         "name": "Data",
         "type": "scatter",
         "x": [
          -1.954040640424642,
          -0.9346129704108447,
          -0.7572758672378155,
          -0.15390541381614697,
          0.7404316076905644,
          -1.068195666950195,
          1.5132058069475902,
          0.8075173328558833,
          -0.260071214608531,
          0.21991454351912942,
          2.0070382295040936,
          -0.6140995807765874,
          0.2236876959896193,
          -1.3065445769625716,
          0.6146833346753191,
          1.6012521338505816,
          0.6291009079994674,
          1.4563302374107283,
          -0.34864100526182207,
          0.6859510194432512,
          -0.6359616381688193,
          -1.9619620674256517,
          -1.4845318055148973,
          0.5195925475892313,
          0.7699804068502918,
          0.762629658008695,
          1.740694220268352,
          0.6102780104784725,
          -0.49695440764620685,
          0.2620388506141078,
          -0.6884170918569043,
          -0.17106924927250333,
          0.7552152825333498,
          -1.487695875605483,
          2.2061188817965443,
          -0.2743858541372952,
          -1.9338016235847617,
          -0.06662158368095049,
          -0.40846801327998306,
          0.026593983287061876,
          -0.9950531633661615,
          0.18719620908383755,
          -0.09119918165986107,
          1.1307436566963947,
          1.9382270629532206,
          0.5513712612728601,
          -1.5989988798870205,
          0.23305688453045176,
          -0.9748094223929694,
          0.6487303199278283,
          1.0238482371452506,
          0.0032735375725325977,
          0.7265433196619646,
          -0.567393719271828,
          -2.6430934354168745,
          1.8547974799633158,
          -0.03405090040324854,
          0.7550866188974724,
          -0.9718367778967578,
          0.7901440263367453,
          -0.11278385721378895,
          -0.35796461013360104,
          0.39325583860979224,
          1.4229768671367578,
          -1.0673944829326534,
          0.1803370471673738,
          2.2576586750619487,
          0.1423673142052579,
          -1.0707767285708907,
          -0.7023472960819921,
          -1.2677150982505434,
          -1.5292530107681177,
          0.05044707573076407,
          -0.5186520891001445,
          -0.7599928626870304,
          0.38509847101901773,
          -1.4405058974099791,
          0.8077687450561497,
          0.5861626055672292,
          -0.3247996391326533,
          -0.493561318741206,
          -0.8040984857464291,
          1.6924396943843554,
          -0.07825481715753074,
          -0.10319987581536105,
          -1.6976201277986696,
          0.24794223233174822,
          -0.2801946323733891,
          2.7744156508587854,
          -0.17316955154650168,
          -1.7179414899275023,
          -1.5919112706855025,
          0.632722529291194,
          -0.47780255678677486,
          0.31473587790649094,
          0.8101322458186323,
          1.7376377211805565,
          -0.7310054691241049,
          -1.1269790803310613,
          -0.8966281723064677,
          -0.4715519753261034,
          0.45953449018341586,
          0.3760371025745992,
          -0.4072836121201583,
          -0.5049828484164925,
          -1.142030083857907,
          -0.07758302252324178,
          0.15331829423984683,
          0.15096412268841394,
          -1.1939891277589512,
          -0.9887208666877891,
          -2.5058191948836015,
          -2.1349783930794,
          -0.2039932345107618,
          1.0714961071670936,
          -0.8027515429157835,
          -2.7929770216488206,
          -0.9177042471363173,
          -0.3045463584596446,
          0.05608939274771846,
          -1.2849364297773702,
          -1.40481311459173,
          1.089468914145058,
          1.1411399756898637,
          -0.653064169183842,
          -0.1962528955376043,
          -1.4031427552285716,
          -0.31395303677540143,
          0.4572132762523283,
          -1.6639117746698562,
          -0.11002386790771826,
          0.8852108700422738,
          1.5757486857382121,
          -0.8236901878248999,
          -0.35523830587609884,
          0.3175291981062623,
          -0.5870571006250794,
          -0.509623616569976,
          0.2503369347468344,
          -0.7907886373238306,
          2.7074451534449913,
          -1.079839461417475,
          0.39021244203353345,
          -1.277907953078882,
          1.6417355610788018,
          0.627249617127682,
          2.238552893930662,
          0.11172516329255991,
          -1.4629473712064494,
          1.905217000879122,
          -0.5201284327618827,
          1.2653885302220222,
          -1.5770459471523006,
          -0.1368553929127039,
          1.015012272742042,
          -0.7603990404570531,
          -1.2932892955804065,
          -0.49121919841460926,
          0.5092835678345826,
          -0.3466435352285184,
          -0.4514447341075882,
          0.22568654372071245,
          -0.28979318616714383,
          -0.41424141760325284,
          -0.07901542235103093,
          -1.0848547493749665,
          2.038350078996302,
          1.0565247210431314,
          -1.5067176259529877,
          -1.4603731855291304,
          1.4989180084732516,
          -1.1832054633593299,
          -0.4997846730642705,
          0.3095821138410209,
          1.2064853427545938,
          -1.3655867369441221,
          -0.43637840856720067,
          2.554554231106173,
          0.7475957550871044,
          -0.7972852432488805,
          1.2055427868803554,
          0.9267911140617027,
          -1.1329823294033883,
          -0.9463504730565675,
          -0.6892601180217311,
          -0.6198403905298885,
          -0.7937483360731827,
          1.063668319976959,
          -1.7136558784164606,
          0.8755840481447393,
          1.3672696204458028,
          -0.6728332053910806,
          -0.4458692474975759,
          1.319972481353602,
          -0.08285335784303932,
          0.3600342706204157,
          0.7439514977879267,
          -0.8820441562510724,
          -0.4967164827957825,
          -0.740115845002391,
          -0.30645293243597105,
          -0.9498245491016967,
          -0.2659671041910508,
          -1.9197366031821737,
          1.589756221767026,
          -1.0138598703465354,
          0.4953776557168263,
          0.82897677386049,
          0.34919708146752776,
          1.0599504614914619,
          -1.9406116372807907,
          0.10280852967378681,
          -0.4361654531306312,
          -1.5701735305432072,
          1.0793560440610965,
          2.3717911661971236,
          -0.1658472717487634,
          -0.19327654216237095,
          -0.4759568811926471,
          0.7631242075823549,
          1.2748390221629016,
          -0.45490557998643544,
          2.568525901834263,
          -0.7979922676831579,
          -1.394093429414838,
          0.19043936229909997,
          0.8653517265318706,
          0.5500299055370158,
          -0.9320404675705009,
          -0.44836426772338067,
          0.24839100171156764,
          -0.02646084725941472,
          0.4718777445648246,
          0.7545775378408983,
          1.143757034392733,
          0.3807890489550084,
          0.9157843412836149,
          -0.13154161304474,
          0.3480841351434699,
          1.0722032020926249,
          1.7632845558617294,
          0.7578492354319584,
          -1.4844412940683658,
          -0.2738424363194289,
          0.6842769594774214,
          -1.5446020337728426,
          1.4205663070969803,
          -2.1210231080373827,
          -0.14348539561321091,
          0.47444806383919846,
          -0.2818676855097314,
          -1.9857010867422964,
          -0.4199777653482539,
          0.20545522293246973,
          2.713614992751875,
          -0.8705569154772629
         ],
         "xaxis": "x",
         "y": [
          0.10465605786361518,
          -0.6499781613304102,
          -1.5703028942412662,
          0.1022328201555842,
          -0.6779573407143163,
          1.208738754566152,
          -1.0242657303662939,
          -1.3245199491122466,
          -0.8421481761559688,
          0.006789764947993465,
          -0.054862008566934045,
          -0.6776347313884593,
          -1.1456864858826528,
          -1.5564993571641912,
          0.5597990888091462,
          0.8097098825765194,
          0.03108410549189372,
          -0.2929130658660062,
          0.01204557676072436,
          2.320336775428128,
          -1.0011015370696428,
          -0.02403889708960888,
          0.5714017919505177,
          -0.11152954513853898,
          -0.08824634286221418,
          0.6708238757262592,
          -0.37450650196153856,
          1.3119954098262594,
          -0.023543289622574546,
          0.6397731195768956,
          -0.7284870001434662,
          0.39903813969435237,
          -1.136584790544097,
          -0.07934953981768178,
          -0.8158723514501095,
          0.2561007133703894,
          -0.6463658145664584,
          0.4435028272999777,
          0.6551508280161042,
          -0.9844961494965521,
          -0.530418219122265,
          -0.15164255098767815,
          0.056101662195220725,
          0.9838378285500382,
          0.5655987900337643,
          1.129986153978393,
          -0.6960404535697571,
          2.421490412058005,
          -0.8234356066038845,
          -0.7422613897023205,
          -0.8686106009148049,
          -0.2300266282662163,
          0.12086550573988164,
          0.48872055790027885,
          -0.0014322457296701008,
          0.4520459354063781,
          -0.035658753678307634,
          -1.0145024571756478,
          1.2424863553351015,
          -0.312977250808007,
          -0.25111795010448495,
          1.6728611932354527,
          -0.03931197489334226,
          0.2824933264101073,
          -0.8724456699688035,
          -0.08304191766460788,
          -0.26711562535693706,
          -0.8853210146635933,
          2.171413436399721,
          -0.05033082946345421,
          -0.014080741881025427,
          0.9244018056956209,
          -0.8221467167009061,
          -1.3960133031458162,
          -0.7085170172398031,
          -0.17706304511812754,
          0.7360750780198075,
          0.9053512795090823,
          -0.947532416949517,
          2.326524813616097,
          1.6232230465634205,
          -1.0245842460281316,
          -1.0125904360226279,
          0.3509088050658409,
          1.1150429677455005,
          0.8819297883110537,
          -1.4798837329216767,
          0.40104896462986905,
          0.8896434115945547,
          0.9362762709991344,
          -0.4239244352808065,
          0.04469887890011117,
          -1.5919852191299828,
          -0.3696203473370073,
          0.4829096026769787,
          0.5426559266491195,
          1.2406989568532656,
          -0.17251153533439512,
          -2.1241503684532232,
          0.5248290978051693,
          0.36390758204520157,
          0.3723780030368512,
          -0.30858918896884296,
          0.09422995441081727,
          0.7672901318900975,
          -2.2386097923773987,
          0.8371749932311483,
          -0.8409917739287489,
          -0.04093980159631644,
          0.9685281132820498,
          -1.594635321234662,
          -0.17899053805904175,
          0.8185324519629998,
          -1.5571136465053348,
          -0.3539428655792057,
          -0.001989735552359595,
          0.26564193025995964,
          1.0617662388104216,
          -0.8139784197723512,
          -0.0009670860208721987,
          0.059015580876833784,
          -0.04838041291114131,
          -0.22846316724462784,
          1.5175736690744437,
          -0.7691638147941097,
          1.2866225943747975,
          1.983726942600966,
          -1.9142264632745234,
          0.07235585885311235,
          -1.6599293232718426,
          -3.0055531796776767,
          -0.7313850520426246,
          -0.08629079239685833,
          -0.8192212287927418,
          0.5073222275846142,
          0.13329497469286716,
          0.6092579987050696,
          1.2077198348859297,
          -0.06600822508281992,
          0.20407347327889472,
          1.6126539032215443,
          0.040736029003309485,
          -0.6639912624562516,
          -1.6645165046626922,
          0.11260746938448148,
          0.20562598244521701,
          -1.510468937759068,
          -0.0681929261221858,
          1.5736029404048846,
          -0.6165509096389247,
          0.5478825079206073,
          -1.5568245182417135,
          -1.8317252447074663,
          -1.1739421241728096,
          1.671751069065416,
          -0.4975310542853971,
          1.6144466055748035,
          -0.26728989436771716,
          0.23255252384516456,
          0.5801533291037663,
          -0.032796838611492185,
          0.8868885921095604,
          -0.041120165234983685,
          -0.13968548111736115,
          0.3323757340082123,
          -2.0324039063476973,
          -2.9306541568151205,
          0.3128574080646951,
          -0.3779191458078047,
          -0.547441700294294,
          -0.4406712251741746,
          0.9238412548459203,
          1.362649973529849,
          -1.1658558333216869,
          -0.030327590951638086,
          1.1300809264901404,
          1.1666952630761016,
          0.46690370785914237,
          0.6215255666899151,
          0.40799785320588555,
          -1.1787547514464696,
          -1.4023727584073031,
          0.7271032213415196,
          0.08007325677142513,
          1.2146637327897283,
          0.6314957909439154,
          1.4445767506729392,
          -0.33293270413543996,
          -0.6879486360075305,
          -0.4484967553589455,
          0.31113834380066346,
          0.8033416014687245,
          0.5215262240963351,
          -0.3859190458979255,
          -1.4618095087764962,
          -0.42140371126603193,
          -0.050165032194967846,
          0.5283151631964702,
          1.8136596808254517,
          0.3684948825799918,
          0.11985956869918984,
          0.6390680937371686,
          0.15568391465225967,
          -0.3141519596079403,
          -0.07268407176616881,
          -0.1597200933854572,
          -0.11573992551920939,
          -0.22590526872184047,
          0.9212882105367292,
          1.177519767756456,
          0.6752617895455891,
          0.4161290963760469,
          -0.5865981007634739,
          -1.5054960142919562,
          -1.105264712665258,
          -1.3707500696532537,
          1.636544582840373,
          -0.6487762814124163,
          2.061859782617828,
          0.5978088259439399,
          1.788398098966747,
          1.5934523649901293,
          -0.29815147284451315,
          -0.42438520382139516,
          0.5901627452606426,
          -0.18408463603247546,
          -2.145277159610463,
          1.0207042867220828,
          -1.1864963261712484,
          -0.11227894011591055,
          -0.6975091994294881,
          0.9204969147356732,
          -0.7891165086397374,
          -0.776581850448028,
          -0.4493988666733515,
          1.1230720974245856,
          0.8635172145097043,
          -1.5807355748104743,
          0.4352121074772822,
          -1.2741626038615674,
          0.29142325374207123,
          -1.1544159024838765,
          0.29428741703213335,
          -2.1561557164822176,
          -0.056613828461507754,
          -0.4105125659920289,
          -0.18119700604724287,
          0.928515386594414,
          -0.5265990657010728,
          -2.0338173829972575,
          -2.1504888798462347,
          -1.082835368920415,
          -1.038947634908087,
          -0.010922932635513707,
          -1.9934708972472754,
          -0.020234152127862823
         ],
         "yaxis": "y"
        },
        {
         "mode": "lines",
         "name": "y=x",
         "type": "scatter",
         "x": [
          -2,
          2
         ],
         "xaxis": "x",
         "y": [
          -2,
          2
         ],
         "yaxis": "y"
        },
        {
         "mode": "lines",
         "name": "Score",
         "type": "scatter",
         "x": [
          0.001,
          0.0010752168531898921,
          0.0011560912813835741,
          0.0012430488295695167,
          0.0013365470508911142,
          0.001437077914199376,
          0.001545170392694147,
          0.0016613932472747906,
          0.0017863580192457368,
          0.00192072224812393,
          0.0020651929314796274,
          0.002220530245015533,
          0.0023875515424585845,
          0.0025671356563109924,
          0.002760227522090274,
          0.0029678431503900376,
          0.003191074972923552,
          0.003431097590679882,
          0.0036891739544382433,
          0.003966662010161198,
          0.004265021844233416,
          0.004585823366142804,
          0.004930754569028749,
          0.005301630411562775,
          0.0057004023678963595,
          0.006129168695925734,
          0.006590185477903262,
          0.0070858784914888786,
          0.0076188559737046125,
          0.008191922344953684,
          0.008808092965317064,
          0.009470610000772239,
          0.010182959482819049,
          0.010948889651276869,
          0.011772430676769292,
          0.012657915866672037,
          0.013610004466105514,
          0.014633706173946348,
          0.015734407502856096,
          0.016917900122028363,
          0.01819041133178823,
          0.019558636830395094,
          0.021029775945461338,
          0.02261156951536744,
          0.024312340619997878,
          0.02614103837511491,
          0.02810728502080728,
          0.030221426551783795,
          0.03249458715591842,
          0.034938727747491294,
          0.03756670890311596,
          0.04039235853150907,
          0.043430544633167076,
          0.046697253532797064,
          0.050209673996144656,
          0.05398628767382502,
          0.058046966348054396,
          0.062413076493974616,
          0.06710759170575141,
          0.07215521357901018,
          0.0775825016856679,
          0.08341801332506335,
          0.08969245378672715,
          0.0964388379154446,
          0.10369266382873439,
          0.11149209970080914,
          0.11987818459583773,
          0.12889504440725363,
          0.13859012403933868,
          0.1490144370527747,
          0.16022283408774768,
          0.17227429147699425,
          0.18523222156741204,
          0.19916480638308562,
          0.21414535638539547,
          0.2302526962179329,
          0.24757157946593425,
          0.2661931346126132,
          0.2862153445389273,
          0.3077435620898062,
          0.3308910644196496,
          0.35577964903394954,
          0.38254027466328744,
          0.41131375034185697,
          0.4422514763163044,
          0.4755162406834014,
          0.5112830759482943,
          0.5497401800103736,
          0.5910899064227987,
          0.6355498291362295,
          0.6833538873292303,
          0.7347536163492151,
          0.7900194712408972,
          0.84944224982638,
          0.9133346228248626,
          0.9820327790631257,
          1.0558981944335786,
          1.1353195339077613,
          1.2207146966133182,
          1.3125330147352259,
          1.411257617811452,
          1.5174079748634945,
          1.6315426277379734,
          1.7542621300415915,
          1.8862122071335174,
          2.0280871538024616,
          2.1806334875063276,
          2.3446538763970537,
          2.521011362799125,
          2.710633904364837,
          2.914519256800991,
          3.1337402238589047,
          3.3694503022121594,
          3.622889750924289,
          3.8953921174427264,
          4.188391254457479,
          4.503428864545836,
          4.842162612301507,
          5.206374846632575,
          5.5979819791232845,
          6.019044567806662,
          6.471778159406794,
          6.958564947100445,
          7.48196630513883,
          8.044736266284184,
          8.649836012976683,
          9.300449458481394,
          10
         ],
         "xaxis": "x2",
         "y": [
          0.5242718446601942,
          0.4563106796116505,
          0.4174757281553398,
          0.5145631067961165,
          0.5048543689320388,
          0.44660194174757284,
          0.5242718446601942,
          0.4563106796116505,
          0.5048543689320388,
          0.5048543689320388,
          0.6990291262135923,
          0.6407766990291263,
          0.6504854368932039,
          0.5436893203883495,
          0.47572815533980584,
          0.6213592233009708,
          0.5436893203883495,
          0.6407766990291263,
          0.8640776699029126,
          0.8252427184466019,
          0.9320388349514563,
          0.9223300970873787,
          0.7572815533980582,
          0.8640776699029126,
          0.883495145631068,
          0.7669902912621359,
          0.883495145631068,
          0.8932038834951457,
          0.7766990291262136,
          0.8640776699029126,
          0.8737864077669902,
          0.9029126213592233,
          0.8932038834951457,
          0.912621359223301,
          0.9029126213592233,
          0.9320388349514563,
          0.8446601941747572,
          0.9223300970873787,
          0.8543689320388349,
          0.9223300970873787,
          0.883495145631068,
          0.9223300970873787,
          0.912621359223301,
          0.883495145631068,
          0.9320388349514563,
          0.8737864077669902,
          0.912621359223301,
          0.8640776699029126,
          0.9320388349514563,
          0.912621359223301,
          0.8932038834951457,
          0.9514563106796117,
          0.8737864077669902,
          0.9320388349514563,
          0.9029126213592233,
          0.8155339805825242,
          0.9029126213592233,
          0.8737864077669902,
          0.9029126213592233,
          0.9320388349514563,
          0.970873786407767,
          0.9029126213592233,
          0.9029126213592233,
          0.9611650485436893,
          0.9029126213592233,
          0.9029126213592233,
          0.9514563106796117,
          0.9320388349514563,
          0.941747572815534,
          0.8932038834951457,
          0.941747572815534,
          0.883495145631068,
          0.9029126213592233,
          0.883495145631068,
          0.9029126213592233,
          0.9029126213592233,
          0.9223300970873787,
          0.9320388349514563,
          0.8737864077669902,
          0.9029126213592233,
          0.9320388349514563,
          0.8932038834951457,
          0.9029126213592233,
          0.9223300970873787,
          0.941747572815534,
          0.9223300970873787,
          0.883495145631068,
          0.970873786407767,
          0.9320388349514563,
          0.9320388349514563,
          0.8932038834951457,
          0.912621359223301,
          0.9514563106796117,
          0.883495145631068,
          0.9029126213592233,
          0.883495145631068,
          0.8932038834951457,
          0.8932038834951457,
          0.8737864077669902,
          0.912621359223301,
          0.9223300970873787,
          0.912621359223301,
          0.912621359223301,
          0.912621359223301,
          0.8932038834951457,
          0.8932038834951457,
          0.9029126213592233,
          0.912621359223301,
          0.9223300970873787,
          0.8737864077669902,
          0.9029126213592233,
          0.9223300970873787,
          0.941747572815534,
          0.9320388349514563,
          0.941747572815534,
          0.9320388349514563,
          0.9029126213592233,
          0.912621359223301,
          0.883495145631068,
          0.9223300970873787,
          0.883495145631068,
          0.8932038834951457,
          0.8932038834951457,
          0.9223300970873787,
          0.8932038834951457,
          0.941747572815534,
          0.9029126213592233,
          0.8932038834951457
         ],
         "yaxis": "y2"
        },
        {
         "mode": "lines",
         "name": "a",
         "type": "scatter",
         "x": [
          0.001,
          0.0010752168531898921,
          0.0011560912813835741,
          0.0012430488295695167,
          0.0013365470508911142,
          0.001437077914199376,
          0.001545170392694147,
          0.0016613932472747906,
          0.0017863580192457368,
          0.00192072224812393,
          0.0020651929314796274,
          0.002220530245015533,
          0.0023875515424585845,
          0.0025671356563109924,
          0.002760227522090274,
          0.0029678431503900376,
          0.003191074972923552,
          0.003431097590679882,
          0.0036891739544382433,
          0.003966662010161198,
          0.004265021844233416,
          0.004585823366142804,
          0.004930754569028749,
          0.005301630411562775,
          0.0057004023678963595,
          0.006129168695925734,
          0.006590185477903262,
          0.0070858784914888786,
          0.0076188559737046125,
          0.008191922344953684,
          0.008808092965317064,
          0.009470610000772239,
          0.010182959482819049,
          0.010948889651276869,
          0.011772430676769292,
          0.012657915866672037,
          0.013610004466105514,
          0.014633706173946348,
          0.015734407502856096,
          0.016917900122028363,
          0.01819041133178823,
          0.019558636830395094,
          0.021029775945461338,
          0.02261156951536744,
          0.024312340619997878,
          0.02614103837511491,
          0.02810728502080728,
          0.030221426551783795,
          0.03249458715591842,
          0.034938727747491294,
          0.03756670890311596,
          0.04039235853150907,
          0.043430544633167076,
          0.046697253532797064,
          0.050209673996144656,
          0.05398628767382502,
          0.058046966348054396,
          0.062413076493974616,
          0.06710759170575141,
          0.07215521357901018,
          0.0775825016856679,
          0.08341801332506335,
          0.08969245378672715,
          0.0964388379154446,
          0.10369266382873439,
          0.11149209970080914,
          0.11987818459583773,
          0.12889504440725363,
          0.13859012403933868,
          0.1490144370527747,
          0.16022283408774768,
          0.17227429147699425,
          0.18523222156741204,
          0.19916480638308562,
          0.21414535638539547,
          0.2302526962179329,
          0.24757157946593425,
          0.2661931346126132,
          0.2862153445389273,
          0.3077435620898062,
          0.3308910644196496,
          0.35577964903394954,
          0.38254027466328744,
          0.41131375034185697,
          0.4422514763163044,
          0.4755162406834014,
          0.5112830759482943,
          0.5497401800103736,
          0.5910899064227987,
          0.6355498291362295,
          0.6833538873292303,
          0.7347536163492151,
          0.7900194712408972,
          0.84944224982638,
          0.9133346228248626,
          0.9820327790631257,
          1.0558981944335786,
          1.1353195339077613,
          1.2207146966133182,
          1.3125330147352259,
          1.411257617811452,
          1.5174079748634945,
          1.6315426277379734,
          1.7542621300415915,
          1.8862122071335174,
          2.0280871538024616,
          2.1806334875063276,
          2.3446538763970537,
          2.521011362799125,
          2.710633904364837,
          2.914519256800991,
          3.1337402238589047,
          3.3694503022121594,
          3.622889750924289,
          3.8953921174427264,
          4.188391254457479,
          4.503428864545836,
          4.842162612301507,
          5.206374846632575,
          5.5979819791232845,
          6.019044567806662,
          6.471778159406794,
          6.958564947100445,
          7.48196630513883,
          8.044736266284184,
          8.649836012976683,
          9.300449458481394,
          10
         ],
         "xaxis": "x3",
         "y": [
          1.2327789486825416,
          1.183742716635902,
          0.9589118156406417,
          1.006607577947214,
          1.2634424189666253,
          1.3879496608928636,
          1.3298758942037645,
          1.1032576663517573,
          1.3436952027010922,
          1.1616192053970023,
          1.3486149964593421,
          1.0928635200204178,
          1.5506320521216883,
          0.9694231748506084,
          1.261894007753885,
          1.2291745409067385,
          1.207173262848356,
          1.2951284842940987,
          1.1299249130819962,
          1.1495031397627653,
          0.9190446190701398,
          1.3425110228441306,
          1.2640356833307194,
          1.1270921502954367,
          1.1584461512856294,
          0.9680596514446852,
          1.0340421356258351,
          1.2172813981770094,
          1.4602308030718008,
          1.271087824608098,
          1.0025151811422093,
          1.2033286782890296,
          1.1677584283819238,
          1.0215773173728826,
          1.1261862754088054,
          1.1107877214467485,
          1.2935469888535156,
          1.1020993118649502,
          1.1186031322395469,
          0.8521390623528861,
          1.2234106962396198,
          1.0525295887099295,
          0.8214980403893691,
          1.1174247436645661,
          1.1427297665413143,
          1.0662010971759444,
          0.9922256347669699,
          1.0363786617207602,
          0.9760803720869438,
          0.896193673774044,
          0.9537796441680232,
          0.885531342773228,
          0.949489784699968,
          0.8977494820919664,
          1.0283758018829041,
          0.9977011310570221,
          0.8981264203387196,
          0.85938880249223,
          0.8474273967149341,
          0.8640359494910046,
          0.9603108079559216,
          0.8962190156681701,
          0.9128065828735329,
          1.0532894084002709,
          0.8089226457101678,
          1.0062324385778427,
          0.9670830778696654,
          0.9014807561847885,
          0.9283282889987245,
          1.0484857556169376,
          0.8338175503782542,
          0.9186762369113289,
          0.8895898406059526,
          0.9918593972833185,
          1.0522641759860965,
          0.8499925836636238,
          0.9288987442647442,
          1.116968764082683,
          0.9596054708009562,
          1.109137060867566,
          0.9172584489881359,
          1.0001379768126044,
          1.0897582435045678,
          0.9610987638903304,
          0.8504493303650489,
          1.0039087693599786,
          0.9518586845204279,
          0.9736576208964779,
          1.0499160043164393,
          0.9678650839134778,
          1.2621767802501653,
          0.9446674541522587,
          1.0318477322817208,
          0.8907086562902229,
          0.8733365657555562,
          1.1884461946939664,
          0.8014346657427167,
          1.0566332283244235,
          0.9587109931938205,
          1.1108272176733542,
          0.9327034168811753,
          0.9407300207307991,
          0.9410441043574648,
          0.9521183511006149,
          1.1908592473323971,
          0.9587110452845264,
          0.8288017380257735,
          0.8251842915905562,
          1.0946061869857224,
          0.8551785138226484,
          0.9042396278841962,
          0.8476297751744324,
          0.9816210128434397,
          1.0254969230855928,
          1.0253844567312664,
          0.9106534071718934,
          1.142824654967905,
          1.2033847137167104,
          1.095004770755492,
          0.9095505290400847,
          1.1344944570302182,
          1.0519499434557298,
          1.2107965952969977,
          0.9269130281203954,
          0.9521538293832721,
          0.8944363972709952,
          0.995049786791358,
          1.0821740861712008
         ],
         "yaxis": "y3"
        },
        {
         "mode": "lines",
         "name": "a=1",
         "type": "scatter",
         "x": [
          0.001,
          0.0010752168531898921,
          0.0011560912813835741,
          0.0012430488295695167,
          0.0013365470508911142,
          0.001437077914199376,
          0.001545170392694147,
          0.0016613932472747906,
          0.0017863580192457368,
          0.00192072224812393,
          0.0020651929314796274,
          0.002220530245015533,
          0.0023875515424585845,
          0.0025671356563109924,
          0.002760227522090274,
          0.0029678431503900376,
          0.003191074972923552,
          0.003431097590679882,
          0.0036891739544382433,
          0.003966662010161198,
          0.004265021844233416,
          0.004585823366142804,
          0.004930754569028749,
          0.005301630411562775,
          0.0057004023678963595,
          0.006129168695925734,
          0.006590185477903262,
          0.0070858784914888786,
          0.0076188559737046125,
          0.008191922344953684,
          0.008808092965317064,
          0.009470610000772239,
          0.010182959482819049,
          0.010948889651276869,
          0.011772430676769292,
          0.012657915866672037,
          0.013610004466105514,
          0.014633706173946348,
          0.015734407502856096,
          0.016917900122028363,
          0.01819041133178823,
          0.019558636830395094,
          0.021029775945461338,
          0.02261156951536744,
          0.024312340619997878,
          0.02614103837511491,
          0.02810728502080728,
          0.030221426551783795,
          0.03249458715591842,
          0.034938727747491294,
          0.03756670890311596,
          0.04039235853150907,
          0.043430544633167076,
          0.046697253532797064,
          0.050209673996144656,
          0.05398628767382502,
          0.058046966348054396,
          0.062413076493974616,
          0.06710759170575141,
          0.07215521357901018,
          0.0775825016856679,
          0.08341801332506335,
          0.08969245378672715,
          0.0964388379154446,
          0.10369266382873439,
          0.11149209970080914,
          0.11987818459583773,
          0.12889504440725363,
          0.13859012403933868,
          0.1490144370527747,
          0.16022283408774768,
          0.17227429147699425,
          0.18523222156741204,
          0.19916480638308562,
          0.21414535638539547,
          0.2302526962179329,
          0.24757157946593425,
          0.2661931346126132,
          0.2862153445389273,
          0.3077435620898062,
          0.3308910644196496,
          0.35577964903394954,
          0.38254027466328744,
          0.41131375034185697,
          0.4422514763163044,
          0.4755162406834014,
          0.5112830759482943,
          0.5497401800103736,
          0.5910899064227987,
          0.6355498291362295,
          0.6833538873292303,
          0.7347536163492151,
          0.7900194712408972,
          0.84944224982638,
          0.9133346228248626,
          0.9820327790631257,
          1.0558981944335786,
          1.1353195339077613,
          1.2207146966133182,
          1.3125330147352259,
          1.411257617811452,
          1.5174079748634945,
          1.6315426277379734,
          1.7542621300415915,
          1.8862122071335174,
          2.0280871538024616,
          2.1806334875063276,
          2.3446538763970537,
          2.521011362799125,
          2.710633904364837,
          2.914519256800991,
          3.1337402238589047,
          3.3694503022121594,
          3.622889750924289,
          3.8953921174427264,
          4.188391254457479,
          4.503428864545836,
          4.842162612301507,
          5.206374846632575,
          5.5979819791232845,
          6.019044567806662,
          6.471778159406794,
          6.958564947100445,
          7.48196630513883,
          8.044736266284184,
          8.649836012976683,
          9.300449458481394,
          10
         ],
         "xaxis": "x3",
         "y": [
          1,
          1,
          1,
          1,
          1,
          1,
          1,
          1,
          1,
          1,
          1,
          1,
          1,
          1,
          1,
          1,
          1,
          1,
          1,
          1,
          1,
          1,
          1,
          1,
          1,
          1,
          1,
          1,
          1,
          1,
          1,
          1,
          1,
          1,
          1,
          1,
          1,
          1,
          1,
          1,
          1,
          1,
          1,
          1,
          1,
          1,
          1,
          1,
          1,
          1,
          1,
          1,
          1,
          1,
          1,
          1,
          1,
          1,
          1,
          1,
          1,
          1,
          1,
          1,
          1,
          1,
          1,
          1,
          1,
          1,
          1,
          1,
          1,
          1,
          1,
          1,
          1,
          1,
          1,
          1,
          1,
          1,
          1,
          1,
          1,
          1,
          1,
          1,
          1,
          1,
          1,
          1,
          1,
          1,
          1,
          1,
          1,
          1,
          1,
          1,
          1,
          1,
          1,
          1,
          1,
          1,
          1,
          1,
          1,
          1,
          1,
          1,
          1,
          1,
          1,
          1,
          1,
          1,
          1,
          1,
          1,
          1,
          1,
          1,
          1,
          1,
          1,
          1
         ],
         "yaxis": "y3"
        },
        {
         "mode": "lines",
         "name": "b",
         "type": "scatter",
         "x": [
          0.001,
          0.0010752168531898921,
          0.0011560912813835741,
          0.0012430488295695167,
          0.0013365470508911142,
          0.001437077914199376,
          0.001545170392694147,
          0.0016613932472747906,
          0.0017863580192457368,
          0.00192072224812393,
          0.0020651929314796274,
          0.002220530245015533,
          0.0023875515424585845,
          0.0025671356563109924,
          0.002760227522090274,
          0.0029678431503900376,
          0.003191074972923552,
          0.003431097590679882,
          0.0036891739544382433,
          0.003966662010161198,
          0.004265021844233416,
          0.004585823366142804,
          0.004930754569028749,
          0.005301630411562775,
          0.0057004023678963595,
          0.006129168695925734,
          0.006590185477903262,
          0.0070858784914888786,
          0.0076188559737046125,
          0.008191922344953684,
          0.008808092965317064,
          0.009470610000772239,
          0.010182959482819049,
          0.010948889651276869,
          0.011772430676769292,
          0.012657915866672037,
          0.013610004466105514,
          0.014633706173946348,
          0.015734407502856096,
          0.016917900122028363,
          0.01819041133178823,
          0.019558636830395094,
          0.021029775945461338,
          0.02261156951536744,
          0.024312340619997878,
          0.02614103837511491,
          0.02810728502080728,
          0.030221426551783795,
          0.03249458715591842,
          0.034938727747491294,
          0.03756670890311596,
          0.04039235853150907,
          0.043430544633167076,
          0.046697253532797064,
          0.050209673996144656,
          0.05398628767382502,
          0.058046966348054396,
          0.062413076493974616,
          0.06710759170575141,
          0.07215521357901018,
          0.0775825016856679,
          0.08341801332506335,
          0.08969245378672715,
          0.0964388379154446,
          0.10369266382873439,
          0.11149209970080914,
          0.11987818459583773,
          0.12889504440725363,
          0.13859012403933868,
          0.1490144370527747,
          0.16022283408774768,
          0.17227429147699425,
          0.18523222156741204,
          0.19916480638308562,
          0.21414535638539547,
          0.2302526962179329,
          0.24757157946593425,
          0.2661931346126132,
          0.2862153445389273,
          0.3077435620898062,
          0.3308910644196496,
          0.35577964903394954,
          0.38254027466328744,
          0.41131375034185697,
          0.4422514763163044,
          0.4755162406834014,
          0.5112830759482943,
          0.5497401800103736,
          0.5910899064227987,
          0.6355498291362295,
          0.6833538873292303,
          0.7347536163492151,
          0.7900194712408972,
          0.84944224982638,
          0.9133346228248626,
          0.9820327790631257,
          1.0558981944335786,
          1.1353195339077613,
          1.2207146966133182,
          1.3125330147352259,
          1.411257617811452,
          1.5174079748634945,
          1.6315426277379734,
          1.7542621300415915,
          1.8862122071335174,
          2.0280871538024616,
          2.1806334875063276,
          2.3446538763970537,
          2.521011362799125,
          2.710633904364837,
          2.914519256800991,
          3.1337402238589047,
          3.3694503022121594,
          3.622889750924289,
          3.8953921174427264,
          4.188391254457479,
          4.503428864545836,
          4.842162612301507,
          5.206374846632575,
          5.5979819791232845,
          6.019044567806662,
          6.471778159406794,
          6.958564947100445,
          7.48196630513883,
          8.044736266284184,
          8.649836012976683,
          9.300449458481394,
          10
         ],
         "xaxis": "x4",
         "y": [
          -8.164047320904956,
          -11.70457833622833,
          9.64545615413911,
          -6.472297344998108,
          -6.441190776094179,
          6.511934548360721,
          -5.253914751338137,
          5.1000857287771275,
          -4.6483064382853785,
          -4.405972113644719,
          1.3869356121244765,
          -1.635927742582105,
          -2.444942755692145,
          -2.563991028260292,
          -3.9367102253205664,
          1.8220202366930656,
          -2.359841327477544,
          1.7812327556836502,
          0.5601355474053409,
          -0.8925209099852511,
          -0.005440805202460506,
          0.12645826138836846,
          -0.8256721080316064,
          -0.04058414992082618,
          -0.36821855445468565,
          -1.0163661922408367,
          -0.3132189455883017,
          0.03521567599236835,
          -0.6135764697864491,
          -0.19331328124243674,
          0.22004068990761658,
          0.2035780085404731,
          -0.1374072298338444,
          -0.051895876226674596,
          -0.15468239773436096,
          0.07391083660353878,
          -0.16314108512860095,
          -0.08424254283625346,
          -0.14878766229209892,
          -0.031134228211088927,
          -0.03232874204647205,
          0.08997371817233749,
          -0.023290670887321754,
          -0.27186971160079876,
          -0.09758737207417947,
          -0.2166533239941052,
          -0.09197531830260644,
          -0.22647510907472512,
          -0.08602230403937082,
          -0.03932773534981725,
          -0.29505696380476154,
          -0.05939282074584828,
          -0.2091503713283874,
          -0.09917754920457654,
          -0.2004012127198047,
          -0.28485721798695485,
          -0.16086828488158283,
          -0.1352399310981988,
          -0.04129237130070095,
          -0.011825206693323454,
          -0.10140843264247144,
          -0.10827792104552428,
          -0.11664296674909597,
          -0.01344509267298718,
          0.023024333371735588,
          0.0535464933078475,
          -0.09272829155698718,
          -0.11933246304242433,
          0.1652430210032357,
          -0.14391558353327072,
          -0.07820151627867301,
          -0.17949739603055492,
          0.03841807823645588,
          -0.10171411509775052,
          -0.14199474359430245,
          -0.06736113838891662,
          -0.11571924326495035,
          0.06444726208961923,
          0.04692901091648447,
          -0.09231038636352112,
          -0.04881428364062737,
          -0.02350231209245451,
          -0.18344544092537687,
          -0.1046262571613091,
          0.005029214335761197,
          -0.11210639515469645,
          0.07851492490408268,
          -0.06962417448185007,
          -0.16674882902720364,
          -0.12968762710236872,
          -0.06303367062635168,
          0.09538800982731692,
          -0.022161805511816783,
          -0.0787611098060176,
          -0.08022125666912736,
          -0.033965204074658584,
          -0.14506736198510517,
          -0.14416170711949605,
          0.01397037558043548,
          0.06091328419010839,
          -0.061990811538938546,
          0.00754493814971503,
          -0.020205681004226202,
          0.005830336640449823,
          0.044595874597164416,
          0.025638527690986835,
          -0.05001975830311048,
          -0.09388886076855282,
          -0.03110608149775449,
          -0.09466717226483545,
          -0.056274012126390945,
          -0.0909121502577683,
          0.008848513306807472,
          -0.0159437854987578,
          -0.03265950154860148,
          -0.036655228245180485,
          0.08306065133347182,
          -0.15018499567037924,
          -0.14333138802788403,
          0.00024412297857703434,
          0.05844292407089449,
          0.12073660043322616,
          -0.02133439859698052,
          -0.0627800517798964,
          -0.045066753113767524,
          -0.11632584457383414,
          0.0769909470990111,
          0.002275861866767332
         ],
         "yaxis": "y4"
        },
        {
         "mode": "lines",
         "name": "b=0",
         "type": "scatter",
         "x": [
          0.001,
          0.0010752168531898921,
          0.0011560912813835741,
          0.0012430488295695167,
          0.0013365470508911142,
          0.001437077914199376,
          0.001545170392694147,
          0.0016613932472747906,
          0.0017863580192457368,
          0.00192072224812393,
          0.0020651929314796274,
          0.002220530245015533,
          0.0023875515424585845,
          0.0025671356563109924,
          0.002760227522090274,
          0.0029678431503900376,
          0.003191074972923552,
          0.003431097590679882,
          0.0036891739544382433,
          0.003966662010161198,
          0.004265021844233416,
          0.004585823366142804,
          0.004930754569028749,
          0.005301630411562775,
          0.0057004023678963595,
          0.006129168695925734,
          0.006590185477903262,
          0.0070858784914888786,
          0.0076188559737046125,
          0.008191922344953684,
          0.008808092965317064,
          0.009470610000772239,
          0.010182959482819049,
          0.010948889651276869,
          0.011772430676769292,
          0.012657915866672037,
          0.013610004466105514,
          0.014633706173946348,
          0.015734407502856096,
          0.016917900122028363,
          0.01819041133178823,
          0.019558636830395094,
          0.021029775945461338,
          0.02261156951536744,
          0.024312340619997878,
          0.02614103837511491,
          0.02810728502080728,
          0.030221426551783795,
          0.03249458715591842,
          0.034938727747491294,
          0.03756670890311596,
          0.04039235853150907,
          0.043430544633167076,
          0.046697253532797064,
          0.050209673996144656,
          0.05398628767382502,
          0.058046966348054396,
          0.062413076493974616,
          0.06710759170575141,
          0.07215521357901018,
          0.0775825016856679,
          0.08341801332506335,
          0.08969245378672715,
          0.0964388379154446,
          0.10369266382873439,
          0.11149209970080914,
          0.11987818459583773,
          0.12889504440725363,
          0.13859012403933868,
          0.1490144370527747,
          0.16022283408774768,
          0.17227429147699425,
          0.18523222156741204,
          0.19916480638308562,
          0.21414535638539547,
          0.2302526962179329,
          0.24757157946593425,
          0.2661931346126132,
          0.2862153445389273,
          0.3077435620898062,
          0.3308910644196496,
          0.35577964903394954,
          0.38254027466328744,
          0.41131375034185697,
          0.4422514763163044,
          0.4755162406834014,
          0.5112830759482943,
          0.5497401800103736,
          0.5910899064227987,
          0.6355498291362295,
          0.6833538873292303,
          0.7347536163492151,
          0.7900194712408972,
          0.84944224982638,
          0.9133346228248626,
          0.9820327790631257,
          1.0558981944335786,
          1.1353195339077613,
          1.2207146966133182,
          1.3125330147352259,
          1.411257617811452,
          1.5174079748634945,
          1.6315426277379734,
          1.7542621300415915,
          1.8862122071335174,
          2.0280871538024616,
          2.1806334875063276,
          2.3446538763970537,
          2.521011362799125,
          2.710633904364837,
          2.914519256800991,
          3.1337402238589047,
          3.3694503022121594,
          3.622889750924289,
          3.8953921174427264,
          4.188391254457479,
          4.503428864545836,
          4.842162612301507,
          5.206374846632575,
          5.5979819791232845,
          6.019044567806662,
          6.471778159406794,
          6.958564947100445,
          7.48196630513883,
          8.044736266284184,
          8.649836012976683,
          9.300449458481394,
          10
         ],
         "xaxis": "x4",
         "y": [
          0,
          0,
          0,
          0,
          0,
          0,
          0,
          0,
          0,
          0,
          0,
          0,
          0,
          0,
          0,
          0,
          0,
          0,
          0,
          0,
          0,
          0,
          0,
          0,
          0,
          0,
          0,
          0,
          0,
          0,
          0,
          0,
          0,
          0,
          0,
          0,
          0,
          0,
          0,
          0,
          0,
          0,
          0,
          0,
          0,
          0,
          0,
          0,
          0,
          0,
          0,
          0,
          0,
          0,
          0,
          0,
          0,
          0,
          0,
          0,
          0,
          0,
          0,
          0,
          0,
          0,
          0,
          0,
          0,
          0,
          0,
          0,
          0,
          0,
          0,
          0,
          0,
          0,
          0,
          0,
          0,
          0,
          0,
          0,
          0,
          0,
          0,
          0,
          0,
          0,
          0,
          0,
          0,
          0,
          0,
          0,
          0,
          0,
          0,
          0,
          0,
          0,
          0,
          0,
          0,
          0,
          0,
          0,
          0,
          0,
          0,
          0,
          0,
          0,
          0,
          0,
          0,
          0,
          0,
          0,
          0,
          0,
          0,
          0,
          0,
          0,
          0,
          0
         ],
         "yaxis": "y4"
        }
       ],
       "layout": {
        "annotations": [
         {
          "font": {
           "size": 16
          },
          "showarrow": false,
          "text": "Data",
          "x": 0.225,
          "xanchor": "center",
          "xref": "paper",
          "y": 1,
          "yanchor": "bottom",
          "yref": "paper"
         },
         {
          "font": {
           "size": 16
          },
          "showarrow": false,
          "text": "Score",
          "x": 0.775,
          "xanchor": "center",
          "xref": "paper",
          "y": 1,
          "yanchor": "bottom",
          "yref": "paper"
         },
         {
          "font": {
           "size": 16
          },
          "showarrow": false,
          "text": "Slope a",
          "x": 0.225,
          "xanchor": "center",
          "xref": "paper",
          "y": 0.375,
          "yanchor": "bottom",
          "yref": "paper"
         },
         {
          "font": {
           "size": 16
          },
          "showarrow": false,
          "text": "Intercept b",
          "x": 0.775,
          "xanchor": "center",
          "xref": "paper",
          "y": 0.375,
          "yanchor": "bottom",
          "yref": "paper"
         }
        ],
        "height": 700,
        "template": {
         "data": {
          "bar": [
           {
            "error_x": {
             "color": "#2a3f5f"
            },
            "error_y": {
             "color": "#2a3f5f"
            },
            "marker": {
             "line": {
              "color": "#E5ECF6",
              "width": 0.5
             }
            },
            "type": "bar"
           }
          ],
          "barpolar": [
           {
            "marker": {
             "line": {
              "color": "#E5ECF6",
              "width": 0.5
             }
            },
            "type": "barpolar"
           }
          ],
          "carpet": [
           {
            "aaxis": {
             "endlinecolor": "#2a3f5f",
             "gridcolor": "white",
             "linecolor": "white",
             "minorgridcolor": "white",
             "startlinecolor": "#2a3f5f"
            },
            "baxis": {
             "endlinecolor": "#2a3f5f",
             "gridcolor": "white",
             "linecolor": "white",
             "minorgridcolor": "white",
             "startlinecolor": "#2a3f5f"
            },
            "type": "carpet"
           }
          ],
          "choropleth": [
           {
            "colorbar": {
             "outlinewidth": 0,
             "ticks": ""
            },
            "type": "choropleth"
           }
          ],
          "contour": [
           {
            "colorbar": {
             "outlinewidth": 0,
             "ticks": ""
            },
            "colorscale": [
             [
              0,
              "#0d0887"
             ],
             [
              0.1111111111111111,
              "#46039f"
             ],
             [
              0.2222222222222222,
              "#7201a8"
             ],
             [
              0.3333333333333333,
              "#9c179e"
             ],
             [
              0.4444444444444444,
              "#bd3786"
             ],
             [
              0.5555555555555556,
              "#d8576b"
             ],
             [
              0.6666666666666666,
              "#ed7953"
             ],
             [
              0.7777777777777778,
              "#fb9f3a"
             ],
             [
              0.8888888888888888,
              "#fdca26"
             ],
             [
              1,
              "#f0f921"
             ]
            ],
            "type": "contour"
           }
          ],
          "contourcarpet": [
           {
            "colorbar": {
             "outlinewidth": 0,
             "ticks": ""
            },
            "type": "contourcarpet"
           }
          ],
          "heatmap": [
           {
            "colorbar": {
             "outlinewidth": 0,
             "ticks": ""
            },
            "colorscale": [
             [
              0,
              "#0d0887"
             ],
             [
              0.1111111111111111,
              "#46039f"
             ],
             [
              0.2222222222222222,
              "#7201a8"
             ],
             [
              0.3333333333333333,
              "#9c179e"
             ],
             [
              0.4444444444444444,
              "#bd3786"
             ],
             [
              0.5555555555555556,
              "#d8576b"
             ],
             [
              0.6666666666666666,
              "#ed7953"
             ],
             [
              0.7777777777777778,
              "#fb9f3a"
             ],
             [
              0.8888888888888888,
              "#fdca26"
             ],
             [
              1,
              "#f0f921"
             ]
            ],
            "type": "heatmap"
           }
          ],
          "heatmapgl": [
           {
            "colorbar": {
             "outlinewidth": 0,
             "ticks": ""
            },
            "colorscale": [
             [
              0,
              "#0d0887"
             ],
             [
              0.1111111111111111,
              "#46039f"
             ],
             [
              0.2222222222222222,
              "#7201a8"
             ],
             [
              0.3333333333333333,
              "#9c179e"
             ],
             [
              0.4444444444444444,
              "#bd3786"
             ],
             [
              0.5555555555555556,
              "#d8576b"
             ],
             [
              0.6666666666666666,
              "#ed7953"
             ],
             [
              0.7777777777777778,
              "#fb9f3a"
             ],
             [
              0.8888888888888888,
              "#fdca26"
             ],
             [
              1,
              "#f0f921"
             ]
            ],
            "type": "heatmapgl"
           }
          ],
          "histogram": [
           {
            "marker": {
             "colorbar": {
              "outlinewidth": 0,
              "ticks": ""
             }
            },
            "type": "histogram"
           }
          ],
          "histogram2d": [
           {
            "colorbar": {
             "outlinewidth": 0,
             "ticks": ""
            },
            "colorscale": [
             [
              0,
              "#0d0887"
             ],
             [
              0.1111111111111111,
              "#46039f"
             ],
             [
              0.2222222222222222,
              "#7201a8"
             ],
             [
              0.3333333333333333,
              "#9c179e"
             ],
             [
              0.4444444444444444,
              "#bd3786"
             ],
             [
              0.5555555555555556,
              "#d8576b"
             ],
             [
              0.6666666666666666,
              "#ed7953"
             ],
             [
              0.7777777777777778,
              "#fb9f3a"
             ],
             [
              0.8888888888888888,
              "#fdca26"
             ],
             [
              1,
              "#f0f921"
             ]
            ],
            "type": "histogram2d"
           }
          ],
          "histogram2dcontour": [
           {
            "colorbar": {
             "outlinewidth": 0,
             "ticks": ""
            },
            "colorscale": [
             [
              0,
              "#0d0887"
             ],
             [
              0.1111111111111111,
              "#46039f"
             ],
             [
              0.2222222222222222,
              "#7201a8"
             ],
             [
              0.3333333333333333,
              "#9c179e"
             ],
             [
              0.4444444444444444,
              "#bd3786"
             ],
             [
              0.5555555555555556,
              "#d8576b"
             ],
             [
              0.6666666666666666,
              "#ed7953"
             ],
             [
              0.7777777777777778,
              "#fb9f3a"
             ],
             [
              0.8888888888888888,
              "#fdca26"
             ],
             [
              1,
              "#f0f921"
             ]
            ],
            "type": "histogram2dcontour"
           }
          ],
          "mesh3d": [
           {
            "colorbar": {
             "outlinewidth": 0,
             "ticks": ""
            },
            "type": "mesh3d"
           }
          ],
          "parcoords": [
           {
            "line": {
             "colorbar": {
              "outlinewidth": 0,
              "ticks": ""
             }
            },
            "type": "parcoords"
           }
          ],
          "pie": [
           {
            "automargin": true,
            "type": "pie"
           }
          ],
          "scatter": [
           {
            "marker": {
             "colorbar": {
              "outlinewidth": 0,
              "ticks": ""
             }
            },
            "type": "scatter"
           }
          ],
          "scatter3d": [
           {
            "line": {
             "colorbar": {
              "outlinewidth": 0,
              "ticks": ""
             }
            },
            "marker": {
             "colorbar": {
              "outlinewidth": 0,
              "ticks": ""
             }
            },
            "type": "scatter3d"
           }
          ],
          "scattercarpet": [
           {
            "marker": {
             "colorbar": {
              "outlinewidth": 0,
              "ticks": ""
             }
            },
            "type": "scattercarpet"
           }
          ],
          "scattergeo": [
           {
            "marker": {
             "colorbar": {
              "outlinewidth": 0,
              "ticks": ""
             }
            },
            "type": "scattergeo"
           }
          ],
          "scattergl": [
           {
            "marker": {
             "colorbar": {
              "outlinewidth": 0,
              "ticks": ""
             }
            },
            "type": "scattergl"
           }
          ],
          "scattermapbox": [
           {
            "marker": {
             "colorbar": {
              "outlinewidth": 0,
              "ticks": ""
             }
            },
            "type": "scattermapbox"
           }
          ],
          "scatterpolar": [
           {
            "marker": {
             "colorbar": {
              "outlinewidth": 0,
              "ticks": ""
             }
            },
            "type": "scatterpolar"
           }
          ],
          "scatterpolargl": [
           {
            "marker": {
             "colorbar": {
              "outlinewidth": 0,
              "ticks": ""
             }
            },
            "type": "scatterpolargl"
           }
          ],
          "scatterternary": [
           {
            "marker": {
             "colorbar": {
              "outlinewidth": 0,
              "ticks": ""
             }
            },
            "type": "scatterternary"
           }
          ],
          "surface": [
           {
            "colorbar": {
             "outlinewidth": 0,
             "ticks": ""
            },
            "colorscale": [
             [
              0,
              "#0d0887"
             ],
             [
              0.1111111111111111,
              "#46039f"
             ],
             [
              0.2222222222222222,
              "#7201a8"
             ],
             [
              0.3333333333333333,
              "#9c179e"
             ],
             [
              0.4444444444444444,
              "#bd3786"
             ],
             [
              0.5555555555555556,
              "#d8576b"
             ],
             [
              0.6666666666666666,
              "#ed7953"
             ],
             [
              0.7777777777777778,
              "#fb9f3a"
             ],
             [
              0.8888888888888888,
              "#fdca26"
             ],
             [
              1,
              "#f0f921"
             ]
            ],
            "type": "surface"
           }
          ],
          "table": [
           {
            "cells": {
             "fill": {
              "color": "#EBF0F8"
             },
             "line": {
              "color": "white"
             }
            },
            "header": {
             "fill": {
              "color": "#C8D4E3"
             },
             "line": {
              "color": "white"
             }
            },
            "type": "table"
           }
          ]
         },
         "layout": {
          "annotationdefaults": {
           "arrowcolor": "#2a3f5f",
           "arrowhead": 0,
           "arrowwidth": 1
          },
          "coloraxis": {
           "colorbar": {
            "outlinewidth": 0,
            "ticks": ""
           }
          },
          "colorscale": {
           "diverging": [
            [
             0,
             "#8e0152"
            ],
            [
             0.1,
             "#c51b7d"
            ],
            [
             0.2,
             "#de77ae"
            ],
            [
             0.3,
             "#f1b6da"
            ],
            [
             0.4,
             "#fde0ef"
            ],
            [
             0.5,
             "#f7f7f7"
            ],
            [
             0.6,
             "#e6f5d0"
            ],
            [
             0.7,
             "#b8e186"
            ],
            [
             0.8,
             "#7fbc41"
            ],
            [
             0.9,
             "#4d9221"
            ],
            [
             1,
             "#276419"
            ]
           ],
           "sequential": [
            [
             0,
             "#0d0887"
            ],
            [
             0.1111111111111111,
             "#46039f"
            ],
            [
             0.2222222222222222,
             "#7201a8"
            ],
            [
             0.3333333333333333,
             "#9c179e"
            ],
            [
             0.4444444444444444,
             "#bd3786"
            ],
            [
             0.5555555555555556,
             "#d8576b"
            ],
            [
             0.6666666666666666,
             "#ed7953"
            ],
            [
             0.7777777777777778,
             "#fb9f3a"
            ],
            [
             0.8888888888888888,
             "#fdca26"
            ],
            [
             1,
             "#f0f921"
            ]
           ],
           "sequentialminus": [
            [
             0,
             "#0d0887"
            ],
            [
             0.1111111111111111,
             "#46039f"
            ],
            [
             0.2222222222222222,
             "#7201a8"
            ],
            [
             0.3333333333333333,
             "#9c179e"
            ],
            [
             0.4444444444444444,
             "#bd3786"
            ],
            [
             0.5555555555555556,
             "#d8576b"
            ],
            [
             0.6666666666666666,
             "#ed7953"
            ],
            [
             0.7777777777777778,
             "#fb9f3a"
            ],
            [
             0.8888888888888888,
             "#fdca26"
            ],
            [
             1,
             "#f0f921"
            ]
           ]
          },
          "colorway": [
           "#636efa",
           "#EF553B",
           "#00cc96",
           "#ab63fa",
           "#FFA15A",
           "#19d3f3",
           "#FF6692",
           "#B6E880",
           "#FF97FF",
           "#FECB52"
          ],
          "font": {
           "color": "#2a3f5f"
          },
          "geo": {
           "bgcolor": "white",
           "lakecolor": "white",
           "landcolor": "#E5ECF6",
           "showlakes": true,
           "showland": true,
           "subunitcolor": "white"
          },
          "hoverlabel": {
           "align": "left"
          },
          "hovermode": "closest",
          "mapbox": {
           "style": "light"
          },
          "paper_bgcolor": "white",
          "plot_bgcolor": "#E5ECF6",
          "polar": {
           "angularaxis": {
            "gridcolor": "white",
            "linecolor": "white",
            "ticks": ""
           },
           "bgcolor": "#E5ECF6",
           "radialaxis": {
            "gridcolor": "white",
            "linecolor": "white",
            "ticks": ""
           }
          },
          "scene": {
           "xaxis": {
            "backgroundcolor": "#E5ECF6",
            "gridcolor": "white",
            "gridwidth": 2,
            "linecolor": "white",
            "showbackground": true,
            "ticks": "",
            "zerolinecolor": "white"
           },
           "yaxis": {
            "backgroundcolor": "#E5ECF6",
            "gridcolor": "white",
            "gridwidth": 2,
            "linecolor": "white",
            "showbackground": true,
            "ticks": "",
            "zerolinecolor": "white"
           },
           "zaxis": {
            "backgroundcolor": "#E5ECF6",
            "gridcolor": "white",
            "gridwidth": 2,
            "linecolor": "white",
            "showbackground": true,
            "ticks": "",
            "zerolinecolor": "white"
           }
          },
          "shapedefaults": {
           "line": {
            "color": "#2a3f5f"
           }
          },
          "ternary": {
           "aaxis": {
            "gridcolor": "white",
            "linecolor": "white",
            "ticks": ""
           },
           "baxis": {
            "gridcolor": "white",
            "linecolor": "white",
            "ticks": ""
           },
           "bgcolor": "#E5ECF6",
           "caxis": {
            "gridcolor": "white",
            "linecolor": "white",
            "ticks": ""
           }
          },
          "title": {
           "x": 0.05
          },
          "xaxis": {
           "automargin": true,
           "gridcolor": "white",
           "linecolor": "white",
           "ticks": "",
           "title": {
            "standoff": 15
           },
           "zerolinecolor": "white",
           "zerolinewidth": 2
          },
          "yaxis": {
           "automargin": true,
           "gridcolor": "white",
           "linecolor": "white",
           "ticks": "",
           "title": {
            "standoff": 15
           },
           "zerolinecolor": "white",
           "zerolinewidth": 2
          }
         }
        },
        "width": 900,
        "xaxis": {
         "anchor": "y",
         "domain": [
          0,
          0.45
         ]
        },
        "xaxis2": {
         "anchor": "y2",
         "domain": [
          0.55,
          1
         ],
         "type": "log"
        },
        "xaxis3": {
         "anchor": "y3",
         "domain": [
          0,
          0.45
         ],
         "type": "log"
        },
        "xaxis4": {
         "anchor": "y4",
         "domain": [
          0.55,
          1
         ],
         "type": "log"
        },
        "yaxis": {
         "anchor": "x",
         "domain": [
          0.625,
          1
         ],
         "scaleanchor": "x",
         "scaleratio": 1
        },
        "yaxis2": {
         "anchor": "x2",
         "domain": [
          0.625,
          1
         ]
        },
        "yaxis3": {
         "anchor": "x3",
         "domain": [
          0,
          0.375
         ]
        },
        "yaxis4": {
         "anchor": "x4",
         "domain": [
          0,
          0.375
         ],
         "range": [
          -0.5,
          0.5
         ]
        }
       }
      },
      "text/html": [
       "<div>\n",
       "        \n",
       "        \n",
       "            <div id=\"c08db40a-4ac0-421c-9cfd-0b94ea8cc384\" class=\"plotly-graph-div\" style=\"height:700px; width:900px;\"></div>\n",
       "            <script type=\"text/javascript\">\n",
       "                require([\"plotly\"], function(Plotly) {\n",
       "                    window.PLOTLYENV=window.PLOTLYENV || {};\n",
       "                    \n",
       "                if (document.getElementById(\"c08db40a-4ac0-421c-9cfd-0b94ea8cc384\")) {\n",
       "                    Plotly.newPlot(\n",
       "                        'c08db40a-4ac0-421c-9cfd-0b94ea8cc384',\n",
       "                        [{\"marker\": {\"color\": [-1.0, -1.0, 1.0, -1.0, 1.0, -1.0, 1.0, 1.0, 1.0, 1.0, 1.0, 1.0, 1.0, 1.0, -1.0, 1.0, 1.0, 1.0, 1.0, -1.0, 1.0, -1.0, -1.0, -1.0, 1.0, -1.0, 1.0, -1.0, -1.0, 1.0, -1.0, -1.0, 1.0, -1.0, 1.0, -1.0, -1.0, -1.0, -1.0, 1.0, -1.0, 1.0, -1.0, -1.0, 1.0, -1.0, -1.0, -1.0, -1.0, 1.0, 1.0, -1.0, 1.0, -1.0, -1.0, 1.0, -1.0, 1.0, -1.0, 1.0, 1.0, -1.0, 1.0, 1.0, -1.0, 1.0, 1.0, 1.0, -1.0, -1.0, -1.0, -1.0, 1.0, 1.0, -1.0, 1.0, -1.0, -1.0, 1.0, -1.0, -1.0, 1.0, 1.0, -1.0, -1.0, -1.0, 1.0, -1.0, 1.0, -1.0, -1.0, -1.0, 1.0, 1.0, 1.0, -1.0, 1.0, -1.0, 1.0, -1.0, -1.0, -1.0, 1.0, -1.0, -1.0, 1.0, -1.0, 1.0, 1.0, -1.0, 1.0, -1.0, -1.0, 1.0, 1.0, -1.0, -1.0, -1.0, 1.0, 1.0, -1.0, -1.0, 1.0, -1.0, 1.0, -1.0, -1.0, 1.0, -1.0, -1.0, 1.0, 1.0, 1.0, -1.0, -1.0, 1.0, -1.0, -1.0, -1.0, -1.0, 1.0, -1.0, 1.0, 1.0, 1.0, 1.0, 1.0, 1.0, -1.0, 1.0, -1.0, 1.0, 1.0, 1.0, -1.0, -1.0, -1.0, -1.0, 1.0, -1.0, -1.0, -1.0, -1.0, -1.0, -1.0, 1.0, 1.0, 1.0, -1.0, -1.0, 1.0, -1.0, -1.0, 1.0, 1.0, -1.0, -1.0, 1.0, 1.0, -1.0, 1.0, 1.0, -1.0, -1.0, -1.0, -1.0, -1.0, 1.0, -1.0, 1.0, 1.0, -1.0, -1.0, 1.0, 1.0, 1.0, 1.0, -1.0, -1.0, -1.0, -1.0, -1.0, -1.0, -1.0, 1.0, -1.0, 1.0, 1.0, -1.0, 1.0, -1.0, -1.0, -1.0, 1.0, 1.0, 1.0, -1.0, -1.0, -1.0, 1.0, 1.0, -1.0, 1.0, 1.0, -1.0, 1.0, 1.0, -1.0, 1.0, -1.0, 1.0, -1.0, 1.0, 1.0, 1.0, -1.0, 1.0, 1.0, -1.0, 1.0, 1.0, 1.0, -1.0, 1.0, 1.0, -1.0, 1.0, -1.0, 1.0, 1.0, 1.0, -1.0, 1.0, 1.0, 1.0, -1.0], \"colorscale\": [[0.0, \"rgb(103,0,31)\"], [0.1, \"rgb(178,24,43)\"], [0.2, \"rgb(214,96,77)\"], [0.3, \"rgb(244,165,130)\"], [0.4, \"rgb(253,219,199)\"], [0.5, \"rgb(247,247,247)\"], [0.6, \"rgb(209,229,240)\"], [0.7, \"rgb(146,197,222)\"], [0.8, \"rgb(67,147,195)\"], [0.9, \"rgb(33,102,172)\"], [1.0, \"rgb(5,48,97)\"]], \"size\": 10}, \"mode\": \"markers\", \"name\": \"Data\", \"type\": \"scatter\", \"x\": [-1.954040640424642, -0.9346129704108447, -0.7572758672378155, -0.15390541381614697, 0.7404316076905644, -1.068195666950195, 1.5132058069475902, 0.8075173328558833, -0.260071214608531, 0.21991454351912942, 2.0070382295040936, -0.6140995807765874, 0.2236876959896193, -1.3065445769625716, 0.6146833346753191, 1.6012521338505816, 0.6291009079994674, 1.4563302374107283, -0.34864100526182207, 0.6859510194432512, -0.6359616381688193, -1.9619620674256517, -1.4845318055148973, 0.5195925475892313, 0.7699804068502918, 0.762629658008695, 1.740694220268352, 0.6102780104784725, -0.49695440764620685, 0.2620388506141078, -0.6884170918569043, -0.17106924927250333, 0.7552152825333498, -1.487695875605483, 2.2061188817965443, -0.2743858541372952, -1.9338016235847617, -0.06662158368095049, -0.40846801327998306, 0.026593983287061876, -0.9950531633661615, 0.18719620908383755, -0.09119918165986107, 1.1307436566963947, 1.9382270629532206, 0.5513712612728601, -1.5989988798870205, 0.23305688453045176, -0.9748094223929694, 0.6487303199278283, 1.0238482371452506, 0.0032735375725325977, 0.7265433196619646, -0.567393719271828, -2.6430934354168745, 1.8547974799633158, -0.03405090040324854, 0.7550866188974724, -0.9718367778967578, 0.7901440263367453, -0.11278385721378895, -0.35796461013360104, 0.39325583860979224, 1.4229768671367578, -1.0673944829326534, 0.1803370471673738, 2.2576586750619487, 0.1423673142052579, -1.0707767285708907, -0.7023472960819921, -1.2677150982505434, -1.5292530107681177, 0.05044707573076407, -0.5186520891001445, -0.7599928626870304, 0.38509847101901773, -1.4405058974099791, 0.8077687450561497, 0.5861626055672292, -0.3247996391326533, -0.493561318741206, -0.8040984857464291, 1.6924396943843554, -0.07825481715753074, -0.10319987581536105, -1.6976201277986696, 0.24794223233174822, -0.2801946323733891, 2.7744156508587854, -0.17316955154650168, -1.7179414899275023, -1.5919112706855025, 0.632722529291194, -0.47780255678677486, 0.31473587790649094, 0.8101322458186323, 1.7376377211805565, -0.7310054691241049, -1.1269790803310613, -0.8966281723064677, -0.4715519753261034, 0.45953449018341586, 0.3760371025745992, -0.4072836121201583, -0.5049828484164925, -1.142030083857907, -0.07758302252324178, 0.15331829423984683, 0.15096412268841394, -1.1939891277589512, -0.9887208666877891, -2.5058191948836015, -2.1349783930794, -0.2039932345107618, 1.0714961071670936, -0.8027515429157835, -2.7929770216488206, -0.9177042471363173, -0.3045463584596446, 0.05608939274771846, -1.2849364297773702, -1.40481311459173, 1.089468914145058, 1.1411399756898637, -0.653064169183842, -0.1962528955376043, -1.4031427552285716, -0.31395303677540143, 0.4572132762523283, -1.6639117746698562, -0.11002386790771826, 0.8852108700422738, 1.5757486857382121, -0.8236901878248999, -0.35523830587609884, 0.3175291981062623, -0.5870571006250794, -0.509623616569976, 0.2503369347468344, -0.7907886373238306, 2.7074451534449913, -1.079839461417475, 0.39021244203353345, -1.277907953078882, 1.6417355610788018, 0.627249617127682, 2.238552893930662, 0.11172516329255991, -1.4629473712064494, 1.905217000879122, -0.5201284327618827, 1.2653885302220222, -1.5770459471523006, -0.1368553929127039, 1.015012272742042, -0.7603990404570531, -1.2932892955804065, -0.49121919841460926, 0.5092835678345826, -0.3466435352285184, -0.4514447341075882, 0.22568654372071245, -0.28979318616714383, -0.41424141760325284, -0.07901542235103093, -1.0848547493749665, 2.038350078996302, 1.0565247210431314, -1.5067176259529877, -1.4603731855291304, 1.4989180084732516, -1.1832054633593299, -0.4997846730642705, 0.3095821138410209, 1.2064853427545938, -1.3655867369441221, -0.43637840856720067, 2.554554231106173, 0.7475957550871044, -0.7972852432488805, 1.2055427868803554, 0.9267911140617027, -1.1329823294033883, -0.9463504730565675, -0.6892601180217311, -0.6198403905298885, -0.7937483360731827, 1.063668319976959, -1.7136558784164606, 0.8755840481447393, 1.3672696204458028, -0.6728332053910806, -0.4458692474975759, 1.319972481353602, -0.08285335784303932, 0.3600342706204157, 0.7439514977879267, -0.8820441562510724, -0.4967164827957825, -0.740115845002391, -0.30645293243597105, -0.9498245491016967, -0.2659671041910508, -1.9197366031821737, 1.589756221767026, -1.0138598703465354, 0.4953776557168263, 0.82897677386049, 0.34919708146752776, 1.0599504614914619, -1.9406116372807907, 0.10280852967378681, -0.4361654531306312, -1.5701735305432072, 1.0793560440610965, 2.3717911661971236, -0.1658472717487634, -0.19327654216237095, -0.4759568811926471, 0.7631242075823549, 1.2748390221629016, -0.45490557998643544, 2.568525901834263, -0.7979922676831579, -1.394093429414838, 0.19043936229909997, 0.8653517265318706, 0.5500299055370158, -0.9320404675705009, -0.44836426772338067, 0.24839100171156764, -0.02646084725941472, 0.4718777445648246, 0.7545775378408983, 1.143757034392733, 0.3807890489550084, 0.9157843412836149, -0.13154161304474, 0.3480841351434699, 1.0722032020926249, 1.7632845558617294, 0.7578492354319584, -1.4844412940683658, -0.2738424363194289, 0.6842769594774214, -1.5446020337728426, 1.4205663070969803, -2.1210231080373827, -0.14348539561321091, 0.47444806383919846, -0.2818676855097314, -1.9857010867422964, -0.4199777653482539, 0.20545522293246973, 2.713614992751875, -0.8705569154772629], \"xaxis\": \"x\", \"y\": [0.10465605786361518, -0.6499781613304102, -1.5703028942412662, 0.1022328201555842, -0.6779573407143163, 1.208738754566152, -1.0242657303662939, -1.3245199491122466, -0.8421481761559688, 0.006789764947993465, -0.054862008566934045, -0.6776347313884593, -1.1456864858826528, -1.5564993571641912, 0.5597990888091462, 0.8097098825765194, 0.03108410549189372, -0.2929130658660062, 0.01204557676072436, 2.320336775428128, -1.0011015370696428, -0.02403889708960888, 0.5714017919505177, -0.11152954513853898, -0.08824634286221418, 0.6708238757262592, -0.37450650196153856, 1.3119954098262594, -0.023543289622574546, 0.6397731195768956, -0.7284870001434662, 0.39903813969435237, -1.136584790544097, -0.07934953981768178, -0.8158723514501095, 0.2561007133703894, -0.6463658145664584, 0.4435028272999777, 0.6551508280161042, -0.9844961494965521, -0.530418219122265, -0.15164255098767815, 0.056101662195220725, 0.9838378285500382, 0.5655987900337643, 1.129986153978393, -0.6960404535697571, 2.421490412058005, -0.8234356066038845, -0.7422613897023205, -0.8686106009148049, -0.2300266282662163, 0.12086550573988164, 0.48872055790027885, -0.0014322457296701008, 0.4520459354063781, -0.035658753678307634, -1.0145024571756478, 1.2424863553351015, -0.312977250808007, -0.25111795010448495, 1.6728611932354527, -0.03931197489334226, 0.2824933264101073, -0.8724456699688035, -0.08304191766460788, -0.26711562535693706, -0.8853210146635933, 2.171413436399721, -0.05033082946345421, -0.014080741881025427, 0.9244018056956209, -0.8221467167009061, -1.3960133031458162, -0.7085170172398031, -0.17706304511812754, 0.7360750780198075, 0.9053512795090823, -0.947532416949517, 2.326524813616097, 1.6232230465634205, -1.0245842460281316, -1.0125904360226279, 0.3509088050658409, 1.1150429677455005, 0.8819297883110537, -1.4798837329216767, 0.40104896462986905, 0.8896434115945547, 0.9362762709991344, -0.4239244352808065, 0.04469887890011117, -1.5919852191299828, -0.3696203473370073, 0.4829096026769787, 0.5426559266491195, 1.2406989568532656, -0.17251153533439512, -2.1241503684532232, 0.5248290978051693, 0.36390758204520157, 0.3723780030368512, -0.30858918896884296, 0.09422995441081727, 0.7672901318900975, -2.2386097923773987, 0.8371749932311483, -0.8409917739287489, -0.04093980159631644, 0.9685281132820498, -1.594635321234662, -0.17899053805904175, 0.8185324519629998, -1.5571136465053348, -0.3539428655792057, -0.001989735552359595, 0.26564193025995964, 1.0617662388104216, -0.8139784197723512, -0.0009670860208721987, 0.059015580876833784, -0.04838041291114131, -0.22846316724462784, 1.5175736690744437, -0.7691638147941097, 1.2866225943747975, 1.983726942600966, -1.9142264632745234, 0.07235585885311235, -1.6599293232718426, -3.0055531796776767, -0.7313850520426246, -0.08629079239685833, -0.8192212287927418, 0.5073222275846142, 0.13329497469286716, 0.6092579987050696, 1.2077198348859297, -0.06600822508281992, 0.20407347327889472, 1.6126539032215443, 0.040736029003309485, -0.6639912624562516, -1.6645165046626922, 0.11260746938448148, 0.20562598244521701, -1.510468937759068, -0.0681929261221858, 1.5736029404048846, -0.6165509096389247, 0.5478825079206073, -1.5568245182417135, -1.8317252447074663, -1.1739421241728096, 1.671751069065416, -0.4975310542853971, 1.6144466055748035, -0.26728989436771716, 0.23255252384516456, 0.5801533291037663, -0.032796838611492185, 0.8868885921095604, -0.041120165234983685, -0.13968548111736115, 0.3323757340082123, -2.0324039063476973, -2.9306541568151205, 0.3128574080646951, -0.3779191458078047, -0.547441700294294, -0.4406712251741746, 0.9238412548459203, 1.362649973529849, -1.1658558333216869, -0.030327590951638086, 1.1300809264901404, 1.1666952630761016, 0.46690370785914237, 0.6215255666899151, 0.40799785320588555, -1.1787547514464696, -1.4023727584073031, 0.7271032213415196, 0.08007325677142513, 1.2146637327897283, 0.6314957909439154, 1.4445767506729392, -0.33293270413543996, -0.6879486360075305, -0.4484967553589455, 0.31113834380066346, 0.8033416014687245, 0.5215262240963351, -0.3859190458979255, -1.4618095087764962, -0.42140371126603193, -0.050165032194967846, 0.5283151631964702, 1.8136596808254517, 0.3684948825799918, 0.11985956869918984, 0.6390680937371686, 0.15568391465225967, -0.3141519596079403, -0.07268407176616881, -0.1597200933854572, -0.11573992551920939, -0.22590526872184047, 0.9212882105367292, 1.177519767756456, 0.6752617895455891, 0.4161290963760469, -0.5865981007634739, -1.5054960142919562, -1.105264712665258, -1.3707500696532537, 1.636544582840373, -0.6487762814124163, 2.061859782617828, 0.5978088259439399, 1.788398098966747, 1.5934523649901293, -0.29815147284451315, -0.42438520382139516, 0.5901627452606426, -0.18408463603247546, -2.145277159610463, 1.0207042867220828, -1.1864963261712484, -0.11227894011591055, -0.6975091994294881, 0.9204969147356732, -0.7891165086397374, -0.776581850448028, -0.4493988666733515, 1.1230720974245856, 0.8635172145097043, -1.5807355748104743, 0.4352121074772822, -1.2741626038615674, 0.29142325374207123, -1.1544159024838765, 0.29428741703213335, -2.1561557164822176, -0.056613828461507754, -0.4105125659920289, -0.18119700604724287, 0.928515386594414, -0.5265990657010728, -2.0338173829972575, -2.1504888798462347, -1.082835368920415, -1.038947634908087, -0.010922932635513707, -1.9934708972472754, -0.020234152127862823], \"yaxis\": \"y\"}, {\"mode\": \"lines\", \"name\": \"y=x\", \"type\": \"scatter\", \"x\": [-2, 2], \"xaxis\": \"x\", \"y\": [-2, 2], \"yaxis\": \"y\"}, {\"mode\": \"lines\", \"name\": \"Score\", \"type\": \"scatter\", \"x\": [0.001, 0.0010752168531898921, 0.0011560912813835741, 0.0012430488295695167, 0.0013365470508911142, 0.001437077914199376, 0.001545170392694147, 0.0016613932472747906, 0.0017863580192457368, 0.00192072224812393, 0.0020651929314796274, 0.002220530245015533, 0.0023875515424585845, 0.0025671356563109924, 0.002760227522090274, 0.0029678431503900376, 0.003191074972923552, 0.003431097590679882, 0.0036891739544382433, 0.003966662010161198, 0.004265021844233416, 0.004585823366142804, 0.004930754569028749, 0.005301630411562775, 0.0057004023678963595, 0.006129168695925734, 0.006590185477903262, 0.0070858784914888786, 0.0076188559737046125, 0.008191922344953684, 0.008808092965317064, 0.009470610000772239, 0.010182959482819049, 0.010948889651276869, 0.011772430676769292, 0.012657915866672037, 0.013610004466105514, 0.014633706173946348, 0.015734407502856096, 0.016917900122028363, 0.01819041133178823, 0.019558636830395094, 0.021029775945461338, 0.02261156951536744, 0.024312340619997878, 0.02614103837511491, 0.02810728502080728, 0.030221426551783795, 0.03249458715591842, 0.034938727747491294, 0.03756670890311596, 0.04039235853150907, 0.043430544633167076, 0.046697253532797064, 0.050209673996144656, 0.05398628767382502, 0.058046966348054396, 0.062413076493974616, 0.06710759170575141, 0.07215521357901018, 0.0775825016856679, 0.08341801332506335, 0.08969245378672715, 0.0964388379154446, 0.10369266382873439, 0.11149209970080914, 0.11987818459583773, 0.12889504440725363, 0.13859012403933868, 0.1490144370527747, 0.16022283408774768, 0.17227429147699425, 0.18523222156741204, 0.19916480638308562, 0.21414535638539547, 0.2302526962179329, 0.24757157946593425, 0.2661931346126132, 0.2862153445389273, 0.3077435620898062, 0.3308910644196496, 0.35577964903394954, 0.38254027466328744, 0.41131375034185697, 0.4422514763163044, 0.4755162406834014, 0.5112830759482943, 0.5497401800103736, 0.5910899064227987, 0.6355498291362295, 0.6833538873292303, 0.7347536163492151, 0.7900194712408972, 0.84944224982638, 0.9133346228248626, 0.9820327790631257, 1.0558981944335786, 1.1353195339077613, 1.2207146966133182, 1.3125330147352259, 1.411257617811452, 1.5174079748634945, 1.6315426277379734, 1.7542621300415915, 1.8862122071335174, 2.0280871538024616, 2.1806334875063276, 2.3446538763970537, 2.521011362799125, 2.710633904364837, 2.914519256800991, 3.1337402238589047, 3.3694503022121594, 3.622889750924289, 3.8953921174427264, 4.188391254457479, 4.503428864545836, 4.842162612301507, 5.206374846632575, 5.5979819791232845, 6.019044567806662, 6.471778159406794, 6.958564947100445, 7.48196630513883, 8.044736266284184, 8.649836012976683, 9.300449458481394, 10.0], \"xaxis\": \"x2\", \"y\": [0.5242718446601942, 0.4563106796116505, 0.4174757281553398, 0.5145631067961165, 0.5048543689320388, 0.44660194174757284, 0.5242718446601942, 0.4563106796116505, 0.5048543689320388, 0.5048543689320388, 0.6990291262135923, 0.6407766990291263, 0.6504854368932039, 0.5436893203883495, 0.47572815533980584, 0.6213592233009708, 0.5436893203883495, 0.6407766990291263, 0.8640776699029126, 0.8252427184466019, 0.9320388349514563, 0.9223300970873787, 0.7572815533980582, 0.8640776699029126, 0.883495145631068, 0.7669902912621359, 0.883495145631068, 0.8932038834951457, 0.7766990291262136, 0.8640776699029126, 0.8737864077669902, 0.9029126213592233, 0.8932038834951457, 0.912621359223301, 0.9029126213592233, 0.9320388349514563, 0.8446601941747572, 0.9223300970873787, 0.8543689320388349, 0.9223300970873787, 0.883495145631068, 0.9223300970873787, 0.912621359223301, 0.883495145631068, 0.9320388349514563, 0.8737864077669902, 0.912621359223301, 0.8640776699029126, 0.9320388349514563, 0.912621359223301, 0.8932038834951457, 0.9514563106796117, 0.8737864077669902, 0.9320388349514563, 0.9029126213592233, 0.8155339805825242, 0.9029126213592233, 0.8737864077669902, 0.9029126213592233, 0.9320388349514563, 0.970873786407767, 0.9029126213592233, 0.9029126213592233, 0.9611650485436893, 0.9029126213592233, 0.9029126213592233, 0.9514563106796117, 0.9320388349514563, 0.941747572815534, 0.8932038834951457, 0.941747572815534, 0.883495145631068, 0.9029126213592233, 0.883495145631068, 0.9029126213592233, 0.9029126213592233, 0.9223300970873787, 0.9320388349514563, 0.8737864077669902, 0.9029126213592233, 0.9320388349514563, 0.8932038834951457, 0.9029126213592233, 0.9223300970873787, 0.941747572815534, 0.9223300970873787, 0.883495145631068, 0.970873786407767, 0.9320388349514563, 0.9320388349514563, 0.8932038834951457, 0.912621359223301, 0.9514563106796117, 0.883495145631068, 0.9029126213592233, 0.883495145631068, 0.8932038834951457, 0.8932038834951457, 0.8737864077669902, 0.912621359223301, 0.9223300970873787, 0.912621359223301, 0.912621359223301, 0.912621359223301, 0.8932038834951457, 0.8932038834951457, 0.9029126213592233, 0.912621359223301, 0.9223300970873787, 0.8737864077669902, 0.9029126213592233, 0.9223300970873787, 0.941747572815534, 0.9320388349514563, 0.941747572815534, 0.9320388349514563, 0.9029126213592233, 0.912621359223301, 0.883495145631068, 0.9223300970873787, 0.883495145631068, 0.8932038834951457, 0.8932038834951457, 0.9223300970873787, 0.8932038834951457, 0.941747572815534, 0.9029126213592233, 0.8932038834951457], \"yaxis\": \"y2\"}, {\"mode\": \"lines\", \"name\": \"a\", \"type\": \"scatter\", \"x\": [0.001, 0.0010752168531898921, 0.0011560912813835741, 0.0012430488295695167, 0.0013365470508911142, 0.001437077914199376, 0.001545170392694147, 0.0016613932472747906, 0.0017863580192457368, 0.00192072224812393, 0.0020651929314796274, 0.002220530245015533, 0.0023875515424585845, 0.0025671356563109924, 0.002760227522090274, 0.0029678431503900376, 0.003191074972923552, 0.003431097590679882, 0.0036891739544382433, 0.003966662010161198, 0.004265021844233416, 0.004585823366142804, 0.004930754569028749, 0.005301630411562775, 0.0057004023678963595, 0.006129168695925734, 0.006590185477903262, 0.0070858784914888786, 0.0076188559737046125, 0.008191922344953684, 0.008808092965317064, 0.009470610000772239, 0.010182959482819049, 0.010948889651276869, 0.011772430676769292, 0.012657915866672037, 0.013610004466105514, 0.014633706173946348, 0.015734407502856096, 0.016917900122028363, 0.01819041133178823, 0.019558636830395094, 0.021029775945461338, 0.02261156951536744, 0.024312340619997878, 0.02614103837511491, 0.02810728502080728, 0.030221426551783795, 0.03249458715591842, 0.034938727747491294, 0.03756670890311596, 0.04039235853150907, 0.043430544633167076, 0.046697253532797064, 0.050209673996144656, 0.05398628767382502, 0.058046966348054396, 0.062413076493974616, 0.06710759170575141, 0.07215521357901018, 0.0775825016856679, 0.08341801332506335, 0.08969245378672715, 0.0964388379154446, 0.10369266382873439, 0.11149209970080914, 0.11987818459583773, 0.12889504440725363, 0.13859012403933868, 0.1490144370527747, 0.16022283408774768, 0.17227429147699425, 0.18523222156741204, 0.19916480638308562, 0.21414535638539547, 0.2302526962179329, 0.24757157946593425, 0.2661931346126132, 0.2862153445389273, 0.3077435620898062, 0.3308910644196496, 0.35577964903394954, 0.38254027466328744, 0.41131375034185697, 0.4422514763163044, 0.4755162406834014, 0.5112830759482943, 0.5497401800103736, 0.5910899064227987, 0.6355498291362295, 0.6833538873292303, 0.7347536163492151, 0.7900194712408972, 0.84944224982638, 0.9133346228248626, 0.9820327790631257, 1.0558981944335786, 1.1353195339077613, 1.2207146966133182, 1.3125330147352259, 1.411257617811452, 1.5174079748634945, 1.6315426277379734, 1.7542621300415915, 1.8862122071335174, 2.0280871538024616, 2.1806334875063276, 2.3446538763970537, 2.521011362799125, 2.710633904364837, 2.914519256800991, 3.1337402238589047, 3.3694503022121594, 3.622889750924289, 3.8953921174427264, 4.188391254457479, 4.503428864545836, 4.842162612301507, 5.206374846632575, 5.5979819791232845, 6.019044567806662, 6.471778159406794, 6.958564947100445, 7.48196630513883, 8.044736266284184, 8.649836012976683, 9.300449458481394, 10.0], \"xaxis\": \"x3\", \"y\": [1.2327789486825416, 1.183742716635902, 0.9589118156406417, 1.006607577947214, 1.2634424189666253, 1.3879496608928636, 1.3298758942037645, 1.1032576663517573, 1.3436952027010922, 1.1616192053970023, 1.3486149964593421, 1.0928635200204178, 1.5506320521216883, 0.9694231748506084, 1.261894007753885, 1.2291745409067385, 1.207173262848356, 1.2951284842940987, 1.1299249130819962, 1.1495031397627653, 0.9190446190701398, 1.3425110228441306, 1.2640356833307194, 1.1270921502954367, 1.1584461512856294, 0.9680596514446852, 1.0340421356258351, 1.2172813981770094, 1.4602308030718008, 1.271087824608098, 1.0025151811422093, 1.2033286782890296, 1.1677584283819238, 1.0215773173728826, 1.1261862754088054, 1.1107877214467485, 1.2935469888535156, 1.1020993118649502, 1.1186031322395469, 0.8521390623528861, 1.2234106962396198, 1.0525295887099295, 0.8214980403893691, 1.1174247436645661, 1.1427297665413143, 1.0662010971759444, 0.9922256347669699, 1.0363786617207602, 0.9760803720869438, 0.896193673774044, 0.9537796441680232, 0.885531342773228, 0.949489784699968, 0.8977494820919664, 1.0283758018829041, 0.9977011310570221, 0.8981264203387196, 0.85938880249223, 0.8474273967149341, 0.8640359494910046, 0.9603108079559216, 0.8962190156681701, 0.9128065828735329, 1.0532894084002709, 0.8089226457101678, 1.0062324385778427, 0.9670830778696654, 0.9014807561847885, 0.9283282889987245, 1.0484857556169376, 0.8338175503782542, 0.9186762369113289, 0.8895898406059526, 0.9918593972833185, 1.0522641759860965, 0.8499925836636238, 0.9288987442647442, 1.116968764082683, 0.9596054708009562, 1.109137060867566, 0.9172584489881359, 1.0001379768126044, 1.0897582435045678, 0.9610987638903304, 0.8504493303650489, 1.0039087693599786, 0.9518586845204279, 0.9736576208964779, 1.0499160043164393, 0.9678650839134778, 1.2621767802501653, 0.9446674541522587, 1.0318477322817208, 0.8907086562902229, 0.8733365657555562, 1.1884461946939664, 0.8014346657427167, 1.0566332283244235, 0.9587109931938205, 1.1108272176733542, 0.9327034168811753, 0.9407300207307991, 0.9410441043574648, 0.9521183511006149, 1.1908592473323971, 0.9587110452845264, 0.8288017380257735, 0.8251842915905562, 1.0946061869857224, 0.8551785138226484, 0.9042396278841962, 0.8476297751744324, 0.9816210128434397, 1.0254969230855928, 1.0253844567312664, 0.9106534071718934, 1.142824654967905, 1.2033847137167104, 1.095004770755492, 0.9095505290400847, 1.1344944570302182, 1.0519499434557298, 1.2107965952969977, 0.9269130281203954, 0.9521538293832721, 0.8944363972709952, 0.995049786791358, 1.0821740861712008], \"yaxis\": \"y3\"}, {\"mode\": \"lines\", \"name\": \"a=1\", \"type\": \"scatter\", \"x\": [0.001, 0.0010752168531898921, 0.0011560912813835741, 0.0012430488295695167, 0.0013365470508911142, 0.001437077914199376, 0.001545170392694147, 0.0016613932472747906, 0.0017863580192457368, 0.00192072224812393, 0.0020651929314796274, 0.002220530245015533, 0.0023875515424585845, 0.0025671356563109924, 0.002760227522090274, 0.0029678431503900376, 0.003191074972923552, 0.003431097590679882, 0.0036891739544382433, 0.003966662010161198, 0.004265021844233416, 0.004585823366142804, 0.004930754569028749, 0.005301630411562775, 0.0057004023678963595, 0.006129168695925734, 0.006590185477903262, 0.0070858784914888786, 0.0076188559737046125, 0.008191922344953684, 0.008808092965317064, 0.009470610000772239, 0.010182959482819049, 0.010948889651276869, 0.011772430676769292, 0.012657915866672037, 0.013610004466105514, 0.014633706173946348, 0.015734407502856096, 0.016917900122028363, 0.01819041133178823, 0.019558636830395094, 0.021029775945461338, 0.02261156951536744, 0.024312340619997878, 0.02614103837511491, 0.02810728502080728, 0.030221426551783795, 0.03249458715591842, 0.034938727747491294, 0.03756670890311596, 0.04039235853150907, 0.043430544633167076, 0.046697253532797064, 0.050209673996144656, 0.05398628767382502, 0.058046966348054396, 0.062413076493974616, 0.06710759170575141, 0.07215521357901018, 0.0775825016856679, 0.08341801332506335, 0.08969245378672715, 0.0964388379154446, 0.10369266382873439, 0.11149209970080914, 0.11987818459583773, 0.12889504440725363, 0.13859012403933868, 0.1490144370527747, 0.16022283408774768, 0.17227429147699425, 0.18523222156741204, 0.19916480638308562, 0.21414535638539547, 0.2302526962179329, 0.24757157946593425, 0.2661931346126132, 0.2862153445389273, 0.3077435620898062, 0.3308910644196496, 0.35577964903394954, 0.38254027466328744, 0.41131375034185697, 0.4422514763163044, 0.4755162406834014, 0.5112830759482943, 0.5497401800103736, 0.5910899064227987, 0.6355498291362295, 0.6833538873292303, 0.7347536163492151, 0.7900194712408972, 0.84944224982638, 0.9133346228248626, 0.9820327790631257, 1.0558981944335786, 1.1353195339077613, 1.2207146966133182, 1.3125330147352259, 1.411257617811452, 1.5174079748634945, 1.6315426277379734, 1.7542621300415915, 1.8862122071335174, 2.0280871538024616, 2.1806334875063276, 2.3446538763970537, 2.521011362799125, 2.710633904364837, 2.914519256800991, 3.1337402238589047, 3.3694503022121594, 3.622889750924289, 3.8953921174427264, 4.188391254457479, 4.503428864545836, 4.842162612301507, 5.206374846632575, 5.5979819791232845, 6.019044567806662, 6.471778159406794, 6.958564947100445, 7.48196630513883, 8.044736266284184, 8.649836012976683, 9.300449458481394, 10.0], \"xaxis\": \"x3\", \"y\": [1.0, 1.0, 1.0, 1.0, 1.0, 1.0, 1.0, 1.0, 1.0, 1.0, 1.0, 1.0, 1.0, 1.0, 1.0, 1.0, 1.0, 1.0, 1.0, 1.0, 1.0, 1.0, 1.0, 1.0, 1.0, 1.0, 1.0, 1.0, 1.0, 1.0, 1.0, 1.0, 1.0, 1.0, 1.0, 1.0, 1.0, 1.0, 1.0, 1.0, 1.0, 1.0, 1.0, 1.0, 1.0, 1.0, 1.0, 1.0, 1.0, 1.0, 1.0, 1.0, 1.0, 1.0, 1.0, 1.0, 1.0, 1.0, 1.0, 1.0, 1.0, 1.0, 1.0, 1.0, 1.0, 1.0, 1.0, 1.0, 1.0, 1.0, 1.0, 1.0, 1.0, 1.0, 1.0, 1.0, 1.0, 1.0, 1.0, 1.0, 1.0, 1.0, 1.0, 1.0, 1.0, 1.0, 1.0, 1.0, 1.0, 1.0, 1.0, 1.0, 1.0, 1.0, 1.0, 1.0, 1.0, 1.0, 1.0, 1.0, 1.0, 1.0, 1.0, 1.0, 1.0, 1.0, 1.0, 1.0, 1.0, 1.0, 1.0, 1.0, 1.0, 1.0, 1.0, 1.0, 1.0, 1.0, 1.0, 1.0, 1.0, 1.0, 1.0, 1.0, 1.0, 1.0, 1.0, 1.0], \"yaxis\": \"y3\"}, {\"mode\": \"lines\", \"name\": \"b\", \"type\": \"scatter\", \"x\": [0.001, 0.0010752168531898921, 0.0011560912813835741, 0.0012430488295695167, 0.0013365470508911142, 0.001437077914199376, 0.001545170392694147, 0.0016613932472747906, 0.0017863580192457368, 0.00192072224812393, 0.0020651929314796274, 0.002220530245015533, 0.0023875515424585845, 0.0025671356563109924, 0.002760227522090274, 0.0029678431503900376, 0.003191074972923552, 0.003431097590679882, 0.0036891739544382433, 0.003966662010161198, 0.004265021844233416, 0.004585823366142804, 0.004930754569028749, 0.005301630411562775, 0.0057004023678963595, 0.006129168695925734, 0.006590185477903262, 0.0070858784914888786, 0.0076188559737046125, 0.008191922344953684, 0.008808092965317064, 0.009470610000772239, 0.010182959482819049, 0.010948889651276869, 0.011772430676769292, 0.012657915866672037, 0.013610004466105514, 0.014633706173946348, 0.015734407502856096, 0.016917900122028363, 0.01819041133178823, 0.019558636830395094, 0.021029775945461338, 0.02261156951536744, 0.024312340619997878, 0.02614103837511491, 0.02810728502080728, 0.030221426551783795, 0.03249458715591842, 0.034938727747491294, 0.03756670890311596, 0.04039235853150907, 0.043430544633167076, 0.046697253532797064, 0.050209673996144656, 0.05398628767382502, 0.058046966348054396, 0.062413076493974616, 0.06710759170575141, 0.07215521357901018, 0.0775825016856679, 0.08341801332506335, 0.08969245378672715, 0.0964388379154446, 0.10369266382873439, 0.11149209970080914, 0.11987818459583773, 0.12889504440725363, 0.13859012403933868, 0.1490144370527747, 0.16022283408774768, 0.17227429147699425, 0.18523222156741204, 0.19916480638308562, 0.21414535638539547, 0.2302526962179329, 0.24757157946593425, 0.2661931346126132, 0.2862153445389273, 0.3077435620898062, 0.3308910644196496, 0.35577964903394954, 0.38254027466328744, 0.41131375034185697, 0.4422514763163044, 0.4755162406834014, 0.5112830759482943, 0.5497401800103736, 0.5910899064227987, 0.6355498291362295, 0.6833538873292303, 0.7347536163492151, 0.7900194712408972, 0.84944224982638, 0.9133346228248626, 0.9820327790631257, 1.0558981944335786, 1.1353195339077613, 1.2207146966133182, 1.3125330147352259, 1.411257617811452, 1.5174079748634945, 1.6315426277379734, 1.7542621300415915, 1.8862122071335174, 2.0280871538024616, 2.1806334875063276, 2.3446538763970537, 2.521011362799125, 2.710633904364837, 2.914519256800991, 3.1337402238589047, 3.3694503022121594, 3.622889750924289, 3.8953921174427264, 4.188391254457479, 4.503428864545836, 4.842162612301507, 5.206374846632575, 5.5979819791232845, 6.019044567806662, 6.471778159406794, 6.958564947100445, 7.48196630513883, 8.044736266284184, 8.649836012976683, 9.300449458481394, 10.0], \"xaxis\": \"x4\", \"y\": [-8.164047320904956, -11.70457833622833, 9.64545615413911, -6.472297344998108, -6.441190776094179, 6.511934548360721, -5.253914751338137, 5.1000857287771275, -4.6483064382853785, -4.405972113644719, 1.3869356121244765, -1.635927742582105, -2.444942755692145, -2.563991028260292, -3.9367102253205664, 1.8220202366930656, -2.359841327477544, 1.7812327556836502, 0.5601355474053409, -0.8925209099852511, -0.005440805202460506, 0.12645826138836846, -0.8256721080316064, -0.04058414992082618, -0.36821855445468565, -1.0163661922408367, -0.3132189455883017, 0.03521567599236835, -0.6135764697864491, -0.19331328124243674, 0.22004068990761658, 0.2035780085404731, -0.1374072298338444, -0.051895876226674596, -0.15468239773436096, 0.07391083660353878, -0.16314108512860095, -0.08424254283625346, -0.14878766229209892, -0.031134228211088927, -0.03232874204647205, 0.08997371817233749, -0.023290670887321754, -0.27186971160079876, -0.09758737207417947, -0.2166533239941052, -0.09197531830260644, -0.22647510907472512, -0.08602230403937082, -0.03932773534981725, -0.29505696380476154, -0.05939282074584828, -0.2091503713283874, -0.09917754920457654, -0.2004012127198047, -0.28485721798695485, -0.16086828488158283, -0.1352399310981988, -0.04129237130070095, -0.011825206693323454, -0.10140843264247144, -0.10827792104552428, -0.11664296674909597, -0.01344509267298718, 0.023024333371735588, 0.0535464933078475, -0.09272829155698718, -0.11933246304242433, 0.1652430210032357, -0.14391558353327072, -0.07820151627867301, -0.17949739603055492, 0.03841807823645588, -0.10171411509775052, -0.14199474359430245, -0.06736113838891662, -0.11571924326495035, 0.06444726208961923, 0.04692901091648447, -0.09231038636352112, -0.04881428364062737, -0.02350231209245451, -0.18344544092537687, -0.1046262571613091, 0.005029214335761197, -0.11210639515469645, 0.07851492490408268, -0.06962417448185007, -0.16674882902720364, -0.12968762710236872, -0.06303367062635168, 0.09538800982731692, -0.022161805511816783, -0.0787611098060176, -0.08022125666912736, -0.033965204074658584, -0.14506736198510517, -0.14416170711949605, 0.01397037558043548, 0.06091328419010839, -0.061990811538938546, 0.00754493814971503, -0.020205681004226202, 0.005830336640449823, 0.044595874597164416, 0.025638527690986835, -0.05001975830311048, -0.09388886076855282, -0.03110608149775449, -0.09466717226483545, -0.056274012126390945, -0.0909121502577683, 0.008848513306807472, -0.0159437854987578, -0.03265950154860148, -0.036655228245180485, 0.08306065133347182, -0.15018499567037924, -0.14333138802788403, 0.00024412297857703434, 0.05844292407089449, 0.12073660043322616, -0.02133439859698052, -0.0627800517798964, -0.045066753113767524, -0.11632584457383414, 0.0769909470990111, 0.002275861866767332], \"yaxis\": \"y4\"}, {\"mode\": \"lines\", \"name\": \"b=0\", \"type\": \"scatter\", \"x\": [0.001, 0.0010752168531898921, 0.0011560912813835741, 0.0012430488295695167, 0.0013365470508911142, 0.001437077914199376, 0.001545170392694147, 0.0016613932472747906, 0.0017863580192457368, 0.00192072224812393, 0.0020651929314796274, 0.002220530245015533, 0.0023875515424585845, 0.0025671356563109924, 0.002760227522090274, 0.0029678431503900376, 0.003191074972923552, 0.003431097590679882, 0.0036891739544382433, 0.003966662010161198, 0.004265021844233416, 0.004585823366142804, 0.004930754569028749, 0.005301630411562775, 0.0057004023678963595, 0.006129168695925734, 0.006590185477903262, 0.0070858784914888786, 0.0076188559737046125, 0.008191922344953684, 0.008808092965317064, 0.009470610000772239, 0.010182959482819049, 0.010948889651276869, 0.011772430676769292, 0.012657915866672037, 0.013610004466105514, 0.014633706173946348, 0.015734407502856096, 0.016917900122028363, 0.01819041133178823, 0.019558636830395094, 0.021029775945461338, 0.02261156951536744, 0.024312340619997878, 0.02614103837511491, 0.02810728502080728, 0.030221426551783795, 0.03249458715591842, 0.034938727747491294, 0.03756670890311596, 0.04039235853150907, 0.043430544633167076, 0.046697253532797064, 0.050209673996144656, 0.05398628767382502, 0.058046966348054396, 0.062413076493974616, 0.06710759170575141, 0.07215521357901018, 0.0775825016856679, 0.08341801332506335, 0.08969245378672715, 0.0964388379154446, 0.10369266382873439, 0.11149209970080914, 0.11987818459583773, 0.12889504440725363, 0.13859012403933868, 0.1490144370527747, 0.16022283408774768, 0.17227429147699425, 0.18523222156741204, 0.19916480638308562, 0.21414535638539547, 0.2302526962179329, 0.24757157946593425, 0.2661931346126132, 0.2862153445389273, 0.3077435620898062, 0.3308910644196496, 0.35577964903394954, 0.38254027466328744, 0.41131375034185697, 0.4422514763163044, 0.4755162406834014, 0.5112830759482943, 0.5497401800103736, 0.5910899064227987, 0.6355498291362295, 0.6833538873292303, 0.7347536163492151, 0.7900194712408972, 0.84944224982638, 0.9133346228248626, 0.9820327790631257, 1.0558981944335786, 1.1353195339077613, 1.2207146966133182, 1.3125330147352259, 1.411257617811452, 1.5174079748634945, 1.6315426277379734, 1.7542621300415915, 1.8862122071335174, 2.0280871538024616, 2.1806334875063276, 2.3446538763970537, 2.521011362799125, 2.710633904364837, 2.914519256800991, 3.1337402238589047, 3.3694503022121594, 3.622889750924289, 3.8953921174427264, 4.188391254457479, 4.503428864545836, 4.842162612301507, 5.206374846632575, 5.5979819791232845, 6.019044567806662, 6.471778159406794, 6.958564947100445, 7.48196630513883, 8.044736266284184, 8.649836012976683, 9.300449458481394, 10.0], \"xaxis\": \"x4\", \"y\": [0.0, 0.0, 0.0, 0.0, 0.0, 0.0, 0.0, 0.0, 0.0, 0.0, 0.0, 0.0, 0.0, 0.0, 0.0, 0.0, 0.0, 0.0, 0.0, 0.0, 0.0, 0.0, 0.0, 0.0, 0.0, 0.0, 0.0, 0.0, 0.0, 0.0, 0.0, 0.0, 0.0, 0.0, 0.0, 0.0, 0.0, 0.0, 0.0, 0.0, 0.0, 0.0, 0.0, 0.0, 0.0, 0.0, 0.0, 0.0, 0.0, 0.0, 0.0, 0.0, 0.0, 0.0, 0.0, 0.0, 0.0, 0.0, 0.0, 0.0, 0.0, 0.0, 0.0, 0.0, 0.0, 0.0, 0.0, 0.0, 0.0, 0.0, 0.0, 0.0, 0.0, 0.0, 0.0, 0.0, 0.0, 0.0, 0.0, 0.0, 0.0, 0.0, 0.0, 0.0, 0.0, 0.0, 0.0, 0.0, 0.0, 0.0, 0.0, 0.0, 0.0, 0.0, 0.0, 0.0, 0.0, 0.0, 0.0, 0.0, 0.0, 0.0, 0.0, 0.0, 0.0, 0.0, 0.0, 0.0, 0.0, 0.0, 0.0, 0.0, 0.0, 0.0, 0.0, 0.0, 0.0, 0.0, 0.0, 0.0, 0.0, 0.0, 0.0, 0.0, 0.0, 0.0, 0.0, 0.0], \"yaxis\": \"y4\"}],\n",
       "                        {\"annotations\": [{\"font\": {\"size\": 16}, \"showarrow\": false, \"text\": \"Data\", \"x\": 0.225, \"xanchor\": \"center\", \"xref\": \"paper\", \"y\": 1.0, \"yanchor\": \"bottom\", \"yref\": \"paper\"}, {\"font\": {\"size\": 16}, \"showarrow\": false, \"text\": \"Score\", \"x\": 0.775, \"xanchor\": \"center\", \"xref\": \"paper\", \"y\": 1.0, \"yanchor\": \"bottom\", \"yref\": \"paper\"}, {\"font\": {\"size\": 16}, \"showarrow\": false, \"text\": \"Slope a\", \"x\": 0.225, \"xanchor\": \"center\", \"xref\": \"paper\", \"y\": 0.375, \"yanchor\": \"bottom\", \"yref\": \"paper\"}, {\"font\": {\"size\": 16}, \"showarrow\": false, \"text\": \"Intercept b\", \"x\": 0.775, \"xanchor\": \"center\", \"xref\": \"paper\", \"y\": 0.375, \"yanchor\": \"bottom\", \"yref\": \"paper\"}], \"height\": 700, \"template\": {\"data\": {\"bar\": [{\"error_x\": {\"color\": \"#2a3f5f\"}, \"error_y\": {\"color\": \"#2a3f5f\"}, \"marker\": {\"line\": {\"color\": \"#E5ECF6\", \"width\": 0.5}}, \"type\": \"bar\"}], \"barpolar\": [{\"marker\": {\"line\": {\"color\": \"#E5ECF6\", \"width\": 0.5}}, \"type\": \"barpolar\"}], \"carpet\": [{\"aaxis\": {\"endlinecolor\": \"#2a3f5f\", \"gridcolor\": \"white\", \"linecolor\": \"white\", \"minorgridcolor\": \"white\", \"startlinecolor\": \"#2a3f5f\"}, \"baxis\": {\"endlinecolor\": \"#2a3f5f\", \"gridcolor\": \"white\", \"linecolor\": \"white\", \"minorgridcolor\": \"white\", \"startlinecolor\": \"#2a3f5f\"}, \"type\": \"carpet\"}], \"choropleth\": [{\"colorbar\": {\"outlinewidth\": 0, \"ticks\": \"\"}, \"type\": \"choropleth\"}], \"contour\": [{\"colorbar\": {\"outlinewidth\": 0, \"ticks\": \"\"}, \"colorscale\": [[0.0, \"#0d0887\"], [0.1111111111111111, \"#46039f\"], [0.2222222222222222, \"#7201a8\"], [0.3333333333333333, \"#9c179e\"], [0.4444444444444444, \"#bd3786\"], [0.5555555555555556, \"#d8576b\"], [0.6666666666666666, \"#ed7953\"], [0.7777777777777778, \"#fb9f3a\"], [0.8888888888888888, \"#fdca26\"], [1.0, \"#f0f921\"]], \"type\": \"contour\"}], \"contourcarpet\": [{\"colorbar\": {\"outlinewidth\": 0, \"ticks\": \"\"}, \"type\": \"contourcarpet\"}], \"heatmap\": [{\"colorbar\": {\"outlinewidth\": 0, \"ticks\": \"\"}, \"colorscale\": [[0.0, \"#0d0887\"], [0.1111111111111111, \"#46039f\"], [0.2222222222222222, \"#7201a8\"], [0.3333333333333333, \"#9c179e\"], [0.4444444444444444, \"#bd3786\"], [0.5555555555555556, \"#d8576b\"], [0.6666666666666666, \"#ed7953\"], [0.7777777777777778, \"#fb9f3a\"], [0.8888888888888888, \"#fdca26\"], [1.0, \"#f0f921\"]], \"type\": \"heatmap\"}], \"heatmapgl\": [{\"colorbar\": {\"outlinewidth\": 0, \"ticks\": \"\"}, \"colorscale\": [[0.0, \"#0d0887\"], [0.1111111111111111, \"#46039f\"], [0.2222222222222222, \"#7201a8\"], [0.3333333333333333, \"#9c179e\"], [0.4444444444444444, \"#bd3786\"], [0.5555555555555556, \"#d8576b\"], [0.6666666666666666, \"#ed7953\"], [0.7777777777777778, \"#fb9f3a\"], [0.8888888888888888, \"#fdca26\"], [1.0, \"#f0f921\"]], \"type\": \"heatmapgl\"}], \"histogram\": [{\"marker\": {\"colorbar\": {\"outlinewidth\": 0, \"ticks\": \"\"}}, \"type\": \"histogram\"}], \"histogram2d\": [{\"colorbar\": {\"outlinewidth\": 0, \"ticks\": \"\"}, \"colorscale\": [[0.0, \"#0d0887\"], [0.1111111111111111, \"#46039f\"], [0.2222222222222222, \"#7201a8\"], [0.3333333333333333, \"#9c179e\"], [0.4444444444444444, \"#bd3786\"], [0.5555555555555556, \"#d8576b\"], [0.6666666666666666, \"#ed7953\"], [0.7777777777777778, \"#fb9f3a\"], [0.8888888888888888, \"#fdca26\"], [1.0, \"#f0f921\"]], \"type\": \"histogram2d\"}], \"histogram2dcontour\": [{\"colorbar\": {\"outlinewidth\": 0, \"ticks\": \"\"}, \"colorscale\": [[0.0, \"#0d0887\"], [0.1111111111111111, \"#46039f\"], [0.2222222222222222, \"#7201a8\"], [0.3333333333333333, \"#9c179e\"], [0.4444444444444444, \"#bd3786\"], [0.5555555555555556, \"#d8576b\"], [0.6666666666666666, \"#ed7953\"], [0.7777777777777778, \"#fb9f3a\"], [0.8888888888888888, \"#fdca26\"], [1.0, \"#f0f921\"]], \"type\": \"histogram2dcontour\"}], \"mesh3d\": [{\"colorbar\": {\"outlinewidth\": 0, \"ticks\": \"\"}, \"type\": \"mesh3d\"}], \"parcoords\": [{\"line\": {\"colorbar\": {\"outlinewidth\": 0, \"ticks\": \"\"}}, \"type\": \"parcoords\"}], \"pie\": [{\"automargin\": true, \"type\": \"pie\"}], \"scatter\": [{\"marker\": {\"colorbar\": {\"outlinewidth\": 0, \"ticks\": \"\"}}, \"type\": \"scatter\"}], \"scatter3d\": [{\"line\": {\"colorbar\": {\"outlinewidth\": 0, \"ticks\": \"\"}}, \"marker\": {\"colorbar\": {\"outlinewidth\": 0, \"ticks\": \"\"}}, \"type\": \"scatter3d\"}], \"scattercarpet\": [{\"marker\": {\"colorbar\": {\"outlinewidth\": 0, \"ticks\": \"\"}}, \"type\": \"scattercarpet\"}], \"scattergeo\": [{\"marker\": {\"colorbar\": {\"outlinewidth\": 0, \"ticks\": \"\"}}, \"type\": \"scattergeo\"}], \"scattergl\": [{\"marker\": {\"colorbar\": {\"outlinewidth\": 0, \"ticks\": \"\"}}, \"type\": \"scattergl\"}], \"scattermapbox\": [{\"marker\": {\"colorbar\": {\"outlinewidth\": 0, \"ticks\": \"\"}}, \"type\": \"scattermapbox\"}], \"scatterpolar\": [{\"marker\": {\"colorbar\": {\"outlinewidth\": 0, \"ticks\": \"\"}}, \"type\": \"scatterpolar\"}], \"scatterpolargl\": [{\"marker\": {\"colorbar\": {\"outlinewidth\": 0, \"ticks\": \"\"}}, \"type\": \"scatterpolargl\"}], \"scatterternary\": [{\"marker\": {\"colorbar\": {\"outlinewidth\": 0, \"ticks\": \"\"}}, \"type\": \"scatterternary\"}], \"surface\": [{\"colorbar\": {\"outlinewidth\": 0, \"ticks\": \"\"}, \"colorscale\": [[0.0, \"#0d0887\"], [0.1111111111111111, \"#46039f\"], [0.2222222222222222, \"#7201a8\"], [0.3333333333333333, \"#9c179e\"], [0.4444444444444444, \"#bd3786\"], [0.5555555555555556, \"#d8576b\"], [0.6666666666666666, \"#ed7953\"], [0.7777777777777778, \"#fb9f3a\"], [0.8888888888888888, \"#fdca26\"], [1.0, \"#f0f921\"]], \"type\": \"surface\"}], \"table\": [{\"cells\": {\"fill\": {\"color\": \"#EBF0F8\"}, \"line\": {\"color\": \"white\"}}, \"header\": {\"fill\": {\"color\": \"#C8D4E3\"}, \"line\": {\"color\": \"white\"}}, \"type\": \"table\"}]}, \"layout\": {\"annotationdefaults\": {\"arrowcolor\": \"#2a3f5f\", \"arrowhead\": 0, \"arrowwidth\": 1}, \"coloraxis\": {\"colorbar\": {\"outlinewidth\": 0, \"ticks\": \"\"}}, \"colorscale\": {\"diverging\": [[0, \"#8e0152\"], [0.1, \"#c51b7d\"], [0.2, \"#de77ae\"], [0.3, \"#f1b6da\"], [0.4, \"#fde0ef\"], [0.5, \"#f7f7f7\"], [0.6, \"#e6f5d0\"], [0.7, \"#b8e186\"], [0.8, \"#7fbc41\"], [0.9, \"#4d9221\"], [1, \"#276419\"]], \"sequential\": [[0.0, \"#0d0887\"], [0.1111111111111111, \"#46039f\"], [0.2222222222222222, \"#7201a8\"], [0.3333333333333333, \"#9c179e\"], [0.4444444444444444, \"#bd3786\"], [0.5555555555555556, \"#d8576b\"], [0.6666666666666666, \"#ed7953\"], [0.7777777777777778, \"#fb9f3a\"], [0.8888888888888888, \"#fdca26\"], [1.0, \"#f0f921\"]], \"sequentialminus\": [[0.0, \"#0d0887\"], [0.1111111111111111, \"#46039f\"], [0.2222222222222222, \"#7201a8\"], [0.3333333333333333, \"#9c179e\"], [0.4444444444444444, \"#bd3786\"], [0.5555555555555556, \"#d8576b\"], [0.6666666666666666, \"#ed7953\"], [0.7777777777777778, \"#fb9f3a\"], [0.8888888888888888, \"#fdca26\"], [1.0, \"#f0f921\"]]}, \"colorway\": [\"#636efa\", \"#EF553B\", \"#00cc96\", \"#ab63fa\", \"#FFA15A\", \"#19d3f3\", \"#FF6692\", \"#B6E880\", \"#FF97FF\", \"#FECB52\"], \"font\": {\"color\": \"#2a3f5f\"}, \"geo\": {\"bgcolor\": \"white\", \"lakecolor\": \"white\", \"landcolor\": \"#E5ECF6\", \"showlakes\": true, \"showland\": true, \"subunitcolor\": \"white\"}, \"hoverlabel\": {\"align\": \"left\"}, \"hovermode\": \"closest\", \"mapbox\": {\"style\": \"light\"}, \"paper_bgcolor\": \"white\", \"plot_bgcolor\": \"#E5ECF6\", \"polar\": {\"angularaxis\": {\"gridcolor\": \"white\", \"linecolor\": \"white\", \"ticks\": \"\"}, \"bgcolor\": \"#E5ECF6\", \"radialaxis\": {\"gridcolor\": \"white\", \"linecolor\": \"white\", \"ticks\": \"\"}}, \"scene\": {\"xaxis\": {\"backgroundcolor\": \"#E5ECF6\", \"gridcolor\": \"white\", \"gridwidth\": 2, \"linecolor\": \"white\", \"showbackground\": true, \"ticks\": \"\", \"zerolinecolor\": \"white\"}, \"yaxis\": {\"backgroundcolor\": \"#E5ECF6\", \"gridcolor\": \"white\", \"gridwidth\": 2, \"linecolor\": \"white\", \"showbackground\": true, \"ticks\": \"\", \"zerolinecolor\": \"white\"}, \"zaxis\": {\"backgroundcolor\": \"#E5ECF6\", \"gridcolor\": \"white\", \"gridwidth\": 2, \"linecolor\": \"white\", \"showbackground\": true, \"ticks\": \"\", \"zerolinecolor\": \"white\"}}, \"shapedefaults\": {\"line\": {\"color\": \"#2a3f5f\"}}, \"ternary\": {\"aaxis\": {\"gridcolor\": \"white\", \"linecolor\": \"white\", \"ticks\": \"\"}, \"baxis\": {\"gridcolor\": \"white\", \"linecolor\": \"white\", \"ticks\": \"\"}, \"bgcolor\": \"#E5ECF6\", \"caxis\": {\"gridcolor\": \"white\", \"linecolor\": \"white\", \"ticks\": \"\"}}, \"title\": {\"x\": 0.05}, \"xaxis\": {\"automargin\": true, \"gridcolor\": \"white\", \"linecolor\": \"white\", \"ticks\": \"\", \"title\": {\"standoff\": 15}, \"zerolinecolor\": \"white\", \"zerolinewidth\": 2}, \"yaxis\": {\"automargin\": true, \"gridcolor\": \"white\", \"linecolor\": \"white\", \"ticks\": \"\", \"title\": {\"standoff\": 15}, \"zerolinecolor\": \"white\", \"zerolinewidth\": 2}}}, \"width\": 900, \"xaxis\": {\"anchor\": \"y\", \"domain\": [0.0, 0.45]}, \"xaxis2\": {\"anchor\": \"y2\", \"domain\": [0.55, 1.0], \"type\": \"log\"}, \"xaxis3\": {\"anchor\": \"y3\", \"domain\": [0.0, 0.45], \"type\": \"log\"}, \"xaxis4\": {\"anchor\": \"y4\", \"domain\": [0.55, 1.0], \"type\": \"log\"}, \"yaxis\": {\"anchor\": \"x\", \"domain\": [0.625, 1.0], \"scaleanchor\": \"x\", \"scaleratio\": 1}, \"yaxis2\": {\"anchor\": \"x2\", \"domain\": [0.625, 1.0]}, \"yaxis3\": {\"anchor\": \"x3\", \"domain\": [0.0, 0.375]}, \"yaxis4\": {\"anchor\": \"x4\", \"domain\": [0.0, 0.375], \"range\": [-0.5, 0.5]}},\n",
       "                        {\"responsive\": true}\n",
       "                    ).then(function(){\n",
       "                            \n",
       "var gd = document.getElementById('c08db40a-4ac0-421c-9cfd-0b94ea8cc384');\n",
       "var x = new MutationObserver(function (mutations, observer) {{\n",
       "        var display = window.getComputedStyle(gd).display;\n",
       "        if (!display || display === 'none') {{\n",
       "            console.log([gd, 'removed!']);\n",
       "            Plotly.purge(gd);\n",
       "            observer.disconnect();\n",
       "        }}\n",
       "}});\n",
       "\n",
       "// Listen for the removal of the full notebook cells\n",
       "var notebookContainer = gd.closest('#notebook-container');\n",
       "if (notebookContainer) {{\n",
       "    x.observe(notebookContainer, {childList: true});\n",
       "}}\n",
       "\n",
       "// Listen for the clearing of the current output cell\n",
       "var outputEl = gd.closest('.output');\n",
       "if (outputEl) {{\n",
       "    x.observe(outputEl, {childList: true});\n",
       "}}\n",
       "\n",
       "                        })\n",
       "                };\n",
       "                });\n",
       "            </script>\n",
       "        </div>"
      ]
     },
     "metadata": {},
     "output_type": "display_data"
    }
   ],
   "source": [
    "# plot\n",
    "from plotly.subplots import make_subplots\n",
    "fig = make_subplots(rows=2, cols=2,\n",
    "                    subplot_titles=(\n",
    "                        \"Data\", \"Score\", \"Slope a\", \"Intercept b\"\n",
    "                        ))\n",
    "                    \n",
    "fig.add_trace(go.Scatter(x=X[:, 0], y=X[:, 1],\n",
    "              mode='markers', name='Data', \n",
    "              marker = dict(color=y, colorscale=\"RdBu\", size=10)),\n",
    "              row=1, col=1)\n",
    "x_l = [-2, 2]\n",
    "fig.add_trace(go.Scatter(x=x_l, y=x_l,\n",
    "              mode='lines', name='y=x'),\n",
    "              row=1, col=1)\n",
    "\n",
    "fig.add_trace(go.Scatter(x=C_range, y=score,\n",
    "              mode='lines', name='Score'),\n",
    "              row=1, col=2)\n",
    "\n",
    "fig.add_trace(go.Scatter(x=C_range, y=a,\n",
    "              mode='lines', name='a'),\n",
    "              row=2, col=1)\n",
    "fig.add_trace(go.Scatter(x=C_range, y=np.ones(C_range.shape),\n",
    "              mode='lines', name='a=1'),\n",
    "              row=2, col=1)\n",
    "\n",
    "fig.add_trace(go.Scatter(x=C_range, y=b,\n",
    "              mode='lines', name='b'),\n",
    "              row=2, col=2)\n",
    "fig.add_trace(go.Scatter(x=C_range, y=np.zeros(C_range.shape),\n",
    "              mode='lines', name='b=0'),\n",
    "              row=2, col=2)\n",
    "\n",
    "fig.update_layout(height=700,width=900)  \n",
    "fig.update_yaxes(scaleanchor = \"x\", scaleratio = 1, row=1, col=1)\n",
    "fig.update_xaxes(type=\"log\", row=1, col=2)\n",
    "fig.update_xaxes(type=\"log\", row=2, col=1)\n",
    "fig.update_xaxes(type=\"log\", row=2, col=2)\n",
    "fig.update_yaxes(range=[-0.5, 0.5], row=2, col=2)\n",
    "\n",
    "fig.show()"
   ]
  },
  {
   "cell_type": "code",
   "execution_count": 26,
   "metadata": {},
   "outputs": [],
   "source": [
    "fig.write_html('../_includes/svm9.html')"
   ]
  },
  {
   "cell_type": "code",
   "execution_count": 27,
   "metadata": {
    "colab": {
     "base_uri": "https://localhost:8080/",
     "height": 542
    },
    "colab_type": "code",
    "id": "CgeYALQf8XQN",
    "outputId": "64069264-d6c2-4802-e54c-393db775d780"
   },
   "outputs": [
    {
     "data": {
      "application/vnd.plotly.v1+json": {
       "config": {
        "plotlyServerURL": "https://plot.ly"
       },
       "data": [
        {
         "marker": {
          "color": [
           1,
           -1,
           -1,
           1,
           -1,
           1,
           -1,
           1,
           1,
           -1,
           -1,
           1,
           1,
           -1,
           -1,
           1,
           1,
           1,
           -1,
           1,
           1,
           1,
           -1,
           -1,
           -1,
           -1,
           -1,
           -1,
           1,
           1,
           1,
           -1,
           -1,
           1,
           1,
           -1,
           -1,
           1,
           1,
           -1,
           -1,
           -1,
           -1,
           1,
           1,
           1,
           -1,
           1,
           1,
           -1,
           1,
           -1,
           1,
           1,
           -1,
           1,
           -1,
           1,
           1,
           -1,
           -1,
           -1,
           1,
           1,
           1,
           -1,
           -1,
           1,
           1,
           -1,
           1,
           1,
           -1,
           -1,
           1,
           -1,
           1,
           -1,
           1,
           1,
           -1,
           -1,
           1,
           1,
           -1,
           1,
           -1,
           1,
           -1,
           -1,
           -1,
           -1,
           1,
           1,
           -1,
           1,
           -1,
           -1,
           1,
           1,
           -1,
           -1,
           1,
           -1,
           1,
           1,
           -1,
           -1,
           -1,
           1,
           1,
           1,
           -1,
           1,
           -1,
           1,
           -1,
           -1,
           -1,
           1,
           1,
           -1,
           1,
           1,
           -1,
           -1,
           1,
           -1
          ],
          "colorscale": [
           [
            0,
            "rgb(103,0,31)"
           ],
           [
            0.1,
            "rgb(178,24,43)"
           ],
           [
            0.2,
            "rgb(214,96,77)"
           ],
           [
            0.3,
            "rgb(244,165,130)"
           ],
           [
            0.4,
            "rgb(253,219,199)"
           ],
           [
            0.5,
            "rgb(247,247,247)"
           ],
           [
            0.6,
            "rgb(209,229,240)"
           ],
           [
            0.7,
            "rgb(146,197,222)"
           ],
           [
            0.8,
            "rgb(67,147,195)"
           ],
           [
            0.9,
            "rgb(33,102,172)"
           ],
           [
            1,
            "rgb(5,48,97)"
           ]
          ],
          "size": 10
         },
         "mode": "markers",
         "showlegend": false,
         "type": "scatter",
         "x": [
          0.9725536577231977,
          0.019491049943163086,
          -0.3261625445080729,
          -0.44704571369240087,
          0.7243178709197058,
          -0.7182255102951693,
          0.47264983630721646,
          -0.31781396697724795,
          -0.565798722491812,
          -0.7516424445485406,
          0.9064277463414698,
          0.1388261937606614,
          0.006734121920556335,
          -0.9316170039712195,
          -0.6882972744358813,
          -0.6605951231951612,
          -0.25321248465679247,
          0.7166331758358033,
          0.16692339546489388,
          -0.6444147596206389,
          -0.11525483630306499,
          0.527841432578291,
          -0.8588531457788544,
          0.27378846393161993,
          -0.6161425732957695,
          0.02684041567968065,
          0.19804003738063058,
          -0.3982750111338085,
          0.1286401175491414,
          0.6060552843619602,
          -0.07723144822941297,
          0.499331276215482,
          -0.03437974727725113,
          0.7885662075787618,
          0.47568692224591014,
          -0.5385317172343462,
          0.22831624369129289,
          -0.40135550815460563,
          0.905104871218934,
          -0.8442755283476089,
          0.15309623387915106,
          0.988917399364774,
          0.6816896655867875,
          0.7433749682985351,
          -0.10159106198342616,
          0.9579562655376166,
          -0.10553833260813805,
          0.8634587601578927,
          0.8646555861368634,
          -0.6786431513210474,
          -0.46142268529323727,
          -0.4091181302825009,
          -0.4549134086153268,
          0.8337228110526111,
          0.8004441207624269,
          -0.9180952510329765,
          0.40158629051602635,
          0.10569156374004929,
          0.7078626116057507,
          -0.0951711863660667,
          0.26123965422988493,
          -0.2594878980626407,
          0.5183687857405443,
          -0.44194373083525007,
          -0.600166021957854,
          -0.5942531154432378,
          -0.25600910908792085,
          -0.8008364200053788,
          0.8515459862364703,
          -0.5552556135718028,
          0.8910818346697007,
          -0.3426447025396766,
          0.41136619414680053,
          -0.010050984353052295,
          0.12286427521441179,
          0.15762317907372148,
          -0.6092157333802137,
          0.41428631222104184,
          -0.5063273344072228,
          -0.831930791725936,
          0.4325846429737308,
          -0.9039483562432415,
          -0.6073914050418245,
          0.11828607010210024,
          -0.3201401681958016,
          0.023528624464017822,
          0.758340653368589,
          -0.001971932281604527,
          -0.757487383023058,
          0.20161134225810917,
          -0.526803710381774,
          0.96964443267549,
          -0.9140114545275728,
          0.47924836079278155,
          0.20917758459864522,
          -0.8232881330225967,
          0.33553842636723363,
          -0.825269211928825,
          0.9395001749451066,
          -0.528915419073273,
          -0.7275440258990524,
          -0.46082309953378586,
          -0.2865408436230812,
          0.17254979366903855,
          0.4578281510680873,
          -0.6856145842084127,
          0.3055232405894468,
          0.39364841389050476,
          -0.5766406693484727,
          -0.08177753137562571,
          0.7385054711973713,
          0.7338988709571135,
          0.0950658181408961,
          -0.551288651921608,
          0.6547346014519084,
          0.04913052003556362,
          0.6837540895908267,
          -0.08149309336160449,
          0.024244114427812713,
          -0.6084849441037941,
          0.7497215223686391,
          -0.8643797949389376,
          0.4551305920714366,
          0.6267271763217697,
          0.11311305879994382,
          0.4607340345486166,
          -0.23603890403983963,
          0.27095706265079467
         ],
         "y": [
          0.7467838916413092,
          -0.4563285714358485,
          -0.5660914699661515,
          -0.3133688144410849,
          -0.6866006599810228,
          0.5141605612813767,
          -0.2886738167284366,
          0.3336061011066529,
          0.12285396486587463,
          -0.36052703109294426,
          -0.7252864184044392,
          0.951330965846412,
          0.3353284122962119,
          -0.08776126737914058,
          -0.047902067002260074,
          0.792516674480342,
          -0.24061413905049656,
          0.29212210976951436,
          0.3367000536776703,
          0.6984960336357258,
          0.6629354195428565,
          0.8393819531399234,
          -0.6876691671210882,
          0.11139137486249662,
          -0.14868803469344027,
          -0.46124482853952586,
          -0.5596521097365512,
          -0.9032110318751712,
          0.8720644097439192,
          0.3946102986918616,
          0.32486922204759705,
          0.0629097846715081,
          -0.9414515340041523,
          0.6630641672828721,
          0.7969945967864307,
          -0.6400789804859051,
          -0.9666610359390004,
          0.3370817554741512,
          0.6324140243417036,
          -0.7307741424390188,
          -0.6454427515091816,
          -0.7652502648459365,
          -0.9719465403076488,
          0.8048134902198818,
          0.23636395135039812,
          -0.2054430316331246,
          -0.5334800404445439,
          -0.45439506256501216,
          -0.17353900642070808,
          -0.06239494378065569,
          0.8885371441251959,
          -0.6968802958634406,
          0.7299621780755394,
          0.49956118838576424,
          -0.9551873695287953,
          0.7971060225690321,
          0.3386941058827615,
          0.4454833239172371,
          0.21803714974217692,
          -0.40668094421936885,
          0.014069691027228881,
          -0.7235733083376845,
          0.9179563995129252,
          0.4616088042949624,
          0.2875386363165633,
          -0.8991169853869507,
          -0.9718145894630112,
          0.9986982113334157,
          0.6298061105219981,
          -0.8051498448803929,
          0.5242700527225772,
          0.8519153764091825,
          -0.8864115557156702,
          -0.21038713262498665,
          0.46220997701455047,
          -0.9241192629180921,
          0.3322685164786827,
          -0.36390649398569397,
          0.6769104884470312,
          0.5125929008898573,
          -0.10394313895011908,
          0.34583687442525646,
          0.8879009117188754,
          0.662663270691388,
          -0.5876643165013586,
          0.9815757231941034,
          -0.8095957583356086,
          0.20412673004798854,
          -0.2078590681273509,
          -0.07895601153470366,
          -0.7882805690318808,
          -0.9868691348997252,
          0.5001637764123068,
          0.9980899752666152,
          -0.6859758692237552,
          0.705125845682028,
          -0.41442350224753355,
          -0.3737291924806321,
          0.6237848987895114,
          -0.1377166217529011,
          -0.8273161933406503,
          -0.6602784251292135,
          0.8702481457576814,
          -0.5413543691593758,
          0.41998167505923734,
          0.4195074439500295,
          -0.06372191839351271,
          -0.16567415060208135,
          -0.4600386908189473,
          0.2488850534088871,
          0.6172641530025427,
          0.12414983656260947,
          -0.3893671299413666,
          -0.05606682092420123,
          -0.7179716345549318,
          0.19117233377926945,
          -0.28238312533838283,
          -0.41261832868797343,
          -0.7441905883541504,
          0.14516805031369695,
          0.6847444864341203,
          -0.37961078026273043,
          0.7892530045999011,
          0.3423847537375695,
          0.22800802602497483,
          -0.8084553708007709,
          -0.11950362927742897,
          -0.6228872650103252
         ]
        },
        {
         "colorscale": [
          [
           0,
           "rgb(103,0,31)"
          ],
          [
           0.1,
           "rgb(178,24,43)"
          ],
          [
           0.2,
           "rgb(214,96,77)"
          ],
          [
           0.3,
           "rgb(244,165,130)"
          ],
          [
           0.4,
           "rgb(253,219,199)"
          ],
          [
           0.5,
           "rgb(247,247,247)"
          ],
          [
           0.6,
           "rgb(209,229,240)"
          ],
          [
           0.7,
           "rgb(146,197,222)"
          ],
          [
           0.8,
           "rgb(67,147,195)"
          ],
          [
           0.9,
           "rgb(33,102,172)"
          ],
          [
           1,
           "rgb(5,48,97)"
          ]
         ],
         "type": "contour",
         "x": [
          -2,
          -1.7894736842105263,
          -1.5789473684210527,
          -1.368421052631579,
          -1.1578947368421053,
          -0.9473684210526316,
          -0.736842105263158,
          -0.5263157894736843,
          -0.3157894736842106,
          -0.10526315789473695,
          0.10526315789473673,
          0.3157894736842106,
          0.5263157894736841,
          0.7368421052631575,
          0.9473684210526314,
          1.1578947368421053,
          1.3684210526315788,
          1.5789473684210522,
          1.789473684210526,
          2
         ],
         "y": [
          -1.5,
          -1.3421052631578947,
          -1.1842105263157894,
          -1.0263157894736843,
          -0.868421052631579,
          -0.7105263157894737,
          -0.5526315789473685,
          -0.3947368421052632,
          -0.23684210526315796,
          -0.07894736842105271,
          0.07894736842105254,
          0.23684210526315796,
          0.39473684210526305,
          0.5526315789473681,
          0.7105263157894736,
          0.868421052631579,
          1.026315789473684,
          1.1842105263157892,
          1.3421052631578947,
          1.5
         ],
         "z": [
          [
           -4.332727888528386,
           -4.312510194127233,
           -4.292292499726076,
           -4.272074805324921,
           -4.251857110923763,
           -4.2316394165226106,
           -4.211421722121459,
           -4.191204027720302,
           -4.170986333319149,
           -4.150768638917994,
           -4.13055094451684,
           -4.110333250115686,
           -4.090115555714532,
           -4.069897861313377,
           -4.049680166912224,
           -4.02946247251107,
           -4.009244778109914,
           -3.9890270837087605,
           -3.9688093893076073,
           -3.9485916949064523
          ],
          [
           -3.887553276815577,
           -3.8673355824144227,
           -3.8471178880132686,
           -3.8269001936121145,
           -3.806682499210963,
           -3.7864648048098073,
           -3.7662471104086523,
           -3.746029416007498,
           -3.725811721606343,
           -3.705594027205189,
           -3.6853763328040348,
           -3.66515863840288,
           -3.6449409440017253,
           -3.6247232496005717,
           -3.6045055551994176,
           -3.5842878607982636,
           -3.5640701663971077,
           -3.5438524719959554,
           -3.5236347775947983,
           -3.503417083193644
          ],
          [
           -3.442378665102772,
           -3.422160970701618,
           -3.401943276300464,
           -3.3817255818993095,
           -3.3615078874981523,
           -3.3412901930970005,
           -3.321072498695845,
           -3.300854804294691,
           -3.280637109893537,
           -3.260419415492383,
           -3.2402017210912284,
           -3.219984026690073,
           -3.19976633228892,
           -3.179548637887765,
           -3.1593309434866126,
           -3.1391132490854567,
           -3.1188955546843022,
           -3.098677860283147,
           -3.0784601658819946,
           -3.0582424714808405
          ],
          [
           -2.9972040533899644,
           -2.9769863589888117,
           -2.9567686645876585,
           -2.936550970186503,
           -2.9163332757853486,
           -2.8961155813841954,
           -2.8758978869830396,
           -2.8556801925818855,
           -2.8354624981807324,
           -2.8152448037795774,
           -2.7950271093784234,
           -2.7748094149772684,
           -2.7545917205761135,
           -2.73437402617496,
           -2.714156331773806,
           -2.6939386373726513,
           -2.6737209429714968,
           -2.653503248570343,
           -2.6332855541691886,
           -2.613067859768034
          ],
          [
           -2.5520294416771594,
           -2.5318117472760053,
           -2.511594052874853,
           -2.4913763584736994,
           -2.4711586640725427,
           -2.450940969671388,
           -2.430723275270233,
           -2.4105055808690796,
           -2.3902878864679256,
           -2.3700701920667715,
           -2.3498524976656157,
           -2.3296348032644616,
           -2.309417108863308,
           -2.289199414462153,
           -2.2689817200609994,
           -2.248764025659845,
           -2.228546331258691,
           -2.208328636857536,
           -2.188110942456383,
           -2.1678932480552264
          ],
          [
           -2.106854829964353,
           -2.086637135563199,
           -2.066419441162046,
           -2.046201746760891,
           -2.0259840523597368,
           -2.0057663579585827,
           -1.9855486635574273,
           -1.9653309691562733,
           -1.9451132747551196,
           -1.9248955803539656,
           -1.9046778859528102,
           -1.8844601915516561,
           -1.8642424971505025,
           -1.8440248027493467,
           -1.8238071083481922,
           -1.803589413947039,
           -1.7833717195458845,
           -1.7631540251447295,
           -1.7429363307435768,
           -1.72271863634242
          ],
          [
           -1.6616802182515489,
           -1.6414625238503948,
           -1.6212448294492394,
           -1.6010271350480862,
           -1.58080944064693,
           -1.5605917462457755,
           -1.5403740518446214,
           -1.5201563574434678,
           -1.4999386630423133,
           -1.4797209686411592,
           -1.4595032742400051,
           -1.4392855798388502,
           -1.4190678854376961,
           -1.398850191036542,
           -1.3786324966353867,
           -1.3584148022342335,
           -1.3381971078330785,
           -1.3179794134319254,
           -1.2977617190307704,
           -1.2775440246296155
          ],
          [
           -1.2165056065387407,
           -1.1962879121375871,
           -1.176070217736433,
           -1.1558525233352799,
           -1.135634828934124,
           -1.1154171345329709,
           -1.095199440131816,
           -1.0749817457306623,
           -1.0547640513295078,
           -1.0345463569283528,
           -1.0143286625271988,
           -0.9941109681260444,
           -0.9738932737248899,
           -0.9536755793237351,
           -0.9334578849225815,
           -0.9132401905214279,
           -0.8930224961202725,
           -0.8728048017191182,
           -0.8525871073179639,
           -0.8323694129168101
          ],
          [
           -0.7713309948259351,
           -0.7511133004247819,
           -0.7308956060236279,
           -0.7106779116224734,
           -0.6904602172213182,
           -0.6702425228201642,
           -0.6500248284190093,
           -0.6298071340178555,
           -0.6095894396167016,
           -0.5893717452155471,
           -0.5691540508143926,
           -0.548936356413238,
           -0.5287186620120838,
           -0.5085009676109301,
           -0.4882832732097754,
           -0.4680655788086213,
           -0.4478478844074669,
           -0.4276301900063124,
           -0.40741249560515763,
           -0.38719480120400196
          ],
          [
           -0.3261563831131292,
           -0.30593868871197505,
           -0.2857209943108225,
           -0.26550329990966687,
           -0.24528560550851103,
           -0.22506791110735858,
           -0.20485021670620385,
           -0.18463252230505012,
           -0.16441482790389572,
           -0.1441971335027411,
           -0.12397943910158662,
           -0.10376174470043242,
           -0.08354405029927808,
           -0.06332635589812388,
           -0.04310866149696943,
           -0.022890967095815784,
           -0.0026732726946604446,
           0.017544421706494173,
           0.03776211610764785,
           0.0579798105088033
          ],
          [
           0.11901822859967404,
           0.13923592300083065,
           0.15945361740198344,
           0.1796713118031384,
           0.19988900620429345,
           0.22010670060544751,
           0.24032439500660102,
           0.2605420894077558,
           0.28075978380891053,
           0.3009774782100649,
           0.3211951726112191,
           0.3414128670123736,
           0.3616305614135282,
           0.3818482558146821,
           0.40206595021583696,
           0.422283644616991,
           0.44250133901814415,
           0.462719033419299,
           0.4829367278204542,
           0.5031544222216079
          ],
          [
           0.5641928403124806,
           0.5844105347136366,
           0.6046282291147896,
           0.6248459235159455,
           0.6450636179171,
           0.6652813123182546,
           0.6854990067194084,
           0.7057167011205626,
           0.7259343955217167,
           0.7461520899228711,
           0.7663697843240255,
           0.7865874787251803,
           0.8068051731263349,
           0.827022867527489,
           0.8472405619286428,
           0.8674582563297969,
           0.887675950730951,
           0.9078936451321082,
           0.9281113395332595,
           0.9483290339344138
          ],
          [
           1.0093674520252875,
           1.0295851464264412,
           1.0498028408275961,
           1.0700205352287497,
           1.0902382296299056,
           1.1104559240310596,
           1.1306736184322141,
           1.1508913128333682,
           1.1711090072345223,
           1.1913267016356768,
           1.2115443960368313,
           1.2317620904379858,
           1.2519797848391403,
           1.2721974792402944,
           1.2924151736414484,
           1.3126328680426007,
           1.332850562443757,
           1.3530682568449128,
           1.3732859512460656,
           1.3935036456472192
          ],
          [
           1.4545420637380935,
           1.4747597581392466,
           1.4949774525404012,
           1.5151951469415557,
           1.535412841342712,
           1.5556305357438647,
           1.5758482301450192,
           1.5960659245461741,
           1.6162836189473277,
           1.6365013133484818,
           1.6567190077496372,
           1.6769367021507917,
           1.6971543965519453,
           1.7173720909531007,
           1.737589785354254,
           1.7578074797554084,
           1.778025174156562,
           1.7982428685577165,
           1.818460562958871,
           1.838678257360025
          ],
          [
           1.899716675450899,
           1.9199343698520535,
           1.940152064253207,
           1.960369758654362,
           1.9805874530555174,
           2.0008051474566715,
           2.0210228418578255,
           2.0412405362589796,
           2.061458230660135,
           2.0816759250612886,
           2.101893619462443,
           2.122111313863597,
           2.1423290082647513,
           2.162546702665906,
           2.1827643970670603,
           2.2029820914682148,
           2.223199785869369,
           2.243417480270523,
           2.2636351746716765,
           2.283852869072832
          ],
          [
           2.344891287163705,
           2.3651089815648607,
           2.385326675966014,
           2.405544370367169,
           2.4257620647683233,
           2.4459797591694774,
           2.466197453570632,
           2.486415147971786,
           2.50663284237294,
           2.5268505367740954,
           2.54706823117525,
           2.567285925576404,
           2.5875036199775567,
           2.6077213143787126,
           2.6279390087798675,
           2.648156703181021,
           2.668374397582175,
           2.6885920919833293,
           2.7088097863844838,
           2.729027480785638
          ],
          [
           2.790065898876512,
           2.810283593277666,
           2.8305012876788203,
           2.850718982079973,
           2.8709366764811293,
           2.8911543708822838,
           2.911372065283438,
           2.931589759684592,
           2.951807454085746,
           2.972025148486901,
           2.9922428428880554,
           3.01246053728921,
           3.0326782316903635,
           3.052895926091517,
           3.0731136204926726,
           3.093331314893827,
           3.1135490092949816,
           3.1337667036961343,
           3.1539843980972893,
           3.1742020924984446
          ],
          [
           3.235240510589318,
           3.25545820499047,
           3.2756758993916235,
           3.2958935937927794,
           3.3161112881939347,
           3.336328982595088,
           3.356546676996242,
           3.376764371397398,
           3.396982065798552,
           3.417199760199706,
           3.4374174546008613,
           3.4576351490020154,
           3.4778528434031677,
           3.498070537804324,
           3.5182882322054794,
           3.5385059266066308,
           3.558723621007786,
           3.5789413154089433,
           3.5991590098100965,
           3.619376704211249
          ],
          [
           3.6804151223021226,
           3.700632816703277,
           3.7208505111044334,
           3.741068205505586,
           3.761285899906742,
           3.781503594307895,
           3.8017212887090492,
           3.8219389831102037,
           3.8421566775113583,
           3.8623743719125123,
           3.882592066313668,
           3.9028097607148213,
           3.9230274551159745,
           3.943245149517131,
           3.963462843918285,
           3.9836805383194416,
           4.003898232720593,
           4.0241159271217475,
           4.0443336215229015,
           4.064551315924056
          ],
          [
           4.125589734014931,
           4.145807428416084,
           4.16602512281724,
           4.1862428172183925,
           4.206460511619549,
           4.226678206020702,
           4.2468959004218565,
           4.2671135948230114,
           4.2873312892241655,
           4.30754898362532,
           4.327766678026474,
           4.347984372427629,
           4.368202066828783,
           4.388419761229935,
           4.408637455631089,
           4.428855150032242,
           4.4490728444334,
           4.4692905388345565,
           4.489508233235712,
           4.5097259276368655
          ]
         ]
        },
        {
         "mode": "lines",
         "showlegend": false,
         "type": "scatter",
         "x": [
          -1,
          -0.935483870967742,
          -0.8709677419354839,
          -0.8064516129032258,
          -0.7419354838709677,
          -0.6774193548387097,
          -0.6129032258064516,
          -0.5483870967741935,
          -0.4838709677419355,
          -0.4193548387096775,
          -0.3548387096774194,
          -0.29032258064516125,
          -0.22580645161290325,
          -0.16129032258064524,
          -0.09677419354838712,
          -0.032258064516129004,
          0.032258064516129004,
          0.09677419354838701,
          0.16129032258064502,
          0.22580645161290325,
          0.29032258064516125,
          0.35483870967741926,
          0.4193548387096775,
          0.4838709677419355,
          0.5483870967741935,
          0.6129032258064515,
          0.6774193548387095,
          0.7419354838709677,
          0.8064516129032258,
          0.8709677419354838,
          0.935483870967742,
          1
         ],
         "y": [
          0.4794621373315692,
          0.4996943124756602,
          0.4683784955424315,
          0.3887451965514415,
          0.26900931121591354,
          0.12152268008025488,
          -0.03850011565362892,
          -0.19455127591530402,
          -0.3305327107886136,
          -0.43241670422295087,
          -0.48969299993715243,
          -0.49645302950452086,
          -0.45199943467646087,
          -0.36091800619902337,
          -0.23260461798216914,
          -0.08029595764486853,
          0.08029595764486853,
          0.23260461798216892,
          0.360918006199023,
          0.45199943467646087,
          0.49645302950452086,
          0.4896929999371525,
          0.43241670422295087,
          0.3305327107886136,
          0.19455127591530402,
          0.038500115653629145,
          -0.12152268008025423,
          -0.26900931121591354,
          -0.3887451965514415,
          -0.4683784955424315,
          -0.4996943124756602,
          -0.4794621373315692
         ]
        }
       ],
       "layout": {
        "template": {
         "data": {
          "bar": [
           {
            "error_x": {
             "color": "#2a3f5f"
            },
            "error_y": {
             "color": "#2a3f5f"
            },
            "marker": {
             "line": {
              "color": "#E5ECF6",
              "width": 0.5
             }
            },
            "type": "bar"
           }
          ],
          "barpolar": [
           {
            "marker": {
             "line": {
              "color": "#E5ECF6",
              "width": 0.5
             }
            },
            "type": "barpolar"
           }
          ],
          "carpet": [
           {
            "aaxis": {
             "endlinecolor": "#2a3f5f",
             "gridcolor": "white",
             "linecolor": "white",
             "minorgridcolor": "white",
             "startlinecolor": "#2a3f5f"
            },
            "baxis": {
             "endlinecolor": "#2a3f5f",
             "gridcolor": "white",
             "linecolor": "white",
             "minorgridcolor": "white",
             "startlinecolor": "#2a3f5f"
            },
            "type": "carpet"
           }
          ],
          "choropleth": [
           {
            "colorbar": {
             "outlinewidth": 0,
             "ticks": ""
            },
            "type": "choropleth"
           }
          ],
          "contour": [
           {
            "colorbar": {
             "outlinewidth": 0,
             "ticks": ""
            },
            "colorscale": [
             [
              0,
              "#0d0887"
             ],
             [
              0.1111111111111111,
              "#46039f"
             ],
             [
              0.2222222222222222,
              "#7201a8"
             ],
             [
              0.3333333333333333,
              "#9c179e"
             ],
             [
              0.4444444444444444,
              "#bd3786"
             ],
             [
              0.5555555555555556,
              "#d8576b"
             ],
             [
              0.6666666666666666,
              "#ed7953"
             ],
             [
              0.7777777777777778,
              "#fb9f3a"
             ],
             [
              0.8888888888888888,
              "#fdca26"
             ],
             [
              1,
              "#f0f921"
             ]
            ],
            "type": "contour"
           }
          ],
          "contourcarpet": [
           {
            "colorbar": {
             "outlinewidth": 0,
             "ticks": ""
            },
            "type": "contourcarpet"
           }
          ],
          "heatmap": [
           {
            "colorbar": {
             "outlinewidth": 0,
             "ticks": ""
            },
            "colorscale": [
             [
              0,
              "#0d0887"
             ],
             [
              0.1111111111111111,
              "#46039f"
             ],
             [
              0.2222222222222222,
              "#7201a8"
             ],
             [
              0.3333333333333333,
              "#9c179e"
             ],
             [
              0.4444444444444444,
              "#bd3786"
             ],
             [
              0.5555555555555556,
              "#d8576b"
             ],
             [
              0.6666666666666666,
              "#ed7953"
             ],
             [
              0.7777777777777778,
              "#fb9f3a"
             ],
             [
              0.8888888888888888,
              "#fdca26"
             ],
             [
              1,
              "#f0f921"
             ]
            ],
            "type": "heatmap"
           }
          ],
          "heatmapgl": [
           {
            "colorbar": {
             "outlinewidth": 0,
             "ticks": ""
            },
            "colorscale": [
             [
              0,
              "#0d0887"
             ],
             [
              0.1111111111111111,
              "#46039f"
             ],
             [
              0.2222222222222222,
              "#7201a8"
             ],
             [
              0.3333333333333333,
              "#9c179e"
             ],
             [
              0.4444444444444444,
              "#bd3786"
             ],
             [
              0.5555555555555556,
              "#d8576b"
             ],
             [
              0.6666666666666666,
              "#ed7953"
             ],
             [
              0.7777777777777778,
              "#fb9f3a"
             ],
             [
              0.8888888888888888,
              "#fdca26"
             ],
             [
              1,
              "#f0f921"
             ]
            ],
            "type": "heatmapgl"
           }
          ],
          "histogram": [
           {
            "marker": {
             "colorbar": {
              "outlinewidth": 0,
              "ticks": ""
             }
            },
            "type": "histogram"
           }
          ],
          "histogram2d": [
           {
            "colorbar": {
             "outlinewidth": 0,
             "ticks": ""
            },
            "colorscale": [
             [
              0,
              "#0d0887"
             ],
             [
              0.1111111111111111,
              "#46039f"
             ],
             [
              0.2222222222222222,
              "#7201a8"
             ],
             [
              0.3333333333333333,
              "#9c179e"
             ],
             [
              0.4444444444444444,
              "#bd3786"
             ],
             [
              0.5555555555555556,
              "#d8576b"
             ],
             [
              0.6666666666666666,
              "#ed7953"
             ],
             [
              0.7777777777777778,
              "#fb9f3a"
             ],
             [
              0.8888888888888888,
              "#fdca26"
             ],
             [
              1,
              "#f0f921"
             ]
            ],
            "type": "histogram2d"
           }
          ],
          "histogram2dcontour": [
           {
            "colorbar": {
             "outlinewidth": 0,
             "ticks": ""
            },
            "colorscale": [
             [
              0,
              "#0d0887"
             ],
             [
              0.1111111111111111,
              "#46039f"
             ],
             [
              0.2222222222222222,
              "#7201a8"
             ],
             [
              0.3333333333333333,
              "#9c179e"
             ],
             [
              0.4444444444444444,
              "#bd3786"
             ],
             [
              0.5555555555555556,
              "#d8576b"
             ],
             [
              0.6666666666666666,
              "#ed7953"
             ],
             [
              0.7777777777777778,
              "#fb9f3a"
             ],
             [
              0.8888888888888888,
              "#fdca26"
             ],
             [
              1,
              "#f0f921"
             ]
            ],
            "type": "histogram2dcontour"
           }
          ],
          "mesh3d": [
           {
            "colorbar": {
             "outlinewidth": 0,
             "ticks": ""
            },
            "type": "mesh3d"
           }
          ],
          "parcoords": [
           {
            "line": {
             "colorbar": {
              "outlinewidth": 0,
              "ticks": ""
             }
            },
            "type": "parcoords"
           }
          ],
          "pie": [
           {
            "automargin": true,
            "type": "pie"
           }
          ],
          "scatter": [
           {
            "marker": {
             "colorbar": {
              "outlinewidth": 0,
              "ticks": ""
             }
            },
            "type": "scatter"
           }
          ],
          "scatter3d": [
           {
            "line": {
             "colorbar": {
              "outlinewidth": 0,
              "ticks": ""
             }
            },
            "marker": {
             "colorbar": {
              "outlinewidth": 0,
              "ticks": ""
             }
            },
            "type": "scatter3d"
           }
          ],
          "scattercarpet": [
           {
            "marker": {
             "colorbar": {
              "outlinewidth": 0,
              "ticks": ""
             }
            },
            "type": "scattercarpet"
           }
          ],
          "scattergeo": [
           {
            "marker": {
             "colorbar": {
              "outlinewidth": 0,
              "ticks": ""
             }
            },
            "type": "scattergeo"
           }
          ],
          "scattergl": [
           {
            "marker": {
             "colorbar": {
              "outlinewidth": 0,
              "ticks": ""
             }
            },
            "type": "scattergl"
           }
          ],
          "scattermapbox": [
           {
            "marker": {
             "colorbar": {
              "outlinewidth": 0,
              "ticks": ""
             }
            },
            "type": "scattermapbox"
           }
          ],
          "scatterpolar": [
           {
            "marker": {
             "colorbar": {
              "outlinewidth": 0,
              "ticks": ""
             }
            },
            "type": "scatterpolar"
           }
          ],
          "scatterpolargl": [
           {
            "marker": {
             "colorbar": {
              "outlinewidth": 0,
              "ticks": ""
             }
            },
            "type": "scatterpolargl"
           }
          ],
          "scatterternary": [
           {
            "marker": {
             "colorbar": {
              "outlinewidth": 0,
              "ticks": ""
             }
            },
            "type": "scatterternary"
           }
          ],
          "surface": [
           {
            "colorbar": {
             "outlinewidth": 0,
             "ticks": ""
            },
            "colorscale": [
             [
              0,
              "#0d0887"
             ],
             [
              0.1111111111111111,
              "#46039f"
             ],
             [
              0.2222222222222222,
              "#7201a8"
             ],
             [
              0.3333333333333333,
              "#9c179e"
             ],
             [
              0.4444444444444444,
              "#bd3786"
             ],
             [
              0.5555555555555556,
              "#d8576b"
             ],
             [
              0.6666666666666666,
              "#ed7953"
             ],
             [
              0.7777777777777778,
              "#fb9f3a"
             ],
             [
              0.8888888888888888,
              "#fdca26"
             ],
             [
              1,
              "#f0f921"
             ]
            ],
            "type": "surface"
           }
          ],
          "table": [
           {
            "cells": {
             "fill": {
              "color": "#EBF0F8"
             },
             "line": {
              "color": "white"
             }
            },
            "header": {
             "fill": {
              "color": "#C8D4E3"
             },
             "line": {
              "color": "white"
             }
            },
            "type": "table"
           }
          ]
         },
         "layout": {
          "annotationdefaults": {
           "arrowcolor": "#2a3f5f",
           "arrowhead": 0,
           "arrowwidth": 1
          },
          "coloraxis": {
           "colorbar": {
            "outlinewidth": 0,
            "ticks": ""
           }
          },
          "colorscale": {
           "diverging": [
            [
             0,
             "#8e0152"
            ],
            [
             0.1,
             "#c51b7d"
            ],
            [
             0.2,
             "#de77ae"
            ],
            [
             0.3,
             "#f1b6da"
            ],
            [
             0.4,
             "#fde0ef"
            ],
            [
             0.5,
             "#f7f7f7"
            ],
            [
             0.6,
             "#e6f5d0"
            ],
            [
             0.7,
             "#b8e186"
            ],
            [
             0.8,
             "#7fbc41"
            ],
            [
             0.9,
             "#4d9221"
            ],
            [
             1,
             "#276419"
            ]
           ],
           "sequential": [
            [
             0,
             "#0d0887"
            ],
            [
             0.1111111111111111,
             "#46039f"
            ],
            [
             0.2222222222222222,
             "#7201a8"
            ],
            [
             0.3333333333333333,
             "#9c179e"
            ],
            [
             0.4444444444444444,
             "#bd3786"
            ],
            [
             0.5555555555555556,
             "#d8576b"
            ],
            [
             0.6666666666666666,
             "#ed7953"
            ],
            [
             0.7777777777777778,
             "#fb9f3a"
            ],
            [
             0.8888888888888888,
             "#fdca26"
            ],
            [
             1,
             "#f0f921"
            ]
           ],
           "sequentialminus": [
            [
             0,
             "#0d0887"
            ],
            [
             0.1111111111111111,
             "#46039f"
            ],
            [
             0.2222222222222222,
             "#7201a8"
            ],
            [
             0.3333333333333333,
             "#9c179e"
            ],
            [
             0.4444444444444444,
             "#bd3786"
            ],
            [
             0.5555555555555556,
             "#d8576b"
            ],
            [
             0.6666666666666666,
             "#ed7953"
            ],
            [
             0.7777777777777778,
             "#fb9f3a"
            ],
            [
             0.8888888888888888,
             "#fdca26"
            ],
            [
             1,
             "#f0f921"
            ]
           ]
          },
          "colorway": [
           "#636efa",
           "#EF553B",
           "#00cc96",
           "#ab63fa",
           "#FFA15A",
           "#19d3f3",
           "#FF6692",
           "#B6E880",
           "#FF97FF",
           "#FECB52"
          ],
          "font": {
           "color": "#2a3f5f"
          },
          "geo": {
           "bgcolor": "white",
           "lakecolor": "white",
           "landcolor": "#E5ECF6",
           "showlakes": true,
           "showland": true,
           "subunitcolor": "white"
          },
          "hoverlabel": {
           "align": "left"
          },
          "hovermode": "closest",
          "mapbox": {
           "style": "light"
          },
          "paper_bgcolor": "white",
          "plot_bgcolor": "#E5ECF6",
          "polar": {
           "angularaxis": {
            "gridcolor": "white",
            "linecolor": "white",
            "ticks": ""
           },
           "bgcolor": "#E5ECF6",
           "radialaxis": {
            "gridcolor": "white",
            "linecolor": "white",
            "ticks": ""
           }
          },
          "scene": {
           "xaxis": {
            "backgroundcolor": "#E5ECF6",
            "gridcolor": "white",
            "gridwidth": 2,
            "linecolor": "white",
            "showbackground": true,
            "ticks": "",
            "zerolinecolor": "white"
           },
           "yaxis": {
            "backgroundcolor": "#E5ECF6",
            "gridcolor": "white",
            "gridwidth": 2,
            "linecolor": "white",
            "showbackground": true,
            "ticks": "",
            "zerolinecolor": "white"
           },
           "zaxis": {
            "backgroundcolor": "#E5ECF6",
            "gridcolor": "white",
            "gridwidth": 2,
            "linecolor": "white",
            "showbackground": true,
            "ticks": "",
            "zerolinecolor": "white"
           }
          },
          "shapedefaults": {
           "line": {
            "color": "#2a3f5f"
           }
          },
          "ternary": {
           "aaxis": {
            "gridcolor": "white",
            "linecolor": "white",
            "ticks": ""
           },
           "baxis": {
            "gridcolor": "white",
            "linecolor": "white",
            "ticks": ""
           },
           "bgcolor": "#E5ECF6",
           "caxis": {
            "gridcolor": "white",
            "linecolor": "white",
            "ticks": ""
           }
          },
          "title": {
           "x": 0.05
          },
          "xaxis": {
           "automargin": true,
           "gridcolor": "white",
           "linecolor": "white",
           "ticks": "",
           "title": {
            "standoff": 15
           },
           "zerolinecolor": "white",
           "zerolinewidth": 2
          },
          "yaxis": {
           "automargin": true,
           "gridcolor": "white",
           "linecolor": "white",
           "ticks": "",
           "title": {
            "standoff": 15
           },
           "zerolinecolor": "white",
           "zerolinewidth": 2
          }
         }
        },
        "title": {
         "text": "Decision function"
        },
        "width": 600
       }
      },
      "text/html": [
       "<div>\n",
       "        \n",
       "        \n",
       "            <div id=\"6607c956-a5f7-4028-82ca-5c09926984e4\" class=\"plotly-graph-div\" style=\"height:525px; width:600px;\"></div>\n",
       "            <script type=\"text/javascript\">\n",
       "                require([\"plotly\"], function(Plotly) {\n",
       "                    window.PLOTLYENV=window.PLOTLYENV || {};\n",
       "                    \n",
       "                if (document.getElementById(\"6607c956-a5f7-4028-82ca-5c09926984e4\")) {\n",
       "                    Plotly.newPlot(\n",
       "                        '6607c956-a5f7-4028-82ca-5c09926984e4',\n",
       "                        [{\"marker\": {\"color\": [1.0, -1.0, -1.0, 1.0, -1.0, 1.0, -1.0, 1.0, 1.0, -1.0, -1.0, 1.0, 1.0, -1.0, -1.0, 1.0, 1.0, 1.0, -1.0, 1.0, 1.0, 1.0, -1.0, -1.0, -1.0, -1.0, -1.0, -1.0, 1.0, 1.0, 1.0, -1.0, -1.0, 1.0, 1.0, -1.0, -1.0, 1.0, 1.0, -1.0, -1.0, -1.0, -1.0, 1.0, 1.0, 1.0, -1.0, 1.0, 1.0, -1.0, 1.0, -1.0, 1.0, 1.0, -1.0, 1.0, -1.0, 1.0, 1.0, -1.0, -1.0, -1.0, 1.0, 1.0, 1.0, -1.0, -1.0, 1.0, 1.0, -1.0, 1.0, 1.0, -1.0, -1.0, 1.0, -1.0, 1.0, -1.0, 1.0, 1.0, -1.0, -1.0, 1.0, 1.0, -1.0, 1.0, -1.0, 1.0, -1.0, -1.0, -1.0, -1.0, 1.0, 1.0, -1.0, 1.0, -1.0, -1.0, 1.0, 1.0, -1.0, -1.0, 1.0, -1.0, 1.0, 1.0, -1.0, -1.0, -1.0, 1.0, 1.0, 1.0, -1.0, 1.0, -1.0, 1.0, -1.0, -1.0, -1.0, 1.0, 1.0, -1.0, 1.0, 1.0, -1.0, -1.0, 1.0, -1.0], \"colorscale\": [[0.0, \"rgb(103,0,31)\"], [0.1, \"rgb(178,24,43)\"], [0.2, \"rgb(214,96,77)\"], [0.3, \"rgb(244,165,130)\"], [0.4, \"rgb(253,219,199)\"], [0.5, \"rgb(247,247,247)\"], [0.6, \"rgb(209,229,240)\"], [0.7, \"rgb(146,197,222)\"], [0.8, \"rgb(67,147,195)\"], [0.9, \"rgb(33,102,172)\"], [1.0, \"rgb(5,48,97)\"]], \"size\": 10}, \"mode\": \"markers\", \"showlegend\": false, \"type\": \"scatter\", \"x\": [0.9725536577231977, 0.019491049943163086, -0.3261625445080729, -0.44704571369240087, 0.7243178709197058, -0.7182255102951693, 0.47264983630721646, -0.31781396697724795, -0.565798722491812, -0.7516424445485406, 0.9064277463414698, 0.1388261937606614, 0.006734121920556335, -0.9316170039712195, -0.6882972744358813, -0.6605951231951612, -0.25321248465679247, 0.7166331758358033, 0.16692339546489388, -0.6444147596206389, -0.11525483630306499, 0.527841432578291, -0.8588531457788544, 0.27378846393161993, -0.6161425732957695, 0.02684041567968065, 0.19804003738063058, -0.3982750111338085, 0.1286401175491414, 0.6060552843619602, -0.07723144822941297, 0.499331276215482, -0.03437974727725113, 0.7885662075787618, 0.47568692224591014, -0.5385317172343462, 0.22831624369129289, -0.40135550815460563, 0.905104871218934, -0.8442755283476089, 0.15309623387915106, 0.988917399364774, 0.6816896655867875, 0.7433749682985351, -0.10159106198342616, 0.9579562655376166, -0.10553833260813805, 0.8634587601578927, 0.8646555861368634, -0.6786431513210474, -0.46142268529323727, -0.4091181302825009, -0.4549134086153268, 0.8337228110526111, 0.8004441207624269, -0.9180952510329765, 0.40158629051602635, 0.10569156374004929, 0.7078626116057507, -0.0951711863660667, 0.26123965422988493, -0.2594878980626407, 0.5183687857405443, -0.44194373083525007, -0.600166021957854, -0.5942531154432378, -0.25600910908792085, -0.8008364200053788, 0.8515459862364703, -0.5552556135718028, 0.8910818346697007, -0.3426447025396766, 0.41136619414680053, -0.010050984353052295, 0.12286427521441179, 0.15762317907372148, -0.6092157333802137, 0.41428631222104184, -0.5063273344072228, -0.831930791725936, 0.4325846429737308, -0.9039483562432415, -0.6073914050418245, 0.11828607010210024, -0.3201401681958016, 0.023528624464017822, 0.758340653368589, -0.001971932281604527, -0.757487383023058, 0.20161134225810917, -0.526803710381774, 0.96964443267549, -0.9140114545275728, 0.47924836079278155, 0.20917758459864522, -0.8232881330225967, 0.33553842636723363, -0.825269211928825, 0.9395001749451066, -0.528915419073273, -0.7275440258990524, -0.46082309953378586, -0.2865408436230812, 0.17254979366903855, 0.4578281510680873, -0.6856145842084127, 0.3055232405894468, 0.39364841389050476, -0.5766406693484727, -0.08177753137562571, 0.7385054711973713, 0.7338988709571135, 0.0950658181408961, -0.551288651921608, 0.6547346014519084, 0.04913052003556362, 0.6837540895908267, -0.08149309336160449, 0.024244114427812713, -0.6084849441037941, 0.7497215223686391, -0.8643797949389376, 0.4551305920714366, 0.6267271763217697, 0.11311305879994382, 0.4607340345486166, -0.23603890403983963, 0.27095706265079467], \"y\": [0.7467838916413092, -0.4563285714358485, -0.5660914699661515, -0.3133688144410849, -0.6866006599810228, 0.5141605612813767, -0.2886738167284366, 0.3336061011066529, 0.12285396486587463, -0.36052703109294426, -0.7252864184044392, 0.951330965846412, 0.3353284122962119, -0.08776126737914058, -0.047902067002260074, 0.792516674480342, -0.24061413905049656, 0.29212210976951436, 0.3367000536776703, 0.6984960336357258, 0.6629354195428565, 0.8393819531399234, -0.6876691671210882, 0.11139137486249662, -0.14868803469344027, -0.46124482853952586, -0.5596521097365512, -0.9032110318751712, 0.8720644097439192, 0.3946102986918616, 0.32486922204759705, 0.0629097846715081, -0.9414515340041523, 0.6630641672828721, 0.7969945967864307, -0.6400789804859051, -0.9666610359390004, 0.3370817554741512, 0.6324140243417036, -0.7307741424390188, -0.6454427515091816, -0.7652502648459365, -0.9719465403076488, 0.8048134902198818, 0.23636395135039812, -0.2054430316331246, -0.5334800404445439, -0.45439506256501216, -0.17353900642070808, -0.06239494378065569, 0.8885371441251959, -0.6968802958634406, 0.7299621780755394, 0.49956118838576424, -0.9551873695287953, 0.7971060225690321, 0.3386941058827615, 0.4454833239172371, 0.21803714974217692, -0.40668094421936885, 0.014069691027228881, -0.7235733083376845, 0.9179563995129252, 0.4616088042949624, 0.2875386363165633, -0.8991169853869507, -0.9718145894630112, 0.9986982113334157, 0.6298061105219981, -0.8051498448803929, 0.5242700527225772, 0.8519153764091825, -0.8864115557156702, -0.21038713262498665, 0.46220997701455047, -0.9241192629180921, 0.3322685164786827, -0.36390649398569397, 0.6769104884470312, 0.5125929008898573, -0.10394313895011908, 0.34583687442525646, 0.8879009117188754, 0.662663270691388, -0.5876643165013586, 0.9815757231941034, -0.8095957583356086, 0.20412673004798854, -0.2078590681273509, -0.07895601153470366, -0.7882805690318808, -0.9868691348997252, 0.5001637764123068, 0.9980899752666152, -0.6859758692237552, 0.705125845682028, -0.41442350224753355, -0.3737291924806321, 0.6237848987895114, -0.1377166217529011, -0.8273161933406503, -0.6602784251292135, 0.8702481457576814, -0.5413543691593758, 0.41998167505923734, 0.4195074439500295, -0.06372191839351271, -0.16567415060208135, -0.4600386908189473, 0.2488850534088871, 0.6172641530025427, 0.12414983656260947, -0.3893671299413666, -0.05606682092420123, -0.7179716345549318, 0.19117233377926945, -0.28238312533838283, -0.41261832868797343, -0.7441905883541504, 0.14516805031369695, 0.6847444864341203, -0.37961078026273043, 0.7892530045999011, 0.3423847537375695, 0.22800802602497483, -0.8084553708007709, -0.11950362927742897, -0.6228872650103252]}, {\"colorscale\": [[0.0, \"rgb(103,0,31)\"], [0.1, \"rgb(178,24,43)\"], [0.2, \"rgb(214,96,77)\"], [0.3, \"rgb(244,165,130)\"], [0.4, \"rgb(253,219,199)\"], [0.5, \"rgb(247,247,247)\"], [0.6, \"rgb(209,229,240)\"], [0.7, \"rgb(146,197,222)\"], [0.8, \"rgb(67,147,195)\"], [0.9, \"rgb(33,102,172)\"], [1.0, \"rgb(5,48,97)\"]], \"type\": \"contour\", \"x\": [-2.0, -1.7894736842105263, -1.5789473684210527, -1.368421052631579, -1.1578947368421053, -0.9473684210526316, -0.736842105263158, -0.5263157894736843, -0.3157894736842106, -0.10526315789473695, 0.10526315789473673, 0.3157894736842106, 0.5263157894736841, 0.7368421052631575, 0.9473684210526314, 1.1578947368421053, 1.3684210526315788, 1.5789473684210522, 1.789473684210526, 2.0], \"y\": [-1.5, -1.3421052631578947, -1.1842105263157894, -1.0263157894736843, -0.868421052631579, -0.7105263157894737, -0.5526315789473685, -0.3947368421052632, -0.23684210526315796, -0.07894736842105271, 0.07894736842105254, 0.23684210526315796, 0.39473684210526305, 0.5526315789473681, 0.7105263157894736, 0.868421052631579, 1.026315789473684, 1.1842105263157892, 1.3421052631578947, 1.5], \"z\": [[-4.332727888528386, -4.312510194127233, -4.292292499726076, -4.272074805324921, -4.251857110923763, -4.2316394165226106, -4.211421722121459, -4.191204027720302, -4.170986333319149, -4.150768638917994, -4.13055094451684, -4.110333250115686, -4.090115555714532, -4.069897861313377, -4.049680166912224, -4.02946247251107, -4.009244778109914, -3.9890270837087605, -3.9688093893076073, -3.9485916949064523], [-3.887553276815577, -3.8673355824144227, -3.8471178880132686, -3.8269001936121145, -3.806682499210963, -3.7864648048098073, -3.7662471104086523, -3.746029416007498, -3.725811721606343, -3.705594027205189, -3.6853763328040348, -3.66515863840288, -3.6449409440017253, -3.6247232496005717, -3.6045055551994176, -3.5842878607982636, -3.5640701663971077, -3.5438524719959554, -3.5236347775947983, -3.503417083193644], [-3.442378665102772, -3.422160970701618, -3.401943276300464, -3.3817255818993095, -3.3615078874981523, -3.3412901930970005, -3.321072498695845, -3.300854804294691, -3.280637109893537, -3.260419415492383, -3.2402017210912284, -3.219984026690073, -3.19976633228892, -3.179548637887765, -3.1593309434866126, -3.1391132490854567, -3.1188955546843022, -3.098677860283147, -3.0784601658819946, -3.0582424714808405], [-2.9972040533899644, -2.9769863589888117, -2.9567686645876585, -2.936550970186503, -2.9163332757853486, -2.8961155813841954, -2.8758978869830396, -2.8556801925818855, -2.8354624981807324, -2.8152448037795774, -2.7950271093784234, -2.7748094149772684, -2.7545917205761135, -2.73437402617496, -2.714156331773806, -2.6939386373726513, -2.6737209429714968, -2.653503248570343, -2.6332855541691886, -2.613067859768034], [-2.5520294416771594, -2.5318117472760053, -2.511594052874853, -2.4913763584736994, -2.4711586640725427, -2.450940969671388, -2.430723275270233, -2.4105055808690796, -2.3902878864679256, -2.3700701920667715, -2.3498524976656157, -2.3296348032644616, -2.309417108863308, -2.289199414462153, -2.2689817200609994, -2.248764025659845, -2.228546331258691, -2.208328636857536, -2.188110942456383, -2.1678932480552264], [-2.106854829964353, -2.086637135563199, -2.066419441162046, -2.046201746760891, -2.0259840523597368, -2.0057663579585827, -1.9855486635574273, -1.9653309691562733, -1.9451132747551196, -1.9248955803539656, -1.9046778859528102, -1.8844601915516561, -1.8642424971505025, -1.8440248027493467, -1.8238071083481922, -1.803589413947039, -1.7833717195458845, -1.7631540251447295, -1.7429363307435768, -1.72271863634242], [-1.6616802182515489, -1.6414625238503948, -1.6212448294492394, -1.6010271350480862, -1.58080944064693, -1.5605917462457755, -1.5403740518446214, -1.5201563574434678, -1.4999386630423133, -1.4797209686411592, -1.4595032742400051, -1.4392855798388502, -1.4190678854376961, -1.398850191036542, -1.3786324966353867, -1.3584148022342335, -1.3381971078330785, -1.3179794134319254, -1.2977617190307704, -1.2775440246296155], [-1.2165056065387407, -1.1962879121375871, -1.176070217736433, -1.1558525233352799, -1.135634828934124, -1.1154171345329709, -1.095199440131816, -1.0749817457306623, -1.0547640513295078, -1.0345463569283528, -1.0143286625271988, -0.9941109681260444, -0.9738932737248899, -0.9536755793237351, -0.9334578849225815, -0.9132401905214279, -0.8930224961202725, -0.8728048017191182, -0.8525871073179639, -0.8323694129168101], [-0.7713309948259351, -0.7511133004247819, -0.7308956060236279, -0.7106779116224734, -0.6904602172213182, -0.6702425228201642, -0.6500248284190093, -0.6298071340178555, -0.6095894396167016, -0.5893717452155471, -0.5691540508143926, -0.548936356413238, -0.5287186620120838, -0.5085009676109301, -0.4882832732097754, -0.4680655788086213, -0.4478478844074669, -0.4276301900063124, -0.40741249560515763, -0.38719480120400196], [-0.3261563831131292, -0.30593868871197505, -0.2857209943108225, -0.26550329990966687, -0.24528560550851103, -0.22506791110735858, -0.20485021670620385, -0.18463252230505012, -0.16441482790389572, -0.1441971335027411, -0.12397943910158662, -0.10376174470043242, -0.08354405029927808, -0.06332635589812388, -0.04310866149696943, -0.022890967095815784, -0.0026732726946604446, 0.017544421706494173, 0.03776211610764785, 0.0579798105088033], [0.11901822859967404, 0.13923592300083065, 0.15945361740198344, 0.1796713118031384, 0.19988900620429345, 0.22010670060544751, 0.24032439500660102, 0.2605420894077558, 0.28075978380891053, 0.3009774782100649, 0.3211951726112191, 0.3414128670123736, 0.3616305614135282, 0.3818482558146821, 0.40206595021583696, 0.422283644616991, 0.44250133901814415, 0.462719033419299, 0.4829367278204542, 0.5031544222216079], [0.5641928403124806, 0.5844105347136366, 0.6046282291147896, 0.6248459235159455, 0.6450636179171, 0.6652813123182546, 0.6854990067194084, 0.7057167011205626, 0.7259343955217167, 0.7461520899228711, 0.7663697843240255, 0.7865874787251803, 0.8068051731263349, 0.827022867527489, 0.8472405619286428, 0.8674582563297969, 0.887675950730951, 0.9078936451321082, 0.9281113395332595, 0.9483290339344138], [1.0093674520252875, 1.0295851464264412, 1.0498028408275961, 1.0700205352287497, 1.0902382296299056, 1.1104559240310596, 1.1306736184322141, 1.1508913128333682, 1.1711090072345223, 1.1913267016356768, 1.2115443960368313, 1.2317620904379858, 1.2519797848391403, 1.2721974792402944, 1.2924151736414484, 1.3126328680426007, 1.332850562443757, 1.3530682568449128, 1.3732859512460656, 1.3935036456472192], [1.4545420637380935, 1.4747597581392466, 1.4949774525404012, 1.5151951469415557, 1.535412841342712, 1.5556305357438647, 1.5758482301450192, 1.5960659245461741, 1.6162836189473277, 1.6365013133484818, 1.6567190077496372, 1.6769367021507917, 1.6971543965519453, 1.7173720909531007, 1.737589785354254, 1.7578074797554084, 1.778025174156562, 1.7982428685577165, 1.818460562958871, 1.838678257360025], [1.899716675450899, 1.9199343698520535, 1.940152064253207, 1.960369758654362, 1.9805874530555174, 2.0008051474566715, 2.0210228418578255, 2.0412405362589796, 2.061458230660135, 2.0816759250612886, 2.101893619462443, 2.122111313863597, 2.1423290082647513, 2.162546702665906, 2.1827643970670603, 2.2029820914682148, 2.223199785869369, 2.243417480270523, 2.2636351746716765, 2.283852869072832], [2.344891287163705, 2.3651089815648607, 2.385326675966014, 2.405544370367169, 2.4257620647683233, 2.4459797591694774, 2.466197453570632, 2.486415147971786, 2.50663284237294, 2.5268505367740954, 2.54706823117525, 2.567285925576404, 2.5875036199775567, 2.6077213143787126, 2.6279390087798675, 2.648156703181021, 2.668374397582175, 2.6885920919833293, 2.7088097863844838, 2.729027480785638], [2.790065898876512, 2.810283593277666, 2.8305012876788203, 2.850718982079973, 2.8709366764811293, 2.8911543708822838, 2.911372065283438, 2.931589759684592, 2.951807454085746, 2.972025148486901, 2.9922428428880554, 3.01246053728921, 3.0326782316903635, 3.052895926091517, 3.0731136204926726, 3.093331314893827, 3.1135490092949816, 3.1337667036961343, 3.1539843980972893, 3.1742020924984446], [3.235240510589318, 3.25545820499047, 3.2756758993916235, 3.2958935937927794, 3.3161112881939347, 3.336328982595088, 3.356546676996242, 3.376764371397398, 3.396982065798552, 3.417199760199706, 3.4374174546008613, 3.4576351490020154, 3.4778528434031677, 3.498070537804324, 3.5182882322054794, 3.5385059266066308, 3.558723621007786, 3.5789413154089433, 3.5991590098100965, 3.619376704211249], [3.6804151223021226, 3.700632816703277, 3.7208505111044334, 3.741068205505586, 3.761285899906742, 3.781503594307895, 3.8017212887090492, 3.8219389831102037, 3.8421566775113583, 3.8623743719125123, 3.882592066313668, 3.9028097607148213, 3.9230274551159745, 3.943245149517131, 3.963462843918285, 3.9836805383194416, 4.003898232720593, 4.0241159271217475, 4.0443336215229015, 4.064551315924056], [4.125589734014931, 4.145807428416084, 4.16602512281724, 4.1862428172183925, 4.206460511619549, 4.226678206020702, 4.2468959004218565, 4.2671135948230114, 4.2873312892241655, 4.30754898362532, 4.327766678026474, 4.347984372427629, 4.368202066828783, 4.388419761229935, 4.408637455631089, 4.428855150032242, 4.4490728444334, 4.4692905388345565, 4.489508233235712, 4.5097259276368655]]}, {\"mode\": \"lines\", \"showlegend\": false, \"type\": \"scatter\", \"x\": [-1.0, -0.935483870967742, -0.8709677419354839, -0.8064516129032258, -0.7419354838709677, -0.6774193548387097, -0.6129032258064516, -0.5483870967741935, -0.4838709677419355, -0.4193548387096775, -0.3548387096774194, -0.29032258064516125, -0.22580645161290325, -0.16129032258064524, -0.09677419354838712, -0.032258064516129004, 0.032258064516129004, 0.09677419354838701, 0.16129032258064502, 0.22580645161290325, 0.29032258064516125, 0.35483870967741926, 0.4193548387096775, 0.4838709677419355, 0.5483870967741935, 0.6129032258064515, 0.6774193548387095, 0.7419354838709677, 0.8064516129032258, 0.8709677419354838, 0.935483870967742, 1.0], \"y\": [0.4794621373315692, 0.4996943124756602, 0.4683784955424315, 0.3887451965514415, 0.26900931121591354, 0.12152268008025488, -0.03850011565362892, -0.19455127591530402, -0.3305327107886136, -0.43241670422295087, -0.48969299993715243, -0.49645302950452086, -0.45199943467646087, -0.36091800619902337, -0.23260461798216914, -0.08029595764486853, 0.08029595764486853, 0.23260461798216892, 0.360918006199023, 0.45199943467646087, 0.49645302950452086, 0.4896929999371525, 0.43241670422295087, 0.3305327107886136, 0.19455127591530402, 0.038500115653629145, -0.12152268008025423, -0.26900931121591354, -0.3887451965514415, -0.4683784955424315, -0.4996943124756602, -0.4794621373315692]}],\n",
       "                        {\"template\": {\"data\": {\"bar\": [{\"error_x\": {\"color\": \"#2a3f5f\"}, \"error_y\": {\"color\": \"#2a3f5f\"}, \"marker\": {\"line\": {\"color\": \"#E5ECF6\", \"width\": 0.5}}, \"type\": \"bar\"}], \"barpolar\": [{\"marker\": {\"line\": {\"color\": \"#E5ECF6\", \"width\": 0.5}}, \"type\": \"barpolar\"}], \"carpet\": [{\"aaxis\": {\"endlinecolor\": \"#2a3f5f\", \"gridcolor\": \"white\", \"linecolor\": \"white\", \"minorgridcolor\": \"white\", \"startlinecolor\": \"#2a3f5f\"}, \"baxis\": {\"endlinecolor\": \"#2a3f5f\", \"gridcolor\": \"white\", \"linecolor\": \"white\", \"minorgridcolor\": \"white\", \"startlinecolor\": \"#2a3f5f\"}, \"type\": \"carpet\"}], \"choropleth\": [{\"colorbar\": {\"outlinewidth\": 0, \"ticks\": \"\"}, \"type\": \"choropleth\"}], \"contour\": [{\"colorbar\": {\"outlinewidth\": 0, \"ticks\": \"\"}, \"colorscale\": [[0.0, \"#0d0887\"], [0.1111111111111111, \"#46039f\"], [0.2222222222222222, \"#7201a8\"], [0.3333333333333333, \"#9c179e\"], [0.4444444444444444, \"#bd3786\"], [0.5555555555555556, \"#d8576b\"], [0.6666666666666666, \"#ed7953\"], [0.7777777777777778, \"#fb9f3a\"], [0.8888888888888888, \"#fdca26\"], [1.0, \"#f0f921\"]], \"type\": \"contour\"}], \"contourcarpet\": [{\"colorbar\": {\"outlinewidth\": 0, \"ticks\": \"\"}, \"type\": \"contourcarpet\"}], \"heatmap\": [{\"colorbar\": {\"outlinewidth\": 0, \"ticks\": \"\"}, \"colorscale\": [[0.0, \"#0d0887\"], [0.1111111111111111, \"#46039f\"], [0.2222222222222222, \"#7201a8\"], [0.3333333333333333, \"#9c179e\"], [0.4444444444444444, \"#bd3786\"], [0.5555555555555556, \"#d8576b\"], [0.6666666666666666, \"#ed7953\"], [0.7777777777777778, \"#fb9f3a\"], [0.8888888888888888, \"#fdca26\"], [1.0, \"#f0f921\"]], \"type\": \"heatmap\"}], \"heatmapgl\": [{\"colorbar\": {\"outlinewidth\": 0, \"ticks\": \"\"}, \"colorscale\": [[0.0, \"#0d0887\"], [0.1111111111111111, \"#46039f\"], [0.2222222222222222, \"#7201a8\"], [0.3333333333333333, \"#9c179e\"], [0.4444444444444444, \"#bd3786\"], [0.5555555555555556, \"#d8576b\"], [0.6666666666666666, \"#ed7953\"], [0.7777777777777778, \"#fb9f3a\"], [0.8888888888888888, \"#fdca26\"], [1.0, \"#f0f921\"]], \"type\": \"heatmapgl\"}], \"histogram\": [{\"marker\": {\"colorbar\": {\"outlinewidth\": 0, \"ticks\": \"\"}}, \"type\": \"histogram\"}], \"histogram2d\": [{\"colorbar\": {\"outlinewidth\": 0, \"ticks\": \"\"}, \"colorscale\": [[0.0, \"#0d0887\"], [0.1111111111111111, \"#46039f\"], [0.2222222222222222, \"#7201a8\"], [0.3333333333333333, \"#9c179e\"], [0.4444444444444444, \"#bd3786\"], [0.5555555555555556, \"#d8576b\"], [0.6666666666666666, \"#ed7953\"], [0.7777777777777778, \"#fb9f3a\"], [0.8888888888888888, \"#fdca26\"], [1.0, \"#f0f921\"]], \"type\": \"histogram2d\"}], \"histogram2dcontour\": [{\"colorbar\": {\"outlinewidth\": 0, \"ticks\": \"\"}, \"colorscale\": [[0.0, \"#0d0887\"], [0.1111111111111111, \"#46039f\"], [0.2222222222222222, \"#7201a8\"], [0.3333333333333333, \"#9c179e\"], [0.4444444444444444, \"#bd3786\"], [0.5555555555555556, \"#d8576b\"], [0.6666666666666666, \"#ed7953\"], [0.7777777777777778, \"#fb9f3a\"], [0.8888888888888888, \"#fdca26\"], [1.0, \"#f0f921\"]], \"type\": \"histogram2dcontour\"}], \"mesh3d\": [{\"colorbar\": {\"outlinewidth\": 0, \"ticks\": \"\"}, \"type\": \"mesh3d\"}], \"parcoords\": [{\"line\": {\"colorbar\": {\"outlinewidth\": 0, \"ticks\": \"\"}}, \"type\": \"parcoords\"}], \"pie\": [{\"automargin\": true, \"type\": \"pie\"}], \"scatter\": [{\"marker\": {\"colorbar\": {\"outlinewidth\": 0, \"ticks\": \"\"}}, \"type\": \"scatter\"}], \"scatter3d\": [{\"line\": {\"colorbar\": {\"outlinewidth\": 0, \"ticks\": \"\"}}, \"marker\": {\"colorbar\": {\"outlinewidth\": 0, \"ticks\": \"\"}}, \"type\": \"scatter3d\"}], \"scattercarpet\": [{\"marker\": {\"colorbar\": {\"outlinewidth\": 0, \"ticks\": \"\"}}, \"type\": \"scattercarpet\"}], \"scattergeo\": [{\"marker\": {\"colorbar\": {\"outlinewidth\": 0, \"ticks\": \"\"}}, \"type\": \"scattergeo\"}], \"scattergl\": [{\"marker\": {\"colorbar\": {\"outlinewidth\": 0, \"ticks\": \"\"}}, \"type\": \"scattergl\"}], \"scattermapbox\": [{\"marker\": {\"colorbar\": {\"outlinewidth\": 0, \"ticks\": \"\"}}, \"type\": \"scattermapbox\"}], \"scatterpolar\": [{\"marker\": {\"colorbar\": {\"outlinewidth\": 0, \"ticks\": \"\"}}, \"type\": \"scatterpolar\"}], \"scatterpolargl\": [{\"marker\": {\"colorbar\": {\"outlinewidth\": 0, \"ticks\": \"\"}}, \"type\": \"scatterpolargl\"}], \"scatterternary\": [{\"marker\": {\"colorbar\": {\"outlinewidth\": 0, \"ticks\": \"\"}}, \"type\": \"scatterternary\"}], \"surface\": [{\"colorbar\": {\"outlinewidth\": 0, \"ticks\": \"\"}, \"colorscale\": [[0.0, \"#0d0887\"], [0.1111111111111111, \"#46039f\"], [0.2222222222222222, \"#7201a8\"], [0.3333333333333333, \"#9c179e\"], [0.4444444444444444, \"#bd3786\"], [0.5555555555555556, \"#d8576b\"], [0.6666666666666666, \"#ed7953\"], [0.7777777777777778, \"#fb9f3a\"], [0.8888888888888888, \"#fdca26\"], [1.0, \"#f0f921\"]], \"type\": \"surface\"}], \"table\": [{\"cells\": {\"fill\": {\"color\": \"#EBF0F8\"}, \"line\": {\"color\": \"white\"}}, \"header\": {\"fill\": {\"color\": \"#C8D4E3\"}, \"line\": {\"color\": \"white\"}}, \"type\": \"table\"}]}, \"layout\": {\"annotationdefaults\": {\"arrowcolor\": \"#2a3f5f\", \"arrowhead\": 0, \"arrowwidth\": 1}, \"coloraxis\": {\"colorbar\": {\"outlinewidth\": 0, \"ticks\": \"\"}}, \"colorscale\": {\"diverging\": [[0, \"#8e0152\"], [0.1, \"#c51b7d\"], [0.2, \"#de77ae\"], [0.3, \"#f1b6da\"], [0.4, \"#fde0ef\"], [0.5, \"#f7f7f7\"], [0.6, \"#e6f5d0\"], [0.7, \"#b8e186\"], [0.8, \"#7fbc41\"], [0.9, \"#4d9221\"], [1, \"#276419\"]], \"sequential\": [[0.0, \"#0d0887\"], [0.1111111111111111, \"#46039f\"], [0.2222222222222222, \"#7201a8\"], [0.3333333333333333, \"#9c179e\"], [0.4444444444444444, \"#bd3786\"], [0.5555555555555556, \"#d8576b\"], [0.6666666666666666, \"#ed7953\"], [0.7777777777777778, \"#fb9f3a\"], [0.8888888888888888, \"#fdca26\"], [1.0, \"#f0f921\"]], \"sequentialminus\": [[0.0, \"#0d0887\"], [0.1111111111111111, \"#46039f\"], [0.2222222222222222, \"#7201a8\"], [0.3333333333333333, \"#9c179e\"], [0.4444444444444444, \"#bd3786\"], [0.5555555555555556, \"#d8576b\"], [0.6666666666666666, \"#ed7953\"], [0.7777777777777778, \"#fb9f3a\"], [0.8888888888888888, \"#fdca26\"], [1.0, \"#f0f921\"]]}, \"colorway\": [\"#636efa\", \"#EF553B\", \"#00cc96\", \"#ab63fa\", \"#FFA15A\", \"#19d3f3\", \"#FF6692\", \"#B6E880\", \"#FF97FF\", \"#FECB52\"], \"font\": {\"color\": \"#2a3f5f\"}, \"geo\": {\"bgcolor\": \"white\", \"lakecolor\": \"white\", \"landcolor\": \"#E5ECF6\", \"showlakes\": true, \"showland\": true, \"subunitcolor\": \"white\"}, \"hoverlabel\": {\"align\": \"left\"}, \"hovermode\": \"closest\", \"mapbox\": {\"style\": \"light\"}, \"paper_bgcolor\": \"white\", \"plot_bgcolor\": \"#E5ECF6\", \"polar\": {\"angularaxis\": {\"gridcolor\": \"white\", \"linecolor\": \"white\", \"ticks\": \"\"}, \"bgcolor\": \"#E5ECF6\", \"radialaxis\": {\"gridcolor\": \"white\", \"linecolor\": \"white\", \"ticks\": \"\"}}, \"scene\": {\"xaxis\": {\"backgroundcolor\": \"#E5ECF6\", \"gridcolor\": \"white\", \"gridwidth\": 2, \"linecolor\": \"white\", \"showbackground\": true, \"ticks\": \"\", \"zerolinecolor\": \"white\"}, \"yaxis\": {\"backgroundcolor\": \"#E5ECF6\", \"gridcolor\": \"white\", \"gridwidth\": 2, \"linecolor\": \"white\", \"showbackground\": true, \"ticks\": \"\", \"zerolinecolor\": \"white\"}, \"zaxis\": {\"backgroundcolor\": \"#E5ECF6\", \"gridcolor\": \"white\", \"gridwidth\": 2, \"linecolor\": \"white\", \"showbackground\": true, \"ticks\": \"\", \"zerolinecolor\": \"white\"}}, \"shapedefaults\": {\"line\": {\"color\": \"#2a3f5f\"}}, \"ternary\": {\"aaxis\": {\"gridcolor\": \"white\", \"linecolor\": \"white\", \"ticks\": \"\"}, \"baxis\": {\"gridcolor\": \"white\", \"linecolor\": \"white\", \"ticks\": \"\"}, \"bgcolor\": \"#E5ECF6\", \"caxis\": {\"gridcolor\": \"white\", \"linecolor\": \"white\", \"ticks\": \"\"}}, \"title\": {\"x\": 0.05}, \"xaxis\": {\"automargin\": true, \"gridcolor\": \"white\", \"linecolor\": \"white\", \"ticks\": \"\", \"title\": {\"standoff\": 15}, \"zerolinecolor\": \"white\", \"zerolinewidth\": 2}, \"yaxis\": {\"automargin\": true, \"gridcolor\": \"white\", \"linecolor\": \"white\", \"ticks\": \"\", \"title\": {\"standoff\": 15}, \"zerolinecolor\": \"white\", \"zerolinewidth\": 2}}}, \"title\": {\"text\": \"Decision function\"}, \"width\": 600},\n",
       "                        {\"responsive\": true}\n",
       "                    ).then(function(){\n",
       "                            \n",
       "var gd = document.getElementById('6607c956-a5f7-4028-82ca-5c09926984e4');\n",
       "var x = new MutationObserver(function (mutations, observer) {{\n",
       "        var display = window.getComputedStyle(gd).display;\n",
       "        if (!display || display === 'none') {{\n",
       "            console.log([gd, 'removed!']);\n",
       "            Plotly.purge(gd);\n",
       "            observer.disconnect();\n",
       "        }}\n",
       "}});\n",
       "\n",
       "// Listen for the removal of the full notebook cells\n",
       "var notebookContainer = gd.closest('#notebook-container');\n",
       "if (notebookContainer) {{\n",
       "    x.observe(notebookContainer, {childList: true});\n",
       "}}\n",
       "\n",
       "// Listen for the clearing of the current output cell\n",
       "var outputEl = gd.closest('.output');\n",
       "if (outputEl) {{\n",
       "    x.observe(outputEl, {childList: true});\n",
       "}}\n",
       "\n",
       "                        })\n",
       "                };\n",
       "                });\n",
       "            </script>\n",
       "        </div>"
      ]
     },
     "metadata": {},
     "output_type": "display_data"
    }
   ],
   "source": [
    "np.random.seed(2020)\n",
    "\n",
    "# decision curve is the sine function\n",
    "\n",
    "X = 2*np.random.rand(128, 2) - 1\n",
    "\n",
    "y = np.zeros(X.shape[0])\n",
    "\n",
    "# initialize labels\n",
    "for i in range(0,X.shape[0]):\n",
    "    y[i] = labels_sine(X[i,:])\n",
    "\n",
    "# fit the model\n",
    "# we use a linear SVM which won't work in this case\n",
    "clf = svm.SVC(kernel=\"linear\")\n",
    "clf.fit(X, y)\n",
    "\n",
    "fig = go.Figure()\n",
    "plot_data_decision_function(X, y, clf, fig, \"Decision function\", 2, 1.5)\n",
    "# draw the sine function\n",
    "x_b = np.linspace(-1, 1, 32)\n",
    "fig.add_trace(go.Scatter(x=x_b, y=np.sin(5*x_b) / 2,\n",
    "                    mode='lines', showlegend=False))\n",
    "fig.show()"
   ]
  },
  {
   "cell_type": "code",
   "execution_count": 28,
   "metadata": {},
   "outputs": [],
   "source": [
    "fig.write_html('../_includes/svm10.html')"
   ]
  },
  {
   "cell_type": "code",
   "execution_count": 29,
   "metadata": {
    "colab": {
     "base_uri": "https://localhost:8080/",
     "height": 542
    },
    "colab_type": "code",
    "id": "chT9c50W9Cgr",
    "outputId": "eccf0379-d5ff-4483-b0ea-6e706aebf196"
   },
   "outputs": [
    {
     "data": {
      "application/vnd.plotly.v1+json": {
       "config": {
        "plotlyServerURL": "https://plot.ly"
       },
       "data": [
        {
         "marker": {
          "color": [
           1,
           -1,
           -1,
           1,
           -1,
           1,
           -1,
           1,
           1,
           -1,
           -1,
           1,
           1,
           -1,
           -1,
           1,
           1,
           1,
           -1,
           1,
           1,
           1,
           -1,
           -1,
           -1,
           -1,
           -1,
           -1,
           1,
           1,
           1,
           -1,
           -1,
           1,
           1,
           -1,
           -1,
           1,
           1,
           -1,
           -1,
           -1,
           -1,
           1,
           1,
           1,
           -1,
           1,
           1,
           -1,
           1,
           -1,
           1,
           1,
           -1,
           1,
           -1,
           1,
           1,
           -1,
           -1,
           -1,
           1,
           1,
           1,
           -1,
           -1,
           1,
           1,
           -1,
           1,
           1,
           -1,
           -1,
           1,
           -1,
           1,
           -1,
           1,
           1,
           -1,
           -1,
           1,
           1,
           -1,
           1,
           -1,
           1,
           -1,
           -1,
           -1,
           -1,
           1,
           1,
           -1,
           1,
           -1,
           -1,
           1,
           1,
           -1,
           -1,
           1,
           -1,
           1,
           1,
           -1,
           -1,
           -1,
           1,
           1,
           1,
           -1,
           1,
           -1,
           1,
           -1,
           -1,
           -1,
           1,
           1,
           -1,
           1,
           1,
           -1,
           -1,
           1,
           -1
          ],
          "colorscale": [
           [
            0,
            "rgb(103,0,31)"
           ],
           [
            0.1,
            "rgb(178,24,43)"
           ],
           [
            0.2,
            "rgb(214,96,77)"
           ],
           [
            0.3,
            "rgb(244,165,130)"
           ],
           [
            0.4,
            "rgb(253,219,199)"
           ],
           [
            0.5,
            "rgb(247,247,247)"
           ],
           [
            0.6,
            "rgb(209,229,240)"
           ],
           [
            0.7,
            "rgb(146,197,222)"
           ],
           [
            0.8,
            "rgb(67,147,195)"
           ],
           [
            0.9,
            "rgb(33,102,172)"
           ],
           [
            1,
            "rgb(5,48,97)"
           ]
          ],
          "size": 10
         },
         "mode": "markers",
         "showlegend": false,
         "type": "scatter",
         "x": [
          0.9725536577231977,
          0.019491049943163086,
          -0.3261625445080729,
          -0.44704571369240087,
          0.7243178709197058,
          -0.7182255102951693,
          0.47264983630721646,
          -0.31781396697724795,
          -0.565798722491812,
          -0.7516424445485406,
          0.9064277463414698,
          0.1388261937606614,
          0.006734121920556335,
          -0.9316170039712195,
          -0.6882972744358813,
          -0.6605951231951612,
          -0.25321248465679247,
          0.7166331758358033,
          0.16692339546489388,
          -0.6444147596206389,
          -0.11525483630306499,
          0.527841432578291,
          -0.8588531457788544,
          0.27378846393161993,
          -0.6161425732957695,
          0.02684041567968065,
          0.19804003738063058,
          -0.3982750111338085,
          0.1286401175491414,
          0.6060552843619602,
          -0.07723144822941297,
          0.499331276215482,
          -0.03437974727725113,
          0.7885662075787618,
          0.47568692224591014,
          -0.5385317172343462,
          0.22831624369129289,
          -0.40135550815460563,
          0.905104871218934,
          -0.8442755283476089,
          0.15309623387915106,
          0.988917399364774,
          0.6816896655867875,
          0.7433749682985351,
          -0.10159106198342616,
          0.9579562655376166,
          -0.10553833260813805,
          0.8634587601578927,
          0.8646555861368634,
          -0.6786431513210474,
          -0.46142268529323727,
          -0.4091181302825009,
          -0.4549134086153268,
          0.8337228110526111,
          0.8004441207624269,
          -0.9180952510329765,
          0.40158629051602635,
          0.10569156374004929,
          0.7078626116057507,
          -0.0951711863660667,
          0.26123965422988493,
          -0.2594878980626407,
          0.5183687857405443,
          -0.44194373083525007,
          -0.600166021957854,
          -0.5942531154432378,
          -0.25600910908792085,
          -0.8008364200053788,
          0.8515459862364703,
          -0.5552556135718028,
          0.8910818346697007,
          -0.3426447025396766,
          0.41136619414680053,
          -0.010050984353052295,
          0.12286427521441179,
          0.15762317907372148,
          -0.6092157333802137,
          0.41428631222104184,
          -0.5063273344072228,
          -0.831930791725936,
          0.4325846429737308,
          -0.9039483562432415,
          -0.6073914050418245,
          0.11828607010210024,
          -0.3201401681958016,
          0.023528624464017822,
          0.758340653368589,
          -0.001971932281604527,
          -0.757487383023058,
          0.20161134225810917,
          -0.526803710381774,
          0.96964443267549,
          -0.9140114545275728,
          0.47924836079278155,
          0.20917758459864522,
          -0.8232881330225967,
          0.33553842636723363,
          -0.825269211928825,
          0.9395001749451066,
          -0.528915419073273,
          -0.7275440258990524,
          -0.46082309953378586,
          -0.2865408436230812,
          0.17254979366903855,
          0.4578281510680873,
          -0.6856145842084127,
          0.3055232405894468,
          0.39364841389050476,
          -0.5766406693484727,
          -0.08177753137562571,
          0.7385054711973713,
          0.7338988709571135,
          0.0950658181408961,
          -0.551288651921608,
          0.6547346014519084,
          0.04913052003556362,
          0.6837540895908267,
          -0.08149309336160449,
          0.024244114427812713,
          -0.6084849441037941,
          0.7497215223686391,
          -0.8643797949389376,
          0.4551305920714366,
          0.6267271763217697,
          0.11311305879994382,
          0.4607340345486166,
          -0.23603890403983963,
          0.27095706265079467
         ],
         "y": [
          0.7467838916413092,
          -0.4563285714358485,
          -0.5660914699661515,
          -0.3133688144410849,
          -0.6866006599810228,
          0.5141605612813767,
          -0.2886738167284366,
          0.3336061011066529,
          0.12285396486587463,
          -0.36052703109294426,
          -0.7252864184044392,
          0.951330965846412,
          0.3353284122962119,
          -0.08776126737914058,
          -0.047902067002260074,
          0.792516674480342,
          -0.24061413905049656,
          0.29212210976951436,
          0.3367000536776703,
          0.6984960336357258,
          0.6629354195428565,
          0.8393819531399234,
          -0.6876691671210882,
          0.11139137486249662,
          -0.14868803469344027,
          -0.46124482853952586,
          -0.5596521097365512,
          -0.9032110318751712,
          0.8720644097439192,
          0.3946102986918616,
          0.32486922204759705,
          0.0629097846715081,
          -0.9414515340041523,
          0.6630641672828721,
          0.7969945967864307,
          -0.6400789804859051,
          -0.9666610359390004,
          0.3370817554741512,
          0.6324140243417036,
          -0.7307741424390188,
          -0.6454427515091816,
          -0.7652502648459365,
          -0.9719465403076488,
          0.8048134902198818,
          0.23636395135039812,
          -0.2054430316331246,
          -0.5334800404445439,
          -0.45439506256501216,
          -0.17353900642070808,
          -0.06239494378065569,
          0.8885371441251959,
          -0.6968802958634406,
          0.7299621780755394,
          0.49956118838576424,
          -0.9551873695287953,
          0.7971060225690321,
          0.3386941058827615,
          0.4454833239172371,
          0.21803714974217692,
          -0.40668094421936885,
          0.014069691027228881,
          -0.7235733083376845,
          0.9179563995129252,
          0.4616088042949624,
          0.2875386363165633,
          -0.8991169853869507,
          -0.9718145894630112,
          0.9986982113334157,
          0.6298061105219981,
          -0.8051498448803929,
          0.5242700527225772,
          0.8519153764091825,
          -0.8864115557156702,
          -0.21038713262498665,
          0.46220997701455047,
          -0.9241192629180921,
          0.3322685164786827,
          -0.36390649398569397,
          0.6769104884470312,
          0.5125929008898573,
          -0.10394313895011908,
          0.34583687442525646,
          0.8879009117188754,
          0.662663270691388,
          -0.5876643165013586,
          0.9815757231941034,
          -0.8095957583356086,
          0.20412673004798854,
          -0.2078590681273509,
          -0.07895601153470366,
          -0.7882805690318808,
          -0.9868691348997252,
          0.5001637764123068,
          0.9980899752666152,
          -0.6859758692237552,
          0.705125845682028,
          -0.41442350224753355,
          -0.3737291924806321,
          0.6237848987895114,
          -0.1377166217529011,
          -0.8273161933406503,
          -0.6602784251292135,
          0.8702481457576814,
          -0.5413543691593758,
          0.41998167505923734,
          0.4195074439500295,
          -0.06372191839351271,
          -0.16567415060208135,
          -0.4600386908189473,
          0.2488850534088871,
          0.6172641530025427,
          0.12414983656260947,
          -0.3893671299413666,
          -0.05606682092420123,
          -0.7179716345549318,
          0.19117233377926945,
          -0.28238312533838283,
          -0.41261832868797343,
          -0.7441905883541504,
          0.14516805031369695,
          0.6847444864341203,
          -0.37961078026273043,
          0.7892530045999011,
          0.3423847537375695,
          0.22800802602497483,
          -0.8084553708007709,
          -0.11950362927742897,
          -0.6228872650103252
         ]
        },
        {
         "colorscale": [
          [
           0,
           "rgb(103,0,31)"
          ],
          [
           0.1,
           "rgb(178,24,43)"
          ],
          [
           0.2,
           "rgb(214,96,77)"
          ],
          [
           0.3,
           "rgb(244,165,130)"
          ],
          [
           0.4,
           "rgb(253,219,199)"
          ],
          [
           0.5,
           "rgb(247,247,247)"
          ],
          [
           0.6,
           "rgb(209,229,240)"
          ],
          [
           0.7,
           "rgb(146,197,222)"
          ],
          [
           0.8,
           "rgb(67,147,195)"
          ],
          [
           0.9,
           "rgb(33,102,172)"
          ],
          [
           1,
           "rgb(5,48,97)"
          ]
         ],
         "type": "contour",
         "x": [
          -2,
          -1.7894736842105263,
          -1.5789473684210527,
          -1.368421052631579,
          -1.1578947368421053,
          -0.9473684210526316,
          -0.736842105263158,
          -0.5263157894736843,
          -0.3157894736842106,
          -0.10526315789473695,
          0.10526315789473673,
          0.3157894736842106,
          0.5263157894736841,
          0.7368421052631575,
          0.9473684210526314,
          1.1578947368421053,
          1.3684210526315788,
          1.5789473684210522,
          1.789473684210526,
          2
         ],
         "y": [
          -1.5,
          -1.3421052631578947,
          -1.1842105263157894,
          -1.0263157894736843,
          -0.868421052631579,
          -0.7105263157894737,
          -0.5526315789473685,
          -0.3947368421052632,
          -0.23684210526315796,
          -0.07894736842105271,
          0.07894736842105254,
          0.23684210526315796,
          0.39473684210526305,
          0.5526315789473681,
          0.7105263157894736,
          0.868421052631579,
          1.026315789473684,
          1.1842105263157892,
          1.3421052631578947,
          1.5
         ],
         "z": [
          [
           0.08651422127313967,
           0.08651401200216807,
           0.08650657360801156,
           0.08638840897142477,
           0.08546771522698768,
           0.0815972955322197,
           0.07216992983226224,
           0.05632506236628432,
           0.03966345818115193,
           0.03534003368422896,
           0.034538305399442436,
           0.03893305709648312,
           0.04864697973941039,
           0.04550439834637632,
           0.04444074875734228,
           0.061689943085965156,
           0.0796847137430459,
           0.08570666296227157,
           0.0864743218371491,
           0.08651340728177442
          ],
          [
           0.08651420099656552,
           0.08651232518820369,
           0.08644744458982045,
           0.08548284559510463,
           0.07890435014410097,
           0.056038491425345796,
           0.010449577935312149,
           -0.05376847795942084,
           -0.11608059377843753,
           -0.13132011367435148,
           -0.1356704948655093,
           -0.11833563549144012,
           -0.07866162525650976,
           -0.09306786467462412,
           -0.09682783609382205,
           -0.02136323032021903,
           0.05681073428082493,
           0.08299037762745182,
           0.0863392743006814,
           0.08651062297626642
          ],
          [
           0.08651409753173908,
           0.08650377965656565,
           0.08615290116992927,
           0.08115576826277511,
           0.05033349443361781,
           -0.03858195675221897,
           -0.17625651532993064,
           -0.3282780213434789,
           -0.4600374412640993,
           -0.4861693271330173,
           -0.4995546513594997,
           -0.46224238217865554,
           -0.372866481289094,
           -0.4265231695929629,
           -0.43676485099136886,
           -0.22035890008413167,
           0.001908746094896288,
           0.0764273124282732,
           0.08600982701563953,
           0.08650375251961516
          ],
          [
           0.08651379544122523,
           0.08647896825797634,
           0.08530708860240502,
           0.06904804344630325,
           -0.02480772443234909,
           -0.257361414104024,
           -0.5279799527299626,
           -0.7333615106942305,
           -0.8764292782472308,
           -0.8778237525095498,
           -0.8965286821913685,
           -0.8593333788760682,
           -0.7635906965397253,
           -0.9068247162527846,
           -0.9209781477484874,
           -0.5001077859212303,
           -0.0755087192782906,
           0.06705467702939091,
           0.0855313828630815,
           0.08649358856871224
          ],
          [
           0.08651332596570602,
           0.08644070466467539,
           0.08401484581765105,
           0.050835660023581586,
           -0.13418371149782377,
           -0.5535770328284095,
           -0.9406704142727015,
           -1.1049147220168336,
           -1.1530005338283693,
           -1.076333921455811,
           -1.0622148583033781,
           -1.0473320511046056,
           -1.0239618065572211,
           -1.235488987787749,
           -1.2077550992561268,
           -0.657308313629888,
           -0.12074032125624477,
           0.061224001392880284,
           0.08521584751858435,
           0.08648654532086447
          ],
          [
           0.08651301641407427,
           0.08641653495964847,
           0.08322264640330626,
           0.03980635103133713,
           -0.20153644085420425,
           -0.7458665738593766,
           -1.2153733030367169,
           -1.2993147214874248,
           -1.2403613787203311,
           -1.153890589513848,
           -1.0696041902584785,
           -1.0137421430025801,
           -1.0148589510604156,
           -1.0662088061510087,
           -0.8824757337712361,
           -0.45925788600490036,
           -0.07388343843302862,
           0.06579936459775852,
           0.08540419473861954,
           0.08648982973421807
          ],
          [
           0.08651299980198927,
           0.08641976709936379,
           0.08342373330235017,
           0.042917732723184054,
           -0.18957735610302806,
           -0.7539563500081305,
           -1.2299571715782396,
           -1.0941136037407064,
           -0.9563772759565966,
           -1.183896955188573,
           -1.1559628787097382,
           -0.9724854439300373,
           -0.874413288493756,
           -0.4934706144710381,
           -0.03557007925161618,
           0.03319919146437086,
           0.04736148974645835,
           0.07870402940441006,
           0.08599783794809396,
           0.08650153823711196
          ],
          [
           0.08651282082790973,
           0.08641749625056544,
           0.08359191921310559,
           0.04632525239342853,
           -0.17809442288675426,
           -0.7603717150009122,
           -1.0937788762740974,
           -0.37668049081349575,
           -0.07143295744051258,
           -0.930020120461548,
           -1.2570197829474028,
           -1.0411877887486636,
           -0.8438089647350114,
           -0.013643394992456037,
           0.7168806277343788,
           0.4685687038095985,
           0.15433386090301093,
           0.09016179607707364,
           0.08653098123551824,
           0.08651219531915413
          ],
          [
           0.08651215777497145,
           0.08638302553518223,
           0.08283022347725687,
           0.037926250752484514,
           -0.23128867483992877,
           -0.9019330812092229,
           -1.0163254436391833,
           0.391808541641419,
           0.9423225135687756,
           -0.33279822111690616,
           -1.1294049191128646,
           -1.1636332852864115,
           -0.8920107433948845,
           0.25803823918086627,
           1.0627759313711844,
           0.6392368461268402,
           0.19459597196506312,
           0.09461358354673514,
           0.08674917034244123,
           0.08651676518885505
          ],
          [
           0.08651137262114997,
           0.08633579099654964,
           0.08164027882362102,
           0.02519121760528377,
           -0.28638827622817,
           -0.9523703695483926,
           -0.8072457213577413,
           0.8496381890340361,
           1.462463339051261,
           0.37653969560277784,
           -0.7074279477204397,
           -1.2504531001647345,
           -0.8270186576968628,
           0.5578153639140062,
           1.148630261903114,
           0.6028216964450079,
           0.1818549908476309,
           0.09366370409606246,
           0.08673428082591869,
           0.08651699667219347
          ],
          [
           0.08651102172086367,
           0.08631040840182048,
           0.08099277056248774,
           0.02100651798801513,
           -0.26181671231614206,
           -0.6841266864429423,
           -0.21816334335384668,
           1.1391346962011057,
           1.532227180497446,
           0.9731248104773381,
           -0.16889606993504186,
           -1.1635748269516573,
           -0.51568814701048,
           0.9130583369826725,
           1.1043326476060131,
           0.4808116371610673,
           0.15035703341392964,
           0.09099961382146717,
           0.08665076271773424,
           0.08651601312446644
          ],
          [
           0.08651207904656456,
           0.08637218825457565,
           0.08262648070544304,
           0.0424959463445109,
           -0.11296582919630495,
           -0.1834410945371222,
           0.4298335610327879,
           1.2270665895888315,
           1.3582697360056508,
           1.2718412556189487,
           0.3615551706704505,
           -0.6482859047978956,
           0.09347044106362458,
           1.1811861519583606,
           0.9809785160003928,
           0.3768400751572931,
           0.13106964905057544,
           0.08987896014082651,
           0.08663696389257146,
           0.08651629531544737
          ],
          [
           0.08651521137430841,
           0.08656906351178975,
           0.08783822786966954,
           0.1015396136742492,
           0.17834935061295018,
           0.4317923855898621,
           0.8744680626424776,
           1.1014434104931243,
           1.0810827354368222,
           1.276235173399447,
           0.8734929508348602,
           0.2143686234571705,
           0.7248983008971625,
           1.2434941445630974,
           0.8856934420995217,
           0.38178109022923185,
           0.1476043036348707,
           0.09285694033525321,
           0.08681140972417231,
           0.08652017755609061
          ],
          [
           0.08651804844432505,
           0.0867529995554798,
           0.09279694793473534,
           0.15720673251594697,
           0.43645415744985505,
           0.8999053877391892,
           1.117531729159477,
           1.0057802324657346,
           0.9244366141035495,
           1.1560049587381007,
           1.1511079121352883,
           0.832156267070955,
           0.9949920770708137,
           1.152577998468529,
           0.9403828036199606,
           0.5260663585025128,
           0.20251325175190715,
           0.10010088957345123,
           0.08718535270523915,
           0.08652798738706265
          ],
          [
           0.08651797324920013,
           0.08675600114016985,
           0.0931083795255279,
           0.16345336942929037,
           0.47749574826555685,
           0.9881270420260986,
           1.164216510582107,
           1.0303242821012375,
           0.9635072712630002,
           1.074078903678631,
           1.1275413603562352,
           0.989725489141216,
           0.9978806326621129,
           1.0558908563096434,
           1.0289394045355926,
           0.6582141020348921,
           0.2477198399833715,
           0.10582238325020385,
           0.08747522681542583,
           0.08653398621157993
          ],
          [
           0.08651630142052066,
           0.08665775519315075,
           0.09079155396865768,
           0.1419924490300449,
           0.4024797049391792,
           0.8959473209482061,
           1.1271697329935253,
           1.03578717496388,
           0.9973194981021652,
           1.0548505288797947,
           1.0647118776931608,
           1.0219451524937397,
           1.0169143917432848,
           0.9449756435303449,
           0.8883851073257819,
           0.5798139520321971,
           0.22680691629079708,
           0.10336586183878085,
           0.08735368546071075,
           0.08653149131297064
          ],
          [
           0.08651511678251159,
           0.08658533060401505,
           0.08898009788091212,
           0.12353871185536641,
           0.32589508752711244,
           0.7593389705247424,
           0.9773649150011382,
           0.8498309324821949,
           0.8057043878759512,
           0.903046022638023,
           0.9398734730863854,
           0.9588655242821016,
           0.9483993042897105,
           0.7253517326810905,
           0.551561967681873,
           0.35214449097825073,
           0.16116866587234946,
           0.095464409154091,
           0.08695988416766748,
           0.08652338965714622
          ],
          [
           0.08651459774489287,
           0.08654835253278982,
           0.08783775448004054,
           0.10814180013345712,
           0.23481004301513247,
           0.5166182795325566,
           0.6461880253614203,
           0.5162671834293489,
           0.4695127390563608,
           0.5680651711804694,
           0.6266888340967081,
           0.6655573211867188,
           0.652783115800272,
           0.43874287305696436,
           0.2690070905739764,
           0.17536576690617425,
           0.11073588009801062,
           0.08940361931070197,
           0.08665795254010121,
           0.08651717905281311
          ],
          [
           0.0865143584987221,
           0.08652729364281608,
           0.08704284988389885,
           0.09539509016983644,
           0.1484345054704752,
           0.26692795687176757,
           0.31560201543488436,
           0.24536637750976137,
           0.21831009061433654,
           0.26878839571988333,
           0.3050296113049955,
           0.32978209886539606,
           0.32373166348875315,
           0.21940049278664175,
           0.13631691004579694,
           0.10525015381009697,
           0.09131541969170187,
           0.08708128972942185,
           0.0865423825186787,
           0.0865148025399891
          ],
          [
           0.08651425738975933,
           0.0865175486359459,
           0.08665040405418997,
           0.08881993260689947,
           0.10265552484952314,
           0.13347692112484175,
           0.14500680570001245,
           0.12393232339452045,
           0.11531818801476781,
           0.12958006827596935,
           0.14102065518465537,
           0.1492319979727753,
           0.14790638204267384,
           0.11908516796515083,
           0.09609487343579519,
           0.08908111234570348,
           0.08709902287707144,
           0.08658193341398883,
           0.08651757542076884,
           0.0865142926325941
          ]
         ]
        },
        {
         "mode": "lines",
         "showlegend": false,
         "type": "scatter",
         "x": [
          -1,
          -0.935483870967742,
          -0.8709677419354839,
          -0.8064516129032258,
          -0.7419354838709677,
          -0.6774193548387097,
          -0.6129032258064516,
          -0.5483870967741935,
          -0.4838709677419355,
          -0.4193548387096775,
          -0.3548387096774194,
          -0.29032258064516125,
          -0.22580645161290325,
          -0.16129032258064524,
          -0.09677419354838712,
          -0.032258064516129004,
          0.032258064516129004,
          0.09677419354838701,
          0.16129032258064502,
          0.22580645161290325,
          0.29032258064516125,
          0.35483870967741926,
          0.4193548387096775,
          0.4838709677419355,
          0.5483870967741935,
          0.6129032258064515,
          0.6774193548387095,
          0.7419354838709677,
          0.8064516129032258,
          0.8709677419354838,
          0.935483870967742,
          1
         ],
         "y": [
          0.4794621373315692,
          0.4996943124756602,
          0.4683784955424315,
          0.3887451965514415,
          0.26900931121591354,
          0.12152268008025488,
          -0.03850011565362892,
          -0.19455127591530402,
          -0.3305327107886136,
          -0.43241670422295087,
          -0.48969299993715243,
          -0.49645302950452086,
          -0.45199943467646087,
          -0.36091800619902337,
          -0.23260461798216914,
          -0.08029595764486853,
          0.08029595764486853,
          0.23260461798216892,
          0.360918006199023,
          0.45199943467646087,
          0.49645302950452086,
          0.4896929999371525,
          0.43241670422295087,
          0.3305327107886136,
          0.19455127591530402,
          0.038500115653629145,
          -0.12152268008025423,
          -0.26900931121591354,
          -0.3887451965514415,
          -0.4683784955424315,
          -0.4996943124756602,
          -0.4794621373315692
         ]
        }
       ],
       "layout": {
        "template": {
         "data": {
          "bar": [
           {
            "error_x": {
             "color": "#2a3f5f"
            },
            "error_y": {
             "color": "#2a3f5f"
            },
            "marker": {
             "line": {
              "color": "#E5ECF6",
              "width": 0.5
             }
            },
            "type": "bar"
           }
          ],
          "barpolar": [
           {
            "marker": {
             "line": {
              "color": "#E5ECF6",
              "width": 0.5
             }
            },
            "type": "barpolar"
           }
          ],
          "carpet": [
           {
            "aaxis": {
             "endlinecolor": "#2a3f5f",
             "gridcolor": "white",
             "linecolor": "white",
             "minorgridcolor": "white",
             "startlinecolor": "#2a3f5f"
            },
            "baxis": {
             "endlinecolor": "#2a3f5f",
             "gridcolor": "white",
             "linecolor": "white",
             "minorgridcolor": "white",
             "startlinecolor": "#2a3f5f"
            },
            "type": "carpet"
           }
          ],
          "choropleth": [
           {
            "colorbar": {
             "outlinewidth": 0,
             "ticks": ""
            },
            "type": "choropleth"
           }
          ],
          "contour": [
           {
            "colorbar": {
             "outlinewidth": 0,
             "ticks": ""
            },
            "colorscale": [
             [
              0,
              "#0d0887"
             ],
             [
              0.1111111111111111,
              "#46039f"
             ],
             [
              0.2222222222222222,
              "#7201a8"
             ],
             [
              0.3333333333333333,
              "#9c179e"
             ],
             [
              0.4444444444444444,
              "#bd3786"
             ],
             [
              0.5555555555555556,
              "#d8576b"
             ],
             [
              0.6666666666666666,
              "#ed7953"
             ],
             [
              0.7777777777777778,
              "#fb9f3a"
             ],
             [
              0.8888888888888888,
              "#fdca26"
             ],
             [
              1,
              "#f0f921"
             ]
            ],
            "type": "contour"
           }
          ],
          "contourcarpet": [
           {
            "colorbar": {
             "outlinewidth": 0,
             "ticks": ""
            },
            "type": "contourcarpet"
           }
          ],
          "heatmap": [
           {
            "colorbar": {
             "outlinewidth": 0,
             "ticks": ""
            },
            "colorscale": [
             [
              0,
              "#0d0887"
             ],
             [
              0.1111111111111111,
              "#46039f"
             ],
             [
              0.2222222222222222,
              "#7201a8"
             ],
             [
              0.3333333333333333,
              "#9c179e"
             ],
             [
              0.4444444444444444,
              "#bd3786"
             ],
             [
              0.5555555555555556,
              "#d8576b"
             ],
             [
              0.6666666666666666,
              "#ed7953"
             ],
             [
              0.7777777777777778,
              "#fb9f3a"
             ],
             [
              0.8888888888888888,
              "#fdca26"
             ],
             [
              1,
              "#f0f921"
             ]
            ],
            "type": "heatmap"
           }
          ],
          "heatmapgl": [
           {
            "colorbar": {
             "outlinewidth": 0,
             "ticks": ""
            },
            "colorscale": [
             [
              0,
              "#0d0887"
             ],
             [
              0.1111111111111111,
              "#46039f"
             ],
             [
              0.2222222222222222,
              "#7201a8"
             ],
             [
              0.3333333333333333,
              "#9c179e"
             ],
             [
              0.4444444444444444,
              "#bd3786"
             ],
             [
              0.5555555555555556,
              "#d8576b"
             ],
             [
              0.6666666666666666,
              "#ed7953"
             ],
             [
              0.7777777777777778,
              "#fb9f3a"
             ],
             [
              0.8888888888888888,
              "#fdca26"
             ],
             [
              1,
              "#f0f921"
             ]
            ],
            "type": "heatmapgl"
           }
          ],
          "histogram": [
           {
            "marker": {
             "colorbar": {
              "outlinewidth": 0,
              "ticks": ""
             }
            },
            "type": "histogram"
           }
          ],
          "histogram2d": [
           {
            "colorbar": {
             "outlinewidth": 0,
             "ticks": ""
            },
            "colorscale": [
             [
              0,
              "#0d0887"
             ],
             [
              0.1111111111111111,
              "#46039f"
             ],
             [
              0.2222222222222222,
              "#7201a8"
             ],
             [
              0.3333333333333333,
              "#9c179e"
             ],
             [
              0.4444444444444444,
              "#bd3786"
             ],
             [
              0.5555555555555556,
              "#d8576b"
             ],
             [
              0.6666666666666666,
              "#ed7953"
             ],
             [
              0.7777777777777778,
              "#fb9f3a"
             ],
             [
              0.8888888888888888,
              "#fdca26"
             ],
             [
              1,
              "#f0f921"
             ]
            ],
            "type": "histogram2d"
           }
          ],
          "histogram2dcontour": [
           {
            "colorbar": {
             "outlinewidth": 0,
             "ticks": ""
            },
            "colorscale": [
             [
              0,
              "#0d0887"
             ],
             [
              0.1111111111111111,
              "#46039f"
             ],
             [
              0.2222222222222222,
              "#7201a8"
             ],
             [
              0.3333333333333333,
              "#9c179e"
             ],
             [
              0.4444444444444444,
              "#bd3786"
             ],
             [
              0.5555555555555556,
              "#d8576b"
             ],
             [
              0.6666666666666666,
              "#ed7953"
             ],
             [
              0.7777777777777778,
              "#fb9f3a"
             ],
             [
              0.8888888888888888,
              "#fdca26"
             ],
             [
              1,
              "#f0f921"
             ]
            ],
            "type": "histogram2dcontour"
           }
          ],
          "mesh3d": [
           {
            "colorbar": {
             "outlinewidth": 0,
             "ticks": ""
            },
            "type": "mesh3d"
           }
          ],
          "parcoords": [
           {
            "line": {
             "colorbar": {
              "outlinewidth": 0,
              "ticks": ""
             }
            },
            "type": "parcoords"
           }
          ],
          "pie": [
           {
            "automargin": true,
            "type": "pie"
           }
          ],
          "scatter": [
           {
            "marker": {
             "colorbar": {
              "outlinewidth": 0,
              "ticks": ""
             }
            },
            "type": "scatter"
           }
          ],
          "scatter3d": [
           {
            "line": {
             "colorbar": {
              "outlinewidth": 0,
              "ticks": ""
             }
            },
            "marker": {
             "colorbar": {
              "outlinewidth": 0,
              "ticks": ""
             }
            },
            "type": "scatter3d"
           }
          ],
          "scattercarpet": [
           {
            "marker": {
             "colorbar": {
              "outlinewidth": 0,
              "ticks": ""
             }
            },
            "type": "scattercarpet"
           }
          ],
          "scattergeo": [
           {
            "marker": {
             "colorbar": {
              "outlinewidth": 0,
              "ticks": ""
             }
            },
            "type": "scattergeo"
           }
          ],
          "scattergl": [
           {
            "marker": {
             "colorbar": {
              "outlinewidth": 0,
              "ticks": ""
             }
            },
            "type": "scattergl"
           }
          ],
          "scattermapbox": [
           {
            "marker": {
             "colorbar": {
              "outlinewidth": 0,
              "ticks": ""
             }
            },
            "type": "scattermapbox"
           }
          ],
          "scatterpolar": [
           {
            "marker": {
             "colorbar": {
              "outlinewidth": 0,
              "ticks": ""
             }
            },
            "type": "scatterpolar"
           }
          ],
          "scatterpolargl": [
           {
            "marker": {
             "colorbar": {
              "outlinewidth": 0,
              "ticks": ""
             }
            },
            "type": "scatterpolargl"
           }
          ],
          "scatterternary": [
           {
            "marker": {
             "colorbar": {
              "outlinewidth": 0,
              "ticks": ""
             }
            },
            "type": "scatterternary"
           }
          ],
          "surface": [
           {
            "colorbar": {
             "outlinewidth": 0,
             "ticks": ""
            },
            "colorscale": [
             [
              0,
              "#0d0887"
             ],
             [
              0.1111111111111111,
              "#46039f"
             ],
             [
              0.2222222222222222,
              "#7201a8"
             ],
             [
              0.3333333333333333,
              "#9c179e"
             ],
             [
              0.4444444444444444,
              "#bd3786"
             ],
             [
              0.5555555555555556,
              "#d8576b"
             ],
             [
              0.6666666666666666,
              "#ed7953"
             ],
             [
              0.7777777777777778,
              "#fb9f3a"
             ],
             [
              0.8888888888888888,
              "#fdca26"
             ],
             [
              1,
              "#f0f921"
             ]
            ],
            "type": "surface"
           }
          ],
          "table": [
           {
            "cells": {
             "fill": {
              "color": "#EBF0F8"
             },
             "line": {
              "color": "white"
             }
            },
            "header": {
             "fill": {
              "color": "#C8D4E3"
             },
             "line": {
              "color": "white"
             }
            },
            "type": "table"
           }
          ]
         },
         "layout": {
          "annotationdefaults": {
           "arrowcolor": "#2a3f5f",
           "arrowhead": 0,
           "arrowwidth": 1
          },
          "coloraxis": {
           "colorbar": {
            "outlinewidth": 0,
            "ticks": ""
           }
          },
          "colorscale": {
           "diverging": [
            [
             0,
             "#8e0152"
            ],
            [
             0.1,
             "#c51b7d"
            ],
            [
             0.2,
             "#de77ae"
            ],
            [
             0.3,
             "#f1b6da"
            ],
            [
             0.4,
             "#fde0ef"
            ],
            [
             0.5,
             "#f7f7f7"
            ],
            [
             0.6,
             "#e6f5d0"
            ],
            [
             0.7,
             "#b8e186"
            ],
            [
             0.8,
             "#7fbc41"
            ],
            [
             0.9,
             "#4d9221"
            ],
            [
             1,
             "#276419"
            ]
           ],
           "sequential": [
            [
             0,
             "#0d0887"
            ],
            [
             0.1111111111111111,
             "#46039f"
            ],
            [
             0.2222222222222222,
             "#7201a8"
            ],
            [
             0.3333333333333333,
             "#9c179e"
            ],
            [
             0.4444444444444444,
             "#bd3786"
            ],
            [
             0.5555555555555556,
             "#d8576b"
            ],
            [
             0.6666666666666666,
             "#ed7953"
            ],
            [
             0.7777777777777778,
             "#fb9f3a"
            ],
            [
             0.8888888888888888,
             "#fdca26"
            ],
            [
             1,
             "#f0f921"
            ]
           ],
           "sequentialminus": [
            [
             0,
             "#0d0887"
            ],
            [
             0.1111111111111111,
             "#46039f"
            ],
            [
             0.2222222222222222,
             "#7201a8"
            ],
            [
             0.3333333333333333,
             "#9c179e"
            ],
            [
             0.4444444444444444,
             "#bd3786"
            ],
            [
             0.5555555555555556,
             "#d8576b"
            ],
            [
             0.6666666666666666,
             "#ed7953"
            ],
            [
             0.7777777777777778,
             "#fb9f3a"
            ],
            [
             0.8888888888888888,
             "#fdca26"
            ],
            [
             1,
             "#f0f921"
            ]
           ]
          },
          "colorway": [
           "#636efa",
           "#EF553B",
           "#00cc96",
           "#ab63fa",
           "#FFA15A",
           "#19d3f3",
           "#FF6692",
           "#B6E880",
           "#FF97FF",
           "#FECB52"
          ],
          "font": {
           "color": "#2a3f5f"
          },
          "geo": {
           "bgcolor": "white",
           "lakecolor": "white",
           "landcolor": "#E5ECF6",
           "showlakes": true,
           "showland": true,
           "subunitcolor": "white"
          },
          "hoverlabel": {
           "align": "left"
          },
          "hovermode": "closest",
          "mapbox": {
           "style": "light"
          },
          "paper_bgcolor": "white",
          "plot_bgcolor": "#E5ECF6",
          "polar": {
           "angularaxis": {
            "gridcolor": "white",
            "linecolor": "white",
            "ticks": ""
           },
           "bgcolor": "#E5ECF6",
           "radialaxis": {
            "gridcolor": "white",
            "linecolor": "white",
            "ticks": ""
           }
          },
          "scene": {
           "xaxis": {
            "backgroundcolor": "#E5ECF6",
            "gridcolor": "white",
            "gridwidth": 2,
            "linecolor": "white",
            "showbackground": true,
            "ticks": "",
            "zerolinecolor": "white"
           },
           "yaxis": {
            "backgroundcolor": "#E5ECF6",
            "gridcolor": "white",
            "gridwidth": 2,
            "linecolor": "white",
            "showbackground": true,
            "ticks": "",
            "zerolinecolor": "white"
           },
           "zaxis": {
            "backgroundcolor": "#E5ECF6",
            "gridcolor": "white",
            "gridwidth": 2,
            "linecolor": "white",
            "showbackground": true,
            "ticks": "",
            "zerolinecolor": "white"
           }
          },
          "shapedefaults": {
           "line": {
            "color": "#2a3f5f"
           }
          },
          "ternary": {
           "aaxis": {
            "gridcolor": "white",
            "linecolor": "white",
            "ticks": ""
           },
           "baxis": {
            "gridcolor": "white",
            "linecolor": "white",
            "ticks": ""
           },
           "bgcolor": "#E5ECF6",
           "caxis": {
            "gridcolor": "white",
            "linecolor": "white",
            "ticks": ""
           }
          },
          "title": {
           "x": 0.05
          },
          "xaxis": {
           "automargin": true,
           "gridcolor": "white",
           "linecolor": "white",
           "ticks": "",
           "title": {
            "standoff": 15
           },
           "zerolinecolor": "white",
           "zerolinewidth": 2
          },
          "yaxis": {
           "automargin": true,
           "gridcolor": "white",
           "linecolor": "white",
           "ticks": "",
           "title": {
            "standoff": 15
           },
           "zerolinecolor": "white",
           "zerolinewidth": 2
          }
         }
        },
        "title": {
         "text": "Decision function"
        },
        "width": 600
       }
      },
      "text/html": [
       "<div>\n",
       "        \n",
       "        \n",
       "            <div id=\"230b24dc-960a-4667-941a-262b98f706ec\" class=\"plotly-graph-div\" style=\"height:525px; width:600px;\"></div>\n",
       "            <script type=\"text/javascript\">\n",
       "                require([\"plotly\"], function(Plotly) {\n",
       "                    window.PLOTLYENV=window.PLOTLYENV || {};\n",
       "                    \n",
       "                if (document.getElementById(\"230b24dc-960a-4667-941a-262b98f706ec\")) {\n",
       "                    Plotly.newPlot(\n",
       "                        '230b24dc-960a-4667-941a-262b98f706ec',\n",
       "                        [{\"marker\": {\"color\": [1.0, -1.0, -1.0, 1.0, -1.0, 1.0, -1.0, 1.0, 1.0, -1.0, -1.0, 1.0, 1.0, -1.0, -1.0, 1.0, 1.0, 1.0, -1.0, 1.0, 1.0, 1.0, -1.0, -1.0, -1.0, -1.0, -1.0, -1.0, 1.0, 1.0, 1.0, -1.0, -1.0, 1.0, 1.0, -1.0, -1.0, 1.0, 1.0, -1.0, -1.0, -1.0, -1.0, 1.0, 1.0, 1.0, -1.0, 1.0, 1.0, -1.0, 1.0, -1.0, 1.0, 1.0, -1.0, 1.0, -1.0, 1.0, 1.0, -1.0, -1.0, -1.0, 1.0, 1.0, 1.0, -1.0, -1.0, 1.0, 1.0, -1.0, 1.0, 1.0, -1.0, -1.0, 1.0, -1.0, 1.0, -1.0, 1.0, 1.0, -1.0, -1.0, 1.0, 1.0, -1.0, 1.0, -1.0, 1.0, -1.0, -1.0, -1.0, -1.0, 1.0, 1.0, -1.0, 1.0, -1.0, -1.0, 1.0, 1.0, -1.0, -1.0, 1.0, -1.0, 1.0, 1.0, -1.0, -1.0, -1.0, 1.0, 1.0, 1.0, -1.0, 1.0, -1.0, 1.0, -1.0, -1.0, -1.0, 1.0, 1.0, -1.0, 1.0, 1.0, -1.0, -1.0, 1.0, -1.0], \"colorscale\": [[0.0, \"rgb(103,0,31)\"], [0.1, \"rgb(178,24,43)\"], [0.2, \"rgb(214,96,77)\"], [0.3, \"rgb(244,165,130)\"], [0.4, \"rgb(253,219,199)\"], [0.5, \"rgb(247,247,247)\"], [0.6, \"rgb(209,229,240)\"], [0.7, \"rgb(146,197,222)\"], [0.8, \"rgb(67,147,195)\"], [0.9, \"rgb(33,102,172)\"], [1.0, \"rgb(5,48,97)\"]], \"size\": 10}, \"mode\": \"markers\", \"showlegend\": false, \"type\": \"scatter\", \"x\": [0.9725536577231977, 0.019491049943163086, -0.3261625445080729, -0.44704571369240087, 0.7243178709197058, -0.7182255102951693, 0.47264983630721646, -0.31781396697724795, -0.565798722491812, -0.7516424445485406, 0.9064277463414698, 0.1388261937606614, 0.006734121920556335, -0.9316170039712195, -0.6882972744358813, -0.6605951231951612, -0.25321248465679247, 0.7166331758358033, 0.16692339546489388, -0.6444147596206389, -0.11525483630306499, 0.527841432578291, -0.8588531457788544, 0.27378846393161993, -0.6161425732957695, 0.02684041567968065, 0.19804003738063058, -0.3982750111338085, 0.1286401175491414, 0.6060552843619602, -0.07723144822941297, 0.499331276215482, -0.03437974727725113, 0.7885662075787618, 0.47568692224591014, -0.5385317172343462, 0.22831624369129289, -0.40135550815460563, 0.905104871218934, -0.8442755283476089, 0.15309623387915106, 0.988917399364774, 0.6816896655867875, 0.7433749682985351, -0.10159106198342616, 0.9579562655376166, -0.10553833260813805, 0.8634587601578927, 0.8646555861368634, -0.6786431513210474, -0.46142268529323727, -0.4091181302825009, -0.4549134086153268, 0.8337228110526111, 0.8004441207624269, -0.9180952510329765, 0.40158629051602635, 0.10569156374004929, 0.7078626116057507, -0.0951711863660667, 0.26123965422988493, -0.2594878980626407, 0.5183687857405443, -0.44194373083525007, -0.600166021957854, -0.5942531154432378, -0.25600910908792085, -0.8008364200053788, 0.8515459862364703, -0.5552556135718028, 0.8910818346697007, -0.3426447025396766, 0.41136619414680053, -0.010050984353052295, 0.12286427521441179, 0.15762317907372148, -0.6092157333802137, 0.41428631222104184, -0.5063273344072228, -0.831930791725936, 0.4325846429737308, -0.9039483562432415, -0.6073914050418245, 0.11828607010210024, -0.3201401681958016, 0.023528624464017822, 0.758340653368589, -0.001971932281604527, -0.757487383023058, 0.20161134225810917, -0.526803710381774, 0.96964443267549, -0.9140114545275728, 0.47924836079278155, 0.20917758459864522, -0.8232881330225967, 0.33553842636723363, -0.825269211928825, 0.9395001749451066, -0.528915419073273, -0.7275440258990524, -0.46082309953378586, -0.2865408436230812, 0.17254979366903855, 0.4578281510680873, -0.6856145842084127, 0.3055232405894468, 0.39364841389050476, -0.5766406693484727, -0.08177753137562571, 0.7385054711973713, 0.7338988709571135, 0.0950658181408961, -0.551288651921608, 0.6547346014519084, 0.04913052003556362, 0.6837540895908267, -0.08149309336160449, 0.024244114427812713, -0.6084849441037941, 0.7497215223686391, -0.8643797949389376, 0.4551305920714366, 0.6267271763217697, 0.11311305879994382, 0.4607340345486166, -0.23603890403983963, 0.27095706265079467], \"y\": [0.7467838916413092, -0.4563285714358485, -0.5660914699661515, -0.3133688144410849, -0.6866006599810228, 0.5141605612813767, -0.2886738167284366, 0.3336061011066529, 0.12285396486587463, -0.36052703109294426, -0.7252864184044392, 0.951330965846412, 0.3353284122962119, -0.08776126737914058, -0.047902067002260074, 0.792516674480342, -0.24061413905049656, 0.29212210976951436, 0.3367000536776703, 0.6984960336357258, 0.6629354195428565, 0.8393819531399234, -0.6876691671210882, 0.11139137486249662, -0.14868803469344027, -0.46124482853952586, -0.5596521097365512, -0.9032110318751712, 0.8720644097439192, 0.3946102986918616, 0.32486922204759705, 0.0629097846715081, -0.9414515340041523, 0.6630641672828721, 0.7969945967864307, -0.6400789804859051, -0.9666610359390004, 0.3370817554741512, 0.6324140243417036, -0.7307741424390188, -0.6454427515091816, -0.7652502648459365, -0.9719465403076488, 0.8048134902198818, 0.23636395135039812, -0.2054430316331246, -0.5334800404445439, -0.45439506256501216, -0.17353900642070808, -0.06239494378065569, 0.8885371441251959, -0.6968802958634406, 0.7299621780755394, 0.49956118838576424, -0.9551873695287953, 0.7971060225690321, 0.3386941058827615, 0.4454833239172371, 0.21803714974217692, -0.40668094421936885, 0.014069691027228881, -0.7235733083376845, 0.9179563995129252, 0.4616088042949624, 0.2875386363165633, -0.8991169853869507, -0.9718145894630112, 0.9986982113334157, 0.6298061105219981, -0.8051498448803929, 0.5242700527225772, 0.8519153764091825, -0.8864115557156702, -0.21038713262498665, 0.46220997701455047, -0.9241192629180921, 0.3322685164786827, -0.36390649398569397, 0.6769104884470312, 0.5125929008898573, -0.10394313895011908, 0.34583687442525646, 0.8879009117188754, 0.662663270691388, -0.5876643165013586, 0.9815757231941034, -0.8095957583356086, 0.20412673004798854, -0.2078590681273509, -0.07895601153470366, -0.7882805690318808, -0.9868691348997252, 0.5001637764123068, 0.9980899752666152, -0.6859758692237552, 0.705125845682028, -0.41442350224753355, -0.3737291924806321, 0.6237848987895114, -0.1377166217529011, -0.8273161933406503, -0.6602784251292135, 0.8702481457576814, -0.5413543691593758, 0.41998167505923734, 0.4195074439500295, -0.06372191839351271, -0.16567415060208135, -0.4600386908189473, 0.2488850534088871, 0.6172641530025427, 0.12414983656260947, -0.3893671299413666, -0.05606682092420123, -0.7179716345549318, 0.19117233377926945, -0.28238312533838283, -0.41261832868797343, -0.7441905883541504, 0.14516805031369695, 0.6847444864341203, -0.37961078026273043, 0.7892530045999011, 0.3423847537375695, 0.22800802602497483, -0.8084553708007709, -0.11950362927742897, -0.6228872650103252]}, {\"colorscale\": [[0.0, \"rgb(103,0,31)\"], [0.1, \"rgb(178,24,43)\"], [0.2, \"rgb(214,96,77)\"], [0.3, \"rgb(244,165,130)\"], [0.4, \"rgb(253,219,199)\"], [0.5, \"rgb(247,247,247)\"], [0.6, \"rgb(209,229,240)\"], [0.7, \"rgb(146,197,222)\"], [0.8, \"rgb(67,147,195)\"], [0.9, \"rgb(33,102,172)\"], [1.0, \"rgb(5,48,97)\"]], \"type\": \"contour\", \"x\": [-2.0, -1.7894736842105263, -1.5789473684210527, -1.368421052631579, -1.1578947368421053, -0.9473684210526316, -0.736842105263158, -0.5263157894736843, -0.3157894736842106, -0.10526315789473695, 0.10526315789473673, 0.3157894736842106, 0.5263157894736841, 0.7368421052631575, 0.9473684210526314, 1.1578947368421053, 1.3684210526315788, 1.5789473684210522, 1.789473684210526, 2.0], \"y\": [-1.5, -1.3421052631578947, -1.1842105263157894, -1.0263157894736843, -0.868421052631579, -0.7105263157894737, -0.5526315789473685, -0.3947368421052632, -0.23684210526315796, -0.07894736842105271, 0.07894736842105254, 0.23684210526315796, 0.39473684210526305, 0.5526315789473681, 0.7105263157894736, 0.868421052631579, 1.026315789473684, 1.1842105263157892, 1.3421052631578947, 1.5], \"z\": [[0.08651422127313967, 0.08651401200216807, 0.08650657360801156, 0.08638840897142477, 0.08546771522698768, 0.0815972955322197, 0.07216992983226224, 0.05632506236628432, 0.03966345818115193, 0.03534003368422896, 0.034538305399442436, 0.03893305709648312, 0.04864697973941039, 0.04550439834637632, 0.04444074875734228, 0.061689943085965156, 0.0796847137430459, 0.08570666296227157, 0.0864743218371491, 0.08651340728177442], [0.08651420099656552, 0.08651232518820369, 0.08644744458982045, 0.08548284559510463, 0.07890435014410097, 0.056038491425345796, 0.010449577935312149, -0.05376847795942084, -0.11608059377843753, -0.13132011367435148, -0.1356704948655093, -0.11833563549144012, -0.07866162525650976, -0.09306786467462412, -0.09682783609382205, -0.02136323032021903, 0.05681073428082493, 0.08299037762745182, 0.0863392743006814, 0.08651062297626642], [0.08651409753173908, 0.08650377965656565, 0.08615290116992927, 0.08115576826277511, 0.05033349443361781, -0.03858195675221897, -0.17625651532993064, -0.3282780213434789, -0.4600374412640993, -0.4861693271330173, -0.4995546513594997, -0.46224238217865554, -0.372866481289094, -0.4265231695929629, -0.43676485099136886, -0.22035890008413167, 0.001908746094896288, 0.0764273124282732, 0.08600982701563953, 0.08650375251961516], [0.08651379544122523, 0.08647896825797634, 0.08530708860240502, 0.06904804344630325, -0.02480772443234909, -0.257361414104024, -0.5279799527299626, -0.7333615106942305, -0.8764292782472308, -0.8778237525095498, -0.8965286821913685, -0.8593333788760682, -0.7635906965397253, -0.9068247162527846, -0.9209781477484874, -0.5001077859212303, -0.0755087192782906, 0.06705467702939091, 0.0855313828630815, 0.08649358856871224], [0.08651332596570602, 0.08644070466467539, 0.08401484581765105, 0.050835660023581586, -0.13418371149782377, -0.5535770328284095, -0.9406704142727015, -1.1049147220168336, -1.1530005338283693, -1.076333921455811, -1.0622148583033781, -1.0473320511046056, -1.0239618065572211, -1.235488987787749, -1.2077550992561268, -0.657308313629888, -0.12074032125624477, 0.061224001392880284, 0.08521584751858435, 0.08648654532086447], [0.08651301641407427, 0.08641653495964847, 0.08322264640330626, 0.03980635103133713, -0.20153644085420425, -0.7458665738593766, -1.2153733030367169, -1.2993147214874248, -1.2403613787203311, -1.153890589513848, -1.0696041902584785, -1.0137421430025801, -1.0148589510604156, -1.0662088061510087, -0.8824757337712361, -0.45925788600490036, -0.07388343843302862, 0.06579936459775852, 0.08540419473861954, 0.08648982973421807], [0.08651299980198927, 0.08641976709936379, 0.08342373330235017, 0.042917732723184054, -0.18957735610302806, -0.7539563500081305, -1.2299571715782396, -1.0941136037407064, -0.9563772759565966, -1.183896955188573, -1.1559628787097382, -0.9724854439300373, -0.874413288493756, -0.4934706144710381, -0.03557007925161618, 0.03319919146437086, 0.04736148974645835, 0.07870402940441006, 0.08599783794809396, 0.08650153823711196], [0.08651282082790973, 0.08641749625056544, 0.08359191921310559, 0.04632525239342853, -0.17809442288675426, -0.7603717150009122, -1.0937788762740974, -0.37668049081349575, -0.07143295744051258, -0.930020120461548, -1.2570197829474028, -1.0411877887486636, -0.8438089647350114, -0.013643394992456037, 0.7168806277343788, 0.4685687038095985, 0.15433386090301093, 0.09016179607707364, 0.08653098123551824, 0.08651219531915413], [0.08651215777497145, 0.08638302553518223, 0.08283022347725687, 0.037926250752484514, -0.23128867483992877, -0.9019330812092229, -1.0163254436391833, 0.391808541641419, 0.9423225135687756, -0.33279822111690616, -1.1294049191128646, -1.1636332852864115, -0.8920107433948845, 0.25803823918086627, 1.0627759313711844, 0.6392368461268402, 0.19459597196506312, 0.09461358354673514, 0.08674917034244123, 0.08651676518885505], [0.08651137262114997, 0.08633579099654964, 0.08164027882362102, 0.02519121760528377, -0.28638827622817, -0.9523703695483926, -0.8072457213577413, 0.8496381890340361, 1.462463339051261, 0.37653969560277784, -0.7074279477204397, -1.2504531001647345, -0.8270186576968628, 0.5578153639140062, 1.148630261903114, 0.6028216964450079, 0.1818549908476309, 0.09366370409606246, 0.08673428082591869, 0.08651699667219347], [0.08651102172086367, 0.08631040840182048, 0.08099277056248774, 0.02100651798801513, -0.26181671231614206, -0.6841266864429423, -0.21816334335384668, 1.1391346962011057, 1.532227180497446, 0.9731248104773381, -0.16889606993504186, -1.1635748269516573, -0.51568814701048, 0.9130583369826725, 1.1043326476060131, 0.4808116371610673, 0.15035703341392964, 0.09099961382146717, 0.08665076271773424, 0.08651601312446644], [0.08651207904656456, 0.08637218825457565, 0.08262648070544304, 0.0424959463445109, -0.11296582919630495, -0.1834410945371222, 0.4298335610327879, 1.2270665895888315, 1.3582697360056508, 1.2718412556189487, 0.3615551706704505, -0.6482859047978956, 0.09347044106362458, 1.1811861519583606, 0.9809785160003928, 0.3768400751572931, 0.13106964905057544, 0.08987896014082651, 0.08663696389257146, 0.08651629531544737], [0.08651521137430841, 0.08656906351178975, 0.08783822786966954, 0.1015396136742492, 0.17834935061295018, 0.4317923855898621, 0.8744680626424776, 1.1014434104931243, 1.0810827354368222, 1.276235173399447, 0.8734929508348602, 0.2143686234571705, 0.7248983008971625, 1.2434941445630974, 0.8856934420995217, 0.38178109022923185, 0.1476043036348707, 0.09285694033525321, 0.08681140972417231, 0.08652017755609061], [0.08651804844432505, 0.0867529995554798, 0.09279694793473534, 0.15720673251594697, 0.43645415744985505, 0.8999053877391892, 1.117531729159477, 1.0057802324657346, 0.9244366141035495, 1.1560049587381007, 1.1511079121352883, 0.832156267070955, 0.9949920770708137, 1.152577998468529, 0.9403828036199606, 0.5260663585025128, 0.20251325175190715, 0.10010088957345123, 0.08718535270523915, 0.08652798738706265], [0.08651797324920013, 0.08675600114016985, 0.0931083795255279, 0.16345336942929037, 0.47749574826555685, 0.9881270420260986, 1.164216510582107, 1.0303242821012375, 0.9635072712630002, 1.074078903678631, 1.1275413603562352, 0.989725489141216, 0.9978806326621129, 1.0558908563096434, 1.0289394045355926, 0.6582141020348921, 0.2477198399833715, 0.10582238325020385, 0.08747522681542583, 0.08653398621157993], [0.08651630142052066, 0.08665775519315075, 0.09079155396865768, 0.1419924490300449, 0.4024797049391792, 0.8959473209482061, 1.1271697329935253, 1.03578717496388, 0.9973194981021652, 1.0548505288797947, 1.0647118776931608, 1.0219451524937397, 1.0169143917432848, 0.9449756435303449, 0.8883851073257819, 0.5798139520321971, 0.22680691629079708, 0.10336586183878085, 0.08735368546071075, 0.08653149131297064], [0.08651511678251159, 0.08658533060401505, 0.08898009788091212, 0.12353871185536641, 0.32589508752711244, 0.7593389705247424, 0.9773649150011382, 0.8498309324821949, 0.8057043878759512, 0.903046022638023, 0.9398734730863854, 0.9588655242821016, 0.9483993042897105, 0.7253517326810905, 0.551561967681873, 0.35214449097825073, 0.16116866587234946, 0.095464409154091, 0.08695988416766748, 0.08652338965714622], [0.08651459774489287, 0.08654835253278982, 0.08783775448004054, 0.10814180013345712, 0.23481004301513247, 0.5166182795325566, 0.6461880253614203, 0.5162671834293489, 0.4695127390563608, 0.5680651711804694, 0.6266888340967081, 0.6655573211867188, 0.652783115800272, 0.43874287305696436, 0.2690070905739764, 0.17536576690617425, 0.11073588009801062, 0.08940361931070197, 0.08665795254010121, 0.08651717905281311], [0.0865143584987221, 0.08652729364281608, 0.08704284988389885, 0.09539509016983644, 0.1484345054704752, 0.26692795687176757, 0.31560201543488436, 0.24536637750976137, 0.21831009061433654, 0.26878839571988333, 0.3050296113049955, 0.32978209886539606, 0.32373166348875315, 0.21940049278664175, 0.13631691004579694, 0.10525015381009697, 0.09131541969170187, 0.08708128972942185, 0.0865423825186787, 0.0865148025399891], [0.08651425738975933, 0.0865175486359459, 0.08665040405418997, 0.08881993260689947, 0.10265552484952314, 0.13347692112484175, 0.14500680570001245, 0.12393232339452045, 0.11531818801476781, 0.12958006827596935, 0.14102065518465537, 0.1492319979727753, 0.14790638204267384, 0.11908516796515083, 0.09609487343579519, 0.08908111234570348, 0.08709902287707144, 0.08658193341398883, 0.08651757542076884, 0.0865142926325941]]}, {\"mode\": \"lines\", \"showlegend\": false, \"type\": \"scatter\", \"x\": [-1.0, -0.935483870967742, -0.8709677419354839, -0.8064516129032258, -0.7419354838709677, -0.6774193548387097, -0.6129032258064516, -0.5483870967741935, -0.4838709677419355, -0.4193548387096775, -0.3548387096774194, -0.29032258064516125, -0.22580645161290325, -0.16129032258064524, -0.09677419354838712, -0.032258064516129004, 0.032258064516129004, 0.09677419354838701, 0.16129032258064502, 0.22580645161290325, 0.29032258064516125, 0.35483870967741926, 0.4193548387096775, 0.4838709677419355, 0.5483870967741935, 0.6129032258064515, 0.6774193548387095, 0.7419354838709677, 0.8064516129032258, 0.8709677419354838, 0.935483870967742, 1.0], \"y\": [0.4794621373315692, 0.4996943124756602, 0.4683784955424315, 0.3887451965514415, 0.26900931121591354, 0.12152268008025488, -0.03850011565362892, -0.19455127591530402, -0.3305327107886136, -0.43241670422295087, -0.48969299993715243, -0.49645302950452086, -0.45199943467646087, -0.36091800619902337, -0.23260461798216914, -0.08029595764486853, 0.08029595764486853, 0.23260461798216892, 0.360918006199023, 0.45199943467646087, 0.49645302950452086, 0.4896929999371525, 0.43241670422295087, 0.3305327107886136, 0.19455127591530402, 0.038500115653629145, -0.12152268008025423, -0.26900931121591354, -0.3887451965514415, -0.4683784955424315, -0.4996943124756602, -0.4794621373315692]}],\n",
       "                        {\"template\": {\"data\": {\"bar\": [{\"error_x\": {\"color\": \"#2a3f5f\"}, \"error_y\": {\"color\": \"#2a3f5f\"}, \"marker\": {\"line\": {\"color\": \"#E5ECF6\", \"width\": 0.5}}, \"type\": \"bar\"}], \"barpolar\": [{\"marker\": {\"line\": {\"color\": \"#E5ECF6\", \"width\": 0.5}}, \"type\": \"barpolar\"}], \"carpet\": [{\"aaxis\": {\"endlinecolor\": \"#2a3f5f\", \"gridcolor\": \"white\", \"linecolor\": \"white\", \"minorgridcolor\": \"white\", \"startlinecolor\": \"#2a3f5f\"}, \"baxis\": {\"endlinecolor\": \"#2a3f5f\", \"gridcolor\": \"white\", \"linecolor\": \"white\", \"minorgridcolor\": \"white\", \"startlinecolor\": \"#2a3f5f\"}, \"type\": \"carpet\"}], \"choropleth\": [{\"colorbar\": {\"outlinewidth\": 0, \"ticks\": \"\"}, \"type\": \"choropleth\"}], \"contour\": [{\"colorbar\": {\"outlinewidth\": 0, \"ticks\": \"\"}, \"colorscale\": [[0.0, \"#0d0887\"], [0.1111111111111111, \"#46039f\"], [0.2222222222222222, \"#7201a8\"], [0.3333333333333333, \"#9c179e\"], [0.4444444444444444, \"#bd3786\"], [0.5555555555555556, \"#d8576b\"], [0.6666666666666666, \"#ed7953\"], [0.7777777777777778, \"#fb9f3a\"], [0.8888888888888888, \"#fdca26\"], [1.0, \"#f0f921\"]], \"type\": \"contour\"}], \"contourcarpet\": [{\"colorbar\": {\"outlinewidth\": 0, \"ticks\": \"\"}, \"type\": \"contourcarpet\"}], \"heatmap\": [{\"colorbar\": {\"outlinewidth\": 0, \"ticks\": \"\"}, \"colorscale\": [[0.0, \"#0d0887\"], [0.1111111111111111, \"#46039f\"], [0.2222222222222222, \"#7201a8\"], [0.3333333333333333, \"#9c179e\"], [0.4444444444444444, \"#bd3786\"], [0.5555555555555556, \"#d8576b\"], [0.6666666666666666, \"#ed7953\"], [0.7777777777777778, \"#fb9f3a\"], [0.8888888888888888, \"#fdca26\"], [1.0, \"#f0f921\"]], \"type\": \"heatmap\"}], \"heatmapgl\": [{\"colorbar\": {\"outlinewidth\": 0, \"ticks\": \"\"}, \"colorscale\": [[0.0, \"#0d0887\"], [0.1111111111111111, \"#46039f\"], [0.2222222222222222, \"#7201a8\"], [0.3333333333333333, \"#9c179e\"], [0.4444444444444444, \"#bd3786\"], [0.5555555555555556, \"#d8576b\"], [0.6666666666666666, \"#ed7953\"], [0.7777777777777778, \"#fb9f3a\"], [0.8888888888888888, \"#fdca26\"], [1.0, \"#f0f921\"]], \"type\": \"heatmapgl\"}], \"histogram\": [{\"marker\": {\"colorbar\": {\"outlinewidth\": 0, \"ticks\": \"\"}}, \"type\": \"histogram\"}], \"histogram2d\": [{\"colorbar\": {\"outlinewidth\": 0, \"ticks\": \"\"}, \"colorscale\": [[0.0, \"#0d0887\"], [0.1111111111111111, \"#46039f\"], [0.2222222222222222, \"#7201a8\"], [0.3333333333333333, \"#9c179e\"], [0.4444444444444444, \"#bd3786\"], [0.5555555555555556, \"#d8576b\"], [0.6666666666666666, \"#ed7953\"], [0.7777777777777778, \"#fb9f3a\"], [0.8888888888888888, \"#fdca26\"], [1.0, \"#f0f921\"]], \"type\": \"histogram2d\"}], \"histogram2dcontour\": [{\"colorbar\": {\"outlinewidth\": 0, \"ticks\": \"\"}, \"colorscale\": [[0.0, \"#0d0887\"], [0.1111111111111111, \"#46039f\"], [0.2222222222222222, \"#7201a8\"], [0.3333333333333333, \"#9c179e\"], [0.4444444444444444, \"#bd3786\"], [0.5555555555555556, \"#d8576b\"], [0.6666666666666666, \"#ed7953\"], [0.7777777777777778, \"#fb9f3a\"], [0.8888888888888888, \"#fdca26\"], [1.0, \"#f0f921\"]], \"type\": \"histogram2dcontour\"}], \"mesh3d\": [{\"colorbar\": {\"outlinewidth\": 0, \"ticks\": \"\"}, \"type\": \"mesh3d\"}], \"parcoords\": [{\"line\": {\"colorbar\": {\"outlinewidth\": 0, \"ticks\": \"\"}}, \"type\": \"parcoords\"}], \"pie\": [{\"automargin\": true, \"type\": \"pie\"}], \"scatter\": [{\"marker\": {\"colorbar\": {\"outlinewidth\": 0, \"ticks\": \"\"}}, \"type\": \"scatter\"}], \"scatter3d\": [{\"line\": {\"colorbar\": {\"outlinewidth\": 0, \"ticks\": \"\"}}, \"marker\": {\"colorbar\": {\"outlinewidth\": 0, \"ticks\": \"\"}}, \"type\": \"scatter3d\"}], \"scattercarpet\": [{\"marker\": {\"colorbar\": {\"outlinewidth\": 0, \"ticks\": \"\"}}, \"type\": \"scattercarpet\"}], \"scattergeo\": [{\"marker\": {\"colorbar\": {\"outlinewidth\": 0, \"ticks\": \"\"}}, \"type\": \"scattergeo\"}], \"scattergl\": [{\"marker\": {\"colorbar\": {\"outlinewidth\": 0, \"ticks\": \"\"}}, \"type\": \"scattergl\"}], \"scattermapbox\": [{\"marker\": {\"colorbar\": {\"outlinewidth\": 0, \"ticks\": \"\"}}, \"type\": \"scattermapbox\"}], \"scatterpolar\": [{\"marker\": {\"colorbar\": {\"outlinewidth\": 0, \"ticks\": \"\"}}, \"type\": \"scatterpolar\"}], \"scatterpolargl\": [{\"marker\": {\"colorbar\": {\"outlinewidth\": 0, \"ticks\": \"\"}}, \"type\": \"scatterpolargl\"}], \"scatterternary\": [{\"marker\": {\"colorbar\": {\"outlinewidth\": 0, \"ticks\": \"\"}}, \"type\": \"scatterternary\"}], \"surface\": [{\"colorbar\": {\"outlinewidth\": 0, \"ticks\": \"\"}, \"colorscale\": [[0.0, \"#0d0887\"], [0.1111111111111111, \"#46039f\"], [0.2222222222222222, \"#7201a8\"], [0.3333333333333333, \"#9c179e\"], [0.4444444444444444, \"#bd3786\"], [0.5555555555555556, \"#d8576b\"], [0.6666666666666666, \"#ed7953\"], [0.7777777777777778, \"#fb9f3a\"], [0.8888888888888888, \"#fdca26\"], [1.0, \"#f0f921\"]], \"type\": \"surface\"}], \"table\": [{\"cells\": {\"fill\": {\"color\": \"#EBF0F8\"}, \"line\": {\"color\": \"white\"}}, \"header\": {\"fill\": {\"color\": \"#C8D4E3\"}, \"line\": {\"color\": \"white\"}}, \"type\": \"table\"}]}, \"layout\": {\"annotationdefaults\": {\"arrowcolor\": \"#2a3f5f\", \"arrowhead\": 0, \"arrowwidth\": 1}, \"coloraxis\": {\"colorbar\": {\"outlinewidth\": 0, \"ticks\": \"\"}}, \"colorscale\": {\"diverging\": [[0, \"#8e0152\"], [0.1, \"#c51b7d\"], [0.2, \"#de77ae\"], [0.3, \"#f1b6da\"], [0.4, \"#fde0ef\"], [0.5, \"#f7f7f7\"], [0.6, \"#e6f5d0\"], [0.7, \"#b8e186\"], [0.8, \"#7fbc41\"], [0.9, \"#4d9221\"], [1, \"#276419\"]], \"sequential\": [[0.0, \"#0d0887\"], [0.1111111111111111, \"#46039f\"], [0.2222222222222222, \"#7201a8\"], [0.3333333333333333, \"#9c179e\"], [0.4444444444444444, \"#bd3786\"], [0.5555555555555556, \"#d8576b\"], [0.6666666666666666, \"#ed7953\"], [0.7777777777777778, \"#fb9f3a\"], [0.8888888888888888, \"#fdca26\"], [1.0, \"#f0f921\"]], \"sequentialminus\": [[0.0, \"#0d0887\"], [0.1111111111111111, \"#46039f\"], [0.2222222222222222, \"#7201a8\"], [0.3333333333333333, \"#9c179e\"], [0.4444444444444444, \"#bd3786\"], [0.5555555555555556, \"#d8576b\"], [0.6666666666666666, \"#ed7953\"], [0.7777777777777778, \"#fb9f3a\"], [0.8888888888888888, \"#fdca26\"], [1.0, \"#f0f921\"]]}, \"colorway\": [\"#636efa\", \"#EF553B\", \"#00cc96\", \"#ab63fa\", \"#FFA15A\", \"#19d3f3\", \"#FF6692\", \"#B6E880\", \"#FF97FF\", \"#FECB52\"], \"font\": {\"color\": \"#2a3f5f\"}, \"geo\": {\"bgcolor\": \"white\", \"lakecolor\": \"white\", \"landcolor\": \"#E5ECF6\", \"showlakes\": true, \"showland\": true, \"subunitcolor\": \"white\"}, \"hoverlabel\": {\"align\": \"left\"}, \"hovermode\": \"closest\", \"mapbox\": {\"style\": \"light\"}, \"paper_bgcolor\": \"white\", \"plot_bgcolor\": \"#E5ECF6\", \"polar\": {\"angularaxis\": {\"gridcolor\": \"white\", \"linecolor\": \"white\", \"ticks\": \"\"}, \"bgcolor\": \"#E5ECF6\", \"radialaxis\": {\"gridcolor\": \"white\", \"linecolor\": \"white\", \"ticks\": \"\"}}, \"scene\": {\"xaxis\": {\"backgroundcolor\": \"#E5ECF6\", \"gridcolor\": \"white\", \"gridwidth\": 2, \"linecolor\": \"white\", \"showbackground\": true, \"ticks\": \"\", \"zerolinecolor\": \"white\"}, \"yaxis\": {\"backgroundcolor\": \"#E5ECF6\", \"gridcolor\": \"white\", \"gridwidth\": 2, \"linecolor\": \"white\", \"showbackground\": true, \"ticks\": \"\", \"zerolinecolor\": \"white\"}, \"zaxis\": {\"backgroundcolor\": \"#E5ECF6\", \"gridcolor\": \"white\", \"gridwidth\": 2, \"linecolor\": \"white\", \"showbackground\": true, \"ticks\": \"\", \"zerolinecolor\": \"white\"}}, \"shapedefaults\": {\"line\": {\"color\": \"#2a3f5f\"}}, \"ternary\": {\"aaxis\": {\"gridcolor\": \"white\", \"linecolor\": \"white\", \"ticks\": \"\"}, \"baxis\": {\"gridcolor\": \"white\", \"linecolor\": \"white\", \"ticks\": \"\"}, \"bgcolor\": \"#E5ECF6\", \"caxis\": {\"gridcolor\": \"white\", \"linecolor\": \"white\", \"ticks\": \"\"}}, \"title\": {\"x\": 0.05}, \"xaxis\": {\"automargin\": true, \"gridcolor\": \"white\", \"linecolor\": \"white\", \"ticks\": \"\", \"title\": {\"standoff\": 15}, \"zerolinecolor\": \"white\", \"zerolinewidth\": 2}, \"yaxis\": {\"automargin\": true, \"gridcolor\": \"white\", \"linecolor\": \"white\", \"ticks\": \"\", \"title\": {\"standoff\": 15}, \"zerolinecolor\": \"white\", \"zerolinewidth\": 2}}}, \"title\": {\"text\": \"Decision function\"}, \"width\": 600},\n",
       "                        {\"responsive\": true}\n",
       "                    ).then(function(){\n",
       "                            \n",
       "var gd = document.getElementById('230b24dc-960a-4667-941a-262b98f706ec');\n",
       "var x = new MutationObserver(function (mutations, observer) {{\n",
       "        var display = window.getComputedStyle(gd).display;\n",
       "        if (!display || display === 'none') {{\n",
       "            console.log([gd, 'removed!']);\n",
       "            Plotly.purge(gd);\n",
       "            observer.disconnect();\n",
       "        }}\n",
       "}});\n",
       "\n",
       "// Listen for the removal of the full notebook cells\n",
       "var notebookContainer = gd.closest('#notebook-container');\n",
       "if (notebookContainer) {{\n",
       "    x.observe(notebookContainer, {childList: true});\n",
       "}}\n",
       "\n",
       "// Listen for the clearing of the current output cell\n",
       "var outputEl = gd.closest('.output');\n",
       "if (outputEl) {{\n",
       "    x.observe(outputEl, {childList: true});\n",
       "}}\n",
       "\n",
       "                        })\n",
       "                };\n",
       "                });\n",
       "            </script>\n",
       "        </div>"
      ]
     },
     "metadata": {},
     "output_type": "display_data"
    }
   ],
   "source": [
    "# SVM using RBF kernel\n",
    "\n",
    "# fit the model\n",
    "clf = svm.SVC(kernel=\"rbf\", gamma = 10)\n",
    "clf.fit(X, y)\n",
    "\n",
    "fig = go.Figure()\n",
    "plot_data_decision_function(X, y, clf, fig, \"Decision function\", 2, 1.5)\n",
    "# draw the sine function\n",
    "x_b = np.linspace(-1, 1, 32)\n",
    "fig.add_trace(go.Scatter(x=x_b, y=np.sin(5*x_b) / 2,\n",
    "                    mode='lines', showlegend=False))\n",
    "fig.show()"
   ]
  },
  {
   "cell_type": "code",
   "execution_count": 30,
   "metadata": {},
   "outputs": [],
   "source": [
    "fig.write_html('../_includes/svm11.html')"
   ]
  },
  {
   "cell_type": "code",
   "execution_count": null,
   "metadata": {},
   "outputs": [],
   "source": []
  }
 ],
 "metadata": {
  "@webio": {
   "lastCommId": null,
   "lastKernelId": null
  },
  "colab": {
   "collapsed_sections": [],
   "name": "svm.ipynb",
   "provenance": []
  },
  "kernelspec": {
   "display_name": "Python 3",
   "language": "python",
   "name": "python3"
  },
  "language_info": {
   "codemirror_mode": {
    "name": "ipython",
    "version": 3
   },
   "file_extension": ".py",
   "mimetype": "text/x-python",
   "name": "python",
   "nbconvert_exporter": "python",
   "pygments_lexer": "ipython3",
   "version": "3.7.6"
  }
 },
 "nbformat": 4,
 "nbformat_minor": 4
}
