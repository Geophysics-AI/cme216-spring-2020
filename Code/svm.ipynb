{
 "cells": [
  {
   "cell_type": "code",
   "execution_count": 32,
   "metadata": {
    "colab": {},
    "colab_type": "code",
    "id": "IyBRiMVRyxHj"
   },
   "outputs": [],
   "source": [
    "import math\n",
    "import numpy as np"
   ]
  },
  {
   "cell_type": "code",
   "execution_count": 33,
   "metadata": {
    "colab": {},
    "colab_type": "code",
    "id": "4vM88pr78qu2"
   },
   "outputs": [],
   "source": [
    "# +1 if x > y and -1 otherwise\n",
    "def labels_line(p):\n",
    "    if p[0] > p[1]:\n",
    "        return 1\n",
    "    else:\n",
    "        return -1\n",
    "\n",
    "# +1 if y > sin(5x)/2 and -1 otherwise\n",
    "def labels_sine(p):\n",
    "    if p[1] > math.sin(5*p[0]) / 2:\n",
    "        return 1\n",
    "    else:\n",
    "        return -1   "
   ]
  },
  {
   "cell_type": "code",
   "execution_count": 34,
   "metadata": {},
   "outputs": [],
   "source": [
    "import plotly.graph_objects as go\n",
    "def save_figure_to_file(fig, path, file_name):\n",
    "    # Comment this line if you get an error\n",
    "    fig.write_image(path + '/' + file_name + '.svg')"
   ]
  },
  {
   "cell_type": "code",
   "execution_count": 35,
   "metadata": {
    "colab": {},
    "colab_type": "code",
    "id": "NyKdRUpL0hvP"
   },
   "outputs": [],
   "source": [
    "def plot_data_decision_line(X, y, clf, fig, title):\n",
    "    fig.add_trace(go.Scatter(x=X[:, 0], y=X[:, 1],\n",
    "                mode='markers', name='Data', \n",
    "                marker = dict(color=y, colorscale=\"RdBu\", size=10)))\n",
    "\n",
    "    x = np.linspace(-1, 1, 2)\n",
    "\n",
    "    a = -clf.coef_[0,0] / clf.coef_[0,1]\n",
    "    b0 = -clf.intercept_ / clf.coef_[0,1]\n",
    "    b1 = -(1 + clf.intercept_) / clf.coef_[0,1]\n",
    "    b2 = -(-1 + clf.intercept_) / clf.coef_[0,1]\n",
    "\n",
    "    fig.add_trace(go.Scatter(x=x, y=a*x + b0,\n",
    "                      mode='lines', name='Decision line'))\n",
    "    fig.add_trace(go.Scatter(x=x, y=a*x + b1,\n",
    "                      mode='lines', name='Support line',\n",
    "                      line=dict(dash=\"dash\")))\n",
    "    fig.add_trace(go.Scatter(x=x, y=a*x + b2,\n",
    "                      mode='lines', name='Support line',\n",
    "                      line=dict(dash=\"dash\")))\n",
    "    fig.update_layout(title=title, width=600)\n",
    "\n",
    "def plot_data_decision_function(X, y, clf, fig, title, sx, sy):\n",
    "\n",
    "    # plot the decision function\n",
    "    xm = sx*np.linspace(-1, 1, 20)\n",
    "    ym = sy*np.linspace(-1, 1, 20)\n",
    "    xx, yy = np.meshgrid(xm,ym)\n",
    "\n",
    "    Z = clf.decision_function(np.c_[xx.ravel(), yy.ravel()])\n",
    "    # Computes the decision function that separates the 1 labels \n",
    "    # from the -1 labels\n",
    "    # ravel() returns a contiguous flattened array\n",
    "    # c_ concatenates arrays along the 2nd dimension\n",
    "    Z = Z.reshape(xx.shape)\n",
    "\n",
    "    fig.add_trace(go.Scatter(x=X[:, 0], y=X[:, 1],\n",
    "                  mode='markers', showlegend=False, \n",
    "                  marker = dict(color=y, colorscale=\"RdBu\", size=10)))\n",
    "    fig.add_trace(go.Contour(x=xm,y=ym,z=Z,colorscale='RdBu'))\n",
    "    fig.update_layout(title=title, width=600)"
   ]
  },
  {
   "cell_type": "code",
   "execution_count": 36,
   "metadata": {},
   "outputs": [],
   "source": [
    "from sklearn import svm"
   ]
  },
  {
   "cell_type": "code",
   "execution_count": 37,
   "metadata": {
    "colab": {
     "base_uri": "https://localhost:8080/",
     "height": 732
    },
    "colab_type": "code",
    "id": "SwYZxjhilPdn",
    "outputId": "7ca169f9-388d-45c6-abac-7812014d0732"
   },
   "outputs": [
    {
     "name": "stdout",
     "output_type": "stream",
     "text": [
      "Shape of X:  (8, 2)\n",
      "[[-0.1280102  -0.94814754]\n",
      " [ 0.09932496 -0.12935521]\n",
      " [-0.1592644  -0.33933036]\n",
      " [-0.59070273  0.23854193]\n",
      " [-0.40069065 -0.46634545]\n",
      " [ 0.24226767  0.05828419]\n",
      " [-0.73084011  0.02715624]\n",
      " [-0.63112027  0.5706703 ]]\n",
      "Shape of y:  (8,)\n",
      "[ 1.  1.  1. -1.  1.  1. -1. -1.]\n"
     ]
    },
    {
     "data": {
      "application/vnd.plotly.v1+json": {
       "config": {
        "plotlyServerURL": "https://plot.ly"
       },
       "data": [
        {
         "marker": {
          "color": [
           1,
           1,
           1,
           -1,
           1,
           1,
           -1,
           -1
          ],
          "colorscale": [
           [
            0,
            "rgb(103,0,31)"
           ],
           [
            0.1,
            "rgb(178,24,43)"
           ],
           [
            0.2,
            "rgb(214,96,77)"
           ],
           [
            0.3,
            "rgb(244,165,130)"
           ],
           [
            0.4,
            "rgb(253,219,199)"
           ],
           [
            0.5,
            "rgb(247,247,247)"
           ],
           [
            0.6,
            "rgb(209,229,240)"
           ],
           [
            0.7,
            "rgb(146,197,222)"
           ],
           [
            0.8,
            "rgb(67,147,195)"
           ],
           [
            0.9,
            "rgb(33,102,172)"
           ],
           [
            1,
            "rgb(5,48,97)"
           ]
          ],
          "size": 10
         },
         "mode": "markers",
         "name": "Data",
         "type": "scatter",
         "x": [
          -0.12801019571599248,
          0.09932495575741829,
          -0.15926439582502194,
          -0.590702731924315,
          -0.4006906526509537,
          0.2422676655385898,
          -0.7308401093101329,
          -0.6311202687061694
         ],
         "y": [
          -0.9481475363442173,
          -0.12935521476344625,
          -0.33933035799225175,
          0.2385419327013274,
          -0.46634544979426673,
          0.05828418855407813,
          0.027156242531492847,
          0.5706702956333469
         ]
        },
        {
         "mode": "lines",
         "name": "Decision line",
         "type": "scatter",
         "x": [
          -1,
          1
         ],
         "y": [
          -0.5738907576148911,
          1.0580334895207892
         ]
        },
        {
         "line": {
          "dash": "dash"
         },
         "mode": "lines",
         "name": "Support line",
         "type": "scatter",
         "x": [
          -1,
          1
         ],
         "y": [
          -0.19237664532879895,
          1.4395476018068813
         ]
        },
        {
         "line": {
          "dash": "dash"
         },
         "mode": "lines",
         "name": "Support line",
         "type": "scatter",
         "x": [
          -1,
          1
         ],
         "y": [
          -0.9554048699009834,
          0.6765193772346969
         ]
        }
       ],
       "layout": {
        "template": {
         "data": {
          "bar": [
           {
            "error_x": {
             "color": "#2a3f5f"
            },
            "error_y": {
             "color": "#2a3f5f"
            },
            "marker": {
             "line": {
              "color": "#E5ECF6",
              "width": 0.5
             }
            },
            "type": "bar"
           }
          ],
          "barpolar": [
           {
            "marker": {
             "line": {
              "color": "#E5ECF6",
              "width": 0.5
             }
            },
            "type": "barpolar"
           }
          ],
          "carpet": [
           {
            "aaxis": {
             "endlinecolor": "#2a3f5f",
             "gridcolor": "white",
             "linecolor": "white",
             "minorgridcolor": "white",
             "startlinecolor": "#2a3f5f"
            },
            "baxis": {
             "endlinecolor": "#2a3f5f",
             "gridcolor": "white",
             "linecolor": "white",
             "minorgridcolor": "white",
             "startlinecolor": "#2a3f5f"
            },
            "type": "carpet"
           }
          ],
          "choropleth": [
           {
            "colorbar": {
             "outlinewidth": 0,
             "ticks": ""
            },
            "type": "choropleth"
           }
          ],
          "contour": [
           {
            "colorbar": {
             "outlinewidth": 0,
             "ticks": ""
            },
            "colorscale": [
             [
              0,
              "#0d0887"
             ],
             [
              0.1111111111111111,
              "#46039f"
             ],
             [
              0.2222222222222222,
              "#7201a8"
             ],
             [
              0.3333333333333333,
              "#9c179e"
             ],
             [
              0.4444444444444444,
              "#bd3786"
             ],
             [
              0.5555555555555556,
              "#d8576b"
             ],
             [
              0.6666666666666666,
              "#ed7953"
             ],
             [
              0.7777777777777778,
              "#fb9f3a"
             ],
             [
              0.8888888888888888,
              "#fdca26"
             ],
             [
              1,
              "#f0f921"
             ]
            ],
            "type": "contour"
           }
          ],
          "contourcarpet": [
           {
            "colorbar": {
             "outlinewidth": 0,
             "ticks": ""
            },
            "type": "contourcarpet"
           }
          ],
          "heatmap": [
           {
            "colorbar": {
             "outlinewidth": 0,
             "ticks": ""
            },
            "colorscale": [
             [
              0,
              "#0d0887"
             ],
             [
              0.1111111111111111,
              "#46039f"
             ],
             [
              0.2222222222222222,
              "#7201a8"
             ],
             [
              0.3333333333333333,
              "#9c179e"
             ],
             [
              0.4444444444444444,
              "#bd3786"
             ],
             [
              0.5555555555555556,
              "#d8576b"
             ],
             [
              0.6666666666666666,
              "#ed7953"
             ],
             [
              0.7777777777777778,
              "#fb9f3a"
             ],
             [
              0.8888888888888888,
              "#fdca26"
             ],
             [
              1,
              "#f0f921"
             ]
            ],
            "type": "heatmap"
           }
          ],
          "heatmapgl": [
           {
            "colorbar": {
             "outlinewidth": 0,
             "ticks": ""
            },
            "colorscale": [
             [
              0,
              "#0d0887"
             ],
             [
              0.1111111111111111,
              "#46039f"
             ],
             [
              0.2222222222222222,
              "#7201a8"
             ],
             [
              0.3333333333333333,
              "#9c179e"
             ],
             [
              0.4444444444444444,
              "#bd3786"
             ],
             [
              0.5555555555555556,
              "#d8576b"
             ],
             [
              0.6666666666666666,
              "#ed7953"
             ],
             [
              0.7777777777777778,
              "#fb9f3a"
             ],
             [
              0.8888888888888888,
              "#fdca26"
             ],
             [
              1,
              "#f0f921"
             ]
            ],
            "type": "heatmapgl"
           }
          ],
          "histogram": [
           {
            "marker": {
             "colorbar": {
              "outlinewidth": 0,
              "ticks": ""
             }
            },
            "type": "histogram"
           }
          ],
          "histogram2d": [
           {
            "colorbar": {
             "outlinewidth": 0,
             "ticks": ""
            },
            "colorscale": [
             [
              0,
              "#0d0887"
             ],
             [
              0.1111111111111111,
              "#46039f"
             ],
             [
              0.2222222222222222,
              "#7201a8"
             ],
             [
              0.3333333333333333,
              "#9c179e"
             ],
             [
              0.4444444444444444,
              "#bd3786"
             ],
             [
              0.5555555555555556,
              "#d8576b"
             ],
             [
              0.6666666666666666,
              "#ed7953"
             ],
             [
              0.7777777777777778,
              "#fb9f3a"
             ],
             [
              0.8888888888888888,
              "#fdca26"
             ],
             [
              1,
              "#f0f921"
             ]
            ],
            "type": "histogram2d"
           }
          ],
          "histogram2dcontour": [
           {
            "colorbar": {
             "outlinewidth": 0,
             "ticks": ""
            },
            "colorscale": [
             [
              0,
              "#0d0887"
             ],
             [
              0.1111111111111111,
              "#46039f"
             ],
             [
              0.2222222222222222,
              "#7201a8"
             ],
             [
              0.3333333333333333,
              "#9c179e"
             ],
             [
              0.4444444444444444,
              "#bd3786"
             ],
             [
              0.5555555555555556,
              "#d8576b"
             ],
             [
              0.6666666666666666,
              "#ed7953"
             ],
             [
              0.7777777777777778,
              "#fb9f3a"
             ],
             [
              0.8888888888888888,
              "#fdca26"
             ],
             [
              1,
              "#f0f921"
             ]
            ],
            "type": "histogram2dcontour"
           }
          ],
          "mesh3d": [
           {
            "colorbar": {
             "outlinewidth": 0,
             "ticks": ""
            },
            "type": "mesh3d"
           }
          ],
          "parcoords": [
           {
            "line": {
             "colorbar": {
              "outlinewidth": 0,
              "ticks": ""
             }
            },
            "type": "parcoords"
           }
          ],
          "pie": [
           {
            "automargin": true,
            "type": "pie"
           }
          ],
          "scatter": [
           {
            "marker": {
             "colorbar": {
              "outlinewidth": 0,
              "ticks": ""
             }
            },
            "type": "scatter"
           }
          ],
          "scatter3d": [
           {
            "line": {
             "colorbar": {
              "outlinewidth": 0,
              "ticks": ""
             }
            },
            "marker": {
             "colorbar": {
              "outlinewidth": 0,
              "ticks": ""
             }
            },
            "type": "scatter3d"
           }
          ],
          "scattercarpet": [
           {
            "marker": {
             "colorbar": {
              "outlinewidth": 0,
              "ticks": ""
             }
            },
            "type": "scattercarpet"
           }
          ],
          "scattergeo": [
           {
            "marker": {
             "colorbar": {
              "outlinewidth": 0,
              "ticks": ""
             }
            },
            "type": "scattergeo"
           }
          ],
          "scattergl": [
           {
            "marker": {
             "colorbar": {
              "outlinewidth": 0,
              "ticks": ""
             }
            },
            "type": "scattergl"
           }
          ],
          "scattermapbox": [
           {
            "marker": {
             "colorbar": {
              "outlinewidth": 0,
              "ticks": ""
             }
            },
            "type": "scattermapbox"
           }
          ],
          "scatterpolar": [
           {
            "marker": {
             "colorbar": {
              "outlinewidth": 0,
              "ticks": ""
             }
            },
            "type": "scatterpolar"
           }
          ],
          "scatterpolargl": [
           {
            "marker": {
             "colorbar": {
              "outlinewidth": 0,
              "ticks": ""
             }
            },
            "type": "scatterpolargl"
           }
          ],
          "scatterternary": [
           {
            "marker": {
             "colorbar": {
              "outlinewidth": 0,
              "ticks": ""
             }
            },
            "type": "scatterternary"
           }
          ],
          "surface": [
           {
            "colorbar": {
             "outlinewidth": 0,
             "ticks": ""
            },
            "colorscale": [
             [
              0,
              "#0d0887"
             ],
             [
              0.1111111111111111,
              "#46039f"
             ],
             [
              0.2222222222222222,
              "#7201a8"
             ],
             [
              0.3333333333333333,
              "#9c179e"
             ],
             [
              0.4444444444444444,
              "#bd3786"
             ],
             [
              0.5555555555555556,
              "#d8576b"
             ],
             [
              0.6666666666666666,
              "#ed7953"
             ],
             [
              0.7777777777777778,
              "#fb9f3a"
             ],
             [
              0.8888888888888888,
              "#fdca26"
             ],
             [
              1,
              "#f0f921"
             ]
            ],
            "type": "surface"
           }
          ],
          "table": [
           {
            "cells": {
             "fill": {
              "color": "#EBF0F8"
             },
             "line": {
              "color": "white"
             }
            },
            "header": {
             "fill": {
              "color": "#C8D4E3"
             },
             "line": {
              "color": "white"
             }
            },
            "type": "table"
           }
          ]
         },
         "layout": {
          "annotationdefaults": {
           "arrowcolor": "#2a3f5f",
           "arrowhead": 0,
           "arrowwidth": 1
          },
          "coloraxis": {
           "colorbar": {
            "outlinewidth": 0,
            "ticks": ""
           }
          },
          "colorscale": {
           "diverging": [
            [
             0,
             "#8e0152"
            ],
            [
             0.1,
             "#c51b7d"
            ],
            [
             0.2,
             "#de77ae"
            ],
            [
             0.3,
             "#f1b6da"
            ],
            [
             0.4,
             "#fde0ef"
            ],
            [
             0.5,
             "#f7f7f7"
            ],
            [
             0.6,
             "#e6f5d0"
            ],
            [
             0.7,
             "#b8e186"
            ],
            [
             0.8,
             "#7fbc41"
            ],
            [
             0.9,
             "#4d9221"
            ],
            [
             1,
             "#276419"
            ]
           ],
           "sequential": [
            [
             0,
             "#0d0887"
            ],
            [
             0.1111111111111111,
             "#46039f"
            ],
            [
             0.2222222222222222,
             "#7201a8"
            ],
            [
             0.3333333333333333,
             "#9c179e"
            ],
            [
             0.4444444444444444,
             "#bd3786"
            ],
            [
             0.5555555555555556,
             "#d8576b"
            ],
            [
             0.6666666666666666,
             "#ed7953"
            ],
            [
             0.7777777777777778,
             "#fb9f3a"
            ],
            [
             0.8888888888888888,
             "#fdca26"
            ],
            [
             1,
             "#f0f921"
            ]
           ],
           "sequentialminus": [
            [
             0,
             "#0d0887"
            ],
            [
             0.1111111111111111,
             "#46039f"
            ],
            [
             0.2222222222222222,
             "#7201a8"
            ],
            [
             0.3333333333333333,
             "#9c179e"
            ],
            [
             0.4444444444444444,
             "#bd3786"
            ],
            [
             0.5555555555555556,
             "#d8576b"
            ],
            [
             0.6666666666666666,
             "#ed7953"
            ],
            [
             0.7777777777777778,
             "#fb9f3a"
            ],
            [
             0.8888888888888888,
             "#fdca26"
            ],
            [
             1,
             "#f0f921"
            ]
           ]
          },
          "colorway": [
           "#636efa",
           "#EF553B",
           "#00cc96",
           "#ab63fa",
           "#FFA15A",
           "#19d3f3",
           "#FF6692",
           "#B6E880",
           "#FF97FF",
           "#FECB52"
          ],
          "font": {
           "color": "#2a3f5f"
          },
          "geo": {
           "bgcolor": "white",
           "lakecolor": "white",
           "landcolor": "#E5ECF6",
           "showlakes": true,
           "showland": true,
           "subunitcolor": "white"
          },
          "hoverlabel": {
           "align": "left"
          },
          "hovermode": "closest",
          "mapbox": {
           "style": "light"
          },
          "paper_bgcolor": "white",
          "plot_bgcolor": "#E5ECF6",
          "polar": {
           "angularaxis": {
            "gridcolor": "white",
            "linecolor": "white",
            "ticks": ""
           },
           "bgcolor": "#E5ECF6",
           "radialaxis": {
            "gridcolor": "white",
            "linecolor": "white",
            "ticks": ""
           }
          },
          "scene": {
           "xaxis": {
            "backgroundcolor": "#E5ECF6",
            "gridcolor": "white",
            "gridwidth": 2,
            "linecolor": "white",
            "showbackground": true,
            "ticks": "",
            "zerolinecolor": "white"
           },
           "yaxis": {
            "backgroundcolor": "#E5ECF6",
            "gridcolor": "white",
            "gridwidth": 2,
            "linecolor": "white",
            "showbackground": true,
            "ticks": "",
            "zerolinecolor": "white"
           },
           "zaxis": {
            "backgroundcolor": "#E5ECF6",
            "gridcolor": "white",
            "gridwidth": 2,
            "linecolor": "white",
            "showbackground": true,
            "ticks": "",
            "zerolinecolor": "white"
           }
          },
          "shapedefaults": {
           "line": {
            "color": "#2a3f5f"
           }
          },
          "ternary": {
           "aaxis": {
            "gridcolor": "white",
            "linecolor": "white",
            "ticks": ""
           },
           "baxis": {
            "gridcolor": "white",
            "linecolor": "white",
            "ticks": ""
           },
           "bgcolor": "#E5ECF6",
           "caxis": {
            "gridcolor": "white",
            "linecolor": "white",
            "ticks": ""
           }
          },
          "title": {
           "x": 0.05
          },
          "xaxis": {
           "automargin": true,
           "gridcolor": "white",
           "linecolor": "white",
           "ticks": "",
           "title": {
            "standoff": 15
           },
           "zerolinecolor": "white",
           "zerolinewidth": 2
          },
          "yaxis": {
           "automargin": true,
           "gridcolor": "white",
           "linecolor": "white",
           "ticks": "",
           "title": {
            "standoff": 15
           },
           "zerolinecolor": "white",
           "zerolinewidth": 2
          }
         }
        },
        "title": {
         "text": "SVM"
        },
        "width": 600
       }
      },
      "text/html": [
       "<div>\n",
       "        \n",
       "        \n",
       "            <div id=\"147d3b9b-6b42-4a02-9447-ae152a05e91c\" class=\"plotly-graph-div\" style=\"height:525px; width:600px;\"></div>\n",
       "            <script type=\"text/javascript\">\n",
       "                require([\"plotly\"], function(Plotly) {\n",
       "                    window.PLOTLYENV=window.PLOTLYENV || {};\n",
       "                    \n",
       "                if (document.getElementById(\"147d3b9b-6b42-4a02-9447-ae152a05e91c\")) {\n",
       "                    Plotly.newPlot(\n",
       "                        '147d3b9b-6b42-4a02-9447-ae152a05e91c',\n",
       "                        [{\"marker\": {\"color\": [1.0, 1.0, 1.0, -1.0, 1.0, 1.0, -1.0, -1.0], \"colorscale\": [[0.0, \"rgb(103,0,31)\"], [0.1, \"rgb(178,24,43)\"], [0.2, \"rgb(214,96,77)\"], [0.3, \"rgb(244,165,130)\"], [0.4, \"rgb(253,219,199)\"], [0.5, \"rgb(247,247,247)\"], [0.6, \"rgb(209,229,240)\"], [0.7, \"rgb(146,197,222)\"], [0.8, \"rgb(67,147,195)\"], [0.9, \"rgb(33,102,172)\"], [1.0, \"rgb(5,48,97)\"]], \"size\": 10}, \"mode\": \"markers\", \"name\": \"Data\", \"type\": \"scatter\", \"x\": [-0.12801019571599248, 0.09932495575741829, -0.15926439582502194, -0.590702731924315, -0.4006906526509537, 0.2422676655385898, -0.7308401093101329, -0.6311202687061694], \"y\": [-0.9481475363442173, -0.12935521476344625, -0.33933035799225175, 0.2385419327013274, -0.46634544979426673, 0.05828418855407813, 0.027156242531492847, 0.5706702956333469]}, {\"mode\": \"lines\", \"name\": \"Decision line\", \"type\": \"scatter\", \"x\": [-1.0, 1.0], \"y\": [-0.5738907576148911, 1.0580334895207892]}, {\"line\": {\"dash\": \"dash\"}, \"mode\": \"lines\", \"name\": \"Support line\", \"type\": \"scatter\", \"x\": [-1.0, 1.0], \"y\": [-0.19237664532879895, 1.4395476018068813]}, {\"line\": {\"dash\": \"dash\"}, \"mode\": \"lines\", \"name\": \"Support line\", \"type\": \"scatter\", \"x\": [-1.0, 1.0], \"y\": [-0.9554048699009834, 0.6765193772346969]}],\n",
       "                        {\"template\": {\"data\": {\"bar\": [{\"error_x\": {\"color\": \"#2a3f5f\"}, \"error_y\": {\"color\": \"#2a3f5f\"}, \"marker\": {\"line\": {\"color\": \"#E5ECF6\", \"width\": 0.5}}, \"type\": \"bar\"}], \"barpolar\": [{\"marker\": {\"line\": {\"color\": \"#E5ECF6\", \"width\": 0.5}}, \"type\": \"barpolar\"}], \"carpet\": [{\"aaxis\": {\"endlinecolor\": \"#2a3f5f\", \"gridcolor\": \"white\", \"linecolor\": \"white\", \"minorgridcolor\": \"white\", \"startlinecolor\": \"#2a3f5f\"}, \"baxis\": {\"endlinecolor\": \"#2a3f5f\", \"gridcolor\": \"white\", \"linecolor\": \"white\", \"minorgridcolor\": \"white\", \"startlinecolor\": \"#2a3f5f\"}, \"type\": \"carpet\"}], \"choropleth\": [{\"colorbar\": {\"outlinewidth\": 0, \"ticks\": \"\"}, \"type\": \"choropleth\"}], \"contour\": [{\"colorbar\": {\"outlinewidth\": 0, \"ticks\": \"\"}, \"colorscale\": [[0.0, \"#0d0887\"], [0.1111111111111111, \"#46039f\"], [0.2222222222222222, \"#7201a8\"], [0.3333333333333333, \"#9c179e\"], [0.4444444444444444, \"#bd3786\"], [0.5555555555555556, \"#d8576b\"], [0.6666666666666666, \"#ed7953\"], [0.7777777777777778, \"#fb9f3a\"], [0.8888888888888888, \"#fdca26\"], [1.0, \"#f0f921\"]], \"type\": \"contour\"}], \"contourcarpet\": [{\"colorbar\": {\"outlinewidth\": 0, \"ticks\": \"\"}, \"type\": \"contourcarpet\"}], \"heatmap\": [{\"colorbar\": {\"outlinewidth\": 0, \"ticks\": \"\"}, \"colorscale\": [[0.0, \"#0d0887\"], [0.1111111111111111, \"#46039f\"], [0.2222222222222222, \"#7201a8\"], [0.3333333333333333, \"#9c179e\"], [0.4444444444444444, \"#bd3786\"], [0.5555555555555556, \"#d8576b\"], [0.6666666666666666, \"#ed7953\"], [0.7777777777777778, \"#fb9f3a\"], [0.8888888888888888, \"#fdca26\"], [1.0, \"#f0f921\"]], \"type\": \"heatmap\"}], \"heatmapgl\": [{\"colorbar\": {\"outlinewidth\": 0, \"ticks\": \"\"}, \"colorscale\": [[0.0, \"#0d0887\"], [0.1111111111111111, \"#46039f\"], [0.2222222222222222, \"#7201a8\"], [0.3333333333333333, \"#9c179e\"], [0.4444444444444444, \"#bd3786\"], [0.5555555555555556, \"#d8576b\"], [0.6666666666666666, \"#ed7953\"], [0.7777777777777778, \"#fb9f3a\"], [0.8888888888888888, \"#fdca26\"], [1.0, \"#f0f921\"]], \"type\": \"heatmapgl\"}], \"histogram\": [{\"marker\": {\"colorbar\": {\"outlinewidth\": 0, \"ticks\": \"\"}}, \"type\": \"histogram\"}], \"histogram2d\": [{\"colorbar\": {\"outlinewidth\": 0, \"ticks\": \"\"}, \"colorscale\": [[0.0, \"#0d0887\"], [0.1111111111111111, \"#46039f\"], [0.2222222222222222, \"#7201a8\"], [0.3333333333333333, \"#9c179e\"], [0.4444444444444444, \"#bd3786\"], [0.5555555555555556, \"#d8576b\"], [0.6666666666666666, \"#ed7953\"], [0.7777777777777778, \"#fb9f3a\"], [0.8888888888888888, \"#fdca26\"], [1.0, \"#f0f921\"]], \"type\": \"histogram2d\"}], \"histogram2dcontour\": [{\"colorbar\": {\"outlinewidth\": 0, \"ticks\": \"\"}, \"colorscale\": [[0.0, \"#0d0887\"], [0.1111111111111111, \"#46039f\"], [0.2222222222222222, \"#7201a8\"], [0.3333333333333333, \"#9c179e\"], [0.4444444444444444, \"#bd3786\"], [0.5555555555555556, \"#d8576b\"], [0.6666666666666666, \"#ed7953\"], [0.7777777777777778, \"#fb9f3a\"], [0.8888888888888888, \"#fdca26\"], [1.0, \"#f0f921\"]], \"type\": \"histogram2dcontour\"}], \"mesh3d\": [{\"colorbar\": {\"outlinewidth\": 0, \"ticks\": \"\"}, \"type\": \"mesh3d\"}], \"parcoords\": [{\"line\": {\"colorbar\": {\"outlinewidth\": 0, \"ticks\": \"\"}}, \"type\": \"parcoords\"}], \"pie\": [{\"automargin\": true, \"type\": \"pie\"}], \"scatter\": [{\"marker\": {\"colorbar\": {\"outlinewidth\": 0, \"ticks\": \"\"}}, \"type\": \"scatter\"}], \"scatter3d\": [{\"line\": {\"colorbar\": {\"outlinewidth\": 0, \"ticks\": \"\"}}, \"marker\": {\"colorbar\": {\"outlinewidth\": 0, \"ticks\": \"\"}}, \"type\": \"scatter3d\"}], \"scattercarpet\": [{\"marker\": {\"colorbar\": {\"outlinewidth\": 0, \"ticks\": \"\"}}, \"type\": \"scattercarpet\"}], \"scattergeo\": [{\"marker\": {\"colorbar\": {\"outlinewidth\": 0, \"ticks\": \"\"}}, \"type\": \"scattergeo\"}], \"scattergl\": [{\"marker\": {\"colorbar\": {\"outlinewidth\": 0, \"ticks\": \"\"}}, \"type\": \"scattergl\"}], \"scattermapbox\": [{\"marker\": {\"colorbar\": {\"outlinewidth\": 0, \"ticks\": \"\"}}, \"type\": \"scattermapbox\"}], \"scatterpolar\": [{\"marker\": {\"colorbar\": {\"outlinewidth\": 0, \"ticks\": \"\"}}, \"type\": \"scatterpolar\"}], \"scatterpolargl\": [{\"marker\": {\"colorbar\": {\"outlinewidth\": 0, \"ticks\": \"\"}}, \"type\": \"scatterpolargl\"}], \"scatterternary\": [{\"marker\": {\"colorbar\": {\"outlinewidth\": 0, \"ticks\": \"\"}}, \"type\": \"scatterternary\"}], \"surface\": [{\"colorbar\": {\"outlinewidth\": 0, \"ticks\": \"\"}, \"colorscale\": [[0.0, \"#0d0887\"], [0.1111111111111111, \"#46039f\"], [0.2222222222222222, \"#7201a8\"], [0.3333333333333333, \"#9c179e\"], [0.4444444444444444, \"#bd3786\"], [0.5555555555555556, \"#d8576b\"], [0.6666666666666666, \"#ed7953\"], [0.7777777777777778, \"#fb9f3a\"], [0.8888888888888888, \"#fdca26\"], [1.0, \"#f0f921\"]], \"type\": \"surface\"}], \"table\": [{\"cells\": {\"fill\": {\"color\": \"#EBF0F8\"}, \"line\": {\"color\": \"white\"}}, \"header\": {\"fill\": {\"color\": \"#C8D4E3\"}, \"line\": {\"color\": \"white\"}}, \"type\": \"table\"}]}, \"layout\": {\"annotationdefaults\": {\"arrowcolor\": \"#2a3f5f\", \"arrowhead\": 0, \"arrowwidth\": 1}, \"coloraxis\": {\"colorbar\": {\"outlinewidth\": 0, \"ticks\": \"\"}}, \"colorscale\": {\"diverging\": [[0, \"#8e0152\"], [0.1, \"#c51b7d\"], [0.2, \"#de77ae\"], [0.3, \"#f1b6da\"], [0.4, \"#fde0ef\"], [0.5, \"#f7f7f7\"], [0.6, \"#e6f5d0\"], [0.7, \"#b8e186\"], [0.8, \"#7fbc41\"], [0.9, \"#4d9221\"], [1, \"#276419\"]], \"sequential\": [[0.0, \"#0d0887\"], [0.1111111111111111, \"#46039f\"], [0.2222222222222222, \"#7201a8\"], [0.3333333333333333, \"#9c179e\"], [0.4444444444444444, \"#bd3786\"], [0.5555555555555556, \"#d8576b\"], [0.6666666666666666, \"#ed7953\"], [0.7777777777777778, \"#fb9f3a\"], [0.8888888888888888, \"#fdca26\"], [1.0, \"#f0f921\"]], \"sequentialminus\": [[0.0, \"#0d0887\"], [0.1111111111111111, \"#46039f\"], [0.2222222222222222, \"#7201a8\"], [0.3333333333333333, \"#9c179e\"], [0.4444444444444444, \"#bd3786\"], [0.5555555555555556, \"#d8576b\"], [0.6666666666666666, \"#ed7953\"], [0.7777777777777778, \"#fb9f3a\"], [0.8888888888888888, \"#fdca26\"], [1.0, \"#f0f921\"]]}, \"colorway\": [\"#636efa\", \"#EF553B\", \"#00cc96\", \"#ab63fa\", \"#FFA15A\", \"#19d3f3\", \"#FF6692\", \"#B6E880\", \"#FF97FF\", \"#FECB52\"], \"font\": {\"color\": \"#2a3f5f\"}, \"geo\": {\"bgcolor\": \"white\", \"lakecolor\": \"white\", \"landcolor\": \"#E5ECF6\", \"showlakes\": true, \"showland\": true, \"subunitcolor\": \"white\"}, \"hoverlabel\": {\"align\": \"left\"}, \"hovermode\": \"closest\", \"mapbox\": {\"style\": \"light\"}, \"paper_bgcolor\": \"white\", \"plot_bgcolor\": \"#E5ECF6\", \"polar\": {\"angularaxis\": {\"gridcolor\": \"white\", \"linecolor\": \"white\", \"ticks\": \"\"}, \"bgcolor\": \"#E5ECF6\", \"radialaxis\": {\"gridcolor\": \"white\", \"linecolor\": \"white\", \"ticks\": \"\"}}, \"scene\": {\"xaxis\": {\"backgroundcolor\": \"#E5ECF6\", \"gridcolor\": \"white\", \"gridwidth\": 2, \"linecolor\": \"white\", \"showbackground\": true, \"ticks\": \"\", \"zerolinecolor\": \"white\"}, \"yaxis\": {\"backgroundcolor\": \"#E5ECF6\", \"gridcolor\": \"white\", \"gridwidth\": 2, \"linecolor\": \"white\", \"showbackground\": true, \"ticks\": \"\", \"zerolinecolor\": \"white\"}, \"zaxis\": {\"backgroundcolor\": \"#E5ECF6\", \"gridcolor\": \"white\", \"gridwidth\": 2, \"linecolor\": \"white\", \"showbackground\": true, \"ticks\": \"\", \"zerolinecolor\": \"white\"}}, \"shapedefaults\": {\"line\": {\"color\": \"#2a3f5f\"}}, \"ternary\": {\"aaxis\": {\"gridcolor\": \"white\", \"linecolor\": \"white\", \"ticks\": \"\"}, \"baxis\": {\"gridcolor\": \"white\", \"linecolor\": \"white\", \"ticks\": \"\"}, \"bgcolor\": \"#E5ECF6\", \"caxis\": {\"gridcolor\": \"white\", \"linecolor\": \"white\", \"ticks\": \"\"}}, \"title\": {\"x\": 0.05}, \"xaxis\": {\"automargin\": true, \"gridcolor\": \"white\", \"linecolor\": \"white\", \"ticks\": \"\", \"title\": {\"standoff\": 15}, \"zerolinecolor\": \"white\", \"zerolinewidth\": 2}, \"yaxis\": {\"automargin\": true, \"gridcolor\": \"white\", \"linecolor\": \"white\", \"ticks\": \"\", \"title\": {\"standoff\": 15}, \"zerolinecolor\": \"white\", \"zerolinewidth\": 2}}}, \"title\": {\"text\": \"SVM\"}, \"width\": 600},\n",
       "                        {\"responsive\": true}\n",
       "                    ).then(function(){\n",
       "                            \n",
       "var gd = document.getElementById('147d3b9b-6b42-4a02-9447-ae152a05e91c');\n",
       "var x = new MutationObserver(function (mutations, observer) {{\n",
       "        var display = window.getComputedStyle(gd).display;\n",
       "        if (!display || display === 'none') {{\n",
       "            console.log([gd, 'removed!']);\n",
       "            Plotly.purge(gd);\n",
       "            observer.disconnect();\n",
       "        }}\n",
       "}});\n",
       "\n",
       "// Listen for the removal of the full notebook cells\n",
       "var notebookContainer = gd.closest('#notebook-container');\n",
       "if (notebookContainer) {{\n",
       "    x.observe(notebookContainer, {childList: true});\n",
       "}}\n",
       "\n",
       "// Listen for the clearing of the current output cell\n",
       "var outputEl = gd.closest('.output');\n",
       "if (outputEl) {{\n",
       "    x.observe(outputEl, {childList: true});\n",
       "}}\n",
       "\n",
       "                        })\n",
       "                };\n",
       "                });\n",
       "            </script>\n",
       "        </div>"
      ]
     },
     "metadata": {},
     "output_type": "display_data"
    }
   ],
   "source": [
    "# we create 8 random uniform points in the unit square\n",
    "\n",
    "np.random.seed(2)\n",
    "X = 2*np.random.rand(8, 2) - 1\n",
    "\n",
    "y = np.zeros(X.shape[0])\n",
    "\n",
    "# initialize labels\n",
    "for i in range(0,X.shape[0]):\n",
    "    y[i] = labels_line(X[i,:])\n",
    "\n",
    "print('Shape of X: ', X.shape)\n",
    "print(X)\n",
    "print('Shape of y: ', y.shape)\n",
    "print(y)\n",
    "\n",
    "clf = svm.SVC(kernel='linear', C=1e2)\n",
    "clf.fit(X, y)\n",
    "\n",
    "fig = go.Figure()\n",
    "plot_data_decision_line(X,y,clf,fig,\"SVM\")\n",
    "fig.show()"
   ]
  },
  {
   "cell_type": "code",
   "execution_count": 38,
   "metadata": {},
   "outputs": [],
   "source": [
    "save_figure_to_file(fig,'../Slides/scikitlearn','svm1')"
   ]
  },
  {
   "cell_type": "code",
   "execution_count": 39,
   "metadata": {
    "colab": {
     "base_uri": "https://localhost:8080/",
     "height": 542
    },
    "colab_type": "code",
    "id": "-BUQDuNI2VFk",
    "outputId": "4851d27c-c5f8-461d-91e8-26abadc55ccb"
   },
   "outputs": [
    {
     "data": {
      "application/vnd.plotly.v1+json": {
       "config": {
        "plotlyServerURL": "https://plot.ly"
       },
       "data": [
        {
         "marker": {
          "color": [
           1,
           1,
           1,
           -1,
           1,
           -1,
           1,
           -1,
           -1,
           -1,
           1,
           -1,
           -1,
           -1,
           -1,
           -1,
           -1,
           1,
           -1,
           -1,
           -1,
           -1,
           -1,
           1,
           -1,
           1,
           1,
           1,
           -1,
           1,
           -1,
           1
          ],
          "colorscale": [
           [
            0,
            "rgb(103,0,31)"
           ],
           [
            0.1,
            "rgb(178,24,43)"
           ],
           [
            0.2,
            "rgb(214,96,77)"
           ],
           [
            0.3,
            "rgb(244,165,130)"
           ],
           [
            0.4,
            "rgb(253,219,199)"
           ],
           [
            0.5,
            "rgb(247,247,247)"
           ],
           [
            0.6,
            "rgb(209,229,240)"
           ],
           [
            0.7,
            "rgb(146,197,222)"
           ],
           [
            0.8,
            "rgb(67,147,195)"
           ],
           [
            0.9,
            "rgb(33,102,172)"
           ],
           [
            1,
            "rgb(5,48,97)"
           ]
          ],
          "size": 10
         },
         "mode": "markers",
         "showlegend": false,
         "type": "scatter",
         "x": [
          0.9725536577231977,
          0.019491049943163086,
          -0.3261625445080729,
          -0.44704571369240087,
          0.7243178709197058,
          -0.7182255102951693,
          0.47264983630721646,
          -0.31781396697724795,
          -0.565798722491812,
          -0.7516424445485406,
          0.9064277463414698,
          0.1388261937606614,
          0.006734121920556335,
          -0.9316170039712195,
          -0.6882972744358813,
          -0.6605951231951612,
          -0.25321248465679247,
          0.7166331758358033,
          0.16692339546489388,
          -0.6444147596206389,
          -0.11525483630306499,
          0.527841432578291,
          -0.8588531457788544,
          0.27378846393161993,
          -0.6161425732957695,
          0.02684041567968065,
          0.19804003738063058,
          -0.3982750111338085,
          0.1286401175491414,
          0.6060552843619602,
          -0.07723144822941297,
          0.499331276215482
         ],
         "y": [
          0.7467838916413092,
          -0.4563285714358485,
          -0.5660914699661515,
          -0.3133688144410849,
          -0.6866006599810228,
          0.5141605612813767,
          -0.2886738167284366,
          0.3336061011066529,
          0.12285396486587463,
          -0.36052703109294426,
          -0.7252864184044392,
          0.951330965846412,
          0.3353284122962119,
          -0.08776126737914058,
          -0.047902067002260074,
          0.792516674480342,
          -0.24061413905049656,
          0.29212210976951436,
          0.3367000536776703,
          0.6984960336357258,
          0.6629354195428565,
          0.8393819531399234,
          -0.6876691671210882,
          0.11139137486249662,
          -0.14868803469344027,
          -0.46124482853952586,
          -0.5596521097365512,
          -0.9032110318751712,
          0.8720644097439192,
          0.3946102986918616,
          0.32486922204759705,
          0.0629097846715081
         ]
        },
        {
         "colorscale": [
          [
           0,
           "rgb(103,0,31)"
          ],
          [
           0.1,
           "rgb(178,24,43)"
          ],
          [
           0.2,
           "rgb(214,96,77)"
          ],
          [
           0.3,
           "rgb(244,165,130)"
          ],
          [
           0.4,
           "rgb(253,219,199)"
          ],
          [
           0.5,
           "rgb(247,247,247)"
          ],
          [
           0.6,
           "rgb(209,229,240)"
          ],
          [
           0.7,
           "rgb(146,197,222)"
          ],
          [
           0.8,
           "rgb(67,147,195)"
          ],
          [
           0.9,
           "rgb(33,102,172)"
          ],
          [
           1,
           "rgb(5,48,97)"
          ]
         ],
         "type": "contour",
         "x": [
          -1.4,
          -1.2526315789473683,
          -1.1052631578947367,
          -0.9578947368421052,
          -0.8105263157894737,
          -0.6631578947368421,
          -0.5157894736842106,
          -0.368421052631579,
          -0.22105263157894742,
          -0.07368421052631585,
          0.0736842105263157,
          0.22105263157894742,
          0.3684210526315788,
          0.5157894736842102,
          0.663157894736842,
          0.8105263157894737,
          0.957894736842105,
          1.1052631578947365,
          1.252631578947368,
          1.4
         ],
         "y": [
          -1.1,
          -0.9842105263157895,
          -0.868421052631579,
          -0.7526315789473685,
          -0.636842105263158,
          -0.5210526315789474,
          -0.40526315789473694,
          -0.2894736842105264,
          -0.17368421052631586,
          -0.057894736842105325,
          0.0578947368421052,
          0.17368421052631586,
          0.28947368421052627,
          0.40526315789473666,
          0.5210526315789473,
          0.636842105263158,
          0.7526315789473684,
          0.8684210526315788,
          0.9842105263157894,
          1.1
         ],
         "z": [
          [
           -1.1494157322236598,
           -0.8287103073237246,
           -0.50800488242379,
           -0.18729945752385446,
           0.13340596737608107,
           0.4541113922760164,
           0.774816817175951,
           1.0955222420758866,
           1.4162276669758218,
           1.736933091875757,
           2.0576385167756923,
           2.378343941675628,
           2.699049366575563,
           3.0197547914754974,
           3.340460216375433,
           3.661165641275368,
           3.981871066175304,
           4.302576491075239,
           4.623281915975174,
           4.943987340875109
          ],
          [
           -1.346953981741756,
           -1.026248556841821,
           -0.7055431319418857,
           -0.38483770704195075,
           -0.06413228214201501,
           0.25657314275792065,
           0.5772785676578555,
           0.8979839925577908,
           1.218689417457726,
           1.539394842357661,
           1.8601002672575968,
           2.180805692157532,
           2.501511117057467,
           2.8222165419574017,
           3.1429219668573376,
           3.4636273917572726,
           3.784332816657208,
           4.1050382415571445,
           4.4257436664570795,
           4.7464490913570145
          ],
          [
           -1.5444922312598512,
           -1.2237868063599153,
           -0.9030813814599814,
           -0.5823759565600456,
           -0.2616705316601108,
           0.059034893239825095,
           0.3797403181397596,
           0.7004457430396954,
           1.0211511679396306,
           1.3418565928395658,
           1.6625620177395013,
           1.9832674426394366,
           2.3039728675393714,
           2.6246782924393064,
           2.9453837173392423,
           3.2660891422391773,
           3.5867945671391124,
           3.9074999920390474,
           4.228205416938984,
           4.548910841838919
          ],
          [
           -1.7420304807779472,
           -1.4213250558780113,
           -1.1006196309780767,
           -0.7799142060781412,
           -0.45920878117820585,
           -0.13850335627827032,
           0.18220206862166455,
           0.5029074935215999,
           0.8236129184215351,
           1.1443183433214703,
           1.4650237682214058,
           1.7857291931213417,
           2.1064346180212756,
           2.427140042921211,
           2.747845467821146,
           3.068550892721082,
           3.389256317621017,
           3.7099617425209517,
           4.030667167420888,
           4.351372592320823
          ],
          [
           -1.9395687302960423,
           -1.618863305396107,
           -1.298157880496172,
           -0.9774524555962364,
           -0.6567470306963016,
           -0.3360416057963661,
           -0.015336180896431108,
           0.3053692440035043,
           0.6260746689034397,
           0.9467800938033746,
           1.26748551870331,
           1.5881909436032458,
           1.9088963685031806,
           2.2296017934031154,
           2.550307218303051,
           2.8710126432029868,
           3.191718068102922,
           3.512423493002856,
           3.833128917902792,
           4.153834342802728
          ],
          [
           -2.1371069798141384,
           -1.8164015549142027,
           -1.4956961300142675,
           -1.1749907051143325,
           -0.8542852802143972,
           -0.533579855314462,
           -0.21287443041452692,
           0.10783099448540849,
           0.42853641938534387,
           0.7492418442852791,
           1.0699472691852145,
           1.3906526940851498,
           1.711358118985085,
           2.0320635438850196,
           2.352768968784955,
           2.6734743936848906,
           2.9941798185848256,
           3.314885243484761,
           3.6355906683846957,
           3.9562960932846316
          ],
          [
           -2.3346452293322337,
           -2.0139398044322983,
           -1.6932343795323637,
           -1.3725289546324275,
           -1.0518235297324927,
           -0.7311181048325573,
           -0.4104126799326223,
           -0.08970725503268709,
           0.2309981698672483,
           0.5517035947671836,
           0.8724090196671188,
           1.1931144445670547,
           1.5138198694669895,
           1.8345252943669244,
           2.15523071926686,
           2.475936144166795,
           2.7966415690667303,
           3.117346993966665,
           3.4380524188666004,
           3.7587578437665363
          ],
          [
           -2.53218347885033,
           -2.2114780539503944,
           -1.8907726290504585,
           -1.5700672041505233,
           -1.249361779250588,
           -0.9286563543506531,
           -0.6079509294507177,
           -0.28724550455078257,
           0.03345992034915274,
           0.35416534524908805,
           0.6748707701490233,
           0.9955761950489589,
           1.316281619948894,
           1.6369870448488288,
           1.9576924697487645,
           2.2783978946487,
           2.599103319548635,
           2.9198087444485696,
           3.2405141693485056,
           3.5612195942484415
          ],
          [
           -2.7297217283684247,
           -2.4090163034684897,
           -2.0883108785685547,
           -1.7676054536686188,
           -1.446900028768684,
           -1.1261946038687485,
           -0.8054891789688136,
           -0.48478375406887797,
           -0.16407832916894283,
           0.15662709573099248,
           0.4773325206309277,
           0.7980379455308634,
           1.1187433704307983,
           1.4394487953307333,
           1.7601542202306688,
           2.0808596451306043,
           2.4015650700305393,
           2.7222704949304735,
           3.04297591983041,
           3.3636813447303457
          ],
          [
           -2.9272599778865205,
           -2.6065545529865846,
           -2.28584912808665,
           -1.965143703186715,
           -1.6444382782867792,
           -1.3237328533868442,
           -1.0030274284869092,
           -0.6823220035869736,
           -0.3616165786870384,
           -0.0409111537871031,
           0.27979427111283217,
           0.6004996960127678,
           0.9212051209127026,
           1.2419105458126374,
           1.562615970712573,
           1.8833213956125092,
           2.2040268205124436,
           2.5247322454123795,
           2.8454376703123145,
           3.1661430952122496
          ],
          [
           -3.1247982274046158,
           -2.8040928025046807,
           -2.483387377604746,
           -2.1626819527048102,
           -1.8419765278048752,
           -1.5212711029049397,
           -1.2005656780050047,
           -0.8798602531050693,
           -0.5591548282051338,
           -0.23844940330519865,
           0.08225602159473658,
           0.4029614464946722,
           0.723666871394607,
           1.044372296294542,
           1.3650777211944776,
           1.6857831460944133,
           2.006488570994348,
           2.3271939958942833,
           2.647899420794219,
           2.9686048456941547
          ],
          [
           -3.3223364769227124,
           -3.001631052022776,
           -2.6809256271228414,
           -2.3602202022229064,
           -2.039514777322971,
           -1.7188093524230355,
           -1.3981039275231004,
           -1.077398502623165,
           -0.7566930777232298,
           -0.43598765282329444,
           -0.11528222792335917,
           0.2054231969765764,
           0.5261286218765114,
           0.846834046776446,
           1.1675394716763823,
           1.4882448965763178,
           1.8089503214762523,
           2.129655746376187,
           2.4503611712761226,
           2.771066596176058
          ],
          [
           -3.5198747264408077,
           -3.199169301540872,
           -2.8784638766409367,
           -2.5577584517410026,
           -2.2370530268410667,
           -1.9163476019411305,
           -1.595642177041196,
           -1.2749367521412605,
           -0.9542313272413252,
           -0.63352590234139,
           -0.3128204774414546,
           0.007884947458481038,
           0.32859037235841576,
           0.6492957972583508,
           0.9700012221582865,
           1.2907066470582222,
           1.6114120719581575,
           1.9321174968580923,
           2.252822921758028,
           2.5735283466579633
          ],
          [
           -3.717412975958903,
           -3.396707551058967,
           -3.076002126159032,
           -2.755296701259097,
           -2.4345912763591615,
           -2.113885851459226,
           -1.793180426559291,
           -1.472475001659356,
           -1.1517695767594203,
           -0.8310641518594851,
           -0.51035872695955,
           -0.1896533020596144,
           0.13105212284032053,
           0.4517575477402558,
           0.7724629726401914,
           1.093168397540127,
           1.4138738224400618,
           1.734579247339997,
           2.0552846722399325,
           2.375990097139867
          ],
          [
           -3.914951225476999,
           -3.5942458005770628,
           -3.2735403756771277,
           -2.9528349507771927,
           -2.6321295258772572,
           -2.311424100977322,
           -1.9907186760773865,
           -1.6700132511774513,
           -1.349307826277516,
           -1.0286024013775807,
           -0.7078969764776456,
           -0.38719155157771007,
           -0.0664861266777754,
           0.2542192982221599,
           0.5749247231220955,
           0.895630148022031,
           1.216335572921966,
           1.5370409978219008,
           1.8577464227218365,
           2.1784518476217714
          ],
          [
           -4.112489474995094,
           -3.7917840500951585,
           -3.471078625195224,
           -3.1503732002952884,
           -2.8296677753953534,
           -2.508962350495418,
           -2.1882569255954825,
           -1.8675515006955474,
           -1.546846075795612,
           -1.2261406508956767,
           -0.9054352259957416,
           -0.5847298010958061,
           -0.26402437619587127,
           0.05668104870406415,
           0.3773864736039997,
           0.6980918985039352,
           1.01879732340387,
           1.3395027483038051,
           1.6602081732037408,
           1.980913598103676
          ],
          [
           -4.310027724513189,
           -3.9893222996132534,
           -3.668616874713319,
           -3.3479114498133846,
           -3.0272060249134487,
           -2.7065006000135132,
           -2.3857951751135777,
           -2.065089750213643,
           -1.7443843253137077,
           -1.4236789004137722,
           -1.1029734755138367,
           -0.7822680506139013,
           -0.4615626257139666,
           -0.14085720081403175,
           0.17984822408590417,
           0.5005536489858398,
           0.8212590738857747,
           1.1419644987857098,
           1.462669923685645,
           1.7833753485855803
          ],
          [
           -4.507565974031285,
           -4.186860549131349,
           -3.866155124231414,
           -3.545449699331479,
           -3.2247442744315444,
           -2.904038849531608,
           -2.5833334246316735,
           -2.262627999731738,
           -1.9419225748318025,
           -1.621217149931867,
           -1.300511725031932,
           -0.9798063001319967,
           -0.6591008752320617,
           -0.3383954503321265,
           -0.01769002543219117,
           0.3030153994677448,
           0.6237208243676798,
           0.9444262492676145,
           1.26513167416755,
           1.5858370990674857
          ],
          [
           -4.70510422354938,
           -4.384398798649444,
           -4.06369337374951,
           -3.7429879488495748,
           -3.4222825239496397,
           -3.1015770990497042,
           -2.7808716741497697,
           -2.460166249249834,
           -2.1394608243498983,
           -1.8187553994499632,
           -1.4980499745500275,
           -1.1773445496500923,
           -0.8566391247501576,
           -0.5359336998502224,
           -0.21522827495028735,
           0.10547714994964862,
           0.4261825748495838,
           0.7468879997495185,
           1.0675934246494538,
           1.38829884954939
          ],
          [
           -4.902642473067475,
           -4.58193704816754,
           -4.261231623267606,
           -3.940526198367671,
           -3.6198207734677346,
           -3.2991153485678004,
           -2.978409923667865,
           -2.6577044987679295,
           -2.3369990738679944,
           -2.016293648968059,
           -1.6955882240681233,
           -1.374882799168188,
           -1.0541773742682528,
           -0.7334719493683182,
           -0.4127665244683828,
           -0.09206109956844748,
           0.22864432533148804,
           0.549349750231423,
           0.8700551751313582,
           1.1907606000312936
          ]
         ]
        }
       ],
       "layout": {
        "template": {
         "data": {
          "bar": [
           {
            "error_x": {
             "color": "#2a3f5f"
            },
            "error_y": {
             "color": "#2a3f5f"
            },
            "marker": {
             "line": {
              "color": "#E5ECF6",
              "width": 0.5
             }
            },
            "type": "bar"
           }
          ],
          "barpolar": [
           {
            "marker": {
             "line": {
              "color": "#E5ECF6",
              "width": 0.5
             }
            },
            "type": "barpolar"
           }
          ],
          "carpet": [
           {
            "aaxis": {
             "endlinecolor": "#2a3f5f",
             "gridcolor": "white",
             "linecolor": "white",
             "minorgridcolor": "white",
             "startlinecolor": "#2a3f5f"
            },
            "baxis": {
             "endlinecolor": "#2a3f5f",
             "gridcolor": "white",
             "linecolor": "white",
             "minorgridcolor": "white",
             "startlinecolor": "#2a3f5f"
            },
            "type": "carpet"
           }
          ],
          "choropleth": [
           {
            "colorbar": {
             "outlinewidth": 0,
             "ticks": ""
            },
            "type": "choropleth"
           }
          ],
          "contour": [
           {
            "colorbar": {
             "outlinewidth": 0,
             "ticks": ""
            },
            "colorscale": [
             [
              0,
              "#0d0887"
             ],
             [
              0.1111111111111111,
              "#46039f"
             ],
             [
              0.2222222222222222,
              "#7201a8"
             ],
             [
              0.3333333333333333,
              "#9c179e"
             ],
             [
              0.4444444444444444,
              "#bd3786"
             ],
             [
              0.5555555555555556,
              "#d8576b"
             ],
             [
              0.6666666666666666,
              "#ed7953"
             ],
             [
              0.7777777777777778,
              "#fb9f3a"
             ],
             [
              0.8888888888888888,
              "#fdca26"
             ],
             [
              1,
              "#f0f921"
             ]
            ],
            "type": "contour"
           }
          ],
          "contourcarpet": [
           {
            "colorbar": {
             "outlinewidth": 0,
             "ticks": ""
            },
            "type": "contourcarpet"
           }
          ],
          "heatmap": [
           {
            "colorbar": {
             "outlinewidth": 0,
             "ticks": ""
            },
            "colorscale": [
             [
              0,
              "#0d0887"
             ],
             [
              0.1111111111111111,
              "#46039f"
             ],
             [
              0.2222222222222222,
              "#7201a8"
             ],
             [
              0.3333333333333333,
              "#9c179e"
             ],
             [
              0.4444444444444444,
              "#bd3786"
             ],
             [
              0.5555555555555556,
              "#d8576b"
             ],
             [
              0.6666666666666666,
              "#ed7953"
             ],
             [
              0.7777777777777778,
              "#fb9f3a"
             ],
             [
              0.8888888888888888,
              "#fdca26"
             ],
             [
              1,
              "#f0f921"
             ]
            ],
            "type": "heatmap"
           }
          ],
          "heatmapgl": [
           {
            "colorbar": {
             "outlinewidth": 0,
             "ticks": ""
            },
            "colorscale": [
             [
              0,
              "#0d0887"
             ],
             [
              0.1111111111111111,
              "#46039f"
             ],
             [
              0.2222222222222222,
              "#7201a8"
             ],
             [
              0.3333333333333333,
              "#9c179e"
             ],
             [
              0.4444444444444444,
              "#bd3786"
             ],
             [
              0.5555555555555556,
              "#d8576b"
             ],
             [
              0.6666666666666666,
              "#ed7953"
             ],
             [
              0.7777777777777778,
              "#fb9f3a"
             ],
             [
              0.8888888888888888,
              "#fdca26"
             ],
             [
              1,
              "#f0f921"
             ]
            ],
            "type": "heatmapgl"
           }
          ],
          "histogram": [
           {
            "marker": {
             "colorbar": {
              "outlinewidth": 0,
              "ticks": ""
             }
            },
            "type": "histogram"
           }
          ],
          "histogram2d": [
           {
            "colorbar": {
             "outlinewidth": 0,
             "ticks": ""
            },
            "colorscale": [
             [
              0,
              "#0d0887"
             ],
             [
              0.1111111111111111,
              "#46039f"
             ],
             [
              0.2222222222222222,
              "#7201a8"
             ],
             [
              0.3333333333333333,
              "#9c179e"
             ],
             [
              0.4444444444444444,
              "#bd3786"
             ],
             [
              0.5555555555555556,
              "#d8576b"
             ],
             [
              0.6666666666666666,
              "#ed7953"
             ],
             [
              0.7777777777777778,
              "#fb9f3a"
             ],
             [
              0.8888888888888888,
              "#fdca26"
             ],
             [
              1,
              "#f0f921"
             ]
            ],
            "type": "histogram2d"
           }
          ],
          "histogram2dcontour": [
           {
            "colorbar": {
             "outlinewidth": 0,
             "ticks": ""
            },
            "colorscale": [
             [
              0,
              "#0d0887"
             ],
             [
              0.1111111111111111,
              "#46039f"
             ],
             [
              0.2222222222222222,
              "#7201a8"
             ],
             [
              0.3333333333333333,
              "#9c179e"
             ],
             [
              0.4444444444444444,
              "#bd3786"
             ],
             [
              0.5555555555555556,
              "#d8576b"
             ],
             [
              0.6666666666666666,
              "#ed7953"
             ],
             [
              0.7777777777777778,
              "#fb9f3a"
             ],
             [
              0.8888888888888888,
              "#fdca26"
             ],
             [
              1,
              "#f0f921"
             ]
            ],
            "type": "histogram2dcontour"
           }
          ],
          "mesh3d": [
           {
            "colorbar": {
             "outlinewidth": 0,
             "ticks": ""
            },
            "type": "mesh3d"
           }
          ],
          "parcoords": [
           {
            "line": {
             "colorbar": {
              "outlinewidth": 0,
              "ticks": ""
             }
            },
            "type": "parcoords"
           }
          ],
          "pie": [
           {
            "automargin": true,
            "type": "pie"
           }
          ],
          "scatter": [
           {
            "marker": {
             "colorbar": {
              "outlinewidth": 0,
              "ticks": ""
             }
            },
            "type": "scatter"
           }
          ],
          "scatter3d": [
           {
            "line": {
             "colorbar": {
              "outlinewidth": 0,
              "ticks": ""
             }
            },
            "marker": {
             "colorbar": {
              "outlinewidth": 0,
              "ticks": ""
             }
            },
            "type": "scatter3d"
           }
          ],
          "scattercarpet": [
           {
            "marker": {
             "colorbar": {
              "outlinewidth": 0,
              "ticks": ""
             }
            },
            "type": "scattercarpet"
           }
          ],
          "scattergeo": [
           {
            "marker": {
             "colorbar": {
              "outlinewidth": 0,
              "ticks": ""
             }
            },
            "type": "scattergeo"
           }
          ],
          "scattergl": [
           {
            "marker": {
             "colorbar": {
              "outlinewidth": 0,
              "ticks": ""
             }
            },
            "type": "scattergl"
           }
          ],
          "scattermapbox": [
           {
            "marker": {
             "colorbar": {
              "outlinewidth": 0,
              "ticks": ""
             }
            },
            "type": "scattermapbox"
           }
          ],
          "scatterpolar": [
           {
            "marker": {
             "colorbar": {
              "outlinewidth": 0,
              "ticks": ""
             }
            },
            "type": "scatterpolar"
           }
          ],
          "scatterpolargl": [
           {
            "marker": {
             "colorbar": {
              "outlinewidth": 0,
              "ticks": ""
             }
            },
            "type": "scatterpolargl"
           }
          ],
          "scatterternary": [
           {
            "marker": {
             "colorbar": {
              "outlinewidth": 0,
              "ticks": ""
             }
            },
            "type": "scatterternary"
           }
          ],
          "surface": [
           {
            "colorbar": {
             "outlinewidth": 0,
             "ticks": ""
            },
            "colorscale": [
             [
              0,
              "#0d0887"
             ],
             [
              0.1111111111111111,
              "#46039f"
             ],
             [
              0.2222222222222222,
              "#7201a8"
             ],
             [
              0.3333333333333333,
              "#9c179e"
             ],
             [
              0.4444444444444444,
              "#bd3786"
             ],
             [
              0.5555555555555556,
              "#d8576b"
             ],
             [
              0.6666666666666666,
              "#ed7953"
             ],
             [
              0.7777777777777778,
              "#fb9f3a"
             ],
             [
              0.8888888888888888,
              "#fdca26"
             ],
             [
              1,
              "#f0f921"
             ]
            ],
            "type": "surface"
           }
          ],
          "table": [
           {
            "cells": {
             "fill": {
              "color": "#EBF0F8"
             },
             "line": {
              "color": "white"
             }
            },
            "header": {
             "fill": {
              "color": "#C8D4E3"
             },
             "line": {
              "color": "white"
             }
            },
            "type": "table"
           }
          ]
         },
         "layout": {
          "annotationdefaults": {
           "arrowcolor": "#2a3f5f",
           "arrowhead": 0,
           "arrowwidth": 1
          },
          "coloraxis": {
           "colorbar": {
            "outlinewidth": 0,
            "ticks": ""
           }
          },
          "colorscale": {
           "diverging": [
            [
             0,
             "#8e0152"
            ],
            [
             0.1,
             "#c51b7d"
            ],
            [
             0.2,
             "#de77ae"
            ],
            [
             0.3,
             "#f1b6da"
            ],
            [
             0.4,
             "#fde0ef"
            ],
            [
             0.5,
             "#f7f7f7"
            ],
            [
             0.6,
             "#e6f5d0"
            ],
            [
             0.7,
             "#b8e186"
            ],
            [
             0.8,
             "#7fbc41"
            ],
            [
             0.9,
             "#4d9221"
            ],
            [
             1,
             "#276419"
            ]
           ],
           "sequential": [
            [
             0,
             "#0d0887"
            ],
            [
             0.1111111111111111,
             "#46039f"
            ],
            [
             0.2222222222222222,
             "#7201a8"
            ],
            [
             0.3333333333333333,
             "#9c179e"
            ],
            [
             0.4444444444444444,
             "#bd3786"
            ],
            [
             0.5555555555555556,
             "#d8576b"
            ],
            [
             0.6666666666666666,
             "#ed7953"
            ],
            [
             0.7777777777777778,
             "#fb9f3a"
            ],
            [
             0.8888888888888888,
             "#fdca26"
            ],
            [
             1,
             "#f0f921"
            ]
           ],
           "sequentialminus": [
            [
             0,
             "#0d0887"
            ],
            [
             0.1111111111111111,
             "#46039f"
            ],
            [
             0.2222222222222222,
             "#7201a8"
            ],
            [
             0.3333333333333333,
             "#9c179e"
            ],
            [
             0.4444444444444444,
             "#bd3786"
            ],
            [
             0.5555555555555556,
             "#d8576b"
            ],
            [
             0.6666666666666666,
             "#ed7953"
            ],
            [
             0.7777777777777778,
             "#fb9f3a"
            ],
            [
             0.8888888888888888,
             "#fdca26"
            ],
            [
             1,
             "#f0f921"
            ]
           ]
          },
          "colorway": [
           "#636efa",
           "#EF553B",
           "#00cc96",
           "#ab63fa",
           "#FFA15A",
           "#19d3f3",
           "#FF6692",
           "#B6E880",
           "#FF97FF",
           "#FECB52"
          ],
          "font": {
           "color": "#2a3f5f"
          },
          "geo": {
           "bgcolor": "white",
           "lakecolor": "white",
           "landcolor": "#E5ECF6",
           "showlakes": true,
           "showland": true,
           "subunitcolor": "white"
          },
          "hoverlabel": {
           "align": "left"
          },
          "hovermode": "closest",
          "mapbox": {
           "style": "light"
          },
          "paper_bgcolor": "white",
          "plot_bgcolor": "#E5ECF6",
          "polar": {
           "angularaxis": {
            "gridcolor": "white",
            "linecolor": "white",
            "ticks": ""
           },
           "bgcolor": "#E5ECF6",
           "radialaxis": {
            "gridcolor": "white",
            "linecolor": "white",
            "ticks": ""
           }
          },
          "scene": {
           "xaxis": {
            "backgroundcolor": "#E5ECF6",
            "gridcolor": "white",
            "gridwidth": 2,
            "linecolor": "white",
            "showbackground": true,
            "ticks": "",
            "zerolinecolor": "white"
           },
           "yaxis": {
            "backgroundcolor": "#E5ECF6",
            "gridcolor": "white",
            "gridwidth": 2,
            "linecolor": "white",
            "showbackground": true,
            "ticks": "",
            "zerolinecolor": "white"
           },
           "zaxis": {
            "backgroundcolor": "#E5ECF6",
            "gridcolor": "white",
            "gridwidth": 2,
            "linecolor": "white",
            "showbackground": true,
            "ticks": "",
            "zerolinecolor": "white"
           }
          },
          "shapedefaults": {
           "line": {
            "color": "#2a3f5f"
           }
          },
          "ternary": {
           "aaxis": {
            "gridcolor": "white",
            "linecolor": "white",
            "ticks": ""
           },
           "baxis": {
            "gridcolor": "white",
            "linecolor": "white",
            "ticks": ""
           },
           "bgcolor": "#E5ECF6",
           "caxis": {
            "gridcolor": "white",
            "linecolor": "white",
            "ticks": ""
           }
          },
          "title": {
           "x": 0.05
          },
          "xaxis": {
           "automargin": true,
           "gridcolor": "white",
           "linecolor": "white",
           "ticks": "",
           "title": {
            "standoff": 15
           },
           "zerolinecolor": "white",
           "zerolinewidth": 2
          },
          "yaxis": {
           "automargin": true,
           "gridcolor": "white",
           "linecolor": "white",
           "ticks": "",
           "title": {
            "standoff": 15
           },
           "zerolinecolor": "white",
           "zerolinewidth": 2
          }
         }
        },
        "title": {
         "text": "Decision function"
        },
        "width": 600
       }
      },
      "text/html": [
       "<div>\n",
       "        \n",
       "        \n",
       "            <div id=\"4a9ed2fb-37cc-490a-9ae1-e68dbdd9d702\" class=\"plotly-graph-div\" style=\"height:525px; width:600px;\"></div>\n",
       "            <script type=\"text/javascript\">\n",
       "                require([\"plotly\"], function(Plotly) {\n",
       "                    window.PLOTLYENV=window.PLOTLYENV || {};\n",
       "                    \n",
       "                if (document.getElementById(\"4a9ed2fb-37cc-490a-9ae1-e68dbdd9d702\")) {\n",
       "                    Plotly.newPlot(\n",
       "                        '4a9ed2fb-37cc-490a-9ae1-e68dbdd9d702',\n",
       "                        [{\"marker\": {\"color\": [1.0, 1.0, 1.0, -1.0, 1.0, -1.0, 1.0, -1.0, -1.0, -1.0, 1.0, -1.0, -1.0, -1.0, -1.0, -1.0, -1.0, 1.0, -1.0, -1.0, -1.0, -1.0, -1.0, 1.0, -1.0, 1.0, 1.0, 1.0, -1.0, 1.0, -1.0, 1.0], \"colorscale\": [[0.0, \"rgb(103,0,31)\"], [0.1, \"rgb(178,24,43)\"], [0.2, \"rgb(214,96,77)\"], [0.3, \"rgb(244,165,130)\"], [0.4, \"rgb(253,219,199)\"], [0.5, \"rgb(247,247,247)\"], [0.6, \"rgb(209,229,240)\"], [0.7, \"rgb(146,197,222)\"], [0.8, \"rgb(67,147,195)\"], [0.9, \"rgb(33,102,172)\"], [1.0, \"rgb(5,48,97)\"]], \"size\": 10}, \"mode\": \"markers\", \"showlegend\": false, \"type\": \"scatter\", \"x\": [0.9725536577231977, 0.019491049943163086, -0.3261625445080729, -0.44704571369240087, 0.7243178709197058, -0.7182255102951693, 0.47264983630721646, -0.31781396697724795, -0.565798722491812, -0.7516424445485406, 0.9064277463414698, 0.1388261937606614, 0.006734121920556335, -0.9316170039712195, -0.6882972744358813, -0.6605951231951612, -0.25321248465679247, 0.7166331758358033, 0.16692339546489388, -0.6444147596206389, -0.11525483630306499, 0.527841432578291, -0.8588531457788544, 0.27378846393161993, -0.6161425732957695, 0.02684041567968065, 0.19804003738063058, -0.3982750111338085, 0.1286401175491414, 0.6060552843619602, -0.07723144822941297, 0.499331276215482], \"y\": [0.7467838916413092, -0.4563285714358485, -0.5660914699661515, -0.3133688144410849, -0.6866006599810228, 0.5141605612813767, -0.2886738167284366, 0.3336061011066529, 0.12285396486587463, -0.36052703109294426, -0.7252864184044392, 0.951330965846412, 0.3353284122962119, -0.08776126737914058, -0.047902067002260074, 0.792516674480342, -0.24061413905049656, 0.29212210976951436, 0.3367000536776703, 0.6984960336357258, 0.6629354195428565, 0.8393819531399234, -0.6876691671210882, 0.11139137486249662, -0.14868803469344027, -0.46124482853952586, -0.5596521097365512, -0.9032110318751712, 0.8720644097439192, 0.3946102986918616, 0.32486922204759705, 0.0629097846715081]}, {\"colorscale\": [[0.0, \"rgb(103,0,31)\"], [0.1, \"rgb(178,24,43)\"], [0.2, \"rgb(214,96,77)\"], [0.3, \"rgb(244,165,130)\"], [0.4, \"rgb(253,219,199)\"], [0.5, \"rgb(247,247,247)\"], [0.6, \"rgb(209,229,240)\"], [0.7, \"rgb(146,197,222)\"], [0.8, \"rgb(67,147,195)\"], [0.9, \"rgb(33,102,172)\"], [1.0, \"rgb(5,48,97)\"]], \"type\": \"contour\", \"x\": [-1.4, -1.2526315789473683, -1.1052631578947367, -0.9578947368421052, -0.8105263157894737, -0.6631578947368421, -0.5157894736842106, -0.368421052631579, -0.22105263157894742, -0.07368421052631585, 0.0736842105263157, 0.22105263157894742, 0.3684210526315788, 0.5157894736842102, 0.663157894736842, 0.8105263157894737, 0.957894736842105, 1.1052631578947365, 1.252631578947368, 1.4], \"y\": [-1.1, -0.9842105263157895, -0.868421052631579, -0.7526315789473685, -0.636842105263158, -0.5210526315789474, -0.40526315789473694, -0.2894736842105264, -0.17368421052631586, -0.057894736842105325, 0.0578947368421052, 0.17368421052631586, 0.28947368421052627, 0.40526315789473666, 0.5210526315789473, 0.636842105263158, 0.7526315789473684, 0.8684210526315788, 0.9842105263157894, 1.1], \"z\": [[-1.1494157322236598, -0.8287103073237246, -0.50800488242379, -0.18729945752385446, 0.13340596737608107, 0.4541113922760164, 0.774816817175951, 1.0955222420758866, 1.4162276669758218, 1.736933091875757, 2.0576385167756923, 2.378343941675628, 2.699049366575563, 3.0197547914754974, 3.340460216375433, 3.661165641275368, 3.981871066175304, 4.302576491075239, 4.623281915975174, 4.943987340875109], [-1.346953981741756, -1.026248556841821, -0.7055431319418857, -0.38483770704195075, -0.06413228214201501, 0.25657314275792065, 0.5772785676578555, 0.8979839925577908, 1.218689417457726, 1.539394842357661, 1.8601002672575968, 2.180805692157532, 2.501511117057467, 2.8222165419574017, 3.1429219668573376, 3.4636273917572726, 3.784332816657208, 4.1050382415571445, 4.4257436664570795, 4.7464490913570145], [-1.5444922312598512, -1.2237868063599153, -0.9030813814599814, -0.5823759565600456, -0.2616705316601108, 0.059034893239825095, 0.3797403181397596, 0.7004457430396954, 1.0211511679396306, 1.3418565928395658, 1.6625620177395013, 1.9832674426394366, 2.3039728675393714, 2.6246782924393064, 2.9453837173392423, 3.2660891422391773, 3.5867945671391124, 3.9074999920390474, 4.228205416938984, 4.548910841838919], [-1.7420304807779472, -1.4213250558780113, -1.1006196309780767, -0.7799142060781412, -0.45920878117820585, -0.13850335627827032, 0.18220206862166455, 0.5029074935215999, 0.8236129184215351, 1.1443183433214703, 1.4650237682214058, 1.7857291931213417, 2.1064346180212756, 2.427140042921211, 2.747845467821146, 3.068550892721082, 3.389256317621017, 3.7099617425209517, 4.030667167420888, 4.351372592320823], [-1.9395687302960423, -1.618863305396107, -1.298157880496172, -0.9774524555962364, -0.6567470306963016, -0.3360416057963661, -0.015336180896431108, 0.3053692440035043, 0.6260746689034397, 0.9467800938033746, 1.26748551870331, 1.5881909436032458, 1.9088963685031806, 2.2296017934031154, 2.550307218303051, 2.8710126432029868, 3.191718068102922, 3.512423493002856, 3.833128917902792, 4.153834342802728], [-2.1371069798141384, -1.8164015549142027, -1.4956961300142675, -1.1749907051143325, -0.8542852802143972, -0.533579855314462, -0.21287443041452692, 0.10783099448540849, 0.42853641938534387, 0.7492418442852791, 1.0699472691852145, 1.3906526940851498, 1.711358118985085, 2.0320635438850196, 2.352768968784955, 2.6734743936848906, 2.9941798185848256, 3.314885243484761, 3.6355906683846957, 3.9562960932846316], [-2.3346452293322337, -2.0139398044322983, -1.6932343795323637, -1.3725289546324275, -1.0518235297324927, -0.7311181048325573, -0.4104126799326223, -0.08970725503268709, 0.2309981698672483, 0.5517035947671836, 0.8724090196671188, 1.1931144445670547, 1.5138198694669895, 1.8345252943669244, 2.15523071926686, 2.475936144166795, 2.7966415690667303, 3.117346993966665, 3.4380524188666004, 3.7587578437665363], [-2.53218347885033, -2.2114780539503944, -1.8907726290504585, -1.5700672041505233, -1.249361779250588, -0.9286563543506531, -0.6079509294507177, -0.28724550455078257, 0.03345992034915274, 0.35416534524908805, 0.6748707701490233, 0.9955761950489589, 1.316281619948894, 1.6369870448488288, 1.9576924697487645, 2.2783978946487, 2.599103319548635, 2.9198087444485696, 3.2405141693485056, 3.5612195942484415], [-2.7297217283684247, -2.4090163034684897, -2.0883108785685547, -1.7676054536686188, -1.446900028768684, -1.1261946038687485, -0.8054891789688136, -0.48478375406887797, -0.16407832916894283, 0.15662709573099248, 0.4773325206309277, 0.7980379455308634, 1.1187433704307983, 1.4394487953307333, 1.7601542202306688, 2.0808596451306043, 2.4015650700305393, 2.7222704949304735, 3.04297591983041, 3.3636813447303457], [-2.9272599778865205, -2.6065545529865846, -2.28584912808665, -1.965143703186715, -1.6444382782867792, -1.3237328533868442, -1.0030274284869092, -0.6823220035869736, -0.3616165786870384, -0.0409111537871031, 0.27979427111283217, 0.6004996960127678, 0.9212051209127026, 1.2419105458126374, 1.562615970712573, 1.8833213956125092, 2.2040268205124436, 2.5247322454123795, 2.8454376703123145, 3.1661430952122496], [-3.1247982274046158, -2.8040928025046807, -2.483387377604746, -2.1626819527048102, -1.8419765278048752, -1.5212711029049397, -1.2005656780050047, -0.8798602531050693, -0.5591548282051338, -0.23844940330519865, 0.08225602159473658, 0.4029614464946722, 0.723666871394607, 1.044372296294542, 1.3650777211944776, 1.6857831460944133, 2.006488570994348, 2.3271939958942833, 2.647899420794219, 2.9686048456941547], [-3.3223364769227124, -3.001631052022776, -2.6809256271228414, -2.3602202022229064, -2.039514777322971, -1.7188093524230355, -1.3981039275231004, -1.077398502623165, -0.7566930777232298, -0.43598765282329444, -0.11528222792335917, 0.2054231969765764, 0.5261286218765114, 0.846834046776446, 1.1675394716763823, 1.4882448965763178, 1.8089503214762523, 2.129655746376187, 2.4503611712761226, 2.771066596176058], [-3.5198747264408077, -3.199169301540872, -2.8784638766409367, -2.5577584517410026, -2.2370530268410667, -1.9163476019411305, -1.595642177041196, -1.2749367521412605, -0.9542313272413252, -0.63352590234139, -0.3128204774414546, 0.007884947458481038, 0.32859037235841576, 0.6492957972583508, 0.9700012221582865, 1.2907066470582222, 1.6114120719581575, 1.9321174968580923, 2.252822921758028, 2.5735283466579633], [-3.717412975958903, -3.396707551058967, -3.076002126159032, -2.755296701259097, -2.4345912763591615, -2.113885851459226, -1.793180426559291, -1.472475001659356, -1.1517695767594203, -0.8310641518594851, -0.51035872695955, -0.1896533020596144, 0.13105212284032053, 0.4517575477402558, 0.7724629726401914, 1.093168397540127, 1.4138738224400618, 1.734579247339997, 2.0552846722399325, 2.375990097139867], [-3.914951225476999, -3.5942458005770628, -3.2735403756771277, -2.9528349507771927, -2.6321295258772572, -2.311424100977322, -1.9907186760773865, -1.6700132511774513, -1.349307826277516, -1.0286024013775807, -0.7078969764776456, -0.38719155157771007, -0.0664861266777754, 0.2542192982221599, 0.5749247231220955, 0.895630148022031, 1.216335572921966, 1.5370409978219008, 1.8577464227218365, 2.1784518476217714], [-4.112489474995094, -3.7917840500951585, -3.471078625195224, -3.1503732002952884, -2.8296677753953534, -2.508962350495418, -2.1882569255954825, -1.8675515006955474, -1.546846075795612, -1.2261406508956767, -0.9054352259957416, -0.5847298010958061, -0.26402437619587127, 0.05668104870406415, 0.3773864736039997, 0.6980918985039352, 1.01879732340387, 1.3395027483038051, 1.6602081732037408, 1.980913598103676], [-4.310027724513189, -3.9893222996132534, -3.668616874713319, -3.3479114498133846, -3.0272060249134487, -2.7065006000135132, -2.3857951751135777, -2.065089750213643, -1.7443843253137077, -1.4236789004137722, -1.1029734755138367, -0.7822680506139013, -0.4615626257139666, -0.14085720081403175, 0.17984822408590417, 0.5005536489858398, 0.8212590738857747, 1.1419644987857098, 1.462669923685645, 1.7833753485855803], [-4.507565974031285, -4.186860549131349, -3.866155124231414, -3.545449699331479, -3.2247442744315444, -2.904038849531608, -2.5833334246316735, -2.262627999731738, -1.9419225748318025, -1.621217149931867, -1.300511725031932, -0.9798063001319967, -0.6591008752320617, -0.3383954503321265, -0.01769002543219117, 0.3030153994677448, 0.6237208243676798, 0.9444262492676145, 1.26513167416755, 1.5858370990674857], [-4.70510422354938, -4.384398798649444, -4.06369337374951, -3.7429879488495748, -3.4222825239496397, -3.1015770990497042, -2.7808716741497697, -2.460166249249834, -2.1394608243498983, -1.8187553994499632, -1.4980499745500275, -1.1773445496500923, -0.8566391247501576, -0.5359336998502224, -0.21522827495028735, 0.10547714994964862, 0.4261825748495838, 0.7468879997495185, 1.0675934246494538, 1.38829884954939], [-4.902642473067475, -4.58193704816754, -4.261231623267606, -3.940526198367671, -3.6198207734677346, -3.2991153485678004, -2.978409923667865, -2.6577044987679295, -2.3369990738679944, -2.016293648968059, -1.6955882240681233, -1.374882799168188, -1.0541773742682528, -0.7334719493683182, -0.4127665244683828, -0.09206109956844748, 0.22864432533148804, 0.549349750231423, 0.8700551751313582, 1.1907606000312936]]}],\n",
       "                        {\"template\": {\"data\": {\"bar\": [{\"error_x\": {\"color\": \"#2a3f5f\"}, \"error_y\": {\"color\": \"#2a3f5f\"}, \"marker\": {\"line\": {\"color\": \"#E5ECF6\", \"width\": 0.5}}, \"type\": \"bar\"}], \"barpolar\": [{\"marker\": {\"line\": {\"color\": \"#E5ECF6\", \"width\": 0.5}}, \"type\": \"barpolar\"}], \"carpet\": [{\"aaxis\": {\"endlinecolor\": \"#2a3f5f\", \"gridcolor\": \"white\", \"linecolor\": \"white\", \"minorgridcolor\": \"white\", \"startlinecolor\": \"#2a3f5f\"}, \"baxis\": {\"endlinecolor\": \"#2a3f5f\", \"gridcolor\": \"white\", \"linecolor\": \"white\", \"minorgridcolor\": \"white\", \"startlinecolor\": \"#2a3f5f\"}, \"type\": \"carpet\"}], \"choropleth\": [{\"colorbar\": {\"outlinewidth\": 0, \"ticks\": \"\"}, \"type\": \"choropleth\"}], \"contour\": [{\"colorbar\": {\"outlinewidth\": 0, \"ticks\": \"\"}, \"colorscale\": [[0.0, \"#0d0887\"], [0.1111111111111111, \"#46039f\"], [0.2222222222222222, \"#7201a8\"], [0.3333333333333333, \"#9c179e\"], [0.4444444444444444, \"#bd3786\"], [0.5555555555555556, \"#d8576b\"], [0.6666666666666666, \"#ed7953\"], [0.7777777777777778, \"#fb9f3a\"], [0.8888888888888888, \"#fdca26\"], [1.0, \"#f0f921\"]], \"type\": \"contour\"}], \"contourcarpet\": [{\"colorbar\": {\"outlinewidth\": 0, \"ticks\": \"\"}, \"type\": \"contourcarpet\"}], \"heatmap\": [{\"colorbar\": {\"outlinewidth\": 0, \"ticks\": \"\"}, \"colorscale\": [[0.0, \"#0d0887\"], [0.1111111111111111, \"#46039f\"], [0.2222222222222222, \"#7201a8\"], [0.3333333333333333, \"#9c179e\"], [0.4444444444444444, \"#bd3786\"], [0.5555555555555556, \"#d8576b\"], [0.6666666666666666, \"#ed7953\"], [0.7777777777777778, \"#fb9f3a\"], [0.8888888888888888, \"#fdca26\"], [1.0, \"#f0f921\"]], \"type\": \"heatmap\"}], \"heatmapgl\": [{\"colorbar\": {\"outlinewidth\": 0, \"ticks\": \"\"}, \"colorscale\": [[0.0, \"#0d0887\"], [0.1111111111111111, \"#46039f\"], [0.2222222222222222, \"#7201a8\"], [0.3333333333333333, \"#9c179e\"], [0.4444444444444444, \"#bd3786\"], [0.5555555555555556, \"#d8576b\"], [0.6666666666666666, \"#ed7953\"], [0.7777777777777778, \"#fb9f3a\"], [0.8888888888888888, \"#fdca26\"], [1.0, \"#f0f921\"]], \"type\": \"heatmapgl\"}], \"histogram\": [{\"marker\": {\"colorbar\": {\"outlinewidth\": 0, \"ticks\": \"\"}}, \"type\": \"histogram\"}], \"histogram2d\": [{\"colorbar\": {\"outlinewidth\": 0, \"ticks\": \"\"}, \"colorscale\": [[0.0, \"#0d0887\"], [0.1111111111111111, \"#46039f\"], [0.2222222222222222, \"#7201a8\"], [0.3333333333333333, \"#9c179e\"], [0.4444444444444444, \"#bd3786\"], [0.5555555555555556, \"#d8576b\"], [0.6666666666666666, \"#ed7953\"], [0.7777777777777778, \"#fb9f3a\"], [0.8888888888888888, \"#fdca26\"], [1.0, \"#f0f921\"]], \"type\": \"histogram2d\"}], \"histogram2dcontour\": [{\"colorbar\": {\"outlinewidth\": 0, \"ticks\": \"\"}, \"colorscale\": [[0.0, \"#0d0887\"], [0.1111111111111111, \"#46039f\"], [0.2222222222222222, \"#7201a8\"], [0.3333333333333333, \"#9c179e\"], [0.4444444444444444, \"#bd3786\"], [0.5555555555555556, \"#d8576b\"], [0.6666666666666666, \"#ed7953\"], [0.7777777777777778, \"#fb9f3a\"], [0.8888888888888888, \"#fdca26\"], [1.0, \"#f0f921\"]], \"type\": \"histogram2dcontour\"}], \"mesh3d\": [{\"colorbar\": {\"outlinewidth\": 0, \"ticks\": \"\"}, \"type\": \"mesh3d\"}], \"parcoords\": [{\"line\": {\"colorbar\": {\"outlinewidth\": 0, \"ticks\": \"\"}}, \"type\": \"parcoords\"}], \"pie\": [{\"automargin\": true, \"type\": \"pie\"}], \"scatter\": [{\"marker\": {\"colorbar\": {\"outlinewidth\": 0, \"ticks\": \"\"}}, \"type\": \"scatter\"}], \"scatter3d\": [{\"line\": {\"colorbar\": {\"outlinewidth\": 0, \"ticks\": \"\"}}, \"marker\": {\"colorbar\": {\"outlinewidth\": 0, \"ticks\": \"\"}}, \"type\": \"scatter3d\"}], \"scattercarpet\": [{\"marker\": {\"colorbar\": {\"outlinewidth\": 0, \"ticks\": \"\"}}, \"type\": \"scattercarpet\"}], \"scattergeo\": [{\"marker\": {\"colorbar\": {\"outlinewidth\": 0, \"ticks\": \"\"}}, \"type\": \"scattergeo\"}], \"scattergl\": [{\"marker\": {\"colorbar\": {\"outlinewidth\": 0, \"ticks\": \"\"}}, \"type\": \"scattergl\"}], \"scattermapbox\": [{\"marker\": {\"colorbar\": {\"outlinewidth\": 0, \"ticks\": \"\"}}, \"type\": \"scattermapbox\"}], \"scatterpolar\": [{\"marker\": {\"colorbar\": {\"outlinewidth\": 0, \"ticks\": \"\"}}, \"type\": \"scatterpolar\"}], \"scatterpolargl\": [{\"marker\": {\"colorbar\": {\"outlinewidth\": 0, \"ticks\": \"\"}}, \"type\": \"scatterpolargl\"}], \"scatterternary\": [{\"marker\": {\"colorbar\": {\"outlinewidth\": 0, \"ticks\": \"\"}}, \"type\": \"scatterternary\"}], \"surface\": [{\"colorbar\": {\"outlinewidth\": 0, \"ticks\": \"\"}, \"colorscale\": [[0.0, \"#0d0887\"], [0.1111111111111111, \"#46039f\"], [0.2222222222222222, \"#7201a8\"], [0.3333333333333333, \"#9c179e\"], [0.4444444444444444, \"#bd3786\"], [0.5555555555555556, \"#d8576b\"], [0.6666666666666666, \"#ed7953\"], [0.7777777777777778, \"#fb9f3a\"], [0.8888888888888888, \"#fdca26\"], [1.0, \"#f0f921\"]], \"type\": \"surface\"}], \"table\": [{\"cells\": {\"fill\": {\"color\": \"#EBF0F8\"}, \"line\": {\"color\": \"white\"}}, \"header\": {\"fill\": {\"color\": \"#C8D4E3\"}, \"line\": {\"color\": \"white\"}}, \"type\": \"table\"}]}, \"layout\": {\"annotationdefaults\": {\"arrowcolor\": \"#2a3f5f\", \"arrowhead\": 0, \"arrowwidth\": 1}, \"coloraxis\": {\"colorbar\": {\"outlinewidth\": 0, \"ticks\": \"\"}}, \"colorscale\": {\"diverging\": [[0, \"#8e0152\"], [0.1, \"#c51b7d\"], [0.2, \"#de77ae\"], [0.3, \"#f1b6da\"], [0.4, \"#fde0ef\"], [0.5, \"#f7f7f7\"], [0.6, \"#e6f5d0\"], [0.7, \"#b8e186\"], [0.8, \"#7fbc41\"], [0.9, \"#4d9221\"], [1, \"#276419\"]], \"sequential\": [[0.0, \"#0d0887\"], [0.1111111111111111, \"#46039f\"], [0.2222222222222222, \"#7201a8\"], [0.3333333333333333, \"#9c179e\"], [0.4444444444444444, \"#bd3786\"], [0.5555555555555556, \"#d8576b\"], [0.6666666666666666, \"#ed7953\"], [0.7777777777777778, \"#fb9f3a\"], [0.8888888888888888, \"#fdca26\"], [1.0, \"#f0f921\"]], \"sequentialminus\": [[0.0, \"#0d0887\"], [0.1111111111111111, \"#46039f\"], [0.2222222222222222, \"#7201a8\"], [0.3333333333333333, \"#9c179e\"], [0.4444444444444444, \"#bd3786\"], [0.5555555555555556, \"#d8576b\"], [0.6666666666666666, \"#ed7953\"], [0.7777777777777778, \"#fb9f3a\"], [0.8888888888888888, \"#fdca26\"], [1.0, \"#f0f921\"]]}, \"colorway\": [\"#636efa\", \"#EF553B\", \"#00cc96\", \"#ab63fa\", \"#FFA15A\", \"#19d3f3\", \"#FF6692\", \"#B6E880\", \"#FF97FF\", \"#FECB52\"], \"font\": {\"color\": \"#2a3f5f\"}, \"geo\": {\"bgcolor\": \"white\", \"lakecolor\": \"white\", \"landcolor\": \"#E5ECF6\", \"showlakes\": true, \"showland\": true, \"subunitcolor\": \"white\"}, \"hoverlabel\": {\"align\": \"left\"}, \"hovermode\": \"closest\", \"mapbox\": {\"style\": \"light\"}, \"paper_bgcolor\": \"white\", \"plot_bgcolor\": \"#E5ECF6\", \"polar\": {\"angularaxis\": {\"gridcolor\": \"white\", \"linecolor\": \"white\", \"ticks\": \"\"}, \"bgcolor\": \"#E5ECF6\", \"radialaxis\": {\"gridcolor\": \"white\", \"linecolor\": \"white\", \"ticks\": \"\"}}, \"scene\": {\"xaxis\": {\"backgroundcolor\": \"#E5ECF6\", \"gridcolor\": \"white\", \"gridwidth\": 2, \"linecolor\": \"white\", \"showbackground\": true, \"ticks\": \"\", \"zerolinecolor\": \"white\"}, \"yaxis\": {\"backgroundcolor\": \"#E5ECF6\", \"gridcolor\": \"white\", \"gridwidth\": 2, \"linecolor\": \"white\", \"showbackground\": true, \"ticks\": \"\", \"zerolinecolor\": \"white\"}, \"zaxis\": {\"backgroundcolor\": \"#E5ECF6\", \"gridcolor\": \"white\", \"gridwidth\": 2, \"linecolor\": \"white\", \"showbackground\": true, \"ticks\": \"\", \"zerolinecolor\": \"white\"}}, \"shapedefaults\": {\"line\": {\"color\": \"#2a3f5f\"}}, \"ternary\": {\"aaxis\": {\"gridcolor\": \"white\", \"linecolor\": \"white\", \"ticks\": \"\"}, \"baxis\": {\"gridcolor\": \"white\", \"linecolor\": \"white\", \"ticks\": \"\"}, \"bgcolor\": \"#E5ECF6\", \"caxis\": {\"gridcolor\": \"white\", \"linecolor\": \"white\", \"ticks\": \"\"}}, \"title\": {\"x\": 0.05}, \"xaxis\": {\"automargin\": true, \"gridcolor\": \"white\", \"linecolor\": \"white\", \"ticks\": \"\", \"title\": {\"standoff\": 15}, \"zerolinecolor\": \"white\", \"zerolinewidth\": 2}, \"yaxis\": {\"automargin\": true, \"gridcolor\": \"white\", \"linecolor\": \"white\", \"ticks\": \"\", \"title\": {\"standoff\": 15}, \"zerolinecolor\": \"white\", \"zerolinewidth\": 2}}}, \"title\": {\"text\": \"Decision function\"}, \"width\": 600},\n",
       "                        {\"responsive\": true}\n",
       "                    ).then(function(){\n",
       "                            \n",
       "var gd = document.getElementById('4a9ed2fb-37cc-490a-9ae1-e68dbdd9d702');\n",
       "var x = new MutationObserver(function (mutations, observer) {{\n",
       "        var display = window.getComputedStyle(gd).display;\n",
       "        if (!display || display === 'none') {{\n",
       "            console.log([gd, 'removed!']);\n",
       "            Plotly.purge(gd);\n",
       "            observer.disconnect();\n",
       "        }}\n",
       "}});\n",
       "\n",
       "// Listen for the removal of the full notebook cells\n",
       "var notebookContainer = gd.closest('#notebook-container');\n",
       "if (notebookContainer) {{\n",
       "    x.observe(notebookContainer, {childList: true});\n",
       "}}\n",
       "\n",
       "// Listen for the clearing of the current output cell\n",
       "var outputEl = gd.closest('.output');\n",
       "if (outputEl) {{\n",
       "    x.observe(outputEl, {childList: true});\n",
       "}}\n",
       "\n",
       "                        })\n",
       "                };\n",
       "                });\n",
       "            </script>\n",
       "        </div>"
      ]
     },
     "metadata": {},
     "output_type": "display_data"
    }
   ],
   "source": [
    "# 20 uniform points in the unit square\n",
    "# the decision function is plotted\n",
    "\n",
    "np.random.seed(2020)\n",
    "X = 2*np.random.rand(32, 2) - 1\n",
    "\n",
    "y = np.zeros(X.shape[0])\n",
    "\n",
    "# initialize labels\n",
    "for i in range(0,X.shape[0]):\n",
    "    y[i] = labels_line(X[i,:])\n",
    "\n",
    "# fit the model\n",
    "clf = svm.SVC(kernel=\"linear\")\n",
    "clf.fit(X, y)\n",
    "\n",
    "# plot\n",
    "fig = go.Figure()\n",
    "plot_data_decision_function(X, y, clf, fig, \"Decision function\", 1.4, 1.1)\n",
    "fig.show()"
   ]
  },
  {
   "cell_type": "code",
   "execution_count": 40,
   "metadata": {},
   "outputs": [],
   "source": [
    "save_figure_to_file(fig,'../Slides/ML_introduction','svm1')\n",
    "save_figure_to_file(fig,'../Slides/scikitlearn','svm2')"
   ]
  },
  {
   "cell_type": "code",
   "execution_count": 41,
   "metadata": {
    "colab": {
     "base_uri": "https://localhost:8080/",
     "height": 542
    },
    "colab_type": "code",
    "id": "X0ldlL-b-xTY",
    "outputId": "cf277cb0-b788-484b-eee7-868af18d3412"
   },
   "outputs": [
    {
     "data": {
      "application/vnd.plotly.v1+json": {
       "config": {
        "plotlyServerURL": "https://plot.ly"
       },
       "data": [
        {
         "marker": {
          "color": [
           1,
           1,
           1,
           -1,
           1,
           -1,
           1,
           -1,
           -1,
           -1,
           1,
           -1,
           -1,
           -1,
           -1,
           -1,
           -1,
           1,
           -1,
           -1,
           -1,
           -1,
           -1,
           1,
           -1,
           1,
           1,
           1,
           -1,
           1,
           -1,
           1
          ],
          "colorscale": [
           [
            0,
            "rgb(103,0,31)"
           ],
           [
            0.1,
            "rgb(178,24,43)"
           ],
           [
            0.2,
            "rgb(214,96,77)"
           ],
           [
            0.3,
            "rgb(244,165,130)"
           ],
           [
            0.4,
            "rgb(253,219,199)"
           ],
           [
            0.5,
            "rgb(247,247,247)"
           ],
           [
            0.6,
            "rgb(209,229,240)"
           ],
           [
            0.7,
            "rgb(146,197,222)"
           ],
           [
            0.8,
            "rgb(67,147,195)"
           ],
           [
            0.9,
            "rgb(33,102,172)"
           ],
           [
            1,
            "rgb(5,48,97)"
           ]
          ],
          "size": 10
         },
         "mode": "markers",
         "showlegend": false,
         "type": "scatter",
         "x": [
          0.9553637840845721,
          0.413774153732544,
          -0.08831908338511785,
          -0.716311572309574,
          0.8384759927653522,
          -0.9189032643724722,
          0.9252022719166835,
          -0.7399517311510524,
          -0.48925060555223643,
          -0.2571837448661536,
          1.2472725791348636,
          0.510513677909929,
          -0.04406140907115674,
          -0.4526388712024112,
          -0.7410664407399503,
          -0.22886574311621488,
          0.17911530841163925,
          0.37731160017527965,
          -0.06378794718172476,
          -0.8489738247618893,
          -0.3427115406107284,
          0.9447028381045965,
          -0.45863108539764097,
          -0.18525916158486833,
          -0.4153494280377563,
          0.0796861975497053,
          0.5519713431835059,
          -0.4458606043168418,
          0.25925994466408386,
          0.47631133533063985,
          0.1819529446408592,
          0.278359410797857
         ],
         "y": [
          0.27605812463923307,
          -0.12479648779441244,
          -0.1675941715729361,
          -0.6334083046840374,
          -1.169931177950523,
          0.6827014390184523,
          0.02753319544241517,
          -0.03178097011285652,
          -0.19986741088871618,
          -0.7431521635159125,
          -1.2112596885582636,
          1.3537377109563529,
          0.45351038797141097,
          -0.1904827831957029,
          -0.314642087224532,
          0.5653191431978359,
          -0.3273836422608506,
          0.2609246378791865,
          0.7809686257402683,
          0.3500558857040055,
          1.0279165085806263,
          1.0891625473328055,
          -1.165262851885486,
          0.5099443861470127,
          0.020659018247940475,
          -0.2385031665809073,
          -0.45063353486546276,
          -1.1065515039848557,
          0.8790992552575336,
          0.032823644523019335,
          0.7838474218040596,
          0.2937141868189893
         ]
        },
        {
         "colorscale": [
          [
           0,
           "rgb(103,0,31)"
          ],
          [
           0.1,
           "rgb(178,24,43)"
          ],
          [
           0.2,
           "rgb(214,96,77)"
          ],
          [
           0.3,
           "rgb(244,165,130)"
          ],
          [
           0.4,
           "rgb(253,219,199)"
          ],
          [
           0.5,
           "rgb(247,247,247)"
          ],
          [
           0.6,
           "rgb(209,229,240)"
          ],
          [
           0.7,
           "rgb(146,197,222)"
          ],
          [
           0.8,
           "rgb(67,147,195)"
          ],
          [
           0.9,
           "rgb(33,102,172)"
          ],
          [
           1,
           "rgb(5,48,97)"
          ]
         ],
         "type": "contour",
         "x": [
          -1.9,
          -1.7,
          -1.5,
          -1.3,
          -1.1,
          -0.9,
          -0.7000000000000001,
          -0.5,
          -0.3000000000000001,
          -0.10000000000000009,
          0.09999999999999988,
          0.3000000000000001,
          0.49999999999999983,
          0.6999999999999996,
          0.8999999999999998,
          1.1,
          1.2999999999999998,
          1.4999999999999996,
          1.6999999999999997,
          1.9
         ],
         "y": [
          -1.5,
          -1.3421052631578947,
          -1.1842105263157894,
          -1.0263157894736843,
          -0.868421052631579,
          -0.7105263157894737,
          -0.5526315789473685,
          -0.3947368421052632,
          -0.23684210526315796,
          -0.07894736842105271,
          0.07894736842105254,
          0.23684210526315796,
          0.39473684210526305,
          0.5526315789473681,
          0.7105263157894736,
          0.868421052631579,
          1.026315789473684,
          1.1842105263157892,
          1.3421052631578947,
          1.5
         ],
         "z": [
          [
           -2.126263778602263,
           -1.7690578633022804,
           -1.4118519480022993,
           -1.0546460327023173,
           -0.6974401174023349,
           -0.34023420210235333,
           0.016971713197628358,
           0.37417762849761127,
           0.731383543797593,
           1.0885894590975753,
           1.4457953743975573,
           1.8030012896975398,
           2.160207204997521,
           2.517413120297502,
           2.8746190355974846,
           3.2318249508974675,
           3.589030866197449,
           3.9462367814974297,
           4.303442696797414,
           4.660648612097397
          ],
          [
           -2.302154153807738,
           -1.9449482385077563,
           -1.5877423232077752,
           -1.2305364079077932,
           -0.8733304926078113,
           -0.5161245773078291,
           -0.158918662007847,
           0.19828725329213504,
           0.5554931685921171,
           0.9126990838920993,
           1.269904999192081,
           1.6271109144920635,
           1.9843168297920455,
           2.341522745092026,
           2.698728660392009,
           3.0559345756919916,
           3.413140490991973,
           3.770346406291955,
           4.127552321591938,
           4.48475823689192
          ],
          [
           -2.4780445290132143,
           -2.120838613713233,
           -1.763632698413251,
           -1.4064267831132695,
           -1.0492208678132866,
           -0.6920149525133054,
           -0.3348090372133229,
           0.022396878086659022,
           0.3796027933866407,
           0.7368087086866227,
           1.094014623986605,
           1.4512205392865876,
           1.8084264545865687,
           2.1656323698865503,
           2.5228382851865327,
           2.880044200486515,
           3.237250115786497,
           3.594456031086478,
           3.951661946386461,
           4.308867861686444
          ],
          [
           -2.653934904218691,
           -2.2967289889187095,
           -1.939523073618727,
           -1.5823171583187454,
           -1.225111243018763,
           -0.8679053277187807,
           -0.5106994124187988,
           -0.1534934971188172,
           0.20371241818116503,
           0.5609183334811471,
           0.9181242487811289,
           1.2753301640811117,
           1.6325360793810932,
           1.989741994681074,
           2.3469479099810564,
           2.7041538252810398,
           3.061359740581021,
           3.418565655881002,
           3.7757715711809854,
           4.132977486480967
          ],
          [
           -2.8298252794241665,
           -2.4726193641241854,
           -2.115413448824203,
           -1.7582075335242213,
           -1.4010016182242393,
           -1.0437957029242573,
           -0.686589787624275,
           -0.32938387232429317,
           0.027822042975688965,
           0.38502795827567116,
           0.7422338735756532,
           1.0994397888756353,
           1.456645704175617,
           1.8138516194755985,
           2.171057534775581,
           2.528263450075563,
           2.885469365375545,
           3.242675280675526,
           3.599881195975508,
           3.957087111275491
          ],
          [
           -3.0057156546296433,
           -2.6485097393296617,
           -2.29130382402968,
           -1.9340979087296977,
           -1.576891993429716,
           -1.2196860781297332,
           -0.8624801628297513,
           -0.5052742475297689,
           -0.1480683322297875,
           0.2091375830701948,
           0.5663434983701767,
           0.9235494136701589,
           1.2807553289701405,
           1.6379612442701221,
           1.9951671595701046,
           2.352373074870088,
           2.7095789901700678,
           3.06678490547005,
           3.4239908207700323,
           3.781196736070014
          ],
          [
           -3.181606029835119,
           -2.8244001145351367,
           -2.467194199235156,
           -2.1099882839351736,
           -1.752782368635192,
           -1.39557645333521,
           -1.0383705380352275,
           -0.6811646227352453,
           -0.32395870743526356,
           0.03324720786471824,
           0.3904531231647006,
           0.7476590384646832,
           1.1048649537646646,
           1.4620708690646458,
           1.8192767843646287,
           2.176482699664611,
           2.5336886149645927,
           2.8908945302645734,
           3.2481004455645563,
           3.6053063608645384
          ],
          [
           -3.3574964050405955,
           -3.0002904897406126,
           -2.6430845744406324,
           -2.28587865914065,
           -1.9286727438406688,
           -1.5714668285406859,
           -1.2142609132407038,
           -0.8570549979407216,
           -0.4998490826407399,
           -0.14264316734075788,
           0.21456274795922425,
           0.5717686632592065,
           0.9289745785591882,
           1.2861804938591694,
           1.643386409159152,
           2.0005923244591344,
           2.357798239759116,
           2.715004155059098,
           3.07221007035908,
           3.4294159856590625
          ],
          [
           -3.5333867802460723,
           -3.1761808649460894,
           -2.8189749496461087,
           -2.4617690343461263,
           -2.1045631190461442,
           -1.7473572037461618,
           -1.3901512884461797,
           -1.0329453731461977,
           -0.675739457846216,
           -0.31853354254623384,
           0.03867237275374813,
           0.3958782880537306,
           0.7530842033537123,
           1.1102901186536935,
           1.467496033953676,
           1.8247019492536585,
           2.18190786455364,
           2.539113779853621,
           2.896319695153604,
           3.253525610453586
          ],
          [
           -3.7092771554515482,
           -3.352071240151566,
           -2.9948653248515846,
           -2.6376594095516026,
           -2.280453494251621,
           -1.9232475789516381,
           -1.566041663651656,
           -1.2088357483516738,
           -0.851629833051692,
           -0.49442391775171,
           -0.13721800245172805,
           0.21998791284825436,
           0.5771938281482359,
           0.934399743448218,
           1.2916056587482,
           1.6488115740481826,
           2.0060174893481633,
           2.363223404648145,
           2.7204293199481273,
           3.07763523524811
          ],
          [
           -3.8851675306570246,
           -3.527961615357042,
           -3.1707557000570605,
           -2.813549784757079,
           -2.456343869457097,
           -2.099137954157114,
           -1.7419320388571324,
           -1.3847261235571502,
           -1.0275202082571682,
           -0.6703142929571863,
           -0.31310837765720434,
           0.04409753764277802,
           0.4013034529427597,
           0.7585093682427416,
           1.1157152835427238,
           1.4729211988427067,
           1.830127114142687,
           2.187333029442669,
           2.544538944742652,
           2.901744860042634
          ],
          [
           -4.0610579058625005,
           -3.7038519905625176,
           -3.346646075262536,
           -2.9894401599625544,
           -2.632234244662573,
           -2.2750283293625904,
           -1.9178224140626088,
           -1.5606164987626263,
           -1.2034105834626447,
           -0.8462046681626626,
           -0.4889987528626806,
           -0.1317928375626981,
           0.2254130777372837,
           0.5826189930372649,
           0.9398249083372475,
           1.2970308236372299,
           1.654236738937212,
           2.0114426542371935,
           2.3686485695371755,
           2.725854484837158
          ],
          [
           -4.236948281067977,
           -3.879742365767994,
           -3.522536450468013,
           -3.1653305351680308,
           -2.8081246198680487,
           -2.4509187045680667,
           -2.0937127892680842,
           -1.7365068739681027,
           -1.3793009586681206,
           -1.0220950433681386,
           -0.6648891280681566,
           -0.30768321276817423,
           0.049522702531807405,
           0.4067286178317887,
           0.7639345331317712,
           1.1211404484317535,
           1.4783463637317356,
           1.8355522790317171,
           2.192758194331699,
           2.549964109631681
          ],
          [
           -4.412838656273451,
           -4.055632740973469,
           -3.6984268256734882,
           -3.341220910373507,
           -2.984014995073525,
           -2.626809079773543,
           -2.26960316447356,
           -1.9123972491735786,
           -1.5551913338735965,
           -1.1979854185736145,
           -0.8407795032736324,
           -0.48357358797365035,
           -0.1263676726736686,
           0.23083824262631303,
           0.5880441579262953,
           0.9452500732262782,
           1.3024559885262592,
           1.6596619038262412,
           2.0168678191262224,
           2.3740737344262057
          ],
          [
           -4.588729031478928,
           -4.231523116178947,
           -3.874317200878965,
           -3.517111285578984,
           -3.1599053702790014,
           -2.8026994549790194,
           -2.4454935396790374,
           -2.0882876243790554,
           -1.7310817090790733,
           -1.3738757937790909,
           -1.0166698784791088,
           -0.6594639631791263,
           -0.30225804787914484,
           0.05494786742083663,
           0.41215378272081926,
           0.7693596980208023,
           1.1265656133207829,
           1.483771528620765,
           1.840977443920746,
           2.1981833592207294
          ],
          [
           -4.764619406684405,
           -4.407413491384423,
           -4.050207576084441,
           -3.69300166078446,
           -3.3357957454844773,
           -2.9785898301844953,
           -2.6213839148845133,
           -2.2641779995845313,
           -1.9069720842845497,
           -1.5497661689845672,
           -1.1925602536845854,
           -0.8353543383846032,
           -0.4781484230846214,
           -0.12094250778463977,
           0.2362634075153427,
           0.593469322815325,
           0.9506752381153069,
           1.307881153415288,
           1.6650870687152701,
           2.022292984015252
          ],
          [
           -4.94050978188988,
           -4.583303866589899,
           -4.226097951289917,
           -3.8688920359899357,
           -3.5116861206899537,
           -3.1544802053899708,
           -2.797274290089989,
           -2.4400683747900067,
           -2.082862459490025,
           -1.725656544190043,
           -1.368450628890061,
           -1.0112447135900786,
           -0.6540387982900975,
           -0.29683288299011534,
           0.0603730323098669,
           0.4175789476098497,
           0.7747848629098305,
           1.1319907782098122,
           1.489196693509795,
           1.8464026088097767
          ],
          [
           -5.116400157095358,
           -4.759194241795375,
           -4.401988326495394,
           -4.044782411195412,
           -3.687576495895429,
           -3.3303705805954475,
           -2.973164665295465,
           -2.615958749995483,
           -2.2587528346955015,
           -1.9015469193955195,
           -1.5443410040955374,
           -1.187135088795555,
           -0.8299291734955736,
           -0.47272325819559124,
           -0.11551734289560944,
           0.2416885724043738,
           0.5988944877043544,
           0.956100403004336,
           1.3133063183043174,
           1.6705122336043003
          ],
          [
           -5.292290532300833,
           -4.93508461700085,
           -4.577878701700869,
           -4.220672786400888,
           -3.863466871100906,
           -3.506260955800924,
           -3.1490550405009414,
           -2.7918491252009594,
           -2.434643209900978,
           -2.077437294600996,
           -1.7202313793010133,
           -1.3630254640010313,
           -1.0058195487010493,
           -0.648613633401067,
           -0.29140771810108634,
           0.06579819719889712,
           0.42300411249887837,
           0.7802100277988598,
           1.1374159430988424,
           1.494621858398824
          ],
          [
           -5.46818090750631,
           -5.1109749922063274,
           -4.753769076906346,
           -4.396563161606363,
           -4.039357246306381,
           -3.6821513310063994,
           -3.3249454157064187,
           -2.9677395004064357,
           -2.610533585106454,
           -2.2533276698064717,
           -1.8961217545064901,
           -1.5389158392065072,
           -1.1817099239065256,
           -0.8245040086065439,
           -0.467298093306562,
           -0.11009217800657922,
           0.24711373729340302,
           0.6043196525933837,
           0.9615255678933675,
           1.3187314831933485
          ]
         ]
        }
       ],
       "layout": {
        "template": {
         "data": {
          "bar": [
           {
            "error_x": {
             "color": "#2a3f5f"
            },
            "error_y": {
             "color": "#2a3f5f"
            },
            "marker": {
             "line": {
              "color": "#E5ECF6",
              "width": 0.5
             }
            },
            "type": "bar"
           }
          ],
          "barpolar": [
           {
            "marker": {
             "line": {
              "color": "#E5ECF6",
              "width": 0.5
             }
            },
            "type": "barpolar"
           }
          ],
          "carpet": [
           {
            "aaxis": {
             "endlinecolor": "#2a3f5f",
             "gridcolor": "white",
             "linecolor": "white",
             "minorgridcolor": "white",
             "startlinecolor": "#2a3f5f"
            },
            "baxis": {
             "endlinecolor": "#2a3f5f",
             "gridcolor": "white",
             "linecolor": "white",
             "minorgridcolor": "white",
             "startlinecolor": "#2a3f5f"
            },
            "type": "carpet"
           }
          ],
          "choropleth": [
           {
            "colorbar": {
             "outlinewidth": 0,
             "ticks": ""
            },
            "type": "choropleth"
           }
          ],
          "contour": [
           {
            "colorbar": {
             "outlinewidth": 0,
             "ticks": ""
            },
            "colorscale": [
             [
              0,
              "#0d0887"
             ],
             [
              0.1111111111111111,
              "#46039f"
             ],
             [
              0.2222222222222222,
              "#7201a8"
             ],
             [
              0.3333333333333333,
              "#9c179e"
             ],
             [
              0.4444444444444444,
              "#bd3786"
             ],
             [
              0.5555555555555556,
              "#d8576b"
             ],
             [
              0.6666666666666666,
              "#ed7953"
             ],
             [
              0.7777777777777778,
              "#fb9f3a"
             ],
             [
              0.8888888888888888,
              "#fdca26"
             ],
             [
              1,
              "#f0f921"
             ]
            ],
            "type": "contour"
           }
          ],
          "contourcarpet": [
           {
            "colorbar": {
             "outlinewidth": 0,
             "ticks": ""
            },
            "type": "contourcarpet"
           }
          ],
          "heatmap": [
           {
            "colorbar": {
             "outlinewidth": 0,
             "ticks": ""
            },
            "colorscale": [
             [
              0,
              "#0d0887"
             ],
             [
              0.1111111111111111,
              "#46039f"
             ],
             [
              0.2222222222222222,
              "#7201a8"
             ],
             [
              0.3333333333333333,
              "#9c179e"
             ],
             [
              0.4444444444444444,
              "#bd3786"
             ],
             [
              0.5555555555555556,
              "#d8576b"
             ],
             [
              0.6666666666666666,
              "#ed7953"
             ],
             [
              0.7777777777777778,
              "#fb9f3a"
             ],
             [
              0.8888888888888888,
              "#fdca26"
             ],
             [
              1,
              "#f0f921"
             ]
            ],
            "type": "heatmap"
           }
          ],
          "heatmapgl": [
           {
            "colorbar": {
             "outlinewidth": 0,
             "ticks": ""
            },
            "colorscale": [
             [
              0,
              "#0d0887"
             ],
             [
              0.1111111111111111,
              "#46039f"
             ],
             [
              0.2222222222222222,
              "#7201a8"
             ],
             [
              0.3333333333333333,
              "#9c179e"
             ],
             [
              0.4444444444444444,
              "#bd3786"
             ],
             [
              0.5555555555555556,
              "#d8576b"
             ],
             [
              0.6666666666666666,
              "#ed7953"
             ],
             [
              0.7777777777777778,
              "#fb9f3a"
             ],
             [
              0.8888888888888888,
              "#fdca26"
             ],
             [
              1,
              "#f0f921"
             ]
            ],
            "type": "heatmapgl"
           }
          ],
          "histogram": [
           {
            "marker": {
             "colorbar": {
              "outlinewidth": 0,
              "ticks": ""
             }
            },
            "type": "histogram"
           }
          ],
          "histogram2d": [
           {
            "colorbar": {
             "outlinewidth": 0,
             "ticks": ""
            },
            "colorscale": [
             [
              0,
              "#0d0887"
             ],
             [
              0.1111111111111111,
              "#46039f"
             ],
             [
              0.2222222222222222,
              "#7201a8"
             ],
             [
              0.3333333333333333,
              "#9c179e"
             ],
             [
              0.4444444444444444,
              "#bd3786"
             ],
             [
              0.5555555555555556,
              "#d8576b"
             ],
             [
              0.6666666666666666,
              "#ed7953"
             ],
             [
              0.7777777777777778,
              "#fb9f3a"
             ],
             [
              0.8888888888888888,
              "#fdca26"
             ],
             [
              1,
              "#f0f921"
             ]
            ],
            "type": "histogram2d"
           }
          ],
          "histogram2dcontour": [
           {
            "colorbar": {
             "outlinewidth": 0,
             "ticks": ""
            },
            "colorscale": [
             [
              0,
              "#0d0887"
             ],
             [
              0.1111111111111111,
              "#46039f"
             ],
             [
              0.2222222222222222,
              "#7201a8"
             ],
             [
              0.3333333333333333,
              "#9c179e"
             ],
             [
              0.4444444444444444,
              "#bd3786"
             ],
             [
              0.5555555555555556,
              "#d8576b"
             ],
             [
              0.6666666666666666,
              "#ed7953"
             ],
             [
              0.7777777777777778,
              "#fb9f3a"
             ],
             [
              0.8888888888888888,
              "#fdca26"
             ],
             [
              1,
              "#f0f921"
             ]
            ],
            "type": "histogram2dcontour"
           }
          ],
          "mesh3d": [
           {
            "colorbar": {
             "outlinewidth": 0,
             "ticks": ""
            },
            "type": "mesh3d"
           }
          ],
          "parcoords": [
           {
            "line": {
             "colorbar": {
              "outlinewidth": 0,
              "ticks": ""
             }
            },
            "type": "parcoords"
           }
          ],
          "pie": [
           {
            "automargin": true,
            "type": "pie"
           }
          ],
          "scatter": [
           {
            "marker": {
             "colorbar": {
              "outlinewidth": 0,
              "ticks": ""
             }
            },
            "type": "scatter"
           }
          ],
          "scatter3d": [
           {
            "line": {
             "colorbar": {
              "outlinewidth": 0,
              "ticks": ""
             }
            },
            "marker": {
             "colorbar": {
              "outlinewidth": 0,
              "ticks": ""
             }
            },
            "type": "scatter3d"
           }
          ],
          "scattercarpet": [
           {
            "marker": {
             "colorbar": {
              "outlinewidth": 0,
              "ticks": ""
             }
            },
            "type": "scattercarpet"
           }
          ],
          "scattergeo": [
           {
            "marker": {
             "colorbar": {
              "outlinewidth": 0,
              "ticks": ""
             }
            },
            "type": "scattergeo"
           }
          ],
          "scattergl": [
           {
            "marker": {
             "colorbar": {
              "outlinewidth": 0,
              "ticks": ""
             }
            },
            "type": "scattergl"
           }
          ],
          "scattermapbox": [
           {
            "marker": {
             "colorbar": {
              "outlinewidth": 0,
              "ticks": ""
             }
            },
            "type": "scattermapbox"
           }
          ],
          "scatterpolar": [
           {
            "marker": {
             "colorbar": {
              "outlinewidth": 0,
              "ticks": ""
             }
            },
            "type": "scatterpolar"
           }
          ],
          "scatterpolargl": [
           {
            "marker": {
             "colorbar": {
              "outlinewidth": 0,
              "ticks": ""
             }
            },
            "type": "scatterpolargl"
           }
          ],
          "scatterternary": [
           {
            "marker": {
             "colorbar": {
              "outlinewidth": 0,
              "ticks": ""
             }
            },
            "type": "scatterternary"
           }
          ],
          "surface": [
           {
            "colorbar": {
             "outlinewidth": 0,
             "ticks": ""
            },
            "colorscale": [
             [
              0,
              "#0d0887"
             ],
             [
              0.1111111111111111,
              "#46039f"
             ],
             [
              0.2222222222222222,
              "#7201a8"
             ],
             [
              0.3333333333333333,
              "#9c179e"
             ],
             [
              0.4444444444444444,
              "#bd3786"
             ],
             [
              0.5555555555555556,
              "#d8576b"
             ],
             [
              0.6666666666666666,
              "#ed7953"
             ],
             [
              0.7777777777777778,
              "#fb9f3a"
             ],
             [
              0.8888888888888888,
              "#fdca26"
             ],
             [
              1,
              "#f0f921"
             ]
            ],
            "type": "surface"
           }
          ],
          "table": [
           {
            "cells": {
             "fill": {
              "color": "#EBF0F8"
             },
             "line": {
              "color": "white"
             }
            },
            "header": {
             "fill": {
              "color": "#C8D4E3"
             },
             "line": {
              "color": "white"
             }
            },
            "type": "table"
           }
          ]
         },
         "layout": {
          "annotationdefaults": {
           "arrowcolor": "#2a3f5f",
           "arrowhead": 0,
           "arrowwidth": 1
          },
          "coloraxis": {
           "colorbar": {
            "outlinewidth": 0,
            "ticks": ""
           }
          },
          "colorscale": {
           "diverging": [
            [
             0,
             "#8e0152"
            ],
            [
             0.1,
             "#c51b7d"
            ],
            [
             0.2,
             "#de77ae"
            ],
            [
             0.3,
             "#f1b6da"
            ],
            [
             0.4,
             "#fde0ef"
            ],
            [
             0.5,
             "#f7f7f7"
            ],
            [
             0.6,
             "#e6f5d0"
            ],
            [
             0.7,
             "#b8e186"
            ],
            [
             0.8,
             "#7fbc41"
            ],
            [
             0.9,
             "#4d9221"
            ],
            [
             1,
             "#276419"
            ]
           ],
           "sequential": [
            [
             0,
             "#0d0887"
            ],
            [
             0.1111111111111111,
             "#46039f"
            ],
            [
             0.2222222222222222,
             "#7201a8"
            ],
            [
             0.3333333333333333,
             "#9c179e"
            ],
            [
             0.4444444444444444,
             "#bd3786"
            ],
            [
             0.5555555555555556,
             "#d8576b"
            ],
            [
             0.6666666666666666,
             "#ed7953"
            ],
            [
             0.7777777777777778,
             "#fb9f3a"
            ],
            [
             0.8888888888888888,
             "#fdca26"
            ],
            [
             1,
             "#f0f921"
            ]
           ],
           "sequentialminus": [
            [
             0,
             "#0d0887"
            ],
            [
             0.1111111111111111,
             "#46039f"
            ],
            [
             0.2222222222222222,
             "#7201a8"
            ],
            [
             0.3333333333333333,
             "#9c179e"
            ],
            [
             0.4444444444444444,
             "#bd3786"
            ],
            [
             0.5555555555555556,
             "#d8576b"
            ],
            [
             0.6666666666666666,
             "#ed7953"
            ],
            [
             0.7777777777777778,
             "#fb9f3a"
            ],
            [
             0.8888888888888888,
             "#fdca26"
            ],
            [
             1,
             "#f0f921"
            ]
           ]
          },
          "colorway": [
           "#636efa",
           "#EF553B",
           "#00cc96",
           "#ab63fa",
           "#FFA15A",
           "#19d3f3",
           "#FF6692",
           "#B6E880",
           "#FF97FF",
           "#FECB52"
          ],
          "font": {
           "color": "#2a3f5f"
          },
          "geo": {
           "bgcolor": "white",
           "lakecolor": "white",
           "landcolor": "#E5ECF6",
           "showlakes": true,
           "showland": true,
           "subunitcolor": "white"
          },
          "hoverlabel": {
           "align": "left"
          },
          "hovermode": "closest",
          "mapbox": {
           "style": "light"
          },
          "paper_bgcolor": "white",
          "plot_bgcolor": "#E5ECF6",
          "polar": {
           "angularaxis": {
            "gridcolor": "white",
            "linecolor": "white",
            "ticks": ""
           },
           "bgcolor": "#E5ECF6",
           "radialaxis": {
            "gridcolor": "white",
            "linecolor": "white",
            "ticks": ""
           }
          },
          "scene": {
           "xaxis": {
            "backgroundcolor": "#E5ECF6",
            "gridcolor": "white",
            "gridwidth": 2,
            "linecolor": "white",
            "showbackground": true,
            "ticks": "",
            "zerolinecolor": "white"
           },
           "yaxis": {
            "backgroundcolor": "#E5ECF6",
            "gridcolor": "white",
            "gridwidth": 2,
            "linecolor": "white",
            "showbackground": true,
            "ticks": "",
            "zerolinecolor": "white"
           },
           "zaxis": {
            "backgroundcolor": "#E5ECF6",
            "gridcolor": "white",
            "gridwidth": 2,
            "linecolor": "white",
            "showbackground": true,
            "ticks": "",
            "zerolinecolor": "white"
           }
          },
          "shapedefaults": {
           "line": {
            "color": "#2a3f5f"
           }
          },
          "ternary": {
           "aaxis": {
            "gridcolor": "white",
            "linecolor": "white",
            "ticks": ""
           },
           "baxis": {
            "gridcolor": "white",
            "linecolor": "white",
            "ticks": ""
           },
           "bgcolor": "#E5ECF6",
           "caxis": {
            "gridcolor": "white",
            "linecolor": "white",
            "ticks": ""
           }
          },
          "title": {
           "x": 0.05
          },
          "xaxis": {
           "automargin": true,
           "gridcolor": "white",
           "linecolor": "white",
           "ticks": "",
           "title": {
            "standoff": 15
           },
           "zerolinecolor": "white",
           "zerolinewidth": 2
          },
          "yaxis": {
           "automargin": true,
           "gridcolor": "white",
           "linecolor": "white",
           "ticks": "",
           "title": {
            "standoff": 15
           },
           "zerolinecolor": "white",
           "zerolinewidth": 2
          }
         }
        },
        "title": {
         "text": "Decision function"
        },
        "width": 600
       }
      },
      "text/html": [
       "<div>\n",
       "        \n",
       "        \n",
       "            <div id=\"62bab836-42ec-4f5b-acae-c2464121bea7\" class=\"plotly-graph-div\" style=\"height:525px; width:600px;\"></div>\n",
       "            <script type=\"text/javascript\">\n",
       "                require([\"plotly\"], function(Plotly) {\n",
       "                    window.PLOTLYENV=window.PLOTLYENV || {};\n",
       "                    \n",
       "                if (document.getElementById(\"62bab836-42ec-4f5b-acae-c2464121bea7\")) {\n",
       "                    Plotly.newPlot(\n",
       "                        '62bab836-42ec-4f5b-acae-c2464121bea7',\n",
       "                        [{\"marker\": {\"color\": [1.0, 1.0, 1.0, -1.0, 1.0, -1.0, 1.0, -1.0, -1.0, -1.0, 1.0, -1.0, -1.0, -1.0, -1.0, -1.0, -1.0, 1.0, -1.0, -1.0, -1.0, -1.0, -1.0, 1.0, -1.0, 1.0, 1.0, 1.0, -1.0, 1.0, -1.0, 1.0], \"colorscale\": [[0.0, \"rgb(103,0,31)\"], [0.1, \"rgb(178,24,43)\"], [0.2, \"rgb(214,96,77)\"], [0.3, \"rgb(244,165,130)\"], [0.4, \"rgb(253,219,199)\"], [0.5, \"rgb(247,247,247)\"], [0.6, \"rgb(209,229,240)\"], [0.7, \"rgb(146,197,222)\"], [0.8, \"rgb(67,147,195)\"], [0.9, \"rgb(33,102,172)\"], [1.0, \"rgb(5,48,97)\"]], \"size\": 10}, \"mode\": \"markers\", \"showlegend\": false, \"type\": \"scatter\", \"x\": [0.9553637840845721, 0.413774153732544, -0.08831908338511785, -0.716311572309574, 0.8384759927653522, -0.9189032643724722, 0.9252022719166835, -0.7399517311510524, -0.48925060555223643, -0.2571837448661536, 1.2472725791348636, 0.510513677909929, -0.04406140907115674, -0.4526388712024112, -0.7410664407399503, -0.22886574311621488, 0.17911530841163925, 0.37731160017527965, -0.06378794718172476, -0.8489738247618893, -0.3427115406107284, 0.9447028381045965, -0.45863108539764097, -0.18525916158486833, -0.4153494280377563, 0.0796861975497053, 0.5519713431835059, -0.4458606043168418, 0.25925994466408386, 0.47631133533063985, 0.1819529446408592, 0.278359410797857], \"y\": [0.27605812463923307, -0.12479648779441244, -0.1675941715729361, -0.6334083046840374, -1.169931177950523, 0.6827014390184523, 0.02753319544241517, -0.03178097011285652, -0.19986741088871618, -0.7431521635159125, -1.2112596885582636, 1.3537377109563529, 0.45351038797141097, -0.1904827831957029, -0.314642087224532, 0.5653191431978359, -0.3273836422608506, 0.2609246378791865, 0.7809686257402683, 0.3500558857040055, 1.0279165085806263, 1.0891625473328055, -1.165262851885486, 0.5099443861470127, 0.020659018247940475, -0.2385031665809073, -0.45063353486546276, -1.1065515039848557, 0.8790992552575336, 0.032823644523019335, 0.7838474218040596, 0.2937141868189893]}, {\"colorscale\": [[0.0, \"rgb(103,0,31)\"], [0.1, \"rgb(178,24,43)\"], [0.2, \"rgb(214,96,77)\"], [0.3, \"rgb(244,165,130)\"], [0.4, \"rgb(253,219,199)\"], [0.5, \"rgb(247,247,247)\"], [0.6, \"rgb(209,229,240)\"], [0.7, \"rgb(146,197,222)\"], [0.8, \"rgb(67,147,195)\"], [0.9, \"rgb(33,102,172)\"], [1.0, \"rgb(5,48,97)\"]], \"type\": \"contour\", \"x\": [-1.9, -1.7, -1.5, -1.3, -1.1, -0.9, -0.7000000000000001, -0.5, -0.3000000000000001, -0.10000000000000009, 0.09999999999999988, 0.3000000000000001, 0.49999999999999983, 0.6999999999999996, 0.8999999999999998, 1.1, 1.2999999999999998, 1.4999999999999996, 1.6999999999999997, 1.9], \"y\": [-1.5, -1.3421052631578947, -1.1842105263157894, -1.0263157894736843, -0.868421052631579, -0.7105263157894737, -0.5526315789473685, -0.3947368421052632, -0.23684210526315796, -0.07894736842105271, 0.07894736842105254, 0.23684210526315796, 0.39473684210526305, 0.5526315789473681, 0.7105263157894736, 0.868421052631579, 1.026315789473684, 1.1842105263157892, 1.3421052631578947, 1.5], \"z\": [[-2.126263778602263, -1.7690578633022804, -1.4118519480022993, -1.0546460327023173, -0.6974401174023349, -0.34023420210235333, 0.016971713197628358, 0.37417762849761127, 0.731383543797593, 1.0885894590975753, 1.4457953743975573, 1.8030012896975398, 2.160207204997521, 2.517413120297502, 2.8746190355974846, 3.2318249508974675, 3.589030866197449, 3.9462367814974297, 4.303442696797414, 4.660648612097397], [-2.302154153807738, -1.9449482385077563, -1.5877423232077752, -1.2305364079077932, -0.8733304926078113, -0.5161245773078291, -0.158918662007847, 0.19828725329213504, 0.5554931685921171, 0.9126990838920993, 1.269904999192081, 1.6271109144920635, 1.9843168297920455, 2.341522745092026, 2.698728660392009, 3.0559345756919916, 3.413140490991973, 3.770346406291955, 4.127552321591938, 4.48475823689192], [-2.4780445290132143, -2.120838613713233, -1.763632698413251, -1.4064267831132695, -1.0492208678132866, -0.6920149525133054, -0.3348090372133229, 0.022396878086659022, 0.3796027933866407, 0.7368087086866227, 1.094014623986605, 1.4512205392865876, 1.8084264545865687, 2.1656323698865503, 2.5228382851865327, 2.880044200486515, 3.237250115786497, 3.594456031086478, 3.951661946386461, 4.308867861686444], [-2.653934904218691, -2.2967289889187095, -1.939523073618727, -1.5823171583187454, -1.225111243018763, -0.8679053277187807, -0.5106994124187988, -0.1534934971188172, 0.20371241818116503, 0.5609183334811471, 0.9181242487811289, 1.2753301640811117, 1.6325360793810932, 1.989741994681074, 2.3469479099810564, 2.7041538252810398, 3.061359740581021, 3.418565655881002, 3.7757715711809854, 4.132977486480967], [-2.8298252794241665, -2.4726193641241854, -2.115413448824203, -1.7582075335242213, -1.4010016182242393, -1.0437957029242573, -0.686589787624275, -0.32938387232429317, 0.027822042975688965, 0.38502795827567116, 0.7422338735756532, 1.0994397888756353, 1.456645704175617, 1.8138516194755985, 2.171057534775581, 2.528263450075563, 2.885469365375545, 3.242675280675526, 3.599881195975508, 3.957087111275491], [-3.0057156546296433, -2.6485097393296617, -2.29130382402968, -1.9340979087296977, -1.576891993429716, -1.2196860781297332, -0.8624801628297513, -0.5052742475297689, -0.1480683322297875, 0.2091375830701948, 0.5663434983701767, 0.9235494136701589, 1.2807553289701405, 1.6379612442701221, 1.9951671595701046, 2.352373074870088, 2.7095789901700678, 3.06678490547005, 3.4239908207700323, 3.781196736070014], [-3.181606029835119, -2.8244001145351367, -2.467194199235156, -2.1099882839351736, -1.752782368635192, -1.39557645333521, -1.0383705380352275, -0.6811646227352453, -0.32395870743526356, 0.03324720786471824, 0.3904531231647006, 0.7476590384646832, 1.1048649537646646, 1.4620708690646458, 1.8192767843646287, 2.176482699664611, 2.5336886149645927, 2.8908945302645734, 3.2481004455645563, 3.6053063608645384], [-3.3574964050405955, -3.0002904897406126, -2.6430845744406324, -2.28587865914065, -1.9286727438406688, -1.5714668285406859, -1.2142609132407038, -0.8570549979407216, -0.4998490826407399, -0.14264316734075788, 0.21456274795922425, 0.5717686632592065, 0.9289745785591882, 1.2861804938591694, 1.643386409159152, 2.0005923244591344, 2.357798239759116, 2.715004155059098, 3.07221007035908, 3.4294159856590625], [-3.5333867802460723, -3.1761808649460894, -2.8189749496461087, -2.4617690343461263, -2.1045631190461442, -1.7473572037461618, -1.3901512884461797, -1.0329453731461977, -0.675739457846216, -0.31853354254623384, 0.03867237275374813, 0.3958782880537306, 0.7530842033537123, 1.1102901186536935, 1.467496033953676, 1.8247019492536585, 2.18190786455364, 2.539113779853621, 2.896319695153604, 3.253525610453586], [-3.7092771554515482, -3.352071240151566, -2.9948653248515846, -2.6376594095516026, -2.280453494251621, -1.9232475789516381, -1.566041663651656, -1.2088357483516738, -0.851629833051692, -0.49442391775171, -0.13721800245172805, 0.21998791284825436, 0.5771938281482359, 0.934399743448218, 1.2916056587482, 1.6488115740481826, 2.0060174893481633, 2.363223404648145, 2.7204293199481273, 3.07763523524811], [-3.8851675306570246, -3.527961615357042, -3.1707557000570605, -2.813549784757079, -2.456343869457097, -2.099137954157114, -1.7419320388571324, -1.3847261235571502, -1.0275202082571682, -0.6703142929571863, -0.31310837765720434, 0.04409753764277802, 0.4013034529427597, 0.7585093682427416, 1.1157152835427238, 1.4729211988427067, 1.830127114142687, 2.187333029442669, 2.544538944742652, 2.901744860042634], [-4.0610579058625005, -3.7038519905625176, -3.346646075262536, -2.9894401599625544, -2.632234244662573, -2.2750283293625904, -1.9178224140626088, -1.5606164987626263, -1.2034105834626447, -0.8462046681626626, -0.4889987528626806, -0.1317928375626981, 0.2254130777372837, 0.5826189930372649, 0.9398249083372475, 1.2970308236372299, 1.654236738937212, 2.0114426542371935, 2.3686485695371755, 2.725854484837158], [-4.236948281067977, -3.879742365767994, -3.522536450468013, -3.1653305351680308, -2.8081246198680487, -2.4509187045680667, -2.0937127892680842, -1.7365068739681027, -1.3793009586681206, -1.0220950433681386, -0.6648891280681566, -0.30768321276817423, 0.049522702531807405, 0.4067286178317887, 0.7639345331317712, 1.1211404484317535, 1.4783463637317356, 1.8355522790317171, 2.192758194331699, 2.549964109631681], [-4.412838656273451, -4.055632740973469, -3.6984268256734882, -3.341220910373507, -2.984014995073525, -2.626809079773543, -2.26960316447356, -1.9123972491735786, -1.5551913338735965, -1.1979854185736145, -0.8407795032736324, -0.48357358797365035, -0.1263676726736686, 0.23083824262631303, 0.5880441579262953, 0.9452500732262782, 1.3024559885262592, 1.6596619038262412, 2.0168678191262224, 2.3740737344262057], [-4.588729031478928, -4.231523116178947, -3.874317200878965, -3.517111285578984, -3.1599053702790014, -2.8026994549790194, -2.4454935396790374, -2.0882876243790554, -1.7310817090790733, -1.3738757937790909, -1.0166698784791088, -0.6594639631791263, -0.30225804787914484, 0.05494786742083663, 0.41215378272081926, 0.7693596980208023, 1.1265656133207829, 1.483771528620765, 1.840977443920746, 2.1981833592207294], [-4.764619406684405, -4.407413491384423, -4.050207576084441, -3.69300166078446, -3.3357957454844773, -2.9785898301844953, -2.6213839148845133, -2.2641779995845313, -1.9069720842845497, -1.5497661689845672, -1.1925602536845854, -0.8353543383846032, -0.4781484230846214, -0.12094250778463977, 0.2362634075153427, 0.593469322815325, 0.9506752381153069, 1.307881153415288, 1.6650870687152701, 2.022292984015252], [-4.94050978188988, -4.583303866589899, -4.226097951289917, -3.8688920359899357, -3.5116861206899537, -3.1544802053899708, -2.797274290089989, -2.4400683747900067, -2.082862459490025, -1.725656544190043, -1.368450628890061, -1.0112447135900786, -0.6540387982900975, -0.29683288299011534, 0.0603730323098669, 0.4175789476098497, 0.7747848629098305, 1.1319907782098122, 1.489196693509795, 1.8464026088097767], [-5.116400157095358, -4.759194241795375, -4.401988326495394, -4.044782411195412, -3.687576495895429, -3.3303705805954475, -2.973164665295465, -2.615958749995483, -2.2587528346955015, -1.9015469193955195, -1.5443410040955374, -1.187135088795555, -0.8299291734955736, -0.47272325819559124, -0.11551734289560944, 0.2416885724043738, 0.5988944877043544, 0.956100403004336, 1.3133063183043174, 1.6705122336043003], [-5.292290532300833, -4.93508461700085, -4.577878701700869, -4.220672786400888, -3.863466871100906, -3.506260955800924, -3.1490550405009414, -2.7918491252009594, -2.434643209900978, -2.077437294600996, -1.7202313793010133, -1.3630254640010313, -1.0058195487010493, -0.648613633401067, -0.29140771810108634, 0.06579819719889712, 0.42300411249887837, 0.7802100277988598, 1.1374159430988424, 1.494621858398824], [-5.46818090750631, -5.1109749922063274, -4.753769076906346, -4.396563161606363, -4.039357246306381, -3.6821513310063994, -3.3249454157064187, -2.9677395004064357, -2.610533585106454, -2.2533276698064717, -1.8961217545064901, -1.5389158392065072, -1.1817099239065256, -0.8245040086065439, -0.467298093306562, -0.11009217800657922, 0.24711373729340302, 0.6043196525933837, 0.9615255678933675, 1.3187314831933485]]}],\n",
       "                        {\"template\": {\"data\": {\"bar\": [{\"error_x\": {\"color\": \"#2a3f5f\"}, \"error_y\": {\"color\": \"#2a3f5f\"}, \"marker\": {\"line\": {\"color\": \"#E5ECF6\", \"width\": 0.5}}, \"type\": \"bar\"}], \"barpolar\": [{\"marker\": {\"line\": {\"color\": \"#E5ECF6\", \"width\": 0.5}}, \"type\": \"barpolar\"}], \"carpet\": [{\"aaxis\": {\"endlinecolor\": \"#2a3f5f\", \"gridcolor\": \"white\", \"linecolor\": \"white\", \"minorgridcolor\": \"white\", \"startlinecolor\": \"#2a3f5f\"}, \"baxis\": {\"endlinecolor\": \"#2a3f5f\", \"gridcolor\": \"white\", \"linecolor\": \"white\", \"minorgridcolor\": \"white\", \"startlinecolor\": \"#2a3f5f\"}, \"type\": \"carpet\"}], \"choropleth\": [{\"colorbar\": {\"outlinewidth\": 0, \"ticks\": \"\"}, \"type\": \"choropleth\"}], \"contour\": [{\"colorbar\": {\"outlinewidth\": 0, \"ticks\": \"\"}, \"colorscale\": [[0.0, \"#0d0887\"], [0.1111111111111111, \"#46039f\"], [0.2222222222222222, \"#7201a8\"], [0.3333333333333333, \"#9c179e\"], [0.4444444444444444, \"#bd3786\"], [0.5555555555555556, \"#d8576b\"], [0.6666666666666666, \"#ed7953\"], [0.7777777777777778, \"#fb9f3a\"], [0.8888888888888888, \"#fdca26\"], [1.0, \"#f0f921\"]], \"type\": \"contour\"}], \"contourcarpet\": [{\"colorbar\": {\"outlinewidth\": 0, \"ticks\": \"\"}, \"type\": \"contourcarpet\"}], \"heatmap\": [{\"colorbar\": {\"outlinewidth\": 0, \"ticks\": \"\"}, \"colorscale\": [[0.0, \"#0d0887\"], [0.1111111111111111, \"#46039f\"], [0.2222222222222222, \"#7201a8\"], [0.3333333333333333, \"#9c179e\"], [0.4444444444444444, \"#bd3786\"], [0.5555555555555556, \"#d8576b\"], [0.6666666666666666, \"#ed7953\"], [0.7777777777777778, \"#fb9f3a\"], [0.8888888888888888, \"#fdca26\"], [1.0, \"#f0f921\"]], \"type\": \"heatmap\"}], \"heatmapgl\": [{\"colorbar\": {\"outlinewidth\": 0, \"ticks\": \"\"}, \"colorscale\": [[0.0, \"#0d0887\"], [0.1111111111111111, \"#46039f\"], [0.2222222222222222, \"#7201a8\"], [0.3333333333333333, \"#9c179e\"], [0.4444444444444444, \"#bd3786\"], [0.5555555555555556, \"#d8576b\"], [0.6666666666666666, \"#ed7953\"], [0.7777777777777778, \"#fb9f3a\"], [0.8888888888888888, \"#fdca26\"], [1.0, \"#f0f921\"]], \"type\": \"heatmapgl\"}], \"histogram\": [{\"marker\": {\"colorbar\": {\"outlinewidth\": 0, \"ticks\": \"\"}}, \"type\": \"histogram\"}], \"histogram2d\": [{\"colorbar\": {\"outlinewidth\": 0, \"ticks\": \"\"}, \"colorscale\": [[0.0, \"#0d0887\"], [0.1111111111111111, \"#46039f\"], [0.2222222222222222, \"#7201a8\"], [0.3333333333333333, \"#9c179e\"], [0.4444444444444444, \"#bd3786\"], [0.5555555555555556, \"#d8576b\"], [0.6666666666666666, \"#ed7953\"], [0.7777777777777778, \"#fb9f3a\"], [0.8888888888888888, \"#fdca26\"], [1.0, \"#f0f921\"]], \"type\": \"histogram2d\"}], \"histogram2dcontour\": [{\"colorbar\": {\"outlinewidth\": 0, \"ticks\": \"\"}, \"colorscale\": [[0.0, \"#0d0887\"], [0.1111111111111111, \"#46039f\"], [0.2222222222222222, \"#7201a8\"], [0.3333333333333333, \"#9c179e\"], [0.4444444444444444, \"#bd3786\"], [0.5555555555555556, \"#d8576b\"], [0.6666666666666666, \"#ed7953\"], [0.7777777777777778, \"#fb9f3a\"], [0.8888888888888888, \"#fdca26\"], [1.0, \"#f0f921\"]], \"type\": \"histogram2dcontour\"}], \"mesh3d\": [{\"colorbar\": {\"outlinewidth\": 0, \"ticks\": \"\"}, \"type\": \"mesh3d\"}], \"parcoords\": [{\"line\": {\"colorbar\": {\"outlinewidth\": 0, \"ticks\": \"\"}}, \"type\": \"parcoords\"}], \"pie\": [{\"automargin\": true, \"type\": \"pie\"}], \"scatter\": [{\"marker\": {\"colorbar\": {\"outlinewidth\": 0, \"ticks\": \"\"}}, \"type\": \"scatter\"}], \"scatter3d\": [{\"line\": {\"colorbar\": {\"outlinewidth\": 0, \"ticks\": \"\"}}, \"marker\": {\"colorbar\": {\"outlinewidth\": 0, \"ticks\": \"\"}}, \"type\": \"scatter3d\"}], \"scattercarpet\": [{\"marker\": {\"colorbar\": {\"outlinewidth\": 0, \"ticks\": \"\"}}, \"type\": \"scattercarpet\"}], \"scattergeo\": [{\"marker\": {\"colorbar\": {\"outlinewidth\": 0, \"ticks\": \"\"}}, \"type\": \"scattergeo\"}], \"scattergl\": [{\"marker\": {\"colorbar\": {\"outlinewidth\": 0, \"ticks\": \"\"}}, \"type\": \"scattergl\"}], \"scattermapbox\": [{\"marker\": {\"colorbar\": {\"outlinewidth\": 0, \"ticks\": \"\"}}, \"type\": \"scattermapbox\"}], \"scatterpolar\": [{\"marker\": {\"colorbar\": {\"outlinewidth\": 0, \"ticks\": \"\"}}, \"type\": \"scatterpolar\"}], \"scatterpolargl\": [{\"marker\": {\"colorbar\": {\"outlinewidth\": 0, \"ticks\": \"\"}}, \"type\": \"scatterpolargl\"}], \"scatterternary\": [{\"marker\": {\"colorbar\": {\"outlinewidth\": 0, \"ticks\": \"\"}}, \"type\": \"scatterternary\"}], \"surface\": [{\"colorbar\": {\"outlinewidth\": 0, \"ticks\": \"\"}, \"colorscale\": [[0.0, \"#0d0887\"], [0.1111111111111111, \"#46039f\"], [0.2222222222222222, \"#7201a8\"], [0.3333333333333333, \"#9c179e\"], [0.4444444444444444, \"#bd3786\"], [0.5555555555555556, \"#d8576b\"], [0.6666666666666666, \"#ed7953\"], [0.7777777777777778, \"#fb9f3a\"], [0.8888888888888888, \"#fdca26\"], [1.0, \"#f0f921\"]], \"type\": \"surface\"}], \"table\": [{\"cells\": {\"fill\": {\"color\": \"#EBF0F8\"}, \"line\": {\"color\": \"white\"}}, \"header\": {\"fill\": {\"color\": \"#C8D4E3\"}, \"line\": {\"color\": \"white\"}}, \"type\": \"table\"}]}, \"layout\": {\"annotationdefaults\": {\"arrowcolor\": \"#2a3f5f\", \"arrowhead\": 0, \"arrowwidth\": 1}, \"coloraxis\": {\"colorbar\": {\"outlinewidth\": 0, \"ticks\": \"\"}}, \"colorscale\": {\"diverging\": [[0, \"#8e0152\"], [0.1, \"#c51b7d\"], [0.2, \"#de77ae\"], [0.3, \"#f1b6da\"], [0.4, \"#fde0ef\"], [0.5, \"#f7f7f7\"], [0.6, \"#e6f5d0\"], [0.7, \"#b8e186\"], [0.8, \"#7fbc41\"], [0.9, \"#4d9221\"], [1, \"#276419\"]], \"sequential\": [[0.0, \"#0d0887\"], [0.1111111111111111, \"#46039f\"], [0.2222222222222222, \"#7201a8\"], [0.3333333333333333, \"#9c179e\"], [0.4444444444444444, \"#bd3786\"], [0.5555555555555556, \"#d8576b\"], [0.6666666666666666, \"#ed7953\"], [0.7777777777777778, \"#fb9f3a\"], [0.8888888888888888, \"#fdca26\"], [1.0, \"#f0f921\"]], \"sequentialminus\": [[0.0, \"#0d0887\"], [0.1111111111111111, \"#46039f\"], [0.2222222222222222, \"#7201a8\"], [0.3333333333333333, \"#9c179e\"], [0.4444444444444444, \"#bd3786\"], [0.5555555555555556, \"#d8576b\"], [0.6666666666666666, \"#ed7953\"], [0.7777777777777778, \"#fb9f3a\"], [0.8888888888888888, \"#fdca26\"], [1.0, \"#f0f921\"]]}, \"colorway\": [\"#636efa\", \"#EF553B\", \"#00cc96\", \"#ab63fa\", \"#FFA15A\", \"#19d3f3\", \"#FF6692\", \"#B6E880\", \"#FF97FF\", \"#FECB52\"], \"font\": {\"color\": \"#2a3f5f\"}, \"geo\": {\"bgcolor\": \"white\", \"lakecolor\": \"white\", \"landcolor\": \"#E5ECF6\", \"showlakes\": true, \"showland\": true, \"subunitcolor\": \"white\"}, \"hoverlabel\": {\"align\": \"left\"}, \"hovermode\": \"closest\", \"mapbox\": {\"style\": \"light\"}, \"paper_bgcolor\": \"white\", \"plot_bgcolor\": \"#E5ECF6\", \"polar\": {\"angularaxis\": {\"gridcolor\": \"white\", \"linecolor\": \"white\", \"ticks\": \"\"}, \"bgcolor\": \"#E5ECF6\", \"radialaxis\": {\"gridcolor\": \"white\", \"linecolor\": \"white\", \"ticks\": \"\"}}, \"scene\": {\"xaxis\": {\"backgroundcolor\": \"#E5ECF6\", \"gridcolor\": \"white\", \"gridwidth\": 2, \"linecolor\": \"white\", \"showbackground\": true, \"ticks\": \"\", \"zerolinecolor\": \"white\"}, \"yaxis\": {\"backgroundcolor\": \"#E5ECF6\", \"gridcolor\": \"white\", \"gridwidth\": 2, \"linecolor\": \"white\", \"showbackground\": true, \"ticks\": \"\", \"zerolinecolor\": \"white\"}, \"zaxis\": {\"backgroundcolor\": \"#E5ECF6\", \"gridcolor\": \"white\", \"gridwidth\": 2, \"linecolor\": \"white\", \"showbackground\": true, \"ticks\": \"\", \"zerolinecolor\": \"white\"}}, \"shapedefaults\": {\"line\": {\"color\": \"#2a3f5f\"}}, \"ternary\": {\"aaxis\": {\"gridcolor\": \"white\", \"linecolor\": \"white\", \"ticks\": \"\"}, \"baxis\": {\"gridcolor\": \"white\", \"linecolor\": \"white\", \"ticks\": \"\"}, \"bgcolor\": \"#E5ECF6\", \"caxis\": {\"gridcolor\": \"white\", \"linecolor\": \"white\", \"ticks\": \"\"}}, \"title\": {\"x\": 0.05}, \"xaxis\": {\"automargin\": true, \"gridcolor\": \"white\", \"linecolor\": \"white\", \"ticks\": \"\", \"title\": {\"standoff\": 15}, \"zerolinecolor\": \"white\", \"zerolinewidth\": 2}, \"yaxis\": {\"automargin\": true, \"gridcolor\": \"white\", \"linecolor\": \"white\", \"ticks\": \"\", \"title\": {\"standoff\": 15}, \"zerolinecolor\": \"white\", \"zerolinewidth\": 2}}}, \"title\": {\"text\": \"Decision function\"}, \"width\": 600},\n",
       "                        {\"responsive\": true}\n",
       "                    ).then(function(){\n",
       "                            \n",
       "var gd = document.getElementById('62bab836-42ec-4f5b-acae-c2464121bea7');\n",
       "var x = new MutationObserver(function (mutations, observer) {{\n",
       "        var display = window.getComputedStyle(gd).display;\n",
       "        if (!display || display === 'none') {{\n",
       "            console.log([gd, 'removed!']);\n",
       "            Plotly.purge(gd);\n",
       "            observer.disconnect();\n",
       "        }}\n",
       "}});\n",
       "\n",
       "// Listen for the removal of the full notebook cells\n",
       "var notebookContainer = gd.closest('#notebook-container');\n",
       "if (notebookContainer) {{\n",
       "    x.observe(notebookContainer, {childList: true});\n",
       "}}\n",
       "\n",
       "// Listen for the clearing of the current output cell\n",
       "var outputEl = gd.closest('.output');\n",
       "if (outputEl) {{\n",
       "    x.observe(outputEl, {childList: true});\n",
       "}}\n",
       "\n",
       "                        })\n",
       "                };\n",
       "                });\n",
       "            </script>\n",
       "        </div>"
      ]
     },
     "metadata": {},
     "output_type": "display_data"
    }
   ],
   "source": [
    "# 20 uniform points in the unit square\n",
    "# noise is added to the coordinates of the points\n",
    "\n",
    "np.random.seed(2020)\n",
    "X = 2*np.random.rand(32, 2) - 1\n",
    "\n",
    "y = np.zeros(X.shape[0])\n",
    "\n",
    "# initialize labels\n",
    "for i in range(0,X.shape[0]):\n",
    "    y[i] = labels_line(X[i,:])\n",
    "\n",
    "# randomly perturb the points X\n",
    "for i in range(0,X.shape[0]):\n",
    "    X[i,:] = X[i,:] + ( 2*np.random.rand(1, 2) - 1 ) / 2\n",
    "\n",
    "# fit the model\n",
    "clf = svm.SVC(kernel=\"linear\")\n",
    "clf.fit(X, y)\n",
    "\n",
    "# plot\n",
    "fig = go.Figure()\n",
    "plot_data_decision_function(X, y, clf, fig, \"Decision function\", 1.9, 1.5)\n",
    "fig.show()"
   ]
  },
  {
   "cell_type": "code",
   "execution_count": 42,
   "metadata": {},
   "outputs": [],
   "source": [
    "save_figure_to_file(fig,'../Slides/scikitlearn','svm3')"
   ]
  },
  {
   "cell_type": "code",
   "execution_count": 43,
   "metadata": {
    "colab": {
     "base_uri": "https://localhost:8080/",
     "height": 542
    },
    "colab_type": "code",
    "id": "KPDBcUSu7f88",
    "outputId": "d9bf93fe-f76f-4ffc-dbd0-4020e2f9a434"
   },
   "outputs": [
    {
     "data": {
      "application/vnd.plotly.v1+json": {
       "config": {
        "plotlyServerURL": "https://plot.ly"
       },
       "data": [
        {
         "marker": {
          "color": [
           1,
           1,
           1,
           -1,
           1,
           -1,
           1,
           -1,
           -1,
           -1,
           1,
           -1,
           -1,
           -1,
           -1,
           -1,
           -1,
           1,
           -1,
           -1,
           -1,
           -1,
           -1,
           1,
           -1,
           1,
           1,
           1,
           -1,
           1,
           -1,
           1
          ],
          "colorscale": [
           [
            0,
            "rgb(103,0,31)"
           ],
           [
            0.1,
            "rgb(178,24,43)"
           ],
           [
            0.2,
            "rgb(214,96,77)"
           ],
           [
            0.3,
            "rgb(244,165,130)"
           ],
           [
            0.4,
            "rgb(253,219,199)"
           ],
           [
            0.5,
            "rgb(247,247,247)"
           ],
           [
            0.6,
            "rgb(209,229,240)"
           ],
           [
            0.7,
            "rgb(146,197,222)"
           ],
           [
            0.8,
            "rgb(67,147,195)"
           ],
           [
            0.9,
            "rgb(33,102,172)"
           ],
           [
            1,
            "rgb(5,48,97)"
           ]
          ],
          "size": 10
         },
         "mode": "markers",
         "name": "Data",
         "type": "scatter",
         "x": [
          0.9553637840845721,
          0.413774153732544,
          -0.08831908338511785,
          -0.716311572309574,
          0.8384759927653522,
          -0.9189032643724722,
          0.9252022719166835,
          -0.7399517311510524,
          -0.48925060555223643,
          -0.2571837448661536,
          1.2472725791348636,
          0.510513677909929,
          -0.04406140907115674,
          -0.4526388712024112,
          -0.7410664407399503,
          -0.22886574311621488,
          0.17911530841163925,
          0.37731160017527965,
          -0.06378794718172476,
          -0.8489738247618893,
          -0.3427115406107284,
          0.9447028381045965,
          -0.45863108539764097,
          -0.18525916158486833,
          -0.4153494280377563,
          0.0796861975497053,
          0.5519713431835059,
          -0.4458606043168418,
          0.25925994466408386,
          0.47631133533063985,
          0.1819529446408592,
          0.278359410797857
         ],
         "y": [
          0.27605812463923307,
          -0.12479648779441244,
          -0.1675941715729361,
          -0.6334083046840374,
          -1.169931177950523,
          0.6827014390184523,
          0.02753319544241517,
          -0.03178097011285652,
          -0.19986741088871618,
          -0.7431521635159125,
          -1.2112596885582636,
          1.3537377109563529,
          0.45351038797141097,
          -0.1904827831957029,
          -0.314642087224532,
          0.5653191431978359,
          -0.3273836422608506,
          0.2609246378791865,
          0.7809686257402683,
          0.3500558857040055,
          1.0279165085806263,
          1.0891625473328055,
          -1.165262851885486,
          0.5099443861470127,
          0.020659018247940475,
          -0.2385031665809073,
          -0.45063353486546276,
          -1.1065515039848557,
          0.8790992552575336,
          0.032823644523019335,
          0.7838474218040596,
          0.2937141868189893
         ]
        },
        {
         "mode": "lines",
         "name": "Decision line",
         "type": "scatter",
         "x": [
          -1,
          1
         ],
         "y": [
          -1.9657540624795429,
          1.240841746350025
         ]
        },
        {
         "line": {
          "dash": "dash"
         },
         "mode": "lines",
         "name": "Support line",
         "type": "scatter",
         "x": [
          -1,
          1
         ],
         "y": [
          -1.068065734407858,
          2.13853007442171
         ]
        },
        {
         "line": {
          "dash": "dash"
         },
         "mode": "lines",
         "name": "Support line",
         "type": "scatter",
         "x": [
          -1,
          1
         ],
         "y": [
          -2.863442390551228,
          0.3431534182783398
         ]
        }
       ],
       "layout": {
        "template": {
         "data": {
          "bar": [
           {
            "error_x": {
             "color": "#2a3f5f"
            },
            "error_y": {
             "color": "#2a3f5f"
            },
            "marker": {
             "line": {
              "color": "#E5ECF6",
              "width": 0.5
             }
            },
            "type": "bar"
           }
          ],
          "barpolar": [
           {
            "marker": {
             "line": {
              "color": "#E5ECF6",
              "width": 0.5
             }
            },
            "type": "barpolar"
           }
          ],
          "carpet": [
           {
            "aaxis": {
             "endlinecolor": "#2a3f5f",
             "gridcolor": "white",
             "linecolor": "white",
             "minorgridcolor": "white",
             "startlinecolor": "#2a3f5f"
            },
            "baxis": {
             "endlinecolor": "#2a3f5f",
             "gridcolor": "white",
             "linecolor": "white",
             "minorgridcolor": "white",
             "startlinecolor": "#2a3f5f"
            },
            "type": "carpet"
           }
          ],
          "choropleth": [
           {
            "colorbar": {
             "outlinewidth": 0,
             "ticks": ""
            },
            "type": "choropleth"
           }
          ],
          "contour": [
           {
            "colorbar": {
             "outlinewidth": 0,
             "ticks": ""
            },
            "colorscale": [
             [
              0,
              "#0d0887"
             ],
             [
              0.1111111111111111,
              "#46039f"
             ],
             [
              0.2222222222222222,
              "#7201a8"
             ],
             [
              0.3333333333333333,
              "#9c179e"
             ],
             [
              0.4444444444444444,
              "#bd3786"
             ],
             [
              0.5555555555555556,
              "#d8576b"
             ],
             [
              0.6666666666666666,
              "#ed7953"
             ],
             [
              0.7777777777777778,
              "#fb9f3a"
             ],
             [
              0.8888888888888888,
              "#fdca26"
             ],
             [
              1,
              "#f0f921"
             ]
            ],
            "type": "contour"
           }
          ],
          "contourcarpet": [
           {
            "colorbar": {
             "outlinewidth": 0,
             "ticks": ""
            },
            "type": "contourcarpet"
           }
          ],
          "heatmap": [
           {
            "colorbar": {
             "outlinewidth": 0,
             "ticks": ""
            },
            "colorscale": [
             [
              0,
              "#0d0887"
             ],
             [
              0.1111111111111111,
              "#46039f"
             ],
             [
              0.2222222222222222,
              "#7201a8"
             ],
             [
              0.3333333333333333,
              "#9c179e"
             ],
             [
              0.4444444444444444,
              "#bd3786"
             ],
             [
              0.5555555555555556,
              "#d8576b"
             ],
             [
              0.6666666666666666,
              "#ed7953"
             ],
             [
              0.7777777777777778,
              "#fb9f3a"
             ],
             [
              0.8888888888888888,
              "#fdca26"
             ],
             [
              1,
              "#f0f921"
             ]
            ],
            "type": "heatmap"
           }
          ],
          "heatmapgl": [
           {
            "colorbar": {
             "outlinewidth": 0,
             "ticks": ""
            },
            "colorscale": [
             [
              0,
              "#0d0887"
             ],
             [
              0.1111111111111111,
              "#46039f"
             ],
             [
              0.2222222222222222,
              "#7201a8"
             ],
             [
              0.3333333333333333,
              "#9c179e"
             ],
             [
              0.4444444444444444,
              "#bd3786"
             ],
             [
              0.5555555555555556,
              "#d8576b"
             ],
             [
              0.6666666666666666,
              "#ed7953"
             ],
             [
              0.7777777777777778,
              "#fb9f3a"
             ],
             [
              0.8888888888888888,
              "#fdca26"
             ],
             [
              1,
              "#f0f921"
             ]
            ],
            "type": "heatmapgl"
           }
          ],
          "histogram": [
           {
            "marker": {
             "colorbar": {
              "outlinewidth": 0,
              "ticks": ""
             }
            },
            "type": "histogram"
           }
          ],
          "histogram2d": [
           {
            "colorbar": {
             "outlinewidth": 0,
             "ticks": ""
            },
            "colorscale": [
             [
              0,
              "#0d0887"
             ],
             [
              0.1111111111111111,
              "#46039f"
             ],
             [
              0.2222222222222222,
              "#7201a8"
             ],
             [
              0.3333333333333333,
              "#9c179e"
             ],
             [
              0.4444444444444444,
              "#bd3786"
             ],
             [
              0.5555555555555556,
              "#d8576b"
             ],
             [
              0.6666666666666666,
              "#ed7953"
             ],
             [
              0.7777777777777778,
              "#fb9f3a"
             ],
             [
              0.8888888888888888,
              "#fdca26"
             ],
             [
              1,
              "#f0f921"
             ]
            ],
            "type": "histogram2d"
           }
          ],
          "histogram2dcontour": [
           {
            "colorbar": {
             "outlinewidth": 0,
             "ticks": ""
            },
            "colorscale": [
             [
              0,
              "#0d0887"
             ],
             [
              0.1111111111111111,
              "#46039f"
             ],
             [
              0.2222222222222222,
              "#7201a8"
             ],
             [
              0.3333333333333333,
              "#9c179e"
             ],
             [
              0.4444444444444444,
              "#bd3786"
             ],
             [
              0.5555555555555556,
              "#d8576b"
             ],
             [
              0.6666666666666666,
              "#ed7953"
             ],
             [
              0.7777777777777778,
              "#fb9f3a"
             ],
             [
              0.8888888888888888,
              "#fdca26"
             ],
             [
              1,
              "#f0f921"
             ]
            ],
            "type": "histogram2dcontour"
           }
          ],
          "mesh3d": [
           {
            "colorbar": {
             "outlinewidth": 0,
             "ticks": ""
            },
            "type": "mesh3d"
           }
          ],
          "parcoords": [
           {
            "line": {
             "colorbar": {
              "outlinewidth": 0,
              "ticks": ""
             }
            },
            "type": "parcoords"
           }
          ],
          "pie": [
           {
            "automargin": true,
            "type": "pie"
           }
          ],
          "scatter": [
           {
            "marker": {
             "colorbar": {
              "outlinewidth": 0,
              "ticks": ""
             }
            },
            "type": "scatter"
           }
          ],
          "scatter3d": [
           {
            "line": {
             "colorbar": {
              "outlinewidth": 0,
              "ticks": ""
             }
            },
            "marker": {
             "colorbar": {
              "outlinewidth": 0,
              "ticks": ""
             }
            },
            "type": "scatter3d"
           }
          ],
          "scattercarpet": [
           {
            "marker": {
             "colorbar": {
              "outlinewidth": 0,
              "ticks": ""
             }
            },
            "type": "scattercarpet"
           }
          ],
          "scattergeo": [
           {
            "marker": {
             "colorbar": {
              "outlinewidth": 0,
              "ticks": ""
             }
            },
            "type": "scattergeo"
           }
          ],
          "scattergl": [
           {
            "marker": {
             "colorbar": {
              "outlinewidth": 0,
              "ticks": ""
             }
            },
            "type": "scattergl"
           }
          ],
          "scattermapbox": [
           {
            "marker": {
             "colorbar": {
              "outlinewidth": 0,
              "ticks": ""
             }
            },
            "type": "scattermapbox"
           }
          ],
          "scatterpolar": [
           {
            "marker": {
             "colorbar": {
              "outlinewidth": 0,
              "ticks": ""
             }
            },
            "type": "scatterpolar"
           }
          ],
          "scatterpolargl": [
           {
            "marker": {
             "colorbar": {
              "outlinewidth": 0,
              "ticks": ""
             }
            },
            "type": "scatterpolargl"
           }
          ],
          "scatterternary": [
           {
            "marker": {
             "colorbar": {
              "outlinewidth": 0,
              "ticks": ""
             }
            },
            "type": "scatterternary"
           }
          ],
          "surface": [
           {
            "colorbar": {
             "outlinewidth": 0,
             "ticks": ""
            },
            "colorscale": [
             [
              0,
              "#0d0887"
             ],
             [
              0.1111111111111111,
              "#46039f"
             ],
             [
              0.2222222222222222,
              "#7201a8"
             ],
             [
              0.3333333333333333,
              "#9c179e"
             ],
             [
              0.4444444444444444,
              "#bd3786"
             ],
             [
              0.5555555555555556,
              "#d8576b"
             ],
             [
              0.6666666666666666,
              "#ed7953"
             ],
             [
              0.7777777777777778,
              "#fb9f3a"
             ],
             [
              0.8888888888888888,
              "#fdca26"
             ],
             [
              1,
              "#f0f921"
             ]
            ],
            "type": "surface"
           }
          ],
          "table": [
           {
            "cells": {
             "fill": {
              "color": "#EBF0F8"
             },
             "line": {
              "color": "white"
             }
            },
            "header": {
             "fill": {
              "color": "#C8D4E3"
             },
             "line": {
              "color": "white"
             }
            },
            "type": "table"
           }
          ]
         },
         "layout": {
          "annotationdefaults": {
           "arrowcolor": "#2a3f5f",
           "arrowhead": 0,
           "arrowwidth": 1
          },
          "coloraxis": {
           "colorbar": {
            "outlinewidth": 0,
            "ticks": ""
           }
          },
          "colorscale": {
           "diverging": [
            [
             0,
             "#8e0152"
            ],
            [
             0.1,
             "#c51b7d"
            ],
            [
             0.2,
             "#de77ae"
            ],
            [
             0.3,
             "#f1b6da"
            ],
            [
             0.4,
             "#fde0ef"
            ],
            [
             0.5,
             "#f7f7f7"
            ],
            [
             0.6,
             "#e6f5d0"
            ],
            [
             0.7,
             "#b8e186"
            ],
            [
             0.8,
             "#7fbc41"
            ],
            [
             0.9,
             "#4d9221"
            ],
            [
             1,
             "#276419"
            ]
           ],
           "sequential": [
            [
             0,
             "#0d0887"
            ],
            [
             0.1111111111111111,
             "#46039f"
            ],
            [
             0.2222222222222222,
             "#7201a8"
            ],
            [
             0.3333333333333333,
             "#9c179e"
            ],
            [
             0.4444444444444444,
             "#bd3786"
            ],
            [
             0.5555555555555556,
             "#d8576b"
            ],
            [
             0.6666666666666666,
             "#ed7953"
            ],
            [
             0.7777777777777778,
             "#fb9f3a"
            ],
            [
             0.8888888888888888,
             "#fdca26"
            ],
            [
             1,
             "#f0f921"
            ]
           ],
           "sequentialminus": [
            [
             0,
             "#0d0887"
            ],
            [
             0.1111111111111111,
             "#46039f"
            ],
            [
             0.2222222222222222,
             "#7201a8"
            ],
            [
             0.3333333333333333,
             "#9c179e"
            ],
            [
             0.4444444444444444,
             "#bd3786"
            ],
            [
             0.5555555555555556,
             "#d8576b"
            ],
            [
             0.6666666666666666,
             "#ed7953"
            ],
            [
             0.7777777777777778,
             "#fb9f3a"
            ],
            [
             0.8888888888888888,
             "#fdca26"
            ],
            [
             1,
             "#f0f921"
            ]
           ]
          },
          "colorway": [
           "#636efa",
           "#EF553B",
           "#00cc96",
           "#ab63fa",
           "#FFA15A",
           "#19d3f3",
           "#FF6692",
           "#B6E880",
           "#FF97FF",
           "#FECB52"
          ],
          "font": {
           "color": "#2a3f5f"
          },
          "geo": {
           "bgcolor": "white",
           "lakecolor": "white",
           "landcolor": "#E5ECF6",
           "showlakes": true,
           "showland": true,
           "subunitcolor": "white"
          },
          "hoverlabel": {
           "align": "left"
          },
          "hovermode": "closest",
          "mapbox": {
           "style": "light"
          },
          "paper_bgcolor": "white",
          "plot_bgcolor": "#E5ECF6",
          "polar": {
           "angularaxis": {
            "gridcolor": "white",
            "linecolor": "white",
            "ticks": ""
           },
           "bgcolor": "#E5ECF6",
           "radialaxis": {
            "gridcolor": "white",
            "linecolor": "white",
            "ticks": ""
           }
          },
          "scene": {
           "xaxis": {
            "backgroundcolor": "#E5ECF6",
            "gridcolor": "white",
            "gridwidth": 2,
            "linecolor": "white",
            "showbackground": true,
            "ticks": "",
            "zerolinecolor": "white"
           },
           "yaxis": {
            "backgroundcolor": "#E5ECF6",
            "gridcolor": "white",
            "gridwidth": 2,
            "linecolor": "white",
            "showbackground": true,
            "ticks": "",
            "zerolinecolor": "white"
           },
           "zaxis": {
            "backgroundcolor": "#E5ECF6",
            "gridcolor": "white",
            "gridwidth": 2,
            "linecolor": "white",
            "showbackground": true,
            "ticks": "",
            "zerolinecolor": "white"
           }
          },
          "shapedefaults": {
           "line": {
            "color": "#2a3f5f"
           }
          },
          "ternary": {
           "aaxis": {
            "gridcolor": "white",
            "linecolor": "white",
            "ticks": ""
           },
           "baxis": {
            "gridcolor": "white",
            "linecolor": "white",
            "ticks": ""
           },
           "bgcolor": "#E5ECF6",
           "caxis": {
            "gridcolor": "white",
            "linecolor": "white",
            "ticks": ""
           }
          },
          "title": {
           "x": 0.05
          },
          "xaxis": {
           "automargin": true,
           "gridcolor": "white",
           "linecolor": "white",
           "ticks": "",
           "title": {
            "standoff": 15
           },
           "zerolinecolor": "white",
           "zerolinewidth": 2
          },
          "yaxis": {
           "automargin": true,
           "gridcolor": "white",
           "linecolor": "white",
           "ticks": "",
           "title": {
            "standoff": 15
           },
           "zerolinecolor": "white",
           "zerolinewidth": 2
          }
         }
        },
        "title": {
         "text": "With noise"
        },
        "width": 600
       }
      },
      "text/html": [
       "<div>\n",
       "        \n",
       "        \n",
       "            <div id=\"6ef001ed-d115-4430-baca-090633433bca\" class=\"plotly-graph-div\" style=\"height:525px; width:600px;\"></div>\n",
       "            <script type=\"text/javascript\">\n",
       "                require([\"plotly\"], function(Plotly) {\n",
       "                    window.PLOTLYENV=window.PLOTLYENV || {};\n",
       "                    \n",
       "                if (document.getElementById(\"6ef001ed-d115-4430-baca-090633433bca\")) {\n",
       "                    Plotly.newPlot(\n",
       "                        '6ef001ed-d115-4430-baca-090633433bca',\n",
       "                        [{\"marker\": {\"color\": [1.0, 1.0, 1.0, -1.0, 1.0, -1.0, 1.0, -1.0, -1.0, -1.0, 1.0, -1.0, -1.0, -1.0, -1.0, -1.0, -1.0, 1.0, -1.0, -1.0, -1.0, -1.0, -1.0, 1.0, -1.0, 1.0, 1.0, 1.0, -1.0, 1.0, -1.0, 1.0], \"colorscale\": [[0.0, \"rgb(103,0,31)\"], [0.1, \"rgb(178,24,43)\"], [0.2, \"rgb(214,96,77)\"], [0.3, \"rgb(244,165,130)\"], [0.4, \"rgb(253,219,199)\"], [0.5, \"rgb(247,247,247)\"], [0.6, \"rgb(209,229,240)\"], [0.7, \"rgb(146,197,222)\"], [0.8, \"rgb(67,147,195)\"], [0.9, \"rgb(33,102,172)\"], [1.0, \"rgb(5,48,97)\"]], \"size\": 10}, \"mode\": \"markers\", \"name\": \"Data\", \"type\": \"scatter\", \"x\": [0.9553637840845721, 0.413774153732544, -0.08831908338511785, -0.716311572309574, 0.8384759927653522, -0.9189032643724722, 0.9252022719166835, -0.7399517311510524, -0.48925060555223643, -0.2571837448661536, 1.2472725791348636, 0.510513677909929, -0.04406140907115674, -0.4526388712024112, -0.7410664407399503, -0.22886574311621488, 0.17911530841163925, 0.37731160017527965, -0.06378794718172476, -0.8489738247618893, -0.3427115406107284, 0.9447028381045965, -0.45863108539764097, -0.18525916158486833, -0.4153494280377563, 0.0796861975497053, 0.5519713431835059, -0.4458606043168418, 0.25925994466408386, 0.47631133533063985, 0.1819529446408592, 0.278359410797857], \"y\": [0.27605812463923307, -0.12479648779441244, -0.1675941715729361, -0.6334083046840374, -1.169931177950523, 0.6827014390184523, 0.02753319544241517, -0.03178097011285652, -0.19986741088871618, -0.7431521635159125, -1.2112596885582636, 1.3537377109563529, 0.45351038797141097, -0.1904827831957029, -0.314642087224532, 0.5653191431978359, -0.3273836422608506, 0.2609246378791865, 0.7809686257402683, 0.3500558857040055, 1.0279165085806263, 1.0891625473328055, -1.165262851885486, 0.5099443861470127, 0.020659018247940475, -0.2385031665809073, -0.45063353486546276, -1.1065515039848557, 0.8790992552575336, 0.032823644523019335, 0.7838474218040596, 0.2937141868189893]}, {\"mode\": \"lines\", \"name\": \"Decision line\", \"type\": \"scatter\", \"x\": [-1.0, 1.0], \"y\": [-1.9657540624795429, 1.240841746350025]}, {\"line\": {\"dash\": \"dash\"}, \"mode\": \"lines\", \"name\": \"Support line\", \"type\": \"scatter\", \"x\": [-1.0, 1.0], \"y\": [-1.068065734407858, 2.13853007442171]}, {\"line\": {\"dash\": \"dash\"}, \"mode\": \"lines\", \"name\": \"Support line\", \"type\": \"scatter\", \"x\": [-1.0, 1.0], \"y\": [-2.863442390551228, 0.3431534182783398]}],\n",
       "                        {\"template\": {\"data\": {\"bar\": [{\"error_x\": {\"color\": \"#2a3f5f\"}, \"error_y\": {\"color\": \"#2a3f5f\"}, \"marker\": {\"line\": {\"color\": \"#E5ECF6\", \"width\": 0.5}}, \"type\": \"bar\"}], \"barpolar\": [{\"marker\": {\"line\": {\"color\": \"#E5ECF6\", \"width\": 0.5}}, \"type\": \"barpolar\"}], \"carpet\": [{\"aaxis\": {\"endlinecolor\": \"#2a3f5f\", \"gridcolor\": \"white\", \"linecolor\": \"white\", \"minorgridcolor\": \"white\", \"startlinecolor\": \"#2a3f5f\"}, \"baxis\": {\"endlinecolor\": \"#2a3f5f\", \"gridcolor\": \"white\", \"linecolor\": \"white\", \"minorgridcolor\": \"white\", \"startlinecolor\": \"#2a3f5f\"}, \"type\": \"carpet\"}], \"choropleth\": [{\"colorbar\": {\"outlinewidth\": 0, \"ticks\": \"\"}, \"type\": \"choropleth\"}], \"contour\": [{\"colorbar\": {\"outlinewidth\": 0, \"ticks\": \"\"}, \"colorscale\": [[0.0, \"#0d0887\"], [0.1111111111111111, \"#46039f\"], [0.2222222222222222, \"#7201a8\"], [0.3333333333333333, \"#9c179e\"], [0.4444444444444444, \"#bd3786\"], [0.5555555555555556, \"#d8576b\"], [0.6666666666666666, \"#ed7953\"], [0.7777777777777778, \"#fb9f3a\"], [0.8888888888888888, \"#fdca26\"], [1.0, \"#f0f921\"]], \"type\": \"contour\"}], \"contourcarpet\": [{\"colorbar\": {\"outlinewidth\": 0, \"ticks\": \"\"}, \"type\": \"contourcarpet\"}], \"heatmap\": [{\"colorbar\": {\"outlinewidth\": 0, \"ticks\": \"\"}, \"colorscale\": [[0.0, \"#0d0887\"], [0.1111111111111111, \"#46039f\"], [0.2222222222222222, \"#7201a8\"], [0.3333333333333333, \"#9c179e\"], [0.4444444444444444, \"#bd3786\"], [0.5555555555555556, \"#d8576b\"], [0.6666666666666666, \"#ed7953\"], [0.7777777777777778, \"#fb9f3a\"], [0.8888888888888888, \"#fdca26\"], [1.0, \"#f0f921\"]], \"type\": \"heatmap\"}], \"heatmapgl\": [{\"colorbar\": {\"outlinewidth\": 0, \"ticks\": \"\"}, \"colorscale\": [[0.0, \"#0d0887\"], [0.1111111111111111, \"#46039f\"], [0.2222222222222222, \"#7201a8\"], [0.3333333333333333, \"#9c179e\"], [0.4444444444444444, \"#bd3786\"], [0.5555555555555556, \"#d8576b\"], [0.6666666666666666, \"#ed7953\"], [0.7777777777777778, \"#fb9f3a\"], [0.8888888888888888, \"#fdca26\"], [1.0, \"#f0f921\"]], \"type\": \"heatmapgl\"}], \"histogram\": [{\"marker\": {\"colorbar\": {\"outlinewidth\": 0, \"ticks\": \"\"}}, \"type\": \"histogram\"}], \"histogram2d\": [{\"colorbar\": {\"outlinewidth\": 0, \"ticks\": \"\"}, \"colorscale\": [[0.0, \"#0d0887\"], [0.1111111111111111, \"#46039f\"], [0.2222222222222222, \"#7201a8\"], [0.3333333333333333, \"#9c179e\"], [0.4444444444444444, \"#bd3786\"], [0.5555555555555556, \"#d8576b\"], [0.6666666666666666, \"#ed7953\"], [0.7777777777777778, \"#fb9f3a\"], [0.8888888888888888, \"#fdca26\"], [1.0, \"#f0f921\"]], \"type\": \"histogram2d\"}], \"histogram2dcontour\": [{\"colorbar\": {\"outlinewidth\": 0, \"ticks\": \"\"}, \"colorscale\": [[0.0, \"#0d0887\"], [0.1111111111111111, \"#46039f\"], [0.2222222222222222, \"#7201a8\"], [0.3333333333333333, \"#9c179e\"], [0.4444444444444444, \"#bd3786\"], [0.5555555555555556, \"#d8576b\"], [0.6666666666666666, \"#ed7953\"], [0.7777777777777778, \"#fb9f3a\"], [0.8888888888888888, \"#fdca26\"], [1.0, \"#f0f921\"]], \"type\": \"histogram2dcontour\"}], \"mesh3d\": [{\"colorbar\": {\"outlinewidth\": 0, \"ticks\": \"\"}, \"type\": \"mesh3d\"}], \"parcoords\": [{\"line\": {\"colorbar\": {\"outlinewidth\": 0, \"ticks\": \"\"}}, \"type\": \"parcoords\"}], \"pie\": [{\"automargin\": true, \"type\": \"pie\"}], \"scatter\": [{\"marker\": {\"colorbar\": {\"outlinewidth\": 0, \"ticks\": \"\"}}, \"type\": \"scatter\"}], \"scatter3d\": [{\"line\": {\"colorbar\": {\"outlinewidth\": 0, \"ticks\": \"\"}}, \"marker\": {\"colorbar\": {\"outlinewidth\": 0, \"ticks\": \"\"}}, \"type\": \"scatter3d\"}], \"scattercarpet\": [{\"marker\": {\"colorbar\": {\"outlinewidth\": 0, \"ticks\": \"\"}}, \"type\": \"scattercarpet\"}], \"scattergeo\": [{\"marker\": {\"colorbar\": {\"outlinewidth\": 0, \"ticks\": \"\"}}, \"type\": \"scattergeo\"}], \"scattergl\": [{\"marker\": {\"colorbar\": {\"outlinewidth\": 0, \"ticks\": \"\"}}, \"type\": \"scattergl\"}], \"scattermapbox\": [{\"marker\": {\"colorbar\": {\"outlinewidth\": 0, \"ticks\": \"\"}}, \"type\": \"scattermapbox\"}], \"scatterpolar\": [{\"marker\": {\"colorbar\": {\"outlinewidth\": 0, \"ticks\": \"\"}}, \"type\": \"scatterpolar\"}], \"scatterpolargl\": [{\"marker\": {\"colorbar\": {\"outlinewidth\": 0, \"ticks\": \"\"}}, \"type\": \"scatterpolargl\"}], \"scatterternary\": [{\"marker\": {\"colorbar\": {\"outlinewidth\": 0, \"ticks\": \"\"}}, \"type\": \"scatterternary\"}], \"surface\": [{\"colorbar\": {\"outlinewidth\": 0, \"ticks\": \"\"}, \"colorscale\": [[0.0, \"#0d0887\"], [0.1111111111111111, \"#46039f\"], [0.2222222222222222, \"#7201a8\"], [0.3333333333333333, \"#9c179e\"], [0.4444444444444444, \"#bd3786\"], [0.5555555555555556, \"#d8576b\"], [0.6666666666666666, \"#ed7953\"], [0.7777777777777778, \"#fb9f3a\"], [0.8888888888888888, \"#fdca26\"], [1.0, \"#f0f921\"]], \"type\": \"surface\"}], \"table\": [{\"cells\": {\"fill\": {\"color\": \"#EBF0F8\"}, \"line\": {\"color\": \"white\"}}, \"header\": {\"fill\": {\"color\": \"#C8D4E3\"}, \"line\": {\"color\": \"white\"}}, \"type\": \"table\"}]}, \"layout\": {\"annotationdefaults\": {\"arrowcolor\": \"#2a3f5f\", \"arrowhead\": 0, \"arrowwidth\": 1}, \"coloraxis\": {\"colorbar\": {\"outlinewidth\": 0, \"ticks\": \"\"}}, \"colorscale\": {\"diverging\": [[0, \"#8e0152\"], [0.1, \"#c51b7d\"], [0.2, \"#de77ae\"], [0.3, \"#f1b6da\"], [0.4, \"#fde0ef\"], [0.5, \"#f7f7f7\"], [0.6, \"#e6f5d0\"], [0.7, \"#b8e186\"], [0.8, \"#7fbc41\"], [0.9, \"#4d9221\"], [1, \"#276419\"]], \"sequential\": [[0.0, \"#0d0887\"], [0.1111111111111111, \"#46039f\"], [0.2222222222222222, \"#7201a8\"], [0.3333333333333333, \"#9c179e\"], [0.4444444444444444, \"#bd3786\"], [0.5555555555555556, \"#d8576b\"], [0.6666666666666666, \"#ed7953\"], [0.7777777777777778, \"#fb9f3a\"], [0.8888888888888888, \"#fdca26\"], [1.0, \"#f0f921\"]], \"sequentialminus\": [[0.0, \"#0d0887\"], [0.1111111111111111, \"#46039f\"], [0.2222222222222222, \"#7201a8\"], [0.3333333333333333, \"#9c179e\"], [0.4444444444444444, \"#bd3786\"], [0.5555555555555556, \"#d8576b\"], [0.6666666666666666, \"#ed7953\"], [0.7777777777777778, \"#fb9f3a\"], [0.8888888888888888, \"#fdca26\"], [1.0, \"#f0f921\"]]}, \"colorway\": [\"#636efa\", \"#EF553B\", \"#00cc96\", \"#ab63fa\", \"#FFA15A\", \"#19d3f3\", \"#FF6692\", \"#B6E880\", \"#FF97FF\", \"#FECB52\"], \"font\": {\"color\": \"#2a3f5f\"}, \"geo\": {\"bgcolor\": \"white\", \"lakecolor\": \"white\", \"landcolor\": \"#E5ECF6\", \"showlakes\": true, \"showland\": true, \"subunitcolor\": \"white\"}, \"hoverlabel\": {\"align\": \"left\"}, \"hovermode\": \"closest\", \"mapbox\": {\"style\": \"light\"}, \"paper_bgcolor\": \"white\", \"plot_bgcolor\": \"#E5ECF6\", \"polar\": {\"angularaxis\": {\"gridcolor\": \"white\", \"linecolor\": \"white\", \"ticks\": \"\"}, \"bgcolor\": \"#E5ECF6\", \"radialaxis\": {\"gridcolor\": \"white\", \"linecolor\": \"white\", \"ticks\": \"\"}}, \"scene\": {\"xaxis\": {\"backgroundcolor\": \"#E5ECF6\", \"gridcolor\": \"white\", \"gridwidth\": 2, \"linecolor\": \"white\", \"showbackground\": true, \"ticks\": \"\", \"zerolinecolor\": \"white\"}, \"yaxis\": {\"backgroundcolor\": \"#E5ECF6\", \"gridcolor\": \"white\", \"gridwidth\": 2, \"linecolor\": \"white\", \"showbackground\": true, \"ticks\": \"\", \"zerolinecolor\": \"white\"}, \"zaxis\": {\"backgroundcolor\": \"#E5ECF6\", \"gridcolor\": \"white\", \"gridwidth\": 2, \"linecolor\": \"white\", \"showbackground\": true, \"ticks\": \"\", \"zerolinecolor\": \"white\"}}, \"shapedefaults\": {\"line\": {\"color\": \"#2a3f5f\"}}, \"ternary\": {\"aaxis\": {\"gridcolor\": \"white\", \"linecolor\": \"white\", \"ticks\": \"\"}, \"baxis\": {\"gridcolor\": \"white\", \"linecolor\": \"white\", \"ticks\": \"\"}, \"bgcolor\": \"#E5ECF6\", \"caxis\": {\"gridcolor\": \"white\", \"linecolor\": \"white\", \"ticks\": \"\"}}, \"title\": {\"x\": 0.05}, \"xaxis\": {\"automargin\": true, \"gridcolor\": \"white\", \"linecolor\": \"white\", \"ticks\": \"\", \"title\": {\"standoff\": 15}, \"zerolinecolor\": \"white\", \"zerolinewidth\": 2}, \"yaxis\": {\"automargin\": true, \"gridcolor\": \"white\", \"linecolor\": \"white\", \"ticks\": \"\", \"title\": {\"standoff\": 15}, \"zerolinecolor\": \"white\", \"zerolinewidth\": 2}}}, \"title\": {\"text\": \"With noise\"}, \"width\": 600},\n",
       "                        {\"responsive\": true}\n",
       "                    ).then(function(){\n",
       "                            \n",
       "var gd = document.getElementById('6ef001ed-d115-4430-baca-090633433bca');\n",
       "var x = new MutationObserver(function (mutations, observer) {{\n",
       "        var display = window.getComputedStyle(gd).display;\n",
       "        if (!display || display === 'none') {{\n",
       "            console.log([gd, 'removed!']);\n",
       "            Plotly.purge(gd);\n",
       "            observer.disconnect();\n",
       "        }}\n",
       "}});\n",
       "\n",
       "// Listen for the removal of the full notebook cells\n",
       "var notebookContainer = gd.closest('#notebook-container');\n",
       "if (notebookContainer) {{\n",
       "    x.observe(notebookContainer, {childList: true});\n",
       "}}\n",
       "\n",
       "// Listen for the clearing of the current output cell\n",
       "var outputEl = gd.closest('.output');\n",
       "if (outputEl) {{\n",
       "    x.observe(outputEl, {childList: true});\n",
       "}}\n",
       "\n",
       "                        })\n",
       "                };\n",
       "                });\n",
       "            </script>\n",
       "        </div>"
      ]
     },
     "metadata": {},
     "output_type": "display_data"
    }
   ],
   "source": [
    "# plot points and decision line\n",
    "fig = go.Figure()\n",
    "plot_data_decision_line(X,y,clf,fig,\"With noise\")\n",
    "fig.show()"
   ]
  },
  {
   "cell_type": "code",
   "execution_count": 44,
   "metadata": {},
   "outputs": [],
   "source": [
    "save_figure_to_file(fig,'../Slides/scikitlearn','svm4')"
   ]
  },
  {
   "cell_type": "code",
   "execution_count": 45,
   "metadata": {
    "colab": {
     "base_uri": "https://localhost:8080/",
     "height": 542
    },
    "colab_type": "code",
    "id": "aAbIBExv_GQ4",
    "outputId": "20287bd2-3e61-40f5-c113-fbd6dc20a999"
   },
   "outputs": [
    {
     "data": {
      "application/vnd.plotly.v1+json": {
       "config": {
        "plotlyServerURL": "https://plot.ly"
       },
       "data": [
        {
         "marker": {
          "color": [
           -1,
           1,
           -1,
           -1,
           -1,
           -1,
           -1,
           -1,
           -1,
           -1,
           1,
           1,
           1,
           1,
           1,
           1,
           1,
           1,
           1,
           1
          ],
          "colorscale": [
           [
            0,
            "rgb(103,0,31)"
           ],
           [
            0.1,
            "rgb(178,24,43)"
           ],
           [
            0.2,
            "rgb(214,96,77)"
           ],
           [
            0.3,
            "rgb(244,165,130)"
           ],
           [
            0.4,
            "rgb(253,219,199)"
           ],
           [
            0.5,
            "rgb(247,247,247)"
           ],
           [
            0.6,
            "rgb(209,229,240)"
           ],
           [
            0.7,
            "rgb(146,197,222)"
           ],
           [
            0.8,
            "rgb(67,147,195)"
           ],
           [
            0.9,
            "rgb(33,102,172)"
           ],
           [
            1,
            "rgb(5,48,97)"
           ]
          ],
          "size": 10
         },
         "mode": "markers",
         "name": "Data",
         "type": "scatter",
         "x": [
          0.5,
          -0.5,
          -0.4315406361270182,
          -0.4617614284231002,
          -0.16892053227007353,
          -0.5295563775737924,
          -0.23183754092319586,
          -0.42945349174431197,
          -0.49144968062295297,
          -0.5379106111371351,
          0.5766069365853674,
          0.3847065484401654,
          0.3516835304801391,
          0.11709574900719513,
          0.17792568139102968,
          0.1848512192012097,
          0.28669687883580186,
          0.5291582939589509,
          0.39173084886622345,
          0.1888963100948403
         ],
         "y": [
          0,
          0,
          0.20847713250846214,
          0.27165779638972876,
          0.1783498350047443,
          0.4785401403203442,
          0.2778315458178908,
          0.4334015252766632,
          0.3807134912164687,
          0.25986824222676397,
          -0.5313216046011098,
          -0.11216725853839699,
          -0.266167896925947,
          -0.3719403168447851,
          -0.361975516750565,
          -0.15187083137991447,
          -0.4101535347626241,
          -0.2769694725576214,
          -0.2658249865805824,
          -0.17537599159106854
         ]
        }
       ],
       "layout": {
        "template": {
         "data": {
          "bar": [
           {
            "error_x": {
             "color": "#2a3f5f"
            },
            "error_y": {
             "color": "#2a3f5f"
            },
            "marker": {
             "line": {
              "color": "#E5ECF6",
              "width": 0.5
             }
            },
            "type": "bar"
           }
          ],
          "barpolar": [
           {
            "marker": {
             "line": {
              "color": "#E5ECF6",
              "width": 0.5
             }
            },
            "type": "barpolar"
           }
          ],
          "carpet": [
           {
            "aaxis": {
             "endlinecolor": "#2a3f5f",
             "gridcolor": "white",
             "linecolor": "white",
             "minorgridcolor": "white",
             "startlinecolor": "#2a3f5f"
            },
            "baxis": {
             "endlinecolor": "#2a3f5f",
             "gridcolor": "white",
             "linecolor": "white",
             "minorgridcolor": "white",
             "startlinecolor": "#2a3f5f"
            },
            "type": "carpet"
           }
          ],
          "choropleth": [
           {
            "colorbar": {
             "outlinewidth": 0,
             "ticks": ""
            },
            "type": "choropleth"
           }
          ],
          "contour": [
           {
            "colorbar": {
             "outlinewidth": 0,
             "ticks": ""
            },
            "colorscale": [
             [
              0,
              "#0d0887"
             ],
             [
              0.1111111111111111,
              "#46039f"
             ],
             [
              0.2222222222222222,
              "#7201a8"
             ],
             [
              0.3333333333333333,
              "#9c179e"
             ],
             [
              0.4444444444444444,
              "#bd3786"
             ],
             [
              0.5555555555555556,
              "#d8576b"
             ],
             [
              0.6666666666666666,
              "#ed7953"
             ],
             [
              0.7777777777777778,
              "#fb9f3a"
             ],
             [
              0.8888888888888888,
              "#fdca26"
             ],
             [
              1,
              "#f0f921"
             ]
            ],
            "type": "contour"
           }
          ],
          "contourcarpet": [
           {
            "colorbar": {
             "outlinewidth": 0,
             "ticks": ""
            },
            "type": "contourcarpet"
           }
          ],
          "heatmap": [
           {
            "colorbar": {
             "outlinewidth": 0,
             "ticks": ""
            },
            "colorscale": [
             [
              0,
              "#0d0887"
             ],
             [
              0.1111111111111111,
              "#46039f"
             ],
             [
              0.2222222222222222,
              "#7201a8"
             ],
             [
              0.3333333333333333,
              "#9c179e"
             ],
             [
              0.4444444444444444,
              "#bd3786"
             ],
             [
              0.5555555555555556,
              "#d8576b"
             ],
             [
              0.6666666666666666,
              "#ed7953"
             ],
             [
              0.7777777777777778,
              "#fb9f3a"
             ],
             [
              0.8888888888888888,
              "#fdca26"
             ],
             [
              1,
              "#f0f921"
             ]
            ],
            "type": "heatmap"
           }
          ],
          "heatmapgl": [
           {
            "colorbar": {
             "outlinewidth": 0,
             "ticks": ""
            },
            "colorscale": [
             [
              0,
              "#0d0887"
             ],
             [
              0.1111111111111111,
              "#46039f"
             ],
             [
              0.2222222222222222,
              "#7201a8"
             ],
             [
              0.3333333333333333,
              "#9c179e"
             ],
             [
              0.4444444444444444,
              "#bd3786"
             ],
             [
              0.5555555555555556,
              "#d8576b"
             ],
             [
              0.6666666666666666,
              "#ed7953"
             ],
             [
              0.7777777777777778,
              "#fb9f3a"
             ],
             [
              0.8888888888888888,
              "#fdca26"
             ],
             [
              1,
              "#f0f921"
             ]
            ],
            "type": "heatmapgl"
           }
          ],
          "histogram": [
           {
            "marker": {
             "colorbar": {
              "outlinewidth": 0,
              "ticks": ""
             }
            },
            "type": "histogram"
           }
          ],
          "histogram2d": [
           {
            "colorbar": {
             "outlinewidth": 0,
             "ticks": ""
            },
            "colorscale": [
             [
              0,
              "#0d0887"
             ],
             [
              0.1111111111111111,
              "#46039f"
             ],
             [
              0.2222222222222222,
              "#7201a8"
             ],
             [
              0.3333333333333333,
              "#9c179e"
             ],
             [
              0.4444444444444444,
              "#bd3786"
             ],
             [
              0.5555555555555556,
              "#d8576b"
             ],
             [
              0.6666666666666666,
              "#ed7953"
             ],
             [
              0.7777777777777778,
              "#fb9f3a"
             ],
             [
              0.8888888888888888,
              "#fdca26"
             ],
             [
              1,
              "#f0f921"
             ]
            ],
            "type": "histogram2d"
           }
          ],
          "histogram2dcontour": [
           {
            "colorbar": {
             "outlinewidth": 0,
             "ticks": ""
            },
            "colorscale": [
             [
              0,
              "#0d0887"
             ],
             [
              0.1111111111111111,
              "#46039f"
             ],
             [
              0.2222222222222222,
              "#7201a8"
             ],
             [
              0.3333333333333333,
              "#9c179e"
             ],
             [
              0.4444444444444444,
              "#bd3786"
             ],
             [
              0.5555555555555556,
              "#d8576b"
             ],
             [
              0.6666666666666666,
              "#ed7953"
             ],
             [
              0.7777777777777778,
              "#fb9f3a"
             ],
             [
              0.8888888888888888,
              "#fdca26"
             ],
             [
              1,
              "#f0f921"
             ]
            ],
            "type": "histogram2dcontour"
           }
          ],
          "mesh3d": [
           {
            "colorbar": {
             "outlinewidth": 0,
             "ticks": ""
            },
            "type": "mesh3d"
           }
          ],
          "parcoords": [
           {
            "line": {
             "colorbar": {
              "outlinewidth": 0,
              "ticks": ""
             }
            },
            "type": "parcoords"
           }
          ],
          "pie": [
           {
            "automargin": true,
            "type": "pie"
           }
          ],
          "scatter": [
           {
            "marker": {
             "colorbar": {
              "outlinewidth": 0,
              "ticks": ""
             }
            },
            "type": "scatter"
           }
          ],
          "scatter3d": [
           {
            "line": {
             "colorbar": {
              "outlinewidth": 0,
              "ticks": ""
             }
            },
            "marker": {
             "colorbar": {
              "outlinewidth": 0,
              "ticks": ""
             }
            },
            "type": "scatter3d"
           }
          ],
          "scattercarpet": [
           {
            "marker": {
             "colorbar": {
              "outlinewidth": 0,
              "ticks": ""
             }
            },
            "type": "scattercarpet"
           }
          ],
          "scattergeo": [
           {
            "marker": {
             "colorbar": {
              "outlinewidth": 0,
              "ticks": ""
             }
            },
            "type": "scattergeo"
           }
          ],
          "scattergl": [
           {
            "marker": {
             "colorbar": {
              "outlinewidth": 0,
              "ticks": ""
             }
            },
            "type": "scattergl"
           }
          ],
          "scattermapbox": [
           {
            "marker": {
             "colorbar": {
              "outlinewidth": 0,
              "ticks": ""
             }
            },
            "type": "scattermapbox"
           }
          ],
          "scatterpolar": [
           {
            "marker": {
             "colorbar": {
              "outlinewidth": 0,
              "ticks": ""
             }
            },
            "type": "scatterpolar"
           }
          ],
          "scatterpolargl": [
           {
            "marker": {
             "colorbar": {
              "outlinewidth": 0,
              "ticks": ""
             }
            },
            "type": "scatterpolargl"
           }
          ],
          "scatterternary": [
           {
            "marker": {
             "colorbar": {
              "outlinewidth": 0,
              "ticks": ""
             }
            },
            "type": "scatterternary"
           }
          ],
          "surface": [
           {
            "colorbar": {
             "outlinewidth": 0,
             "ticks": ""
            },
            "colorscale": [
             [
              0,
              "#0d0887"
             ],
             [
              0.1111111111111111,
              "#46039f"
             ],
             [
              0.2222222222222222,
              "#7201a8"
             ],
             [
              0.3333333333333333,
              "#9c179e"
             ],
             [
              0.4444444444444444,
              "#bd3786"
             ],
             [
              0.5555555555555556,
              "#d8576b"
             ],
             [
              0.6666666666666666,
              "#ed7953"
             ],
             [
              0.7777777777777778,
              "#fb9f3a"
             ],
             [
              0.8888888888888888,
              "#fdca26"
             ],
             [
              1,
              "#f0f921"
             ]
            ],
            "type": "surface"
           }
          ],
          "table": [
           {
            "cells": {
             "fill": {
              "color": "#EBF0F8"
             },
             "line": {
              "color": "white"
             }
            },
            "header": {
             "fill": {
              "color": "#C8D4E3"
             },
             "line": {
              "color": "white"
             }
            },
            "type": "table"
           }
          ]
         },
         "layout": {
          "annotationdefaults": {
           "arrowcolor": "#2a3f5f",
           "arrowhead": 0,
           "arrowwidth": 1
          },
          "coloraxis": {
           "colorbar": {
            "outlinewidth": 0,
            "ticks": ""
           }
          },
          "colorscale": {
           "diverging": [
            [
             0,
             "#8e0152"
            ],
            [
             0.1,
             "#c51b7d"
            ],
            [
             0.2,
             "#de77ae"
            ],
            [
             0.3,
             "#f1b6da"
            ],
            [
             0.4,
             "#fde0ef"
            ],
            [
             0.5,
             "#f7f7f7"
            ],
            [
             0.6,
             "#e6f5d0"
            ],
            [
             0.7,
             "#b8e186"
            ],
            [
             0.8,
             "#7fbc41"
            ],
            [
             0.9,
             "#4d9221"
            ],
            [
             1,
             "#276419"
            ]
           ],
           "sequential": [
            [
             0,
             "#0d0887"
            ],
            [
             0.1111111111111111,
             "#46039f"
            ],
            [
             0.2222222222222222,
             "#7201a8"
            ],
            [
             0.3333333333333333,
             "#9c179e"
            ],
            [
             0.4444444444444444,
             "#bd3786"
            ],
            [
             0.5555555555555556,
             "#d8576b"
            ],
            [
             0.6666666666666666,
             "#ed7953"
            ],
            [
             0.7777777777777778,
             "#fb9f3a"
            ],
            [
             0.8888888888888888,
             "#fdca26"
            ],
            [
             1,
             "#f0f921"
            ]
           ],
           "sequentialminus": [
            [
             0,
             "#0d0887"
            ],
            [
             0.1111111111111111,
             "#46039f"
            ],
            [
             0.2222222222222222,
             "#7201a8"
            ],
            [
             0.3333333333333333,
             "#9c179e"
            ],
            [
             0.4444444444444444,
             "#bd3786"
            ],
            [
             0.5555555555555556,
             "#d8576b"
            ],
            [
             0.6666666666666666,
             "#ed7953"
            ],
            [
             0.7777777777777778,
             "#fb9f3a"
            ],
            [
             0.8888888888888888,
             "#fdca26"
            ],
            [
             1,
             "#f0f921"
            ]
           ]
          },
          "colorway": [
           "#636efa",
           "#EF553B",
           "#00cc96",
           "#ab63fa",
           "#FFA15A",
           "#19d3f3",
           "#FF6692",
           "#B6E880",
           "#FF97FF",
           "#FECB52"
          ],
          "font": {
           "color": "#2a3f5f"
          },
          "geo": {
           "bgcolor": "white",
           "lakecolor": "white",
           "landcolor": "#E5ECF6",
           "showlakes": true,
           "showland": true,
           "subunitcolor": "white"
          },
          "hoverlabel": {
           "align": "left"
          },
          "hovermode": "closest",
          "mapbox": {
           "style": "light"
          },
          "paper_bgcolor": "white",
          "plot_bgcolor": "#E5ECF6",
          "polar": {
           "angularaxis": {
            "gridcolor": "white",
            "linecolor": "white",
            "ticks": ""
           },
           "bgcolor": "#E5ECF6",
           "radialaxis": {
            "gridcolor": "white",
            "linecolor": "white",
            "ticks": ""
           }
          },
          "scene": {
           "xaxis": {
            "backgroundcolor": "#E5ECF6",
            "gridcolor": "white",
            "gridwidth": 2,
            "linecolor": "white",
            "showbackground": true,
            "ticks": "",
            "zerolinecolor": "white"
           },
           "yaxis": {
            "backgroundcolor": "#E5ECF6",
            "gridcolor": "white",
            "gridwidth": 2,
            "linecolor": "white",
            "showbackground": true,
            "ticks": "",
            "zerolinecolor": "white"
           },
           "zaxis": {
            "backgroundcolor": "#E5ECF6",
            "gridcolor": "white",
            "gridwidth": 2,
            "linecolor": "white",
            "showbackground": true,
            "ticks": "",
            "zerolinecolor": "white"
           }
          },
          "shapedefaults": {
           "line": {
            "color": "#2a3f5f"
           }
          },
          "ternary": {
           "aaxis": {
            "gridcolor": "white",
            "linecolor": "white",
            "ticks": ""
           },
           "baxis": {
            "gridcolor": "white",
            "linecolor": "white",
            "ticks": ""
           },
           "bgcolor": "#E5ECF6",
           "caxis": {
            "gridcolor": "white",
            "linecolor": "white",
            "ticks": ""
           }
          },
          "title": {
           "x": 0.05
          },
          "xaxis": {
           "automargin": true,
           "gridcolor": "white",
           "linecolor": "white",
           "ticks": "",
           "title": {
            "standoff": 15
           },
           "zerolinecolor": "white",
           "zerolinewidth": 2
          },
          "yaxis": {
           "automargin": true,
           "gridcolor": "white",
           "linecolor": "white",
           "ticks": "",
           "title": {
            "standoff": 15
           },
           "zerolinecolor": "white",
           "zerolinewidth": 2
          }
         }
        },
        "width": 600,
        "yaxis": {
         "scaleanchor": "x",
         "scaleratio": 1
        }
       }
      },
      "text/html": [
       "<div>\n",
       "        \n",
       "        \n",
       "            <div id=\"95872db3-b873-4c15-a771-dc0903cd76fe\" class=\"plotly-graph-div\" style=\"height:525px; width:600px;\"></div>\n",
       "            <script type=\"text/javascript\">\n",
       "                require([\"plotly\"], function(Plotly) {\n",
       "                    window.PLOTLYENV=window.PLOTLYENV || {};\n",
       "                    \n",
       "                if (document.getElementById(\"95872db3-b873-4c15-a771-dc0903cd76fe\")) {\n",
       "                    Plotly.newPlot(\n",
       "                        '95872db3-b873-4c15-a771-dc0903cd76fe',\n",
       "                        [{\"marker\": {\"color\": [-1.0, 1.0, -1.0, -1.0, -1.0, -1.0, -1.0, -1.0, -1.0, -1.0, 1.0, 1.0, 1.0, 1.0, 1.0, 1.0, 1.0, 1.0, 1.0, 1.0], \"colorscale\": [[0.0, \"rgb(103,0,31)\"], [0.1, \"rgb(178,24,43)\"], [0.2, \"rgb(214,96,77)\"], [0.3, \"rgb(244,165,130)\"], [0.4, \"rgb(253,219,199)\"], [0.5, \"rgb(247,247,247)\"], [0.6, \"rgb(209,229,240)\"], [0.7, \"rgb(146,197,222)\"], [0.8, \"rgb(67,147,195)\"], [0.9, \"rgb(33,102,172)\"], [1.0, \"rgb(5,48,97)\"]], \"size\": 10}, \"mode\": \"markers\", \"name\": \"Data\", \"type\": \"scatter\", \"x\": [0.5, -0.5, -0.4315406361270182, -0.4617614284231002, -0.16892053227007353, -0.5295563775737924, -0.23183754092319586, -0.42945349174431197, -0.49144968062295297, -0.5379106111371351, 0.5766069365853674, 0.3847065484401654, 0.3516835304801391, 0.11709574900719513, 0.17792568139102968, 0.1848512192012097, 0.28669687883580186, 0.5291582939589509, 0.39173084886622345, 0.1888963100948403], \"y\": [0.0, 0.0, 0.20847713250846214, 0.27165779638972876, 0.1783498350047443, 0.4785401403203442, 0.2778315458178908, 0.4334015252766632, 0.3807134912164687, 0.25986824222676397, -0.5313216046011098, -0.11216725853839699, -0.266167896925947, -0.3719403168447851, -0.361975516750565, -0.15187083137991447, -0.4101535347626241, -0.2769694725576214, -0.2658249865805824, -0.17537599159106854]}],\n",
       "                        {\"template\": {\"data\": {\"bar\": [{\"error_x\": {\"color\": \"#2a3f5f\"}, \"error_y\": {\"color\": \"#2a3f5f\"}, \"marker\": {\"line\": {\"color\": \"#E5ECF6\", \"width\": 0.5}}, \"type\": \"bar\"}], \"barpolar\": [{\"marker\": {\"line\": {\"color\": \"#E5ECF6\", \"width\": 0.5}}, \"type\": \"barpolar\"}], \"carpet\": [{\"aaxis\": {\"endlinecolor\": \"#2a3f5f\", \"gridcolor\": \"white\", \"linecolor\": \"white\", \"minorgridcolor\": \"white\", \"startlinecolor\": \"#2a3f5f\"}, \"baxis\": {\"endlinecolor\": \"#2a3f5f\", \"gridcolor\": \"white\", \"linecolor\": \"white\", \"minorgridcolor\": \"white\", \"startlinecolor\": \"#2a3f5f\"}, \"type\": \"carpet\"}], \"choropleth\": [{\"colorbar\": {\"outlinewidth\": 0, \"ticks\": \"\"}, \"type\": \"choropleth\"}], \"contour\": [{\"colorbar\": {\"outlinewidth\": 0, \"ticks\": \"\"}, \"colorscale\": [[0.0, \"#0d0887\"], [0.1111111111111111, \"#46039f\"], [0.2222222222222222, \"#7201a8\"], [0.3333333333333333, \"#9c179e\"], [0.4444444444444444, \"#bd3786\"], [0.5555555555555556, \"#d8576b\"], [0.6666666666666666, \"#ed7953\"], [0.7777777777777778, \"#fb9f3a\"], [0.8888888888888888, \"#fdca26\"], [1.0, \"#f0f921\"]], \"type\": \"contour\"}], \"contourcarpet\": [{\"colorbar\": {\"outlinewidth\": 0, \"ticks\": \"\"}, \"type\": \"contourcarpet\"}], \"heatmap\": [{\"colorbar\": {\"outlinewidth\": 0, \"ticks\": \"\"}, \"colorscale\": [[0.0, \"#0d0887\"], [0.1111111111111111, \"#46039f\"], [0.2222222222222222, \"#7201a8\"], [0.3333333333333333, \"#9c179e\"], [0.4444444444444444, \"#bd3786\"], [0.5555555555555556, \"#d8576b\"], [0.6666666666666666, \"#ed7953\"], [0.7777777777777778, \"#fb9f3a\"], [0.8888888888888888, \"#fdca26\"], [1.0, \"#f0f921\"]], \"type\": \"heatmap\"}], \"heatmapgl\": [{\"colorbar\": {\"outlinewidth\": 0, \"ticks\": \"\"}, \"colorscale\": [[0.0, \"#0d0887\"], [0.1111111111111111, \"#46039f\"], [0.2222222222222222, \"#7201a8\"], [0.3333333333333333, \"#9c179e\"], [0.4444444444444444, \"#bd3786\"], [0.5555555555555556, \"#d8576b\"], [0.6666666666666666, \"#ed7953\"], [0.7777777777777778, \"#fb9f3a\"], [0.8888888888888888, \"#fdca26\"], [1.0, \"#f0f921\"]], \"type\": \"heatmapgl\"}], \"histogram\": [{\"marker\": {\"colorbar\": {\"outlinewidth\": 0, \"ticks\": \"\"}}, \"type\": \"histogram\"}], \"histogram2d\": [{\"colorbar\": {\"outlinewidth\": 0, \"ticks\": \"\"}, \"colorscale\": [[0.0, \"#0d0887\"], [0.1111111111111111, \"#46039f\"], [0.2222222222222222, \"#7201a8\"], [0.3333333333333333, \"#9c179e\"], [0.4444444444444444, \"#bd3786\"], [0.5555555555555556, \"#d8576b\"], [0.6666666666666666, \"#ed7953\"], [0.7777777777777778, \"#fb9f3a\"], [0.8888888888888888, \"#fdca26\"], [1.0, \"#f0f921\"]], \"type\": \"histogram2d\"}], \"histogram2dcontour\": [{\"colorbar\": {\"outlinewidth\": 0, \"ticks\": \"\"}, \"colorscale\": [[0.0, \"#0d0887\"], [0.1111111111111111, \"#46039f\"], [0.2222222222222222, \"#7201a8\"], [0.3333333333333333, \"#9c179e\"], [0.4444444444444444, \"#bd3786\"], [0.5555555555555556, \"#d8576b\"], [0.6666666666666666, \"#ed7953\"], [0.7777777777777778, \"#fb9f3a\"], [0.8888888888888888, \"#fdca26\"], [1.0, \"#f0f921\"]], \"type\": \"histogram2dcontour\"}], \"mesh3d\": [{\"colorbar\": {\"outlinewidth\": 0, \"ticks\": \"\"}, \"type\": \"mesh3d\"}], \"parcoords\": [{\"line\": {\"colorbar\": {\"outlinewidth\": 0, \"ticks\": \"\"}}, \"type\": \"parcoords\"}], \"pie\": [{\"automargin\": true, \"type\": \"pie\"}], \"scatter\": [{\"marker\": {\"colorbar\": {\"outlinewidth\": 0, \"ticks\": \"\"}}, \"type\": \"scatter\"}], \"scatter3d\": [{\"line\": {\"colorbar\": {\"outlinewidth\": 0, \"ticks\": \"\"}}, \"marker\": {\"colorbar\": {\"outlinewidth\": 0, \"ticks\": \"\"}}, \"type\": \"scatter3d\"}], \"scattercarpet\": [{\"marker\": {\"colorbar\": {\"outlinewidth\": 0, \"ticks\": \"\"}}, \"type\": \"scattercarpet\"}], \"scattergeo\": [{\"marker\": {\"colorbar\": {\"outlinewidth\": 0, \"ticks\": \"\"}}, \"type\": \"scattergeo\"}], \"scattergl\": [{\"marker\": {\"colorbar\": {\"outlinewidth\": 0, \"ticks\": \"\"}}, \"type\": \"scattergl\"}], \"scattermapbox\": [{\"marker\": {\"colorbar\": {\"outlinewidth\": 0, \"ticks\": \"\"}}, \"type\": \"scattermapbox\"}], \"scatterpolar\": [{\"marker\": {\"colorbar\": {\"outlinewidth\": 0, \"ticks\": \"\"}}, \"type\": \"scatterpolar\"}], \"scatterpolargl\": [{\"marker\": {\"colorbar\": {\"outlinewidth\": 0, \"ticks\": \"\"}}, \"type\": \"scatterpolargl\"}], \"scatterternary\": [{\"marker\": {\"colorbar\": {\"outlinewidth\": 0, \"ticks\": \"\"}}, \"type\": \"scatterternary\"}], \"surface\": [{\"colorbar\": {\"outlinewidth\": 0, \"ticks\": \"\"}, \"colorscale\": [[0.0, \"#0d0887\"], [0.1111111111111111, \"#46039f\"], [0.2222222222222222, \"#7201a8\"], [0.3333333333333333, \"#9c179e\"], [0.4444444444444444, \"#bd3786\"], [0.5555555555555556, \"#d8576b\"], [0.6666666666666666, \"#ed7953\"], [0.7777777777777778, \"#fb9f3a\"], [0.8888888888888888, \"#fdca26\"], [1.0, \"#f0f921\"]], \"type\": \"surface\"}], \"table\": [{\"cells\": {\"fill\": {\"color\": \"#EBF0F8\"}, \"line\": {\"color\": \"white\"}}, \"header\": {\"fill\": {\"color\": \"#C8D4E3\"}, \"line\": {\"color\": \"white\"}}, \"type\": \"table\"}]}, \"layout\": {\"annotationdefaults\": {\"arrowcolor\": \"#2a3f5f\", \"arrowhead\": 0, \"arrowwidth\": 1}, \"coloraxis\": {\"colorbar\": {\"outlinewidth\": 0, \"ticks\": \"\"}}, \"colorscale\": {\"diverging\": [[0, \"#8e0152\"], [0.1, \"#c51b7d\"], [0.2, \"#de77ae\"], [0.3, \"#f1b6da\"], [0.4, \"#fde0ef\"], [0.5, \"#f7f7f7\"], [0.6, \"#e6f5d0\"], [0.7, \"#b8e186\"], [0.8, \"#7fbc41\"], [0.9, \"#4d9221\"], [1, \"#276419\"]], \"sequential\": [[0.0, \"#0d0887\"], [0.1111111111111111, \"#46039f\"], [0.2222222222222222, \"#7201a8\"], [0.3333333333333333, \"#9c179e\"], [0.4444444444444444, \"#bd3786\"], [0.5555555555555556, \"#d8576b\"], [0.6666666666666666, \"#ed7953\"], [0.7777777777777778, \"#fb9f3a\"], [0.8888888888888888, \"#fdca26\"], [1.0, \"#f0f921\"]], \"sequentialminus\": [[0.0, \"#0d0887\"], [0.1111111111111111, \"#46039f\"], [0.2222222222222222, \"#7201a8\"], [0.3333333333333333, \"#9c179e\"], [0.4444444444444444, \"#bd3786\"], [0.5555555555555556, \"#d8576b\"], [0.6666666666666666, \"#ed7953\"], [0.7777777777777778, \"#fb9f3a\"], [0.8888888888888888, \"#fdca26\"], [1.0, \"#f0f921\"]]}, \"colorway\": [\"#636efa\", \"#EF553B\", \"#00cc96\", \"#ab63fa\", \"#FFA15A\", \"#19d3f3\", \"#FF6692\", \"#B6E880\", \"#FF97FF\", \"#FECB52\"], \"font\": {\"color\": \"#2a3f5f\"}, \"geo\": {\"bgcolor\": \"white\", \"lakecolor\": \"white\", \"landcolor\": \"#E5ECF6\", \"showlakes\": true, \"showland\": true, \"subunitcolor\": \"white\"}, \"hoverlabel\": {\"align\": \"left\"}, \"hovermode\": \"closest\", \"mapbox\": {\"style\": \"light\"}, \"paper_bgcolor\": \"white\", \"plot_bgcolor\": \"#E5ECF6\", \"polar\": {\"angularaxis\": {\"gridcolor\": \"white\", \"linecolor\": \"white\", \"ticks\": \"\"}, \"bgcolor\": \"#E5ECF6\", \"radialaxis\": {\"gridcolor\": \"white\", \"linecolor\": \"white\", \"ticks\": \"\"}}, \"scene\": {\"xaxis\": {\"backgroundcolor\": \"#E5ECF6\", \"gridcolor\": \"white\", \"gridwidth\": 2, \"linecolor\": \"white\", \"showbackground\": true, \"ticks\": \"\", \"zerolinecolor\": \"white\"}, \"yaxis\": {\"backgroundcolor\": \"#E5ECF6\", \"gridcolor\": \"white\", \"gridwidth\": 2, \"linecolor\": \"white\", \"showbackground\": true, \"ticks\": \"\", \"zerolinecolor\": \"white\"}, \"zaxis\": {\"backgroundcolor\": \"#E5ECF6\", \"gridcolor\": \"white\", \"gridwidth\": 2, \"linecolor\": \"white\", \"showbackground\": true, \"ticks\": \"\", \"zerolinecolor\": \"white\"}}, \"shapedefaults\": {\"line\": {\"color\": \"#2a3f5f\"}}, \"ternary\": {\"aaxis\": {\"gridcolor\": \"white\", \"linecolor\": \"white\", \"ticks\": \"\"}, \"baxis\": {\"gridcolor\": \"white\", \"linecolor\": \"white\", \"ticks\": \"\"}, \"bgcolor\": \"#E5ECF6\", \"caxis\": {\"gridcolor\": \"white\", \"linecolor\": \"white\", \"ticks\": \"\"}}, \"title\": {\"x\": 0.05}, \"xaxis\": {\"automargin\": true, \"gridcolor\": \"white\", \"linecolor\": \"white\", \"ticks\": \"\", \"title\": {\"standoff\": 15}, \"zerolinecolor\": \"white\", \"zerolinewidth\": 2}, \"yaxis\": {\"automargin\": true, \"gridcolor\": \"white\", \"linecolor\": \"white\", \"ticks\": \"\", \"title\": {\"standoff\": 15}, \"zerolinecolor\": \"white\", \"zerolinewidth\": 2}}}, \"width\": 600, \"yaxis\": {\"scaleanchor\": \"x\", \"scaleratio\": 1}},\n",
       "                        {\"responsive\": true}\n",
       "                    ).then(function(){\n",
       "                            \n",
       "var gd = document.getElementById('95872db3-b873-4c15-a771-dc0903cd76fe');\n",
       "var x = new MutationObserver(function (mutations, observer) {{\n",
       "        var display = window.getComputedStyle(gd).display;\n",
       "        if (!display || display === 'none') {{\n",
       "            console.log([gd, 'removed!']);\n",
       "            Plotly.purge(gd);\n",
       "            observer.disconnect();\n",
       "        }}\n",
       "}});\n",
       "\n",
       "// Listen for the removal of the full notebook cells\n",
       "var notebookContainer = gd.closest('#notebook-container');\n",
       "if (notebookContainer) {{\n",
       "    x.observe(notebookContainer, {childList: true});\n",
       "}}\n",
       "\n",
       "// Listen for the clearing of the current output cell\n",
       "var outputEl = gd.closest('.output');\n",
       "if (outputEl) {{\n",
       "    x.observe(outputEl, {childList: true});\n",
       "}}\n",
       "\n",
       "                        })\n",
       "                };\n",
       "                });\n",
       "            </script>\n",
       "        </div>"
      ]
     },
     "metadata": {},
     "output_type": "display_data"
    }
   ],
   "source": [
    "# 2 outlier points\n",
    "np.random.seed(2020)\n",
    "\n",
    "# two clusters of points\n",
    "X = np.r_[np.random.rand(10, 2)/2 + [-0.6, 0.1], \n",
    "          np.random.rand(10, 2)/2 + [0.1, -0.6]]\n",
    "\n",
    "y = np.zeros(X.shape[0])\n",
    "\n",
    "# initialize labels\n",
    "for i in range(0,X.shape[0]):\n",
    "    y[i] = labels_line(X[i,:])\n",
    "\n",
    "# creating two outliers\n",
    "X[0,:] = np.array([0.5, 0])\n",
    "y[0] = -1\n",
    "X[1,:] = np.array([-0.5, 0])\n",
    "y[1] = 1\n",
    "\n",
    "# plot the points\n",
    "fig = go.Figure()\n",
    "fig.add_trace(go.Scatter(x=X[:, 0], y=X[:, 1],\n",
    "              mode='markers', name='Data', \n",
    "              marker = dict(color=y, colorscale=\"RdBu\", size=10)))\n",
    "fig.update_layout(width=600,\n",
    "                  yaxis = dict(scaleanchor = \"x\", scaleratio = 1))  \n",
    "fig.show()"
   ]
  },
  {
   "cell_type": "code",
   "execution_count": 46,
   "metadata": {},
   "outputs": [],
   "source": [
    "save_figure_to_file(fig,'../Slides/scikitlearn','svm5')"
   ]
  },
  {
   "cell_type": "code",
   "execution_count": 47,
   "metadata": {
    "colab": {
     "base_uri": "https://localhost:8080/",
     "height": 542
    },
    "colab_type": "code",
    "id": "TAq8O922_nL6",
    "outputId": "f152e0b0-92e8-4e93-c104-6770624091c1"
   },
   "outputs": [
    {
     "data": {
      "application/vnd.plotly.v1+json": {
       "config": {
        "plotlyServerURL": "https://plot.ly"
       },
       "data": [
        {
         "marker": {
          "color": [
           -1,
           1,
           -1,
           -1,
           -1,
           -1,
           -1,
           -1,
           -1,
           -1,
           1,
           1,
           1,
           1,
           1,
           1,
           1,
           1,
           1,
           1
          ],
          "colorscale": [
           [
            0,
            "rgb(103,0,31)"
           ],
           [
            0.1,
            "rgb(178,24,43)"
           ],
           [
            0.2,
            "rgb(214,96,77)"
           ],
           [
            0.3,
            "rgb(244,165,130)"
           ],
           [
            0.4,
            "rgb(253,219,199)"
           ],
           [
            0.5,
            "rgb(247,247,247)"
           ],
           [
            0.6,
            "rgb(209,229,240)"
           ],
           [
            0.7,
            "rgb(146,197,222)"
           ],
           [
            0.8,
            "rgb(67,147,195)"
           ],
           [
            0.9,
            "rgb(33,102,172)"
           ],
           [
            1,
            "rgb(5,48,97)"
           ]
          ],
          "size": 10
         },
         "mode": "markers",
         "name": "Data",
         "type": "scatter",
         "x": [
          0.5,
          -0.5,
          -0.4315406361270182,
          -0.4617614284231002,
          -0.16892053227007353,
          -0.5295563775737924,
          -0.23183754092319586,
          -0.42945349174431197,
          -0.49144968062295297,
          -0.5379106111371351,
          0.5766069365853674,
          0.3847065484401654,
          0.3516835304801391,
          0.11709574900719513,
          0.17792568139102968,
          0.1848512192012097,
          0.28669687883580186,
          0.5291582939589509,
          0.39173084886622345,
          0.1888963100948403
         ],
         "y": [
          0,
          0,
          0.20847713250846214,
          0.27165779638972876,
          0.1783498350047443,
          0.4785401403203442,
          0.2778315458178908,
          0.4334015252766632,
          0.3807134912164687,
          0.25986824222676397,
          -0.5313216046011098,
          -0.11216725853839699,
          -0.266167896925947,
          -0.3719403168447851,
          -0.361975516750565,
          -0.15187083137991447,
          -0.4101535347626241,
          -0.2769694725576214,
          -0.2658249865805824,
          -0.17537599159106854
         ]
        },
        {
         "mode": "lines",
         "name": "Decision line",
         "type": "scatter",
         "x": [
          -1,
          1
         ],
         "y": [
          0.26668050531303217,
          -0.18086624992640216
         ]
        },
        {
         "line": {
          "dash": "dash"
         },
         "mode": "lines",
         "name": "Support line",
         "type": "scatter",
         "x": [
          -1,
          1
         ],
         "y": [
          0.3356754983728446,
          -0.11187125686658973
         ]
        },
        {
         "line": {
          "dash": "dash"
         },
         "mode": "lines",
         "name": "Support line",
         "type": "scatter",
         "x": [
          -1,
          1
         ],
         "y": [
          0.1976855122532198,
          -0.24986124298621454
         ]
        }
       ],
       "layout": {
        "template": {
         "data": {
          "bar": [
           {
            "error_x": {
             "color": "#2a3f5f"
            },
            "error_y": {
             "color": "#2a3f5f"
            },
            "marker": {
             "line": {
              "color": "#E5ECF6",
              "width": 0.5
             }
            },
            "type": "bar"
           }
          ],
          "barpolar": [
           {
            "marker": {
             "line": {
              "color": "#E5ECF6",
              "width": 0.5
             }
            },
            "type": "barpolar"
           }
          ],
          "carpet": [
           {
            "aaxis": {
             "endlinecolor": "#2a3f5f",
             "gridcolor": "white",
             "linecolor": "white",
             "minorgridcolor": "white",
             "startlinecolor": "#2a3f5f"
            },
            "baxis": {
             "endlinecolor": "#2a3f5f",
             "gridcolor": "white",
             "linecolor": "white",
             "minorgridcolor": "white",
             "startlinecolor": "#2a3f5f"
            },
            "type": "carpet"
           }
          ],
          "choropleth": [
           {
            "colorbar": {
             "outlinewidth": 0,
             "ticks": ""
            },
            "type": "choropleth"
           }
          ],
          "contour": [
           {
            "colorbar": {
             "outlinewidth": 0,
             "ticks": ""
            },
            "colorscale": [
             [
              0,
              "#0d0887"
             ],
             [
              0.1111111111111111,
              "#46039f"
             ],
             [
              0.2222222222222222,
              "#7201a8"
             ],
             [
              0.3333333333333333,
              "#9c179e"
             ],
             [
              0.4444444444444444,
              "#bd3786"
             ],
             [
              0.5555555555555556,
              "#d8576b"
             ],
             [
              0.6666666666666666,
              "#ed7953"
             ],
             [
              0.7777777777777778,
              "#fb9f3a"
             ],
             [
              0.8888888888888888,
              "#fdca26"
             ],
             [
              1,
              "#f0f921"
             ]
            ],
            "type": "contour"
           }
          ],
          "contourcarpet": [
           {
            "colorbar": {
             "outlinewidth": 0,
             "ticks": ""
            },
            "type": "contourcarpet"
           }
          ],
          "heatmap": [
           {
            "colorbar": {
             "outlinewidth": 0,
             "ticks": ""
            },
            "colorscale": [
             [
              0,
              "#0d0887"
             ],
             [
              0.1111111111111111,
              "#46039f"
             ],
             [
              0.2222222222222222,
              "#7201a8"
             ],
             [
              0.3333333333333333,
              "#9c179e"
             ],
             [
              0.4444444444444444,
              "#bd3786"
             ],
             [
              0.5555555555555556,
              "#d8576b"
             ],
             [
              0.6666666666666666,
              "#ed7953"
             ],
             [
              0.7777777777777778,
              "#fb9f3a"
             ],
             [
              0.8888888888888888,
              "#fdca26"
             ],
             [
              1,
              "#f0f921"
             ]
            ],
            "type": "heatmap"
           }
          ],
          "heatmapgl": [
           {
            "colorbar": {
             "outlinewidth": 0,
             "ticks": ""
            },
            "colorscale": [
             [
              0,
              "#0d0887"
             ],
             [
              0.1111111111111111,
              "#46039f"
             ],
             [
              0.2222222222222222,
              "#7201a8"
             ],
             [
              0.3333333333333333,
              "#9c179e"
             ],
             [
              0.4444444444444444,
              "#bd3786"
             ],
             [
              0.5555555555555556,
              "#d8576b"
             ],
             [
              0.6666666666666666,
              "#ed7953"
             ],
             [
              0.7777777777777778,
              "#fb9f3a"
             ],
             [
              0.8888888888888888,
              "#fdca26"
             ],
             [
              1,
              "#f0f921"
             ]
            ],
            "type": "heatmapgl"
           }
          ],
          "histogram": [
           {
            "marker": {
             "colorbar": {
              "outlinewidth": 0,
              "ticks": ""
             }
            },
            "type": "histogram"
           }
          ],
          "histogram2d": [
           {
            "colorbar": {
             "outlinewidth": 0,
             "ticks": ""
            },
            "colorscale": [
             [
              0,
              "#0d0887"
             ],
             [
              0.1111111111111111,
              "#46039f"
             ],
             [
              0.2222222222222222,
              "#7201a8"
             ],
             [
              0.3333333333333333,
              "#9c179e"
             ],
             [
              0.4444444444444444,
              "#bd3786"
             ],
             [
              0.5555555555555556,
              "#d8576b"
             ],
             [
              0.6666666666666666,
              "#ed7953"
             ],
             [
              0.7777777777777778,
              "#fb9f3a"
             ],
             [
              0.8888888888888888,
              "#fdca26"
             ],
             [
              1,
              "#f0f921"
             ]
            ],
            "type": "histogram2d"
           }
          ],
          "histogram2dcontour": [
           {
            "colorbar": {
             "outlinewidth": 0,
             "ticks": ""
            },
            "colorscale": [
             [
              0,
              "#0d0887"
             ],
             [
              0.1111111111111111,
              "#46039f"
             ],
             [
              0.2222222222222222,
              "#7201a8"
             ],
             [
              0.3333333333333333,
              "#9c179e"
             ],
             [
              0.4444444444444444,
              "#bd3786"
             ],
             [
              0.5555555555555556,
              "#d8576b"
             ],
             [
              0.6666666666666666,
              "#ed7953"
             ],
             [
              0.7777777777777778,
              "#fb9f3a"
             ],
             [
              0.8888888888888888,
              "#fdca26"
             ],
             [
              1,
              "#f0f921"
             ]
            ],
            "type": "histogram2dcontour"
           }
          ],
          "mesh3d": [
           {
            "colorbar": {
             "outlinewidth": 0,
             "ticks": ""
            },
            "type": "mesh3d"
           }
          ],
          "parcoords": [
           {
            "line": {
             "colorbar": {
              "outlinewidth": 0,
              "ticks": ""
             }
            },
            "type": "parcoords"
           }
          ],
          "pie": [
           {
            "automargin": true,
            "type": "pie"
           }
          ],
          "scatter": [
           {
            "marker": {
             "colorbar": {
              "outlinewidth": 0,
              "ticks": ""
             }
            },
            "type": "scatter"
           }
          ],
          "scatter3d": [
           {
            "line": {
             "colorbar": {
              "outlinewidth": 0,
              "ticks": ""
             }
            },
            "marker": {
             "colorbar": {
              "outlinewidth": 0,
              "ticks": ""
             }
            },
            "type": "scatter3d"
           }
          ],
          "scattercarpet": [
           {
            "marker": {
             "colorbar": {
              "outlinewidth": 0,
              "ticks": ""
             }
            },
            "type": "scattercarpet"
           }
          ],
          "scattergeo": [
           {
            "marker": {
             "colorbar": {
              "outlinewidth": 0,
              "ticks": ""
             }
            },
            "type": "scattergeo"
           }
          ],
          "scattergl": [
           {
            "marker": {
             "colorbar": {
              "outlinewidth": 0,
              "ticks": ""
             }
            },
            "type": "scattergl"
           }
          ],
          "scattermapbox": [
           {
            "marker": {
             "colorbar": {
              "outlinewidth": 0,
              "ticks": ""
             }
            },
            "type": "scattermapbox"
           }
          ],
          "scatterpolar": [
           {
            "marker": {
             "colorbar": {
              "outlinewidth": 0,
              "ticks": ""
             }
            },
            "type": "scatterpolar"
           }
          ],
          "scatterpolargl": [
           {
            "marker": {
             "colorbar": {
              "outlinewidth": 0,
              "ticks": ""
             }
            },
            "type": "scatterpolargl"
           }
          ],
          "scatterternary": [
           {
            "marker": {
             "colorbar": {
              "outlinewidth": 0,
              "ticks": ""
             }
            },
            "type": "scatterternary"
           }
          ],
          "surface": [
           {
            "colorbar": {
             "outlinewidth": 0,
             "ticks": ""
            },
            "colorscale": [
             [
              0,
              "#0d0887"
             ],
             [
              0.1111111111111111,
              "#46039f"
             ],
             [
              0.2222222222222222,
              "#7201a8"
             ],
             [
              0.3333333333333333,
              "#9c179e"
             ],
             [
              0.4444444444444444,
              "#bd3786"
             ],
             [
              0.5555555555555556,
              "#d8576b"
             ],
             [
              0.6666666666666666,
              "#ed7953"
             ],
             [
              0.7777777777777778,
              "#fb9f3a"
             ],
             [
              0.8888888888888888,
              "#fdca26"
             ],
             [
              1,
              "#f0f921"
             ]
            ],
            "type": "surface"
           }
          ],
          "table": [
           {
            "cells": {
             "fill": {
              "color": "#EBF0F8"
             },
             "line": {
              "color": "white"
             }
            },
            "header": {
             "fill": {
              "color": "#C8D4E3"
             },
             "line": {
              "color": "white"
             }
            },
            "type": "table"
           }
          ]
         },
         "layout": {
          "annotationdefaults": {
           "arrowcolor": "#2a3f5f",
           "arrowhead": 0,
           "arrowwidth": 1
          },
          "coloraxis": {
           "colorbar": {
            "outlinewidth": 0,
            "ticks": ""
           }
          },
          "colorscale": {
           "diverging": [
            [
             0,
             "#8e0152"
            ],
            [
             0.1,
             "#c51b7d"
            ],
            [
             0.2,
             "#de77ae"
            ],
            [
             0.3,
             "#f1b6da"
            ],
            [
             0.4,
             "#fde0ef"
            ],
            [
             0.5,
             "#f7f7f7"
            ],
            [
             0.6,
             "#e6f5d0"
            ],
            [
             0.7,
             "#b8e186"
            ],
            [
             0.8,
             "#7fbc41"
            ],
            [
             0.9,
             "#4d9221"
            ],
            [
             1,
             "#276419"
            ]
           ],
           "sequential": [
            [
             0,
             "#0d0887"
            ],
            [
             0.1111111111111111,
             "#46039f"
            ],
            [
             0.2222222222222222,
             "#7201a8"
            ],
            [
             0.3333333333333333,
             "#9c179e"
            ],
            [
             0.4444444444444444,
             "#bd3786"
            ],
            [
             0.5555555555555556,
             "#d8576b"
            ],
            [
             0.6666666666666666,
             "#ed7953"
            ],
            [
             0.7777777777777778,
             "#fb9f3a"
            ],
            [
             0.8888888888888888,
             "#fdca26"
            ],
            [
             1,
             "#f0f921"
            ]
           ],
           "sequentialminus": [
            [
             0,
             "#0d0887"
            ],
            [
             0.1111111111111111,
             "#46039f"
            ],
            [
             0.2222222222222222,
             "#7201a8"
            ],
            [
             0.3333333333333333,
             "#9c179e"
            ],
            [
             0.4444444444444444,
             "#bd3786"
            ],
            [
             0.5555555555555556,
             "#d8576b"
            ],
            [
             0.6666666666666666,
             "#ed7953"
            ],
            [
             0.7777777777777778,
             "#fb9f3a"
            ],
            [
             0.8888888888888888,
             "#fdca26"
            ],
            [
             1,
             "#f0f921"
            ]
           ]
          },
          "colorway": [
           "#636efa",
           "#EF553B",
           "#00cc96",
           "#ab63fa",
           "#FFA15A",
           "#19d3f3",
           "#FF6692",
           "#B6E880",
           "#FF97FF",
           "#FECB52"
          ],
          "font": {
           "color": "#2a3f5f"
          },
          "geo": {
           "bgcolor": "white",
           "lakecolor": "white",
           "landcolor": "#E5ECF6",
           "showlakes": true,
           "showland": true,
           "subunitcolor": "white"
          },
          "hoverlabel": {
           "align": "left"
          },
          "hovermode": "closest",
          "mapbox": {
           "style": "light"
          },
          "paper_bgcolor": "white",
          "plot_bgcolor": "#E5ECF6",
          "polar": {
           "angularaxis": {
            "gridcolor": "white",
            "linecolor": "white",
            "ticks": ""
           },
           "bgcolor": "#E5ECF6",
           "radialaxis": {
            "gridcolor": "white",
            "linecolor": "white",
            "ticks": ""
           }
          },
          "scene": {
           "xaxis": {
            "backgroundcolor": "#E5ECF6",
            "gridcolor": "white",
            "gridwidth": 2,
            "linecolor": "white",
            "showbackground": true,
            "ticks": "",
            "zerolinecolor": "white"
           },
           "yaxis": {
            "backgroundcolor": "#E5ECF6",
            "gridcolor": "white",
            "gridwidth": 2,
            "linecolor": "white",
            "showbackground": true,
            "ticks": "",
            "zerolinecolor": "white"
           },
           "zaxis": {
            "backgroundcolor": "#E5ECF6",
            "gridcolor": "white",
            "gridwidth": 2,
            "linecolor": "white",
            "showbackground": true,
            "ticks": "",
            "zerolinecolor": "white"
           }
          },
          "shapedefaults": {
           "line": {
            "color": "#2a3f5f"
           }
          },
          "ternary": {
           "aaxis": {
            "gridcolor": "white",
            "linecolor": "white",
            "ticks": ""
           },
           "baxis": {
            "gridcolor": "white",
            "linecolor": "white",
            "ticks": ""
           },
           "bgcolor": "#E5ECF6",
           "caxis": {
            "gridcolor": "white",
            "linecolor": "white",
            "ticks": ""
           }
          },
          "title": {
           "x": 0.05
          },
          "xaxis": {
           "automargin": true,
           "gridcolor": "white",
           "linecolor": "white",
           "ticks": "",
           "title": {
            "standoff": 15
           },
           "zerolinecolor": "white",
           "zerolinewidth": 2
          },
          "yaxis": {
           "automargin": true,
           "gridcolor": "white",
           "linecolor": "white",
           "ticks": "",
           "title": {
            "standoff": 15
           },
           "zerolinecolor": "white",
           "zerolinewidth": 2
          }
         }
        },
        "title": {
         "text": "C=10^4"
        },
        "width": 600
       }
      },
      "text/html": [
       "<div>\n",
       "        \n",
       "        \n",
       "            <div id=\"4d0727da-4b06-469f-8418-c97c7c9751ea\" class=\"plotly-graph-div\" style=\"height:525px; width:600px;\"></div>\n",
       "            <script type=\"text/javascript\">\n",
       "                require([\"plotly\"], function(Plotly) {\n",
       "                    window.PLOTLYENV=window.PLOTLYENV || {};\n",
       "                    \n",
       "                if (document.getElementById(\"4d0727da-4b06-469f-8418-c97c7c9751ea\")) {\n",
       "                    Plotly.newPlot(\n",
       "                        '4d0727da-4b06-469f-8418-c97c7c9751ea',\n",
       "                        [{\"marker\": {\"color\": [-1.0, 1.0, -1.0, -1.0, -1.0, -1.0, -1.0, -1.0, -1.0, -1.0, 1.0, 1.0, 1.0, 1.0, 1.0, 1.0, 1.0, 1.0, 1.0, 1.0], \"colorscale\": [[0.0, \"rgb(103,0,31)\"], [0.1, \"rgb(178,24,43)\"], [0.2, \"rgb(214,96,77)\"], [0.3, \"rgb(244,165,130)\"], [0.4, \"rgb(253,219,199)\"], [0.5, \"rgb(247,247,247)\"], [0.6, \"rgb(209,229,240)\"], [0.7, \"rgb(146,197,222)\"], [0.8, \"rgb(67,147,195)\"], [0.9, \"rgb(33,102,172)\"], [1.0, \"rgb(5,48,97)\"]], \"size\": 10}, \"mode\": \"markers\", \"name\": \"Data\", \"type\": \"scatter\", \"x\": [0.5, -0.5, -0.4315406361270182, -0.4617614284231002, -0.16892053227007353, -0.5295563775737924, -0.23183754092319586, -0.42945349174431197, -0.49144968062295297, -0.5379106111371351, 0.5766069365853674, 0.3847065484401654, 0.3516835304801391, 0.11709574900719513, 0.17792568139102968, 0.1848512192012097, 0.28669687883580186, 0.5291582939589509, 0.39173084886622345, 0.1888963100948403], \"y\": [0.0, 0.0, 0.20847713250846214, 0.27165779638972876, 0.1783498350047443, 0.4785401403203442, 0.2778315458178908, 0.4334015252766632, 0.3807134912164687, 0.25986824222676397, -0.5313216046011098, -0.11216725853839699, -0.266167896925947, -0.3719403168447851, -0.361975516750565, -0.15187083137991447, -0.4101535347626241, -0.2769694725576214, -0.2658249865805824, -0.17537599159106854]}, {\"mode\": \"lines\", \"name\": \"Decision line\", \"type\": \"scatter\", \"x\": [-1.0, 1.0], \"y\": [0.26668050531303217, -0.18086624992640216]}, {\"line\": {\"dash\": \"dash\"}, \"mode\": \"lines\", \"name\": \"Support line\", \"type\": \"scatter\", \"x\": [-1.0, 1.0], \"y\": [0.3356754983728446, -0.11187125686658973]}, {\"line\": {\"dash\": \"dash\"}, \"mode\": \"lines\", \"name\": \"Support line\", \"type\": \"scatter\", \"x\": [-1.0, 1.0], \"y\": [0.1976855122532198, -0.24986124298621454]}],\n",
       "                        {\"template\": {\"data\": {\"bar\": [{\"error_x\": {\"color\": \"#2a3f5f\"}, \"error_y\": {\"color\": \"#2a3f5f\"}, \"marker\": {\"line\": {\"color\": \"#E5ECF6\", \"width\": 0.5}}, \"type\": \"bar\"}], \"barpolar\": [{\"marker\": {\"line\": {\"color\": \"#E5ECF6\", \"width\": 0.5}}, \"type\": \"barpolar\"}], \"carpet\": [{\"aaxis\": {\"endlinecolor\": \"#2a3f5f\", \"gridcolor\": \"white\", \"linecolor\": \"white\", \"minorgridcolor\": \"white\", \"startlinecolor\": \"#2a3f5f\"}, \"baxis\": {\"endlinecolor\": \"#2a3f5f\", \"gridcolor\": \"white\", \"linecolor\": \"white\", \"minorgridcolor\": \"white\", \"startlinecolor\": \"#2a3f5f\"}, \"type\": \"carpet\"}], \"choropleth\": [{\"colorbar\": {\"outlinewidth\": 0, \"ticks\": \"\"}, \"type\": \"choropleth\"}], \"contour\": [{\"colorbar\": {\"outlinewidth\": 0, \"ticks\": \"\"}, \"colorscale\": [[0.0, \"#0d0887\"], [0.1111111111111111, \"#46039f\"], [0.2222222222222222, \"#7201a8\"], [0.3333333333333333, \"#9c179e\"], [0.4444444444444444, \"#bd3786\"], [0.5555555555555556, \"#d8576b\"], [0.6666666666666666, \"#ed7953\"], [0.7777777777777778, \"#fb9f3a\"], [0.8888888888888888, \"#fdca26\"], [1.0, \"#f0f921\"]], \"type\": \"contour\"}], \"contourcarpet\": [{\"colorbar\": {\"outlinewidth\": 0, \"ticks\": \"\"}, \"type\": \"contourcarpet\"}], \"heatmap\": [{\"colorbar\": {\"outlinewidth\": 0, \"ticks\": \"\"}, \"colorscale\": [[0.0, \"#0d0887\"], [0.1111111111111111, \"#46039f\"], [0.2222222222222222, \"#7201a8\"], [0.3333333333333333, \"#9c179e\"], [0.4444444444444444, \"#bd3786\"], [0.5555555555555556, \"#d8576b\"], [0.6666666666666666, \"#ed7953\"], [0.7777777777777778, \"#fb9f3a\"], [0.8888888888888888, \"#fdca26\"], [1.0, \"#f0f921\"]], \"type\": \"heatmap\"}], \"heatmapgl\": [{\"colorbar\": {\"outlinewidth\": 0, \"ticks\": \"\"}, \"colorscale\": [[0.0, \"#0d0887\"], [0.1111111111111111, \"#46039f\"], [0.2222222222222222, \"#7201a8\"], [0.3333333333333333, \"#9c179e\"], [0.4444444444444444, \"#bd3786\"], [0.5555555555555556, \"#d8576b\"], [0.6666666666666666, \"#ed7953\"], [0.7777777777777778, \"#fb9f3a\"], [0.8888888888888888, \"#fdca26\"], [1.0, \"#f0f921\"]], \"type\": \"heatmapgl\"}], \"histogram\": [{\"marker\": {\"colorbar\": {\"outlinewidth\": 0, \"ticks\": \"\"}}, \"type\": \"histogram\"}], \"histogram2d\": [{\"colorbar\": {\"outlinewidth\": 0, \"ticks\": \"\"}, \"colorscale\": [[0.0, \"#0d0887\"], [0.1111111111111111, \"#46039f\"], [0.2222222222222222, \"#7201a8\"], [0.3333333333333333, \"#9c179e\"], [0.4444444444444444, \"#bd3786\"], [0.5555555555555556, \"#d8576b\"], [0.6666666666666666, \"#ed7953\"], [0.7777777777777778, \"#fb9f3a\"], [0.8888888888888888, \"#fdca26\"], [1.0, \"#f0f921\"]], \"type\": \"histogram2d\"}], \"histogram2dcontour\": [{\"colorbar\": {\"outlinewidth\": 0, \"ticks\": \"\"}, \"colorscale\": [[0.0, \"#0d0887\"], [0.1111111111111111, \"#46039f\"], [0.2222222222222222, \"#7201a8\"], [0.3333333333333333, \"#9c179e\"], [0.4444444444444444, \"#bd3786\"], [0.5555555555555556, \"#d8576b\"], [0.6666666666666666, \"#ed7953\"], [0.7777777777777778, \"#fb9f3a\"], [0.8888888888888888, \"#fdca26\"], [1.0, \"#f0f921\"]], \"type\": \"histogram2dcontour\"}], \"mesh3d\": [{\"colorbar\": {\"outlinewidth\": 0, \"ticks\": \"\"}, \"type\": \"mesh3d\"}], \"parcoords\": [{\"line\": {\"colorbar\": {\"outlinewidth\": 0, \"ticks\": \"\"}}, \"type\": \"parcoords\"}], \"pie\": [{\"automargin\": true, \"type\": \"pie\"}], \"scatter\": [{\"marker\": {\"colorbar\": {\"outlinewidth\": 0, \"ticks\": \"\"}}, \"type\": \"scatter\"}], \"scatter3d\": [{\"line\": {\"colorbar\": {\"outlinewidth\": 0, \"ticks\": \"\"}}, \"marker\": {\"colorbar\": {\"outlinewidth\": 0, \"ticks\": \"\"}}, \"type\": \"scatter3d\"}], \"scattercarpet\": [{\"marker\": {\"colorbar\": {\"outlinewidth\": 0, \"ticks\": \"\"}}, \"type\": \"scattercarpet\"}], \"scattergeo\": [{\"marker\": {\"colorbar\": {\"outlinewidth\": 0, \"ticks\": \"\"}}, \"type\": \"scattergeo\"}], \"scattergl\": [{\"marker\": {\"colorbar\": {\"outlinewidth\": 0, \"ticks\": \"\"}}, \"type\": \"scattergl\"}], \"scattermapbox\": [{\"marker\": {\"colorbar\": {\"outlinewidth\": 0, \"ticks\": \"\"}}, \"type\": \"scattermapbox\"}], \"scatterpolar\": [{\"marker\": {\"colorbar\": {\"outlinewidth\": 0, \"ticks\": \"\"}}, \"type\": \"scatterpolar\"}], \"scatterpolargl\": [{\"marker\": {\"colorbar\": {\"outlinewidth\": 0, \"ticks\": \"\"}}, \"type\": \"scatterpolargl\"}], \"scatterternary\": [{\"marker\": {\"colorbar\": {\"outlinewidth\": 0, \"ticks\": \"\"}}, \"type\": \"scatterternary\"}], \"surface\": [{\"colorbar\": {\"outlinewidth\": 0, \"ticks\": \"\"}, \"colorscale\": [[0.0, \"#0d0887\"], [0.1111111111111111, \"#46039f\"], [0.2222222222222222, \"#7201a8\"], [0.3333333333333333, \"#9c179e\"], [0.4444444444444444, \"#bd3786\"], [0.5555555555555556, \"#d8576b\"], [0.6666666666666666, \"#ed7953\"], [0.7777777777777778, \"#fb9f3a\"], [0.8888888888888888, \"#fdca26\"], [1.0, \"#f0f921\"]], \"type\": \"surface\"}], \"table\": [{\"cells\": {\"fill\": {\"color\": \"#EBF0F8\"}, \"line\": {\"color\": \"white\"}}, \"header\": {\"fill\": {\"color\": \"#C8D4E3\"}, \"line\": {\"color\": \"white\"}}, \"type\": \"table\"}]}, \"layout\": {\"annotationdefaults\": {\"arrowcolor\": \"#2a3f5f\", \"arrowhead\": 0, \"arrowwidth\": 1}, \"coloraxis\": {\"colorbar\": {\"outlinewidth\": 0, \"ticks\": \"\"}}, \"colorscale\": {\"diverging\": [[0, \"#8e0152\"], [0.1, \"#c51b7d\"], [0.2, \"#de77ae\"], [0.3, \"#f1b6da\"], [0.4, \"#fde0ef\"], [0.5, \"#f7f7f7\"], [0.6, \"#e6f5d0\"], [0.7, \"#b8e186\"], [0.8, \"#7fbc41\"], [0.9, \"#4d9221\"], [1, \"#276419\"]], \"sequential\": [[0.0, \"#0d0887\"], [0.1111111111111111, \"#46039f\"], [0.2222222222222222, \"#7201a8\"], [0.3333333333333333, \"#9c179e\"], [0.4444444444444444, \"#bd3786\"], [0.5555555555555556, \"#d8576b\"], [0.6666666666666666, \"#ed7953\"], [0.7777777777777778, \"#fb9f3a\"], [0.8888888888888888, \"#fdca26\"], [1.0, \"#f0f921\"]], \"sequentialminus\": [[0.0, \"#0d0887\"], [0.1111111111111111, \"#46039f\"], [0.2222222222222222, \"#7201a8\"], [0.3333333333333333, \"#9c179e\"], [0.4444444444444444, \"#bd3786\"], [0.5555555555555556, \"#d8576b\"], [0.6666666666666666, \"#ed7953\"], [0.7777777777777778, \"#fb9f3a\"], [0.8888888888888888, \"#fdca26\"], [1.0, \"#f0f921\"]]}, \"colorway\": [\"#636efa\", \"#EF553B\", \"#00cc96\", \"#ab63fa\", \"#FFA15A\", \"#19d3f3\", \"#FF6692\", \"#B6E880\", \"#FF97FF\", \"#FECB52\"], \"font\": {\"color\": \"#2a3f5f\"}, \"geo\": {\"bgcolor\": \"white\", \"lakecolor\": \"white\", \"landcolor\": \"#E5ECF6\", \"showlakes\": true, \"showland\": true, \"subunitcolor\": \"white\"}, \"hoverlabel\": {\"align\": \"left\"}, \"hovermode\": \"closest\", \"mapbox\": {\"style\": \"light\"}, \"paper_bgcolor\": \"white\", \"plot_bgcolor\": \"#E5ECF6\", \"polar\": {\"angularaxis\": {\"gridcolor\": \"white\", \"linecolor\": \"white\", \"ticks\": \"\"}, \"bgcolor\": \"#E5ECF6\", \"radialaxis\": {\"gridcolor\": \"white\", \"linecolor\": \"white\", \"ticks\": \"\"}}, \"scene\": {\"xaxis\": {\"backgroundcolor\": \"#E5ECF6\", \"gridcolor\": \"white\", \"gridwidth\": 2, \"linecolor\": \"white\", \"showbackground\": true, \"ticks\": \"\", \"zerolinecolor\": \"white\"}, \"yaxis\": {\"backgroundcolor\": \"#E5ECF6\", \"gridcolor\": \"white\", \"gridwidth\": 2, \"linecolor\": \"white\", \"showbackground\": true, \"ticks\": \"\", \"zerolinecolor\": \"white\"}, \"zaxis\": {\"backgroundcolor\": \"#E5ECF6\", \"gridcolor\": \"white\", \"gridwidth\": 2, \"linecolor\": \"white\", \"showbackground\": true, \"ticks\": \"\", \"zerolinecolor\": \"white\"}}, \"shapedefaults\": {\"line\": {\"color\": \"#2a3f5f\"}}, \"ternary\": {\"aaxis\": {\"gridcolor\": \"white\", \"linecolor\": \"white\", \"ticks\": \"\"}, \"baxis\": {\"gridcolor\": \"white\", \"linecolor\": \"white\", \"ticks\": \"\"}, \"bgcolor\": \"#E5ECF6\", \"caxis\": {\"gridcolor\": \"white\", \"linecolor\": \"white\", \"ticks\": \"\"}}, \"title\": {\"x\": 0.05}, \"xaxis\": {\"automargin\": true, \"gridcolor\": \"white\", \"linecolor\": \"white\", \"ticks\": \"\", \"title\": {\"standoff\": 15}, \"zerolinecolor\": \"white\", \"zerolinewidth\": 2}, \"yaxis\": {\"automargin\": true, \"gridcolor\": \"white\", \"linecolor\": \"white\", \"ticks\": \"\", \"title\": {\"standoff\": 15}, \"zerolinecolor\": \"white\", \"zerolinewidth\": 2}}}, \"title\": {\"text\": \"C=10^4\"}, \"width\": 600},\n",
       "                        {\"responsive\": true}\n",
       "                    ).then(function(){\n",
       "                            \n",
       "var gd = document.getElementById('4d0727da-4b06-469f-8418-c97c7c9751ea');\n",
       "var x = new MutationObserver(function (mutations, observer) {{\n",
       "        var display = window.getComputedStyle(gd).display;\n",
       "        if (!display || display === 'none') {{\n",
       "            console.log([gd, 'removed!']);\n",
       "            Plotly.purge(gd);\n",
       "            observer.disconnect();\n",
       "        }}\n",
       "}});\n",
       "\n",
       "// Listen for the removal of the full notebook cells\n",
       "var notebookContainer = gd.closest('#notebook-container');\n",
       "if (notebookContainer) {{\n",
       "    x.observe(notebookContainer, {childList: true});\n",
       "}}\n",
       "\n",
       "// Listen for the clearing of the current output cell\n",
       "var outputEl = gd.closest('.output');\n",
       "if (outputEl) {{\n",
       "    x.observe(outputEl, {childList: true});\n",
       "}}\n",
       "\n",
       "                        })\n",
       "                };\n",
       "                });\n",
       "            </script>\n",
       "        </div>"
      ]
     },
     "metadata": {},
     "output_type": "display_data"
    }
   ],
   "source": [
    "# 2 outlier points\n",
    "# Large value of C = overfit\n",
    "\n",
    "np.random.seed(2020)\n",
    "\n",
    "# two clusters of points\n",
    "X = np.r_[np.random.rand(10, 2)/2 + [-0.6, 0.1], \n",
    "          np.random.rand(10, 2)/2 + [0.1, -0.6]]\n",
    "\n",
    "y = np.zeros(X.shape[0])\n",
    "\n",
    "# initialize labels\n",
    "for i in range(0,X.shape[0]):\n",
    "    y[i] = labels_line(X[i,:])\n",
    "\n",
    "# creating two outliers\n",
    "X[0,:] = np.array([0.5, 0])\n",
    "y[0] = -1\n",
    "X[1,:] = np.array([-0.5, 0])\n",
    "y[1] = 1\n",
    "\n",
    "# fit the model\n",
    "clf = svm.SVC(kernel=\"linear\", C = 1e4)\n",
    "clf.fit(X, y)\n",
    "\n",
    "fig = go.Figure()\n",
    "plot_data_decision_line(X,y,clf,fig,\"C=10^4\")\n",
    "fig.show()"
   ]
  },
  {
   "cell_type": "code",
   "execution_count": 48,
   "metadata": {},
   "outputs": [],
   "source": [
    "save_figure_to_file(fig,'../Slides/scikitlearn','svm6')"
   ]
  },
  {
   "cell_type": "code",
   "execution_count": 49,
   "metadata": {
    "colab": {
     "base_uri": "https://localhost:8080/",
     "height": 542
    },
    "colab_type": "code",
    "id": "G7V1U5KKFC9C",
    "outputId": "94339303-93d6-4c92-f032-6bb3715570b1"
   },
   "outputs": [
    {
     "data": {
      "application/vnd.plotly.v1+json": {
       "config": {
        "plotlyServerURL": "https://plot.ly"
       },
       "data": [
        {
         "marker": {
          "color": [
           -1,
           1,
           -1,
           -1,
           -1,
           -1,
           -1,
           -1,
           -1,
           -1,
           1,
           1,
           1,
           1,
           1,
           1,
           1,
           1,
           1,
           1
          ],
          "colorscale": [
           [
            0,
            "rgb(103,0,31)"
           ],
           [
            0.1,
            "rgb(178,24,43)"
           ],
           [
            0.2,
            "rgb(214,96,77)"
           ],
           [
            0.3,
            "rgb(244,165,130)"
           ],
           [
            0.4,
            "rgb(253,219,199)"
           ],
           [
            0.5,
            "rgb(247,247,247)"
           ],
           [
            0.6,
            "rgb(209,229,240)"
           ],
           [
            0.7,
            "rgb(146,197,222)"
           ],
           [
            0.8,
            "rgb(67,147,195)"
           ],
           [
            0.9,
            "rgb(33,102,172)"
           ],
           [
            1,
            "rgb(5,48,97)"
           ]
          ],
          "size": 10
         },
         "mode": "markers",
         "name": "Data",
         "type": "scatter",
         "x": [
          0.5,
          -0.5,
          -0.4315406361270182,
          -0.4617614284231002,
          -0.16892053227007353,
          -0.5295563775737924,
          -0.23183754092319586,
          -0.42945349174431197,
          -0.49144968062295297,
          -0.5379106111371351,
          0.5766069365853674,
          0.3847065484401654,
          0.3516835304801391,
          0.11709574900719513,
          0.17792568139102968,
          0.1848512192012097,
          0.28669687883580186,
          0.5291582939589509,
          0.39173084886622345,
          0.1888963100948403
         ],
         "y": [
          0,
          0,
          0.20847713250846214,
          0.27165779638972876,
          0.1783498350047443,
          0.4785401403203442,
          0.2778315458178908,
          0.4334015252766632,
          0.3807134912164687,
          0.25986824222676397,
          -0.5313216046011098,
          -0.11216725853839699,
          -0.266167896925947,
          -0.3719403168447851,
          -0.361975516750565,
          -0.15187083137991447,
          -0.4101535347626241,
          -0.2769694725576214,
          -0.2658249865805824,
          -0.17537599159106854
         ]
        },
        {
         "mode": "lines",
         "name": "Decision line",
         "type": "scatter",
         "x": [
          -1,
          1
         ],
         "y": [
          -0.592683383156503,
          1.3038054873658305
         ]
        },
        {
         "line": {
          "dash": "dash"
         },
         "mode": "lines",
         "name": "Support line",
         "type": "scatter",
         "x": [
          -1,
          1
         ],
         "y": [
          0.49325423586097394,
          2.3897431063833077
         ]
        },
        {
         "line": {
          "dash": "dash"
         },
         "mode": "lines",
         "name": "Support line",
         "type": "scatter",
         "x": [
          -1,
          1
         ],
         "y": [
          -1.6786210021739802,
          0.21786786834835337
         ]
        }
       ],
       "layout": {
        "template": {
         "data": {
          "bar": [
           {
            "error_x": {
             "color": "#2a3f5f"
            },
            "error_y": {
             "color": "#2a3f5f"
            },
            "marker": {
             "line": {
              "color": "#E5ECF6",
              "width": 0.5
             }
            },
            "type": "bar"
           }
          ],
          "barpolar": [
           {
            "marker": {
             "line": {
              "color": "#E5ECF6",
              "width": 0.5
             }
            },
            "type": "barpolar"
           }
          ],
          "carpet": [
           {
            "aaxis": {
             "endlinecolor": "#2a3f5f",
             "gridcolor": "white",
             "linecolor": "white",
             "minorgridcolor": "white",
             "startlinecolor": "#2a3f5f"
            },
            "baxis": {
             "endlinecolor": "#2a3f5f",
             "gridcolor": "white",
             "linecolor": "white",
             "minorgridcolor": "white",
             "startlinecolor": "#2a3f5f"
            },
            "type": "carpet"
           }
          ],
          "choropleth": [
           {
            "colorbar": {
             "outlinewidth": 0,
             "ticks": ""
            },
            "type": "choropleth"
           }
          ],
          "contour": [
           {
            "colorbar": {
             "outlinewidth": 0,
             "ticks": ""
            },
            "colorscale": [
             [
              0,
              "#0d0887"
             ],
             [
              0.1111111111111111,
              "#46039f"
             ],
             [
              0.2222222222222222,
              "#7201a8"
             ],
             [
              0.3333333333333333,
              "#9c179e"
             ],
             [
              0.4444444444444444,
              "#bd3786"
             ],
             [
              0.5555555555555556,
              "#d8576b"
             ],
             [
              0.6666666666666666,
              "#ed7953"
             ],
             [
              0.7777777777777778,
              "#fb9f3a"
             ],
             [
              0.8888888888888888,
              "#fdca26"
             ],
             [
              1,
              "#f0f921"
             ]
            ],
            "type": "contour"
           }
          ],
          "contourcarpet": [
           {
            "colorbar": {
             "outlinewidth": 0,
             "ticks": ""
            },
            "type": "contourcarpet"
           }
          ],
          "heatmap": [
           {
            "colorbar": {
             "outlinewidth": 0,
             "ticks": ""
            },
            "colorscale": [
             [
              0,
              "#0d0887"
             ],
             [
              0.1111111111111111,
              "#46039f"
             ],
             [
              0.2222222222222222,
              "#7201a8"
             ],
             [
              0.3333333333333333,
              "#9c179e"
             ],
             [
              0.4444444444444444,
              "#bd3786"
             ],
             [
              0.5555555555555556,
              "#d8576b"
             ],
             [
              0.6666666666666666,
              "#ed7953"
             ],
             [
              0.7777777777777778,
              "#fb9f3a"
             ],
             [
              0.8888888888888888,
              "#fdca26"
             ],
             [
              1,
              "#f0f921"
             ]
            ],
            "type": "heatmap"
           }
          ],
          "heatmapgl": [
           {
            "colorbar": {
             "outlinewidth": 0,
             "ticks": ""
            },
            "colorscale": [
             [
              0,
              "#0d0887"
             ],
             [
              0.1111111111111111,
              "#46039f"
             ],
             [
              0.2222222222222222,
              "#7201a8"
             ],
             [
              0.3333333333333333,
              "#9c179e"
             ],
             [
              0.4444444444444444,
              "#bd3786"
             ],
             [
              0.5555555555555556,
              "#d8576b"
             ],
             [
              0.6666666666666666,
              "#ed7953"
             ],
             [
              0.7777777777777778,
              "#fb9f3a"
             ],
             [
              0.8888888888888888,
              "#fdca26"
             ],
             [
              1,
              "#f0f921"
             ]
            ],
            "type": "heatmapgl"
           }
          ],
          "histogram": [
           {
            "marker": {
             "colorbar": {
              "outlinewidth": 0,
              "ticks": ""
             }
            },
            "type": "histogram"
           }
          ],
          "histogram2d": [
           {
            "colorbar": {
             "outlinewidth": 0,
             "ticks": ""
            },
            "colorscale": [
             [
              0,
              "#0d0887"
             ],
             [
              0.1111111111111111,
              "#46039f"
             ],
             [
              0.2222222222222222,
              "#7201a8"
             ],
             [
              0.3333333333333333,
              "#9c179e"
             ],
             [
              0.4444444444444444,
              "#bd3786"
             ],
             [
              0.5555555555555556,
              "#d8576b"
             ],
             [
              0.6666666666666666,
              "#ed7953"
             ],
             [
              0.7777777777777778,
              "#fb9f3a"
             ],
             [
              0.8888888888888888,
              "#fdca26"
             ],
             [
              1,
              "#f0f921"
             ]
            ],
            "type": "histogram2d"
           }
          ],
          "histogram2dcontour": [
           {
            "colorbar": {
             "outlinewidth": 0,
             "ticks": ""
            },
            "colorscale": [
             [
              0,
              "#0d0887"
             ],
             [
              0.1111111111111111,
              "#46039f"
             ],
             [
              0.2222222222222222,
              "#7201a8"
             ],
             [
              0.3333333333333333,
              "#9c179e"
             ],
             [
              0.4444444444444444,
              "#bd3786"
             ],
             [
              0.5555555555555556,
              "#d8576b"
             ],
             [
              0.6666666666666666,
              "#ed7953"
             ],
             [
              0.7777777777777778,
              "#fb9f3a"
             ],
             [
              0.8888888888888888,
              "#fdca26"
             ],
             [
              1,
              "#f0f921"
             ]
            ],
            "type": "histogram2dcontour"
           }
          ],
          "mesh3d": [
           {
            "colorbar": {
             "outlinewidth": 0,
             "ticks": ""
            },
            "type": "mesh3d"
           }
          ],
          "parcoords": [
           {
            "line": {
             "colorbar": {
              "outlinewidth": 0,
              "ticks": ""
             }
            },
            "type": "parcoords"
           }
          ],
          "pie": [
           {
            "automargin": true,
            "type": "pie"
           }
          ],
          "scatter": [
           {
            "marker": {
             "colorbar": {
              "outlinewidth": 0,
              "ticks": ""
             }
            },
            "type": "scatter"
           }
          ],
          "scatter3d": [
           {
            "line": {
             "colorbar": {
              "outlinewidth": 0,
              "ticks": ""
             }
            },
            "marker": {
             "colorbar": {
              "outlinewidth": 0,
              "ticks": ""
             }
            },
            "type": "scatter3d"
           }
          ],
          "scattercarpet": [
           {
            "marker": {
             "colorbar": {
              "outlinewidth": 0,
              "ticks": ""
             }
            },
            "type": "scattercarpet"
           }
          ],
          "scattergeo": [
           {
            "marker": {
             "colorbar": {
              "outlinewidth": 0,
              "ticks": ""
             }
            },
            "type": "scattergeo"
           }
          ],
          "scattergl": [
           {
            "marker": {
             "colorbar": {
              "outlinewidth": 0,
              "ticks": ""
             }
            },
            "type": "scattergl"
           }
          ],
          "scattermapbox": [
           {
            "marker": {
             "colorbar": {
              "outlinewidth": 0,
              "ticks": ""
             }
            },
            "type": "scattermapbox"
           }
          ],
          "scatterpolar": [
           {
            "marker": {
             "colorbar": {
              "outlinewidth": 0,
              "ticks": ""
             }
            },
            "type": "scatterpolar"
           }
          ],
          "scatterpolargl": [
           {
            "marker": {
             "colorbar": {
              "outlinewidth": 0,
              "ticks": ""
             }
            },
            "type": "scatterpolargl"
           }
          ],
          "scatterternary": [
           {
            "marker": {
             "colorbar": {
              "outlinewidth": 0,
              "ticks": ""
             }
            },
            "type": "scatterternary"
           }
          ],
          "surface": [
           {
            "colorbar": {
             "outlinewidth": 0,
             "ticks": ""
            },
            "colorscale": [
             [
              0,
              "#0d0887"
             ],
             [
              0.1111111111111111,
              "#46039f"
             ],
             [
              0.2222222222222222,
              "#7201a8"
             ],
             [
              0.3333333333333333,
              "#9c179e"
             ],
             [
              0.4444444444444444,
              "#bd3786"
             ],
             [
              0.5555555555555556,
              "#d8576b"
             ],
             [
              0.6666666666666666,
              "#ed7953"
             ],
             [
              0.7777777777777778,
              "#fb9f3a"
             ],
             [
              0.8888888888888888,
              "#fdca26"
             ],
             [
              1,
              "#f0f921"
             ]
            ],
            "type": "surface"
           }
          ],
          "table": [
           {
            "cells": {
             "fill": {
              "color": "#EBF0F8"
             },
             "line": {
              "color": "white"
             }
            },
            "header": {
             "fill": {
              "color": "#C8D4E3"
             },
             "line": {
              "color": "white"
             }
            },
            "type": "table"
           }
          ]
         },
         "layout": {
          "annotationdefaults": {
           "arrowcolor": "#2a3f5f",
           "arrowhead": 0,
           "arrowwidth": 1
          },
          "coloraxis": {
           "colorbar": {
            "outlinewidth": 0,
            "ticks": ""
           }
          },
          "colorscale": {
           "diverging": [
            [
             0,
             "#8e0152"
            ],
            [
             0.1,
             "#c51b7d"
            ],
            [
             0.2,
             "#de77ae"
            ],
            [
             0.3,
             "#f1b6da"
            ],
            [
             0.4,
             "#fde0ef"
            ],
            [
             0.5,
             "#f7f7f7"
            ],
            [
             0.6,
             "#e6f5d0"
            ],
            [
             0.7,
             "#b8e186"
            ],
            [
             0.8,
             "#7fbc41"
            ],
            [
             0.9,
             "#4d9221"
            ],
            [
             1,
             "#276419"
            ]
           ],
           "sequential": [
            [
             0,
             "#0d0887"
            ],
            [
             0.1111111111111111,
             "#46039f"
            ],
            [
             0.2222222222222222,
             "#7201a8"
            ],
            [
             0.3333333333333333,
             "#9c179e"
            ],
            [
             0.4444444444444444,
             "#bd3786"
            ],
            [
             0.5555555555555556,
             "#d8576b"
            ],
            [
             0.6666666666666666,
             "#ed7953"
            ],
            [
             0.7777777777777778,
             "#fb9f3a"
            ],
            [
             0.8888888888888888,
             "#fdca26"
            ],
            [
             1,
             "#f0f921"
            ]
           ],
           "sequentialminus": [
            [
             0,
             "#0d0887"
            ],
            [
             0.1111111111111111,
             "#46039f"
            ],
            [
             0.2222222222222222,
             "#7201a8"
            ],
            [
             0.3333333333333333,
             "#9c179e"
            ],
            [
             0.4444444444444444,
             "#bd3786"
            ],
            [
             0.5555555555555556,
             "#d8576b"
            ],
            [
             0.6666666666666666,
             "#ed7953"
            ],
            [
             0.7777777777777778,
             "#fb9f3a"
            ],
            [
             0.8888888888888888,
             "#fdca26"
            ],
            [
             1,
             "#f0f921"
            ]
           ]
          },
          "colorway": [
           "#636efa",
           "#EF553B",
           "#00cc96",
           "#ab63fa",
           "#FFA15A",
           "#19d3f3",
           "#FF6692",
           "#B6E880",
           "#FF97FF",
           "#FECB52"
          ],
          "font": {
           "color": "#2a3f5f"
          },
          "geo": {
           "bgcolor": "white",
           "lakecolor": "white",
           "landcolor": "#E5ECF6",
           "showlakes": true,
           "showland": true,
           "subunitcolor": "white"
          },
          "hoverlabel": {
           "align": "left"
          },
          "hovermode": "closest",
          "mapbox": {
           "style": "light"
          },
          "paper_bgcolor": "white",
          "plot_bgcolor": "#E5ECF6",
          "polar": {
           "angularaxis": {
            "gridcolor": "white",
            "linecolor": "white",
            "ticks": ""
           },
           "bgcolor": "#E5ECF6",
           "radialaxis": {
            "gridcolor": "white",
            "linecolor": "white",
            "ticks": ""
           }
          },
          "scene": {
           "xaxis": {
            "backgroundcolor": "#E5ECF6",
            "gridcolor": "white",
            "gridwidth": 2,
            "linecolor": "white",
            "showbackground": true,
            "ticks": "",
            "zerolinecolor": "white"
           },
           "yaxis": {
            "backgroundcolor": "#E5ECF6",
            "gridcolor": "white",
            "gridwidth": 2,
            "linecolor": "white",
            "showbackground": true,
            "ticks": "",
            "zerolinecolor": "white"
           },
           "zaxis": {
            "backgroundcolor": "#E5ECF6",
            "gridcolor": "white",
            "gridwidth": 2,
            "linecolor": "white",
            "showbackground": true,
            "ticks": "",
            "zerolinecolor": "white"
           }
          },
          "shapedefaults": {
           "line": {
            "color": "#2a3f5f"
           }
          },
          "ternary": {
           "aaxis": {
            "gridcolor": "white",
            "linecolor": "white",
            "ticks": ""
           },
           "baxis": {
            "gridcolor": "white",
            "linecolor": "white",
            "ticks": ""
           },
           "bgcolor": "#E5ECF6",
           "caxis": {
            "gridcolor": "white",
            "linecolor": "white",
            "ticks": ""
           }
          },
          "title": {
           "x": 0.05
          },
          "xaxis": {
           "automargin": true,
           "gridcolor": "white",
           "linecolor": "white",
           "ticks": "",
           "title": {
            "standoff": 15
           },
           "zerolinecolor": "white",
           "zerolinewidth": 2
          },
          "yaxis": {
           "automargin": true,
           "gridcolor": "white",
           "linecolor": "white",
           "ticks": "",
           "title": {
            "standoff": 15
           },
           "zerolinecolor": "white",
           "zerolinewidth": 2
          }
         }
        },
        "title": {
         "text": "C=0.2"
        },
        "width": 600
       }
      },
      "text/html": [
       "<div>\n",
       "        \n",
       "        \n",
       "            <div id=\"4ec5bc01-3d86-437a-ac34-2046641f912b\" class=\"plotly-graph-div\" style=\"height:525px; width:600px;\"></div>\n",
       "            <script type=\"text/javascript\">\n",
       "                require([\"plotly\"], function(Plotly) {\n",
       "                    window.PLOTLYENV=window.PLOTLYENV || {};\n",
       "                    \n",
       "                if (document.getElementById(\"4ec5bc01-3d86-437a-ac34-2046641f912b\")) {\n",
       "                    Plotly.newPlot(\n",
       "                        '4ec5bc01-3d86-437a-ac34-2046641f912b',\n",
       "                        [{\"marker\": {\"color\": [-1.0, 1.0, -1.0, -1.0, -1.0, -1.0, -1.0, -1.0, -1.0, -1.0, 1.0, 1.0, 1.0, 1.0, 1.0, 1.0, 1.0, 1.0, 1.0, 1.0], \"colorscale\": [[0.0, \"rgb(103,0,31)\"], [0.1, \"rgb(178,24,43)\"], [0.2, \"rgb(214,96,77)\"], [0.3, \"rgb(244,165,130)\"], [0.4, \"rgb(253,219,199)\"], [0.5, \"rgb(247,247,247)\"], [0.6, \"rgb(209,229,240)\"], [0.7, \"rgb(146,197,222)\"], [0.8, \"rgb(67,147,195)\"], [0.9, \"rgb(33,102,172)\"], [1.0, \"rgb(5,48,97)\"]], \"size\": 10}, \"mode\": \"markers\", \"name\": \"Data\", \"type\": \"scatter\", \"x\": [0.5, -0.5, -0.4315406361270182, -0.4617614284231002, -0.16892053227007353, -0.5295563775737924, -0.23183754092319586, -0.42945349174431197, -0.49144968062295297, -0.5379106111371351, 0.5766069365853674, 0.3847065484401654, 0.3516835304801391, 0.11709574900719513, 0.17792568139102968, 0.1848512192012097, 0.28669687883580186, 0.5291582939589509, 0.39173084886622345, 0.1888963100948403], \"y\": [0.0, 0.0, 0.20847713250846214, 0.27165779638972876, 0.1783498350047443, 0.4785401403203442, 0.2778315458178908, 0.4334015252766632, 0.3807134912164687, 0.25986824222676397, -0.5313216046011098, -0.11216725853839699, -0.266167896925947, -0.3719403168447851, -0.361975516750565, -0.15187083137991447, -0.4101535347626241, -0.2769694725576214, -0.2658249865805824, -0.17537599159106854]}, {\"mode\": \"lines\", \"name\": \"Decision line\", \"type\": \"scatter\", \"x\": [-1.0, 1.0], \"y\": [-0.592683383156503, 1.3038054873658305]}, {\"line\": {\"dash\": \"dash\"}, \"mode\": \"lines\", \"name\": \"Support line\", \"type\": \"scatter\", \"x\": [-1.0, 1.0], \"y\": [0.49325423586097394, 2.3897431063833077]}, {\"line\": {\"dash\": \"dash\"}, \"mode\": \"lines\", \"name\": \"Support line\", \"type\": \"scatter\", \"x\": [-1.0, 1.0], \"y\": [-1.6786210021739802, 0.21786786834835337]}],\n",
       "                        {\"template\": {\"data\": {\"bar\": [{\"error_x\": {\"color\": \"#2a3f5f\"}, \"error_y\": {\"color\": \"#2a3f5f\"}, \"marker\": {\"line\": {\"color\": \"#E5ECF6\", \"width\": 0.5}}, \"type\": \"bar\"}], \"barpolar\": [{\"marker\": {\"line\": {\"color\": \"#E5ECF6\", \"width\": 0.5}}, \"type\": \"barpolar\"}], \"carpet\": [{\"aaxis\": {\"endlinecolor\": \"#2a3f5f\", \"gridcolor\": \"white\", \"linecolor\": \"white\", \"minorgridcolor\": \"white\", \"startlinecolor\": \"#2a3f5f\"}, \"baxis\": {\"endlinecolor\": \"#2a3f5f\", \"gridcolor\": \"white\", \"linecolor\": \"white\", \"minorgridcolor\": \"white\", \"startlinecolor\": \"#2a3f5f\"}, \"type\": \"carpet\"}], \"choropleth\": [{\"colorbar\": {\"outlinewidth\": 0, \"ticks\": \"\"}, \"type\": \"choropleth\"}], \"contour\": [{\"colorbar\": {\"outlinewidth\": 0, \"ticks\": \"\"}, \"colorscale\": [[0.0, \"#0d0887\"], [0.1111111111111111, \"#46039f\"], [0.2222222222222222, \"#7201a8\"], [0.3333333333333333, \"#9c179e\"], [0.4444444444444444, \"#bd3786\"], [0.5555555555555556, \"#d8576b\"], [0.6666666666666666, \"#ed7953\"], [0.7777777777777778, \"#fb9f3a\"], [0.8888888888888888, \"#fdca26\"], [1.0, \"#f0f921\"]], \"type\": \"contour\"}], \"contourcarpet\": [{\"colorbar\": {\"outlinewidth\": 0, \"ticks\": \"\"}, \"type\": \"contourcarpet\"}], \"heatmap\": [{\"colorbar\": {\"outlinewidth\": 0, \"ticks\": \"\"}, \"colorscale\": [[0.0, \"#0d0887\"], [0.1111111111111111, \"#46039f\"], [0.2222222222222222, \"#7201a8\"], [0.3333333333333333, \"#9c179e\"], [0.4444444444444444, \"#bd3786\"], [0.5555555555555556, \"#d8576b\"], [0.6666666666666666, \"#ed7953\"], [0.7777777777777778, \"#fb9f3a\"], [0.8888888888888888, \"#fdca26\"], [1.0, \"#f0f921\"]], \"type\": \"heatmap\"}], \"heatmapgl\": [{\"colorbar\": {\"outlinewidth\": 0, \"ticks\": \"\"}, \"colorscale\": [[0.0, \"#0d0887\"], [0.1111111111111111, \"#46039f\"], [0.2222222222222222, \"#7201a8\"], [0.3333333333333333, \"#9c179e\"], [0.4444444444444444, \"#bd3786\"], [0.5555555555555556, \"#d8576b\"], [0.6666666666666666, \"#ed7953\"], [0.7777777777777778, \"#fb9f3a\"], [0.8888888888888888, \"#fdca26\"], [1.0, \"#f0f921\"]], \"type\": \"heatmapgl\"}], \"histogram\": [{\"marker\": {\"colorbar\": {\"outlinewidth\": 0, \"ticks\": \"\"}}, \"type\": \"histogram\"}], \"histogram2d\": [{\"colorbar\": {\"outlinewidth\": 0, \"ticks\": \"\"}, \"colorscale\": [[0.0, \"#0d0887\"], [0.1111111111111111, \"#46039f\"], [0.2222222222222222, \"#7201a8\"], [0.3333333333333333, \"#9c179e\"], [0.4444444444444444, \"#bd3786\"], [0.5555555555555556, \"#d8576b\"], [0.6666666666666666, \"#ed7953\"], [0.7777777777777778, \"#fb9f3a\"], [0.8888888888888888, \"#fdca26\"], [1.0, \"#f0f921\"]], \"type\": \"histogram2d\"}], \"histogram2dcontour\": [{\"colorbar\": {\"outlinewidth\": 0, \"ticks\": \"\"}, \"colorscale\": [[0.0, \"#0d0887\"], [0.1111111111111111, \"#46039f\"], [0.2222222222222222, \"#7201a8\"], [0.3333333333333333, \"#9c179e\"], [0.4444444444444444, \"#bd3786\"], [0.5555555555555556, \"#d8576b\"], [0.6666666666666666, \"#ed7953\"], [0.7777777777777778, \"#fb9f3a\"], [0.8888888888888888, \"#fdca26\"], [1.0, \"#f0f921\"]], \"type\": \"histogram2dcontour\"}], \"mesh3d\": [{\"colorbar\": {\"outlinewidth\": 0, \"ticks\": \"\"}, \"type\": \"mesh3d\"}], \"parcoords\": [{\"line\": {\"colorbar\": {\"outlinewidth\": 0, \"ticks\": \"\"}}, \"type\": \"parcoords\"}], \"pie\": [{\"automargin\": true, \"type\": \"pie\"}], \"scatter\": [{\"marker\": {\"colorbar\": {\"outlinewidth\": 0, \"ticks\": \"\"}}, \"type\": \"scatter\"}], \"scatter3d\": [{\"line\": {\"colorbar\": {\"outlinewidth\": 0, \"ticks\": \"\"}}, \"marker\": {\"colorbar\": {\"outlinewidth\": 0, \"ticks\": \"\"}}, \"type\": \"scatter3d\"}], \"scattercarpet\": [{\"marker\": {\"colorbar\": {\"outlinewidth\": 0, \"ticks\": \"\"}}, \"type\": \"scattercarpet\"}], \"scattergeo\": [{\"marker\": {\"colorbar\": {\"outlinewidth\": 0, \"ticks\": \"\"}}, \"type\": \"scattergeo\"}], \"scattergl\": [{\"marker\": {\"colorbar\": {\"outlinewidth\": 0, \"ticks\": \"\"}}, \"type\": \"scattergl\"}], \"scattermapbox\": [{\"marker\": {\"colorbar\": {\"outlinewidth\": 0, \"ticks\": \"\"}}, \"type\": \"scattermapbox\"}], \"scatterpolar\": [{\"marker\": {\"colorbar\": {\"outlinewidth\": 0, \"ticks\": \"\"}}, \"type\": \"scatterpolar\"}], \"scatterpolargl\": [{\"marker\": {\"colorbar\": {\"outlinewidth\": 0, \"ticks\": \"\"}}, \"type\": \"scatterpolargl\"}], \"scatterternary\": [{\"marker\": {\"colorbar\": {\"outlinewidth\": 0, \"ticks\": \"\"}}, \"type\": \"scatterternary\"}], \"surface\": [{\"colorbar\": {\"outlinewidth\": 0, \"ticks\": \"\"}, \"colorscale\": [[0.0, \"#0d0887\"], [0.1111111111111111, \"#46039f\"], [0.2222222222222222, \"#7201a8\"], [0.3333333333333333, \"#9c179e\"], [0.4444444444444444, \"#bd3786\"], [0.5555555555555556, \"#d8576b\"], [0.6666666666666666, \"#ed7953\"], [0.7777777777777778, \"#fb9f3a\"], [0.8888888888888888, \"#fdca26\"], [1.0, \"#f0f921\"]], \"type\": \"surface\"}], \"table\": [{\"cells\": {\"fill\": {\"color\": \"#EBF0F8\"}, \"line\": {\"color\": \"white\"}}, \"header\": {\"fill\": {\"color\": \"#C8D4E3\"}, \"line\": {\"color\": \"white\"}}, \"type\": \"table\"}]}, \"layout\": {\"annotationdefaults\": {\"arrowcolor\": \"#2a3f5f\", \"arrowhead\": 0, \"arrowwidth\": 1}, \"coloraxis\": {\"colorbar\": {\"outlinewidth\": 0, \"ticks\": \"\"}}, \"colorscale\": {\"diverging\": [[0, \"#8e0152\"], [0.1, \"#c51b7d\"], [0.2, \"#de77ae\"], [0.3, \"#f1b6da\"], [0.4, \"#fde0ef\"], [0.5, \"#f7f7f7\"], [0.6, \"#e6f5d0\"], [0.7, \"#b8e186\"], [0.8, \"#7fbc41\"], [0.9, \"#4d9221\"], [1, \"#276419\"]], \"sequential\": [[0.0, \"#0d0887\"], [0.1111111111111111, \"#46039f\"], [0.2222222222222222, \"#7201a8\"], [0.3333333333333333, \"#9c179e\"], [0.4444444444444444, \"#bd3786\"], [0.5555555555555556, \"#d8576b\"], [0.6666666666666666, \"#ed7953\"], [0.7777777777777778, \"#fb9f3a\"], [0.8888888888888888, \"#fdca26\"], [1.0, \"#f0f921\"]], \"sequentialminus\": [[0.0, \"#0d0887\"], [0.1111111111111111, \"#46039f\"], [0.2222222222222222, \"#7201a8\"], [0.3333333333333333, \"#9c179e\"], [0.4444444444444444, \"#bd3786\"], [0.5555555555555556, \"#d8576b\"], [0.6666666666666666, \"#ed7953\"], [0.7777777777777778, \"#fb9f3a\"], [0.8888888888888888, \"#fdca26\"], [1.0, \"#f0f921\"]]}, \"colorway\": [\"#636efa\", \"#EF553B\", \"#00cc96\", \"#ab63fa\", \"#FFA15A\", \"#19d3f3\", \"#FF6692\", \"#B6E880\", \"#FF97FF\", \"#FECB52\"], \"font\": {\"color\": \"#2a3f5f\"}, \"geo\": {\"bgcolor\": \"white\", \"lakecolor\": \"white\", \"landcolor\": \"#E5ECF6\", \"showlakes\": true, \"showland\": true, \"subunitcolor\": \"white\"}, \"hoverlabel\": {\"align\": \"left\"}, \"hovermode\": \"closest\", \"mapbox\": {\"style\": \"light\"}, \"paper_bgcolor\": \"white\", \"plot_bgcolor\": \"#E5ECF6\", \"polar\": {\"angularaxis\": {\"gridcolor\": \"white\", \"linecolor\": \"white\", \"ticks\": \"\"}, \"bgcolor\": \"#E5ECF6\", \"radialaxis\": {\"gridcolor\": \"white\", \"linecolor\": \"white\", \"ticks\": \"\"}}, \"scene\": {\"xaxis\": {\"backgroundcolor\": \"#E5ECF6\", \"gridcolor\": \"white\", \"gridwidth\": 2, \"linecolor\": \"white\", \"showbackground\": true, \"ticks\": \"\", \"zerolinecolor\": \"white\"}, \"yaxis\": {\"backgroundcolor\": \"#E5ECF6\", \"gridcolor\": \"white\", \"gridwidth\": 2, \"linecolor\": \"white\", \"showbackground\": true, \"ticks\": \"\", \"zerolinecolor\": \"white\"}, \"zaxis\": {\"backgroundcolor\": \"#E5ECF6\", \"gridcolor\": \"white\", \"gridwidth\": 2, \"linecolor\": \"white\", \"showbackground\": true, \"ticks\": \"\", \"zerolinecolor\": \"white\"}}, \"shapedefaults\": {\"line\": {\"color\": \"#2a3f5f\"}}, \"ternary\": {\"aaxis\": {\"gridcolor\": \"white\", \"linecolor\": \"white\", \"ticks\": \"\"}, \"baxis\": {\"gridcolor\": \"white\", \"linecolor\": \"white\", \"ticks\": \"\"}, \"bgcolor\": \"#E5ECF6\", \"caxis\": {\"gridcolor\": \"white\", \"linecolor\": \"white\", \"ticks\": \"\"}}, \"title\": {\"x\": 0.05}, \"xaxis\": {\"automargin\": true, \"gridcolor\": \"white\", \"linecolor\": \"white\", \"ticks\": \"\", \"title\": {\"standoff\": 15}, \"zerolinecolor\": \"white\", \"zerolinewidth\": 2}, \"yaxis\": {\"automargin\": true, \"gridcolor\": \"white\", \"linecolor\": \"white\", \"ticks\": \"\", \"title\": {\"standoff\": 15}, \"zerolinecolor\": \"white\", \"zerolinewidth\": 2}}}, \"title\": {\"text\": \"C=0.2\"}, \"width\": 600},\n",
       "                        {\"responsive\": true}\n",
       "                    ).then(function(){\n",
       "                            \n",
       "var gd = document.getElementById('4ec5bc01-3d86-437a-ac34-2046641f912b');\n",
       "var x = new MutationObserver(function (mutations, observer) {{\n",
       "        var display = window.getComputedStyle(gd).display;\n",
       "        if (!display || display === 'none') {{\n",
       "            console.log([gd, 'removed!']);\n",
       "            Plotly.purge(gd);\n",
       "            observer.disconnect();\n",
       "        }}\n",
       "}});\n",
       "\n",
       "// Listen for the removal of the full notebook cells\n",
       "var notebookContainer = gd.closest('#notebook-container');\n",
       "if (notebookContainer) {{\n",
       "    x.observe(notebookContainer, {childList: true});\n",
       "}}\n",
       "\n",
       "// Listen for the clearing of the current output cell\n",
       "var outputEl = gd.closest('.output');\n",
       "if (outputEl) {{\n",
       "    x.observe(outputEl, {childList: true});\n",
       "}}\n",
       "\n",
       "                        })\n",
       "                };\n",
       "                });\n",
       "            </script>\n",
       "        </div>"
      ]
     },
     "metadata": {},
     "output_type": "display_data"
    }
   ],
   "source": [
    "# outliers\n",
    "\n",
    "# small C; under-fitting case; prediction is not accurate\n",
    "\n",
    "# fit the model\n",
    "clf = svm.SVC(kernel=\"linear\", C = 0.2)\n",
    "clf.fit(X, y)\n",
    "\n",
    "fig = go.Figure()\n",
    "plot_data_decision_line(X,y,clf,fig,\"C=0.2\")\n",
    "fig.show()"
   ]
  },
  {
   "cell_type": "code",
   "execution_count": 50,
   "metadata": {},
   "outputs": [],
   "source": [
    "save_figure_to_file(fig,'../Slides/scikitlearn','svm7')"
   ]
  },
  {
   "cell_type": "code",
   "execution_count": 51,
   "metadata": {
    "colab": {
     "base_uri": "https://localhost:8080/",
     "height": 542
    },
    "colab_type": "code",
    "id": "yCrmWGB2EUBk",
    "outputId": "24ad56b0-a2e9-41fa-8474-d35fcd9dde86"
   },
   "outputs": [
    {
     "data": {
      "application/vnd.plotly.v1+json": {
       "config": {
        "plotlyServerURL": "https://plot.ly"
       },
       "data": [
        {
         "marker": {
          "color": [
           -1,
           1,
           -1,
           -1,
           -1,
           -1,
           -1,
           -1,
           -1,
           -1,
           1,
           1,
           1,
           1,
           1,
           1,
           1,
           1,
           1,
           1
          ],
          "colorscale": [
           [
            0,
            "rgb(103,0,31)"
           ],
           [
            0.1,
            "rgb(178,24,43)"
           ],
           [
            0.2,
            "rgb(214,96,77)"
           ],
           [
            0.3,
            "rgb(244,165,130)"
           ],
           [
            0.4,
            "rgb(253,219,199)"
           ],
           [
            0.5,
            "rgb(247,247,247)"
           ],
           [
            0.6,
            "rgb(209,229,240)"
           ],
           [
            0.7,
            "rgb(146,197,222)"
           ],
           [
            0.8,
            "rgb(67,147,195)"
           ],
           [
            0.9,
            "rgb(33,102,172)"
           ],
           [
            1,
            "rgb(5,48,97)"
           ]
          ],
          "size": 10
         },
         "mode": "markers",
         "name": "Data",
         "type": "scatter",
         "x": [
          0.5,
          -0.5,
          -0.4315406361270182,
          -0.4617614284231002,
          -0.16892053227007353,
          -0.5295563775737924,
          -0.23183754092319586,
          -0.42945349174431197,
          -0.49144968062295297,
          -0.5379106111371351,
          0.5766069365853674,
          0.3847065484401654,
          0.3516835304801391,
          0.11709574900719513,
          0.17792568139102968,
          0.1848512192012097,
          0.28669687883580186,
          0.5291582939589509,
          0.39173084886622345,
          0.1888963100948403
         ],
         "y": [
          0,
          0,
          0.20847713250846214,
          0.27165779638972876,
          0.1783498350047443,
          0.4785401403203442,
          0.2778315458178908,
          0.4334015252766632,
          0.3807134912164687,
          0.25986824222676397,
          -0.5313216046011098,
          -0.11216725853839699,
          -0.266167896925947,
          -0.3719403168447851,
          -0.361975516750565,
          -0.15187083137991447,
          -0.4101535347626241,
          -0.2769694725576214,
          -0.2658249865805824,
          -0.17537599159106854
         ]
        },
        {
         "mode": "lines",
         "name": "Decision line",
         "type": "scatter",
         "x": [
          -1,
          1
         ],
         "y": [
          -0.8028504801332003,
          1.1026175889587888
         ]
        },
        {
         "line": {
          "dash": "dash"
         },
         "mode": "lines",
         "name": "Support line",
         "type": "scatter",
         "x": [
          -1,
          1
         ],
         "y": [
          0.030332482480200706,
          1.9358005515721897
         ]
        },
        {
         "line": {
          "dash": "dash"
         },
         "mode": "lines",
         "name": "Support line",
         "type": "scatter",
         "x": [
          -1,
          1
         ],
         "y": [
          -1.6360334427466012,
          0.26943462634538773
         ]
        },
        {
         "mode": "lines",
         "name": "y=x",
         "type": "scatter",
         "x": [
          -1,
          1
         ],
         "y": [
          -1,
          1
         ]
        }
       ],
       "layout": {
        "template": {
         "data": {
          "bar": [
           {
            "error_x": {
             "color": "#2a3f5f"
            },
            "error_y": {
             "color": "#2a3f5f"
            },
            "marker": {
             "line": {
              "color": "#E5ECF6",
              "width": 0.5
             }
            },
            "type": "bar"
           }
          ],
          "barpolar": [
           {
            "marker": {
             "line": {
              "color": "#E5ECF6",
              "width": 0.5
             }
            },
            "type": "barpolar"
           }
          ],
          "carpet": [
           {
            "aaxis": {
             "endlinecolor": "#2a3f5f",
             "gridcolor": "white",
             "linecolor": "white",
             "minorgridcolor": "white",
             "startlinecolor": "#2a3f5f"
            },
            "baxis": {
             "endlinecolor": "#2a3f5f",
             "gridcolor": "white",
             "linecolor": "white",
             "minorgridcolor": "white",
             "startlinecolor": "#2a3f5f"
            },
            "type": "carpet"
           }
          ],
          "choropleth": [
           {
            "colorbar": {
             "outlinewidth": 0,
             "ticks": ""
            },
            "type": "choropleth"
           }
          ],
          "contour": [
           {
            "colorbar": {
             "outlinewidth": 0,
             "ticks": ""
            },
            "colorscale": [
             [
              0,
              "#0d0887"
             ],
             [
              0.1111111111111111,
              "#46039f"
             ],
             [
              0.2222222222222222,
              "#7201a8"
             ],
             [
              0.3333333333333333,
              "#9c179e"
             ],
             [
              0.4444444444444444,
              "#bd3786"
             ],
             [
              0.5555555555555556,
              "#d8576b"
             ],
             [
              0.6666666666666666,
              "#ed7953"
             ],
             [
              0.7777777777777778,
              "#fb9f3a"
             ],
             [
              0.8888888888888888,
              "#fdca26"
             ],
             [
              1,
              "#f0f921"
             ]
            ],
            "type": "contour"
           }
          ],
          "contourcarpet": [
           {
            "colorbar": {
             "outlinewidth": 0,
             "ticks": ""
            },
            "type": "contourcarpet"
           }
          ],
          "heatmap": [
           {
            "colorbar": {
             "outlinewidth": 0,
             "ticks": ""
            },
            "colorscale": [
             [
              0,
              "#0d0887"
             ],
             [
              0.1111111111111111,
              "#46039f"
             ],
             [
              0.2222222222222222,
              "#7201a8"
             ],
             [
              0.3333333333333333,
              "#9c179e"
             ],
             [
              0.4444444444444444,
              "#bd3786"
             ],
             [
              0.5555555555555556,
              "#d8576b"
             ],
             [
              0.6666666666666666,
              "#ed7953"
             ],
             [
              0.7777777777777778,
              "#fb9f3a"
             ],
             [
              0.8888888888888888,
              "#fdca26"
             ],
             [
              1,
              "#f0f921"
             ]
            ],
            "type": "heatmap"
           }
          ],
          "heatmapgl": [
           {
            "colorbar": {
             "outlinewidth": 0,
             "ticks": ""
            },
            "colorscale": [
             [
              0,
              "#0d0887"
             ],
             [
              0.1111111111111111,
              "#46039f"
             ],
             [
              0.2222222222222222,
              "#7201a8"
             ],
             [
              0.3333333333333333,
              "#9c179e"
             ],
             [
              0.4444444444444444,
              "#bd3786"
             ],
             [
              0.5555555555555556,
              "#d8576b"
             ],
             [
              0.6666666666666666,
              "#ed7953"
             ],
             [
              0.7777777777777778,
              "#fb9f3a"
             ],
             [
              0.8888888888888888,
              "#fdca26"
             ],
             [
              1,
              "#f0f921"
             ]
            ],
            "type": "heatmapgl"
           }
          ],
          "histogram": [
           {
            "marker": {
             "colorbar": {
              "outlinewidth": 0,
              "ticks": ""
             }
            },
            "type": "histogram"
           }
          ],
          "histogram2d": [
           {
            "colorbar": {
             "outlinewidth": 0,
             "ticks": ""
            },
            "colorscale": [
             [
              0,
              "#0d0887"
             ],
             [
              0.1111111111111111,
              "#46039f"
             ],
             [
              0.2222222222222222,
              "#7201a8"
             ],
             [
              0.3333333333333333,
              "#9c179e"
             ],
             [
              0.4444444444444444,
              "#bd3786"
             ],
             [
              0.5555555555555556,
              "#d8576b"
             ],
             [
              0.6666666666666666,
              "#ed7953"
             ],
             [
              0.7777777777777778,
              "#fb9f3a"
             ],
             [
              0.8888888888888888,
              "#fdca26"
             ],
             [
              1,
              "#f0f921"
             ]
            ],
            "type": "histogram2d"
           }
          ],
          "histogram2dcontour": [
           {
            "colorbar": {
             "outlinewidth": 0,
             "ticks": ""
            },
            "colorscale": [
             [
              0,
              "#0d0887"
             ],
             [
              0.1111111111111111,
              "#46039f"
             ],
             [
              0.2222222222222222,
              "#7201a8"
             ],
             [
              0.3333333333333333,
              "#9c179e"
             ],
             [
              0.4444444444444444,
              "#bd3786"
             ],
             [
              0.5555555555555556,
              "#d8576b"
             ],
             [
              0.6666666666666666,
              "#ed7953"
             ],
             [
              0.7777777777777778,
              "#fb9f3a"
             ],
             [
              0.8888888888888888,
              "#fdca26"
             ],
             [
              1,
              "#f0f921"
             ]
            ],
            "type": "histogram2dcontour"
           }
          ],
          "mesh3d": [
           {
            "colorbar": {
             "outlinewidth": 0,
             "ticks": ""
            },
            "type": "mesh3d"
           }
          ],
          "parcoords": [
           {
            "line": {
             "colorbar": {
              "outlinewidth": 0,
              "ticks": ""
             }
            },
            "type": "parcoords"
           }
          ],
          "pie": [
           {
            "automargin": true,
            "type": "pie"
           }
          ],
          "scatter": [
           {
            "marker": {
             "colorbar": {
              "outlinewidth": 0,
              "ticks": ""
             }
            },
            "type": "scatter"
           }
          ],
          "scatter3d": [
           {
            "line": {
             "colorbar": {
              "outlinewidth": 0,
              "ticks": ""
             }
            },
            "marker": {
             "colorbar": {
              "outlinewidth": 0,
              "ticks": ""
             }
            },
            "type": "scatter3d"
           }
          ],
          "scattercarpet": [
           {
            "marker": {
             "colorbar": {
              "outlinewidth": 0,
              "ticks": ""
             }
            },
            "type": "scattercarpet"
           }
          ],
          "scattergeo": [
           {
            "marker": {
             "colorbar": {
              "outlinewidth": 0,
              "ticks": ""
             }
            },
            "type": "scattergeo"
           }
          ],
          "scattergl": [
           {
            "marker": {
             "colorbar": {
              "outlinewidth": 0,
              "ticks": ""
             }
            },
            "type": "scattergl"
           }
          ],
          "scattermapbox": [
           {
            "marker": {
             "colorbar": {
              "outlinewidth": 0,
              "ticks": ""
             }
            },
            "type": "scattermapbox"
           }
          ],
          "scatterpolar": [
           {
            "marker": {
             "colorbar": {
              "outlinewidth": 0,
              "ticks": ""
             }
            },
            "type": "scatterpolar"
           }
          ],
          "scatterpolargl": [
           {
            "marker": {
             "colorbar": {
              "outlinewidth": 0,
              "ticks": ""
             }
            },
            "type": "scatterpolargl"
           }
          ],
          "scatterternary": [
           {
            "marker": {
             "colorbar": {
              "outlinewidth": 0,
              "ticks": ""
             }
            },
            "type": "scatterternary"
           }
          ],
          "surface": [
           {
            "colorbar": {
             "outlinewidth": 0,
             "ticks": ""
            },
            "colorscale": [
             [
              0,
              "#0d0887"
             ],
             [
              0.1111111111111111,
              "#46039f"
             ],
             [
              0.2222222222222222,
              "#7201a8"
             ],
             [
              0.3333333333333333,
              "#9c179e"
             ],
             [
              0.4444444444444444,
              "#bd3786"
             ],
             [
              0.5555555555555556,
              "#d8576b"
             ],
             [
              0.6666666666666666,
              "#ed7953"
             ],
             [
              0.7777777777777778,
              "#fb9f3a"
             ],
             [
              0.8888888888888888,
              "#fdca26"
             ],
             [
              1,
              "#f0f921"
             ]
            ],
            "type": "surface"
           }
          ],
          "table": [
           {
            "cells": {
             "fill": {
              "color": "#EBF0F8"
             },
             "line": {
              "color": "white"
             }
            },
            "header": {
             "fill": {
              "color": "#C8D4E3"
             },
             "line": {
              "color": "white"
             }
            },
            "type": "table"
           }
          ]
         },
         "layout": {
          "annotationdefaults": {
           "arrowcolor": "#2a3f5f",
           "arrowhead": 0,
           "arrowwidth": 1
          },
          "coloraxis": {
           "colorbar": {
            "outlinewidth": 0,
            "ticks": ""
           }
          },
          "colorscale": {
           "diverging": [
            [
             0,
             "#8e0152"
            ],
            [
             0.1,
             "#c51b7d"
            ],
            [
             0.2,
             "#de77ae"
            ],
            [
             0.3,
             "#f1b6da"
            ],
            [
             0.4,
             "#fde0ef"
            ],
            [
             0.5,
             "#f7f7f7"
            ],
            [
             0.6,
             "#e6f5d0"
            ],
            [
             0.7,
             "#b8e186"
            ],
            [
             0.8,
             "#7fbc41"
            ],
            [
             0.9,
             "#4d9221"
            ],
            [
             1,
             "#276419"
            ]
           ],
           "sequential": [
            [
             0,
             "#0d0887"
            ],
            [
             0.1111111111111111,
             "#46039f"
            ],
            [
             0.2222222222222222,
             "#7201a8"
            ],
            [
             0.3333333333333333,
             "#9c179e"
            ],
            [
             0.4444444444444444,
             "#bd3786"
            ],
            [
             0.5555555555555556,
             "#d8576b"
            ],
            [
             0.6666666666666666,
             "#ed7953"
            ],
            [
             0.7777777777777778,
             "#fb9f3a"
            ],
            [
             0.8888888888888888,
             "#fdca26"
            ],
            [
             1,
             "#f0f921"
            ]
           ],
           "sequentialminus": [
            [
             0,
             "#0d0887"
            ],
            [
             0.1111111111111111,
             "#46039f"
            ],
            [
             0.2222222222222222,
             "#7201a8"
            ],
            [
             0.3333333333333333,
             "#9c179e"
            ],
            [
             0.4444444444444444,
             "#bd3786"
            ],
            [
             0.5555555555555556,
             "#d8576b"
            ],
            [
             0.6666666666666666,
             "#ed7953"
            ],
            [
             0.7777777777777778,
             "#fb9f3a"
            ],
            [
             0.8888888888888888,
             "#fdca26"
            ],
            [
             1,
             "#f0f921"
            ]
           ]
          },
          "colorway": [
           "#636efa",
           "#EF553B",
           "#00cc96",
           "#ab63fa",
           "#FFA15A",
           "#19d3f3",
           "#FF6692",
           "#B6E880",
           "#FF97FF",
           "#FECB52"
          ],
          "font": {
           "color": "#2a3f5f"
          },
          "geo": {
           "bgcolor": "white",
           "lakecolor": "white",
           "landcolor": "#E5ECF6",
           "showlakes": true,
           "showland": true,
           "subunitcolor": "white"
          },
          "hoverlabel": {
           "align": "left"
          },
          "hovermode": "closest",
          "mapbox": {
           "style": "light"
          },
          "paper_bgcolor": "white",
          "plot_bgcolor": "#E5ECF6",
          "polar": {
           "angularaxis": {
            "gridcolor": "white",
            "linecolor": "white",
            "ticks": ""
           },
           "bgcolor": "#E5ECF6",
           "radialaxis": {
            "gridcolor": "white",
            "linecolor": "white",
            "ticks": ""
           }
          },
          "scene": {
           "xaxis": {
            "backgroundcolor": "#E5ECF6",
            "gridcolor": "white",
            "gridwidth": 2,
            "linecolor": "white",
            "showbackground": true,
            "ticks": "",
            "zerolinecolor": "white"
           },
           "yaxis": {
            "backgroundcolor": "#E5ECF6",
            "gridcolor": "white",
            "gridwidth": 2,
            "linecolor": "white",
            "showbackground": true,
            "ticks": "",
            "zerolinecolor": "white"
           },
           "zaxis": {
            "backgroundcolor": "#E5ECF6",
            "gridcolor": "white",
            "gridwidth": 2,
            "linecolor": "white",
            "showbackground": true,
            "ticks": "",
            "zerolinecolor": "white"
           }
          },
          "shapedefaults": {
           "line": {
            "color": "#2a3f5f"
           }
          },
          "ternary": {
           "aaxis": {
            "gridcolor": "white",
            "linecolor": "white",
            "ticks": ""
           },
           "baxis": {
            "gridcolor": "white",
            "linecolor": "white",
            "ticks": ""
           },
           "bgcolor": "#E5ECF6",
           "caxis": {
            "gridcolor": "white",
            "linecolor": "white",
            "ticks": ""
           }
          },
          "title": {
           "x": 0.05
          },
          "xaxis": {
           "automargin": true,
           "gridcolor": "white",
           "linecolor": "white",
           "ticks": "",
           "title": {
            "standoff": 15
           },
           "zerolinecolor": "white",
           "zerolinewidth": 2
          },
          "yaxis": {
           "automargin": true,
           "gridcolor": "white",
           "linecolor": "white",
           "ticks": "",
           "title": {
            "standoff": 15
           },
           "zerolinecolor": "white",
           "zerolinewidth": 2
          }
         }
        },
        "title": {
         "text": "C=0.3"
        },
        "width": 600
       }
      },
      "text/html": [
       "<div>\n",
       "        \n",
       "        \n",
       "            <div id=\"a98c7ab4-7044-4033-ab2e-4edff0ff04b6\" class=\"plotly-graph-div\" style=\"height:525px; width:600px;\"></div>\n",
       "            <script type=\"text/javascript\">\n",
       "                require([\"plotly\"], function(Plotly) {\n",
       "                    window.PLOTLYENV=window.PLOTLYENV || {};\n",
       "                    \n",
       "                if (document.getElementById(\"a98c7ab4-7044-4033-ab2e-4edff0ff04b6\")) {\n",
       "                    Plotly.newPlot(\n",
       "                        'a98c7ab4-7044-4033-ab2e-4edff0ff04b6',\n",
       "                        [{\"marker\": {\"color\": [-1.0, 1.0, -1.0, -1.0, -1.0, -1.0, -1.0, -1.0, -1.0, -1.0, 1.0, 1.0, 1.0, 1.0, 1.0, 1.0, 1.0, 1.0, 1.0, 1.0], \"colorscale\": [[0.0, \"rgb(103,0,31)\"], [0.1, \"rgb(178,24,43)\"], [0.2, \"rgb(214,96,77)\"], [0.3, \"rgb(244,165,130)\"], [0.4, \"rgb(253,219,199)\"], [0.5, \"rgb(247,247,247)\"], [0.6, \"rgb(209,229,240)\"], [0.7, \"rgb(146,197,222)\"], [0.8, \"rgb(67,147,195)\"], [0.9, \"rgb(33,102,172)\"], [1.0, \"rgb(5,48,97)\"]], \"size\": 10}, \"mode\": \"markers\", \"name\": \"Data\", \"type\": \"scatter\", \"x\": [0.5, -0.5, -0.4315406361270182, -0.4617614284231002, -0.16892053227007353, -0.5295563775737924, -0.23183754092319586, -0.42945349174431197, -0.49144968062295297, -0.5379106111371351, 0.5766069365853674, 0.3847065484401654, 0.3516835304801391, 0.11709574900719513, 0.17792568139102968, 0.1848512192012097, 0.28669687883580186, 0.5291582939589509, 0.39173084886622345, 0.1888963100948403], \"y\": [0.0, 0.0, 0.20847713250846214, 0.27165779638972876, 0.1783498350047443, 0.4785401403203442, 0.2778315458178908, 0.4334015252766632, 0.3807134912164687, 0.25986824222676397, -0.5313216046011098, -0.11216725853839699, -0.266167896925947, -0.3719403168447851, -0.361975516750565, -0.15187083137991447, -0.4101535347626241, -0.2769694725576214, -0.2658249865805824, -0.17537599159106854]}, {\"mode\": \"lines\", \"name\": \"Decision line\", \"type\": \"scatter\", \"x\": [-1.0, 1.0], \"y\": [-0.8028504801332003, 1.1026175889587888]}, {\"line\": {\"dash\": \"dash\"}, \"mode\": \"lines\", \"name\": \"Support line\", \"type\": \"scatter\", \"x\": [-1.0, 1.0], \"y\": [0.030332482480200706, 1.9358005515721897]}, {\"line\": {\"dash\": \"dash\"}, \"mode\": \"lines\", \"name\": \"Support line\", \"type\": \"scatter\", \"x\": [-1.0, 1.0], \"y\": [-1.6360334427466012, 0.26943462634538773]}, {\"mode\": \"lines\", \"name\": \"y=x\", \"type\": \"scatter\", \"x\": [-1.0, 1.0], \"y\": [-1.0, 1.0]}],\n",
       "                        {\"template\": {\"data\": {\"bar\": [{\"error_x\": {\"color\": \"#2a3f5f\"}, \"error_y\": {\"color\": \"#2a3f5f\"}, \"marker\": {\"line\": {\"color\": \"#E5ECF6\", \"width\": 0.5}}, \"type\": \"bar\"}], \"barpolar\": [{\"marker\": {\"line\": {\"color\": \"#E5ECF6\", \"width\": 0.5}}, \"type\": \"barpolar\"}], \"carpet\": [{\"aaxis\": {\"endlinecolor\": \"#2a3f5f\", \"gridcolor\": \"white\", \"linecolor\": \"white\", \"minorgridcolor\": \"white\", \"startlinecolor\": \"#2a3f5f\"}, \"baxis\": {\"endlinecolor\": \"#2a3f5f\", \"gridcolor\": \"white\", \"linecolor\": \"white\", \"minorgridcolor\": \"white\", \"startlinecolor\": \"#2a3f5f\"}, \"type\": \"carpet\"}], \"choropleth\": [{\"colorbar\": {\"outlinewidth\": 0, \"ticks\": \"\"}, \"type\": \"choropleth\"}], \"contour\": [{\"colorbar\": {\"outlinewidth\": 0, \"ticks\": \"\"}, \"colorscale\": [[0.0, \"#0d0887\"], [0.1111111111111111, \"#46039f\"], [0.2222222222222222, \"#7201a8\"], [0.3333333333333333, \"#9c179e\"], [0.4444444444444444, \"#bd3786\"], [0.5555555555555556, \"#d8576b\"], [0.6666666666666666, \"#ed7953\"], [0.7777777777777778, \"#fb9f3a\"], [0.8888888888888888, \"#fdca26\"], [1.0, \"#f0f921\"]], \"type\": \"contour\"}], \"contourcarpet\": [{\"colorbar\": {\"outlinewidth\": 0, \"ticks\": \"\"}, \"type\": \"contourcarpet\"}], \"heatmap\": [{\"colorbar\": {\"outlinewidth\": 0, \"ticks\": \"\"}, \"colorscale\": [[0.0, \"#0d0887\"], [0.1111111111111111, \"#46039f\"], [0.2222222222222222, \"#7201a8\"], [0.3333333333333333, \"#9c179e\"], [0.4444444444444444, \"#bd3786\"], [0.5555555555555556, \"#d8576b\"], [0.6666666666666666, \"#ed7953\"], [0.7777777777777778, \"#fb9f3a\"], [0.8888888888888888, \"#fdca26\"], [1.0, \"#f0f921\"]], \"type\": \"heatmap\"}], \"heatmapgl\": [{\"colorbar\": {\"outlinewidth\": 0, \"ticks\": \"\"}, \"colorscale\": [[0.0, \"#0d0887\"], [0.1111111111111111, \"#46039f\"], [0.2222222222222222, \"#7201a8\"], [0.3333333333333333, \"#9c179e\"], [0.4444444444444444, \"#bd3786\"], [0.5555555555555556, \"#d8576b\"], [0.6666666666666666, \"#ed7953\"], [0.7777777777777778, \"#fb9f3a\"], [0.8888888888888888, \"#fdca26\"], [1.0, \"#f0f921\"]], \"type\": \"heatmapgl\"}], \"histogram\": [{\"marker\": {\"colorbar\": {\"outlinewidth\": 0, \"ticks\": \"\"}}, \"type\": \"histogram\"}], \"histogram2d\": [{\"colorbar\": {\"outlinewidth\": 0, \"ticks\": \"\"}, \"colorscale\": [[0.0, \"#0d0887\"], [0.1111111111111111, \"#46039f\"], [0.2222222222222222, \"#7201a8\"], [0.3333333333333333, \"#9c179e\"], [0.4444444444444444, \"#bd3786\"], [0.5555555555555556, \"#d8576b\"], [0.6666666666666666, \"#ed7953\"], [0.7777777777777778, \"#fb9f3a\"], [0.8888888888888888, \"#fdca26\"], [1.0, \"#f0f921\"]], \"type\": \"histogram2d\"}], \"histogram2dcontour\": [{\"colorbar\": {\"outlinewidth\": 0, \"ticks\": \"\"}, \"colorscale\": [[0.0, \"#0d0887\"], [0.1111111111111111, \"#46039f\"], [0.2222222222222222, \"#7201a8\"], [0.3333333333333333, \"#9c179e\"], [0.4444444444444444, \"#bd3786\"], [0.5555555555555556, \"#d8576b\"], [0.6666666666666666, \"#ed7953\"], [0.7777777777777778, \"#fb9f3a\"], [0.8888888888888888, \"#fdca26\"], [1.0, \"#f0f921\"]], \"type\": \"histogram2dcontour\"}], \"mesh3d\": [{\"colorbar\": {\"outlinewidth\": 0, \"ticks\": \"\"}, \"type\": \"mesh3d\"}], \"parcoords\": [{\"line\": {\"colorbar\": {\"outlinewidth\": 0, \"ticks\": \"\"}}, \"type\": \"parcoords\"}], \"pie\": [{\"automargin\": true, \"type\": \"pie\"}], \"scatter\": [{\"marker\": {\"colorbar\": {\"outlinewidth\": 0, \"ticks\": \"\"}}, \"type\": \"scatter\"}], \"scatter3d\": [{\"line\": {\"colorbar\": {\"outlinewidth\": 0, \"ticks\": \"\"}}, \"marker\": {\"colorbar\": {\"outlinewidth\": 0, \"ticks\": \"\"}}, \"type\": \"scatter3d\"}], \"scattercarpet\": [{\"marker\": {\"colorbar\": {\"outlinewidth\": 0, \"ticks\": \"\"}}, \"type\": \"scattercarpet\"}], \"scattergeo\": [{\"marker\": {\"colorbar\": {\"outlinewidth\": 0, \"ticks\": \"\"}}, \"type\": \"scattergeo\"}], \"scattergl\": [{\"marker\": {\"colorbar\": {\"outlinewidth\": 0, \"ticks\": \"\"}}, \"type\": \"scattergl\"}], \"scattermapbox\": [{\"marker\": {\"colorbar\": {\"outlinewidth\": 0, \"ticks\": \"\"}}, \"type\": \"scattermapbox\"}], \"scatterpolar\": [{\"marker\": {\"colorbar\": {\"outlinewidth\": 0, \"ticks\": \"\"}}, \"type\": \"scatterpolar\"}], \"scatterpolargl\": [{\"marker\": {\"colorbar\": {\"outlinewidth\": 0, \"ticks\": \"\"}}, \"type\": \"scatterpolargl\"}], \"scatterternary\": [{\"marker\": {\"colorbar\": {\"outlinewidth\": 0, \"ticks\": \"\"}}, \"type\": \"scatterternary\"}], \"surface\": [{\"colorbar\": {\"outlinewidth\": 0, \"ticks\": \"\"}, \"colorscale\": [[0.0, \"#0d0887\"], [0.1111111111111111, \"#46039f\"], [0.2222222222222222, \"#7201a8\"], [0.3333333333333333, \"#9c179e\"], [0.4444444444444444, \"#bd3786\"], [0.5555555555555556, \"#d8576b\"], [0.6666666666666666, \"#ed7953\"], [0.7777777777777778, \"#fb9f3a\"], [0.8888888888888888, \"#fdca26\"], [1.0, \"#f0f921\"]], \"type\": \"surface\"}], \"table\": [{\"cells\": {\"fill\": {\"color\": \"#EBF0F8\"}, \"line\": {\"color\": \"white\"}}, \"header\": {\"fill\": {\"color\": \"#C8D4E3\"}, \"line\": {\"color\": \"white\"}}, \"type\": \"table\"}]}, \"layout\": {\"annotationdefaults\": {\"arrowcolor\": \"#2a3f5f\", \"arrowhead\": 0, \"arrowwidth\": 1}, \"coloraxis\": {\"colorbar\": {\"outlinewidth\": 0, \"ticks\": \"\"}}, \"colorscale\": {\"diverging\": [[0, \"#8e0152\"], [0.1, \"#c51b7d\"], [0.2, \"#de77ae\"], [0.3, \"#f1b6da\"], [0.4, \"#fde0ef\"], [0.5, \"#f7f7f7\"], [0.6, \"#e6f5d0\"], [0.7, \"#b8e186\"], [0.8, \"#7fbc41\"], [0.9, \"#4d9221\"], [1, \"#276419\"]], \"sequential\": [[0.0, \"#0d0887\"], [0.1111111111111111, \"#46039f\"], [0.2222222222222222, \"#7201a8\"], [0.3333333333333333, \"#9c179e\"], [0.4444444444444444, \"#bd3786\"], [0.5555555555555556, \"#d8576b\"], [0.6666666666666666, \"#ed7953\"], [0.7777777777777778, \"#fb9f3a\"], [0.8888888888888888, \"#fdca26\"], [1.0, \"#f0f921\"]], \"sequentialminus\": [[0.0, \"#0d0887\"], [0.1111111111111111, \"#46039f\"], [0.2222222222222222, \"#7201a8\"], [0.3333333333333333, \"#9c179e\"], [0.4444444444444444, \"#bd3786\"], [0.5555555555555556, \"#d8576b\"], [0.6666666666666666, \"#ed7953\"], [0.7777777777777778, \"#fb9f3a\"], [0.8888888888888888, \"#fdca26\"], [1.0, \"#f0f921\"]]}, \"colorway\": [\"#636efa\", \"#EF553B\", \"#00cc96\", \"#ab63fa\", \"#FFA15A\", \"#19d3f3\", \"#FF6692\", \"#B6E880\", \"#FF97FF\", \"#FECB52\"], \"font\": {\"color\": \"#2a3f5f\"}, \"geo\": {\"bgcolor\": \"white\", \"lakecolor\": \"white\", \"landcolor\": \"#E5ECF6\", \"showlakes\": true, \"showland\": true, \"subunitcolor\": \"white\"}, \"hoverlabel\": {\"align\": \"left\"}, \"hovermode\": \"closest\", \"mapbox\": {\"style\": \"light\"}, \"paper_bgcolor\": \"white\", \"plot_bgcolor\": \"#E5ECF6\", \"polar\": {\"angularaxis\": {\"gridcolor\": \"white\", \"linecolor\": \"white\", \"ticks\": \"\"}, \"bgcolor\": \"#E5ECF6\", \"radialaxis\": {\"gridcolor\": \"white\", \"linecolor\": \"white\", \"ticks\": \"\"}}, \"scene\": {\"xaxis\": {\"backgroundcolor\": \"#E5ECF6\", \"gridcolor\": \"white\", \"gridwidth\": 2, \"linecolor\": \"white\", \"showbackground\": true, \"ticks\": \"\", \"zerolinecolor\": \"white\"}, \"yaxis\": {\"backgroundcolor\": \"#E5ECF6\", \"gridcolor\": \"white\", \"gridwidth\": 2, \"linecolor\": \"white\", \"showbackground\": true, \"ticks\": \"\", \"zerolinecolor\": \"white\"}, \"zaxis\": {\"backgroundcolor\": \"#E5ECF6\", \"gridcolor\": \"white\", \"gridwidth\": 2, \"linecolor\": \"white\", \"showbackground\": true, \"ticks\": \"\", \"zerolinecolor\": \"white\"}}, \"shapedefaults\": {\"line\": {\"color\": \"#2a3f5f\"}}, \"ternary\": {\"aaxis\": {\"gridcolor\": \"white\", \"linecolor\": \"white\", \"ticks\": \"\"}, \"baxis\": {\"gridcolor\": \"white\", \"linecolor\": \"white\", \"ticks\": \"\"}, \"bgcolor\": \"#E5ECF6\", \"caxis\": {\"gridcolor\": \"white\", \"linecolor\": \"white\", \"ticks\": \"\"}}, \"title\": {\"x\": 0.05}, \"xaxis\": {\"automargin\": true, \"gridcolor\": \"white\", \"linecolor\": \"white\", \"ticks\": \"\", \"title\": {\"standoff\": 15}, \"zerolinecolor\": \"white\", \"zerolinewidth\": 2}, \"yaxis\": {\"automargin\": true, \"gridcolor\": \"white\", \"linecolor\": \"white\", \"ticks\": \"\", \"title\": {\"standoff\": 15}, \"zerolinecolor\": \"white\", \"zerolinewidth\": 2}}}, \"title\": {\"text\": \"C=0.3\"}, \"width\": 600},\n",
       "                        {\"responsive\": true}\n",
       "                    ).then(function(){\n",
       "                            \n",
       "var gd = document.getElementById('a98c7ab4-7044-4033-ab2e-4edff0ff04b6');\n",
       "var x = new MutationObserver(function (mutations, observer) {{\n",
       "        var display = window.getComputedStyle(gd).display;\n",
       "        if (!display || display === 'none') {{\n",
       "            console.log([gd, 'removed!']);\n",
       "            Plotly.purge(gd);\n",
       "            observer.disconnect();\n",
       "        }}\n",
       "}});\n",
       "\n",
       "// Listen for the removal of the full notebook cells\n",
       "var notebookContainer = gd.closest('#notebook-container');\n",
       "if (notebookContainer) {{\n",
       "    x.observe(notebookContainer, {childList: true});\n",
       "}}\n",
       "\n",
       "// Listen for the clearing of the current output cell\n",
       "var outputEl = gd.closest('.output');\n",
       "if (outputEl) {{\n",
       "    x.observe(outputEl, {childList: true});\n",
       "}}\n",
       "\n",
       "                        })\n",
       "                };\n",
       "                });\n",
       "            </script>\n",
       "        </div>"
      ]
     },
     "metadata": {},
     "output_type": "display_data"
    }
   ],
   "source": [
    "# outliers\n",
    "\n",
    "# fit the model\n",
    "clf = svm.SVC(kernel=\"linear\", C = 0.3)\n",
    "clf.fit(X, y)\n",
    "\n",
    "fig = go.Figure()\n",
    "plot_data_decision_line(X,y,clf,fig,\"C=0.3\")\n",
    "x_l = np.linspace(-1, 1, 2)\n",
    "fig.add_trace(go.Scatter(x=x_l, y=x_l, mode='lines', name='y=x'))\n",
    "fig.show()"
   ]
  },
  {
   "cell_type": "code",
   "execution_count": 52,
   "metadata": {},
   "outputs": [],
   "source": [
    "save_figure_to_file(fig,'../Slides/scikitlearn','svm8')"
   ]
  },
  {
   "cell_type": "code",
   "execution_count": 53,
   "metadata": {
    "colab": {
     "base_uri": "https://localhost:8080/",
     "height": 542
    },
    "colab_type": "code",
    "id": "4E7y9Jtf2uUw",
    "outputId": "3f95b60d-3702-487b-8add-c1d0f859af4e"
   },
   "outputs": [
    {
     "data": {
      "application/vnd.plotly.v1+json": {
       "config": {
        "plotlyServerURL": "https://plot.ly"
       },
       "data": [
        {
         "marker": {
          "color": [
           -1,
           -1,
           -1,
           -1,
           -1,
           -1,
           -1,
           -1,
           -1,
           -1,
           -1,
           -1,
           -1,
           -1,
           -1,
           -1,
           1,
           1,
           1,
           1,
           1,
           1,
           1,
           1,
           1,
           1,
           1,
           1,
           1,
           1,
           1,
           1
          ],
          "colorscale": [
           [
            0,
            "rgb(103,0,31)"
           ],
           [
            0.1,
            "rgb(178,24,43)"
           ],
           [
            0.2,
            "rgb(214,96,77)"
           ],
           [
            0.3,
            "rgb(244,165,130)"
           ],
           [
            0.4,
            "rgb(253,219,199)"
           ],
           [
            0.5,
            "rgb(247,247,247)"
           ],
           [
            0.6,
            "rgb(209,229,240)"
           ],
           [
            0.7,
            "rgb(146,197,222)"
           ],
           [
            0.8,
            "rgb(67,147,195)"
           ],
           [
            0.9,
            "rgb(33,102,172)"
           ],
           [
            1,
            "rgb(5,48,97)"
           ]
          ],
          "size": 10
         },
         "mode": "markers",
         "showlegend": false,
         "type": "scatter",
         "x": [
          -1.512117359696152,
          -1.5731042930503436,
          -0.889730746242863,
          -0.8405776125645029,
          -0.8501551345955893,
          -1.225002500598221,
          -0.18590400594354758,
          -0.6620382072541084,
          -1.1171708682266035,
          -0.4938742690541556,
          0.27389668022115576,
          -0.651750800556273,
          -0.5556308871745923,
          -1.4527038762631654,
          -0.9121542856330791,
          0.10709716107891697,
          0.8049302517051605,
          1.5812470375253989,
          0.969872745066462,
          1.1751639676603618,
          0.7319129852750528,
          -0.12313312608675064,
          -0.2962987480344252,
          0.9725062108511886,
          1.0678443741594306,
          1.2070941983572607,
          1.649182980805211,
          1.0129942486307226,
          0.5824693463227527,
          0.9643714057089006,
          0.49820793921688195,
          0.9264021518819674
         ],
         "y": [
          0.6326159404448071,
          0.523571674949873,
          0.009582466983337867,
          0.8788875743282978,
          0.4630702536353386,
          1.502261195264805,
          0.3086811407380154,
          -0.12795520862562182,
          0.33748814833885665,
          0.7602083925794624,
          0.8692292782418465,
          0.7478592265234146,
          0.2602863500069091,
          0.23108263898689382,
          1.1978662392035826,
          1.6248417277820537,
          -1.0107303102145193,
          -1.0620637417134287,
          -0.9428075397654472,
          0.19440790065188226,
          -1.4927435983373858,
          -0.7276496300090699,
          -0.5789598377417315,
          -0.7723874068197811,
          -0.7339302730420824,
          -0.49983168222143143,
          -0.8490049863140133,
          -0.05972241090231262,
          -0.8520418001858572,
          -0.368382182520039,
          -1.1283124314099346,
          -0.7442431273342497
         ]
        },
        {
         "colorscale": [
          [
           0,
           "rgb(103,0,31)"
          ],
          [
           0.1,
           "rgb(178,24,43)"
          ],
          [
           0.2,
           "rgb(214,96,77)"
          ],
          [
           0.3,
           "rgb(244,165,130)"
          ],
          [
           0.4,
           "rgb(253,219,199)"
          ],
          [
           0.5,
           "rgb(247,247,247)"
          ],
          [
           0.6,
           "rgb(209,229,240)"
          ],
          [
           0.7,
           "rgb(146,197,222)"
          ],
          [
           0.8,
           "rgb(67,147,195)"
          ],
          [
           0.9,
           "rgb(33,102,172)"
          ],
          [
           1,
           "rgb(5,48,97)"
          ]
         ],
         "type": "contour",
         "x": [
          -2,
          -1.7894736842105263,
          -1.5789473684210527,
          -1.368421052631579,
          -1.1578947368421053,
          -0.9473684210526316,
          -0.736842105263158,
          -0.5263157894736843,
          -0.3157894736842106,
          -0.10526315789473695,
          0.10526315789473673,
          0.3157894736842106,
          0.5263157894736841,
          0.7368421052631575,
          0.9473684210526314,
          1.1578947368421053,
          1.3684210526315788,
          1.5789473684210522,
          1.789473684210526,
          2
         ],
         "y": [
          -2,
          -1.7894736842105263,
          -1.5789473684210527,
          -1.368421052631579,
          -1.1578947368421053,
          -0.9473684210526316,
          -0.736842105263158,
          -0.5263157894736843,
          -0.3157894736842106,
          -0.10526315789473695,
          0.10526315789473673,
          0.3157894736842106,
          0.5263157894736841,
          0.7368421052631575,
          0.9473684210526314,
          1.1578947368421053,
          1.3684210526315788,
          1.5789473684210522,
          1.789473684210526,
          2
         ],
         "z": [
          [
           0.7753433324247242,
           1.0073238209554574,
           1.2393043094861902,
           1.471284798016923,
           1.7032652865476556,
           1.935245775078389,
           2.167226263609122,
           2.399206752139855,
           2.6311872406705876,
           2.863167729201321,
           3.0951482177320537,
           3.3271287062627866,
           3.55910919479352,
           3.7910896833242527,
           4.023070171854987,
           4.255050660385719,
           4.487031148916452,
           4.719011637447185,
           4.950992125977918,
           5.182972614508652
          ],
          [
           0.46122140413834395,
           0.6932018926690765,
           0.9251823811998096,
           1.1571628697305423,
           1.3891433582612756,
           1.6211238467920084,
           1.8531043353227414,
           2.085084823853474,
           2.3170653123842073,
           2.5490458009149406,
           2.781026289445673,
           3.0130067779764063,
           3.244987266507139,
           3.4769677550378715,
           3.708948243568605,
           3.9409287320993385,
           4.172909220630071,
           4.404889709160805,
           4.636870197691538,
           4.86885068622227
          ],
          [
           0.14709947585196298,
           0.3790799643826958,
           0.611060452913429,
           0.8430409414441619,
           1.0750214299748948,
           1.3070019185056276,
           1.538982407036361,
           1.7709628955670937,
           2.0029433840978266,
           2.2349238726285594,
           2.4669043611592927,
           2.6988848496900255,
           2.9308653382207583,
           3.162845826751491,
           3.394826315282224,
           3.6268068038129573,
           3.85878729234369,
           4.090767780874423,
           4.322748269405157,
           4.55472875793589
          ],
          [
           -0.16702245243441755,
           0.06495803609631506,
           0.29693852462704834,
           0.5289190131577809,
           0.760899501688514,
           0.9928799902192472,
           1.2248604787499802,
           1.456840967280713,
           1.688821455811446,
           1.9208019443421789,
           2.152782432872912,
           2.3847629214036448,
           2.6167434099343776,
           2.848723898465111,
           3.080704386995844,
           3.3126848755265765,
           3.5446653640573094,
           3.776645852588043,
           4.008626341118776,
           4.24060682964951
          ],
          [
           -0.48114438072079874,
           -0.24916389219006568,
           -0.017183403659332637,
           0.21479708487140042,
           0.44677757340213337,
           0.6787580619328665,
           0.9107385504635993,
           1.1427190389943325,
           1.3746995275250655,
           1.6066800160557981,
           1.8386605045865314,
           2.0706409931172645,
           2.302621481647997,
           2.5346019701787297,
           2.7665824587094634,
           2.9985629472401962,
           3.230543435770929,
           3.4625239243016614,
           3.6945044128323947,
           3.926484901363128
          ],
          [
           -0.7952663090071791,
           -0.5632858204764465,
           -0.33130533194571316,
           -0.09932484341498032,
           0.13265564511575295,
           0.3646361336464859,
           0.5966166221772188,
           0.8285971107079518,
           1.060577599238685,
           1.2925580877694178,
           1.5245385763001507,
           1.756519064830884,
           1.988499553361617,
           2.2204800418923494,
           2.452460530423082,
           2.684441018953816,
           2.9164215074845483,
           3.148401996015281,
           3.3803824845460144,
           3.6123629730767477
          ],
          [
           -1.10938823729356,
           -0.877407748762827,
           -0.6454272602320937,
           -0.41344677170136085,
           -0.18146628317062768,
           0.05051420536010503,
           0.2824946938908381,
           0.5144751824215711,
           0.7464556709523041,
           0.978436159483037,
           1.2104166480137701,
           1.4423971365445034,
           1.674377625075236,
           1.9063581136059686,
           2.138338602136702,
           2.3703190906674347,
           2.6022995791981676,
           2.834280067728901,
           3.0662605562596337,
           3.298241044790366
          ],
          [
           -1.4235101655799405,
           -1.1915296770492072,
           -0.9595491885184745,
           -0.7275686999877417,
           -0.49558821145700854,
           -0.2636077229262755,
           -0.031627234395542554,
           0.2003532541351905,
           0.43233374266592345,
           0.6643142311966564,
           0.8962947197273894,
           1.1282752082581227,
           1.3602556967888555,
           1.5922361853195883,
           1.8242166738503212,
           2.0561971623810544,
           2.2881776509117873,
           2.52015813944252,
           2.752138627973252,
           2.9841191165039858
          ],
          [
           -1.7376320938663203,
           -1.5056516053355882,
           -1.2736711168048547,
           -1.0416906282741223,
           -0.8097101397433892,
           -0.5777296512126562,
           -0.3457491626819231,
           -0.11376867415119019,
           0.11821181437954287,
           0.3501923029102758,
           0.5821727914410088,
           0.814153279971742,
           1.0461337685024747,
           1.2781142570332076,
           1.5100947455639409,
           1.742075234094674,
           1.9740557226254067,
           2.2060362111561393,
           2.4380166996868726,
           2.669997188217605
          ],
          [
           -2.0517540221527013,
           -1.8197735336219691,
           -1.5877930450912356,
           -1.3558125565605026,
           -1.1238320680297698,
           -0.8918515794990366,
           -0.6598710909683038,
           -0.42789060243757077,
           -0.19591011390683782,
           0.03607037462389514,
           0.2680508631546281,
           0.5000313516853613,
           0.7320118402160941,
           0.9639923287468267,
           1.1959728172775599,
           1.4279533058082932,
           1.659933794339026,
           1.8919142828697586,
           2.1238947714004914,
           2.3558752599312247
          ],
          [
           -2.365875950439082,
           -2.1338954619083492,
           -1.9019149733776166,
           -1.6699344848468831,
           -1.4379539963161505,
           -1.2059735077854175,
           -0.9739930192546845,
           -0.7420125307239516,
           -0.5100320421932186,
           -0.2780515536624855,
           -0.046071065131752485,
           0.18590942339898073,
           0.4178899119297135,
           0.6498704004604459,
           0.8818508889911795,
           1.1138313775219129,
           1.3458118660526452,
           1.577792354583378,
           1.8097728431141111,
           2.0417533316448444
          ],
          [
           -2.679997878725463,
           -2.4480173901947304,
           -2.216036901663997,
           -1.9840564131332645,
           -1.7520759246025313,
           -1.520095436071798,
           -1.2881149475410651,
           -1.0561344590103323,
           -0.8241539704795996,
           -0.5921734819488665,
           -0.3601929934181335,
           -0.12821250488740032,
           0.10376798364333245,
           0.3357484721740651,
           0.5677289607047985,
           0.7997094492355317,
           1.0316899377662645,
           1.263670426296997,
           1.4956509148277302,
           1.727631403358463
          ],
          [
           -2.994119807011843,
           -2.7621393184811103,
           -2.530158829950378,
           -2.298178341419645,
           -2.0661978528889122,
           -1.8342173643581783,
           -1.6022368758274455,
           -1.3702563872967126,
           -1.1382758987659798,
           -0.9062954102352468,
           -0.6743149217045138,
           -0.44233443317378063,
           -0.21035394464304774,
           0.02162654388768486,
           0.25360703241841825,
           0.4855875209491511,
           0.717568009479884,
           0.9495484980106169,
           1.1815289865413503,
           1.4135094750720831
          ],
          [
           -3.3082417352982234,
           -3.076261246767491,
           -2.844280758236758,
           -2.612300269706025,
           -2.380319781175292,
           -2.148339292644559,
           -1.9163588041138262,
           -1.684378315583093,
           -1.45239782705236,
           -1.220417338521627,
           -0.9884368499908941,
           -0.756456361460161,
           -0.5244758729294282,
           -0.29249538439869555,
           -0.060514895867961944,
           0.17146559266277078,
           0.4034460811935037,
           0.6354265697242362,
           0.8674070582549698,
           1.0993875467857024
          ],
          [
           -3.6223636635846046,
           -3.3903831750538718,
           -3.158402686523139,
           -2.926422197992406,
           -2.694441709461673,
           -2.46246122093094,
           -2.230480732400207,
           -1.998500243869474,
           -1.766519755338741,
           -1.534539266808008,
           -1.3025587782772752,
           -1.070578289746542,
           -0.8385978012158093,
           -0.6066173126850767,
           -0.37463682415434324,
           -0.14265633562361008,
           0.08932415290712264,
           0.3213046414378557,
           0.5532851299685883,
           0.7852656184993217
          ],
          [
           -3.936485591870986,
           -3.704505103340253,
           -3.4725246148095197,
           -3.240544126278787,
           -3.008563637748054,
           -2.776583149217321,
           -2.5446026606865884,
           -2.3126221721558546,
           -2.0806416836251223,
           -1.8486611950943892,
           -1.616680706563656,
           -1.3847002180329229,
           -1.1527197295021898,
           -0.9207392409714574,
           -0.688758752440724,
           -0.4567782639099908,
           -0.2247977753792581,
           0.007182713151474723,
           0.23916320168220756,
           0.4711436902129413
          ],
          [
           -4.250607520157366,
           -4.018627031626633,
           -3.7866465430959004,
           -3.5546660545651676,
           -3.3226855660344343,
           -3.090705077503702,
           -2.8587245889729687,
           -2.626744100442236,
           -2.3947636119115026,
           -2.1627831233807697,
           -1.9308026348500367,
           -1.6988221463193034,
           -1.4668416577885706,
           -1.2348611692578377,
           -1.0028806807271045,
           -0.7709001921963713,
           -0.5389197036656389,
           -0.306939215134906,
           -0.07495872660417296,
           0.1570217619265603
          ],
          [
           -4.564729448443745,
           -4.332748959913014,
           -4.10076847138228,
           -3.8687879828515483,
           -3.636807494320815,
           -3.4048270057900822,
           -3.172846517259349,
           -2.9408660287286157,
           -2.708885540197883,
           -2.4769050516671496,
           -2.244924563136417,
           -2.012944074605684,
           -1.7809635860749509,
           -1.548983097544218,
           -1.3170026090134848,
           -1.0850221204827515,
           -0.853041631952019,
           -0.6210611434212864,
           -0.38908065489055327,
           -0.15710016635981955
          ],
          [
           -4.878851376730127,
           -4.646870888199395,
           -4.4148903996686615,
           -4.182909911137928,
           -3.950929422607196,
           -3.718948934076463,
           -3.4869684455457297,
           -3.2549879570149964,
           -3.023007468484264,
           -2.7910269799535308,
           -2.559046491422798,
           -2.3270660028920647,
           -2.0950855143613323,
           -1.863105025830599,
           -1.631124537299866,
           -1.3991440487691322,
           -1.1671635602383998,
           -0.9351830717076671,
           -0.7032025831769345,
           -0.4712220946462012
          ],
          [
           -5.192973305016509,
           -4.960992816485775,
           -4.729012327955042,
           -4.497031839424309,
           -4.265051350893576,
           -4.033070862362844,
           -3.801090373832111,
           -3.5691098853013776,
           -3.3371293967706444,
           -3.1051489082399115,
           -2.8731684197091787,
           -2.6411879311784454,
           -2.409207442647713,
           -2.17722695411698,
           -1.9452464655862467,
           -1.713265977055513,
           -1.4812854885247806,
           -1.249304999994048,
           -1.0173245114633152,
           -0.7853440229325818
          ]
         ]
        }
       ],
       "layout": {
        "template": {
         "data": {
          "bar": [
           {
            "error_x": {
             "color": "#2a3f5f"
            },
            "error_y": {
             "color": "#2a3f5f"
            },
            "marker": {
             "line": {
              "color": "#E5ECF6",
              "width": 0.5
             }
            },
            "type": "bar"
           }
          ],
          "barpolar": [
           {
            "marker": {
             "line": {
              "color": "#E5ECF6",
              "width": 0.5
             }
            },
            "type": "barpolar"
           }
          ],
          "carpet": [
           {
            "aaxis": {
             "endlinecolor": "#2a3f5f",
             "gridcolor": "white",
             "linecolor": "white",
             "minorgridcolor": "white",
             "startlinecolor": "#2a3f5f"
            },
            "baxis": {
             "endlinecolor": "#2a3f5f",
             "gridcolor": "white",
             "linecolor": "white",
             "minorgridcolor": "white",
             "startlinecolor": "#2a3f5f"
            },
            "type": "carpet"
           }
          ],
          "choropleth": [
           {
            "colorbar": {
             "outlinewidth": 0,
             "ticks": ""
            },
            "type": "choropleth"
           }
          ],
          "contour": [
           {
            "colorbar": {
             "outlinewidth": 0,
             "ticks": ""
            },
            "colorscale": [
             [
              0,
              "#0d0887"
             ],
             [
              0.1111111111111111,
              "#46039f"
             ],
             [
              0.2222222222222222,
              "#7201a8"
             ],
             [
              0.3333333333333333,
              "#9c179e"
             ],
             [
              0.4444444444444444,
              "#bd3786"
             ],
             [
              0.5555555555555556,
              "#d8576b"
             ],
             [
              0.6666666666666666,
              "#ed7953"
             ],
             [
              0.7777777777777778,
              "#fb9f3a"
             ],
             [
              0.8888888888888888,
              "#fdca26"
             ],
             [
              1,
              "#f0f921"
             ]
            ],
            "type": "contour"
           }
          ],
          "contourcarpet": [
           {
            "colorbar": {
             "outlinewidth": 0,
             "ticks": ""
            },
            "type": "contourcarpet"
           }
          ],
          "heatmap": [
           {
            "colorbar": {
             "outlinewidth": 0,
             "ticks": ""
            },
            "colorscale": [
             [
              0,
              "#0d0887"
             ],
             [
              0.1111111111111111,
              "#46039f"
             ],
             [
              0.2222222222222222,
              "#7201a8"
             ],
             [
              0.3333333333333333,
              "#9c179e"
             ],
             [
              0.4444444444444444,
              "#bd3786"
             ],
             [
              0.5555555555555556,
              "#d8576b"
             ],
             [
              0.6666666666666666,
              "#ed7953"
             ],
             [
              0.7777777777777778,
              "#fb9f3a"
             ],
             [
              0.8888888888888888,
              "#fdca26"
             ],
             [
              1,
              "#f0f921"
             ]
            ],
            "type": "heatmap"
           }
          ],
          "heatmapgl": [
           {
            "colorbar": {
             "outlinewidth": 0,
             "ticks": ""
            },
            "colorscale": [
             [
              0,
              "#0d0887"
             ],
             [
              0.1111111111111111,
              "#46039f"
             ],
             [
              0.2222222222222222,
              "#7201a8"
             ],
             [
              0.3333333333333333,
              "#9c179e"
             ],
             [
              0.4444444444444444,
              "#bd3786"
             ],
             [
              0.5555555555555556,
              "#d8576b"
             ],
             [
              0.6666666666666666,
              "#ed7953"
             ],
             [
              0.7777777777777778,
              "#fb9f3a"
             ],
             [
              0.8888888888888888,
              "#fdca26"
             ],
             [
              1,
              "#f0f921"
             ]
            ],
            "type": "heatmapgl"
           }
          ],
          "histogram": [
           {
            "marker": {
             "colorbar": {
              "outlinewidth": 0,
              "ticks": ""
             }
            },
            "type": "histogram"
           }
          ],
          "histogram2d": [
           {
            "colorbar": {
             "outlinewidth": 0,
             "ticks": ""
            },
            "colorscale": [
             [
              0,
              "#0d0887"
             ],
             [
              0.1111111111111111,
              "#46039f"
             ],
             [
              0.2222222222222222,
              "#7201a8"
             ],
             [
              0.3333333333333333,
              "#9c179e"
             ],
             [
              0.4444444444444444,
              "#bd3786"
             ],
             [
              0.5555555555555556,
              "#d8576b"
             ],
             [
              0.6666666666666666,
              "#ed7953"
             ],
             [
              0.7777777777777778,
              "#fb9f3a"
             ],
             [
              0.8888888888888888,
              "#fdca26"
             ],
             [
              1,
              "#f0f921"
             ]
            ],
            "type": "histogram2d"
           }
          ],
          "histogram2dcontour": [
           {
            "colorbar": {
             "outlinewidth": 0,
             "ticks": ""
            },
            "colorscale": [
             [
              0,
              "#0d0887"
             ],
             [
              0.1111111111111111,
              "#46039f"
             ],
             [
              0.2222222222222222,
              "#7201a8"
             ],
             [
              0.3333333333333333,
              "#9c179e"
             ],
             [
              0.4444444444444444,
              "#bd3786"
             ],
             [
              0.5555555555555556,
              "#d8576b"
             ],
             [
              0.6666666666666666,
              "#ed7953"
             ],
             [
              0.7777777777777778,
              "#fb9f3a"
             ],
             [
              0.8888888888888888,
              "#fdca26"
             ],
             [
              1,
              "#f0f921"
             ]
            ],
            "type": "histogram2dcontour"
           }
          ],
          "mesh3d": [
           {
            "colorbar": {
             "outlinewidth": 0,
             "ticks": ""
            },
            "type": "mesh3d"
           }
          ],
          "parcoords": [
           {
            "line": {
             "colorbar": {
              "outlinewidth": 0,
              "ticks": ""
             }
            },
            "type": "parcoords"
           }
          ],
          "pie": [
           {
            "automargin": true,
            "type": "pie"
           }
          ],
          "scatter": [
           {
            "marker": {
             "colorbar": {
              "outlinewidth": 0,
              "ticks": ""
             }
            },
            "type": "scatter"
           }
          ],
          "scatter3d": [
           {
            "line": {
             "colorbar": {
              "outlinewidth": 0,
              "ticks": ""
             }
            },
            "marker": {
             "colorbar": {
              "outlinewidth": 0,
              "ticks": ""
             }
            },
            "type": "scatter3d"
           }
          ],
          "scattercarpet": [
           {
            "marker": {
             "colorbar": {
              "outlinewidth": 0,
              "ticks": ""
             }
            },
            "type": "scattercarpet"
           }
          ],
          "scattergeo": [
           {
            "marker": {
             "colorbar": {
              "outlinewidth": 0,
              "ticks": ""
             }
            },
            "type": "scattergeo"
           }
          ],
          "scattergl": [
           {
            "marker": {
             "colorbar": {
              "outlinewidth": 0,
              "ticks": ""
             }
            },
            "type": "scattergl"
           }
          ],
          "scattermapbox": [
           {
            "marker": {
             "colorbar": {
              "outlinewidth": 0,
              "ticks": ""
             }
            },
            "type": "scattermapbox"
           }
          ],
          "scatterpolar": [
           {
            "marker": {
             "colorbar": {
              "outlinewidth": 0,
              "ticks": ""
             }
            },
            "type": "scatterpolar"
           }
          ],
          "scatterpolargl": [
           {
            "marker": {
             "colorbar": {
              "outlinewidth": 0,
              "ticks": ""
             }
            },
            "type": "scatterpolargl"
           }
          ],
          "scatterternary": [
           {
            "marker": {
             "colorbar": {
              "outlinewidth": 0,
              "ticks": ""
             }
            },
            "type": "scatterternary"
           }
          ],
          "surface": [
           {
            "colorbar": {
             "outlinewidth": 0,
             "ticks": ""
            },
            "colorscale": [
             [
              0,
              "#0d0887"
             ],
             [
              0.1111111111111111,
              "#46039f"
             ],
             [
              0.2222222222222222,
              "#7201a8"
             ],
             [
              0.3333333333333333,
              "#9c179e"
             ],
             [
              0.4444444444444444,
              "#bd3786"
             ],
             [
              0.5555555555555556,
              "#d8576b"
             ],
             [
              0.6666666666666666,
              "#ed7953"
             ],
             [
              0.7777777777777778,
              "#fb9f3a"
             ],
             [
              0.8888888888888888,
              "#fdca26"
             ],
             [
              1,
              "#f0f921"
             ]
            ],
            "type": "surface"
           }
          ],
          "table": [
           {
            "cells": {
             "fill": {
              "color": "#EBF0F8"
             },
             "line": {
              "color": "white"
             }
            },
            "header": {
             "fill": {
              "color": "#C8D4E3"
             },
             "line": {
              "color": "white"
             }
            },
            "type": "table"
           }
          ]
         },
         "layout": {
          "annotationdefaults": {
           "arrowcolor": "#2a3f5f",
           "arrowhead": 0,
           "arrowwidth": 1
          },
          "coloraxis": {
           "colorbar": {
            "outlinewidth": 0,
            "ticks": ""
           }
          },
          "colorscale": {
           "diverging": [
            [
             0,
             "#8e0152"
            ],
            [
             0.1,
             "#c51b7d"
            ],
            [
             0.2,
             "#de77ae"
            ],
            [
             0.3,
             "#f1b6da"
            ],
            [
             0.4,
             "#fde0ef"
            ],
            [
             0.5,
             "#f7f7f7"
            ],
            [
             0.6,
             "#e6f5d0"
            ],
            [
             0.7,
             "#b8e186"
            ],
            [
             0.8,
             "#7fbc41"
            ],
            [
             0.9,
             "#4d9221"
            ],
            [
             1,
             "#276419"
            ]
           ],
           "sequential": [
            [
             0,
             "#0d0887"
            ],
            [
             0.1111111111111111,
             "#46039f"
            ],
            [
             0.2222222222222222,
             "#7201a8"
            ],
            [
             0.3333333333333333,
             "#9c179e"
            ],
            [
             0.4444444444444444,
             "#bd3786"
            ],
            [
             0.5555555555555556,
             "#d8576b"
            ],
            [
             0.6666666666666666,
             "#ed7953"
            ],
            [
             0.7777777777777778,
             "#fb9f3a"
            ],
            [
             0.8888888888888888,
             "#fdca26"
            ],
            [
             1,
             "#f0f921"
            ]
           ],
           "sequentialminus": [
            [
             0,
             "#0d0887"
            ],
            [
             0.1111111111111111,
             "#46039f"
            ],
            [
             0.2222222222222222,
             "#7201a8"
            ],
            [
             0.3333333333333333,
             "#9c179e"
            ],
            [
             0.4444444444444444,
             "#bd3786"
            ],
            [
             0.5555555555555556,
             "#d8576b"
            ],
            [
             0.6666666666666666,
             "#ed7953"
            ],
            [
             0.7777777777777778,
             "#fb9f3a"
            ],
            [
             0.8888888888888888,
             "#fdca26"
            ],
            [
             1,
             "#f0f921"
            ]
           ]
          },
          "colorway": [
           "#636efa",
           "#EF553B",
           "#00cc96",
           "#ab63fa",
           "#FFA15A",
           "#19d3f3",
           "#FF6692",
           "#B6E880",
           "#FF97FF",
           "#FECB52"
          ],
          "font": {
           "color": "#2a3f5f"
          },
          "geo": {
           "bgcolor": "white",
           "lakecolor": "white",
           "landcolor": "#E5ECF6",
           "showlakes": true,
           "showland": true,
           "subunitcolor": "white"
          },
          "hoverlabel": {
           "align": "left"
          },
          "hovermode": "closest",
          "mapbox": {
           "style": "light"
          },
          "paper_bgcolor": "white",
          "plot_bgcolor": "#E5ECF6",
          "polar": {
           "angularaxis": {
            "gridcolor": "white",
            "linecolor": "white",
            "ticks": ""
           },
           "bgcolor": "#E5ECF6",
           "radialaxis": {
            "gridcolor": "white",
            "linecolor": "white",
            "ticks": ""
           }
          },
          "scene": {
           "xaxis": {
            "backgroundcolor": "#E5ECF6",
            "gridcolor": "white",
            "gridwidth": 2,
            "linecolor": "white",
            "showbackground": true,
            "ticks": "",
            "zerolinecolor": "white"
           },
           "yaxis": {
            "backgroundcolor": "#E5ECF6",
            "gridcolor": "white",
            "gridwidth": 2,
            "linecolor": "white",
            "showbackground": true,
            "ticks": "",
            "zerolinecolor": "white"
           },
           "zaxis": {
            "backgroundcolor": "#E5ECF6",
            "gridcolor": "white",
            "gridwidth": 2,
            "linecolor": "white",
            "showbackground": true,
            "ticks": "",
            "zerolinecolor": "white"
           }
          },
          "shapedefaults": {
           "line": {
            "color": "#2a3f5f"
           }
          },
          "ternary": {
           "aaxis": {
            "gridcolor": "white",
            "linecolor": "white",
            "ticks": ""
           },
           "baxis": {
            "gridcolor": "white",
            "linecolor": "white",
            "ticks": ""
           },
           "bgcolor": "#E5ECF6",
           "caxis": {
            "gridcolor": "white",
            "linecolor": "white",
            "ticks": ""
           }
          },
          "title": {
           "x": 0.05
          },
          "xaxis": {
           "automargin": true,
           "gridcolor": "white",
           "linecolor": "white",
           "ticks": "",
           "title": {
            "standoff": 15
           },
           "zerolinecolor": "white",
           "zerolinewidth": 2
          },
          "yaxis": {
           "automargin": true,
           "gridcolor": "white",
           "linecolor": "white",
           "ticks": "",
           "title": {
            "standoff": 15
           },
           "zerolinecolor": "white",
           "zerolinewidth": 2
          }
         }
        },
        "title": {
         "text": "Decision function"
        },
        "width": 600
       }
      },
      "text/html": [
       "<div>\n",
       "        \n",
       "        \n",
       "            <div id=\"81d9adf2-0512-4a60-a859-dde3d27a86d5\" class=\"plotly-graph-div\" style=\"height:525px; width:600px;\"></div>\n",
       "            <script type=\"text/javascript\">\n",
       "                require([\"plotly\"], function(Plotly) {\n",
       "                    window.PLOTLYENV=window.PLOTLYENV || {};\n",
       "                    \n",
       "                if (document.getElementById(\"81d9adf2-0512-4a60-a859-dde3d27a86d5\")) {\n",
       "                    Plotly.newPlot(\n",
       "                        '81d9adf2-0512-4a60-a859-dde3d27a86d5',\n",
       "                        [{\"marker\": {\"color\": [-1.0, -1.0, -1.0, -1.0, -1.0, -1.0, -1.0, -1.0, -1.0, -1.0, -1.0, -1.0, -1.0, -1.0, -1.0, -1.0, 1.0, 1.0, 1.0, 1.0, 1.0, 1.0, 1.0, 1.0, 1.0, 1.0, 1.0, 1.0, 1.0, 1.0, 1.0, 1.0], \"colorscale\": [[0.0, \"rgb(103,0,31)\"], [0.1, \"rgb(178,24,43)\"], [0.2, \"rgb(214,96,77)\"], [0.3, \"rgb(244,165,130)\"], [0.4, \"rgb(253,219,199)\"], [0.5, \"rgb(247,247,247)\"], [0.6, \"rgb(209,229,240)\"], [0.7, \"rgb(146,197,222)\"], [0.8, \"rgb(67,147,195)\"], [0.9, \"rgb(33,102,172)\"], [1.0, \"rgb(5,48,97)\"]], \"size\": 10}, \"mode\": \"markers\", \"showlegend\": false, \"type\": \"scatter\", \"x\": [-1.512117359696152, -1.5731042930503436, -0.889730746242863, -0.8405776125645029, -0.8501551345955893, -1.225002500598221, -0.18590400594354758, -0.6620382072541084, -1.1171708682266035, -0.4938742690541556, 0.27389668022115576, -0.651750800556273, -0.5556308871745923, -1.4527038762631654, -0.9121542856330791, 0.10709716107891697, 0.8049302517051605, 1.5812470375253989, 0.969872745066462, 1.1751639676603618, 0.7319129852750528, -0.12313312608675064, -0.2962987480344252, 0.9725062108511886, 1.0678443741594306, 1.2070941983572607, 1.649182980805211, 1.0129942486307226, 0.5824693463227527, 0.9643714057089006, 0.49820793921688195, 0.9264021518819674], \"y\": [0.6326159404448071, 0.523571674949873, 0.009582466983337867, 0.8788875743282978, 0.4630702536353386, 1.502261195264805, 0.3086811407380154, -0.12795520862562182, 0.33748814833885665, 0.7602083925794624, 0.8692292782418465, 0.7478592265234146, 0.2602863500069091, 0.23108263898689382, 1.1978662392035826, 1.6248417277820537, -1.0107303102145193, -1.0620637417134287, -0.9428075397654472, 0.19440790065188226, -1.4927435983373858, -0.7276496300090699, -0.5789598377417315, -0.7723874068197811, -0.7339302730420824, -0.49983168222143143, -0.8490049863140133, -0.05972241090231262, -0.8520418001858572, -0.368382182520039, -1.1283124314099346, -0.7442431273342497]}, {\"colorscale\": [[0.0, \"rgb(103,0,31)\"], [0.1, \"rgb(178,24,43)\"], [0.2, \"rgb(214,96,77)\"], [0.3, \"rgb(244,165,130)\"], [0.4, \"rgb(253,219,199)\"], [0.5, \"rgb(247,247,247)\"], [0.6, \"rgb(209,229,240)\"], [0.7, \"rgb(146,197,222)\"], [0.8, \"rgb(67,147,195)\"], [0.9, \"rgb(33,102,172)\"], [1.0, \"rgb(5,48,97)\"]], \"type\": \"contour\", \"x\": [-2.0, -1.7894736842105263, -1.5789473684210527, -1.368421052631579, -1.1578947368421053, -0.9473684210526316, -0.736842105263158, -0.5263157894736843, -0.3157894736842106, -0.10526315789473695, 0.10526315789473673, 0.3157894736842106, 0.5263157894736841, 0.7368421052631575, 0.9473684210526314, 1.1578947368421053, 1.3684210526315788, 1.5789473684210522, 1.789473684210526, 2.0], \"y\": [-2.0, -1.7894736842105263, -1.5789473684210527, -1.368421052631579, -1.1578947368421053, -0.9473684210526316, -0.736842105263158, -0.5263157894736843, -0.3157894736842106, -0.10526315789473695, 0.10526315789473673, 0.3157894736842106, 0.5263157894736841, 0.7368421052631575, 0.9473684210526314, 1.1578947368421053, 1.3684210526315788, 1.5789473684210522, 1.789473684210526, 2.0], \"z\": [[0.7753433324247242, 1.0073238209554574, 1.2393043094861902, 1.471284798016923, 1.7032652865476556, 1.935245775078389, 2.167226263609122, 2.399206752139855, 2.6311872406705876, 2.863167729201321, 3.0951482177320537, 3.3271287062627866, 3.55910919479352, 3.7910896833242527, 4.023070171854987, 4.255050660385719, 4.487031148916452, 4.719011637447185, 4.950992125977918, 5.182972614508652], [0.46122140413834395, 0.6932018926690765, 0.9251823811998096, 1.1571628697305423, 1.3891433582612756, 1.6211238467920084, 1.8531043353227414, 2.085084823853474, 2.3170653123842073, 2.5490458009149406, 2.781026289445673, 3.0130067779764063, 3.244987266507139, 3.4769677550378715, 3.708948243568605, 3.9409287320993385, 4.172909220630071, 4.404889709160805, 4.636870197691538, 4.86885068622227], [0.14709947585196298, 0.3790799643826958, 0.611060452913429, 0.8430409414441619, 1.0750214299748948, 1.3070019185056276, 1.538982407036361, 1.7709628955670937, 2.0029433840978266, 2.2349238726285594, 2.4669043611592927, 2.6988848496900255, 2.9308653382207583, 3.162845826751491, 3.394826315282224, 3.6268068038129573, 3.85878729234369, 4.090767780874423, 4.322748269405157, 4.55472875793589], [-0.16702245243441755, 0.06495803609631506, 0.29693852462704834, 0.5289190131577809, 0.760899501688514, 0.9928799902192472, 1.2248604787499802, 1.456840967280713, 1.688821455811446, 1.9208019443421789, 2.152782432872912, 2.3847629214036448, 2.6167434099343776, 2.848723898465111, 3.080704386995844, 3.3126848755265765, 3.5446653640573094, 3.776645852588043, 4.008626341118776, 4.24060682964951], [-0.48114438072079874, -0.24916389219006568, -0.017183403659332637, 0.21479708487140042, 0.44677757340213337, 0.6787580619328665, 0.9107385504635993, 1.1427190389943325, 1.3746995275250655, 1.6066800160557981, 1.8386605045865314, 2.0706409931172645, 2.302621481647997, 2.5346019701787297, 2.7665824587094634, 2.9985629472401962, 3.230543435770929, 3.4625239243016614, 3.6945044128323947, 3.926484901363128], [-0.7952663090071791, -0.5632858204764465, -0.33130533194571316, -0.09932484341498032, 0.13265564511575295, 0.3646361336464859, 0.5966166221772188, 0.8285971107079518, 1.060577599238685, 1.2925580877694178, 1.5245385763001507, 1.756519064830884, 1.988499553361617, 2.2204800418923494, 2.452460530423082, 2.684441018953816, 2.9164215074845483, 3.148401996015281, 3.3803824845460144, 3.6123629730767477], [-1.10938823729356, -0.877407748762827, -0.6454272602320937, -0.41344677170136085, -0.18146628317062768, 0.05051420536010503, 0.2824946938908381, 0.5144751824215711, 0.7464556709523041, 0.978436159483037, 1.2104166480137701, 1.4423971365445034, 1.674377625075236, 1.9063581136059686, 2.138338602136702, 2.3703190906674347, 2.6022995791981676, 2.834280067728901, 3.0662605562596337, 3.298241044790366], [-1.4235101655799405, -1.1915296770492072, -0.9595491885184745, -0.7275686999877417, -0.49558821145700854, -0.2636077229262755, -0.031627234395542554, 0.2003532541351905, 0.43233374266592345, 0.6643142311966564, 0.8962947197273894, 1.1282752082581227, 1.3602556967888555, 1.5922361853195883, 1.8242166738503212, 2.0561971623810544, 2.2881776509117873, 2.52015813944252, 2.752138627973252, 2.9841191165039858], [-1.7376320938663203, -1.5056516053355882, -1.2736711168048547, -1.0416906282741223, -0.8097101397433892, -0.5777296512126562, -0.3457491626819231, -0.11376867415119019, 0.11821181437954287, 0.3501923029102758, 0.5821727914410088, 0.814153279971742, 1.0461337685024747, 1.2781142570332076, 1.5100947455639409, 1.742075234094674, 1.9740557226254067, 2.2060362111561393, 2.4380166996868726, 2.669997188217605], [-2.0517540221527013, -1.8197735336219691, -1.5877930450912356, -1.3558125565605026, -1.1238320680297698, -0.8918515794990366, -0.6598710909683038, -0.42789060243757077, -0.19591011390683782, 0.03607037462389514, 0.2680508631546281, 0.5000313516853613, 0.7320118402160941, 0.9639923287468267, 1.1959728172775599, 1.4279533058082932, 1.659933794339026, 1.8919142828697586, 2.1238947714004914, 2.3558752599312247], [-2.365875950439082, -2.1338954619083492, -1.9019149733776166, -1.6699344848468831, -1.4379539963161505, -1.2059735077854175, -0.9739930192546845, -0.7420125307239516, -0.5100320421932186, -0.2780515536624855, -0.046071065131752485, 0.18590942339898073, 0.4178899119297135, 0.6498704004604459, 0.8818508889911795, 1.1138313775219129, 1.3458118660526452, 1.577792354583378, 1.8097728431141111, 2.0417533316448444], [-2.679997878725463, -2.4480173901947304, -2.216036901663997, -1.9840564131332645, -1.7520759246025313, -1.520095436071798, -1.2881149475410651, -1.0561344590103323, -0.8241539704795996, -0.5921734819488665, -0.3601929934181335, -0.12821250488740032, 0.10376798364333245, 0.3357484721740651, 0.5677289607047985, 0.7997094492355317, 1.0316899377662645, 1.263670426296997, 1.4956509148277302, 1.727631403358463], [-2.994119807011843, -2.7621393184811103, -2.530158829950378, -2.298178341419645, -2.0661978528889122, -1.8342173643581783, -1.6022368758274455, -1.3702563872967126, -1.1382758987659798, -0.9062954102352468, -0.6743149217045138, -0.44233443317378063, -0.21035394464304774, 0.02162654388768486, 0.25360703241841825, 0.4855875209491511, 0.717568009479884, 0.9495484980106169, 1.1815289865413503, 1.4135094750720831], [-3.3082417352982234, -3.076261246767491, -2.844280758236758, -2.612300269706025, -2.380319781175292, -2.148339292644559, -1.9163588041138262, -1.684378315583093, -1.45239782705236, -1.220417338521627, -0.9884368499908941, -0.756456361460161, -0.5244758729294282, -0.29249538439869555, -0.060514895867961944, 0.17146559266277078, 0.4034460811935037, 0.6354265697242362, 0.8674070582549698, 1.0993875467857024], [-3.6223636635846046, -3.3903831750538718, -3.158402686523139, -2.926422197992406, -2.694441709461673, -2.46246122093094, -2.230480732400207, -1.998500243869474, -1.766519755338741, -1.534539266808008, -1.3025587782772752, -1.070578289746542, -0.8385978012158093, -0.6066173126850767, -0.37463682415434324, -0.14265633562361008, 0.08932415290712264, 0.3213046414378557, 0.5532851299685883, 0.7852656184993217], [-3.936485591870986, -3.704505103340253, -3.4725246148095197, -3.240544126278787, -3.008563637748054, -2.776583149217321, -2.5446026606865884, -2.3126221721558546, -2.0806416836251223, -1.8486611950943892, -1.616680706563656, -1.3847002180329229, -1.1527197295021898, -0.9207392409714574, -0.688758752440724, -0.4567782639099908, -0.2247977753792581, 0.007182713151474723, 0.23916320168220756, 0.4711436902129413], [-4.250607520157366, -4.018627031626633, -3.7866465430959004, -3.5546660545651676, -3.3226855660344343, -3.090705077503702, -2.8587245889729687, -2.626744100442236, -2.3947636119115026, -2.1627831233807697, -1.9308026348500367, -1.6988221463193034, -1.4668416577885706, -1.2348611692578377, -1.0028806807271045, -0.7709001921963713, -0.5389197036656389, -0.306939215134906, -0.07495872660417296, 0.1570217619265603], [-4.564729448443745, -4.332748959913014, -4.10076847138228, -3.8687879828515483, -3.636807494320815, -3.4048270057900822, -3.172846517259349, -2.9408660287286157, -2.708885540197883, -2.4769050516671496, -2.244924563136417, -2.012944074605684, -1.7809635860749509, -1.548983097544218, -1.3170026090134848, -1.0850221204827515, -0.853041631952019, -0.6210611434212864, -0.38908065489055327, -0.15710016635981955], [-4.878851376730127, -4.646870888199395, -4.4148903996686615, -4.182909911137928, -3.950929422607196, -3.718948934076463, -3.4869684455457297, -3.2549879570149964, -3.023007468484264, -2.7910269799535308, -2.559046491422798, -2.3270660028920647, -2.0950855143613323, -1.863105025830599, -1.631124537299866, -1.3991440487691322, -1.1671635602383998, -0.9351830717076671, -0.7032025831769345, -0.4712220946462012], [-5.192973305016509, -4.960992816485775, -4.729012327955042, -4.497031839424309, -4.265051350893576, -4.033070862362844, -3.801090373832111, -3.5691098853013776, -3.3371293967706444, -3.1051489082399115, -2.8731684197091787, -2.6411879311784454, -2.409207442647713, -2.17722695411698, -1.9452464655862467, -1.713265977055513, -1.4812854885247806, -1.249304999994048, -1.0173245114633152, -0.7853440229325818]]}],\n",
       "                        {\"template\": {\"data\": {\"bar\": [{\"error_x\": {\"color\": \"#2a3f5f\"}, \"error_y\": {\"color\": \"#2a3f5f\"}, \"marker\": {\"line\": {\"color\": \"#E5ECF6\", \"width\": 0.5}}, \"type\": \"bar\"}], \"barpolar\": [{\"marker\": {\"line\": {\"color\": \"#E5ECF6\", \"width\": 0.5}}, \"type\": \"barpolar\"}], \"carpet\": [{\"aaxis\": {\"endlinecolor\": \"#2a3f5f\", \"gridcolor\": \"white\", \"linecolor\": \"white\", \"minorgridcolor\": \"white\", \"startlinecolor\": \"#2a3f5f\"}, \"baxis\": {\"endlinecolor\": \"#2a3f5f\", \"gridcolor\": \"white\", \"linecolor\": \"white\", \"minorgridcolor\": \"white\", \"startlinecolor\": \"#2a3f5f\"}, \"type\": \"carpet\"}], \"choropleth\": [{\"colorbar\": {\"outlinewidth\": 0, \"ticks\": \"\"}, \"type\": \"choropleth\"}], \"contour\": [{\"colorbar\": {\"outlinewidth\": 0, \"ticks\": \"\"}, \"colorscale\": [[0.0, \"#0d0887\"], [0.1111111111111111, \"#46039f\"], [0.2222222222222222, \"#7201a8\"], [0.3333333333333333, \"#9c179e\"], [0.4444444444444444, \"#bd3786\"], [0.5555555555555556, \"#d8576b\"], [0.6666666666666666, \"#ed7953\"], [0.7777777777777778, \"#fb9f3a\"], [0.8888888888888888, \"#fdca26\"], [1.0, \"#f0f921\"]], \"type\": \"contour\"}], \"contourcarpet\": [{\"colorbar\": {\"outlinewidth\": 0, \"ticks\": \"\"}, \"type\": \"contourcarpet\"}], \"heatmap\": [{\"colorbar\": {\"outlinewidth\": 0, \"ticks\": \"\"}, \"colorscale\": [[0.0, \"#0d0887\"], [0.1111111111111111, \"#46039f\"], [0.2222222222222222, \"#7201a8\"], [0.3333333333333333, \"#9c179e\"], [0.4444444444444444, \"#bd3786\"], [0.5555555555555556, \"#d8576b\"], [0.6666666666666666, \"#ed7953\"], [0.7777777777777778, \"#fb9f3a\"], [0.8888888888888888, \"#fdca26\"], [1.0, \"#f0f921\"]], \"type\": \"heatmap\"}], \"heatmapgl\": [{\"colorbar\": {\"outlinewidth\": 0, \"ticks\": \"\"}, \"colorscale\": [[0.0, \"#0d0887\"], [0.1111111111111111, \"#46039f\"], [0.2222222222222222, \"#7201a8\"], [0.3333333333333333, \"#9c179e\"], [0.4444444444444444, \"#bd3786\"], [0.5555555555555556, \"#d8576b\"], [0.6666666666666666, \"#ed7953\"], [0.7777777777777778, \"#fb9f3a\"], [0.8888888888888888, \"#fdca26\"], [1.0, \"#f0f921\"]], \"type\": \"heatmapgl\"}], \"histogram\": [{\"marker\": {\"colorbar\": {\"outlinewidth\": 0, \"ticks\": \"\"}}, \"type\": \"histogram\"}], \"histogram2d\": [{\"colorbar\": {\"outlinewidth\": 0, \"ticks\": \"\"}, \"colorscale\": [[0.0, \"#0d0887\"], [0.1111111111111111, \"#46039f\"], [0.2222222222222222, \"#7201a8\"], [0.3333333333333333, \"#9c179e\"], [0.4444444444444444, \"#bd3786\"], [0.5555555555555556, \"#d8576b\"], [0.6666666666666666, \"#ed7953\"], [0.7777777777777778, \"#fb9f3a\"], [0.8888888888888888, \"#fdca26\"], [1.0, \"#f0f921\"]], \"type\": \"histogram2d\"}], \"histogram2dcontour\": [{\"colorbar\": {\"outlinewidth\": 0, \"ticks\": \"\"}, \"colorscale\": [[0.0, \"#0d0887\"], [0.1111111111111111, \"#46039f\"], [0.2222222222222222, \"#7201a8\"], [0.3333333333333333, \"#9c179e\"], [0.4444444444444444, \"#bd3786\"], [0.5555555555555556, \"#d8576b\"], [0.6666666666666666, \"#ed7953\"], [0.7777777777777778, \"#fb9f3a\"], [0.8888888888888888, \"#fdca26\"], [1.0, \"#f0f921\"]], \"type\": \"histogram2dcontour\"}], \"mesh3d\": [{\"colorbar\": {\"outlinewidth\": 0, \"ticks\": \"\"}, \"type\": \"mesh3d\"}], \"parcoords\": [{\"line\": {\"colorbar\": {\"outlinewidth\": 0, \"ticks\": \"\"}}, \"type\": \"parcoords\"}], \"pie\": [{\"automargin\": true, \"type\": \"pie\"}], \"scatter\": [{\"marker\": {\"colorbar\": {\"outlinewidth\": 0, \"ticks\": \"\"}}, \"type\": \"scatter\"}], \"scatter3d\": [{\"line\": {\"colorbar\": {\"outlinewidth\": 0, \"ticks\": \"\"}}, \"marker\": {\"colorbar\": {\"outlinewidth\": 0, \"ticks\": \"\"}}, \"type\": \"scatter3d\"}], \"scattercarpet\": [{\"marker\": {\"colorbar\": {\"outlinewidth\": 0, \"ticks\": \"\"}}, \"type\": \"scattercarpet\"}], \"scattergeo\": [{\"marker\": {\"colorbar\": {\"outlinewidth\": 0, \"ticks\": \"\"}}, \"type\": \"scattergeo\"}], \"scattergl\": [{\"marker\": {\"colorbar\": {\"outlinewidth\": 0, \"ticks\": \"\"}}, \"type\": \"scattergl\"}], \"scattermapbox\": [{\"marker\": {\"colorbar\": {\"outlinewidth\": 0, \"ticks\": \"\"}}, \"type\": \"scattermapbox\"}], \"scatterpolar\": [{\"marker\": {\"colorbar\": {\"outlinewidth\": 0, \"ticks\": \"\"}}, \"type\": \"scatterpolar\"}], \"scatterpolargl\": [{\"marker\": {\"colorbar\": {\"outlinewidth\": 0, \"ticks\": \"\"}}, \"type\": \"scatterpolargl\"}], \"scatterternary\": [{\"marker\": {\"colorbar\": {\"outlinewidth\": 0, \"ticks\": \"\"}}, \"type\": \"scatterternary\"}], \"surface\": [{\"colorbar\": {\"outlinewidth\": 0, \"ticks\": \"\"}, \"colorscale\": [[0.0, \"#0d0887\"], [0.1111111111111111, \"#46039f\"], [0.2222222222222222, \"#7201a8\"], [0.3333333333333333, \"#9c179e\"], [0.4444444444444444, \"#bd3786\"], [0.5555555555555556, \"#d8576b\"], [0.6666666666666666, \"#ed7953\"], [0.7777777777777778, \"#fb9f3a\"], [0.8888888888888888, \"#fdca26\"], [1.0, \"#f0f921\"]], \"type\": \"surface\"}], \"table\": [{\"cells\": {\"fill\": {\"color\": \"#EBF0F8\"}, \"line\": {\"color\": \"white\"}}, \"header\": {\"fill\": {\"color\": \"#C8D4E3\"}, \"line\": {\"color\": \"white\"}}, \"type\": \"table\"}]}, \"layout\": {\"annotationdefaults\": {\"arrowcolor\": \"#2a3f5f\", \"arrowhead\": 0, \"arrowwidth\": 1}, \"coloraxis\": {\"colorbar\": {\"outlinewidth\": 0, \"ticks\": \"\"}}, \"colorscale\": {\"diverging\": [[0, \"#8e0152\"], [0.1, \"#c51b7d\"], [0.2, \"#de77ae\"], [0.3, \"#f1b6da\"], [0.4, \"#fde0ef\"], [0.5, \"#f7f7f7\"], [0.6, \"#e6f5d0\"], [0.7, \"#b8e186\"], [0.8, \"#7fbc41\"], [0.9, \"#4d9221\"], [1, \"#276419\"]], \"sequential\": [[0.0, \"#0d0887\"], [0.1111111111111111, \"#46039f\"], [0.2222222222222222, \"#7201a8\"], [0.3333333333333333, \"#9c179e\"], [0.4444444444444444, \"#bd3786\"], [0.5555555555555556, \"#d8576b\"], [0.6666666666666666, \"#ed7953\"], [0.7777777777777778, \"#fb9f3a\"], [0.8888888888888888, \"#fdca26\"], [1.0, \"#f0f921\"]], \"sequentialminus\": [[0.0, \"#0d0887\"], [0.1111111111111111, \"#46039f\"], [0.2222222222222222, \"#7201a8\"], [0.3333333333333333, \"#9c179e\"], [0.4444444444444444, \"#bd3786\"], [0.5555555555555556, \"#d8576b\"], [0.6666666666666666, \"#ed7953\"], [0.7777777777777778, \"#fb9f3a\"], [0.8888888888888888, \"#fdca26\"], [1.0, \"#f0f921\"]]}, \"colorway\": [\"#636efa\", \"#EF553B\", \"#00cc96\", \"#ab63fa\", \"#FFA15A\", \"#19d3f3\", \"#FF6692\", \"#B6E880\", \"#FF97FF\", \"#FECB52\"], \"font\": {\"color\": \"#2a3f5f\"}, \"geo\": {\"bgcolor\": \"white\", \"lakecolor\": \"white\", \"landcolor\": \"#E5ECF6\", \"showlakes\": true, \"showland\": true, \"subunitcolor\": \"white\"}, \"hoverlabel\": {\"align\": \"left\"}, \"hovermode\": \"closest\", \"mapbox\": {\"style\": \"light\"}, \"paper_bgcolor\": \"white\", \"plot_bgcolor\": \"#E5ECF6\", \"polar\": {\"angularaxis\": {\"gridcolor\": \"white\", \"linecolor\": \"white\", \"ticks\": \"\"}, \"bgcolor\": \"#E5ECF6\", \"radialaxis\": {\"gridcolor\": \"white\", \"linecolor\": \"white\", \"ticks\": \"\"}}, \"scene\": {\"xaxis\": {\"backgroundcolor\": \"#E5ECF6\", \"gridcolor\": \"white\", \"gridwidth\": 2, \"linecolor\": \"white\", \"showbackground\": true, \"ticks\": \"\", \"zerolinecolor\": \"white\"}, \"yaxis\": {\"backgroundcolor\": \"#E5ECF6\", \"gridcolor\": \"white\", \"gridwidth\": 2, \"linecolor\": \"white\", \"showbackground\": true, \"ticks\": \"\", \"zerolinecolor\": \"white\"}, \"zaxis\": {\"backgroundcolor\": \"#E5ECF6\", \"gridcolor\": \"white\", \"gridwidth\": 2, \"linecolor\": \"white\", \"showbackground\": true, \"ticks\": \"\", \"zerolinecolor\": \"white\"}}, \"shapedefaults\": {\"line\": {\"color\": \"#2a3f5f\"}}, \"ternary\": {\"aaxis\": {\"gridcolor\": \"white\", \"linecolor\": \"white\", \"ticks\": \"\"}, \"baxis\": {\"gridcolor\": \"white\", \"linecolor\": \"white\", \"ticks\": \"\"}, \"bgcolor\": \"#E5ECF6\", \"caxis\": {\"gridcolor\": \"white\", \"linecolor\": \"white\", \"ticks\": \"\"}}, \"title\": {\"x\": 0.05}, \"xaxis\": {\"automargin\": true, \"gridcolor\": \"white\", \"linecolor\": \"white\", \"ticks\": \"\", \"title\": {\"standoff\": 15}, \"zerolinecolor\": \"white\", \"zerolinewidth\": 2}, \"yaxis\": {\"automargin\": true, \"gridcolor\": \"white\", \"linecolor\": \"white\", \"ticks\": \"\", \"title\": {\"standoff\": 15}, \"zerolinecolor\": \"white\", \"zerolinewidth\": 2}}}, \"title\": {\"text\": \"Decision function\"}, \"width\": 600},\n",
       "                        {\"responsive\": true}\n",
       "                    ).then(function(){\n",
       "                            \n",
       "var gd = document.getElementById('81d9adf2-0512-4a60-a859-dde3d27a86d5');\n",
       "var x = new MutationObserver(function (mutations, observer) {{\n",
       "        var display = window.getComputedStyle(gd).display;\n",
       "        if (!display || display === 'none') {{\n",
       "            console.log([gd, 'removed!']);\n",
       "            Plotly.purge(gd);\n",
       "            observer.disconnect();\n",
       "        }}\n",
       "}});\n",
       "\n",
       "// Listen for the removal of the full notebook cells\n",
       "var notebookContainer = gd.closest('#notebook-container');\n",
       "if (notebookContainer) {{\n",
       "    x.observe(notebookContainer, {childList: true});\n",
       "}}\n",
       "\n",
       "// Listen for the clearing of the current output cell\n",
       "var outputEl = gd.closest('.output');\n",
       "if (outputEl) {{\n",
       "    x.observe(outputEl, {childList: true});\n",
       "}}\n",
       "\n",
       "                        })\n",
       "                };\n",
       "                });\n",
       "            </script>\n",
       "        </div>"
      ]
     },
     "metadata": {},
     "output_type": "display_data"
    }
   ],
   "source": [
    "# Data with noise\n",
    "# noise is added to the coordinates of the points\n",
    "\n",
    "np.random.seed(2020)\n",
    "X0 = 0.5 * np.random.randn(16, 2) + 0.8 * np.array([-1., 1.])\n",
    "X1 = 0.5 * np.random.randn(16, 2) + 0.8 * np.array([1., -1.])\n",
    "X = np.vstack((X0, X1))\n",
    "\n",
    "y = np.zeros(X.shape[0])\n",
    "\n",
    "# initialize labels\n",
    "for i in range(0,X.shape[0]):\n",
    "    y[i] = labels_line(X[i,:])\n",
    "\n",
    "# randomly perturb the points X\n",
    "for i in range(0,X.shape[0]):\n",
    "    X[i,:] = X[i,:] + np.random.randn(1, 2) / 6\n",
    "\n",
    "# fit the model\n",
    "clf = svm.SVC(kernel=\"linear\",C=1)\n",
    "clf.fit(X, y)\n",
    "\n",
    "# plot\n",
    "fig = go.Figure()\n",
    "plot_data_decision_function(X, y, clf, fig, \"Decision function\", 2, 2)\n",
    "fig.show()"
   ]
  },
  {
   "cell_type": "code",
   "execution_count": 54,
   "metadata": {},
   "outputs": [],
   "source": [
    "save_figure_to_file(fig,'../Slides/scikitlearn','svm9_1')"
   ]
  },
  {
   "cell_type": "code",
   "execution_count": 55,
   "metadata": {},
   "outputs": [],
   "source": [
    "from sklearn.model_selection import train_test_split"
   ]
  },
  {
   "cell_type": "code",
   "execution_count": 56,
   "metadata": {
    "colab": {},
    "colab_type": "code",
    "id": "67uGbYhN3A4C"
   },
   "outputs": [],
   "source": [
    "np.random.seed(0)\n",
    "\n",
    "n_opt_C = 128\n",
    "\n",
    "C_range = np.logspace(-2,2,n_opt_C)\n",
    "score = np.zeros(n_opt_C)\n",
    "a = np.zeros(n_opt_C)\n",
    "b = np.zeros(n_opt_C)\n",
    "\n",
    "X_train, X_valid, y_train, y_valid = train_test_split(X, y, test_size=0.4, random_state=0)\n",
    "\n",
    "k = 0\n",
    "for C in C_range:\n",
    "    clf = svm.SVC(kernel='linear', C=C).fit(X_train, y_train)\n",
    "    score[k] = clf.score(X_valid, y_valid)\n",
    "    a[k] = -clf.coef_[0,0] / clf.coef_[0,1]\n",
    "    b[k] = -clf.intercept_ / clf.coef_[0,1]\n",
    "    k = k+1"
   ]
  },
  {
   "cell_type": "code",
   "execution_count": 57,
   "metadata": {
    "colab": {
     "base_uri": "https://localhost:8080/",
     "height": 717
    },
    "colab_type": "code",
    "id": "Ly1zWpzCGvqE",
    "outputId": "e567ed98-775b-41e4-bf06-38e5550786a1"
   },
   "outputs": [
    {
     "data": {
      "application/vnd.plotly.v1+json": {
       "config": {
        "plotlyServerURL": "https://plot.ly"
       },
       "data": [
        {
         "marker": {
          "color": [
           -1,
           -1,
           -1,
           -1,
           -1,
           -1,
           -1,
           -1,
           -1,
           -1,
           -1,
           -1,
           -1,
           -1,
           -1,
           -1,
           1,
           1,
           1,
           1,
           1,
           1,
           1,
           1,
           1,
           1,
           1,
           1,
           1,
           1,
           1,
           1
          ],
          "colorscale": [
           [
            0,
            "rgb(103,0,31)"
           ],
           [
            0.1,
            "rgb(178,24,43)"
           ],
           [
            0.2,
            "rgb(214,96,77)"
           ],
           [
            0.3,
            "rgb(244,165,130)"
           ],
           [
            0.4,
            "rgb(253,219,199)"
           ],
           [
            0.5,
            "rgb(247,247,247)"
           ],
           [
            0.6,
            "rgb(209,229,240)"
           ],
           [
            0.7,
            "rgb(146,197,222)"
           ],
           [
            0.8,
            "rgb(67,147,195)"
           ],
           [
            0.9,
            "rgb(33,102,172)"
           ],
           [
            1,
            "rgb(5,48,97)"
           ]
          ],
          "size": 10
         },
         "mode": "markers",
         "name": "Data",
         "type": "scatter",
         "x": [
          -1.512117359696152,
          -1.5731042930503436,
          -0.889730746242863,
          -0.8405776125645029,
          -0.8501551345955893,
          -1.225002500598221,
          -0.18590400594354758,
          -0.6620382072541084,
          -1.1171708682266035,
          -0.4938742690541556,
          0.27389668022115576,
          -0.651750800556273,
          -0.5556308871745923,
          -1.4527038762631654,
          -0.9121542856330791,
          0.10709716107891697,
          0.8049302517051605,
          1.5812470375253989,
          0.969872745066462,
          1.1751639676603618,
          0.7319129852750528,
          -0.12313312608675064,
          -0.2962987480344252,
          0.9725062108511886,
          1.0678443741594306,
          1.2070941983572607,
          1.649182980805211,
          1.0129942486307226,
          0.5824693463227527,
          0.9643714057089006,
          0.49820793921688195,
          0.9264021518819674
         ],
         "xaxis": "x",
         "y": [
          0.6326159404448071,
          0.523571674949873,
          0.009582466983337867,
          0.8788875743282978,
          0.4630702536353386,
          1.502261195264805,
          0.3086811407380154,
          -0.12795520862562182,
          0.33748814833885665,
          0.7602083925794624,
          0.8692292782418465,
          0.7478592265234146,
          0.2602863500069091,
          0.23108263898689382,
          1.1978662392035826,
          1.6248417277820537,
          -1.0107303102145193,
          -1.0620637417134287,
          -0.9428075397654472,
          0.19440790065188226,
          -1.4927435983373858,
          -0.7276496300090699,
          -0.5789598377417315,
          -0.7723874068197811,
          -0.7339302730420824,
          -0.49983168222143143,
          -0.8490049863140133,
          -0.05972241090231262,
          -0.8520418001858572,
          -0.368382182520039,
          -1.1283124314099346,
          -0.7442431273342497
         ],
         "yaxis": "y"
        },
        {
         "mode": "lines",
         "name": "y=x",
         "type": "scatter",
         "x": [
          -2,
          2
         ],
         "xaxis": "x",
         "y": [
          -2,
          2
         ],
         "yaxis": "y"
        },
        {
         "mode": "lines",
         "name": "Score",
         "type": "scatter",
         "x": [
          0.01,
          0.010752168531898922,
          0.011560912813835741,
          0.012430488295695173,
          0.01336547050891115,
          0.014370779141993754,
          0.01545170392694147,
          0.016613932472747908,
          0.017863580192457366,
          0.019207222481239298,
          0.020651929314796272,
          0.022205302450155343,
          0.02387551542458583,
          0.02567135656310991,
          0.027602275220902736,
          0.029678431503900374,
          0.03191074972923552,
          0.03431097590679882,
          0.036891739544382435,
          0.03966662010161201,
          0.04265021844233418,
          0.04585823366142806,
          0.049307545690287495,
          0.05301630411562775,
          0.057004023678963595,
          0.06129168695925734,
          0.06590185477903263,
          0.07085878491488876,
          0.07618855973704608,
          0.08191922344953681,
          0.08808092965317063,
          0.0947061000077224,
          0.10182959482819048,
          0.10948889651276869,
          0.11772430676769291,
          0.12657915866672037,
          0.13610004466105513,
          0.14633706173946348,
          0.157344075028561,
          0.16917900122028362,
          0.18190411331788228,
          0.19558636830395093,
          0.2102977594546134,
          0.22611569515367444,
          0.24312340619997877,
          0.2614103837511491,
          0.28107285020807277,
          0.3022142655178379,
          0.32494587155918425,
          0.34938727747491294,
          0.3756670890311596,
          0.4039235853150907,
          0.43430544633167073,
          0.4669725353279706,
          0.5020967399614465,
          0.5398628767382502,
          0.580469663480544,
          0.6241307649397462,
          0.6710759170575141,
          0.7215521357901018,
          0.775825016856679,
          0.8341801332506334,
          0.8969245378672714,
          0.9643883791544459,
          1.0369266382873439,
          1.1149209970080916,
          1.1987818459583772,
          1.2889504440725366,
          1.3859012403933868,
          1.490144370527747,
          1.602228340877477,
          1.7227429147699427,
          1.8523222156741201,
          1.9916480638308562,
          2.141453563853955,
          2.302526962179329,
          2.4757157946593424,
          2.6619313461261314,
          2.8621534453892727,
          3.0774356208980618,
          3.3089106441964957,
          3.5577964903394954,
          3.8254027466328746,
          4.11313750341857,
          4.4225147631630435,
          4.755162406834014,
          5.112830759482942,
          5.497401800103736,
          5.910899064227987,
          6.355498291362295,
          6.833538873292303,
          7.347536163492151,
          7.900194712408972,
          8.4944224982638,
          9.133346228248625,
          9.820327790631257,
          10.558981944335786,
          11.353195339077613,
          12.207146966133182,
          13.12533014735226,
          14.11257617811452,
          15.174079748634945,
          16.315426277379736,
          17.542621300415917,
          18.862122071335175,
          20.280871538024616,
          21.806334875063275,
          23.446538763970537,
          25.210113627991248,
          27.10633904364837,
          29.145192568009907,
          31.337402238589046,
          33.694503022121594,
          36.22889750924289,
          38.953921174427265,
          41.88391254457479,
          45.03428864545836,
          48.42162612301507,
          52.06374846632575,
          55.97981979123284,
          60.190445678066624,
          64.71778159406794,
          69.58564947100446,
          74.81966305138829,
          80.44736266284185,
          86.49836012976684,
          93.00449458481393,
          100
         ],
         "xaxis": "x2",
         "y": [
          0.46153846153846156,
          0.46153846153846156,
          0.46153846153846156,
          0.46153846153846156,
          0.46153846153846156,
          0.46153846153846156,
          0.46153846153846156,
          0.46153846153846156,
          0.6153846153846154,
          0.6923076923076923,
          0.7692307692307693,
          0.8461538461538461,
          0.9230769230769231,
          0.9230769230769231,
          0.9230769230769231,
          0.9230769230769231,
          0.9230769230769231,
          0.9230769230769231,
          1,
          1,
          1,
          1,
          1,
          1,
          1,
          1,
          1,
          1,
          1,
          1,
          1,
          1,
          1,
          1,
          1,
          1,
          1,
          1,
          1,
          0.9230769230769231,
          0.9230769230769231,
          0.9230769230769231,
          0.9230769230769231,
          0.9230769230769231,
          0.9230769230769231,
          0.9230769230769231,
          0.9230769230769231,
          0.9230769230769231,
          0.9230769230769231,
          0.9230769230769231,
          0.9230769230769231,
          0.9230769230769231,
          0.9230769230769231,
          0.9230769230769231,
          0.9230769230769231,
          0.9230769230769231,
          0.9230769230769231,
          0.9230769230769231,
          0.9230769230769231,
          0.9230769230769231,
          0.9230769230769231,
          0.9230769230769231,
          0.9230769230769231,
          0.9230769230769231,
          0.9230769230769231,
          0.9230769230769231,
          0.9230769230769231,
          0.9230769230769231,
          1,
          1,
          1,
          1,
          1,
          1,
          1,
          1,
          1,
          1,
          1,
          1,
          1,
          1,
          1,
          1,
          1,
          1,
          1,
          1,
          1,
          1,
          1,
          1,
          1,
          1,
          1,
          1,
          1,
          1,
          1,
          1,
          1,
          1,
          1,
          1,
          1,
          1,
          1,
          1,
          1,
          1,
          1,
          1,
          1,
          1,
          1,
          1,
          1,
          1,
          1,
          1,
          1,
          1,
          1,
          1,
          1,
          1,
          1,
          1
         ],
         "yaxis": "y2"
        },
        {
         "mode": "lines",
         "name": "a",
         "type": "scatter",
         "x": [
          0.01,
          0.010752168531898922,
          0.011560912813835741,
          0.012430488295695173,
          0.01336547050891115,
          0.014370779141993754,
          0.01545170392694147,
          0.016613932472747908,
          0.017863580192457366,
          0.019207222481239298,
          0.020651929314796272,
          0.022205302450155343,
          0.02387551542458583,
          0.02567135656310991,
          0.027602275220902736,
          0.029678431503900374,
          0.03191074972923552,
          0.03431097590679882,
          0.036891739544382435,
          0.03966662010161201,
          0.04265021844233418,
          0.04585823366142806,
          0.049307545690287495,
          0.05301630411562775,
          0.057004023678963595,
          0.06129168695925734,
          0.06590185477903263,
          0.07085878491488876,
          0.07618855973704608,
          0.08191922344953681,
          0.08808092965317063,
          0.0947061000077224,
          0.10182959482819048,
          0.10948889651276869,
          0.11772430676769291,
          0.12657915866672037,
          0.13610004466105513,
          0.14633706173946348,
          0.157344075028561,
          0.16917900122028362,
          0.18190411331788228,
          0.19558636830395093,
          0.2102977594546134,
          0.22611569515367444,
          0.24312340619997877,
          0.2614103837511491,
          0.28107285020807277,
          0.3022142655178379,
          0.32494587155918425,
          0.34938727747491294,
          0.3756670890311596,
          0.4039235853150907,
          0.43430544633167073,
          0.4669725353279706,
          0.5020967399614465,
          0.5398628767382502,
          0.580469663480544,
          0.6241307649397462,
          0.6710759170575141,
          0.7215521357901018,
          0.775825016856679,
          0.8341801332506334,
          0.8969245378672714,
          0.9643883791544459,
          1.0369266382873439,
          1.1149209970080916,
          1.1987818459583772,
          1.2889504440725366,
          1.3859012403933868,
          1.490144370527747,
          1.602228340877477,
          1.7227429147699427,
          1.8523222156741201,
          1.9916480638308562,
          2.141453563853955,
          2.302526962179329,
          2.4757157946593424,
          2.6619313461261314,
          2.8621534453892727,
          3.0774356208980618,
          3.3089106441964957,
          3.5577964903394954,
          3.8254027466328746,
          4.11313750341857,
          4.4225147631630435,
          4.755162406834014,
          5.112830759482942,
          5.497401800103736,
          5.910899064227987,
          6.355498291362295,
          6.833538873292303,
          7.347536163492151,
          7.900194712408972,
          8.4944224982638,
          9.133346228248625,
          9.820327790631257,
          10.558981944335786,
          11.353195339077613,
          12.207146966133182,
          13.12533014735226,
          14.11257617811452,
          15.174079748634945,
          16.315426277379736,
          17.542621300415917,
          18.862122071335175,
          20.280871538024616,
          21.806334875063275,
          23.446538763970537,
          25.210113627991248,
          27.10633904364837,
          29.145192568009907,
          31.337402238589046,
          33.694503022121594,
          36.22889750924289,
          38.953921174427265,
          41.88391254457479,
          45.03428864545836,
          48.42162612301507,
          52.06374846632575,
          55.97981979123284,
          60.190445678066624,
          64.71778159406794,
          69.58564947100446,
          74.81966305138829,
          80.44736266284185,
          86.49836012976684,
          93.00449458481393,
          100
         ],
         "xaxis": "x3",
         "y": [
          1.3668214082681185,
          1.3668214082681185,
          1.366821408268118,
          1.3668214082681183,
          1.3668214082681183,
          1.366821408268118,
          1.3668214082681183,
          1.366821408268118,
          1.3668214082681178,
          1.366821408268118,
          1.3668214082681176,
          1.366821408268118,
          1.366821408268118,
          1.3668214082681187,
          1.3668214082681183,
          1.3668214082681183,
          1.366821408268118,
          1.366821408268118,
          1.3668214082681178,
          1.366821408268118,
          1.3478084832389223,
          1.3239061731888127,
          1.3042666334454789,
          1.3042666334454787,
          1.3042666334454784,
          1.2929457853008683,
          1.2798607721289217,
          1.269777847532936,
          1.2530531930237963,
          1.2187165759638805,
          1.183241847476235,
          1.1586594663713485,
          1.1940650571391678,
          1.2136523006189897,
          1.2136523016502858,
          1.2136523027460808,
          1.213322200893279,
          1.2360651238289138,
          1.3319875816151543,
          1.4376372506409918,
          1.4411116806949762,
          1.4370832335058028,
          1.4625031959707304,
          1.5723523704628426,
          1.633038922380446,
          1.6326850113923514,
          1.7460902459831695,
          1.8962108960167812,
          1.9562154901519415,
          1.9555398889265467,
          1.9558698165859763,
          1.9539235453308823,
          1.953923538098126,
          1.9539235294615127,
          1.9526584362818373,
          1.9560758317626825,
          1.9548907571876493,
          1.8686369488717998,
          1.7950696976605982,
          1.7469165296057412,
          1.6198953780541758,
          1.571499237829164,
          1.574945604206444,
          1.5455250808755336,
          1.4292276650012992,
          1.3243676739851007,
          1.229574646627171,
          1.1436809100500058,
          1.0656854370322788,
          0.9947251839176265,
          0.9300521626214857,
          0.9183711762633727,
          0.9181324352210709,
          0.9182156219605854,
          0.9181470203212704,
          0.9180656015760381,
          0.9051882931174855,
          0.8986328068954618,
          0.8986328068954618,
          0.8986328068954619,
          0.8986328068954619,
          0.8986328068954619,
          0.8986328068954619,
          0.8986328068954619,
          0.8986328068954619,
          0.8986328068954619,
          0.8986328068954619,
          0.8986328068954619,
          0.8986328068954619,
          0.8986328068954619,
          0.8986328068954619,
          0.8986328068954619,
          0.8986328068954619,
          0.8986328068954619,
          0.8986328068954619,
          0.8986328068954619,
          0.8986328068954619,
          0.8986328068954619,
          0.8986328068954619,
          0.8986328068954619,
          0.8986328068954619,
          0.8986328068954619,
          0.8986328068954619,
          0.8986328068954619,
          0.8986328068954619,
          0.8986328068954619,
          0.8986328068954619,
          0.8986328068954619,
          0.8986328068954619,
          0.8986328068954619,
          0.8986328068954619,
          0.8986328068954619,
          0.8986328068954619,
          0.8986328068954619,
          0.8986328068954619,
          0.8986328068954619,
          0.8986328068954619,
          0.8986328068954619,
          0.8986328068954619,
          0.8986328068954619,
          0.8986328068954619,
          0.8986328068954619,
          0.8986328068954619,
          0.8986328068954619,
          0.8986328068954619,
          0.8986328068954619,
          0.8986328068954619,
          0.8986328068954619
         ],
         "yaxis": "y3"
        },
        {
         "mode": "lines",
         "name": "a=1",
         "type": "scatter",
         "x": [
          0.01,
          0.010752168531898922,
          0.011560912813835741,
          0.012430488295695173,
          0.01336547050891115,
          0.014370779141993754,
          0.01545170392694147,
          0.016613932472747908,
          0.017863580192457366,
          0.019207222481239298,
          0.020651929314796272,
          0.022205302450155343,
          0.02387551542458583,
          0.02567135656310991,
          0.027602275220902736,
          0.029678431503900374,
          0.03191074972923552,
          0.03431097590679882,
          0.036891739544382435,
          0.03966662010161201,
          0.04265021844233418,
          0.04585823366142806,
          0.049307545690287495,
          0.05301630411562775,
          0.057004023678963595,
          0.06129168695925734,
          0.06590185477903263,
          0.07085878491488876,
          0.07618855973704608,
          0.08191922344953681,
          0.08808092965317063,
          0.0947061000077224,
          0.10182959482819048,
          0.10948889651276869,
          0.11772430676769291,
          0.12657915866672037,
          0.13610004466105513,
          0.14633706173946348,
          0.157344075028561,
          0.16917900122028362,
          0.18190411331788228,
          0.19558636830395093,
          0.2102977594546134,
          0.22611569515367444,
          0.24312340619997877,
          0.2614103837511491,
          0.28107285020807277,
          0.3022142655178379,
          0.32494587155918425,
          0.34938727747491294,
          0.3756670890311596,
          0.4039235853150907,
          0.43430544633167073,
          0.4669725353279706,
          0.5020967399614465,
          0.5398628767382502,
          0.580469663480544,
          0.6241307649397462,
          0.6710759170575141,
          0.7215521357901018,
          0.775825016856679,
          0.8341801332506334,
          0.8969245378672714,
          0.9643883791544459,
          1.0369266382873439,
          1.1149209970080916,
          1.1987818459583772,
          1.2889504440725366,
          1.3859012403933868,
          1.490144370527747,
          1.602228340877477,
          1.7227429147699427,
          1.8523222156741201,
          1.9916480638308562,
          2.141453563853955,
          2.302526962179329,
          2.4757157946593424,
          2.6619313461261314,
          2.8621534453892727,
          3.0774356208980618,
          3.3089106441964957,
          3.5577964903394954,
          3.8254027466328746,
          4.11313750341857,
          4.4225147631630435,
          4.755162406834014,
          5.112830759482942,
          5.497401800103736,
          5.910899064227987,
          6.355498291362295,
          6.833538873292303,
          7.347536163492151,
          7.900194712408972,
          8.4944224982638,
          9.133346228248625,
          9.820327790631257,
          10.558981944335786,
          11.353195339077613,
          12.207146966133182,
          13.12533014735226,
          14.11257617811452,
          15.174079748634945,
          16.315426277379736,
          17.542621300415917,
          18.862122071335175,
          20.280871538024616,
          21.806334875063275,
          23.446538763970537,
          25.210113627991248,
          27.10633904364837,
          29.145192568009907,
          31.337402238589046,
          33.694503022121594,
          36.22889750924289,
          38.953921174427265,
          41.88391254457479,
          45.03428864545836,
          48.42162612301507,
          52.06374846632575,
          55.97981979123284,
          60.190445678066624,
          64.71778159406794,
          69.58564947100446,
          74.81966305138829,
          80.44736266284185,
          86.49836012976684,
          93.00449458481393,
          100
         ],
         "xaxis": "x3",
         "y": [
          1,
          1,
          1,
          1,
          1,
          1,
          1,
          1,
          1,
          1,
          1,
          1,
          1,
          1,
          1,
          1,
          1,
          1,
          1,
          1,
          1,
          1,
          1,
          1,
          1,
          1,
          1,
          1,
          1,
          1,
          1,
          1,
          1,
          1,
          1,
          1,
          1,
          1,
          1,
          1,
          1,
          1,
          1,
          1,
          1,
          1,
          1,
          1,
          1,
          1,
          1,
          1,
          1,
          1,
          1,
          1,
          1,
          1,
          1,
          1,
          1,
          1,
          1,
          1,
          1,
          1,
          1,
          1,
          1,
          1,
          1,
          1,
          1,
          1,
          1,
          1,
          1,
          1,
          1,
          1,
          1,
          1,
          1,
          1,
          1,
          1,
          1,
          1,
          1,
          1,
          1,
          1,
          1,
          1,
          1,
          1,
          1,
          1,
          1,
          1,
          1,
          1,
          1,
          1,
          1,
          1,
          1,
          1,
          1,
          1,
          1,
          1,
          1,
          1,
          1,
          1,
          1,
          1,
          1,
          1,
          1,
          1,
          1,
          1,
          1,
          1,
          1,
          1
         ],
         "yaxis": "y3"
        },
        {
         "mode": "lines",
         "name": "b",
         "type": "scatter",
         "x": [
          0.01,
          0.010752168531898922,
          0.011560912813835741,
          0.012430488295695173,
          0.01336547050891115,
          0.014370779141993754,
          0.01545170392694147,
          0.016613932472747908,
          0.017863580192457366,
          0.019207222481239298,
          0.020651929314796272,
          0.022205302450155343,
          0.02387551542458583,
          0.02567135656310991,
          0.027602275220902736,
          0.029678431503900374,
          0.03191074972923552,
          0.03431097590679882,
          0.036891739544382435,
          0.03966662010161201,
          0.04265021844233418,
          0.04585823366142806,
          0.049307545690287495,
          0.05301630411562775,
          0.057004023678963595,
          0.06129168695925734,
          0.06590185477903263,
          0.07085878491488876,
          0.07618855973704608,
          0.08191922344953681,
          0.08808092965317063,
          0.0947061000077224,
          0.10182959482819048,
          0.10948889651276869,
          0.11772430676769291,
          0.12657915866672037,
          0.13610004466105513,
          0.14633706173946348,
          0.157344075028561,
          0.16917900122028362,
          0.18190411331788228,
          0.19558636830395093,
          0.2102977594546134,
          0.22611569515367444,
          0.24312340619997877,
          0.2614103837511491,
          0.28107285020807277,
          0.3022142655178379,
          0.32494587155918425,
          0.34938727747491294,
          0.3756670890311596,
          0.4039235853150907,
          0.43430544633167073,
          0.4669725353279706,
          0.5020967399614465,
          0.5398628767382502,
          0.580469663480544,
          0.6241307649397462,
          0.6710759170575141,
          0.7215521357901018,
          0.775825016856679,
          0.8341801332506334,
          0.8969245378672714,
          0.9643883791544459,
          1.0369266382873439,
          1.1149209970080916,
          1.1987818459583772,
          1.2889504440725366,
          1.3859012403933868,
          1.490144370527747,
          1.602228340877477,
          1.7227429147699427,
          1.8523222156741201,
          1.9916480638308562,
          2.141453563853955,
          2.302526962179329,
          2.4757157946593424,
          2.6619313461261314,
          2.8621534453892727,
          3.0774356208980618,
          3.3089106441964957,
          3.5577964903394954,
          3.8254027466328746,
          4.11313750341857,
          4.4225147631630435,
          4.755162406834014,
          5.112830759482942,
          5.497401800103736,
          5.910899064227987,
          6.355498291362295,
          6.833538873292303,
          7.347536163492151,
          7.900194712408972,
          8.4944224982638,
          9.133346228248625,
          9.820327790631257,
          10.558981944335786,
          11.353195339077613,
          12.207146966133182,
          13.12533014735226,
          14.11257617811452,
          15.174079748634945,
          16.315426277379736,
          17.542621300415917,
          18.862122071335175,
          20.280871538024616,
          21.806334875063275,
          23.446538763970537,
          25.210113627991248,
          27.10633904364837,
          29.145192568009907,
          31.337402238589046,
          33.694503022121594,
          36.22889750924289,
          38.953921174427265,
          41.88391254457479,
          45.03428864545836,
          48.42162612301507,
          52.06374846632575,
          55.97981979123284,
          60.190445678066624,
          64.71778159406794,
          69.58564947100446,
          74.81966305138829,
          80.44736266284185,
          86.49836012976684,
          93.00449458481393,
          100
         ],
         "xaxis": "x4",
         "y": [
          -7.2360279718724545,
          -6.541892283187807,
          -5.8963148941938295,
          -5.29589890640614,
          -4.737485051557784,
          -4.218135068164495,
          -3.7351162409832477,
          -3.2858870220138354,
          -2.8680836573840276,
          -2.4795077497517277,
          -2.118114690779953,
          -1.7820029028186537,
          -1.4694038331852672,
          -1.1786726483959067,
          -0.9082795793821188,
          -0.6568018721534794,
          -0.42291630155200466,
          -0.20539220870729577,
          -0.0030850255568723372,
          0.18506974764095385,
          0.19690234576173674,
          0.189693032699289,
          0.18376943828037112,
          0.0493158887258438,
          -0.04948972722165493,
          -0.04741508668948907,
          -0.04501714809481136,
          -0.06875210235278371,
          -0.12681336032105994,
          -0.12929700660385313,
          -0.1318629750971295,
          -0.13356646257601246,
          -0.17673341152829253,
          -0.18692260041487854,
          -0.18694147695404448,
          -0.18695647981704164,
          -0.11900308677736689,
          -0.12583362570505405,
          -0.15486480175255118,
          -0.18683994304515572,
          -0.1876525495167823,
          -0.1868368279787839,
          -0.15528337031714445,
          -0.21413333908106777,
          -0.24642305767091233,
          -0.24626094876496527,
          -0.2801940405144224,
          -0.3256284386556181,
          -0.3440475712082032,
          -0.34376687208395157,
          -0.3782963053202027,
          -0.37819245238888793,
          -0.37786236526548156,
          -0.378058053740832,
          -0.37780659249429277,
          -0.37809404516292494,
          -0.378103494874603,
          -0.3514940844246915,
          -0.35735598069426305,
          -0.4003842772772494,
          -0.3780948566352943,
          -0.36984216158928,
          -0.37063321378305414,
          -0.36329802591973626,
          -0.3334604262455521,
          -0.30655724520528393,
          -0.28223687332987984,
          -0.2601997291057916,
          -0.24018898610855902,
          -0.22198321937421098,
          -0.20539052292736112,
          -0.20260414518950917,
          -0.20250500686188325,
          -0.20253955724261444,
          -0.20251107418027348,
          -0.20247726891028675,
          -0.1961887853396479,
          -0.15507355172529128,
          -0.11125154735242886,
          -0.075012079756867,
          -0.075012079756867,
          -0.075012079756867,
          -0.075012079756867,
          -0.075012079756867,
          -0.075012079756867,
          -0.075012079756867,
          -0.075012079756867,
          -0.075012079756867,
          -0.075012079756867,
          -0.075012079756867,
          -0.075012079756867,
          -0.075012079756867,
          -0.075012079756867,
          -0.075012079756867,
          -0.075012079756867,
          -0.075012079756867,
          -0.075012079756867,
          -0.075012079756867,
          -0.075012079756867,
          -0.075012079756867,
          -0.075012079756867,
          -0.075012079756867,
          -0.075012079756867,
          -0.075012079756867,
          -0.075012079756867,
          -0.075012079756867,
          -0.075012079756867,
          -0.075012079756867,
          -0.075012079756867,
          -0.075012079756867,
          -0.075012079756867,
          -0.075012079756867,
          -0.075012079756867,
          -0.075012079756867,
          -0.075012079756867,
          -0.075012079756867,
          -0.075012079756867,
          -0.075012079756867,
          -0.075012079756867,
          -0.075012079756867,
          -0.075012079756867,
          -0.075012079756867,
          -0.075012079756867,
          -0.075012079756867,
          -0.075012079756867,
          -0.075012079756867,
          -0.075012079756867,
          -0.075012079756867
         ],
         "yaxis": "y4"
        },
        {
         "mode": "lines",
         "name": "b=0",
         "type": "scatter",
         "x": [
          0.01,
          0.010752168531898922,
          0.011560912813835741,
          0.012430488295695173,
          0.01336547050891115,
          0.014370779141993754,
          0.01545170392694147,
          0.016613932472747908,
          0.017863580192457366,
          0.019207222481239298,
          0.020651929314796272,
          0.022205302450155343,
          0.02387551542458583,
          0.02567135656310991,
          0.027602275220902736,
          0.029678431503900374,
          0.03191074972923552,
          0.03431097590679882,
          0.036891739544382435,
          0.03966662010161201,
          0.04265021844233418,
          0.04585823366142806,
          0.049307545690287495,
          0.05301630411562775,
          0.057004023678963595,
          0.06129168695925734,
          0.06590185477903263,
          0.07085878491488876,
          0.07618855973704608,
          0.08191922344953681,
          0.08808092965317063,
          0.0947061000077224,
          0.10182959482819048,
          0.10948889651276869,
          0.11772430676769291,
          0.12657915866672037,
          0.13610004466105513,
          0.14633706173946348,
          0.157344075028561,
          0.16917900122028362,
          0.18190411331788228,
          0.19558636830395093,
          0.2102977594546134,
          0.22611569515367444,
          0.24312340619997877,
          0.2614103837511491,
          0.28107285020807277,
          0.3022142655178379,
          0.32494587155918425,
          0.34938727747491294,
          0.3756670890311596,
          0.4039235853150907,
          0.43430544633167073,
          0.4669725353279706,
          0.5020967399614465,
          0.5398628767382502,
          0.580469663480544,
          0.6241307649397462,
          0.6710759170575141,
          0.7215521357901018,
          0.775825016856679,
          0.8341801332506334,
          0.8969245378672714,
          0.9643883791544459,
          1.0369266382873439,
          1.1149209970080916,
          1.1987818459583772,
          1.2889504440725366,
          1.3859012403933868,
          1.490144370527747,
          1.602228340877477,
          1.7227429147699427,
          1.8523222156741201,
          1.9916480638308562,
          2.141453563853955,
          2.302526962179329,
          2.4757157946593424,
          2.6619313461261314,
          2.8621534453892727,
          3.0774356208980618,
          3.3089106441964957,
          3.5577964903394954,
          3.8254027466328746,
          4.11313750341857,
          4.4225147631630435,
          4.755162406834014,
          5.112830759482942,
          5.497401800103736,
          5.910899064227987,
          6.355498291362295,
          6.833538873292303,
          7.347536163492151,
          7.900194712408972,
          8.4944224982638,
          9.133346228248625,
          9.820327790631257,
          10.558981944335786,
          11.353195339077613,
          12.207146966133182,
          13.12533014735226,
          14.11257617811452,
          15.174079748634945,
          16.315426277379736,
          17.542621300415917,
          18.862122071335175,
          20.280871538024616,
          21.806334875063275,
          23.446538763970537,
          25.210113627991248,
          27.10633904364837,
          29.145192568009907,
          31.337402238589046,
          33.694503022121594,
          36.22889750924289,
          38.953921174427265,
          41.88391254457479,
          45.03428864545836,
          48.42162612301507,
          52.06374846632575,
          55.97981979123284,
          60.190445678066624,
          64.71778159406794,
          69.58564947100446,
          74.81966305138829,
          80.44736266284185,
          86.49836012976684,
          93.00449458481393,
          100
         ],
         "xaxis": "x4",
         "y": [
          0,
          0,
          0,
          0,
          0,
          0,
          0,
          0,
          0,
          0,
          0,
          0,
          0,
          0,
          0,
          0,
          0,
          0,
          0,
          0,
          0,
          0,
          0,
          0,
          0,
          0,
          0,
          0,
          0,
          0,
          0,
          0,
          0,
          0,
          0,
          0,
          0,
          0,
          0,
          0,
          0,
          0,
          0,
          0,
          0,
          0,
          0,
          0,
          0,
          0,
          0,
          0,
          0,
          0,
          0,
          0,
          0,
          0,
          0,
          0,
          0,
          0,
          0,
          0,
          0,
          0,
          0,
          0,
          0,
          0,
          0,
          0,
          0,
          0,
          0,
          0,
          0,
          0,
          0,
          0,
          0,
          0,
          0,
          0,
          0,
          0,
          0,
          0,
          0,
          0,
          0,
          0,
          0,
          0,
          0,
          0,
          0,
          0,
          0,
          0,
          0,
          0,
          0,
          0,
          0,
          0,
          0,
          0,
          0,
          0,
          0,
          0,
          0,
          0,
          0,
          0,
          0,
          0,
          0,
          0,
          0,
          0,
          0,
          0,
          0,
          0,
          0,
          0
         ],
         "yaxis": "y4"
        }
       ],
       "layout": {
        "annotations": [
         {
          "font": {
           "size": 16
          },
          "showarrow": false,
          "text": "Data",
          "x": 0.225,
          "xanchor": "center",
          "xref": "paper",
          "y": 1,
          "yanchor": "bottom",
          "yref": "paper"
         },
         {
          "font": {
           "size": 16
          },
          "showarrow": false,
          "text": "Score",
          "x": 0.775,
          "xanchor": "center",
          "xref": "paper",
          "y": 1,
          "yanchor": "bottom",
          "yref": "paper"
         },
         {
          "font": {
           "size": 16
          },
          "showarrow": false,
          "text": "Slope a",
          "x": 0.225,
          "xanchor": "center",
          "xref": "paper",
          "y": 0.375,
          "yanchor": "bottom",
          "yref": "paper"
         },
         {
          "font": {
           "size": 16
          },
          "showarrow": false,
          "text": "Intercept b",
          "x": 0.775,
          "xanchor": "center",
          "xref": "paper",
          "y": 0.375,
          "yanchor": "bottom",
          "yref": "paper"
         }
        ],
        "height": 700,
        "template": {
         "data": {
          "bar": [
           {
            "error_x": {
             "color": "#2a3f5f"
            },
            "error_y": {
             "color": "#2a3f5f"
            },
            "marker": {
             "line": {
              "color": "#E5ECF6",
              "width": 0.5
             }
            },
            "type": "bar"
           }
          ],
          "barpolar": [
           {
            "marker": {
             "line": {
              "color": "#E5ECF6",
              "width": 0.5
             }
            },
            "type": "barpolar"
           }
          ],
          "carpet": [
           {
            "aaxis": {
             "endlinecolor": "#2a3f5f",
             "gridcolor": "white",
             "linecolor": "white",
             "minorgridcolor": "white",
             "startlinecolor": "#2a3f5f"
            },
            "baxis": {
             "endlinecolor": "#2a3f5f",
             "gridcolor": "white",
             "linecolor": "white",
             "minorgridcolor": "white",
             "startlinecolor": "#2a3f5f"
            },
            "type": "carpet"
           }
          ],
          "choropleth": [
           {
            "colorbar": {
             "outlinewidth": 0,
             "ticks": ""
            },
            "type": "choropleth"
           }
          ],
          "contour": [
           {
            "colorbar": {
             "outlinewidth": 0,
             "ticks": ""
            },
            "colorscale": [
             [
              0,
              "#0d0887"
             ],
             [
              0.1111111111111111,
              "#46039f"
             ],
             [
              0.2222222222222222,
              "#7201a8"
             ],
             [
              0.3333333333333333,
              "#9c179e"
             ],
             [
              0.4444444444444444,
              "#bd3786"
             ],
             [
              0.5555555555555556,
              "#d8576b"
             ],
             [
              0.6666666666666666,
              "#ed7953"
             ],
             [
              0.7777777777777778,
              "#fb9f3a"
             ],
             [
              0.8888888888888888,
              "#fdca26"
             ],
             [
              1,
              "#f0f921"
             ]
            ],
            "type": "contour"
           }
          ],
          "contourcarpet": [
           {
            "colorbar": {
             "outlinewidth": 0,
             "ticks": ""
            },
            "type": "contourcarpet"
           }
          ],
          "heatmap": [
           {
            "colorbar": {
             "outlinewidth": 0,
             "ticks": ""
            },
            "colorscale": [
             [
              0,
              "#0d0887"
             ],
             [
              0.1111111111111111,
              "#46039f"
             ],
             [
              0.2222222222222222,
              "#7201a8"
             ],
             [
              0.3333333333333333,
              "#9c179e"
             ],
             [
              0.4444444444444444,
              "#bd3786"
             ],
             [
              0.5555555555555556,
              "#d8576b"
             ],
             [
              0.6666666666666666,
              "#ed7953"
             ],
             [
              0.7777777777777778,
              "#fb9f3a"
             ],
             [
              0.8888888888888888,
              "#fdca26"
             ],
             [
              1,
              "#f0f921"
             ]
            ],
            "type": "heatmap"
           }
          ],
          "heatmapgl": [
           {
            "colorbar": {
             "outlinewidth": 0,
             "ticks": ""
            },
            "colorscale": [
             [
              0,
              "#0d0887"
             ],
             [
              0.1111111111111111,
              "#46039f"
             ],
             [
              0.2222222222222222,
              "#7201a8"
             ],
             [
              0.3333333333333333,
              "#9c179e"
             ],
             [
              0.4444444444444444,
              "#bd3786"
             ],
             [
              0.5555555555555556,
              "#d8576b"
             ],
             [
              0.6666666666666666,
              "#ed7953"
             ],
             [
              0.7777777777777778,
              "#fb9f3a"
             ],
             [
              0.8888888888888888,
              "#fdca26"
             ],
             [
              1,
              "#f0f921"
             ]
            ],
            "type": "heatmapgl"
           }
          ],
          "histogram": [
           {
            "marker": {
             "colorbar": {
              "outlinewidth": 0,
              "ticks": ""
             }
            },
            "type": "histogram"
           }
          ],
          "histogram2d": [
           {
            "colorbar": {
             "outlinewidth": 0,
             "ticks": ""
            },
            "colorscale": [
             [
              0,
              "#0d0887"
             ],
             [
              0.1111111111111111,
              "#46039f"
             ],
             [
              0.2222222222222222,
              "#7201a8"
             ],
             [
              0.3333333333333333,
              "#9c179e"
             ],
             [
              0.4444444444444444,
              "#bd3786"
             ],
             [
              0.5555555555555556,
              "#d8576b"
             ],
             [
              0.6666666666666666,
              "#ed7953"
             ],
             [
              0.7777777777777778,
              "#fb9f3a"
             ],
             [
              0.8888888888888888,
              "#fdca26"
             ],
             [
              1,
              "#f0f921"
             ]
            ],
            "type": "histogram2d"
           }
          ],
          "histogram2dcontour": [
           {
            "colorbar": {
             "outlinewidth": 0,
             "ticks": ""
            },
            "colorscale": [
             [
              0,
              "#0d0887"
             ],
             [
              0.1111111111111111,
              "#46039f"
             ],
             [
              0.2222222222222222,
              "#7201a8"
             ],
             [
              0.3333333333333333,
              "#9c179e"
             ],
             [
              0.4444444444444444,
              "#bd3786"
             ],
             [
              0.5555555555555556,
              "#d8576b"
             ],
             [
              0.6666666666666666,
              "#ed7953"
             ],
             [
              0.7777777777777778,
              "#fb9f3a"
             ],
             [
              0.8888888888888888,
              "#fdca26"
             ],
             [
              1,
              "#f0f921"
             ]
            ],
            "type": "histogram2dcontour"
           }
          ],
          "mesh3d": [
           {
            "colorbar": {
             "outlinewidth": 0,
             "ticks": ""
            },
            "type": "mesh3d"
           }
          ],
          "parcoords": [
           {
            "line": {
             "colorbar": {
              "outlinewidth": 0,
              "ticks": ""
             }
            },
            "type": "parcoords"
           }
          ],
          "pie": [
           {
            "automargin": true,
            "type": "pie"
           }
          ],
          "scatter": [
           {
            "marker": {
             "colorbar": {
              "outlinewidth": 0,
              "ticks": ""
             }
            },
            "type": "scatter"
           }
          ],
          "scatter3d": [
           {
            "line": {
             "colorbar": {
              "outlinewidth": 0,
              "ticks": ""
             }
            },
            "marker": {
             "colorbar": {
              "outlinewidth": 0,
              "ticks": ""
             }
            },
            "type": "scatter3d"
           }
          ],
          "scattercarpet": [
           {
            "marker": {
             "colorbar": {
              "outlinewidth": 0,
              "ticks": ""
             }
            },
            "type": "scattercarpet"
           }
          ],
          "scattergeo": [
           {
            "marker": {
             "colorbar": {
              "outlinewidth": 0,
              "ticks": ""
             }
            },
            "type": "scattergeo"
           }
          ],
          "scattergl": [
           {
            "marker": {
             "colorbar": {
              "outlinewidth": 0,
              "ticks": ""
             }
            },
            "type": "scattergl"
           }
          ],
          "scattermapbox": [
           {
            "marker": {
             "colorbar": {
              "outlinewidth": 0,
              "ticks": ""
             }
            },
            "type": "scattermapbox"
           }
          ],
          "scatterpolar": [
           {
            "marker": {
             "colorbar": {
              "outlinewidth": 0,
              "ticks": ""
             }
            },
            "type": "scatterpolar"
           }
          ],
          "scatterpolargl": [
           {
            "marker": {
             "colorbar": {
              "outlinewidth": 0,
              "ticks": ""
             }
            },
            "type": "scatterpolargl"
           }
          ],
          "scatterternary": [
           {
            "marker": {
             "colorbar": {
              "outlinewidth": 0,
              "ticks": ""
             }
            },
            "type": "scatterternary"
           }
          ],
          "surface": [
           {
            "colorbar": {
             "outlinewidth": 0,
             "ticks": ""
            },
            "colorscale": [
             [
              0,
              "#0d0887"
             ],
             [
              0.1111111111111111,
              "#46039f"
             ],
             [
              0.2222222222222222,
              "#7201a8"
             ],
             [
              0.3333333333333333,
              "#9c179e"
             ],
             [
              0.4444444444444444,
              "#bd3786"
             ],
             [
              0.5555555555555556,
              "#d8576b"
             ],
             [
              0.6666666666666666,
              "#ed7953"
             ],
             [
              0.7777777777777778,
              "#fb9f3a"
             ],
             [
              0.8888888888888888,
              "#fdca26"
             ],
             [
              1,
              "#f0f921"
             ]
            ],
            "type": "surface"
           }
          ],
          "table": [
           {
            "cells": {
             "fill": {
              "color": "#EBF0F8"
             },
             "line": {
              "color": "white"
             }
            },
            "header": {
             "fill": {
              "color": "#C8D4E3"
             },
             "line": {
              "color": "white"
             }
            },
            "type": "table"
           }
          ]
         },
         "layout": {
          "annotationdefaults": {
           "arrowcolor": "#2a3f5f",
           "arrowhead": 0,
           "arrowwidth": 1
          },
          "coloraxis": {
           "colorbar": {
            "outlinewidth": 0,
            "ticks": ""
           }
          },
          "colorscale": {
           "diverging": [
            [
             0,
             "#8e0152"
            ],
            [
             0.1,
             "#c51b7d"
            ],
            [
             0.2,
             "#de77ae"
            ],
            [
             0.3,
             "#f1b6da"
            ],
            [
             0.4,
             "#fde0ef"
            ],
            [
             0.5,
             "#f7f7f7"
            ],
            [
             0.6,
             "#e6f5d0"
            ],
            [
             0.7,
             "#b8e186"
            ],
            [
             0.8,
             "#7fbc41"
            ],
            [
             0.9,
             "#4d9221"
            ],
            [
             1,
             "#276419"
            ]
           ],
           "sequential": [
            [
             0,
             "#0d0887"
            ],
            [
             0.1111111111111111,
             "#46039f"
            ],
            [
             0.2222222222222222,
             "#7201a8"
            ],
            [
             0.3333333333333333,
             "#9c179e"
            ],
            [
             0.4444444444444444,
             "#bd3786"
            ],
            [
             0.5555555555555556,
             "#d8576b"
            ],
            [
             0.6666666666666666,
             "#ed7953"
            ],
            [
             0.7777777777777778,
             "#fb9f3a"
            ],
            [
             0.8888888888888888,
             "#fdca26"
            ],
            [
             1,
             "#f0f921"
            ]
           ],
           "sequentialminus": [
            [
             0,
             "#0d0887"
            ],
            [
             0.1111111111111111,
             "#46039f"
            ],
            [
             0.2222222222222222,
             "#7201a8"
            ],
            [
             0.3333333333333333,
             "#9c179e"
            ],
            [
             0.4444444444444444,
             "#bd3786"
            ],
            [
             0.5555555555555556,
             "#d8576b"
            ],
            [
             0.6666666666666666,
             "#ed7953"
            ],
            [
             0.7777777777777778,
             "#fb9f3a"
            ],
            [
             0.8888888888888888,
             "#fdca26"
            ],
            [
             1,
             "#f0f921"
            ]
           ]
          },
          "colorway": [
           "#636efa",
           "#EF553B",
           "#00cc96",
           "#ab63fa",
           "#FFA15A",
           "#19d3f3",
           "#FF6692",
           "#B6E880",
           "#FF97FF",
           "#FECB52"
          ],
          "font": {
           "color": "#2a3f5f"
          },
          "geo": {
           "bgcolor": "white",
           "lakecolor": "white",
           "landcolor": "#E5ECF6",
           "showlakes": true,
           "showland": true,
           "subunitcolor": "white"
          },
          "hoverlabel": {
           "align": "left"
          },
          "hovermode": "closest",
          "mapbox": {
           "style": "light"
          },
          "paper_bgcolor": "white",
          "plot_bgcolor": "#E5ECF6",
          "polar": {
           "angularaxis": {
            "gridcolor": "white",
            "linecolor": "white",
            "ticks": ""
           },
           "bgcolor": "#E5ECF6",
           "radialaxis": {
            "gridcolor": "white",
            "linecolor": "white",
            "ticks": ""
           }
          },
          "scene": {
           "xaxis": {
            "backgroundcolor": "#E5ECF6",
            "gridcolor": "white",
            "gridwidth": 2,
            "linecolor": "white",
            "showbackground": true,
            "ticks": "",
            "zerolinecolor": "white"
           },
           "yaxis": {
            "backgroundcolor": "#E5ECF6",
            "gridcolor": "white",
            "gridwidth": 2,
            "linecolor": "white",
            "showbackground": true,
            "ticks": "",
            "zerolinecolor": "white"
           },
           "zaxis": {
            "backgroundcolor": "#E5ECF6",
            "gridcolor": "white",
            "gridwidth": 2,
            "linecolor": "white",
            "showbackground": true,
            "ticks": "",
            "zerolinecolor": "white"
           }
          },
          "shapedefaults": {
           "line": {
            "color": "#2a3f5f"
           }
          },
          "ternary": {
           "aaxis": {
            "gridcolor": "white",
            "linecolor": "white",
            "ticks": ""
           },
           "baxis": {
            "gridcolor": "white",
            "linecolor": "white",
            "ticks": ""
           },
           "bgcolor": "#E5ECF6",
           "caxis": {
            "gridcolor": "white",
            "linecolor": "white",
            "ticks": ""
           }
          },
          "title": {
           "x": 0.05
          },
          "xaxis": {
           "automargin": true,
           "gridcolor": "white",
           "linecolor": "white",
           "ticks": "",
           "title": {
            "standoff": 15
           },
           "zerolinecolor": "white",
           "zerolinewidth": 2
          },
          "yaxis": {
           "automargin": true,
           "gridcolor": "white",
           "linecolor": "white",
           "ticks": "",
           "title": {
            "standoff": 15
           },
           "zerolinecolor": "white",
           "zerolinewidth": 2
          }
         }
        },
        "width": 900,
        "xaxis": {
         "anchor": "y",
         "domain": [
          0,
          0.45
         ]
        },
        "xaxis2": {
         "anchor": "y2",
         "domain": [
          0.55,
          1
         ],
         "type": "log"
        },
        "xaxis3": {
         "anchor": "y3",
         "domain": [
          0,
          0.45
         ],
         "type": "log"
        },
        "xaxis4": {
         "anchor": "y4",
         "domain": [
          0.55,
          1
         ],
         "type": "log"
        },
        "yaxis": {
         "anchor": "x",
         "domain": [
          0.625,
          1
         ],
         "scaleanchor": "x",
         "scaleratio": 1
        },
        "yaxis2": {
         "anchor": "x2",
         "domain": [
          0.625,
          1
         ]
        },
        "yaxis3": {
         "anchor": "x3",
         "domain": [
          0,
          0.375
         ]
        },
        "yaxis4": {
         "anchor": "x4",
         "domain": [
          0,
          0.375
         ],
         "range": [
          -0.5,
          0.5
         ]
        }
       }
      },
      "text/html": [
       "<div>\n",
       "        \n",
       "        \n",
       "            <div id=\"778d7d1c-b4a0-47c0-8bde-3f7ded4d9e71\" class=\"plotly-graph-div\" style=\"height:700px; width:900px;\"></div>\n",
       "            <script type=\"text/javascript\">\n",
       "                require([\"plotly\"], function(Plotly) {\n",
       "                    window.PLOTLYENV=window.PLOTLYENV || {};\n",
       "                    \n",
       "                if (document.getElementById(\"778d7d1c-b4a0-47c0-8bde-3f7ded4d9e71\")) {\n",
       "                    Plotly.newPlot(\n",
       "                        '778d7d1c-b4a0-47c0-8bde-3f7ded4d9e71',\n",
       "                        [{\"marker\": {\"color\": [-1.0, -1.0, -1.0, -1.0, -1.0, -1.0, -1.0, -1.0, -1.0, -1.0, -1.0, -1.0, -1.0, -1.0, -1.0, -1.0, 1.0, 1.0, 1.0, 1.0, 1.0, 1.0, 1.0, 1.0, 1.0, 1.0, 1.0, 1.0, 1.0, 1.0, 1.0, 1.0], \"colorscale\": [[0.0, \"rgb(103,0,31)\"], [0.1, \"rgb(178,24,43)\"], [0.2, \"rgb(214,96,77)\"], [0.3, \"rgb(244,165,130)\"], [0.4, \"rgb(253,219,199)\"], [0.5, \"rgb(247,247,247)\"], [0.6, \"rgb(209,229,240)\"], [0.7, \"rgb(146,197,222)\"], [0.8, \"rgb(67,147,195)\"], [0.9, \"rgb(33,102,172)\"], [1.0, \"rgb(5,48,97)\"]], \"size\": 10}, \"mode\": \"markers\", \"name\": \"Data\", \"type\": \"scatter\", \"x\": [-1.512117359696152, -1.5731042930503436, -0.889730746242863, -0.8405776125645029, -0.8501551345955893, -1.225002500598221, -0.18590400594354758, -0.6620382072541084, -1.1171708682266035, -0.4938742690541556, 0.27389668022115576, -0.651750800556273, -0.5556308871745923, -1.4527038762631654, -0.9121542856330791, 0.10709716107891697, 0.8049302517051605, 1.5812470375253989, 0.969872745066462, 1.1751639676603618, 0.7319129852750528, -0.12313312608675064, -0.2962987480344252, 0.9725062108511886, 1.0678443741594306, 1.2070941983572607, 1.649182980805211, 1.0129942486307226, 0.5824693463227527, 0.9643714057089006, 0.49820793921688195, 0.9264021518819674], \"xaxis\": \"x\", \"y\": [0.6326159404448071, 0.523571674949873, 0.009582466983337867, 0.8788875743282978, 0.4630702536353386, 1.502261195264805, 0.3086811407380154, -0.12795520862562182, 0.33748814833885665, 0.7602083925794624, 0.8692292782418465, 0.7478592265234146, 0.2602863500069091, 0.23108263898689382, 1.1978662392035826, 1.6248417277820537, -1.0107303102145193, -1.0620637417134287, -0.9428075397654472, 0.19440790065188226, -1.4927435983373858, -0.7276496300090699, -0.5789598377417315, -0.7723874068197811, -0.7339302730420824, -0.49983168222143143, -0.8490049863140133, -0.05972241090231262, -0.8520418001858572, -0.368382182520039, -1.1283124314099346, -0.7442431273342497], \"yaxis\": \"y\"}, {\"mode\": \"lines\", \"name\": \"y=x\", \"type\": \"scatter\", \"x\": [-2, 2], \"xaxis\": \"x\", \"y\": [-2, 2], \"yaxis\": \"y\"}, {\"mode\": \"lines\", \"name\": \"Score\", \"type\": \"scatter\", \"x\": [0.01, 0.010752168531898922, 0.011560912813835741, 0.012430488295695173, 0.01336547050891115, 0.014370779141993754, 0.01545170392694147, 0.016613932472747908, 0.017863580192457366, 0.019207222481239298, 0.020651929314796272, 0.022205302450155343, 0.02387551542458583, 0.02567135656310991, 0.027602275220902736, 0.029678431503900374, 0.03191074972923552, 0.03431097590679882, 0.036891739544382435, 0.03966662010161201, 0.04265021844233418, 0.04585823366142806, 0.049307545690287495, 0.05301630411562775, 0.057004023678963595, 0.06129168695925734, 0.06590185477903263, 0.07085878491488876, 0.07618855973704608, 0.08191922344953681, 0.08808092965317063, 0.0947061000077224, 0.10182959482819048, 0.10948889651276869, 0.11772430676769291, 0.12657915866672037, 0.13610004466105513, 0.14633706173946348, 0.157344075028561, 0.16917900122028362, 0.18190411331788228, 0.19558636830395093, 0.2102977594546134, 0.22611569515367444, 0.24312340619997877, 0.2614103837511491, 0.28107285020807277, 0.3022142655178379, 0.32494587155918425, 0.34938727747491294, 0.3756670890311596, 0.4039235853150907, 0.43430544633167073, 0.4669725353279706, 0.5020967399614465, 0.5398628767382502, 0.580469663480544, 0.6241307649397462, 0.6710759170575141, 0.7215521357901018, 0.775825016856679, 0.8341801332506334, 0.8969245378672714, 0.9643883791544459, 1.0369266382873439, 1.1149209970080916, 1.1987818459583772, 1.2889504440725366, 1.3859012403933868, 1.490144370527747, 1.602228340877477, 1.7227429147699427, 1.8523222156741201, 1.9916480638308562, 2.141453563853955, 2.302526962179329, 2.4757157946593424, 2.6619313461261314, 2.8621534453892727, 3.0774356208980618, 3.3089106441964957, 3.5577964903394954, 3.8254027466328746, 4.11313750341857, 4.4225147631630435, 4.755162406834014, 5.112830759482942, 5.497401800103736, 5.910899064227987, 6.355498291362295, 6.833538873292303, 7.347536163492151, 7.900194712408972, 8.4944224982638, 9.133346228248625, 9.820327790631257, 10.558981944335786, 11.353195339077613, 12.207146966133182, 13.12533014735226, 14.11257617811452, 15.174079748634945, 16.315426277379736, 17.542621300415917, 18.862122071335175, 20.280871538024616, 21.806334875063275, 23.446538763970537, 25.210113627991248, 27.10633904364837, 29.145192568009907, 31.337402238589046, 33.694503022121594, 36.22889750924289, 38.953921174427265, 41.88391254457479, 45.03428864545836, 48.42162612301507, 52.06374846632575, 55.97981979123284, 60.190445678066624, 64.71778159406794, 69.58564947100446, 74.81966305138829, 80.44736266284185, 86.49836012976684, 93.00449458481393, 100.0], \"xaxis\": \"x2\", \"y\": [0.46153846153846156, 0.46153846153846156, 0.46153846153846156, 0.46153846153846156, 0.46153846153846156, 0.46153846153846156, 0.46153846153846156, 0.46153846153846156, 0.6153846153846154, 0.6923076923076923, 0.7692307692307693, 0.8461538461538461, 0.9230769230769231, 0.9230769230769231, 0.9230769230769231, 0.9230769230769231, 0.9230769230769231, 0.9230769230769231, 1.0, 1.0, 1.0, 1.0, 1.0, 1.0, 1.0, 1.0, 1.0, 1.0, 1.0, 1.0, 1.0, 1.0, 1.0, 1.0, 1.0, 1.0, 1.0, 1.0, 1.0, 0.9230769230769231, 0.9230769230769231, 0.9230769230769231, 0.9230769230769231, 0.9230769230769231, 0.9230769230769231, 0.9230769230769231, 0.9230769230769231, 0.9230769230769231, 0.9230769230769231, 0.9230769230769231, 0.9230769230769231, 0.9230769230769231, 0.9230769230769231, 0.9230769230769231, 0.9230769230769231, 0.9230769230769231, 0.9230769230769231, 0.9230769230769231, 0.9230769230769231, 0.9230769230769231, 0.9230769230769231, 0.9230769230769231, 0.9230769230769231, 0.9230769230769231, 0.9230769230769231, 0.9230769230769231, 0.9230769230769231, 0.9230769230769231, 1.0, 1.0, 1.0, 1.0, 1.0, 1.0, 1.0, 1.0, 1.0, 1.0, 1.0, 1.0, 1.0, 1.0, 1.0, 1.0, 1.0, 1.0, 1.0, 1.0, 1.0, 1.0, 1.0, 1.0, 1.0, 1.0, 1.0, 1.0, 1.0, 1.0, 1.0, 1.0, 1.0, 1.0, 1.0, 1.0, 1.0, 1.0, 1.0, 1.0, 1.0, 1.0, 1.0, 1.0, 1.0, 1.0, 1.0, 1.0, 1.0, 1.0, 1.0, 1.0, 1.0, 1.0, 1.0, 1.0, 1.0, 1.0, 1.0, 1.0], \"yaxis\": \"y2\"}, {\"mode\": \"lines\", \"name\": \"a\", \"type\": \"scatter\", \"x\": [0.01, 0.010752168531898922, 0.011560912813835741, 0.012430488295695173, 0.01336547050891115, 0.014370779141993754, 0.01545170392694147, 0.016613932472747908, 0.017863580192457366, 0.019207222481239298, 0.020651929314796272, 0.022205302450155343, 0.02387551542458583, 0.02567135656310991, 0.027602275220902736, 0.029678431503900374, 0.03191074972923552, 0.03431097590679882, 0.036891739544382435, 0.03966662010161201, 0.04265021844233418, 0.04585823366142806, 0.049307545690287495, 0.05301630411562775, 0.057004023678963595, 0.06129168695925734, 0.06590185477903263, 0.07085878491488876, 0.07618855973704608, 0.08191922344953681, 0.08808092965317063, 0.0947061000077224, 0.10182959482819048, 0.10948889651276869, 0.11772430676769291, 0.12657915866672037, 0.13610004466105513, 0.14633706173946348, 0.157344075028561, 0.16917900122028362, 0.18190411331788228, 0.19558636830395093, 0.2102977594546134, 0.22611569515367444, 0.24312340619997877, 0.2614103837511491, 0.28107285020807277, 0.3022142655178379, 0.32494587155918425, 0.34938727747491294, 0.3756670890311596, 0.4039235853150907, 0.43430544633167073, 0.4669725353279706, 0.5020967399614465, 0.5398628767382502, 0.580469663480544, 0.6241307649397462, 0.6710759170575141, 0.7215521357901018, 0.775825016856679, 0.8341801332506334, 0.8969245378672714, 0.9643883791544459, 1.0369266382873439, 1.1149209970080916, 1.1987818459583772, 1.2889504440725366, 1.3859012403933868, 1.490144370527747, 1.602228340877477, 1.7227429147699427, 1.8523222156741201, 1.9916480638308562, 2.141453563853955, 2.302526962179329, 2.4757157946593424, 2.6619313461261314, 2.8621534453892727, 3.0774356208980618, 3.3089106441964957, 3.5577964903394954, 3.8254027466328746, 4.11313750341857, 4.4225147631630435, 4.755162406834014, 5.112830759482942, 5.497401800103736, 5.910899064227987, 6.355498291362295, 6.833538873292303, 7.347536163492151, 7.900194712408972, 8.4944224982638, 9.133346228248625, 9.820327790631257, 10.558981944335786, 11.353195339077613, 12.207146966133182, 13.12533014735226, 14.11257617811452, 15.174079748634945, 16.315426277379736, 17.542621300415917, 18.862122071335175, 20.280871538024616, 21.806334875063275, 23.446538763970537, 25.210113627991248, 27.10633904364837, 29.145192568009907, 31.337402238589046, 33.694503022121594, 36.22889750924289, 38.953921174427265, 41.88391254457479, 45.03428864545836, 48.42162612301507, 52.06374846632575, 55.97981979123284, 60.190445678066624, 64.71778159406794, 69.58564947100446, 74.81966305138829, 80.44736266284185, 86.49836012976684, 93.00449458481393, 100.0], \"xaxis\": \"x3\", \"y\": [1.3668214082681185, 1.3668214082681185, 1.366821408268118, 1.3668214082681183, 1.3668214082681183, 1.366821408268118, 1.3668214082681183, 1.366821408268118, 1.3668214082681178, 1.366821408268118, 1.3668214082681176, 1.366821408268118, 1.366821408268118, 1.3668214082681187, 1.3668214082681183, 1.3668214082681183, 1.366821408268118, 1.366821408268118, 1.3668214082681178, 1.366821408268118, 1.3478084832389223, 1.3239061731888127, 1.3042666334454789, 1.3042666334454787, 1.3042666334454784, 1.2929457853008683, 1.2798607721289217, 1.269777847532936, 1.2530531930237963, 1.2187165759638805, 1.183241847476235, 1.1586594663713485, 1.1940650571391678, 1.2136523006189897, 1.2136523016502858, 1.2136523027460808, 1.213322200893279, 1.2360651238289138, 1.3319875816151543, 1.4376372506409918, 1.4411116806949762, 1.4370832335058028, 1.4625031959707304, 1.5723523704628426, 1.633038922380446, 1.6326850113923514, 1.7460902459831695, 1.8962108960167812, 1.9562154901519415, 1.9555398889265467, 1.9558698165859763, 1.9539235453308823, 1.953923538098126, 1.9539235294615127, 1.9526584362818373, 1.9560758317626825, 1.9548907571876493, 1.8686369488717998, 1.7950696976605982, 1.7469165296057412, 1.6198953780541758, 1.571499237829164, 1.574945604206444, 1.5455250808755336, 1.4292276650012992, 1.3243676739851007, 1.229574646627171, 1.1436809100500058, 1.0656854370322788, 0.9947251839176265, 0.9300521626214857, 0.9183711762633727, 0.9181324352210709, 0.9182156219605854, 0.9181470203212704, 0.9180656015760381, 0.9051882931174855, 0.8986328068954618, 0.8986328068954618, 0.8986328068954619, 0.8986328068954619, 0.8986328068954619, 0.8986328068954619, 0.8986328068954619, 0.8986328068954619, 0.8986328068954619, 0.8986328068954619, 0.8986328068954619, 0.8986328068954619, 0.8986328068954619, 0.8986328068954619, 0.8986328068954619, 0.8986328068954619, 0.8986328068954619, 0.8986328068954619, 0.8986328068954619, 0.8986328068954619, 0.8986328068954619, 0.8986328068954619, 0.8986328068954619, 0.8986328068954619, 0.8986328068954619, 0.8986328068954619, 0.8986328068954619, 0.8986328068954619, 0.8986328068954619, 0.8986328068954619, 0.8986328068954619, 0.8986328068954619, 0.8986328068954619, 0.8986328068954619, 0.8986328068954619, 0.8986328068954619, 0.8986328068954619, 0.8986328068954619, 0.8986328068954619, 0.8986328068954619, 0.8986328068954619, 0.8986328068954619, 0.8986328068954619, 0.8986328068954619, 0.8986328068954619, 0.8986328068954619, 0.8986328068954619, 0.8986328068954619, 0.8986328068954619, 0.8986328068954619, 0.8986328068954619], \"yaxis\": \"y3\"}, {\"mode\": \"lines\", \"name\": \"a=1\", \"type\": \"scatter\", \"x\": [0.01, 0.010752168531898922, 0.011560912813835741, 0.012430488295695173, 0.01336547050891115, 0.014370779141993754, 0.01545170392694147, 0.016613932472747908, 0.017863580192457366, 0.019207222481239298, 0.020651929314796272, 0.022205302450155343, 0.02387551542458583, 0.02567135656310991, 0.027602275220902736, 0.029678431503900374, 0.03191074972923552, 0.03431097590679882, 0.036891739544382435, 0.03966662010161201, 0.04265021844233418, 0.04585823366142806, 0.049307545690287495, 0.05301630411562775, 0.057004023678963595, 0.06129168695925734, 0.06590185477903263, 0.07085878491488876, 0.07618855973704608, 0.08191922344953681, 0.08808092965317063, 0.0947061000077224, 0.10182959482819048, 0.10948889651276869, 0.11772430676769291, 0.12657915866672037, 0.13610004466105513, 0.14633706173946348, 0.157344075028561, 0.16917900122028362, 0.18190411331788228, 0.19558636830395093, 0.2102977594546134, 0.22611569515367444, 0.24312340619997877, 0.2614103837511491, 0.28107285020807277, 0.3022142655178379, 0.32494587155918425, 0.34938727747491294, 0.3756670890311596, 0.4039235853150907, 0.43430544633167073, 0.4669725353279706, 0.5020967399614465, 0.5398628767382502, 0.580469663480544, 0.6241307649397462, 0.6710759170575141, 0.7215521357901018, 0.775825016856679, 0.8341801332506334, 0.8969245378672714, 0.9643883791544459, 1.0369266382873439, 1.1149209970080916, 1.1987818459583772, 1.2889504440725366, 1.3859012403933868, 1.490144370527747, 1.602228340877477, 1.7227429147699427, 1.8523222156741201, 1.9916480638308562, 2.141453563853955, 2.302526962179329, 2.4757157946593424, 2.6619313461261314, 2.8621534453892727, 3.0774356208980618, 3.3089106441964957, 3.5577964903394954, 3.8254027466328746, 4.11313750341857, 4.4225147631630435, 4.755162406834014, 5.112830759482942, 5.497401800103736, 5.910899064227987, 6.355498291362295, 6.833538873292303, 7.347536163492151, 7.900194712408972, 8.4944224982638, 9.133346228248625, 9.820327790631257, 10.558981944335786, 11.353195339077613, 12.207146966133182, 13.12533014735226, 14.11257617811452, 15.174079748634945, 16.315426277379736, 17.542621300415917, 18.862122071335175, 20.280871538024616, 21.806334875063275, 23.446538763970537, 25.210113627991248, 27.10633904364837, 29.145192568009907, 31.337402238589046, 33.694503022121594, 36.22889750924289, 38.953921174427265, 41.88391254457479, 45.03428864545836, 48.42162612301507, 52.06374846632575, 55.97981979123284, 60.190445678066624, 64.71778159406794, 69.58564947100446, 74.81966305138829, 80.44736266284185, 86.49836012976684, 93.00449458481393, 100.0], \"xaxis\": \"x3\", \"y\": [1.0, 1.0, 1.0, 1.0, 1.0, 1.0, 1.0, 1.0, 1.0, 1.0, 1.0, 1.0, 1.0, 1.0, 1.0, 1.0, 1.0, 1.0, 1.0, 1.0, 1.0, 1.0, 1.0, 1.0, 1.0, 1.0, 1.0, 1.0, 1.0, 1.0, 1.0, 1.0, 1.0, 1.0, 1.0, 1.0, 1.0, 1.0, 1.0, 1.0, 1.0, 1.0, 1.0, 1.0, 1.0, 1.0, 1.0, 1.0, 1.0, 1.0, 1.0, 1.0, 1.0, 1.0, 1.0, 1.0, 1.0, 1.0, 1.0, 1.0, 1.0, 1.0, 1.0, 1.0, 1.0, 1.0, 1.0, 1.0, 1.0, 1.0, 1.0, 1.0, 1.0, 1.0, 1.0, 1.0, 1.0, 1.0, 1.0, 1.0, 1.0, 1.0, 1.0, 1.0, 1.0, 1.0, 1.0, 1.0, 1.0, 1.0, 1.0, 1.0, 1.0, 1.0, 1.0, 1.0, 1.0, 1.0, 1.0, 1.0, 1.0, 1.0, 1.0, 1.0, 1.0, 1.0, 1.0, 1.0, 1.0, 1.0, 1.0, 1.0, 1.0, 1.0, 1.0, 1.0, 1.0, 1.0, 1.0, 1.0, 1.0, 1.0, 1.0, 1.0, 1.0, 1.0, 1.0, 1.0], \"yaxis\": \"y3\"}, {\"mode\": \"lines\", \"name\": \"b\", \"type\": \"scatter\", \"x\": [0.01, 0.010752168531898922, 0.011560912813835741, 0.012430488295695173, 0.01336547050891115, 0.014370779141993754, 0.01545170392694147, 0.016613932472747908, 0.017863580192457366, 0.019207222481239298, 0.020651929314796272, 0.022205302450155343, 0.02387551542458583, 0.02567135656310991, 0.027602275220902736, 0.029678431503900374, 0.03191074972923552, 0.03431097590679882, 0.036891739544382435, 0.03966662010161201, 0.04265021844233418, 0.04585823366142806, 0.049307545690287495, 0.05301630411562775, 0.057004023678963595, 0.06129168695925734, 0.06590185477903263, 0.07085878491488876, 0.07618855973704608, 0.08191922344953681, 0.08808092965317063, 0.0947061000077224, 0.10182959482819048, 0.10948889651276869, 0.11772430676769291, 0.12657915866672037, 0.13610004466105513, 0.14633706173946348, 0.157344075028561, 0.16917900122028362, 0.18190411331788228, 0.19558636830395093, 0.2102977594546134, 0.22611569515367444, 0.24312340619997877, 0.2614103837511491, 0.28107285020807277, 0.3022142655178379, 0.32494587155918425, 0.34938727747491294, 0.3756670890311596, 0.4039235853150907, 0.43430544633167073, 0.4669725353279706, 0.5020967399614465, 0.5398628767382502, 0.580469663480544, 0.6241307649397462, 0.6710759170575141, 0.7215521357901018, 0.775825016856679, 0.8341801332506334, 0.8969245378672714, 0.9643883791544459, 1.0369266382873439, 1.1149209970080916, 1.1987818459583772, 1.2889504440725366, 1.3859012403933868, 1.490144370527747, 1.602228340877477, 1.7227429147699427, 1.8523222156741201, 1.9916480638308562, 2.141453563853955, 2.302526962179329, 2.4757157946593424, 2.6619313461261314, 2.8621534453892727, 3.0774356208980618, 3.3089106441964957, 3.5577964903394954, 3.8254027466328746, 4.11313750341857, 4.4225147631630435, 4.755162406834014, 5.112830759482942, 5.497401800103736, 5.910899064227987, 6.355498291362295, 6.833538873292303, 7.347536163492151, 7.900194712408972, 8.4944224982638, 9.133346228248625, 9.820327790631257, 10.558981944335786, 11.353195339077613, 12.207146966133182, 13.12533014735226, 14.11257617811452, 15.174079748634945, 16.315426277379736, 17.542621300415917, 18.862122071335175, 20.280871538024616, 21.806334875063275, 23.446538763970537, 25.210113627991248, 27.10633904364837, 29.145192568009907, 31.337402238589046, 33.694503022121594, 36.22889750924289, 38.953921174427265, 41.88391254457479, 45.03428864545836, 48.42162612301507, 52.06374846632575, 55.97981979123284, 60.190445678066624, 64.71778159406794, 69.58564947100446, 74.81966305138829, 80.44736266284185, 86.49836012976684, 93.00449458481393, 100.0], \"xaxis\": \"x4\", \"y\": [-7.2360279718724545, -6.541892283187807, -5.8963148941938295, -5.29589890640614, -4.737485051557784, -4.218135068164495, -3.7351162409832477, -3.2858870220138354, -2.8680836573840276, -2.4795077497517277, -2.118114690779953, -1.7820029028186537, -1.4694038331852672, -1.1786726483959067, -0.9082795793821188, -0.6568018721534794, -0.42291630155200466, -0.20539220870729577, -0.0030850255568723372, 0.18506974764095385, 0.19690234576173674, 0.189693032699289, 0.18376943828037112, 0.0493158887258438, -0.04948972722165493, -0.04741508668948907, -0.04501714809481136, -0.06875210235278371, -0.12681336032105994, -0.12929700660385313, -0.1318629750971295, -0.13356646257601246, -0.17673341152829253, -0.18692260041487854, -0.18694147695404448, -0.18695647981704164, -0.11900308677736689, -0.12583362570505405, -0.15486480175255118, -0.18683994304515572, -0.1876525495167823, -0.1868368279787839, -0.15528337031714445, -0.21413333908106777, -0.24642305767091233, -0.24626094876496527, -0.2801940405144224, -0.3256284386556181, -0.3440475712082032, -0.34376687208395157, -0.3782963053202027, -0.37819245238888793, -0.37786236526548156, -0.378058053740832, -0.37780659249429277, -0.37809404516292494, -0.378103494874603, -0.3514940844246915, -0.35735598069426305, -0.4003842772772494, -0.3780948566352943, -0.36984216158928, -0.37063321378305414, -0.36329802591973626, -0.3334604262455521, -0.30655724520528393, -0.28223687332987984, -0.2601997291057916, -0.24018898610855902, -0.22198321937421098, -0.20539052292736112, -0.20260414518950917, -0.20250500686188325, -0.20253955724261444, -0.20251107418027348, -0.20247726891028675, -0.1961887853396479, -0.15507355172529128, -0.11125154735242886, -0.075012079756867, -0.075012079756867, -0.075012079756867, -0.075012079756867, -0.075012079756867, -0.075012079756867, -0.075012079756867, -0.075012079756867, -0.075012079756867, -0.075012079756867, -0.075012079756867, -0.075012079756867, -0.075012079756867, -0.075012079756867, -0.075012079756867, -0.075012079756867, -0.075012079756867, -0.075012079756867, -0.075012079756867, -0.075012079756867, -0.075012079756867, -0.075012079756867, -0.075012079756867, -0.075012079756867, -0.075012079756867, -0.075012079756867, -0.075012079756867, -0.075012079756867, -0.075012079756867, -0.075012079756867, -0.075012079756867, -0.075012079756867, -0.075012079756867, -0.075012079756867, -0.075012079756867, -0.075012079756867, -0.075012079756867, -0.075012079756867, -0.075012079756867, -0.075012079756867, -0.075012079756867, -0.075012079756867, -0.075012079756867, -0.075012079756867, -0.075012079756867, -0.075012079756867, -0.075012079756867, -0.075012079756867, -0.075012079756867], \"yaxis\": \"y4\"}, {\"mode\": \"lines\", \"name\": \"b=0\", \"type\": \"scatter\", \"x\": [0.01, 0.010752168531898922, 0.011560912813835741, 0.012430488295695173, 0.01336547050891115, 0.014370779141993754, 0.01545170392694147, 0.016613932472747908, 0.017863580192457366, 0.019207222481239298, 0.020651929314796272, 0.022205302450155343, 0.02387551542458583, 0.02567135656310991, 0.027602275220902736, 0.029678431503900374, 0.03191074972923552, 0.03431097590679882, 0.036891739544382435, 0.03966662010161201, 0.04265021844233418, 0.04585823366142806, 0.049307545690287495, 0.05301630411562775, 0.057004023678963595, 0.06129168695925734, 0.06590185477903263, 0.07085878491488876, 0.07618855973704608, 0.08191922344953681, 0.08808092965317063, 0.0947061000077224, 0.10182959482819048, 0.10948889651276869, 0.11772430676769291, 0.12657915866672037, 0.13610004466105513, 0.14633706173946348, 0.157344075028561, 0.16917900122028362, 0.18190411331788228, 0.19558636830395093, 0.2102977594546134, 0.22611569515367444, 0.24312340619997877, 0.2614103837511491, 0.28107285020807277, 0.3022142655178379, 0.32494587155918425, 0.34938727747491294, 0.3756670890311596, 0.4039235853150907, 0.43430544633167073, 0.4669725353279706, 0.5020967399614465, 0.5398628767382502, 0.580469663480544, 0.6241307649397462, 0.6710759170575141, 0.7215521357901018, 0.775825016856679, 0.8341801332506334, 0.8969245378672714, 0.9643883791544459, 1.0369266382873439, 1.1149209970080916, 1.1987818459583772, 1.2889504440725366, 1.3859012403933868, 1.490144370527747, 1.602228340877477, 1.7227429147699427, 1.8523222156741201, 1.9916480638308562, 2.141453563853955, 2.302526962179329, 2.4757157946593424, 2.6619313461261314, 2.8621534453892727, 3.0774356208980618, 3.3089106441964957, 3.5577964903394954, 3.8254027466328746, 4.11313750341857, 4.4225147631630435, 4.755162406834014, 5.112830759482942, 5.497401800103736, 5.910899064227987, 6.355498291362295, 6.833538873292303, 7.347536163492151, 7.900194712408972, 8.4944224982638, 9.133346228248625, 9.820327790631257, 10.558981944335786, 11.353195339077613, 12.207146966133182, 13.12533014735226, 14.11257617811452, 15.174079748634945, 16.315426277379736, 17.542621300415917, 18.862122071335175, 20.280871538024616, 21.806334875063275, 23.446538763970537, 25.210113627991248, 27.10633904364837, 29.145192568009907, 31.337402238589046, 33.694503022121594, 36.22889750924289, 38.953921174427265, 41.88391254457479, 45.03428864545836, 48.42162612301507, 52.06374846632575, 55.97981979123284, 60.190445678066624, 64.71778159406794, 69.58564947100446, 74.81966305138829, 80.44736266284185, 86.49836012976684, 93.00449458481393, 100.0], \"xaxis\": \"x4\", \"y\": [0.0, 0.0, 0.0, 0.0, 0.0, 0.0, 0.0, 0.0, 0.0, 0.0, 0.0, 0.0, 0.0, 0.0, 0.0, 0.0, 0.0, 0.0, 0.0, 0.0, 0.0, 0.0, 0.0, 0.0, 0.0, 0.0, 0.0, 0.0, 0.0, 0.0, 0.0, 0.0, 0.0, 0.0, 0.0, 0.0, 0.0, 0.0, 0.0, 0.0, 0.0, 0.0, 0.0, 0.0, 0.0, 0.0, 0.0, 0.0, 0.0, 0.0, 0.0, 0.0, 0.0, 0.0, 0.0, 0.0, 0.0, 0.0, 0.0, 0.0, 0.0, 0.0, 0.0, 0.0, 0.0, 0.0, 0.0, 0.0, 0.0, 0.0, 0.0, 0.0, 0.0, 0.0, 0.0, 0.0, 0.0, 0.0, 0.0, 0.0, 0.0, 0.0, 0.0, 0.0, 0.0, 0.0, 0.0, 0.0, 0.0, 0.0, 0.0, 0.0, 0.0, 0.0, 0.0, 0.0, 0.0, 0.0, 0.0, 0.0, 0.0, 0.0, 0.0, 0.0, 0.0, 0.0, 0.0, 0.0, 0.0, 0.0, 0.0, 0.0, 0.0, 0.0, 0.0, 0.0, 0.0, 0.0, 0.0, 0.0, 0.0, 0.0, 0.0, 0.0, 0.0, 0.0, 0.0, 0.0], \"yaxis\": \"y4\"}],\n",
       "                        {\"annotations\": [{\"font\": {\"size\": 16}, \"showarrow\": false, \"text\": \"Data\", \"x\": 0.225, \"xanchor\": \"center\", \"xref\": \"paper\", \"y\": 1.0, \"yanchor\": \"bottom\", \"yref\": \"paper\"}, {\"font\": {\"size\": 16}, \"showarrow\": false, \"text\": \"Score\", \"x\": 0.775, \"xanchor\": \"center\", \"xref\": \"paper\", \"y\": 1.0, \"yanchor\": \"bottom\", \"yref\": \"paper\"}, {\"font\": {\"size\": 16}, \"showarrow\": false, \"text\": \"Slope a\", \"x\": 0.225, \"xanchor\": \"center\", \"xref\": \"paper\", \"y\": 0.375, \"yanchor\": \"bottom\", \"yref\": \"paper\"}, {\"font\": {\"size\": 16}, \"showarrow\": false, \"text\": \"Intercept b\", \"x\": 0.775, \"xanchor\": \"center\", \"xref\": \"paper\", \"y\": 0.375, \"yanchor\": \"bottom\", \"yref\": \"paper\"}], \"height\": 700, \"template\": {\"data\": {\"bar\": [{\"error_x\": {\"color\": \"#2a3f5f\"}, \"error_y\": {\"color\": \"#2a3f5f\"}, \"marker\": {\"line\": {\"color\": \"#E5ECF6\", \"width\": 0.5}}, \"type\": \"bar\"}], \"barpolar\": [{\"marker\": {\"line\": {\"color\": \"#E5ECF6\", \"width\": 0.5}}, \"type\": \"barpolar\"}], \"carpet\": [{\"aaxis\": {\"endlinecolor\": \"#2a3f5f\", \"gridcolor\": \"white\", \"linecolor\": \"white\", \"minorgridcolor\": \"white\", \"startlinecolor\": \"#2a3f5f\"}, \"baxis\": {\"endlinecolor\": \"#2a3f5f\", \"gridcolor\": \"white\", \"linecolor\": \"white\", \"minorgridcolor\": \"white\", \"startlinecolor\": \"#2a3f5f\"}, \"type\": \"carpet\"}], \"choropleth\": [{\"colorbar\": {\"outlinewidth\": 0, \"ticks\": \"\"}, \"type\": \"choropleth\"}], \"contour\": [{\"colorbar\": {\"outlinewidth\": 0, \"ticks\": \"\"}, \"colorscale\": [[0.0, \"#0d0887\"], [0.1111111111111111, \"#46039f\"], [0.2222222222222222, \"#7201a8\"], [0.3333333333333333, \"#9c179e\"], [0.4444444444444444, \"#bd3786\"], [0.5555555555555556, \"#d8576b\"], [0.6666666666666666, \"#ed7953\"], [0.7777777777777778, \"#fb9f3a\"], [0.8888888888888888, \"#fdca26\"], [1.0, \"#f0f921\"]], \"type\": \"contour\"}], \"contourcarpet\": [{\"colorbar\": {\"outlinewidth\": 0, \"ticks\": \"\"}, \"type\": \"contourcarpet\"}], \"heatmap\": [{\"colorbar\": {\"outlinewidth\": 0, \"ticks\": \"\"}, \"colorscale\": [[0.0, \"#0d0887\"], [0.1111111111111111, \"#46039f\"], [0.2222222222222222, \"#7201a8\"], [0.3333333333333333, \"#9c179e\"], [0.4444444444444444, \"#bd3786\"], [0.5555555555555556, \"#d8576b\"], [0.6666666666666666, \"#ed7953\"], [0.7777777777777778, \"#fb9f3a\"], [0.8888888888888888, \"#fdca26\"], [1.0, \"#f0f921\"]], \"type\": \"heatmap\"}], \"heatmapgl\": [{\"colorbar\": {\"outlinewidth\": 0, \"ticks\": \"\"}, \"colorscale\": [[0.0, \"#0d0887\"], [0.1111111111111111, \"#46039f\"], [0.2222222222222222, \"#7201a8\"], [0.3333333333333333, \"#9c179e\"], [0.4444444444444444, \"#bd3786\"], [0.5555555555555556, \"#d8576b\"], [0.6666666666666666, \"#ed7953\"], [0.7777777777777778, \"#fb9f3a\"], [0.8888888888888888, \"#fdca26\"], [1.0, \"#f0f921\"]], \"type\": \"heatmapgl\"}], \"histogram\": [{\"marker\": {\"colorbar\": {\"outlinewidth\": 0, \"ticks\": \"\"}}, \"type\": \"histogram\"}], \"histogram2d\": [{\"colorbar\": {\"outlinewidth\": 0, \"ticks\": \"\"}, \"colorscale\": [[0.0, \"#0d0887\"], [0.1111111111111111, \"#46039f\"], [0.2222222222222222, \"#7201a8\"], [0.3333333333333333, \"#9c179e\"], [0.4444444444444444, \"#bd3786\"], [0.5555555555555556, \"#d8576b\"], [0.6666666666666666, \"#ed7953\"], [0.7777777777777778, \"#fb9f3a\"], [0.8888888888888888, \"#fdca26\"], [1.0, \"#f0f921\"]], \"type\": \"histogram2d\"}], \"histogram2dcontour\": [{\"colorbar\": {\"outlinewidth\": 0, \"ticks\": \"\"}, \"colorscale\": [[0.0, \"#0d0887\"], [0.1111111111111111, \"#46039f\"], [0.2222222222222222, \"#7201a8\"], [0.3333333333333333, \"#9c179e\"], [0.4444444444444444, \"#bd3786\"], [0.5555555555555556, \"#d8576b\"], [0.6666666666666666, \"#ed7953\"], [0.7777777777777778, \"#fb9f3a\"], [0.8888888888888888, \"#fdca26\"], [1.0, \"#f0f921\"]], \"type\": \"histogram2dcontour\"}], \"mesh3d\": [{\"colorbar\": {\"outlinewidth\": 0, \"ticks\": \"\"}, \"type\": \"mesh3d\"}], \"parcoords\": [{\"line\": {\"colorbar\": {\"outlinewidth\": 0, \"ticks\": \"\"}}, \"type\": \"parcoords\"}], \"pie\": [{\"automargin\": true, \"type\": \"pie\"}], \"scatter\": [{\"marker\": {\"colorbar\": {\"outlinewidth\": 0, \"ticks\": \"\"}}, \"type\": \"scatter\"}], \"scatter3d\": [{\"line\": {\"colorbar\": {\"outlinewidth\": 0, \"ticks\": \"\"}}, \"marker\": {\"colorbar\": {\"outlinewidth\": 0, \"ticks\": \"\"}}, \"type\": \"scatter3d\"}], \"scattercarpet\": [{\"marker\": {\"colorbar\": {\"outlinewidth\": 0, \"ticks\": \"\"}}, \"type\": \"scattercarpet\"}], \"scattergeo\": [{\"marker\": {\"colorbar\": {\"outlinewidth\": 0, \"ticks\": \"\"}}, \"type\": \"scattergeo\"}], \"scattergl\": [{\"marker\": {\"colorbar\": {\"outlinewidth\": 0, \"ticks\": \"\"}}, \"type\": \"scattergl\"}], \"scattermapbox\": [{\"marker\": {\"colorbar\": {\"outlinewidth\": 0, \"ticks\": \"\"}}, \"type\": \"scattermapbox\"}], \"scatterpolar\": [{\"marker\": {\"colorbar\": {\"outlinewidth\": 0, \"ticks\": \"\"}}, \"type\": \"scatterpolar\"}], \"scatterpolargl\": [{\"marker\": {\"colorbar\": {\"outlinewidth\": 0, \"ticks\": \"\"}}, \"type\": \"scatterpolargl\"}], \"scatterternary\": [{\"marker\": {\"colorbar\": {\"outlinewidth\": 0, \"ticks\": \"\"}}, \"type\": \"scatterternary\"}], \"surface\": [{\"colorbar\": {\"outlinewidth\": 0, \"ticks\": \"\"}, \"colorscale\": [[0.0, \"#0d0887\"], [0.1111111111111111, \"#46039f\"], [0.2222222222222222, \"#7201a8\"], [0.3333333333333333, \"#9c179e\"], [0.4444444444444444, \"#bd3786\"], [0.5555555555555556, \"#d8576b\"], [0.6666666666666666, \"#ed7953\"], [0.7777777777777778, \"#fb9f3a\"], [0.8888888888888888, \"#fdca26\"], [1.0, \"#f0f921\"]], \"type\": \"surface\"}], \"table\": [{\"cells\": {\"fill\": {\"color\": \"#EBF0F8\"}, \"line\": {\"color\": \"white\"}}, \"header\": {\"fill\": {\"color\": \"#C8D4E3\"}, \"line\": {\"color\": \"white\"}}, \"type\": \"table\"}]}, \"layout\": {\"annotationdefaults\": {\"arrowcolor\": \"#2a3f5f\", \"arrowhead\": 0, \"arrowwidth\": 1}, \"coloraxis\": {\"colorbar\": {\"outlinewidth\": 0, \"ticks\": \"\"}}, \"colorscale\": {\"diverging\": [[0, \"#8e0152\"], [0.1, \"#c51b7d\"], [0.2, \"#de77ae\"], [0.3, \"#f1b6da\"], [0.4, \"#fde0ef\"], [0.5, \"#f7f7f7\"], [0.6, \"#e6f5d0\"], [0.7, \"#b8e186\"], [0.8, \"#7fbc41\"], [0.9, \"#4d9221\"], [1, \"#276419\"]], \"sequential\": [[0.0, \"#0d0887\"], [0.1111111111111111, \"#46039f\"], [0.2222222222222222, \"#7201a8\"], [0.3333333333333333, \"#9c179e\"], [0.4444444444444444, \"#bd3786\"], [0.5555555555555556, \"#d8576b\"], [0.6666666666666666, \"#ed7953\"], [0.7777777777777778, \"#fb9f3a\"], [0.8888888888888888, \"#fdca26\"], [1.0, \"#f0f921\"]], \"sequentialminus\": [[0.0, \"#0d0887\"], [0.1111111111111111, \"#46039f\"], [0.2222222222222222, \"#7201a8\"], [0.3333333333333333, \"#9c179e\"], [0.4444444444444444, \"#bd3786\"], [0.5555555555555556, \"#d8576b\"], [0.6666666666666666, \"#ed7953\"], [0.7777777777777778, \"#fb9f3a\"], [0.8888888888888888, \"#fdca26\"], [1.0, \"#f0f921\"]]}, \"colorway\": [\"#636efa\", \"#EF553B\", \"#00cc96\", \"#ab63fa\", \"#FFA15A\", \"#19d3f3\", \"#FF6692\", \"#B6E880\", \"#FF97FF\", \"#FECB52\"], \"font\": {\"color\": \"#2a3f5f\"}, \"geo\": {\"bgcolor\": \"white\", \"lakecolor\": \"white\", \"landcolor\": \"#E5ECF6\", \"showlakes\": true, \"showland\": true, \"subunitcolor\": \"white\"}, \"hoverlabel\": {\"align\": \"left\"}, \"hovermode\": \"closest\", \"mapbox\": {\"style\": \"light\"}, \"paper_bgcolor\": \"white\", \"plot_bgcolor\": \"#E5ECF6\", \"polar\": {\"angularaxis\": {\"gridcolor\": \"white\", \"linecolor\": \"white\", \"ticks\": \"\"}, \"bgcolor\": \"#E5ECF6\", \"radialaxis\": {\"gridcolor\": \"white\", \"linecolor\": \"white\", \"ticks\": \"\"}}, \"scene\": {\"xaxis\": {\"backgroundcolor\": \"#E5ECF6\", \"gridcolor\": \"white\", \"gridwidth\": 2, \"linecolor\": \"white\", \"showbackground\": true, \"ticks\": \"\", \"zerolinecolor\": \"white\"}, \"yaxis\": {\"backgroundcolor\": \"#E5ECF6\", \"gridcolor\": \"white\", \"gridwidth\": 2, \"linecolor\": \"white\", \"showbackground\": true, \"ticks\": \"\", \"zerolinecolor\": \"white\"}, \"zaxis\": {\"backgroundcolor\": \"#E5ECF6\", \"gridcolor\": \"white\", \"gridwidth\": 2, \"linecolor\": \"white\", \"showbackground\": true, \"ticks\": \"\", \"zerolinecolor\": \"white\"}}, \"shapedefaults\": {\"line\": {\"color\": \"#2a3f5f\"}}, \"ternary\": {\"aaxis\": {\"gridcolor\": \"white\", \"linecolor\": \"white\", \"ticks\": \"\"}, \"baxis\": {\"gridcolor\": \"white\", \"linecolor\": \"white\", \"ticks\": \"\"}, \"bgcolor\": \"#E5ECF6\", \"caxis\": {\"gridcolor\": \"white\", \"linecolor\": \"white\", \"ticks\": \"\"}}, \"title\": {\"x\": 0.05}, \"xaxis\": {\"automargin\": true, \"gridcolor\": \"white\", \"linecolor\": \"white\", \"ticks\": \"\", \"title\": {\"standoff\": 15}, \"zerolinecolor\": \"white\", \"zerolinewidth\": 2}, \"yaxis\": {\"automargin\": true, \"gridcolor\": \"white\", \"linecolor\": \"white\", \"ticks\": \"\", \"title\": {\"standoff\": 15}, \"zerolinecolor\": \"white\", \"zerolinewidth\": 2}}}, \"width\": 900, \"xaxis\": {\"anchor\": \"y\", \"domain\": [0.0, 0.45]}, \"xaxis2\": {\"anchor\": \"y2\", \"domain\": [0.55, 1.0], \"type\": \"log\"}, \"xaxis3\": {\"anchor\": \"y3\", \"domain\": [0.0, 0.45], \"type\": \"log\"}, \"xaxis4\": {\"anchor\": \"y4\", \"domain\": [0.55, 1.0], \"type\": \"log\"}, \"yaxis\": {\"anchor\": \"x\", \"domain\": [0.625, 1.0], \"scaleanchor\": \"x\", \"scaleratio\": 1}, \"yaxis2\": {\"anchor\": \"x2\", \"domain\": [0.625, 1.0]}, \"yaxis3\": {\"anchor\": \"x3\", \"domain\": [0.0, 0.375]}, \"yaxis4\": {\"anchor\": \"x4\", \"domain\": [0.0, 0.375], \"range\": [-0.5, 0.5]}},\n",
       "                        {\"responsive\": true}\n",
       "                    ).then(function(){\n",
       "                            \n",
       "var gd = document.getElementById('778d7d1c-b4a0-47c0-8bde-3f7ded4d9e71');\n",
       "var x = new MutationObserver(function (mutations, observer) {{\n",
       "        var display = window.getComputedStyle(gd).display;\n",
       "        if (!display || display === 'none') {{\n",
       "            console.log([gd, 'removed!']);\n",
       "            Plotly.purge(gd);\n",
       "            observer.disconnect();\n",
       "        }}\n",
       "}});\n",
       "\n",
       "// Listen for the removal of the full notebook cells\n",
       "var notebookContainer = gd.closest('#notebook-container');\n",
       "if (notebookContainer) {{\n",
       "    x.observe(notebookContainer, {childList: true});\n",
       "}}\n",
       "\n",
       "// Listen for the clearing of the current output cell\n",
       "var outputEl = gd.closest('.output');\n",
       "if (outputEl) {{\n",
       "    x.observe(outputEl, {childList: true});\n",
       "}}\n",
       "\n",
       "                        })\n",
       "                };\n",
       "                });\n",
       "            </script>\n",
       "        </div>"
      ]
     },
     "metadata": {},
     "output_type": "display_data"
    }
   ],
   "source": [
    "# plot\n",
    "from plotly.subplots import make_subplots\n",
    "fig = make_subplots(rows=2, cols=2,\n",
    "                    subplot_titles=(\n",
    "                        \"Data\", \"Score\", \"Slope a\", \"Intercept b\"\n",
    "                        ))\n",
    "                    \n",
    "fig.add_trace(go.Scatter(x=X[:, 0], y=X[:, 1],\n",
    "              mode='markers', name='Data', \n",
    "              marker = dict(color=y, colorscale=\"RdBu\", size=10)),\n",
    "              row=1, col=1)\n",
    "x_l = [-2, 2]\n",
    "fig.add_trace(go.Scatter(x=x_l, y=x_l,\n",
    "              mode='lines', name='y=x'),\n",
    "              row=1, col=1)\n",
    "\n",
    "fig.add_trace(go.Scatter(x=C_range, y=score,\n",
    "              mode='lines', name='Score'),\n",
    "              row=1, col=2)\n",
    "\n",
    "fig.add_trace(go.Scatter(x=C_range, y=a,\n",
    "              mode='lines', name='a'),\n",
    "              row=2, col=1)\n",
    "fig.add_trace(go.Scatter(x=C_range, y=np.ones(C_range.shape),\n",
    "              mode='lines', name='a=1'),\n",
    "              row=2, col=1)\n",
    "\n",
    "fig.add_trace(go.Scatter(x=C_range, y=b,\n",
    "              mode='lines', name='b'),\n",
    "              row=2, col=2)\n",
    "fig.add_trace(go.Scatter(x=C_range, y=np.zeros(C_range.shape),\n",
    "              mode='lines', name='b=0'),\n",
    "              row=2, col=2)\n",
    "\n",
    "fig.update_layout(height=700,width=900)  \n",
    "fig.update_yaxes(scaleanchor = \"x\", scaleratio = 1, row=1, col=1)\n",
    "fig.update_xaxes(type=\"log\", row=1, col=2)\n",
    "fig.update_xaxes(type=\"log\", row=2, col=1)\n",
    "fig.update_xaxes(type=\"log\", row=2, col=2)\n",
    "fig.update_yaxes(range=[-0.5, 0.5], row=2, col=2)\n",
    "\n",
    "fig.show()"
   ]
  },
  {
   "cell_type": "code",
   "execution_count": 58,
   "metadata": {},
   "outputs": [],
   "source": [
    "save_figure_to_file(fig,'../Slides/scikitlearn','svm9_2')"
   ]
  },
  {
   "cell_type": "code",
   "execution_count": 59,
   "metadata": {
    "colab": {
     "base_uri": "https://localhost:8080/",
     "height": 542
    },
    "colab_type": "code",
    "id": "CgeYALQf8XQN",
    "outputId": "64069264-d6c2-4802-e54c-393db775d780"
   },
   "outputs": [
    {
     "data": {
      "application/vnd.plotly.v1+json": {
       "config": {
        "plotlyServerURL": "https://plot.ly"
       },
       "data": [
        {
         "marker": {
          "color": [
           1,
           -1,
           -1,
           1,
           -1,
           1,
           -1,
           1,
           1,
           -1,
           -1,
           1,
           1,
           -1,
           -1,
           1,
           1,
           1,
           -1,
           1,
           1,
           1,
           -1,
           -1,
           -1,
           -1,
           -1,
           -1,
           1,
           1,
           1,
           -1,
           -1,
           1,
           1,
           -1,
           -1,
           1,
           1,
           -1,
           -1,
           -1,
           -1,
           1,
           1,
           1,
           -1,
           1,
           1,
           -1,
           1,
           -1,
           1,
           1,
           -1,
           1,
           -1,
           1,
           1,
           -1,
           -1,
           -1,
           1,
           1,
           1,
           -1,
           -1,
           1,
           1,
           -1,
           1,
           1,
           -1,
           -1,
           1,
           -1,
           1,
           -1,
           1,
           1,
           -1,
           -1,
           1,
           1,
           -1,
           1,
           -1,
           1,
           -1,
           -1,
           -1,
           -1,
           1,
           1,
           -1,
           1,
           -1,
           -1,
           1,
           1,
           -1,
           -1,
           1,
           -1,
           1,
           1,
           -1,
           -1,
           -1,
           1,
           1,
           1,
           -1,
           1,
           -1,
           1,
           -1,
           -1,
           -1,
           1,
           1,
           -1,
           1,
           1,
           -1,
           -1,
           1,
           -1
          ],
          "colorscale": [
           [
            0,
            "rgb(103,0,31)"
           ],
           [
            0.1,
            "rgb(178,24,43)"
           ],
           [
            0.2,
            "rgb(214,96,77)"
           ],
           [
            0.3,
            "rgb(244,165,130)"
           ],
           [
            0.4,
            "rgb(253,219,199)"
           ],
           [
            0.5,
            "rgb(247,247,247)"
           ],
           [
            0.6,
            "rgb(209,229,240)"
           ],
           [
            0.7,
            "rgb(146,197,222)"
           ],
           [
            0.8,
            "rgb(67,147,195)"
           ],
           [
            0.9,
            "rgb(33,102,172)"
           ],
           [
            1,
            "rgb(5,48,97)"
           ]
          ],
          "size": 10
         },
         "mode": "markers",
         "showlegend": false,
         "type": "scatter",
         "x": [
          0.9725536577231977,
          0.019491049943163086,
          -0.3261625445080729,
          -0.44704571369240087,
          0.7243178709197058,
          -0.7182255102951693,
          0.47264983630721646,
          -0.31781396697724795,
          -0.565798722491812,
          -0.7516424445485406,
          0.9064277463414698,
          0.1388261937606614,
          0.006734121920556335,
          -0.9316170039712195,
          -0.6882972744358813,
          -0.6605951231951612,
          -0.25321248465679247,
          0.7166331758358033,
          0.16692339546489388,
          -0.6444147596206389,
          -0.11525483630306499,
          0.527841432578291,
          -0.8588531457788544,
          0.27378846393161993,
          -0.6161425732957695,
          0.02684041567968065,
          0.19804003738063058,
          -0.3982750111338085,
          0.1286401175491414,
          0.6060552843619602,
          -0.07723144822941297,
          0.499331276215482,
          -0.03437974727725113,
          0.7885662075787618,
          0.47568692224591014,
          -0.5385317172343462,
          0.22831624369129289,
          -0.40135550815460563,
          0.905104871218934,
          -0.8442755283476089,
          0.15309623387915106,
          0.988917399364774,
          0.6816896655867875,
          0.7433749682985351,
          -0.10159106198342616,
          0.9579562655376166,
          -0.10553833260813805,
          0.8634587601578927,
          0.8646555861368634,
          -0.6786431513210474,
          -0.46142268529323727,
          -0.4091181302825009,
          -0.4549134086153268,
          0.8337228110526111,
          0.8004441207624269,
          -0.9180952510329765,
          0.40158629051602635,
          0.10569156374004929,
          0.7078626116057507,
          -0.0951711863660667,
          0.26123965422988493,
          -0.2594878980626407,
          0.5183687857405443,
          -0.44194373083525007,
          -0.600166021957854,
          -0.5942531154432378,
          -0.25600910908792085,
          -0.8008364200053788,
          0.8515459862364703,
          -0.5552556135718028,
          0.8910818346697007,
          -0.3426447025396766,
          0.41136619414680053,
          -0.010050984353052295,
          0.12286427521441179,
          0.15762317907372148,
          -0.6092157333802137,
          0.41428631222104184,
          -0.5063273344072228,
          -0.831930791725936,
          0.4325846429737308,
          -0.9039483562432415,
          -0.6073914050418245,
          0.11828607010210024,
          -0.3201401681958016,
          0.023528624464017822,
          0.758340653368589,
          -0.001971932281604527,
          -0.757487383023058,
          0.20161134225810917,
          -0.526803710381774,
          0.96964443267549,
          -0.9140114545275728,
          0.47924836079278155,
          0.20917758459864522,
          -0.8232881330225967,
          0.33553842636723363,
          -0.825269211928825,
          0.9395001749451066,
          -0.528915419073273,
          -0.7275440258990524,
          -0.46082309953378586,
          -0.2865408436230812,
          0.17254979366903855,
          0.4578281510680873,
          -0.6856145842084127,
          0.3055232405894468,
          0.39364841389050476,
          -0.5766406693484727,
          -0.08177753137562571,
          0.7385054711973713,
          0.7338988709571135,
          0.0950658181408961,
          -0.551288651921608,
          0.6547346014519084,
          0.04913052003556362,
          0.6837540895908267,
          -0.08149309336160449,
          0.024244114427812713,
          -0.6084849441037941,
          0.7497215223686391,
          -0.8643797949389376,
          0.4551305920714366,
          0.6267271763217697,
          0.11311305879994382,
          0.4607340345486166,
          -0.23603890403983963,
          0.27095706265079467
         ],
         "y": [
          0.7467838916413092,
          -0.4563285714358485,
          -0.5660914699661515,
          -0.3133688144410849,
          -0.6866006599810228,
          0.5141605612813767,
          -0.2886738167284366,
          0.3336061011066529,
          0.12285396486587463,
          -0.36052703109294426,
          -0.7252864184044392,
          0.951330965846412,
          0.3353284122962119,
          -0.08776126737914058,
          -0.047902067002260074,
          0.792516674480342,
          -0.24061413905049656,
          0.29212210976951436,
          0.3367000536776703,
          0.6984960336357258,
          0.6629354195428565,
          0.8393819531399234,
          -0.6876691671210882,
          0.11139137486249662,
          -0.14868803469344027,
          -0.46124482853952586,
          -0.5596521097365512,
          -0.9032110318751712,
          0.8720644097439192,
          0.3946102986918616,
          0.32486922204759705,
          0.0629097846715081,
          -0.9414515340041523,
          0.6630641672828721,
          0.7969945967864307,
          -0.6400789804859051,
          -0.9666610359390004,
          0.3370817554741512,
          0.6324140243417036,
          -0.7307741424390188,
          -0.6454427515091816,
          -0.7652502648459365,
          -0.9719465403076488,
          0.8048134902198818,
          0.23636395135039812,
          -0.2054430316331246,
          -0.5334800404445439,
          -0.45439506256501216,
          -0.17353900642070808,
          -0.06239494378065569,
          0.8885371441251959,
          -0.6968802958634406,
          0.7299621780755394,
          0.49956118838576424,
          -0.9551873695287953,
          0.7971060225690321,
          0.3386941058827615,
          0.4454833239172371,
          0.21803714974217692,
          -0.40668094421936885,
          0.014069691027228881,
          -0.7235733083376845,
          0.9179563995129252,
          0.4616088042949624,
          0.2875386363165633,
          -0.8991169853869507,
          -0.9718145894630112,
          0.9986982113334157,
          0.6298061105219981,
          -0.8051498448803929,
          0.5242700527225772,
          0.8519153764091825,
          -0.8864115557156702,
          -0.21038713262498665,
          0.46220997701455047,
          -0.9241192629180921,
          0.3322685164786827,
          -0.36390649398569397,
          0.6769104884470312,
          0.5125929008898573,
          -0.10394313895011908,
          0.34583687442525646,
          0.8879009117188754,
          0.662663270691388,
          -0.5876643165013586,
          0.9815757231941034,
          -0.8095957583356086,
          0.20412673004798854,
          -0.2078590681273509,
          -0.07895601153470366,
          -0.7882805690318808,
          -0.9868691348997252,
          0.5001637764123068,
          0.9980899752666152,
          -0.6859758692237552,
          0.705125845682028,
          -0.41442350224753355,
          -0.3737291924806321,
          0.6237848987895114,
          -0.1377166217529011,
          -0.8273161933406503,
          -0.6602784251292135,
          0.8702481457576814,
          -0.5413543691593758,
          0.41998167505923734,
          0.4195074439500295,
          -0.06372191839351271,
          -0.16567415060208135,
          -0.4600386908189473,
          0.2488850534088871,
          0.6172641530025427,
          0.12414983656260947,
          -0.3893671299413666,
          -0.05606682092420123,
          -0.7179716345549318,
          0.19117233377926945,
          -0.28238312533838283,
          -0.41261832868797343,
          -0.7441905883541504,
          0.14516805031369695,
          0.6847444864341203,
          -0.37961078026273043,
          0.7892530045999011,
          0.3423847537375695,
          0.22800802602497483,
          -0.8084553708007709,
          -0.11950362927742897,
          -0.6228872650103252
         ]
        },
        {
         "colorscale": [
          [
           0,
           "rgb(103,0,31)"
          ],
          [
           0.1,
           "rgb(178,24,43)"
          ],
          [
           0.2,
           "rgb(214,96,77)"
          ],
          [
           0.3,
           "rgb(244,165,130)"
          ],
          [
           0.4,
           "rgb(253,219,199)"
          ],
          [
           0.5,
           "rgb(247,247,247)"
          ],
          [
           0.6,
           "rgb(209,229,240)"
          ],
          [
           0.7,
           "rgb(146,197,222)"
          ],
          [
           0.8,
           "rgb(67,147,195)"
          ],
          [
           0.9,
           "rgb(33,102,172)"
          ],
          [
           1,
           "rgb(5,48,97)"
          ]
         ],
         "type": "contour",
         "x": [
          -2,
          -1.7894736842105263,
          -1.5789473684210527,
          -1.368421052631579,
          -1.1578947368421053,
          -0.9473684210526316,
          -0.736842105263158,
          -0.5263157894736843,
          -0.3157894736842106,
          -0.10526315789473695,
          0.10526315789473673,
          0.3157894736842106,
          0.5263157894736841,
          0.7368421052631575,
          0.9473684210526314,
          1.1578947368421053,
          1.3684210526315788,
          1.5789473684210522,
          1.789473684210526,
          2
         ],
         "y": [
          -1.5,
          -1.3421052631578947,
          -1.1842105263157894,
          -1.0263157894736843,
          -0.868421052631579,
          -0.7105263157894737,
          -0.5526315789473685,
          -0.3947368421052632,
          -0.23684210526315796,
          -0.07894736842105271,
          0.07894736842105254,
          0.23684210526315796,
          0.39473684210526305,
          0.5526315789473681,
          0.7105263157894736,
          0.868421052631579,
          1.026315789473684,
          1.1842105263157892,
          1.3421052631578947,
          1.5
         ],
         "z": [
          [
           -4.332727888528386,
           -4.312510194127233,
           -4.292292499726076,
           -4.272074805324921,
           -4.251857110923763,
           -4.2316394165226106,
           -4.211421722121459,
           -4.191204027720302,
           -4.170986333319149,
           -4.150768638917994,
           -4.13055094451684,
           -4.110333250115686,
           -4.090115555714532,
           -4.069897861313377,
           -4.049680166912224,
           -4.02946247251107,
           -4.009244778109914,
           -3.9890270837087605,
           -3.9688093893076073,
           -3.9485916949064523
          ],
          [
           -3.887553276815577,
           -3.8673355824144227,
           -3.8471178880132686,
           -3.8269001936121145,
           -3.806682499210963,
           -3.7864648048098073,
           -3.7662471104086523,
           -3.746029416007498,
           -3.725811721606343,
           -3.705594027205189,
           -3.6853763328040348,
           -3.66515863840288,
           -3.6449409440017253,
           -3.6247232496005717,
           -3.6045055551994176,
           -3.5842878607982636,
           -3.5640701663971077,
           -3.5438524719959554,
           -3.5236347775947983,
           -3.503417083193644
          ],
          [
           -3.442378665102772,
           -3.422160970701618,
           -3.401943276300464,
           -3.3817255818993095,
           -3.3615078874981523,
           -3.3412901930970005,
           -3.321072498695845,
           -3.300854804294691,
           -3.280637109893537,
           -3.260419415492383,
           -3.2402017210912284,
           -3.219984026690073,
           -3.19976633228892,
           -3.179548637887765,
           -3.1593309434866126,
           -3.1391132490854567,
           -3.1188955546843022,
           -3.098677860283147,
           -3.0784601658819946,
           -3.0582424714808405
          ],
          [
           -2.9972040533899644,
           -2.9769863589888117,
           -2.9567686645876585,
           -2.936550970186503,
           -2.9163332757853486,
           -2.8961155813841954,
           -2.8758978869830396,
           -2.8556801925818855,
           -2.8354624981807324,
           -2.8152448037795774,
           -2.7950271093784234,
           -2.7748094149772684,
           -2.7545917205761135,
           -2.73437402617496,
           -2.714156331773806,
           -2.6939386373726513,
           -2.6737209429714968,
           -2.653503248570343,
           -2.6332855541691886,
           -2.613067859768034
          ],
          [
           -2.5520294416771594,
           -2.5318117472760053,
           -2.511594052874853,
           -2.4913763584736994,
           -2.4711586640725427,
           -2.450940969671388,
           -2.430723275270233,
           -2.4105055808690796,
           -2.3902878864679256,
           -2.3700701920667715,
           -2.3498524976656157,
           -2.3296348032644616,
           -2.309417108863308,
           -2.289199414462153,
           -2.2689817200609994,
           -2.248764025659845,
           -2.228546331258691,
           -2.208328636857536,
           -2.188110942456383,
           -2.1678932480552264
          ],
          [
           -2.106854829964353,
           -2.086637135563199,
           -2.066419441162046,
           -2.046201746760891,
           -2.0259840523597368,
           -2.0057663579585827,
           -1.9855486635574273,
           -1.9653309691562733,
           -1.9451132747551196,
           -1.9248955803539656,
           -1.9046778859528102,
           -1.8844601915516561,
           -1.8642424971505025,
           -1.8440248027493467,
           -1.8238071083481922,
           -1.803589413947039,
           -1.7833717195458845,
           -1.7631540251447295,
           -1.7429363307435768,
           -1.72271863634242
          ],
          [
           -1.6616802182515489,
           -1.6414625238503948,
           -1.6212448294492394,
           -1.6010271350480862,
           -1.58080944064693,
           -1.5605917462457755,
           -1.5403740518446214,
           -1.5201563574434678,
           -1.4999386630423133,
           -1.4797209686411592,
           -1.4595032742400051,
           -1.4392855798388502,
           -1.4190678854376961,
           -1.398850191036542,
           -1.3786324966353867,
           -1.3584148022342335,
           -1.3381971078330785,
           -1.3179794134319254,
           -1.2977617190307704,
           -1.2775440246296155
          ],
          [
           -1.2165056065387407,
           -1.1962879121375871,
           -1.176070217736433,
           -1.1558525233352799,
           -1.135634828934124,
           -1.1154171345329709,
           -1.095199440131816,
           -1.0749817457306623,
           -1.0547640513295078,
           -1.0345463569283528,
           -1.0143286625271988,
           -0.9941109681260444,
           -0.9738932737248899,
           -0.9536755793237351,
           -0.9334578849225815,
           -0.9132401905214279,
           -0.8930224961202725,
           -0.8728048017191182,
           -0.8525871073179639,
           -0.8323694129168101
          ],
          [
           -0.7713309948259351,
           -0.7511133004247819,
           -0.7308956060236279,
           -0.7106779116224734,
           -0.6904602172213182,
           -0.6702425228201642,
           -0.6500248284190093,
           -0.6298071340178555,
           -0.6095894396167016,
           -0.5893717452155471,
           -0.5691540508143926,
           -0.548936356413238,
           -0.5287186620120838,
           -0.5085009676109301,
           -0.4882832732097754,
           -0.4680655788086213,
           -0.4478478844074669,
           -0.4276301900063124,
           -0.40741249560515763,
           -0.38719480120400196
          ],
          [
           -0.3261563831131292,
           -0.30593868871197505,
           -0.2857209943108225,
           -0.26550329990966687,
           -0.24528560550851103,
           -0.22506791110735858,
           -0.20485021670620385,
           -0.18463252230505012,
           -0.16441482790389572,
           -0.1441971335027411,
           -0.12397943910158662,
           -0.10376174470043242,
           -0.08354405029927808,
           -0.06332635589812388,
           -0.04310866149696943,
           -0.022890967095815784,
           -0.0026732726946604446,
           0.017544421706494173,
           0.03776211610764785,
           0.0579798105088033
          ],
          [
           0.11901822859967404,
           0.13923592300083065,
           0.15945361740198344,
           0.1796713118031384,
           0.19988900620429345,
           0.22010670060544751,
           0.24032439500660102,
           0.2605420894077558,
           0.28075978380891053,
           0.3009774782100649,
           0.3211951726112191,
           0.3414128670123736,
           0.3616305614135282,
           0.3818482558146821,
           0.40206595021583696,
           0.422283644616991,
           0.44250133901814415,
           0.462719033419299,
           0.4829367278204542,
           0.5031544222216079
          ],
          [
           0.5641928403124806,
           0.5844105347136366,
           0.6046282291147896,
           0.6248459235159455,
           0.6450636179171,
           0.6652813123182546,
           0.6854990067194084,
           0.7057167011205626,
           0.7259343955217167,
           0.7461520899228711,
           0.7663697843240255,
           0.7865874787251803,
           0.8068051731263349,
           0.827022867527489,
           0.8472405619286428,
           0.8674582563297969,
           0.887675950730951,
           0.9078936451321082,
           0.9281113395332595,
           0.9483290339344138
          ],
          [
           1.0093674520252875,
           1.0295851464264412,
           1.0498028408275961,
           1.0700205352287497,
           1.0902382296299056,
           1.1104559240310596,
           1.1306736184322141,
           1.1508913128333682,
           1.1711090072345223,
           1.1913267016356768,
           1.2115443960368313,
           1.2317620904379858,
           1.2519797848391403,
           1.2721974792402944,
           1.2924151736414484,
           1.3126328680426007,
           1.332850562443757,
           1.3530682568449128,
           1.3732859512460656,
           1.3935036456472192
          ],
          [
           1.4545420637380935,
           1.4747597581392466,
           1.4949774525404012,
           1.5151951469415557,
           1.535412841342712,
           1.5556305357438647,
           1.5758482301450192,
           1.5960659245461741,
           1.6162836189473277,
           1.6365013133484818,
           1.6567190077496372,
           1.6769367021507917,
           1.6971543965519453,
           1.7173720909531007,
           1.737589785354254,
           1.7578074797554084,
           1.778025174156562,
           1.7982428685577165,
           1.818460562958871,
           1.838678257360025
          ],
          [
           1.899716675450899,
           1.9199343698520535,
           1.940152064253207,
           1.960369758654362,
           1.9805874530555174,
           2.0008051474566715,
           2.0210228418578255,
           2.0412405362589796,
           2.061458230660135,
           2.0816759250612886,
           2.101893619462443,
           2.122111313863597,
           2.1423290082647513,
           2.162546702665906,
           2.1827643970670603,
           2.2029820914682148,
           2.223199785869369,
           2.243417480270523,
           2.2636351746716765,
           2.283852869072832
          ],
          [
           2.344891287163705,
           2.3651089815648607,
           2.385326675966014,
           2.405544370367169,
           2.4257620647683233,
           2.4459797591694774,
           2.466197453570632,
           2.486415147971786,
           2.50663284237294,
           2.5268505367740954,
           2.54706823117525,
           2.567285925576404,
           2.5875036199775567,
           2.6077213143787126,
           2.6279390087798675,
           2.648156703181021,
           2.668374397582175,
           2.6885920919833293,
           2.7088097863844838,
           2.729027480785638
          ],
          [
           2.790065898876512,
           2.810283593277666,
           2.8305012876788203,
           2.850718982079973,
           2.8709366764811293,
           2.8911543708822838,
           2.911372065283438,
           2.931589759684592,
           2.951807454085746,
           2.972025148486901,
           2.9922428428880554,
           3.01246053728921,
           3.0326782316903635,
           3.052895926091517,
           3.0731136204926726,
           3.093331314893827,
           3.1135490092949816,
           3.1337667036961343,
           3.1539843980972893,
           3.1742020924984446
          ],
          [
           3.235240510589318,
           3.25545820499047,
           3.2756758993916235,
           3.2958935937927794,
           3.3161112881939347,
           3.336328982595088,
           3.356546676996242,
           3.376764371397398,
           3.396982065798552,
           3.417199760199706,
           3.4374174546008613,
           3.4576351490020154,
           3.4778528434031677,
           3.498070537804324,
           3.5182882322054794,
           3.5385059266066308,
           3.558723621007786,
           3.5789413154089433,
           3.5991590098100965,
           3.619376704211249
          ],
          [
           3.6804151223021226,
           3.700632816703277,
           3.7208505111044334,
           3.741068205505586,
           3.761285899906742,
           3.781503594307895,
           3.8017212887090492,
           3.8219389831102037,
           3.8421566775113583,
           3.8623743719125123,
           3.882592066313668,
           3.9028097607148213,
           3.9230274551159745,
           3.943245149517131,
           3.963462843918285,
           3.9836805383194416,
           4.003898232720593,
           4.0241159271217475,
           4.0443336215229015,
           4.064551315924056
          ],
          [
           4.125589734014931,
           4.145807428416084,
           4.16602512281724,
           4.1862428172183925,
           4.206460511619549,
           4.226678206020702,
           4.2468959004218565,
           4.2671135948230114,
           4.2873312892241655,
           4.30754898362532,
           4.327766678026474,
           4.347984372427629,
           4.368202066828783,
           4.388419761229935,
           4.408637455631089,
           4.428855150032242,
           4.4490728444334,
           4.4692905388345565,
           4.489508233235712,
           4.5097259276368655
          ]
         ]
        },
        {
         "mode": "lines",
         "showlegend": false,
         "type": "scatter",
         "x": [
          -1,
          -0.935483870967742,
          -0.8709677419354839,
          -0.8064516129032258,
          -0.7419354838709677,
          -0.6774193548387097,
          -0.6129032258064516,
          -0.5483870967741935,
          -0.4838709677419355,
          -0.4193548387096775,
          -0.3548387096774194,
          -0.29032258064516125,
          -0.22580645161290325,
          -0.16129032258064524,
          -0.09677419354838712,
          -0.032258064516129004,
          0.032258064516129004,
          0.09677419354838701,
          0.16129032258064502,
          0.22580645161290325,
          0.29032258064516125,
          0.35483870967741926,
          0.4193548387096775,
          0.4838709677419355,
          0.5483870967741935,
          0.6129032258064515,
          0.6774193548387095,
          0.7419354838709677,
          0.8064516129032258,
          0.8709677419354838,
          0.935483870967742,
          1
         ],
         "y": [
          0.4794621373315692,
          0.4996943124756602,
          0.4683784955424315,
          0.3887451965514415,
          0.26900931121591354,
          0.12152268008025488,
          -0.03850011565362892,
          -0.19455127591530402,
          -0.3305327107886136,
          -0.43241670422295087,
          -0.48969299993715243,
          -0.49645302950452086,
          -0.45199943467646087,
          -0.36091800619902337,
          -0.23260461798216914,
          -0.08029595764486853,
          0.08029595764486853,
          0.23260461798216892,
          0.360918006199023,
          0.45199943467646087,
          0.49645302950452086,
          0.4896929999371525,
          0.43241670422295087,
          0.3305327107886136,
          0.19455127591530402,
          0.038500115653629145,
          -0.12152268008025423,
          -0.26900931121591354,
          -0.3887451965514415,
          -0.4683784955424315,
          -0.4996943124756602,
          -0.4794621373315692
         ]
        }
       ],
       "layout": {
        "template": {
         "data": {
          "bar": [
           {
            "error_x": {
             "color": "#2a3f5f"
            },
            "error_y": {
             "color": "#2a3f5f"
            },
            "marker": {
             "line": {
              "color": "#E5ECF6",
              "width": 0.5
             }
            },
            "type": "bar"
           }
          ],
          "barpolar": [
           {
            "marker": {
             "line": {
              "color": "#E5ECF6",
              "width": 0.5
             }
            },
            "type": "barpolar"
           }
          ],
          "carpet": [
           {
            "aaxis": {
             "endlinecolor": "#2a3f5f",
             "gridcolor": "white",
             "linecolor": "white",
             "minorgridcolor": "white",
             "startlinecolor": "#2a3f5f"
            },
            "baxis": {
             "endlinecolor": "#2a3f5f",
             "gridcolor": "white",
             "linecolor": "white",
             "minorgridcolor": "white",
             "startlinecolor": "#2a3f5f"
            },
            "type": "carpet"
           }
          ],
          "choropleth": [
           {
            "colorbar": {
             "outlinewidth": 0,
             "ticks": ""
            },
            "type": "choropleth"
           }
          ],
          "contour": [
           {
            "colorbar": {
             "outlinewidth": 0,
             "ticks": ""
            },
            "colorscale": [
             [
              0,
              "#0d0887"
             ],
             [
              0.1111111111111111,
              "#46039f"
             ],
             [
              0.2222222222222222,
              "#7201a8"
             ],
             [
              0.3333333333333333,
              "#9c179e"
             ],
             [
              0.4444444444444444,
              "#bd3786"
             ],
             [
              0.5555555555555556,
              "#d8576b"
             ],
             [
              0.6666666666666666,
              "#ed7953"
             ],
             [
              0.7777777777777778,
              "#fb9f3a"
             ],
             [
              0.8888888888888888,
              "#fdca26"
             ],
             [
              1,
              "#f0f921"
             ]
            ],
            "type": "contour"
           }
          ],
          "contourcarpet": [
           {
            "colorbar": {
             "outlinewidth": 0,
             "ticks": ""
            },
            "type": "contourcarpet"
           }
          ],
          "heatmap": [
           {
            "colorbar": {
             "outlinewidth": 0,
             "ticks": ""
            },
            "colorscale": [
             [
              0,
              "#0d0887"
             ],
             [
              0.1111111111111111,
              "#46039f"
             ],
             [
              0.2222222222222222,
              "#7201a8"
             ],
             [
              0.3333333333333333,
              "#9c179e"
             ],
             [
              0.4444444444444444,
              "#bd3786"
             ],
             [
              0.5555555555555556,
              "#d8576b"
             ],
             [
              0.6666666666666666,
              "#ed7953"
             ],
             [
              0.7777777777777778,
              "#fb9f3a"
             ],
             [
              0.8888888888888888,
              "#fdca26"
             ],
             [
              1,
              "#f0f921"
             ]
            ],
            "type": "heatmap"
           }
          ],
          "heatmapgl": [
           {
            "colorbar": {
             "outlinewidth": 0,
             "ticks": ""
            },
            "colorscale": [
             [
              0,
              "#0d0887"
             ],
             [
              0.1111111111111111,
              "#46039f"
             ],
             [
              0.2222222222222222,
              "#7201a8"
             ],
             [
              0.3333333333333333,
              "#9c179e"
             ],
             [
              0.4444444444444444,
              "#bd3786"
             ],
             [
              0.5555555555555556,
              "#d8576b"
             ],
             [
              0.6666666666666666,
              "#ed7953"
             ],
             [
              0.7777777777777778,
              "#fb9f3a"
             ],
             [
              0.8888888888888888,
              "#fdca26"
             ],
             [
              1,
              "#f0f921"
             ]
            ],
            "type": "heatmapgl"
           }
          ],
          "histogram": [
           {
            "marker": {
             "colorbar": {
              "outlinewidth": 0,
              "ticks": ""
             }
            },
            "type": "histogram"
           }
          ],
          "histogram2d": [
           {
            "colorbar": {
             "outlinewidth": 0,
             "ticks": ""
            },
            "colorscale": [
             [
              0,
              "#0d0887"
             ],
             [
              0.1111111111111111,
              "#46039f"
             ],
             [
              0.2222222222222222,
              "#7201a8"
             ],
             [
              0.3333333333333333,
              "#9c179e"
             ],
             [
              0.4444444444444444,
              "#bd3786"
             ],
             [
              0.5555555555555556,
              "#d8576b"
             ],
             [
              0.6666666666666666,
              "#ed7953"
             ],
             [
              0.7777777777777778,
              "#fb9f3a"
             ],
             [
              0.8888888888888888,
              "#fdca26"
             ],
             [
              1,
              "#f0f921"
             ]
            ],
            "type": "histogram2d"
           }
          ],
          "histogram2dcontour": [
           {
            "colorbar": {
             "outlinewidth": 0,
             "ticks": ""
            },
            "colorscale": [
             [
              0,
              "#0d0887"
             ],
             [
              0.1111111111111111,
              "#46039f"
             ],
             [
              0.2222222222222222,
              "#7201a8"
             ],
             [
              0.3333333333333333,
              "#9c179e"
             ],
             [
              0.4444444444444444,
              "#bd3786"
             ],
             [
              0.5555555555555556,
              "#d8576b"
             ],
             [
              0.6666666666666666,
              "#ed7953"
             ],
             [
              0.7777777777777778,
              "#fb9f3a"
             ],
             [
              0.8888888888888888,
              "#fdca26"
             ],
             [
              1,
              "#f0f921"
             ]
            ],
            "type": "histogram2dcontour"
           }
          ],
          "mesh3d": [
           {
            "colorbar": {
             "outlinewidth": 0,
             "ticks": ""
            },
            "type": "mesh3d"
           }
          ],
          "parcoords": [
           {
            "line": {
             "colorbar": {
              "outlinewidth": 0,
              "ticks": ""
             }
            },
            "type": "parcoords"
           }
          ],
          "pie": [
           {
            "automargin": true,
            "type": "pie"
           }
          ],
          "scatter": [
           {
            "marker": {
             "colorbar": {
              "outlinewidth": 0,
              "ticks": ""
             }
            },
            "type": "scatter"
           }
          ],
          "scatter3d": [
           {
            "line": {
             "colorbar": {
              "outlinewidth": 0,
              "ticks": ""
             }
            },
            "marker": {
             "colorbar": {
              "outlinewidth": 0,
              "ticks": ""
             }
            },
            "type": "scatter3d"
           }
          ],
          "scattercarpet": [
           {
            "marker": {
             "colorbar": {
              "outlinewidth": 0,
              "ticks": ""
             }
            },
            "type": "scattercarpet"
           }
          ],
          "scattergeo": [
           {
            "marker": {
             "colorbar": {
              "outlinewidth": 0,
              "ticks": ""
             }
            },
            "type": "scattergeo"
           }
          ],
          "scattergl": [
           {
            "marker": {
             "colorbar": {
              "outlinewidth": 0,
              "ticks": ""
             }
            },
            "type": "scattergl"
           }
          ],
          "scattermapbox": [
           {
            "marker": {
             "colorbar": {
              "outlinewidth": 0,
              "ticks": ""
             }
            },
            "type": "scattermapbox"
           }
          ],
          "scatterpolar": [
           {
            "marker": {
             "colorbar": {
              "outlinewidth": 0,
              "ticks": ""
             }
            },
            "type": "scatterpolar"
           }
          ],
          "scatterpolargl": [
           {
            "marker": {
             "colorbar": {
              "outlinewidth": 0,
              "ticks": ""
             }
            },
            "type": "scatterpolargl"
           }
          ],
          "scatterternary": [
           {
            "marker": {
             "colorbar": {
              "outlinewidth": 0,
              "ticks": ""
             }
            },
            "type": "scatterternary"
           }
          ],
          "surface": [
           {
            "colorbar": {
             "outlinewidth": 0,
             "ticks": ""
            },
            "colorscale": [
             [
              0,
              "#0d0887"
             ],
             [
              0.1111111111111111,
              "#46039f"
             ],
             [
              0.2222222222222222,
              "#7201a8"
             ],
             [
              0.3333333333333333,
              "#9c179e"
             ],
             [
              0.4444444444444444,
              "#bd3786"
             ],
             [
              0.5555555555555556,
              "#d8576b"
             ],
             [
              0.6666666666666666,
              "#ed7953"
             ],
             [
              0.7777777777777778,
              "#fb9f3a"
             ],
             [
              0.8888888888888888,
              "#fdca26"
             ],
             [
              1,
              "#f0f921"
             ]
            ],
            "type": "surface"
           }
          ],
          "table": [
           {
            "cells": {
             "fill": {
              "color": "#EBF0F8"
             },
             "line": {
              "color": "white"
             }
            },
            "header": {
             "fill": {
              "color": "#C8D4E3"
             },
             "line": {
              "color": "white"
             }
            },
            "type": "table"
           }
          ]
         },
         "layout": {
          "annotationdefaults": {
           "arrowcolor": "#2a3f5f",
           "arrowhead": 0,
           "arrowwidth": 1
          },
          "coloraxis": {
           "colorbar": {
            "outlinewidth": 0,
            "ticks": ""
           }
          },
          "colorscale": {
           "diverging": [
            [
             0,
             "#8e0152"
            ],
            [
             0.1,
             "#c51b7d"
            ],
            [
             0.2,
             "#de77ae"
            ],
            [
             0.3,
             "#f1b6da"
            ],
            [
             0.4,
             "#fde0ef"
            ],
            [
             0.5,
             "#f7f7f7"
            ],
            [
             0.6,
             "#e6f5d0"
            ],
            [
             0.7,
             "#b8e186"
            ],
            [
             0.8,
             "#7fbc41"
            ],
            [
             0.9,
             "#4d9221"
            ],
            [
             1,
             "#276419"
            ]
           ],
           "sequential": [
            [
             0,
             "#0d0887"
            ],
            [
             0.1111111111111111,
             "#46039f"
            ],
            [
             0.2222222222222222,
             "#7201a8"
            ],
            [
             0.3333333333333333,
             "#9c179e"
            ],
            [
             0.4444444444444444,
             "#bd3786"
            ],
            [
             0.5555555555555556,
             "#d8576b"
            ],
            [
             0.6666666666666666,
             "#ed7953"
            ],
            [
             0.7777777777777778,
             "#fb9f3a"
            ],
            [
             0.8888888888888888,
             "#fdca26"
            ],
            [
             1,
             "#f0f921"
            ]
           ],
           "sequentialminus": [
            [
             0,
             "#0d0887"
            ],
            [
             0.1111111111111111,
             "#46039f"
            ],
            [
             0.2222222222222222,
             "#7201a8"
            ],
            [
             0.3333333333333333,
             "#9c179e"
            ],
            [
             0.4444444444444444,
             "#bd3786"
            ],
            [
             0.5555555555555556,
             "#d8576b"
            ],
            [
             0.6666666666666666,
             "#ed7953"
            ],
            [
             0.7777777777777778,
             "#fb9f3a"
            ],
            [
             0.8888888888888888,
             "#fdca26"
            ],
            [
             1,
             "#f0f921"
            ]
           ]
          },
          "colorway": [
           "#636efa",
           "#EF553B",
           "#00cc96",
           "#ab63fa",
           "#FFA15A",
           "#19d3f3",
           "#FF6692",
           "#B6E880",
           "#FF97FF",
           "#FECB52"
          ],
          "font": {
           "color": "#2a3f5f"
          },
          "geo": {
           "bgcolor": "white",
           "lakecolor": "white",
           "landcolor": "#E5ECF6",
           "showlakes": true,
           "showland": true,
           "subunitcolor": "white"
          },
          "hoverlabel": {
           "align": "left"
          },
          "hovermode": "closest",
          "mapbox": {
           "style": "light"
          },
          "paper_bgcolor": "white",
          "plot_bgcolor": "#E5ECF6",
          "polar": {
           "angularaxis": {
            "gridcolor": "white",
            "linecolor": "white",
            "ticks": ""
           },
           "bgcolor": "#E5ECF6",
           "radialaxis": {
            "gridcolor": "white",
            "linecolor": "white",
            "ticks": ""
           }
          },
          "scene": {
           "xaxis": {
            "backgroundcolor": "#E5ECF6",
            "gridcolor": "white",
            "gridwidth": 2,
            "linecolor": "white",
            "showbackground": true,
            "ticks": "",
            "zerolinecolor": "white"
           },
           "yaxis": {
            "backgroundcolor": "#E5ECF6",
            "gridcolor": "white",
            "gridwidth": 2,
            "linecolor": "white",
            "showbackground": true,
            "ticks": "",
            "zerolinecolor": "white"
           },
           "zaxis": {
            "backgroundcolor": "#E5ECF6",
            "gridcolor": "white",
            "gridwidth": 2,
            "linecolor": "white",
            "showbackground": true,
            "ticks": "",
            "zerolinecolor": "white"
           }
          },
          "shapedefaults": {
           "line": {
            "color": "#2a3f5f"
           }
          },
          "ternary": {
           "aaxis": {
            "gridcolor": "white",
            "linecolor": "white",
            "ticks": ""
           },
           "baxis": {
            "gridcolor": "white",
            "linecolor": "white",
            "ticks": ""
           },
           "bgcolor": "#E5ECF6",
           "caxis": {
            "gridcolor": "white",
            "linecolor": "white",
            "ticks": ""
           }
          },
          "title": {
           "x": 0.05
          },
          "xaxis": {
           "automargin": true,
           "gridcolor": "white",
           "linecolor": "white",
           "ticks": "",
           "title": {
            "standoff": 15
           },
           "zerolinecolor": "white",
           "zerolinewidth": 2
          },
          "yaxis": {
           "automargin": true,
           "gridcolor": "white",
           "linecolor": "white",
           "ticks": "",
           "title": {
            "standoff": 15
           },
           "zerolinecolor": "white",
           "zerolinewidth": 2
          }
         }
        },
        "title": {
         "text": "Decision function with linear SVM"
        },
        "width": 600
       }
      },
      "text/html": [
       "<div>\n",
       "        \n",
       "        \n",
       "            <div id=\"d9c4a7c6-352f-4751-9ab1-8ae23155effa\" class=\"plotly-graph-div\" style=\"height:525px; width:600px;\"></div>\n",
       "            <script type=\"text/javascript\">\n",
       "                require([\"plotly\"], function(Plotly) {\n",
       "                    window.PLOTLYENV=window.PLOTLYENV || {};\n",
       "                    \n",
       "                if (document.getElementById(\"d9c4a7c6-352f-4751-9ab1-8ae23155effa\")) {\n",
       "                    Plotly.newPlot(\n",
       "                        'd9c4a7c6-352f-4751-9ab1-8ae23155effa',\n",
       "                        [{\"marker\": {\"color\": [1.0, -1.0, -1.0, 1.0, -1.0, 1.0, -1.0, 1.0, 1.0, -1.0, -1.0, 1.0, 1.0, -1.0, -1.0, 1.0, 1.0, 1.0, -1.0, 1.0, 1.0, 1.0, -1.0, -1.0, -1.0, -1.0, -1.0, -1.0, 1.0, 1.0, 1.0, -1.0, -1.0, 1.0, 1.0, -1.0, -1.0, 1.0, 1.0, -1.0, -1.0, -1.0, -1.0, 1.0, 1.0, 1.0, -1.0, 1.0, 1.0, -1.0, 1.0, -1.0, 1.0, 1.0, -1.0, 1.0, -1.0, 1.0, 1.0, -1.0, -1.0, -1.0, 1.0, 1.0, 1.0, -1.0, -1.0, 1.0, 1.0, -1.0, 1.0, 1.0, -1.0, -1.0, 1.0, -1.0, 1.0, -1.0, 1.0, 1.0, -1.0, -1.0, 1.0, 1.0, -1.0, 1.0, -1.0, 1.0, -1.0, -1.0, -1.0, -1.0, 1.0, 1.0, -1.0, 1.0, -1.0, -1.0, 1.0, 1.0, -1.0, -1.0, 1.0, -1.0, 1.0, 1.0, -1.0, -1.0, -1.0, 1.0, 1.0, 1.0, -1.0, 1.0, -1.0, 1.0, -1.0, -1.0, -1.0, 1.0, 1.0, -1.0, 1.0, 1.0, -1.0, -1.0, 1.0, -1.0], \"colorscale\": [[0.0, \"rgb(103,0,31)\"], [0.1, \"rgb(178,24,43)\"], [0.2, \"rgb(214,96,77)\"], [0.3, \"rgb(244,165,130)\"], [0.4, \"rgb(253,219,199)\"], [0.5, \"rgb(247,247,247)\"], [0.6, \"rgb(209,229,240)\"], [0.7, \"rgb(146,197,222)\"], [0.8, \"rgb(67,147,195)\"], [0.9, \"rgb(33,102,172)\"], [1.0, \"rgb(5,48,97)\"]], \"size\": 10}, \"mode\": \"markers\", \"showlegend\": false, \"type\": \"scatter\", \"x\": [0.9725536577231977, 0.019491049943163086, -0.3261625445080729, -0.44704571369240087, 0.7243178709197058, -0.7182255102951693, 0.47264983630721646, -0.31781396697724795, -0.565798722491812, -0.7516424445485406, 0.9064277463414698, 0.1388261937606614, 0.006734121920556335, -0.9316170039712195, -0.6882972744358813, -0.6605951231951612, -0.25321248465679247, 0.7166331758358033, 0.16692339546489388, -0.6444147596206389, -0.11525483630306499, 0.527841432578291, -0.8588531457788544, 0.27378846393161993, -0.6161425732957695, 0.02684041567968065, 0.19804003738063058, -0.3982750111338085, 0.1286401175491414, 0.6060552843619602, -0.07723144822941297, 0.499331276215482, -0.03437974727725113, 0.7885662075787618, 0.47568692224591014, -0.5385317172343462, 0.22831624369129289, -0.40135550815460563, 0.905104871218934, -0.8442755283476089, 0.15309623387915106, 0.988917399364774, 0.6816896655867875, 0.7433749682985351, -0.10159106198342616, 0.9579562655376166, -0.10553833260813805, 0.8634587601578927, 0.8646555861368634, -0.6786431513210474, -0.46142268529323727, -0.4091181302825009, -0.4549134086153268, 0.8337228110526111, 0.8004441207624269, -0.9180952510329765, 0.40158629051602635, 0.10569156374004929, 0.7078626116057507, -0.0951711863660667, 0.26123965422988493, -0.2594878980626407, 0.5183687857405443, -0.44194373083525007, -0.600166021957854, -0.5942531154432378, -0.25600910908792085, -0.8008364200053788, 0.8515459862364703, -0.5552556135718028, 0.8910818346697007, -0.3426447025396766, 0.41136619414680053, -0.010050984353052295, 0.12286427521441179, 0.15762317907372148, -0.6092157333802137, 0.41428631222104184, -0.5063273344072228, -0.831930791725936, 0.4325846429737308, -0.9039483562432415, -0.6073914050418245, 0.11828607010210024, -0.3201401681958016, 0.023528624464017822, 0.758340653368589, -0.001971932281604527, -0.757487383023058, 0.20161134225810917, -0.526803710381774, 0.96964443267549, -0.9140114545275728, 0.47924836079278155, 0.20917758459864522, -0.8232881330225967, 0.33553842636723363, -0.825269211928825, 0.9395001749451066, -0.528915419073273, -0.7275440258990524, -0.46082309953378586, -0.2865408436230812, 0.17254979366903855, 0.4578281510680873, -0.6856145842084127, 0.3055232405894468, 0.39364841389050476, -0.5766406693484727, -0.08177753137562571, 0.7385054711973713, 0.7338988709571135, 0.0950658181408961, -0.551288651921608, 0.6547346014519084, 0.04913052003556362, 0.6837540895908267, -0.08149309336160449, 0.024244114427812713, -0.6084849441037941, 0.7497215223686391, -0.8643797949389376, 0.4551305920714366, 0.6267271763217697, 0.11311305879994382, 0.4607340345486166, -0.23603890403983963, 0.27095706265079467], \"y\": [0.7467838916413092, -0.4563285714358485, -0.5660914699661515, -0.3133688144410849, -0.6866006599810228, 0.5141605612813767, -0.2886738167284366, 0.3336061011066529, 0.12285396486587463, -0.36052703109294426, -0.7252864184044392, 0.951330965846412, 0.3353284122962119, -0.08776126737914058, -0.047902067002260074, 0.792516674480342, -0.24061413905049656, 0.29212210976951436, 0.3367000536776703, 0.6984960336357258, 0.6629354195428565, 0.8393819531399234, -0.6876691671210882, 0.11139137486249662, -0.14868803469344027, -0.46124482853952586, -0.5596521097365512, -0.9032110318751712, 0.8720644097439192, 0.3946102986918616, 0.32486922204759705, 0.0629097846715081, -0.9414515340041523, 0.6630641672828721, 0.7969945967864307, -0.6400789804859051, -0.9666610359390004, 0.3370817554741512, 0.6324140243417036, -0.7307741424390188, -0.6454427515091816, -0.7652502648459365, -0.9719465403076488, 0.8048134902198818, 0.23636395135039812, -0.2054430316331246, -0.5334800404445439, -0.45439506256501216, -0.17353900642070808, -0.06239494378065569, 0.8885371441251959, -0.6968802958634406, 0.7299621780755394, 0.49956118838576424, -0.9551873695287953, 0.7971060225690321, 0.3386941058827615, 0.4454833239172371, 0.21803714974217692, -0.40668094421936885, 0.014069691027228881, -0.7235733083376845, 0.9179563995129252, 0.4616088042949624, 0.2875386363165633, -0.8991169853869507, -0.9718145894630112, 0.9986982113334157, 0.6298061105219981, -0.8051498448803929, 0.5242700527225772, 0.8519153764091825, -0.8864115557156702, -0.21038713262498665, 0.46220997701455047, -0.9241192629180921, 0.3322685164786827, -0.36390649398569397, 0.6769104884470312, 0.5125929008898573, -0.10394313895011908, 0.34583687442525646, 0.8879009117188754, 0.662663270691388, -0.5876643165013586, 0.9815757231941034, -0.8095957583356086, 0.20412673004798854, -0.2078590681273509, -0.07895601153470366, -0.7882805690318808, -0.9868691348997252, 0.5001637764123068, 0.9980899752666152, -0.6859758692237552, 0.705125845682028, -0.41442350224753355, -0.3737291924806321, 0.6237848987895114, -0.1377166217529011, -0.8273161933406503, -0.6602784251292135, 0.8702481457576814, -0.5413543691593758, 0.41998167505923734, 0.4195074439500295, -0.06372191839351271, -0.16567415060208135, -0.4600386908189473, 0.2488850534088871, 0.6172641530025427, 0.12414983656260947, -0.3893671299413666, -0.05606682092420123, -0.7179716345549318, 0.19117233377926945, -0.28238312533838283, -0.41261832868797343, -0.7441905883541504, 0.14516805031369695, 0.6847444864341203, -0.37961078026273043, 0.7892530045999011, 0.3423847537375695, 0.22800802602497483, -0.8084553708007709, -0.11950362927742897, -0.6228872650103252]}, {\"colorscale\": [[0.0, \"rgb(103,0,31)\"], [0.1, \"rgb(178,24,43)\"], [0.2, \"rgb(214,96,77)\"], [0.3, \"rgb(244,165,130)\"], [0.4, \"rgb(253,219,199)\"], [0.5, \"rgb(247,247,247)\"], [0.6, \"rgb(209,229,240)\"], [0.7, \"rgb(146,197,222)\"], [0.8, \"rgb(67,147,195)\"], [0.9, \"rgb(33,102,172)\"], [1.0, \"rgb(5,48,97)\"]], \"type\": \"contour\", \"x\": [-2.0, -1.7894736842105263, -1.5789473684210527, -1.368421052631579, -1.1578947368421053, -0.9473684210526316, -0.736842105263158, -0.5263157894736843, -0.3157894736842106, -0.10526315789473695, 0.10526315789473673, 0.3157894736842106, 0.5263157894736841, 0.7368421052631575, 0.9473684210526314, 1.1578947368421053, 1.3684210526315788, 1.5789473684210522, 1.789473684210526, 2.0], \"y\": [-1.5, -1.3421052631578947, -1.1842105263157894, -1.0263157894736843, -0.868421052631579, -0.7105263157894737, -0.5526315789473685, -0.3947368421052632, -0.23684210526315796, -0.07894736842105271, 0.07894736842105254, 0.23684210526315796, 0.39473684210526305, 0.5526315789473681, 0.7105263157894736, 0.868421052631579, 1.026315789473684, 1.1842105263157892, 1.3421052631578947, 1.5], \"z\": [[-4.332727888528386, -4.312510194127233, -4.292292499726076, -4.272074805324921, -4.251857110923763, -4.2316394165226106, -4.211421722121459, -4.191204027720302, -4.170986333319149, -4.150768638917994, -4.13055094451684, -4.110333250115686, -4.090115555714532, -4.069897861313377, -4.049680166912224, -4.02946247251107, -4.009244778109914, -3.9890270837087605, -3.9688093893076073, -3.9485916949064523], [-3.887553276815577, -3.8673355824144227, -3.8471178880132686, -3.8269001936121145, -3.806682499210963, -3.7864648048098073, -3.7662471104086523, -3.746029416007498, -3.725811721606343, -3.705594027205189, -3.6853763328040348, -3.66515863840288, -3.6449409440017253, -3.6247232496005717, -3.6045055551994176, -3.5842878607982636, -3.5640701663971077, -3.5438524719959554, -3.5236347775947983, -3.503417083193644], [-3.442378665102772, -3.422160970701618, -3.401943276300464, -3.3817255818993095, -3.3615078874981523, -3.3412901930970005, -3.321072498695845, -3.300854804294691, -3.280637109893537, -3.260419415492383, -3.2402017210912284, -3.219984026690073, -3.19976633228892, -3.179548637887765, -3.1593309434866126, -3.1391132490854567, -3.1188955546843022, -3.098677860283147, -3.0784601658819946, -3.0582424714808405], [-2.9972040533899644, -2.9769863589888117, -2.9567686645876585, -2.936550970186503, -2.9163332757853486, -2.8961155813841954, -2.8758978869830396, -2.8556801925818855, -2.8354624981807324, -2.8152448037795774, -2.7950271093784234, -2.7748094149772684, -2.7545917205761135, -2.73437402617496, -2.714156331773806, -2.6939386373726513, -2.6737209429714968, -2.653503248570343, -2.6332855541691886, -2.613067859768034], [-2.5520294416771594, -2.5318117472760053, -2.511594052874853, -2.4913763584736994, -2.4711586640725427, -2.450940969671388, -2.430723275270233, -2.4105055808690796, -2.3902878864679256, -2.3700701920667715, -2.3498524976656157, -2.3296348032644616, -2.309417108863308, -2.289199414462153, -2.2689817200609994, -2.248764025659845, -2.228546331258691, -2.208328636857536, -2.188110942456383, -2.1678932480552264], [-2.106854829964353, -2.086637135563199, -2.066419441162046, -2.046201746760891, -2.0259840523597368, -2.0057663579585827, -1.9855486635574273, -1.9653309691562733, -1.9451132747551196, -1.9248955803539656, -1.9046778859528102, -1.8844601915516561, -1.8642424971505025, -1.8440248027493467, -1.8238071083481922, -1.803589413947039, -1.7833717195458845, -1.7631540251447295, -1.7429363307435768, -1.72271863634242], [-1.6616802182515489, -1.6414625238503948, -1.6212448294492394, -1.6010271350480862, -1.58080944064693, -1.5605917462457755, -1.5403740518446214, -1.5201563574434678, -1.4999386630423133, -1.4797209686411592, -1.4595032742400051, -1.4392855798388502, -1.4190678854376961, -1.398850191036542, -1.3786324966353867, -1.3584148022342335, -1.3381971078330785, -1.3179794134319254, -1.2977617190307704, -1.2775440246296155], [-1.2165056065387407, -1.1962879121375871, -1.176070217736433, -1.1558525233352799, -1.135634828934124, -1.1154171345329709, -1.095199440131816, -1.0749817457306623, -1.0547640513295078, -1.0345463569283528, -1.0143286625271988, -0.9941109681260444, -0.9738932737248899, -0.9536755793237351, -0.9334578849225815, -0.9132401905214279, -0.8930224961202725, -0.8728048017191182, -0.8525871073179639, -0.8323694129168101], [-0.7713309948259351, -0.7511133004247819, -0.7308956060236279, -0.7106779116224734, -0.6904602172213182, -0.6702425228201642, -0.6500248284190093, -0.6298071340178555, -0.6095894396167016, -0.5893717452155471, -0.5691540508143926, -0.548936356413238, -0.5287186620120838, -0.5085009676109301, -0.4882832732097754, -0.4680655788086213, -0.4478478844074669, -0.4276301900063124, -0.40741249560515763, -0.38719480120400196], [-0.3261563831131292, -0.30593868871197505, -0.2857209943108225, -0.26550329990966687, -0.24528560550851103, -0.22506791110735858, -0.20485021670620385, -0.18463252230505012, -0.16441482790389572, -0.1441971335027411, -0.12397943910158662, -0.10376174470043242, -0.08354405029927808, -0.06332635589812388, -0.04310866149696943, -0.022890967095815784, -0.0026732726946604446, 0.017544421706494173, 0.03776211610764785, 0.0579798105088033], [0.11901822859967404, 0.13923592300083065, 0.15945361740198344, 0.1796713118031384, 0.19988900620429345, 0.22010670060544751, 0.24032439500660102, 0.2605420894077558, 0.28075978380891053, 0.3009774782100649, 0.3211951726112191, 0.3414128670123736, 0.3616305614135282, 0.3818482558146821, 0.40206595021583696, 0.422283644616991, 0.44250133901814415, 0.462719033419299, 0.4829367278204542, 0.5031544222216079], [0.5641928403124806, 0.5844105347136366, 0.6046282291147896, 0.6248459235159455, 0.6450636179171, 0.6652813123182546, 0.6854990067194084, 0.7057167011205626, 0.7259343955217167, 0.7461520899228711, 0.7663697843240255, 0.7865874787251803, 0.8068051731263349, 0.827022867527489, 0.8472405619286428, 0.8674582563297969, 0.887675950730951, 0.9078936451321082, 0.9281113395332595, 0.9483290339344138], [1.0093674520252875, 1.0295851464264412, 1.0498028408275961, 1.0700205352287497, 1.0902382296299056, 1.1104559240310596, 1.1306736184322141, 1.1508913128333682, 1.1711090072345223, 1.1913267016356768, 1.2115443960368313, 1.2317620904379858, 1.2519797848391403, 1.2721974792402944, 1.2924151736414484, 1.3126328680426007, 1.332850562443757, 1.3530682568449128, 1.3732859512460656, 1.3935036456472192], [1.4545420637380935, 1.4747597581392466, 1.4949774525404012, 1.5151951469415557, 1.535412841342712, 1.5556305357438647, 1.5758482301450192, 1.5960659245461741, 1.6162836189473277, 1.6365013133484818, 1.6567190077496372, 1.6769367021507917, 1.6971543965519453, 1.7173720909531007, 1.737589785354254, 1.7578074797554084, 1.778025174156562, 1.7982428685577165, 1.818460562958871, 1.838678257360025], [1.899716675450899, 1.9199343698520535, 1.940152064253207, 1.960369758654362, 1.9805874530555174, 2.0008051474566715, 2.0210228418578255, 2.0412405362589796, 2.061458230660135, 2.0816759250612886, 2.101893619462443, 2.122111313863597, 2.1423290082647513, 2.162546702665906, 2.1827643970670603, 2.2029820914682148, 2.223199785869369, 2.243417480270523, 2.2636351746716765, 2.283852869072832], [2.344891287163705, 2.3651089815648607, 2.385326675966014, 2.405544370367169, 2.4257620647683233, 2.4459797591694774, 2.466197453570632, 2.486415147971786, 2.50663284237294, 2.5268505367740954, 2.54706823117525, 2.567285925576404, 2.5875036199775567, 2.6077213143787126, 2.6279390087798675, 2.648156703181021, 2.668374397582175, 2.6885920919833293, 2.7088097863844838, 2.729027480785638], [2.790065898876512, 2.810283593277666, 2.8305012876788203, 2.850718982079973, 2.8709366764811293, 2.8911543708822838, 2.911372065283438, 2.931589759684592, 2.951807454085746, 2.972025148486901, 2.9922428428880554, 3.01246053728921, 3.0326782316903635, 3.052895926091517, 3.0731136204926726, 3.093331314893827, 3.1135490092949816, 3.1337667036961343, 3.1539843980972893, 3.1742020924984446], [3.235240510589318, 3.25545820499047, 3.2756758993916235, 3.2958935937927794, 3.3161112881939347, 3.336328982595088, 3.356546676996242, 3.376764371397398, 3.396982065798552, 3.417199760199706, 3.4374174546008613, 3.4576351490020154, 3.4778528434031677, 3.498070537804324, 3.5182882322054794, 3.5385059266066308, 3.558723621007786, 3.5789413154089433, 3.5991590098100965, 3.619376704211249], [3.6804151223021226, 3.700632816703277, 3.7208505111044334, 3.741068205505586, 3.761285899906742, 3.781503594307895, 3.8017212887090492, 3.8219389831102037, 3.8421566775113583, 3.8623743719125123, 3.882592066313668, 3.9028097607148213, 3.9230274551159745, 3.943245149517131, 3.963462843918285, 3.9836805383194416, 4.003898232720593, 4.0241159271217475, 4.0443336215229015, 4.064551315924056], [4.125589734014931, 4.145807428416084, 4.16602512281724, 4.1862428172183925, 4.206460511619549, 4.226678206020702, 4.2468959004218565, 4.2671135948230114, 4.2873312892241655, 4.30754898362532, 4.327766678026474, 4.347984372427629, 4.368202066828783, 4.388419761229935, 4.408637455631089, 4.428855150032242, 4.4490728444334, 4.4692905388345565, 4.489508233235712, 4.5097259276368655]]}, {\"mode\": \"lines\", \"showlegend\": false, \"type\": \"scatter\", \"x\": [-1.0, -0.935483870967742, -0.8709677419354839, -0.8064516129032258, -0.7419354838709677, -0.6774193548387097, -0.6129032258064516, -0.5483870967741935, -0.4838709677419355, -0.4193548387096775, -0.3548387096774194, -0.29032258064516125, -0.22580645161290325, -0.16129032258064524, -0.09677419354838712, -0.032258064516129004, 0.032258064516129004, 0.09677419354838701, 0.16129032258064502, 0.22580645161290325, 0.29032258064516125, 0.35483870967741926, 0.4193548387096775, 0.4838709677419355, 0.5483870967741935, 0.6129032258064515, 0.6774193548387095, 0.7419354838709677, 0.8064516129032258, 0.8709677419354838, 0.935483870967742, 1.0], \"y\": [0.4794621373315692, 0.4996943124756602, 0.4683784955424315, 0.3887451965514415, 0.26900931121591354, 0.12152268008025488, -0.03850011565362892, -0.19455127591530402, -0.3305327107886136, -0.43241670422295087, -0.48969299993715243, -0.49645302950452086, -0.45199943467646087, -0.36091800619902337, -0.23260461798216914, -0.08029595764486853, 0.08029595764486853, 0.23260461798216892, 0.360918006199023, 0.45199943467646087, 0.49645302950452086, 0.4896929999371525, 0.43241670422295087, 0.3305327107886136, 0.19455127591530402, 0.038500115653629145, -0.12152268008025423, -0.26900931121591354, -0.3887451965514415, -0.4683784955424315, -0.4996943124756602, -0.4794621373315692]}],\n",
       "                        {\"template\": {\"data\": {\"bar\": [{\"error_x\": {\"color\": \"#2a3f5f\"}, \"error_y\": {\"color\": \"#2a3f5f\"}, \"marker\": {\"line\": {\"color\": \"#E5ECF6\", \"width\": 0.5}}, \"type\": \"bar\"}], \"barpolar\": [{\"marker\": {\"line\": {\"color\": \"#E5ECF6\", \"width\": 0.5}}, \"type\": \"barpolar\"}], \"carpet\": [{\"aaxis\": {\"endlinecolor\": \"#2a3f5f\", \"gridcolor\": \"white\", \"linecolor\": \"white\", \"minorgridcolor\": \"white\", \"startlinecolor\": \"#2a3f5f\"}, \"baxis\": {\"endlinecolor\": \"#2a3f5f\", \"gridcolor\": \"white\", \"linecolor\": \"white\", \"minorgridcolor\": \"white\", \"startlinecolor\": \"#2a3f5f\"}, \"type\": \"carpet\"}], \"choropleth\": [{\"colorbar\": {\"outlinewidth\": 0, \"ticks\": \"\"}, \"type\": \"choropleth\"}], \"contour\": [{\"colorbar\": {\"outlinewidth\": 0, \"ticks\": \"\"}, \"colorscale\": [[0.0, \"#0d0887\"], [0.1111111111111111, \"#46039f\"], [0.2222222222222222, \"#7201a8\"], [0.3333333333333333, \"#9c179e\"], [0.4444444444444444, \"#bd3786\"], [0.5555555555555556, \"#d8576b\"], [0.6666666666666666, \"#ed7953\"], [0.7777777777777778, \"#fb9f3a\"], [0.8888888888888888, \"#fdca26\"], [1.0, \"#f0f921\"]], \"type\": \"contour\"}], \"contourcarpet\": [{\"colorbar\": {\"outlinewidth\": 0, \"ticks\": \"\"}, \"type\": \"contourcarpet\"}], \"heatmap\": [{\"colorbar\": {\"outlinewidth\": 0, \"ticks\": \"\"}, \"colorscale\": [[0.0, \"#0d0887\"], [0.1111111111111111, \"#46039f\"], [0.2222222222222222, \"#7201a8\"], [0.3333333333333333, \"#9c179e\"], [0.4444444444444444, \"#bd3786\"], [0.5555555555555556, \"#d8576b\"], [0.6666666666666666, \"#ed7953\"], [0.7777777777777778, \"#fb9f3a\"], [0.8888888888888888, \"#fdca26\"], [1.0, \"#f0f921\"]], \"type\": \"heatmap\"}], \"heatmapgl\": [{\"colorbar\": {\"outlinewidth\": 0, \"ticks\": \"\"}, \"colorscale\": [[0.0, \"#0d0887\"], [0.1111111111111111, \"#46039f\"], [0.2222222222222222, \"#7201a8\"], [0.3333333333333333, \"#9c179e\"], [0.4444444444444444, \"#bd3786\"], [0.5555555555555556, \"#d8576b\"], [0.6666666666666666, \"#ed7953\"], [0.7777777777777778, \"#fb9f3a\"], [0.8888888888888888, \"#fdca26\"], [1.0, \"#f0f921\"]], \"type\": \"heatmapgl\"}], \"histogram\": [{\"marker\": {\"colorbar\": {\"outlinewidth\": 0, \"ticks\": \"\"}}, \"type\": \"histogram\"}], \"histogram2d\": [{\"colorbar\": {\"outlinewidth\": 0, \"ticks\": \"\"}, \"colorscale\": [[0.0, \"#0d0887\"], [0.1111111111111111, \"#46039f\"], [0.2222222222222222, \"#7201a8\"], [0.3333333333333333, \"#9c179e\"], [0.4444444444444444, \"#bd3786\"], [0.5555555555555556, \"#d8576b\"], [0.6666666666666666, \"#ed7953\"], [0.7777777777777778, \"#fb9f3a\"], [0.8888888888888888, \"#fdca26\"], [1.0, \"#f0f921\"]], \"type\": \"histogram2d\"}], \"histogram2dcontour\": [{\"colorbar\": {\"outlinewidth\": 0, \"ticks\": \"\"}, \"colorscale\": [[0.0, \"#0d0887\"], [0.1111111111111111, \"#46039f\"], [0.2222222222222222, \"#7201a8\"], [0.3333333333333333, \"#9c179e\"], [0.4444444444444444, \"#bd3786\"], [0.5555555555555556, \"#d8576b\"], [0.6666666666666666, \"#ed7953\"], [0.7777777777777778, \"#fb9f3a\"], [0.8888888888888888, \"#fdca26\"], [1.0, \"#f0f921\"]], \"type\": \"histogram2dcontour\"}], \"mesh3d\": [{\"colorbar\": {\"outlinewidth\": 0, \"ticks\": \"\"}, \"type\": \"mesh3d\"}], \"parcoords\": [{\"line\": {\"colorbar\": {\"outlinewidth\": 0, \"ticks\": \"\"}}, \"type\": \"parcoords\"}], \"pie\": [{\"automargin\": true, \"type\": \"pie\"}], \"scatter\": [{\"marker\": {\"colorbar\": {\"outlinewidth\": 0, \"ticks\": \"\"}}, \"type\": \"scatter\"}], \"scatter3d\": [{\"line\": {\"colorbar\": {\"outlinewidth\": 0, \"ticks\": \"\"}}, \"marker\": {\"colorbar\": {\"outlinewidth\": 0, \"ticks\": \"\"}}, \"type\": \"scatter3d\"}], \"scattercarpet\": [{\"marker\": {\"colorbar\": {\"outlinewidth\": 0, \"ticks\": \"\"}}, \"type\": \"scattercarpet\"}], \"scattergeo\": [{\"marker\": {\"colorbar\": {\"outlinewidth\": 0, \"ticks\": \"\"}}, \"type\": \"scattergeo\"}], \"scattergl\": [{\"marker\": {\"colorbar\": {\"outlinewidth\": 0, \"ticks\": \"\"}}, \"type\": \"scattergl\"}], \"scattermapbox\": [{\"marker\": {\"colorbar\": {\"outlinewidth\": 0, \"ticks\": \"\"}}, \"type\": \"scattermapbox\"}], \"scatterpolar\": [{\"marker\": {\"colorbar\": {\"outlinewidth\": 0, \"ticks\": \"\"}}, \"type\": \"scatterpolar\"}], \"scatterpolargl\": [{\"marker\": {\"colorbar\": {\"outlinewidth\": 0, \"ticks\": \"\"}}, \"type\": \"scatterpolargl\"}], \"scatterternary\": [{\"marker\": {\"colorbar\": {\"outlinewidth\": 0, \"ticks\": \"\"}}, \"type\": \"scatterternary\"}], \"surface\": [{\"colorbar\": {\"outlinewidth\": 0, \"ticks\": \"\"}, \"colorscale\": [[0.0, \"#0d0887\"], [0.1111111111111111, \"#46039f\"], [0.2222222222222222, \"#7201a8\"], [0.3333333333333333, \"#9c179e\"], [0.4444444444444444, \"#bd3786\"], [0.5555555555555556, \"#d8576b\"], [0.6666666666666666, \"#ed7953\"], [0.7777777777777778, \"#fb9f3a\"], [0.8888888888888888, \"#fdca26\"], [1.0, \"#f0f921\"]], \"type\": \"surface\"}], \"table\": [{\"cells\": {\"fill\": {\"color\": \"#EBF0F8\"}, \"line\": {\"color\": \"white\"}}, \"header\": {\"fill\": {\"color\": \"#C8D4E3\"}, \"line\": {\"color\": \"white\"}}, \"type\": \"table\"}]}, \"layout\": {\"annotationdefaults\": {\"arrowcolor\": \"#2a3f5f\", \"arrowhead\": 0, \"arrowwidth\": 1}, \"coloraxis\": {\"colorbar\": {\"outlinewidth\": 0, \"ticks\": \"\"}}, \"colorscale\": {\"diverging\": [[0, \"#8e0152\"], [0.1, \"#c51b7d\"], [0.2, \"#de77ae\"], [0.3, \"#f1b6da\"], [0.4, \"#fde0ef\"], [0.5, \"#f7f7f7\"], [0.6, \"#e6f5d0\"], [0.7, \"#b8e186\"], [0.8, \"#7fbc41\"], [0.9, \"#4d9221\"], [1, \"#276419\"]], \"sequential\": [[0.0, \"#0d0887\"], [0.1111111111111111, \"#46039f\"], [0.2222222222222222, \"#7201a8\"], [0.3333333333333333, \"#9c179e\"], [0.4444444444444444, \"#bd3786\"], [0.5555555555555556, \"#d8576b\"], [0.6666666666666666, \"#ed7953\"], [0.7777777777777778, \"#fb9f3a\"], [0.8888888888888888, \"#fdca26\"], [1.0, \"#f0f921\"]], \"sequentialminus\": [[0.0, \"#0d0887\"], [0.1111111111111111, \"#46039f\"], [0.2222222222222222, \"#7201a8\"], [0.3333333333333333, \"#9c179e\"], [0.4444444444444444, \"#bd3786\"], [0.5555555555555556, \"#d8576b\"], [0.6666666666666666, \"#ed7953\"], [0.7777777777777778, \"#fb9f3a\"], [0.8888888888888888, \"#fdca26\"], [1.0, \"#f0f921\"]]}, \"colorway\": [\"#636efa\", \"#EF553B\", \"#00cc96\", \"#ab63fa\", \"#FFA15A\", \"#19d3f3\", \"#FF6692\", \"#B6E880\", \"#FF97FF\", \"#FECB52\"], \"font\": {\"color\": \"#2a3f5f\"}, \"geo\": {\"bgcolor\": \"white\", \"lakecolor\": \"white\", \"landcolor\": \"#E5ECF6\", \"showlakes\": true, \"showland\": true, \"subunitcolor\": \"white\"}, \"hoverlabel\": {\"align\": \"left\"}, \"hovermode\": \"closest\", \"mapbox\": {\"style\": \"light\"}, \"paper_bgcolor\": \"white\", \"plot_bgcolor\": \"#E5ECF6\", \"polar\": {\"angularaxis\": {\"gridcolor\": \"white\", \"linecolor\": \"white\", \"ticks\": \"\"}, \"bgcolor\": \"#E5ECF6\", \"radialaxis\": {\"gridcolor\": \"white\", \"linecolor\": \"white\", \"ticks\": \"\"}}, \"scene\": {\"xaxis\": {\"backgroundcolor\": \"#E5ECF6\", \"gridcolor\": \"white\", \"gridwidth\": 2, \"linecolor\": \"white\", \"showbackground\": true, \"ticks\": \"\", \"zerolinecolor\": \"white\"}, \"yaxis\": {\"backgroundcolor\": \"#E5ECF6\", \"gridcolor\": \"white\", \"gridwidth\": 2, \"linecolor\": \"white\", \"showbackground\": true, \"ticks\": \"\", \"zerolinecolor\": \"white\"}, \"zaxis\": {\"backgroundcolor\": \"#E5ECF6\", \"gridcolor\": \"white\", \"gridwidth\": 2, \"linecolor\": \"white\", \"showbackground\": true, \"ticks\": \"\", \"zerolinecolor\": \"white\"}}, \"shapedefaults\": {\"line\": {\"color\": \"#2a3f5f\"}}, \"ternary\": {\"aaxis\": {\"gridcolor\": \"white\", \"linecolor\": \"white\", \"ticks\": \"\"}, \"baxis\": {\"gridcolor\": \"white\", \"linecolor\": \"white\", \"ticks\": \"\"}, \"bgcolor\": \"#E5ECF6\", \"caxis\": {\"gridcolor\": \"white\", \"linecolor\": \"white\", \"ticks\": \"\"}}, \"title\": {\"x\": 0.05}, \"xaxis\": {\"automargin\": true, \"gridcolor\": \"white\", \"linecolor\": \"white\", \"ticks\": \"\", \"title\": {\"standoff\": 15}, \"zerolinecolor\": \"white\", \"zerolinewidth\": 2}, \"yaxis\": {\"automargin\": true, \"gridcolor\": \"white\", \"linecolor\": \"white\", \"ticks\": \"\", \"title\": {\"standoff\": 15}, \"zerolinecolor\": \"white\", \"zerolinewidth\": 2}}}, \"title\": {\"text\": \"Decision function with linear SVM\"}, \"width\": 600},\n",
       "                        {\"responsive\": true}\n",
       "                    ).then(function(){\n",
       "                            \n",
       "var gd = document.getElementById('d9c4a7c6-352f-4751-9ab1-8ae23155effa');\n",
       "var x = new MutationObserver(function (mutations, observer) {{\n",
       "        var display = window.getComputedStyle(gd).display;\n",
       "        if (!display || display === 'none') {{\n",
       "            console.log([gd, 'removed!']);\n",
       "            Plotly.purge(gd);\n",
       "            observer.disconnect();\n",
       "        }}\n",
       "}});\n",
       "\n",
       "// Listen for the removal of the full notebook cells\n",
       "var notebookContainer = gd.closest('#notebook-container');\n",
       "if (notebookContainer) {{\n",
       "    x.observe(notebookContainer, {childList: true});\n",
       "}}\n",
       "\n",
       "// Listen for the clearing of the current output cell\n",
       "var outputEl = gd.closest('.output');\n",
       "if (outputEl) {{\n",
       "    x.observe(outputEl, {childList: true});\n",
       "}}\n",
       "\n",
       "                        })\n",
       "                };\n",
       "                });\n",
       "            </script>\n",
       "        </div>"
      ]
     },
     "metadata": {},
     "output_type": "display_data"
    }
   ],
   "source": [
    "np.random.seed(2020)\n",
    "\n",
    "# decision curve is the sine function\n",
    "\n",
    "X = 2*np.random.rand(128, 2) - 1\n",
    "\n",
    "y = np.zeros(X.shape[0])\n",
    "\n",
    "# initialize labels\n",
    "for i in range(0,X.shape[0]):\n",
    "    y[i] = labels_sine(X[i,:])\n",
    "\n",
    "# fit the model\n",
    "# we use a linear SVM which won't work in this case\n",
    "clf = svm.SVC(kernel=\"linear\")\n",
    "clf.fit(X, y)\n",
    "\n",
    "fig = go.Figure()\n",
    "plot_data_decision_function(X, y, clf, fig, \"Decision function with linear SVM\", 2, 1.5)\n",
    "# draw the sine function\n",
    "x_b = np.linspace(-1, 1, 32)\n",
    "fig.add_trace(go.Scatter(x=x_b, y=np.sin(5*x_b) / 2,\n",
    "                    mode='lines', showlegend=False))\n",
    "fig.show()"
   ]
  },
  {
   "cell_type": "code",
   "execution_count": 60,
   "metadata": {},
   "outputs": [],
   "source": [
    "save_figure_to_file(fig,'../Slides/scikitlearn','svm10')"
   ]
  },
  {
   "cell_type": "code",
   "execution_count": 61,
   "metadata": {
    "colab": {
     "base_uri": "https://localhost:8080/",
     "height": 542
    },
    "colab_type": "code",
    "id": "chT9c50W9Cgr",
    "outputId": "eccf0379-d5ff-4483-b0ea-6e706aebf196"
   },
   "outputs": [
    {
     "data": {
      "application/vnd.plotly.v1+json": {
       "config": {
        "plotlyServerURL": "https://plot.ly"
       },
       "data": [
        {
         "marker": {
          "color": [
           1,
           -1,
           -1,
           1,
           -1,
           1,
           -1,
           1,
           1,
           -1,
           -1,
           1,
           1,
           -1,
           -1,
           1,
           1,
           1,
           -1,
           1,
           1,
           1,
           -1,
           -1,
           -1,
           -1,
           -1,
           -1,
           1,
           1,
           1,
           -1,
           -1,
           1,
           1,
           -1,
           -1,
           1,
           1,
           -1,
           -1,
           -1,
           -1,
           1,
           1,
           1,
           -1,
           1,
           1,
           -1,
           1,
           -1,
           1,
           1,
           -1,
           1,
           -1,
           1,
           1,
           -1,
           -1,
           -1,
           1,
           1,
           1,
           -1,
           -1,
           1,
           1,
           -1,
           1,
           1,
           -1,
           -1,
           1,
           -1,
           1,
           -1,
           1,
           1,
           -1,
           -1,
           1,
           1,
           -1,
           1,
           -1,
           1,
           -1,
           -1,
           -1,
           -1,
           1,
           1,
           -1,
           1,
           -1,
           -1,
           1,
           1,
           -1,
           -1,
           1,
           -1,
           1,
           1,
           -1,
           -1,
           -1,
           1,
           1,
           1,
           -1,
           1,
           -1,
           1,
           -1,
           -1,
           -1,
           1,
           1,
           -1,
           1,
           1,
           -1,
           -1,
           1,
           -1
          ],
          "colorscale": [
           [
            0,
            "rgb(103,0,31)"
           ],
           [
            0.1,
            "rgb(178,24,43)"
           ],
           [
            0.2,
            "rgb(214,96,77)"
           ],
           [
            0.3,
            "rgb(244,165,130)"
           ],
           [
            0.4,
            "rgb(253,219,199)"
           ],
           [
            0.5,
            "rgb(247,247,247)"
           ],
           [
            0.6,
            "rgb(209,229,240)"
           ],
           [
            0.7,
            "rgb(146,197,222)"
           ],
           [
            0.8,
            "rgb(67,147,195)"
           ],
           [
            0.9,
            "rgb(33,102,172)"
           ],
           [
            1,
            "rgb(5,48,97)"
           ]
          ],
          "size": 10
         },
         "mode": "markers",
         "showlegend": false,
         "type": "scatter",
         "x": [
          0.9725536577231977,
          0.019491049943163086,
          -0.3261625445080729,
          -0.44704571369240087,
          0.7243178709197058,
          -0.7182255102951693,
          0.47264983630721646,
          -0.31781396697724795,
          -0.565798722491812,
          -0.7516424445485406,
          0.9064277463414698,
          0.1388261937606614,
          0.006734121920556335,
          -0.9316170039712195,
          -0.6882972744358813,
          -0.6605951231951612,
          -0.25321248465679247,
          0.7166331758358033,
          0.16692339546489388,
          -0.6444147596206389,
          -0.11525483630306499,
          0.527841432578291,
          -0.8588531457788544,
          0.27378846393161993,
          -0.6161425732957695,
          0.02684041567968065,
          0.19804003738063058,
          -0.3982750111338085,
          0.1286401175491414,
          0.6060552843619602,
          -0.07723144822941297,
          0.499331276215482,
          -0.03437974727725113,
          0.7885662075787618,
          0.47568692224591014,
          -0.5385317172343462,
          0.22831624369129289,
          -0.40135550815460563,
          0.905104871218934,
          -0.8442755283476089,
          0.15309623387915106,
          0.988917399364774,
          0.6816896655867875,
          0.7433749682985351,
          -0.10159106198342616,
          0.9579562655376166,
          -0.10553833260813805,
          0.8634587601578927,
          0.8646555861368634,
          -0.6786431513210474,
          -0.46142268529323727,
          -0.4091181302825009,
          -0.4549134086153268,
          0.8337228110526111,
          0.8004441207624269,
          -0.9180952510329765,
          0.40158629051602635,
          0.10569156374004929,
          0.7078626116057507,
          -0.0951711863660667,
          0.26123965422988493,
          -0.2594878980626407,
          0.5183687857405443,
          -0.44194373083525007,
          -0.600166021957854,
          -0.5942531154432378,
          -0.25600910908792085,
          -0.8008364200053788,
          0.8515459862364703,
          -0.5552556135718028,
          0.8910818346697007,
          -0.3426447025396766,
          0.41136619414680053,
          -0.010050984353052295,
          0.12286427521441179,
          0.15762317907372148,
          -0.6092157333802137,
          0.41428631222104184,
          -0.5063273344072228,
          -0.831930791725936,
          0.4325846429737308,
          -0.9039483562432415,
          -0.6073914050418245,
          0.11828607010210024,
          -0.3201401681958016,
          0.023528624464017822,
          0.758340653368589,
          -0.001971932281604527,
          -0.757487383023058,
          0.20161134225810917,
          -0.526803710381774,
          0.96964443267549,
          -0.9140114545275728,
          0.47924836079278155,
          0.20917758459864522,
          -0.8232881330225967,
          0.33553842636723363,
          -0.825269211928825,
          0.9395001749451066,
          -0.528915419073273,
          -0.7275440258990524,
          -0.46082309953378586,
          -0.2865408436230812,
          0.17254979366903855,
          0.4578281510680873,
          -0.6856145842084127,
          0.3055232405894468,
          0.39364841389050476,
          -0.5766406693484727,
          -0.08177753137562571,
          0.7385054711973713,
          0.7338988709571135,
          0.0950658181408961,
          -0.551288651921608,
          0.6547346014519084,
          0.04913052003556362,
          0.6837540895908267,
          -0.08149309336160449,
          0.024244114427812713,
          -0.6084849441037941,
          0.7497215223686391,
          -0.8643797949389376,
          0.4551305920714366,
          0.6267271763217697,
          0.11311305879994382,
          0.4607340345486166,
          -0.23603890403983963,
          0.27095706265079467
         ],
         "y": [
          0.7467838916413092,
          -0.4563285714358485,
          -0.5660914699661515,
          -0.3133688144410849,
          -0.6866006599810228,
          0.5141605612813767,
          -0.2886738167284366,
          0.3336061011066529,
          0.12285396486587463,
          -0.36052703109294426,
          -0.7252864184044392,
          0.951330965846412,
          0.3353284122962119,
          -0.08776126737914058,
          -0.047902067002260074,
          0.792516674480342,
          -0.24061413905049656,
          0.29212210976951436,
          0.3367000536776703,
          0.6984960336357258,
          0.6629354195428565,
          0.8393819531399234,
          -0.6876691671210882,
          0.11139137486249662,
          -0.14868803469344027,
          -0.46124482853952586,
          -0.5596521097365512,
          -0.9032110318751712,
          0.8720644097439192,
          0.3946102986918616,
          0.32486922204759705,
          0.0629097846715081,
          -0.9414515340041523,
          0.6630641672828721,
          0.7969945967864307,
          -0.6400789804859051,
          -0.9666610359390004,
          0.3370817554741512,
          0.6324140243417036,
          -0.7307741424390188,
          -0.6454427515091816,
          -0.7652502648459365,
          -0.9719465403076488,
          0.8048134902198818,
          0.23636395135039812,
          -0.2054430316331246,
          -0.5334800404445439,
          -0.45439506256501216,
          -0.17353900642070808,
          -0.06239494378065569,
          0.8885371441251959,
          -0.6968802958634406,
          0.7299621780755394,
          0.49956118838576424,
          -0.9551873695287953,
          0.7971060225690321,
          0.3386941058827615,
          0.4454833239172371,
          0.21803714974217692,
          -0.40668094421936885,
          0.014069691027228881,
          -0.7235733083376845,
          0.9179563995129252,
          0.4616088042949624,
          0.2875386363165633,
          -0.8991169853869507,
          -0.9718145894630112,
          0.9986982113334157,
          0.6298061105219981,
          -0.8051498448803929,
          0.5242700527225772,
          0.8519153764091825,
          -0.8864115557156702,
          -0.21038713262498665,
          0.46220997701455047,
          -0.9241192629180921,
          0.3322685164786827,
          -0.36390649398569397,
          0.6769104884470312,
          0.5125929008898573,
          -0.10394313895011908,
          0.34583687442525646,
          0.8879009117188754,
          0.662663270691388,
          -0.5876643165013586,
          0.9815757231941034,
          -0.8095957583356086,
          0.20412673004798854,
          -0.2078590681273509,
          -0.07895601153470366,
          -0.7882805690318808,
          -0.9868691348997252,
          0.5001637764123068,
          0.9980899752666152,
          -0.6859758692237552,
          0.705125845682028,
          -0.41442350224753355,
          -0.3737291924806321,
          0.6237848987895114,
          -0.1377166217529011,
          -0.8273161933406503,
          -0.6602784251292135,
          0.8702481457576814,
          -0.5413543691593758,
          0.41998167505923734,
          0.4195074439500295,
          -0.06372191839351271,
          -0.16567415060208135,
          -0.4600386908189473,
          0.2488850534088871,
          0.6172641530025427,
          0.12414983656260947,
          -0.3893671299413666,
          -0.05606682092420123,
          -0.7179716345549318,
          0.19117233377926945,
          -0.28238312533838283,
          -0.41261832868797343,
          -0.7441905883541504,
          0.14516805031369695,
          0.6847444864341203,
          -0.37961078026273043,
          0.7892530045999011,
          0.3423847537375695,
          0.22800802602497483,
          -0.8084553708007709,
          -0.11950362927742897,
          -0.6228872650103252
         ]
        },
        {
         "colorscale": [
          [
           0,
           "rgb(103,0,31)"
          ],
          [
           0.1,
           "rgb(178,24,43)"
          ],
          [
           0.2,
           "rgb(214,96,77)"
          ],
          [
           0.3,
           "rgb(244,165,130)"
          ],
          [
           0.4,
           "rgb(253,219,199)"
          ],
          [
           0.5,
           "rgb(247,247,247)"
          ],
          [
           0.6,
           "rgb(209,229,240)"
          ],
          [
           0.7,
           "rgb(146,197,222)"
          ],
          [
           0.8,
           "rgb(67,147,195)"
          ],
          [
           0.9,
           "rgb(33,102,172)"
          ],
          [
           1,
           "rgb(5,48,97)"
          ]
         ],
         "type": "contour",
         "x": [
          -2,
          -1.7894736842105263,
          -1.5789473684210527,
          -1.368421052631579,
          -1.1578947368421053,
          -0.9473684210526316,
          -0.736842105263158,
          -0.5263157894736843,
          -0.3157894736842106,
          -0.10526315789473695,
          0.10526315789473673,
          0.3157894736842106,
          0.5263157894736841,
          0.7368421052631575,
          0.9473684210526314,
          1.1578947368421053,
          1.3684210526315788,
          1.5789473684210522,
          1.789473684210526,
          2
         ],
         "y": [
          -1.5,
          -1.3421052631578947,
          -1.1842105263157894,
          -1.0263157894736843,
          -0.868421052631579,
          -0.7105263157894737,
          -0.5526315789473685,
          -0.3947368421052632,
          -0.23684210526315796,
          -0.07894736842105271,
          0.07894736842105254,
          0.23684210526315796,
          0.39473684210526305,
          0.5526315789473681,
          0.7105263157894736,
          0.868421052631579,
          1.026315789473684,
          1.1842105263157892,
          1.3421052631578947,
          1.5
         ],
         "z": [
          [
           0.08651422127313967,
           0.08651401200216807,
           0.08650657360801156,
           0.08638840897142477,
           0.08546771522698768,
           0.0815972955322197,
           0.07216992983226224,
           0.05632506236628432,
           0.03966345818115193,
           0.03534003368422896,
           0.034538305399442436,
           0.03893305709648312,
           0.04864697973941039,
           0.04550439834637632,
           0.04444074875734228,
           0.061689943085965156,
           0.0796847137430459,
           0.08570666296227157,
           0.0864743218371491,
           0.08651340728177442
          ],
          [
           0.08651420099656552,
           0.08651232518820369,
           0.08644744458982045,
           0.08548284559510463,
           0.07890435014410097,
           0.056038491425345796,
           0.010449577935312149,
           -0.05376847795942084,
           -0.11608059377843753,
           -0.13132011367435148,
           -0.1356704948655093,
           -0.11833563549144012,
           -0.07866162525650976,
           -0.09306786467462412,
           -0.09682783609382205,
           -0.02136323032021903,
           0.05681073428082493,
           0.08299037762745182,
           0.0863392743006814,
           0.08651062297626642
          ],
          [
           0.08651409753173908,
           0.08650377965656565,
           0.08615290116992927,
           0.08115576826277511,
           0.05033349443361781,
           -0.03858195675221897,
           -0.17625651532993064,
           -0.3282780213434789,
           -0.4600374412640993,
           -0.4861693271330173,
           -0.4995546513594997,
           -0.46224238217865554,
           -0.372866481289094,
           -0.4265231695929629,
           -0.43676485099136886,
           -0.22035890008413167,
           0.001908746094896288,
           0.0764273124282732,
           0.08600982701563953,
           0.08650375251961516
          ],
          [
           0.08651379544122523,
           0.08647896825797634,
           0.08530708860240502,
           0.06904804344630325,
           -0.02480772443234909,
           -0.257361414104024,
           -0.5279799527299626,
           -0.7333615106942305,
           -0.8764292782472308,
           -0.8778237525095498,
           -0.8965286821913685,
           -0.8593333788760682,
           -0.7635906965397253,
           -0.9068247162527846,
           -0.9209781477484874,
           -0.5001077859212303,
           -0.0755087192782906,
           0.06705467702939091,
           0.0855313828630815,
           0.08649358856871224
          ],
          [
           0.08651332596570602,
           0.08644070466467539,
           0.08401484581765105,
           0.050835660023581586,
           -0.13418371149782377,
           -0.5535770328284095,
           -0.9406704142727015,
           -1.1049147220168336,
           -1.1530005338283693,
           -1.076333921455811,
           -1.0622148583033781,
           -1.0473320511046056,
           -1.0239618065572211,
           -1.235488987787749,
           -1.2077550992561268,
           -0.657308313629888,
           -0.12074032125624477,
           0.061224001392880284,
           0.08521584751858435,
           0.08648654532086447
          ],
          [
           0.08651301641407427,
           0.08641653495964847,
           0.08322264640330626,
           0.03980635103133713,
           -0.20153644085420425,
           -0.7458665738593766,
           -1.2153733030367169,
           -1.2993147214874248,
           -1.2403613787203311,
           -1.153890589513848,
           -1.0696041902584785,
           -1.0137421430025801,
           -1.0148589510604156,
           -1.0662088061510087,
           -0.8824757337712361,
           -0.45925788600490036,
           -0.07388343843302862,
           0.06579936459775852,
           0.08540419473861954,
           0.08648982973421807
          ],
          [
           0.08651299980198927,
           0.08641976709936379,
           0.08342373330235017,
           0.042917732723184054,
           -0.18957735610302806,
           -0.7539563500081305,
           -1.2299571715782396,
           -1.0941136037407064,
           -0.9563772759565966,
           -1.183896955188573,
           -1.1559628787097382,
           -0.9724854439300373,
           -0.874413288493756,
           -0.4934706144710381,
           -0.03557007925161618,
           0.03319919146437086,
           0.04736148974645835,
           0.07870402940441006,
           0.08599783794809396,
           0.08650153823711196
          ],
          [
           0.08651282082790973,
           0.08641749625056544,
           0.08359191921310559,
           0.04632525239342853,
           -0.17809442288675426,
           -0.7603717150009122,
           -1.0937788762740974,
           -0.37668049081349575,
           -0.07143295744051258,
           -0.930020120461548,
           -1.2570197829474028,
           -1.0411877887486636,
           -0.8438089647350114,
           -0.013643394992456037,
           0.7168806277343788,
           0.4685687038095985,
           0.15433386090301093,
           0.09016179607707364,
           0.08653098123551824,
           0.08651219531915413
          ],
          [
           0.08651215777497145,
           0.08638302553518223,
           0.08283022347725687,
           0.037926250752484514,
           -0.23128867483992877,
           -0.9019330812092229,
           -1.0163254436391833,
           0.391808541641419,
           0.9423225135687756,
           -0.33279822111690616,
           -1.1294049191128646,
           -1.1636332852864115,
           -0.8920107433948845,
           0.25803823918086627,
           1.0627759313711844,
           0.6392368461268402,
           0.19459597196506312,
           0.09461358354673514,
           0.08674917034244123,
           0.08651676518885505
          ],
          [
           0.08651137262114997,
           0.08633579099654964,
           0.08164027882362102,
           0.02519121760528377,
           -0.28638827622817,
           -0.9523703695483926,
           -0.8072457213577413,
           0.8496381890340361,
           1.462463339051261,
           0.37653969560277784,
           -0.7074279477204397,
           -1.2504531001647345,
           -0.8270186576968628,
           0.5578153639140062,
           1.148630261903114,
           0.6028216964450079,
           0.1818549908476309,
           0.09366370409606246,
           0.08673428082591869,
           0.08651699667219347
          ],
          [
           0.08651102172086367,
           0.08631040840182048,
           0.08099277056248774,
           0.02100651798801513,
           -0.26181671231614206,
           -0.6841266864429423,
           -0.21816334335384668,
           1.1391346962011057,
           1.532227180497446,
           0.9731248104773381,
           -0.16889606993504186,
           -1.1635748269516573,
           -0.51568814701048,
           0.9130583369826725,
           1.1043326476060131,
           0.4808116371610673,
           0.15035703341392964,
           0.09099961382146717,
           0.08665076271773424,
           0.08651601312446644
          ],
          [
           0.08651207904656456,
           0.08637218825457565,
           0.08262648070544304,
           0.0424959463445109,
           -0.11296582919630495,
           -0.1834410945371222,
           0.4298335610327879,
           1.2270665895888315,
           1.3582697360056508,
           1.2718412556189487,
           0.3615551706704505,
           -0.6482859047978956,
           0.09347044106362458,
           1.1811861519583606,
           0.9809785160003928,
           0.3768400751572931,
           0.13106964905057544,
           0.08987896014082651,
           0.08663696389257146,
           0.08651629531544737
          ],
          [
           0.08651521137430841,
           0.08656906351178975,
           0.08783822786966954,
           0.1015396136742492,
           0.17834935061295018,
           0.4317923855898621,
           0.8744680626424776,
           1.1014434104931243,
           1.0810827354368222,
           1.276235173399447,
           0.8734929508348602,
           0.2143686234571705,
           0.7248983008971625,
           1.2434941445630974,
           0.8856934420995217,
           0.38178109022923185,
           0.1476043036348707,
           0.09285694033525321,
           0.08681140972417231,
           0.08652017755609061
          ],
          [
           0.08651804844432505,
           0.0867529995554798,
           0.09279694793473534,
           0.15720673251594697,
           0.43645415744985505,
           0.8999053877391892,
           1.117531729159477,
           1.0057802324657346,
           0.9244366141035495,
           1.1560049587381007,
           1.1511079121352883,
           0.832156267070955,
           0.9949920770708137,
           1.152577998468529,
           0.9403828036199606,
           0.5260663585025128,
           0.20251325175190715,
           0.10010088957345123,
           0.08718535270523915,
           0.08652798738706265
          ],
          [
           0.08651797324920013,
           0.08675600114016985,
           0.0931083795255279,
           0.16345336942929037,
           0.47749574826555685,
           0.9881270420260986,
           1.164216510582107,
           1.0303242821012375,
           0.9635072712630002,
           1.074078903678631,
           1.1275413603562352,
           0.989725489141216,
           0.9978806326621129,
           1.0558908563096434,
           1.0289394045355926,
           0.6582141020348921,
           0.2477198399833715,
           0.10582238325020385,
           0.08747522681542583,
           0.08653398621157993
          ],
          [
           0.08651630142052066,
           0.08665775519315075,
           0.09079155396865768,
           0.1419924490300449,
           0.4024797049391792,
           0.8959473209482061,
           1.1271697329935253,
           1.03578717496388,
           0.9973194981021652,
           1.0548505288797947,
           1.0647118776931608,
           1.0219451524937397,
           1.0169143917432848,
           0.9449756435303449,
           0.8883851073257819,
           0.5798139520321971,
           0.22680691629079708,
           0.10336586183878085,
           0.08735368546071075,
           0.08653149131297064
          ],
          [
           0.08651511678251159,
           0.08658533060401505,
           0.08898009788091212,
           0.12353871185536641,
           0.32589508752711244,
           0.7593389705247424,
           0.9773649150011382,
           0.8498309324821949,
           0.8057043878759512,
           0.903046022638023,
           0.9398734730863854,
           0.9588655242821016,
           0.9483993042897105,
           0.7253517326810905,
           0.551561967681873,
           0.35214449097825073,
           0.16116866587234946,
           0.095464409154091,
           0.08695988416766748,
           0.08652338965714622
          ],
          [
           0.08651459774489287,
           0.08654835253278982,
           0.08783775448004054,
           0.10814180013345712,
           0.23481004301513247,
           0.5166182795325566,
           0.6461880253614203,
           0.5162671834293489,
           0.4695127390563608,
           0.5680651711804694,
           0.6266888340967081,
           0.6655573211867188,
           0.652783115800272,
           0.43874287305696436,
           0.2690070905739764,
           0.17536576690617425,
           0.11073588009801062,
           0.08940361931070197,
           0.08665795254010121,
           0.08651717905281311
          ],
          [
           0.0865143584987221,
           0.08652729364281608,
           0.08704284988389885,
           0.09539509016983644,
           0.1484345054704752,
           0.26692795687176757,
           0.31560201543488436,
           0.24536637750976137,
           0.21831009061433654,
           0.26878839571988333,
           0.3050296113049955,
           0.32978209886539606,
           0.32373166348875315,
           0.21940049278664175,
           0.13631691004579694,
           0.10525015381009697,
           0.09131541969170187,
           0.08708128972942185,
           0.0865423825186787,
           0.0865148025399891
          ],
          [
           0.08651425738975933,
           0.0865175486359459,
           0.08665040405418997,
           0.08881993260689947,
           0.10265552484952314,
           0.13347692112484175,
           0.14500680570001245,
           0.12393232339452045,
           0.11531818801476781,
           0.12958006827596935,
           0.14102065518465537,
           0.1492319979727753,
           0.14790638204267384,
           0.11908516796515083,
           0.09609487343579519,
           0.08908111234570348,
           0.08709902287707144,
           0.08658193341398883,
           0.08651757542076884,
           0.0865142926325941
          ]
         ]
        },
        {
         "mode": "lines",
         "showlegend": false,
         "type": "scatter",
         "x": [
          -1,
          -0.935483870967742,
          -0.8709677419354839,
          -0.8064516129032258,
          -0.7419354838709677,
          -0.6774193548387097,
          -0.6129032258064516,
          -0.5483870967741935,
          -0.4838709677419355,
          -0.4193548387096775,
          -0.3548387096774194,
          -0.29032258064516125,
          -0.22580645161290325,
          -0.16129032258064524,
          -0.09677419354838712,
          -0.032258064516129004,
          0.032258064516129004,
          0.09677419354838701,
          0.16129032258064502,
          0.22580645161290325,
          0.29032258064516125,
          0.35483870967741926,
          0.4193548387096775,
          0.4838709677419355,
          0.5483870967741935,
          0.6129032258064515,
          0.6774193548387095,
          0.7419354838709677,
          0.8064516129032258,
          0.8709677419354838,
          0.935483870967742,
          1
         ],
         "y": [
          0.4794621373315692,
          0.4996943124756602,
          0.4683784955424315,
          0.3887451965514415,
          0.26900931121591354,
          0.12152268008025488,
          -0.03850011565362892,
          -0.19455127591530402,
          -0.3305327107886136,
          -0.43241670422295087,
          -0.48969299993715243,
          -0.49645302950452086,
          -0.45199943467646087,
          -0.36091800619902337,
          -0.23260461798216914,
          -0.08029595764486853,
          0.08029595764486853,
          0.23260461798216892,
          0.360918006199023,
          0.45199943467646087,
          0.49645302950452086,
          0.4896929999371525,
          0.43241670422295087,
          0.3305327107886136,
          0.19455127591530402,
          0.038500115653629145,
          -0.12152268008025423,
          -0.26900931121591354,
          -0.3887451965514415,
          -0.4683784955424315,
          -0.4996943124756602,
          -0.4794621373315692
         ]
        }
       ],
       "layout": {
        "template": {
         "data": {
          "bar": [
           {
            "error_x": {
             "color": "#2a3f5f"
            },
            "error_y": {
             "color": "#2a3f5f"
            },
            "marker": {
             "line": {
              "color": "#E5ECF6",
              "width": 0.5
             }
            },
            "type": "bar"
           }
          ],
          "barpolar": [
           {
            "marker": {
             "line": {
              "color": "#E5ECF6",
              "width": 0.5
             }
            },
            "type": "barpolar"
           }
          ],
          "carpet": [
           {
            "aaxis": {
             "endlinecolor": "#2a3f5f",
             "gridcolor": "white",
             "linecolor": "white",
             "minorgridcolor": "white",
             "startlinecolor": "#2a3f5f"
            },
            "baxis": {
             "endlinecolor": "#2a3f5f",
             "gridcolor": "white",
             "linecolor": "white",
             "minorgridcolor": "white",
             "startlinecolor": "#2a3f5f"
            },
            "type": "carpet"
           }
          ],
          "choropleth": [
           {
            "colorbar": {
             "outlinewidth": 0,
             "ticks": ""
            },
            "type": "choropleth"
           }
          ],
          "contour": [
           {
            "colorbar": {
             "outlinewidth": 0,
             "ticks": ""
            },
            "colorscale": [
             [
              0,
              "#0d0887"
             ],
             [
              0.1111111111111111,
              "#46039f"
             ],
             [
              0.2222222222222222,
              "#7201a8"
             ],
             [
              0.3333333333333333,
              "#9c179e"
             ],
             [
              0.4444444444444444,
              "#bd3786"
             ],
             [
              0.5555555555555556,
              "#d8576b"
             ],
             [
              0.6666666666666666,
              "#ed7953"
             ],
             [
              0.7777777777777778,
              "#fb9f3a"
             ],
             [
              0.8888888888888888,
              "#fdca26"
             ],
             [
              1,
              "#f0f921"
             ]
            ],
            "type": "contour"
           }
          ],
          "contourcarpet": [
           {
            "colorbar": {
             "outlinewidth": 0,
             "ticks": ""
            },
            "type": "contourcarpet"
           }
          ],
          "heatmap": [
           {
            "colorbar": {
             "outlinewidth": 0,
             "ticks": ""
            },
            "colorscale": [
             [
              0,
              "#0d0887"
             ],
             [
              0.1111111111111111,
              "#46039f"
             ],
             [
              0.2222222222222222,
              "#7201a8"
             ],
             [
              0.3333333333333333,
              "#9c179e"
             ],
             [
              0.4444444444444444,
              "#bd3786"
             ],
             [
              0.5555555555555556,
              "#d8576b"
             ],
             [
              0.6666666666666666,
              "#ed7953"
             ],
             [
              0.7777777777777778,
              "#fb9f3a"
             ],
             [
              0.8888888888888888,
              "#fdca26"
             ],
             [
              1,
              "#f0f921"
             ]
            ],
            "type": "heatmap"
           }
          ],
          "heatmapgl": [
           {
            "colorbar": {
             "outlinewidth": 0,
             "ticks": ""
            },
            "colorscale": [
             [
              0,
              "#0d0887"
             ],
             [
              0.1111111111111111,
              "#46039f"
             ],
             [
              0.2222222222222222,
              "#7201a8"
             ],
             [
              0.3333333333333333,
              "#9c179e"
             ],
             [
              0.4444444444444444,
              "#bd3786"
             ],
             [
              0.5555555555555556,
              "#d8576b"
             ],
             [
              0.6666666666666666,
              "#ed7953"
             ],
             [
              0.7777777777777778,
              "#fb9f3a"
             ],
             [
              0.8888888888888888,
              "#fdca26"
             ],
             [
              1,
              "#f0f921"
             ]
            ],
            "type": "heatmapgl"
           }
          ],
          "histogram": [
           {
            "marker": {
             "colorbar": {
              "outlinewidth": 0,
              "ticks": ""
             }
            },
            "type": "histogram"
           }
          ],
          "histogram2d": [
           {
            "colorbar": {
             "outlinewidth": 0,
             "ticks": ""
            },
            "colorscale": [
             [
              0,
              "#0d0887"
             ],
             [
              0.1111111111111111,
              "#46039f"
             ],
             [
              0.2222222222222222,
              "#7201a8"
             ],
             [
              0.3333333333333333,
              "#9c179e"
             ],
             [
              0.4444444444444444,
              "#bd3786"
             ],
             [
              0.5555555555555556,
              "#d8576b"
             ],
             [
              0.6666666666666666,
              "#ed7953"
             ],
             [
              0.7777777777777778,
              "#fb9f3a"
             ],
             [
              0.8888888888888888,
              "#fdca26"
             ],
             [
              1,
              "#f0f921"
             ]
            ],
            "type": "histogram2d"
           }
          ],
          "histogram2dcontour": [
           {
            "colorbar": {
             "outlinewidth": 0,
             "ticks": ""
            },
            "colorscale": [
             [
              0,
              "#0d0887"
             ],
             [
              0.1111111111111111,
              "#46039f"
             ],
             [
              0.2222222222222222,
              "#7201a8"
             ],
             [
              0.3333333333333333,
              "#9c179e"
             ],
             [
              0.4444444444444444,
              "#bd3786"
             ],
             [
              0.5555555555555556,
              "#d8576b"
             ],
             [
              0.6666666666666666,
              "#ed7953"
             ],
             [
              0.7777777777777778,
              "#fb9f3a"
             ],
             [
              0.8888888888888888,
              "#fdca26"
             ],
             [
              1,
              "#f0f921"
             ]
            ],
            "type": "histogram2dcontour"
           }
          ],
          "mesh3d": [
           {
            "colorbar": {
             "outlinewidth": 0,
             "ticks": ""
            },
            "type": "mesh3d"
           }
          ],
          "parcoords": [
           {
            "line": {
             "colorbar": {
              "outlinewidth": 0,
              "ticks": ""
             }
            },
            "type": "parcoords"
           }
          ],
          "pie": [
           {
            "automargin": true,
            "type": "pie"
           }
          ],
          "scatter": [
           {
            "marker": {
             "colorbar": {
              "outlinewidth": 0,
              "ticks": ""
             }
            },
            "type": "scatter"
           }
          ],
          "scatter3d": [
           {
            "line": {
             "colorbar": {
              "outlinewidth": 0,
              "ticks": ""
             }
            },
            "marker": {
             "colorbar": {
              "outlinewidth": 0,
              "ticks": ""
             }
            },
            "type": "scatter3d"
           }
          ],
          "scattercarpet": [
           {
            "marker": {
             "colorbar": {
              "outlinewidth": 0,
              "ticks": ""
             }
            },
            "type": "scattercarpet"
           }
          ],
          "scattergeo": [
           {
            "marker": {
             "colorbar": {
              "outlinewidth": 0,
              "ticks": ""
             }
            },
            "type": "scattergeo"
           }
          ],
          "scattergl": [
           {
            "marker": {
             "colorbar": {
              "outlinewidth": 0,
              "ticks": ""
             }
            },
            "type": "scattergl"
           }
          ],
          "scattermapbox": [
           {
            "marker": {
             "colorbar": {
              "outlinewidth": 0,
              "ticks": ""
             }
            },
            "type": "scattermapbox"
           }
          ],
          "scatterpolar": [
           {
            "marker": {
             "colorbar": {
              "outlinewidth": 0,
              "ticks": ""
             }
            },
            "type": "scatterpolar"
           }
          ],
          "scatterpolargl": [
           {
            "marker": {
             "colorbar": {
              "outlinewidth": 0,
              "ticks": ""
             }
            },
            "type": "scatterpolargl"
           }
          ],
          "scatterternary": [
           {
            "marker": {
             "colorbar": {
              "outlinewidth": 0,
              "ticks": ""
             }
            },
            "type": "scatterternary"
           }
          ],
          "surface": [
           {
            "colorbar": {
             "outlinewidth": 0,
             "ticks": ""
            },
            "colorscale": [
             [
              0,
              "#0d0887"
             ],
             [
              0.1111111111111111,
              "#46039f"
             ],
             [
              0.2222222222222222,
              "#7201a8"
             ],
             [
              0.3333333333333333,
              "#9c179e"
             ],
             [
              0.4444444444444444,
              "#bd3786"
             ],
             [
              0.5555555555555556,
              "#d8576b"
             ],
             [
              0.6666666666666666,
              "#ed7953"
             ],
             [
              0.7777777777777778,
              "#fb9f3a"
             ],
             [
              0.8888888888888888,
              "#fdca26"
             ],
             [
              1,
              "#f0f921"
             ]
            ],
            "type": "surface"
           }
          ],
          "table": [
           {
            "cells": {
             "fill": {
              "color": "#EBF0F8"
             },
             "line": {
              "color": "white"
             }
            },
            "header": {
             "fill": {
              "color": "#C8D4E3"
             },
             "line": {
              "color": "white"
             }
            },
            "type": "table"
           }
          ]
         },
         "layout": {
          "annotationdefaults": {
           "arrowcolor": "#2a3f5f",
           "arrowhead": 0,
           "arrowwidth": 1
          },
          "coloraxis": {
           "colorbar": {
            "outlinewidth": 0,
            "ticks": ""
           }
          },
          "colorscale": {
           "diverging": [
            [
             0,
             "#8e0152"
            ],
            [
             0.1,
             "#c51b7d"
            ],
            [
             0.2,
             "#de77ae"
            ],
            [
             0.3,
             "#f1b6da"
            ],
            [
             0.4,
             "#fde0ef"
            ],
            [
             0.5,
             "#f7f7f7"
            ],
            [
             0.6,
             "#e6f5d0"
            ],
            [
             0.7,
             "#b8e186"
            ],
            [
             0.8,
             "#7fbc41"
            ],
            [
             0.9,
             "#4d9221"
            ],
            [
             1,
             "#276419"
            ]
           ],
           "sequential": [
            [
             0,
             "#0d0887"
            ],
            [
             0.1111111111111111,
             "#46039f"
            ],
            [
             0.2222222222222222,
             "#7201a8"
            ],
            [
             0.3333333333333333,
             "#9c179e"
            ],
            [
             0.4444444444444444,
             "#bd3786"
            ],
            [
             0.5555555555555556,
             "#d8576b"
            ],
            [
             0.6666666666666666,
             "#ed7953"
            ],
            [
             0.7777777777777778,
             "#fb9f3a"
            ],
            [
             0.8888888888888888,
             "#fdca26"
            ],
            [
             1,
             "#f0f921"
            ]
           ],
           "sequentialminus": [
            [
             0,
             "#0d0887"
            ],
            [
             0.1111111111111111,
             "#46039f"
            ],
            [
             0.2222222222222222,
             "#7201a8"
            ],
            [
             0.3333333333333333,
             "#9c179e"
            ],
            [
             0.4444444444444444,
             "#bd3786"
            ],
            [
             0.5555555555555556,
             "#d8576b"
            ],
            [
             0.6666666666666666,
             "#ed7953"
            ],
            [
             0.7777777777777778,
             "#fb9f3a"
            ],
            [
             0.8888888888888888,
             "#fdca26"
            ],
            [
             1,
             "#f0f921"
            ]
           ]
          },
          "colorway": [
           "#636efa",
           "#EF553B",
           "#00cc96",
           "#ab63fa",
           "#FFA15A",
           "#19d3f3",
           "#FF6692",
           "#B6E880",
           "#FF97FF",
           "#FECB52"
          ],
          "font": {
           "color": "#2a3f5f"
          },
          "geo": {
           "bgcolor": "white",
           "lakecolor": "white",
           "landcolor": "#E5ECF6",
           "showlakes": true,
           "showland": true,
           "subunitcolor": "white"
          },
          "hoverlabel": {
           "align": "left"
          },
          "hovermode": "closest",
          "mapbox": {
           "style": "light"
          },
          "paper_bgcolor": "white",
          "plot_bgcolor": "#E5ECF6",
          "polar": {
           "angularaxis": {
            "gridcolor": "white",
            "linecolor": "white",
            "ticks": ""
           },
           "bgcolor": "#E5ECF6",
           "radialaxis": {
            "gridcolor": "white",
            "linecolor": "white",
            "ticks": ""
           }
          },
          "scene": {
           "xaxis": {
            "backgroundcolor": "#E5ECF6",
            "gridcolor": "white",
            "gridwidth": 2,
            "linecolor": "white",
            "showbackground": true,
            "ticks": "",
            "zerolinecolor": "white"
           },
           "yaxis": {
            "backgroundcolor": "#E5ECF6",
            "gridcolor": "white",
            "gridwidth": 2,
            "linecolor": "white",
            "showbackground": true,
            "ticks": "",
            "zerolinecolor": "white"
           },
           "zaxis": {
            "backgroundcolor": "#E5ECF6",
            "gridcolor": "white",
            "gridwidth": 2,
            "linecolor": "white",
            "showbackground": true,
            "ticks": "",
            "zerolinecolor": "white"
           }
          },
          "shapedefaults": {
           "line": {
            "color": "#2a3f5f"
           }
          },
          "ternary": {
           "aaxis": {
            "gridcolor": "white",
            "linecolor": "white",
            "ticks": ""
           },
           "baxis": {
            "gridcolor": "white",
            "linecolor": "white",
            "ticks": ""
           },
           "bgcolor": "#E5ECF6",
           "caxis": {
            "gridcolor": "white",
            "linecolor": "white",
            "ticks": ""
           }
          },
          "title": {
           "x": 0.05
          },
          "xaxis": {
           "automargin": true,
           "gridcolor": "white",
           "linecolor": "white",
           "ticks": "",
           "title": {
            "standoff": 15
           },
           "zerolinecolor": "white",
           "zerolinewidth": 2
          },
          "yaxis": {
           "automargin": true,
           "gridcolor": "white",
           "linecolor": "white",
           "ticks": "",
           "title": {
            "standoff": 15
           },
           "zerolinecolor": "white",
           "zerolinewidth": 2
          }
         }
        },
        "title": {
         "text": "Decision function with RBF"
        },
        "width": 600
       }
      },
      "text/html": [
       "<div>\n",
       "        \n",
       "        \n",
       "            <div id=\"e21687d8-339d-4bf5-a2b6-e42871d0f736\" class=\"plotly-graph-div\" style=\"height:525px; width:600px;\"></div>\n",
       "            <script type=\"text/javascript\">\n",
       "                require([\"plotly\"], function(Plotly) {\n",
       "                    window.PLOTLYENV=window.PLOTLYENV || {};\n",
       "                    \n",
       "                if (document.getElementById(\"e21687d8-339d-4bf5-a2b6-e42871d0f736\")) {\n",
       "                    Plotly.newPlot(\n",
       "                        'e21687d8-339d-4bf5-a2b6-e42871d0f736',\n",
       "                        [{\"marker\": {\"color\": [1.0, -1.0, -1.0, 1.0, -1.0, 1.0, -1.0, 1.0, 1.0, -1.0, -1.0, 1.0, 1.0, -1.0, -1.0, 1.0, 1.0, 1.0, -1.0, 1.0, 1.0, 1.0, -1.0, -1.0, -1.0, -1.0, -1.0, -1.0, 1.0, 1.0, 1.0, -1.0, -1.0, 1.0, 1.0, -1.0, -1.0, 1.0, 1.0, -1.0, -1.0, -1.0, -1.0, 1.0, 1.0, 1.0, -1.0, 1.0, 1.0, -1.0, 1.0, -1.0, 1.0, 1.0, -1.0, 1.0, -1.0, 1.0, 1.0, -1.0, -1.0, -1.0, 1.0, 1.0, 1.0, -1.0, -1.0, 1.0, 1.0, -1.0, 1.0, 1.0, -1.0, -1.0, 1.0, -1.0, 1.0, -1.0, 1.0, 1.0, -1.0, -1.0, 1.0, 1.0, -1.0, 1.0, -1.0, 1.0, -1.0, -1.0, -1.0, -1.0, 1.0, 1.0, -1.0, 1.0, -1.0, -1.0, 1.0, 1.0, -1.0, -1.0, 1.0, -1.0, 1.0, 1.0, -1.0, -1.0, -1.0, 1.0, 1.0, 1.0, -1.0, 1.0, -1.0, 1.0, -1.0, -1.0, -1.0, 1.0, 1.0, -1.0, 1.0, 1.0, -1.0, -1.0, 1.0, -1.0], \"colorscale\": [[0.0, \"rgb(103,0,31)\"], [0.1, \"rgb(178,24,43)\"], [0.2, \"rgb(214,96,77)\"], [0.3, \"rgb(244,165,130)\"], [0.4, \"rgb(253,219,199)\"], [0.5, \"rgb(247,247,247)\"], [0.6, \"rgb(209,229,240)\"], [0.7, \"rgb(146,197,222)\"], [0.8, \"rgb(67,147,195)\"], [0.9, \"rgb(33,102,172)\"], [1.0, \"rgb(5,48,97)\"]], \"size\": 10}, \"mode\": \"markers\", \"showlegend\": false, \"type\": \"scatter\", \"x\": [0.9725536577231977, 0.019491049943163086, -0.3261625445080729, -0.44704571369240087, 0.7243178709197058, -0.7182255102951693, 0.47264983630721646, -0.31781396697724795, -0.565798722491812, -0.7516424445485406, 0.9064277463414698, 0.1388261937606614, 0.006734121920556335, -0.9316170039712195, -0.6882972744358813, -0.6605951231951612, -0.25321248465679247, 0.7166331758358033, 0.16692339546489388, -0.6444147596206389, -0.11525483630306499, 0.527841432578291, -0.8588531457788544, 0.27378846393161993, -0.6161425732957695, 0.02684041567968065, 0.19804003738063058, -0.3982750111338085, 0.1286401175491414, 0.6060552843619602, -0.07723144822941297, 0.499331276215482, -0.03437974727725113, 0.7885662075787618, 0.47568692224591014, -0.5385317172343462, 0.22831624369129289, -0.40135550815460563, 0.905104871218934, -0.8442755283476089, 0.15309623387915106, 0.988917399364774, 0.6816896655867875, 0.7433749682985351, -0.10159106198342616, 0.9579562655376166, -0.10553833260813805, 0.8634587601578927, 0.8646555861368634, -0.6786431513210474, -0.46142268529323727, -0.4091181302825009, -0.4549134086153268, 0.8337228110526111, 0.8004441207624269, -0.9180952510329765, 0.40158629051602635, 0.10569156374004929, 0.7078626116057507, -0.0951711863660667, 0.26123965422988493, -0.2594878980626407, 0.5183687857405443, -0.44194373083525007, -0.600166021957854, -0.5942531154432378, -0.25600910908792085, -0.8008364200053788, 0.8515459862364703, -0.5552556135718028, 0.8910818346697007, -0.3426447025396766, 0.41136619414680053, -0.010050984353052295, 0.12286427521441179, 0.15762317907372148, -0.6092157333802137, 0.41428631222104184, -0.5063273344072228, -0.831930791725936, 0.4325846429737308, -0.9039483562432415, -0.6073914050418245, 0.11828607010210024, -0.3201401681958016, 0.023528624464017822, 0.758340653368589, -0.001971932281604527, -0.757487383023058, 0.20161134225810917, -0.526803710381774, 0.96964443267549, -0.9140114545275728, 0.47924836079278155, 0.20917758459864522, -0.8232881330225967, 0.33553842636723363, -0.825269211928825, 0.9395001749451066, -0.528915419073273, -0.7275440258990524, -0.46082309953378586, -0.2865408436230812, 0.17254979366903855, 0.4578281510680873, -0.6856145842084127, 0.3055232405894468, 0.39364841389050476, -0.5766406693484727, -0.08177753137562571, 0.7385054711973713, 0.7338988709571135, 0.0950658181408961, -0.551288651921608, 0.6547346014519084, 0.04913052003556362, 0.6837540895908267, -0.08149309336160449, 0.024244114427812713, -0.6084849441037941, 0.7497215223686391, -0.8643797949389376, 0.4551305920714366, 0.6267271763217697, 0.11311305879994382, 0.4607340345486166, -0.23603890403983963, 0.27095706265079467], \"y\": [0.7467838916413092, -0.4563285714358485, -0.5660914699661515, -0.3133688144410849, -0.6866006599810228, 0.5141605612813767, -0.2886738167284366, 0.3336061011066529, 0.12285396486587463, -0.36052703109294426, -0.7252864184044392, 0.951330965846412, 0.3353284122962119, -0.08776126737914058, -0.047902067002260074, 0.792516674480342, -0.24061413905049656, 0.29212210976951436, 0.3367000536776703, 0.6984960336357258, 0.6629354195428565, 0.8393819531399234, -0.6876691671210882, 0.11139137486249662, -0.14868803469344027, -0.46124482853952586, -0.5596521097365512, -0.9032110318751712, 0.8720644097439192, 0.3946102986918616, 0.32486922204759705, 0.0629097846715081, -0.9414515340041523, 0.6630641672828721, 0.7969945967864307, -0.6400789804859051, -0.9666610359390004, 0.3370817554741512, 0.6324140243417036, -0.7307741424390188, -0.6454427515091816, -0.7652502648459365, -0.9719465403076488, 0.8048134902198818, 0.23636395135039812, -0.2054430316331246, -0.5334800404445439, -0.45439506256501216, -0.17353900642070808, -0.06239494378065569, 0.8885371441251959, -0.6968802958634406, 0.7299621780755394, 0.49956118838576424, -0.9551873695287953, 0.7971060225690321, 0.3386941058827615, 0.4454833239172371, 0.21803714974217692, -0.40668094421936885, 0.014069691027228881, -0.7235733083376845, 0.9179563995129252, 0.4616088042949624, 0.2875386363165633, -0.8991169853869507, -0.9718145894630112, 0.9986982113334157, 0.6298061105219981, -0.8051498448803929, 0.5242700527225772, 0.8519153764091825, -0.8864115557156702, -0.21038713262498665, 0.46220997701455047, -0.9241192629180921, 0.3322685164786827, -0.36390649398569397, 0.6769104884470312, 0.5125929008898573, -0.10394313895011908, 0.34583687442525646, 0.8879009117188754, 0.662663270691388, -0.5876643165013586, 0.9815757231941034, -0.8095957583356086, 0.20412673004798854, -0.2078590681273509, -0.07895601153470366, -0.7882805690318808, -0.9868691348997252, 0.5001637764123068, 0.9980899752666152, -0.6859758692237552, 0.705125845682028, -0.41442350224753355, -0.3737291924806321, 0.6237848987895114, -0.1377166217529011, -0.8273161933406503, -0.6602784251292135, 0.8702481457576814, -0.5413543691593758, 0.41998167505923734, 0.4195074439500295, -0.06372191839351271, -0.16567415060208135, -0.4600386908189473, 0.2488850534088871, 0.6172641530025427, 0.12414983656260947, -0.3893671299413666, -0.05606682092420123, -0.7179716345549318, 0.19117233377926945, -0.28238312533838283, -0.41261832868797343, -0.7441905883541504, 0.14516805031369695, 0.6847444864341203, -0.37961078026273043, 0.7892530045999011, 0.3423847537375695, 0.22800802602497483, -0.8084553708007709, -0.11950362927742897, -0.6228872650103252]}, {\"colorscale\": [[0.0, \"rgb(103,0,31)\"], [0.1, \"rgb(178,24,43)\"], [0.2, \"rgb(214,96,77)\"], [0.3, \"rgb(244,165,130)\"], [0.4, \"rgb(253,219,199)\"], [0.5, \"rgb(247,247,247)\"], [0.6, \"rgb(209,229,240)\"], [0.7, \"rgb(146,197,222)\"], [0.8, \"rgb(67,147,195)\"], [0.9, \"rgb(33,102,172)\"], [1.0, \"rgb(5,48,97)\"]], \"type\": \"contour\", \"x\": [-2.0, -1.7894736842105263, -1.5789473684210527, -1.368421052631579, -1.1578947368421053, -0.9473684210526316, -0.736842105263158, -0.5263157894736843, -0.3157894736842106, -0.10526315789473695, 0.10526315789473673, 0.3157894736842106, 0.5263157894736841, 0.7368421052631575, 0.9473684210526314, 1.1578947368421053, 1.3684210526315788, 1.5789473684210522, 1.789473684210526, 2.0], \"y\": [-1.5, -1.3421052631578947, -1.1842105263157894, -1.0263157894736843, -0.868421052631579, -0.7105263157894737, -0.5526315789473685, -0.3947368421052632, -0.23684210526315796, -0.07894736842105271, 0.07894736842105254, 0.23684210526315796, 0.39473684210526305, 0.5526315789473681, 0.7105263157894736, 0.868421052631579, 1.026315789473684, 1.1842105263157892, 1.3421052631578947, 1.5], \"z\": [[0.08651422127313967, 0.08651401200216807, 0.08650657360801156, 0.08638840897142477, 0.08546771522698768, 0.0815972955322197, 0.07216992983226224, 0.05632506236628432, 0.03966345818115193, 0.03534003368422896, 0.034538305399442436, 0.03893305709648312, 0.04864697973941039, 0.04550439834637632, 0.04444074875734228, 0.061689943085965156, 0.0796847137430459, 0.08570666296227157, 0.0864743218371491, 0.08651340728177442], [0.08651420099656552, 0.08651232518820369, 0.08644744458982045, 0.08548284559510463, 0.07890435014410097, 0.056038491425345796, 0.010449577935312149, -0.05376847795942084, -0.11608059377843753, -0.13132011367435148, -0.1356704948655093, -0.11833563549144012, -0.07866162525650976, -0.09306786467462412, -0.09682783609382205, -0.02136323032021903, 0.05681073428082493, 0.08299037762745182, 0.0863392743006814, 0.08651062297626642], [0.08651409753173908, 0.08650377965656565, 0.08615290116992927, 0.08115576826277511, 0.05033349443361781, -0.03858195675221897, -0.17625651532993064, -0.3282780213434789, -0.4600374412640993, -0.4861693271330173, -0.4995546513594997, -0.46224238217865554, -0.372866481289094, -0.4265231695929629, -0.43676485099136886, -0.22035890008413167, 0.001908746094896288, 0.0764273124282732, 0.08600982701563953, 0.08650375251961516], [0.08651379544122523, 0.08647896825797634, 0.08530708860240502, 0.06904804344630325, -0.02480772443234909, -0.257361414104024, -0.5279799527299626, -0.7333615106942305, -0.8764292782472308, -0.8778237525095498, -0.8965286821913685, -0.8593333788760682, -0.7635906965397253, -0.9068247162527846, -0.9209781477484874, -0.5001077859212303, -0.0755087192782906, 0.06705467702939091, 0.0855313828630815, 0.08649358856871224], [0.08651332596570602, 0.08644070466467539, 0.08401484581765105, 0.050835660023581586, -0.13418371149782377, -0.5535770328284095, -0.9406704142727015, -1.1049147220168336, -1.1530005338283693, -1.076333921455811, -1.0622148583033781, -1.0473320511046056, -1.0239618065572211, -1.235488987787749, -1.2077550992561268, -0.657308313629888, -0.12074032125624477, 0.061224001392880284, 0.08521584751858435, 0.08648654532086447], [0.08651301641407427, 0.08641653495964847, 0.08322264640330626, 0.03980635103133713, -0.20153644085420425, -0.7458665738593766, -1.2153733030367169, -1.2993147214874248, -1.2403613787203311, -1.153890589513848, -1.0696041902584785, -1.0137421430025801, -1.0148589510604156, -1.0662088061510087, -0.8824757337712361, -0.45925788600490036, -0.07388343843302862, 0.06579936459775852, 0.08540419473861954, 0.08648982973421807], [0.08651299980198927, 0.08641976709936379, 0.08342373330235017, 0.042917732723184054, -0.18957735610302806, -0.7539563500081305, -1.2299571715782396, -1.0941136037407064, -0.9563772759565966, -1.183896955188573, -1.1559628787097382, -0.9724854439300373, -0.874413288493756, -0.4934706144710381, -0.03557007925161618, 0.03319919146437086, 0.04736148974645835, 0.07870402940441006, 0.08599783794809396, 0.08650153823711196], [0.08651282082790973, 0.08641749625056544, 0.08359191921310559, 0.04632525239342853, -0.17809442288675426, -0.7603717150009122, -1.0937788762740974, -0.37668049081349575, -0.07143295744051258, -0.930020120461548, -1.2570197829474028, -1.0411877887486636, -0.8438089647350114, -0.013643394992456037, 0.7168806277343788, 0.4685687038095985, 0.15433386090301093, 0.09016179607707364, 0.08653098123551824, 0.08651219531915413], [0.08651215777497145, 0.08638302553518223, 0.08283022347725687, 0.037926250752484514, -0.23128867483992877, -0.9019330812092229, -1.0163254436391833, 0.391808541641419, 0.9423225135687756, -0.33279822111690616, -1.1294049191128646, -1.1636332852864115, -0.8920107433948845, 0.25803823918086627, 1.0627759313711844, 0.6392368461268402, 0.19459597196506312, 0.09461358354673514, 0.08674917034244123, 0.08651676518885505], [0.08651137262114997, 0.08633579099654964, 0.08164027882362102, 0.02519121760528377, -0.28638827622817, -0.9523703695483926, -0.8072457213577413, 0.8496381890340361, 1.462463339051261, 0.37653969560277784, -0.7074279477204397, -1.2504531001647345, -0.8270186576968628, 0.5578153639140062, 1.148630261903114, 0.6028216964450079, 0.1818549908476309, 0.09366370409606246, 0.08673428082591869, 0.08651699667219347], [0.08651102172086367, 0.08631040840182048, 0.08099277056248774, 0.02100651798801513, -0.26181671231614206, -0.6841266864429423, -0.21816334335384668, 1.1391346962011057, 1.532227180497446, 0.9731248104773381, -0.16889606993504186, -1.1635748269516573, -0.51568814701048, 0.9130583369826725, 1.1043326476060131, 0.4808116371610673, 0.15035703341392964, 0.09099961382146717, 0.08665076271773424, 0.08651601312446644], [0.08651207904656456, 0.08637218825457565, 0.08262648070544304, 0.0424959463445109, -0.11296582919630495, -0.1834410945371222, 0.4298335610327879, 1.2270665895888315, 1.3582697360056508, 1.2718412556189487, 0.3615551706704505, -0.6482859047978956, 0.09347044106362458, 1.1811861519583606, 0.9809785160003928, 0.3768400751572931, 0.13106964905057544, 0.08987896014082651, 0.08663696389257146, 0.08651629531544737], [0.08651521137430841, 0.08656906351178975, 0.08783822786966954, 0.1015396136742492, 0.17834935061295018, 0.4317923855898621, 0.8744680626424776, 1.1014434104931243, 1.0810827354368222, 1.276235173399447, 0.8734929508348602, 0.2143686234571705, 0.7248983008971625, 1.2434941445630974, 0.8856934420995217, 0.38178109022923185, 0.1476043036348707, 0.09285694033525321, 0.08681140972417231, 0.08652017755609061], [0.08651804844432505, 0.0867529995554798, 0.09279694793473534, 0.15720673251594697, 0.43645415744985505, 0.8999053877391892, 1.117531729159477, 1.0057802324657346, 0.9244366141035495, 1.1560049587381007, 1.1511079121352883, 0.832156267070955, 0.9949920770708137, 1.152577998468529, 0.9403828036199606, 0.5260663585025128, 0.20251325175190715, 0.10010088957345123, 0.08718535270523915, 0.08652798738706265], [0.08651797324920013, 0.08675600114016985, 0.0931083795255279, 0.16345336942929037, 0.47749574826555685, 0.9881270420260986, 1.164216510582107, 1.0303242821012375, 0.9635072712630002, 1.074078903678631, 1.1275413603562352, 0.989725489141216, 0.9978806326621129, 1.0558908563096434, 1.0289394045355926, 0.6582141020348921, 0.2477198399833715, 0.10582238325020385, 0.08747522681542583, 0.08653398621157993], [0.08651630142052066, 0.08665775519315075, 0.09079155396865768, 0.1419924490300449, 0.4024797049391792, 0.8959473209482061, 1.1271697329935253, 1.03578717496388, 0.9973194981021652, 1.0548505288797947, 1.0647118776931608, 1.0219451524937397, 1.0169143917432848, 0.9449756435303449, 0.8883851073257819, 0.5798139520321971, 0.22680691629079708, 0.10336586183878085, 0.08735368546071075, 0.08653149131297064], [0.08651511678251159, 0.08658533060401505, 0.08898009788091212, 0.12353871185536641, 0.32589508752711244, 0.7593389705247424, 0.9773649150011382, 0.8498309324821949, 0.8057043878759512, 0.903046022638023, 0.9398734730863854, 0.9588655242821016, 0.9483993042897105, 0.7253517326810905, 0.551561967681873, 0.35214449097825073, 0.16116866587234946, 0.095464409154091, 0.08695988416766748, 0.08652338965714622], [0.08651459774489287, 0.08654835253278982, 0.08783775448004054, 0.10814180013345712, 0.23481004301513247, 0.5166182795325566, 0.6461880253614203, 0.5162671834293489, 0.4695127390563608, 0.5680651711804694, 0.6266888340967081, 0.6655573211867188, 0.652783115800272, 0.43874287305696436, 0.2690070905739764, 0.17536576690617425, 0.11073588009801062, 0.08940361931070197, 0.08665795254010121, 0.08651717905281311], [0.0865143584987221, 0.08652729364281608, 0.08704284988389885, 0.09539509016983644, 0.1484345054704752, 0.26692795687176757, 0.31560201543488436, 0.24536637750976137, 0.21831009061433654, 0.26878839571988333, 0.3050296113049955, 0.32978209886539606, 0.32373166348875315, 0.21940049278664175, 0.13631691004579694, 0.10525015381009697, 0.09131541969170187, 0.08708128972942185, 0.0865423825186787, 0.0865148025399891], [0.08651425738975933, 0.0865175486359459, 0.08665040405418997, 0.08881993260689947, 0.10265552484952314, 0.13347692112484175, 0.14500680570001245, 0.12393232339452045, 0.11531818801476781, 0.12958006827596935, 0.14102065518465537, 0.1492319979727753, 0.14790638204267384, 0.11908516796515083, 0.09609487343579519, 0.08908111234570348, 0.08709902287707144, 0.08658193341398883, 0.08651757542076884, 0.0865142926325941]]}, {\"mode\": \"lines\", \"showlegend\": false, \"type\": \"scatter\", \"x\": [-1.0, -0.935483870967742, -0.8709677419354839, -0.8064516129032258, -0.7419354838709677, -0.6774193548387097, -0.6129032258064516, -0.5483870967741935, -0.4838709677419355, -0.4193548387096775, -0.3548387096774194, -0.29032258064516125, -0.22580645161290325, -0.16129032258064524, -0.09677419354838712, -0.032258064516129004, 0.032258064516129004, 0.09677419354838701, 0.16129032258064502, 0.22580645161290325, 0.29032258064516125, 0.35483870967741926, 0.4193548387096775, 0.4838709677419355, 0.5483870967741935, 0.6129032258064515, 0.6774193548387095, 0.7419354838709677, 0.8064516129032258, 0.8709677419354838, 0.935483870967742, 1.0], \"y\": [0.4794621373315692, 0.4996943124756602, 0.4683784955424315, 0.3887451965514415, 0.26900931121591354, 0.12152268008025488, -0.03850011565362892, -0.19455127591530402, -0.3305327107886136, -0.43241670422295087, -0.48969299993715243, -0.49645302950452086, -0.45199943467646087, -0.36091800619902337, -0.23260461798216914, -0.08029595764486853, 0.08029595764486853, 0.23260461798216892, 0.360918006199023, 0.45199943467646087, 0.49645302950452086, 0.4896929999371525, 0.43241670422295087, 0.3305327107886136, 0.19455127591530402, 0.038500115653629145, -0.12152268008025423, -0.26900931121591354, -0.3887451965514415, -0.4683784955424315, -0.4996943124756602, -0.4794621373315692]}],\n",
       "                        {\"template\": {\"data\": {\"bar\": [{\"error_x\": {\"color\": \"#2a3f5f\"}, \"error_y\": {\"color\": \"#2a3f5f\"}, \"marker\": {\"line\": {\"color\": \"#E5ECF6\", \"width\": 0.5}}, \"type\": \"bar\"}], \"barpolar\": [{\"marker\": {\"line\": {\"color\": \"#E5ECF6\", \"width\": 0.5}}, \"type\": \"barpolar\"}], \"carpet\": [{\"aaxis\": {\"endlinecolor\": \"#2a3f5f\", \"gridcolor\": \"white\", \"linecolor\": \"white\", \"minorgridcolor\": \"white\", \"startlinecolor\": \"#2a3f5f\"}, \"baxis\": {\"endlinecolor\": \"#2a3f5f\", \"gridcolor\": \"white\", \"linecolor\": \"white\", \"minorgridcolor\": \"white\", \"startlinecolor\": \"#2a3f5f\"}, \"type\": \"carpet\"}], \"choropleth\": [{\"colorbar\": {\"outlinewidth\": 0, \"ticks\": \"\"}, \"type\": \"choropleth\"}], \"contour\": [{\"colorbar\": {\"outlinewidth\": 0, \"ticks\": \"\"}, \"colorscale\": [[0.0, \"#0d0887\"], [0.1111111111111111, \"#46039f\"], [0.2222222222222222, \"#7201a8\"], [0.3333333333333333, \"#9c179e\"], [0.4444444444444444, \"#bd3786\"], [0.5555555555555556, \"#d8576b\"], [0.6666666666666666, \"#ed7953\"], [0.7777777777777778, \"#fb9f3a\"], [0.8888888888888888, \"#fdca26\"], [1.0, \"#f0f921\"]], \"type\": \"contour\"}], \"contourcarpet\": [{\"colorbar\": {\"outlinewidth\": 0, \"ticks\": \"\"}, \"type\": \"contourcarpet\"}], \"heatmap\": [{\"colorbar\": {\"outlinewidth\": 0, \"ticks\": \"\"}, \"colorscale\": [[0.0, \"#0d0887\"], [0.1111111111111111, \"#46039f\"], [0.2222222222222222, \"#7201a8\"], [0.3333333333333333, \"#9c179e\"], [0.4444444444444444, \"#bd3786\"], [0.5555555555555556, \"#d8576b\"], [0.6666666666666666, \"#ed7953\"], [0.7777777777777778, \"#fb9f3a\"], [0.8888888888888888, \"#fdca26\"], [1.0, \"#f0f921\"]], \"type\": \"heatmap\"}], \"heatmapgl\": [{\"colorbar\": {\"outlinewidth\": 0, \"ticks\": \"\"}, \"colorscale\": [[0.0, \"#0d0887\"], [0.1111111111111111, \"#46039f\"], [0.2222222222222222, \"#7201a8\"], [0.3333333333333333, \"#9c179e\"], [0.4444444444444444, \"#bd3786\"], [0.5555555555555556, \"#d8576b\"], [0.6666666666666666, \"#ed7953\"], [0.7777777777777778, \"#fb9f3a\"], [0.8888888888888888, \"#fdca26\"], [1.0, \"#f0f921\"]], \"type\": \"heatmapgl\"}], \"histogram\": [{\"marker\": {\"colorbar\": {\"outlinewidth\": 0, \"ticks\": \"\"}}, \"type\": \"histogram\"}], \"histogram2d\": [{\"colorbar\": {\"outlinewidth\": 0, \"ticks\": \"\"}, \"colorscale\": [[0.0, \"#0d0887\"], [0.1111111111111111, \"#46039f\"], [0.2222222222222222, \"#7201a8\"], [0.3333333333333333, \"#9c179e\"], [0.4444444444444444, \"#bd3786\"], [0.5555555555555556, \"#d8576b\"], [0.6666666666666666, \"#ed7953\"], [0.7777777777777778, \"#fb9f3a\"], [0.8888888888888888, \"#fdca26\"], [1.0, \"#f0f921\"]], \"type\": \"histogram2d\"}], \"histogram2dcontour\": [{\"colorbar\": {\"outlinewidth\": 0, \"ticks\": \"\"}, \"colorscale\": [[0.0, \"#0d0887\"], [0.1111111111111111, \"#46039f\"], [0.2222222222222222, \"#7201a8\"], [0.3333333333333333, \"#9c179e\"], [0.4444444444444444, \"#bd3786\"], [0.5555555555555556, \"#d8576b\"], [0.6666666666666666, \"#ed7953\"], [0.7777777777777778, \"#fb9f3a\"], [0.8888888888888888, \"#fdca26\"], [1.0, \"#f0f921\"]], \"type\": \"histogram2dcontour\"}], \"mesh3d\": [{\"colorbar\": {\"outlinewidth\": 0, \"ticks\": \"\"}, \"type\": \"mesh3d\"}], \"parcoords\": [{\"line\": {\"colorbar\": {\"outlinewidth\": 0, \"ticks\": \"\"}}, \"type\": \"parcoords\"}], \"pie\": [{\"automargin\": true, \"type\": \"pie\"}], \"scatter\": [{\"marker\": {\"colorbar\": {\"outlinewidth\": 0, \"ticks\": \"\"}}, \"type\": \"scatter\"}], \"scatter3d\": [{\"line\": {\"colorbar\": {\"outlinewidth\": 0, \"ticks\": \"\"}}, \"marker\": {\"colorbar\": {\"outlinewidth\": 0, \"ticks\": \"\"}}, \"type\": \"scatter3d\"}], \"scattercarpet\": [{\"marker\": {\"colorbar\": {\"outlinewidth\": 0, \"ticks\": \"\"}}, \"type\": \"scattercarpet\"}], \"scattergeo\": [{\"marker\": {\"colorbar\": {\"outlinewidth\": 0, \"ticks\": \"\"}}, \"type\": \"scattergeo\"}], \"scattergl\": [{\"marker\": {\"colorbar\": {\"outlinewidth\": 0, \"ticks\": \"\"}}, \"type\": \"scattergl\"}], \"scattermapbox\": [{\"marker\": {\"colorbar\": {\"outlinewidth\": 0, \"ticks\": \"\"}}, \"type\": \"scattermapbox\"}], \"scatterpolar\": [{\"marker\": {\"colorbar\": {\"outlinewidth\": 0, \"ticks\": \"\"}}, \"type\": \"scatterpolar\"}], \"scatterpolargl\": [{\"marker\": {\"colorbar\": {\"outlinewidth\": 0, \"ticks\": \"\"}}, \"type\": \"scatterpolargl\"}], \"scatterternary\": [{\"marker\": {\"colorbar\": {\"outlinewidth\": 0, \"ticks\": \"\"}}, \"type\": \"scatterternary\"}], \"surface\": [{\"colorbar\": {\"outlinewidth\": 0, \"ticks\": \"\"}, \"colorscale\": [[0.0, \"#0d0887\"], [0.1111111111111111, \"#46039f\"], [0.2222222222222222, \"#7201a8\"], [0.3333333333333333, \"#9c179e\"], [0.4444444444444444, \"#bd3786\"], [0.5555555555555556, \"#d8576b\"], [0.6666666666666666, \"#ed7953\"], [0.7777777777777778, \"#fb9f3a\"], [0.8888888888888888, \"#fdca26\"], [1.0, \"#f0f921\"]], \"type\": \"surface\"}], \"table\": [{\"cells\": {\"fill\": {\"color\": \"#EBF0F8\"}, \"line\": {\"color\": \"white\"}}, \"header\": {\"fill\": {\"color\": \"#C8D4E3\"}, \"line\": {\"color\": \"white\"}}, \"type\": \"table\"}]}, \"layout\": {\"annotationdefaults\": {\"arrowcolor\": \"#2a3f5f\", \"arrowhead\": 0, \"arrowwidth\": 1}, \"coloraxis\": {\"colorbar\": {\"outlinewidth\": 0, \"ticks\": \"\"}}, \"colorscale\": {\"diverging\": [[0, \"#8e0152\"], [0.1, \"#c51b7d\"], [0.2, \"#de77ae\"], [0.3, \"#f1b6da\"], [0.4, \"#fde0ef\"], [0.5, \"#f7f7f7\"], [0.6, \"#e6f5d0\"], [0.7, \"#b8e186\"], [0.8, \"#7fbc41\"], [0.9, \"#4d9221\"], [1, \"#276419\"]], \"sequential\": [[0.0, \"#0d0887\"], [0.1111111111111111, \"#46039f\"], [0.2222222222222222, \"#7201a8\"], [0.3333333333333333, \"#9c179e\"], [0.4444444444444444, \"#bd3786\"], [0.5555555555555556, \"#d8576b\"], [0.6666666666666666, \"#ed7953\"], [0.7777777777777778, \"#fb9f3a\"], [0.8888888888888888, \"#fdca26\"], [1.0, \"#f0f921\"]], \"sequentialminus\": [[0.0, \"#0d0887\"], [0.1111111111111111, \"#46039f\"], [0.2222222222222222, \"#7201a8\"], [0.3333333333333333, \"#9c179e\"], [0.4444444444444444, \"#bd3786\"], [0.5555555555555556, \"#d8576b\"], [0.6666666666666666, \"#ed7953\"], [0.7777777777777778, \"#fb9f3a\"], [0.8888888888888888, \"#fdca26\"], [1.0, \"#f0f921\"]]}, \"colorway\": [\"#636efa\", \"#EF553B\", \"#00cc96\", \"#ab63fa\", \"#FFA15A\", \"#19d3f3\", \"#FF6692\", \"#B6E880\", \"#FF97FF\", \"#FECB52\"], \"font\": {\"color\": \"#2a3f5f\"}, \"geo\": {\"bgcolor\": \"white\", \"lakecolor\": \"white\", \"landcolor\": \"#E5ECF6\", \"showlakes\": true, \"showland\": true, \"subunitcolor\": \"white\"}, \"hoverlabel\": {\"align\": \"left\"}, \"hovermode\": \"closest\", \"mapbox\": {\"style\": \"light\"}, \"paper_bgcolor\": \"white\", \"plot_bgcolor\": \"#E5ECF6\", \"polar\": {\"angularaxis\": {\"gridcolor\": \"white\", \"linecolor\": \"white\", \"ticks\": \"\"}, \"bgcolor\": \"#E5ECF6\", \"radialaxis\": {\"gridcolor\": \"white\", \"linecolor\": \"white\", \"ticks\": \"\"}}, \"scene\": {\"xaxis\": {\"backgroundcolor\": \"#E5ECF6\", \"gridcolor\": \"white\", \"gridwidth\": 2, \"linecolor\": \"white\", \"showbackground\": true, \"ticks\": \"\", \"zerolinecolor\": \"white\"}, \"yaxis\": {\"backgroundcolor\": \"#E5ECF6\", \"gridcolor\": \"white\", \"gridwidth\": 2, \"linecolor\": \"white\", \"showbackground\": true, \"ticks\": \"\", \"zerolinecolor\": \"white\"}, \"zaxis\": {\"backgroundcolor\": \"#E5ECF6\", \"gridcolor\": \"white\", \"gridwidth\": 2, \"linecolor\": \"white\", \"showbackground\": true, \"ticks\": \"\", \"zerolinecolor\": \"white\"}}, \"shapedefaults\": {\"line\": {\"color\": \"#2a3f5f\"}}, \"ternary\": {\"aaxis\": {\"gridcolor\": \"white\", \"linecolor\": \"white\", \"ticks\": \"\"}, \"baxis\": {\"gridcolor\": \"white\", \"linecolor\": \"white\", \"ticks\": \"\"}, \"bgcolor\": \"#E5ECF6\", \"caxis\": {\"gridcolor\": \"white\", \"linecolor\": \"white\", \"ticks\": \"\"}}, \"title\": {\"x\": 0.05}, \"xaxis\": {\"automargin\": true, \"gridcolor\": \"white\", \"linecolor\": \"white\", \"ticks\": \"\", \"title\": {\"standoff\": 15}, \"zerolinecolor\": \"white\", \"zerolinewidth\": 2}, \"yaxis\": {\"automargin\": true, \"gridcolor\": \"white\", \"linecolor\": \"white\", \"ticks\": \"\", \"title\": {\"standoff\": 15}, \"zerolinecolor\": \"white\", \"zerolinewidth\": 2}}}, \"title\": {\"text\": \"Decision function with RBF\"}, \"width\": 600},\n",
       "                        {\"responsive\": true}\n",
       "                    ).then(function(){\n",
       "                            \n",
       "var gd = document.getElementById('e21687d8-339d-4bf5-a2b6-e42871d0f736');\n",
       "var x = new MutationObserver(function (mutations, observer) {{\n",
       "        var display = window.getComputedStyle(gd).display;\n",
       "        if (!display || display === 'none') {{\n",
       "            console.log([gd, 'removed!']);\n",
       "            Plotly.purge(gd);\n",
       "            observer.disconnect();\n",
       "        }}\n",
       "}});\n",
       "\n",
       "// Listen for the removal of the full notebook cells\n",
       "var notebookContainer = gd.closest('#notebook-container');\n",
       "if (notebookContainer) {{\n",
       "    x.observe(notebookContainer, {childList: true});\n",
       "}}\n",
       "\n",
       "// Listen for the clearing of the current output cell\n",
       "var outputEl = gd.closest('.output');\n",
       "if (outputEl) {{\n",
       "    x.observe(outputEl, {childList: true});\n",
       "}}\n",
       "\n",
       "                        })\n",
       "                };\n",
       "                });\n",
       "            </script>\n",
       "        </div>"
      ]
     },
     "metadata": {},
     "output_type": "display_data"
    }
   ],
   "source": [
    "# SVM using RBF kernel\n",
    "\n",
    "# fit the model\n",
    "clf = svm.SVC(kernel=\"rbf\", gamma = 10)\n",
    "clf.fit(X, y)\n",
    "\n",
    "fig = go.Figure()\n",
    "plot_data_decision_function(X, y, clf, fig, \"Decision function with RBF\", 2, 1.5)\n",
    "# draw the sine function\n",
    "x_b = np.linspace(-1, 1, 32)\n",
    "fig.add_trace(go.Scatter(x=x_b, y=np.sin(5*x_b) / 2,\n",
    "                    mode='lines', showlegend=False))\n",
    "fig.show()"
   ]
  },
  {
   "cell_type": "code",
   "execution_count": 62,
   "metadata": {},
   "outputs": [],
   "source": [
    "save_figure_to_file(fig,'../Slides/scikitlearn','svm11')"
   ]
  }
 ],
 "metadata": {
  "@webio": {
   "lastCommId": null,
   "lastKernelId": null
  },
  "colab": {
   "collapsed_sections": [],
   "name": "svm.ipynb",
   "provenance": []
  },
  "kernelspec": {
   "display_name": "Python 3",
   "language": "python",
   "name": "python3"
  },
  "language_info": {
   "codemirror_mode": {
    "name": "ipython",
    "version": 3
   },
   "file_extension": ".py",
   "mimetype": "text/x-python",
   "name": "python",
   "nbconvert_exporter": "python",
   "pygments_lexer": "ipython3",
   "version": "3.7.6"
  }
 },
 "nbformat": 4,
 "nbformat_minor": 4
}
