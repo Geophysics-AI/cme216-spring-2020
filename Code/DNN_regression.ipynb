{
 "cells": [
  {
   "cell_type": "code",
   "execution_count": 175,
   "metadata": {},
   "outputs": [],
   "source": [
    "import numpy as np\n",
    "from numpy import ndarray"
   ]
  },
  {
   "cell_type": "code",
   "execution_count": 176,
   "metadata": {},
   "outputs": [],
   "source": [
    "import plotly.graph_objects as go\n",
    "def save_to_html(fig, path, file_name):\n",
    "    # Comment this line if you get an error\n",
    "    fig.write_html(path + '/' + file_name)"
   ]
  },
  {
   "cell_type": "code",
   "execution_count": 177,
   "metadata": {},
   "outputs": [
    {
     "data": {
      "application/vnd.plotly.v1+json": {
       "config": {
        "plotlyServerURL": "https://plot.ly"
       },
       "data": [
        {
         "name": "heaviside",
         "type": "scatter",
         "x": [
          -1,
          -0.001,
          0.001,
          1
         ],
         "y": [
          0,
          0,
          1,
          1
         ]
        }
       ],
       "layout": {
        "template": {
         "data": {
          "bar": [
           {
            "error_x": {
             "color": "#2a3f5f"
            },
            "error_y": {
             "color": "#2a3f5f"
            },
            "marker": {
             "line": {
              "color": "#E5ECF6",
              "width": 0.5
             }
            },
            "type": "bar"
           }
          ],
          "barpolar": [
           {
            "marker": {
             "line": {
              "color": "#E5ECF6",
              "width": 0.5
             }
            },
            "type": "barpolar"
           }
          ],
          "carpet": [
           {
            "aaxis": {
             "endlinecolor": "#2a3f5f",
             "gridcolor": "white",
             "linecolor": "white",
             "minorgridcolor": "white",
             "startlinecolor": "#2a3f5f"
            },
            "baxis": {
             "endlinecolor": "#2a3f5f",
             "gridcolor": "white",
             "linecolor": "white",
             "minorgridcolor": "white",
             "startlinecolor": "#2a3f5f"
            },
            "type": "carpet"
           }
          ],
          "choropleth": [
           {
            "colorbar": {
             "outlinewidth": 0,
             "ticks": ""
            },
            "type": "choropleth"
           }
          ],
          "contour": [
           {
            "colorbar": {
             "outlinewidth": 0,
             "ticks": ""
            },
            "colorscale": [
             [
              0,
              "#0d0887"
             ],
             [
              0.1111111111111111,
              "#46039f"
             ],
             [
              0.2222222222222222,
              "#7201a8"
             ],
             [
              0.3333333333333333,
              "#9c179e"
             ],
             [
              0.4444444444444444,
              "#bd3786"
             ],
             [
              0.5555555555555556,
              "#d8576b"
             ],
             [
              0.6666666666666666,
              "#ed7953"
             ],
             [
              0.7777777777777778,
              "#fb9f3a"
             ],
             [
              0.8888888888888888,
              "#fdca26"
             ],
             [
              1,
              "#f0f921"
             ]
            ],
            "type": "contour"
           }
          ],
          "contourcarpet": [
           {
            "colorbar": {
             "outlinewidth": 0,
             "ticks": ""
            },
            "type": "contourcarpet"
           }
          ],
          "heatmap": [
           {
            "colorbar": {
             "outlinewidth": 0,
             "ticks": ""
            },
            "colorscale": [
             [
              0,
              "#0d0887"
             ],
             [
              0.1111111111111111,
              "#46039f"
             ],
             [
              0.2222222222222222,
              "#7201a8"
             ],
             [
              0.3333333333333333,
              "#9c179e"
             ],
             [
              0.4444444444444444,
              "#bd3786"
             ],
             [
              0.5555555555555556,
              "#d8576b"
             ],
             [
              0.6666666666666666,
              "#ed7953"
             ],
             [
              0.7777777777777778,
              "#fb9f3a"
             ],
             [
              0.8888888888888888,
              "#fdca26"
             ],
             [
              1,
              "#f0f921"
             ]
            ],
            "type": "heatmap"
           }
          ],
          "heatmapgl": [
           {
            "colorbar": {
             "outlinewidth": 0,
             "ticks": ""
            },
            "colorscale": [
             [
              0,
              "#0d0887"
             ],
             [
              0.1111111111111111,
              "#46039f"
             ],
             [
              0.2222222222222222,
              "#7201a8"
             ],
             [
              0.3333333333333333,
              "#9c179e"
             ],
             [
              0.4444444444444444,
              "#bd3786"
             ],
             [
              0.5555555555555556,
              "#d8576b"
             ],
             [
              0.6666666666666666,
              "#ed7953"
             ],
             [
              0.7777777777777778,
              "#fb9f3a"
             ],
             [
              0.8888888888888888,
              "#fdca26"
             ],
             [
              1,
              "#f0f921"
             ]
            ],
            "type": "heatmapgl"
           }
          ],
          "histogram": [
           {
            "marker": {
             "colorbar": {
              "outlinewidth": 0,
              "ticks": ""
             }
            },
            "type": "histogram"
           }
          ],
          "histogram2d": [
           {
            "colorbar": {
             "outlinewidth": 0,
             "ticks": ""
            },
            "colorscale": [
             [
              0,
              "#0d0887"
             ],
             [
              0.1111111111111111,
              "#46039f"
             ],
             [
              0.2222222222222222,
              "#7201a8"
             ],
             [
              0.3333333333333333,
              "#9c179e"
             ],
             [
              0.4444444444444444,
              "#bd3786"
             ],
             [
              0.5555555555555556,
              "#d8576b"
             ],
             [
              0.6666666666666666,
              "#ed7953"
             ],
             [
              0.7777777777777778,
              "#fb9f3a"
             ],
             [
              0.8888888888888888,
              "#fdca26"
             ],
             [
              1,
              "#f0f921"
             ]
            ],
            "type": "histogram2d"
           }
          ],
          "histogram2dcontour": [
           {
            "colorbar": {
             "outlinewidth": 0,
             "ticks": ""
            },
            "colorscale": [
             [
              0,
              "#0d0887"
             ],
             [
              0.1111111111111111,
              "#46039f"
             ],
             [
              0.2222222222222222,
              "#7201a8"
             ],
             [
              0.3333333333333333,
              "#9c179e"
             ],
             [
              0.4444444444444444,
              "#bd3786"
             ],
             [
              0.5555555555555556,
              "#d8576b"
             ],
             [
              0.6666666666666666,
              "#ed7953"
             ],
             [
              0.7777777777777778,
              "#fb9f3a"
             ],
             [
              0.8888888888888888,
              "#fdca26"
             ],
             [
              1,
              "#f0f921"
             ]
            ],
            "type": "histogram2dcontour"
           }
          ],
          "mesh3d": [
           {
            "colorbar": {
             "outlinewidth": 0,
             "ticks": ""
            },
            "type": "mesh3d"
           }
          ],
          "parcoords": [
           {
            "line": {
             "colorbar": {
              "outlinewidth": 0,
              "ticks": ""
             }
            },
            "type": "parcoords"
           }
          ],
          "pie": [
           {
            "automargin": true,
            "type": "pie"
           }
          ],
          "scatter": [
           {
            "marker": {
             "colorbar": {
              "outlinewidth": 0,
              "ticks": ""
             }
            },
            "type": "scatter"
           }
          ],
          "scatter3d": [
           {
            "line": {
             "colorbar": {
              "outlinewidth": 0,
              "ticks": ""
             }
            },
            "marker": {
             "colorbar": {
              "outlinewidth": 0,
              "ticks": ""
             }
            },
            "type": "scatter3d"
           }
          ],
          "scattercarpet": [
           {
            "marker": {
             "colorbar": {
              "outlinewidth": 0,
              "ticks": ""
             }
            },
            "type": "scattercarpet"
           }
          ],
          "scattergeo": [
           {
            "marker": {
             "colorbar": {
              "outlinewidth": 0,
              "ticks": ""
             }
            },
            "type": "scattergeo"
           }
          ],
          "scattergl": [
           {
            "marker": {
             "colorbar": {
              "outlinewidth": 0,
              "ticks": ""
             }
            },
            "type": "scattergl"
           }
          ],
          "scattermapbox": [
           {
            "marker": {
             "colorbar": {
              "outlinewidth": 0,
              "ticks": ""
             }
            },
            "type": "scattermapbox"
           }
          ],
          "scatterpolar": [
           {
            "marker": {
             "colorbar": {
              "outlinewidth": 0,
              "ticks": ""
             }
            },
            "type": "scatterpolar"
           }
          ],
          "scatterpolargl": [
           {
            "marker": {
             "colorbar": {
              "outlinewidth": 0,
              "ticks": ""
             }
            },
            "type": "scatterpolargl"
           }
          ],
          "scatterternary": [
           {
            "marker": {
             "colorbar": {
              "outlinewidth": 0,
              "ticks": ""
             }
            },
            "type": "scatterternary"
           }
          ],
          "surface": [
           {
            "colorbar": {
             "outlinewidth": 0,
             "ticks": ""
            },
            "colorscale": [
             [
              0,
              "#0d0887"
             ],
             [
              0.1111111111111111,
              "#46039f"
             ],
             [
              0.2222222222222222,
              "#7201a8"
             ],
             [
              0.3333333333333333,
              "#9c179e"
             ],
             [
              0.4444444444444444,
              "#bd3786"
             ],
             [
              0.5555555555555556,
              "#d8576b"
             ],
             [
              0.6666666666666666,
              "#ed7953"
             ],
             [
              0.7777777777777778,
              "#fb9f3a"
             ],
             [
              0.8888888888888888,
              "#fdca26"
             ],
             [
              1,
              "#f0f921"
             ]
            ],
            "type": "surface"
           }
          ],
          "table": [
           {
            "cells": {
             "fill": {
              "color": "#EBF0F8"
             },
             "line": {
              "color": "white"
             }
            },
            "header": {
             "fill": {
              "color": "#C8D4E3"
             },
             "line": {
              "color": "white"
             }
            },
            "type": "table"
           }
          ]
         },
         "layout": {
          "annotationdefaults": {
           "arrowcolor": "#2a3f5f",
           "arrowhead": 0,
           "arrowwidth": 1
          },
          "coloraxis": {
           "colorbar": {
            "outlinewidth": 0,
            "ticks": ""
           }
          },
          "colorscale": {
           "diverging": [
            [
             0,
             "#8e0152"
            ],
            [
             0.1,
             "#c51b7d"
            ],
            [
             0.2,
             "#de77ae"
            ],
            [
             0.3,
             "#f1b6da"
            ],
            [
             0.4,
             "#fde0ef"
            ],
            [
             0.5,
             "#f7f7f7"
            ],
            [
             0.6,
             "#e6f5d0"
            ],
            [
             0.7,
             "#b8e186"
            ],
            [
             0.8,
             "#7fbc41"
            ],
            [
             0.9,
             "#4d9221"
            ],
            [
             1,
             "#276419"
            ]
           ],
           "sequential": [
            [
             0,
             "#0d0887"
            ],
            [
             0.1111111111111111,
             "#46039f"
            ],
            [
             0.2222222222222222,
             "#7201a8"
            ],
            [
             0.3333333333333333,
             "#9c179e"
            ],
            [
             0.4444444444444444,
             "#bd3786"
            ],
            [
             0.5555555555555556,
             "#d8576b"
            ],
            [
             0.6666666666666666,
             "#ed7953"
            ],
            [
             0.7777777777777778,
             "#fb9f3a"
            ],
            [
             0.8888888888888888,
             "#fdca26"
            ],
            [
             1,
             "#f0f921"
            ]
           ],
           "sequentialminus": [
            [
             0,
             "#0d0887"
            ],
            [
             0.1111111111111111,
             "#46039f"
            ],
            [
             0.2222222222222222,
             "#7201a8"
            ],
            [
             0.3333333333333333,
             "#9c179e"
            ],
            [
             0.4444444444444444,
             "#bd3786"
            ],
            [
             0.5555555555555556,
             "#d8576b"
            ],
            [
             0.6666666666666666,
             "#ed7953"
            ],
            [
             0.7777777777777778,
             "#fb9f3a"
            ],
            [
             0.8888888888888888,
             "#fdca26"
            ],
            [
             1,
             "#f0f921"
            ]
           ]
          },
          "colorway": [
           "#636efa",
           "#EF553B",
           "#00cc96",
           "#ab63fa",
           "#FFA15A",
           "#19d3f3",
           "#FF6692",
           "#B6E880",
           "#FF97FF",
           "#FECB52"
          ],
          "font": {
           "color": "#2a3f5f"
          },
          "geo": {
           "bgcolor": "white",
           "lakecolor": "white",
           "landcolor": "#E5ECF6",
           "showlakes": true,
           "showland": true,
           "subunitcolor": "white"
          },
          "hoverlabel": {
           "align": "left"
          },
          "hovermode": "closest",
          "mapbox": {
           "style": "light"
          },
          "paper_bgcolor": "white",
          "plot_bgcolor": "#E5ECF6",
          "polar": {
           "angularaxis": {
            "gridcolor": "white",
            "linecolor": "white",
            "ticks": ""
           },
           "bgcolor": "#E5ECF6",
           "radialaxis": {
            "gridcolor": "white",
            "linecolor": "white",
            "ticks": ""
           }
          },
          "scene": {
           "xaxis": {
            "backgroundcolor": "#E5ECF6",
            "gridcolor": "white",
            "gridwidth": 2,
            "linecolor": "white",
            "showbackground": true,
            "ticks": "",
            "zerolinecolor": "white"
           },
           "yaxis": {
            "backgroundcolor": "#E5ECF6",
            "gridcolor": "white",
            "gridwidth": 2,
            "linecolor": "white",
            "showbackground": true,
            "ticks": "",
            "zerolinecolor": "white"
           },
           "zaxis": {
            "backgroundcolor": "#E5ECF6",
            "gridcolor": "white",
            "gridwidth": 2,
            "linecolor": "white",
            "showbackground": true,
            "ticks": "",
            "zerolinecolor": "white"
           }
          },
          "shapedefaults": {
           "line": {
            "color": "#2a3f5f"
           }
          },
          "ternary": {
           "aaxis": {
            "gridcolor": "white",
            "linecolor": "white",
            "ticks": ""
           },
           "baxis": {
            "gridcolor": "white",
            "linecolor": "white",
            "ticks": ""
           },
           "bgcolor": "#E5ECF6",
           "caxis": {
            "gridcolor": "white",
            "linecolor": "white",
            "ticks": ""
           }
          },
          "title": {
           "x": 0.05
          },
          "xaxis": {
           "automargin": true,
           "gridcolor": "white",
           "linecolor": "white",
           "ticks": "",
           "title": {
            "standoff": 15
           },
           "zerolinecolor": "white",
           "zerolinewidth": 2
          },
          "yaxis": {
           "automargin": true,
           "gridcolor": "white",
           "linecolor": "white",
           "ticks": "",
           "title": {
            "standoff": 15
           },
           "zerolinecolor": "white",
           "zerolinewidth": 2
          }
         }
        },
        "title": {
         "text": "heaviside function"
        },
        "width": 600,
        "yaxis": {
         "range": [
          -0.1,
          1.1
         ]
        }
       }
      },
      "text/html": [
       "<div>\n",
       "        \n",
       "        \n",
       "            <div id=\"2fc0f1c0-d5ce-415e-8b1f-dfa7589fe2d0\" class=\"plotly-graph-div\" style=\"height:525px; width:600px;\"></div>\n",
       "            <script type=\"text/javascript\">\n",
       "                require([\"plotly\"], function(Plotly) {\n",
       "                    window.PLOTLYENV=window.PLOTLYENV || {};\n",
       "                    \n",
       "                if (document.getElementById(\"2fc0f1c0-d5ce-415e-8b1f-dfa7589fe2d0\")) {\n",
       "                    Plotly.newPlot(\n",
       "                        '2fc0f1c0-d5ce-415e-8b1f-dfa7589fe2d0',\n",
       "                        [{\"name\": \"heaviside\", \"type\": \"scatter\", \"x\": [-1.0, -0.001, 0.001, 1.0], \"y\": [0.0, 0.0, 1.0, 1.0]}],\n",
       "                        {\"template\": {\"data\": {\"bar\": [{\"error_x\": {\"color\": \"#2a3f5f\"}, \"error_y\": {\"color\": \"#2a3f5f\"}, \"marker\": {\"line\": {\"color\": \"#E5ECF6\", \"width\": 0.5}}, \"type\": \"bar\"}], \"barpolar\": [{\"marker\": {\"line\": {\"color\": \"#E5ECF6\", \"width\": 0.5}}, \"type\": \"barpolar\"}], \"carpet\": [{\"aaxis\": {\"endlinecolor\": \"#2a3f5f\", \"gridcolor\": \"white\", \"linecolor\": \"white\", \"minorgridcolor\": \"white\", \"startlinecolor\": \"#2a3f5f\"}, \"baxis\": {\"endlinecolor\": \"#2a3f5f\", \"gridcolor\": \"white\", \"linecolor\": \"white\", \"minorgridcolor\": \"white\", \"startlinecolor\": \"#2a3f5f\"}, \"type\": \"carpet\"}], \"choropleth\": [{\"colorbar\": {\"outlinewidth\": 0, \"ticks\": \"\"}, \"type\": \"choropleth\"}], \"contour\": [{\"colorbar\": {\"outlinewidth\": 0, \"ticks\": \"\"}, \"colorscale\": [[0.0, \"#0d0887\"], [0.1111111111111111, \"#46039f\"], [0.2222222222222222, \"#7201a8\"], [0.3333333333333333, \"#9c179e\"], [0.4444444444444444, \"#bd3786\"], [0.5555555555555556, \"#d8576b\"], [0.6666666666666666, \"#ed7953\"], [0.7777777777777778, \"#fb9f3a\"], [0.8888888888888888, \"#fdca26\"], [1.0, \"#f0f921\"]], \"type\": \"contour\"}], \"contourcarpet\": [{\"colorbar\": {\"outlinewidth\": 0, \"ticks\": \"\"}, \"type\": \"contourcarpet\"}], \"heatmap\": [{\"colorbar\": {\"outlinewidth\": 0, \"ticks\": \"\"}, \"colorscale\": [[0.0, \"#0d0887\"], [0.1111111111111111, \"#46039f\"], [0.2222222222222222, \"#7201a8\"], [0.3333333333333333, \"#9c179e\"], [0.4444444444444444, \"#bd3786\"], [0.5555555555555556, \"#d8576b\"], [0.6666666666666666, \"#ed7953\"], [0.7777777777777778, \"#fb9f3a\"], [0.8888888888888888, \"#fdca26\"], [1.0, \"#f0f921\"]], \"type\": \"heatmap\"}], \"heatmapgl\": [{\"colorbar\": {\"outlinewidth\": 0, \"ticks\": \"\"}, \"colorscale\": [[0.0, \"#0d0887\"], [0.1111111111111111, \"#46039f\"], [0.2222222222222222, \"#7201a8\"], [0.3333333333333333, \"#9c179e\"], [0.4444444444444444, \"#bd3786\"], [0.5555555555555556, \"#d8576b\"], [0.6666666666666666, \"#ed7953\"], [0.7777777777777778, \"#fb9f3a\"], [0.8888888888888888, \"#fdca26\"], [1.0, \"#f0f921\"]], \"type\": \"heatmapgl\"}], \"histogram\": [{\"marker\": {\"colorbar\": {\"outlinewidth\": 0, \"ticks\": \"\"}}, \"type\": \"histogram\"}], \"histogram2d\": [{\"colorbar\": {\"outlinewidth\": 0, \"ticks\": \"\"}, \"colorscale\": [[0.0, \"#0d0887\"], [0.1111111111111111, \"#46039f\"], [0.2222222222222222, \"#7201a8\"], [0.3333333333333333, \"#9c179e\"], [0.4444444444444444, \"#bd3786\"], [0.5555555555555556, \"#d8576b\"], [0.6666666666666666, \"#ed7953\"], [0.7777777777777778, \"#fb9f3a\"], [0.8888888888888888, \"#fdca26\"], [1.0, \"#f0f921\"]], \"type\": \"histogram2d\"}], \"histogram2dcontour\": [{\"colorbar\": {\"outlinewidth\": 0, \"ticks\": \"\"}, \"colorscale\": [[0.0, \"#0d0887\"], [0.1111111111111111, \"#46039f\"], [0.2222222222222222, \"#7201a8\"], [0.3333333333333333, \"#9c179e\"], [0.4444444444444444, \"#bd3786\"], [0.5555555555555556, \"#d8576b\"], [0.6666666666666666, \"#ed7953\"], [0.7777777777777778, \"#fb9f3a\"], [0.8888888888888888, \"#fdca26\"], [1.0, \"#f0f921\"]], \"type\": \"histogram2dcontour\"}], \"mesh3d\": [{\"colorbar\": {\"outlinewidth\": 0, \"ticks\": \"\"}, \"type\": \"mesh3d\"}], \"parcoords\": [{\"line\": {\"colorbar\": {\"outlinewidth\": 0, \"ticks\": \"\"}}, \"type\": \"parcoords\"}], \"pie\": [{\"automargin\": true, \"type\": \"pie\"}], \"scatter\": [{\"marker\": {\"colorbar\": {\"outlinewidth\": 0, \"ticks\": \"\"}}, \"type\": \"scatter\"}], \"scatter3d\": [{\"line\": {\"colorbar\": {\"outlinewidth\": 0, \"ticks\": \"\"}}, \"marker\": {\"colorbar\": {\"outlinewidth\": 0, \"ticks\": \"\"}}, \"type\": \"scatter3d\"}], \"scattercarpet\": [{\"marker\": {\"colorbar\": {\"outlinewidth\": 0, \"ticks\": \"\"}}, \"type\": \"scattercarpet\"}], \"scattergeo\": [{\"marker\": {\"colorbar\": {\"outlinewidth\": 0, \"ticks\": \"\"}}, \"type\": \"scattergeo\"}], \"scattergl\": [{\"marker\": {\"colorbar\": {\"outlinewidth\": 0, \"ticks\": \"\"}}, \"type\": \"scattergl\"}], \"scattermapbox\": [{\"marker\": {\"colorbar\": {\"outlinewidth\": 0, \"ticks\": \"\"}}, \"type\": \"scattermapbox\"}], \"scatterpolar\": [{\"marker\": {\"colorbar\": {\"outlinewidth\": 0, \"ticks\": \"\"}}, \"type\": \"scatterpolar\"}], \"scatterpolargl\": [{\"marker\": {\"colorbar\": {\"outlinewidth\": 0, \"ticks\": \"\"}}, \"type\": \"scatterpolargl\"}], \"scatterternary\": [{\"marker\": {\"colorbar\": {\"outlinewidth\": 0, \"ticks\": \"\"}}, \"type\": \"scatterternary\"}], \"surface\": [{\"colorbar\": {\"outlinewidth\": 0, \"ticks\": \"\"}, \"colorscale\": [[0.0, \"#0d0887\"], [0.1111111111111111, \"#46039f\"], [0.2222222222222222, \"#7201a8\"], [0.3333333333333333, \"#9c179e\"], [0.4444444444444444, \"#bd3786\"], [0.5555555555555556, \"#d8576b\"], [0.6666666666666666, \"#ed7953\"], [0.7777777777777778, \"#fb9f3a\"], [0.8888888888888888, \"#fdca26\"], [1.0, \"#f0f921\"]], \"type\": \"surface\"}], \"table\": [{\"cells\": {\"fill\": {\"color\": \"#EBF0F8\"}, \"line\": {\"color\": \"white\"}}, \"header\": {\"fill\": {\"color\": \"#C8D4E3\"}, \"line\": {\"color\": \"white\"}}, \"type\": \"table\"}]}, \"layout\": {\"annotationdefaults\": {\"arrowcolor\": \"#2a3f5f\", \"arrowhead\": 0, \"arrowwidth\": 1}, \"coloraxis\": {\"colorbar\": {\"outlinewidth\": 0, \"ticks\": \"\"}}, \"colorscale\": {\"diverging\": [[0, \"#8e0152\"], [0.1, \"#c51b7d\"], [0.2, \"#de77ae\"], [0.3, \"#f1b6da\"], [0.4, \"#fde0ef\"], [0.5, \"#f7f7f7\"], [0.6, \"#e6f5d0\"], [0.7, \"#b8e186\"], [0.8, \"#7fbc41\"], [0.9, \"#4d9221\"], [1, \"#276419\"]], \"sequential\": [[0.0, \"#0d0887\"], [0.1111111111111111, \"#46039f\"], [0.2222222222222222, \"#7201a8\"], [0.3333333333333333, \"#9c179e\"], [0.4444444444444444, \"#bd3786\"], [0.5555555555555556, \"#d8576b\"], [0.6666666666666666, \"#ed7953\"], [0.7777777777777778, \"#fb9f3a\"], [0.8888888888888888, \"#fdca26\"], [1.0, \"#f0f921\"]], \"sequentialminus\": [[0.0, \"#0d0887\"], [0.1111111111111111, \"#46039f\"], [0.2222222222222222, \"#7201a8\"], [0.3333333333333333, \"#9c179e\"], [0.4444444444444444, \"#bd3786\"], [0.5555555555555556, \"#d8576b\"], [0.6666666666666666, \"#ed7953\"], [0.7777777777777778, \"#fb9f3a\"], [0.8888888888888888, \"#fdca26\"], [1.0, \"#f0f921\"]]}, \"colorway\": [\"#636efa\", \"#EF553B\", \"#00cc96\", \"#ab63fa\", \"#FFA15A\", \"#19d3f3\", \"#FF6692\", \"#B6E880\", \"#FF97FF\", \"#FECB52\"], \"font\": {\"color\": \"#2a3f5f\"}, \"geo\": {\"bgcolor\": \"white\", \"lakecolor\": \"white\", \"landcolor\": \"#E5ECF6\", \"showlakes\": true, \"showland\": true, \"subunitcolor\": \"white\"}, \"hoverlabel\": {\"align\": \"left\"}, \"hovermode\": \"closest\", \"mapbox\": {\"style\": \"light\"}, \"paper_bgcolor\": \"white\", \"plot_bgcolor\": \"#E5ECF6\", \"polar\": {\"angularaxis\": {\"gridcolor\": \"white\", \"linecolor\": \"white\", \"ticks\": \"\"}, \"bgcolor\": \"#E5ECF6\", \"radialaxis\": {\"gridcolor\": \"white\", \"linecolor\": \"white\", \"ticks\": \"\"}}, \"scene\": {\"xaxis\": {\"backgroundcolor\": \"#E5ECF6\", \"gridcolor\": \"white\", \"gridwidth\": 2, \"linecolor\": \"white\", \"showbackground\": true, \"ticks\": \"\", \"zerolinecolor\": \"white\"}, \"yaxis\": {\"backgroundcolor\": \"#E5ECF6\", \"gridcolor\": \"white\", \"gridwidth\": 2, \"linecolor\": \"white\", \"showbackground\": true, \"ticks\": \"\", \"zerolinecolor\": \"white\"}, \"zaxis\": {\"backgroundcolor\": \"#E5ECF6\", \"gridcolor\": \"white\", \"gridwidth\": 2, \"linecolor\": \"white\", \"showbackground\": true, \"ticks\": \"\", \"zerolinecolor\": \"white\"}}, \"shapedefaults\": {\"line\": {\"color\": \"#2a3f5f\"}}, \"ternary\": {\"aaxis\": {\"gridcolor\": \"white\", \"linecolor\": \"white\", \"ticks\": \"\"}, \"baxis\": {\"gridcolor\": \"white\", \"linecolor\": \"white\", \"ticks\": \"\"}, \"bgcolor\": \"#E5ECF6\", \"caxis\": {\"gridcolor\": \"white\", \"linecolor\": \"white\", \"ticks\": \"\"}}, \"title\": {\"x\": 0.05}, \"xaxis\": {\"automargin\": true, \"gridcolor\": \"white\", \"linecolor\": \"white\", \"ticks\": \"\", \"title\": {\"standoff\": 15}, \"zerolinecolor\": \"white\", \"zerolinewidth\": 2}, \"yaxis\": {\"automargin\": true, \"gridcolor\": \"white\", \"linecolor\": \"white\", \"ticks\": \"\", \"title\": {\"standoff\": 15}, \"zerolinecolor\": \"white\", \"zerolinewidth\": 2}}}, \"title\": {\"text\": \"heaviside function\"}, \"width\": 600, \"yaxis\": {\"range\": [-0.1, 1.1]}},\n",
       "                        {\"responsive\": true}\n",
       "                    ).then(function(){\n",
       "                            \n",
       "var gd = document.getElementById('2fc0f1c0-d5ce-415e-8b1f-dfa7589fe2d0');\n",
       "var x = new MutationObserver(function (mutations, observer) {{\n",
       "        var display = window.getComputedStyle(gd).display;\n",
       "        if (!display || display === 'none') {{\n",
       "            console.log([gd, 'removed!']);\n",
       "            Plotly.purge(gd);\n",
       "            observer.disconnect();\n",
       "        }}\n",
       "}});\n",
       "\n",
       "// Listen for the removal of the full notebook cells\n",
       "var notebookContainer = gd.closest('#notebook-container');\n",
       "if (notebookContainer) {{\n",
       "    x.observe(notebookContainer, {childList: true});\n",
       "}}\n",
       "\n",
       "// Listen for the clearing of the current output cell\n",
       "var outputEl = gd.closest('.output');\n",
       "if (outputEl) {{\n",
       "    x.observe(outputEl, {childList: true});\n",
       "}}\n",
       "\n",
       "                        })\n",
       "                };\n",
       "                });\n",
       "            </script>\n",
       "        </div>"
      ]
     },
     "metadata": {},
     "output_type": "display_data"
    }
   ],
   "source": [
    "x = np.array([-1, -1e-3, 1e-3, 1])\n",
    "\n",
    "fig = go.Figure()\n",
    "fig.add_trace(go.Scatter(x=x, y= np.heaviside(x,0.5), name='heaviside'))\n",
    "fig.update_layout(width=600, yaxis_range=[-0.1, 1.1], title='heaviside function')\n",
    "fig.show()"
   ]
  },
  {
   "cell_type": "code",
   "execution_count": 178,
   "metadata": {},
   "outputs": [],
   "source": [
    "save_to_html(fig, '../Slides/ANN', 'fig1.html')"
   ]
  },
  {
   "cell_type": "code",
   "execution_count": 179,
   "metadata": {},
   "outputs": [
    {
     "data": {
      "application/vnd.plotly.v1+json": {
       "config": {
        "plotlyServerURL": "https://plot.ly"
       },
       "data": [
        {
         "name": "heaviside",
         "type": "scatter",
         "x": [
          -4,
          -3.871,
          -3.742,
          -3.613,
          -3.484,
          -3.355,
          -3.226,
          -3.097,
          -2.968,
          -2.839,
          -2.71,
          -2.581,
          -2.452,
          -2.323,
          -2.194,
          -2.065,
          -1.936,
          -1.807,
          -1.678,
          -1.549,
          -1.42,
          -1.291,
          -1.162,
          -1.033,
          -0.9039999999999999,
          -0.7749999999999999,
          -0.6459999999999999,
          -0.5169999999999999,
          -0.3879999999999999,
          -0.2589999999999999,
          -0.1299999999999999,
          -0.001,
          0.001,
          0.13,
          0.259,
          0.388,
          0.517,
          0.646,
          0.775,
          0.904,
          1.033,
          1.162,
          1.291,
          1.42,
          1.549,
          1.678,
          1.807,
          1.936,
          2.065,
          2.194,
          2.323,
          2.452,
          2.581,
          2.71,
          2.839,
          2.968,
          3.097,
          3.226,
          3.355,
          3.484,
          3.613,
          3.742,
          3.871,
          4
         ],
         "y": [
          0,
          0,
          0,
          0,
          0,
          0,
          0,
          0,
          0,
          0,
          0,
          0,
          0,
          0,
          0,
          0,
          0,
          0,
          0,
          0,
          0,
          0,
          0,
          0,
          0,
          0,
          0,
          0,
          0,
          0,
          0,
          0,
          1,
          1,
          1,
          1,
          1,
          1,
          1,
          1,
          1,
          1,
          1,
          1,
          1,
          1,
          1,
          1,
          1,
          1,
          1,
          1,
          1,
          1,
          1,
          1,
          1,
          1,
          1,
          1,
          1,
          1,
          1,
          1
         ]
        },
        {
         "name": "sigmoid",
         "type": "scatter",
         "x": [
          -4,
          -3.871,
          -3.742,
          -3.613,
          -3.484,
          -3.355,
          -3.226,
          -3.097,
          -2.968,
          -2.839,
          -2.71,
          -2.581,
          -2.452,
          -2.323,
          -2.194,
          -2.065,
          -1.936,
          -1.807,
          -1.678,
          -1.549,
          -1.42,
          -1.291,
          -1.162,
          -1.033,
          -0.9039999999999999,
          -0.7749999999999999,
          -0.6459999999999999,
          -0.5169999999999999,
          -0.3879999999999999,
          -0.2589999999999999,
          -0.1299999999999999,
          -0.001,
          0.001,
          0.13,
          0.259,
          0.388,
          0.517,
          0.646,
          0.775,
          0.904,
          1.033,
          1.162,
          1.291,
          1.42,
          1.549,
          1.678,
          1.807,
          1.936,
          2.065,
          2.194,
          2.323,
          2.452,
          2.581,
          2.71,
          2.839,
          2.968,
          3.097,
          3.226,
          3.355,
          3.484,
          3.613,
          3.742,
          3.871,
          4
         ],
         "y": [
          0.01798620996209156,
          0.020412182196494964,
          0.023157652221516414,
          0.026262492173732006,
          0.029770923767100447,
          0.03373181378146723,
          0.03819893501833422,
          0.04323117175676834,
          0.04889264343935163,
          0.05525271442514004,
          0.0623858513799944,
          0.07037128361418403,
          0.07929241601646826,
          0.0892359400292322,
          0.10029058651594644,
          0.1125454668507997,
          0.12608795682920257,
          0.14100109390264448,
          0.157360483511629,
          0.17523074616174983,
          0.19466158359157792,
          0.21568359854292674,
          0.23830406469663543,
          0.26250290511345764,
          0.2882291902580142,
          0.3153984996765693,
          0.3438914934485297,
          0.3735540011815519,
          0.40419885255655175,
          0.43560954621632425,
          0.4675456936126812,
          0.4997500000208333,
          0.5002499999791666,
          0.5324543063873187,
          0.5643904537836758,
          0.5958011474434483,
          0.6264459988184481,
          0.6561085065514702,
          0.6846015003234307,
          0.7117708097419858,
          0.7374970948865424,
          0.7616959353033645,
          0.7843164014570733,
          0.8053384164084221,
          0.8247692538382502,
          0.842639516488371,
          0.8589989060973555,
          0.8739120431707974,
          0.8874545331492003,
          0.8997094134840535,
          0.9107640599707678,
          0.9207075839835317,
          0.929628716385816,
          0.9376141486200055,
          0.9447472855748599,
          0.9511073565606484,
          0.9567688282432317,
          0.9618010649816657,
          0.9662681862185327,
          0.9702290762328996,
          0.973737507826268,
          0.9768423477784836,
          0.9795878178035051,
          0.9820137900379085
         ]
        },
        {
         "name": "tanh",
         "type": "scatter",
         "x": [
          -4,
          -3.871,
          -3.742,
          -3.613,
          -3.484,
          -3.355,
          -3.226,
          -3.097,
          -2.968,
          -2.839,
          -2.71,
          -2.581,
          -2.452,
          -2.323,
          -2.194,
          -2.065,
          -1.936,
          -1.807,
          -1.678,
          -1.549,
          -1.42,
          -1.291,
          -1.162,
          -1.033,
          -0.9039999999999999,
          -0.7749999999999999,
          -0.6459999999999999,
          -0.5169999999999999,
          -0.3879999999999999,
          -0.2589999999999999,
          -0.1299999999999999,
          -0.001,
          0.001,
          0.13,
          0.259,
          0.388,
          0.517,
          0.646,
          0.775,
          0.904,
          1.033,
          1.162,
          1.291,
          1.42,
          1.549,
          1.678,
          1.807,
          1.936,
          2.065,
          2.194,
          2.323,
          2.452,
          2.581,
          2.71,
          2.839,
          2.968,
          3.097,
          3.226,
          3.355,
          3.484,
          3.613,
          3.742,
          3.871,
          4
         ],
         "y": [
          -0.999329299739067,
          -0.9991319722966427,
          -0.9988766215562692,
          -0.9985462080232553,
          -0.9981187031207353,
          -0.9975656384199204,
          -0.9968502397526418,
          -0.9959250319872041,
          -0.9947287719279225,
          -0.9931825336262117,
          -0.9911847331832744,
          -0.9886048413304998,
          -0.9852754970575027,
          -0.9809827146454888,
          -0.975453888082098,
          -0.9683433720658203,
          -0.959215607483683,
          -0.9475261369775438,
          -0.9326015300077743,
          -0.9136203431859565,
          -0.8895989244341314,
          -0.8593882149050867,
          -0.8216905989615264,
          -0.7751087468840967,
          -0.7182399648128485,
          -0.6498274636719203,
          -0.5689710350887308,
          -0.47538128806594737,
          -0.3696347654786019,
          -0.253359961244539,
          -0.12927258360605823,
          -0.0009999996666668,
          0.0009999996666668,
          0.12927258360605834,
          0.25335996124453913,
          0.369634765478602,
          0.4753812880659475,
          0.5689710350887309,
          0.6498274636719203,
          0.7182399648128485,
          0.7751087468840967,
          0.8216905989615264,
          0.8593882149050867,
          0.8895989244341314,
          0.9136203431859565,
          0.9326015300077743,
          0.9475261369775438,
          0.959215607483683,
          0.9683433720658203,
          0.975453888082098,
          0.9809827146454888,
          0.9852754970575027,
          0.9886048413304998,
          0.9911847331832744,
          0.9931825336262117,
          0.9947287719279225,
          0.9959250319872041,
          0.9968502397526418,
          0.9975656384199204,
          0.9981187031207353,
          0.9985462080232553,
          0.9988766215562692,
          0.9991319722966427,
          0.999329299739067
         ]
        },
        {
         "name": "relu",
         "type": "scatter",
         "x": [
          -4,
          -3.871,
          -3.742,
          -3.613,
          -3.484,
          -3.355,
          -3.226,
          -3.097,
          -2.968,
          -2.839,
          -2.71,
          -2.581,
          -2.452,
          -2.323,
          -2.194,
          -2.065,
          -1.936,
          -1.807,
          -1.678,
          -1.549,
          -1.42,
          -1.291,
          -1.162,
          -1.033,
          -0.9039999999999999,
          -0.7749999999999999,
          -0.6459999999999999,
          -0.5169999999999999,
          -0.3879999999999999,
          -0.2589999999999999,
          -0.1299999999999999,
          -0.001,
          0.001,
          0.13,
          0.259,
          0.388,
          0.517,
          0.646,
          0.775,
          0.904,
          1.033,
          1.162,
          1.291,
          1.42,
          1.549,
          1.678,
          1.807,
          1.936,
          2.065,
          2.194,
          2.323,
          2.452,
          2.581,
          2.71,
          2.839,
          2.968,
          3.097,
          3.226,
          3.355,
          3.484,
          3.613,
          3.742,
          3.871,
          4
         ],
         "y": [
          0,
          0,
          0,
          0,
          0,
          0,
          0,
          0,
          0,
          0,
          0,
          0,
          0,
          0,
          0,
          0,
          0,
          0,
          0,
          0,
          0,
          0,
          0,
          0,
          0,
          0,
          0,
          0,
          0,
          0,
          0,
          0,
          0.001,
          0.13,
          0.259,
          0.388,
          0.517,
          0.646,
          0.775,
          0.904,
          1.033,
          1.162,
          1.291,
          1.42,
          1.549,
          1.678,
          1.807,
          1.936,
          2.065,
          2.194,
          2.323,
          2.452,
          2.581,
          2.71,
          2.839,
          2.968,
          3.097,
          3.226,
          3.355,
          3.484,
          3.613,
          3.742,
          3.871,
          4
         ]
        }
       ],
       "layout": {
        "template": {
         "data": {
          "bar": [
           {
            "error_x": {
             "color": "#2a3f5f"
            },
            "error_y": {
             "color": "#2a3f5f"
            },
            "marker": {
             "line": {
              "color": "#E5ECF6",
              "width": 0.5
             }
            },
            "type": "bar"
           }
          ],
          "barpolar": [
           {
            "marker": {
             "line": {
              "color": "#E5ECF6",
              "width": 0.5
             }
            },
            "type": "barpolar"
           }
          ],
          "carpet": [
           {
            "aaxis": {
             "endlinecolor": "#2a3f5f",
             "gridcolor": "white",
             "linecolor": "white",
             "minorgridcolor": "white",
             "startlinecolor": "#2a3f5f"
            },
            "baxis": {
             "endlinecolor": "#2a3f5f",
             "gridcolor": "white",
             "linecolor": "white",
             "minorgridcolor": "white",
             "startlinecolor": "#2a3f5f"
            },
            "type": "carpet"
           }
          ],
          "choropleth": [
           {
            "colorbar": {
             "outlinewidth": 0,
             "ticks": ""
            },
            "type": "choropleth"
           }
          ],
          "contour": [
           {
            "colorbar": {
             "outlinewidth": 0,
             "ticks": ""
            },
            "colorscale": [
             [
              0,
              "#0d0887"
             ],
             [
              0.1111111111111111,
              "#46039f"
             ],
             [
              0.2222222222222222,
              "#7201a8"
             ],
             [
              0.3333333333333333,
              "#9c179e"
             ],
             [
              0.4444444444444444,
              "#bd3786"
             ],
             [
              0.5555555555555556,
              "#d8576b"
             ],
             [
              0.6666666666666666,
              "#ed7953"
             ],
             [
              0.7777777777777778,
              "#fb9f3a"
             ],
             [
              0.8888888888888888,
              "#fdca26"
             ],
             [
              1,
              "#f0f921"
             ]
            ],
            "type": "contour"
           }
          ],
          "contourcarpet": [
           {
            "colorbar": {
             "outlinewidth": 0,
             "ticks": ""
            },
            "type": "contourcarpet"
           }
          ],
          "heatmap": [
           {
            "colorbar": {
             "outlinewidth": 0,
             "ticks": ""
            },
            "colorscale": [
             [
              0,
              "#0d0887"
             ],
             [
              0.1111111111111111,
              "#46039f"
             ],
             [
              0.2222222222222222,
              "#7201a8"
             ],
             [
              0.3333333333333333,
              "#9c179e"
             ],
             [
              0.4444444444444444,
              "#bd3786"
             ],
             [
              0.5555555555555556,
              "#d8576b"
             ],
             [
              0.6666666666666666,
              "#ed7953"
             ],
             [
              0.7777777777777778,
              "#fb9f3a"
             ],
             [
              0.8888888888888888,
              "#fdca26"
             ],
             [
              1,
              "#f0f921"
             ]
            ],
            "type": "heatmap"
           }
          ],
          "heatmapgl": [
           {
            "colorbar": {
             "outlinewidth": 0,
             "ticks": ""
            },
            "colorscale": [
             [
              0,
              "#0d0887"
             ],
             [
              0.1111111111111111,
              "#46039f"
             ],
             [
              0.2222222222222222,
              "#7201a8"
             ],
             [
              0.3333333333333333,
              "#9c179e"
             ],
             [
              0.4444444444444444,
              "#bd3786"
             ],
             [
              0.5555555555555556,
              "#d8576b"
             ],
             [
              0.6666666666666666,
              "#ed7953"
             ],
             [
              0.7777777777777778,
              "#fb9f3a"
             ],
             [
              0.8888888888888888,
              "#fdca26"
             ],
             [
              1,
              "#f0f921"
             ]
            ],
            "type": "heatmapgl"
           }
          ],
          "histogram": [
           {
            "marker": {
             "colorbar": {
              "outlinewidth": 0,
              "ticks": ""
             }
            },
            "type": "histogram"
           }
          ],
          "histogram2d": [
           {
            "colorbar": {
             "outlinewidth": 0,
             "ticks": ""
            },
            "colorscale": [
             [
              0,
              "#0d0887"
             ],
             [
              0.1111111111111111,
              "#46039f"
             ],
             [
              0.2222222222222222,
              "#7201a8"
             ],
             [
              0.3333333333333333,
              "#9c179e"
             ],
             [
              0.4444444444444444,
              "#bd3786"
             ],
             [
              0.5555555555555556,
              "#d8576b"
             ],
             [
              0.6666666666666666,
              "#ed7953"
             ],
             [
              0.7777777777777778,
              "#fb9f3a"
             ],
             [
              0.8888888888888888,
              "#fdca26"
             ],
             [
              1,
              "#f0f921"
             ]
            ],
            "type": "histogram2d"
           }
          ],
          "histogram2dcontour": [
           {
            "colorbar": {
             "outlinewidth": 0,
             "ticks": ""
            },
            "colorscale": [
             [
              0,
              "#0d0887"
             ],
             [
              0.1111111111111111,
              "#46039f"
             ],
             [
              0.2222222222222222,
              "#7201a8"
             ],
             [
              0.3333333333333333,
              "#9c179e"
             ],
             [
              0.4444444444444444,
              "#bd3786"
             ],
             [
              0.5555555555555556,
              "#d8576b"
             ],
             [
              0.6666666666666666,
              "#ed7953"
             ],
             [
              0.7777777777777778,
              "#fb9f3a"
             ],
             [
              0.8888888888888888,
              "#fdca26"
             ],
             [
              1,
              "#f0f921"
             ]
            ],
            "type": "histogram2dcontour"
           }
          ],
          "mesh3d": [
           {
            "colorbar": {
             "outlinewidth": 0,
             "ticks": ""
            },
            "type": "mesh3d"
           }
          ],
          "parcoords": [
           {
            "line": {
             "colorbar": {
              "outlinewidth": 0,
              "ticks": ""
             }
            },
            "type": "parcoords"
           }
          ],
          "pie": [
           {
            "automargin": true,
            "type": "pie"
           }
          ],
          "scatter": [
           {
            "marker": {
             "colorbar": {
              "outlinewidth": 0,
              "ticks": ""
             }
            },
            "type": "scatter"
           }
          ],
          "scatter3d": [
           {
            "line": {
             "colorbar": {
              "outlinewidth": 0,
              "ticks": ""
             }
            },
            "marker": {
             "colorbar": {
              "outlinewidth": 0,
              "ticks": ""
             }
            },
            "type": "scatter3d"
           }
          ],
          "scattercarpet": [
           {
            "marker": {
             "colorbar": {
              "outlinewidth": 0,
              "ticks": ""
             }
            },
            "type": "scattercarpet"
           }
          ],
          "scattergeo": [
           {
            "marker": {
             "colorbar": {
              "outlinewidth": 0,
              "ticks": ""
             }
            },
            "type": "scattergeo"
           }
          ],
          "scattergl": [
           {
            "marker": {
             "colorbar": {
              "outlinewidth": 0,
              "ticks": ""
             }
            },
            "type": "scattergl"
           }
          ],
          "scattermapbox": [
           {
            "marker": {
             "colorbar": {
              "outlinewidth": 0,
              "ticks": ""
             }
            },
            "type": "scattermapbox"
           }
          ],
          "scatterpolar": [
           {
            "marker": {
             "colorbar": {
              "outlinewidth": 0,
              "ticks": ""
             }
            },
            "type": "scatterpolar"
           }
          ],
          "scatterpolargl": [
           {
            "marker": {
             "colorbar": {
              "outlinewidth": 0,
              "ticks": ""
             }
            },
            "type": "scatterpolargl"
           }
          ],
          "scatterternary": [
           {
            "marker": {
             "colorbar": {
              "outlinewidth": 0,
              "ticks": ""
             }
            },
            "type": "scatterternary"
           }
          ],
          "surface": [
           {
            "colorbar": {
             "outlinewidth": 0,
             "ticks": ""
            },
            "colorscale": [
             [
              0,
              "#0d0887"
             ],
             [
              0.1111111111111111,
              "#46039f"
             ],
             [
              0.2222222222222222,
              "#7201a8"
             ],
             [
              0.3333333333333333,
              "#9c179e"
             ],
             [
              0.4444444444444444,
              "#bd3786"
             ],
             [
              0.5555555555555556,
              "#d8576b"
             ],
             [
              0.6666666666666666,
              "#ed7953"
             ],
             [
              0.7777777777777778,
              "#fb9f3a"
             ],
             [
              0.8888888888888888,
              "#fdca26"
             ],
             [
              1,
              "#f0f921"
             ]
            ],
            "type": "surface"
           }
          ],
          "table": [
           {
            "cells": {
             "fill": {
              "color": "#EBF0F8"
             },
             "line": {
              "color": "white"
             }
            },
            "header": {
             "fill": {
              "color": "#C8D4E3"
             },
             "line": {
              "color": "white"
             }
            },
            "type": "table"
           }
          ]
         },
         "layout": {
          "annotationdefaults": {
           "arrowcolor": "#2a3f5f",
           "arrowhead": 0,
           "arrowwidth": 1
          },
          "coloraxis": {
           "colorbar": {
            "outlinewidth": 0,
            "ticks": ""
           }
          },
          "colorscale": {
           "diverging": [
            [
             0,
             "#8e0152"
            ],
            [
             0.1,
             "#c51b7d"
            ],
            [
             0.2,
             "#de77ae"
            ],
            [
             0.3,
             "#f1b6da"
            ],
            [
             0.4,
             "#fde0ef"
            ],
            [
             0.5,
             "#f7f7f7"
            ],
            [
             0.6,
             "#e6f5d0"
            ],
            [
             0.7,
             "#b8e186"
            ],
            [
             0.8,
             "#7fbc41"
            ],
            [
             0.9,
             "#4d9221"
            ],
            [
             1,
             "#276419"
            ]
           ],
           "sequential": [
            [
             0,
             "#0d0887"
            ],
            [
             0.1111111111111111,
             "#46039f"
            ],
            [
             0.2222222222222222,
             "#7201a8"
            ],
            [
             0.3333333333333333,
             "#9c179e"
            ],
            [
             0.4444444444444444,
             "#bd3786"
            ],
            [
             0.5555555555555556,
             "#d8576b"
            ],
            [
             0.6666666666666666,
             "#ed7953"
            ],
            [
             0.7777777777777778,
             "#fb9f3a"
            ],
            [
             0.8888888888888888,
             "#fdca26"
            ],
            [
             1,
             "#f0f921"
            ]
           ],
           "sequentialminus": [
            [
             0,
             "#0d0887"
            ],
            [
             0.1111111111111111,
             "#46039f"
            ],
            [
             0.2222222222222222,
             "#7201a8"
            ],
            [
             0.3333333333333333,
             "#9c179e"
            ],
            [
             0.4444444444444444,
             "#bd3786"
            ],
            [
             0.5555555555555556,
             "#d8576b"
            ],
            [
             0.6666666666666666,
             "#ed7953"
            ],
            [
             0.7777777777777778,
             "#fb9f3a"
            ],
            [
             0.8888888888888888,
             "#fdca26"
            ],
            [
             1,
             "#f0f921"
            ]
           ]
          },
          "colorway": [
           "#636efa",
           "#EF553B",
           "#00cc96",
           "#ab63fa",
           "#FFA15A",
           "#19d3f3",
           "#FF6692",
           "#B6E880",
           "#FF97FF",
           "#FECB52"
          ],
          "font": {
           "color": "#2a3f5f"
          },
          "geo": {
           "bgcolor": "white",
           "lakecolor": "white",
           "landcolor": "#E5ECF6",
           "showlakes": true,
           "showland": true,
           "subunitcolor": "white"
          },
          "hoverlabel": {
           "align": "left"
          },
          "hovermode": "closest",
          "mapbox": {
           "style": "light"
          },
          "paper_bgcolor": "white",
          "plot_bgcolor": "#E5ECF6",
          "polar": {
           "angularaxis": {
            "gridcolor": "white",
            "linecolor": "white",
            "ticks": ""
           },
           "bgcolor": "#E5ECF6",
           "radialaxis": {
            "gridcolor": "white",
            "linecolor": "white",
            "ticks": ""
           }
          },
          "scene": {
           "xaxis": {
            "backgroundcolor": "#E5ECF6",
            "gridcolor": "white",
            "gridwidth": 2,
            "linecolor": "white",
            "showbackground": true,
            "ticks": "",
            "zerolinecolor": "white"
           },
           "yaxis": {
            "backgroundcolor": "#E5ECF6",
            "gridcolor": "white",
            "gridwidth": 2,
            "linecolor": "white",
            "showbackground": true,
            "ticks": "",
            "zerolinecolor": "white"
           },
           "zaxis": {
            "backgroundcolor": "#E5ECF6",
            "gridcolor": "white",
            "gridwidth": 2,
            "linecolor": "white",
            "showbackground": true,
            "ticks": "",
            "zerolinecolor": "white"
           }
          },
          "shapedefaults": {
           "line": {
            "color": "#2a3f5f"
           }
          },
          "ternary": {
           "aaxis": {
            "gridcolor": "white",
            "linecolor": "white",
            "ticks": ""
           },
           "baxis": {
            "gridcolor": "white",
            "linecolor": "white",
            "ticks": ""
           },
           "bgcolor": "#E5ECF6",
           "caxis": {
            "gridcolor": "white",
            "linecolor": "white",
            "ticks": ""
           }
          },
          "title": {
           "x": 0.05
          },
          "xaxis": {
           "automargin": true,
           "gridcolor": "white",
           "linecolor": "white",
           "ticks": "",
           "title": {
            "standoff": 15
           },
           "zerolinecolor": "white",
           "zerolinewidth": 2
          },
          "yaxis": {
           "automargin": true,
           "gridcolor": "white",
           "linecolor": "white",
           "ticks": "",
           "title": {
            "standoff": 15
           },
           "zerolinecolor": "white",
           "zerolinewidth": 2
          }
         }
        },
        "width": 600,
        "yaxis": {
         "range": [
          -1.1,
          2.1
         ]
        }
       }
      },
      "text/html": [
       "<div>\n",
       "        \n",
       "        \n",
       "            <div id=\"bbb13788-e59d-404a-8fa3-9a9cca570db0\" class=\"plotly-graph-div\" style=\"height:525px; width:600px;\"></div>\n",
       "            <script type=\"text/javascript\">\n",
       "                require([\"plotly\"], function(Plotly) {\n",
       "                    window.PLOTLYENV=window.PLOTLYENV || {};\n",
       "                    \n",
       "                if (document.getElementById(\"bbb13788-e59d-404a-8fa3-9a9cca570db0\")) {\n",
       "                    Plotly.newPlot(\n",
       "                        'bbb13788-e59d-404a-8fa3-9a9cca570db0',\n",
       "                        [{\"name\": \"heaviside\", \"type\": \"scatter\", \"x\": [-4.0, -3.871, -3.742, -3.613, -3.484, -3.355, -3.226, -3.097, -2.968, -2.839, -2.71, -2.581, -2.452, -2.323, -2.194, -2.065, -1.936, -1.807, -1.678, -1.549, -1.42, -1.291, -1.162, -1.033, -0.9039999999999999, -0.7749999999999999, -0.6459999999999999, -0.5169999999999999, -0.3879999999999999, -0.2589999999999999, -0.1299999999999999, -0.001, 0.001, 0.13, 0.259, 0.388, 0.517, 0.646, 0.775, 0.904, 1.033, 1.162, 1.291, 1.42, 1.549, 1.678, 1.807, 1.936, 2.065, 2.194, 2.323, 2.452, 2.581, 2.71, 2.839, 2.968, 3.097, 3.226, 3.355, 3.484, 3.613, 3.742, 3.871, 4.0], \"y\": [0.0, 0.0, 0.0, 0.0, 0.0, 0.0, 0.0, 0.0, 0.0, 0.0, 0.0, 0.0, 0.0, 0.0, 0.0, 0.0, 0.0, 0.0, 0.0, 0.0, 0.0, 0.0, 0.0, 0.0, 0.0, 0.0, 0.0, 0.0, 0.0, 0.0, 0.0, 0.0, 1.0, 1.0, 1.0, 1.0, 1.0, 1.0, 1.0, 1.0, 1.0, 1.0, 1.0, 1.0, 1.0, 1.0, 1.0, 1.0, 1.0, 1.0, 1.0, 1.0, 1.0, 1.0, 1.0, 1.0, 1.0, 1.0, 1.0, 1.0, 1.0, 1.0, 1.0, 1.0]}, {\"name\": \"sigmoid\", \"type\": \"scatter\", \"x\": [-4.0, -3.871, -3.742, -3.613, -3.484, -3.355, -3.226, -3.097, -2.968, -2.839, -2.71, -2.581, -2.452, -2.323, -2.194, -2.065, -1.936, -1.807, -1.678, -1.549, -1.42, -1.291, -1.162, -1.033, -0.9039999999999999, -0.7749999999999999, -0.6459999999999999, -0.5169999999999999, -0.3879999999999999, -0.2589999999999999, -0.1299999999999999, -0.001, 0.001, 0.13, 0.259, 0.388, 0.517, 0.646, 0.775, 0.904, 1.033, 1.162, 1.291, 1.42, 1.549, 1.678, 1.807, 1.936, 2.065, 2.194, 2.323, 2.452, 2.581, 2.71, 2.839, 2.968, 3.097, 3.226, 3.355, 3.484, 3.613, 3.742, 3.871, 4.0], \"y\": [0.01798620996209156, 0.020412182196494964, 0.023157652221516414, 0.026262492173732006, 0.029770923767100447, 0.03373181378146723, 0.03819893501833422, 0.04323117175676834, 0.04889264343935163, 0.05525271442514004, 0.0623858513799944, 0.07037128361418403, 0.07929241601646826, 0.0892359400292322, 0.10029058651594644, 0.1125454668507997, 0.12608795682920257, 0.14100109390264448, 0.157360483511629, 0.17523074616174983, 0.19466158359157792, 0.21568359854292674, 0.23830406469663543, 0.26250290511345764, 0.2882291902580142, 0.3153984996765693, 0.3438914934485297, 0.3735540011815519, 0.40419885255655175, 0.43560954621632425, 0.4675456936126812, 0.4997500000208333, 0.5002499999791666, 0.5324543063873187, 0.5643904537836758, 0.5958011474434483, 0.6264459988184481, 0.6561085065514702, 0.6846015003234307, 0.7117708097419858, 0.7374970948865424, 0.7616959353033645, 0.7843164014570733, 0.8053384164084221, 0.8247692538382502, 0.842639516488371, 0.8589989060973555, 0.8739120431707974, 0.8874545331492003, 0.8997094134840535, 0.9107640599707678, 0.9207075839835317, 0.929628716385816, 0.9376141486200055, 0.9447472855748599, 0.9511073565606484, 0.9567688282432317, 0.9618010649816657, 0.9662681862185327, 0.9702290762328996, 0.973737507826268, 0.9768423477784836, 0.9795878178035051, 0.9820137900379085]}, {\"name\": \"tanh\", \"type\": \"scatter\", \"x\": [-4.0, -3.871, -3.742, -3.613, -3.484, -3.355, -3.226, -3.097, -2.968, -2.839, -2.71, -2.581, -2.452, -2.323, -2.194, -2.065, -1.936, -1.807, -1.678, -1.549, -1.42, -1.291, -1.162, -1.033, -0.9039999999999999, -0.7749999999999999, -0.6459999999999999, -0.5169999999999999, -0.3879999999999999, -0.2589999999999999, -0.1299999999999999, -0.001, 0.001, 0.13, 0.259, 0.388, 0.517, 0.646, 0.775, 0.904, 1.033, 1.162, 1.291, 1.42, 1.549, 1.678, 1.807, 1.936, 2.065, 2.194, 2.323, 2.452, 2.581, 2.71, 2.839, 2.968, 3.097, 3.226, 3.355, 3.484, 3.613, 3.742, 3.871, 4.0], \"y\": [-0.999329299739067, -0.9991319722966427, -0.9988766215562692, -0.9985462080232553, -0.9981187031207353, -0.9975656384199204, -0.9968502397526418, -0.9959250319872041, -0.9947287719279225, -0.9931825336262117, -0.9911847331832744, -0.9886048413304998, -0.9852754970575027, -0.9809827146454888, -0.975453888082098, -0.9683433720658203, -0.959215607483683, -0.9475261369775438, -0.9326015300077743, -0.9136203431859565, -0.8895989244341314, -0.8593882149050867, -0.8216905989615264, -0.7751087468840967, -0.7182399648128485, -0.6498274636719203, -0.5689710350887308, -0.47538128806594737, -0.3696347654786019, -0.253359961244539, -0.12927258360605823, -0.0009999996666668, 0.0009999996666668, 0.12927258360605834, 0.25335996124453913, 0.369634765478602, 0.4753812880659475, 0.5689710350887309, 0.6498274636719203, 0.7182399648128485, 0.7751087468840967, 0.8216905989615264, 0.8593882149050867, 0.8895989244341314, 0.9136203431859565, 0.9326015300077743, 0.9475261369775438, 0.959215607483683, 0.9683433720658203, 0.975453888082098, 0.9809827146454888, 0.9852754970575027, 0.9886048413304998, 0.9911847331832744, 0.9931825336262117, 0.9947287719279225, 0.9959250319872041, 0.9968502397526418, 0.9975656384199204, 0.9981187031207353, 0.9985462080232553, 0.9988766215562692, 0.9991319722966427, 0.999329299739067]}, {\"name\": \"relu\", \"type\": \"scatter\", \"x\": [-4.0, -3.871, -3.742, -3.613, -3.484, -3.355, -3.226, -3.097, -2.968, -2.839, -2.71, -2.581, -2.452, -2.323, -2.194, -2.065, -1.936, -1.807, -1.678, -1.549, -1.42, -1.291, -1.162, -1.033, -0.9039999999999999, -0.7749999999999999, -0.6459999999999999, -0.5169999999999999, -0.3879999999999999, -0.2589999999999999, -0.1299999999999999, -0.001, 0.001, 0.13, 0.259, 0.388, 0.517, 0.646, 0.775, 0.904, 1.033, 1.162, 1.291, 1.42, 1.549, 1.678, 1.807, 1.936, 2.065, 2.194, 2.323, 2.452, 2.581, 2.71, 2.839, 2.968, 3.097, 3.226, 3.355, 3.484, 3.613, 3.742, 3.871, 4.0], \"y\": [0.0, 0.0, 0.0, 0.0, 0.0, 0.0, 0.0, 0.0, 0.0, 0.0, 0.0, 0.0, 0.0, 0.0, 0.0, 0.0, 0.0, 0.0, 0.0, 0.0, 0.0, 0.0, 0.0, 0.0, 0.0, 0.0, 0.0, 0.0, 0.0, 0.0, 0.0, 0.0, 0.001, 0.13, 0.259, 0.388, 0.517, 0.646, 0.775, 0.904, 1.033, 1.162, 1.291, 1.42, 1.549, 1.678, 1.807, 1.936, 2.065, 2.194, 2.323, 2.452, 2.581, 2.71, 2.839, 2.968, 3.097, 3.226, 3.355, 3.484, 3.613, 3.742, 3.871, 4.0]}],\n",
       "                        {\"template\": {\"data\": {\"bar\": [{\"error_x\": {\"color\": \"#2a3f5f\"}, \"error_y\": {\"color\": \"#2a3f5f\"}, \"marker\": {\"line\": {\"color\": \"#E5ECF6\", \"width\": 0.5}}, \"type\": \"bar\"}], \"barpolar\": [{\"marker\": {\"line\": {\"color\": \"#E5ECF6\", \"width\": 0.5}}, \"type\": \"barpolar\"}], \"carpet\": [{\"aaxis\": {\"endlinecolor\": \"#2a3f5f\", \"gridcolor\": \"white\", \"linecolor\": \"white\", \"minorgridcolor\": \"white\", \"startlinecolor\": \"#2a3f5f\"}, \"baxis\": {\"endlinecolor\": \"#2a3f5f\", \"gridcolor\": \"white\", \"linecolor\": \"white\", \"minorgridcolor\": \"white\", \"startlinecolor\": \"#2a3f5f\"}, \"type\": \"carpet\"}], \"choropleth\": [{\"colorbar\": {\"outlinewidth\": 0, \"ticks\": \"\"}, \"type\": \"choropleth\"}], \"contour\": [{\"colorbar\": {\"outlinewidth\": 0, \"ticks\": \"\"}, \"colorscale\": [[0.0, \"#0d0887\"], [0.1111111111111111, \"#46039f\"], [0.2222222222222222, \"#7201a8\"], [0.3333333333333333, \"#9c179e\"], [0.4444444444444444, \"#bd3786\"], [0.5555555555555556, \"#d8576b\"], [0.6666666666666666, \"#ed7953\"], [0.7777777777777778, \"#fb9f3a\"], [0.8888888888888888, \"#fdca26\"], [1.0, \"#f0f921\"]], \"type\": \"contour\"}], \"contourcarpet\": [{\"colorbar\": {\"outlinewidth\": 0, \"ticks\": \"\"}, \"type\": \"contourcarpet\"}], \"heatmap\": [{\"colorbar\": {\"outlinewidth\": 0, \"ticks\": \"\"}, \"colorscale\": [[0.0, \"#0d0887\"], [0.1111111111111111, \"#46039f\"], [0.2222222222222222, \"#7201a8\"], [0.3333333333333333, \"#9c179e\"], [0.4444444444444444, \"#bd3786\"], [0.5555555555555556, \"#d8576b\"], [0.6666666666666666, \"#ed7953\"], [0.7777777777777778, \"#fb9f3a\"], [0.8888888888888888, \"#fdca26\"], [1.0, \"#f0f921\"]], \"type\": \"heatmap\"}], \"heatmapgl\": [{\"colorbar\": {\"outlinewidth\": 0, \"ticks\": \"\"}, \"colorscale\": [[0.0, \"#0d0887\"], [0.1111111111111111, \"#46039f\"], [0.2222222222222222, \"#7201a8\"], [0.3333333333333333, \"#9c179e\"], [0.4444444444444444, \"#bd3786\"], [0.5555555555555556, \"#d8576b\"], [0.6666666666666666, \"#ed7953\"], [0.7777777777777778, \"#fb9f3a\"], [0.8888888888888888, \"#fdca26\"], [1.0, \"#f0f921\"]], \"type\": \"heatmapgl\"}], \"histogram\": [{\"marker\": {\"colorbar\": {\"outlinewidth\": 0, \"ticks\": \"\"}}, \"type\": \"histogram\"}], \"histogram2d\": [{\"colorbar\": {\"outlinewidth\": 0, \"ticks\": \"\"}, \"colorscale\": [[0.0, \"#0d0887\"], [0.1111111111111111, \"#46039f\"], [0.2222222222222222, \"#7201a8\"], [0.3333333333333333, \"#9c179e\"], [0.4444444444444444, \"#bd3786\"], [0.5555555555555556, \"#d8576b\"], [0.6666666666666666, \"#ed7953\"], [0.7777777777777778, \"#fb9f3a\"], [0.8888888888888888, \"#fdca26\"], [1.0, \"#f0f921\"]], \"type\": \"histogram2d\"}], \"histogram2dcontour\": [{\"colorbar\": {\"outlinewidth\": 0, \"ticks\": \"\"}, \"colorscale\": [[0.0, \"#0d0887\"], [0.1111111111111111, \"#46039f\"], [0.2222222222222222, \"#7201a8\"], [0.3333333333333333, \"#9c179e\"], [0.4444444444444444, \"#bd3786\"], [0.5555555555555556, \"#d8576b\"], [0.6666666666666666, \"#ed7953\"], [0.7777777777777778, \"#fb9f3a\"], [0.8888888888888888, \"#fdca26\"], [1.0, \"#f0f921\"]], \"type\": \"histogram2dcontour\"}], \"mesh3d\": [{\"colorbar\": {\"outlinewidth\": 0, \"ticks\": \"\"}, \"type\": \"mesh3d\"}], \"parcoords\": [{\"line\": {\"colorbar\": {\"outlinewidth\": 0, \"ticks\": \"\"}}, \"type\": \"parcoords\"}], \"pie\": [{\"automargin\": true, \"type\": \"pie\"}], \"scatter\": [{\"marker\": {\"colorbar\": {\"outlinewidth\": 0, \"ticks\": \"\"}}, \"type\": \"scatter\"}], \"scatter3d\": [{\"line\": {\"colorbar\": {\"outlinewidth\": 0, \"ticks\": \"\"}}, \"marker\": {\"colorbar\": {\"outlinewidth\": 0, \"ticks\": \"\"}}, \"type\": \"scatter3d\"}], \"scattercarpet\": [{\"marker\": {\"colorbar\": {\"outlinewidth\": 0, \"ticks\": \"\"}}, \"type\": \"scattercarpet\"}], \"scattergeo\": [{\"marker\": {\"colorbar\": {\"outlinewidth\": 0, \"ticks\": \"\"}}, \"type\": \"scattergeo\"}], \"scattergl\": [{\"marker\": {\"colorbar\": {\"outlinewidth\": 0, \"ticks\": \"\"}}, \"type\": \"scattergl\"}], \"scattermapbox\": [{\"marker\": {\"colorbar\": {\"outlinewidth\": 0, \"ticks\": \"\"}}, \"type\": \"scattermapbox\"}], \"scatterpolar\": [{\"marker\": {\"colorbar\": {\"outlinewidth\": 0, \"ticks\": \"\"}}, \"type\": \"scatterpolar\"}], \"scatterpolargl\": [{\"marker\": {\"colorbar\": {\"outlinewidth\": 0, \"ticks\": \"\"}}, \"type\": \"scatterpolargl\"}], \"scatterternary\": [{\"marker\": {\"colorbar\": {\"outlinewidth\": 0, \"ticks\": \"\"}}, \"type\": \"scatterternary\"}], \"surface\": [{\"colorbar\": {\"outlinewidth\": 0, \"ticks\": \"\"}, \"colorscale\": [[0.0, \"#0d0887\"], [0.1111111111111111, \"#46039f\"], [0.2222222222222222, \"#7201a8\"], [0.3333333333333333, \"#9c179e\"], [0.4444444444444444, \"#bd3786\"], [0.5555555555555556, \"#d8576b\"], [0.6666666666666666, \"#ed7953\"], [0.7777777777777778, \"#fb9f3a\"], [0.8888888888888888, \"#fdca26\"], [1.0, \"#f0f921\"]], \"type\": \"surface\"}], \"table\": [{\"cells\": {\"fill\": {\"color\": \"#EBF0F8\"}, \"line\": {\"color\": \"white\"}}, \"header\": {\"fill\": {\"color\": \"#C8D4E3\"}, \"line\": {\"color\": \"white\"}}, \"type\": \"table\"}]}, \"layout\": {\"annotationdefaults\": {\"arrowcolor\": \"#2a3f5f\", \"arrowhead\": 0, \"arrowwidth\": 1}, \"coloraxis\": {\"colorbar\": {\"outlinewidth\": 0, \"ticks\": \"\"}}, \"colorscale\": {\"diverging\": [[0, \"#8e0152\"], [0.1, \"#c51b7d\"], [0.2, \"#de77ae\"], [0.3, \"#f1b6da\"], [0.4, \"#fde0ef\"], [0.5, \"#f7f7f7\"], [0.6, \"#e6f5d0\"], [0.7, \"#b8e186\"], [0.8, \"#7fbc41\"], [0.9, \"#4d9221\"], [1, \"#276419\"]], \"sequential\": [[0.0, \"#0d0887\"], [0.1111111111111111, \"#46039f\"], [0.2222222222222222, \"#7201a8\"], [0.3333333333333333, \"#9c179e\"], [0.4444444444444444, \"#bd3786\"], [0.5555555555555556, \"#d8576b\"], [0.6666666666666666, \"#ed7953\"], [0.7777777777777778, \"#fb9f3a\"], [0.8888888888888888, \"#fdca26\"], [1.0, \"#f0f921\"]], \"sequentialminus\": [[0.0, \"#0d0887\"], [0.1111111111111111, \"#46039f\"], [0.2222222222222222, \"#7201a8\"], [0.3333333333333333, \"#9c179e\"], [0.4444444444444444, \"#bd3786\"], [0.5555555555555556, \"#d8576b\"], [0.6666666666666666, \"#ed7953\"], [0.7777777777777778, \"#fb9f3a\"], [0.8888888888888888, \"#fdca26\"], [1.0, \"#f0f921\"]]}, \"colorway\": [\"#636efa\", \"#EF553B\", \"#00cc96\", \"#ab63fa\", \"#FFA15A\", \"#19d3f3\", \"#FF6692\", \"#B6E880\", \"#FF97FF\", \"#FECB52\"], \"font\": {\"color\": \"#2a3f5f\"}, \"geo\": {\"bgcolor\": \"white\", \"lakecolor\": \"white\", \"landcolor\": \"#E5ECF6\", \"showlakes\": true, \"showland\": true, \"subunitcolor\": \"white\"}, \"hoverlabel\": {\"align\": \"left\"}, \"hovermode\": \"closest\", \"mapbox\": {\"style\": \"light\"}, \"paper_bgcolor\": \"white\", \"plot_bgcolor\": \"#E5ECF6\", \"polar\": {\"angularaxis\": {\"gridcolor\": \"white\", \"linecolor\": \"white\", \"ticks\": \"\"}, \"bgcolor\": \"#E5ECF6\", \"radialaxis\": {\"gridcolor\": \"white\", \"linecolor\": \"white\", \"ticks\": \"\"}}, \"scene\": {\"xaxis\": {\"backgroundcolor\": \"#E5ECF6\", \"gridcolor\": \"white\", \"gridwidth\": 2, \"linecolor\": \"white\", \"showbackground\": true, \"ticks\": \"\", \"zerolinecolor\": \"white\"}, \"yaxis\": {\"backgroundcolor\": \"#E5ECF6\", \"gridcolor\": \"white\", \"gridwidth\": 2, \"linecolor\": \"white\", \"showbackground\": true, \"ticks\": \"\", \"zerolinecolor\": \"white\"}, \"zaxis\": {\"backgroundcolor\": \"#E5ECF6\", \"gridcolor\": \"white\", \"gridwidth\": 2, \"linecolor\": \"white\", \"showbackground\": true, \"ticks\": \"\", \"zerolinecolor\": \"white\"}}, \"shapedefaults\": {\"line\": {\"color\": \"#2a3f5f\"}}, \"ternary\": {\"aaxis\": {\"gridcolor\": \"white\", \"linecolor\": \"white\", \"ticks\": \"\"}, \"baxis\": {\"gridcolor\": \"white\", \"linecolor\": \"white\", \"ticks\": \"\"}, \"bgcolor\": \"#E5ECF6\", \"caxis\": {\"gridcolor\": \"white\", \"linecolor\": \"white\", \"ticks\": \"\"}}, \"title\": {\"x\": 0.05}, \"xaxis\": {\"automargin\": true, \"gridcolor\": \"white\", \"linecolor\": \"white\", \"ticks\": \"\", \"title\": {\"standoff\": 15}, \"zerolinecolor\": \"white\", \"zerolinewidth\": 2}, \"yaxis\": {\"automargin\": true, \"gridcolor\": \"white\", \"linecolor\": \"white\", \"ticks\": \"\", \"title\": {\"standoff\": 15}, \"zerolinecolor\": \"white\", \"zerolinewidth\": 2}}}, \"width\": 600, \"yaxis\": {\"range\": [-1.1, 2.1]}},\n",
       "                        {\"responsive\": true}\n",
       "                    ).then(function(){\n",
       "                            \n",
       "var gd = document.getElementById('bbb13788-e59d-404a-8fa3-9a9cca570db0');\n",
       "var x = new MutationObserver(function (mutations, observer) {{\n",
       "        var display = window.getComputedStyle(gd).display;\n",
       "        if (!display || display === 'none') {{\n",
       "            console.log([gd, 'removed!']);\n",
       "            Plotly.purge(gd);\n",
       "            observer.disconnect();\n",
       "        }}\n",
       "}});\n",
       "\n",
       "// Listen for the removal of the full notebook cells\n",
       "var notebookContainer = gd.closest('#notebook-container');\n",
       "if (notebookContainer) {{\n",
       "    x.observe(notebookContainer, {childList: true});\n",
       "}}\n",
       "\n",
       "// Listen for the clearing of the current output cell\n",
       "var outputEl = gd.closest('.output');\n",
       "if (outputEl) {{\n",
       "    x.observe(outputEl, {childList: true});\n",
       "}}\n",
       "\n",
       "                        })\n",
       "                };\n",
       "                });\n",
       "            </script>\n",
       "        </div>"
      ]
     },
     "metadata": {},
     "output_type": "display_data"
    }
   ],
   "source": [
    "x = np.hstack( (np.linspace(-4,-1e-3,32), np.linspace(1e-3,4,32)) )\n",
    "\n",
    "fig = go.Figure()\n",
    "fig.add_trace(go.Scatter(x=x, y= np.heaviside(x,0.5), name='heaviside'))\n",
    "fig.add_trace(go.Scatter(x=x, y= 1/(1 + np.exp(-x)), name='sigmoid'))\n",
    "fig.add_trace(go.Scatter(x=x, y= np.tanh(x), name='tanh'))\n",
    "fig.add_trace(go.Scatter(x=x, y= np.maximum(x, 0), name='relu'))\n",
    "fig.update_layout(width=600, yaxis_range=[-1.1, 2.1])\n",
    "fig.show()"
   ]
  },
  {
   "cell_type": "code",
   "execution_count": 180,
   "metadata": {},
   "outputs": [
    {
     "data": {
      "application/vnd.plotly.v1+json": {
       "config": {
        "plotlyServerURL": "https://plot.ly"
       },
       "data": [
        {
         "line": {
          "width": 8
         },
         "name": "sigmoid",
         "type": "scatter",
         "x": [
          -4,
          -3.871,
          -3.742,
          -3.613,
          -3.484,
          -3.355,
          -3.226,
          -3.097,
          -2.968,
          -2.839,
          -2.71,
          -2.581,
          -2.452,
          -2.323,
          -2.194,
          -2.065,
          -1.936,
          -1.807,
          -1.678,
          -1.549,
          -1.42,
          -1.291,
          -1.162,
          -1.033,
          -0.9039999999999999,
          -0.7749999999999999,
          -0.6459999999999999,
          -0.5169999999999999,
          -0.3879999999999999,
          -0.2589999999999999,
          -0.1299999999999999,
          -0.001,
          0.001,
          0.13,
          0.259,
          0.388,
          0.517,
          0.646,
          0.775,
          0.904,
          1.033,
          1.162,
          1.291,
          1.42,
          1.549,
          1.678,
          1.807,
          1.936,
          2.065,
          2.194,
          2.323,
          2.452,
          2.581,
          2.71,
          2.839,
          2.968,
          3.097,
          3.226,
          3.355,
          3.484,
          3.613,
          3.742,
          3.871,
          4
         ],
         "y": [
          0.01798620996209156,
          0.020412182196494964,
          0.023157652221516414,
          0.026262492173732006,
          0.029770923767100447,
          0.03373181378146723,
          0.03819893501833422,
          0.04323117175676834,
          0.04889264343935163,
          0.05525271442514004,
          0.0623858513799944,
          0.07037128361418403,
          0.07929241601646826,
          0.0892359400292322,
          0.10029058651594644,
          0.1125454668507997,
          0.12608795682920257,
          0.14100109390264448,
          0.157360483511629,
          0.17523074616174983,
          0.19466158359157792,
          0.21568359854292674,
          0.23830406469663543,
          0.26250290511345764,
          0.2882291902580142,
          0.3153984996765693,
          0.3438914934485297,
          0.3735540011815519,
          0.40419885255655175,
          0.43560954621632425,
          0.4675456936126812,
          0.4997500000208333,
          0.5002499999791666,
          0.5324543063873187,
          0.5643904537836758,
          0.5958011474434483,
          0.6264459988184481,
          0.6561085065514702,
          0.6846015003234307,
          0.7117708097419858,
          0.7374970948865424,
          0.7616959353033645,
          0.7843164014570733,
          0.8053384164084221,
          0.8247692538382502,
          0.842639516488371,
          0.8589989060973555,
          0.8739120431707974,
          0.8874545331492003,
          0.8997094134840535,
          0.9107640599707678,
          0.9207075839835317,
          0.929628716385816,
          0.9376141486200055,
          0.9447472855748599,
          0.9511073565606484,
          0.9567688282432317,
          0.9618010649816657,
          0.9662681862185327,
          0.9702290762328996,
          0.973737507826268,
          0.9768423477784836,
          0.9795878178035051,
          0.9820137900379085
         ]
        }
       ],
       "layout": {
        "template": {
         "data": {
          "bar": [
           {
            "error_x": {
             "color": "#2a3f5f"
            },
            "error_y": {
             "color": "#2a3f5f"
            },
            "marker": {
             "line": {
              "color": "#E5ECF6",
              "width": 0.5
             }
            },
            "type": "bar"
           }
          ],
          "barpolar": [
           {
            "marker": {
             "line": {
              "color": "#E5ECF6",
              "width": 0.5
             }
            },
            "type": "barpolar"
           }
          ],
          "carpet": [
           {
            "aaxis": {
             "endlinecolor": "#2a3f5f",
             "gridcolor": "white",
             "linecolor": "white",
             "minorgridcolor": "white",
             "startlinecolor": "#2a3f5f"
            },
            "baxis": {
             "endlinecolor": "#2a3f5f",
             "gridcolor": "white",
             "linecolor": "white",
             "minorgridcolor": "white",
             "startlinecolor": "#2a3f5f"
            },
            "type": "carpet"
           }
          ],
          "choropleth": [
           {
            "colorbar": {
             "outlinewidth": 0,
             "ticks": ""
            },
            "type": "choropleth"
           }
          ],
          "contour": [
           {
            "colorbar": {
             "outlinewidth": 0,
             "ticks": ""
            },
            "colorscale": [
             [
              0,
              "#0d0887"
             ],
             [
              0.1111111111111111,
              "#46039f"
             ],
             [
              0.2222222222222222,
              "#7201a8"
             ],
             [
              0.3333333333333333,
              "#9c179e"
             ],
             [
              0.4444444444444444,
              "#bd3786"
             ],
             [
              0.5555555555555556,
              "#d8576b"
             ],
             [
              0.6666666666666666,
              "#ed7953"
             ],
             [
              0.7777777777777778,
              "#fb9f3a"
             ],
             [
              0.8888888888888888,
              "#fdca26"
             ],
             [
              1,
              "#f0f921"
             ]
            ],
            "type": "contour"
           }
          ],
          "contourcarpet": [
           {
            "colorbar": {
             "outlinewidth": 0,
             "ticks": ""
            },
            "type": "contourcarpet"
           }
          ],
          "heatmap": [
           {
            "colorbar": {
             "outlinewidth": 0,
             "ticks": ""
            },
            "colorscale": [
             [
              0,
              "#0d0887"
             ],
             [
              0.1111111111111111,
              "#46039f"
             ],
             [
              0.2222222222222222,
              "#7201a8"
             ],
             [
              0.3333333333333333,
              "#9c179e"
             ],
             [
              0.4444444444444444,
              "#bd3786"
             ],
             [
              0.5555555555555556,
              "#d8576b"
             ],
             [
              0.6666666666666666,
              "#ed7953"
             ],
             [
              0.7777777777777778,
              "#fb9f3a"
             ],
             [
              0.8888888888888888,
              "#fdca26"
             ],
             [
              1,
              "#f0f921"
             ]
            ],
            "type": "heatmap"
           }
          ],
          "heatmapgl": [
           {
            "colorbar": {
             "outlinewidth": 0,
             "ticks": ""
            },
            "colorscale": [
             [
              0,
              "#0d0887"
             ],
             [
              0.1111111111111111,
              "#46039f"
             ],
             [
              0.2222222222222222,
              "#7201a8"
             ],
             [
              0.3333333333333333,
              "#9c179e"
             ],
             [
              0.4444444444444444,
              "#bd3786"
             ],
             [
              0.5555555555555556,
              "#d8576b"
             ],
             [
              0.6666666666666666,
              "#ed7953"
             ],
             [
              0.7777777777777778,
              "#fb9f3a"
             ],
             [
              0.8888888888888888,
              "#fdca26"
             ],
             [
              1,
              "#f0f921"
             ]
            ],
            "type": "heatmapgl"
           }
          ],
          "histogram": [
           {
            "marker": {
             "colorbar": {
              "outlinewidth": 0,
              "ticks": ""
             }
            },
            "type": "histogram"
           }
          ],
          "histogram2d": [
           {
            "colorbar": {
             "outlinewidth": 0,
             "ticks": ""
            },
            "colorscale": [
             [
              0,
              "#0d0887"
             ],
             [
              0.1111111111111111,
              "#46039f"
             ],
             [
              0.2222222222222222,
              "#7201a8"
             ],
             [
              0.3333333333333333,
              "#9c179e"
             ],
             [
              0.4444444444444444,
              "#bd3786"
             ],
             [
              0.5555555555555556,
              "#d8576b"
             ],
             [
              0.6666666666666666,
              "#ed7953"
             ],
             [
              0.7777777777777778,
              "#fb9f3a"
             ],
             [
              0.8888888888888888,
              "#fdca26"
             ],
             [
              1,
              "#f0f921"
             ]
            ],
            "type": "histogram2d"
           }
          ],
          "histogram2dcontour": [
           {
            "colorbar": {
             "outlinewidth": 0,
             "ticks": ""
            },
            "colorscale": [
             [
              0,
              "#0d0887"
             ],
             [
              0.1111111111111111,
              "#46039f"
             ],
             [
              0.2222222222222222,
              "#7201a8"
             ],
             [
              0.3333333333333333,
              "#9c179e"
             ],
             [
              0.4444444444444444,
              "#bd3786"
             ],
             [
              0.5555555555555556,
              "#d8576b"
             ],
             [
              0.6666666666666666,
              "#ed7953"
             ],
             [
              0.7777777777777778,
              "#fb9f3a"
             ],
             [
              0.8888888888888888,
              "#fdca26"
             ],
             [
              1,
              "#f0f921"
             ]
            ],
            "type": "histogram2dcontour"
           }
          ],
          "mesh3d": [
           {
            "colorbar": {
             "outlinewidth": 0,
             "ticks": ""
            },
            "type": "mesh3d"
           }
          ],
          "parcoords": [
           {
            "line": {
             "colorbar": {
              "outlinewidth": 0,
              "ticks": ""
             }
            },
            "type": "parcoords"
           }
          ],
          "pie": [
           {
            "automargin": true,
            "type": "pie"
           }
          ],
          "scatter": [
           {
            "marker": {
             "colorbar": {
              "outlinewidth": 0,
              "ticks": ""
             }
            },
            "type": "scatter"
           }
          ],
          "scatter3d": [
           {
            "line": {
             "colorbar": {
              "outlinewidth": 0,
              "ticks": ""
             }
            },
            "marker": {
             "colorbar": {
              "outlinewidth": 0,
              "ticks": ""
             }
            },
            "type": "scatter3d"
           }
          ],
          "scattercarpet": [
           {
            "marker": {
             "colorbar": {
              "outlinewidth": 0,
              "ticks": ""
             }
            },
            "type": "scattercarpet"
           }
          ],
          "scattergeo": [
           {
            "marker": {
             "colorbar": {
              "outlinewidth": 0,
              "ticks": ""
             }
            },
            "type": "scattergeo"
           }
          ],
          "scattergl": [
           {
            "marker": {
             "colorbar": {
              "outlinewidth": 0,
              "ticks": ""
             }
            },
            "type": "scattergl"
           }
          ],
          "scattermapbox": [
           {
            "marker": {
             "colorbar": {
              "outlinewidth": 0,
              "ticks": ""
             }
            },
            "type": "scattermapbox"
           }
          ],
          "scatterpolar": [
           {
            "marker": {
             "colorbar": {
              "outlinewidth": 0,
              "ticks": ""
             }
            },
            "type": "scatterpolar"
           }
          ],
          "scatterpolargl": [
           {
            "marker": {
             "colorbar": {
              "outlinewidth": 0,
              "ticks": ""
             }
            },
            "type": "scatterpolargl"
           }
          ],
          "scatterternary": [
           {
            "marker": {
             "colorbar": {
              "outlinewidth": 0,
              "ticks": ""
             }
            },
            "type": "scatterternary"
           }
          ],
          "surface": [
           {
            "colorbar": {
             "outlinewidth": 0,
             "ticks": ""
            },
            "colorscale": [
             [
              0,
              "#0d0887"
             ],
             [
              0.1111111111111111,
              "#46039f"
             ],
             [
              0.2222222222222222,
              "#7201a8"
             ],
             [
              0.3333333333333333,
              "#9c179e"
             ],
             [
              0.4444444444444444,
              "#bd3786"
             ],
             [
              0.5555555555555556,
              "#d8576b"
             ],
             [
              0.6666666666666666,
              "#ed7953"
             ],
             [
              0.7777777777777778,
              "#fb9f3a"
             ],
             [
              0.8888888888888888,
              "#fdca26"
             ],
             [
              1,
              "#f0f921"
             ]
            ],
            "type": "surface"
           }
          ],
          "table": [
           {
            "cells": {
             "fill": {
              "color": "#EBF0F8"
             },
             "line": {
              "color": "white"
             }
            },
            "header": {
             "fill": {
              "color": "#C8D4E3"
             },
             "line": {
              "color": "white"
             }
            },
            "type": "table"
           }
          ]
         },
         "layout": {
          "annotationdefaults": {
           "arrowcolor": "#2a3f5f",
           "arrowhead": 0,
           "arrowwidth": 1
          },
          "coloraxis": {
           "colorbar": {
            "outlinewidth": 0,
            "ticks": ""
           }
          },
          "colorscale": {
           "diverging": [
            [
             0,
             "#8e0152"
            ],
            [
             0.1,
             "#c51b7d"
            ],
            [
             0.2,
             "#de77ae"
            ],
            [
             0.3,
             "#f1b6da"
            ],
            [
             0.4,
             "#fde0ef"
            ],
            [
             0.5,
             "#f7f7f7"
            ],
            [
             0.6,
             "#e6f5d0"
            ],
            [
             0.7,
             "#b8e186"
            ],
            [
             0.8,
             "#7fbc41"
            ],
            [
             0.9,
             "#4d9221"
            ],
            [
             1,
             "#276419"
            ]
           ],
           "sequential": [
            [
             0,
             "#0d0887"
            ],
            [
             0.1111111111111111,
             "#46039f"
            ],
            [
             0.2222222222222222,
             "#7201a8"
            ],
            [
             0.3333333333333333,
             "#9c179e"
            ],
            [
             0.4444444444444444,
             "#bd3786"
            ],
            [
             0.5555555555555556,
             "#d8576b"
            ],
            [
             0.6666666666666666,
             "#ed7953"
            ],
            [
             0.7777777777777778,
             "#fb9f3a"
            ],
            [
             0.8888888888888888,
             "#fdca26"
            ],
            [
             1,
             "#f0f921"
            ]
           ],
           "sequentialminus": [
            [
             0,
             "#0d0887"
            ],
            [
             0.1111111111111111,
             "#46039f"
            ],
            [
             0.2222222222222222,
             "#7201a8"
            ],
            [
             0.3333333333333333,
             "#9c179e"
            ],
            [
             0.4444444444444444,
             "#bd3786"
            ],
            [
             0.5555555555555556,
             "#d8576b"
            ],
            [
             0.6666666666666666,
             "#ed7953"
            ],
            [
             0.7777777777777778,
             "#fb9f3a"
            ],
            [
             0.8888888888888888,
             "#fdca26"
            ],
            [
             1,
             "#f0f921"
            ]
           ]
          },
          "colorway": [
           "#636efa",
           "#EF553B",
           "#00cc96",
           "#ab63fa",
           "#FFA15A",
           "#19d3f3",
           "#FF6692",
           "#B6E880",
           "#FF97FF",
           "#FECB52"
          ],
          "font": {
           "color": "#2a3f5f"
          },
          "geo": {
           "bgcolor": "white",
           "lakecolor": "white",
           "landcolor": "#E5ECF6",
           "showlakes": true,
           "showland": true,
           "subunitcolor": "white"
          },
          "hoverlabel": {
           "align": "left"
          },
          "hovermode": "closest",
          "mapbox": {
           "style": "light"
          },
          "paper_bgcolor": "white",
          "plot_bgcolor": "#E5ECF6",
          "polar": {
           "angularaxis": {
            "gridcolor": "white",
            "linecolor": "white",
            "ticks": ""
           },
           "bgcolor": "#E5ECF6",
           "radialaxis": {
            "gridcolor": "white",
            "linecolor": "white",
            "ticks": ""
           }
          },
          "scene": {
           "xaxis": {
            "backgroundcolor": "#E5ECF6",
            "gridcolor": "white",
            "gridwidth": 2,
            "linecolor": "white",
            "showbackground": true,
            "ticks": "",
            "zerolinecolor": "white"
           },
           "yaxis": {
            "backgroundcolor": "#E5ECF6",
            "gridcolor": "white",
            "gridwidth": 2,
            "linecolor": "white",
            "showbackground": true,
            "ticks": "",
            "zerolinecolor": "white"
           },
           "zaxis": {
            "backgroundcolor": "#E5ECF6",
            "gridcolor": "white",
            "gridwidth": 2,
            "linecolor": "white",
            "showbackground": true,
            "ticks": "",
            "zerolinecolor": "white"
           }
          },
          "shapedefaults": {
           "line": {
            "color": "#2a3f5f"
           }
          },
          "ternary": {
           "aaxis": {
            "gridcolor": "white",
            "linecolor": "white",
            "ticks": ""
           },
           "baxis": {
            "gridcolor": "white",
            "linecolor": "white",
            "ticks": ""
           },
           "bgcolor": "#E5ECF6",
           "caxis": {
            "gridcolor": "white",
            "linecolor": "white",
            "ticks": ""
           }
          },
          "title": {
           "x": 0.05
          },
          "xaxis": {
           "automargin": true,
           "gridcolor": "white",
           "linecolor": "white",
           "ticks": "",
           "title": {
            "standoff": 15
           },
           "zerolinecolor": "white",
           "zerolinewidth": 2
          },
          "yaxis": {
           "automargin": true,
           "gridcolor": "white",
           "linecolor": "white",
           "ticks": "",
           "title": {
            "standoff": 15
           },
           "zerolinecolor": "white",
           "zerolinewidth": 2
          }
         }
        },
        "width": 450,
        "yaxis": {
         "range": [
          -0.5,
          1.5
         ]
        }
       }
      },
      "text/html": [
       "<div>\n",
       "        \n",
       "        \n",
       "            <div id=\"b7c94098-d744-46ef-9713-02264d798198\" class=\"plotly-graph-div\" style=\"height:525px; width:450px;\"></div>\n",
       "            <script type=\"text/javascript\">\n",
       "                require([\"plotly\"], function(Plotly) {\n",
       "                    window.PLOTLYENV=window.PLOTLYENV || {};\n",
       "                    \n",
       "                if (document.getElementById(\"b7c94098-d744-46ef-9713-02264d798198\")) {\n",
       "                    Plotly.newPlot(\n",
       "                        'b7c94098-d744-46ef-9713-02264d798198',\n",
       "                        [{\"line\": {\"width\": 8}, \"name\": \"sigmoid\", \"type\": \"scatter\", \"x\": [-4.0, -3.871, -3.742, -3.613, -3.484, -3.355, -3.226, -3.097, -2.968, -2.839, -2.71, -2.581, -2.452, -2.323, -2.194, -2.065, -1.936, -1.807, -1.678, -1.549, -1.42, -1.291, -1.162, -1.033, -0.9039999999999999, -0.7749999999999999, -0.6459999999999999, -0.5169999999999999, -0.3879999999999999, -0.2589999999999999, -0.1299999999999999, -0.001, 0.001, 0.13, 0.259, 0.388, 0.517, 0.646, 0.775, 0.904, 1.033, 1.162, 1.291, 1.42, 1.549, 1.678, 1.807, 1.936, 2.065, 2.194, 2.323, 2.452, 2.581, 2.71, 2.839, 2.968, 3.097, 3.226, 3.355, 3.484, 3.613, 3.742, 3.871, 4.0], \"y\": [0.01798620996209156, 0.020412182196494964, 0.023157652221516414, 0.026262492173732006, 0.029770923767100447, 0.03373181378146723, 0.03819893501833422, 0.04323117175676834, 0.04889264343935163, 0.05525271442514004, 0.0623858513799944, 0.07037128361418403, 0.07929241601646826, 0.0892359400292322, 0.10029058651594644, 0.1125454668507997, 0.12608795682920257, 0.14100109390264448, 0.157360483511629, 0.17523074616174983, 0.19466158359157792, 0.21568359854292674, 0.23830406469663543, 0.26250290511345764, 0.2882291902580142, 0.3153984996765693, 0.3438914934485297, 0.3735540011815519, 0.40419885255655175, 0.43560954621632425, 0.4675456936126812, 0.4997500000208333, 0.5002499999791666, 0.5324543063873187, 0.5643904537836758, 0.5958011474434483, 0.6264459988184481, 0.6561085065514702, 0.6846015003234307, 0.7117708097419858, 0.7374970948865424, 0.7616959353033645, 0.7843164014570733, 0.8053384164084221, 0.8247692538382502, 0.842639516488371, 0.8589989060973555, 0.8739120431707974, 0.8874545331492003, 0.8997094134840535, 0.9107640599707678, 0.9207075839835317, 0.929628716385816, 0.9376141486200055, 0.9447472855748599, 0.9511073565606484, 0.9567688282432317, 0.9618010649816657, 0.9662681862185327, 0.9702290762328996, 0.973737507826268, 0.9768423477784836, 0.9795878178035051, 0.9820137900379085]}],\n",
       "                        {\"template\": {\"data\": {\"bar\": [{\"error_x\": {\"color\": \"#2a3f5f\"}, \"error_y\": {\"color\": \"#2a3f5f\"}, \"marker\": {\"line\": {\"color\": \"#E5ECF6\", \"width\": 0.5}}, \"type\": \"bar\"}], \"barpolar\": [{\"marker\": {\"line\": {\"color\": \"#E5ECF6\", \"width\": 0.5}}, \"type\": \"barpolar\"}], \"carpet\": [{\"aaxis\": {\"endlinecolor\": \"#2a3f5f\", \"gridcolor\": \"white\", \"linecolor\": \"white\", \"minorgridcolor\": \"white\", \"startlinecolor\": \"#2a3f5f\"}, \"baxis\": {\"endlinecolor\": \"#2a3f5f\", \"gridcolor\": \"white\", \"linecolor\": \"white\", \"minorgridcolor\": \"white\", \"startlinecolor\": \"#2a3f5f\"}, \"type\": \"carpet\"}], \"choropleth\": [{\"colorbar\": {\"outlinewidth\": 0, \"ticks\": \"\"}, \"type\": \"choropleth\"}], \"contour\": [{\"colorbar\": {\"outlinewidth\": 0, \"ticks\": \"\"}, \"colorscale\": [[0.0, \"#0d0887\"], [0.1111111111111111, \"#46039f\"], [0.2222222222222222, \"#7201a8\"], [0.3333333333333333, \"#9c179e\"], [0.4444444444444444, \"#bd3786\"], [0.5555555555555556, \"#d8576b\"], [0.6666666666666666, \"#ed7953\"], [0.7777777777777778, \"#fb9f3a\"], [0.8888888888888888, \"#fdca26\"], [1.0, \"#f0f921\"]], \"type\": \"contour\"}], \"contourcarpet\": [{\"colorbar\": {\"outlinewidth\": 0, \"ticks\": \"\"}, \"type\": \"contourcarpet\"}], \"heatmap\": [{\"colorbar\": {\"outlinewidth\": 0, \"ticks\": \"\"}, \"colorscale\": [[0.0, \"#0d0887\"], [0.1111111111111111, \"#46039f\"], [0.2222222222222222, \"#7201a8\"], [0.3333333333333333, \"#9c179e\"], [0.4444444444444444, \"#bd3786\"], [0.5555555555555556, \"#d8576b\"], [0.6666666666666666, \"#ed7953\"], [0.7777777777777778, \"#fb9f3a\"], [0.8888888888888888, \"#fdca26\"], [1.0, \"#f0f921\"]], \"type\": \"heatmap\"}], \"heatmapgl\": [{\"colorbar\": {\"outlinewidth\": 0, \"ticks\": \"\"}, \"colorscale\": [[0.0, \"#0d0887\"], [0.1111111111111111, \"#46039f\"], [0.2222222222222222, \"#7201a8\"], [0.3333333333333333, \"#9c179e\"], [0.4444444444444444, \"#bd3786\"], [0.5555555555555556, \"#d8576b\"], [0.6666666666666666, \"#ed7953\"], [0.7777777777777778, \"#fb9f3a\"], [0.8888888888888888, \"#fdca26\"], [1.0, \"#f0f921\"]], \"type\": \"heatmapgl\"}], \"histogram\": [{\"marker\": {\"colorbar\": {\"outlinewidth\": 0, \"ticks\": \"\"}}, \"type\": \"histogram\"}], \"histogram2d\": [{\"colorbar\": {\"outlinewidth\": 0, \"ticks\": \"\"}, \"colorscale\": [[0.0, \"#0d0887\"], [0.1111111111111111, \"#46039f\"], [0.2222222222222222, \"#7201a8\"], [0.3333333333333333, \"#9c179e\"], [0.4444444444444444, \"#bd3786\"], [0.5555555555555556, \"#d8576b\"], [0.6666666666666666, \"#ed7953\"], [0.7777777777777778, \"#fb9f3a\"], [0.8888888888888888, \"#fdca26\"], [1.0, \"#f0f921\"]], \"type\": \"histogram2d\"}], \"histogram2dcontour\": [{\"colorbar\": {\"outlinewidth\": 0, \"ticks\": \"\"}, \"colorscale\": [[0.0, \"#0d0887\"], [0.1111111111111111, \"#46039f\"], [0.2222222222222222, \"#7201a8\"], [0.3333333333333333, \"#9c179e\"], [0.4444444444444444, \"#bd3786\"], [0.5555555555555556, \"#d8576b\"], [0.6666666666666666, \"#ed7953\"], [0.7777777777777778, \"#fb9f3a\"], [0.8888888888888888, \"#fdca26\"], [1.0, \"#f0f921\"]], \"type\": \"histogram2dcontour\"}], \"mesh3d\": [{\"colorbar\": {\"outlinewidth\": 0, \"ticks\": \"\"}, \"type\": \"mesh3d\"}], \"parcoords\": [{\"line\": {\"colorbar\": {\"outlinewidth\": 0, \"ticks\": \"\"}}, \"type\": \"parcoords\"}], \"pie\": [{\"automargin\": true, \"type\": \"pie\"}], \"scatter\": [{\"marker\": {\"colorbar\": {\"outlinewidth\": 0, \"ticks\": \"\"}}, \"type\": \"scatter\"}], \"scatter3d\": [{\"line\": {\"colorbar\": {\"outlinewidth\": 0, \"ticks\": \"\"}}, \"marker\": {\"colorbar\": {\"outlinewidth\": 0, \"ticks\": \"\"}}, \"type\": \"scatter3d\"}], \"scattercarpet\": [{\"marker\": {\"colorbar\": {\"outlinewidth\": 0, \"ticks\": \"\"}}, \"type\": \"scattercarpet\"}], \"scattergeo\": [{\"marker\": {\"colorbar\": {\"outlinewidth\": 0, \"ticks\": \"\"}}, \"type\": \"scattergeo\"}], \"scattergl\": [{\"marker\": {\"colorbar\": {\"outlinewidth\": 0, \"ticks\": \"\"}}, \"type\": \"scattergl\"}], \"scattermapbox\": [{\"marker\": {\"colorbar\": {\"outlinewidth\": 0, \"ticks\": \"\"}}, \"type\": \"scattermapbox\"}], \"scatterpolar\": [{\"marker\": {\"colorbar\": {\"outlinewidth\": 0, \"ticks\": \"\"}}, \"type\": \"scatterpolar\"}], \"scatterpolargl\": [{\"marker\": {\"colorbar\": {\"outlinewidth\": 0, \"ticks\": \"\"}}, \"type\": \"scatterpolargl\"}], \"scatterternary\": [{\"marker\": {\"colorbar\": {\"outlinewidth\": 0, \"ticks\": \"\"}}, \"type\": \"scatterternary\"}], \"surface\": [{\"colorbar\": {\"outlinewidth\": 0, \"ticks\": \"\"}, \"colorscale\": [[0.0, \"#0d0887\"], [0.1111111111111111, \"#46039f\"], [0.2222222222222222, \"#7201a8\"], [0.3333333333333333, \"#9c179e\"], [0.4444444444444444, \"#bd3786\"], [0.5555555555555556, \"#d8576b\"], [0.6666666666666666, \"#ed7953\"], [0.7777777777777778, \"#fb9f3a\"], [0.8888888888888888, \"#fdca26\"], [1.0, \"#f0f921\"]], \"type\": \"surface\"}], \"table\": [{\"cells\": {\"fill\": {\"color\": \"#EBF0F8\"}, \"line\": {\"color\": \"white\"}}, \"header\": {\"fill\": {\"color\": \"#C8D4E3\"}, \"line\": {\"color\": \"white\"}}, \"type\": \"table\"}]}, \"layout\": {\"annotationdefaults\": {\"arrowcolor\": \"#2a3f5f\", \"arrowhead\": 0, \"arrowwidth\": 1}, \"coloraxis\": {\"colorbar\": {\"outlinewidth\": 0, \"ticks\": \"\"}}, \"colorscale\": {\"diverging\": [[0, \"#8e0152\"], [0.1, \"#c51b7d\"], [0.2, \"#de77ae\"], [0.3, \"#f1b6da\"], [0.4, \"#fde0ef\"], [0.5, \"#f7f7f7\"], [0.6, \"#e6f5d0\"], [0.7, \"#b8e186\"], [0.8, \"#7fbc41\"], [0.9, \"#4d9221\"], [1, \"#276419\"]], \"sequential\": [[0.0, \"#0d0887\"], [0.1111111111111111, \"#46039f\"], [0.2222222222222222, \"#7201a8\"], [0.3333333333333333, \"#9c179e\"], [0.4444444444444444, \"#bd3786\"], [0.5555555555555556, \"#d8576b\"], [0.6666666666666666, \"#ed7953\"], [0.7777777777777778, \"#fb9f3a\"], [0.8888888888888888, \"#fdca26\"], [1.0, \"#f0f921\"]], \"sequentialminus\": [[0.0, \"#0d0887\"], [0.1111111111111111, \"#46039f\"], [0.2222222222222222, \"#7201a8\"], [0.3333333333333333, \"#9c179e\"], [0.4444444444444444, \"#bd3786\"], [0.5555555555555556, \"#d8576b\"], [0.6666666666666666, \"#ed7953\"], [0.7777777777777778, \"#fb9f3a\"], [0.8888888888888888, \"#fdca26\"], [1.0, \"#f0f921\"]]}, \"colorway\": [\"#636efa\", \"#EF553B\", \"#00cc96\", \"#ab63fa\", \"#FFA15A\", \"#19d3f3\", \"#FF6692\", \"#B6E880\", \"#FF97FF\", \"#FECB52\"], \"font\": {\"color\": \"#2a3f5f\"}, \"geo\": {\"bgcolor\": \"white\", \"lakecolor\": \"white\", \"landcolor\": \"#E5ECF6\", \"showlakes\": true, \"showland\": true, \"subunitcolor\": \"white\"}, \"hoverlabel\": {\"align\": \"left\"}, \"hovermode\": \"closest\", \"mapbox\": {\"style\": \"light\"}, \"paper_bgcolor\": \"white\", \"plot_bgcolor\": \"#E5ECF6\", \"polar\": {\"angularaxis\": {\"gridcolor\": \"white\", \"linecolor\": \"white\", \"ticks\": \"\"}, \"bgcolor\": \"#E5ECF6\", \"radialaxis\": {\"gridcolor\": \"white\", \"linecolor\": \"white\", \"ticks\": \"\"}}, \"scene\": {\"xaxis\": {\"backgroundcolor\": \"#E5ECF6\", \"gridcolor\": \"white\", \"gridwidth\": 2, \"linecolor\": \"white\", \"showbackground\": true, \"ticks\": \"\", \"zerolinecolor\": \"white\"}, \"yaxis\": {\"backgroundcolor\": \"#E5ECF6\", \"gridcolor\": \"white\", \"gridwidth\": 2, \"linecolor\": \"white\", \"showbackground\": true, \"ticks\": \"\", \"zerolinecolor\": \"white\"}, \"zaxis\": {\"backgroundcolor\": \"#E5ECF6\", \"gridcolor\": \"white\", \"gridwidth\": 2, \"linecolor\": \"white\", \"showbackground\": true, \"ticks\": \"\", \"zerolinecolor\": \"white\"}}, \"shapedefaults\": {\"line\": {\"color\": \"#2a3f5f\"}}, \"ternary\": {\"aaxis\": {\"gridcolor\": \"white\", \"linecolor\": \"white\", \"ticks\": \"\"}, \"baxis\": {\"gridcolor\": \"white\", \"linecolor\": \"white\", \"ticks\": \"\"}, \"bgcolor\": \"#E5ECF6\", \"caxis\": {\"gridcolor\": \"white\", \"linecolor\": \"white\", \"ticks\": \"\"}}, \"title\": {\"x\": 0.05}, \"xaxis\": {\"automargin\": true, \"gridcolor\": \"white\", \"linecolor\": \"white\", \"ticks\": \"\", \"title\": {\"standoff\": 15}, \"zerolinecolor\": \"white\", \"zerolinewidth\": 2}, \"yaxis\": {\"automargin\": true, \"gridcolor\": \"white\", \"linecolor\": \"white\", \"ticks\": \"\", \"title\": {\"standoff\": 15}, \"zerolinecolor\": \"white\", \"zerolinewidth\": 2}}}, \"width\": 450, \"yaxis\": {\"range\": [-0.5, 1.5]}},\n",
       "                        {\"responsive\": true}\n",
       "                    ).then(function(){\n",
       "                            \n",
       "var gd = document.getElementById('b7c94098-d744-46ef-9713-02264d798198');\n",
       "var x = new MutationObserver(function (mutations, observer) {{\n",
       "        var display = window.getComputedStyle(gd).display;\n",
       "        if (!display || display === 'none') {{\n",
       "            console.log([gd, 'removed!']);\n",
       "            Plotly.purge(gd);\n",
       "            observer.disconnect();\n",
       "        }}\n",
       "}});\n",
       "\n",
       "// Listen for the removal of the full notebook cells\n",
       "var notebookContainer = gd.closest('#notebook-container');\n",
       "if (notebookContainer) {{\n",
       "    x.observe(notebookContainer, {childList: true});\n",
       "}}\n",
       "\n",
       "// Listen for the clearing of the current output cell\n",
       "var outputEl = gd.closest('.output');\n",
       "if (outputEl) {{\n",
       "    x.observe(outputEl, {childList: true});\n",
       "}}\n",
       "\n",
       "                        })\n",
       "                };\n",
       "                });\n",
       "            </script>\n",
       "        </div>"
      ]
     },
     "metadata": {},
     "output_type": "display_data"
    }
   ],
   "source": [
    "x = np.hstack( (np.linspace(-4,-1e-3,32), np.linspace(1e-3,4,32)) )\n",
    "\n",
    "fig = go.Figure()\n",
    "fig.add_trace(go.Scatter(x=x, y= 1/(1 + np.exp(-x)), name='sigmoid', line_width=8))\n",
    "fig.update_layout(width=450, yaxis_range=[-0.5, 1.5])\n",
    "fig.show()"
   ]
  },
  {
   "cell_type": "code",
   "execution_count": 181,
   "metadata": {},
   "outputs": [],
   "source": [
    "save_to_html(fig, '../Slides/ANN', 'fig2.html')"
   ]
  },
  {
   "cell_type": "code",
   "execution_count": 182,
   "metadata": {},
   "outputs": [],
   "source": [
    "def fun(x):\n",
    "    return 1. / (1. + x**2)\n",
    "\n",
    "X_train = np.linspace(-1,1,1025)\n",
    "y_train = fun(X_train)\n",
    "\n",
    "X_valid = np.linspace(-1,1,257)\n",
    "y_valid = fun(X_valid)\n",
    "\n",
    "X_test = np.linspace(-1,1,129)\n",
    "y_test = fun(X_test)"
   ]
  },
  {
   "cell_type": "code",
   "execution_count": 183,
   "metadata": {},
   "outputs": [
    {
     "data": {
      "application/vnd.plotly.v1+json": {
       "config": {
        "plotlyServerURL": "https://plot.ly"
       },
       "data": [
        {
         "type": "scatter",
         "x": [
          -1,
          -0.998046875,
          -0.99609375,
          -0.994140625,
          -0.9921875,
          -0.990234375,
          -0.98828125,
          -0.986328125,
          -0.984375,
          -0.982421875,
          -0.98046875,
          -0.978515625,
          -0.9765625,
          -0.974609375,
          -0.97265625,
          -0.970703125,
          -0.96875,
          -0.966796875,
          -0.96484375,
          -0.962890625,
          -0.9609375,
          -0.958984375,
          -0.95703125,
          -0.955078125,
          -0.953125,
          -0.951171875,
          -0.94921875,
          -0.947265625,
          -0.9453125,
          -0.943359375,
          -0.94140625,
          -0.939453125,
          -0.9375,
          -0.935546875,
          -0.93359375,
          -0.931640625,
          -0.9296875,
          -0.927734375,
          -0.92578125,
          -0.923828125,
          -0.921875,
          -0.919921875,
          -0.91796875,
          -0.916015625,
          -0.9140625,
          -0.912109375,
          -0.91015625,
          -0.908203125,
          -0.90625,
          -0.904296875,
          -0.90234375,
          -0.900390625,
          -0.8984375,
          -0.896484375,
          -0.89453125,
          -0.892578125,
          -0.890625,
          -0.888671875,
          -0.88671875,
          -0.884765625,
          -0.8828125,
          -0.880859375,
          -0.87890625,
          -0.876953125,
          -0.875,
          -0.873046875,
          -0.87109375,
          -0.869140625,
          -0.8671875,
          -0.865234375,
          -0.86328125,
          -0.861328125,
          -0.859375,
          -0.857421875,
          -0.85546875,
          -0.853515625,
          -0.8515625,
          -0.849609375,
          -0.84765625,
          -0.845703125,
          -0.84375,
          -0.841796875,
          -0.83984375,
          -0.837890625,
          -0.8359375,
          -0.833984375,
          -0.83203125,
          -0.830078125,
          -0.828125,
          -0.826171875,
          -0.82421875,
          -0.822265625,
          -0.8203125,
          -0.818359375,
          -0.81640625,
          -0.814453125,
          -0.8125,
          -0.810546875,
          -0.80859375,
          -0.806640625,
          -0.8046875,
          -0.802734375,
          -0.80078125,
          -0.798828125,
          -0.796875,
          -0.794921875,
          -0.79296875,
          -0.791015625,
          -0.7890625,
          -0.787109375,
          -0.78515625,
          -0.783203125,
          -0.78125,
          -0.779296875,
          -0.77734375,
          -0.775390625,
          -0.7734375,
          -0.771484375,
          -0.76953125,
          -0.767578125,
          -0.765625,
          -0.763671875,
          -0.76171875,
          -0.759765625,
          -0.7578125,
          -0.755859375,
          -0.75390625,
          -0.751953125,
          -0.75,
          -0.748046875,
          -0.74609375,
          -0.744140625,
          -0.7421875,
          -0.740234375,
          -0.73828125,
          -0.736328125,
          -0.734375,
          -0.732421875,
          -0.73046875,
          -0.728515625,
          -0.7265625,
          -0.724609375,
          -0.72265625,
          -0.720703125,
          -0.71875,
          -0.716796875,
          -0.71484375,
          -0.712890625,
          -0.7109375,
          -0.708984375,
          -0.70703125,
          -0.705078125,
          -0.703125,
          -0.701171875,
          -0.69921875,
          -0.697265625,
          -0.6953125,
          -0.693359375,
          -0.69140625,
          -0.689453125,
          -0.6875,
          -0.685546875,
          -0.68359375,
          -0.681640625,
          -0.6796875,
          -0.677734375,
          -0.67578125,
          -0.673828125,
          -0.671875,
          -0.669921875,
          -0.66796875,
          -0.666015625,
          -0.6640625,
          -0.662109375,
          -0.66015625,
          -0.658203125,
          -0.65625,
          -0.654296875,
          -0.65234375,
          -0.650390625,
          -0.6484375,
          -0.646484375,
          -0.64453125,
          -0.642578125,
          -0.640625,
          -0.638671875,
          -0.63671875,
          -0.634765625,
          -0.6328125,
          -0.630859375,
          -0.62890625,
          -0.626953125,
          -0.625,
          -0.623046875,
          -0.62109375,
          -0.619140625,
          -0.6171875,
          -0.615234375,
          -0.61328125,
          -0.611328125,
          -0.609375,
          -0.607421875,
          -0.60546875,
          -0.603515625,
          -0.6015625,
          -0.599609375,
          -0.59765625,
          -0.595703125,
          -0.59375,
          -0.591796875,
          -0.58984375,
          -0.587890625,
          -0.5859375,
          -0.583984375,
          -0.58203125,
          -0.580078125,
          -0.578125,
          -0.576171875,
          -0.57421875,
          -0.572265625,
          -0.5703125,
          -0.568359375,
          -0.56640625,
          -0.564453125,
          -0.5625,
          -0.560546875,
          -0.55859375,
          -0.556640625,
          -0.5546875,
          -0.552734375,
          -0.55078125,
          -0.548828125,
          -0.546875,
          -0.544921875,
          -0.54296875,
          -0.541015625,
          -0.5390625,
          -0.537109375,
          -0.53515625,
          -0.533203125,
          -0.53125,
          -0.529296875,
          -0.52734375,
          -0.525390625,
          -0.5234375,
          -0.521484375,
          -0.51953125,
          -0.517578125,
          -0.515625,
          -0.513671875,
          -0.51171875,
          -0.509765625,
          -0.5078125,
          -0.505859375,
          -0.50390625,
          -0.501953125,
          -0.5,
          -0.498046875,
          -0.49609375,
          -0.494140625,
          -0.4921875,
          -0.490234375,
          -0.48828125,
          -0.486328125,
          -0.484375,
          -0.482421875,
          -0.48046875,
          -0.478515625,
          -0.4765625,
          -0.474609375,
          -0.47265625,
          -0.470703125,
          -0.46875,
          -0.466796875,
          -0.46484375,
          -0.462890625,
          -0.4609375,
          -0.458984375,
          -0.45703125,
          -0.455078125,
          -0.453125,
          -0.451171875,
          -0.44921875,
          -0.447265625,
          -0.4453125,
          -0.443359375,
          -0.44140625,
          -0.439453125,
          -0.4375,
          -0.435546875,
          -0.43359375,
          -0.431640625,
          -0.4296875,
          -0.427734375,
          -0.42578125,
          -0.423828125,
          -0.421875,
          -0.419921875,
          -0.41796875,
          -0.416015625,
          -0.4140625,
          -0.412109375,
          -0.41015625,
          -0.408203125,
          -0.40625,
          -0.404296875,
          -0.40234375,
          -0.400390625,
          -0.3984375,
          -0.396484375,
          -0.39453125,
          -0.392578125,
          -0.390625,
          -0.388671875,
          -0.38671875,
          -0.384765625,
          -0.3828125,
          -0.380859375,
          -0.37890625,
          -0.376953125,
          -0.375,
          -0.373046875,
          -0.37109375,
          -0.369140625,
          -0.3671875,
          -0.365234375,
          -0.36328125,
          -0.361328125,
          -0.359375,
          -0.357421875,
          -0.35546875,
          -0.353515625,
          -0.3515625,
          -0.349609375,
          -0.34765625,
          -0.345703125,
          -0.34375,
          -0.341796875,
          -0.33984375,
          -0.337890625,
          -0.3359375,
          -0.333984375,
          -0.33203125,
          -0.330078125,
          -0.328125,
          -0.326171875,
          -0.32421875,
          -0.322265625,
          -0.3203125,
          -0.318359375,
          -0.31640625,
          -0.314453125,
          -0.3125,
          -0.310546875,
          -0.30859375,
          -0.306640625,
          -0.3046875,
          -0.302734375,
          -0.30078125,
          -0.298828125,
          -0.296875,
          -0.294921875,
          -0.29296875,
          -0.291015625,
          -0.2890625,
          -0.287109375,
          -0.28515625,
          -0.283203125,
          -0.28125,
          -0.279296875,
          -0.27734375,
          -0.275390625,
          -0.2734375,
          -0.271484375,
          -0.26953125,
          -0.267578125,
          -0.265625,
          -0.263671875,
          -0.26171875,
          -0.259765625,
          -0.2578125,
          -0.255859375,
          -0.25390625,
          -0.251953125,
          -0.25,
          -0.248046875,
          -0.24609375,
          -0.244140625,
          -0.2421875,
          -0.240234375,
          -0.23828125,
          -0.236328125,
          -0.234375,
          -0.232421875,
          -0.23046875,
          -0.228515625,
          -0.2265625,
          -0.224609375,
          -0.22265625,
          -0.220703125,
          -0.21875,
          -0.216796875,
          -0.21484375,
          -0.212890625,
          -0.2109375,
          -0.208984375,
          -0.20703125,
          -0.205078125,
          -0.203125,
          -0.201171875,
          -0.19921875,
          -0.197265625,
          -0.1953125,
          -0.193359375,
          -0.19140625,
          -0.189453125,
          -0.1875,
          -0.185546875,
          -0.18359375,
          -0.181640625,
          -0.1796875,
          -0.177734375,
          -0.17578125,
          -0.173828125,
          -0.171875,
          -0.169921875,
          -0.16796875,
          -0.166015625,
          -0.1640625,
          -0.162109375,
          -0.16015625,
          -0.158203125,
          -0.15625,
          -0.154296875,
          -0.15234375,
          -0.150390625,
          -0.1484375,
          -0.146484375,
          -0.14453125,
          -0.142578125,
          -0.140625,
          -0.138671875,
          -0.13671875,
          -0.134765625,
          -0.1328125,
          -0.130859375,
          -0.12890625,
          -0.126953125,
          -0.125,
          -0.123046875,
          -0.12109375,
          -0.119140625,
          -0.1171875,
          -0.115234375,
          -0.11328125,
          -0.111328125,
          -0.109375,
          -0.107421875,
          -0.10546875,
          -0.103515625,
          -0.1015625,
          -0.099609375,
          -0.09765625,
          -0.095703125,
          -0.09375,
          -0.091796875,
          -0.08984375,
          -0.087890625,
          -0.0859375,
          -0.083984375,
          -0.08203125,
          -0.080078125,
          -0.078125,
          -0.076171875,
          -0.07421875,
          -0.072265625,
          -0.0703125,
          -0.068359375,
          -0.06640625,
          -0.064453125,
          -0.0625,
          -0.060546875,
          -0.05859375,
          -0.056640625,
          -0.0546875,
          -0.052734375,
          -0.05078125,
          -0.048828125,
          -0.046875,
          -0.044921875,
          -0.04296875,
          -0.041015625,
          -0.0390625,
          -0.037109375,
          -0.03515625,
          -0.033203125,
          -0.03125,
          -0.029296875,
          -0.02734375,
          -0.025390625,
          -0.0234375,
          -0.021484375,
          -0.01953125,
          -0.017578125,
          -0.015625,
          -0.013671875,
          -0.01171875,
          -0.009765625,
          -0.0078125,
          -0.005859375,
          -0.00390625,
          -0.001953125,
          0,
          0.001953125,
          0.00390625,
          0.005859375,
          0.0078125,
          0.009765625,
          0.01171875,
          0.013671875,
          0.015625,
          0.017578125,
          0.01953125,
          0.021484375,
          0.0234375,
          0.025390625,
          0.02734375,
          0.029296875,
          0.03125,
          0.033203125,
          0.03515625,
          0.037109375,
          0.0390625,
          0.041015625,
          0.04296875,
          0.044921875,
          0.046875,
          0.048828125,
          0.05078125,
          0.052734375,
          0.0546875,
          0.056640625,
          0.05859375,
          0.060546875,
          0.0625,
          0.064453125,
          0.06640625,
          0.068359375,
          0.0703125,
          0.072265625,
          0.07421875,
          0.076171875,
          0.078125,
          0.080078125,
          0.08203125,
          0.083984375,
          0.0859375,
          0.087890625,
          0.08984375,
          0.091796875,
          0.09375,
          0.095703125,
          0.09765625,
          0.099609375,
          0.1015625,
          0.103515625,
          0.10546875,
          0.107421875,
          0.109375,
          0.111328125,
          0.11328125,
          0.115234375,
          0.1171875,
          0.119140625,
          0.12109375,
          0.123046875,
          0.125,
          0.126953125,
          0.12890625,
          0.130859375,
          0.1328125,
          0.134765625,
          0.13671875,
          0.138671875,
          0.140625,
          0.142578125,
          0.14453125,
          0.146484375,
          0.1484375,
          0.150390625,
          0.15234375,
          0.154296875,
          0.15625,
          0.158203125,
          0.16015625,
          0.162109375,
          0.1640625,
          0.166015625,
          0.16796875,
          0.169921875,
          0.171875,
          0.173828125,
          0.17578125,
          0.177734375,
          0.1796875,
          0.181640625,
          0.18359375,
          0.185546875,
          0.1875,
          0.189453125,
          0.19140625,
          0.193359375,
          0.1953125,
          0.197265625,
          0.19921875,
          0.201171875,
          0.203125,
          0.205078125,
          0.20703125,
          0.208984375,
          0.2109375,
          0.212890625,
          0.21484375,
          0.216796875,
          0.21875,
          0.220703125,
          0.22265625,
          0.224609375,
          0.2265625,
          0.228515625,
          0.23046875,
          0.232421875,
          0.234375,
          0.236328125,
          0.23828125,
          0.240234375,
          0.2421875,
          0.244140625,
          0.24609375,
          0.248046875,
          0.25,
          0.251953125,
          0.25390625,
          0.255859375,
          0.2578125,
          0.259765625,
          0.26171875,
          0.263671875,
          0.265625,
          0.267578125,
          0.26953125,
          0.271484375,
          0.2734375,
          0.275390625,
          0.27734375,
          0.279296875,
          0.28125,
          0.283203125,
          0.28515625,
          0.287109375,
          0.2890625,
          0.291015625,
          0.29296875,
          0.294921875,
          0.296875,
          0.298828125,
          0.30078125,
          0.302734375,
          0.3046875,
          0.306640625,
          0.30859375,
          0.310546875,
          0.3125,
          0.314453125,
          0.31640625,
          0.318359375,
          0.3203125,
          0.322265625,
          0.32421875,
          0.326171875,
          0.328125,
          0.330078125,
          0.33203125,
          0.333984375,
          0.3359375,
          0.337890625,
          0.33984375,
          0.341796875,
          0.34375,
          0.345703125,
          0.34765625,
          0.349609375,
          0.3515625,
          0.353515625,
          0.35546875,
          0.357421875,
          0.359375,
          0.361328125,
          0.36328125,
          0.365234375,
          0.3671875,
          0.369140625,
          0.37109375,
          0.373046875,
          0.375,
          0.376953125,
          0.37890625,
          0.380859375,
          0.3828125,
          0.384765625,
          0.38671875,
          0.388671875,
          0.390625,
          0.392578125,
          0.39453125,
          0.396484375,
          0.3984375,
          0.400390625,
          0.40234375,
          0.404296875,
          0.40625,
          0.408203125,
          0.41015625,
          0.412109375,
          0.4140625,
          0.416015625,
          0.41796875,
          0.419921875,
          0.421875,
          0.423828125,
          0.42578125,
          0.427734375,
          0.4296875,
          0.431640625,
          0.43359375,
          0.435546875,
          0.4375,
          0.439453125,
          0.44140625,
          0.443359375,
          0.4453125,
          0.447265625,
          0.44921875,
          0.451171875,
          0.453125,
          0.455078125,
          0.45703125,
          0.458984375,
          0.4609375,
          0.462890625,
          0.46484375,
          0.466796875,
          0.46875,
          0.470703125,
          0.47265625,
          0.474609375,
          0.4765625,
          0.478515625,
          0.48046875,
          0.482421875,
          0.484375,
          0.486328125,
          0.48828125,
          0.490234375,
          0.4921875,
          0.494140625,
          0.49609375,
          0.498046875,
          0.5,
          0.501953125,
          0.50390625,
          0.505859375,
          0.5078125,
          0.509765625,
          0.51171875,
          0.513671875,
          0.515625,
          0.517578125,
          0.51953125,
          0.521484375,
          0.5234375,
          0.525390625,
          0.52734375,
          0.529296875,
          0.53125,
          0.533203125,
          0.53515625,
          0.537109375,
          0.5390625,
          0.541015625,
          0.54296875,
          0.544921875,
          0.546875,
          0.548828125,
          0.55078125,
          0.552734375,
          0.5546875,
          0.556640625,
          0.55859375,
          0.560546875,
          0.5625,
          0.564453125,
          0.56640625,
          0.568359375,
          0.5703125,
          0.572265625,
          0.57421875,
          0.576171875,
          0.578125,
          0.580078125,
          0.58203125,
          0.583984375,
          0.5859375,
          0.587890625,
          0.58984375,
          0.591796875,
          0.59375,
          0.595703125,
          0.59765625,
          0.599609375,
          0.6015625,
          0.603515625,
          0.60546875,
          0.607421875,
          0.609375,
          0.611328125,
          0.61328125,
          0.615234375,
          0.6171875,
          0.619140625,
          0.62109375,
          0.623046875,
          0.625,
          0.626953125,
          0.62890625,
          0.630859375,
          0.6328125,
          0.634765625,
          0.63671875,
          0.638671875,
          0.640625,
          0.642578125,
          0.64453125,
          0.646484375,
          0.6484375,
          0.650390625,
          0.65234375,
          0.654296875,
          0.65625,
          0.658203125,
          0.66015625,
          0.662109375,
          0.6640625,
          0.666015625,
          0.66796875,
          0.669921875,
          0.671875,
          0.673828125,
          0.67578125,
          0.677734375,
          0.6796875,
          0.681640625,
          0.68359375,
          0.685546875,
          0.6875,
          0.689453125,
          0.69140625,
          0.693359375,
          0.6953125,
          0.697265625,
          0.69921875,
          0.701171875,
          0.703125,
          0.705078125,
          0.70703125,
          0.708984375,
          0.7109375,
          0.712890625,
          0.71484375,
          0.716796875,
          0.71875,
          0.720703125,
          0.72265625,
          0.724609375,
          0.7265625,
          0.728515625,
          0.73046875,
          0.732421875,
          0.734375,
          0.736328125,
          0.73828125,
          0.740234375,
          0.7421875,
          0.744140625,
          0.74609375,
          0.748046875,
          0.75,
          0.751953125,
          0.75390625,
          0.755859375,
          0.7578125,
          0.759765625,
          0.76171875,
          0.763671875,
          0.765625,
          0.767578125,
          0.76953125,
          0.771484375,
          0.7734375,
          0.775390625,
          0.77734375,
          0.779296875,
          0.78125,
          0.783203125,
          0.78515625,
          0.787109375,
          0.7890625,
          0.791015625,
          0.79296875,
          0.794921875,
          0.796875,
          0.798828125,
          0.80078125,
          0.802734375,
          0.8046875,
          0.806640625,
          0.80859375,
          0.810546875,
          0.8125,
          0.814453125,
          0.81640625,
          0.818359375,
          0.8203125,
          0.822265625,
          0.82421875,
          0.826171875,
          0.828125,
          0.830078125,
          0.83203125,
          0.833984375,
          0.8359375,
          0.837890625,
          0.83984375,
          0.841796875,
          0.84375,
          0.845703125,
          0.84765625,
          0.849609375,
          0.8515625,
          0.853515625,
          0.85546875,
          0.857421875,
          0.859375,
          0.861328125,
          0.86328125,
          0.865234375,
          0.8671875,
          0.869140625,
          0.87109375,
          0.873046875,
          0.875,
          0.876953125,
          0.87890625,
          0.880859375,
          0.8828125,
          0.884765625,
          0.88671875,
          0.888671875,
          0.890625,
          0.892578125,
          0.89453125,
          0.896484375,
          0.8984375,
          0.900390625,
          0.90234375,
          0.904296875,
          0.90625,
          0.908203125,
          0.91015625,
          0.912109375,
          0.9140625,
          0.916015625,
          0.91796875,
          0.919921875,
          0.921875,
          0.923828125,
          0.92578125,
          0.927734375,
          0.9296875,
          0.931640625,
          0.93359375,
          0.935546875,
          0.9375,
          0.939453125,
          0.94140625,
          0.943359375,
          0.9453125,
          0.947265625,
          0.94921875,
          0.951171875,
          0.953125,
          0.955078125,
          0.95703125,
          0.958984375,
          0.9609375,
          0.962890625,
          0.96484375,
          0.966796875,
          0.96875,
          0.970703125,
          0.97265625,
          0.974609375,
          0.9765625,
          0.978515625,
          0.98046875,
          0.982421875,
          0.984375,
          0.986328125,
          0.98828125,
          0.990234375,
          0.9921875,
          0.994140625,
          0.99609375,
          0.998046875,
          1
         ],
         "y": [
          0.5,
          0.5009775161724939,
          0.5019569396680479,
          0.5029382704206437,
          0.503921508319749,
          0.5049066532098854,
          0.5058937048901926,
          0.5068826631139918,
          0.5078735275883447,
          0.5088662979736117,
          0.5098609738830064,
          0.5108575548821483,
          0.5118560404886126,
          0.5128564301714778,
          0.5138587233508707,
          0.5148629193975092,
          0.5158690176322418,
          0.5168770173255858,
          0.5178869176972618,
          0.5188987179157273,
          0.5199124170977057,
          0.5209280143077152,
          0.5219455085575935,
          0.5229648988060208,
          0.5239861839580402,
          0.5250093628645759,
          0.5260344343219489,
          0.5270613970713897,
          0.5280902497985496,
          0.5291209911330089,
          0.5301536196477831,
          0.5311881338588261,
          0.5322245322245323,
          0.5332628131452343,
          0.5343029749627008,
          0.5353450159596302,
          0.5363889343591423,
          0.5374347283242682,
          0.5384823959574381,
          0.5395319352999652,
          0.5405833443315297,
          0.5416366209696581,
          0.5426917630692029,
          0.5437487684218169,
          0.5448076347554285,
          0.5458683597337126,
          0.5469309409555602,
          0.5479953759545455,
          0.5490616621983915,
          0.550129797088432,
          0.5511997779590738,
          0.5522716020772545,
          0.5533452666418994,
          0.5544207687833765,
          0.5554981055629488,
          0.5565772739722247,
          0.5576582709326072,
          0.5587410932947403,
          0.5598257378379533,
          0.5609122012697041,
          0.5620004802250197,
          0.5630905712659356,
          0.5641824708809325,
          0.5652761754843718,
          0.5663716814159292,
          0.5674689849400264,
          0.5685680822452609,
          0.5696689694438347,
          0.5707716425709807,
          0.5718760975843872,
          0.572982330363622,
          0.5740903367095538,
          0.575200112343772,
          0.5763116529080057,
          0.5774249539635409,
          0.5785400109906359,
          0.5796568193879356,
          0.5807753744718844,
          0.5818956714761376,
          0.5830177055509715,
          0.5841414717626925,
          0.5852669650930443,
          0.5863941804386146,
          0.5875231126102402,
          0.5886537563324111,
          0.5897861062426739,
          0.5909201568910328,
          0.5920559027393517,
          0.593193338160753,
          0.5943324574390181,
          0.5954732547679839,
          0.5966157242509417,
          0.5977598599000329,
          0.598905655635645,
          0.6000531052858071,
          0.6012022025855841,
          0.6023529411764705,
          0.6035053146057845,
          0.6046593163260598,
          0.6058149396944394,
          0.6069721779720668,
          0.6081310243234779,
          0.6092914718159927,
          0.6104535134191069,
          0.6116171420038823,
          0.6127823503423385,
          0.6139491311068435,
          0.6151174768695048,
          0.616287380101561,
          0.6174588331727723,
          0.6186318283508123,
          0.6198063578006596,
          0.6209824135839903,
          0.6221599876585696,
          0.6233390718776454,
          0.6245196579893414,
          0.6257017376360512,
          0.626885302353833,
          0.628070343571805,
          0.6292568526115417,
          0.6304448206864707,
          0.631634238901271,
          0.6328250982512722,
          0.6340173896218543,
          0.6352111037878494,
          0.636406231412944,
          0.637602763049083,
          0.6388006891358753,
          0.64,
          0.6412006858546154,
          0.6424027367987688,
          0.6436061428168081,
          0.6448108937777953,
          0.6460169794349224,
          0.6472243894249287,
          0.6484331132675197,
          0.6496431403647899,
          0.6508544600006455,
          0.6520670613402318,
          0.6532809334293611,
          0.654496065193944,
          0.6557124454394236,
          0.656930062850212,
          0.6581489059891289,
          0.6593689632968448,
          0.6605902230913255,
          0.661812673567281,
          0.6630363027956162,
          0.6642610987228866,
          0.665487049170756,
          0.6667141418354579,
          0.6679423642872613,
          0.6691717039699395,
          0.6704021482002429,
          0.6716336841673755,
          0.6728662989324757,
          0.6740999794281012,
          0.6753347124577181,
          0.6765704846951943,
          0.6778072826842972,
          0.6790450928381963,
          0.6802839014389703,
          0.681523694637119,
          0.6827644584510802,
          0.6840061787667515,
          0.6852488413370174,
          0.686492431781281,
          0.6877369355850029,
          0.688982338099243,
          0.6902286245402101,
          0.6914757799888158,
          0.6927237893902358,
          0.6939726375534754,
          0.6952223091509422,
          0.696472788718025,
          0.697724060652679,
          0.6989761092150171,
          0.7002289185269079,
          0.7014824725715815,
          0.7027367551932403,
          0.7039917500966786,
          0.7052474408469082,
          0.7065038108687919,
          0.7077608434466839,
          0.7090185217240782,
          0.7102768287032647,
          0.7115357472449921,
          0.7127952600681406,
          0.7140553497494008,
          0.7153159987229618,
          0.7165771892802082,
          0.7178389035694237,
          0.7191011235955056,
          0.7203638312196865,
          0.7216270081592653,
          0.722890635987348,
          0.7241546961325966,
          0.7254191698789879,
          0.7266840383655818,
          0.7279492825862993,
          0.7292148833897099,
          0.7304808214788291,
          0.7317470774109266,
          0.7330136315973436,
          0.734280464303321,
          0.7355475556478382,
          0.7368148856034629,
          0.7380824339962102,
          0.7393501805054151,
          0.7406181046636136,
          0.7418861858564362,
          0.7431544033225135,
          0.7444227361533918,
          0.7456911632934617,
          0.7469596635398976,
          0.7482282155426099,
          0.7494967978042086,
          0.7507653886799802,
          0.752033966377876,
          0.7533025089585136,
          0.7545709943351909,
          0.7558394002739134,
          0.7571077043934336,
          0.7583758841653045,
          0.7596439169139466,
          0.7609117798167268,
          0.7621794499040531,
          0.7634469040594812,
          0.7647141190198367,
          0.7659810713753495,
          0.7672477375698046,
          0.768514093900705,
          0.7697801165194512,
          0.7710457814315338,
          0.7723110644967416,
          0.773575941429385,
          0.7748403877985339,
          0.7761043790282708,
          0.7773678903979598,
          0.7786308970425309,
          0.7798933739527799,
          0.7811552959756842,
          0.7824166378147348,
          0.7836773740302836,
          0.7849374790399081,
          0.7861969271187915,
          0.7874556924001201,
          0.7887137488754968,
          0.7899710703953713,
          0.7912276306694878,
          0.7924834032673495,
          0.7937383616187002,
          0.794992479014023,
          0.7962457286050574,
          0.7974980834053323,
          0.7987495162907192,
          0.8,
          0.801249507135456,
          0.8024980101634728,
          0.803745481415164,
          0.8049918930870142,
          0.8062372172415384,
          0.807481425807962,
          0.8087244905829182,
          0.8099663832311648,
          0.8112070752863195,
          0.8124465381516147,
          0.8136847431006707,
          0.814921661278289,
          0.8161572637012637,
          0.817391521259214,
          0.8186244047154344,
          0.8198558847077662,
          0.8210859317494871,
          0.822314516230222,
          0.8235416084168727,
          0.8247671784545684,
          0.8259911963676352,
          0.827213632060587,
          0.8284344553191355,
          0.8296536358112214,
          0.8308711430880652,
          0.8320869465852389,
          0.8333010156237582,
          0.8345133194111954,
          0.8357238270428121,
          0.8369325075027138,
          0.8381393296650244,
          0.839344262295082,
          0.8405472740506552,
          0.8417483334831807,
          0.8429474090390212,
          0.844144469060745,
          0.8453394817884265,
          0.8465324153609672,
          0.8477232378174386,
          0.8489119170984456,
          0.8500984210475112,
          0.851282717412483,
          0.8524647738469593,
          0.8536445579117387,
          0.8548220370762885,
          0.8559971787202362,
          0.8571699501348811,
          0.8583403185247276,
          0.8595082510090396,
          0.8606737146234158,
          0.8618366763213872,
          0.8629971029760337,
          0.8641549613816247,
          0.8653102182552781,
          0.8664628402386422,
          0.8676127938995976,
          0.8687600457339807,
          0.8699045621673281,
          0.8710463095566418,
          0.8721852541921746,
          0.8733213622992381,
          0.8744546000400294,
          0.8755849335154796,
          0.8767123287671232,
          0.877836751778987,
          0.8789581684795,
          0.880076544743424,
          0.8811918463938041,
          0.8823040392039393,
          0.8834130888993732,
          0.8845189611599054,
          0.8856216216216216,
          0.8867210358789445,
          0.8878171694867036,
          0.8889099879622251,
          0.889999456787441,
          0.8910855414110169,
          0.8921682072505003,
          0.8932474196944864,
          0.8943231441048035,
          0.8953953458187172,
          0.8964639901511524,
          0.897529042396935,
          0.89859046783305,
          0.899648231720919,
          0.9007022993086956,
          0.901752635833577,
          0.9027992065241349,
          0.9038419766026624,
          0.9048809112875388,
          0.9059159757956105,
          0.906947135344589,
          0.9079743551554658,
          0.9089976004549426,
          0.9100168364778782,
          0.9110320284697508,
          0.9120431416891362,
          0.913050141410201,
          0.9140529929252109,
          0.9150516615470539,
          0.9160461126117784,
          0.9170363114811446,
          0.9180222235451913,
          0.9190038142248149,
          0.9199810489743635,
          0.9209538932842428,
          0.9219223126835359,
          0.922886272742635,
          0.9238457390758864,
          0.9248006773442461,
          0.9257510532579485,
          0.9266968325791856,
          0.9276379811247979,
          0.9285744647689758,
          0.9295062494459712,
          0.9304333011528196,
          0.9313555859520722,
          0.9322730699745366,
          0.9331857194220274,
          0.9340935005701254,
          0.9349963797709447,
          0.9358943234559086,
          0.9367872981385327,
          0.9376752704172151,
          0.9385582069780347,
          0.9394360745975545,
          0.940308840145632,
          0.9411764705882353,
          0.942038932990265,
          0.94289619451838,
          0.9437482224438293,
          0.9445949841452869,
          0.9454364471116914,
          0.9462725789450885,
          0.9471033473634771,
          0.9479287202036566,
          0.9487486654240784,
          0.9495631511076981,
          0.9503721454648284,
          0.9511756168359942,
          0.9519735336947878,
          0.9527658646507232,
          0.9535525784520921,
          0.9543336439888164,
          0.9551090302953018,
          0.9558787065532883,
          0.9566426420946994,
          0.9574008064044878,
          0.958153169123479,
          0.9588997000512107,
          0.9596403691487687,
          0.9603751465416178,
          0.9611040025224287,
          0.9618269075538988,
          0.9625438322715674,
          0.9632547474866248,
          0.9639596241887146,
          0.9646584335487289,
          0.9653511469215954,
          0.9660377358490566,
          0.9667181720624408,
          0.9673924274854233,
          0.9680604742367787,
          0.9687222846331225,
          0.9693778311916428,
          0.9700270866328207,
          0.9706700238831393,
          0.9713066160777805,
          0.9719368365633099,
          0.9725606589003487,
          0.9731780568662318,
          0.9737890044576523,
          0.974393475893292,
          0.9749914456164364,
          0.9755828882975754,
          0.9761677788369876,
          0.9767460923673081,
          0.9773178042560806,
          0.9778828901082914,
          0.9784413257688862,
          0.9789930873252691,
          0.9795381511097825,
          0.9800764937021681,
          0.9806080919320086,
          0.9811329228811497,
          0.9816509638861012,
          0.982162192540417,
          0.9826665866970551,
          0.9831641244707144,
          0.9836547842401501,
          0.9841385446504661,
          0.9846153846153847,
          0.9850852833194921,
          0.9855482202204611,
          0.9860041750512478,
          0.986453127822265,
          0.9868950588235295,
          0.9873299486267834,
          0.9877577780875909,
          0.9881785283474065,
          0.9885921808356181,
          0.9889987172715612,
          0.9893981196665069,
          0.9897903703256208,
          0.9901754518498933,
          0.990553347138042,
          0.9909240393883838,
          0.9912875121006777,
          0.9916437490779375,
          0.9919927344282147,
          0.9923344525663496,
          0.9926688882156922,
          0.9929960264097911,
          0.993315852494051,
          0.9936283521273571,
          0.993933511283669,
          0.9942313162535793,
          0.9945217536458413,
          0.9948048103888613,
          0.9950804737321591,
          0.995348731247793,
          0.9956095708317508,
          0.9958629807053067,
          0.9961089494163424,
          0.9963474658406339,
          0.9965785191831025,
          0.9968020989790293,
          0.9970181950952351,
          0.9972267977312238,
          0.9974278974202877,
          0.9976214850305782,
          0.9978075517661389,
          0.9979860891679008,
          0.9981570891146413,
          0.9983205438239047,
          0.9984764458528856,
          0.9986247880992744,
          0.9987655638020635,
          0.9988987665423175,
          0.9990243902439024,
          0.9991424291741784,
          0.999252877944652,
          0.9993557315115911,
          0.9994509851765998,
          0.9995386345871542,
          0.9996186757370998,
          0.9996911049671084,
          0.9997559189650964,
          0.9998131147666032,
          0.99986268975513,
          0.9999046416624391,
          0.9999389685688129,
          0.9999656689032741,
          0.9999847414437646,
          0.9999961853172863,
          1,
          0.9999961853172863,
          0.9999847414437646,
          0.9999656689032741,
          0.9999389685688129,
          0.9999046416624391,
          0.99986268975513,
          0.9998131147666032,
          0.9997559189650964,
          0.9996911049671084,
          0.9996186757370998,
          0.9995386345871542,
          0.9994509851765998,
          0.9993557315115911,
          0.999252877944652,
          0.9991424291741784,
          0.9990243902439024,
          0.9988987665423175,
          0.9987655638020635,
          0.9986247880992744,
          0.9984764458528856,
          0.9983205438239047,
          0.9981570891146413,
          0.9979860891679008,
          0.9978075517661389,
          0.9976214850305782,
          0.9974278974202877,
          0.9972267977312238,
          0.9970181950952351,
          0.9968020989790293,
          0.9965785191831025,
          0.9963474658406339,
          0.9961089494163424,
          0.9958629807053067,
          0.9956095708317508,
          0.995348731247793,
          0.9950804737321591,
          0.9948048103888613,
          0.9945217536458413,
          0.9942313162535793,
          0.993933511283669,
          0.9936283521273571,
          0.993315852494051,
          0.9929960264097911,
          0.9926688882156922,
          0.9923344525663496,
          0.9919927344282147,
          0.9916437490779375,
          0.9912875121006777,
          0.9909240393883838,
          0.990553347138042,
          0.9901754518498933,
          0.9897903703256208,
          0.9893981196665069,
          0.9889987172715612,
          0.9885921808356181,
          0.9881785283474065,
          0.9877577780875909,
          0.9873299486267834,
          0.9868950588235295,
          0.986453127822265,
          0.9860041750512478,
          0.9855482202204611,
          0.9850852833194921,
          0.9846153846153847,
          0.9841385446504661,
          0.9836547842401501,
          0.9831641244707144,
          0.9826665866970551,
          0.982162192540417,
          0.9816509638861012,
          0.9811329228811497,
          0.9806080919320086,
          0.9800764937021681,
          0.9795381511097825,
          0.9789930873252691,
          0.9784413257688862,
          0.9778828901082914,
          0.9773178042560806,
          0.9767460923673081,
          0.9761677788369876,
          0.9755828882975754,
          0.9749914456164364,
          0.974393475893292,
          0.9737890044576523,
          0.9731780568662318,
          0.9725606589003487,
          0.9719368365633099,
          0.9713066160777805,
          0.9706700238831393,
          0.9700270866328207,
          0.9693778311916428,
          0.9687222846331225,
          0.9680604742367787,
          0.9673924274854233,
          0.9667181720624408,
          0.9660377358490566,
          0.9653511469215954,
          0.9646584335487289,
          0.9639596241887146,
          0.9632547474866248,
          0.9625438322715674,
          0.9618269075538988,
          0.9611040025224287,
          0.9603751465416178,
          0.9596403691487687,
          0.9588997000512107,
          0.958153169123479,
          0.9574008064044878,
          0.9566426420946994,
          0.9558787065532883,
          0.9551090302953018,
          0.9543336439888164,
          0.9535525784520921,
          0.9527658646507232,
          0.9519735336947878,
          0.9511756168359942,
          0.9503721454648284,
          0.9495631511076981,
          0.9487486654240784,
          0.9479287202036566,
          0.9471033473634771,
          0.9462725789450885,
          0.9454364471116914,
          0.9445949841452869,
          0.9437482224438293,
          0.94289619451838,
          0.942038932990265,
          0.9411764705882353,
          0.940308840145632,
          0.9394360745975545,
          0.9385582069780347,
          0.9376752704172151,
          0.9367872981385327,
          0.9358943234559086,
          0.9349963797709447,
          0.9340935005701254,
          0.9331857194220274,
          0.9322730699745366,
          0.9313555859520722,
          0.9304333011528196,
          0.9295062494459712,
          0.9285744647689758,
          0.9276379811247979,
          0.9266968325791856,
          0.9257510532579485,
          0.9248006773442461,
          0.9238457390758864,
          0.922886272742635,
          0.9219223126835359,
          0.9209538932842428,
          0.9199810489743635,
          0.9190038142248149,
          0.9180222235451913,
          0.9170363114811446,
          0.9160461126117784,
          0.9150516615470539,
          0.9140529929252109,
          0.913050141410201,
          0.9120431416891362,
          0.9110320284697508,
          0.9100168364778782,
          0.9089976004549426,
          0.9079743551554658,
          0.906947135344589,
          0.9059159757956105,
          0.9048809112875388,
          0.9038419766026624,
          0.9027992065241349,
          0.901752635833577,
          0.9007022993086956,
          0.899648231720919,
          0.89859046783305,
          0.897529042396935,
          0.8964639901511524,
          0.8953953458187172,
          0.8943231441048035,
          0.8932474196944864,
          0.8921682072505003,
          0.8910855414110169,
          0.889999456787441,
          0.8889099879622251,
          0.8878171694867036,
          0.8867210358789445,
          0.8856216216216216,
          0.8845189611599054,
          0.8834130888993732,
          0.8823040392039393,
          0.8811918463938041,
          0.880076544743424,
          0.8789581684795,
          0.877836751778987,
          0.8767123287671232,
          0.8755849335154796,
          0.8744546000400294,
          0.8733213622992381,
          0.8721852541921746,
          0.8710463095566418,
          0.8699045621673281,
          0.8687600457339807,
          0.8676127938995976,
          0.8664628402386422,
          0.8653102182552781,
          0.8641549613816247,
          0.8629971029760337,
          0.8618366763213872,
          0.8606737146234158,
          0.8595082510090396,
          0.8583403185247276,
          0.8571699501348811,
          0.8559971787202362,
          0.8548220370762885,
          0.8536445579117387,
          0.8524647738469593,
          0.851282717412483,
          0.8500984210475112,
          0.8489119170984456,
          0.8477232378174386,
          0.8465324153609672,
          0.8453394817884265,
          0.844144469060745,
          0.8429474090390212,
          0.8417483334831807,
          0.8405472740506552,
          0.839344262295082,
          0.8381393296650244,
          0.8369325075027138,
          0.8357238270428121,
          0.8345133194111954,
          0.8333010156237582,
          0.8320869465852389,
          0.8308711430880652,
          0.8296536358112214,
          0.8284344553191355,
          0.827213632060587,
          0.8259911963676352,
          0.8247671784545684,
          0.8235416084168727,
          0.822314516230222,
          0.8210859317494871,
          0.8198558847077662,
          0.8186244047154344,
          0.817391521259214,
          0.8161572637012637,
          0.814921661278289,
          0.8136847431006707,
          0.8124465381516147,
          0.8112070752863195,
          0.8099663832311648,
          0.8087244905829182,
          0.807481425807962,
          0.8062372172415384,
          0.8049918930870142,
          0.803745481415164,
          0.8024980101634728,
          0.801249507135456,
          0.8,
          0.7987495162907192,
          0.7974980834053323,
          0.7962457286050574,
          0.794992479014023,
          0.7937383616187002,
          0.7924834032673495,
          0.7912276306694878,
          0.7899710703953713,
          0.7887137488754968,
          0.7874556924001201,
          0.7861969271187915,
          0.7849374790399081,
          0.7836773740302836,
          0.7824166378147348,
          0.7811552959756842,
          0.7798933739527799,
          0.7786308970425309,
          0.7773678903979598,
          0.7761043790282708,
          0.7748403877985339,
          0.773575941429385,
          0.7723110644967416,
          0.7710457814315338,
          0.7697801165194512,
          0.768514093900705,
          0.7672477375698046,
          0.7659810713753495,
          0.7647141190198367,
          0.7634469040594812,
          0.7621794499040531,
          0.7609117798167268,
          0.7596439169139466,
          0.7583758841653045,
          0.7571077043934336,
          0.7558394002739134,
          0.7545709943351909,
          0.7533025089585136,
          0.752033966377876,
          0.7507653886799802,
          0.7494967978042086,
          0.7482282155426099,
          0.7469596635398976,
          0.7456911632934617,
          0.7444227361533918,
          0.7431544033225135,
          0.7418861858564362,
          0.7406181046636136,
          0.7393501805054151,
          0.7380824339962102,
          0.7368148856034629,
          0.7355475556478382,
          0.734280464303321,
          0.7330136315973436,
          0.7317470774109266,
          0.7304808214788291,
          0.7292148833897099,
          0.7279492825862993,
          0.7266840383655818,
          0.7254191698789879,
          0.7241546961325966,
          0.722890635987348,
          0.7216270081592653,
          0.7203638312196865,
          0.7191011235955056,
          0.7178389035694237,
          0.7165771892802082,
          0.7153159987229618,
          0.7140553497494008,
          0.7127952600681406,
          0.7115357472449921,
          0.7102768287032647,
          0.7090185217240782,
          0.7077608434466839,
          0.7065038108687919,
          0.7052474408469082,
          0.7039917500966786,
          0.7027367551932403,
          0.7014824725715815,
          0.7002289185269079,
          0.6989761092150171,
          0.697724060652679,
          0.696472788718025,
          0.6952223091509422,
          0.6939726375534754,
          0.6927237893902358,
          0.6914757799888158,
          0.6902286245402101,
          0.688982338099243,
          0.6877369355850029,
          0.686492431781281,
          0.6852488413370174,
          0.6840061787667515,
          0.6827644584510802,
          0.681523694637119,
          0.6802839014389703,
          0.6790450928381963,
          0.6778072826842972,
          0.6765704846951943,
          0.6753347124577181,
          0.6740999794281012,
          0.6728662989324757,
          0.6716336841673755,
          0.6704021482002429,
          0.6691717039699395,
          0.6679423642872613,
          0.6667141418354579,
          0.665487049170756,
          0.6642610987228866,
          0.6630363027956162,
          0.661812673567281,
          0.6605902230913255,
          0.6593689632968448,
          0.6581489059891289,
          0.656930062850212,
          0.6557124454394236,
          0.654496065193944,
          0.6532809334293611,
          0.6520670613402318,
          0.6508544600006455,
          0.6496431403647899,
          0.6484331132675197,
          0.6472243894249287,
          0.6460169794349224,
          0.6448108937777953,
          0.6436061428168081,
          0.6424027367987688,
          0.6412006858546154,
          0.64,
          0.6388006891358753,
          0.637602763049083,
          0.636406231412944,
          0.6352111037878494,
          0.6340173896218543,
          0.6328250982512722,
          0.631634238901271,
          0.6304448206864707,
          0.6292568526115417,
          0.628070343571805,
          0.626885302353833,
          0.6257017376360512,
          0.6245196579893414,
          0.6233390718776454,
          0.6221599876585696,
          0.6209824135839903,
          0.6198063578006596,
          0.6186318283508123,
          0.6174588331727723,
          0.616287380101561,
          0.6151174768695048,
          0.6139491311068435,
          0.6127823503423385,
          0.6116171420038823,
          0.6104535134191069,
          0.6092914718159927,
          0.6081310243234779,
          0.6069721779720668,
          0.6058149396944394,
          0.6046593163260598,
          0.6035053146057845,
          0.6023529411764705,
          0.6012022025855841,
          0.6000531052858071,
          0.598905655635645,
          0.5977598599000329,
          0.5966157242509417,
          0.5954732547679839,
          0.5943324574390181,
          0.593193338160753,
          0.5920559027393517,
          0.5909201568910328,
          0.5897861062426739,
          0.5886537563324111,
          0.5875231126102402,
          0.5863941804386146,
          0.5852669650930443,
          0.5841414717626925,
          0.5830177055509715,
          0.5818956714761376,
          0.5807753744718844,
          0.5796568193879356,
          0.5785400109906359,
          0.5774249539635409,
          0.5763116529080057,
          0.575200112343772,
          0.5740903367095538,
          0.572982330363622,
          0.5718760975843872,
          0.5707716425709807,
          0.5696689694438347,
          0.5685680822452609,
          0.5674689849400264,
          0.5663716814159292,
          0.5652761754843718,
          0.5641824708809325,
          0.5630905712659356,
          0.5620004802250197,
          0.5609122012697041,
          0.5598257378379533,
          0.5587410932947403,
          0.5576582709326072,
          0.5565772739722247,
          0.5554981055629488,
          0.5544207687833765,
          0.5533452666418994,
          0.5522716020772545,
          0.5511997779590738,
          0.550129797088432,
          0.5490616621983915,
          0.5479953759545455,
          0.5469309409555602,
          0.5458683597337126,
          0.5448076347554285,
          0.5437487684218169,
          0.5426917630692029,
          0.5416366209696581,
          0.5405833443315297,
          0.5395319352999652,
          0.5384823959574381,
          0.5374347283242682,
          0.5363889343591423,
          0.5353450159596302,
          0.5343029749627008,
          0.5332628131452343,
          0.5322245322245323,
          0.5311881338588261,
          0.5301536196477831,
          0.5291209911330089,
          0.5280902497985496,
          0.5270613970713897,
          0.5260344343219489,
          0.5250093628645759,
          0.5239861839580402,
          0.5229648988060208,
          0.5219455085575935,
          0.5209280143077152,
          0.5199124170977057,
          0.5188987179157273,
          0.5178869176972618,
          0.5168770173255858,
          0.5158690176322418,
          0.5148629193975092,
          0.5138587233508707,
          0.5128564301714778,
          0.5118560404886126,
          0.5108575548821483,
          0.5098609738830064,
          0.5088662979736117,
          0.5078735275883447,
          0.5068826631139918,
          0.5058937048901926,
          0.5049066532098854,
          0.503921508319749,
          0.5029382704206437,
          0.5019569396680479,
          0.5009775161724939,
          0.5
         ]
        }
       ],
       "layout": {
        "template": {
         "data": {
          "bar": [
           {
            "error_x": {
             "color": "#2a3f5f"
            },
            "error_y": {
             "color": "#2a3f5f"
            },
            "marker": {
             "line": {
              "color": "#E5ECF6",
              "width": 0.5
             }
            },
            "type": "bar"
           }
          ],
          "barpolar": [
           {
            "marker": {
             "line": {
              "color": "#E5ECF6",
              "width": 0.5
             }
            },
            "type": "barpolar"
           }
          ],
          "carpet": [
           {
            "aaxis": {
             "endlinecolor": "#2a3f5f",
             "gridcolor": "white",
             "linecolor": "white",
             "minorgridcolor": "white",
             "startlinecolor": "#2a3f5f"
            },
            "baxis": {
             "endlinecolor": "#2a3f5f",
             "gridcolor": "white",
             "linecolor": "white",
             "minorgridcolor": "white",
             "startlinecolor": "#2a3f5f"
            },
            "type": "carpet"
           }
          ],
          "choropleth": [
           {
            "colorbar": {
             "outlinewidth": 0,
             "ticks": ""
            },
            "type": "choropleth"
           }
          ],
          "contour": [
           {
            "colorbar": {
             "outlinewidth": 0,
             "ticks": ""
            },
            "colorscale": [
             [
              0,
              "#0d0887"
             ],
             [
              0.1111111111111111,
              "#46039f"
             ],
             [
              0.2222222222222222,
              "#7201a8"
             ],
             [
              0.3333333333333333,
              "#9c179e"
             ],
             [
              0.4444444444444444,
              "#bd3786"
             ],
             [
              0.5555555555555556,
              "#d8576b"
             ],
             [
              0.6666666666666666,
              "#ed7953"
             ],
             [
              0.7777777777777778,
              "#fb9f3a"
             ],
             [
              0.8888888888888888,
              "#fdca26"
             ],
             [
              1,
              "#f0f921"
             ]
            ],
            "type": "contour"
           }
          ],
          "contourcarpet": [
           {
            "colorbar": {
             "outlinewidth": 0,
             "ticks": ""
            },
            "type": "contourcarpet"
           }
          ],
          "heatmap": [
           {
            "colorbar": {
             "outlinewidth": 0,
             "ticks": ""
            },
            "colorscale": [
             [
              0,
              "#0d0887"
             ],
             [
              0.1111111111111111,
              "#46039f"
             ],
             [
              0.2222222222222222,
              "#7201a8"
             ],
             [
              0.3333333333333333,
              "#9c179e"
             ],
             [
              0.4444444444444444,
              "#bd3786"
             ],
             [
              0.5555555555555556,
              "#d8576b"
             ],
             [
              0.6666666666666666,
              "#ed7953"
             ],
             [
              0.7777777777777778,
              "#fb9f3a"
             ],
             [
              0.8888888888888888,
              "#fdca26"
             ],
             [
              1,
              "#f0f921"
             ]
            ],
            "type": "heatmap"
           }
          ],
          "heatmapgl": [
           {
            "colorbar": {
             "outlinewidth": 0,
             "ticks": ""
            },
            "colorscale": [
             [
              0,
              "#0d0887"
             ],
             [
              0.1111111111111111,
              "#46039f"
             ],
             [
              0.2222222222222222,
              "#7201a8"
             ],
             [
              0.3333333333333333,
              "#9c179e"
             ],
             [
              0.4444444444444444,
              "#bd3786"
             ],
             [
              0.5555555555555556,
              "#d8576b"
             ],
             [
              0.6666666666666666,
              "#ed7953"
             ],
             [
              0.7777777777777778,
              "#fb9f3a"
             ],
             [
              0.8888888888888888,
              "#fdca26"
             ],
             [
              1,
              "#f0f921"
             ]
            ],
            "type": "heatmapgl"
           }
          ],
          "histogram": [
           {
            "marker": {
             "colorbar": {
              "outlinewidth": 0,
              "ticks": ""
             }
            },
            "type": "histogram"
           }
          ],
          "histogram2d": [
           {
            "colorbar": {
             "outlinewidth": 0,
             "ticks": ""
            },
            "colorscale": [
             [
              0,
              "#0d0887"
             ],
             [
              0.1111111111111111,
              "#46039f"
             ],
             [
              0.2222222222222222,
              "#7201a8"
             ],
             [
              0.3333333333333333,
              "#9c179e"
             ],
             [
              0.4444444444444444,
              "#bd3786"
             ],
             [
              0.5555555555555556,
              "#d8576b"
             ],
             [
              0.6666666666666666,
              "#ed7953"
             ],
             [
              0.7777777777777778,
              "#fb9f3a"
             ],
             [
              0.8888888888888888,
              "#fdca26"
             ],
             [
              1,
              "#f0f921"
             ]
            ],
            "type": "histogram2d"
           }
          ],
          "histogram2dcontour": [
           {
            "colorbar": {
             "outlinewidth": 0,
             "ticks": ""
            },
            "colorscale": [
             [
              0,
              "#0d0887"
             ],
             [
              0.1111111111111111,
              "#46039f"
             ],
             [
              0.2222222222222222,
              "#7201a8"
             ],
             [
              0.3333333333333333,
              "#9c179e"
             ],
             [
              0.4444444444444444,
              "#bd3786"
             ],
             [
              0.5555555555555556,
              "#d8576b"
             ],
             [
              0.6666666666666666,
              "#ed7953"
             ],
             [
              0.7777777777777778,
              "#fb9f3a"
             ],
             [
              0.8888888888888888,
              "#fdca26"
             ],
             [
              1,
              "#f0f921"
             ]
            ],
            "type": "histogram2dcontour"
           }
          ],
          "mesh3d": [
           {
            "colorbar": {
             "outlinewidth": 0,
             "ticks": ""
            },
            "type": "mesh3d"
           }
          ],
          "parcoords": [
           {
            "line": {
             "colorbar": {
              "outlinewidth": 0,
              "ticks": ""
             }
            },
            "type": "parcoords"
           }
          ],
          "pie": [
           {
            "automargin": true,
            "type": "pie"
           }
          ],
          "scatter": [
           {
            "marker": {
             "colorbar": {
              "outlinewidth": 0,
              "ticks": ""
             }
            },
            "type": "scatter"
           }
          ],
          "scatter3d": [
           {
            "line": {
             "colorbar": {
              "outlinewidth": 0,
              "ticks": ""
             }
            },
            "marker": {
             "colorbar": {
              "outlinewidth": 0,
              "ticks": ""
             }
            },
            "type": "scatter3d"
           }
          ],
          "scattercarpet": [
           {
            "marker": {
             "colorbar": {
              "outlinewidth": 0,
              "ticks": ""
             }
            },
            "type": "scattercarpet"
           }
          ],
          "scattergeo": [
           {
            "marker": {
             "colorbar": {
              "outlinewidth": 0,
              "ticks": ""
             }
            },
            "type": "scattergeo"
           }
          ],
          "scattergl": [
           {
            "marker": {
             "colorbar": {
              "outlinewidth": 0,
              "ticks": ""
             }
            },
            "type": "scattergl"
           }
          ],
          "scattermapbox": [
           {
            "marker": {
             "colorbar": {
              "outlinewidth": 0,
              "ticks": ""
             }
            },
            "type": "scattermapbox"
           }
          ],
          "scatterpolar": [
           {
            "marker": {
             "colorbar": {
              "outlinewidth": 0,
              "ticks": ""
             }
            },
            "type": "scatterpolar"
           }
          ],
          "scatterpolargl": [
           {
            "marker": {
             "colorbar": {
              "outlinewidth": 0,
              "ticks": ""
             }
            },
            "type": "scatterpolargl"
           }
          ],
          "scatterternary": [
           {
            "marker": {
             "colorbar": {
              "outlinewidth": 0,
              "ticks": ""
             }
            },
            "type": "scatterternary"
           }
          ],
          "surface": [
           {
            "colorbar": {
             "outlinewidth": 0,
             "ticks": ""
            },
            "colorscale": [
             [
              0,
              "#0d0887"
             ],
             [
              0.1111111111111111,
              "#46039f"
             ],
             [
              0.2222222222222222,
              "#7201a8"
             ],
             [
              0.3333333333333333,
              "#9c179e"
             ],
             [
              0.4444444444444444,
              "#bd3786"
             ],
             [
              0.5555555555555556,
              "#d8576b"
             ],
             [
              0.6666666666666666,
              "#ed7953"
             ],
             [
              0.7777777777777778,
              "#fb9f3a"
             ],
             [
              0.8888888888888888,
              "#fdca26"
             ],
             [
              1,
              "#f0f921"
             ]
            ],
            "type": "surface"
           }
          ],
          "table": [
           {
            "cells": {
             "fill": {
              "color": "#EBF0F8"
             },
             "line": {
              "color": "white"
             }
            },
            "header": {
             "fill": {
              "color": "#C8D4E3"
             },
             "line": {
              "color": "white"
             }
            },
            "type": "table"
           }
          ]
         },
         "layout": {
          "annotationdefaults": {
           "arrowcolor": "#2a3f5f",
           "arrowhead": 0,
           "arrowwidth": 1
          },
          "coloraxis": {
           "colorbar": {
            "outlinewidth": 0,
            "ticks": ""
           }
          },
          "colorscale": {
           "diverging": [
            [
             0,
             "#8e0152"
            ],
            [
             0.1,
             "#c51b7d"
            ],
            [
             0.2,
             "#de77ae"
            ],
            [
             0.3,
             "#f1b6da"
            ],
            [
             0.4,
             "#fde0ef"
            ],
            [
             0.5,
             "#f7f7f7"
            ],
            [
             0.6,
             "#e6f5d0"
            ],
            [
             0.7,
             "#b8e186"
            ],
            [
             0.8,
             "#7fbc41"
            ],
            [
             0.9,
             "#4d9221"
            ],
            [
             1,
             "#276419"
            ]
           ],
           "sequential": [
            [
             0,
             "#0d0887"
            ],
            [
             0.1111111111111111,
             "#46039f"
            ],
            [
             0.2222222222222222,
             "#7201a8"
            ],
            [
             0.3333333333333333,
             "#9c179e"
            ],
            [
             0.4444444444444444,
             "#bd3786"
            ],
            [
             0.5555555555555556,
             "#d8576b"
            ],
            [
             0.6666666666666666,
             "#ed7953"
            ],
            [
             0.7777777777777778,
             "#fb9f3a"
            ],
            [
             0.8888888888888888,
             "#fdca26"
            ],
            [
             1,
             "#f0f921"
            ]
           ],
           "sequentialminus": [
            [
             0,
             "#0d0887"
            ],
            [
             0.1111111111111111,
             "#46039f"
            ],
            [
             0.2222222222222222,
             "#7201a8"
            ],
            [
             0.3333333333333333,
             "#9c179e"
            ],
            [
             0.4444444444444444,
             "#bd3786"
            ],
            [
             0.5555555555555556,
             "#d8576b"
            ],
            [
             0.6666666666666666,
             "#ed7953"
            ],
            [
             0.7777777777777778,
             "#fb9f3a"
            ],
            [
             0.8888888888888888,
             "#fdca26"
            ],
            [
             1,
             "#f0f921"
            ]
           ]
          },
          "colorway": [
           "#636efa",
           "#EF553B",
           "#00cc96",
           "#ab63fa",
           "#FFA15A",
           "#19d3f3",
           "#FF6692",
           "#B6E880",
           "#FF97FF",
           "#FECB52"
          ],
          "font": {
           "color": "#2a3f5f"
          },
          "geo": {
           "bgcolor": "white",
           "lakecolor": "white",
           "landcolor": "#E5ECF6",
           "showlakes": true,
           "showland": true,
           "subunitcolor": "white"
          },
          "hoverlabel": {
           "align": "left"
          },
          "hovermode": "closest",
          "mapbox": {
           "style": "light"
          },
          "paper_bgcolor": "white",
          "plot_bgcolor": "#E5ECF6",
          "polar": {
           "angularaxis": {
            "gridcolor": "white",
            "linecolor": "white",
            "ticks": ""
           },
           "bgcolor": "#E5ECF6",
           "radialaxis": {
            "gridcolor": "white",
            "linecolor": "white",
            "ticks": ""
           }
          },
          "scene": {
           "xaxis": {
            "backgroundcolor": "#E5ECF6",
            "gridcolor": "white",
            "gridwidth": 2,
            "linecolor": "white",
            "showbackground": true,
            "ticks": "",
            "zerolinecolor": "white"
           },
           "yaxis": {
            "backgroundcolor": "#E5ECF6",
            "gridcolor": "white",
            "gridwidth": 2,
            "linecolor": "white",
            "showbackground": true,
            "ticks": "",
            "zerolinecolor": "white"
           },
           "zaxis": {
            "backgroundcolor": "#E5ECF6",
            "gridcolor": "white",
            "gridwidth": 2,
            "linecolor": "white",
            "showbackground": true,
            "ticks": "",
            "zerolinecolor": "white"
           }
          },
          "shapedefaults": {
           "line": {
            "color": "#2a3f5f"
           }
          },
          "ternary": {
           "aaxis": {
            "gridcolor": "white",
            "linecolor": "white",
            "ticks": ""
           },
           "baxis": {
            "gridcolor": "white",
            "linecolor": "white",
            "ticks": ""
           },
           "bgcolor": "#E5ECF6",
           "caxis": {
            "gridcolor": "white",
            "linecolor": "white",
            "ticks": ""
           }
          },
          "title": {
           "x": 0.05
          },
          "xaxis": {
           "automargin": true,
           "gridcolor": "white",
           "linecolor": "white",
           "ticks": "",
           "title": {
            "standoff": 15
           },
           "zerolinecolor": "white",
           "zerolinewidth": 2
          },
          "yaxis": {
           "automargin": true,
           "gridcolor": "white",
           "linecolor": "white",
           "ticks": "",
           "title": {
            "standoff": 15
           },
           "zerolinecolor": "white",
           "zerolinewidth": 2
          }
         }
        },
        "title": {
         "text": "Function to approximate"
        },
        "width": 600,
        "xaxis": {
         "title": {
          "text": "x"
         }
        }
       }
      },
      "text/html": [
       "<div>\n",
       "        \n",
       "        \n",
       "            <div id=\"e2bb4bf5-3d78-4b0c-902c-2ed5a0bd14f7\" class=\"plotly-graph-div\" style=\"height:525px; width:600px;\"></div>\n",
       "            <script type=\"text/javascript\">\n",
       "                require([\"plotly\"], function(Plotly) {\n",
       "                    window.PLOTLYENV=window.PLOTLYENV || {};\n",
       "                    \n",
       "                if (document.getElementById(\"e2bb4bf5-3d78-4b0c-902c-2ed5a0bd14f7\")) {\n",
       "                    Plotly.newPlot(\n",
       "                        'e2bb4bf5-3d78-4b0c-902c-2ed5a0bd14f7',\n",
       "                        [{\"type\": \"scatter\", \"x\": [-1.0, -0.998046875, -0.99609375, -0.994140625, -0.9921875, -0.990234375, -0.98828125, -0.986328125, -0.984375, -0.982421875, -0.98046875, -0.978515625, -0.9765625, -0.974609375, -0.97265625, -0.970703125, -0.96875, -0.966796875, -0.96484375, -0.962890625, -0.9609375, -0.958984375, -0.95703125, -0.955078125, -0.953125, -0.951171875, -0.94921875, -0.947265625, -0.9453125, -0.943359375, -0.94140625, -0.939453125, -0.9375, -0.935546875, -0.93359375, -0.931640625, -0.9296875, -0.927734375, -0.92578125, -0.923828125, -0.921875, -0.919921875, -0.91796875, -0.916015625, -0.9140625, -0.912109375, -0.91015625, -0.908203125, -0.90625, -0.904296875, -0.90234375, -0.900390625, -0.8984375, -0.896484375, -0.89453125, -0.892578125, -0.890625, -0.888671875, -0.88671875, -0.884765625, -0.8828125, -0.880859375, -0.87890625, -0.876953125, -0.875, -0.873046875, -0.87109375, -0.869140625, -0.8671875, -0.865234375, -0.86328125, -0.861328125, -0.859375, -0.857421875, -0.85546875, -0.853515625, -0.8515625, -0.849609375, -0.84765625, -0.845703125, -0.84375, -0.841796875, -0.83984375, -0.837890625, -0.8359375, -0.833984375, -0.83203125, -0.830078125, -0.828125, -0.826171875, -0.82421875, -0.822265625, -0.8203125, -0.818359375, -0.81640625, -0.814453125, -0.8125, -0.810546875, -0.80859375, -0.806640625, -0.8046875, -0.802734375, -0.80078125, -0.798828125, -0.796875, -0.794921875, -0.79296875, -0.791015625, -0.7890625, -0.787109375, -0.78515625, -0.783203125, -0.78125, -0.779296875, -0.77734375, -0.775390625, -0.7734375, -0.771484375, -0.76953125, -0.767578125, -0.765625, -0.763671875, -0.76171875, -0.759765625, -0.7578125, -0.755859375, -0.75390625, -0.751953125, -0.75, -0.748046875, -0.74609375, -0.744140625, -0.7421875, -0.740234375, -0.73828125, -0.736328125, -0.734375, -0.732421875, -0.73046875, -0.728515625, -0.7265625, -0.724609375, -0.72265625, -0.720703125, -0.71875, -0.716796875, -0.71484375, -0.712890625, -0.7109375, -0.708984375, -0.70703125, -0.705078125, -0.703125, -0.701171875, -0.69921875, -0.697265625, -0.6953125, -0.693359375, -0.69140625, -0.689453125, -0.6875, -0.685546875, -0.68359375, -0.681640625, -0.6796875, -0.677734375, -0.67578125, -0.673828125, -0.671875, -0.669921875, -0.66796875, -0.666015625, -0.6640625, -0.662109375, -0.66015625, -0.658203125, -0.65625, -0.654296875, -0.65234375, -0.650390625, -0.6484375, -0.646484375, -0.64453125, -0.642578125, -0.640625, -0.638671875, -0.63671875, -0.634765625, -0.6328125, -0.630859375, -0.62890625, -0.626953125, -0.625, -0.623046875, -0.62109375, -0.619140625, -0.6171875, -0.615234375, -0.61328125, -0.611328125, -0.609375, -0.607421875, -0.60546875, -0.603515625, -0.6015625, -0.599609375, -0.59765625, -0.595703125, -0.59375, -0.591796875, -0.58984375, -0.587890625, -0.5859375, -0.583984375, -0.58203125, -0.580078125, -0.578125, -0.576171875, -0.57421875, -0.572265625, -0.5703125, -0.568359375, -0.56640625, -0.564453125, -0.5625, -0.560546875, -0.55859375, -0.556640625, -0.5546875, -0.552734375, -0.55078125, -0.548828125, -0.546875, -0.544921875, -0.54296875, -0.541015625, -0.5390625, -0.537109375, -0.53515625, -0.533203125, -0.53125, -0.529296875, -0.52734375, -0.525390625, -0.5234375, -0.521484375, -0.51953125, -0.517578125, -0.515625, -0.513671875, -0.51171875, -0.509765625, -0.5078125, -0.505859375, -0.50390625, -0.501953125, -0.5, -0.498046875, -0.49609375, -0.494140625, -0.4921875, -0.490234375, -0.48828125, -0.486328125, -0.484375, -0.482421875, -0.48046875, -0.478515625, -0.4765625, -0.474609375, -0.47265625, -0.470703125, -0.46875, -0.466796875, -0.46484375, -0.462890625, -0.4609375, -0.458984375, -0.45703125, -0.455078125, -0.453125, -0.451171875, -0.44921875, -0.447265625, -0.4453125, -0.443359375, -0.44140625, -0.439453125, -0.4375, -0.435546875, -0.43359375, -0.431640625, -0.4296875, -0.427734375, -0.42578125, -0.423828125, -0.421875, -0.419921875, -0.41796875, -0.416015625, -0.4140625, -0.412109375, -0.41015625, -0.408203125, -0.40625, -0.404296875, -0.40234375, -0.400390625, -0.3984375, -0.396484375, -0.39453125, -0.392578125, -0.390625, -0.388671875, -0.38671875, -0.384765625, -0.3828125, -0.380859375, -0.37890625, -0.376953125, -0.375, -0.373046875, -0.37109375, -0.369140625, -0.3671875, -0.365234375, -0.36328125, -0.361328125, -0.359375, -0.357421875, -0.35546875, -0.353515625, -0.3515625, -0.349609375, -0.34765625, -0.345703125, -0.34375, -0.341796875, -0.33984375, -0.337890625, -0.3359375, -0.333984375, -0.33203125, -0.330078125, -0.328125, -0.326171875, -0.32421875, -0.322265625, -0.3203125, -0.318359375, -0.31640625, -0.314453125, -0.3125, -0.310546875, -0.30859375, -0.306640625, -0.3046875, -0.302734375, -0.30078125, -0.298828125, -0.296875, -0.294921875, -0.29296875, -0.291015625, -0.2890625, -0.287109375, -0.28515625, -0.283203125, -0.28125, -0.279296875, -0.27734375, -0.275390625, -0.2734375, -0.271484375, -0.26953125, -0.267578125, -0.265625, -0.263671875, -0.26171875, -0.259765625, -0.2578125, -0.255859375, -0.25390625, -0.251953125, -0.25, -0.248046875, -0.24609375, -0.244140625, -0.2421875, -0.240234375, -0.23828125, -0.236328125, -0.234375, -0.232421875, -0.23046875, -0.228515625, -0.2265625, -0.224609375, -0.22265625, -0.220703125, -0.21875, -0.216796875, -0.21484375, -0.212890625, -0.2109375, -0.208984375, -0.20703125, -0.205078125, -0.203125, -0.201171875, -0.19921875, -0.197265625, -0.1953125, -0.193359375, -0.19140625, -0.189453125, -0.1875, -0.185546875, -0.18359375, -0.181640625, -0.1796875, -0.177734375, -0.17578125, -0.173828125, -0.171875, -0.169921875, -0.16796875, -0.166015625, -0.1640625, -0.162109375, -0.16015625, -0.158203125, -0.15625, -0.154296875, -0.15234375, -0.150390625, -0.1484375, -0.146484375, -0.14453125, -0.142578125, -0.140625, -0.138671875, -0.13671875, -0.134765625, -0.1328125, -0.130859375, -0.12890625, -0.126953125, -0.125, -0.123046875, -0.12109375, -0.119140625, -0.1171875, -0.115234375, -0.11328125, -0.111328125, -0.109375, -0.107421875, -0.10546875, -0.103515625, -0.1015625, -0.099609375, -0.09765625, -0.095703125, -0.09375, -0.091796875, -0.08984375, -0.087890625, -0.0859375, -0.083984375, -0.08203125, -0.080078125, -0.078125, -0.076171875, -0.07421875, -0.072265625, -0.0703125, -0.068359375, -0.06640625, -0.064453125, -0.0625, -0.060546875, -0.05859375, -0.056640625, -0.0546875, -0.052734375, -0.05078125, -0.048828125, -0.046875, -0.044921875, -0.04296875, -0.041015625, -0.0390625, -0.037109375, -0.03515625, -0.033203125, -0.03125, -0.029296875, -0.02734375, -0.025390625, -0.0234375, -0.021484375, -0.01953125, -0.017578125, -0.015625, -0.013671875, -0.01171875, -0.009765625, -0.0078125, -0.005859375, -0.00390625, -0.001953125, 0.0, 0.001953125, 0.00390625, 0.005859375, 0.0078125, 0.009765625, 0.01171875, 0.013671875, 0.015625, 0.017578125, 0.01953125, 0.021484375, 0.0234375, 0.025390625, 0.02734375, 0.029296875, 0.03125, 0.033203125, 0.03515625, 0.037109375, 0.0390625, 0.041015625, 0.04296875, 0.044921875, 0.046875, 0.048828125, 0.05078125, 0.052734375, 0.0546875, 0.056640625, 0.05859375, 0.060546875, 0.0625, 0.064453125, 0.06640625, 0.068359375, 0.0703125, 0.072265625, 0.07421875, 0.076171875, 0.078125, 0.080078125, 0.08203125, 0.083984375, 0.0859375, 0.087890625, 0.08984375, 0.091796875, 0.09375, 0.095703125, 0.09765625, 0.099609375, 0.1015625, 0.103515625, 0.10546875, 0.107421875, 0.109375, 0.111328125, 0.11328125, 0.115234375, 0.1171875, 0.119140625, 0.12109375, 0.123046875, 0.125, 0.126953125, 0.12890625, 0.130859375, 0.1328125, 0.134765625, 0.13671875, 0.138671875, 0.140625, 0.142578125, 0.14453125, 0.146484375, 0.1484375, 0.150390625, 0.15234375, 0.154296875, 0.15625, 0.158203125, 0.16015625, 0.162109375, 0.1640625, 0.166015625, 0.16796875, 0.169921875, 0.171875, 0.173828125, 0.17578125, 0.177734375, 0.1796875, 0.181640625, 0.18359375, 0.185546875, 0.1875, 0.189453125, 0.19140625, 0.193359375, 0.1953125, 0.197265625, 0.19921875, 0.201171875, 0.203125, 0.205078125, 0.20703125, 0.208984375, 0.2109375, 0.212890625, 0.21484375, 0.216796875, 0.21875, 0.220703125, 0.22265625, 0.224609375, 0.2265625, 0.228515625, 0.23046875, 0.232421875, 0.234375, 0.236328125, 0.23828125, 0.240234375, 0.2421875, 0.244140625, 0.24609375, 0.248046875, 0.25, 0.251953125, 0.25390625, 0.255859375, 0.2578125, 0.259765625, 0.26171875, 0.263671875, 0.265625, 0.267578125, 0.26953125, 0.271484375, 0.2734375, 0.275390625, 0.27734375, 0.279296875, 0.28125, 0.283203125, 0.28515625, 0.287109375, 0.2890625, 0.291015625, 0.29296875, 0.294921875, 0.296875, 0.298828125, 0.30078125, 0.302734375, 0.3046875, 0.306640625, 0.30859375, 0.310546875, 0.3125, 0.314453125, 0.31640625, 0.318359375, 0.3203125, 0.322265625, 0.32421875, 0.326171875, 0.328125, 0.330078125, 0.33203125, 0.333984375, 0.3359375, 0.337890625, 0.33984375, 0.341796875, 0.34375, 0.345703125, 0.34765625, 0.349609375, 0.3515625, 0.353515625, 0.35546875, 0.357421875, 0.359375, 0.361328125, 0.36328125, 0.365234375, 0.3671875, 0.369140625, 0.37109375, 0.373046875, 0.375, 0.376953125, 0.37890625, 0.380859375, 0.3828125, 0.384765625, 0.38671875, 0.388671875, 0.390625, 0.392578125, 0.39453125, 0.396484375, 0.3984375, 0.400390625, 0.40234375, 0.404296875, 0.40625, 0.408203125, 0.41015625, 0.412109375, 0.4140625, 0.416015625, 0.41796875, 0.419921875, 0.421875, 0.423828125, 0.42578125, 0.427734375, 0.4296875, 0.431640625, 0.43359375, 0.435546875, 0.4375, 0.439453125, 0.44140625, 0.443359375, 0.4453125, 0.447265625, 0.44921875, 0.451171875, 0.453125, 0.455078125, 0.45703125, 0.458984375, 0.4609375, 0.462890625, 0.46484375, 0.466796875, 0.46875, 0.470703125, 0.47265625, 0.474609375, 0.4765625, 0.478515625, 0.48046875, 0.482421875, 0.484375, 0.486328125, 0.48828125, 0.490234375, 0.4921875, 0.494140625, 0.49609375, 0.498046875, 0.5, 0.501953125, 0.50390625, 0.505859375, 0.5078125, 0.509765625, 0.51171875, 0.513671875, 0.515625, 0.517578125, 0.51953125, 0.521484375, 0.5234375, 0.525390625, 0.52734375, 0.529296875, 0.53125, 0.533203125, 0.53515625, 0.537109375, 0.5390625, 0.541015625, 0.54296875, 0.544921875, 0.546875, 0.548828125, 0.55078125, 0.552734375, 0.5546875, 0.556640625, 0.55859375, 0.560546875, 0.5625, 0.564453125, 0.56640625, 0.568359375, 0.5703125, 0.572265625, 0.57421875, 0.576171875, 0.578125, 0.580078125, 0.58203125, 0.583984375, 0.5859375, 0.587890625, 0.58984375, 0.591796875, 0.59375, 0.595703125, 0.59765625, 0.599609375, 0.6015625, 0.603515625, 0.60546875, 0.607421875, 0.609375, 0.611328125, 0.61328125, 0.615234375, 0.6171875, 0.619140625, 0.62109375, 0.623046875, 0.625, 0.626953125, 0.62890625, 0.630859375, 0.6328125, 0.634765625, 0.63671875, 0.638671875, 0.640625, 0.642578125, 0.64453125, 0.646484375, 0.6484375, 0.650390625, 0.65234375, 0.654296875, 0.65625, 0.658203125, 0.66015625, 0.662109375, 0.6640625, 0.666015625, 0.66796875, 0.669921875, 0.671875, 0.673828125, 0.67578125, 0.677734375, 0.6796875, 0.681640625, 0.68359375, 0.685546875, 0.6875, 0.689453125, 0.69140625, 0.693359375, 0.6953125, 0.697265625, 0.69921875, 0.701171875, 0.703125, 0.705078125, 0.70703125, 0.708984375, 0.7109375, 0.712890625, 0.71484375, 0.716796875, 0.71875, 0.720703125, 0.72265625, 0.724609375, 0.7265625, 0.728515625, 0.73046875, 0.732421875, 0.734375, 0.736328125, 0.73828125, 0.740234375, 0.7421875, 0.744140625, 0.74609375, 0.748046875, 0.75, 0.751953125, 0.75390625, 0.755859375, 0.7578125, 0.759765625, 0.76171875, 0.763671875, 0.765625, 0.767578125, 0.76953125, 0.771484375, 0.7734375, 0.775390625, 0.77734375, 0.779296875, 0.78125, 0.783203125, 0.78515625, 0.787109375, 0.7890625, 0.791015625, 0.79296875, 0.794921875, 0.796875, 0.798828125, 0.80078125, 0.802734375, 0.8046875, 0.806640625, 0.80859375, 0.810546875, 0.8125, 0.814453125, 0.81640625, 0.818359375, 0.8203125, 0.822265625, 0.82421875, 0.826171875, 0.828125, 0.830078125, 0.83203125, 0.833984375, 0.8359375, 0.837890625, 0.83984375, 0.841796875, 0.84375, 0.845703125, 0.84765625, 0.849609375, 0.8515625, 0.853515625, 0.85546875, 0.857421875, 0.859375, 0.861328125, 0.86328125, 0.865234375, 0.8671875, 0.869140625, 0.87109375, 0.873046875, 0.875, 0.876953125, 0.87890625, 0.880859375, 0.8828125, 0.884765625, 0.88671875, 0.888671875, 0.890625, 0.892578125, 0.89453125, 0.896484375, 0.8984375, 0.900390625, 0.90234375, 0.904296875, 0.90625, 0.908203125, 0.91015625, 0.912109375, 0.9140625, 0.916015625, 0.91796875, 0.919921875, 0.921875, 0.923828125, 0.92578125, 0.927734375, 0.9296875, 0.931640625, 0.93359375, 0.935546875, 0.9375, 0.939453125, 0.94140625, 0.943359375, 0.9453125, 0.947265625, 0.94921875, 0.951171875, 0.953125, 0.955078125, 0.95703125, 0.958984375, 0.9609375, 0.962890625, 0.96484375, 0.966796875, 0.96875, 0.970703125, 0.97265625, 0.974609375, 0.9765625, 0.978515625, 0.98046875, 0.982421875, 0.984375, 0.986328125, 0.98828125, 0.990234375, 0.9921875, 0.994140625, 0.99609375, 0.998046875, 1.0], \"y\": [0.5, 0.5009775161724939, 0.5019569396680479, 0.5029382704206437, 0.503921508319749, 0.5049066532098854, 0.5058937048901926, 0.5068826631139918, 0.5078735275883447, 0.5088662979736117, 0.5098609738830064, 0.5108575548821483, 0.5118560404886126, 0.5128564301714778, 0.5138587233508707, 0.5148629193975092, 0.5158690176322418, 0.5168770173255858, 0.5178869176972618, 0.5188987179157273, 0.5199124170977057, 0.5209280143077152, 0.5219455085575935, 0.5229648988060208, 0.5239861839580402, 0.5250093628645759, 0.5260344343219489, 0.5270613970713897, 0.5280902497985496, 0.5291209911330089, 0.5301536196477831, 0.5311881338588261, 0.5322245322245323, 0.5332628131452343, 0.5343029749627008, 0.5353450159596302, 0.5363889343591423, 0.5374347283242682, 0.5384823959574381, 0.5395319352999652, 0.5405833443315297, 0.5416366209696581, 0.5426917630692029, 0.5437487684218169, 0.5448076347554285, 0.5458683597337126, 0.5469309409555602, 0.5479953759545455, 0.5490616621983915, 0.550129797088432, 0.5511997779590738, 0.5522716020772545, 0.5533452666418994, 0.5544207687833765, 0.5554981055629488, 0.5565772739722247, 0.5576582709326072, 0.5587410932947403, 0.5598257378379533, 0.5609122012697041, 0.5620004802250197, 0.5630905712659356, 0.5641824708809325, 0.5652761754843718, 0.5663716814159292, 0.5674689849400264, 0.5685680822452609, 0.5696689694438347, 0.5707716425709807, 0.5718760975843872, 0.572982330363622, 0.5740903367095538, 0.575200112343772, 0.5763116529080057, 0.5774249539635409, 0.5785400109906359, 0.5796568193879356, 0.5807753744718844, 0.5818956714761376, 0.5830177055509715, 0.5841414717626925, 0.5852669650930443, 0.5863941804386146, 0.5875231126102402, 0.5886537563324111, 0.5897861062426739, 0.5909201568910328, 0.5920559027393517, 0.593193338160753, 0.5943324574390181, 0.5954732547679839, 0.5966157242509417, 0.5977598599000329, 0.598905655635645, 0.6000531052858071, 0.6012022025855841, 0.6023529411764705, 0.6035053146057845, 0.6046593163260598, 0.6058149396944394, 0.6069721779720668, 0.6081310243234779, 0.6092914718159927, 0.6104535134191069, 0.6116171420038823, 0.6127823503423385, 0.6139491311068435, 0.6151174768695048, 0.616287380101561, 0.6174588331727723, 0.6186318283508123, 0.6198063578006596, 0.6209824135839903, 0.6221599876585696, 0.6233390718776454, 0.6245196579893414, 0.6257017376360512, 0.626885302353833, 0.628070343571805, 0.6292568526115417, 0.6304448206864707, 0.631634238901271, 0.6328250982512722, 0.6340173896218543, 0.6352111037878494, 0.636406231412944, 0.637602763049083, 0.6388006891358753, 0.64, 0.6412006858546154, 0.6424027367987688, 0.6436061428168081, 0.6448108937777953, 0.6460169794349224, 0.6472243894249287, 0.6484331132675197, 0.6496431403647899, 0.6508544600006455, 0.6520670613402318, 0.6532809334293611, 0.654496065193944, 0.6557124454394236, 0.656930062850212, 0.6581489059891289, 0.6593689632968448, 0.6605902230913255, 0.661812673567281, 0.6630363027956162, 0.6642610987228866, 0.665487049170756, 0.6667141418354579, 0.6679423642872613, 0.6691717039699395, 0.6704021482002429, 0.6716336841673755, 0.6728662989324757, 0.6740999794281012, 0.6753347124577181, 0.6765704846951943, 0.6778072826842972, 0.6790450928381963, 0.6802839014389703, 0.681523694637119, 0.6827644584510802, 0.6840061787667515, 0.6852488413370174, 0.686492431781281, 0.6877369355850029, 0.688982338099243, 0.6902286245402101, 0.6914757799888158, 0.6927237893902358, 0.6939726375534754, 0.6952223091509422, 0.696472788718025, 0.697724060652679, 0.6989761092150171, 0.7002289185269079, 0.7014824725715815, 0.7027367551932403, 0.7039917500966786, 0.7052474408469082, 0.7065038108687919, 0.7077608434466839, 0.7090185217240782, 0.7102768287032647, 0.7115357472449921, 0.7127952600681406, 0.7140553497494008, 0.7153159987229618, 0.7165771892802082, 0.7178389035694237, 0.7191011235955056, 0.7203638312196865, 0.7216270081592653, 0.722890635987348, 0.7241546961325966, 0.7254191698789879, 0.7266840383655818, 0.7279492825862993, 0.7292148833897099, 0.7304808214788291, 0.7317470774109266, 0.7330136315973436, 0.734280464303321, 0.7355475556478382, 0.7368148856034629, 0.7380824339962102, 0.7393501805054151, 0.7406181046636136, 0.7418861858564362, 0.7431544033225135, 0.7444227361533918, 0.7456911632934617, 0.7469596635398976, 0.7482282155426099, 0.7494967978042086, 0.7507653886799802, 0.752033966377876, 0.7533025089585136, 0.7545709943351909, 0.7558394002739134, 0.7571077043934336, 0.7583758841653045, 0.7596439169139466, 0.7609117798167268, 0.7621794499040531, 0.7634469040594812, 0.7647141190198367, 0.7659810713753495, 0.7672477375698046, 0.768514093900705, 0.7697801165194512, 0.7710457814315338, 0.7723110644967416, 0.773575941429385, 0.7748403877985339, 0.7761043790282708, 0.7773678903979598, 0.7786308970425309, 0.7798933739527799, 0.7811552959756842, 0.7824166378147348, 0.7836773740302836, 0.7849374790399081, 0.7861969271187915, 0.7874556924001201, 0.7887137488754968, 0.7899710703953713, 0.7912276306694878, 0.7924834032673495, 0.7937383616187002, 0.794992479014023, 0.7962457286050574, 0.7974980834053323, 0.7987495162907192, 0.8, 0.801249507135456, 0.8024980101634728, 0.803745481415164, 0.8049918930870142, 0.8062372172415384, 0.807481425807962, 0.8087244905829182, 0.8099663832311648, 0.8112070752863195, 0.8124465381516147, 0.8136847431006707, 0.814921661278289, 0.8161572637012637, 0.817391521259214, 0.8186244047154344, 0.8198558847077662, 0.8210859317494871, 0.822314516230222, 0.8235416084168727, 0.8247671784545684, 0.8259911963676352, 0.827213632060587, 0.8284344553191355, 0.8296536358112214, 0.8308711430880652, 0.8320869465852389, 0.8333010156237582, 0.8345133194111954, 0.8357238270428121, 0.8369325075027138, 0.8381393296650244, 0.839344262295082, 0.8405472740506552, 0.8417483334831807, 0.8429474090390212, 0.844144469060745, 0.8453394817884265, 0.8465324153609672, 0.8477232378174386, 0.8489119170984456, 0.8500984210475112, 0.851282717412483, 0.8524647738469593, 0.8536445579117387, 0.8548220370762885, 0.8559971787202362, 0.8571699501348811, 0.8583403185247276, 0.8595082510090396, 0.8606737146234158, 0.8618366763213872, 0.8629971029760337, 0.8641549613816247, 0.8653102182552781, 0.8664628402386422, 0.8676127938995976, 0.8687600457339807, 0.8699045621673281, 0.8710463095566418, 0.8721852541921746, 0.8733213622992381, 0.8744546000400294, 0.8755849335154796, 0.8767123287671232, 0.877836751778987, 0.8789581684795, 0.880076544743424, 0.8811918463938041, 0.8823040392039393, 0.8834130888993732, 0.8845189611599054, 0.8856216216216216, 0.8867210358789445, 0.8878171694867036, 0.8889099879622251, 0.889999456787441, 0.8910855414110169, 0.8921682072505003, 0.8932474196944864, 0.8943231441048035, 0.8953953458187172, 0.8964639901511524, 0.897529042396935, 0.89859046783305, 0.899648231720919, 0.9007022993086956, 0.901752635833577, 0.9027992065241349, 0.9038419766026624, 0.9048809112875388, 0.9059159757956105, 0.906947135344589, 0.9079743551554658, 0.9089976004549426, 0.9100168364778782, 0.9110320284697508, 0.9120431416891362, 0.913050141410201, 0.9140529929252109, 0.9150516615470539, 0.9160461126117784, 0.9170363114811446, 0.9180222235451913, 0.9190038142248149, 0.9199810489743635, 0.9209538932842428, 0.9219223126835359, 0.922886272742635, 0.9238457390758864, 0.9248006773442461, 0.9257510532579485, 0.9266968325791856, 0.9276379811247979, 0.9285744647689758, 0.9295062494459712, 0.9304333011528196, 0.9313555859520722, 0.9322730699745366, 0.9331857194220274, 0.9340935005701254, 0.9349963797709447, 0.9358943234559086, 0.9367872981385327, 0.9376752704172151, 0.9385582069780347, 0.9394360745975545, 0.940308840145632, 0.9411764705882353, 0.942038932990265, 0.94289619451838, 0.9437482224438293, 0.9445949841452869, 0.9454364471116914, 0.9462725789450885, 0.9471033473634771, 0.9479287202036566, 0.9487486654240784, 0.9495631511076981, 0.9503721454648284, 0.9511756168359942, 0.9519735336947878, 0.9527658646507232, 0.9535525784520921, 0.9543336439888164, 0.9551090302953018, 0.9558787065532883, 0.9566426420946994, 0.9574008064044878, 0.958153169123479, 0.9588997000512107, 0.9596403691487687, 0.9603751465416178, 0.9611040025224287, 0.9618269075538988, 0.9625438322715674, 0.9632547474866248, 0.9639596241887146, 0.9646584335487289, 0.9653511469215954, 0.9660377358490566, 0.9667181720624408, 0.9673924274854233, 0.9680604742367787, 0.9687222846331225, 0.9693778311916428, 0.9700270866328207, 0.9706700238831393, 0.9713066160777805, 0.9719368365633099, 0.9725606589003487, 0.9731780568662318, 0.9737890044576523, 0.974393475893292, 0.9749914456164364, 0.9755828882975754, 0.9761677788369876, 0.9767460923673081, 0.9773178042560806, 0.9778828901082914, 0.9784413257688862, 0.9789930873252691, 0.9795381511097825, 0.9800764937021681, 0.9806080919320086, 0.9811329228811497, 0.9816509638861012, 0.982162192540417, 0.9826665866970551, 0.9831641244707144, 0.9836547842401501, 0.9841385446504661, 0.9846153846153847, 0.9850852833194921, 0.9855482202204611, 0.9860041750512478, 0.986453127822265, 0.9868950588235295, 0.9873299486267834, 0.9877577780875909, 0.9881785283474065, 0.9885921808356181, 0.9889987172715612, 0.9893981196665069, 0.9897903703256208, 0.9901754518498933, 0.990553347138042, 0.9909240393883838, 0.9912875121006777, 0.9916437490779375, 0.9919927344282147, 0.9923344525663496, 0.9926688882156922, 0.9929960264097911, 0.993315852494051, 0.9936283521273571, 0.993933511283669, 0.9942313162535793, 0.9945217536458413, 0.9948048103888613, 0.9950804737321591, 0.995348731247793, 0.9956095708317508, 0.9958629807053067, 0.9961089494163424, 0.9963474658406339, 0.9965785191831025, 0.9968020989790293, 0.9970181950952351, 0.9972267977312238, 0.9974278974202877, 0.9976214850305782, 0.9978075517661389, 0.9979860891679008, 0.9981570891146413, 0.9983205438239047, 0.9984764458528856, 0.9986247880992744, 0.9987655638020635, 0.9988987665423175, 0.9990243902439024, 0.9991424291741784, 0.999252877944652, 0.9993557315115911, 0.9994509851765998, 0.9995386345871542, 0.9996186757370998, 0.9996911049671084, 0.9997559189650964, 0.9998131147666032, 0.99986268975513, 0.9999046416624391, 0.9999389685688129, 0.9999656689032741, 0.9999847414437646, 0.9999961853172863, 1.0, 0.9999961853172863, 0.9999847414437646, 0.9999656689032741, 0.9999389685688129, 0.9999046416624391, 0.99986268975513, 0.9998131147666032, 0.9997559189650964, 0.9996911049671084, 0.9996186757370998, 0.9995386345871542, 0.9994509851765998, 0.9993557315115911, 0.999252877944652, 0.9991424291741784, 0.9990243902439024, 0.9988987665423175, 0.9987655638020635, 0.9986247880992744, 0.9984764458528856, 0.9983205438239047, 0.9981570891146413, 0.9979860891679008, 0.9978075517661389, 0.9976214850305782, 0.9974278974202877, 0.9972267977312238, 0.9970181950952351, 0.9968020989790293, 0.9965785191831025, 0.9963474658406339, 0.9961089494163424, 0.9958629807053067, 0.9956095708317508, 0.995348731247793, 0.9950804737321591, 0.9948048103888613, 0.9945217536458413, 0.9942313162535793, 0.993933511283669, 0.9936283521273571, 0.993315852494051, 0.9929960264097911, 0.9926688882156922, 0.9923344525663496, 0.9919927344282147, 0.9916437490779375, 0.9912875121006777, 0.9909240393883838, 0.990553347138042, 0.9901754518498933, 0.9897903703256208, 0.9893981196665069, 0.9889987172715612, 0.9885921808356181, 0.9881785283474065, 0.9877577780875909, 0.9873299486267834, 0.9868950588235295, 0.986453127822265, 0.9860041750512478, 0.9855482202204611, 0.9850852833194921, 0.9846153846153847, 0.9841385446504661, 0.9836547842401501, 0.9831641244707144, 0.9826665866970551, 0.982162192540417, 0.9816509638861012, 0.9811329228811497, 0.9806080919320086, 0.9800764937021681, 0.9795381511097825, 0.9789930873252691, 0.9784413257688862, 0.9778828901082914, 0.9773178042560806, 0.9767460923673081, 0.9761677788369876, 0.9755828882975754, 0.9749914456164364, 0.974393475893292, 0.9737890044576523, 0.9731780568662318, 0.9725606589003487, 0.9719368365633099, 0.9713066160777805, 0.9706700238831393, 0.9700270866328207, 0.9693778311916428, 0.9687222846331225, 0.9680604742367787, 0.9673924274854233, 0.9667181720624408, 0.9660377358490566, 0.9653511469215954, 0.9646584335487289, 0.9639596241887146, 0.9632547474866248, 0.9625438322715674, 0.9618269075538988, 0.9611040025224287, 0.9603751465416178, 0.9596403691487687, 0.9588997000512107, 0.958153169123479, 0.9574008064044878, 0.9566426420946994, 0.9558787065532883, 0.9551090302953018, 0.9543336439888164, 0.9535525784520921, 0.9527658646507232, 0.9519735336947878, 0.9511756168359942, 0.9503721454648284, 0.9495631511076981, 0.9487486654240784, 0.9479287202036566, 0.9471033473634771, 0.9462725789450885, 0.9454364471116914, 0.9445949841452869, 0.9437482224438293, 0.94289619451838, 0.942038932990265, 0.9411764705882353, 0.940308840145632, 0.9394360745975545, 0.9385582069780347, 0.9376752704172151, 0.9367872981385327, 0.9358943234559086, 0.9349963797709447, 0.9340935005701254, 0.9331857194220274, 0.9322730699745366, 0.9313555859520722, 0.9304333011528196, 0.9295062494459712, 0.9285744647689758, 0.9276379811247979, 0.9266968325791856, 0.9257510532579485, 0.9248006773442461, 0.9238457390758864, 0.922886272742635, 0.9219223126835359, 0.9209538932842428, 0.9199810489743635, 0.9190038142248149, 0.9180222235451913, 0.9170363114811446, 0.9160461126117784, 0.9150516615470539, 0.9140529929252109, 0.913050141410201, 0.9120431416891362, 0.9110320284697508, 0.9100168364778782, 0.9089976004549426, 0.9079743551554658, 0.906947135344589, 0.9059159757956105, 0.9048809112875388, 0.9038419766026624, 0.9027992065241349, 0.901752635833577, 0.9007022993086956, 0.899648231720919, 0.89859046783305, 0.897529042396935, 0.8964639901511524, 0.8953953458187172, 0.8943231441048035, 0.8932474196944864, 0.8921682072505003, 0.8910855414110169, 0.889999456787441, 0.8889099879622251, 0.8878171694867036, 0.8867210358789445, 0.8856216216216216, 0.8845189611599054, 0.8834130888993732, 0.8823040392039393, 0.8811918463938041, 0.880076544743424, 0.8789581684795, 0.877836751778987, 0.8767123287671232, 0.8755849335154796, 0.8744546000400294, 0.8733213622992381, 0.8721852541921746, 0.8710463095566418, 0.8699045621673281, 0.8687600457339807, 0.8676127938995976, 0.8664628402386422, 0.8653102182552781, 0.8641549613816247, 0.8629971029760337, 0.8618366763213872, 0.8606737146234158, 0.8595082510090396, 0.8583403185247276, 0.8571699501348811, 0.8559971787202362, 0.8548220370762885, 0.8536445579117387, 0.8524647738469593, 0.851282717412483, 0.8500984210475112, 0.8489119170984456, 0.8477232378174386, 0.8465324153609672, 0.8453394817884265, 0.844144469060745, 0.8429474090390212, 0.8417483334831807, 0.8405472740506552, 0.839344262295082, 0.8381393296650244, 0.8369325075027138, 0.8357238270428121, 0.8345133194111954, 0.8333010156237582, 0.8320869465852389, 0.8308711430880652, 0.8296536358112214, 0.8284344553191355, 0.827213632060587, 0.8259911963676352, 0.8247671784545684, 0.8235416084168727, 0.822314516230222, 0.8210859317494871, 0.8198558847077662, 0.8186244047154344, 0.817391521259214, 0.8161572637012637, 0.814921661278289, 0.8136847431006707, 0.8124465381516147, 0.8112070752863195, 0.8099663832311648, 0.8087244905829182, 0.807481425807962, 0.8062372172415384, 0.8049918930870142, 0.803745481415164, 0.8024980101634728, 0.801249507135456, 0.8, 0.7987495162907192, 0.7974980834053323, 0.7962457286050574, 0.794992479014023, 0.7937383616187002, 0.7924834032673495, 0.7912276306694878, 0.7899710703953713, 0.7887137488754968, 0.7874556924001201, 0.7861969271187915, 0.7849374790399081, 0.7836773740302836, 0.7824166378147348, 0.7811552959756842, 0.7798933739527799, 0.7786308970425309, 0.7773678903979598, 0.7761043790282708, 0.7748403877985339, 0.773575941429385, 0.7723110644967416, 0.7710457814315338, 0.7697801165194512, 0.768514093900705, 0.7672477375698046, 0.7659810713753495, 0.7647141190198367, 0.7634469040594812, 0.7621794499040531, 0.7609117798167268, 0.7596439169139466, 0.7583758841653045, 0.7571077043934336, 0.7558394002739134, 0.7545709943351909, 0.7533025089585136, 0.752033966377876, 0.7507653886799802, 0.7494967978042086, 0.7482282155426099, 0.7469596635398976, 0.7456911632934617, 0.7444227361533918, 0.7431544033225135, 0.7418861858564362, 0.7406181046636136, 0.7393501805054151, 0.7380824339962102, 0.7368148856034629, 0.7355475556478382, 0.734280464303321, 0.7330136315973436, 0.7317470774109266, 0.7304808214788291, 0.7292148833897099, 0.7279492825862993, 0.7266840383655818, 0.7254191698789879, 0.7241546961325966, 0.722890635987348, 0.7216270081592653, 0.7203638312196865, 0.7191011235955056, 0.7178389035694237, 0.7165771892802082, 0.7153159987229618, 0.7140553497494008, 0.7127952600681406, 0.7115357472449921, 0.7102768287032647, 0.7090185217240782, 0.7077608434466839, 0.7065038108687919, 0.7052474408469082, 0.7039917500966786, 0.7027367551932403, 0.7014824725715815, 0.7002289185269079, 0.6989761092150171, 0.697724060652679, 0.696472788718025, 0.6952223091509422, 0.6939726375534754, 0.6927237893902358, 0.6914757799888158, 0.6902286245402101, 0.688982338099243, 0.6877369355850029, 0.686492431781281, 0.6852488413370174, 0.6840061787667515, 0.6827644584510802, 0.681523694637119, 0.6802839014389703, 0.6790450928381963, 0.6778072826842972, 0.6765704846951943, 0.6753347124577181, 0.6740999794281012, 0.6728662989324757, 0.6716336841673755, 0.6704021482002429, 0.6691717039699395, 0.6679423642872613, 0.6667141418354579, 0.665487049170756, 0.6642610987228866, 0.6630363027956162, 0.661812673567281, 0.6605902230913255, 0.6593689632968448, 0.6581489059891289, 0.656930062850212, 0.6557124454394236, 0.654496065193944, 0.6532809334293611, 0.6520670613402318, 0.6508544600006455, 0.6496431403647899, 0.6484331132675197, 0.6472243894249287, 0.6460169794349224, 0.6448108937777953, 0.6436061428168081, 0.6424027367987688, 0.6412006858546154, 0.64, 0.6388006891358753, 0.637602763049083, 0.636406231412944, 0.6352111037878494, 0.6340173896218543, 0.6328250982512722, 0.631634238901271, 0.6304448206864707, 0.6292568526115417, 0.628070343571805, 0.626885302353833, 0.6257017376360512, 0.6245196579893414, 0.6233390718776454, 0.6221599876585696, 0.6209824135839903, 0.6198063578006596, 0.6186318283508123, 0.6174588331727723, 0.616287380101561, 0.6151174768695048, 0.6139491311068435, 0.6127823503423385, 0.6116171420038823, 0.6104535134191069, 0.6092914718159927, 0.6081310243234779, 0.6069721779720668, 0.6058149396944394, 0.6046593163260598, 0.6035053146057845, 0.6023529411764705, 0.6012022025855841, 0.6000531052858071, 0.598905655635645, 0.5977598599000329, 0.5966157242509417, 0.5954732547679839, 0.5943324574390181, 0.593193338160753, 0.5920559027393517, 0.5909201568910328, 0.5897861062426739, 0.5886537563324111, 0.5875231126102402, 0.5863941804386146, 0.5852669650930443, 0.5841414717626925, 0.5830177055509715, 0.5818956714761376, 0.5807753744718844, 0.5796568193879356, 0.5785400109906359, 0.5774249539635409, 0.5763116529080057, 0.575200112343772, 0.5740903367095538, 0.572982330363622, 0.5718760975843872, 0.5707716425709807, 0.5696689694438347, 0.5685680822452609, 0.5674689849400264, 0.5663716814159292, 0.5652761754843718, 0.5641824708809325, 0.5630905712659356, 0.5620004802250197, 0.5609122012697041, 0.5598257378379533, 0.5587410932947403, 0.5576582709326072, 0.5565772739722247, 0.5554981055629488, 0.5544207687833765, 0.5533452666418994, 0.5522716020772545, 0.5511997779590738, 0.550129797088432, 0.5490616621983915, 0.5479953759545455, 0.5469309409555602, 0.5458683597337126, 0.5448076347554285, 0.5437487684218169, 0.5426917630692029, 0.5416366209696581, 0.5405833443315297, 0.5395319352999652, 0.5384823959574381, 0.5374347283242682, 0.5363889343591423, 0.5353450159596302, 0.5343029749627008, 0.5332628131452343, 0.5322245322245323, 0.5311881338588261, 0.5301536196477831, 0.5291209911330089, 0.5280902497985496, 0.5270613970713897, 0.5260344343219489, 0.5250093628645759, 0.5239861839580402, 0.5229648988060208, 0.5219455085575935, 0.5209280143077152, 0.5199124170977057, 0.5188987179157273, 0.5178869176972618, 0.5168770173255858, 0.5158690176322418, 0.5148629193975092, 0.5138587233508707, 0.5128564301714778, 0.5118560404886126, 0.5108575548821483, 0.5098609738830064, 0.5088662979736117, 0.5078735275883447, 0.5068826631139918, 0.5058937048901926, 0.5049066532098854, 0.503921508319749, 0.5029382704206437, 0.5019569396680479, 0.5009775161724939, 0.5]}],\n",
       "                        {\"template\": {\"data\": {\"bar\": [{\"error_x\": {\"color\": \"#2a3f5f\"}, \"error_y\": {\"color\": \"#2a3f5f\"}, \"marker\": {\"line\": {\"color\": \"#E5ECF6\", \"width\": 0.5}}, \"type\": \"bar\"}], \"barpolar\": [{\"marker\": {\"line\": {\"color\": \"#E5ECF6\", \"width\": 0.5}}, \"type\": \"barpolar\"}], \"carpet\": [{\"aaxis\": {\"endlinecolor\": \"#2a3f5f\", \"gridcolor\": \"white\", \"linecolor\": \"white\", \"minorgridcolor\": \"white\", \"startlinecolor\": \"#2a3f5f\"}, \"baxis\": {\"endlinecolor\": \"#2a3f5f\", \"gridcolor\": \"white\", \"linecolor\": \"white\", \"minorgridcolor\": \"white\", \"startlinecolor\": \"#2a3f5f\"}, \"type\": \"carpet\"}], \"choropleth\": [{\"colorbar\": {\"outlinewidth\": 0, \"ticks\": \"\"}, \"type\": \"choropleth\"}], \"contour\": [{\"colorbar\": {\"outlinewidth\": 0, \"ticks\": \"\"}, \"colorscale\": [[0.0, \"#0d0887\"], [0.1111111111111111, \"#46039f\"], [0.2222222222222222, \"#7201a8\"], [0.3333333333333333, \"#9c179e\"], [0.4444444444444444, \"#bd3786\"], [0.5555555555555556, \"#d8576b\"], [0.6666666666666666, \"#ed7953\"], [0.7777777777777778, \"#fb9f3a\"], [0.8888888888888888, \"#fdca26\"], [1.0, \"#f0f921\"]], \"type\": \"contour\"}], \"contourcarpet\": [{\"colorbar\": {\"outlinewidth\": 0, \"ticks\": \"\"}, \"type\": \"contourcarpet\"}], \"heatmap\": [{\"colorbar\": {\"outlinewidth\": 0, \"ticks\": \"\"}, \"colorscale\": [[0.0, \"#0d0887\"], [0.1111111111111111, \"#46039f\"], [0.2222222222222222, \"#7201a8\"], [0.3333333333333333, \"#9c179e\"], [0.4444444444444444, \"#bd3786\"], [0.5555555555555556, \"#d8576b\"], [0.6666666666666666, \"#ed7953\"], [0.7777777777777778, \"#fb9f3a\"], [0.8888888888888888, \"#fdca26\"], [1.0, \"#f0f921\"]], \"type\": \"heatmap\"}], \"heatmapgl\": [{\"colorbar\": {\"outlinewidth\": 0, \"ticks\": \"\"}, \"colorscale\": [[0.0, \"#0d0887\"], [0.1111111111111111, \"#46039f\"], [0.2222222222222222, \"#7201a8\"], [0.3333333333333333, \"#9c179e\"], [0.4444444444444444, \"#bd3786\"], [0.5555555555555556, \"#d8576b\"], [0.6666666666666666, \"#ed7953\"], [0.7777777777777778, \"#fb9f3a\"], [0.8888888888888888, \"#fdca26\"], [1.0, \"#f0f921\"]], \"type\": \"heatmapgl\"}], \"histogram\": [{\"marker\": {\"colorbar\": {\"outlinewidth\": 0, \"ticks\": \"\"}}, \"type\": \"histogram\"}], \"histogram2d\": [{\"colorbar\": {\"outlinewidth\": 0, \"ticks\": \"\"}, \"colorscale\": [[0.0, \"#0d0887\"], [0.1111111111111111, \"#46039f\"], [0.2222222222222222, \"#7201a8\"], [0.3333333333333333, \"#9c179e\"], [0.4444444444444444, \"#bd3786\"], [0.5555555555555556, \"#d8576b\"], [0.6666666666666666, \"#ed7953\"], [0.7777777777777778, \"#fb9f3a\"], [0.8888888888888888, \"#fdca26\"], [1.0, \"#f0f921\"]], \"type\": \"histogram2d\"}], \"histogram2dcontour\": [{\"colorbar\": {\"outlinewidth\": 0, \"ticks\": \"\"}, \"colorscale\": [[0.0, \"#0d0887\"], [0.1111111111111111, \"#46039f\"], [0.2222222222222222, \"#7201a8\"], [0.3333333333333333, \"#9c179e\"], [0.4444444444444444, \"#bd3786\"], [0.5555555555555556, \"#d8576b\"], [0.6666666666666666, \"#ed7953\"], [0.7777777777777778, \"#fb9f3a\"], [0.8888888888888888, \"#fdca26\"], [1.0, \"#f0f921\"]], \"type\": \"histogram2dcontour\"}], \"mesh3d\": [{\"colorbar\": {\"outlinewidth\": 0, \"ticks\": \"\"}, \"type\": \"mesh3d\"}], \"parcoords\": [{\"line\": {\"colorbar\": {\"outlinewidth\": 0, \"ticks\": \"\"}}, \"type\": \"parcoords\"}], \"pie\": [{\"automargin\": true, \"type\": \"pie\"}], \"scatter\": [{\"marker\": {\"colorbar\": {\"outlinewidth\": 0, \"ticks\": \"\"}}, \"type\": \"scatter\"}], \"scatter3d\": [{\"line\": {\"colorbar\": {\"outlinewidth\": 0, \"ticks\": \"\"}}, \"marker\": {\"colorbar\": {\"outlinewidth\": 0, \"ticks\": \"\"}}, \"type\": \"scatter3d\"}], \"scattercarpet\": [{\"marker\": {\"colorbar\": {\"outlinewidth\": 0, \"ticks\": \"\"}}, \"type\": \"scattercarpet\"}], \"scattergeo\": [{\"marker\": {\"colorbar\": {\"outlinewidth\": 0, \"ticks\": \"\"}}, \"type\": \"scattergeo\"}], \"scattergl\": [{\"marker\": {\"colorbar\": {\"outlinewidth\": 0, \"ticks\": \"\"}}, \"type\": \"scattergl\"}], \"scattermapbox\": [{\"marker\": {\"colorbar\": {\"outlinewidth\": 0, \"ticks\": \"\"}}, \"type\": \"scattermapbox\"}], \"scatterpolar\": [{\"marker\": {\"colorbar\": {\"outlinewidth\": 0, \"ticks\": \"\"}}, \"type\": \"scatterpolar\"}], \"scatterpolargl\": [{\"marker\": {\"colorbar\": {\"outlinewidth\": 0, \"ticks\": \"\"}}, \"type\": \"scatterpolargl\"}], \"scatterternary\": [{\"marker\": {\"colorbar\": {\"outlinewidth\": 0, \"ticks\": \"\"}}, \"type\": \"scatterternary\"}], \"surface\": [{\"colorbar\": {\"outlinewidth\": 0, \"ticks\": \"\"}, \"colorscale\": [[0.0, \"#0d0887\"], [0.1111111111111111, \"#46039f\"], [0.2222222222222222, \"#7201a8\"], [0.3333333333333333, \"#9c179e\"], [0.4444444444444444, \"#bd3786\"], [0.5555555555555556, \"#d8576b\"], [0.6666666666666666, \"#ed7953\"], [0.7777777777777778, \"#fb9f3a\"], [0.8888888888888888, \"#fdca26\"], [1.0, \"#f0f921\"]], \"type\": \"surface\"}], \"table\": [{\"cells\": {\"fill\": {\"color\": \"#EBF0F8\"}, \"line\": {\"color\": \"white\"}}, \"header\": {\"fill\": {\"color\": \"#C8D4E3\"}, \"line\": {\"color\": \"white\"}}, \"type\": \"table\"}]}, \"layout\": {\"annotationdefaults\": {\"arrowcolor\": \"#2a3f5f\", \"arrowhead\": 0, \"arrowwidth\": 1}, \"coloraxis\": {\"colorbar\": {\"outlinewidth\": 0, \"ticks\": \"\"}}, \"colorscale\": {\"diverging\": [[0, \"#8e0152\"], [0.1, \"#c51b7d\"], [0.2, \"#de77ae\"], [0.3, \"#f1b6da\"], [0.4, \"#fde0ef\"], [0.5, \"#f7f7f7\"], [0.6, \"#e6f5d0\"], [0.7, \"#b8e186\"], [0.8, \"#7fbc41\"], [0.9, \"#4d9221\"], [1, \"#276419\"]], \"sequential\": [[0.0, \"#0d0887\"], [0.1111111111111111, \"#46039f\"], [0.2222222222222222, \"#7201a8\"], [0.3333333333333333, \"#9c179e\"], [0.4444444444444444, \"#bd3786\"], [0.5555555555555556, \"#d8576b\"], [0.6666666666666666, \"#ed7953\"], [0.7777777777777778, \"#fb9f3a\"], [0.8888888888888888, \"#fdca26\"], [1.0, \"#f0f921\"]], \"sequentialminus\": [[0.0, \"#0d0887\"], [0.1111111111111111, \"#46039f\"], [0.2222222222222222, \"#7201a8\"], [0.3333333333333333, \"#9c179e\"], [0.4444444444444444, \"#bd3786\"], [0.5555555555555556, \"#d8576b\"], [0.6666666666666666, \"#ed7953\"], [0.7777777777777778, \"#fb9f3a\"], [0.8888888888888888, \"#fdca26\"], [1.0, \"#f0f921\"]]}, \"colorway\": [\"#636efa\", \"#EF553B\", \"#00cc96\", \"#ab63fa\", \"#FFA15A\", \"#19d3f3\", \"#FF6692\", \"#B6E880\", \"#FF97FF\", \"#FECB52\"], \"font\": {\"color\": \"#2a3f5f\"}, \"geo\": {\"bgcolor\": \"white\", \"lakecolor\": \"white\", \"landcolor\": \"#E5ECF6\", \"showlakes\": true, \"showland\": true, \"subunitcolor\": \"white\"}, \"hoverlabel\": {\"align\": \"left\"}, \"hovermode\": \"closest\", \"mapbox\": {\"style\": \"light\"}, \"paper_bgcolor\": \"white\", \"plot_bgcolor\": \"#E5ECF6\", \"polar\": {\"angularaxis\": {\"gridcolor\": \"white\", \"linecolor\": \"white\", \"ticks\": \"\"}, \"bgcolor\": \"#E5ECF6\", \"radialaxis\": {\"gridcolor\": \"white\", \"linecolor\": \"white\", \"ticks\": \"\"}}, \"scene\": {\"xaxis\": {\"backgroundcolor\": \"#E5ECF6\", \"gridcolor\": \"white\", \"gridwidth\": 2, \"linecolor\": \"white\", \"showbackground\": true, \"ticks\": \"\", \"zerolinecolor\": \"white\"}, \"yaxis\": {\"backgroundcolor\": \"#E5ECF6\", \"gridcolor\": \"white\", \"gridwidth\": 2, \"linecolor\": \"white\", \"showbackground\": true, \"ticks\": \"\", \"zerolinecolor\": \"white\"}, \"zaxis\": {\"backgroundcolor\": \"#E5ECF6\", \"gridcolor\": \"white\", \"gridwidth\": 2, \"linecolor\": \"white\", \"showbackground\": true, \"ticks\": \"\", \"zerolinecolor\": \"white\"}}, \"shapedefaults\": {\"line\": {\"color\": \"#2a3f5f\"}}, \"ternary\": {\"aaxis\": {\"gridcolor\": \"white\", \"linecolor\": \"white\", \"ticks\": \"\"}, \"baxis\": {\"gridcolor\": \"white\", \"linecolor\": \"white\", \"ticks\": \"\"}, \"bgcolor\": \"#E5ECF6\", \"caxis\": {\"gridcolor\": \"white\", \"linecolor\": \"white\", \"ticks\": \"\"}}, \"title\": {\"x\": 0.05}, \"xaxis\": {\"automargin\": true, \"gridcolor\": \"white\", \"linecolor\": \"white\", \"ticks\": \"\", \"title\": {\"standoff\": 15}, \"zerolinecolor\": \"white\", \"zerolinewidth\": 2}, \"yaxis\": {\"automargin\": true, \"gridcolor\": \"white\", \"linecolor\": \"white\", \"ticks\": \"\", \"title\": {\"standoff\": 15}, \"zerolinecolor\": \"white\", \"zerolinewidth\": 2}}}, \"title\": {\"text\": \"Function to approximate\"}, \"width\": 600, \"xaxis\": {\"title\": {\"text\": \"x\"}}},\n",
       "                        {\"responsive\": true}\n",
       "                    ).then(function(){\n",
       "                            \n",
       "var gd = document.getElementById('e2bb4bf5-3d78-4b0c-902c-2ed5a0bd14f7');\n",
       "var x = new MutationObserver(function (mutations, observer) {{\n",
       "        var display = window.getComputedStyle(gd).display;\n",
       "        if (!display || display === 'none') {{\n",
       "            console.log([gd, 'removed!']);\n",
       "            Plotly.purge(gd);\n",
       "            observer.disconnect();\n",
       "        }}\n",
       "}});\n",
       "\n",
       "// Listen for the removal of the full notebook cells\n",
       "var notebookContainer = gd.closest('#notebook-container');\n",
       "if (notebookContainer) {{\n",
       "    x.observe(notebookContainer, {childList: true});\n",
       "}}\n",
       "\n",
       "// Listen for the clearing of the current output cell\n",
       "var outputEl = gd.closest('.output');\n",
       "if (outputEl) {{\n",
       "    x.observe(outputEl, {childList: true});\n",
       "}}\n",
       "\n",
       "                        })\n",
       "                };\n",
       "                });\n",
       "            </script>\n",
       "        </div>"
      ]
     },
     "metadata": {},
     "output_type": "display_data"
    }
   ],
   "source": [
    "fig = go.Figure()\n",
    "fig.add_trace(go.Scatter(x=X_train, y=y_train))\n",
    "fig.update_layout(width=600,title='Function to approximate', xaxis_title='x')\n",
    "fig.show()"
   ]
  },
  {
   "cell_type": "code",
   "execution_count": 184,
   "metadata": {},
   "outputs": [],
   "source": [
    "save_to_html(fig, '../Slides/TF_Keras', 'fig1.html')"
   ]
  },
  {
   "cell_type": "code",
   "execution_count": 185,
   "metadata": {},
   "outputs": [],
   "source": [
    "import tensorflow as tf\n",
    "from tensorflow import keras\n",
    "from tensorflow.keras import optimizers\n",
    "\n",
    "n_epochs = 100\n",
    "learning_rate = 0.1"
   ]
  },
  {
   "cell_type": "code",
   "execution_count": 186,
   "metadata": {},
   "outputs": [
    {
     "name": "stdout",
     "output_type": "stream",
     "text": [
      "Model: \"sequential_6\"\n",
      "_________________________________________________________________\n",
      "Layer (type)                 Output Shape              Param #   \n",
      "=================================================================\n",
      "dense_52 (Dense)             (None, 4)                 8         \n",
      "_________________________________________________________________\n",
      "dense_53 (Dense)             (None, 4)                 20        \n",
      "_________________________________________________________________\n",
      "dense_54 (Dense)             (None, 4)                 20        \n",
      "_________________________________________________________________\n",
      "dense_55 (Dense)             (None, 1)                 5         \n",
      "=================================================================\n",
      "Total params: 53\n",
      "Trainable params: 53\n",
      "Non-trainable params: 0\n",
      "_________________________________________________________________\n"
     ]
    }
   ],
   "source": [
    "tf.random.set_seed(2020)\n",
    "model = keras.models.Sequential()\n",
    "model.add(keras.layers.InputLayer(input_shape=1))\n",
    "model.add(keras.layers.Dense(4, activation=\"tanh\"))\n",
    "model.add(keras.layers.Dense(4, activation=\"tanh\"))\n",
    "model.add(keras.layers.Dense(4, activation=\"tanh\"))\n",
    "model.add(keras.layers.Dense(1, activation=\"linear\"))\n",
    "\n",
    "model.summary()"
   ]
  },
  {
   "cell_type": "code",
   "execution_count": 187,
   "metadata": {},
   "outputs": [
    {
     "data": {
      "text/plain": [
       "[<tensorflow.python.keras.layers.core.Dense at 0x64706a650>,\n",
       " <tensorflow.python.keras.layers.core.Dense at 0x64706ab10>,\n",
       " <tensorflow.python.keras.layers.core.Dense at 0x64706a910>,\n",
       " <tensorflow.python.keras.layers.core.Dense at 0x642b839d0>]"
      ]
     },
     "execution_count": 187,
     "metadata": {},
     "output_type": "execute_result"
    }
   ],
   "source": [
    "model.layers"
   ]
  },
  {
   "cell_type": "code",
   "execution_count": 188,
   "metadata": {},
   "outputs": [
    {
     "name": "stdout",
     "output_type": "stream",
     "text": [
      "dense_53\n"
     ]
    }
   ],
   "source": [
    "hidden1 = model.layers[1]\n",
    "print(hidden1.name)"
   ]
  },
  {
   "cell_type": "code",
   "execution_count": 189,
   "metadata": {},
   "outputs": [
    {
     "name": "stdout",
     "output_type": "stream",
     "text": [
      "(4, 4)\n",
      "(4,)\n"
     ]
    }
   ],
   "source": [
    "weights, biases = hidden1.get_weights()\n",
    "print(weights.shape)\n",
    "print(biases.shape)"
   ]
  },
  {
   "cell_type": "code",
   "execution_count": 190,
   "metadata": {},
   "outputs": [
    {
     "name": "stdout",
     "output_type": "stream",
     "text": [
      "Train on 1025 samples, validate on 257 samples\n",
      "Epoch 1/100\n",
      "1025/1025 [==============================] - 2s 1ms/sample - loss: 0.0295 - mse: 0.0295 - mae: 0.1045 - val_loss: 0.0158 - val_mse: 0.0158 - val_mae: 0.1051\n",
      "Epoch 2/100\n",
      "1025/1025 [==============================] - 0s 297us/sample - loss: 0.0040 - mse: 0.0040 - mae: 0.0517 - val_loss: 0.0026 - val_mse: 0.0026 - val_mae: 0.0405\n",
      "Epoch 3/100\n",
      "1025/1025 [==============================] - 0s 286us/sample - loss: 0.0017 - mse: 0.0017 - mae: 0.0320 - val_loss: 0.0013 - val_mse: 0.0013 - val_mae: 0.0317\n",
      "Epoch 4/100\n",
      "1025/1025 [==============================] - 0s 136us/sample - loss: 7.3423e-04 - mse: 7.3423e-04 - mae: 0.0203 - val_loss: 5.2598e-04 - val_mse: 5.2598e-04 - val_mae: 0.0173\n",
      "Epoch 5/100\n",
      "1025/1025 [==============================] - 0s 300us/sample - loss: 4.4904e-04 - mse: 4.4904e-04 - mae: 0.0162 - val_loss: 0.0015 - val_mse: 0.0015 - val_mae: 0.0337\n",
      "Epoch 6/100\n",
      "1025/1025 [==============================] - 0s 193us/sample - loss: 3.5312e-04 - mse: 3.5312e-04 - mae: 0.0145 - val_loss: 5.0100e-04 - val_mse: 5.0100e-04 - val_mae: 0.0195\n",
      "Epoch 7/100\n",
      "1025/1025 [==============================] - 0s 153us/sample - loss: 2.3419e-04 - mse: 2.3419e-04 - mae: 0.0122 - val_loss: 3.7795e-04 - val_mse: 3.7795e-04 - val_mae: 0.0138\n",
      "Epoch 8/100\n",
      "1025/1025 [==============================] - 0s 155us/sample - loss: 1.9057e-04 - mse: 1.9057e-04 - mae: 0.0111 - val_loss: 5.2446e-04 - val_mse: 5.2446e-04 - val_mae: 0.0176\n",
      "Epoch 9/100\n",
      "1025/1025 [==============================] - 0s 144us/sample - loss: 1.5204e-04 - mse: 1.5204e-04 - mae: 0.0101 - val_loss: 1.3431e-04 - val_mse: 1.3431e-04 - val_mae: 0.0097\n",
      "Epoch 10/100\n",
      "1025/1025 [==============================] - 0s 186us/sample - loss: 1.2517e-04 - mse: 1.2517e-04 - mae: 0.0093 - val_loss: 1.2809e-04 - val_mse: 1.2809e-04 - val_mae: 0.0095\n",
      "Epoch 11/100\n",
      "1025/1025 [==============================] - 0s 167us/sample - loss: 1.0628e-04 - mse: 1.0628e-04 - mae: 0.0087 - val_loss: 3.1387e-04 - val_mse: 3.1387e-04 - val_mae: 0.0155\n",
      "Epoch 12/100\n",
      "1025/1025 [==============================] - 0s 154us/sample - loss: 9.8155e-05 - mse: 9.8155e-05 - mae: 0.0083 - val_loss: 8.3539e-05 - val_mse: 8.3539e-05 - val_mae: 0.0078\n",
      "Epoch 13/100\n",
      "1025/1025 [==============================] - 0s 243us/sample - loss: 8.1987e-05 - mse: 8.1987e-05 - mae: 0.0077 - val_loss: 1.9175e-04 - val_mse: 1.9175e-04 - val_mae: 0.0116\n",
      "Epoch 14/100\n",
      "1025/1025 [==============================] - 0s 160us/sample - loss: 7.9101e-05 - mse: 7.9101e-05 - mae: 0.0075 - val_loss: 2.1951e-04 - val_mse: 2.1951e-04 - val_mae: 0.0121\n",
      "Epoch 15/100\n",
      "1025/1025 [==============================] - 0s 191us/sample - loss: 7.2457e-05 - mse: 7.2457e-05 - mae: 0.0072 - val_loss: 7.1002e-05 - val_mse: 7.1002e-05 - val_mae: 0.0072\n",
      "Epoch 16/100\n",
      "1025/1025 [==============================] - 0s 341us/sample - loss: 6.1285e-05 - mse: 6.1285e-05 - mae: 0.0067 - val_loss: 1.4970e-04 - val_mse: 1.4970e-04 - val_mae: 0.0098\n",
      "Epoch 17/100\n",
      "1025/1025 [==============================] - 0s 154us/sample - loss: 5.9798e-05 - mse: 5.9798e-05 - mae: 0.0066 - val_loss: 5.5519e-05 - val_mse: 5.5519e-05 - val_mae: 0.0064\n",
      "Epoch 18/100\n",
      "1025/1025 [==============================] - 0s 150us/sample - loss: 5.5627e-05 - mse: 5.5627e-05 - mae: 0.0064 - val_loss: 1.0301e-04 - val_mse: 1.0301e-04 - val_mae: 0.0079\n",
      "Epoch 19/100\n",
      "1025/1025 [==============================] - 0s 178us/sample - loss: 5.3382e-05 - mse: 5.3382e-05 - mae: 0.0062 - val_loss: 7.1163e-05 - val_mse: 7.1163e-05 - val_mae: 0.0071\n",
      "Epoch 20/100\n",
      "1025/1025 [==============================] - 0s 221us/sample - loss: 5.1383e-05 - mse: 5.1383e-05 - mae: 0.0061 - val_loss: 1.0018e-04 - val_mse: 1.0018e-04 - val_mae: 0.0081\n",
      "Epoch 21/100\n",
      "1025/1025 [==============================] - 0s 229us/sample - loss: 4.9617e-05 - mse: 4.9617e-05 - mae: 0.0059 - val_loss: 7.6425e-05 - val_mse: 7.6425e-05 - val_mae: 0.0073\n",
      "Epoch 22/100\n",
      "1025/1025 [==============================] - 0s 227us/sample - loss: 4.7261e-05 - mse: 4.7261e-05 - mae: 0.0058 - val_loss: 1.1810e-04 - val_mse: 1.1810e-04 - val_mae: 0.0088\n",
      "Epoch 23/100\n",
      "1025/1025 [==============================] - 0s 187us/sample - loss: 4.6154e-05 - mse: 4.6154e-05 - mae: 0.0057 - val_loss: 4.2106e-05 - val_mse: 4.2106e-05 - val_mae: 0.0055\n",
      "Epoch 24/100\n",
      "1025/1025 [==============================] - 0s 153us/sample - loss: 4.3031e-05 - mse: 4.3031e-05 - mae: 0.0056 - val_loss: 1.0103e-04 - val_mse: 1.0103e-04 - val_mae: 0.0087\n",
      "Epoch 25/100\n",
      "1025/1025 [==============================] - 0s 156us/sample - loss: 4.2088e-05 - mse: 4.2088e-05 - mae: 0.0055 - val_loss: 8.2051e-05 - val_mse: 8.2051e-05 - val_mae: 0.0078\n",
      "Epoch 26/100\n",
      "1025/1025 [==============================] - 0s 152us/sample - loss: 4.1219e-05 - mse: 4.1219e-05 - mae: 0.0054 - val_loss: 4.5232e-04 - val_mse: 4.5232e-04 - val_mae: 0.0182\n",
      "Epoch 27/100\n",
      "1025/1025 [==============================] - 0s 148us/sample - loss: 5.1536e-05 - mse: 5.1536e-05 - mae: 0.0057 - val_loss: 8.9924e-05 - val_mse: 8.9924e-05 - val_mae: 0.0081\n",
      "Epoch 28/100\n",
      "1025/1025 [==============================] - 0s 147us/sample - loss: 3.7635e-05 - mse: 3.7635e-05 - mae: 0.0051 - val_loss: 3.6657e-05 - val_mse: 3.6657e-05 - val_mae: 0.0050\n",
      "Epoch 29/100\n",
      "1025/1025 [==============================] - 0s 137us/sample - loss: 3.5213e-05 - mse: 3.5213e-05 - mae: 0.0050 - val_loss: 7.4667e-05 - val_mse: 7.4667e-05 - val_mae: 0.0068\n",
      "Epoch 30/100\n",
      "1025/1025 [==============================] - 0s 164us/sample - loss: 3.4515e-05 - mse: 3.4515e-05 - mae: 0.0049 - val_loss: 7.5978e-05 - val_mse: 7.5978e-05 - val_mae: 0.0074\n",
      "Epoch 31/100\n",
      "1025/1025 [==============================] - 0s 170us/sample - loss: 3.3942e-05 - mse: 3.3942e-05 - mae: 0.0048 - val_loss: 7.1495e-05 - val_mse: 7.1495e-05 - val_mae: 0.0065\n",
      "Epoch 32/100\n",
      "1025/1025 [==============================] - 0s 181us/sample - loss: 3.3249e-05 - mse: 3.3249e-05 - mae: 0.0048 - val_loss: 5.6615e-04 - val_mse: 5.6615e-04 - val_mae: 0.0202\n",
      "Epoch 33/100\n",
      "1025/1025 [==============================] - 0s 151us/sample - loss: 4.5104e-05 - mse: 4.5104e-05 - mae: 0.0051 - val_loss: 3.0654e-05 - val_mse: 3.0654e-05 - val_mae: 0.0046\n",
      "Epoch 34/100\n",
      "1025/1025 [==============================] - 0s 152us/sample - loss: 2.9041e-05 - mse: 2.9041e-05 - mae: 0.0045 - val_loss: 5.0981e-05 - val_mse: 5.0981e-05 - val_mae: 0.0059\n",
      "Epoch 35/100\n",
      "1025/1025 [==============================] - 0s 140us/sample - loss: 2.9425e-05 - mse: 2.9425e-05 - mae: 0.0045 - val_loss: 5.2757e-05 - val_mse: 5.2757e-05 - val_mae: 0.0061\n",
      "Epoch 36/100\n",
      "1025/1025 [==============================] - 0s 158us/sample - loss: 2.8376e-05 - mse: 2.8376e-05 - mae: 0.0045 - val_loss: 3.3697e-05 - val_mse: 3.3697e-05 - val_mae: 0.0046\n",
      "Epoch 37/100\n",
      "1025/1025 [==============================] - 0s 164us/sample - loss: 2.7712e-05 - mse: 2.7712e-05 - mae: 0.0043 - val_loss: 2.7889e-05 - val_mse: 2.7889e-05 - val_mae: 0.0044\n",
      "Epoch 38/100\n",
      "1025/1025 [==============================] - 0s 130us/sample - loss: 2.5804e-05 - mse: 2.5804e-05 - mae: 0.0042 - val_loss: 5.4426e-05 - val_mse: 5.4426e-05 - val_mae: 0.0063\n",
      "Epoch 39/100\n",
      "1025/1025 [==============================] - 0s 234us/sample - loss: 2.5553e-05 - mse: 2.5553e-05 - mae: 0.0042 - val_loss: 2.5639e-05 - val_mse: 2.5639e-05 - val_mae: 0.0041\n",
      "Epoch 40/100\n",
      "1025/1025 [==============================] - 0s 174us/sample - loss: 2.3918e-05 - mse: 2.3918e-05 - mae: 0.0040 - val_loss: 2.7350e-05 - val_mse: 2.7350e-05 - val_mae: 0.0042\n",
      "Epoch 41/100\n",
      "1025/1025 [==============================] - 0s 126us/sample - loss: 2.3995e-05 - mse: 2.3995e-05 - mae: 0.0040 - val_loss: 2.5184e-05 - val_mse: 2.5184e-05 - val_mae: 0.0041\n",
      "Epoch 42/100\n",
      "1025/1025 [==============================] - 0s 130us/sample - loss: 2.3213e-05 - mse: 2.3213e-05 - mae: 0.0039 - val_loss: 3.8129e-05 - val_mse: 3.8129e-05 - val_mae: 0.0051\n",
      "Epoch 43/100\n",
      "1025/1025 [==============================] - 0s 189us/sample - loss: 2.3377e-05 - mse: 2.3377e-05 - mae: 0.0039 - val_loss: 4.2739e-05 - val_mse: 4.2739e-05 - val_mae: 0.0053\n",
      "Epoch 44/100\n",
      "1025/1025 [==============================] - 0s 162us/sample - loss: 2.2624e-05 - mse: 2.2624e-05 - mae: 0.0039 - val_loss: 2.0667e-05 - val_mse: 2.0667e-05 - val_mae: 0.0037\n"
     ]
    },
    {
     "name": "stdout",
     "output_type": "stream",
     "text": [
      "Epoch 45/100\n",
      "1025/1025 [==============================] - 0s 168us/sample - loss: 2.0302e-05 - mse: 2.0302e-05 - mae: 0.0037 - val_loss: 2.0569e-05 - val_mse: 2.0569e-05 - val_mae: 0.0037\n",
      "Epoch 46/100\n",
      "1025/1025 [==============================] - 0s 141us/sample - loss: 2.0259e-05 - mse: 2.0259e-05 - mae: 0.0037 - val_loss: 3.5271e-05 - val_mse: 3.5271e-05 - val_mae: 0.0049\n",
      "Epoch 47/100\n",
      "1025/1025 [==============================] - 0s 134us/sample - loss: 2.0542e-05 - mse: 2.0542e-05 - mae: 0.0037 - val_loss: 2.9903e-05 - val_mse: 2.9903e-05 - val_mae: 0.0045\n",
      "Epoch 48/100\n",
      "1025/1025 [==============================] - 0s 111us/sample - loss: 1.9455e-05 - mse: 1.9455e-05 - mae: 0.0036 - val_loss: 1.8218e-05 - val_mse: 1.8218e-05 - val_mae: 0.0035\n",
      "Epoch 49/100\n",
      "1025/1025 [==============================] - 0s 118us/sample - loss: 1.8136e-05 - mse: 1.8136e-05 - mae: 0.0034 - val_loss: 2.7430e-05 - val_mse: 2.7430e-05 - val_mae: 0.0042\n",
      "Epoch 50/100\n",
      "1025/1025 [==============================] - 0s 132us/sample - loss: 1.7904e-05 - mse: 1.7904e-05 - mae: 0.0034 - val_loss: 5.3967e-05 - val_mse: 5.3967e-05 - val_mae: 0.0061\n",
      "Epoch 51/100\n",
      "1025/1025 [==============================] - 0s 192us/sample - loss: 1.8576e-05 - mse: 1.8576e-05 - mae: 0.0035 - val_loss: 3.6234e-05 - val_mse: 3.6234e-05 - val_mae: 0.0051\n",
      "Epoch 52/100\n",
      "1025/1025 [==============================] - 0s 381us/sample - loss: 1.7277e-05 - mse: 1.7277e-05 - mae: 0.0033 - val_loss: 2.8192e-05 - val_mse: 2.8192e-05 - val_mae: 0.0042\n",
      "Epoch 53/100\n",
      "1025/1025 [==============================] - 0s 219us/sample - loss: 1.7273e-05 - mse: 1.7273e-05 - mae: 0.0033 - val_loss: 1.3960e-04 - val_mse: 1.3960e-04 - val_mae: 0.0101\n",
      "Epoch 54/100\n",
      "1025/1025 [==============================] - 0s 175us/sample - loss: 2.0401e-05 - mse: 2.0401e-05 - mae: 0.0035 - val_loss: 3.3178e-05 - val_mse: 3.3178e-05 - val_mae: 0.0049\n",
      "Epoch 55/100\n",
      "1025/1025 [==============================] - 0s 141us/sample - loss: 1.6383e-05 - mse: 1.6383e-05 - mae: 0.0032 - val_loss: 3.0989e-05 - val_mse: 3.0989e-05 - val_mae: 0.0048\n",
      "Epoch 56/100\n",
      "1025/1025 [==============================] - 0s 127us/sample - loss: 1.5805e-05 - mse: 1.5805e-05 - mae: 0.0031 - val_loss: 3.2581e-04 - val_mse: 3.2581e-04 - val_mae: 0.0153\n",
      "Epoch 57/100\n",
      "1025/1025 [==============================] - 0s 129us/sample - loss: 2.4795e-05 - mse: 2.4795e-05 - mae: 0.0036 - val_loss: 1.7721e-05 - val_mse: 1.7721e-05 - val_mae: 0.0034\n",
      "Epoch 58/100\n",
      "1025/1025 [==============================] - 0s 122us/sample - loss: 1.4055e-05 - mse: 1.4055e-05 - mae: 0.0031 - val_loss: 6.9633e-05 - val_mse: 6.9633e-05 - val_mae: 0.0068\n",
      "Epoch 59/100\n",
      "1025/1025 [==============================] - 0s 132us/sample - loss: 1.6615e-05 - mse: 1.6615e-05 - mae: 0.0032 - val_loss: 2.8594e-05 - val_mse: 2.8594e-05 - val_mae: 0.0040\n",
      "Epoch 60/100\n",
      "1025/1025 [==============================] - 0s 129us/sample - loss: 1.3478e-05 - mse: 1.3478e-05 - mae: 0.0029 - val_loss: 1.5486e-05 - val_mse: 1.5486e-05 - val_mae: 0.0031\n",
      "Epoch 61/100\n",
      "1025/1025 [==============================] - 0s 139us/sample - loss: 1.3232e-05 - mse: 1.3232e-05 - mae: 0.0029 - val_loss: 1.2444e-05 - val_mse: 1.2444e-05 - val_mae: 0.0029\n",
      "Epoch 62/100\n",
      "1025/1025 [==============================] - 0s 128us/sample - loss: 1.2543e-05 - mse: 1.2543e-05 - mae: 0.0028 - val_loss: 2.3374e-04 - val_mse: 2.3374e-04 - val_mae: 0.0131\n",
      "Epoch 63/100\n",
      "1025/1025 [==============================] - 0s 136us/sample - loss: 1.9722e-05 - mse: 1.9722e-05 - mae: 0.0032 - val_loss: 2.4164e-05 - val_mse: 2.4164e-05 - val_mae: 0.0041\n",
      "Epoch 64/100\n",
      "1025/1025 [==============================] - 0s 132us/sample - loss: 1.2037e-05 - mse: 1.2037e-05 - mae: 0.0028 - val_loss: 1.3976e-05 - val_mse: 1.3976e-05 - val_mae: 0.0029\n",
      "Epoch 65/100\n",
      "1025/1025 [==============================] - 0s 127us/sample - loss: 1.1391e-05 - mse: 1.1391e-05 - mae: 0.0027 - val_loss: 1.7270e-05 - val_mse: 1.7270e-05 - val_mae: 0.0033\n",
      "Epoch 66/100\n",
      "1025/1025 [==============================] - 0s 120us/sample - loss: 1.1647e-05 - mse: 1.1647e-05 - mae: 0.0027 - val_loss: 1.6626e-05 - val_mse: 1.6626e-05 - val_mae: 0.0030\n",
      "Epoch 67/100\n",
      "1025/1025 [==============================] - 0s 132us/sample - loss: 1.1114e-05 - mse: 1.1114e-05 - mae: 0.0027 - val_loss: 1.2170e-05 - val_mse: 1.2170e-05 - val_mae: 0.0026\n",
      "Epoch 68/100\n",
      "1025/1025 [==============================] - 0s 126us/sample - loss: 1.0584e-05 - mse: 1.0584e-05 - mae: 0.0026 - val_loss: 1.9375e-05 - val_mse: 1.9375e-05 - val_mae: 0.0031\n",
      "Epoch 69/100\n",
      "1025/1025 [==============================] - 0s 155us/sample - loss: 1.0467e-05 - mse: 1.0467e-05 - mae: 0.0025 - val_loss: 4.8039e-05 - val_mse: 4.8039e-05 - val_mae: 0.0056\n",
      "Epoch 70/100\n",
      "1025/1025 [==============================] - 0s 155us/sample - loss: 1.1587e-05 - mse: 1.1587e-05 - mae: 0.0026 - val_loss: 1.0016e-05 - val_mse: 1.0016e-05 - val_mae: 0.0024\n",
      "Epoch 71/100\n",
      "1025/1025 [==============================] - 0s 128us/sample - loss: 9.8037e-06 - mse: 9.8037e-06 - mae: 0.0025 - val_loss: 6.6746e-05 - val_mse: 6.6746e-05 - val_mae: 0.0067\n",
      "Epoch 72/100\n",
      "1025/1025 [==============================] - 0s 118us/sample - loss: 1.1514e-05 - mse: 1.1514e-05 - mae: 0.0026 - val_loss: 1.6204e-05 - val_mse: 1.6204e-05 - val_mae: 0.0032\n",
      "Epoch 73/100\n",
      "1025/1025 [==============================] - 0s 168us/sample - loss: 9.8591e-06 - mse: 9.8591e-06 - mae: 0.0024 - val_loss: 2.0560e-05 - val_mse: 2.0560e-05 - val_mae: 0.0039\n",
      "Epoch 74/100\n",
      "1025/1025 [==============================] - 0s 109us/sample - loss: 9.3626e-06 - mse: 9.3626e-06 - mae: 0.0024 - val_loss: 9.5377e-05 - val_mse: 9.5377e-05 - val_mae: 0.0083\n",
      "Epoch 75/100\n",
      "1025/1025 [==============================] - 0s 115us/sample - loss: 1.3311e-05 - mse: 1.3311e-05 - mae: 0.0026 - val_loss: 2.6877e-05 - val_mse: 2.6877e-05 - val_mae: 0.0043\n",
      "Epoch 76/100\n",
      "1025/1025 [==============================] - 0s 119us/sample - loss: 9.4017e-06 - mse: 9.4017e-06 - mae: 0.0024 - val_loss: 2.4707e-05 - val_mse: 2.4707e-05 - val_mae: 0.0039\n",
      "Epoch 77/100\n",
      "1025/1025 [==============================] - 0s 270us/sample - loss: 9.2019e-06 - mse: 9.2019e-06 - mae: 0.0024 - val_loss: 1.7363e-05 - val_mse: 1.7363e-05 - val_mae: 0.0034\n",
      "Epoch 78/100\n",
      "1025/1025 [==============================] - 0s 122us/sample - loss: 8.7497e-06 - mse: 8.7497e-06 - mae: 0.0023 - val_loss: 1.5623e-05 - val_mse: 1.5623e-05 - val_mae: 0.0033\n",
      "Epoch 79/100\n",
      "1025/1025 [==============================] - 0s 115us/sample - loss: 8.2457e-06 - mse: 8.2457e-06 - mae: 0.0022 - val_loss: 8.4408e-06 - val_mse: 8.4408e-06 - val_mae: 0.0023\n",
      "Epoch 80/100\n",
      "1025/1025 [==============================] - 0s 109us/sample - loss: 7.8068e-06 - mse: 7.8068e-06 - mae: 0.0021 - val_loss: 7.7932e-06 - val_mse: 7.7932e-06 - val_mae: 0.0021\n",
      "Epoch 81/100\n",
      "1025/1025 [==============================] - 0s 123us/sample - loss: 7.9165e-06 - mse: 7.9165e-06 - mae: 0.0021 - val_loss: 1.7655e-05 - val_mse: 1.7655e-05 - val_mae: 0.0036\n",
      "Epoch 82/100\n",
      "1025/1025 [==============================] - 0s 141us/sample - loss: 7.6506e-06 - mse: 7.6506e-06 - mae: 0.0021 - val_loss: 9.7337e-06 - val_mse: 9.7337e-06 - val_mae: 0.0024\n",
      "Epoch 83/100\n",
      "1025/1025 [==============================] - 0s 133us/sample - loss: 7.4561e-06 - mse: 7.4561e-06 - mae: 0.0021 - val_loss: 1.0178e-05 - val_mse: 1.0178e-05 - val_mae: 0.0024\n",
      "Epoch 84/100\n",
      "1025/1025 [==============================] - 0s 126us/sample - loss: 7.6215e-06 - mse: 7.6215e-06 - mae: 0.0021 - val_loss: 8.8374e-06 - val_mse: 8.8374e-06 - val_mae: 0.0024\n",
      "Epoch 85/100\n",
      "1025/1025 [==============================] - 0s 135us/sample - loss: 7.1634e-06 - mse: 7.1634e-06 - mae: 0.0020 - val_loss: 4.2287e-05 - val_mse: 4.2287e-05 - val_mae: 0.0055\n",
      "Epoch 86/100\n",
      "1025/1025 [==============================] - 0s 110us/sample - loss: 9.1507e-06 - mse: 9.1507e-06 - mae: 0.0022 - val_loss: 1.0660e-05 - val_mse: 1.0660e-05 - val_mae: 0.0025\n",
      "Epoch 87/100\n",
      "1025/1025 [==============================] - 0s 151us/sample - loss: 7.0070e-06 - mse: 7.0070e-06 - mae: 0.0020 - val_loss: 3.6699e-05 - val_mse: 3.6699e-05 - val_mae: 0.0049\n",
      "Epoch 88/100\n"
     ]
    },
    {
     "name": "stdout",
     "output_type": "stream",
     "text": [
      "1025/1025 [==============================] - 0s 119us/sample - loss: 7.6928e-06 - mse: 7.6928e-06 - mae: 0.0020 - val_loss: 1.3010e-05 - val_mse: 1.3010e-05 - val_mae: 0.0030\n",
      "Epoch 89/100\n",
      "1025/1025 [==============================] - 0s 192us/sample - loss: 6.8585e-06 - mse: 6.8585e-06 - mae: 0.0019 - val_loss: 1.3382e-05 - val_mse: 1.3382e-05 - val_mae: 0.0031\n",
      "Epoch 90/100\n",
      "1025/1025 [==============================] - 0s 118us/sample - loss: 6.6810e-06 - mse: 6.6810e-06 - mae: 0.0019 - val_loss: 7.2425e-06 - val_mse: 7.2425e-06 - val_mae: 0.0019\n",
      "Epoch 91/100\n",
      "1025/1025 [==============================] - 0s 140us/sample - loss: 6.2215e-06 - mse: 6.2215e-06 - mae: 0.0018 - val_loss: 9.4738e-06 - val_mse: 9.4738e-06 - val_mae: 0.0025\n",
      "Epoch 92/100\n",
      "1025/1025 [==============================] - 0s 117us/sample - loss: 6.1510e-06 - mse: 6.1510e-06 - mae: 0.0018 - val_loss: 7.7469e-06 - val_mse: 7.7469e-06 - val_mae: 0.0021\n",
      "Epoch 93/100\n",
      "1025/1025 [==============================] - 0s 114us/sample - loss: 6.1834e-06 - mse: 6.1834e-06 - mae: 0.0018 - val_loss: 6.9645e-06 - val_mse: 6.9645e-06 - val_mae: 0.0020\n",
      "Epoch 94/100\n",
      "1025/1025 [==============================] - 0s 112us/sample - loss: 5.7334e-06 - mse: 5.7334e-06 - mae: 0.0017 - val_loss: 2.8623e-05 - val_mse: 2.8623e-05 - val_mae: 0.0044\n",
      "Epoch 95/100\n",
      "1025/1025 [==============================] - 0s 117us/sample - loss: 6.5788e-06 - mse: 6.5788e-06 - mae: 0.0019 - val_loss: 1.3736e-05 - val_mse: 1.3736e-05 - val_mae: 0.0027\n",
      "Epoch 96/100\n",
      "1025/1025 [==============================] - 0s 109us/sample - loss: 5.7879e-06 - mse: 5.7879e-06 - mae: 0.0018 - val_loss: 3.6415e-05 - val_mse: 3.6415e-05 - val_mae: 0.0048\n",
      "Epoch 97/100\n",
      "1025/1025 [==============================] - 0s 95us/sample - loss: 6.2844e-06 - mse: 6.2844e-06 - mae: 0.0018 - val_loss: 2.4142e-05 - val_mse: 2.4142e-05 - val_mae: 0.0040\n",
      "Epoch 98/100\n",
      "1025/1025 [==============================] - 0s 111us/sample - loss: 5.8401e-06 - mse: 5.8401e-06 - mae: 0.0018 - val_loss: 7.3618e-06 - val_mse: 7.3618e-06 - val_mae: 0.0019\n",
      "Epoch 99/100\n",
      "1025/1025 [==============================] - 0s 112us/sample - loss: 5.4414e-06 - mse: 5.4414e-06 - mae: 0.0017 - val_loss: 4.4342e-05 - val_mse: 4.4342e-05 - val_mae: 0.0057\n",
      "Epoch 100/100\n",
      "1025/1025 [==============================] - 0s 131us/sample - loss: 6.7907e-06 - mse: 6.7907e-06 - mae: 0.0018 - val_loss: 1.0557e-05 - val_mse: 1.0557e-05 - val_mae: 0.0027\n"
     ]
    }
   ],
   "source": [
    "sgd = optimizers.SGD(lr=learning_rate)\n",
    "model.compile(loss='mse', optimizer=sgd, metrics=['mse','mae'])\n",
    "history = model.fit(X_train, y_train, epochs=n_epochs,\n",
    "                    validation_data=(X_valid, y_valid))"
   ]
  },
  {
   "cell_type": "code",
   "execution_count": 191,
   "metadata": {},
   "outputs": [
    {
     "data": {
      "application/vnd.plotly.v1+json": {
       "config": {
        "plotlyServerURL": "https://plot.ly"
       },
       "data": [
        {
         "name": "error training",
         "type": "scatter",
         "y": [
          0.02953934855759144,
          0.003976061940193176,
          0.0016693932702764869,
          0.0007342337630689144,
          0.0004490409337449819,
          0.0003531205584295094,
          0.00023418864293489605,
          0.00019056785095017403,
          0.0001520413061371073,
          0.000125170307001099,
          0.00010627872688928619,
          9.8155222076457e-05,
          8.19867491372861e-05,
          7.910068961791694e-05,
          7.245693996082991e-05,
          6.128459062892944e-05,
          5.979845082038082e-05,
          5.5627268011448905e-05,
          5.338234768714756e-05,
          5.138283086125739e-05,
          4.961689410265535e-05,
          4.726127372123301e-05,
          4.615429861587472e-05,
          4.303103924030438e-05,
          4.208788232062943e-05,
          4.121910751564428e-05,
          5.1535760576371104e-05,
          3.7635109038092196e-05,
          3.5212604416301474e-05,
          3.4515327570261434e-05,
          3.3941698347916827e-05,
          3.3248790714424103e-05,
          4.510406142799184e-05,
          2.9040640583843924e-05,
          2.9425094908219762e-05,
          2.8376231057336554e-05,
          2.771175240923185e-05,
          2.580437285359949e-05,
          2.5552984880050644e-05,
          2.3918337319628336e-05,
          2.399493496341165e-05,
          2.321280953765381e-05,
          2.337741716473829e-05,
          2.262378257000819e-05,
          2.030188807111699e-05,
          2.025887806667015e-05,
          2.0541760022751987e-05,
          1.9454519133432768e-05,
          1.8136419384973124e-05,
          1.7903839761856943e-05,
          1.8575505237095058e-05,
          1.727652852423489e-05,
          1.727261951600667e-05,
          2.040062827290967e-05,
          1.6383413822040893e-05,
          1.5804891518200748e-05,
          2.4794549972284585e-05,
          1.4055280189495534e-05,
          1.6614800188108347e-05,
          1.3477854736265726e-05,
          1.3232438504928723e-05,
          1.2542679542093538e-05,
          1.972208519873675e-05,
          1.2036995030939579e-05,
          1.1391081898182165e-05,
          1.1647261089819949e-05,
          1.1114255357824732e-05,
          1.0584009032754693e-05,
          1.0467494576005265e-05,
          1.1586940672714263e-05,
          9.80374898063019e-06,
          1.1514333891682327e-05,
          9.859072633844335e-06,
          9.362628588860389e-06,
          1.3311498150869738e-05,
          9.401661372976378e-06,
          9.201896318700165e-06,
          8.749679182074033e-06,
          8.245725439337548e-06,
          7.806845133018214e-06,
          7.916483809822239e-06,
          7.650554834981449e-06,
          7.456128969351994e-06,
          7.621538770763436e-06,
          7.163434474932728e-06,
          9.150709956884384e-06,
          7.007001386227785e-06,
          7.692756298638415e-06,
          6.858482265670318e-06,
          6.680983915430261e-06,
          6.221536295925034e-06,
          6.150952685857192e-06,
          6.183446657814784e-06,
          5.7334268603881355e-06,
          6.578795364475809e-06,
          5.787921963928966e-06,
          6.284409209911246e-06,
          5.8400646594236605e-06,
          5.441420398710761e-06,
          6.790664883737918e-06
         ]
        },
        {
         "name": "error validation",
         "type": "scatter",
         "y": [
          0.015809040516614914,
          0.002574562095105648,
          0.0013488342519849539,
          0.0005259794997982681,
          0.0014966174494475126,
          0.0005009981105104089,
          0.0003779467660933733,
          0.0005244622589088976,
          0.00013431449769996107,
          0.00012809295731130987,
          0.00031386985210701823,
          8.353905286639929e-05,
          0.00019175364286638796,
          0.00021951226517558098,
          7.10016829543747e-05,
          0.00014969748735893518,
          5.5519063607789576e-05,
          0.00010300948633812368,
          7.11631219019182e-05,
          0.00010018290049629286,
          7.642493437742814e-05,
          0.00011810311116278172,
          4.210583574604243e-05,
          0.0001010344858514145,
          8.205143240047619e-05,
          0.0004523214010987431,
          8.992418588604778e-05,
          3.6656816519098356e-05,
          7.466675015166402e-05,
          7.597795047331601e-05,
          7.149465818656608e-05,
          0.0005661508184857666,
          3.065373675781302e-05,
          5.0980957894353196e-05,
          5.2756662626052275e-05,
          3.369716432644054e-05,
          2.7889176635653712e-05,
          5.4426265705842525e-05,
          2.563902671681717e-05,
          2.734993540798314e-05,
          2.518401015549898e-05,
          3.812928116531111e-05,
          4.2738643969642e-05,
          2.06667828024365e-05,
          2.0569301341311075e-05,
          3.5271306842332706e-05,
          2.990254324686248e-05,
          1.821789010136854e-05,
          2.7430191039456986e-05,
          5.3967283747624606e-05,
          3.623359589255415e-05,
          2.819208566506859e-05,
          0.00013960177602712065,
          3.317765731480904e-05,
          3.098915840382688e-05,
          0.00032581150298938155,
          1.7721178664942272e-05,
          6.963300256757066e-05,
          2.859423511836212e-05,
          1.5485798940062523e-05,
          1.2444310414139181e-05,
          0.00023374365991912782,
          2.4163817215594463e-05,
          1.3975761248730123e-05,
          1.727008566376753e-05,
          1.6626427168375812e-05,
          1.217003409692552e-05,
          1.9374556359252892e-05,
          4.80387061543297e-05,
          1.001635791908484e-05,
          6.674560427200049e-05,
          1.6204043276957236e-05,
          2.055950608337298e-05,
          9.537677397020161e-05,
          2.6876959964283742e-05,
          2.4707353077246808e-05,
          1.7363219740218483e-05,
          1.5623312719981186e-05,
          8.44077567307977e-06,
          7.793244549247902e-06,
          1.765485831128899e-05,
          9.733717888593674e-06,
          1.0178457159781829e-05,
          8.837397217575926e-06,
          4.2287108954042196e-05,
          1.0660046427801717e-05,
          3.6698522308142856e-05,
          1.3010111615585629e-05,
          1.3382021279539913e-05,
          7.24249230188434e-06,
          9.473781574342865e-06,
          7.746881237835623e-06,
          6.964498425077181e-06,
          2.8623242542380467e-05,
          1.3735666470893193e-05,
          3.6415258364286274e-05,
          2.414151094853878e-05,
          7.3618134592834394e-06,
          4.4342090404825285e-05,
          1.0557189852988813e-05
         ]
        }
       ],
       "layout": {
        "template": {
         "data": {
          "bar": [
           {
            "error_x": {
             "color": "#2a3f5f"
            },
            "error_y": {
             "color": "#2a3f5f"
            },
            "marker": {
             "line": {
              "color": "#E5ECF6",
              "width": 0.5
             }
            },
            "type": "bar"
           }
          ],
          "barpolar": [
           {
            "marker": {
             "line": {
              "color": "#E5ECF6",
              "width": 0.5
             }
            },
            "type": "barpolar"
           }
          ],
          "carpet": [
           {
            "aaxis": {
             "endlinecolor": "#2a3f5f",
             "gridcolor": "white",
             "linecolor": "white",
             "minorgridcolor": "white",
             "startlinecolor": "#2a3f5f"
            },
            "baxis": {
             "endlinecolor": "#2a3f5f",
             "gridcolor": "white",
             "linecolor": "white",
             "minorgridcolor": "white",
             "startlinecolor": "#2a3f5f"
            },
            "type": "carpet"
           }
          ],
          "choropleth": [
           {
            "colorbar": {
             "outlinewidth": 0,
             "ticks": ""
            },
            "type": "choropleth"
           }
          ],
          "contour": [
           {
            "colorbar": {
             "outlinewidth": 0,
             "ticks": ""
            },
            "colorscale": [
             [
              0,
              "#0d0887"
             ],
             [
              0.1111111111111111,
              "#46039f"
             ],
             [
              0.2222222222222222,
              "#7201a8"
             ],
             [
              0.3333333333333333,
              "#9c179e"
             ],
             [
              0.4444444444444444,
              "#bd3786"
             ],
             [
              0.5555555555555556,
              "#d8576b"
             ],
             [
              0.6666666666666666,
              "#ed7953"
             ],
             [
              0.7777777777777778,
              "#fb9f3a"
             ],
             [
              0.8888888888888888,
              "#fdca26"
             ],
             [
              1,
              "#f0f921"
             ]
            ],
            "type": "contour"
           }
          ],
          "contourcarpet": [
           {
            "colorbar": {
             "outlinewidth": 0,
             "ticks": ""
            },
            "type": "contourcarpet"
           }
          ],
          "heatmap": [
           {
            "colorbar": {
             "outlinewidth": 0,
             "ticks": ""
            },
            "colorscale": [
             [
              0,
              "#0d0887"
             ],
             [
              0.1111111111111111,
              "#46039f"
             ],
             [
              0.2222222222222222,
              "#7201a8"
             ],
             [
              0.3333333333333333,
              "#9c179e"
             ],
             [
              0.4444444444444444,
              "#bd3786"
             ],
             [
              0.5555555555555556,
              "#d8576b"
             ],
             [
              0.6666666666666666,
              "#ed7953"
             ],
             [
              0.7777777777777778,
              "#fb9f3a"
             ],
             [
              0.8888888888888888,
              "#fdca26"
             ],
             [
              1,
              "#f0f921"
             ]
            ],
            "type": "heatmap"
           }
          ],
          "heatmapgl": [
           {
            "colorbar": {
             "outlinewidth": 0,
             "ticks": ""
            },
            "colorscale": [
             [
              0,
              "#0d0887"
             ],
             [
              0.1111111111111111,
              "#46039f"
             ],
             [
              0.2222222222222222,
              "#7201a8"
             ],
             [
              0.3333333333333333,
              "#9c179e"
             ],
             [
              0.4444444444444444,
              "#bd3786"
             ],
             [
              0.5555555555555556,
              "#d8576b"
             ],
             [
              0.6666666666666666,
              "#ed7953"
             ],
             [
              0.7777777777777778,
              "#fb9f3a"
             ],
             [
              0.8888888888888888,
              "#fdca26"
             ],
             [
              1,
              "#f0f921"
             ]
            ],
            "type": "heatmapgl"
           }
          ],
          "histogram": [
           {
            "marker": {
             "colorbar": {
              "outlinewidth": 0,
              "ticks": ""
             }
            },
            "type": "histogram"
           }
          ],
          "histogram2d": [
           {
            "colorbar": {
             "outlinewidth": 0,
             "ticks": ""
            },
            "colorscale": [
             [
              0,
              "#0d0887"
             ],
             [
              0.1111111111111111,
              "#46039f"
             ],
             [
              0.2222222222222222,
              "#7201a8"
             ],
             [
              0.3333333333333333,
              "#9c179e"
             ],
             [
              0.4444444444444444,
              "#bd3786"
             ],
             [
              0.5555555555555556,
              "#d8576b"
             ],
             [
              0.6666666666666666,
              "#ed7953"
             ],
             [
              0.7777777777777778,
              "#fb9f3a"
             ],
             [
              0.8888888888888888,
              "#fdca26"
             ],
             [
              1,
              "#f0f921"
             ]
            ],
            "type": "histogram2d"
           }
          ],
          "histogram2dcontour": [
           {
            "colorbar": {
             "outlinewidth": 0,
             "ticks": ""
            },
            "colorscale": [
             [
              0,
              "#0d0887"
             ],
             [
              0.1111111111111111,
              "#46039f"
             ],
             [
              0.2222222222222222,
              "#7201a8"
             ],
             [
              0.3333333333333333,
              "#9c179e"
             ],
             [
              0.4444444444444444,
              "#bd3786"
             ],
             [
              0.5555555555555556,
              "#d8576b"
             ],
             [
              0.6666666666666666,
              "#ed7953"
             ],
             [
              0.7777777777777778,
              "#fb9f3a"
             ],
             [
              0.8888888888888888,
              "#fdca26"
             ],
             [
              1,
              "#f0f921"
             ]
            ],
            "type": "histogram2dcontour"
           }
          ],
          "mesh3d": [
           {
            "colorbar": {
             "outlinewidth": 0,
             "ticks": ""
            },
            "type": "mesh3d"
           }
          ],
          "parcoords": [
           {
            "line": {
             "colorbar": {
              "outlinewidth": 0,
              "ticks": ""
             }
            },
            "type": "parcoords"
           }
          ],
          "pie": [
           {
            "automargin": true,
            "type": "pie"
           }
          ],
          "scatter": [
           {
            "marker": {
             "colorbar": {
              "outlinewidth": 0,
              "ticks": ""
             }
            },
            "type": "scatter"
           }
          ],
          "scatter3d": [
           {
            "line": {
             "colorbar": {
              "outlinewidth": 0,
              "ticks": ""
             }
            },
            "marker": {
             "colorbar": {
              "outlinewidth": 0,
              "ticks": ""
             }
            },
            "type": "scatter3d"
           }
          ],
          "scattercarpet": [
           {
            "marker": {
             "colorbar": {
              "outlinewidth": 0,
              "ticks": ""
             }
            },
            "type": "scattercarpet"
           }
          ],
          "scattergeo": [
           {
            "marker": {
             "colorbar": {
              "outlinewidth": 0,
              "ticks": ""
             }
            },
            "type": "scattergeo"
           }
          ],
          "scattergl": [
           {
            "marker": {
             "colorbar": {
              "outlinewidth": 0,
              "ticks": ""
             }
            },
            "type": "scattergl"
           }
          ],
          "scattermapbox": [
           {
            "marker": {
             "colorbar": {
              "outlinewidth": 0,
              "ticks": ""
             }
            },
            "type": "scattermapbox"
           }
          ],
          "scatterpolar": [
           {
            "marker": {
             "colorbar": {
              "outlinewidth": 0,
              "ticks": ""
             }
            },
            "type": "scatterpolar"
           }
          ],
          "scatterpolargl": [
           {
            "marker": {
             "colorbar": {
              "outlinewidth": 0,
              "ticks": ""
             }
            },
            "type": "scatterpolargl"
           }
          ],
          "scatterternary": [
           {
            "marker": {
             "colorbar": {
              "outlinewidth": 0,
              "ticks": ""
             }
            },
            "type": "scatterternary"
           }
          ],
          "surface": [
           {
            "colorbar": {
             "outlinewidth": 0,
             "ticks": ""
            },
            "colorscale": [
             [
              0,
              "#0d0887"
             ],
             [
              0.1111111111111111,
              "#46039f"
             ],
             [
              0.2222222222222222,
              "#7201a8"
             ],
             [
              0.3333333333333333,
              "#9c179e"
             ],
             [
              0.4444444444444444,
              "#bd3786"
             ],
             [
              0.5555555555555556,
              "#d8576b"
             ],
             [
              0.6666666666666666,
              "#ed7953"
             ],
             [
              0.7777777777777778,
              "#fb9f3a"
             ],
             [
              0.8888888888888888,
              "#fdca26"
             ],
             [
              1,
              "#f0f921"
             ]
            ],
            "type": "surface"
           }
          ],
          "table": [
           {
            "cells": {
             "fill": {
              "color": "#EBF0F8"
             },
             "line": {
              "color": "white"
             }
            },
            "header": {
             "fill": {
              "color": "#C8D4E3"
             },
             "line": {
              "color": "white"
             }
            },
            "type": "table"
           }
          ]
         },
         "layout": {
          "annotationdefaults": {
           "arrowcolor": "#2a3f5f",
           "arrowhead": 0,
           "arrowwidth": 1
          },
          "coloraxis": {
           "colorbar": {
            "outlinewidth": 0,
            "ticks": ""
           }
          },
          "colorscale": {
           "diverging": [
            [
             0,
             "#8e0152"
            ],
            [
             0.1,
             "#c51b7d"
            ],
            [
             0.2,
             "#de77ae"
            ],
            [
             0.3,
             "#f1b6da"
            ],
            [
             0.4,
             "#fde0ef"
            ],
            [
             0.5,
             "#f7f7f7"
            ],
            [
             0.6,
             "#e6f5d0"
            ],
            [
             0.7,
             "#b8e186"
            ],
            [
             0.8,
             "#7fbc41"
            ],
            [
             0.9,
             "#4d9221"
            ],
            [
             1,
             "#276419"
            ]
           ],
           "sequential": [
            [
             0,
             "#0d0887"
            ],
            [
             0.1111111111111111,
             "#46039f"
            ],
            [
             0.2222222222222222,
             "#7201a8"
            ],
            [
             0.3333333333333333,
             "#9c179e"
            ],
            [
             0.4444444444444444,
             "#bd3786"
            ],
            [
             0.5555555555555556,
             "#d8576b"
            ],
            [
             0.6666666666666666,
             "#ed7953"
            ],
            [
             0.7777777777777778,
             "#fb9f3a"
            ],
            [
             0.8888888888888888,
             "#fdca26"
            ],
            [
             1,
             "#f0f921"
            ]
           ],
           "sequentialminus": [
            [
             0,
             "#0d0887"
            ],
            [
             0.1111111111111111,
             "#46039f"
            ],
            [
             0.2222222222222222,
             "#7201a8"
            ],
            [
             0.3333333333333333,
             "#9c179e"
            ],
            [
             0.4444444444444444,
             "#bd3786"
            ],
            [
             0.5555555555555556,
             "#d8576b"
            ],
            [
             0.6666666666666666,
             "#ed7953"
            ],
            [
             0.7777777777777778,
             "#fb9f3a"
            ],
            [
             0.8888888888888888,
             "#fdca26"
            ],
            [
             1,
             "#f0f921"
            ]
           ]
          },
          "colorway": [
           "#636efa",
           "#EF553B",
           "#00cc96",
           "#ab63fa",
           "#FFA15A",
           "#19d3f3",
           "#FF6692",
           "#B6E880",
           "#FF97FF",
           "#FECB52"
          ],
          "font": {
           "color": "#2a3f5f"
          },
          "geo": {
           "bgcolor": "white",
           "lakecolor": "white",
           "landcolor": "#E5ECF6",
           "showlakes": true,
           "showland": true,
           "subunitcolor": "white"
          },
          "hoverlabel": {
           "align": "left"
          },
          "hovermode": "closest",
          "mapbox": {
           "style": "light"
          },
          "paper_bgcolor": "white",
          "plot_bgcolor": "#E5ECF6",
          "polar": {
           "angularaxis": {
            "gridcolor": "white",
            "linecolor": "white",
            "ticks": ""
           },
           "bgcolor": "#E5ECF6",
           "radialaxis": {
            "gridcolor": "white",
            "linecolor": "white",
            "ticks": ""
           }
          },
          "scene": {
           "xaxis": {
            "backgroundcolor": "#E5ECF6",
            "gridcolor": "white",
            "gridwidth": 2,
            "linecolor": "white",
            "showbackground": true,
            "ticks": "",
            "zerolinecolor": "white"
           },
           "yaxis": {
            "backgroundcolor": "#E5ECF6",
            "gridcolor": "white",
            "gridwidth": 2,
            "linecolor": "white",
            "showbackground": true,
            "ticks": "",
            "zerolinecolor": "white"
           },
           "zaxis": {
            "backgroundcolor": "#E5ECF6",
            "gridcolor": "white",
            "gridwidth": 2,
            "linecolor": "white",
            "showbackground": true,
            "ticks": "",
            "zerolinecolor": "white"
           }
          },
          "shapedefaults": {
           "line": {
            "color": "#2a3f5f"
           }
          },
          "ternary": {
           "aaxis": {
            "gridcolor": "white",
            "linecolor": "white",
            "ticks": ""
           },
           "baxis": {
            "gridcolor": "white",
            "linecolor": "white",
            "ticks": ""
           },
           "bgcolor": "#E5ECF6",
           "caxis": {
            "gridcolor": "white",
            "linecolor": "white",
            "ticks": ""
           }
          },
          "title": {
           "x": 0.05
          },
          "xaxis": {
           "automargin": true,
           "gridcolor": "white",
           "linecolor": "white",
           "ticks": "",
           "title": {
            "standoff": 15
           },
           "zerolinecolor": "white",
           "zerolinewidth": 2
          },
          "yaxis": {
           "automargin": true,
           "gridcolor": "white",
           "linecolor": "white",
           "ticks": "",
           "title": {
            "standoff": 15
           },
           "zerolinecolor": "white",
           "zerolinewidth": 2
          }
         }
        },
        "width": 600,
        "xaxis": {
         "range": [
          0,
          100
         ],
         "title": {
          "text": "epoch"
         }
        },
        "yaxis": {
         "range": [
          -6,
          0
         ],
         "type": "log"
        }
       }
      },
      "text/html": [
       "<div>\n",
       "        \n",
       "        \n",
       "            <div id=\"39df9e77-bd16-4797-bfc2-d09226856e6c\" class=\"plotly-graph-div\" style=\"height:525px; width:600px;\"></div>\n",
       "            <script type=\"text/javascript\">\n",
       "                require([\"plotly\"], function(Plotly) {\n",
       "                    window.PLOTLYENV=window.PLOTLYENV || {};\n",
       "                    \n",
       "                if (document.getElementById(\"39df9e77-bd16-4797-bfc2-d09226856e6c\")) {\n",
       "                    Plotly.newPlot(\n",
       "                        '39df9e77-bd16-4797-bfc2-d09226856e6c',\n",
       "                        [{\"name\": \"error training\", \"type\": \"scatter\", \"y\": [0.02953934855759144, 0.003976061940193176, 0.0016693932702764869, 0.0007342337630689144, 0.0004490409337449819, 0.0003531205584295094, 0.00023418864293489605, 0.00019056785095017403, 0.0001520413061371073, 0.000125170307001099, 0.00010627872688928619, 9.8155222076457e-05, 8.19867491372861e-05, 7.910068961791694e-05, 7.245693996082991e-05, 6.128459062892944e-05, 5.979845082038082e-05, 5.5627268011448905e-05, 5.338234768714756e-05, 5.138283086125739e-05, 4.961689410265535e-05, 4.726127372123301e-05, 4.615429861587472e-05, 4.303103924030438e-05, 4.208788232062943e-05, 4.121910751564428e-05, 5.1535760576371104e-05, 3.7635109038092196e-05, 3.5212604416301474e-05, 3.4515327570261434e-05, 3.3941698347916827e-05, 3.3248790714424103e-05, 4.510406142799184e-05, 2.9040640583843924e-05, 2.9425094908219762e-05, 2.8376231057336554e-05, 2.771175240923185e-05, 2.580437285359949e-05, 2.5552984880050644e-05, 2.3918337319628336e-05, 2.399493496341165e-05, 2.321280953765381e-05, 2.337741716473829e-05, 2.262378257000819e-05, 2.030188807111699e-05, 2.025887806667015e-05, 2.0541760022751987e-05, 1.9454519133432768e-05, 1.8136419384973124e-05, 1.7903839761856943e-05, 1.8575505237095058e-05, 1.727652852423489e-05, 1.727261951600667e-05, 2.040062827290967e-05, 1.6383413822040893e-05, 1.5804891518200748e-05, 2.4794549972284585e-05, 1.4055280189495534e-05, 1.6614800188108347e-05, 1.3477854736265726e-05, 1.3232438504928723e-05, 1.2542679542093538e-05, 1.972208519873675e-05, 1.2036995030939579e-05, 1.1391081898182165e-05, 1.1647261089819949e-05, 1.1114255357824732e-05, 1.0584009032754693e-05, 1.0467494576005265e-05, 1.1586940672714263e-05, 9.80374898063019e-06, 1.1514333891682327e-05, 9.859072633844335e-06, 9.362628588860389e-06, 1.3311498150869738e-05, 9.401661372976378e-06, 9.201896318700165e-06, 8.749679182074033e-06, 8.245725439337548e-06, 7.806845133018214e-06, 7.916483809822239e-06, 7.650554834981449e-06, 7.456128969351994e-06, 7.621538770763436e-06, 7.163434474932728e-06, 9.150709956884384e-06, 7.007001386227785e-06, 7.692756298638415e-06, 6.858482265670318e-06, 6.680983915430261e-06, 6.221536295925034e-06, 6.150952685857192e-06, 6.183446657814784e-06, 5.7334268603881355e-06, 6.578795364475809e-06, 5.787921963928966e-06, 6.284409209911246e-06, 5.8400646594236605e-06, 5.441420398710761e-06, 6.790664883737918e-06]}, {\"name\": \"error validation\", \"type\": \"scatter\", \"y\": [0.015809040516614914, 0.002574562095105648, 0.0013488342519849539, 0.0005259794997982681, 0.0014966174494475126, 0.0005009981105104089, 0.0003779467660933733, 0.0005244622589088976, 0.00013431449769996107, 0.00012809295731130987, 0.00031386985210701823, 8.353905286639929e-05, 0.00019175364286638796, 0.00021951226517558098, 7.10016829543747e-05, 0.00014969748735893518, 5.5519063607789576e-05, 0.00010300948633812368, 7.11631219019182e-05, 0.00010018290049629286, 7.642493437742814e-05, 0.00011810311116278172, 4.210583574604243e-05, 0.0001010344858514145, 8.205143240047619e-05, 0.0004523214010987431, 8.992418588604778e-05, 3.6656816519098356e-05, 7.466675015166402e-05, 7.597795047331601e-05, 7.149465818656608e-05, 0.0005661508184857666, 3.065373675781302e-05, 5.0980957894353196e-05, 5.2756662626052275e-05, 3.369716432644054e-05, 2.7889176635653712e-05, 5.4426265705842525e-05, 2.563902671681717e-05, 2.734993540798314e-05, 2.518401015549898e-05, 3.812928116531111e-05, 4.2738643969642e-05, 2.06667828024365e-05, 2.0569301341311075e-05, 3.5271306842332706e-05, 2.990254324686248e-05, 1.821789010136854e-05, 2.7430191039456986e-05, 5.3967283747624606e-05, 3.623359589255415e-05, 2.819208566506859e-05, 0.00013960177602712065, 3.317765731480904e-05, 3.098915840382688e-05, 0.00032581150298938155, 1.7721178664942272e-05, 6.963300256757066e-05, 2.859423511836212e-05, 1.5485798940062523e-05, 1.2444310414139181e-05, 0.00023374365991912782, 2.4163817215594463e-05, 1.3975761248730123e-05, 1.727008566376753e-05, 1.6626427168375812e-05, 1.217003409692552e-05, 1.9374556359252892e-05, 4.80387061543297e-05, 1.001635791908484e-05, 6.674560427200049e-05, 1.6204043276957236e-05, 2.055950608337298e-05, 9.537677397020161e-05, 2.6876959964283742e-05, 2.4707353077246808e-05, 1.7363219740218483e-05, 1.5623312719981186e-05, 8.44077567307977e-06, 7.793244549247902e-06, 1.765485831128899e-05, 9.733717888593674e-06, 1.0178457159781829e-05, 8.837397217575926e-06, 4.2287108954042196e-05, 1.0660046427801717e-05, 3.6698522308142856e-05, 1.3010111615585629e-05, 1.3382021279539913e-05, 7.24249230188434e-06, 9.473781574342865e-06, 7.746881237835623e-06, 6.964498425077181e-06, 2.8623242542380467e-05, 1.3735666470893193e-05, 3.6415258364286274e-05, 2.414151094853878e-05, 7.3618134592834394e-06, 4.4342090404825285e-05, 1.0557189852988813e-05]}],\n",
       "                        {\"template\": {\"data\": {\"bar\": [{\"error_x\": {\"color\": \"#2a3f5f\"}, \"error_y\": {\"color\": \"#2a3f5f\"}, \"marker\": {\"line\": {\"color\": \"#E5ECF6\", \"width\": 0.5}}, \"type\": \"bar\"}], \"barpolar\": [{\"marker\": {\"line\": {\"color\": \"#E5ECF6\", \"width\": 0.5}}, \"type\": \"barpolar\"}], \"carpet\": [{\"aaxis\": {\"endlinecolor\": \"#2a3f5f\", \"gridcolor\": \"white\", \"linecolor\": \"white\", \"minorgridcolor\": \"white\", \"startlinecolor\": \"#2a3f5f\"}, \"baxis\": {\"endlinecolor\": \"#2a3f5f\", \"gridcolor\": \"white\", \"linecolor\": \"white\", \"minorgridcolor\": \"white\", \"startlinecolor\": \"#2a3f5f\"}, \"type\": \"carpet\"}], \"choropleth\": [{\"colorbar\": {\"outlinewidth\": 0, \"ticks\": \"\"}, \"type\": \"choropleth\"}], \"contour\": [{\"colorbar\": {\"outlinewidth\": 0, \"ticks\": \"\"}, \"colorscale\": [[0.0, \"#0d0887\"], [0.1111111111111111, \"#46039f\"], [0.2222222222222222, \"#7201a8\"], [0.3333333333333333, \"#9c179e\"], [0.4444444444444444, \"#bd3786\"], [0.5555555555555556, \"#d8576b\"], [0.6666666666666666, \"#ed7953\"], [0.7777777777777778, \"#fb9f3a\"], [0.8888888888888888, \"#fdca26\"], [1.0, \"#f0f921\"]], \"type\": \"contour\"}], \"contourcarpet\": [{\"colorbar\": {\"outlinewidth\": 0, \"ticks\": \"\"}, \"type\": \"contourcarpet\"}], \"heatmap\": [{\"colorbar\": {\"outlinewidth\": 0, \"ticks\": \"\"}, \"colorscale\": [[0.0, \"#0d0887\"], [0.1111111111111111, \"#46039f\"], [0.2222222222222222, \"#7201a8\"], [0.3333333333333333, \"#9c179e\"], [0.4444444444444444, \"#bd3786\"], [0.5555555555555556, \"#d8576b\"], [0.6666666666666666, \"#ed7953\"], [0.7777777777777778, \"#fb9f3a\"], [0.8888888888888888, \"#fdca26\"], [1.0, \"#f0f921\"]], \"type\": \"heatmap\"}], \"heatmapgl\": [{\"colorbar\": {\"outlinewidth\": 0, \"ticks\": \"\"}, \"colorscale\": [[0.0, \"#0d0887\"], [0.1111111111111111, \"#46039f\"], [0.2222222222222222, \"#7201a8\"], [0.3333333333333333, \"#9c179e\"], [0.4444444444444444, \"#bd3786\"], [0.5555555555555556, \"#d8576b\"], [0.6666666666666666, \"#ed7953\"], [0.7777777777777778, \"#fb9f3a\"], [0.8888888888888888, \"#fdca26\"], [1.0, \"#f0f921\"]], \"type\": \"heatmapgl\"}], \"histogram\": [{\"marker\": {\"colorbar\": {\"outlinewidth\": 0, \"ticks\": \"\"}}, \"type\": \"histogram\"}], \"histogram2d\": [{\"colorbar\": {\"outlinewidth\": 0, \"ticks\": \"\"}, \"colorscale\": [[0.0, \"#0d0887\"], [0.1111111111111111, \"#46039f\"], [0.2222222222222222, \"#7201a8\"], [0.3333333333333333, \"#9c179e\"], [0.4444444444444444, \"#bd3786\"], [0.5555555555555556, \"#d8576b\"], [0.6666666666666666, \"#ed7953\"], [0.7777777777777778, \"#fb9f3a\"], [0.8888888888888888, \"#fdca26\"], [1.0, \"#f0f921\"]], \"type\": \"histogram2d\"}], \"histogram2dcontour\": [{\"colorbar\": {\"outlinewidth\": 0, \"ticks\": \"\"}, \"colorscale\": [[0.0, \"#0d0887\"], [0.1111111111111111, \"#46039f\"], [0.2222222222222222, \"#7201a8\"], [0.3333333333333333, \"#9c179e\"], [0.4444444444444444, \"#bd3786\"], [0.5555555555555556, \"#d8576b\"], [0.6666666666666666, \"#ed7953\"], [0.7777777777777778, \"#fb9f3a\"], [0.8888888888888888, \"#fdca26\"], [1.0, \"#f0f921\"]], \"type\": \"histogram2dcontour\"}], \"mesh3d\": [{\"colorbar\": {\"outlinewidth\": 0, \"ticks\": \"\"}, \"type\": \"mesh3d\"}], \"parcoords\": [{\"line\": {\"colorbar\": {\"outlinewidth\": 0, \"ticks\": \"\"}}, \"type\": \"parcoords\"}], \"pie\": [{\"automargin\": true, \"type\": \"pie\"}], \"scatter\": [{\"marker\": {\"colorbar\": {\"outlinewidth\": 0, \"ticks\": \"\"}}, \"type\": \"scatter\"}], \"scatter3d\": [{\"line\": {\"colorbar\": {\"outlinewidth\": 0, \"ticks\": \"\"}}, \"marker\": {\"colorbar\": {\"outlinewidth\": 0, \"ticks\": \"\"}}, \"type\": \"scatter3d\"}], \"scattercarpet\": [{\"marker\": {\"colorbar\": {\"outlinewidth\": 0, \"ticks\": \"\"}}, \"type\": \"scattercarpet\"}], \"scattergeo\": [{\"marker\": {\"colorbar\": {\"outlinewidth\": 0, \"ticks\": \"\"}}, \"type\": \"scattergeo\"}], \"scattergl\": [{\"marker\": {\"colorbar\": {\"outlinewidth\": 0, \"ticks\": \"\"}}, \"type\": \"scattergl\"}], \"scattermapbox\": [{\"marker\": {\"colorbar\": {\"outlinewidth\": 0, \"ticks\": \"\"}}, \"type\": \"scattermapbox\"}], \"scatterpolar\": [{\"marker\": {\"colorbar\": {\"outlinewidth\": 0, \"ticks\": \"\"}}, \"type\": \"scatterpolar\"}], \"scatterpolargl\": [{\"marker\": {\"colorbar\": {\"outlinewidth\": 0, \"ticks\": \"\"}}, \"type\": \"scatterpolargl\"}], \"scatterternary\": [{\"marker\": {\"colorbar\": {\"outlinewidth\": 0, \"ticks\": \"\"}}, \"type\": \"scatterternary\"}], \"surface\": [{\"colorbar\": {\"outlinewidth\": 0, \"ticks\": \"\"}, \"colorscale\": [[0.0, \"#0d0887\"], [0.1111111111111111, \"#46039f\"], [0.2222222222222222, \"#7201a8\"], [0.3333333333333333, \"#9c179e\"], [0.4444444444444444, \"#bd3786\"], [0.5555555555555556, \"#d8576b\"], [0.6666666666666666, \"#ed7953\"], [0.7777777777777778, \"#fb9f3a\"], [0.8888888888888888, \"#fdca26\"], [1.0, \"#f0f921\"]], \"type\": \"surface\"}], \"table\": [{\"cells\": {\"fill\": {\"color\": \"#EBF0F8\"}, \"line\": {\"color\": \"white\"}}, \"header\": {\"fill\": {\"color\": \"#C8D4E3\"}, \"line\": {\"color\": \"white\"}}, \"type\": \"table\"}]}, \"layout\": {\"annotationdefaults\": {\"arrowcolor\": \"#2a3f5f\", \"arrowhead\": 0, \"arrowwidth\": 1}, \"coloraxis\": {\"colorbar\": {\"outlinewidth\": 0, \"ticks\": \"\"}}, \"colorscale\": {\"diverging\": [[0, \"#8e0152\"], [0.1, \"#c51b7d\"], [0.2, \"#de77ae\"], [0.3, \"#f1b6da\"], [0.4, \"#fde0ef\"], [0.5, \"#f7f7f7\"], [0.6, \"#e6f5d0\"], [0.7, \"#b8e186\"], [0.8, \"#7fbc41\"], [0.9, \"#4d9221\"], [1, \"#276419\"]], \"sequential\": [[0.0, \"#0d0887\"], [0.1111111111111111, \"#46039f\"], [0.2222222222222222, \"#7201a8\"], [0.3333333333333333, \"#9c179e\"], [0.4444444444444444, \"#bd3786\"], [0.5555555555555556, \"#d8576b\"], [0.6666666666666666, \"#ed7953\"], [0.7777777777777778, \"#fb9f3a\"], [0.8888888888888888, \"#fdca26\"], [1.0, \"#f0f921\"]], \"sequentialminus\": [[0.0, \"#0d0887\"], [0.1111111111111111, \"#46039f\"], [0.2222222222222222, \"#7201a8\"], [0.3333333333333333, \"#9c179e\"], [0.4444444444444444, \"#bd3786\"], [0.5555555555555556, \"#d8576b\"], [0.6666666666666666, \"#ed7953\"], [0.7777777777777778, \"#fb9f3a\"], [0.8888888888888888, \"#fdca26\"], [1.0, \"#f0f921\"]]}, \"colorway\": [\"#636efa\", \"#EF553B\", \"#00cc96\", \"#ab63fa\", \"#FFA15A\", \"#19d3f3\", \"#FF6692\", \"#B6E880\", \"#FF97FF\", \"#FECB52\"], \"font\": {\"color\": \"#2a3f5f\"}, \"geo\": {\"bgcolor\": \"white\", \"lakecolor\": \"white\", \"landcolor\": \"#E5ECF6\", \"showlakes\": true, \"showland\": true, \"subunitcolor\": \"white\"}, \"hoverlabel\": {\"align\": \"left\"}, \"hovermode\": \"closest\", \"mapbox\": {\"style\": \"light\"}, \"paper_bgcolor\": \"white\", \"plot_bgcolor\": \"#E5ECF6\", \"polar\": {\"angularaxis\": {\"gridcolor\": \"white\", \"linecolor\": \"white\", \"ticks\": \"\"}, \"bgcolor\": \"#E5ECF6\", \"radialaxis\": {\"gridcolor\": \"white\", \"linecolor\": \"white\", \"ticks\": \"\"}}, \"scene\": {\"xaxis\": {\"backgroundcolor\": \"#E5ECF6\", \"gridcolor\": \"white\", \"gridwidth\": 2, \"linecolor\": \"white\", \"showbackground\": true, \"ticks\": \"\", \"zerolinecolor\": \"white\"}, \"yaxis\": {\"backgroundcolor\": \"#E5ECF6\", \"gridcolor\": \"white\", \"gridwidth\": 2, \"linecolor\": \"white\", \"showbackground\": true, \"ticks\": \"\", \"zerolinecolor\": \"white\"}, \"zaxis\": {\"backgroundcolor\": \"#E5ECF6\", \"gridcolor\": \"white\", \"gridwidth\": 2, \"linecolor\": \"white\", \"showbackground\": true, \"ticks\": \"\", \"zerolinecolor\": \"white\"}}, \"shapedefaults\": {\"line\": {\"color\": \"#2a3f5f\"}}, \"ternary\": {\"aaxis\": {\"gridcolor\": \"white\", \"linecolor\": \"white\", \"ticks\": \"\"}, \"baxis\": {\"gridcolor\": \"white\", \"linecolor\": \"white\", \"ticks\": \"\"}, \"bgcolor\": \"#E5ECF6\", \"caxis\": {\"gridcolor\": \"white\", \"linecolor\": \"white\", \"ticks\": \"\"}}, \"title\": {\"x\": 0.05}, \"xaxis\": {\"automargin\": true, \"gridcolor\": \"white\", \"linecolor\": \"white\", \"ticks\": \"\", \"title\": {\"standoff\": 15}, \"zerolinecolor\": \"white\", \"zerolinewidth\": 2}, \"yaxis\": {\"automargin\": true, \"gridcolor\": \"white\", \"linecolor\": \"white\", \"ticks\": \"\", \"title\": {\"standoff\": 15}, \"zerolinecolor\": \"white\", \"zerolinewidth\": 2}}}, \"width\": 600, \"xaxis\": {\"range\": [0, 100], \"title\": {\"text\": \"epoch\"}}, \"yaxis\": {\"range\": [-6, 0], \"type\": \"log\"}},\n",
       "                        {\"responsive\": true}\n",
       "                    ).then(function(){\n",
       "                            \n",
       "var gd = document.getElementById('39df9e77-bd16-4797-bfc2-d09226856e6c');\n",
       "var x = new MutationObserver(function (mutations, observer) {{\n",
       "        var display = window.getComputedStyle(gd).display;\n",
       "        if (!display || display === 'none') {{\n",
       "            console.log([gd, 'removed!']);\n",
       "            Plotly.purge(gd);\n",
       "            observer.disconnect();\n",
       "        }}\n",
       "}});\n",
       "\n",
       "// Listen for the removal of the full notebook cells\n",
       "var notebookContainer = gd.closest('#notebook-container');\n",
       "if (notebookContainer) {{\n",
       "    x.observe(notebookContainer, {childList: true});\n",
       "}}\n",
       "\n",
       "// Listen for the clearing of the current output cell\n",
       "var outputEl = gd.closest('.output');\n",
       "if (outputEl) {{\n",
       "    x.observe(outputEl, {childList: true});\n",
       "}}\n",
       "\n",
       "                        })\n",
       "                };\n",
       "                });\n",
       "            </script>\n",
       "        </div>"
      ]
     },
     "metadata": {},
     "output_type": "display_data"
    }
   ],
   "source": [
    "def plot_history(fig, history):\n",
    "    error = history.history[\"mse\"]\n",
    "    error_val = history.history[\"val_mse\"]\n",
    "    fig.add_trace(go.Scatter(y=error,name='error training'))\n",
    "    fig.add_trace(go.Scatter(y=error_val, name='error validation'))\n",
    "    fig.update_layout(width=600, yaxis_type=\"log\", \n",
    "                      xaxis_range=[0,100], yaxis_range=[-6,0],\n",
    "                      xaxis_title='epoch')    \n",
    "\n",
    "fig = go.Figure()\n",
    "plot_history(fig, history)\n",
    "fig.show()"
   ]
  },
  {
   "cell_type": "code",
   "execution_count": 192,
   "metadata": {},
   "outputs": [],
   "source": [
    "save_to_html(fig, '../Slides/TF_Keras', 'fig2.html')"
   ]
  },
  {
   "cell_type": "code",
   "execution_count": 193,
   "metadata": {},
   "outputs": [
    {
     "name": "stdout",
     "output_type": "stream",
     "text": [
      "\r",
      "129/1 [==============================================================================================================================================================================================================================================================================================================================================================================================================================================================================================================================================================================================================================================================================================================================================================================================================================================================================================================================================================================================================================================================================================================================================================================================================================================================================================================================================================================================================================================================================================================================================================================================================================================================================================================================================================================================================================================================================================================================================================================================================================================================================================================================================================================================================================================================================================================================================================================================================================================================================================================================================================================================================================================================================================================================================================================================================================================================================================================================================================================================================================================================================================================================================================================================================================================================================================================================================================================================================================================================================================================================================================================================================================================================================================================================================================================================================================================================================================================================================================================================================================] - 0s 67us/sample - loss: 8.0100e-06 - mse: 1.0625e-05 - mae: 0.0027\n"
     ]
    },
    {
     "data": {
      "text/plain": [
       "[1.0624886346154516e-05, 1.0624885e-05, 0.0026588861]"
      ]
     },
     "execution_count": 193,
     "metadata": {},
     "output_type": "execute_result"
    }
   ],
   "source": [
    "model.evaluate(X_test, y_test)"
   ]
  },
  {
   "cell_type": "code",
   "execution_count": 194,
   "metadata": {},
   "outputs": [
    {
     "data": {
      "application/vnd.plotly.v1+json": {
       "config": {
        "plotlyServerURL": "https://plot.ly"
       },
       "data": [
        {
         "name": "exact",
         "type": "scatter",
         "x": [
          -1,
          -0.984375,
          -0.96875,
          -0.953125,
          -0.9375,
          -0.921875,
          -0.90625,
          -0.890625,
          -0.875,
          -0.859375,
          -0.84375,
          -0.828125,
          -0.8125,
          -0.796875,
          -0.78125,
          -0.765625,
          -0.75,
          -0.734375,
          -0.71875,
          -0.703125,
          -0.6875,
          -0.671875,
          -0.65625,
          -0.640625,
          -0.625,
          -0.609375,
          -0.59375,
          -0.578125,
          -0.5625,
          -0.546875,
          -0.53125,
          -0.515625,
          -0.5,
          -0.484375,
          -0.46875,
          -0.453125,
          -0.4375,
          -0.421875,
          -0.40625,
          -0.390625,
          -0.375,
          -0.359375,
          -0.34375,
          -0.328125,
          -0.3125,
          -0.296875,
          -0.28125,
          -0.265625,
          -0.25,
          -0.234375,
          -0.21875,
          -0.203125,
          -0.1875,
          -0.171875,
          -0.15625,
          -0.140625,
          -0.125,
          -0.109375,
          -0.09375,
          -0.078125,
          -0.0625,
          -0.046875,
          -0.03125,
          -0.015625,
          0,
          0.015625,
          0.03125,
          0.046875,
          0.0625,
          0.078125,
          0.09375,
          0.109375,
          0.125,
          0.140625,
          0.15625,
          0.171875,
          0.1875,
          0.203125,
          0.21875,
          0.234375,
          0.25,
          0.265625,
          0.28125,
          0.296875,
          0.3125,
          0.328125,
          0.34375,
          0.359375,
          0.375,
          0.390625,
          0.40625,
          0.421875,
          0.4375,
          0.453125,
          0.46875,
          0.484375,
          0.5,
          0.515625,
          0.53125,
          0.546875,
          0.5625,
          0.578125,
          0.59375,
          0.609375,
          0.625,
          0.640625,
          0.65625,
          0.671875,
          0.6875,
          0.703125,
          0.71875,
          0.734375,
          0.75,
          0.765625,
          0.78125,
          0.796875,
          0.8125,
          0.828125,
          0.84375,
          0.859375,
          0.875,
          0.890625,
          0.90625,
          0.921875,
          0.9375,
          0.953125,
          0.96875,
          0.984375,
          1
         ],
         "y": [
          0.5,
          0.5078735275883447,
          0.5158690176322418,
          0.5239861839580402,
          0.5322245322245323,
          0.5405833443315297,
          0.5490616621983915,
          0.5576582709326072,
          0.5663716814159292,
          0.575200112343772,
          0.5841414717626925,
          0.593193338160753,
          0.6023529411764705,
          0.6116171420038823,
          0.6209824135839903,
          0.6304448206864707,
          0.64,
          0.6496431403647899,
          0.6593689632968448,
          0.6691717039699395,
          0.6790450928381963,
          0.688982338099243,
          0.6989761092150171,
          0.7090185217240782,
          0.7191011235955056,
          0.7292148833897099,
          0.7393501805054151,
          0.7494967978042086,
          0.7596439169139466,
          0.7697801165194512,
          0.7798933739527799,
          0.7899710703953713,
          0.8,
          0.8099663832311648,
          0.8198558847077662,
          0.8296536358112214,
          0.839344262295082,
          0.8489119170984456,
          0.8583403185247276,
          0.8676127938995976,
          0.8767123287671232,
          0.8856216216216216,
          0.8943231441048035,
          0.9027992065241349,
          0.9110320284697508,
          0.9190038142248149,
          0.9266968325791856,
          0.9340935005701254,
          0.9411764705882353,
          0.9479287202036566,
          0.9543336439888164,
          0.9603751465416178,
          0.9660377358490566,
          0.9713066160777805,
          0.9761677788369876,
          0.9806080919320086,
          0.9846153846153847,
          0.9881785283474065,
          0.9912875121006777,
          0.993933511283669,
          0.9961089494163424,
          0.9978075517661389,
          0.9990243902439024,
          0.9997559189650964,
          1,
          0.9997559189650964,
          0.9990243902439024,
          0.9978075517661389,
          0.9961089494163424,
          0.993933511283669,
          0.9912875121006777,
          0.9881785283474065,
          0.9846153846153847,
          0.9806080919320086,
          0.9761677788369876,
          0.9713066160777805,
          0.9660377358490566,
          0.9603751465416178,
          0.9543336439888164,
          0.9479287202036566,
          0.9411764705882353,
          0.9340935005701254,
          0.9266968325791856,
          0.9190038142248149,
          0.9110320284697508,
          0.9027992065241349,
          0.8943231441048035,
          0.8856216216216216,
          0.8767123287671232,
          0.8676127938995976,
          0.8583403185247276,
          0.8489119170984456,
          0.839344262295082,
          0.8296536358112214,
          0.8198558847077662,
          0.8099663832311648,
          0.8,
          0.7899710703953713,
          0.7798933739527799,
          0.7697801165194512,
          0.7596439169139466,
          0.7494967978042086,
          0.7393501805054151,
          0.7292148833897099,
          0.7191011235955056,
          0.7090185217240782,
          0.6989761092150171,
          0.688982338099243,
          0.6790450928381963,
          0.6691717039699395,
          0.6593689632968448,
          0.6496431403647899,
          0.64,
          0.6304448206864707,
          0.6209824135839903,
          0.6116171420038823,
          0.6023529411764705,
          0.593193338160753,
          0.5841414717626925,
          0.575200112343772,
          0.5663716814159292,
          0.5576582709326072,
          0.5490616621983915,
          0.5405833443315297,
          0.5322245322245323,
          0.5239861839580402,
          0.5158690176322418,
          0.5078735275883447,
          0.5
         ]
        },
        {
         "name": "model",
         "type": "scatter",
         "x": [
          -1,
          -0.984375,
          -0.96875,
          -0.953125,
          -0.9375,
          -0.921875,
          -0.90625,
          -0.890625,
          -0.875,
          -0.859375,
          -0.84375,
          -0.828125,
          -0.8125,
          -0.796875,
          -0.78125,
          -0.765625,
          -0.75,
          -0.734375,
          -0.71875,
          -0.703125,
          -0.6875,
          -0.671875,
          -0.65625,
          -0.640625,
          -0.625,
          -0.609375,
          -0.59375,
          -0.578125,
          -0.5625,
          -0.546875,
          -0.53125,
          -0.515625,
          -0.5,
          -0.484375,
          -0.46875,
          -0.453125,
          -0.4375,
          -0.421875,
          -0.40625,
          -0.390625,
          -0.375,
          -0.359375,
          -0.34375,
          -0.328125,
          -0.3125,
          -0.296875,
          -0.28125,
          -0.265625,
          -0.25,
          -0.234375,
          -0.21875,
          -0.203125,
          -0.1875,
          -0.171875,
          -0.15625,
          -0.140625,
          -0.125,
          -0.109375,
          -0.09375,
          -0.078125,
          -0.0625,
          -0.046875,
          -0.03125,
          -0.015625,
          0,
          0.015625,
          0.03125,
          0.046875,
          0.0625,
          0.078125,
          0.09375,
          0.109375,
          0.125,
          0.140625,
          0.15625,
          0.171875,
          0.1875,
          0.203125,
          0.21875,
          0.234375,
          0.25,
          0.265625,
          0.28125,
          0.296875,
          0.3125,
          0.328125,
          0.34375,
          0.359375,
          0.375,
          0.390625,
          0.40625,
          0.421875,
          0.4375,
          0.453125,
          0.46875,
          0.484375,
          0.5,
          0.515625,
          0.53125,
          0.546875,
          0.5625,
          0.578125,
          0.59375,
          0.609375,
          0.625,
          0.640625,
          0.65625,
          0.671875,
          0.6875,
          0.703125,
          0.71875,
          0.734375,
          0.75,
          0.765625,
          0.78125,
          0.796875,
          0.8125,
          0.828125,
          0.84375,
          0.859375,
          0.875,
          0.890625,
          0.90625,
          0.921875,
          0.9375,
          0.953125,
          0.96875,
          0.984375,
          1
         ],
         "y": [
          0.506764829158783,
          0.513335108757019,
          0.5200856924057007,
          0.527019202709198,
          0.5341355204582214,
          0.5414355993270874,
          0.5489199757575989,
          0.556587815284729,
          0.564439058303833,
          0.5724719762802124,
          0.5806856751441956,
          0.5890775322914124,
          0.597644567489624,
          0.6063840389251709,
          0.6152916550636292,
          0.6243622899055481,
          0.6335912346839905,
          0.642971932888031,
          0.6524977087974548,
          0.6621610522270203,
          0.6719529628753662,
          0.681864321231842,
          0.6918851137161255,
          0.7020041942596436,
          0.7122100591659546,
          0.7224898934364319,
          0.7328301668167114,
          0.7432165741920471,
          0.7536340951919556,
          0.7640674710273743,
          0.7744992971420288,
          0.7849130630493164,
          0.7952907085418701,
          0.8056137561798096,
          0.815863847732544,
          0.8260214328765869,
          0.8360668420791626,
          0.8459804058074951,
          0.8557417988777161,
          0.8653310537338257,
          0.8747282028198242,
          0.8839127421379089,
          0.8928650617599487,
          0.9015656113624573,
          0.9099949598312378,
          0.9181342124938965,
          0.925965428352356,
          0.9334706664085388,
          0.940632700920105,
          0.9474354982376099,
          0.9538636207580566,
          0.9599024057388306,
          0.9655382633209229,
          0.9707585573196411,
          0.9755514860153198,
          0.9799066185951233,
          0.9838143587112427,
          0.9872665405273438,
          0.9902553558349609,
          0.9927753210067749,
          0.9948209524154663,
          0.9963887929916382,
          0.9974762201309204,
          0.9980814456939697,
          0.9982047080993652,
          0.9978463649749756,
          0.9970084428787231,
          0.9956945776939392,
          0.9939086437225342,
          0.9916558265686035,
          0.9889432191848755,
          0.9857774376869202,
          0.9821678400039673,
          0.9781231880187988,
          0.9736542105674744,
          0.9687721729278564,
          0.9634893536567688,
          0.957818865776062,
          0.9517741203308105,
          0.9453698992729187,
          0.9386211633682251,
          0.9315435290336609,
          0.9241529703140259,
          0.9164667129516602,
          0.9085012674331665,
          0.9002737998962402,
          0.8918018937110901,
          0.8831033706665039,
          0.8741955757141113,
          0.8650964498519897,
          0.855823278427124,
          0.846393346786499,
          0.8368242383003235,
          0.8271325826644897,
          0.8173350095748901,
          0.8074477314949036,
          0.7974860668182373,
          0.7874658107757568,
          0.7774010300636292,
          0.7673062086105347,
          0.7571945786476135,
          0.7470788955688477,
          0.7369718551635742,
          0.7268846035003662,
          0.7168282270431519,
          0.7068127393722534,
          0.6968479156494141,
          0.6869425177574158,
          0.6771050691604614,
          0.6673429012298584,
          0.657663106918335,
          0.6480721235275269,
          0.6385757327079773,
          0.6291792392730713,
          0.6198871731758118,
          0.6107037663459778,
          0.6016327738761902,
          0.5926772952079773,
          0.5838402509689331,
          0.5751238465309143,
          0.5665302276611328,
          0.5580608248710632,
          0.5497169494628906,
          0.541499674320221,
          0.5334093570709229,
          0.5254465341567993,
          0.5176113247871399,
          0.5099034309387207,
          0.5023227334022522
         ]
        }
       ],
       "layout": {
        "template": {
         "data": {
          "bar": [
           {
            "error_x": {
             "color": "#2a3f5f"
            },
            "error_y": {
             "color": "#2a3f5f"
            },
            "marker": {
             "line": {
              "color": "#E5ECF6",
              "width": 0.5
             }
            },
            "type": "bar"
           }
          ],
          "barpolar": [
           {
            "marker": {
             "line": {
              "color": "#E5ECF6",
              "width": 0.5
             }
            },
            "type": "barpolar"
           }
          ],
          "carpet": [
           {
            "aaxis": {
             "endlinecolor": "#2a3f5f",
             "gridcolor": "white",
             "linecolor": "white",
             "minorgridcolor": "white",
             "startlinecolor": "#2a3f5f"
            },
            "baxis": {
             "endlinecolor": "#2a3f5f",
             "gridcolor": "white",
             "linecolor": "white",
             "minorgridcolor": "white",
             "startlinecolor": "#2a3f5f"
            },
            "type": "carpet"
           }
          ],
          "choropleth": [
           {
            "colorbar": {
             "outlinewidth": 0,
             "ticks": ""
            },
            "type": "choropleth"
           }
          ],
          "contour": [
           {
            "colorbar": {
             "outlinewidth": 0,
             "ticks": ""
            },
            "colorscale": [
             [
              0,
              "#0d0887"
             ],
             [
              0.1111111111111111,
              "#46039f"
             ],
             [
              0.2222222222222222,
              "#7201a8"
             ],
             [
              0.3333333333333333,
              "#9c179e"
             ],
             [
              0.4444444444444444,
              "#bd3786"
             ],
             [
              0.5555555555555556,
              "#d8576b"
             ],
             [
              0.6666666666666666,
              "#ed7953"
             ],
             [
              0.7777777777777778,
              "#fb9f3a"
             ],
             [
              0.8888888888888888,
              "#fdca26"
             ],
             [
              1,
              "#f0f921"
             ]
            ],
            "type": "contour"
           }
          ],
          "contourcarpet": [
           {
            "colorbar": {
             "outlinewidth": 0,
             "ticks": ""
            },
            "type": "contourcarpet"
           }
          ],
          "heatmap": [
           {
            "colorbar": {
             "outlinewidth": 0,
             "ticks": ""
            },
            "colorscale": [
             [
              0,
              "#0d0887"
             ],
             [
              0.1111111111111111,
              "#46039f"
             ],
             [
              0.2222222222222222,
              "#7201a8"
             ],
             [
              0.3333333333333333,
              "#9c179e"
             ],
             [
              0.4444444444444444,
              "#bd3786"
             ],
             [
              0.5555555555555556,
              "#d8576b"
             ],
             [
              0.6666666666666666,
              "#ed7953"
             ],
             [
              0.7777777777777778,
              "#fb9f3a"
             ],
             [
              0.8888888888888888,
              "#fdca26"
             ],
             [
              1,
              "#f0f921"
             ]
            ],
            "type": "heatmap"
           }
          ],
          "heatmapgl": [
           {
            "colorbar": {
             "outlinewidth": 0,
             "ticks": ""
            },
            "colorscale": [
             [
              0,
              "#0d0887"
             ],
             [
              0.1111111111111111,
              "#46039f"
             ],
             [
              0.2222222222222222,
              "#7201a8"
             ],
             [
              0.3333333333333333,
              "#9c179e"
             ],
             [
              0.4444444444444444,
              "#bd3786"
             ],
             [
              0.5555555555555556,
              "#d8576b"
             ],
             [
              0.6666666666666666,
              "#ed7953"
             ],
             [
              0.7777777777777778,
              "#fb9f3a"
             ],
             [
              0.8888888888888888,
              "#fdca26"
             ],
             [
              1,
              "#f0f921"
             ]
            ],
            "type": "heatmapgl"
           }
          ],
          "histogram": [
           {
            "marker": {
             "colorbar": {
              "outlinewidth": 0,
              "ticks": ""
             }
            },
            "type": "histogram"
           }
          ],
          "histogram2d": [
           {
            "colorbar": {
             "outlinewidth": 0,
             "ticks": ""
            },
            "colorscale": [
             [
              0,
              "#0d0887"
             ],
             [
              0.1111111111111111,
              "#46039f"
             ],
             [
              0.2222222222222222,
              "#7201a8"
             ],
             [
              0.3333333333333333,
              "#9c179e"
             ],
             [
              0.4444444444444444,
              "#bd3786"
             ],
             [
              0.5555555555555556,
              "#d8576b"
             ],
             [
              0.6666666666666666,
              "#ed7953"
             ],
             [
              0.7777777777777778,
              "#fb9f3a"
             ],
             [
              0.8888888888888888,
              "#fdca26"
             ],
             [
              1,
              "#f0f921"
             ]
            ],
            "type": "histogram2d"
           }
          ],
          "histogram2dcontour": [
           {
            "colorbar": {
             "outlinewidth": 0,
             "ticks": ""
            },
            "colorscale": [
             [
              0,
              "#0d0887"
             ],
             [
              0.1111111111111111,
              "#46039f"
             ],
             [
              0.2222222222222222,
              "#7201a8"
             ],
             [
              0.3333333333333333,
              "#9c179e"
             ],
             [
              0.4444444444444444,
              "#bd3786"
             ],
             [
              0.5555555555555556,
              "#d8576b"
             ],
             [
              0.6666666666666666,
              "#ed7953"
             ],
             [
              0.7777777777777778,
              "#fb9f3a"
             ],
             [
              0.8888888888888888,
              "#fdca26"
             ],
             [
              1,
              "#f0f921"
             ]
            ],
            "type": "histogram2dcontour"
           }
          ],
          "mesh3d": [
           {
            "colorbar": {
             "outlinewidth": 0,
             "ticks": ""
            },
            "type": "mesh3d"
           }
          ],
          "parcoords": [
           {
            "line": {
             "colorbar": {
              "outlinewidth": 0,
              "ticks": ""
             }
            },
            "type": "parcoords"
           }
          ],
          "pie": [
           {
            "automargin": true,
            "type": "pie"
           }
          ],
          "scatter": [
           {
            "marker": {
             "colorbar": {
              "outlinewidth": 0,
              "ticks": ""
             }
            },
            "type": "scatter"
           }
          ],
          "scatter3d": [
           {
            "line": {
             "colorbar": {
              "outlinewidth": 0,
              "ticks": ""
             }
            },
            "marker": {
             "colorbar": {
              "outlinewidth": 0,
              "ticks": ""
             }
            },
            "type": "scatter3d"
           }
          ],
          "scattercarpet": [
           {
            "marker": {
             "colorbar": {
              "outlinewidth": 0,
              "ticks": ""
             }
            },
            "type": "scattercarpet"
           }
          ],
          "scattergeo": [
           {
            "marker": {
             "colorbar": {
              "outlinewidth": 0,
              "ticks": ""
             }
            },
            "type": "scattergeo"
           }
          ],
          "scattergl": [
           {
            "marker": {
             "colorbar": {
              "outlinewidth": 0,
              "ticks": ""
             }
            },
            "type": "scattergl"
           }
          ],
          "scattermapbox": [
           {
            "marker": {
             "colorbar": {
              "outlinewidth": 0,
              "ticks": ""
             }
            },
            "type": "scattermapbox"
           }
          ],
          "scatterpolar": [
           {
            "marker": {
             "colorbar": {
              "outlinewidth": 0,
              "ticks": ""
             }
            },
            "type": "scatterpolar"
           }
          ],
          "scatterpolargl": [
           {
            "marker": {
             "colorbar": {
              "outlinewidth": 0,
              "ticks": ""
             }
            },
            "type": "scatterpolargl"
           }
          ],
          "scatterternary": [
           {
            "marker": {
             "colorbar": {
              "outlinewidth": 0,
              "ticks": ""
             }
            },
            "type": "scatterternary"
           }
          ],
          "surface": [
           {
            "colorbar": {
             "outlinewidth": 0,
             "ticks": ""
            },
            "colorscale": [
             [
              0,
              "#0d0887"
             ],
             [
              0.1111111111111111,
              "#46039f"
             ],
             [
              0.2222222222222222,
              "#7201a8"
             ],
             [
              0.3333333333333333,
              "#9c179e"
             ],
             [
              0.4444444444444444,
              "#bd3786"
             ],
             [
              0.5555555555555556,
              "#d8576b"
             ],
             [
              0.6666666666666666,
              "#ed7953"
             ],
             [
              0.7777777777777778,
              "#fb9f3a"
             ],
             [
              0.8888888888888888,
              "#fdca26"
             ],
             [
              1,
              "#f0f921"
             ]
            ],
            "type": "surface"
           }
          ],
          "table": [
           {
            "cells": {
             "fill": {
              "color": "#EBF0F8"
             },
             "line": {
              "color": "white"
             }
            },
            "header": {
             "fill": {
              "color": "#C8D4E3"
             },
             "line": {
              "color": "white"
             }
            },
            "type": "table"
           }
          ]
         },
         "layout": {
          "annotationdefaults": {
           "arrowcolor": "#2a3f5f",
           "arrowhead": 0,
           "arrowwidth": 1
          },
          "coloraxis": {
           "colorbar": {
            "outlinewidth": 0,
            "ticks": ""
           }
          },
          "colorscale": {
           "diverging": [
            [
             0,
             "#8e0152"
            ],
            [
             0.1,
             "#c51b7d"
            ],
            [
             0.2,
             "#de77ae"
            ],
            [
             0.3,
             "#f1b6da"
            ],
            [
             0.4,
             "#fde0ef"
            ],
            [
             0.5,
             "#f7f7f7"
            ],
            [
             0.6,
             "#e6f5d0"
            ],
            [
             0.7,
             "#b8e186"
            ],
            [
             0.8,
             "#7fbc41"
            ],
            [
             0.9,
             "#4d9221"
            ],
            [
             1,
             "#276419"
            ]
           ],
           "sequential": [
            [
             0,
             "#0d0887"
            ],
            [
             0.1111111111111111,
             "#46039f"
            ],
            [
             0.2222222222222222,
             "#7201a8"
            ],
            [
             0.3333333333333333,
             "#9c179e"
            ],
            [
             0.4444444444444444,
             "#bd3786"
            ],
            [
             0.5555555555555556,
             "#d8576b"
            ],
            [
             0.6666666666666666,
             "#ed7953"
            ],
            [
             0.7777777777777778,
             "#fb9f3a"
            ],
            [
             0.8888888888888888,
             "#fdca26"
            ],
            [
             1,
             "#f0f921"
            ]
           ],
           "sequentialminus": [
            [
             0,
             "#0d0887"
            ],
            [
             0.1111111111111111,
             "#46039f"
            ],
            [
             0.2222222222222222,
             "#7201a8"
            ],
            [
             0.3333333333333333,
             "#9c179e"
            ],
            [
             0.4444444444444444,
             "#bd3786"
            ],
            [
             0.5555555555555556,
             "#d8576b"
            ],
            [
             0.6666666666666666,
             "#ed7953"
            ],
            [
             0.7777777777777778,
             "#fb9f3a"
            ],
            [
             0.8888888888888888,
             "#fdca26"
            ],
            [
             1,
             "#f0f921"
            ]
           ]
          },
          "colorway": [
           "#636efa",
           "#EF553B",
           "#00cc96",
           "#ab63fa",
           "#FFA15A",
           "#19d3f3",
           "#FF6692",
           "#B6E880",
           "#FF97FF",
           "#FECB52"
          ],
          "font": {
           "color": "#2a3f5f"
          },
          "geo": {
           "bgcolor": "white",
           "lakecolor": "white",
           "landcolor": "#E5ECF6",
           "showlakes": true,
           "showland": true,
           "subunitcolor": "white"
          },
          "hoverlabel": {
           "align": "left"
          },
          "hovermode": "closest",
          "mapbox": {
           "style": "light"
          },
          "paper_bgcolor": "white",
          "plot_bgcolor": "#E5ECF6",
          "polar": {
           "angularaxis": {
            "gridcolor": "white",
            "linecolor": "white",
            "ticks": ""
           },
           "bgcolor": "#E5ECF6",
           "radialaxis": {
            "gridcolor": "white",
            "linecolor": "white",
            "ticks": ""
           }
          },
          "scene": {
           "xaxis": {
            "backgroundcolor": "#E5ECF6",
            "gridcolor": "white",
            "gridwidth": 2,
            "linecolor": "white",
            "showbackground": true,
            "ticks": "",
            "zerolinecolor": "white"
           },
           "yaxis": {
            "backgroundcolor": "#E5ECF6",
            "gridcolor": "white",
            "gridwidth": 2,
            "linecolor": "white",
            "showbackground": true,
            "ticks": "",
            "zerolinecolor": "white"
           },
           "zaxis": {
            "backgroundcolor": "#E5ECF6",
            "gridcolor": "white",
            "gridwidth": 2,
            "linecolor": "white",
            "showbackground": true,
            "ticks": "",
            "zerolinecolor": "white"
           }
          },
          "shapedefaults": {
           "line": {
            "color": "#2a3f5f"
           }
          },
          "ternary": {
           "aaxis": {
            "gridcolor": "white",
            "linecolor": "white",
            "ticks": ""
           },
           "baxis": {
            "gridcolor": "white",
            "linecolor": "white",
            "ticks": ""
           },
           "bgcolor": "#E5ECF6",
           "caxis": {
            "gridcolor": "white",
            "linecolor": "white",
            "ticks": ""
           }
          },
          "title": {
           "x": 0.05
          },
          "xaxis": {
           "automargin": true,
           "gridcolor": "white",
           "linecolor": "white",
           "ticks": "",
           "title": {
            "standoff": 15
           },
           "zerolinecolor": "white",
           "zerolinewidth": 2
          },
          "yaxis": {
           "automargin": true,
           "gridcolor": "white",
           "linecolor": "white",
           "ticks": "",
           "title": {
            "standoff": 15
           },
           "zerolinecolor": "white",
           "zerolinewidth": 2
          }
         }
        },
        "width": 600,
        "xaxis": {
         "title": {
          "text": "x"
         }
        }
       }
      },
      "text/html": [
       "<div>\n",
       "        \n",
       "        \n",
       "            <div id=\"82e9fcad-b496-4046-9f58-090a306b5943\" class=\"plotly-graph-div\" style=\"height:525px; width:600px;\"></div>\n",
       "            <script type=\"text/javascript\">\n",
       "                require([\"plotly\"], function(Plotly) {\n",
       "                    window.PLOTLYENV=window.PLOTLYENV || {};\n",
       "                    \n",
       "                if (document.getElementById(\"82e9fcad-b496-4046-9f58-090a306b5943\")) {\n",
       "                    Plotly.newPlot(\n",
       "                        '82e9fcad-b496-4046-9f58-090a306b5943',\n",
       "                        [{\"name\": \"exact\", \"type\": \"scatter\", \"x\": [-1.0, -0.984375, -0.96875, -0.953125, -0.9375, -0.921875, -0.90625, -0.890625, -0.875, -0.859375, -0.84375, -0.828125, -0.8125, -0.796875, -0.78125, -0.765625, -0.75, -0.734375, -0.71875, -0.703125, -0.6875, -0.671875, -0.65625, -0.640625, -0.625, -0.609375, -0.59375, -0.578125, -0.5625, -0.546875, -0.53125, -0.515625, -0.5, -0.484375, -0.46875, -0.453125, -0.4375, -0.421875, -0.40625, -0.390625, -0.375, -0.359375, -0.34375, -0.328125, -0.3125, -0.296875, -0.28125, -0.265625, -0.25, -0.234375, -0.21875, -0.203125, -0.1875, -0.171875, -0.15625, -0.140625, -0.125, -0.109375, -0.09375, -0.078125, -0.0625, -0.046875, -0.03125, -0.015625, 0.0, 0.015625, 0.03125, 0.046875, 0.0625, 0.078125, 0.09375, 0.109375, 0.125, 0.140625, 0.15625, 0.171875, 0.1875, 0.203125, 0.21875, 0.234375, 0.25, 0.265625, 0.28125, 0.296875, 0.3125, 0.328125, 0.34375, 0.359375, 0.375, 0.390625, 0.40625, 0.421875, 0.4375, 0.453125, 0.46875, 0.484375, 0.5, 0.515625, 0.53125, 0.546875, 0.5625, 0.578125, 0.59375, 0.609375, 0.625, 0.640625, 0.65625, 0.671875, 0.6875, 0.703125, 0.71875, 0.734375, 0.75, 0.765625, 0.78125, 0.796875, 0.8125, 0.828125, 0.84375, 0.859375, 0.875, 0.890625, 0.90625, 0.921875, 0.9375, 0.953125, 0.96875, 0.984375, 1.0], \"y\": [0.5, 0.5078735275883447, 0.5158690176322418, 0.5239861839580402, 0.5322245322245323, 0.5405833443315297, 0.5490616621983915, 0.5576582709326072, 0.5663716814159292, 0.575200112343772, 0.5841414717626925, 0.593193338160753, 0.6023529411764705, 0.6116171420038823, 0.6209824135839903, 0.6304448206864707, 0.64, 0.6496431403647899, 0.6593689632968448, 0.6691717039699395, 0.6790450928381963, 0.688982338099243, 0.6989761092150171, 0.7090185217240782, 0.7191011235955056, 0.7292148833897099, 0.7393501805054151, 0.7494967978042086, 0.7596439169139466, 0.7697801165194512, 0.7798933739527799, 0.7899710703953713, 0.8, 0.8099663832311648, 0.8198558847077662, 0.8296536358112214, 0.839344262295082, 0.8489119170984456, 0.8583403185247276, 0.8676127938995976, 0.8767123287671232, 0.8856216216216216, 0.8943231441048035, 0.9027992065241349, 0.9110320284697508, 0.9190038142248149, 0.9266968325791856, 0.9340935005701254, 0.9411764705882353, 0.9479287202036566, 0.9543336439888164, 0.9603751465416178, 0.9660377358490566, 0.9713066160777805, 0.9761677788369876, 0.9806080919320086, 0.9846153846153847, 0.9881785283474065, 0.9912875121006777, 0.993933511283669, 0.9961089494163424, 0.9978075517661389, 0.9990243902439024, 0.9997559189650964, 1.0, 0.9997559189650964, 0.9990243902439024, 0.9978075517661389, 0.9961089494163424, 0.993933511283669, 0.9912875121006777, 0.9881785283474065, 0.9846153846153847, 0.9806080919320086, 0.9761677788369876, 0.9713066160777805, 0.9660377358490566, 0.9603751465416178, 0.9543336439888164, 0.9479287202036566, 0.9411764705882353, 0.9340935005701254, 0.9266968325791856, 0.9190038142248149, 0.9110320284697508, 0.9027992065241349, 0.8943231441048035, 0.8856216216216216, 0.8767123287671232, 0.8676127938995976, 0.8583403185247276, 0.8489119170984456, 0.839344262295082, 0.8296536358112214, 0.8198558847077662, 0.8099663832311648, 0.8, 0.7899710703953713, 0.7798933739527799, 0.7697801165194512, 0.7596439169139466, 0.7494967978042086, 0.7393501805054151, 0.7292148833897099, 0.7191011235955056, 0.7090185217240782, 0.6989761092150171, 0.688982338099243, 0.6790450928381963, 0.6691717039699395, 0.6593689632968448, 0.6496431403647899, 0.64, 0.6304448206864707, 0.6209824135839903, 0.6116171420038823, 0.6023529411764705, 0.593193338160753, 0.5841414717626925, 0.575200112343772, 0.5663716814159292, 0.5576582709326072, 0.5490616621983915, 0.5405833443315297, 0.5322245322245323, 0.5239861839580402, 0.5158690176322418, 0.5078735275883447, 0.5]}, {\"name\": \"model\", \"type\": \"scatter\", \"x\": [-1.0, -0.984375, -0.96875, -0.953125, -0.9375, -0.921875, -0.90625, -0.890625, -0.875, -0.859375, -0.84375, -0.828125, -0.8125, -0.796875, -0.78125, -0.765625, -0.75, -0.734375, -0.71875, -0.703125, -0.6875, -0.671875, -0.65625, -0.640625, -0.625, -0.609375, -0.59375, -0.578125, -0.5625, -0.546875, -0.53125, -0.515625, -0.5, -0.484375, -0.46875, -0.453125, -0.4375, -0.421875, -0.40625, -0.390625, -0.375, -0.359375, -0.34375, -0.328125, -0.3125, -0.296875, -0.28125, -0.265625, -0.25, -0.234375, -0.21875, -0.203125, -0.1875, -0.171875, -0.15625, -0.140625, -0.125, -0.109375, -0.09375, -0.078125, -0.0625, -0.046875, -0.03125, -0.015625, 0.0, 0.015625, 0.03125, 0.046875, 0.0625, 0.078125, 0.09375, 0.109375, 0.125, 0.140625, 0.15625, 0.171875, 0.1875, 0.203125, 0.21875, 0.234375, 0.25, 0.265625, 0.28125, 0.296875, 0.3125, 0.328125, 0.34375, 0.359375, 0.375, 0.390625, 0.40625, 0.421875, 0.4375, 0.453125, 0.46875, 0.484375, 0.5, 0.515625, 0.53125, 0.546875, 0.5625, 0.578125, 0.59375, 0.609375, 0.625, 0.640625, 0.65625, 0.671875, 0.6875, 0.703125, 0.71875, 0.734375, 0.75, 0.765625, 0.78125, 0.796875, 0.8125, 0.828125, 0.84375, 0.859375, 0.875, 0.890625, 0.90625, 0.921875, 0.9375, 0.953125, 0.96875, 0.984375, 1.0], \"y\": [0.506764829158783, 0.513335108757019, 0.5200856924057007, 0.527019202709198, 0.5341355204582214, 0.5414355993270874, 0.5489199757575989, 0.556587815284729, 0.564439058303833, 0.5724719762802124, 0.5806856751441956, 0.5890775322914124, 0.597644567489624, 0.6063840389251709, 0.6152916550636292, 0.6243622899055481, 0.6335912346839905, 0.642971932888031, 0.6524977087974548, 0.6621610522270203, 0.6719529628753662, 0.681864321231842, 0.6918851137161255, 0.7020041942596436, 0.7122100591659546, 0.7224898934364319, 0.7328301668167114, 0.7432165741920471, 0.7536340951919556, 0.7640674710273743, 0.7744992971420288, 0.7849130630493164, 0.7952907085418701, 0.8056137561798096, 0.815863847732544, 0.8260214328765869, 0.8360668420791626, 0.8459804058074951, 0.8557417988777161, 0.8653310537338257, 0.8747282028198242, 0.8839127421379089, 0.8928650617599487, 0.9015656113624573, 0.9099949598312378, 0.9181342124938965, 0.925965428352356, 0.9334706664085388, 0.940632700920105, 0.9474354982376099, 0.9538636207580566, 0.9599024057388306, 0.9655382633209229, 0.9707585573196411, 0.9755514860153198, 0.9799066185951233, 0.9838143587112427, 0.9872665405273438, 0.9902553558349609, 0.9927753210067749, 0.9948209524154663, 0.9963887929916382, 0.9974762201309204, 0.9980814456939697, 0.9982047080993652, 0.9978463649749756, 0.9970084428787231, 0.9956945776939392, 0.9939086437225342, 0.9916558265686035, 0.9889432191848755, 0.9857774376869202, 0.9821678400039673, 0.9781231880187988, 0.9736542105674744, 0.9687721729278564, 0.9634893536567688, 0.957818865776062, 0.9517741203308105, 0.9453698992729187, 0.9386211633682251, 0.9315435290336609, 0.9241529703140259, 0.9164667129516602, 0.9085012674331665, 0.9002737998962402, 0.8918018937110901, 0.8831033706665039, 0.8741955757141113, 0.8650964498519897, 0.855823278427124, 0.846393346786499, 0.8368242383003235, 0.8271325826644897, 0.8173350095748901, 0.8074477314949036, 0.7974860668182373, 0.7874658107757568, 0.7774010300636292, 0.7673062086105347, 0.7571945786476135, 0.7470788955688477, 0.7369718551635742, 0.7268846035003662, 0.7168282270431519, 0.7068127393722534, 0.6968479156494141, 0.6869425177574158, 0.6771050691604614, 0.6673429012298584, 0.657663106918335, 0.6480721235275269, 0.6385757327079773, 0.6291792392730713, 0.6198871731758118, 0.6107037663459778, 0.6016327738761902, 0.5926772952079773, 0.5838402509689331, 0.5751238465309143, 0.5665302276611328, 0.5580608248710632, 0.5497169494628906, 0.541499674320221, 0.5334093570709229, 0.5254465341567993, 0.5176113247871399, 0.5099034309387207, 0.5023227334022522]}],\n",
       "                        {\"template\": {\"data\": {\"bar\": [{\"error_x\": {\"color\": \"#2a3f5f\"}, \"error_y\": {\"color\": \"#2a3f5f\"}, \"marker\": {\"line\": {\"color\": \"#E5ECF6\", \"width\": 0.5}}, \"type\": \"bar\"}], \"barpolar\": [{\"marker\": {\"line\": {\"color\": \"#E5ECF6\", \"width\": 0.5}}, \"type\": \"barpolar\"}], \"carpet\": [{\"aaxis\": {\"endlinecolor\": \"#2a3f5f\", \"gridcolor\": \"white\", \"linecolor\": \"white\", \"minorgridcolor\": \"white\", \"startlinecolor\": \"#2a3f5f\"}, \"baxis\": {\"endlinecolor\": \"#2a3f5f\", \"gridcolor\": \"white\", \"linecolor\": \"white\", \"minorgridcolor\": \"white\", \"startlinecolor\": \"#2a3f5f\"}, \"type\": \"carpet\"}], \"choropleth\": [{\"colorbar\": {\"outlinewidth\": 0, \"ticks\": \"\"}, \"type\": \"choropleth\"}], \"contour\": [{\"colorbar\": {\"outlinewidth\": 0, \"ticks\": \"\"}, \"colorscale\": [[0.0, \"#0d0887\"], [0.1111111111111111, \"#46039f\"], [0.2222222222222222, \"#7201a8\"], [0.3333333333333333, \"#9c179e\"], [0.4444444444444444, \"#bd3786\"], [0.5555555555555556, \"#d8576b\"], [0.6666666666666666, \"#ed7953\"], [0.7777777777777778, \"#fb9f3a\"], [0.8888888888888888, \"#fdca26\"], [1.0, \"#f0f921\"]], \"type\": \"contour\"}], \"contourcarpet\": [{\"colorbar\": {\"outlinewidth\": 0, \"ticks\": \"\"}, \"type\": \"contourcarpet\"}], \"heatmap\": [{\"colorbar\": {\"outlinewidth\": 0, \"ticks\": \"\"}, \"colorscale\": [[0.0, \"#0d0887\"], [0.1111111111111111, \"#46039f\"], [0.2222222222222222, \"#7201a8\"], [0.3333333333333333, \"#9c179e\"], [0.4444444444444444, \"#bd3786\"], [0.5555555555555556, \"#d8576b\"], [0.6666666666666666, \"#ed7953\"], [0.7777777777777778, \"#fb9f3a\"], [0.8888888888888888, \"#fdca26\"], [1.0, \"#f0f921\"]], \"type\": \"heatmap\"}], \"heatmapgl\": [{\"colorbar\": {\"outlinewidth\": 0, \"ticks\": \"\"}, \"colorscale\": [[0.0, \"#0d0887\"], [0.1111111111111111, \"#46039f\"], [0.2222222222222222, \"#7201a8\"], [0.3333333333333333, \"#9c179e\"], [0.4444444444444444, \"#bd3786\"], [0.5555555555555556, \"#d8576b\"], [0.6666666666666666, \"#ed7953\"], [0.7777777777777778, \"#fb9f3a\"], [0.8888888888888888, \"#fdca26\"], [1.0, \"#f0f921\"]], \"type\": \"heatmapgl\"}], \"histogram\": [{\"marker\": {\"colorbar\": {\"outlinewidth\": 0, \"ticks\": \"\"}}, \"type\": \"histogram\"}], \"histogram2d\": [{\"colorbar\": {\"outlinewidth\": 0, \"ticks\": \"\"}, \"colorscale\": [[0.0, \"#0d0887\"], [0.1111111111111111, \"#46039f\"], [0.2222222222222222, \"#7201a8\"], [0.3333333333333333, \"#9c179e\"], [0.4444444444444444, \"#bd3786\"], [0.5555555555555556, \"#d8576b\"], [0.6666666666666666, \"#ed7953\"], [0.7777777777777778, \"#fb9f3a\"], [0.8888888888888888, \"#fdca26\"], [1.0, \"#f0f921\"]], \"type\": \"histogram2d\"}], \"histogram2dcontour\": [{\"colorbar\": {\"outlinewidth\": 0, \"ticks\": \"\"}, \"colorscale\": [[0.0, \"#0d0887\"], [0.1111111111111111, \"#46039f\"], [0.2222222222222222, \"#7201a8\"], [0.3333333333333333, \"#9c179e\"], [0.4444444444444444, \"#bd3786\"], [0.5555555555555556, \"#d8576b\"], [0.6666666666666666, \"#ed7953\"], [0.7777777777777778, \"#fb9f3a\"], [0.8888888888888888, \"#fdca26\"], [1.0, \"#f0f921\"]], \"type\": \"histogram2dcontour\"}], \"mesh3d\": [{\"colorbar\": {\"outlinewidth\": 0, \"ticks\": \"\"}, \"type\": \"mesh3d\"}], \"parcoords\": [{\"line\": {\"colorbar\": {\"outlinewidth\": 0, \"ticks\": \"\"}}, \"type\": \"parcoords\"}], \"pie\": [{\"automargin\": true, \"type\": \"pie\"}], \"scatter\": [{\"marker\": {\"colorbar\": {\"outlinewidth\": 0, \"ticks\": \"\"}}, \"type\": \"scatter\"}], \"scatter3d\": [{\"line\": {\"colorbar\": {\"outlinewidth\": 0, \"ticks\": \"\"}}, \"marker\": {\"colorbar\": {\"outlinewidth\": 0, \"ticks\": \"\"}}, \"type\": \"scatter3d\"}], \"scattercarpet\": [{\"marker\": {\"colorbar\": {\"outlinewidth\": 0, \"ticks\": \"\"}}, \"type\": \"scattercarpet\"}], \"scattergeo\": [{\"marker\": {\"colorbar\": {\"outlinewidth\": 0, \"ticks\": \"\"}}, \"type\": \"scattergeo\"}], \"scattergl\": [{\"marker\": {\"colorbar\": {\"outlinewidth\": 0, \"ticks\": \"\"}}, \"type\": \"scattergl\"}], \"scattermapbox\": [{\"marker\": {\"colorbar\": {\"outlinewidth\": 0, \"ticks\": \"\"}}, \"type\": \"scattermapbox\"}], \"scatterpolar\": [{\"marker\": {\"colorbar\": {\"outlinewidth\": 0, \"ticks\": \"\"}}, \"type\": \"scatterpolar\"}], \"scatterpolargl\": [{\"marker\": {\"colorbar\": {\"outlinewidth\": 0, \"ticks\": \"\"}}, \"type\": \"scatterpolargl\"}], \"scatterternary\": [{\"marker\": {\"colorbar\": {\"outlinewidth\": 0, \"ticks\": \"\"}}, \"type\": \"scatterternary\"}], \"surface\": [{\"colorbar\": {\"outlinewidth\": 0, \"ticks\": \"\"}, \"colorscale\": [[0.0, \"#0d0887\"], [0.1111111111111111, \"#46039f\"], [0.2222222222222222, \"#7201a8\"], [0.3333333333333333, \"#9c179e\"], [0.4444444444444444, \"#bd3786\"], [0.5555555555555556, \"#d8576b\"], [0.6666666666666666, \"#ed7953\"], [0.7777777777777778, \"#fb9f3a\"], [0.8888888888888888, \"#fdca26\"], [1.0, \"#f0f921\"]], \"type\": \"surface\"}], \"table\": [{\"cells\": {\"fill\": {\"color\": \"#EBF0F8\"}, \"line\": {\"color\": \"white\"}}, \"header\": {\"fill\": {\"color\": \"#C8D4E3\"}, \"line\": {\"color\": \"white\"}}, \"type\": \"table\"}]}, \"layout\": {\"annotationdefaults\": {\"arrowcolor\": \"#2a3f5f\", \"arrowhead\": 0, \"arrowwidth\": 1}, \"coloraxis\": {\"colorbar\": {\"outlinewidth\": 0, \"ticks\": \"\"}}, \"colorscale\": {\"diverging\": [[0, \"#8e0152\"], [0.1, \"#c51b7d\"], [0.2, \"#de77ae\"], [0.3, \"#f1b6da\"], [0.4, \"#fde0ef\"], [0.5, \"#f7f7f7\"], [0.6, \"#e6f5d0\"], [0.7, \"#b8e186\"], [0.8, \"#7fbc41\"], [0.9, \"#4d9221\"], [1, \"#276419\"]], \"sequential\": [[0.0, \"#0d0887\"], [0.1111111111111111, \"#46039f\"], [0.2222222222222222, \"#7201a8\"], [0.3333333333333333, \"#9c179e\"], [0.4444444444444444, \"#bd3786\"], [0.5555555555555556, \"#d8576b\"], [0.6666666666666666, \"#ed7953\"], [0.7777777777777778, \"#fb9f3a\"], [0.8888888888888888, \"#fdca26\"], [1.0, \"#f0f921\"]], \"sequentialminus\": [[0.0, \"#0d0887\"], [0.1111111111111111, \"#46039f\"], [0.2222222222222222, \"#7201a8\"], [0.3333333333333333, \"#9c179e\"], [0.4444444444444444, \"#bd3786\"], [0.5555555555555556, \"#d8576b\"], [0.6666666666666666, \"#ed7953\"], [0.7777777777777778, \"#fb9f3a\"], [0.8888888888888888, \"#fdca26\"], [1.0, \"#f0f921\"]]}, \"colorway\": [\"#636efa\", \"#EF553B\", \"#00cc96\", \"#ab63fa\", \"#FFA15A\", \"#19d3f3\", \"#FF6692\", \"#B6E880\", \"#FF97FF\", \"#FECB52\"], \"font\": {\"color\": \"#2a3f5f\"}, \"geo\": {\"bgcolor\": \"white\", \"lakecolor\": \"white\", \"landcolor\": \"#E5ECF6\", \"showlakes\": true, \"showland\": true, \"subunitcolor\": \"white\"}, \"hoverlabel\": {\"align\": \"left\"}, \"hovermode\": \"closest\", \"mapbox\": {\"style\": \"light\"}, \"paper_bgcolor\": \"white\", \"plot_bgcolor\": \"#E5ECF6\", \"polar\": {\"angularaxis\": {\"gridcolor\": \"white\", \"linecolor\": \"white\", \"ticks\": \"\"}, \"bgcolor\": \"#E5ECF6\", \"radialaxis\": {\"gridcolor\": \"white\", \"linecolor\": \"white\", \"ticks\": \"\"}}, \"scene\": {\"xaxis\": {\"backgroundcolor\": \"#E5ECF6\", \"gridcolor\": \"white\", \"gridwidth\": 2, \"linecolor\": \"white\", \"showbackground\": true, \"ticks\": \"\", \"zerolinecolor\": \"white\"}, \"yaxis\": {\"backgroundcolor\": \"#E5ECF6\", \"gridcolor\": \"white\", \"gridwidth\": 2, \"linecolor\": \"white\", \"showbackground\": true, \"ticks\": \"\", \"zerolinecolor\": \"white\"}, \"zaxis\": {\"backgroundcolor\": \"#E5ECF6\", \"gridcolor\": \"white\", \"gridwidth\": 2, \"linecolor\": \"white\", \"showbackground\": true, \"ticks\": \"\", \"zerolinecolor\": \"white\"}}, \"shapedefaults\": {\"line\": {\"color\": \"#2a3f5f\"}}, \"ternary\": {\"aaxis\": {\"gridcolor\": \"white\", \"linecolor\": \"white\", \"ticks\": \"\"}, \"baxis\": {\"gridcolor\": \"white\", \"linecolor\": \"white\", \"ticks\": \"\"}, \"bgcolor\": \"#E5ECF6\", \"caxis\": {\"gridcolor\": \"white\", \"linecolor\": \"white\", \"ticks\": \"\"}}, \"title\": {\"x\": 0.05}, \"xaxis\": {\"automargin\": true, \"gridcolor\": \"white\", \"linecolor\": \"white\", \"ticks\": \"\", \"title\": {\"standoff\": 15}, \"zerolinecolor\": \"white\", \"zerolinewidth\": 2}, \"yaxis\": {\"automargin\": true, \"gridcolor\": \"white\", \"linecolor\": \"white\", \"ticks\": \"\", \"title\": {\"standoff\": 15}, \"zerolinecolor\": \"white\", \"zerolinewidth\": 2}}}, \"width\": 600, \"xaxis\": {\"title\": {\"text\": \"x\"}}},\n",
       "                        {\"responsive\": true}\n",
       "                    ).then(function(){\n",
       "                            \n",
       "var gd = document.getElementById('82e9fcad-b496-4046-9f58-090a306b5943');\n",
       "var x = new MutationObserver(function (mutations, observer) {{\n",
       "        var display = window.getComputedStyle(gd).display;\n",
       "        if (!display || display === 'none') {{\n",
       "            console.log([gd, 'removed!']);\n",
       "            Plotly.purge(gd);\n",
       "            observer.disconnect();\n",
       "        }}\n",
       "}});\n",
       "\n",
       "// Listen for the removal of the full notebook cells\n",
       "var notebookContainer = gd.closest('#notebook-container');\n",
       "if (notebookContainer) {{\n",
       "    x.observe(notebookContainer, {childList: true});\n",
       "}}\n",
       "\n",
       "// Listen for the clearing of the current output cell\n",
       "var outputEl = gd.closest('.output');\n",
       "if (outputEl) {{\n",
       "    x.observe(outputEl, {childList: true});\n",
       "}}\n",
       "\n",
       "                        })\n",
       "                };\n",
       "                });\n",
       "            </script>\n",
       "        </div>"
      ]
     },
     "metadata": {},
     "output_type": "display_data"
    }
   ],
   "source": [
    "y_pred = np.array( model.predict(X_test) ).flatten()\n",
    "fig = go.Figure()\n",
    "fig.add_trace(go.Scatter(x=X_test, y=y_test, name='exact'))\n",
    "fig.add_trace(go.Scatter(x=X_test, y=y_pred, name='model'))\n",
    "fig.update_layout(width=600, xaxis_title='x')\n",
    "fig.show()"
   ]
  },
  {
   "cell_type": "code",
   "execution_count": 195,
   "metadata": {},
   "outputs": [],
   "source": [
    "save_to_html(fig, '../Slides/TF_Keras', 'fig3.html')"
   ]
  },
  {
   "cell_type": "code",
   "execution_count": 196,
   "metadata": {},
   "outputs": [
    {
     "data": {
      "application/vnd.plotly.v1+json": {
       "config": {
        "plotlyServerURL": "https://plot.ly"
       },
       "data": [
        {
         "type": "scatter",
         "x": [
          -1,
          -0.984375,
          -0.96875,
          -0.953125,
          -0.9375,
          -0.921875,
          -0.90625,
          -0.890625,
          -0.875,
          -0.859375,
          -0.84375,
          -0.828125,
          -0.8125,
          -0.796875,
          -0.78125,
          -0.765625,
          -0.75,
          -0.734375,
          -0.71875,
          -0.703125,
          -0.6875,
          -0.671875,
          -0.65625,
          -0.640625,
          -0.625,
          -0.609375,
          -0.59375,
          -0.578125,
          -0.5625,
          -0.546875,
          -0.53125,
          -0.515625,
          -0.5,
          -0.484375,
          -0.46875,
          -0.453125,
          -0.4375,
          -0.421875,
          -0.40625,
          -0.390625,
          -0.375,
          -0.359375,
          -0.34375,
          -0.328125,
          -0.3125,
          -0.296875,
          -0.28125,
          -0.265625,
          -0.25,
          -0.234375,
          -0.21875,
          -0.203125,
          -0.1875,
          -0.171875,
          -0.15625,
          -0.140625,
          -0.125,
          -0.109375,
          -0.09375,
          -0.078125,
          -0.0625,
          -0.046875,
          -0.03125,
          -0.015625,
          0,
          0.015625,
          0.03125,
          0.046875,
          0.0625,
          0.078125,
          0.09375,
          0.109375,
          0.125,
          0.140625,
          0.15625,
          0.171875,
          0.1875,
          0.203125,
          0.21875,
          0.234375,
          0.25,
          0.265625,
          0.28125,
          0.296875,
          0.3125,
          0.328125,
          0.34375,
          0.359375,
          0.375,
          0.390625,
          0.40625,
          0.421875,
          0.4375,
          0.453125,
          0.46875,
          0.484375,
          0.5,
          0.515625,
          0.53125,
          0.546875,
          0.5625,
          0.578125,
          0.59375,
          0.609375,
          0.625,
          0.640625,
          0.65625,
          0.671875,
          0.6875,
          0.703125,
          0.71875,
          0.734375,
          0.75,
          0.765625,
          0.78125,
          0.796875,
          0.8125,
          0.828125,
          0.84375,
          0.859375,
          0.875,
          0.890625,
          0.90625,
          0.921875,
          0.9375,
          0.953125,
          0.96875,
          0.984375,
          1
         ],
         "y": [
          0.006764829158782959,
          0.005461581168674345,
          0.004216674773458884,
          0.003033018751157801,
          0.0019109882336891815,
          0.0008522549955577441,
          0.00014168644079259884,
          0.0010704556478782212,
          0.0019326231120961879,
          0.002728136063559594,
          0.0034557966184969313,
          0.004115805869340683,
          0.004708373686846512,
          0.0052331030787113875,
          0.005690758520361161,
          0.006082530780922579,
          0.006408765316009535,
          0.006671207476758867,
          0.006871254499389967,
          0.0070106517429192605,
          0.0070921299628300405,
          0.007118016867400989,
          0.0070909954988915835,
          0.007014327464434644,
          0.006891064429551008,
          0.006724989953277971,
          0.006520013688703696,
          0.006280223612161517,
          0.006009821721991049,
          0.005712645492076951,
          0.005394076810751103,
          0.0050580073460548824,
          0.004709291458129927,
          0.004352627051355196,
          0.003992036975222213,
          0.0036322029346345097,
          0.003277420215919369,
          0.0029315112909504837,
          0.0025985196470115213,
          0.0022817401657718728,
          0.0019841259472990203,
          0.0017088794837126775,
          0.001458082344854783,
          0.0012335951616776475,
          0.00103706863851305,
          0.0008696017309184345,
          0.0007314042268296017,
          0.000622834161586594,
          0.0005437696681303006,
          0.0004932219660467307,
          0.00047002323075973074,
          0.0004727408027872526,
          0.0004994725281337598,
          0.000548058758139347,
          0.0006162928216677521,
          0.0007014733368853054,
          0.0008010259041419943,
          0.0009119878200627429,
          0.0010321562657167327,
          0.0011581902768941221,
          0.0012879970008761177,
          0.0014187587745007058,
          0.001548170112982028,
          0.0016744732711266863,
          0.0017952919006347656,
          0.001909553990120827,
          0.0020159473651792936,
          0.0021129740721996804,
          0.0022003056938082466,
          0.002277684715065509,
          0.002344292915802182,
          0.002401090660486327,
          0.002447544611417385,
          0.0024849039132097683,
          0.002513568269513211,
          0.002534443149924015,
          0.0025483821922878125,
          0.0025562807655558073,
          0.0025595236580058245,
          0.002558820930737893,
          0.0025553072200101834,
          0.0025499715364645237,
          0.00254386226515968,
          0.0025371012731547626,
          0.002530761036584339,
          0.0025254066278946885,
          0.0025212503937134256,
          0.002518250955117707,
          0.002516753053011911,
          0.0025163440476078103,
          0.0025170400976035623,
          0.0025185703119465774,
          0.00252002399475848,
          0.0025210531467316777,
          0.0025208751328760215,
          0.0025186517362612015,
          0.0025139331817627397,
          0.0025052596196144528,
          0.002492343889150761,
          0.0024739079089165505,
          0.00244933826633309,
          0.0024179022353609803,
          0.0023783253418409034,
          0.002330279889343645,
          0.0022728965523537425,
          0.002205782351824781,
          0.0021281935656030093,
          0.0020398203418272587,
          0.0019400236777348256,
          0.0018288027400811258,
          0.0017058563785098402,
          0.0015710168372630173,
          0.0014242672920227184,
          0.001265581413399386,
          0.0010952404081785438,
          0.0009133756579045027,
          0.0007201673002803499,
          0.0005160429527757415,
          0.0003012207937593825,
          7.626581285768985e-05,
          0.00015854624520361682,
          0.0004025539384560073,
          0.0006552872644991492,
          0.000916329988691289,
          0.0011848248463905975,
          0.0014603501987591194,
          0.0017423071548980928,
          0.0020299033503760056,
          0.0023227334022521973
         ]
        }
       ],
       "layout": {
        "template": {
         "data": {
          "bar": [
           {
            "error_x": {
             "color": "#2a3f5f"
            },
            "error_y": {
             "color": "#2a3f5f"
            },
            "marker": {
             "line": {
              "color": "#E5ECF6",
              "width": 0.5
             }
            },
            "type": "bar"
           }
          ],
          "barpolar": [
           {
            "marker": {
             "line": {
              "color": "#E5ECF6",
              "width": 0.5
             }
            },
            "type": "barpolar"
           }
          ],
          "carpet": [
           {
            "aaxis": {
             "endlinecolor": "#2a3f5f",
             "gridcolor": "white",
             "linecolor": "white",
             "minorgridcolor": "white",
             "startlinecolor": "#2a3f5f"
            },
            "baxis": {
             "endlinecolor": "#2a3f5f",
             "gridcolor": "white",
             "linecolor": "white",
             "minorgridcolor": "white",
             "startlinecolor": "#2a3f5f"
            },
            "type": "carpet"
           }
          ],
          "choropleth": [
           {
            "colorbar": {
             "outlinewidth": 0,
             "ticks": ""
            },
            "type": "choropleth"
           }
          ],
          "contour": [
           {
            "colorbar": {
             "outlinewidth": 0,
             "ticks": ""
            },
            "colorscale": [
             [
              0,
              "#0d0887"
             ],
             [
              0.1111111111111111,
              "#46039f"
             ],
             [
              0.2222222222222222,
              "#7201a8"
             ],
             [
              0.3333333333333333,
              "#9c179e"
             ],
             [
              0.4444444444444444,
              "#bd3786"
             ],
             [
              0.5555555555555556,
              "#d8576b"
             ],
             [
              0.6666666666666666,
              "#ed7953"
             ],
             [
              0.7777777777777778,
              "#fb9f3a"
             ],
             [
              0.8888888888888888,
              "#fdca26"
             ],
             [
              1,
              "#f0f921"
             ]
            ],
            "type": "contour"
           }
          ],
          "contourcarpet": [
           {
            "colorbar": {
             "outlinewidth": 0,
             "ticks": ""
            },
            "type": "contourcarpet"
           }
          ],
          "heatmap": [
           {
            "colorbar": {
             "outlinewidth": 0,
             "ticks": ""
            },
            "colorscale": [
             [
              0,
              "#0d0887"
             ],
             [
              0.1111111111111111,
              "#46039f"
             ],
             [
              0.2222222222222222,
              "#7201a8"
             ],
             [
              0.3333333333333333,
              "#9c179e"
             ],
             [
              0.4444444444444444,
              "#bd3786"
             ],
             [
              0.5555555555555556,
              "#d8576b"
             ],
             [
              0.6666666666666666,
              "#ed7953"
             ],
             [
              0.7777777777777778,
              "#fb9f3a"
             ],
             [
              0.8888888888888888,
              "#fdca26"
             ],
             [
              1,
              "#f0f921"
             ]
            ],
            "type": "heatmap"
           }
          ],
          "heatmapgl": [
           {
            "colorbar": {
             "outlinewidth": 0,
             "ticks": ""
            },
            "colorscale": [
             [
              0,
              "#0d0887"
             ],
             [
              0.1111111111111111,
              "#46039f"
             ],
             [
              0.2222222222222222,
              "#7201a8"
             ],
             [
              0.3333333333333333,
              "#9c179e"
             ],
             [
              0.4444444444444444,
              "#bd3786"
             ],
             [
              0.5555555555555556,
              "#d8576b"
             ],
             [
              0.6666666666666666,
              "#ed7953"
             ],
             [
              0.7777777777777778,
              "#fb9f3a"
             ],
             [
              0.8888888888888888,
              "#fdca26"
             ],
             [
              1,
              "#f0f921"
             ]
            ],
            "type": "heatmapgl"
           }
          ],
          "histogram": [
           {
            "marker": {
             "colorbar": {
              "outlinewidth": 0,
              "ticks": ""
             }
            },
            "type": "histogram"
           }
          ],
          "histogram2d": [
           {
            "colorbar": {
             "outlinewidth": 0,
             "ticks": ""
            },
            "colorscale": [
             [
              0,
              "#0d0887"
             ],
             [
              0.1111111111111111,
              "#46039f"
             ],
             [
              0.2222222222222222,
              "#7201a8"
             ],
             [
              0.3333333333333333,
              "#9c179e"
             ],
             [
              0.4444444444444444,
              "#bd3786"
             ],
             [
              0.5555555555555556,
              "#d8576b"
             ],
             [
              0.6666666666666666,
              "#ed7953"
             ],
             [
              0.7777777777777778,
              "#fb9f3a"
             ],
             [
              0.8888888888888888,
              "#fdca26"
             ],
             [
              1,
              "#f0f921"
             ]
            ],
            "type": "histogram2d"
           }
          ],
          "histogram2dcontour": [
           {
            "colorbar": {
             "outlinewidth": 0,
             "ticks": ""
            },
            "colorscale": [
             [
              0,
              "#0d0887"
             ],
             [
              0.1111111111111111,
              "#46039f"
             ],
             [
              0.2222222222222222,
              "#7201a8"
             ],
             [
              0.3333333333333333,
              "#9c179e"
             ],
             [
              0.4444444444444444,
              "#bd3786"
             ],
             [
              0.5555555555555556,
              "#d8576b"
             ],
             [
              0.6666666666666666,
              "#ed7953"
             ],
             [
              0.7777777777777778,
              "#fb9f3a"
             ],
             [
              0.8888888888888888,
              "#fdca26"
             ],
             [
              1,
              "#f0f921"
             ]
            ],
            "type": "histogram2dcontour"
           }
          ],
          "mesh3d": [
           {
            "colorbar": {
             "outlinewidth": 0,
             "ticks": ""
            },
            "type": "mesh3d"
           }
          ],
          "parcoords": [
           {
            "line": {
             "colorbar": {
              "outlinewidth": 0,
              "ticks": ""
             }
            },
            "type": "parcoords"
           }
          ],
          "pie": [
           {
            "automargin": true,
            "type": "pie"
           }
          ],
          "scatter": [
           {
            "marker": {
             "colorbar": {
              "outlinewidth": 0,
              "ticks": ""
             }
            },
            "type": "scatter"
           }
          ],
          "scatter3d": [
           {
            "line": {
             "colorbar": {
              "outlinewidth": 0,
              "ticks": ""
             }
            },
            "marker": {
             "colorbar": {
              "outlinewidth": 0,
              "ticks": ""
             }
            },
            "type": "scatter3d"
           }
          ],
          "scattercarpet": [
           {
            "marker": {
             "colorbar": {
              "outlinewidth": 0,
              "ticks": ""
             }
            },
            "type": "scattercarpet"
           }
          ],
          "scattergeo": [
           {
            "marker": {
             "colorbar": {
              "outlinewidth": 0,
              "ticks": ""
             }
            },
            "type": "scattergeo"
           }
          ],
          "scattergl": [
           {
            "marker": {
             "colorbar": {
              "outlinewidth": 0,
              "ticks": ""
             }
            },
            "type": "scattergl"
           }
          ],
          "scattermapbox": [
           {
            "marker": {
             "colorbar": {
              "outlinewidth": 0,
              "ticks": ""
             }
            },
            "type": "scattermapbox"
           }
          ],
          "scatterpolar": [
           {
            "marker": {
             "colorbar": {
              "outlinewidth": 0,
              "ticks": ""
             }
            },
            "type": "scatterpolar"
           }
          ],
          "scatterpolargl": [
           {
            "marker": {
             "colorbar": {
              "outlinewidth": 0,
              "ticks": ""
             }
            },
            "type": "scatterpolargl"
           }
          ],
          "scatterternary": [
           {
            "marker": {
             "colorbar": {
              "outlinewidth": 0,
              "ticks": ""
             }
            },
            "type": "scatterternary"
           }
          ],
          "surface": [
           {
            "colorbar": {
             "outlinewidth": 0,
             "ticks": ""
            },
            "colorscale": [
             [
              0,
              "#0d0887"
             ],
             [
              0.1111111111111111,
              "#46039f"
             ],
             [
              0.2222222222222222,
              "#7201a8"
             ],
             [
              0.3333333333333333,
              "#9c179e"
             ],
             [
              0.4444444444444444,
              "#bd3786"
             ],
             [
              0.5555555555555556,
              "#d8576b"
             ],
             [
              0.6666666666666666,
              "#ed7953"
             ],
             [
              0.7777777777777778,
              "#fb9f3a"
             ],
             [
              0.8888888888888888,
              "#fdca26"
             ],
             [
              1,
              "#f0f921"
             ]
            ],
            "type": "surface"
           }
          ],
          "table": [
           {
            "cells": {
             "fill": {
              "color": "#EBF0F8"
             },
             "line": {
              "color": "white"
             }
            },
            "header": {
             "fill": {
              "color": "#C8D4E3"
             },
             "line": {
              "color": "white"
             }
            },
            "type": "table"
           }
          ]
         },
         "layout": {
          "annotationdefaults": {
           "arrowcolor": "#2a3f5f",
           "arrowhead": 0,
           "arrowwidth": 1
          },
          "coloraxis": {
           "colorbar": {
            "outlinewidth": 0,
            "ticks": ""
           }
          },
          "colorscale": {
           "diverging": [
            [
             0,
             "#8e0152"
            ],
            [
             0.1,
             "#c51b7d"
            ],
            [
             0.2,
             "#de77ae"
            ],
            [
             0.3,
             "#f1b6da"
            ],
            [
             0.4,
             "#fde0ef"
            ],
            [
             0.5,
             "#f7f7f7"
            ],
            [
             0.6,
             "#e6f5d0"
            ],
            [
             0.7,
             "#b8e186"
            ],
            [
             0.8,
             "#7fbc41"
            ],
            [
             0.9,
             "#4d9221"
            ],
            [
             1,
             "#276419"
            ]
           ],
           "sequential": [
            [
             0,
             "#0d0887"
            ],
            [
             0.1111111111111111,
             "#46039f"
            ],
            [
             0.2222222222222222,
             "#7201a8"
            ],
            [
             0.3333333333333333,
             "#9c179e"
            ],
            [
             0.4444444444444444,
             "#bd3786"
            ],
            [
             0.5555555555555556,
             "#d8576b"
            ],
            [
             0.6666666666666666,
             "#ed7953"
            ],
            [
             0.7777777777777778,
             "#fb9f3a"
            ],
            [
             0.8888888888888888,
             "#fdca26"
            ],
            [
             1,
             "#f0f921"
            ]
           ],
           "sequentialminus": [
            [
             0,
             "#0d0887"
            ],
            [
             0.1111111111111111,
             "#46039f"
            ],
            [
             0.2222222222222222,
             "#7201a8"
            ],
            [
             0.3333333333333333,
             "#9c179e"
            ],
            [
             0.4444444444444444,
             "#bd3786"
            ],
            [
             0.5555555555555556,
             "#d8576b"
            ],
            [
             0.6666666666666666,
             "#ed7953"
            ],
            [
             0.7777777777777778,
             "#fb9f3a"
            ],
            [
             0.8888888888888888,
             "#fdca26"
            ],
            [
             1,
             "#f0f921"
            ]
           ]
          },
          "colorway": [
           "#636efa",
           "#EF553B",
           "#00cc96",
           "#ab63fa",
           "#FFA15A",
           "#19d3f3",
           "#FF6692",
           "#B6E880",
           "#FF97FF",
           "#FECB52"
          ],
          "font": {
           "color": "#2a3f5f"
          },
          "geo": {
           "bgcolor": "white",
           "lakecolor": "white",
           "landcolor": "#E5ECF6",
           "showlakes": true,
           "showland": true,
           "subunitcolor": "white"
          },
          "hoverlabel": {
           "align": "left"
          },
          "hovermode": "closest",
          "mapbox": {
           "style": "light"
          },
          "paper_bgcolor": "white",
          "plot_bgcolor": "#E5ECF6",
          "polar": {
           "angularaxis": {
            "gridcolor": "white",
            "linecolor": "white",
            "ticks": ""
           },
           "bgcolor": "#E5ECF6",
           "radialaxis": {
            "gridcolor": "white",
            "linecolor": "white",
            "ticks": ""
           }
          },
          "scene": {
           "xaxis": {
            "backgroundcolor": "#E5ECF6",
            "gridcolor": "white",
            "gridwidth": 2,
            "linecolor": "white",
            "showbackground": true,
            "ticks": "",
            "zerolinecolor": "white"
           },
           "yaxis": {
            "backgroundcolor": "#E5ECF6",
            "gridcolor": "white",
            "gridwidth": 2,
            "linecolor": "white",
            "showbackground": true,
            "ticks": "",
            "zerolinecolor": "white"
           },
           "zaxis": {
            "backgroundcolor": "#E5ECF6",
            "gridcolor": "white",
            "gridwidth": 2,
            "linecolor": "white",
            "showbackground": true,
            "ticks": "",
            "zerolinecolor": "white"
           }
          },
          "shapedefaults": {
           "line": {
            "color": "#2a3f5f"
           }
          },
          "ternary": {
           "aaxis": {
            "gridcolor": "white",
            "linecolor": "white",
            "ticks": ""
           },
           "baxis": {
            "gridcolor": "white",
            "linecolor": "white",
            "ticks": ""
           },
           "bgcolor": "#E5ECF6",
           "caxis": {
            "gridcolor": "white",
            "linecolor": "white",
            "ticks": ""
           }
          },
          "title": {
           "x": 0.05
          },
          "xaxis": {
           "automargin": true,
           "gridcolor": "white",
           "linecolor": "white",
           "ticks": "",
           "title": {
            "standoff": 15
           },
           "zerolinecolor": "white",
           "zerolinewidth": 2
          },
          "yaxis": {
           "automargin": true,
           "gridcolor": "white",
           "linecolor": "white",
           "ticks": "",
           "title": {
            "standoff": 15
           },
           "zerolinecolor": "white",
           "zerolinewidth": 2
          }
         }
        },
        "title": {
         "text": "absolute error vs x"
        },
        "width": 600,
        "xaxis": {
         "range": [
          -1,
          1
         ],
         "title": {
          "text": "x"
         }
        },
        "yaxis": {
         "range": [
          -6,
          -1
         ],
         "type": "log"
        }
       }
      },
      "text/html": [
       "<div>\n",
       "        \n",
       "        \n",
       "            <div id=\"87663233-cc7c-496a-8dd1-624903050967\" class=\"plotly-graph-div\" style=\"height:525px; width:600px;\"></div>\n",
       "            <script type=\"text/javascript\">\n",
       "                require([\"plotly\"], function(Plotly) {\n",
       "                    window.PLOTLYENV=window.PLOTLYENV || {};\n",
       "                    \n",
       "                if (document.getElementById(\"87663233-cc7c-496a-8dd1-624903050967\")) {\n",
       "                    Plotly.newPlot(\n",
       "                        '87663233-cc7c-496a-8dd1-624903050967',\n",
       "                        [{\"type\": \"scatter\", \"x\": [-1.0, -0.984375, -0.96875, -0.953125, -0.9375, -0.921875, -0.90625, -0.890625, -0.875, -0.859375, -0.84375, -0.828125, -0.8125, -0.796875, -0.78125, -0.765625, -0.75, -0.734375, -0.71875, -0.703125, -0.6875, -0.671875, -0.65625, -0.640625, -0.625, -0.609375, -0.59375, -0.578125, -0.5625, -0.546875, -0.53125, -0.515625, -0.5, -0.484375, -0.46875, -0.453125, -0.4375, -0.421875, -0.40625, -0.390625, -0.375, -0.359375, -0.34375, -0.328125, -0.3125, -0.296875, -0.28125, -0.265625, -0.25, -0.234375, -0.21875, -0.203125, -0.1875, -0.171875, -0.15625, -0.140625, -0.125, -0.109375, -0.09375, -0.078125, -0.0625, -0.046875, -0.03125, -0.015625, 0.0, 0.015625, 0.03125, 0.046875, 0.0625, 0.078125, 0.09375, 0.109375, 0.125, 0.140625, 0.15625, 0.171875, 0.1875, 0.203125, 0.21875, 0.234375, 0.25, 0.265625, 0.28125, 0.296875, 0.3125, 0.328125, 0.34375, 0.359375, 0.375, 0.390625, 0.40625, 0.421875, 0.4375, 0.453125, 0.46875, 0.484375, 0.5, 0.515625, 0.53125, 0.546875, 0.5625, 0.578125, 0.59375, 0.609375, 0.625, 0.640625, 0.65625, 0.671875, 0.6875, 0.703125, 0.71875, 0.734375, 0.75, 0.765625, 0.78125, 0.796875, 0.8125, 0.828125, 0.84375, 0.859375, 0.875, 0.890625, 0.90625, 0.921875, 0.9375, 0.953125, 0.96875, 0.984375, 1.0], \"y\": [0.006764829158782959, 0.005461581168674345, 0.004216674773458884, 0.003033018751157801, 0.0019109882336891815, 0.0008522549955577441, 0.00014168644079259884, 0.0010704556478782212, 0.0019326231120961879, 0.002728136063559594, 0.0034557966184969313, 0.004115805869340683, 0.004708373686846512, 0.0052331030787113875, 0.005690758520361161, 0.006082530780922579, 0.006408765316009535, 0.006671207476758867, 0.006871254499389967, 0.0070106517429192605, 0.0070921299628300405, 0.007118016867400989, 0.0070909954988915835, 0.007014327464434644, 0.006891064429551008, 0.006724989953277971, 0.006520013688703696, 0.006280223612161517, 0.006009821721991049, 0.005712645492076951, 0.005394076810751103, 0.0050580073460548824, 0.004709291458129927, 0.004352627051355196, 0.003992036975222213, 0.0036322029346345097, 0.003277420215919369, 0.0029315112909504837, 0.0025985196470115213, 0.0022817401657718728, 0.0019841259472990203, 0.0017088794837126775, 0.001458082344854783, 0.0012335951616776475, 0.00103706863851305, 0.0008696017309184345, 0.0007314042268296017, 0.000622834161586594, 0.0005437696681303006, 0.0004932219660467307, 0.00047002323075973074, 0.0004727408027872526, 0.0004994725281337598, 0.000548058758139347, 0.0006162928216677521, 0.0007014733368853054, 0.0008010259041419943, 0.0009119878200627429, 0.0010321562657167327, 0.0011581902768941221, 0.0012879970008761177, 0.0014187587745007058, 0.001548170112982028, 0.0016744732711266863, 0.0017952919006347656, 0.001909553990120827, 0.0020159473651792936, 0.0021129740721996804, 0.0022003056938082466, 0.002277684715065509, 0.002344292915802182, 0.002401090660486327, 0.002447544611417385, 0.0024849039132097683, 0.002513568269513211, 0.002534443149924015, 0.0025483821922878125, 0.0025562807655558073, 0.0025595236580058245, 0.002558820930737893, 0.0025553072200101834, 0.0025499715364645237, 0.00254386226515968, 0.0025371012731547626, 0.002530761036584339, 0.0025254066278946885, 0.0025212503937134256, 0.002518250955117707, 0.002516753053011911, 0.0025163440476078103, 0.0025170400976035623, 0.0025185703119465774, 0.00252002399475848, 0.0025210531467316777, 0.0025208751328760215, 0.0025186517362612015, 0.0025139331817627397, 0.0025052596196144528, 0.002492343889150761, 0.0024739079089165505, 0.00244933826633309, 0.0024179022353609803, 0.0023783253418409034, 0.002330279889343645, 0.0022728965523537425, 0.002205782351824781, 0.0021281935656030093, 0.0020398203418272587, 0.0019400236777348256, 0.0018288027400811258, 0.0017058563785098402, 0.0015710168372630173, 0.0014242672920227184, 0.001265581413399386, 0.0010952404081785438, 0.0009133756579045027, 0.0007201673002803499, 0.0005160429527757415, 0.0003012207937593825, 7.626581285768985e-05, 0.00015854624520361682, 0.0004025539384560073, 0.0006552872644991492, 0.000916329988691289, 0.0011848248463905975, 0.0014603501987591194, 0.0017423071548980928, 0.0020299033503760056, 0.0023227334022521973]}],\n",
       "                        {\"template\": {\"data\": {\"bar\": [{\"error_x\": {\"color\": \"#2a3f5f\"}, \"error_y\": {\"color\": \"#2a3f5f\"}, \"marker\": {\"line\": {\"color\": \"#E5ECF6\", \"width\": 0.5}}, \"type\": \"bar\"}], \"barpolar\": [{\"marker\": {\"line\": {\"color\": \"#E5ECF6\", \"width\": 0.5}}, \"type\": \"barpolar\"}], \"carpet\": [{\"aaxis\": {\"endlinecolor\": \"#2a3f5f\", \"gridcolor\": \"white\", \"linecolor\": \"white\", \"minorgridcolor\": \"white\", \"startlinecolor\": \"#2a3f5f\"}, \"baxis\": {\"endlinecolor\": \"#2a3f5f\", \"gridcolor\": \"white\", \"linecolor\": \"white\", \"minorgridcolor\": \"white\", \"startlinecolor\": \"#2a3f5f\"}, \"type\": \"carpet\"}], \"choropleth\": [{\"colorbar\": {\"outlinewidth\": 0, \"ticks\": \"\"}, \"type\": \"choropleth\"}], \"contour\": [{\"colorbar\": {\"outlinewidth\": 0, \"ticks\": \"\"}, \"colorscale\": [[0.0, \"#0d0887\"], [0.1111111111111111, \"#46039f\"], [0.2222222222222222, \"#7201a8\"], [0.3333333333333333, \"#9c179e\"], [0.4444444444444444, \"#bd3786\"], [0.5555555555555556, \"#d8576b\"], [0.6666666666666666, \"#ed7953\"], [0.7777777777777778, \"#fb9f3a\"], [0.8888888888888888, \"#fdca26\"], [1.0, \"#f0f921\"]], \"type\": \"contour\"}], \"contourcarpet\": [{\"colorbar\": {\"outlinewidth\": 0, \"ticks\": \"\"}, \"type\": \"contourcarpet\"}], \"heatmap\": [{\"colorbar\": {\"outlinewidth\": 0, \"ticks\": \"\"}, \"colorscale\": [[0.0, \"#0d0887\"], [0.1111111111111111, \"#46039f\"], [0.2222222222222222, \"#7201a8\"], [0.3333333333333333, \"#9c179e\"], [0.4444444444444444, \"#bd3786\"], [0.5555555555555556, \"#d8576b\"], [0.6666666666666666, \"#ed7953\"], [0.7777777777777778, \"#fb9f3a\"], [0.8888888888888888, \"#fdca26\"], [1.0, \"#f0f921\"]], \"type\": \"heatmap\"}], \"heatmapgl\": [{\"colorbar\": {\"outlinewidth\": 0, \"ticks\": \"\"}, \"colorscale\": [[0.0, \"#0d0887\"], [0.1111111111111111, \"#46039f\"], [0.2222222222222222, \"#7201a8\"], [0.3333333333333333, \"#9c179e\"], [0.4444444444444444, \"#bd3786\"], [0.5555555555555556, \"#d8576b\"], [0.6666666666666666, \"#ed7953\"], [0.7777777777777778, \"#fb9f3a\"], [0.8888888888888888, \"#fdca26\"], [1.0, \"#f0f921\"]], \"type\": \"heatmapgl\"}], \"histogram\": [{\"marker\": {\"colorbar\": {\"outlinewidth\": 0, \"ticks\": \"\"}}, \"type\": \"histogram\"}], \"histogram2d\": [{\"colorbar\": {\"outlinewidth\": 0, \"ticks\": \"\"}, \"colorscale\": [[0.0, \"#0d0887\"], [0.1111111111111111, \"#46039f\"], [0.2222222222222222, \"#7201a8\"], [0.3333333333333333, \"#9c179e\"], [0.4444444444444444, \"#bd3786\"], [0.5555555555555556, \"#d8576b\"], [0.6666666666666666, \"#ed7953\"], [0.7777777777777778, \"#fb9f3a\"], [0.8888888888888888, \"#fdca26\"], [1.0, \"#f0f921\"]], \"type\": \"histogram2d\"}], \"histogram2dcontour\": [{\"colorbar\": {\"outlinewidth\": 0, \"ticks\": \"\"}, \"colorscale\": [[0.0, \"#0d0887\"], [0.1111111111111111, \"#46039f\"], [0.2222222222222222, \"#7201a8\"], [0.3333333333333333, \"#9c179e\"], [0.4444444444444444, \"#bd3786\"], [0.5555555555555556, \"#d8576b\"], [0.6666666666666666, \"#ed7953\"], [0.7777777777777778, \"#fb9f3a\"], [0.8888888888888888, \"#fdca26\"], [1.0, \"#f0f921\"]], \"type\": \"histogram2dcontour\"}], \"mesh3d\": [{\"colorbar\": {\"outlinewidth\": 0, \"ticks\": \"\"}, \"type\": \"mesh3d\"}], \"parcoords\": [{\"line\": {\"colorbar\": {\"outlinewidth\": 0, \"ticks\": \"\"}}, \"type\": \"parcoords\"}], \"pie\": [{\"automargin\": true, \"type\": \"pie\"}], \"scatter\": [{\"marker\": {\"colorbar\": {\"outlinewidth\": 0, \"ticks\": \"\"}}, \"type\": \"scatter\"}], \"scatter3d\": [{\"line\": {\"colorbar\": {\"outlinewidth\": 0, \"ticks\": \"\"}}, \"marker\": {\"colorbar\": {\"outlinewidth\": 0, \"ticks\": \"\"}}, \"type\": \"scatter3d\"}], \"scattercarpet\": [{\"marker\": {\"colorbar\": {\"outlinewidth\": 0, \"ticks\": \"\"}}, \"type\": \"scattercarpet\"}], \"scattergeo\": [{\"marker\": {\"colorbar\": {\"outlinewidth\": 0, \"ticks\": \"\"}}, \"type\": \"scattergeo\"}], \"scattergl\": [{\"marker\": {\"colorbar\": {\"outlinewidth\": 0, \"ticks\": \"\"}}, \"type\": \"scattergl\"}], \"scattermapbox\": [{\"marker\": {\"colorbar\": {\"outlinewidth\": 0, \"ticks\": \"\"}}, \"type\": \"scattermapbox\"}], \"scatterpolar\": [{\"marker\": {\"colorbar\": {\"outlinewidth\": 0, \"ticks\": \"\"}}, \"type\": \"scatterpolar\"}], \"scatterpolargl\": [{\"marker\": {\"colorbar\": {\"outlinewidth\": 0, \"ticks\": \"\"}}, \"type\": \"scatterpolargl\"}], \"scatterternary\": [{\"marker\": {\"colorbar\": {\"outlinewidth\": 0, \"ticks\": \"\"}}, \"type\": \"scatterternary\"}], \"surface\": [{\"colorbar\": {\"outlinewidth\": 0, \"ticks\": \"\"}, \"colorscale\": [[0.0, \"#0d0887\"], [0.1111111111111111, \"#46039f\"], [0.2222222222222222, \"#7201a8\"], [0.3333333333333333, \"#9c179e\"], [0.4444444444444444, \"#bd3786\"], [0.5555555555555556, \"#d8576b\"], [0.6666666666666666, \"#ed7953\"], [0.7777777777777778, \"#fb9f3a\"], [0.8888888888888888, \"#fdca26\"], [1.0, \"#f0f921\"]], \"type\": \"surface\"}], \"table\": [{\"cells\": {\"fill\": {\"color\": \"#EBF0F8\"}, \"line\": {\"color\": \"white\"}}, \"header\": {\"fill\": {\"color\": \"#C8D4E3\"}, \"line\": {\"color\": \"white\"}}, \"type\": \"table\"}]}, \"layout\": {\"annotationdefaults\": {\"arrowcolor\": \"#2a3f5f\", \"arrowhead\": 0, \"arrowwidth\": 1}, \"coloraxis\": {\"colorbar\": {\"outlinewidth\": 0, \"ticks\": \"\"}}, \"colorscale\": {\"diverging\": [[0, \"#8e0152\"], [0.1, \"#c51b7d\"], [0.2, \"#de77ae\"], [0.3, \"#f1b6da\"], [0.4, \"#fde0ef\"], [0.5, \"#f7f7f7\"], [0.6, \"#e6f5d0\"], [0.7, \"#b8e186\"], [0.8, \"#7fbc41\"], [0.9, \"#4d9221\"], [1, \"#276419\"]], \"sequential\": [[0.0, \"#0d0887\"], [0.1111111111111111, \"#46039f\"], [0.2222222222222222, \"#7201a8\"], [0.3333333333333333, \"#9c179e\"], [0.4444444444444444, \"#bd3786\"], [0.5555555555555556, \"#d8576b\"], [0.6666666666666666, \"#ed7953\"], [0.7777777777777778, \"#fb9f3a\"], [0.8888888888888888, \"#fdca26\"], [1.0, \"#f0f921\"]], \"sequentialminus\": [[0.0, \"#0d0887\"], [0.1111111111111111, \"#46039f\"], [0.2222222222222222, \"#7201a8\"], [0.3333333333333333, \"#9c179e\"], [0.4444444444444444, \"#bd3786\"], [0.5555555555555556, \"#d8576b\"], [0.6666666666666666, \"#ed7953\"], [0.7777777777777778, \"#fb9f3a\"], [0.8888888888888888, \"#fdca26\"], [1.0, \"#f0f921\"]]}, \"colorway\": [\"#636efa\", \"#EF553B\", \"#00cc96\", \"#ab63fa\", \"#FFA15A\", \"#19d3f3\", \"#FF6692\", \"#B6E880\", \"#FF97FF\", \"#FECB52\"], \"font\": {\"color\": \"#2a3f5f\"}, \"geo\": {\"bgcolor\": \"white\", \"lakecolor\": \"white\", \"landcolor\": \"#E5ECF6\", \"showlakes\": true, \"showland\": true, \"subunitcolor\": \"white\"}, \"hoverlabel\": {\"align\": \"left\"}, \"hovermode\": \"closest\", \"mapbox\": {\"style\": \"light\"}, \"paper_bgcolor\": \"white\", \"plot_bgcolor\": \"#E5ECF6\", \"polar\": {\"angularaxis\": {\"gridcolor\": \"white\", \"linecolor\": \"white\", \"ticks\": \"\"}, \"bgcolor\": \"#E5ECF6\", \"radialaxis\": {\"gridcolor\": \"white\", \"linecolor\": \"white\", \"ticks\": \"\"}}, \"scene\": {\"xaxis\": {\"backgroundcolor\": \"#E5ECF6\", \"gridcolor\": \"white\", \"gridwidth\": 2, \"linecolor\": \"white\", \"showbackground\": true, \"ticks\": \"\", \"zerolinecolor\": \"white\"}, \"yaxis\": {\"backgroundcolor\": \"#E5ECF6\", \"gridcolor\": \"white\", \"gridwidth\": 2, \"linecolor\": \"white\", \"showbackground\": true, \"ticks\": \"\", \"zerolinecolor\": \"white\"}, \"zaxis\": {\"backgroundcolor\": \"#E5ECF6\", \"gridcolor\": \"white\", \"gridwidth\": 2, \"linecolor\": \"white\", \"showbackground\": true, \"ticks\": \"\", \"zerolinecolor\": \"white\"}}, \"shapedefaults\": {\"line\": {\"color\": \"#2a3f5f\"}}, \"ternary\": {\"aaxis\": {\"gridcolor\": \"white\", \"linecolor\": \"white\", \"ticks\": \"\"}, \"baxis\": {\"gridcolor\": \"white\", \"linecolor\": \"white\", \"ticks\": \"\"}, \"bgcolor\": \"#E5ECF6\", \"caxis\": {\"gridcolor\": \"white\", \"linecolor\": \"white\", \"ticks\": \"\"}}, \"title\": {\"x\": 0.05}, \"xaxis\": {\"automargin\": true, \"gridcolor\": \"white\", \"linecolor\": \"white\", \"ticks\": \"\", \"title\": {\"standoff\": 15}, \"zerolinecolor\": \"white\", \"zerolinewidth\": 2}, \"yaxis\": {\"automargin\": true, \"gridcolor\": \"white\", \"linecolor\": \"white\", \"ticks\": \"\", \"title\": {\"standoff\": 15}, \"zerolinecolor\": \"white\", \"zerolinewidth\": 2}}}, \"title\": {\"text\": \"absolute error vs x\"}, \"width\": 600, \"xaxis\": {\"range\": [-1, 1], \"title\": {\"text\": \"x\"}}, \"yaxis\": {\"range\": [-6, -1], \"type\": \"log\"}},\n",
       "                        {\"responsive\": true}\n",
       "                    ).then(function(){\n",
       "                            \n",
       "var gd = document.getElementById('87663233-cc7c-496a-8dd1-624903050967');\n",
       "var x = new MutationObserver(function (mutations, observer) {{\n",
       "        var display = window.getComputedStyle(gd).display;\n",
       "        if (!display || display === 'none') {{\n",
       "            console.log([gd, 'removed!']);\n",
       "            Plotly.purge(gd);\n",
       "            observer.disconnect();\n",
       "        }}\n",
       "}});\n",
       "\n",
       "// Listen for the removal of the full notebook cells\n",
       "var notebookContainer = gd.closest('#notebook-container');\n",
       "if (notebookContainer) {{\n",
       "    x.observe(notebookContainer, {childList: true});\n",
       "}}\n",
       "\n",
       "// Listen for the clearing of the current output cell\n",
       "var outputEl = gd.closest('.output');\n",
       "if (outputEl) {{\n",
       "    x.observe(outputEl, {childList: true});\n",
       "}}\n",
       "\n",
       "                        })\n",
       "                };\n",
       "                });\n",
       "            </script>\n",
       "        </div>"
      ]
     },
     "metadata": {},
     "output_type": "display_data"
    }
   ],
   "source": [
    "def plot_error(fig, model, X_test, y_test):\n",
    "    y_pred = np.array( model.predict(X_test) ).flatten()\n",
    "    fig.add_trace(go.Scatter(x = X_test, y = abs(y_test-y_pred)))\n",
    "    fig.update_layout(width=600, yaxis_type='log', title='absolute error vs x',\n",
    "                     xaxis_range=[-1,1], yaxis_range=[-6,-1], xaxis_title='x')\n",
    "\n",
    "fig = go.Figure()\n",
    "plot_error(fig, model, X_test, y_test)\n",
    "fig.show()"
   ]
  },
  {
   "cell_type": "code",
   "execution_count": 197,
   "metadata": {},
   "outputs": [],
   "source": [
    "save_to_html(fig, '../Slides/TF_Keras', 'fig4.html')"
   ]
  },
  {
   "cell_type": "code",
   "execution_count": 198,
   "metadata": {},
   "outputs": [],
   "source": [
    "from tensorflow.keras import layers, Model"
   ]
  },
  {
   "cell_type": "code",
   "execution_count": 199,
   "metadata": {},
   "outputs": [
    {
     "name": "stdout",
     "output_type": "stream",
     "text": [
      "Model: \"model_5\"\n",
      "__________________________________________________________________________________________________\n",
      "Layer (type)                    Output Shape         Param #     Connected to                     \n",
      "==================================================================================================\n",
      "input_13 (InputLayer)           [(None, 1)]          0                                            \n",
      "__________________________________________________________________________________________________\n",
      "dense_56 (Dense)                (None, 4)            8           input_13[0][0]                   \n",
      "__________________________________________________________________________________________________\n",
      "dense_57 (Dense)                (None, 4)            20          dense_56[0][0]                   \n",
      "__________________________________________________________________________________________________\n",
      "dense_58 (Dense)                (None, 4)            20          dense_57[0][0]                   \n",
      "__________________________________________________________________________________________________\n",
      "concatenate_5 (Concatenate)     (None, 12)           0           dense_56[0][0]                   \n",
      "                                                                 dense_57[0][0]                   \n",
      "                                                                 dense_58[0][0]                   \n",
      "__________________________________________________________________________________________________\n",
      "dense_59 (Dense)                (None, 1)            13          concatenate_5[0][0]              \n",
      "==================================================================================================\n",
      "Total params: 61\n",
      "Trainable params: 61\n",
      "Non-trainable params: 0\n",
      "__________________________________________________________________________________________________\n"
     ]
    }
   ],
   "source": [
    "tf.random.set_seed(2020)\n",
    "input_ = layers.Input(shape=1)\n",
    "hidden1 = layers.Dense(4, activation=\"tanh\")(input_)\n",
    "hidden2 = layers.Dense(4, activation=\"tanh\")(hidden1)\n",
    "hidden3 = layers.Dense(4, activation=\"tanh\")(hidden2)\n",
    "concat = layers.Concatenate()([hidden1, hidden2, hidden3])\n",
    "output = layers.Dense(1, activation=\"linear\")(concat)\n",
    "model = Model(inputs=[input_], outputs=[output])\n",
    "\n",
    "model.summary()"
   ]
  },
  {
   "cell_type": "code",
   "execution_count": 200,
   "metadata": {},
   "outputs": [
    {
     "name": "stdout",
     "output_type": "stream",
     "text": [
      "Train on 1025 samples, validate on 257 samples\n",
      "Epoch 1/100\n",
      "1025/1025 [==============================] - 1s 1ms/sample - loss: 0.0995 - mse: 0.0995 - mae: 0.1852 - val_loss: 0.0270 - val_mse: 0.0270 - val_mae: 0.1296\n",
      "Epoch 2/100\n",
      "1025/1025 [==============================] - 0s 292us/sample - loss: 0.0128 - mse: 0.0128 - mae: 0.0995 - val_loss: 0.0116 - val_mse: 0.0116 - val_mae: 0.0931\n",
      "Epoch 3/100\n",
      "1025/1025 [==============================] - 0s 164us/sample - loss: 0.0093 - mse: 0.0093 - mae: 0.0851 - val_loss: 0.0145 - val_mse: 0.0145 - val_mae: 0.1056\n",
      "Epoch 4/100\n",
      "1025/1025 [==============================] - 0s 164us/sample - loss: 0.0064 - mse: 0.0064 - mae: 0.0702 - val_loss: 0.0062 - val_mse: 0.0062 - val_mae: 0.0675\n",
      "Epoch 5/100\n",
      "1025/1025 [==============================] - 0s 144us/sample - loss: 0.0038 - mse: 0.0038 - mae: 0.0540 - val_loss: 0.0032 - val_mse: 0.0032 - val_mae: 0.0485\n",
      "Epoch 6/100\n",
      "1025/1025 [==============================] - 0s 166us/sample - loss: 0.0021 - mse: 0.0021 - mae: 0.0403 - val_loss: 0.0029 - val_mse: 0.0029 - val_mae: 0.0439\n",
      "Epoch 7/100\n",
      "1025/1025 [==============================] - 0s 155us/sample - loss: 0.0011 - mse: 0.0011 - mae: 0.0292 - val_loss: 8.7243e-04 - val_mse: 8.7243e-04 - val_mae: 0.0253\n",
      "Epoch 8/100\n",
      "1025/1025 [==============================] - 0s 233us/sample - loss: 5.3556e-04 - mse: 5.3556e-04 - mae: 0.0206 - val_loss: 6.8811e-04 - val_mse: 6.8811e-04 - val_mae: 0.0238\n",
      "Epoch 9/100\n",
      "1025/1025 [==============================] - 0s 175us/sample - loss: 2.6555e-04 - mse: 2.6555e-04 - mae: 0.0144 - val_loss: 3.3835e-04 - val_mse: 3.3835e-04 - val_mae: 0.0165\n",
      "Epoch 10/100\n",
      "1025/1025 [==============================] - 0s 205us/sample - loss: 1.3126e-04 - mse: 1.3126e-04 - mae: 0.0101 - val_loss: 1.2761e-04 - val_mse: 1.2761e-04 - val_mae: 0.0097\n",
      "Epoch 11/100\n",
      "1025/1025 [==============================] - 0s 157us/sample - loss: 6.7462e-05 - mse: 6.7462e-05 - mae: 0.0071 - val_loss: 1.0973e-04 - val_mse: 1.0973e-04 - val_mae: 0.0091\n",
      "Epoch 12/100\n",
      "1025/1025 [==============================] - 0s 158us/sample - loss: 4.1219e-05 - mse: 4.1219e-05 - mae: 0.0054 - val_loss: 3.8151e-05 - val_mse: 3.8151e-05 - val_mae: 0.0048\n",
      "Epoch 13/100\n",
      "1025/1025 [==============================] - 0s 171us/sample - loss: 2.7697e-05 - mse: 2.7697e-05 - mae: 0.0044 - val_loss: 2.9193e-05 - val_mse: 2.9193e-05 - val_mae: 0.0046\n",
      "Epoch 14/100\n",
      "1025/1025 [==============================] - 0s 168us/sample - loss: 2.3351e-05 - mse: 2.3351e-05 - mae: 0.0041 - val_loss: 5.2841e-05 - val_mse: 5.2841e-05 - val_mae: 0.0063\n",
      "Epoch 15/100\n",
      "1025/1025 [==============================] - 0s 175us/sample - loss: 2.1713e-05 - mse: 2.1713e-05 - mae: 0.0040 - val_loss: 2.0598e-05 - val_mse: 2.0598e-05 - val_mae: 0.0040\n",
      "Epoch 16/100\n",
      "1025/1025 [==============================] - 0s 181us/sample - loss: 1.9023e-05 - mse: 1.9023e-05 - mae: 0.0038 - val_loss: 2.8017e-05 - val_mse: 2.8017e-05 - val_mae: 0.0046\n",
      "Epoch 17/100\n",
      "1025/1025 [==============================] - 0s 153us/sample - loss: 1.8396e-05 - mse: 1.8396e-05 - mae: 0.0037 - val_loss: 1.8189e-05 - val_mse: 1.8189e-05 - val_mae: 0.0038\n",
      "Epoch 18/100\n",
      "1025/1025 [==============================] - 0s 200us/sample - loss: 1.7858e-05 - mse: 1.7858e-05 - mae: 0.0037 - val_loss: 3.3244e-05 - val_mse: 3.3244e-05 - val_mae: 0.0049\n",
      "Epoch 19/100\n",
      "1025/1025 [==============================] - 0s 166us/sample - loss: 1.7710e-05 - mse: 1.7710e-05 - mae: 0.0037 - val_loss: 1.8143e-05 - val_mse: 1.8143e-05 - val_mae: 0.0037\n",
      "Epoch 20/100\n",
      "1025/1025 [==============================] - 0s 174us/sample - loss: 1.7110e-05 - mse: 1.7110e-05 - mae: 0.0036 - val_loss: 2.3673e-05 - val_mse: 2.3673e-05 - val_mae: 0.0041\n",
      "Epoch 21/100\n",
      "1025/1025 [==============================] - 0s 167us/sample - loss: 1.6709e-05 - mse: 1.6709e-05 - mae: 0.0035 - val_loss: 3.0746e-05 - val_mse: 3.0746e-05 - val_mae: 0.0046\n",
      "Epoch 22/100\n",
      "1025/1025 [==============================] - 0s 146us/sample - loss: 1.6741e-05 - mse: 1.6741e-05 - mae: 0.0036 - val_loss: 2.5306e-05 - val_mse: 2.5306e-05 - val_mae: 0.0041\n",
      "Epoch 23/100\n",
      "1025/1025 [==============================] - 0s 175us/sample - loss: 1.6330e-05 - mse: 1.6330e-05 - mae: 0.0035 - val_loss: 1.5717e-05 - val_mse: 1.5717e-05 - val_mae: 0.0034\n",
      "Epoch 24/100\n",
      "1025/1025 [==============================] - 0s 163us/sample - loss: 1.5925e-05 - mse: 1.5925e-05 - mae: 0.0035 - val_loss: 3.4256e-05 - val_mse: 3.4256e-05 - val_mae: 0.0047\n",
      "Epoch 25/100\n",
      "1025/1025 [==============================] - 0s 160us/sample - loss: 1.5892e-05 - mse: 1.5892e-05 - mae: 0.0035 - val_loss: 3.2706e-05 - val_mse: 3.2706e-05 - val_mae: 0.0047\n",
      "Epoch 26/100\n",
      "1025/1025 [==============================] - 0s 175us/sample - loss: 1.5939e-05 - mse: 1.5939e-05 - mae: 0.0034 - val_loss: 7.7148e-05 - val_mse: 7.7148e-05 - val_mae: 0.0072\n",
      "Epoch 27/100\n",
      "1025/1025 [==============================] - 0s 130us/sample - loss: 1.7343e-05 - mse: 1.7343e-05 - mae: 0.0035 - val_loss: 3.0842e-05 - val_mse: 3.0842e-05 - val_mae: 0.0049\n",
      "Epoch 28/100\n",
      "1025/1025 [==============================] - 0s 153us/sample - loss: 1.5041e-05 - mse: 1.5041e-05 - mae: 0.0033 - val_loss: 1.5494e-05 - val_mse: 1.5494e-05 - val_mae: 0.0033\n",
      "Epoch 29/100\n",
      "1025/1025 [==============================] - 0s 178us/sample - loss: 1.4343e-05 - mse: 1.4343e-05 - mae: 0.0032 - val_loss: 1.9381e-05 - val_mse: 1.9381e-05 - val_mae: 0.0034\n",
      "Epoch 30/100\n",
      "1025/1025 [==============================] - 0s 184us/sample - loss: 1.4012e-05 - mse: 1.4012e-05 - mae: 0.0032 - val_loss: 2.2799e-05 - val_mse: 2.2799e-05 - val_mae: 0.0041\n",
      "Epoch 31/100\n",
      "1025/1025 [==============================] - 0s 140us/sample - loss: 1.4047e-05 - mse: 1.4047e-05 - mae: 0.0032 - val_loss: 2.6843e-05 - val_mse: 2.6843e-05 - val_mae: 0.0038\n",
      "Epoch 32/100\n",
      "1025/1025 [==============================] - 0s 167us/sample - loss: 1.4186e-05 - mse: 1.4186e-05 - mae: 0.0032 - val_loss: 9.3763e-05 - val_mse: 9.3763e-05 - val_mae: 0.0079\n",
      "Epoch 33/100\n",
      "1025/1025 [==============================] - 0s 142us/sample - loss: 1.6268e-05 - mse: 1.6268e-05 - mae: 0.0033 - val_loss: 1.4770e-05 - val_mse: 1.4770e-05 - val_mae: 0.0033\n",
      "Epoch 34/100\n",
      "1025/1025 [==============================] - 0s 163us/sample - loss: 1.3340e-05 - mse: 1.3340e-05 - mae: 0.0031 - val_loss: 1.7918e-05 - val_mse: 1.7918e-05 - val_mae: 0.0036\n",
      "Epoch 35/100\n",
      "1025/1025 [==============================] - 0s 157us/sample - loss: 1.3218e-05 - mse: 1.3218e-05 - mae: 0.0031 - val_loss: 2.5098e-05 - val_mse: 2.5098e-05 - val_mae: 0.0044\n",
      "Epoch 36/100\n",
      "1025/1025 [==============================] - 0s 144us/sample - loss: 1.3234e-05 - mse: 1.3234e-05 - mae: 0.0031 - val_loss: 2.0023e-05 - val_mse: 2.0023e-05 - val_mae: 0.0037\n",
      "Epoch 37/100\n",
      "1025/1025 [==============================] - 0s 179us/sample - loss: 1.3096e-05 - mse: 1.3096e-05 - mae: 0.0031 - val_loss: 1.3997e-05 - val_mse: 1.3997e-05 - val_mae: 0.0031\n",
      "Epoch 38/100\n",
      "1025/1025 [==============================] - 0s 136us/sample - loss: 1.2425e-05 - mse: 1.2425e-05 - mae: 0.0030 - val_loss: 2.8048e-05 - val_mse: 2.8048e-05 - val_mae: 0.0043\n",
      "Epoch 39/100\n",
      "1025/1025 [==============================] - 0s 128us/sample - loss: 1.2615e-05 - mse: 1.2615e-05 - mae: 0.0030 - val_loss: 1.3834e-05 - val_mse: 1.3834e-05 - val_mae: 0.0032\n",
      "Epoch 40/100\n",
      "1025/1025 [==============================] - 0s 134us/sample - loss: 1.2075e-05 - mse: 1.2075e-05 - mae: 0.0029 - val_loss: 1.4688e-05 - val_mse: 1.4688e-05 - val_mae: 0.0032\n",
      "Epoch 41/100\n",
      "1025/1025 [==============================] - 0s 126us/sample - loss: 1.2283e-05 - mse: 1.2283e-05 - mae: 0.0030 - val_loss: 1.5352e-05 - val_mse: 1.5352e-05 - val_mae: 0.0033\n",
      "Epoch 42/100\n",
      "1025/1025 [==============================] - 0s 131us/sample - loss: 1.1817e-05 - mse: 1.1817e-05 - mae: 0.0029 - val_loss: 2.2621e-05 - val_mse: 2.2621e-05 - val_mae: 0.0040\n",
      "Epoch 43/100\n",
      "1025/1025 [==============================] - 0s 134us/sample - loss: 1.2269e-05 - mse: 1.2269e-05 - mae: 0.0029 - val_loss: 1.6274e-05 - val_mse: 1.6274e-05 - val_mae: 0.0033\n",
      "Epoch 44/100\n",
      "1025/1025 [==============================] - 0s 143us/sample - loss: 1.1750e-05 - mse: 1.1750e-05 - mae: 0.0029 - val_loss: 1.2314e-05 - val_mse: 1.2314e-05 - val_mae: 0.0028\n"
     ]
    },
    {
     "name": "stdout",
     "output_type": "stream",
     "text": [
      "Epoch 45/100\n",
      "1025/1025 [==============================] - 0s 140us/sample - loss: 1.1216e-05 - mse: 1.1216e-05 - mae: 0.0028 - val_loss: 1.1919e-05 - val_mse: 1.1919e-05 - val_mae: 0.0029\n",
      "Epoch 46/100\n",
      "1025/1025 [==============================] - 0s 151us/sample - loss: 1.1153e-05 - mse: 1.1153e-05 - mae: 0.0028 - val_loss: 1.4575e-05 - val_mse: 1.4575e-05 - val_mae: 0.0032\n",
      "Epoch 47/100\n",
      "1025/1025 [==============================] - 0s 140us/sample - loss: 1.1300e-05 - mse: 1.1300e-05 - mae: 0.0028 - val_loss: 2.2497e-05 - val_mse: 2.2497e-05 - val_mae: 0.0042\n",
      "Epoch 48/100\n",
      "1025/1025 [==============================] - 0s 130us/sample - loss: 1.1257e-05 - mse: 1.1257e-05 - mae: 0.0028 - val_loss: 1.1057e-05 - val_mse: 1.1057e-05 - val_mae: 0.0028\n",
      "Epoch 49/100\n",
      "1025/1025 [==============================] - 0s 130us/sample - loss: 1.0582e-05 - mse: 1.0582e-05 - mae: 0.0027 - val_loss: 1.2633e-05 - val_mse: 1.2633e-05 - val_mae: 0.0029\n",
      "Epoch 50/100\n",
      "1025/1025 [==============================] - 0s 130us/sample - loss: 1.0528e-05 - mse: 1.0528e-05 - mae: 0.0027 - val_loss: 1.0473e-05 - val_mse: 1.0473e-05 - val_mae: 0.0027\n",
      "Epoch 51/100\n",
      "1025/1025 [==============================] - 0s 130us/sample - loss: 1.0236e-05 - mse: 1.0236e-05 - mae: 0.0027 - val_loss: 1.7521e-05 - val_mse: 1.7521e-05 - val_mae: 0.0036\n",
      "Epoch 52/100\n",
      "1025/1025 [==============================] - 0s 130us/sample - loss: 1.0364e-05 - mse: 1.0364e-05 - mae: 0.0027 - val_loss: 1.5366e-05 - val_mse: 1.5366e-05 - val_mae: 0.0032\n",
      "Epoch 53/100\n",
      "1025/1025 [==============================] - 0s 130us/sample - loss: 1.0425e-05 - mse: 1.0425e-05 - mae: 0.0027 - val_loss: 3.5652e-05 - val_mse: 3.5652e-05 - val_mae: 0.0047\n",
      "Epoch 54/100\n",
      "1025/1025 [==============================] - 0s 129us/sample - loss: 1.1121e-05 - mse: 1.1121e-05 - mae: 0.0027 - val_loss: 1.3263e-05 - val_mse: 1.3263e-05 - val_mae: 0.0031\n",
      "Epoch 55/100\n",
      "1025/1025 [==============================] - 0s 125us/sample - loss: 9.9841e-06 - mse: 9.9841e-06 - mae: 0.0026 - val_loss: 2.1832e-05 - val_mse: 2.1832e-05 - val_mae: 0.0039\n",
      "Epoch 56/100\n",
      "1025/1025 [==============================] - 0s 119us/sample - loss: 1.0297e-05 - mse: 1.0297e-05 - mae: 0.0027 - val_loss: 6.7999e-05 - val_mse: 6.7999e-05 - val_mae: 0.0067\n",
      "Epoch 57/100\n",
      "1025/1025 [==============================] - 0s 122us/sample - loss: 1.1907e-05 - mse: 1.1907e-05 - mae: 0.0028 - val_loss: 1.1602e-05 - val_mse: 1.1602e-05 - val_mae: 0.0028\n",
      "Epoch 58/100\n",
      "1025/1025 [==============================] - 0s 132us/sample - loss: 9.6081e-06 - mse: 9.6081e-06 - mae: 0.0026 - val_loss: 2.4643e-05 - val_mse: 2.4643e-05 - val_mae: 0.0037\n",
      "Epoch 59/100\n",
      "1025/1025 [==============================] - 0s 121us/sample - loss: 1.0143e-05 - mse: 1.0143e-05 - mae: 0.0026 - val_loss: 1.6427e-05 - val_mse: 1.6427e-05 - val_mae: 0.0029\n",
      "Epoch 60/100\n",
      "1025/1025 [==============================] - 0s 121us/sample - loss: 9.3522e-06 - mse: 9.3522e-06 - mae: 0.0025 - val_loss: 1.3978e-05 - val_mse: 1.3978e-05 - val_mae: 0.0032\n",
      "Epoch 61/100\n",
      "1025/1025 [==============================] - 0s 125us/sample - loss: 9.2889e-06 - mse: 9.2889e-06 - mae: 0.0026 - val_loss: 1.0909e-05 - val_mse: 1.0909e-05 - val_mae: 0.0026\n",
      "Epoch 62/100\n",
      "1025/1025 [==============================] - 0s 140us/sample - loss: 9.0633e-06 - mse: 9.0633e-06 - mae: 0.0025 - val_loss: 5.3157e-05 - val_mse: 5.3157e-05 - val_mae: 0.0060\n",
      "Epoch 63/100\n",
      "1025/1025 [==============================] - 0s 137us/sample - loss: 1.0607e-05 - mse: 1.0607e-05 - mae: 0.0026 - val_loss: 2.0643e-05 - val_mse: 2.0643e-05 - val_mae: 0.0041\n",
      "Epoch 64/100\n",
      "1025/1025 [==============================] - 0s 150us/sample - loss: 9.1299e-06 - mse: 9.1299e-06 - mae: 0.0025 - val_loss: 1.5388e-05 - val_mse: 1.5388e-05 - val_mae: 0.0034\n",
      "Epoch 65/100\n",
      "1025/1025 [==============================] - 0s 140us/sample - loss: 8.6740e-06 - mse: 8.6740e-06 - mae: 0.0024 - val_loss: 8.4592e-06 - val_mse: 8.4592e-06 - val_mae: 0.0025\n",
      "Epoch 66/100\n",
      "1025/1025 [==============================] - 0s 135us/sample - loss: 8.5046e-06 - mse: 8.5046e-06 - mae: 0.0024 - val_loss: 9.0547e-06 - val_mse: 9.0547e-06 - val_mae: 0.0024\n",
      "Epoch 67/100\n",
      "1025/1025 [==============================] - 0s 152us/sample - loss: 8.4500e-06 - mse: 8.4500e-06 - mae: 0.0024 - val_loss: 1.0700e-05 - val_mse: 1.0700e-05 - val_mae: 0.0026\n",
      "Epoch 68/100\n",
      "1025/1025 [==============================] - 0s 157us/sample - loss: 8.3552e-06 - mse: 8.3552e-06 - mae: 0.0024 - val_loss: 1.4134e-05 - val_mse: 1.4134e-05 - val_mae: 0.0027\n",
      "Epoch 69/100\n",
      "1025/1025 [==============================] - 0s 149us/sample - loss: 8.3167e-06 - mse: 8.3167e-06 - mae: 0.0024 - val_loss: 1.6982e-05 - val_mse: 1.6982e-05 - val_mae: 0.0030\n",
      "Epoch 70/100\n",
      "1025/1025 [==============================] - 0s 129us/sample - loss: 8.4803e-06 - mse: 8.4803e-06 - mae: 0.0024 - val_loss: 1.0523e-05 - val_mse: 1.0523e-05 - val_mae: 0.0027\n",
      "Epoch 71/100\n",
      "1025/1025 [==============================] - 0s 125us/sample - loss: 8.0493e-06 - mse: 8.0493e-06 - mae: 0.0024 - val_loss: 1.9015e-05 - val_mse: 1.9015e-05 - val_mae: 0.0032\n",
      "Epoch 72/100\n",
      "1025/1025 [==============================] - 0s 128us/sample - loss: 8.2063e-06 - mse: 8.2063e-06 - mae: 0.0024 - val_loss: 1.1442e-05 - val_mse: 1.1442e-05 - val_mae: 0.0027\n",
      "Epoch 73/100\n",
      "1025/1025 [==============================] - 0s 145us/sample - loss: 8.1155e-06 - mse: 8.1155e-06 - mae: 0.0024 - val_loss: 1.3061e-05 - val_mse: 1.3061e-05 - val_mae: 0.0029\n",
      "Epoch 74/100\n",
      "1025/1025 [==============================] - 0s 133us/sample - loss: 7.7966e-06 - mse: 7.7966e-06 - mae: 0.0023 - val_loss: 2.9591e-05 - val_mse: 2.9591e-05 - val_mae: 0.0043\n",
      "Epoch 75/100\n",
      "1025/1025 [==============================] - 0s 150us/sample - loss: 8.6879e-06 - mse: 8.6879e-06 - mae: 0.0024 - val_loss: 8.5668e-06 - val_mse: 8.5668e-06 - val_mae: 0.0024\n",
      "Epoch 76/100\n",
      "1025/1025 [==============================] - 0s 153us/sample - loss: 7.5197e-06 - mse: 7.5197e-06 - mae: 0.0023 - val_loss: 1.7681e-05 - val_mse: 1.7681e-05 - val_mae: 0.0031\n",
      "Epoch 77/100\n",
      "1025/1025 [==============================] - 0s 140us/sample - loss: 7.8745e-06 - mse: 7.8745e-06 - mae: 0.0023 - val_loss: 8.1844e-06 - val_mse: 8.1844e-06 - val_mae: 0.0023\n",
      "Epoch 78/100\n",
      "1025/1025 [==============================] - 0s 149us/sample - loss: 7.4247e-06 - mse: 7.4247e-06 - mae: 0.0023 - val_loss: 7.6847e-06 - val_mse: 7.6847e-06 - val_mae: 0.0022\n",
      "Epoch 79/100\n",
      "1025/1025 [==============================] - 0s 142us/sample - loss: 7.2500e-06 - mse: 7.2500e-06 - mae: 0.0023 - val_loss: 1.1914e-05 - val_mse: 1.1914e-05 - val_mae: 0.0030\n",
      "Epoch 80/100\n",
      "1025/1025 [==============================] - 0s 146us/sample - loss: 7.2659e-06 - mse: 7.2659e-06 - mae: 0.0023 - val_loss: 7.7903e-06 - val_mse: 7.7903e-06 - val_mae: 0.0023\n",
      "Epoch 81/100\n",
      "1025/1025 [==============================] - 0s 170us/sample - loss: 7.2082e-06 - mse: 7.2082e-06 - mae: 0.0022 - val_loss: 1.1525e-05 - val_mse: 1.1525e-05 - val_mae: 0.0027\n",
      "Epoch 82/100\n",
      "1025/1025 [==============================] - 0s 260us/sample - loss: 7.1132e-06 - mse: 7.1132e-06 - mae: 0.0022 - val_loss: 1.4958e-05 - val_mse: 1.4958e-05 - val_mae: 0.0034\n",
      "Epoch 83/100\n",
      "1025/1025 [==============================] - 0s 153us/sample - loss: 7.2410e-06 - mse: 7.2410e-06 - mae: 0.0023 - val_loss: 1.3446e-05 - val_mse: 1.3446e-05 - val_mae: 0.0032\n",
      "Epoch 84/100\n",
      "1025/1025 [==============================] - 0s 127us/sample - loss: 7.1653e-06 - mse: 7.1653e-06 - mae: 0.0022 - val_loss: 1.4772e-05 - val_mse: 1.4772e-05 - val_mae: 0.0034\n",
      "Epoch 85/100\n",
      "1025/1025 [==============================] - 0s 148us/sample - loss: 7.1042e-06 - mse: 7.1042e-06 - mae: 0.0022 - val_loss: 1.7478e-05 - val_mse: 1.7478e-05 - val_mae: 0.0031\n",
      "Epoch 86/100\n",
      "1025/1025 [==============================] - 0s 146us/sample - loss: 7.4056e-06 - mse: 7.4056e-06 - mae: 0.0022 - val_loss: 6.6120e-06 - val_mse: 6.6120e-06 - val_mae: 0.0022\n",
      "Epoch 87/100\n",
      "1025/1025 [==============================] - 0s 125us/sample - loss: 6.6829e-06 - mse: 6.6829e-06 - mae: 0.0022 - val_loss: 1.1178e-05 - val_mse: 1.1178e-05 - val_mae: 0.0024\n",
      "Epoch 88/100\n"
     ]
    },
    {
     "name": "stdout",
     "output_type": "stream",
     "text": [
      "1025/1025 [==============================] - 0s 148us/sample - loss: 6.7467e-06 - mse: 6.7467e-06 - mae: 0.0022 - val_loss: 1.3354e-05 - val_mse: 1.3354e-05 - val_mae: 0.0029\n",
      "Epoch 89/100\n",
      "1025/1025 [==============================] - 0s 222us/sample - loss: 6.8821e-06 - mse: 6.8821e-06 - mae: 0.0022 - val_loss: 1.0504e-05 - val_mse: 1.0504e-05 - val_mae: 0.0026\n",
      "Epoch 90/100\n",
      "1025/1025 [==============================] - 0s 207us/sample - loss: 6.6195e-06 - mse: 6.6195e-06 - mae: 0.0021 - val_loss: 8.5944e-06 - val_mse: 8.5944e-06 - val_mae: 0.0024\n",
      "Epoch 91/100\n",
      "1025/1025 [==============================] - 0s 209us/sample - loss: 6.4801e-06 - mse: 6.4801e-06 - mae: 0.0021 - val_loss: 7.3387e-06 - val_mse: 7.3387e-06 - val_mae: 0.0022\n",
      "Epoch 92/100\n",
      "1025/1025 [==============================] - 0s 190us/sample - loss: 6.3631e-06 - mse: 6.3631e-06 - mae: 0.0021 - val_loss: 1.2783e-05 - val_mse: 1.2783e-05 - val_mae: 0.0029\n",
      "Epoch 93/100\n",
      "1025/1025 [==============================] - 0s 170us/sample - loss: 6.4249e-06 - mse: 6.4249e-06 - mae: 0.0021 - val_loss: 6.7282e-06 - val_mse: 6.7282e-06 - val_mae: 0.0021\n",
      "Epoch 94/100\n",
      "1025/1025 [==============================] - 0s 147us/sample - loss: 6.1457e-06 - mse: 6.1457e-06 - mae: 0.0021 - val_loss: 1.6101e-05 - val_mse: 1.6101e-05 - val_mae: 0.0030\n",
      "Epoch 95/100\n",
      "1025/1025 [==============================] - 0s 142us/sample - loss: 6.4746e-06 - mse: 6.4746e-06 - mae: 0.0021 - val_loss: 1.2540e-05 - val_mse: 1.2540e-05 - val_mae: 0.0026\n",
      "Epoch 96/100\n",
      "1025/1025 [==============================] - 0s 130us/sample - loss: 6.2119e-06 - mse: 6.2119e-06 - mae: 0.0021 - val_loss: 1.5232e-05 - val_mse: 1.5232e-05 - val_mae: 0.0029\n",
      "Epoch 97/100\n",
      "1025/1025 [==============================] - 0s 153us/sample - loss: 6.3374e-06 - mse: 6.3374e-06 - mae: 0.0021 - val_loss: 8.4896e-06 - val_mse: 8.4896e-06 - val_mae: 0.0022\n",
      "Epoch 98/100\n",
      "1025/1025 [==============================] - 0s 120us/sample - loss: 6.0142e-06 - mse: 6.0142e-06 - mae: 0.0021 - val_loss: 1.2671e-05 - val_mse: 1.2671e-05 - val_mae: 0.0030\n",
      "Epoch 99/100\n",
      "1025/1025 [==============================] - 0s 118us/sample - loss: 6.1384e-06 - mse: 6.1384e-06 - mae: 0.0021 - val_loss: 1.3289e-05 - val_mse: 1.3289e-05 - val_mae: 0.0027\n",
      "Epoch 100/100\n",
      "1025/1025 [==============================] - 0s 202us/sample - loss: 6.2554e-06 - mse: 6.2554e-06 - mae: 0.0021 - val_loss: 6.3560e-06 - val_mse: 6.3560e-06 - val_mae: 0.0021\n"
     ]
    }
   ],
   "source": [
    "model.compile(loss='mse',\n",
    "              optimizer=sgd,\n",
    "              metrics=['mse','mae'])\n",
    "history = model.fit(X_train, y_train, epochs=n_epochs,\n",
    "                    validation_data=(X_valid, y_valid))"
   ]
  },
  {
   "cell_type": "code",
   "execution_count": 201,
   "metadata": {},
   "outputs": [
    {
     "data": {
      "application/vnd.plotly.v1+json": {
       "config": {
        "plotlyServerURL": "https://plot.ly"
       },
       "data": [
        {
         "name": "error training",
         "type": "scatter",
         "y": [
          0.09949301183223724,
          0.012820218689739704,
          0.009334450587630272,
          0.006394249852746725,
          0.0037537310272455215,
          0.0020737696904689074,
          0.0011100834235548973,
          0.0005355632747523487,
          0.00026555059594102204,
          0.00013126105477567762,
          6.746171857230365e-05,
          4.121863094042055e-05,
          2.7697453333530575e-05,
          2.335055251023732e-05,
          2.171284540963825e-05,
          1.902292024169583e-05,
          1.8395552615402266e-05,
          1.7857846614788286e-05,
          1.7710182873997837e-05,
          1.711026197881438e-05,
          1.6708825569367036e-05,
          1.6741327272029594e-05,
          1.633030296943616e-05,
          1.5924728359095752e-05,
          1.5892217561486177e-05,
          1.593940396560356e-05,
          1.7343118088319898e-05,
          1.504093233961612e-05,
          1.4343345355882775e-05,
          1.401220742991427e-05,
          1.4046680007595569e-05,
          1.4186465705279261e-05,
          1.6267898899968714e-05,
          1.3340445548237767e-05,
          1.3218172171036713e-05,
          1.3233697245595977e-05,
          1.309604795096675e-05,
          1.2424689884937834e-05,
          1.2615239938895684e-05,
          1.2074506230419502e-05,
          1.2283385331102181e-05,
          1.1816857295343652e-05,
          1.2269262697373051e-05,
          1.1749944860639516e-05,
          1.1216479833819903e-05,
          1.1153120794915594e-05,
          1.1300076948828064e-05,
          1.1257002370257396e-05,
          1.0582337381492835e-05,
          1.0528118764341343e-05,
          1.0236373782390729e-05,
          1.0363835826865397e-05,
          1.0424811989651062e-05,
          1.1121352144982666e-05,
          9.984054486267269e-06,
          1.0297115295543335e-05,
          1.190715283883037e-05,
          9.608055734133814e-06,
          1.0142613064090256e-05,
          9.352203051093966e-06,
          9.288864021073096e-06,
          9.063328434422147e-06,
          1.0606780051602982e-05,
          9.129871614277363e-06,
          8.674041055201087e-06,
          8.504594916303176e-06,
          8.450040695606731e-06,
          8.355177669727709e-06,
          8.316692401422188e-06,
          8.480325050186366e-06,
          8.04934370535193e-06,
          8.206267921195831e-06,
          8.115471246128436e-06,
          7.796648787916638e-06,
          8.687850822752807e-06,
          7.519713562942343e-06,
          7.874536095187068e-06,
          7.424710474879248e-06,
          7.250029739225283e-06,
          7.265850399562623e-06,
          7.208178885775851e-06,
          7.1132312768895645e-06,
          7.240967988764169e-06,
          7.165275292209117e-06,
          7.10420545146917e-06,
          7.405580618069507e-06,
          6.6828679337049834e-06,
          6.746709459548583e-06,
          6.882119123474695e-06,
          6.619548457820201e-06,
          6.4800583459145855e-06,
          6.363142347254325e-06,
          6.4248652051901445e-06,
          6.145666702650487e-06,
          6.474625479313545e-06,
          6.211907930264715e-06,
          6.3373568082170095e-06,
          6.014175141899614e-06,
          6.138385288068093e-06,
          6.255357675399864e-06
         ]
        },
        {
         "name": "error validation",
         "type": "scatter",
         "y": [
          0.027034416794776917,
          0.01160078588873148,
          0.014533976092934608,
          0.0061505017802119255,
          0.003176439320668578,
          0.002875261241570115,
          0.0008724280050955713,
          0.0006881052977405488,
          0.0003383460862096399,
          0.00012761387915816158,
          0.00010972819291055202,
          3.815098534687422e-05,
          2.9193308364483528e-05,
          5.284059079713188e-05,
          2.059822691080626e-05,
          2.8017424483550712e-05,
          1.8189119145972654e-05,
          3.324394128867425e-05,
          1.8142647604690865e-05,
          2.3672932002227753e-05,
          3.074628330068663e-05,
          2.5306129828095436e-05,
          1.5716828784206882e-05,
          3.4255801438121125e-05,
          3.270575689384714e-05,
          7.714772800682113e-05,
          3.0842016712995246e-05,
          1.549406624690164e-05,
          1.9381199308554642e-05,
          2.2799242287874222e-05,
          2.6842908482649364e-05,
          9.376327943755314e-05,
          1.4769665540370625e-05,
          1.7918224330060184e-05,
          2.5097666366491467e-05,
          2.0022664102725685e-05,
          1.3996886991662905e-05,
          2.8047763407812454e-05,
          1.3834438505000435e-05,
          1.4687720977235585e-05,
          1.5352068658103235e-05,
          2.262094676552806e-05,
          1.627440178708639e-05,
          1.2313573279243428e-05,
          1.1919473763555288e-05,
          1.4575002751371358e-05,
          2.249684985144995e-05,
          1.1057257324864622e-05,
          1.2633461665245704e-05,
          1.0473173460923135e-05,
          1.7521186236990616e-05,
          1.536568015580997e-05,
          3.565242877812125e-05,
          1.3262551874504425e-05,
          2.1831610865774564e-05,
          6.799914262956008e-05,
          1.160228748631198e-05,
          2.4643357392051257e-05,
          1.6426782167400233e-05,
          1.3978396964375861e-05,
          1.0908910553553142e-05,
          5.3157451475271955e-05,
          2.0643145035137422e-05,
          1.538793367217295e-05,
          8.459211130684707e-06,
          9.05473279999569e-06,
          1.0699595804908313e-05,
          1.4134297089185566e-05,
          1.698220512480475e-05,
          1.052334664564114e-05,
          1.901493851619307e-05,
          1.1442263712524436e-05,
          1.30614980662358e-05,
          2.95908612315543e-05,
          8.566789801989216e-06,
          1.768084075592924e-05,
          8.184399121091701e-06,
          7.68468999012839e-06,
          1.1914461538253818e-05,
          7.790347808622755e-06,
          1.152520599134732e-05,
          1.495770993642509e-05,
          1.3445504919218365e-05,
          1.4772426766285207e-05,
          1.747830174281262e-05,
          6.612018296436872e-06,
          1.11779527287581e-05,
          1.3353732356335968e-05,
          1.0503973498998675e-05,
          8.5943802332622e-06,
          7.3387027441640384e-06,
          1.2782813428202644e-05,
          6.728247171849944e-06,
          1.6100866560009308e-05,
          1.2539584531623404e-05,
          1.5232420082611497e-05,
          8.489583706250414e-06,
          1.2671413969655987e-05,
          1.3288822628965136e-05,
          6.356018275255337e-06
         ]
        }
       ],
       "layout": {
        "template": {
         "data": {
          "bar": [
           {
            "error_x": {
             "color": "#2a3f5f"
            },
            "error_y": {
             "color": "#2a3f5f"
            },
            "marker": {
             "line": {
              "color": "#E5ECF6",
              "width": 0.5
             }
            },
            "type": "bar"
           }
          ],
          "barpolar": [
           {
            "marker": {
             "line": {
              "color": "#E5ECF6",
              "width": 0.5
             }
            },
            "type": "barpolar"
           }
          ],
          "carpet": [
           {
            "aaxis": {
             "endlinecolor": "#2a3f5f",
             "gridcolor": "white",
             "linecolor": "white",
             "minorgridcolor": "white",
             "startlinecolor": "#2a3f5f"
            },
            "baxis": {
             "endlinecolor": "#2a3f5f",
             "gridcolor": "white",
             "linecolor": "white",
             "minorgridcolor": "white",
             "startlinecolor": "#2a3f5f"
            },
            "type": "carpet"
           }
          ],
          "choropleth": [
           {
            "colorbar": {
             "outlinewidth": 0,
             "ticks": ""
            },
            "type": "choropleth"
           }
          ],
          "contour": [
           {
            "colorbar": {
             "outlinewidth": 0,
             "ticks": ""
            },
            "colorscale": [
             [
              0,
              "#0d0887"
             ],
             [
              0.1111111111111111,
              "#46039f"
             ],
             [
              0.2222222222222222,
              "#7201a8"
             ],
             [
              0.3333333333333333,
              "#9c179e"
             ],
             [
              0.4444444444444444,
              "#bd3786"
             ],
             [
              0.5555555555555556,
              "#d8576b"
             ],
             [
              0.6666666666666666,
              "#ed7953"
             ],
             [
              0.7777777777777778,
              "#fb9f3a"
             ],
             [
              0.8888888888888888,
              "#fdca26"
             ],
             [
              1,
              "#f0f921"
             ]
            ],
            "type": "contour"
           }
          ],
          "contourcarpet": [
           {
            "colorbar": {
             "outlinewidth": 0,
             "ticks": ""
            },
            "type": "contourcarpet"
           }
          ],
          "heatmap": [
           {
            "colorbar": {
             "outlinewidth": 0,
             "ticks": ""
            },
            "colorscale": [
             [
              0,
              "#0d0887"
             ],
             [
              0.1111111111111111,
              "#46039f"
             ],
             [
              0.2222222222222222,
              "#7201a8"
             ],
             [
              0.3333333333333333,
              "#9c179e"
             ],
             [
              0.4444444444444444,
              "#bd3786"
             ],
             [
              0.5555555555555556,
              "#d8576b"
             ],
             [
              0.6666666666666666,
              "#ed7953"
             ],
             [
              0.7777777777777778,
              "#fb9f3a"
             ],
             [
              0.8888888888888888,
              "#fdca26"
             ],
             [
              1,
              "#f0f921"
             ]
            ],
            "type": "heatmap"
           }
          ],
          "heatmapgl": [
           {
            "colorbar": {
             "outlinewidth": 0,
             "ticks": ""
            },
            "colorscale": [
             [
              0,
              "#0d0887"
             ],
             [
              0.1111111111111111,
              "#46039f"
             ],
             [
              0.2222222222222222,
              "#7201a8"
             ],
             [
              0.3333333333333333,
              "#9c179e"
             ],
             [
              0.4444444444444444,
              "#bd3786"
             ],
             [
              0.5555555555555556,
              "#d8576b"
             ],
             [
              0.6666666666666666,
              "#ed7953"
             ],
             [
              0.7777777777777778,
              "#fb9f3a"
             ],
             [
              0.8888888888888888,
              "#fdca26"
             ],
             [
              1,
              "#f0f921"
             ]
            ],
            "type": "heatmapgl"
           }
          ],
          "histogram": [
           {
            "marker": {
             "colorbar": {
              "outlinewidth": 0,
              "ticks": ""
             }
            },
            "type": "histogram"
           }
          ],
          "histogram2d": [
           {
            "colorbar": {
             "outlinewidth": 0,
             "ticks": ""
            },
            "colorscale": [
             [
              0,
              "#0d0887"
             ],
             [
              0.1111111111111111,
              "#46039f"
             ],
             [
              0.2222222222222222,
              "#7201a8"
             ],
             [
              0.3333333333333333,
              "#9c179e"
             ],
             [
              0.4444444444444444,
              "#bd3786"
             ],
             [
              0.5555555555555556,
              "#d8576b"
             ],
             [
              0.6666666666666666,
              "#ed7953"
             ],
             [
              0.7777777777777778,
              "#fb9f3a"
             ],
             [
              0.8888888888888888,
              "#fdca26"
             ],
             [
              1,
              "#f0f921"
             ]
            ],
            "type": "histogram2d"
           }
          ],
          "histogram2dcontour": [
           {
            "colorbar": {
             "outlinewidth": 0,
             "ticks": ""
            },
            "colorscale": [
             [
              0,
              "#0d0887"
             ],
             [
              0.1111111111111111,
              "#46039f"
             ],
             [
              0.2222222222222222,
              "#7201a8"
             ],
             [
              0.3333333333333333,
              "#9c179e"
             ],
             [
              0.4444444444444444,
              "#bd3786"
             ],
             [
              0.5555555555555556,
              "#d8576b"
             ],
             [
              0.6666666666666666,
              "#ed7953"
             ],
             [
              0.7777777777777778,
              "#fb9f3a"
             ],
             [
              0.8888888888888888,
              "#fdca26"
             ],
             [
              1,
              "#f0f921"
             ]
            ],
            "type": "histogram2dcontour"
           }
          ],
          "mesh3d": [
           {
            "colorbar": {
             "outlinewidth": 0,
             "ticks": ""
            },
            "type": "mesh3d"
           }
          ],
          "parcoords": [
           {
            "line": {
             "colorbar": {
              "outlinewidth": 0,
              "ticks": ""
             }
            },
            "type": "parcoords"
           }
          ],
          "pie": [
           {
            "automargin": true,
            "type": "pie"
           }
          ],
          "scatter": [
           {
            "marker": {
             "colorbar": {
              "outlinewidth": 0,
              "ticks": ""
             }
            },
            "type": "scatter"
           }
          ],
          "scatter3d": [
           {
            "line": {
             "colorbar": {
              "outlinewidth": 0,
              "ticks": ""
             }
            },
            "marker": {
             "colorbar": {
              "outlinewidth": 0,
              "ticks": ""
             }
            },
            "type": "scatter3d"
           }
          ],
          "scattercarpet": [
           {
            "marker": {
             "colorbar": {
              "outlinewidth": 0,
              "ticks": ""
             }
            },
            "type": "scattercarpet"
           }
          ],
          "scattergeo": [
           {
            "marker": {
             "colorbar": {
              "outlinewidth": 0,
              "ticks": ""
             }
            },
            "type": "scattergeo"
           }
          ],
          "scattergl": [
           {
            "marker": {
             "colorbar": {
              "outlinewidth": 0,
              "ticks": ""
             }
            },
            "type": "scattergl"
           }
          ],
          "scattermapbox": [
           {
            "marker": {
             "colorbar": {
              "outlinewidth": 0,
              "ticks": ""
             }
            },
            "type": "scattermapbox"
           }
          ],
          "scatterpolar": [
           {
            "marker": {
             "colorbar": {
              "outlinewidth": 0,
              "ticks": ""
             }
            },
            "type": "scatterpolar"
           }
          ],
          "scatterpolargl": [
           {
            "marker": {
             "colorbar": {
              "outlinewidth": 0,
              "ticks": ""
             }
            },
            "type": "scatterpolargl"
           }
          ],
          "scatterternary": [
           {
            "marker": {
             "colorbar": {
              "outlinewidth": 0,
              "ticks": ""
             }
            },
            "type": "scatterternary"
           }
          ],
          "surface": [
           {
            "colorbar": {
             "outlinewidth": 0,
             "ticks": ""
            },
            "colorscale": [
             [
              0,
              "#0d0887"
             ],
             [
              0.1111111111111111,
              "#46039f"
             ],
             [
              0.2222222222222222,
              "#7201a8"
             ],
             [
              0.3333333333333333,
              "#9c179e"
             ],
             [
              0.4444444444444444,
              "#bd3786"
             ],
             [
              0.5555555555555556,
              "#d8576b"
             ],
             [
              0.6666666666666666,
              "#ed7953"
             ],
             [
              0.7777777777777778,
              "#fb9f3a"
             ],
             [
              0.8888888888888888,
              "#fdca26"
             ],
             [
              1,
              "#f0f921"
             ]
            ],
            "type": "surface"
           }
          ],
          "table": [
           {
            "cells": {
             "fill": {
              "color": "#EBF0F8"
             },
             "line": {
              "color": "white"
             }
            },
            "header": {
             "fill": {
              "color": "#C8D4E3"
             },
             "line": {
              "color": "white"
             }
            },
            "type": "table"
           }
          ]
         },
         "layout": {
          "annotationdefaults": {
           "arrowcolor": "#2a3f5f",
           "arrowhead": 0,
           "arrowwidth": 1
          },
          "coloraxis": {
           "colorbar": {
            "outlinewidth": 0,
            "ticks": ""
           }
          },
          "colorscale": {
           "diverging": [
            [
             0,
             "#8e0152"
            ],
            [
             0.1,
             "#c51b7d"
            ],
            [
             0.2,
             "#de77ae"
            ],
            [
             0.3,
             "#f1b6da"
            ],
            [
             0.4,
             "#fde0ef"
            ],
            [
             0.5,
             "#f7f7f7"
            ],
            [
             0.6,
             "#e6f5d0"
            ],
            [
             0.7,
             "#b8e186"
            ],
            [
             0.8,
             "#7fbc41"
            ],
            [
             0.9,
             "#4d9221"
            ],
            [
             1,
             "#276419"
            ]
           ],
           "sequential": [
            [
             0,
             "#0d0887"
            ],
            [
             0.1111111111111111,
             "#46039f"
            ],
            [
             0.2222222222222222,
             "#7201a8"
            ],
            [
             0.3333333333333333,
             "#9c179e"
            ],
            [
             0.4444444444444444,
             "#bd3786"
            ],
            [
             0.5555555555555556,
             "#d8576b"
            ],
            [
             0.6666666666666666,
             "#ed7953"
            ],
            [
             0.7777777777777778,
             "#fb9f3a"
            ],
            [
             0.8888888888888888,
             "#fdca26"
            ],
            [
             1,
             "#f0f921"
            ]
           ],
           "sequentialminus": [
            [
             0,
             "#0d0887"
            ],
            [
             0.1111111111111111,
             "#46039f"
            ],
            [
             0.2222222222222222,
             "#7201a8"
            ],
            [
             0.3333333333333333,
             "#9c179e"
            ],
            [
             0.4444444444444444,
             "#bd3786"
            ],
            [
             0.5555555555555556,
             "#d8576b"
            ],
            [
             0.6666666666666666,
             "#ed7953"
            ],
            [
             0.7777777777777778,
             "#fb9f3a"
            ],
            [
             0.8888888888888888,
             "#fdca26"
            ],
            [
             1,
             "#f0f921"
            ]
           ]
          },
          "colorway": [
           "#636efa",
           "#EF553B",
           "#00cc96",
           "#ab63fa",
           "#FFA15A",
           "#19d3f3",
           "#FF6692",
           "#B6E880",
           "#FF97FF",
           "#FECB52"
          ],
          "font": {
           "color": "#2a3f5f"
          },
          "geo": {
           "bgcolor": "white",
           "lakecolor": "white",
           "landcolor": "#E5ECF6",
           "showlakes": true,
           "showland": true,
           "subunitcolor": "white"
          },
          "hoverlabel": {
           "align": "left"
          },
          "hovermode": "closest",
          "mapbox": {
           "style": "light"
          },
          "paper_bgcolor": "white",
          "plot_bgcolor": "#E5ECF6",
          "polar": {
           "angularaxis": {
            "gridcolor": "white",
            "linecolor": "white",
            "ticks": ""
           },
           "bgcolor": "#E5ECF6",
           "radialaxis": {
            "gridcolor": "white",
            "linecolor": "white",
            "ticks": ""
           }
          },
          "scene": {
           "xaxis": {
            "backgroundcolor": "#E5ECF6",
            "gridcolor": "white",
            "gridwidth": 2,
            "linecolor": "white",
            "showbackground": true,
            "ticks": "",
            "zerolinecolor": "white"
           },
           "yaxis": {
            "backgroundcolor": "#E5ECF6",
            "gridcolor": "white",
            "gridwidth": 2,
            "linecolor": "white",
            "showbackground": true,
            "ticks": "",
            "zerolinecolor": "white"
           },
           "zaxis": {
            "backgroundcolor": "#E5ECF6",
            "gridcolor": "white",
            "gridwidth": 2,
            "linecolor": "white",
            "showbackground": true,
            "ticks": "",
            "zerolinecolor": "white"
           }
          },
          "shapedefaults": {
           "line": {
            "color": "#2a3f5f"
           }
          },
          "ternary": {
           "aaxis": {
            "gridcolor": "white",
            "linecolor": "white",
            "ticks": ""
           },
           "baxis": {
            "gridcolor": "white",
            "linecolor": "white",
            "ticks": ""
           },
           "bgcolor": "#E5ECF6",
           "caxis": {
            "gridcolor": "white",
            "linecolor": "white",
            "ticks": ""
           }
          },
          "title": {
           "x": 0.05
          },
          "xaxis": {
           "automargin": true,
           "gridcolor": "white",
           "linecolor": "white",
           "ticks": "",
           "title": {
            "standoff": 15
           },
           "zerolinecolor": "white",
           "zerolinewidth": 2
          },
          "yaxis": {
           "automargin": true,
           "gridcolor": "white",
           "linecolor": "white",
           "ticks": "",
           "title": {
            "standoff": 15
           },
           "zerolinecolor": "white",
           "zerolinewidth": 2
          }
         }
        },
        "width": 600,
        "xaxis": {
         "range": [
          0,
          100
         ],
         "title": {
          "text": "epoch"
         }
        },
        "yaxis": {
         "range": [
          -6,
          0
         ],
         "type": "log"
        }
       }
      },
      "text/html": [
       "<div>\n",
       "        \n",
       "        \n",
       "            <div id=\"c57bf06c-f429-426d-9742-2c242ea60b23\" class=\"plotly-graph-div\" style=\"height:525px; width:600px;\"></div>\n",
       "            <script type=\"text/javascript\">\n",
       "                require([\"plotly\"], function(Plotly) {\n",
       "                    window.PLOTLYENV=window.PLOTLYENV || {};\n",
       "                    \n",
       "                if (document.getElementById(\"c57bf06c-f429-426d-9742-2c242ea60b23\")) {\n",
       "                    Plotly.newPlot(\n",
       "                        'c57bf06c-f429-426d-9742-2c242ea60b23',\n",
       "                        [{\"name\": \"error training\", \"type\": \"scatter\", \"y\": [0.09949301183223724, 0.012820218689739704, 0.009334450587630272, 0.006394249852746725, 0.0037537310272455215, 0.0020737696904689074, 0.0011100834235548973, 0.0005355632747523487, 0.00026555059594102204, 0.00013126105477567762, 6.746171857230365e-05, 4.121863094042055e-05, 2.7697453333530575e-05, 2.335055251023732e-05, 2.171284540963825e-05, 1.902292024169583e-05, 1.8395552615402266e-05, 1.7857846614788286e-05, 1.7710182873997837e-05, 1.711026197881438e-05, 1.6708825569367036e-05, 1.6741327272029594e-05, 1.633030296943616e-05, 1.5924728359095752e-05, 1.5892217561486177e-05, 1.593940396560356e-05, 1.7343118088319898e-05, 1.504093233961612e-05, 1.4343345355882775e-05, 1.401220742991427e-05, 1.4046680007595569e-05, 1.4186465705279261e-05, 1.6267898899968714e-05, 1.3340445548237767e-05, 1.3218172171036713e-05, 1.3233697245595977e-05, 1.309604795096675e-05, 1.2424689884937834e-05, 1.2615239938895684e-05, 1.2074506230419502e-05, 1.2283385331102181e-05, 1.1816857295343652e-05, 1.2269262697373051e-05, 1.1749944860639516e-05, 1.1216479833819903e-05, 1.1153120794915594e-05, 1.1300076948828064e-05, 1.1257002370257396e-05, 1.0582337381492835e-05, 1.0528118764341343e-05, 1.0236373782390729e-05, 1.0363835826865397e-05, 1.0424811989651062e-05, 1.1121352144982666e-05, 9.984054486267269e-06, 1.0297115295543335e-05, 1.190715283883037e-05, 9.608055734133814e-06, 1.0142613064090256e-05, 9.352203051093966e-06, 9.288864021073096e-06, 9.063328434422147e-06, 1.0606780051602982e-05, 9.129871614277363e-06, 8.674041055201087e-06, 8.504594916303176e-06, 8.450040695606731e-06, 8.355177669727709e-06, 8.316692401422188e-06, 8.480325050186366e-06, 8.04934370535193e-06, 8.206267921195831e-06, 8.115471246128436e-06, 7.796648787916638e-06, 8.687850822752807e-06, 7.519713562942343e-06, 7.874536095187068e-06, 7.424710474879248e-06, 7.250029739225283e-06, 7.265850399562623e-06, 7.208178885775851e-06, 7.1132312768895645e-06, 7.240967988764169e-06, 7.165275292209117e-06, 7.10420545146917e-06, 7.405580618069507e-06, 6.6828679337049834e-06, 6.746709459548583e-06, 6.882119123474695e-06, 6.619548457820201e-06, 6.4800583459145855e-06, 6.363142347254325e-06, 6.4248652051901445e-06, 6.145666702650487e-06, 6.474625479313545e-06, 6.211907930264715e-06, 6.3373568082170095e-06, 6.014175141899614e-06, 6.138385288068093e-06, 6.255357675399864e-06]}, {\"name\": \"error validation\", \"type\": \"scatter\", \"y\": [0.027034416794776917, 0.01160078588873148, 0.014533976092934608, 0.0061505017802119255, 0.003176439320668578, 0.002875261241570115, 0.0008724280050955713, 0.0006881052977405488, 0.0003383460862096399, 0.00012761387915816158, 0.00010972819291055202, 3.815098534687422e-05, 2.9193308364483528e-05, 5.284059079713188e-05, 2.059822691080626e-05, 2.8017424483550712e-05, 1.8189119145972654e-05, 3.324394128867425e-05, 1.8142647604690865e-05, 2.3672932002227753e-05, 3.074628330068663e-05, 2.5306129828095436e-05, 1.5716828784206882e-05, 3.4255801438121125e-05, 3.270575689384714e-05, 7.714772800682113e-05, 3.0842016712995246e-05, 1.549406624690164e-05, 1.9381199308554642e-05, 2.2799242287874222e-05, 2.6842908482649364e-05, 9.376327943755314e-05, 1.4769665540370625e-05, 1.7918224330060184e-05, 2.5097666366491467e-05, 2.0022664102725685e-05, 1.3996886991662905e-05, 2.8047763407812454e-05, 1.3834438505000435e-05, 1.4687720977235585e-05, 1.5352068658103235e-05, 2.262094676552806e-05, 1.627440178708639e-05, 1.2313573279243428e-05, 1.1919473763555288e-05, 1.4575002751371358e-05, 2.249684985144995e-05, 1.1057257324864622e-05, 1.2633461665245704e-05, 1.0473173460923135e-05, 1.7521186236990616e-05, 1.536568015580997e-05, 3.565242877812125e-05, 1.3262551874504425e-05, 2.1831610865774564e-05, 6.799914262956008e-05, 1.160228748631198e-05, 2.4643357392051257e-05, 1.6426782167400233e-05, 1.3978396964375861e-05, 1.0908910553553142e-05, 5.3157451475271955e-05, 2.0643145035137422e-05, 1.538793367217295e-05, 8.459211130684707e-06, 9.05473279999569e-06, 1.0699595804908313e-05, 1.4134297089185566e-05, 1.698220512480475e-05, 1.052334664564114e-05, 1.901493851619307e-05, 1.1442263712524436e-05, 1.30614980662358e-05, 2.95908612315543e-05, 8.566789801989216e-06, 1.768084075592924e-05, 8.184399121091701e-06, 7.68468999012839e-06, 1.1914461538253818e-05, 7.790347808622755e-06, 1.152520599134732e-05, 1.495770993642509e-05, 1.3445504919218365e-05, 1.4772426766285207e-05, 1.747830174281262e-05, 6.612018296436872e-06, 1.11779527287581e-05, 1.3353732356335968e-05, 1.0503973498998675e-05, 8.5943802332622e-06, 7.3387027441640384e-06, 1.2782813428202644e-05, 6.728247171849944e-06, 1.6100866560009308e-05, 1.2539584531623404e-05, 1.5232420082611497e-05, 8.489583706250414e-06, 1.2671413969655987e-05, 1.3288822628965136e-05, 6.356018275255337e-06]}],\n",
       "                        {\"template\": {\"data\": {\"bar\": [{\"error_x\": {\"color\": \"#2a3f5f\"}, \"error_y\": {\"color\": \"#2a3f5f\"}, \"marker\": {\"line\": {\"color\": \"#E5ECF6\", \"width\": 0.5}}, \"type\": \"bar\"}], \"barpolar\": [{\"marker\": {\"line\": {\"color\": \"#E5ECF6\", \"width\": 0.5}}, \"type\": \"barpolar\"}], \"carpet\": [{\"aaxis\": {\"endlinecolor\": \"#2a3f5f\", \"gridcolor\": \"white\", \"linecolor\": \"white\", \"minorgridcolor\": \"white\", \"startlinecolor\": \"#2a3f5f\"}, \"baxis\": {\"endlinecolor\": \"#2a3f5f\", \"gridcolor\": \"white\", \"linecolor\": \"white\", \"minorgridcolor\": \"white\", \"startlinecolor\": \"#2a3f5f\"}, \"type\": \"carpet\"}], \"choropleth\": [{\"colorbar\": {\"outlinewidth\": 0, \"ticks\": \"\"}, \"type\": \"choropleth\"}], \"contour\": [{\"colorbar\": {\"outlinewidth\": 0, \"ticks\": \"\"}, \"colorscale\": [[0.0, \"#0d0887\"], [0.1111111111111111, \"#46039f\"], [0.2222222222222222, \"#7201a8\"], [0.3333333333333333, \"#9c179e\"], [0.4444444444444444, \"#bd3786\"], [0.5555555555555556, \"#d8576b\"], [0.6666666666666666, \"#ed7953\"], [0.7777777777777778, \"#fb9f3a\"], [0.8888888888888888, \"#fdca26\"], [1.0, \"#f0f921\"]], \"type\": \"contour\"}], \"contourcarpet\": [{\"colorbar\": {\"outlinewidth\": 0, \"ticks\": \"\"}, \"type\": \"contourcarpet\"}], \"heatmap\": [{\"colorbar\": {\"outlinewidth\": 0, \"ticks\": \"\"}, \"colorscale\": [[0.0, \"#0d0887\"], [0.1111111111111111, \"#46039f\"], [0.2222222222222222, \"#7201a8\"], [0.3333333333333333, \"#9c179e\"], [0.4444444444444444, \"#bd3786\"], [0.5555555555555556, \"#d8576b\"], [0.6666666666666666, \"#ed7953\"], [0.7777777777777778, \"#fb9f3a\"], [0.8888888888888888, \"#fdca26\"], [1.0, \"#f0f921\"]], \"type\": \"heatmap\"}], \"heatmapgl\": [{\"colorbar\": {\"outlinewidth\": 0, \"ticks\": \"\"}, \"colorscale\": [[0.0, \"#0d0887\"], [0.1111111111111111, \"#46039f\"], [0.2222222222222222, \"#7201a8\"], [0.3333333333333333, \"#9c179e\"], [0.4444444444444444, \"#bd3786\"], [0.5555555555555556, \"#d8576b\"], [0.6666666666666666, \"#ed7953\"], [0.7777777777777778, \"#fb9f3a\"], [0.8888888888888888, \"#fdca26\"], [1.0, \"#f0f921\"]], \"type\": \"heatmapgl\"}], \"histogram\": [{\"marker\": {\"colorbar\": {\"outlinewidth\": 0, \"ticks\": \"\"}}, \"type\": \"histogram\"}], \"histogram2d\": [{\"colorbar\": {\"outlinewidth\": 0, \"ticks\": \"\"}, \"colorscale\": [[0.0, \"#0d0887\"], [0.1111111111111111, \"#46039f\"], [0.2222222222222222, \"#7201a8\"], [0.3333333333333333, \"#9c179e\"], [0.4444444444444444, \"#bd3786\"], [0.5555555555555556, \"#d8576b\"], [0.6666666666666666, \"#ed7953\"], [0.7777777777777778, \"#fb9f3a\"], [0.8888888888888888, \"#fdca26\"], [1.0, \"#f0f921\"]], \"type\": \"histogram2d\"}], \"histogram2dcontour\": [{\"colorbar\": {\"outlinewidth\": 0, \"ticks\": \"\"}, \"colorscale\": [[0.0, \"#0d0887\"], [0.1111111111111111, \"#46039f\"], [0.2222222222222222, \"#7201a8\"], [0.3333333333333333, \"#9c179e\"], [0.4444444444444444, \"#bd3786\"], [0.5555555555555556, \"#d8576b\"], [0.6666666666666666, \"#ed7953\"], [0.7777777777777778, \"#fb9f3a\"], [0.8888888888888888, \"#fdca26\"], [1.0, \"#f0f921\"]], \"type\": \"histogram2dcontour\"}], \"mesh3d\": [{\"colorbar\": {\"outlinewidth\": 0, \"ticks\": \"\"}, \"type\": \"mesh3d\"}], \"parcoords\": [{\"line\": {\"colorbar\": {\"outlinewidth\": 0, \"ticks\": \"\"}}, \"type\": \"parcoords\"}], \"pie\": [{\"automargin\": true, \"type\": \"pie\"}], \"scatter\": [{\"marker\": {\"colorbar\": {\"outlinewidth\": 0, \"ticks\": \"\"}}, \"type\": \"scatter\"}], \"scatter3d\": [{\"line\": {\"colorbar\": {\"outlinewidth\": 0, \"ticks\": \"\"}}, \"marker\": {\"colorbar\": {\"outlinewidth\": 0, \"ticks\": \"\"}}, \"type\": \"scatter3d\"}], \"scattercarpet\": [{\"marker\": {\"colorbar\": {\"outlinewidth\": 0, \"ticks\": \"\"}}, \"type\": \"scattercarpet\"}], \"scattergeo\": [{\"marker\": {\"colorbar\": {\"outlinewidth\": 0, \"ticks\": \"\"}}, \"type\": \"scattergeo\"}], \"scattergl\": [{\"marker\": {\"colorbar\": {\"outlinewidth\": 0, \"ticks\": \"\"}}, \"type\": \"scattergl\"}], \"scattermapbox\": [{\"marker\": {\"colorbar\": {\"outlinewidth\": 0, \"ticks\": \"\"}}, \"type\": \"scattermapbox\"}], \"scatterpolar\": [{\"marker\": {\"colorbar\": {\"outlinewidth\": 0, \"ticks\": \"\"}}, \"type\": \"scatterpolar\"}], \"scatterpolargl\": [{\"marker\": {\"colorbar\": {\"outlinewidth\": 0, \"ticks\": \"\"}}, \"type\": \"scatterpolargl\"}], \"scatterternary\": [{\"marker\": {\"colorbar\": {\"outlinewidth\": 0, \"ticks\": \"\"}}, \"type\": \"scatterternary\"}], \"surface\": [{\"colorbar\": {\"outlinewidth\": 0, \"ticks\": \"\"}, \"colorscale\": [[0.0, \"#0d0887\"], [0.1111111111111111, \"#46039f\"], [0.2222222222222222, \"#7201a8\"], [0.3333333333333333, \"#9c179e\"], [0.4444444444444444, \"#bd3786\"], [0.5555555555555556, \"#d8576b\"], [0.6666666666666666, \"#ed7953\"], [0.7777777777777778, \"#fb9f3a\"], [0.8888888888888888, \"#fdca26\"], [1.0, \"#f0f921\"]], \"type\": \"surface\"}], \"table\": [{\"cells\": {\"fill\": {\"color\": \"#EBF0F8\"}, \"line\": {\"color\": \"white\"}}, \"header\": {\"fill\": {\"color\": \"#C8D4E3\"}, \"line\": {\"color\": \"white\"}}, \"type\": \"table\"}]}, \"layout\": {\"annotationdefaults\": {\"arrowcolor\": \"#2a3f5f\", \"arrowhead\": 0, \"arrowwidth\": 1}, \"coloraxis\": {\"colorbar\": {\"outlinewidth\": 0, \"ticks\": \"\"}}, \"colorscale\": {\"diverging\": [[0, \"#8e0152\"], [0.1, \"#c51b7d\"], [0.2, \"#de77ae\"], [0.3, \"#f1b6da\"], [0.4, \"#fde0ef\"], [0.5, \"#f7f7f7\"], [0.6, \"#e6f5d0\"], [0.7, \"#b8e186\"], [0.8, \"#7fbc41\"], [0.9, \"#4d9221\"], [1, \"#276419\"]], \"sequential\": [[0.0, \"#0d0887\"], [0.1111111111111111, \"#46039f\"], [0.2222222222222222, \"#7201a8\"], [0.3333333333333333, \"#9c179e\"], [0.4444444444444444, \"#bd3786\"], [0.5555555555555556, \"#d8576b\"], [0.6666666666666666, \"#ed7953\"], [0.7777777777777778, \"#fb9f3a\"], [0.8888888888888888, \"#fdca26\"], [1.0, \"#f0f921\"]], \"sequentialminus\": [[0.0, \"#0d0887\"], [0.1111111111111111, \"#46039f\"], [0.2222222222222222, \"#7201a8\"], [0.3333333333333333, \"#9c179e\"], [0.4444444444444444, \"#bd3786\"], [0.5555555555555556, \"#d8576b\"], [0.6666666666666666, \"#ed7953\"], [0.7777777777777778, \"#fb9f3a\"], [0.8888888888888888, \"#fdca26\"], [1.0, \"#f0f921\"]]}, \"colorway\": [\"#636efa\", \"#EF553B\", \"#00cc96\", \"#ab63fa\", \"#FFA15A\", \"#19d3f3\", \"#FF6692\", \"#B6E880\", \"#FF97FF\", \"#FECB52\"], \"font\": {\"color\": \"#2a3f5f\"}, \"geo\": {\"bgcolor\": \"white\", \"lakecolor\": \"white\", \"landcolor\": \"#E5ECF6\", \"showlakes\": true, \"showland\": true, \"subunitcolor\": \"white\"}, \"hoverlabel\": {\"align\": \"left\"}, \"hovermode\": \"closest\", \"mapbox\": {\"style\": \"light\"}, \"paper_bgcolor\": \"white\", \"plot_bgcolor\": \"#E5ECF6\", \"polar\": {\"angularaxis\": {\"gridcolor\": \"white\", \"linecolor\": \"white\", \"ticks\": \"\"}, \"bgcolor\": \"#E5ECF6\", \"radialaxis\": {\"gridcolor\": \"white\", \"linecolor\": \"white\", \"ticks\": \"\"}}, \"scene\": {\"xaxis\": {\"backgroundcolor\": \"#E5ECF6\", \"gridcolor\": \"white\", \"gridwidth\": 2, \"linecolor\": \"white\", \"showbackground\": true, \"ticks\": \"\", \"zerolinecolor\": \"white\"}, \"yaxis\": {\"backgroundcolor\": \"#E5ECF6\", \"gridcolor\": \"white\", \"gridwidth\": 2, \"linecolor\": \"white\", \"showbackground\": true, \"ticks\": \"\", \"zerolinecolor\": \"white\"}, \"zaxis\": {\"backgroundcolor\": \"#E5ECF6\", \"gridcolor\": \"white\", \"gridwidth\": 2, \"linecolor\": \"white\", \"showbackground\": true, \"ticks\": \"\", \"zerolinecolor\": \"white\"}}, \"shapedefaults\": {\"line\": {\"color\": \"#2a3f5f\"}}, \"ternary\": {\"aaxis\": {\"gridcolor\": \"white\", \"linecolor\": \"white\", \"ticks\": \"\"}, \"baxis\": {\"gridcolor\": \"white\", \"linecolor\": \"white\", \"ticks\": \"\"}, \"bgcolor\": \"#E5ECF6\", \"caxis\": {\"gridcolor\": \"white\", \"linecolor\": \"white\", \"ticks\": \"\"}}, \"title\": {\"x\": 0.05}, \"xaxis\": {\"automargin\": true, \"gridcolor\": \"white\", \"linecolor\": \"white\", \"ticks\": \"\", \"title\": {\"standoff\": 15}, \"zerolinecolor\": \"white\", \"zerolinewidth\": 2}, \"yaxis\": {\"automargin\": true, \"gridcolor\": \"white\", \"linecolor\": \"white\", \"ticks\": \"\", \"title\": {\"standoff\": 15}, \"zerolinecolor\": \"white\", \"zerolinewidth\": 2}}}, \"width\": 600, \"xaxis\": {\"range\": [0, 100], \"title\": {\"text\": \"epoch\"}}, \"yaxis\": {\"range\": [-6, 0], \"type\": \"log\"}},\n",
       "                        {\"responsive\": true}\n",
       "                    ).then(function(){\n",
       "                            \n",
       "var gd = document.getElementById('c57bf06c-f429-426d-9742-2c242ea60b23');\n",
       "var x = new MutationObserver(function (mutations, observer) {{\n",
       "        var display = window.getComputedStyle(gd).display;\n",
       "        if (!display || display === 'none') {{\n",
       "            console.log([gd, 'removed!']);\n",
       "            Plotly.purge(gd);\n",
       "            observer.disconnect();\n",
       "        }}\n",
       "}});\n",
       "\n",
       "// Listen for the removal of the full notebook cells\n",
       "var notebookContainer = gd.closest('#notebook-container');\n",
       "if (notebookContainer) {{\n",
       "    x.observe(notebookContainer, {childList: true});\n",
       "}}\n",
       "\n",
       "// Listen for the clearing of the current output cell\n",
       "var outputEl = gd.closest('.output');\n",
       "if (outputEl) {{\n",
       "    x.observe(outputEl, {childList: true});\n",
       "}}\n",
       "\n",
       "                        })\n",
       "                };\n",
       "                });\n",
       "            </script>\n",
       "        </div>"
      ]
     },
     "metadata": {},
     "output_type": "display_data"
    }
   ],
   "source": [
    "fig = go.Figure()\n",
    "plot_history(fig, history)\n",
    "fig.show()"
   ]
  },
  {
   "cell_type": "code",
   "execution_count": 202,
   "metadata": {},
   "outputs": [
    {
     "data": {
      "application/vnd.plotly.v1+json": {
       "config": {
        "plotlyServerURL": "https://plot.ly"
       },
       "data": [
        {
         "type": "scatter",
         "x": [
          -1,
          -0.984375,
          -0.96875,
          -0.953125,
          -0.9375,
          -0.921875,
          -0.90625,
          -0.890625,
          -0.875,
          -0.859375,
          -0.84375,
          -0.828125,
          -0.8125,
          -0.796875,
          -0.78125,
          -0.765625,
          -0.75,
          -0.734375,
          -0.71875,
          -0.703125,
          -0.6875,
          -0.671875,
          -0.65625,
          -0.640625,
          -0.625,
          -0.609375,
          -0.59375,
          -0.578125,
          -0.5625,
          -0.546875,
          -0.53125,
          -0.515625,
          -0.5,
          -0.484375,
          -0.46875,
          -0.453125,
          -0.4375,
          -0.421875,
          -0.40625,
          -0.390625,
          -0.375,
          -0.359375,
          -0.34375,
          -0.328125,
          -0.3125,
          -0.296875,
          -0.28125,
          -0.265625,
          -0.25,
          -0.234375,
          -0.21875,
          -0.203125,
          -0.1875,
          -0.171875,
          -0.15625,
          -0.140625,
          -0.125,
          -0.109375,
          -0.09375,
          -0.078125,
          -0.0625,
          -0.046875,
          -0.03125,
          -0.015625,
          0,
          0.015625,
          0.03125,
          0.046875,
          0.0625,
          0.078125,
          0.09375,
          0.109375,
          0.125,
          0.140625,
          0.15625,
          0.171875,
          0.1875,
          0.203125,
          0.21875,
          0.234375,
          0.25,
          0.265625,
          0.28125,
          0.296875,
          0.3125,
          0.328125,
          0.34375,
          0.359375,
          0.375,
          0.390625,
          0.40625,
          0.421875,
          0.4375,
          0.453125,
          0.46875,
          0.484375,
          0.5,
          0.515625,
          0.53125,
          0.546875,
          0.5625,
          0.578125,
          0.59375,
          0.609375,
          0.625,
          0.640625,
          0.65625,
          0.671875,
          0.6875,
          0.703125,
          0.71875,
          0.734375,
          0.75,
          0.765625,
          0.78125,
          0.796875,
          0.8125,
          0.828125,
          0.84375,
          0.859375,
          0.875,
          0.890625,
          0.90625,
          0.921875,
          0.9375,
          0.953125,
          0.96875,
          0.984375,
          1
         ],
         "y": [
          0.006487458944320679,
          0.005676440777279024,
          0.004886086971993997,
          0.004117690877901037,
          0.0033730827349387482,
          0.002653630605485957,
          0.00196070099004797,
          0.0012957016004844224,
          0.0006600043414968226,
          5.49869546728754e-05,
          0.0005182834672574632,
          0.0010587117621900788,
          0.0015652535943424528,
          0.002036875444543007,
          0.0024727532327211144,
          0.0028723518408425575,
          0.0032349681854247914,
          0.0035599894035817092,
          0.0038473891659237536,
          0.004096971834198659,
          0.004308450443358924,
          0.004482179494140759,
          0.004618575385813006,
          0.004717893185284594,
          0.004780717110365984,
          0.004807972368957136,
          0.004800577284196694,
          0.004759689088491559,
          0.00468635099224235,
          0.004582149544238967,
          0.004448736204233028,
          0.004287702931502491,
          0.00410075187683101,
          0.0038900396699887985,
          0.00365762313525142,
          0.0034056751018645137,
          0.0031362183758469886,
          0.002851808182316118,
          0.002555017149558303,
          0.0022480340232234886,
          0.001933448935208304,
          0.0016139006485810237,
          0.0012917779418578634,
          0.000969690532444667,
          0.0006503984597230339,
          0.0003363194421772686,
          2.974708695213657e-05,
          0.00026657719976408423,
          0.0005504453883451443,
          0.000819497791547219,
          0.0010716129104777483,
          0.0013046428299173796,
          0.0015165661865810254,
          0.0017058193782565345,
          0.0018703149430971955,
          0.0020090204293230496,
          0.0021204939255348165,
          0.0022037396816350086,
          0.0022578661808778655,
          0.00228245308664754,
          0.0022770764762789497,
          0.0022418989188488503,
          0.00217711832465195,
          0.0020834803435754168,
          0.001961827278137207,
          0.0018134713027428973,
          0.0016399612659361296,
          0.001443196678858616,
          0.0012252929145724067,
          0.000988793876442462,
          0.0007365172276307952,
          0.0004710326580144031,
          0.0001960983643165548,
          8.548678808417698e-05,
          0.0003701640493649627,
          0.0006542265316250573,
          0.0009342575972934863,
          0.0012066796684041536,
          0.0014678429801777693,
          0.001714534076433738,
          0.0019435917629915256,
          0.0021518812619973904,
          0.0023365660490493045,
          0.0024951400712971417,
          0.0026257559922242546,
          0.002726120204685878,
          0.002795603129540969,
          0.0028321599831452327,
          0.002835982466397269,
          0.002806589149413674,
          0.002744381106009719,
          0.0026499868551066452,
          0.002524376697227604,
          0.0023694483524443477,
          0.00218669971148433,
          0.0019783995027524703,
          0.0017472624778747115,
          0.001496178998091846,
          0.0012281184330843464,
          0.0009464450268744651,
          0.0006548716335692539,
          0.00035675358357822873,
          5.61667693651513e-05,
          0.00024340206646766838,
          0.0005376265290077953,
          0.0008231334069700447,
          0.0010958411180932437,
          0.0013520423457640263,
          0.0015881178549809194,
          0.0018004905338128152,
          0.0019859386043094007,
          0.0021412544738291794,
          0.0022633218765258922,
          0.002349432273995089,
          0.0023968866407835243,
          0.002403312963354942,
          0.0023666860075557405,
          0.0022851088097093353,
          0.002156951804196394,
          0.001980276585562768,
          0.001754584038152096,
          0.0014782706274314439,
          0.0011508526814847375,
          0.0007716735513477735,
          0.00034027919947732244,
          0.00014368359567074052,
          0.0006797947571319796,
          0.0012685136180151657,
          0.0019091367721557617
         ]
        }
       ],
       "layout": {
        "template": {
         "data": {
          "bar": [
           {
            "error_x": {
             "color": "#2a3f5f"
            },
            "error_y": {
             "color": "#2a3f5f"
            },
            "marker": {
             "line": {
              "color": "#E5ECF6",
              "width": 0.5
             }
            },
            "type": "bar"
           }
          ],
          "barpolar": [
           {
            "marker": {
             "line": {
              "color": "#E5ECF6",
              "width": 0.5
             }
            },
            "type": "barpolar"
           }
          ],
          "carpet": [
           {
            "aaxis": {
             "endlinecolor": "#2a3f5f",
             "gridcolor": "white",
             "linecolor": "white",
             "minorgridcolor": "white",
             "startlinecolor": "#2a3f5f"
            },
            "baxis": {
             "endlinecolor": "#2a3f5f",
             "gridcolor": "white",
             "linecolor": "white",
             "minorgridcolor": "white",
             "startlinecolor": "#2a3f5f"
            },
            "type": "carpet"
           }
          ],
          "choropleth": [
           {
            "colorbar": {
             "outlinewidth": 0,
             "ticks": ""
            },
            "type": "choropleth"
           }
          ],
          "contour": [
           {
            "colorbar": {
             "outlinewidth": 0,
             "ticks": ""
            },
            "colorscale": [
             [
              0,
              "#0d0887"
             ],
             [
              0.1111111111111111,
              "#46039f"
             ],
             [
              0.2222222222222222,
              "#7201a8"
             ],
             [
              0.3333333333333333,
              "#9c179e"
             ],
             [
              0.4444444444444444,
              "#bd3786"
             ],
             [
              0.5555555555555556,
              "#d8576b"
             ],
             [
              0.6666666666666666,
              "#ed7953"
             ],
             [
              0.7777777777777778,
              "#fb9f3a"
             ],
             [
              0.8888888888888888,
              "#fdca26"
             ],
             [
              1,
              "#f0f921"
             ]
            ],
            "type": "contour"
           }
          ],
          "contourcarpet": [
           {
            "colorbar": {
             "outlinewidth": 0,
             "ticks": ""
            },
            "type": "contourcarpet"
           }
          ],
          "heatmap": [
           {
            "colorbar": {
             "outlinewidth": 0,
             "ticks": ""
            },
            "colorscale": [
             [
              0,
              "#0d0887"
             ],
             [
              0.1111111111111111,
              "#46039f"
             ],
             [
              0.2222222222222222,
              "#7201a8"
             ],
             [
              0.3333333333333333,
              "#9c179e"
             ],
             [
              0.4444444444444444,
              "#bd3786"
             ],
             [
              0.5555555555555556,
              "#d8576b"
             ],
             [
              0.6666666666666666,
              "#ed7953"
             ],
             [
              0.7777777777777778,
              "#fb9f3a"
             ],
             [
              0.8888888888888888,
              "#fdca26"
             ],
             [
              1,
              "#f0f921"
             ]
            ],
            "type": "heatmap"
           }
          ],
          "heatmapgl": [
           {
            "colorbar": {
             "outlinewidth": 0,
             "ticks": ""
            },
            "colorscale": [
             [
              0,
              "#0d0887"
             ],
             [
              0.1111111111111111,
              "#46039f"
             ],
             [
              0.2222222222222222,
              "#7201a8"
             ],
             [
              0.3333333333333333,
              "#9c179e"
             ],
             [
              0.4444444444444444,
              "#bd3786"
             ],
             [
              0.5555555555555556,
              "#d8576b"
             ],
             [
              0.6666666666666666,
              "#ed7953"
             ],
             [
              0.7777777777777778,
              "#fb9f3a"
             ],
             [
              0.8888888888888888,
              "#fdca26"
             ],
             [
              1,
              "#f0f921"
             ]
            ],
            "type": "heatmapgl"
           }
          ],
          "histogram": [
           {
            "marker": {
             "colorbar": {
              "outlinewidth": 0,
              "ticks": ""
             }
            },
            "type": "histogram"
           }
          ],
          "histogram2d": [
           {
            "colorbar": {
             "outlinewidth": 0,
             "ticks": ""
            },
            "colorscale": [
             [
              0,
              "#0d0887"
             ],
             [
              0.1111111111111111,
              "#46039f"
             ],
             [
              0.2222222222222222,
              "#7201a8"
             ],
             [
              0.3333333333333333,
              "#9c179e"
             ],
             [
              0.4444444444444444,
              "#bd3786"
             ],
             [
              0.5555555555555556,
              "#d8576b"
             ],
             [
              0.6666666666666666,
              "#ed7953"
             ],
             [
              0.7777777777777778,
              "#fb9f3a"
             ],
             [
              0.8888888888888888,
              "#fdca26"
             ],
             [
              1,
              "#f0f921"
             ]
            ],
            "type": "histogram2d"
           }
          ],
          "histogram2dcontour": [
           {
            "colorbar": {
             "outlinewidth": 0,
             "ticks": ""
            },
            "colorscale": [
             [
              0,
              "#0d0887"
             ],
             [
              0.1111111111111111,
              "#46039f"
             ],
             [
              0.2222222222222222,
              "#7201a8"
             ],
             [
              0.3333333333333333,
              "#9c179e"
             ],
             [
              0.4444444444444444,
              "#bd3786"
             ],
             [
              0.5555555555555556,
              "#d8576b"
             ],
             [
              0.6666666666666666,
              "#ed7953"
             ],
             [
              0.7777777777777778,
              "#fb9f3a"
             ],
             [
              0.8888888888888888,
              "#fdca26"
             ],
             [
              1,
              "#f0f921"
             ]
            ],
            "type": "histogram2dcontour"
           }
          ],
          "mesh3d": [
           {
            "colorbar": {
             "outlinewidth": 0,
             "ticks": ""
            },
            "type": "mesh3d"
           }
          ],
          "parcoords": [
           {
            "line": {
             "colorbar": {
              "outlinewidth": 0,
              "ticks": ""
             }
            },
            "type": "parcoords"
           }
          ],
          "pie": [
           {
            "automargin": true,
            "type": "pie"
           }
          ],
          "scatter": [
           {
            "marker": {
             "colorbar": {
              "outlinewidth": 0,
              "ticks": ""
             }
            },
            "type": "scatter"
           }
          ],
          "scatter3d": [
           {
            "line": {
             "colorbar": {
              "outlinewidth": 0,
              "ticks": ""
             }
            },
            "marker": {
             "colorbar": {
              "outlinewidth": 0,
              "ticks": ""
             }
            },
            "type": "scatter3d"
           }
          ],
          "scattercarpet": [
           {
            "marker": {
             "colorbar": {
              "outlinewidth": 0,
              "ticks": ""
             }
            },
            "type": "scattercarpet"
           }
          ],
          "scattergeo": [
           {
            "marker": {
             "colorbar": {
              "outlinewidth": 0,
              "ticks": ""
             }
            },
            "type": "scattergeo"
           }
          ],
          "scattergl": [
           {
            "marker": {
             "colorbar": {
              "outlinewidth": 0,
              "ticks": ""
             }
            },
            "type": "scattergl"
           }
          ],
          "scattermapbox": [
           {
            "marker": {
             "colorbar": {
              "outlinewidth": 0,
              "ticks": ""
             }
            },
            "type": "scattermapbox"
           }
          ],
          "scatterpolar": [
           {
            "marker": {
             "colorbar": {
              "outlinewidth": 0,
              "ticks": ""
             }
            },
            "type": "scatterpolar"
           }
          ],
          "scatterpolargl": [
           {
            "marker": {
             "colorbar": {
              "outlinewidth": 0,
              "ticks": ""
             }
            },
            "type": "scatterpolargl"
           }
          ],
          "scatterternary": [
           {
            "marker": {
             "colorbar": {
              "outlinewidth": 0,
              "ticks": ""
             }
            },
            "type": "scatterternary"
           }
          ],
          "surface": [
           {
            "colorbar": {
             "outlinewidth": 0,
             "ticks": ""
            },
            "colorscale": [
             [
              0,
              "#0d0887"
             ],
             [
              0.1111111111111111,
              "#46039f"
             ],
             [
              0.2222222222222222,
              "#7201a8"
             ],
             [
              0.3333333333333333,
              "#9c179e"
             ],
             [
              0.4444444444444444,
              "#bd3786"
             ],
             [
              0.5555555555555556,
              "#d8576b"
             ],
             [
              0.6666666666666666,
              "#ed7953"
             ],
             [
              0.7777777777777778,
              "#fb9f3a"
             ],
             [
              0.8888888888888888,
              "#fdca26"
             ],
             [
              1,
              "#f0f921"
             ]
            ],
            "type": "surface"
           }
          ],
          "table": [
           {
            "cells": {
             "fill": {
              "color": "#EBF0F8"
             },
             "line": {
              "color": "white"
             }
            },
            "header": {
             "fill": {
              "color": "#C8D4E3"
             },
             "line": {
              "color": "white"
             }
            },
            "type": "table"
           }
          ]
         },
         "layout": {
          "annotationdefaults": {
           "arrowcolor": "#2a3f5f",
           "arrowhead": 0,
           "arrowwidth": 1
          },
          "coloraxis": {
           "colorbar": {
            "outlinewidth": 0,
            "ticks": ""
           }
          },
          "colorscale": {
           "diverging": [
            [
             0,
             "#8e0152"
            ],
            [
             0.1,
             "#c51b7d"
            ],
            [
             0.2,
             "#de77ae"
            ],
            [
             0.3,
             "#f1b6da"
            ],
            [
             0.4,
             "#fde0ef"
            ],
            [
             0.5,
             "#f7f7f7"
            ],
            [
             0.6,
             "#e6f5d0"
            ],
            [
             0.7,
             "#b8e186"
            ],
            [
             0.8,
             "#7fbc41"
            ],
            [
             0.9,
             "#4d9221"
            ],
            [
             1,
             "#276419"
            ]
           ],
           "sequential": [
            [
             0,
             "#0d0887"
            ],
            [
             0.1111111111111111,
             "#46039f"
            ],
            [
             0.2222222222222222,
             "#7201a8"
            ],
            [
             0.3333333333333333,
             "#9c179e"
            ],
            [
             0.4444444444444444,
             "#bd3786"
            ],
            [
             0.5555555555555556,
             "#d8576b"
            ],
            [
             0.6666666666666666,
             "#ed7953"
            ],
            [
             0.7777777777777778,
             "#fb9f3a"
            ],
            [
             0.8888888888888888,
             "#fdca26"
            ],
            [
             1,
             "#f0f921"
            ]
           ],
           "sequentialminus": [
            [
             0,
             "#0d0887"
            ],
            [
             0.1111111111111111,
             "#46039f"
            ],
            [
             0.2222222222222222,
             "#7201a8"
            ],
            [
             0.3333333333333333,
             "#9c179e"
            ],
            [
             0.4444444444444444,
             "#bd3786"
            ],
            [
             0.5555555555555556,
             "#d8576b"
            ],
            [
             0.6666666666666666,
             "#ed7953"
            ],
            [
             0.7777777777777778,
             "#fb9f3a"
            ],
            [
             0.8888888888888888,
             "#fdca26"
            ],
            [
             1,
             "#f0f921"
            ]
           ]
          },
          "colorway": [
           "#636efa",
           "#EF553B",
           "#00cc96",
           "#ab63fa",
           "#FFA15A",
           "#19d3f3",
           "#FF6692",
           "#B6E880",
           "#FF97FF",
           "#FECB52"
          ],
          "font": {
           "color": "#2a3f5f"
          },
          "geo": {
           "bgcolor": "white",
           "lakecolor": "white",
           "landcolor": "#E5ECF6",
           "showlakes": true,
           "showland": true,
           "subunitcolor": "white"
          },
          "hoverlabel": {
           "align": "left"
          },
          "hovermode": "closest",
          "mapbox": {
           "style": "light"
          },
          "paper_bgcolor": "white",
          "plot_bgcolor": "#E5ECF6",
          "polar": {
           "angularaxis": {
            "gridcolor": "white",
            "linecolor": "white",
            "ticks": ""
           },
           "bgcolor": "#E5ECF6",
           "radialaxis": {
            "gridcolor": "white",
            "linecolor": "white",
            "ticks": ""
           }
          },
          "scene": {
           "xaxis": {
            "backgroundcolor": "#E5ECF6",
            "gridcolor": "white",
            "gridwidth": 2,
            "linecolor": "white",
            "showbackground": true,
            "ticks": "",
            "zerolinecolor": "white"
           },
           "yaxis": {
            "backgroundcolor": "#E5ECF6",
            "gridcolor": "white",
            "gridwidth": 2,
            "linecolor": "white",
            "showbackground": true,
            "ticks": "",
            "zerolinecolor": "white"
           },
           "zaxis": {
            "backgroundcolor": "#E5ECF6",
            "gridcolor": "white",
            "gridwidth": 2,
            "linecolor": "white",
            "showbackground": true,
            "ticks": "",
            "zerolinecolor": "white"
           }
          },
          "shapedefaults": {
           "line": {
            "color": "#2a3f5f"
           }
          },
          "ternary": {
           "aaxis": {
            "gridcolor": "white",
            "linecolor": "white",
            "ticks": ""
           },
           "baxis": {
            "gridcolor": "white",
            "linecolor": "white",
            "ticks": ""
           },
           "bgcolor": "#E5ECF6",
           "caxis": {
            "gridcolor": "white",
            "linecolor": "white",
            "ticks": ""
           }
          },
          "title": {
           "x": 0.05
          },
          "xaxis": {
           "automargin": true,
           "gridcolor": "white",
           "linecolor": "white",
           "ticks": "",
           "title": {
            "standoff": 15
           },
           "zerolinecolor": "white",
           "zerolinewidth": 2
          },
          "yaxis": {
           "automargin": true,
           "gridcolor": "white",
           "linecolor": "white",
           "ticks": "",
           "title": {
            "standoff": 15
           },
           "zerolinecolor": "white",
           "zerolinewidth": 2
          }
         }
        },
        "title": {
         "text": "absolute error vs x"
        },
        "width": 600,
        "xaxis": {
         "range": [
          -1,
          1
         ],
         "title": {
          "text": "x"
         }
        },
        "yaxis": {
         "range": [
          -6,
          -1
         ],
         "type": "log"
        }
       }
      },
      "text/html": [
       "<div>\n",
       "        \n",
       "        \n",
       "            <div id=\"da512f94-03d5-49e9-a039-747400fc5eba\" class=\"plotly-graph-div\" style=\"height:525px; width:600px;\"></div>\n",
       "            <script type=\"text/javascript\">\n",
       "                require([\"plotly\"], function(Plotly) {\n",
       "                    window.PLOTLYENV=window.PLOTLYENV || {};\n",
       "                    \n",
       "                if (document.getElementById(\"da512f94-03d5-49e9-a039-747400fc5eba\")) {\n",
       "                    Plotly.newPlot(\n",
       "                        'da512f94-03d5-49e9-a039-747400fc5eba',\n",
       "                        [{\"type\": \"scatter\", \"x\": [-1.0, -0.984375, -0.96875, -0.953125, -0.9375, -0.921875, -0.90625, -0.890625, -0.875, -0.859375, -0.84375, -0.828125, -0.8125, -0.796875, -0.78125, -0.765625, -0.75, -0.734375, -0.71875, -0.703125, -0.6875, -0.671875, -0.65625, -0.640625, -0.625, -0.609375, -0.59375, -0.578125, -0.5625, -0.546875, -0.53125, -0.515625, -0.5, -0.484375, -0.46875, -0.453125, -0.4375, -0.421875, -0.40625, -0.390625, -0.375, -0.359375, -0.34375, -0.328125, -0.3125, -0.296875, -0.28125, -0.265625, -0.25, -0.234375, -0.21875, -0.203125, -0.1875, -0.171875, -0.15625, -0.140625, -0.125, -0.109375, -0.09375, -0.078125, -0.0625, -0.046875, -0.03125, -0.015625, 0.0, 0.015625, 0.03125, 0.046875, 0.0625, 0.078125, 0.09375, 0.109375, 0.125, 0.140625, 0.15625, 0.171875, 0.1875, 0.203125, 0.21875, 0.234375, 0.25, 0.265625, 0.28125, 0.296875, 0.3125, 0.328125, 0.34375, 0.359375, 0.375, 0.390625, 0.40625, 0.421875, 0.4375, 0.453125, 0.46875, 0.484375, 0.5, 0.515625, 0.53125, 0.546875, 0.5625, 0.578125, 0.59375, 0.609375, 0.625, 0.640625, 0.65625, 0.671875, 0.6875, 0.703125, 0.71875, 0.734375, 0.75, 0.765625, 0.78125, 0.796875, 0.8125, 0.828125, 0.84375, 0.859375, 0.875, 0.890625, 0.90625, 0.921875, 0.9375, 0.953125, 0.96875, 0.984375, 1.0], \"y\": [0.006487458944320679, 0.005676440777279024, 0.004886086971993997, 0.004117690877901037, 0.0033730827349387482, 0.002653630605485957, 0.00196070099004797, 0.0012957016004844224, 0.0006600043414968226, 5.49869546728754e-05, 0.0005182834672574632, 0.0010587117621900788, 0.0015652535943424528, 0.002036875444543007, 0.0024727532327211144, 0.0028723518408425575, 0.0032349681854247914, 0.0035599894035817092, 0.0038473891659237536, 0.004096971834198659, 0.004308450443358924, 0.004482179494140759, 0.004618575385813006, 0.004717893185284594, 0.004780717110365984, 0.004807972368957136, 0.004800577284196694, 0.004759689088491559, 0.00468635099224235, 0.004582149544238967, 0.004448736204233028, 0.004287702931502491, 0.00410075187683101, 0.0038900396699887985, 0.00365762313525142, 0.0034056751018645137, 0.0031362183758469886, 0.002851808182316118, 0.002555017149558303, 0.0022480340232234886, 0.001933448935208304, 0.0016139006485810237, 0.0012917779418578634, 0.000969690532444667, 0.0006503984597230339, 0.0003363194421772686, 2.974708695213657e-05, 0.00026657719976408423, 0.0005504453883451443, 0.000819497791547219, 0.0010716129104777483, 0.0013046428299173796, 0.0015165661865810254, 0.0017058193782565345, 0.0018703149430971955, 0.0020090204293230496, 0.0021204939255348165, 0.0022037396816350086, 0.0022578661808778655, 0.00228245308664754, 0.0022770764762789497, 0.0022418989188488503, 0.00217711832465195, 0.0020834803435754168, 0.001961827278137207, 0.0018134713027428973, 0.0016399612659361296, 0.001443196678858616, 0.0012252929145724067, 0.000988793876442462, 0.0007365172276307952, 0.0004710326580144031, 0.0001960983643165548, 8.548678808417698e-05, 0.0003701640493649627, 0.0006542265316250573, 0.0009342575972934863, 0.0012066796684041536, 0.0014678429801777693, 0.001714534076433738, 0.0019435917629915256, 0.0021518812619973904, 0.0023365660490493045, 0.0024951400712971417, 0.0026257559922242546, 0.002726120204685878, 0.002795603129540969, 0.0028321599831452327, 0.002835982466397269, 0.002806589149413674, 0.002744381106009719, 0.0026499868551066452, 0.002524376697227604, 0.0023694483524443477, 0.00218669971148433, 0.0019783995027524703, 0.0017472624778747115, 0.001496178998091846, 0.0012281184330843464, 0.0009464450268744651, 0.0006548716335692539, 0.00035675358357822873, 5.61667693651513e-05, 0.00024340206646766838, 0.0005376265290077953, 0.0008231334069700447, 0.0010958411180932437, 0.0013520423457640263, 0.0015881178549809194, 0.0018004905338128152, 0.0019859386043094007, 0.0021412544738291794, 0.0022633218765258922, 0.002349432273995089, 0.0023968866407835243, 0.002403312963354942, 0.0023666860075557405, 0.0022851088097093353, 0.002156951804196394, 0.001980276585562768, 0.001754584038152096, 0.0014782706274314439, 0.0011508526814847375, 0.0007716735513477735, 0.00034027919947732244, 0.00014368359567074052, 0.0006797947571319796, 0.0012685136180151657, 0.0019091367721557617]}],\n",
       "                        {\"template\": {\"data\": {\"bar\": [{\"error_x\": {\"color\": \"#2a3f5f\"}, \"error_y\": {\"color\": \"#2a3f5f\"}, \"marker\": {\"line\": {\"color\": \"#E5ECF6\", \"width\": 0.5}}, \"type\": \"bar\"}], \"barpolar\": [{\"marker\": {\"line\": {\"color\": \"#E5ECF6\", \"width\": 0.5}}, \"type\": \"barpolar\"}], \"carpet\": [{\"aaxis\": {\"endlinecolor\": \"#2a3f5f\", \"gridcolor\": \"white\", \"linecolor\": \"white\", \"minorgridcolor\": \"white\", \"startlinecolor\": \"#2a3f5f\"}, \"baxis\": {\"endlinecolor\": \"#2a3f5f\", \"gridcolor\": \"white\", \"linecolor\": \"white\", \"minorgridcolor\": \"white\", \"startlinecolor\": \"#2a3f5f\"}, \"type\": \"carpet\"}], \"choropleth\": [{\"colorbar\": {\"outlinewidth\": 0, \"ticks\": \"\"}, \"type\": \"choropleth\"}], \"contour\": [{\"colorbar\": {\"outlinewidth\": 0, \"ticks\": \"\"}, \"colorscale\": [[0.0, \"#0d0887\"], [0.1111111111111111, \"#46039f\"], [0.2222222222222222, \"#7201a8\"], [0.3333333333333333, \"#9c179e\"], [0.4444444444444444, \"#bd3786\"], [0.5555555555555556, \"#d8576b\"], [0.6666666666666666, \"#ed7953\"], [0.7777777777777778, \"#fb9f3a\"], [0.8888888888888888, \"#fdca26\"], [1.0, \"#f0f921\"]], \"type\": \"contour\"}], \"contourcarpet\": [{\"colorbar\": {\"outlinewidth\": 0, \"ticks\": \"\"}, \"type\": \"contourcarpet\"}], \"heatmap\": [{\"colorbar\": {\"outlinewidth\": 0, \"ticks\": \"\"}, \"colorscale\": [[0.0, \"#0d0887\"], [0.1111111111111111, \"#46039f\"], [0.2222222222222222, \"#7201a8\"], [0.3333333333333333, \"#9c179e\"], [0.4444444444444444, \"#bd3786\"], [0.5555555555555556, \"#d8576b\"], [0.6666666666666666, \"#ed7953\"], [0.7777777777777778, \"#fb9f3a\"], [0.8888888888888888, \"#fdca26\"], [1.0, \"#f0f921\"]], \"type\": \"heatmap\"}], \"heatmapgl\": [{\"colorbar\": {\"outlinewidth\": 0, \"ticks\": \"\"}, \"colorscale\": [[0.0, \"#0d0887\"], [0.1111111111111111, \"#46039f\"], [0.2222222222222222, \"#7201a8\"], [0.3333333333333333, \"#9c179e\"], [0.4444444444444444, \"#bd3786\"], [0.5555555555555556, \"#d8576b\"], [0.6666666666666666, \"#ed7953\"], [0.7777777777777778, \"#fb9f3a\"], [0.8888888888888888, \"#fdca26\"], [1.0, \"#f0f921\"]], \"type\": \"heatmapgl\"}], \"histogram\": [{\"marker\": {\"colorbar\": {\"outlinewidth\": 0, \"ticks\": \"\"}}, \"type\": \"histogram\"}], \"histogram2d\": [{\"colorbar\": {\"outlinewidth\": 0, \"ticks\": \"\"}, \"colorscale\": [[0.0, \"#0d0887\"], [0.1111111111111111, \"#46039f\"], [0.2222222222222222, \"#7201a8\"], [0.3333333333333333, \"#9c179e\"], [0.4444444444444444, \"#bd3786\"], [0.5555555555555556, \"#d8576b\"], [0.6666666666666666, \"#ed7953\"], [0.7777777777777778, \"#fb9f3a\"], [0.8888888888888888, \"#fdca26\"], [1.0, \"#f0f921\"]], \"type\": \"histogram2d\"}], \"histogram2dcontour\": [{\"colorbar\": {\"outlinewidth\": 0, \"ticks\": \"\"}, \"colorscale\": [[0.0, \"#0d0887\"], [0.1111111111111111, \"#46039f\"], [0.2222222222222222, \"#7201a8\"], [0.3333333333333333, \"#9c179e\"], [0.4444444444444444, \"#bd3786\"], [0.5555555555555556, \"#d8576b\"], [0.6666666666666666, \"#ed7953\"], [0.7777777777777778, \"#fb9f3a\"], [0.8888888888888888, \"#fdca26\"], [1.0, \"#f0f921\"]], \"type\": \"histogram2dcontour\"}], \"mesh3d\": [{\"colorbar\": {\"outlinewidth\": 0, \"ticks\": \"\"}, \"type\": \"mesh3d\"}], \"parcoords\": [{\"line\": {\"colorbar\": {\"outlinewidth\": 0, \"ticks\": \"\"}}, \"type\": \"parcoords\"}], \"pie\": [{\"automargin\": true, \"type\": \"pie\"}], \"scatter\": [{\"marker\": {\"colorbar\": {\"outlinewidth\": 0, \"ticks\": \"\"}}, \"type\": \"scatter\"}], \"scatter3d\": [{\"line\": {\"colorbar\": {\"outlinewidth\": 0, \"ticks\": \"\"}}, \"marker\": {\"colorbar\": {\"outlinewidth\": 0, \"ticks\": \"\"}}, \"type\": \"scatter3d\"}], \"scattercarpet\": [{\"marker\": {\"colorbar\": {\"outlinewidth\": 0, \"ticks\": \"\"}}, \"type\": \"scattercarpet\"}], \"scattergeo\": [{\"marker\": {\"colorbar\": {\"outlinewidth\": 0, \"ticks\": \"\"}}, \"type\": \"scattergeo\"}], \"scattergl\": [{\"marker\": {\"colorbar\": {\"outlinewidth\": 0, \"ticks\": \"\"}}, \"type\": \"scattergl\"}], \"scattermapbox\": [{\"marker\": {\"colorbar\": {\"outlinewidth\": 0, \"ticks\": \"\"}}, \"type\": \"scattermapbox\"}], \"scatterpolar\": [{\"marker\": {\"colorbar\": {\"outlinewidth\": 0, \"ticks\": \"\"}}, \"type\": \"scatterpolar\"}], \"scatterpolargl\": [{\"marker\": {\"colorbar\": {\"outlinewidth\": 0, \"ticks\": \"\"}}, \"type\": \"scatterpolargl\"}], \"scatterternary\": [{\"marker\": {\"colorbar\": {\"outlinewidth\": 0, \"ticks\": \"\"}}, \"type\": \"scatterternary\"}], \"surface\": [{\"colorbar\": {\"outlinewidth\": 0, \"ticks\": \"\"}, \"colorscale\": [[0.0, \"#0d0887\"], [0.1111111111111111, \"#46039f\"], [0.2222222222222222, \"#7201a8\"], [0.3333333333333333, \"#9c179e\"], [0.4444444444444444, \"#bd3786\"], [0.5555555555555556, \"#d8576b\"], [0.6666666666666666, \"#ed7953\"], [0.7777777777777778, \"#fb9f3a\"], [0.8888888888888888, \"#fdca26\"], [1.0, \"#f0f921\"]], \"type\": \"surface\"}], \"table\": [{\"cells\": {\"fill\": {\"color\": \"#EBF0F8\"}, \"line\": {\"color\": \"white\"}}, \"header\": {\"fill\": {\"color\": \"#C8D4E3\"}, \"line\": {\"color\": \"white\"}}, \"type\": \"table\"}]}, \"layout\": {\"annotationdefaults\": {\"arrowcolor\": \"#2a3f5f\", \"arrowhead\": 0, \"arrowwidth\": 1}, \"coloraxis\": {\"colorbar\": {\"outlinewidth\": 0, \"ticks\": \"\"}}, \"colorscale\": {\"diverging\": [[0, \"#8e0152\"], [0.1, \"#c51b7d\"], [0.2, \"#de77ae\"], [0.3, \"#f1b6da\"], [0.4, \"#fde0ef\"], [0.5, \"#f7f7f7\"], [0.6, \"#e6f5d0\"], [0.7, \"#b8e186\"], [0.8, \"#7fbc41\"], [0.9, \"#4d9221\"], [1, \"#276419\"]], \"sequential\": [[0.0, \"#0d0887\"], [0.1111111111111111, \"#46039f\"], [0.2222222222222222, \"#7201a8\"], [0.3333333333333333, \"#9c179e\"], [0.4444444444444444, \"#bd3786\"], [0.5555555555555556, \"#d8576b\"], [0.6666666666666666, \"#ed7953\"], [0.7777777777777778, \"#fb9f3a\"], [0.8888888888888888, \"#fdca26\"], [1.0, \"#f0f921\"]], \"sequentialminus\": [[0.0, \"#0d0887\"], [0.1111111111111111, \"#46039f\"], [0.2222222222222222, \"#7201a8\"], [0.3333333333333333, \"#9c179e\"], [0.4444444444444444, \"#bd3786\"], [0.5555555555555556, \"#d8576b\"], [0.6666666666666666, \"#ed7953\"], [0.7777777777777778, \"#fb9f3a\"], [0.8888888888888888, \"#fdca26\"], [1.0, \"#f0f921\"]]}, \"colorway\": [\"#636efa\", \"#EF553B\", \"#00cc96\", \"#ab63fa\", \"#FFA15A\", \"#19d3f3\", \"#FF6692\", \"#B6E880\", \"#FF97FF\", \"#FECB52\"], \"font\": {\"color\": \"#2a3f5f\"}, \"geo\": {\"bgcolor\": \"white\", \"lakecolor\": \"white\", \"landcolor\": \"#E5ECF6\", \"showlakes\": true, \"showland\": true, \"subunitcolor\": \"white\"}, \"hoverlabel\": {\"align\": \"left\"}, \"hovermode\": \"closest\", \"mapbox\": {\"style\": \"light\"}, \"paper_bgcolor\": \"white\", \"plot_bgcolor\": \"#E5ECF6\", \"polar\": {\"angularaxis\": {\"gridcolor\": \"white\", \"linecolor\": \"white\", \"ticks\": \"\"}, \"bgcolor\": \"#E5ECF6\", \"radialaxis\": {\"gridcolor\": \"white\", \"linecolor\": \"white\", \"ticks\": \"\"}}, \"scene\": {\"xaxis\": {\"backgroundcolor\": \"#E5ECF6\", \"gridcolor\": \"white\", \"gridwidth\": 2, \"linecolor\": \"white\", \"showbackground\": true, \"ticks\": \"\", \"zerolinecolor\": \"white\"}, \"yaxis\": {\"backgroundcolor\": \"#E5ECF6\", \"gridcolor\": \"white\", \"gridwidth\": 2, \"linecolor\": \"white\", \"showbackground\": true, \"ticks\": \"\", \"zerolinecolor\": \"white\"}, \"zaxis\": {\"backgroundcolor\": \"#E5ECF6\", \"gridcolor\": \"white\", \"gridwidth\": 2, \"linecolor\": \"white\", \"showbackground\": true, \"ticks\": \"\", \"zerolinecolor\": \"white\"}}, \"shapedefaults\": {\"line\": {\"color\": \"#2a3f5f\"}}, \"ternary\": {\"aaxis\": {\"gridcolor\": \"white\", \"linecolor\": \"white\", \"ticks\": \"\"}, \"baxis\": {\"gridcolor\": \"white\", \"linecolor\": \"white\", \"ticks\": \"\"}, \"bgcolor\": \"#E5ECF6\", \"caxis\": {\"gridcolor\": \"white\", \"linecolor\": \"white\", \"ticks\": \"\"}}, \"title\": {\"x\": 0.05}, \"xaxis\": {\"automargin\": true, \"gridcolor\": \"white\", \"linecolor\": \"white\", \"ticks\": \"\", \"title\": {\"standoff\": 15}, \"zerolinecolor\": \"white\", \"zerolinewidth\": 2}, \"yaxis\": {\"automargin\": true, \"gridcolor\": \"white\", \"linecolor\": \"white\", \"ticks\": \"\", \"title\": {\"standoff\": 15}, \"zerolinecolor\": \"white\", \"zerolinewidth\": 2}}}, \"title\": {\"text\": \"absolute error vs x\"}, \"width\": 600, \"xaxis\": {\"range\": [-1, 1], \"title\": {\"text\": \"x\"}}, \"yaxis\": {\"range\": [-6, -1], \"type\": \"log\"}},\n",
       "                        {\"responsive\": true}\n",
       "                    ).then(function(){\n",
       "                            \n",
       "var gd = document.getElementById('da512f94-03d5-49e9-a039-747400fc5eba');\n",
       "var x = new MutationObserver(function (mutations, observer) {{\n",
       "        var display = window.getComputedStyle(gd).display;\n",
       "        if (!display || display === 'none') {{\n",
       "            console.log([gd, 'removed!']);\n",
       "            Plotly.purge(gd);\n",
       "            observer.disconnect();\n",
       "        }}\n",
       "}});\n",
       "\n",
       "// Listen for the removal of the full notebook cells\n",
       "var notebookContainer = gd.closest('#notebook-container');\n",
       "if (notebookContainer) {{\n",
       "    x.observe(notebookContainer, {childList: true});\n",
       "}}\n",
       "\n",
       "// Listen for the clearing of the current output cell\n",
       "var outputEl = gd.closest('.output');\n",
       "if (outputEl) {{\n",
       "    x.observe(outputEl, {childList: true});\n",
       "}}\n",
       "\n",
       "                        })\n",
       "                };\n",
       "                });\n",
       "            </script>\n",
       "        </div>"
      ]
     },
     "metadata": {},
     "output_type": "display_data"
    }
   ],
   "source": [
    "fig = go.Figure()\n",
    "plot_error(fig, model, X_test, y_test)\n",
    "fig.show()"
   ]
  },
  {
   "cell_type": "code",
   "execution_count": 203,
   "metadata": {},
   "outputs": [],
   "source": [
    "tf.random.set_seed(2020)\n",
    "\n",
    "class MyModel(keras.Model):\n",
    "    def __init__(self, **kwargs):\n",
    "        super(MyModel, self).__init__(**kwargs) # handles standard args (e.g., name)\n",
    "        self.hidden1 = keras.layers.Dense(4, activation=\"tanh\")\n",
    "        self.hidden2 = keras.layers.Dense(4, activation=\"tanh\")\n",
    "        self.hidden3 = keras.layers.Dense(4, activation=\"tanh\")        \n",
    "        self.out = keras.layers.Dense(1, activation=\"linear\")\n",
    "\n",
    "    def call(self, input_):\n",
    "        hidden1 = self.hidden1(input_)\n",
    "        hidden2 = self.hidden2(hidden1)\n",
    "        hidden3 = self.hidden3(hidden2)        \n",
    "        concat = layers.Concatenate()([hidden1, hidden2, hidden3])\n",
    "        return self.out(concat)\n",
    "\n",
    "model = MyModel()"
   ]
  },
  {
   "cell_type": "code",
   "execution_count": 204,
   "metadata": {},
   "outputs": [
    {
     "name": "stdout",
     "output_type": "stream",
     "text": [
      "Train on 1025 samples, validate on 257 samples\n",
      "Epoch 1/100\n",
      "1025/1025 [==============================] - 1s 921us/sample - loss: 0.0995 - mse: 0.0995 - mae: 0.1852 - val_loss: 0.0270 - val_mse: 0.0270 - val_mae: 0.1296\n",
      "Epoch 2/100\n",
      "1025/1025 [==============================] - 0s 316us/sample - loss: 0.0128 - mse: 0.0128 - mae: 0.0995 - val_loss: 0.0116 - val_mse: 0.0116 - val_mae: 0.0931\n",
      "Epoch 3/100\n",
      "1025/1025 [==============================] - 0s 231us/sample - loss: 0.0093 - mse: 0.0093 - mae: 0.0851 - val_loss: 0.0145 - val_mse: 0.0145 - val_mae: 0.1056\n",
      "Epoch 4/100\n",
      "1025/1025 [==============================] - 0s 282us/sample - loss: 0.0064 - mse: 0.0064 - mae: 0.0702 - val_loss: 0.0062 - val_mse: 0.0062 - val_mae: 0.0675\n",
      "Epoch 5/100\n",
      "1025/1025 [==============================] - 0s 266us/sample - loss: 0.0038 - mse: 0.0038 - mae: 0.0540 - val_loss: 0.0032 - val_mse: 0.0032 - val_mae: 0.0485\n",
      "Epoch 6/100\n",
      "1025/1025 [==============================] - 0s 257us/sample - loss: 0.0021 - mse: 0.0021 - mae: 0.0403 - val_loss: 0.0029 - val_mse: 0.0029 - val_mae: 0.0439\n",
      "Epoch 7/100\n",
      "1025/1025 [==============================] - 0s 252us/sample - loss: 0.0011 - mse: 0.0011 - mae: 0.0292 - val_loss: 8.7243e-04 - val_mse: 8.7243e-04 - val_mae: 0.0253\n",
      "Epoch 8/100\n",
      "1025/1025 [==============================] - 0s 250us/sample - loss: 5.3556e-04 - mse: 5.3556e-04 - mae: 0.0206 - val_loss: 6.8811e-04 - val_mse: 6.8811e-04 - val_mae: 0.0238\n",
      "Epoch 9/100\n",
      "1025/1025 [==============================] - 0s 189us/sample - loss: 2.6555e-04 - mse: 2.6555e-04 - mae: 0.0144 - val_loss: 3.3835e-04 - val_mse: 3.3835e-04 - val_mae: 0.0165\n",
      "Epoch 10/100\n",
      "1025/1025 [==============================] - 0s 202us/sample - loss: 1.3126e-04 - mse: 1.3126e-04 - mae: 0.0101 - val_loss: 1.2761e-04 - val_mse: 1.2761e-04 - val_mae: 0.0097\n",
      "Epoch 11/100\n",
      "1025/1025 [==============================] - 0s 187us/sample - loss: 6.7462e-05 - mse: 6.7462e-05 - mae: 0.0071 - val_loss: 1.0973e-04 - val_mse: 1.0973e-04 - val_mae: 0.0091\n",
      "Epoch 12/100\n",
      "1025/1025 [==============================] - 0s 361us/sample - loss: 4.1219e-05 - mse: 4.1219e-05 - mae: 0.0054 - val_loss: 3.8151e-05 - val_mse: 3.8151e-05 - val_mae: 0.0048\n",
      "Epoch 13/100\n",
      "1025/1025 [==============================] - 0s 257us/sample - loss: 2.7697e-05 - mse: 2.7697e-05 - mae: 0.0044 - val_loss: 2.9193e-05 - val_mse: 2.9193e-05 - val_mae: 0.0046\n",
      "Epoch 14/100\n",
      "1025/1025 [==============================] - 0s 233us/sample - loss: 2.3351e-05 - mse: 2.3351e-05 - mae: 0.0041 - val_loss: 5.2841e-05 - val_mse: 5.2841e-05 - val_mae: 0.0063\n",
      "Epoch 15/100\n",
      "1025/1025 [==============================] - 0s 163us/sample - loss: 2.1713e-05 - mse: 2.1713e-05 - mae: 0.0040 - val_loss: 2.0598e-05 - val_mse: 2.0598e-05 - val_mae: 0.0040\n",
      "Epoch 16/100\n",
      "1025/1025 [==============================] - 0s 303us/sample - loss: 1.9023e-05 - mse: 1.9023e-05 - mae: 0.0038 - val_loss: 2.8017e-05 - val_mse: 2.8017e-05 - val_mae: 0.0046\n",
      "Epoch 17/100\n",
      "1025/1025 [==============================] - 0s 258us/sample - loss: 1.8396e-05 - mse: 1.8396e-05 - mae: 0.0037 - val_loss: 1.8189e-05 - val_mse: 1.8189e-05 - val_mae: 0.0038\n",
      "Epoch 18/100\n",
      "1025/1025 [==============================] - 0s 267us/sample - loss: 1.7858e-05 - mse: 1.7858e-05 - mae: 0.0037 - val_loss: 3.3244e-05 - val_mse: 3.3244e-05 - val_mae: 0.0049\n",
      "Epoch 19/100\n",
      "1025/1025 [==============================] - 0s 138us/sample - loss: 1.7710e-05 - mse: 1.7710e-05 - mae: 0.0037 - val_loss: 1.8143e-05 - val_mse: 1.8143e-05 - val_mae: 0.0037\n",
      "Epoch 20/100\n",
      "1025/1025 [==============================] - 0s 264us/sample - loss: 1.7110e-05 - mse: 1.7110e-05 - mae: 0.0036 - val_loss: 2.3673e-05 - val_mse: 2.3673e-05 - val_mae: 0.0041\n",
      "Epoch 21/100\n",
      "1025/1025 [==============================] - 0s 206us/sample - loss: 1.6709e-05 - mse: 1.6709e-05 - mae: 0.0035 - val_loss: 3.0746e-05 - val_mse: 3.0746e-05 - val_mae: 0.0046\n",
      "Epoch 22/100\n",
      "1025/1025 [==============================] - 0s 232us/sample - loss: 1.6741e-05 - mse: 1.6741e-05 - mae: 0.0036 - val_loss: 2.5306e-05 - val_mse: 2.5306e-05 - val_mae: 0.0041\n",
      "Epoch 23/100\n",
      "1025/1025 [==============================] - 0s 140us/sample - loss: 1.6330e-05 - mse: 1.6330e-05 - mae: 0.0035 - val_loss: 1.5717e-05 - val_mse: 1.5717e-05 - val_mae: 0.0034\n",
      "Epoch 24/100\n",
      "1025/1025 [==============================] - 0s 159us/sample - loss: 1.5925e-05 - mse: 1.5925e-05 - mae: 0.0035 - val_loss: 3.4256e-05 - val_mse: 3.4256e-05 - val_mae: 0.0047\n",
      "Epoch 25/100\n",
      "1025/1025 [==============================] - 0s 172us/sample - loss: 1.5892e-05 - mse: 1.5892e-05 - mae: 0.0035 - val_loss: 3.2706e-05 - val_mse: 3.2706e-05 - val_mae: 0.0047\n",
      "Epoch 26/100\n",
      "1025/1025 [==============================] - 0s 177us/sample - loss: 1.5939e-05 - mse: 1.5939e-05 - mae: 0.0034 - val_loss: 7.7148e-05 - val_mse: 7.7148e-05 - val_mae: 0.0072\n",
      "Epoch 27/100\n",
      "1025/1025 [==============================] - 0s 137us/sample - loss: 1.7343e-05 - mse: 1.7343e-05 - mae: 0.0035 - val_loss: 3.0842e-05 - val_mse: 3.0842e-05 - val_mae: 0.0049\n",
      "Epoch 28/100\n",
      "1025/1025 [==============================] - 0s 145us/sample - loss: 1.5041e-05 - mse: 1.5041e-05 - mae: 0.0033 - val_loss: 1.5494e-05 - val_mse: 1.5494e-05 - val_mae: 0.0033\n",
      "Epoch 29/100\n",
      "1025/1025 [==============================] - 0s 130us/sample - loss: 1.4343e-05 - mse: 1.4343e-05 - mae: 0.0032 - val_loss: 1.9381e-05 - val_mse: 1.9381e-05 - val_mae: 0.0034\n",
      "Epoch 30/100\n",
      "1025/1025 [==============================] - 0s 174us/sample - loss: 1.4012e-05 - mse: 1.4012e-05 - mae: 0.0032 - val_loss: 2.2799e-05 - val_mse: 2.2799e-05 - val_mae: 0.0041\n",
      "Epoch 31/100\n",
      "1025/1025 [==============================] - 0s 151us/sample - loss: 1.4047e-05 - mse: 1.4047e-05 - mae: 0.0032 - val_loss: 2.6843e-05 - val_mse: 2.6843e-05 - val_mae: 0.0038\n",
      "Epoch 32/100\n",
      "1025/1025 [==============================] - 0s 258us/sample - loss: 1.4186e-05 - mse: 1.4186e-05 - mae: 0.0032 - val_loss: 9.3763e-05 - val_mse: 9.3763e-05 - val_mae: 0.0079\n",
      "Epoch 33/100\n",
      "1025/1025 [==============================] - 0s 233us/sample - loss: 1.6268e-05 - mse: 1.6268e-05 - mae: 0.0033 - val_loss: 1.4770e-05 - val_mse: 1.4770e-05 - val_mae: 0.0033\n",
      "Epoch 34/100\n",
      "1025/1025 [==============================] - 0s 143us/sample - loss: 1.3340e-05 - mse: 1.3340e-05 - mae: 0.0031 - val_loss: 1.7918e-05 - val_mse: 1.7918e-05 - val_mae: 0.0036\n",
      "Epoch 35/100\n",
      "1025/1025 [==============================] - 0s 167us/sample - loss: 1.3218e-05 - mse: 1.3218e-05 - mae: 0.0031 - val_loss: 2.5098e-05 - val_mse: 2.5098e-05 - val_mae: 0.0044\n",
      "Epoch 36/100\n",
      "1025/1025 [==============================] - 0s 180us/sample - loss: 1.3234e-05 - mse: 1.3234e-05 - mae: 0.0031 - val_loss: 2.0023e-05 - val_mse: 2.0023e-05 - val_mae: 0.0037\n",
      "Epoch 37/100\n",
      "1025/1025 [==============================] - 0s 266us/sample - loss: 1.3096e-05 - mse: 1.3096e-05 - mae: 0.0031 - val_loss: 1.3997e-05 - val_mse: 1.3997e-05 - val_mae: 0.0031\n",
      "Epoch 38/100\n",
      "1025/1025 [==============================] - 0s 137us/sample - loss: 1.2425e-05 - mse: 1.2425e-05 - mae: 0.0030 - val_loss: 2.8048e-05 - val_mse: 2.8048e-05 - val_mae: 0.0043\n",
      "Epoch 39/100\n",
      "1025/1025 [==============================] - 0s 130us/sample - loss: 1.2615e-05 - mse: 1.2615e-05 - mae: 0.0030 - val_loss: 1.3834e-05 - val_mse: 1.3834e-05 - val_mae: 0.0032\n",
      "Epoch 40/100\n",
      "1025/1025 [==============================] - 0s 145us/sample - loss: 1.2075e-05 - mse: 1.2075e-05 - mae: 0.0029 - val_loss: 1.4688e-05 - val_mse: 1.4688e-05 - val_mae: 0.0032\n",
      "Epoch 41/100\n",
      "1025/1025 [==============================] - 0s 132us/sample - loss: 1.2283e-05 - mse: 1.2283e-05 - mae: 0.0030 - val_loss: 1.5352e-05 - val_mse: 1.5352e-05 - val_mae: 0.0033\n",
      "Epoch 42/100\n",
      "1025/1025 [==============================] - 0s 153us/sample - loss: 1.1817e-05 - mse: 1.1817e-05 - mae: 0.0029 - val_loss: 2.2621e-05 - val_mse: 2.2621e-05 - val_mae: 0.0040\n",
      "Epoch 43/100\n",
      "1025/1025 [==============================] - 0s 171us/sample - loss: 1.2269e-05 - mse: 1.2269e-05 - mae: 0.0029 - val_loss: 1.6274e-05 - val_mse: 1.6274e-05 - val_mae: 0.0033\n",
      "Epoch 44/100\n",
      "1025/1025 [==============================] - 0s 245us/sample - loss: 1.1750e-05 - mse: 1.1750e-05 - mae: 0.0029 - val_loss: 1.2314e-05 - val_mse: 1.2314e-05 - val_mae: 0.0028\n"
     ]
    },
    {
     "name": "stdout",
     "output_type": "stream",
     "text": [
      "Epoch 45/100\n",
      "1025/1025 [==============================] - 0s 227us/sample - loss: 1.1216e-05 - mse: 1.1216e-05 - mae: 0.0028 - val_loss: 1.1919e-05 - val_mse: 1.1919e-05 - val_mae: 0.0029\n",
      "Epoch 46/100\n",
      "1025/1025 [==============================] - 0s 177us/sample - loss: 1.1153e-05 - mse: 1.1153e-05 - mae: 0.0028 - val_loss: 1.4575e-05 - val_mse: 1.4575e-05 - val_mae: 0.0032\n",
      "Epoch 47/100\n",
      "1025/1025 [==============================] - 0s 156us/sample - loss: 1.1300e-05 - mse: 1.1300e-05 - mae: 0.0028 - val_loss: 2.2497e-05 - val_mse: 2.2497e-05 - val_mae: 0.0042\n",
      "Epoch 48/100\n",
      "1025/1025 [==============================] - 0s 149us/sample - loss: 1.1257e-05 - mse: 1.1257e-05 - mae: 0.0028 - val_loss: 1.1057e-05 - val_mse: 1.1057e-05 - val_mae: 0.0028\n",
      "Epoch 49/100\n",
      "1025/1025 [==============================] - 0s 161us/sample - loss: 1.0582e-05 - mse: 1.0582e-05 - mae: 0.0027 - val_loss: 1.2633e-05 - val_mse: 1.2633e-05 - val_mae: 0.0029\n",
      "Epoch 50/100\n",
      "1025/1025 [==============================] - 0s 172us/sample - loss: 1.0528e-05 - mse: 1.0528e-05 - mae: 0.0027 - val_loss: 1.0473e-05 - val_mse: 1.0473e-05 - val_mae: 0.0027\n",
      "Epoch 51/100\n",
      "1025/1025 [==============================] - 0s 222us/sample - loss: 1.0236e-05 - mse: 1.0236e-05 - mae: 0.0027 - val_loss: 1.7521e-05 - val_mse: 1.7521e-05 - val_mae: 0.0036\n",
      "Epoch 52/100\n",
      "1025/1025 [==============================] - 0s 242us/sample - loss: 1.0364e-05 - mse: 1.0364e-05 - mae: 0.0027 - val_loss: 1.5366e-05 - val_mse: 1.5366e-05 - val_mae: 0.0032\n",
      "Epoch 53/100\n",
      "1025/1025 [==============================] - 0s 216us/sample - loss: 1.0425e-05 - mse: 1.0425e-05 - mae: 0.0027 - val_loss: 3.5652e-05 - val_mse: 3.5652e-05 - val_mae: 0.0047\n",
      "Epoch 54/100\n",
      "1025/1025 [==============================] - 0s 144us/sample - loss: 1.1121e-05 - mse: 1.1121e-05 - mae: 0.0027 - val_loss: 1.3263e-05 - val_mse: 1.3263e-05 - val_mae: 0.0031\n",
      "Epoch 55/100\n",
      "1025/1025 [==============================] - 0s 153us/sample - loss: 9.9841e-06 - mse: 9.9841e-06 - mae: 0.0026 - val_loss: 2.1832e-05 - val_mse: 2.1832e-05 - val_mae: 0.0039\n",
      "Epoch 56/100\n",
      "1025/1025 [==============================] - 0s 146us/sample - loss: 1.0297e-05 - mse: 1.0297e-05 - mae: 0.0027 - val_loss: 6.7999e-05 - val_mse: 6.7999e-05 - val_mae: 0.0067\n",
      "Epoch 57/100\n",
      "1025/1025 [==============================] - 0s 153us/sample - loss: 1.1907e-05 - mse: 1.1907e-05 - mae: 0.0028 - val_loss: 1.1602e-05 - val_mse: 1.1602e-05 - val_mae: 0.0028\n",
      "Epoch 58/100\n",
      "1025/1025 [==============================] - 0s 193us/sample - loss: 9.6081e-06 - mse: 9.6081e-06 - mae: 0.0026 - val_loss: 2.4643e-05 - val_mse: 2.4643e-05 - val_mae: 0.0037\n",
      "Epoch 59/100\n",
      "1025/1025 [==============================] - 0s 243us/sample - loss: 1.0143e-05 - mse: 1.0143e-05 - mae: 0.0026 - val_loss: 1.6427e-05 - val_mse: 1.6427e-05 - val_mae: 0.0029\n",
      "Epoch 60/100\n",
      "1025/1025 [==============================] - 0s 174us/sample - loss: 9.3522e-06 - mse: 9.3522e-06 - mae: 0.0025 - val_loss: 1.3978e-05 - val_mse: 1.3978e-05 - val_mae: 0.0032\n",
      "Epoch 61/100\n",
      "1025/1025 [==============================] - 0s 155us/sample - loss: 9.2889e-06 - mse: 9.2889e-06 - mae: 0.0026 - val_loss: 1.0909e-05 - val_mse: 1.0909e-05 - val_mae: 0.0026\n",
      "Epoch 62/100\n",
      "1025/1025 [==============================] - 0s 248us/sample - loss: 9.0633e-06 - mse: 9.0633e-06 - mae: 0.0025 - val_loss: 5.3157e-05 - val_mse: 5.3157e-05 - val_mae: 0.0060\n",
      "Epoch 63/100\n",
      "1025/1025 [==============================] - 0s 200us/sample - loss: 1.0607e-05 - mse: 1.0607e-05 - mae: 0.0026 - val_loss: 2.0643e-05 - val_mse: 2.0643e-05 - val_mae: 0.0041\n",
      "Epoch 64/100\n",
      "1025/1025 [==============================] - 0s 156us/sample - loss: 9.1299e-06 - mse: 9.1299e-06 - mae: 0.0025 - val_loss: 1.5388e-05 - val_mse: 1.5388e-05 - val_mae: 0.0034\n",
      "Epoch 65/100\n",
      "1025/1025 [==============================] - 0s 141us/sample - loss: 8.6740e-06 - mse: 8.6740e-06 - mae: 0.0024 - val_loss: 8.4592e-06 - val_mse: 8.4592e-06 - val_mae: 0.0025\n",
      "Epoch 66/100\n",
      "1025/1025 [==============================] - 0s 153us/sample - loss: 8.5046e-06 - mse: 8.5046e-06 - mae: 0.0024 - val_loss: 9.0547e-06 - val_mse: 9.0547e-06 - val_mae: 0.0024\n",
      "Epoch 67/100\n",
      "1025/1025 [==============================] - 0s 139us/sample - loss: 8.4500e-06 - mse: 8.4500e-06 - mae: 0.0024 - val_loss: 1.0700e-05 - val_mse: 1.0700e-05 - val_mae: 0.0026\n",
      "Epoch 68/100\n",
      "1025/1025 [==============================] - 0s 173us/sample - loss: 8.3552e-06 - mse: 8.3552e-06 - mae: 0.0024 - val_loss: 1.4134e-05 - val_mse: 1.4134e-05 - val_mae: 0.0027\n",
      "Epoch 69/100\n",
      "1025/1025 [==============================] - 0s 177us/sample - loss: 8.3167e-06 - mse: 8.3167e-06 - mae: 0.0024 - val_loss: 1.6982e-05 - val_mse: 1.6982e-05 - val_mae: 0.0030\n",
      "Epoch 70/100\n",
      "1025/1025 [==============================] - 0s 191us/sample - loss: 8.4803e-06 - mse: 8.4803e-06 - mae: 0.0024 - val_loss: 1.0523e-05 - val_mse: 1.0523e-05 - val_mae: 0.0027\n",
      "Epoch 71/100\n",
      "1025/1025 [==============================] - 0s 175us/sample - loss: 8.0493e-06 - mse: 8.0493e-06 - mae: 0.0024 - val_loss: 1.9015e-05 - val_mse: 1.9015e-05 - val_mae: 0.0032\n",
      "Epoch 72/100\n",
      "1025/1025 [==============================] - 0s 142us/sample - loss: 8.2063e-06 - mse: 8.2063e-06 - mae: 0.0024 - val_loss: 1.1442e-05 - val_mse: 1.1442e-05 - val_mae: 0.0027\n",
      "Epoch 73/100\n",
      "1025/1025 [==============================] - 0s 139us/sample - loss: 8.1155e-06 - mse: 8.1155e-06 - mae: 0.0024 - val_loss: 1.3061e-05 - val_mse: 1.3061e-05 - val_mae: 0.0029\n",
      "Epoch 74/100\n",
      "1025/1025 [==============================] - 0s 174us/sample - loss: 7.7966e-06 - mse: 7.7966e-06 - mae: 0.0023 - val_loss: 2.9591e-05 - val_mse: 2.9591e-05 - val_mae: 0.0043\n",
      "Epoch 75/100\n",
      "1025/1025 [==============================] - 0s 146us/sample - loss: 8.6879e-06 - mse: 8.6879e-06 - mae: 0.0024 - val_loss: 8.5668e-06 - val_mse: 8.5668e-06 - val_mae: 0.0024\n",
      "Epoch 76/100\n",
      "1025/1025 [==============================] - 0s 287us/sample - loss: 7.5197e-06 - mse: 7.5197e-06 - mae: 0.0023 - val_loss: 1.7681e-05 - val_mse: 1.7681e-05 - val_mae: 0.0031\n",
      "Epoch 77/100\n",
      "1025/1025 [==============================] - 0s 190us/sample - loss: 7.8745e-06 - mse: 7.8745e-06 - mae: 0.0023 - val_loss: 8.1844e-06 - val_mse: 8.1844e-06 - val_mae: 0.0023\n",
      "Epoch 78/100\n",
      "1025/1025 [==============================] - 0s 187us/sample - loss: 7.4247e-06 - mse: 7.4247e-06 - mae: 0.0023 - val_loss: 7.6847e-06 - val_mse: 7.6847e-06 - val_mae: 0.0022\n",
      "Epoch 79/100\n",
      "1025/1025 [==============================] - 0s 232us/sample - loss: 7.2500e-06 - mse: 7.2500e-06 - mae: 0.0023 - val_loss: 1.1914e-05 - val_mse: 1.1914e-05 - val_mae: 0.0030\n",
      "Epoch 80/100\n",
      "1025/1025 [==============================] - 0s 153us/sample - loss: 7.2659e-06 - mse: 7.2659e-06 - mae: 0.0023 - val_loss: 7.7903e-06 - val_mse: 7.7903e-06 - val_mae: 0.0023\n",
      "Epoch 81/100\n",
      "1025/1025 [==============================] - 0s 155us/sample - loss: 7.2082e-06 - mse: 7.2082e-06 - mae: 0.0022 - val_loss: 1.1525e-05 - val_mse: 1.1525e-05 - val_mae: 0.0027\n",
      "Epoch 82/100\n",
      "1025/1025 [==============================] - 0s 151us/sample - loss: 7.1132e-06 - mse: 7.1132e-06 - mae: 0.0022 - val_loss: 1.4958e-05 - val_mse: 1.4958e-05 - val_mae: 0.0034\n",
      "Epoch 83/100\n",
      "1025/1025 [==============================] - 0s 163us/sample - loss: 7.2410e-06 - mse: 7.2410e-06 - mae: 0.0023 - val_loss: 1.3446e-05 - val_mse: 1.3446e-05 - val_mae: 0.0032\n",
      "Epoch 84/100\n",
      "1025/1025 [==============================] - 0s 156us/sample - loss: 7.1653e-06 - mse: 7.1653e-06 - mae: 0.0022 - val_loss: 1.4772e-05 - val_mse: 1.4772e-05 - val_mae: 0.0034\n",
      "Epoch 85/100\n",
      "1025/1025 [==============================] - 0s 166us/sample - loss: 7.1042e-06 - mse: 7.1042e-06 - mae: 0.0022 - val_loss: 1.7478e-05 - val_mse: 1.7478e-05 - val_mae: 0.0031\n",
      "Epoch 86/100\n",
      "1025/1025 [==============================] - 0s 182us/sample - loss: 7.4056e-06 - mse: 7.4056e-06 - mae: 0.0022 - val_loss: 6.6120e-06 - val_mse: 6.6120e-06 - val_mae: 0.0022\n",
      "Epoch 87/100\n",
      "1025/1025 [==============================] - 0s 151us/sample - loss: 6.6829e-06 - mse: 6.6829e-06 - mae: 0.0022 - val_loss: 1.1178e-05 - val_mse: 1.1178e-05 - val_mae: 0.0024\n",
      "Epoch 88/100\n"
     ]
    },
    {
     "name": "stdout",
     "output_type": "stream",
     "text": [
      "1025/1025 [==============================] - 0s 224us/sample - loss: 6.7467e-06 - mse: 6.7467e-06 - mae: 0.0022 - val_loss: 1.3354e-05 - val_mse: 1.3354e-05 - val_mae: 0.0029\n",
      "Epoch 89/100\n",
      "1025/1025 [==============================] - 0s 233us/sample - loss: 6.8821e-06 - mse: 6.8821e-06 - mae: 0.0022 - val_loss: 1.0504e-05 - val_mse: 1.0504e-05 - val_mae: 0.0026\n",
      "Epoch 90/100\n",
      "1025/1025 [==============================] - 0s 171us/sample - loss: 6.6195e-06 - mse: 6.6195e-06 - mae: 0.0021 - val_loss: 8.5944e-06 - val_mse: 8.5944e-06 - val_mae: 0.0024\n",
      "Epoch 91/100\n",
      "1025/1025 [==============================] - 0s 171us/sample - loss: 6.4801e-06 - mse: 6.4801e-06 - mae: 0.0021 - val_loss: 7.3387e-06 - val_mse: 7.3387e-06 - val_mae: 0.0022\n",
      "Epoch 92/100\n",
      "1025/1025 [==============================] - 0s 142us/sample - loss: 6.3631e-06 - mse: 6.3631e-06 - mae: 0.0021 - val_loss: 1.2783e-05 - val_mse: 1.2783e-05 - val_mae: 0.0029\n",
      "Epoch 93/100\n",
      "1025/1025 [==============================] - 0s 145us/sample - loss: 6.4249e-06 - mse: 6.4249e-06 - mae: 0.0021 - val_loss: 6.7282e-06 - val_mse: 6.7282e-06 - val_mae: 0.0021\n",
      "Epoch 94/100\n",
      "1025/1025 [==============================] - 0s 157us/sample - loss: 6.1457e-06 - mse: 6.1457e-06 - mae: 0.0021 - val_loss: 1.6101e-05 - val_mse: 1.6101e-05 - val_mae: 0.0030\n",
      "Epoch 95/100\n",
      "1025/1025 [==============================] - 0s 136us/sample - loss: 6.4746e-06 - mse: 6.4746e-06 - mae: 0.0021 - val_loss: 1.2540e-05 - val_mse: 1.2540e-05 - val_mae: 0.0026\n",
      "Epoch 96/100\n",
      "1025/1025 [==============================] - 0s 145us/sample - loss: 6.2119e-06 - mse: 6.2119e-06 - mae: 0.0021 - val_loss: 1.5232e-05 - val_mse: 1.5232e-05 - val_mae: 0.0029\n",
      "Epoch 97/100\n",
      "1025/1025 [==============================] - 0s 286us/sample - loss: 6.3374e-06 - mse: 6.3374e-06 - mae: 0.0021 - val_loss: 8.4896e-06 - val_mse: 8.4896e-06 - val_mae: 0.0022\n",
      "Epoch 98/100\n",
      "1025/1025 [==============================] - 0s 268us/sample - loss: 6.0142e-06 - mse: 6.0142e-06 - mae: 0.0021 - val_loss: 1.2671e-05 - val_mse: 1.2671e-05 - val_mae: 0.0030\n",
      "Epoch 99/100\n",
      "1025/1025 [==============================] - 0s 190us/sample - loss: 6.1384e-06 - mse: 6.1384e-06 - mae: 0.0021 - val_loss: 1.3289e-05 - val_mse: 1.3289e-05 - val_mae: 0.0027\n",
      "Epoch 100/100\n",
      "1025/1025 [==============================] - 0s 134us/sample - loss: 6.2554e-06 - mse: 6.2554e-06 - mae: 0.0021 - val_loss: 6.3560e-06 - val_mse: 6.3560e-06 - val_mae: 0.0021\n"
     ]
    }
   ],
   "source": [
    "model.compile(loss='mse',\n",
    "              optimizer=sgd,\n",
    "              metrics=['mse','mae'])\n",
    "history = model.fit(X_train, y_train, epochs=n_epochs,\n",
    "                    validation_data=(X_valid, y_valid))"
   ]
  },
  {
   "cell_type": "code",
   "execution_count": 205,
   "metadata": {},
   "outputs": [
    {
     "name": "stdout",
     "output_type": "stream",
     "text": [
      "Model: \"my_model_2\"\n",
      "_________________________________________________________________\n",
      "Layer (type)                 Output Shape              Param #   \n",
      "=================================================================\n",
      "dense_60 (Dense)             multiple                  8         \n",
      "_________________________________________________________________\n",
      "dense_61 (Dense)             multiple                  20        \n",
      "_________________________________________________________________\n",
      "dense_62 (Dense)             multiple                  20        \n",
      "_________________________________________________________________\n",
      "dense_63 (Dense)             multiple                  13        \n",
      "=================================================================\n",
      "Total params: 61\n",
      "Trainable params: 61\n",
      "Non-trainable params: 0\n",
      "_________________________________________________________________\n"
     ]
    }
   ],
   "source": [
    "model.summary()"
   ]
  },
  {
   "cell_type": "code",
   "execution_count": 206,
   "metadata": {},
   "outputs": [
    {
     "data": {
      "application/vnd.plotly.v1+json": {
       "config": {
        "plotlyServerURL": "https://plot.ly"
       },
       "data": [
        {
         "name": "error training",
         "type": "scatter",
         "y": [
          0.09949301183223724,
          0.012820218689739704,
          0.009334450587630272,
          0.006394249852746725,
          0.0037537310272455215,
          0.0020737696904689074,
          0.0011100834235548973,
          0.0005355632747523487,
          0.00026555059594102204,
          0.00013126105477567762,
          6.746171857230365e-05,
          4.121863094042055e-05,
          2.7697453333530575e-05,
          2.335055251023732e-05,
          2.171284540963825e-05,
          1.902292024169583e-05,
          1.8395552615402266e-05,
          1.7857846614788286e-05,
          1.7710182873997837e-05,
          1.711026197881438e-05,
          1.6708825569367036e-05,
          1.6741327272029594e-05,
          1.633030296943616e-05,
          1.5924728359095752e-05,
          1.5892217561486177e-05,
          1.593940396560356e-05,
          1.7343118088319898e-05,
          1.504093233961612e-05,
          1.4343345355882775e-05,
          1.401220742991427e-05,
          1.4046680007595569e-05,
          1.4186465705279261e-05,
          1.6267898899968714e-05,
          1.3340445548237767e-05,
          1.3218172171036713e-05,
          1.3233697245595977e-05,
          1.309604795096675e-05,
          1.2424689884937834e-05,
          1.2615239938895684e-05,
          1.2074506230419502e-05,
          1.2283385331102181e-05,
          1.1816857295343652e-05,
          1.2269262697373051e-05,
          1.1749944860639516e-05,
          1.1216479833819903e-05,
          1.1153120794915594e-05,
          1.1300076948828064e-05,
          1.1257002370257396e-05,
          1.0582337381492835e-05,
          1.0528118764341343e-05,
          1.0236373782390729e-05,
          1.0363835826865397e-05,
          1.0424811989651062e-05,
          1.1121352144982666e-05,
          9.984054486267269e-06,
          1.0297115295543335e-05,
          1.190715283883037e-05,
          9.608055734133814e-06,
          1.0142613064090256e-05,
          9.352203051093966e-06,
          9.288864021073096e-06,
          9.063328434422147e-06,
          1.0606780051602982e-05,
          9.129871614277363e-06,
          8.674041055201087e-06,
          8.504594916303176e-06,
          8.450040695606731e-06,
          8.355177669727709e-06,
          8.316692401422188e-06,
          8.480325050186366e-06,
          8.04934370535193e-06,
          8.206267921195831e-06,
          8.115471246128436e-06,
          7.796648787916638e-06,
          8.687850822752807e-06,
          7.519713562942343e-06,
          7.874536095187068e-06,
          7.424710474879248e-06,
          7.250029739225283e-06,
          7.265850399562623e-06,
          7.208178885775851e-06,
          7.1132312768895645e-06,
          7.240967988764169e-06,
          7.165275292209117e-06,
          7.10420545146917e-06,
          7.405580618069507e-06,
          6.6828679337049834e-06,
          6.746709459548583e-06,
          6.882119123474695e-06,
          6.619548457820201e-06,
          6.4800583459145855e-06,
          6.363142347254325e-06,
          6.4248652051901445e-06,
          6.145666702650487e-06,
          6.474625479313545e-06,
          6.211907930264715e-06,
          6.3373568082170095e-06,
          6.014175141899614e-06,
          6.138385288068093e-06,
          6.255357675399864e-06
         ]
        },
        {
         "name": "error validation",
         "type": "scatter",
         "y": [
          0.027034416794776917,
          0.01160078588873148,
          0.014533976092934608,
          0.0061505017802119255,
          0.003176439320668578,
          0.002875261241570115,
          0.0008724280050955713,
          0.0006881052977405488,
          0.0003383460862096399,
          0.00012761387915816158,
          0.00010972819291055202,
          3.815098534687422e-05,
          2.9193308364483528e-05,
          5.284059079713188e-05,
          2.059822691080626e-05,
          2.8017424483550712e-05,
          1.8189119145972654e-05,
          3.324394128867425e-05,
          1.8142647604690865e-05,
          2.3672932002227753e-05,
          3.074628330068663e-05,
          2.5306129828095436e-05,
          1.5716828784206882e-05,
          3.4255801438121125e-05,
          3.270575689384714e-05,
          7.714772800682113e-05,
          3.0842016712995246e-05,
          1.549406624690164e-05,
          1.9381199308554642e-05,
          2.2799242287874222e-05,
          2.6842908482649364e-05,
          9.376327943755314e-05,
          1.4769665540370625e-05,
          1.7918224330060184e-05,
          2.5097666366491467e-05,
          2.0022664102725685e-05,
          1.3996886991662905e-05,
          2.8047763407812454e-05,
          1.3834438505000435e-05,
          1.4687720977235585e-05,
          1.5352068658103235e-05,
          2.262094676552806e-05,
          1.627440178708639e-05,
          1.2313573279243428e-05,
          1.1919473763555288e-05,
          1.4575002751371358e-05,
          2.249684985144995e-05,
          1.1057257324864622e-05,
          1.2633461665245704e-05,
          1.0473173460923135e-05,
          1.7521186236990616e-05,
          1.536568015580997e-05,
          3.565242877812125e-05,
          1.3262551874504425e-05,
          2.1831610865774564e-05,
          6.799914262956008e-05,
          1.160228748631198e-05,
          2.4643357392051257e-05,
          1.6426782167400233e-05,
          1.3978396964375861e-05,
          1.0908910553553142e-05,
          5.3157451475271955e-05,
          2.0643145035137422e-05,
          1.538793367217295e-05,
          8.459211130684707e-06,
          9.05473279999569e-06,
          1.0699595804908313e-05,
          1.4134297089185566e-05,
          1.698220512480475e-05,
          1.052334664564114e-05,
          1.901493851619307e-05,
          1.1442263712524436e-05,
          1.30614980662358e-05,
          2.95908612315543e-05,
          8.566789801989216e-06,
          1.768084075592924e-05,
          8.184399121091701e-06,
          7.68468999012839e-06,
          1.1914461538253818e-05,
          7.790347808622755e-06,
          1.152520599134732e-05,
          1.495770993642509e-05,
          1.3445504919218365e-05,
          1.4772426766285207e-05,
          1.747830174281262e-05,
          6.612018296436872e-06,
          1.11779527287581e-05,
          1.3353732356335968e-05,
          1.0503973498998675e-05,
          8.5943802332622e-06,
          7.3387027441640384e-06,
          1.2782813428202644e-05,
          6.728247171849944e-06,
          1.6100866560009308e-05,
          1.2539584531623404e-05,
          1.5232420082611497e-05,
          8.489583706250414e-06,
          1.2671413969655987e-05,
          1.3288822628965136e-05,
          6.356018275255337e-06
         ]
        }
       ],
       "layout": {
        "template": {
         "data": {
          "bar": [
           {
            "error_x": {
             "color": "#2a3f5f"
            },
            "error_y": {
             "color": "#2a3f5f"
            },
            "marker": {
             "line": {
              "color": "#E5ECF6",
              "width": 0.5
             }
            },
            "type": "bar"
           }
          ],
          "barpolar": [
           {
            "marker": {
             "line": {
              "color": "#E5ECF6",
              "width": 0.5
             }
            },
            "type": "barpolar"
           }
          ],
          "carpet": [
           {
            "aaxis": {
             "endlinecolor": "#2a3f5f",
             "gridcolor": "white",
             "linecolor": "white",
             "minorgridcolor": "white",
             "startlinecolor": "#2a3f5f"
            },
            "baxis": {
             "endlinecolor": "#2a3f5f",
             "gridcolor": "white",
             "linecolor": "white",
             "minorgridcolor": "white",
             "startlinecolor": "#2a3f5f"
            },
            "type": "carpet"
           }
          ],
          "choropleth": [
           {
            "colorbar": {
             "outlinewidth": 0,
             "ticks": ""
            },
            "type": "choropleth"
           }
          ],
          "contour": [
           {
            "colorbar": {
             "outlinewidth": 0,
             "ticks": ""
            },
            "colorscale": [
             [
              0,
              "#0d0887"
             ],
             [
              0.1111111111111111,
              "#46039f"
             ],
             [
              0.2222222222222222,
              "#7201a8"
             ],
             [
              0.3333333333333333,
              "#9c179e"
             ],
             [
              0.4444444444444444,
              "#bd3786"
             ],
             [
              0.5555555555555556,
              "#d8576b"
             ],
             [
              0.6666666666666666,
              "#ed7953"
             ],
             [
              0.7777777777777778,
              "#fb9f3a"
             ],
             [
              0.8888888888888888,
              "#fdca26"
             ],
             [
              1,
              "#f0f921"
             ]
            ],
            "type": "contour"
           }
          ],
          "contourcarpet": [
           {
            "colorbar": {
             "outlinewidth": 0,
             "ticks": ""
            },
            "type": "contourcarpet"
           }
          ],
          "heatmap": [
           {
            "colorbar": {
             "outlinewidth": 0,
             "ticks": ""
            },
            "colorscale": [
             [
              0,
              "#0d0887"
             ],
             [
              0.1111111111111111,
              "#46039f"
             ],
             [
              0.2222222222222222,
              "#7201a8"
             ],
             [
              0.3333333333333333,
              "#9c179e"
             ],
             [
              0.4444444444444444,
              "#bd3786"
             ],
             [
              0.5555555555555556,
              "#d8576b"
             ],
             [
              0.6666666666666666,
              "#ed7953"
             ],
             [
              0.7777777777777778,
              "#fb9f3a"
             ],
             [
              0.8888888888888888,
              "#fdca26"
             ],
             [
              1,
              "#f0f921"
             ]
            ],
            "type": "heatmap"
           }
          ],
          "heatmapgl": [
           {
            "colorbar": {
             "outlinewidth": 0,
             "ticks": ""
            },
            "colorscale": [
             [
              0,
              "#0d0887"
             ],
             [
              0.1111111111111111,
              "#46039f"
             ],
             [
              0.2222222222222222,
              "#7201a8"
             ],
             [
              0.3333333333333333,
              "#9c179e"
             ],
             [
              0.4444444444444444,
              "#bd3786"
             ],
             [
              0.5555555555555556,
              "#d8576b"
             ],
             [
              0.6666666666666666,
              "#ed7953"
             ],
             [
              0.7777777777777778,
              "#fb9f3a"
             ],
             [
              0.8888888888888888,
              "#fdca26"
             ],
             [
              1,
              "#f0f921"
             ]
            ],
            "type": "heatmapgl"
           }
          ],
          "histogram": [
           {
            "marker": {
             "colorbar": {
              "outlinewidth": 0,
              "ticks": ""
             }
            },
            "type": "histogram"
           }
          ],
          "histogram2d": [
           {
            "colorbar": {
             "outlinewidth": 0,
             "ticks": ""
            },
            "colorscale": [
             [
              0,
              "#0d0887"
             ],
             [
              0.1111111111111111,
              "#46039f"
             ],
             [
              0.2222222222222222,
              "#7201a8"
             ],
             [
              0.3333333333333333,
              "#9c179e"
             ],
             [
              0.4444444444444444,
              "#bd3786"
             ],
             [
              0.5555555555555556,
              "#d8576b"
             ],
             [
              0.6666666666666666,
              "#ed7953"
             ],
             [
              0.7777777777777778,
              "#fb9f3a"
             ],
             [
              0.8888888888888888,
              "#fdca26"
             ],
             [
              1,
              "#f0f921"
             ]
            ],
            "type": "histogram2d"
           }
          ],
          "histogram2dcontour": [
           {
            "colorbar": {
             "outlinewidth": 0,
             "ticks": ""
            },
            "colorscale": [
             [
              0,
              "#0d0887"
             ],
             [
              0.1111111111111111,
              "#46039f"
             ],
             [
              0.2222222222222222,
              "#7201a8"
             ],
             [
              0.3333333333333333,
              "#9c179e"
             ],
             [
              0.4444444444444444,
              "#bd3786"
             ],
             [
              0.5555555555555556,
              "#d8576b"
             ],
             [
              0.6666666666666666,
              "#ed7953"
             ],
             [
              0.7777777777777778,
              "#fb9f3a"
             ],
             [
              0.8888888888888888,
              "#fdca26"
             ],
             [
              1,
              "#f0f921"
             ]
            ],
            "type": "histogram2dcontour"
           }
          ],
          "mesh3d": [
           {
            "colorbar": {
             "outlinewidth": 0,
             "ticks": ""
            },
            "type": "mesh3d"
           }
          ],
          "parcoords": [
           {
            "line": {
             "colorbar": {
              "outlinewidth": 0,
              "ticks": ""
             }
            },
            "type": "parcoords"
           }
          ],
          "pie": [
           {
            "automargin": true,
            "type": "pie"
           }
          ],
          "scatter": [
           {
            "marker": {
             "colorbar": {
              "outlinewidth": 0,
              "ticks": ""
             }
            },
            "type": "scatter"
           }
          ],
          "scatter3d": [
           {
            "line": {
             "colorbar": {
              "outlinewidth": 0,
              "ticks": ""
             }
            },
            "marker": {
             "colorbar": {
              "outlinewidth": 0,
              "ticks": ""
             }
            },
            "type": "scatter3d"
           }
          ],
          "scattercarpet": [
           {
            "marker": {
             "colorbar": {
              "outlinewidth": 0,
              "ticks": ""
             }
            },
            "type": "scattercarpet"
           }
          ],
          "scattergeo": [
           {
            "marker": {
             "colorbar": {
              "outlinewidth": 0,
              "ticks": ""
             }
            },
            "type": "scattergeo"
           }
          ],
          "scattergl": [
           {
            "marker": {
             "colorbar": {
              "outlinewidth": 0,
              "ticks": ""
             }
            },
            "type": "scattergl"
           }
          ],
          "scattermapbox": [
           {
            "marker": {
             "colorbar": {
              "outlinewidth": 0,
              "ticks": ""
             }
            },
            "type": "scattermapbox"
           }
          ],
          "scatterpolar": [
           {
            "marker": {
             "colorbar": {
              "outlinewidth": 0,
              "ticks": ""
             }
            },
            "type": "scatterpolar"
           }
          ],
          "scatterpolargl": [
           {
            "marker": {
             "colorbar": {
              "outlinewidth": 0,
              "ticks": ""
             }
            },
            "type": "scatterpolargl"
           }
          ],
          "scatterternary": [
           {
            "marker": {
             "colorbar": {
              "outlinewidth": 0,
              "ticks": ""
             }
            },
            "type": "scatterternary"
           }
          ],
          "surface": [
           {
            "colorbar": {
             "outlinewidth": 0,
             "ticks": ""
            },
            "colorscale": [
             [
              0,
              "#0d0887"
             ],
             [
              0.1111111111111111,
              "#46039f"
             ],
             [
              0.2222222222222222,
              "#7201a8"
             ],
             [
              0.3333333333333333,
              "#9c179e"
             ],
             [
              0.4444444444444444,
              "#bd3786"
             ],
             [
              0.5555555555555556,
              "#d8576b"
             ],
             [
              0.6666666666666666,
              "#ed7953"
             ],
             [
              0.7777777777777778,
              "#fb9f3a"
             ],
             [
              0.8888888888888888,
              "#fdca26"
             ],
             [
              1,
              "#f0f921"
             ]
            ],
            "type": "surface"
           }
          ],
          "table": [
           {
            "cells": {
             "fill": {
              "color": "#EBF0F8"
             },
             "line": {
              "color": "white"
             }
            },
            "header": {
             "fill": {
              "color": "#C8D4E3"
             },
             "line": {
              "color": "white"
             }
            },
            "type": "table"
           }
          ]
         },
         "layout": {
          "annotationdefaults": {
           "arrowcolor": "#2a3f5f",
           "arrowhead": 0,
           "arrowwidth": 1
          },
          "coloraxis": {
           "colorbar": {
            "outlinewidth": 0,
            "ticks": ""
           }
          },
          "colorscale": {
           "diverging": [
            [
             0,
             "#8e0152"
            ],
            [
             0.1,
             "#c51b7d"
            ],
            [
             0.2,
             "#de77ae"
            ],
            [
             0.3,
             "#f1b6da"
            ],
            [
             0.4,
             "#fde0ef"
            ],
            [
             0.5,
             "#f7f7f7"
            ],
            [
             0.6,
             "#e6f5d0"
            ],
            [
             0.7,
             "#b8e186"
            ],
            [
             0.8,
             "#7fbc41"
            ],
            [
             0.9,
             "#4d9221"
            ],
            [
             1,
             "#276419"
            ]
           ],
           "sequential": [
            [
             0,
             "#0d0887"
            ],
            [
             0.1111111111111111,
             "#46039f"
            ],
            [
             0.2222222222222222,
             "#7201a8"
            ],
            [
             0.3333333333333333,
             "#9c179e"
            ],
            [
             0.4444444444444444,
             "#bd3786"
            ],
            [
             0.5555555555555556,
             "#d8576b"
            ],
            [
             0.6666666666666666,
             "#ed7953"
            ],
            [
             0.7777777777777778,
             "#fb9f3a"
            ],
            [
             0.8888888888888888,
             "#fdca26"
            ],
            [
             1,
             "#f0f921"
            ]
           ],
           "sequentialminus": [
            [
             0,
             "#0d0887"
            ],
            [
             0.1111111111111111,
             "#46039f"
            ],
            [
             0.2222222222222222,
             "#7201a8"
            ],
            [
             0.3333333333333333,
             "#9c179e"
            ],
            [
             0.4444444444444444,
             "#bd3786"
            ],
            [
             0.5555555555555556,
             "#d8576b"
            ],
            [
             0.6666666666666666,
             "#ed7953"
            ],
            [
             0.7777777777777778,
             "#fb9f3a"
            ],
            [
             0.8888888888888888,
             "#fdca26"
            ],
            [
             1,
             "#f0f921"
            ]
           ]
          },
          "colorway": [
           "#636efa",
           "#EF553B",
           "#00cc96",
           "#ab63fa",
           "#FFA15A",
           "#19d3f3",
           "#FF6692",
           "#B6E880",
           "#FF97FF",
           "#FECB52"
          ],
          "font": {
           "color": "#2a3f5f"
          },
          "geo": {
           "bgcolor": "white",
           "lakecolor": "white",
           "landcolor": "#E5ECF6",
           "showlakes": true,
           "showland": true,
           "subunitcolor": "white"
          },
          "hoverlabel": {
           "align": "left"
          },
          "hovermode": "closest",
          "mapbox": {
           "style": "light"
          },
          "paper_bgcolor": "white",
          "plot_bgcolor": "#E5ECF6",
          "polar": {
           "angularaxis": {
            "gridcolor": "white",
            "linecolor": "white",
            "ticks": ""
           },
           "bgcolor": "#E5ECF6",
           "radialaxis": {
            "gridcolor": "white",
            "linecolor": "white",
            "ticks": ""
           }
          },
          "scene": {
           "xaxis": {
            "backgroundcolor": "#E5ECF6",
            "gridcolor": "white",
            "gridwidth": 2,
            "linecolor": "white",
            "showbackground": true,
            "ticks": "",
            "zerolinecolor": "white"
           },
           "yaxis": {
            "backgroundcolor": "#E5ECF6",
            "gridcolor": "white",
            "gridwidth": 2,
            "linecolor": "white",
            "showbackground": true,
            "ticks": "",
            "zerolinecolor": "white"
           },
           "zaxis": {
            "backgroundcolor": "#E5ECF6",
            "gridcolor": "white",
            "gridwidth": 2,
            "linecolor": "white",
            "showbackground": true,
            "ticks": "",
            "zerolinecolor": "white"
           }
          },
          "shapedefaults": {
           "line": {
            "color": "#2a3f5f"
           }
          },
          "ternary": {
           "aaxis": {
            "gridcolor": "white",
            "linecolor": "white",
            "ticks": ""
           },
           "baxis": {
            "gridcolor": "white",
            "linecolor": "white",
            "ticks": ""
           },
           "bgcolor": "#E5ECF6",
           "caxis": {
            "gridcolor": "white",
            "linecolor": "white",
            "ticks": ""
           }
          },
          "title": {
           "x": 0.05
          },
          "xaxis": {
           "automargin": true,
           "gridcolor": "white",
           "linecolor": "white",
           "ticks": "",
           "title": {
            "standoff": 15
           },
           "zerolinecolor": "white",
           "zerolinewidth": 2
          },
          "yaxis": {
           "automargin": true,
           "gridcolor": "white",
           "linecolor": "white",
           "ticks": "",
           "title": {
            "standoff": 15
           },
           "zerolinecolor": "white",
           "zerolinewidth": 2
          }
         }
        },
        "width": 600,
        "xaxis": {
         "range": [
          0,
          100
         ],
         "title": {
          "text": "epoch"
         }
        },
        "yaxis": {
         "range": [
          -6,
          0
         ],
         "type": "log"
        }
       }
      },
      "text/html": [
       "<div>\n",
       "        \n",
       "        \n",
       "            <div id=\"2c952147-30ec-409c-b5a0-ac5075e5a562\" class=\"plotly-graph-div\" style=\"height:525px; width:600px;\"></div>\n",
       "            <script type=\"text/javascript\">\n",
       "                require([\"plotly\"], function(Plotly) {\n",
       "                    window.PLOTLYENV=window.PLOTLYENV || {};\n",
       "                    \n",
       "                if (document.getElementById(\"2c952147-30ec-409c-b5a0-ac5075e5a562\")) {\n",
       "                    Plotly.newPlot(\n",
       "                        '2c952147-30ec-409c-b5a0-ac5075e5a562',\n",
       "                        [{\"name\": \"error training\", \"type\": \"scatter\", \"y\": [0.09949301183223724, 0.012820218689739704, 0.009334450587630272, 0.006394249852746725, 0.0037537310272455215, 0.0020737696904689074, 0.0011100834235548973, 0.0005355632747523487, 0.00026555059594102204, 0.00013126105477567762, 6.746171857230365e-05, 4.121863094042055e-05, 2.7697453333530575e-05, 2.335055251023732e-05, 2.171284540963825e-05, 1.902292024169583e-05, 1.8395552615402266e-05, 1.7857846614788286e-05, 1.7710182873997837e-05, 1.711026197881438e-05, 1.6708825569367036e-05, 1.6741327272029594e-05, 1.633030296943616e-05, 1.5924728359095752e-05, 1.5892217561486177e-05, 1.593940396560356e-05, 1.7343118088319898e-05, 1.504093233961612e-05, 1.4343345355882775e-05, 1.401220742991427e-05, 1.4046680007595569e-05, 1.4186465705279261e-05, 1.6267898899968714e-05, 1.3340445548237767e-05, 1.3218172171036713e-05, 1.3233697245595977e-05, 1.309604795096675e-05, 1.2424689884937834e-05, 1.2615239938895684e-05, 1.2074506230419502e-05, 1.2283385331102181e-05, 1.1816857295343652e-05, 1.2269262697373051e-05, 1.1749944860639516e-05, 1.1216479833819903e-05, 1.1153120794915594e-05, 1.1300076948828064e-05, 1.1257002370257396e-05, 1.0582337381492835e-05, 1.0528118764341343e-05, 1.0236373782390729e-05, 1.0363835826865397e-05, 1.0424811989651062e-05, 1.1121352144982666e-05, 9.984054486267269e-06, 1.0297115295543335e-05, 1.190715283883037e-05, 9.608055734133814e-06, 1.0142613064090256e-05, 9.352203051093966e-06, 9.288864021073096e-06, 9.063328434422147e-06, 1.0606780051602982e-05, 9.129871614277363e-06, 8.674041055201087e-06, 8.504594916303176e-06, 8.450040695606731e-06, 8.355177669727709e-06, 8.316692401422188e-06, 8.480325050186366e-06, 8.04934370535193e-06, 8.206267921195831e-06, 8.115471246128436e-06, 7.796648787916638e-06, 8.687850822752807e-06, 7.519713562942343e-06, 7.874536095187068e-06, 7.424710474879248e-06, 7.250029739225283e-06, 7.265850399562623e-06, 7.208178885775851e-06, 7.1132312768895645e-06, 7.240967988764169e-06, 7.165275292209117e-06, 7.10420545146917e-06, 7.405580618069507e-06, 6.6828679337049834e-06, 6.746709459548583e-06, 6.882119123474695e-06, 6.619548457820201e-06, 6.4800583459145855e-06, 6.363142347254325e-06, 6.4248652051901445e-06, 6.145666702650487e-06, 6.474625479313545e-06, 6.211907930264715e-06, 6.3373568082170095e-06, 6.014175141899614e-06, 6.138385288068093e-06, 6.255357675399864e-06]}, {\"name\": \"error validation\", \"type\": \"scatter\", \"y\": [0.027034416794776917, 0.01160078588873148, 0.014533976092934608, 0.0061505017802119255, 0.003176439320668578, 0.002875261241570115, 0.0008724280050955713, 0.0006881052977405488, 0.0003383460862096399, 0.00012761387915816158, 0.00010972819291055202, 3.815098534687422e-05, 2.9193308364483528e-05, 5.284059079713188e-05, 2.059822691080626e-05, 2.8017424483550712e-05, 1.8189119145972654e-05, 3.324394128867425e-05, 1.8142647604690865e-05, 2.3672932002227753e-05, 3.074628330068663e-05, 2.5306129828095436e-05, 1.5716828784206882e-05, 3.4255801438121125e-05, 3.270575689384714e-05, 7.714772800682113e-05, 3.0842016712995246e-05, 1.549406624690164e-05, 1.9381199308554642e-05, 2.2799242287874222e-05, 2.6842908482649364e-05, 9.376327943755314e-05, 1.4769665540370625e-05, 1.7918224330060184e-05, 2.5097666366491467e-05, 2.0022664102725685e-05, 1.3996886991662905e-05, 2.8047763407812454e-05, 1.3834438505000435e-05, 1.4687720977235585e-05, 1.5352068658103235e-05, 2.262094676552806e-05, 1.627440178708639e-05, 1.2313573279243428e-05, 1.1919473763555288e-05, 1.4575002751371358e-05, 2.249684985144995e-05, 1.1057257324864622e-05, 1.2633461665245704e-05, 1.0473173460923135e-05, 1.7521186236990616e-05, 1.536568015580997e-05, 3.565242877812125e-05, 1.3262551874504425e-05, 2.1831610865774564e-05, 6.799914262956008e-05, 1.160228748631198e-05, 2.4643357392051257e-05, 1.6426782167400233e-05, 1.3978396964375861e-05, 1.0908910553553142e-05, 5.3157451475271955e-05, 2.0643145035137422e-05, 1.538793367217295e-05, 8.459211130684707e-06, 9.05473279999569e-06, 1.0699595804908313e-05, 1.4134297089185566e-05, 1.698220512480475e-05, 1.052334664564114e-05, 1.901493851619307e-05, 1.1442263712524436e-05, 1.30614980662358e-05, 2.95908612315543e-05, 8.566789801989216e-06, 1.768084075592924e-05, 8.184399121091701e-06, 7.68468999012839e-06, 1.1914461538253818e-05, 7.790347808622755e-06, 1.152520599134732e-05, 1.495770993642509e-05, 1.3445504919218365e-05, 1.4772426766285207e-05, 1.747830174281262e-05, 6.612018296436872e-06, 1.11779527287581e-05, 1.3353732356335968e-05, 1.0503973498998675e-05, 8.5943802332622e-06, 7.3387027441640384e-06, 1.2782813428202644e-05, 6.728247171849944e-06, 1.6100866560009308e-05, 1.2539584531623404e-05, 1.5232420082611497e-05, 8.489583706250414e-06, 1.2671413969655987e-05, 1.3288822628965136e-05, 6.356018275255337e-06]}],\n",
       "                        {\"template\": {\"data\": {\"bar\": [{\"error_x\": {\"color\": \"#2a3f5f\"}, \"error_y\": {\"color\": \"#2a3f5f\"}, \"marker\": {\"line\": {\"color\": \"#E5ECF6\", \"width\": 0.5}}, \"type\": \"bar\"}], \"barpolar\": [{\"marker\": {\"line\": {\"color\": \"#E5ECF6\", \"width\": 0.5}}, \"type\": \"barpolar\"}], \"carpet\": [{\"aaxis\": {\"endlinecolor\": \"#2a3f5f\", \"gridcolor\": \"white\", \"linecolor\": \"white\", \"minorgridcolor\": \"white\", \"startlinecolor\": \"#2a3f5f\"}, \"baxis\": {\"endlinecolor\": \"#2a3f5f\", \"gridcolor\": \"white\", \"linecolor\": \"white\", \"minorgridcolor\": \"white\", \"startlinecolor\": \"#2a3f5f\"}, \"type\": \"carpet\"}], \"choropleth\": [{\"colorbar\": {\"outlinewidth\": 0, \"ticks\": \"\"}, \"type\": \"choropleth\"}], \"contour\": [{\"colorbar\": {\"outlinewidth\": 0, \"ticks\": \"\"}, \"colorscale\": [[0.0, \"#0d0887\"], [0.1111111111111111, \"#46039f\"], [0.2222222222222222, \"#7201a8\"], [0.3333333333333333, \"#9c179e\"], [0.4444444444444444, \"#bd3786\"], [0.5555555555555556, \"#d8576b\"], [0.6666666666666666, \"#ed7953\"], [0.7777777777777778, \"#fb9f3a\"], [0.8888888888888888, \"#fdca26\"], [1.0, \"#f0f921\"]], \"type\": \"contour\"}], \"contourcarpet\": [{\"colorbar\": {\"outlinewidth\": 0, \"ticks\": \"\"}, \"type\": \"contourcarpet\"}], \"heatmap\": [{\"colorbar\": {\"outlinewidth\": 0, \"ticks\": \"\"}, \"colorscale\": [[0.0, \"#0d0887\"], [0.1111111111111111, \"#46039f\"], [0.2222222222222222, \"#7201a8\"], [0.3333333333333333, \"#9c179e\"], [0.4444444444444444, \"#bd3786\"], [0.5555555555555556, \"#d8576b\"], [0.6666666666666666, \"#ed7953\"], [0.7777777777777778, \"#fb9f3a\"], [0.8888888888888888, \"#fdca26\"], [1.0, \"#f0f921\"]], \"type\": \"heatmap\"}], \"heatmapgl\": [{\"colorbar\": {\"outlinewidth\": 0, \"ticks\": \"\"}, \"colorscale\": [[0.0, \"#0d0887\"], [0.1111111111111111, \"#46039f\"], [0.2222222222222222, \"#7201a8\"], [0.3333333333333333, \"#9c179e\"], [0.4444444444444444, \"#bd3786\"], [0.5555555555555556, \"#d8576b\"], [0.6666666666666666, \"#ed7953\"], [0.7777777777777778, \"#fb9f3a\"], [0.8888888888888888, \"#fdca26\"], [1.0, \"#f0f921\"]], \"type\": \"heatmapgl\"}], \"histogram\": [{\"marker\": {\"colorbar\": {\"outlinewidth\": 0, \"ticks\": \"\"}}, \"type\": \"histogram\"}], \"histogram2d\": [{\"colorbar\": {\"outlinewidth\": 0, \"ticks\": \"\"}, \"colorscale\": [[0.0, \"#0d0887\"], [0.1111111111111111, \"#46039f\"], [0.2222222222222222, \"#7201a8\"], [0.3333333333333333, \"#9c179e\"], [0.4444444444444444, \"#bd3786\"], [0.5555555555555556, \"#d8576b\"], [0.6666666666666666, \"#ed7953\"], [0.7777777777777778, \"#fb9f3a\"], [0.8888888888888888, \"#fdca26\"], [1.0, \"#f0f921\"]], \"type\": \"histogram2d\"}], \"histogram2dcontour\": [{\"colorbar\": {\"outlinewidth\": 0, \"ticks\": \"\"}, \"colorscale\": [[0.0, \"#0d0887\"], [0.1111111111111111, \"#46039f\"], [0.2222222222222222, \"#7201a8\"], [0.3333333333333333, \"#9c179e\"], [0.4444444444444444, \"#bd3786\"], [0.5555555555555556, \"#d8576b\"], [0.6666666666666666, \"#ed7953\"], [0.7777777777777778, \"#fb9f3a\"], [0.8888888888888888, \"#fdca26\"], [1.0, \"#f0f921\"]], \"type\": \"histogram2dcontour\"}], \"mesh3d\": [{\"colorbar\": {\"outlinewidth\": 0, \"ticks\": \"\"}, \"type\": \"mesh3d\"}], \"parcoords\": [{\"line\": {\"colorbar\": {\"outlinewidth\": 0, \"ticks\": \"\"}}, \"type\": \"parcoords\"}], \"pie\": [{\"automargin\": true, \"type\": \"pie\"}], \"scatter\": [{\"marker\": {\"colorbar\": {\"outlinewidth\": 0, \"ticks\": \"\"}}, \"type\": \"scatter\"}], \"scatter3d\": [{\"line\": {\"colorbar\": {\"outlinewidth\": 0, \"ticks\": \"\"}}, \"marker\": {\"colorbar\": {\"outlinewidth\": 0, \"ticks\": \"\"}}, \"type\": \"scatter3d\"}], \"scattercarpet\": [{\"marker\": {\"colorbar\": {\"outlinewidth\": 0, \"ticks\": \"\"}}, \"type\": \"scattercarpet\"}], \"scattergeo\": [{\"marker\": {\"colorbar\": {\"outlinewidth\": 0, \"ticks\": \"\"}}, \"type\": \"scattergeo\"}], \"scattergl\": [{\"marker\": {\"colorbar\": {\"outlinewidth\": 0, \"ticks\": \"\"}}, \"type\": \"scattergl\"}], \"scattermapbox\": [{\"marker\": {\"colorbar\": {\"outlinewidth\": 0, \"ticks\": \"\"}}, \"type\": \"scattermapbox\"}], \"scatterpolar\": [{\"marker\": {\"colorbar\": {\"outlinewidth\": 0, \"ticks\": \"\"}}, \"type\": \"scatterpolar\"}], \"scatterpolargl\": [{\"marker\": {\"colorbar\": {\"outlinewidth\": 0, \"ticks\": \"\"}}, \"type\": \"scatterpolargl\"}], \"scatterternary\": [{\"marker\": {\"colorbar\": {\"outlinewidth\": 0, \"ticks\": \"\"}}, \"type\": \"scatterternary\"}], \"surface\": [{\"colorbar\": {\"outlinewidth\": 0, \"ticks\": \"\"}, \"colorscale\": [[0.0, \"#0d0887\"], [0.1111111111111111, \"#46039f\"], [0.2222222222222222, \"#7201a8\"], [0.3333333333333333, \"#9c179e\"], [0.4444444444444444, \"#bd3786\"], [0.5555555555555556, \"#d8576b\"], [0.6666666666666666, \"#ed7953\"], [0.7777777777777778, \"#fb9f3a\"], [0.8888888888888888, \"#fdca26\"], [1.0, \"#f0f921\"]], \"type\": \"surface\"}], \"table\": [{\"cells\": {\"fill\": {\"color\": \"#EBF0F8\"}, \"line\": {\"color\": \"white\"}}, \"header\": {\"fill\": {\"color\": \"#C8D4E3\"}, \"line\": {\"color\": \"white\"}}, \"type\": \"table\"}]}, \"layout\": {\"annotationdefaults\": {\"arrowcolor\": \"#2a3f5f\", \"arrowhead\": 0, \"arrowwidth\": 1}, \"coloraxis\": {\"colorbar\": {\"outlinewidth\": 0, \"ticks\": \"\"}}, \"colorscale\": {\"diverging\": [[0, \"#8e0152\"], [0.1, \"#c51b7d\"], [0.2, \"#de77ae\"], [0.3, \"#f1b6da\"], [0.4, \"#fde0ef\"], [0.5, \"#f7f7f7\"], [0.6, \"#e6f5d0\"], [0.7, \"#b8e186\"], [0.8, \"#7fbc41\"], [0.9, \"#4d9221\"], [1, \"#276419\"]], \"sequential\": [[0.0, \"#0d0887\"], [0.1111111111111111, \"#46039f\"], [0.2222222222222222, \"#7201a8\"], [0.3333333333333333, \"#9c179e\"], [0.4444444444444444, \"#bd3786\"], [0.5555555555555556, \"#d8576b\"], [0.6666666666666666, \"#ed7953\"], [0.7777777777777778, \"#fb9f3a\"], [0.8888888888888888, \"#fdca26\"], [1.0, \"#f0f921\"]], \"sequentialminus\": [[0.0, \"#0d0887\"], [0.1111111111111111, \"#46039f\"], [0.2222222222222222, \"#7201a8\"], [0.3333333333333333, \"#9c179e\"], [0.4444444444444444, \"#bd3786\"], [0.5555555555555556, \"#d8576b\"], [0.6666666666666666, \"#ed7953\"], [0.7777777777777778, \"#fb9f3a\"], [0.8888888888888888, \"#fdca26\"], [1.0, \"#f0f921\"]]}, \"colorway\": [\"#636efa\", \"#EF553B\", \"#00cc96\", \"#ab63fa\", \"#FFA15A\", \"#19d3f3\", \"#FF6692\", \"#B6E880\", \"#FF97FF\", \"#FECB52\"], \"font\": {\"color\": \"#2a3f5f\"}, \"geo\": {\"bgcolor\": \"white\", \"lakecolor\": \"white\", \"landcolor\": \"#E5ECF6\", \"showlakes\": true, \"showland\": true, \"subunitcolor\": \"white\"}, \"hoverlabel\": {\"align\": \"left\"}, \"hovermode\": \"closest\", \"mapbox\": {\"style\": \"light\"}, \"paper_bgcolor\": \"white\", \"plot_bgcolor\": \"#E5ECF6\", \"polar\": {\"angularaxis\": {\"gridcolor\": \"white\", \"linecolor\": \"white\", \"ticks\": \"\"}, \"bgcolor\": \"#E5ECF6\", \"radialaxis\": {\"gridcolor\": \"white\", \"linecolor\": \"white\", \"ticks\": \"\"}}, \"scene\": {\"xaxis\": {\"backgroundcolor\": \"#E5ECF6\", \"gridcolor\": \"white\", \"gridwidth\": 2, \"linecolor\": \"white\", \"showbackground\": true, \"ticks\": \"\", \"zerolinecolor\": \"white\"}, \"yaxis\": {\"backgroundcolor\": \"#E5ECF6\", \"gridcolor\": \"white\", \"gridwidth\": 2, \"linecolor\": \"white\", \"showbackground\": true, \"ticks\": \"\", \"zerolinecolor\": \"white\"}, \"zaxis\": {\"backgroundcolor\": \"#E5ECF6\", \"gridcolor\": \"white\", \"gridwidth\": 2, \"linecolor\": \"white\", \"showbackground\": true, \"ticks\": \"\", \"zerolinecolor\": \"white\"}}, \"shapedefaults\": {\"line\": {\"color\": \"#2a3f5f\"}}, \"ternary\": {\"aaxis\": {\"gridcolor\": \"white\", \"linecolor\": \"white\", \"ticks\": \"\"}, \"baxis\": {\"gridcolor\": \"white\", \"linecolor\": \"white\", \"ticks\": \"\"}, \"bgcolor\": \"#E5ECF6\", \"caxis\": {\"gridcolor\": \"white\", \"linecolor\": \"white\", \"ticks\": \"\"}}, \"title\": {\"x\": 0.05}, \"xaxis\": {\"automargin\": true, \"gridcolor\": \"white\", \"linecolor\": \"white\", \"ticks\": \"\", \"title\": {\"standoff\": 15}, \"zerolinecolor\": \"white\", \"zerolinewidth\": 2}, \"yaxis\": {\"automargin\": true, \"gridcolor\": \"white\", \"linecolor\": \"white\", \"ticks\": \"\", \"title\": {\"standoff\": 15}, \"zerolinecolor\": \"white\", \"zerolinewidth\": 2}}}, \"width\": 600, \"xaxis\": {\"range\": [0, 100], \"title\": {\"text\": \"epoch\"}}, \"yaxis\": {\"range\": [-6, 0], \"type\": \"log\"}},\n",
       "                        {\"responsive\": true}\n",
       "                    ).then(function(){\n",
       "                            \n",
       "var gd = document.getElementById('2c952147-30ec-409c-b5a0-ac5075e5a562');\n",
       "var x = new MutationObserver(function (mutations, observer) {{\n",
       "        var display = window.getComputedStyle(gd).display;\n",
       "        if (!display || display === 'none') {{\n",
       "            console.log([gd, 'removed!']);\n",
       "            Plotly.purge(gd);\n",
       "            observer.disconnect();\n",
       "        }}\n",
       "}});\n",
       "\n",
       "// Listen for the removal of the full notebook cells\n",
       "var notebookContainer = gd.closest('#notebook-container');\n",
       "if (notebookContainer) {{\n",
       "    x.observe(notebookContainer, {childList: true});\n",
       "}}\n",
       "\n",
       "// Listen for the clearing of the current output cell\n",
       "var outputEl = gd.closest('.output');\n",
       "if (outputEl) {{\n",
       "    x.observe(outputEl, {childList: true});\n",
       "}}\n",
       "\n",
       "                        })\n",
       "                };\n",
       "                });\n",
       "            </script>\n",
       "        </div>"
      ]
     },
     "metadata": {},
     "output_type": "display_data"
    }
   ],
   "source": [
    "fig = go.Figure()\n",
    "plot_history(fig, history)\n",
    "fig.show()"
   ]
  },
  {
   "cell_type": "code",
   "execution_count": 207,
   "metadata": {},
   "outputs": [
    {
     "data": {
      "application/vnd.plotly.v1+json": {
       "config": {
        "plotlyServerURL": "https://plot.ly"
       },
       "data": [
        {
         "type": "scatter",
         "x": [
          -1,
          -0.984375,
          -0.96875,
          -0.953125,
          -0.9375,
          -0.921875,
          -0.90625,
          -0.890625,
          -0.875,
          -0.859375,
          -0.84375,
          -0.828125,
          -0.8125,
          -0.796875,
          -0.78125,
          -0.765625,
          -0.75,
          -0.734375,
          -0.71875,
          -0.703125,
          -0.6875,
          -0.671875,
          -0.65625,
          -0.640625,
          -0.625,
          -0.609375,
          -0.59375,
          -0.578125,
          -0.5625,
          -0.546875,
          -0.53125,
          -0.515625,
          -0.5,
          -0.484375,
          -0.46875,
          -0.453125,
          -0.4375,
          -0.421875,
          -0.40625,
          -0.390625,
          -0.375,
          -0.359375,
          -0.34375,
          -0.328125,
          -0.3125,
          -0.296875,
          -0.28125,
          -0.265625,
          -0.25,
          -0.234375,
          -0.21875,
          -0.203125,
          -0.1875,
          -0.171875,
          -0.15625,
          -0.140625,
          -0.125,
          -0.109375,
          -0.09375,
          -0.078125,
          -0.0625,
          -0.046875,
          -0.03125,
          -0.015625,
          0,
          0.015625,
          0.03125,
          0.046875,
          0.0625,
          0.078125,
          0.09375,
          0.109375,
          0.125,
          0.140625,
          0.15625,
          0.171875,
          0.1875,
          0.203125,
          0.21875,
          0.234375,
          0.25,
          0.265625,
          0.28125,
          0.296875,
          0.3125,
          0.328125,
          0.34375,
          0.359375,
          0.375,
          0.390625,
          0.40625,
          0.421875,
          0.4375,
          0.453125,
          0.46875,
          0.484375,
          0.5,
          0.515625,
          0.53125,
          0.546875,
          0.5625,
          0.578125,
          0.59375,
          0.609375,
          0.625,
          0.640625,
          0.65625,
          0.671875,
          0.6875,
          0.703125,
          0.71875,
          0.734375,
          0.75,
          0.765625,
          0.78125,
          0.796875,
          0.8125,
          0.828125,
          0.84375,
          0.859375,
          0.875,
          0.890625,
          0.90625,
          0.921875,
          0.9375,
          0.953125,
          0.96875,
          0.984375,
          1
         ],
         "y": [
          0.006487458944320679,
          0.005676440777279024,
          0.004886086971993997,
          0.004117690877901037,
          0.0033730827349387482,
          0.002653630605485957,
          0.00196070099004797,
          0.0012957016004844224,
          0.0006600043414968226,
          5.49869546728754e-05,
          0.0005182834672574632,
          0.0010587117621900788,
          0.0015652535943424528,
          0.002036875444543007,
          0.0024727532327211144,
          0.0028723518408425575,
          0.0032349681854247914,
          0.0035599894035817092,
          0.0038473891659237536,
          0.004096971834198659,
          0.004308450443358924,
          0.004482179494140759,
          0.004618575385813006,
          0.004717893185284594,
          0.004780717110365984,
          0.004807972368957136,
          0.004800577284196694,
          0.004759689088491559,
          0.00468635099224235,
          0.004582149544238967,
          0.004448736204233028,
          0.004287702931502491,
          0.00410075187683101,
          0.0038900396699887985,
          0.00365762313525142,
          0.0034056751018645137,
          0.0031362183758469886,
          0.002851808182316118,
          0.002555017149558303,
          0.0022480340232234886,
          0.001933448935208304,
          0.0016139006485810237,
          0.0012917779418578634,
          0.000969690532444667,
          0.0006503984597230339,
          0.0003363194421772686,
          2.974708695213657e-05,
          0.00026657719976408423,
          0.0005504453883451443,
          0.000819497791547219,
          0.0010716129104777483,
          0.0013046428299173796,
          0.0015165661865810254,
          0.0017058193782565345,
          0.0018703149430971955,
          0.0020090204293230496,
          0.0021204939255348165,
          0.0022037396816350086,
          0.0022578661808778655,
          0.00228245308664754,
          0.0022770764762789497,
          0.0022418989188488503,
          0.00217711832465195,
          0.0020834803435754168,
          0.001961827278137207,
          0.0018134713027428973,
          0.0016399612659361296,
          0.001443196678858616,
          0.0012252929145724067,
          0.000988793876442462,
          0.0007365172276307952,
          0.0004710326580144031,
          0.0001960983643165548,
          8.548678808417698e-05,
          0.0003701640493649627,
          0.0006542265316250573,
          0.0009342575972934863,
          0.0012066796684041536,
          0.0014678429801777693,
          0.001714534076433738,
          0.0019435917629915256,
          0.0021518812619973904,
          0.0023365660490493045,
          0.0024951400712971417,
          0.0026257559922242546,
          0.002726120204685878,
          0.002795603129540969,
          0.0028321599831452327,
          0.002835982466397269,
          0.002806589149413674,
          0.002744381106009719,
          0.0026499868551066452,
          0.002524376697227604,
          0.0023694483524443477,
          0.00218669971148433,
          0.0019783995027524703,
          0.0017472624778747115,
          0.001496178998091846,
          0.0012281184330843464,
          0.0009464450268744651,
          0.0006548716335692539,
          0.00035675358357822873,
          5.61667693651513e-05,
          0.00024340206646766838,
          0.0005376265290077953,
          0.0008231334069700447,
          0.0010958411180932437,
          0.0013520423457640263,
          0.0015881178549809194,
          0.0018004905338128152,
          0.0019859386043094007,
          0.0021412544738291794,
          0.0022633218765258922,
          0.002349432273995089,
          0.0023968866407835243,
          0.002403312963354942,
          0.0023666860075557405,
          0.0022851088097093353,
          0.002156951804196394,
          0.001980276585562768,
          0.001754584038152096,
          0.0014782706274314439,
          0.0011508526814847375,
          0.0007716735513477735,
          0.00034027919947732244,
          0.00014368359567074052,
          0.0006797947571319796,
          0.0012685136180151657,
          0.0019091367721557617
         ]
        }
       ],
       "layout": {
        "template": {
         "data": {
          "bar": [
           {
            "error_x": {
             "color": "#2a3f5f"
            },
            "error_y": {
             "color": "#2a3f5f"
            },
            "marker": {
             "line": {
              "color": "#E5ECF6",
              "width": 0.5
             }
            },
            "type": "bar"
           }
          ],
          "barpolar": [
           {
            "marker": {
             "line": {
              "color": "#E5ECF6",
              "width": 0.5
             }
            },
            "type": "barpolar"
           }
          ],
          "carpet": [
           {
            "aaxis": {
             "endlinecolor": "#2a3f5f",
             "gridcolor": "white",
             "linecolor": "white",
             "minorgridcolor": "white",
             "startlinecolor": "#2a3f5f"
            },
            "baxis": {
             "endlinecolor": "#2a3f5f",
             "gridcolor": "white",
             "linecolor": "white",
             "minorgridcolor": "white",
             "startlinecolor": "#2a3f5f"
            },
            "type": "carpet"
           }
          ],
          "choropleth": [
           {
            "colorbar": {
             "outlinewidth": 0,
             "ticks": ""
            },
            "type": "choropleth"
           }
          ],
          "contour": [
           {
            "colorbar": {
             "outlinewidth": 0,
             "ticks": ""
            },
            "colorscale": [
             [
              0,
              "#0d0887"
             ],
             [
              0.1111111111111111,
              "#46039f"
             ],
             [
              0.2222222222222222,
              "#7201a8"
             ],
             [
              0.3333333333333333,
              "#9c179e"
             ],
             [
              0.4444444444444444,
              "#bd3786"
             ],
             [
              0.5555555555555556,
              "#d8576b"
             ],
             [
              0.6666666666666666,
              "#ed7953"
             ],
             [
              0.7777777777777778,
              "#fb9f3a"
             ],
             [
              0.8888888888888888,
              "#fdca26"
             ],
             [
              1,
              "#f0f921"
             ]
            ],
            "type": "contour"
           }
          ],
          "contourcarpet": [
           {
            "colorbar": {
             "outlinewidth": 0,
             "ticks": ""
            },
            "type": "contourcarpet"
           }
          ],
          "heatmap": [
           {
            "colorbar": {
             "outlinewidth": 0,
             "ticks": ""
            },
            "colorscale": [
             [
              0,
              "#0d0887"
             ],
             [
              0.1111111111111111,
              "#46039f"
             ],
             [
              0.2222222222222222,
              "#7201a8"
             ],
             [
              0.3333333333333333,
              "#9c179e"
             ],
             [
              0.4444444444444444,
              "#bd3786"
             ],
             [
              0.5555555555555556,
              "#d8576b"
             ],
             [
              0.6666666666666666,
              "#ed7953"
             ],
             [
              0.7777777777777778,
              "#fb9f3a"
             ],
             [
              0.8888888888888888,
              "#fdca26"
             ],
             [
              1,
              "#f0f921"
             ]
            ],
            "type": "heatmap"
           }
          ],
          "heatmapgl": [
           {
            "colorbar": {
             "outlinewidth": 0,
             "ticks": ""
            },
            "colorscale": [
             [
              0,
              "#0d0887"
             ],
             [
              0.1111111111111111,
              "#46039f"
             ],
             [
              0.2222222222222222,
              "#7201a8"
             ],
             [
              0.3333333333333333,
              "#9c179e"
             ],
             [
              0.4444444444444444,
              "#bd3786"
             ],
             [
              0.5555555555555556,
              "#d8576b"
             ],
             [
              0.6666666666666666,
              "#ed7953"
             ],
             [
              0.7777777777777778,
              "#fb9f3a"
             ],
             [
              0.8888888888888888,
              "#fdca26"
             ],
             [
              1,
              "#f0f921"
             ]
            ],
            "type": "heatmapgl"
           }
          ],
          "histogram": [
           {
            "marker": {
             "colorbar": {
              "outlinewidth": 0,
              "ticks": ""
             }
            },
            "type": "histogram"
           }
          ],
          "histogram2d": [
           {
            "colorbar": {
             "outlinewidth": 0,
             "ticks": ""
            },
            "colorscale": [
             [
              0,
              "#0d0887"
             ],
             [
              0.1111111111111111,
              "#46039f"
             ],
             [
              0.2222222222222222,
              "#7201a8"
             ],
             [
              0.3333333333333333,
              "#9c179e"
             ],
             [
              0.4444444444444444,
              "#bd3786"
             ],
             [
              0.5555555555555556,
              "#d8576b"
             ],
             [
              0.6666666666666666,
              "#ed7953"
             ],
             [
              0.7777777777777778,
              "#fb9f3a"
             ],
             [
              0.8888888888888888,
              "#fdca26"
             ],
             [
              1,
              "#f0f921"
             ]
            ],
            "type": "histogram2d"
           }
          ],
          "histogram2dcontour": [
           {
            "colorbar": {
             "outlinewidth": 0,
             "ticks": ""
            },
            "colorscale": [
             [
              0,
              "#0d0887"
             ],
             [
              0.1111111111111111,
              "#46039f"
             ],
             [
              0.2222222222222222,
              "#7201a8"
             ],
             [
              0.3333333333333333,
              "#9c179e"
             ],
             [
              0.4444444444444444,
              "#bd3786"
             ],
             [
              0.5555555555555556,
              "#d8576b"
             ],
             [
              0.6666666666666666,
              "#ed7953"
             ],
             [
              0.7777777777777778,
              "#fb9f3a"
             ],
             [
              0.8888888888888888,
              "#fdca26"
             ],
             [
              1,
              "#f0f921"
             ]
            ],
            "type": "histogram2dcontour"
           }
          ],
          "mesh3d": [
           {
            "colorbar": {
             "outlinewidth": 0,
             "ticks": ""
            },
            "type": "mesh3d"
           }
          ],
          "parcoords": [
           {
            "line": {
             "colorbar": {
              "outlinewidth": 0,
              "ticks": ""
             }
            },
            "type": "parcoords"
           }
          ],
          "pie": [
           {
            "automargin": true,
            "type": "pie"
           }
          ],
          "scatter": [
           {
            "marker": {
             "colorbar": {
              "outlinewidth": 0,
              "ticks": ""
             }
            },
            "type": "scatter"
           }
          ],
          "scatter3d": [
           {
            "line": {
             "colorbar": {
              "outlinewidth": 0,
              "ticks": ""
             }
            },
            "marker": {
             "colorbar": {
              "outlinewidth": 0,
              "ticks": ""
             }
            },
            "type": "scatter3d"
           }
          ],
          "scattercarpet": [
           {
            "marker": {
             "colorbar": {
              "outlinewidth": 0,
              "ticks": ""
             }
            },
            "type": "scattercarpet"
           }
          ],
          "scattergeo": [
           {
            "marker": {
             "colorbar": {
              "outlinewidth": 0,
              "ticks": ""
             }
            },
            "type": "scattergeo"
           }
          ],
          "scattergl": [
           {
            "marker": {
             "colorbar": {
              "outlinewidth": 0,
              "ticks": ""
             }
            },
            "type": "scattergl"
           }
          ],
          "scattermapbox": [
           {
            "marker": {
             "colorbar": {
              "outlinewidth": 0,
              "ticks": ""
             }
            },
            "type": "scattermapbox"
           }
          ],
          "scatterpolar": [
           {
            "marker": {
             "colorbar": {
              "outlinewidth": 0,
              "ticks": ""
             }
            },
            "type": "scatterpolar"
           }
          ],
          "scatterpolargl": [
           {
            "marker": {
             "colorbar": {
              "outlinewidth": 0,
              "ticks": ""
             }
            },
            "type": "scatterpolargl"
           }
          ],
          "scatterternary": [
           {
            "marker": {
             "colorbar": {
              "outlinewidth": 0,
              "ticks": ""
             }
            },
            "type": "scatterternary"
           }
          ],
          "surface": [
           {
            "colorbar": {
             "outlinewidth": 0,
             "ticks": ""
            },
            "colorscale": [
             [
              0,
              "#0d0887"
             ],
             [
              0.1111111111111111,
              "#46039f"
             ],
             [
              0.2222222222222222,
              "#7201a8"
             ],
             [
              0.3333333333333333,
              "#9c179e"
             ],
             [
              0.4444444444444444,
              "#bd3786"
             ],
             [
              0.5555555555555556,
              "#d8576b"
             ],
             [
              0.6666666666666666,
              "#ed7953"
             ],
             [
              0.7777777777777778,
              "#fb9f3a"
             ],
             [
              0.8888888888888888,
              "#fdca26"
             ],
             [
              1,
              "#f0f921"
             ]
            ],
            "type": "surface"
           }
          ],
          "table": [
           {
            "cells": {
             "fill": {
              "color": "#EBF0F8"
             },
             "line": {
              "color": "white"
             }
            },
            "header": {
             "fill": {
              "color": "#C8D4E3"
             },
             "line": {
              "color": "white"
             }
            },
            "type": "table"
           }
          ]
         },
         "layout": {
          "annotationdefaults": {
           "arrowcolor": "#2a3f5f",
           "arrowhead": 0,
           "arrowwidth": 1
          },
          "coloraxis": {
           "colorbar": {
            "outlinewidth": 0,
            "ticks": ""
           }
          },
          "colorscale": {
           "diverging": [
            [
             0,
             "#8e0152"
            ],
            [
             0.1,
             "#c51b7d"
            ],
            [
             0.2,
             "#de77ae"
            ],
            [
             0.3,
             "#f1b6da"
            ],
            [
             0.4,
             "#fde0ef"
            ],
            [
             0.5,
             "#f7f7f7"
            ],
            [
             0.6,
             "#e6f5d0"
            ],
            [
             0.7,
             "#b8e186"
            ],
            [
             0.8,
             "#7fbc41"
            ],
            [
             0.9,
             "#4d9221"
            ],
            [
             1,
             "#276419"
            ]
           ],
           "sequential": [
            [
             0,
             "#0d0887"
            ],
            [
             0.1111111111111111,
             "#46039f"
            ],
            [
             0.2222222222222222,
             "#7201a8"
            ],
            [
             0.3333333333333333,
             "#9c179e"
            ],
            [
             0.4444444444444444,
             "#bd3786"
            ],
            [
             0.5555555555555556,
             "#d8576b"
            ],
            [
             0.6666666666666666,
             "#ed7953"
            ],
            [
             0.7777777777777778,
             "#fb9f3a"
            ],
            [
             0.8888888888888888,
             "#fdca26"
            ],
            [
             1,
             "#f0f921"
            ]
           ],
           "sequentialminus": [
            [
             0,
             "#0d0887"
            ],
            [
             0.1111111111111111,
             "#46039f"
            ],
            [
             0.2222222222222222,
             "#7201a8"
            ],
            [
             0.3333333333333333,
             "#9c179e"
            ],
            [
             0.4444444444444444,
             "#bd3786"
            ],
            [
             0.5555555555555556,
             "#d8576b"
            ],
            [
             0.6666666666666666,
             "#ed7953"
            ],
            [
             0.7777777777777778,
             "#fb9f3a"
            ],
            [
             0.8888888888888888,
             "#fdca26"
            ],
            [
             1,
             "#f0f921"
            ]
           ]
          },
          "colorway": [
           "#636efa",
           "#EF553B",
           "#00cc96",
           "#ab63fa",
           "#FFA15A",
           "#19d3f3",
           "#FF6692",
           "#B6E880",
           "#FF97FF",
           "#FECB52"
          ],
          "font": {
           "color": "#2a3f5f"
          },
          "geo": {
           "bgcolor": "white",
           "lakecolor": "white",
           "landcolor": "#E5ECF6",
           "showlakes": true,
           "showland": true,
           "subunitcolor": "white"
          },
          "hoverlabel": {
           "align": "left"
          },
          "hovermode": "closest",
          "mapbox": {
           "style": "light"
          },
          "paper_bgcolor": "white",
          "plot_bgcolor": "#E5ECF6",
          "polar": {
           "angularaxis": {
            "gridcolor": "white",
            "linecolor": "white",
            "ticks": ""
           },
           "bgcolor": "#E5ECF6",
           "radialaxis": {
            "gridcolor": "white",
            "linecolor": "white",
            "ticks": ""
           }
          },
          "scene": {
           "xaxis": {
            "backgroundcolor": "#E5ECF6",
            "gridcolor": "white",
            "gridwidth": 2,
            "linecolor": "white",
            "showbackground": true,
            "ticks": "",
            "zerolinecolor": "white"
           },
           "yaxis": {
            "backgroundcolor": "#E5ECF6",
            "gridcolor": "white",
            "gridwidth": 2,
            "linecolor": "white",
            "showbackground": true,
            "ticks": "",
            "zerolinecolor": "white"
           },
           "zaxis": {
            "backgroundcolor": "#E5ECF6",
            "gridcolor": "white",
            "gridwidth": 2,
            "linecolor": "white",
            "showbackground": true,
            "ticks": "",
            "zerolinecolor": "white"
           }
          },
          "shapedefaults": {
           "line": {
            "color": "#2a3f5f"
           }
          },
          "ternary": {
           "aaxis": {
            "gridcolor": "white",
            "linecolor": "white",
            "ticks": ""
           },
           "baxis": {
            "gridcolor": "white",
            "linecolor": "white",
            "ticks": ""
           },
           "bgcolor": "#E5ECF6",
           "caxis": {
            "gridcolor": "white",
            "linecolor": "white",
            "ticks": ""
           }
          },
          "title": {
           "x": 0.05
          },
          "xaxis": {
           "automargin": true,
           "gridcolor": "white",
           "linecolor": "white",
           "ticks": "",
           "title": {
            "standoff": 15
           },
           "zerolinecolor": "white",
           "zerolinewidth": 2
          },
          "yaxis": {
           "automargin": true,
           "gridcolor": "white",
           "linecolor": "white",
           "ticks": "",
           "title": {
            "standoff": 15
           },
           "zerolinecolor": "white",
           "zerolinewidth": 2
          }
         }
        },
        "title": {
         "text": "absolute error vs x"
        },
        "width": 600,
        "xaxis": {
         "range": [
          -1,
          1
         ],
         "title": {
          "text": "x"
         }
        },
        "yaxis": {
         "range": [
          -6,
          -1
         ],
         "type": "log"
        }
       }
      },
      "text/html": [
       "<div>\n",
       "        \n",
       "        \n",
       "            <div id=\"c991c46c-61e3-4a30-a59c-6d96459d0a9b\" class=\"plotly-graph-div\" style=\"height:525px; width:600px;\"></div>\n",
       "            <script type=\"text/javascript\">\n",
       "                require([\"plotly\"], function(Plotly) {\n",
       "                    window.PLOTLYENV=window.PLOTLYENV || {};\n",
       "                    \n",
       "                if (document.getElementById(\"c991c46c-61e3-4a30-a59c-6d96459d0a9b\")) {\n",
       "                    Plotly.newPlot(\n",
       "                        'c991c46c-61e3-4a30-a59c-6d96459d0a9b',\n",
       "                        [{\"type\": \"scatter\", \"x\": [-1.0, -0.984375, -0.96875, -0.953125, -0.9375, -0.921875, -0.90625, -0.890625, -0.875, -0.859375, -0.84375, -0.828125, -0.8125, -0.796875, -0.78125, -0.765625, -0.75, -0.734375, -0.71875, -0.703125, -0.6875, -0.671875, -0.65625, -0.640625, -0.625, -0.609375, -0.59375, -0.578125, -0.5625, -0.546875, -0.53125, -0.515625, -0.5, -0.484375, -0.46875, -0.453125, -0.4375, -0.421875, -0.40625, -0.390625, -0.375, -0.359375, -0.34375, -0.328125, -0.3125, -0.296875, -0.28125, -0.265625, -0.25, -0.234375, -0.21875, -0.203125, -0.1875, -0.171875, -0.15625, -0.140625, -0.125, -0.109375, -0.09375, -0.078125, -0.0625, -0.046875, -0.03125, -0.015625, 0.0, 0.015625, 0.03125, 0.046875, 0.0625, 0.078125, 0.09375, 0.109375, 0.125, 0.140625, 0.15625, 0.171875, 0.1875, 0.203125, 0.21875, 0.234375, 0.25, 0.265625, 0.28125, 0.296875, 0.3125, 0.328125, 0.34375, 0.359375, 0.375, 0.390625, 0.40625, 0.421875, 0.4375, 0.453125, 0.46875, 0.484375, 0.5, 0.515625, 0.53125, 0.546875, 0.5625, 0.578125, 0.59375, 0.609375, 0.625, 0.640625, 0.65625, 0.671875, 0.6875, 0.703125, 0.71875, 0.734375, 0.75, 0.765625, 0.78125, 0.796875, 0.8125, 0.828125, 0.84375, 0.859375, 0.875, 0.890625, 0.90625, 0.921875, 0.9375, 0.953125, 0.96875, 0.984375, 1.0], \"y\": [0.006487458944320679, 0.005676440777279024, 0.004886086971993997, 0.004117690877901037, 0.0033730827349387482, 0.002653630605485957, 0.00196070099004797, 0.0012957016004844224, 0.0006600043414968226, 5.49869546728754e-05, 0.0005182834672574632, 0.0010587117621900788, 0.0015652535943424528, 0.002036875444543007, 0.0024727532327211144, 0.0028723518408425575, 0.0032349681854247914, 0.0035599894035817092, 0.0038473891659237536, 0.004096971834198659, 0.004308450443358924, 0.004482179494140759, 0.004618575385813006, 0.004717893185284594, 0.004780717110365984, 0.004807972368957136, 0.004800577284196694, 0.004759689088491559, 0.00468635099224235, 0.004582149544238967, 0.004448736204233028, 0.004287702931502491, 0.00410075187683101, 0.0038900396699887985, 0.00365762313525142, 0.0034056751018645137, 0.0031362183758469886, 0.002851808182316118, 0.002555017149558303, 0.0022480340232234886, 0.001933448935208304, 0.0016139006485810237, 0.0012917779418578634, 0.000969690532444667, 0.0006503984597230339, 0.0003363194421772686, 2.974708695213657e-05, 0.00026657719976408423, 0.0005504453883451443, 0.000819497791547219, 0.0010716129104777483, 0.0013046428299173796, 0.0015165661865810254, 0.0017058193782565345, 0.0018703149430971955, 0.0020090204293230496, 0.0021204939255348165, 0.0022037396816350086, 0.0022578661808778655, 0.00228245308664754, 0.0022770764762789497, 0.0022418989188488503, 0.00217711832465195, 0.0020834803435754168, 0.001961827278137207, 0.0018134713027428973, 0.0016399612659361296, 0.001443196678858616, 0.0012252929145724067, 0.000988793876442462, 0.0007365172276307952, 0.0004710326580144031, 0.0001960983643165548, 8.548678808417698e-05, 0.0003701640493649627, 0.0006542265316250573, 0.0009342575972934863, 0.0012066796684041536, 0.0014678429801777693, 0.001714534076433738, 0.0019435917629915256, 0.0021518812619973904, 0.0023365660490493045, 0.0024951400712971417, 0.0026257559922242546, 0.002726120204685878, 0.002795603129540969, 0.0028321599831452327, 0.002835982466397269, 0.002806589149413674, 0.002744381106009719, 0.0026499868551066452, 0.002524376697227604, 0.0023694483524443477, 0.00218669971148433, 0.0019783995027524703, 0.0017472624778747115, 0.001496178998091846, 0.0012281184330843464, 0.0009464450268744651, 0.0006548716335692539, 0.00035675358357822873, 5.61667693651513e-05, 0.00024340206646766838, 0.0005376265290077953, 0.0008231334069700447, 0.0010958411180932437, 0.0013520423457640263, 0.0015881178549809194, 0.0018004905338128152, 0.0019859386043094007, 0.0021412544738291794, 0.0022633218765258922, 0.002349432273995089, 0.0023968866407835243, 0.002403312963354942, 0.0023666860075557405, 0.0022851088097093353, 0.002156951804196394, 0.001980276585562768, 0.001754584038152096, 0.0014782706274314439, 0.0011508526814847375, 0.0007716735513477735, 0.00034027919947732244, 0.00014368359567074052, 0.0006797947571319796, 0.0012685136180151657, 0.0019091367721557617]}],\n",
       "                        {\"template\": {\"data\": {\"bar\": [{\"error_x\": {\"color\": \"#2a3f5f\"}, \"error_y\": {\"color\": \"#2a3f5f\"}, \"marker\": {\"line\": {\"color\": \"#E5ECF6\", \"width\": 0.5}}, \"type\": \"bar\"}], \"barpolar\": [{\"marker\": {\"line\": {\"color\": \"#E5ECF6\", \"width\": 0.5}}, \"type\": \"barpolar\"}], \"carpet\": [{\"aaxis\": {\"endlinecolor\": \"#2a3f5f\", \"gridcolor\": \"white\", \"linecolor\": \"white\", \"minorgridcolor\": \"white\", \"startlinecolor\": \"#2a3f5f\"}, \"baxis\": {\"endlinecolor\": \"#2a3f5f\", \"gridcolor\": \"white\", \"linecolor\": \"white\", \"minorgridcolor\": \"white\", \"startlinecolor\": \"#2a3f5f\"}, \"type\": \"carpet\"}], \"choropleth\": [{\"colorbar\": {\"outlinewidth\": 0, \"ticks\": \"\"}, \"type\": \"choropleth\"}], \"contour\": [{\"colorbar\": {\"outlinewidth\": 0, \"ticks\": \"\"}, \"colorscale\": [[0.0, \"#0d0887\"], [0.1111111111111111, \"#46039f\"], [0.2222222222222222, \"#7201a8\"], [0.3333333333333333, \"#9c179e\"], [0.4444444444444444, \"#bd3786\"], [0.5555555555555556, \"#d8576b\"], [0.6666666666666666, \"#ed7953\"], [0.7777777777777778, \"#fb9f3a\"], [0.8888888888888888, \"#fdca26\"], [1.0, \"#f0f921\"]], \"type\": \"contour\"}], \"contourcarpet\": [{\"colorbar\": {\"outlinewidth\": 0, \"ticks\": \"\"}, \"type\": \"contourcarpet\"}], \"heatmap\": [{\"colorbar\": {\"outlinewidth\": 0, \"ticks\": \"\"}, \"colorscale\": [[0.0, \"#0d0887\"], [0.1111111111111111, \"#46039f\"], [0.2222222222222222, \"#7201a8\"], [0.3333333333333333, \"#9c179e\"], [0.4444444444444444, \"#bd3786\"], [0.5555555555555556, \"#d8576b\"], [0.6666666666666666, \"#ed7953\"], [0.7777777777777778, \"#fb9f3a\"], [0.8888888888888888, \"#fdca26\"], [1.0, \"#f0f921\"]], \"type\": \"heatmap\"}], \"heatmapgl\": [{\"colorbar\": {\"outlinewidth\": 0, \"ticks\": \"\"}, \"colorscale\": [[0.0, \"#0d0887\"], [0.1111111111111111, \"#46039f\"], [0.2222222222222222, \"#7201a8\"], [0.3333333333333333, \"#9c179e\"], [0.4444444444444444, \"#bd3786\"], [0.5555555555555556, \"#d8576b\"], [0.6666666666666666, \"#ed7953\"], [0.7777777777777778, \"#fb9f3a\"], [0.8888888888888888, \"#fdca26\"], [1.0, \"#f0f921\"]], \"type\": \"heatmapgl\"}], \"histogram\": [{\"marker\": {\"colorbar\": {\"outlinewidth\": 0, \"ticks\": \"\"}}, \"type\": \"histogram\"}], \"histogram2d\": [{\"colorbar\": {\"outlinewidth\": 0, \"ticks\": \"\"}, \"colorscale\": [[0.0, \"#0d0887\"], [0.1111111111111111, \"#46039f\"], [0.2222222222222222, \"#7201a8\"], [0.3333333333333333, \"#9c179e\"], [0.4444444444444444, \"#bd3786\"], [0.5555555555555556, \"#d8576b\"], [0.6666666666666666, \"#ed7953\"], [0.7777777777777778, \"#fb9f3a\"], [0.8888888888888888, \"#fdca26\"], [1.0, \"#f0f921\"]], \"type\": \"histogram2d\"}], \"histogram2dcontour\": [{\"colorbar\": {\"outlinewidth\": 0, \"ticks\": \"\"}, \"colorscale\": [[0.0, \"#0d0887\"], [0.1111111111111111, \"#46039f\"], [0.2222222222222222, \"#7201a8\"], [0.3333333333333333, \"#9c179e\"], [0.4444444444444444, \"#bd3786\"], [0.5555555555555556, \"#d8576b\"], [0.6666666666666666, \"#ed7953\"], [0.7777777777777778, \"#fb9f3a\"], [0.8888888888888888, \"#fdca26\"], [1.0, \"#f0f921\"]], \"type\": \"histogram2dcontour\"}], \"mesh3d\": [{\"colorbar\": {\"outlinewidth\": 0, \"ticks\": \"\"}, \"type\": \"mesh3d\"}], \"parcoords\": [{\"line\": {\"colorbar\": {\"outlinewidth\": 0, \"ticks\": \"\"}}, \"type\": \"parcoords\"}], \"pie\": [{\"automargin\": true, \"type\": \"pie\"}], \"scatter\": [{\"marker\": {\"colorbar\": {\"outlinewidth\": 0, \"ticks\": \"\"}}, \"type\": \"scatter\"}], \"scatter3d\": [{\"line\": {\"colorbar\": {\"outlinewidth\": 0, \"ticks\": \"\"}}, \"marker\": {\"colorbar\": {\"outlinewidth\": 0, \"ticks\": \"\"}}, \"type\": \"scatter3d\"}], \"scattercarpet\": [{\"marker\": {\"colorbar\": {\"outlinewidth\": 0, \"ticks\": \"\"}}, \"type\": \"scattercarpet\"}], \"scattergeo\": [{\"marker\": {\"colorbar\": {\"outlinewidth\": 0, \"ticks\": \"\"}}, \"type\": \"scattergeo\"}], \"scattergl\": [{\"marker\": {\"colorbar\": {\"outlinewidth\": 0, \"ticks\": \"\"}}, \"type\": \"scattergl\"}], \"scattermapbox\": [{\"marker\": {\"colorbar\": {\"outlinewidth\": 0, \"ticks\": \"\"}}, \"type\": \"scattermapbox\"}], \"scatterpolar\": [{\"marker\": {\"colorbar\": {\"outlinewidth\": 0, \"ticks\": \"\"}}, \"type\": \"scatterpolar\"}], \"scatterpolargl\": [{\"marker\": {\"colorbar\": {\"outlinewidth\": 0, \"ticks\": \"\"}}, \"type\": \"scatterpolargl\"}], \"scatterternary\": [{\"marker\": {\"colorbar\": {\"outlinewidth\": 0, \"ticks\": \"\"}}, \"type\": \"scatterternary\"}], \"surface\": [{\"colorbar\": {\"outlinewidth\": 0, \"ticks\": \"\"}, \"colorscale\": [[0.0, \"#0d0887\"], [0.1111111111111111, \"#46039f\"], [0.2222222222222222, \"#7201a8\"], [0.3333333333333333, \"#9c179e\"], [0.4444444444444444, \"#bd3786\"], [0.5555555555555556, \"#d8576b\"], [0.6666666666666666, \"#ed7953\"], [0.7777777777777778, \"#fb9f3a\"], [0.8888888888888888, \"#fdca26\"], [1.0, \"#f0f921\"]], \"type\": \"surface\"}], \"table\": [{\"cells\": {\"fill\": {\"color\": \"#EBF0F8\"}, \"line\": {\"color\": \"white\"}}, \"header\": {\"fill\": {\"color\": \"#C8D4E3\"}, \"line\": {\"color\": \"white\"}}, \"type\": \"table\"}]}, \"layout\": {\"annotationdefaults\": {\"arrowcolor\": \"#2a3f5f\", \"arrowhead\": 0, \"arrowwidth\": 1}, \"coloraxis\": {\"colorbar\": {\"outlinewidth\": 0, \"ticks\": \"\"}}, \"colorscale\": {\"diverging\": [[0, \"#8e0152\"], [0.1, \"#c51b7d\"], [0.2, \"#de77ae\"], [0.3, \"#f1b6da\"], [0.4, \"#fde0ef\"], [0.5, \"#f7f7f7\"], [0.6, \"#e6f5d0\"], [0.7, \"#b8e186\"], [0.8, \"#7fbc41\"], [0.9, \"#4d9221\"], [1, \"#276419\"]], \"sequential\": [[0.0, \"#0d0887\"], [0.1111111111111111, \"#46039f\"], [0.2222222222222222, \"#7201a8\"], [0.3333333333333333, \"#9c179e\"], [0.4444444444444444, \"#bd3786\"], [0.5555555555555556, \"#d8576b\"], [0.6666666666666666, \"#ed7953\"], [0.7777777777777778, \"#fb9f3a\"], [0.8888888888888888, \"#fdca26\"], [1.0, \"#f0f921\"]], \"sequentialminus\": [[0.0, \"#0d0887\"], [0.1111111111111111, \"#46039f\"], [0.2222222222222222, \"#7201a8\"], [0.3333333333333333, \"#9c179e\"], [0.4444444444444444, \"#bd3786\"], [0.5555555555555556, \"#d8576b\"], [0.6666666666666666, \"#ed7953\"], [0.7777777777777778, \"#fb9f3a\"], [0.8888888888888888, \"#fdca26\"], [1.0, \"#f0f921\"]]}, \"colorway\": [\"#636efa\", \"#EF553B\", \"#00cc96\", \"#ab63fa\", \"#FFA15A\", \"#19d3f3\", \"#FF6692\", \"#B6E880\", \"#FF97FF\", \"#FECB52\"], \"font\": {\"color\": \"#2a3f5f\"}, \"geo\": {\"bgcolor\": \"white\", \"lakecolor\": \"white\", \"landcolor\": \"#E5ECF6\", \"showlakes\": true, \"showland\": true, \"subunitcolor\": \"white\"}, \"hoverlabel\": {\"align\": \"left\"}, \"hovermode\": \"closest\", \"mapbox\": {\"style\": \"light\"}, \"paper_bgcolor\": \"white\", \"plot_bgcolor\": \"#E5ECF6\", \"polar\": {\"angularaxis\": {\"gridcolor\": \"white\", \"linecolor\": \"white\", \"ticks\": \"\"}, \"bgcolor\": \"#E5ECF6\", \"radialaxis\": {\"gridcolor\": \"white\", \"linecolor\": \"white\", \"ticks\": \"\"}}, \"scene\": {\"xaxis\": {\"backgroundcolor\": \"#E5ECF6\", \"gridcolor\": \"white\", \"gridwidth\": 2, \"linecolor\": \"white\", \"showbackground\": true, \"ticks\": \"\", \"zerolinecolor\": \"white\"}, \"yaxis\": {\"backgroundcolor\": \"#E5ECF6\", \"gridcolor\": \"white\", \"gridwidth\": 2, \"linecolor\": \"white\", \"showbackground\": true, \"ticks\": \"\", \"zerolinecolor\": \"white\"}, \"zaxis\": {\"backgroundcolor\": \"#E5ECF6\", \"gridcolor\": \"white\", \"gridwidth\": 2, \"linecolor\": \"white\", \"showbackground\": true, \"ticks\": \"\", \"zerolinecolor\": \"white\"}}, \"shapedefaults\": {\"line\": {\"color\": \"#2a3f5f\"}}, \"ternary\": {\"aaxis\": {\"gridcolor\": \"white\", \"linecolor\": \"white\", \"ticks\": \"\"}, \"baxis\": {\"gridcolor\": \"white\", \"linecolor\": \"white\", \"ticks\": \"\"}, \"bgcolor\": \"#E5ECF6\", \"caxis\": {\"gridcolor\": \"white\", \"linecolor\": \"white\", \"ticks\": \"\"}}, \"title\": {\"x\": 0.05}, \"xaxis\": {\"automargin\": true, \"gridcolor\": \"white\", \"linecolor\": \"white\", \"ticks\": \"\", \"title\": {\"standoff\": 15}, \"zerolinecolor\": \"white\", \"zerolinewidth\": 2}, \"yaxis\": {\"automargin\": true, \"gridcolor\": \"white\", \"linecolor\": \"white\", \"ticks\": \"\", \"title\": {\"standoff\": 15}, \"zerolinecolor\": \"white\", \"zerolinewidth\": 2}}}, \"title\": {\"text\": \"absolute error vs x\"}, \"width\": 600, \"xaxis\": {\"range\": [-1, 1], \"title\": {\"text\": \"x\"}}, \"yaxis\": {\"range\": [-6, -1], \"type\": \"log\"}},\n",
       "                        {\"responsive\": true}\n",
       "                    ).then(function(){\n",
       "                            \n",
       "var gd = document.getElementById('c991c46c-61e3-4a30-a59c-6d96459d0a9b');\n",
       "var x = new MutationObserver(function (mutations, observer) {{\n",
       "        var display = window.getComputedStyle(gd).display;\n",
       "        if (!display || display === 'none') {{\n",
       "            console.log([gd, 'removed!']);\n",
       "            Plotly.purge(gd);\n",
       "            observer.disconnect();\n",
       "        }}\n",
       "}});\n",
       "\n",
       "// Listen for the removal of the full notebook cells\n",
       "var notebookContainer = gd.closest('#notebook-container');\n",
       "if (notebookContainer) {{\n",
       "    x.observe(notebookContainer, {childList: true});\n",
       "}}\n",
       "\n",
       "// Listen for the clearing of the current output cell\n",
       "var outputEl = gd.closest('.output');\n",
       "if (outputEl) {{\n",
       "    x.observe(outputEl, {childList: true});\n",
       "}}\n",
       "\n",
       "                        })\n",
       "                };\n",
       "                });\n",
       "            </script>\n",
       "        </div>"
      ]
     },
     "metadata": {},
     "output_type": "display_data"
    }
   ],
   "source": [
    "fig = go.Figure()\n",
    "plot_error(fig, model, X_test, y_test)\n",
    "fig.show()"
   ]
  },
  {
   "cell_type": "code",
   "execution_count": 208,
   "metadata": {},
   "outputs": [],
   "source": [
    "def multi_input(X):\n",
    "    return np.transpose( np.vstack( (2 * X**2 - 1, 8 * X**4 - 8 * X**2 + 1 )))"
   ]
  },
  {
   "cell_type": "code",
   "execution_count": 209,
   "metadata": {},
   "outputs": [
    {
     "name": "stdout",
     "output_type": "stream",
     "text": [
      "Model: \"model_6\"\n",
      "_________________________________________________________________\n",
      "Layer (type)                 Output Shape              Param #   \n",
      "=================================================================\n",
      "input_14 (InputLayer)        [(None, 2)]               0         \n",
      "_________________________________________________________________\n",
      "dense_64 (Dense)             (None, 4)                 12        \n",
      "_________________________________________________________________\n",
      "dense_65 (Dense)             (None, 4)                 20        \n",
      "_________________________________________________________________\n",
      "dense_66 (Dense)             (None, 4)                 20        \n",
      "_________________________________________________________________\n",
      "dense_67 (Dense)             (None, 1)                 5         \n",
      "=================================================================\n",
      "Total params: 57\n",
      "Trainable params: 57\n",
      "Non-trainable params: 0\n",
      "_________________________________________________________________\n"
     ]
    }
   ],
   "source": [
    "tf.random.set_seed(2020)\n",
    "\n",
    "X_train = np.linspace(0,1,256)\n",
    "y_train = fun(X_train)\n",
    "\n",
    "X_valid = np.linspace(0,1,256)\n",
    "y_valid = fun(X_valid)\n",
    "\n",
    "X_test = np.linspace(0,1,128)\n",
    "y_test = fun(X_test)\n",
    "\n",
    "input_ = layers.Input(shape=2)\n",
    "hidden1 = layers.Dense(4, activation=\"tanh\")(input_)\n",
    "hidden2 = layers.Dense(4, activation=\"tanh\")(hidden1)\n",
    "hidden3 = layers.Dense(4, activation=\"tanh\")(hidden2)\n",
    "concat = layers.Concatenate()([input_, hidden3])\n",
    "output = layers.Dense(1, activation=\"linear\")(hidden3)\n",
    "model = Model(inputs=[input_], outputs=[output])\n",
    "\n",
    "model.summary()"
   ]
  },
  {
   "cell_type": "code",
   "execution_count": 210,
   "metadata": {},
   "outputs": [
    {
     "name": "stdout",
     "output_type": "stream",
     "text": [
      "Train on 256 samples, validate on 256 samples\n",
      "Epoch 1/100\n",
      "256/256 [==============================] - 1s 5ms/sample - loss: 0.1298 - mse: 0.1298 - mae: 0.2244 - val_loss: 0.0085 - val_mse: 0.0085 - val_mae: 0.0805\n",
      "Epoch 2/100\n",
      "256/256 [==============================] - 0s 597us/sample - loss: 0.0043 - mse: 0.0043 - mae: 0.0569 - val_loss: 0.0020 - val_mse: 0.0020 - val_mae: 0.0388\n",
      "Epoch 3/100\n",
      "256/256 [==============================] - 0s 558us/sample - loss: 8.6683e-04 - mse: 8.6683e-04 - mae: 0.0251 - val_loss: 3.0065e-04 - val_mse: 3.0065e-04 - val_mae: 0.0155\n",
      "Epoch 4/100\n",
      "256/256 [==============================] - 0s 497us/sample - loss: 1.6227e-04 - mse: 1.6227e-04 - mae: 0.0106 - val_loss: 6.3690e-05 - val_mse: 6.3690e-05 - val_mae: 0.0062\n",
      "Epoch 5/100\n",
      "256/256 [==============================] - 0s 539us/sample - loss: 4.3549e-05 - mse: 4.3549e-05 - mae: 0.0050 - val_loss: 3.4255e-05 - val_mse: 3.4255e-05 - val_mae: 0.0051\n",
      "Epoch 6/100\n",
      "256/256 [==============================] - 0s 428us/sample - loss: 2.5392e-05 - mse: 2.5392e-05 - mae: 0.0039 - val_loss: 2.1229e-05 - val_mse: 2.1229e-05 - val_mae: 0.0035\n",
      "Epoch 7/100\n",
      "256/256 [==============================] - 0s 818us/sample - loss: 2.0832e-05 - mse: 2.0832e-05 - mae: 0.0035 - val_loss: 1.9872e-05 - val_mse: 1.9872e-05 - val_mae: 0.0034\n",
      "Epoch 8/100\n",
      "256/256 [==============================] - 0s 543us/sample - loss: 2.1808e-05 - mse: 2.1808e-05 - mae: 0.0036 - val_loss: 1.9208e-05 - val_mse: 1.9208e-05 - val_mae: 0.0034\n",
      "Epoch 9/100\n",
      "256/256 [==============================] - 0s 573us/sample - loss: 1.9658e-05 - mse: 1.9658e-05 - mae: 0.0034 - val_loss: 1.8777e-05 - val_mse: 1.8777e-05 - val_mae: 0.0034\n",
      "Epoch 10/100\n",
      "256/256 [==============================] - 0s 638us/sample - loss: 2.0489e-05 - mse: 2.0489e-05 - mae: 0.0037 - val_loss: 1.8422e-05 - val_mse: 1.8422e-05 - val_mae: 0.0034\n",
      "Epoch 11/100\n",
      "256/256 [==============================] - 0s 591us/sample - loss: 1.8705e-05 - mse: 1.8705e-05 - mae: 0.0034 - val_loss: 1.8342e-05 - val_mse: 1.8342e-05 - val_mae: 0.0033\n",
      "Epoch 12/100\n",
      "256/256 [==============================] - 0s 862us/sample - loss: 1.8543e-05 - mse: 1.8543e-05 - mae: 0.0034 - val_loss: 1.8013e-05 - val_mse: 1.8013e-05 - val_mae: 0.0033\n",
      "Epoch 13/100\n",
      "256/256 [==============================] - 0s 489us/sample - loss: 1.9043e-05 - mse: 1.9043e-05 - mae: 0.0034 - val_loss: 1.7422e-05 - val_mse: 1.7422e-05 - val_mae: 0.0033\n",
      "Epoch 14/100\n",
      "256/256 [==============================] - 0s 439us/sample - loss: 1.8503e-05 - mse: 1.8503e-05 - mae: 0.0034 - val_loss: 1.7289e-05 - val_mse: 1.7289e-05 - val_mae: 0.0033\n",
      "Epoch 15/100\n",
      "256/256 [==============================] - 0s 429us/sample - loss: 1.7518e-05 - mse: 1.7518e-05 - mae: 0.0033 - val_loss: 1.6852e-05 - val_mse: 1.6852e-05 - val_mae: 0.0033\n",
      "Epoch 16/100\n",
      "256/256 [==============================] - 0s 325us/sample - loss: 1.7722e-05 - mse: 1.7722e-05 - mae: 0.0034 - val_loss: 1.6561e-05 - val_mse: 1.6561e-05 - val_mae: 0.0032\n",
      "Epoch 17/100\n",
      "256/256 [==============================] - 0s 412us/sample - loss: 1.7454e-05 - mse: 1.7454e-05 - mae: 0.0033 - val_loss: 1.6241e-05 - val_mse: 1.6241e-05 - val_mae: 0.0032\n",
      "Epoch 18/100\n",
      "256/256 [==============================] - 0s 457us/sample - loss: 1.6604e-05 - mse: 1.6604e-05 - mae: 0.0033 - val_loss: 1.6529e-05 - val_mse: 1.6529e-05 - val_mae: 0.0033\n",
      "Epoch 19/100\n",
      "256/256 [==============================] - 0s 479us/sample - loss: 1.6285e-05 - mse: 1.6285e-05 - mae: 0.0032 - val_loss: 1.5988e-05 - val_mse: 1.5988e-05 - val_mae: 0.0032\n",
      "Epoch 20/100\n",
      "256/256 [==============================] - 0s 548us/sample - loss: 1.5652e-05 - mse: 1.5652e-05 - mae: 0.0031 - val_loss: 1.6702e-05 - val_mse: 1.6702e-05 - val_mae: 0.0032\n",
      "Epoch 21/100\n",
      "256/256 [==============================] - 0s 635us/sample - loss: 1.7084e-05 - mse: 1.7084e-05 - mae: 0.0033 - val_loss: 1.5117e-05 - val_mse: 1.5117e-05 - val_mae: 0.0031\n",
      "Epoch 22/100\n",
      "256/256 [==============================] - 0s 379us/sample - loss: 1.5712e-05 - mse: 1.5712e-05 - mae: 0.0031 - val_loss: 1.5810e-05 - val_mse: 1.5810e-05 - val_mae: 0.0032\n",
      "Epoch 23/100\n",
      "256/256 [==============================] - 0s 353us/sample - loss: 1.5253e-05 - mse: 1.5253e-05 - mae: 0.0031 - val_loss: 1.6752e-05 - val_mse: 1.6752e-05 - val_mae: 0.0033\n",
      "Epoch 24/100\n",
      "256/256 [==============================] - 0s 583us/sample - loss: 1.5041e-05 - mse: 1.5041e-05 - mae: 0.0031 - val_loss: 1.4467e-05 - val_mse: 1.4467e-05 - val_mae: 0.0030\n",
      "Epoch 25/100\n",
      "256/256 [==============================] - 0s 587us/sample - loss: 1.5411e-05 - mse: 1.5411e-05 - mae: 0.0031 - val_loss: 1.4188e-05 - val_mse: 1.4188e-05 - val_mae: 0.0030\n",
      "Epoch 26/100\n",
      "256/256 [==============================] - 0s 436us/sample - loss: 1.6369e-05 - mse: 1.6369e-05 - mae: 0.0032 - val_loss: 1.3932e-05 - val_mse: 1.3932e-05 - val_mae: 0.0030\n",
      "Epoch 27/100\n",
      "256/256 [==============================] - 0s 490us/sample - loss: 1.4314e-05 - mse: 1.4314e-05 - mae: 0.0030 - val_loss: 1.3764e-05 - val_mse: 1.3764e-05 - val_mae: 0.0030\n",
      "Epoch 28/100\n",
      "256/256 [==============================] - 0s 430us/sample - loss: 1.4007e-05 - mse: 1.4007e-05 - mae: 0.0030 - val_loss: 1.4260e-05 - val_mse: 1.4260e-05 - val_mae: 0.0030\n",
      "Epoch 29/100\n",
      "256/256 [==============================] - 0s 359us/sample - loss: 1.3899e-05 - mse: 1.3899e-05 - mae: 0.0030 - val_loss: 1.3266e-05 - val_mse: 1.3266e-05 - val_mae: 0.0029\n",
      "Epoch 30/100\n",
      "256/256 [==============================] - 0s 241us/sample - loss: 1.3386e-05 - mse: 1.3386e-05 - mae: 0.0029 - val_loss: 1.3027e-05 - val_mse: 1.3027e-05 - val_mae: 0.0029\n",
      "Epoch 31/100\n",
      "256/256 [==============================] - 0s 219us/sample - loss: 1.3410e-05 - mse: 1.3410e-05 - mae: 0.0029 - val_loss: 1.3539e-05 - val_mse: 1.3539e-05 - val_mae: 0.0029\n",
      "Epoch 32/100\n",
      "256/256 [==============================] - 0s 215us/sample - loss: 1.3674e-05 - mse: 1.3674e-05 - mae: 0.0030 - val_loss: 1.2880e-05 - val_mse: 1.2880e-05 - val_mae: 0.0029\n",
      "Epoch 33/100\n",
      "256/256 [==============================] - 0s 228us/sample - loss: 1.2966e-05 - mse: 1.2966e-05 - mae: 0.0029 - val_loss: 1.3142e-05 - val_mse: 1.3142e-05 - val_mae: 0.0029\n",
      "Epoch 34/100\n",
      "256/256 [==============================] - 0s 233us/sample - loss: 1.2793e-05 - mse: 1.2793e-05 - mae: 0.0029 - val_loss: 1.3020e-05 - val_mse: 1.3020e-05 - val_mae: 0.0029\n",
      "Epoch 35/100\n",
      "256/256 [==============================] - 0s 235us/sample - loss: 1.2520e-05 - mse: 1.2520e-05 - mae: 0.0029 - val_loss: 1.2076e-05 - val_mse: 1.2076e-05 - val_mae: 0.0028\n",
      "Epoch 36/100\n",
      "256/256 [==============================] - 0s 213us/sample - loss: 1.2476e-05 - mse: 1.2476e-05 - mae: 0.0029 - val_loss: 1.2018e-05 - val_mse: 1.2018e-05 - val_mae: 0.0028\n",
      "Epoch 37/100\n",
      "256/256 [==============================] - 0s 214us/sample - loss: 1.2586e-05 - mse: 1.2586e-05 - mae: 0.0028 - val_loss: 1.2455e-05 - val_mse: 1.2455e-05 - val_mae: 0.0029\n",
      "Epoch 38/100\n",
      "256/256 [==============================] - 0s 214us/sample - loss: 1.1783e-05 - mse: 1.1783e-05 - mae: 0.0028 - val_loss: 1.1667e-05 - val_mse: 1.1667e-05 - val_mae: 0.0028\n",
      "Epoch 39/100\n",
      "256/256 [==============================] - 0s 240us/sample - loss: 1.1798e-05 - mse: 1.1798e-05 - mae: 0.0028 - val_loss: 1.1334e-05 - val_mse: 1.1334e-05 - val_mae: 0.0027\n",
      "Epoch 40/100\n",
      "256/256 [==============================] - 0s 232us/sample - loss: 1.1627e-05 - mse: 1.1627e-05 - mae: 0.0028 - val_loss: 1.1854e-05 - val_mse: 1.1854e-05 - val_mae: 0.0028\n",
      "Epoch 41/100\n",
      "256/256 [==============================] - 0s 229us/sample - loss: 1.1551e-05 - mse: 1.1551e-05 - mae: 0.0028 - val_loss: 1.2308e-05 - val_mse: 1.2308e-05 - val_mae: 0.0028\n",
      "Epoch 42/100\n",
      "256/256 [==============================] - 0s 218us/sample - loss: 1.2274e-05 - mse: 1.2274e-05 - mae: 0.0028 - val_loss: 1.2080e-05 - val_mse: 1.2080e-05 - val_mae: 0.0028\n",
      "Epoch 43/100\n",
      "256/256 [==============================] - 0s 231us/sample - loss: 1.1263e-05 - mse: 1.1263e-05 - mae: 0.0027 - val_loss: 1.1115e-05 - val_mse: 1.1115e-05 - val_mae: 0.0027\n",
      "Epoch 44/100\n",
      "256/256 [==============================] - 0s 227us/sample - loss: 1.0915e-05 - mse: 1.0915e-05 - mae: 0.0027 - val_loss: 1.0749e-05 - val_mse: 1.0749e-05 - val_mae: 0.0027\n",
      "Epoch 45/100\n"
     ]
    },
    {
     "name": "stdout",
     "output_type": "stream",
     "text": [
      "256/256 [==============================] - 0s 220us/sample - loss: 1.1576e-05 - mse: 1.1576e-05 - mae: 0.0028 - val_loss: 1.0745e-05 - val_mse: 1.0745e-05 - val_mae: 0.0027\n",
      "Epoch 46/100\n",
      "256/256 [==============================] - 0s 243us/sample - loss: 1.1270e-05 - mse: 1.1270e-05 - mae: 0.0027 - val_loss: 1.0317e-05 - val_mse: 1.0317e-05 - val_mae: 0.0026\n",
      "Epoch 47/100\n",
      "256/256 [==============================] - 0s 237us/sample - loss: 1.0363e-05 - mse: 1.0363e-05 - mae: 0.0026 - val_loss: 1.0119e-05 - val_mse: 1.0119e-05 - val_mae: 0.0026\n",
      "Epoch 48/100\n",
      "256/256 [==============================] - 0s 217us/sample - loss: 1.0750e-05 - mse: 1.0750e-05 - mae: 0.0026 - val_loss: 1.0954e-05 - val_mse: 1.0954e-05 - val_mae: 0.0027\n",
      "Epoch 49/100\n",
      "256/256 [==============================] - 0s 208us/sample - loss: 1.0437e-05 - mse: 1.0437e-05 - mae: 0.0027 - val_loss: 1.1157e-05 - val_mse: 1.1157e-05 - val_mae: 0.0027\n",
      "Epoch 50/100\n",
      "256/256 [==============================] - 0s 207us/sample - loss: 1.0364e-05 - mse: 1.0364e-05 - mae: 0.0026 - val_loss: 9.7492e-06 - val_mse: 9.7492e-06 - val_mae: 0.0026\n",
      "Epoch 51/100\n",
      "256/256 [==============================] - 0s 206us/sample - loss: 1.0105e-05 - mse: 1.0105e-05 - mae: 0.0026 - val_loss: 9.6422e-06 - val_mse: 9.6422e-06 - val_mae: 0.0025\n",
      "Epoch 52/100\n",
      "256/256 [==============================] - 0s 205us/sample - loss: 9.8551e-06 - mse: 9.8551e-06 - mae: 0.0026 - val_loss: 9.6346e-06 - val_mse: 9.6346e-06 - val_mae: 0.0025\n",
      "Epoch 53/100\n",
      "256/256 [==============================] - 0s 212us/sample - loss: 9.9705e-06 - mse: 9.9705e-06 - mae: 0.0026 - val_loss: 9.6207e-06 - val_mse: 9.6207e-06 - val_mae: 0.0026\n",
      "Epoch 54/100\n",
      "256/256 [==============================] - 0s 299us/sample - loss: 9.4875e-06 - mse: 9.4875e-06 - mae: 0.0025 - val_loss: 9.3517e-06 - val_mse: 9.3517e-06 - val_mae: 0.0025\n",
      "Epoch 55/100\n",
      "256/256 [==============================] - 0s 456us/sample - loss: 9.3419e-06 - mse: 9.3419e-06 - mae: 0.0025 - val_loss: 9.4390e-06 - val_mse: 9.4390e-06 - val_mae: 0.0025\n",
      "Epoch 56/100\n",
      "256/256 [==============================] - 0s 544us/sample - loss: 1.0109e-05 - mse: 1.0109e-05 - mae: 0.0026 - val_loss: 1.0040e-05 - val_mse: 1.0040e-05 - val_mae: 0.0026\n",
      "Epoch 57/100\n",
      "256/256 [==============================] - 0s 630us/sample - loss: 9.2935e-06 - mse: 9.2935e-06 - mae: 0.0025 - val_loss: 8.9157e-06 - val_mse: 8.9157e-06 - val_mae: 0.0025\n",
      "Epoch 58/100\n",
      "256/256 [==============================] - 0s 379us/sample - loss: 1.0037e-05 - mse: 1.0037e-05 - mae: 0.0026 - val_loss: 8.8722e-06 - val_mse: 8.8722e-06 - val_mae: 0.0025\n",
      "Epoch 59/100\n",
      "256/256 [==============================] - 0s 390us/sample - loss: 8.9086e-06 - mse: 8.9086e-06 - mae: 0.0025 - val_loss: 8.6878e-06 - val_mse: 8.6878e-06 - val_mae: 0.0024\n",
      "Epoch 60/100\n",
      "256/256 [==============================] - 0s 390us/sample - loss: 8.7660e-06 - mse: 8.7660e-06 - mae: 0.0024 - val_loss: 8.8563e-06 - val_mse: 8.8563e-06 - val_mae: 0.0025\n",
      "Epoch 61/100\n",
      "256/256 [==============================] - 0s 320us/sample - loss: 8.7880e-06 - mse: 8.7880e-06 - mae: 0.0025 - val_loss: 8.4873e-06 - val_mse: 8.4873e-06 - val_mae: 0.0024\n",
      "Epoch 62/100\n",
      "256/256 [==============================] - 0s 258us/sample - loss: 9.5604e-06 - mse: 9.5604e-06 - mae: 0.0026 - val_loss: 8.4383e-06 - val_mse: 8.4383e-06 - val_mae: 0.0024\n",
      "Epoch 63/100\n",
      "256/256 [==============================] - 0s 330us/sample - loss: 8.8335e-06 - mse: 8.8335e-06 - mae: 0.0025 - val_loss: 9.9243e-06 - val_mse: 9.9243e-06 - val_mae: 0.0026\n",
      "Epoch 64/100\n",
      "256/256 [==============================] - 0s 501us/sample - loss: 8.4761e-06 - mse: 8.4761e-06 - mae: 0.0024 - val_loss: 8.3068e-06 - val_mse: 8.3068e-06 - val_mae: 0.0024\n",
      "Epoch 65/100\n",
      "256/256 [==============================] - 0s 368us/sample - loss: 8.3348e-06 - mse: 8.3348e-06 - mae: 0.0024 - val_loss: 8.2326e-06 - val_mse: 8.2326e-06 - val_mae: 0.0024\n",
      "Epoch 66/100\n",
      "256/256 [==============================] - 0s 614us/sample - loss: 8.3435e-06 - mse: 8.3435e-06 - mae: 0.0024 - val_loss: 8.5609e-06 - val_mse: 8.5609e-06 - val_mae: 0.0024\n",
      "Epoch 67/100\n",
      "256/256 [==============================] - 0s 459us/sample - loss: 8.2736e-06 - mse: 8.2736e-06 - mae: 0.0024 - val_loss: 8.3321e-06 - val_mse: 8.3321e-06 - val_mae: 0.0024\n",
      "Epoch 68/100\n",
      "256/256 [==============================] - 0s 356us/sample - loss: 8.1351e-06 - mse: 8.1351e-06 - mae: 0.0024 - val_loss: 8.2407e-06 - val_mse: 8.2407e-06 - val_mae: 0.0024\n",
      "Epoch 69/100\n",
      "256/256 [==============================] - 0s 307us/sample - loss: 8.2223e-06 - mse: 8.2223e-06 - mae: 0.0024 - val_loss: 7.7970e-06 - val_mse: 7.7970e-06 - val_mae: 0.0023\n",
      "Epoch 70/100\n",
      "256/256 [==============================] - 0s 283us/sample - loss: 7.8619e-06 - mse: 7.8619e-06 - mae: 0.0023 - val_loss: 8.0636e-06 - val_mse: 8.0636e-06 - val_mae: 0.0024\n",
      "Epoch 71/100\n",
      "256/256 [==============================] - 0s 321us/sample - loss: 8.2045e-06 - mse: 8.2045e-06 - mae: 0.0024 - val_loss: 8.7937e-06 - val_mse: 8.7937e-06 - val_mae: 0.0024\n",
      "Epoch 72/100\n",
      "256/256 [==============================] - 0s 279us/sample - loss: 8.1119e-06 - mse: 8.1119e-06 - mae: 0.0024 - val_loss: 7.6763e-06 - val_mse: 7.6763e-06 - val_mae: 0.0023\n",
      "Epoch 73/100\n",
      "256/256 [==============================] - 0s 282us/sample - loss: 7.8085e-06 - mse: 7.8085e-06 - mae: 0.0023 - val_loss: 7.5036e-06 - val_mse: 7.5036e-06 - val_mae: 0.0023\n",
      "Epoch 74/100\n",
      "256/256 [==============================] - 0s 266us/sample - loss: 8.0220e-06 - mse: 8.0220e-06 - mae: 0.0024 - val_loss: 7.3830e-06 - val_mse: 7.3830e-06 - val_mae: 0.0023\n",
      "Epoch 75/100\n",
      "256/256 [==============================] - 0s 273us/sample - loss: 7.7538e-06 - mse: 7.7538e-06 - mae: 0.0023 - val_loss: 7.7929e-06 - val_mse: 7.7929e-06 - val_mae: 0.0023\n",
      "Epoch 76/100\n",
      "256/256 [==============================] - 0s 279us/sample - loss: 8.5892e-06 - mse: 8.5892e-06 - mae: 0.0025 - val_loss: 8.1308e-06 - val_mse: 8.1308e-06 - val_mae: 0.0023\n",
      "Epoch 77/100\n",
      "256/256 [==============================] - 0s 269us/sample - loss: 7.6420e-06 - mse: 7.6420e-06 - mae: 0.0023 - val_loss: 7.5300e-06 - val_mse: 7.5300e-06 - val_mae: 0.0023\n",
      "Epoch 78/100\n",
      "256/256 [==============================] - 0s 302us/sample - loss: 7.3827e-06 - mse: 7.3827e-06 - mae: 0.0023 - val_loss: 7.5139e-06 - val_mse: 7.5139e-06 - val_mae: 0.0023\n",
      "Epoch 79/100\n",
      "256/256 [==============================] - 0s 277us/sample - loss: 7.2406e-06 - mse: 7.2406e-06 - mae: 0.0022 - val_loss: 7.1474e-06 - val_mse: 7.1474e-06 - val_mae: 0.0023\n",
      "Epoch 80/100\n",
      "256/256 [==============================] - 0s 271us/sample - loss: 7.5391e-06 - mse: 7.5391e-06 - mae: 0.0023 - val_loss: 7.0044e-06 - val_mse: 7.0044e-06 - val_mae: 0.0022\n",
      "Epoch 81/100\n",
      "256/256 [==============================] - 0s 290us/sample - loss: 7.2643e-06 - mse: 7.2643e-06 - mae: 0.0023 - val_loss: 6.9322e-06 - val_mse: 6.9322e-06 - val_mae: 0.0022\n",
      "Epoch 82/100\n",
      "256/256 [==============================] - 0s 321us/sample - loss: 6.8131e-06 - mse: 6.8131e-06 - mae: 0.0022 - val_loss: 7.0299e-06 - val_mse: 7.0299e-06 - val_mae: 0.0022\n",
      "Epoch 83/100\n",
      "256/256 [==============================] - 0s 278us/sample - loss: 7.5614e-06 - mse: 7.5614e-06 - mae: 0.0023 - val_loss: 7.0714e-06 - val_mse: 7.0714e-06 - val_mae: 0.0022\n",
      "Epoch 84/100\n",
      "256/256 [==============================] - 0s 267us/sample - loss: 6.9449e-06 - mse: 6.9449e-06 - mae: 0.0022 - val_loss: 7.1620e-06 - val_mse: 7.1620e-06 - val_mae: 0.0022\n",
      "Epoch 85/100\n",
      "256/256 [==============================] - 0s 317us/sample - loss: 7.1313e-06 - mse: 7.1313e-06 - mae: 0.0023 - val_loss: 6.7870e-06 - val_mse: 6.7870e-06 - val_mae: 0.0022\n",
      "Epoch 86/100\n",
      "256/256 [==============================] - 0s 333us/sample - loss: 6.7992e-06 - mse: 6.7992e-06 - mae: 0.0022 - val_loss: 6.6908e-06 - val_mse: 6.6908e-06 - val_mae: 0.0022\n",
      "Epoch 87/100\n",
      "256/256 [==============================] - 0s 329us/sample - loss: 6.8369e-06 - mse: 6.8369e-06 - mae: 0.0022 - val_loss: 7.3970e-06 - val_mse: 7.3970e-06 - val_mae: 0.0023\n",
      "Epoch 88/100\n",
      "256/256 [==============================] - 0s 279us/sample - loss: 7.0584e-06 - mse: 7.0584e-06 - mae: 0.0023 - val_loss: 6.6569e-06 - val_mse: 6.6569e-06 - val_mae: 0.0022\n",
      "Epoch 89/100\n"
     ]
    },
    {
     "name": "stdout",
     "output_type": "stream",
     "text": [
      "256/256 [==============================] - 0s 359us/sample - loss: 6.9382e-06 - mse: 6.9382e-06 - mae: 0.0022 - val_loss: 6.4866e-06 - val_mse: 6.4866e-06 - val_mae: 0.0022\n",
      "Epoch 90/100\n",
      "256/256 [==============================] - 0s 454us/sample - loss: 6.7483e-06 - mse: 6.7483e-06 - mae: 0.0022 - val_loss: 7.3525e-06 - val_mse: 7.3525e-06 - val_mae: 0.0023\n",
      "Epoch 91/100\n",
      "256/256 [==============================] - 0s 488us/sample - loss: 6.6815e-06 - mse: 6.6815e-06 - mae: 0.0022 - val_loss: 6.3845e-06 - val_mse: 6.3845e-06 - val_mae: 0.0022\n",
      "Epoch 92/100\n",
      "256/256 [==============================] - 0s 363us/sample - loss: 6.4480e-06 - mse: 6.4480e-06 - mae: 0.0022 - val_loss: 6.7999e-06 - val_mse: 6.7999e-06 - val_mae: 0.0022\n",
      "Epoch 93/100\n",
      "256/256 [==============================] - 0s 313us/sample - loss: 6.7538e-06 - mse: 6.7538e-06 - mae: 0.0022 - val_loss: 6.5452e-06 - val_mse: 6.5452e-06 - val_mae: 0.0022\n",
      "Epoch 94/100\n",
      "256/256 [==============================] - 0s 371us/sample - loss: 7.0303e-06 - mse: 7.0303e-06 - mae: 0.0022 - val_loss: 6.4767e-06 - val_mse: 6.4767e-06 - val_mae: 0.0022\n",
      "Epoch 95/100\n",
      "256/256 [==============================] - 0s 392us/sample - loss: 6.3451e-06 - mse: 6.3451e-06 - mae: 0.0021 - val_loss: 6.2284e-06 - val_mse: 6.2284e-06 - val_mae: 0.0021\n",
      "Epoch 96/100\n",
      "256/256 [==============================] - 0s 424us/sample - loss: 6.5034e-06 - mse: 6.5034e-06 - mae: 0.0022 - val_loss: 6.1939e-06 - val_mse: 6.1939e-06 - val_mae: 0.0021\n",
      "Epoch 97/100\n",
      "256/256 [==============================] - 0s 276us/sample - loss: 6.2649e-06 - mse: 6.2649e-06 - mae: 0.0021 - val_loss: 6.9907e-06 - val_mse: 6.9907e-06 - val_mae: 0.0022\n",
      "Epoch 98/100\n",
      "256/256 [==============================] - 0s 273us/sample - loss: 6.8015e-06 - mse: 6.8015e-06 - mae: 0.0022 - val_loss: 6.0724e-06 - val_mse: 6.0724e-06 - val_mae: 0.0021\n",
      "Epoch 99/100\n",
      "256/256 [==============================] - 0s 277us/sample - loss: 6.3776e-06 - mse: 6.3776e-06 - mae: 0.0022 - val_loss: 6.0376e-06 - val_mse: 6.0376e-06 - val_mae: 0.0021\n",
      "Epoch 100/100\n",
      "256/256 [==============================] - 0s 259us/sample - loss: 6.1744e-06 - mse: 6.1744e-06 - mae: 0.0021 - val_loss: 6.0730e-06 - val_mse: 6.0730e-06 - val_mae: 0.0021\n"
     ]
    }
   ],
   "source": [
    "model.compile(loss='mse',\n",
    "              optimizer=sgd,\n",
    "              metrics=['mse','mae'])\n",
    "\n",
    "X_train_3 = multi_input(X_train)\n",
    "X_valid_3 = multi_input(X_valid)\n",
    "\n",
    "history = model.fit(X_train_3, y_train, epochs=n_epochs,\n",
    "                    validation_data=(X_valid_3, y_valid))"
   ]
  },
  {
   "cell_type": "code",
   "execution_count": 211,
   "metadata": {},
   "outputs": [
    {
     "data": {
      "application/vnd.plotly.v1+json": {
       "config": {
        "plotlyServerURL": "https://plot.ly"
       },
       "data": [
        {
         "name": "error training",
         "type": "scatter",
         "y": [
          0.1298343986272812,
          0.004344930872321129,
          0.0008668301161378622,
          0.00016227172454819083,
          4.354885459179059e-05,
          2.539156594139058e-05,
          2.083195977320429e-05,
          2.1807592929690145e-05,
          1.9657605662359856e-05,
          2.0488909285631962e-05,
          1.87053137779003e-05,
          1.8543221813160926e-05,
          1.9042736312258057e-05,
          1.8502818420529366e-05,
          1.751792660797946e-05,
          1.772179894032888e-05,
          1.745417102938518e-05,
          1.660350062593352e-05,
          1.6284793673548847e-05,
          1.5652090951334685e-05,
          1.708415220491588e-05,
          1.571177017467562e-05,
          1.5253422134264838e-05,
          1.5040866855997592e-05,
          1.541056735732127e-05,
          1.6369296645279974e-05,
          1.431404052709695e-05,
          1.4007378013047855e-05,
          1.3898709767090622e-05,
          1.3385525562625844e-05,
          1.3410365681920666e-05,
          1.3674442925548647e-05,
          1.2966389476787299e-05,
          1.2793041605618782e-05,
          1.2520404197857715e-05,
          1.2476349183998536e-05,
          1.2585871445480734e-05,
          1.178332149720518e-05,
          1.1797756087617017e-05,
          1.1626833838818129e-05,
          1.1550779163371772e-05,
          1.22740584629355e-05,
          1.1262548468948808e-05,
          1.091523517970927e-05,
          1.1576093129406217e-05,
          1.1270389222772792e-05,
          1.0363130968471523e-05,
          1.0750381989055313e-05,
          1.0436540833325125e-05,
          1.0363701221649535e-05,
          1.0104683497047517e-05,
          9.855050848273095e-06,
          9.970539394998923e-06,
          9.487494025961496e-06,
          9.341902114101686e-06,
          1.0108877177117392e-05,
          9.29347334022168e-06,
          1.0036970707005821e-05,
          8.908631571102887e-06,
          8.766022801864892e-06,
          8.787996193859726e-06,
          9.560444595990703e-06,
          8.833547326503322e-06,
          8.476061339024454e-06,
          8.334795893460978e-06,
          8.343466106452979e-06,
          8.273562343674712e-06,
          8.135076313919853e-06,
          8.222280484915245e-06,
          7.861869562475476e-06,
          8.20447712612804e-06,
          8.11185145721538e-06,
          7.808517693774775e-06,
          8.021976100280881e-06,
          7.753832505841274e-06,
          8.589200660935603e-06,
          7.642004675290082e-06,
          7.382701824099058e-06,
          7.240565537358634e-06,
          7.53907215766958e-06,
          7.264313353516627e-06,
          6.8131485022604465e-06,
          7.561353868368315e-06,
          6.944918823137414e-06,
          7.131340680643916e-06,
          6.799177754146513e-06,
          6.836931788711809e-06,
          7.0584424065600615e-06,
          6.93818628860754e-06,
          6.748266059730668e-06,
          6.681456852675183e-06,
          6.447974556067493e-06,
          6.753835350536974e-06,
          7.030254437268013e-06,
          6.345065230561886e-06,
          6.5034337239922024e-06,
          6.264850526349619e-06,
          6.8015051510883495e-06,
          6.377609679475427e-06,
          6.174410373205319e-06
         ]
        },
        {
         "name": "error validation",
         "type": "scatter",
         "y": [
          0.008530872873961926,
          0.00200083339586854,
          0.00030065045575611293,
          6.369007314788178e-05,
          3.425492832320742e-05,
          2.1229094272712246e-05,
          1.987156065297313e-05,
          1.920811519084964e-05,
          1.8776889191940427e-05,
          1.8421564163872972e-05,
          1.8341852410230786e-05,
          1.8013019143836573e-05,
          1.7422387827537023e-05,
          1.728896859276574e-05,
          1.6851652617333457e-05,
          1.6560887161176652e-05,
          1.624115429876838e-05,
          1.6528591004316695e-05,
          1.5987861843314022e-05,
          1.6702422726666555e-05,
          1.5117447219381575e-05,
          1.580991920491215e-05,
          1.675203748163767e-05,
          1.4466902939602733e-05,
          1.4187568922352511e-05,
          1.3931975445302669e-05,
          1.3763647075393237e-05,
          1.4260475836636033e-05,
          1.3266004316392355e-05,
          1.3026803571847267e-05,
          1.3538920029532164e-05,
          1.2880162103101611e-05,
          1.3141798262950033e-05,
          1.302016698900843e-05,
          1.2075733138772193e-05,
          1.2018147572234739e-05,
          1.2454525858629495e-05,
          1.166727815871127e-05,
          1.1333839211147279e-05,
          1.1854298463731539e-05,
          1.2308481927902903e-05,
          1.2080011401849333e-05,
          1.1115231245639734e-05,
          1.0749126886366867e-05,
          1.0744540304585826e-05,
          1.0317014130123425e-05,
          1.011902804748388e-05,
          1.0954333447443787e-05,
          1.1157330845890101e-05,
          9.749213859322481e-06,
          9.642159056966193e-06,
          9.634628440835513e-06,
          9.620682249078527e-06,
          9.351679182145745e-06,
          9.438994311494753e-06,
          1.0040418601420242e-05,
          8.915684702515136e-06,
          8.872209946275689e-06,
          8.687793524586596e-06,
          8.856252861733083e-06,
          8.48727813718142e-06,
          8.438275472144596e-06,
          9.924257028615102e-06,
          8.306789823109284e-06,
          8.232644177041948e-06,
          8.560880814911798e-06,
          8.33209833217552e-06,
          8.240683200710919e-06,
          7.796960744599346e-06,
          8.06363550509559e-06,
          8.793739652901422e-06,
          7.676313543925062e-06,
          7.50358867662726e-06,
          7.3830451583489776e-06,
          7.792938049533404e-06,
          8.130764399538748e-06,
          7.529991762567079e-06,
          7.513866421504645e-06,
          7.147410542529542e-06,
          7.004436156421434e-06,
          6.932165888429154e-06,
          7.029859261820093e-06,
          7.071394065860659e-06,
          7.162038855312858e-06,
          6.786984158679843e-06,
          6.690768259431934e-06,
          7.396987257379806e-06,
          6.656896403001156e-06,
          6.486646270786878e-06,
          7.352462944254512e-06,
          6.3845477598079015e-06,
          6.799892162234755e-06,
          6.545224096043967e-06,
          6.47674687570543e-06,
          6.2284320847538766e-06,
          6.193883109517628e-06,
          6.990686870267382e-06,
          6.072436008253135e-06,
          6.037629646016285e-06,
          6.0729939832526725e-06
         ]
        }
       ],
       "layout": {
        "template": {
         "data": {
          "bar": [
           {
            "error_x": {
             "color": "#2a3f5f"
            },
            "error_y": {
             "color": "#2a3f5f"
            },
            "marker": {
             "line": {
              "color": "#E5ECF6",
              "width": 0.5
             }
            },
            "type": "bar"
           }
          ],
          "barpolar": [
           {
            "marker": {
             "line": {
              "color": "#E5ECF6",
              "width": 0.5
             }
            },
            "type": "barpolar"
           }
          ],
          "carpet": [
           {
            "aaxis": {
             "endlinecolor": "#2a3f5f",
             "gridcolor": "white",
             "linecolor": "white",
             "minorgridcolor": "white",
             "startlinecolor": "#2a3f5f"
            },
            "baxis": {
             "endlinecolor": "#2a3f5f",
             "gridcolor": "white",
             "linecolor": "white",
             "minorgridcolor": "white",
             "startlinecolor": "#2a3f5f"
            },
            "type": "carpet"
           }
          ],
          "choropleth": [
           {
            "colorbar": {
             "outlinewidth": 0,
             "ticks": ""
            },
            "type": "choropleth"
           }
          ],
          "contour": [
           {
            "colorbar": {
             "outlinewidth": 0,
             "ticks": ""
            },
            "colorscale": [
             [
              0,
              "#0d0887"
             ],
             [
              0.1111111111111111,
              "#46039f"
             ],
             [
              0.2222222222222222,
              "#7201a8"
             ],
             [
              0.3333333333333333,
              "#9c179e"
             ],
             [
              0.4444444444444444,
              "#bd3786"
             ],
             [
              0.5555555555555556,
              "#d8576b"
             ],
             [
              0.6666666666666666,
              "#ed7953"
             ],
             [
              0.7777777777777778,
              "#fb9f3a"
             ],
             [
              0.8888888888888888,
              "#fdca26"
             ],
             [
              1,
              "#f0f921"
             ]
            ],
            "type": "contour"
           }
          ],
          "contourcarpet": [
           {
            "colorbar": {
             "outlinewidth": 0,
             "ticks": ""
            },
            "type": "contourcarpet"
           }
          ],
          "heatmap": [
           {
            "colorbar": {
             "outlinewidth": 0,
             "ticks": ""
            },
            "colorscale": [
             [
              0,
              "#0d0887"
             ],
             [
              0.1111111111111111,
              "#46039f"
             ],
             [
              0.2222222222222222,
              "#7201a8"
             ],
             [
              0.3333333333333333,
              "#9c179e"
             ],
             [
              0.4444444444444444,
              "#bd3786"
             ],
             [
              0.5555555555555556,
              "#d8576b"
             ],
             [
              0.6666666666666666,
              "#ed7953"
             ],
             [
              0.7777777777777778,
              "#fb9f3a"
             ],
             [
              0.8888888888888888,
              "#fdca26"
             ],
             [
              1,
              "#f0f921"
             ]
            ],
            "type": "heatmap"
           }
          ],
          "heatmapgl": [
           {
            "colorbar": {
             "outlinewidth": 0,
             "ticks": ""
            },
            "colorscale": [
             [
              0,
              "#0d0887"
             ],
             [
              0.1111111111111111,
              "#46039f"
             ],
             [
              0.2222222222222222,
              "#7201a8"
             ],
             [
              0.3333333333333333,
              "#9c179e"
             ],
             [
              0.4444444444444444,
              "#bd3786"
             ],
             [
              0.5555555555555556,
              "#d8576b"
             ],
             [
              0.6666666666666666,
              "#ed7953"
             ],
             [
              0.7777777777777778,
              "#fb9f3a"
             ],
             [
              0.8888888888888888,
              "#fdca26"
             ],
             [
              1,
              "#f0f921"
             ]
            ],
            "type": "heatmapgl"
           }
          ],
          "histogram": [
           {
            "marker": {
             "colorbar": {
              "outlinewidth": 0,
              "ticks": ""
             }
            },
            "type": "histogram"
           }
          ],
          "histogram2d": [
           {
            "colorbar": {
             "outlinewidth": 0,
             "ticks": ""
            },
            "colorscale": [
             [
              0,
              "#0d0887"
             ],
             [
              0.1111111111111111,
              "#46039f"
             ],
             [
              0.2222222222222222,
              "#7201a8"
             ],
             [
              0.3333333333333333,
              "#9c179e"
             ],
             [
              0.4444444444444444,
              "#bd3786"
             ],
             [
              0.5555555555555556,
              "#d8576b"
             ],
             [
              0.6666666666666666,
              "#ed7953"
             ],
             [
              0.7777777777777778,
              "#fb9f3a"
             ],
             [
              0.8888888888888888,
              "#fdca26"
             ],
             [
              1,
              "#f0f921"
             ]
            ],
            "type": "histogram2d"
           }
          ],
          "histogram2dcontour": [
           {
            "colorbar": {
             "outlinewidth": 0,
             "ticks": ""
            },
            "colorscale": [
             [
              0,
              "#0d0887"
             ],
             [
              0.1111111111111111,
              "#46039f"
             ],
             [
              0.2222222222222222,
              "#7201a8"
             ],
             [
              0.3333333333333333,
              "#9c179e"
             ],
             [
              0.4444444444444444,
              "#bd3786"
             ],
             [
              0.5555555555555556,
              "#d8576b"
             ],
             [
              0.6666666666666666,
              "#ed7953"
             ],
             [
              0.7777777777777778,
              "#fb9f3a"
             ],
             [
              0.8888888888888888,
              "#fdca26"
             ],
             [
              1,
              "#f0f921"
             ]
            ],
            "type": "histogram2dcontour"
           }
          ],
          "mesh3d": [
           {
            "colorbar": {
             "outlinewidth": 0,
             "ticks": ""
            },
            "type": "mesh3d"
           }
          ],
          "parcoords": [
           {
            "line": {
             "colorbar": {
              "outlinewidth": 0,
              "ticks": ""
             }
            },
            "type": "parcoords"
           }
          ],
          "pie": [
           {
            "automargin": true,
            "type": "pie"
           }
          ],
          "scatter": [
           {
            "marker": {
             "colorbar": {
              "outlinewidth": 0,
              "ticks": ""
             }
            },
            "type": "scatter"
           }
          ],
          "scatter3d": [
           {
            "line": {
             "colorbar": {
              "outlinewidth": 0,
              "ticks": ""
             }
            },
            "marker": {
             "colorbar": {
              "outlinewidth": 0,
              "ticks": ""
             }
            },
            "type": "scatter3d"
           }
          ],
          "scattercarpet": [
           {
            "marker": {
             "colorbar": {
              "outlinewidth": 0,
              "ticks": ""
             }
            },
            "type": "scattercarpet"
           }
          ],
          "scattergeo": [
           {
            "marker": {
             "colorbar": {
              "outlinewidth": 0,
              "ticks": ""
             }
            },
            "type": "scattergeo"
           }
          ],
          "scattergl": [
           {
            "marker": {
             "colorbar": {
              "outlinewidth": 0,
              "ticks": ""
             }
            },
            "type": "scattergl"
           }
          ],
          "scattermapbox": [
           {
            "marker": {
             "colorbar": {
              "outlinewidth": 0,
              "ticks": ""
             }
            },
            "type": "scattermapbox"
           }
          ],
          "scatterpolar": [
           {
            "marker": {
             "colorbar": {
              "outlinewidth": 0,
              "ticks": ""
             }
            },
            "type": "scatterpolar"
           }
          ],
          "scatterpolargl": [
           {
            "marker": {
             "colorbar": {
              "outlinewidth": 0,
              "ticks": ""
             }
            },
            "type": "scatterpolargl"
           }
          ],
          "scatterternary": [
           {
            "marker": {
             "colorbar": {
              "outlinewidth": 0,
              "ticks": ""
             }
            },
            "type": "scatterternary"
           }
          ],
          "surface": [
           {
            "colorbar": {
             "outlinewidth": 0,
             "ticks": ""
            },
            "colorscale": [
             [
              0,
              "#0d0887"
             ],
             [
              0.1111111111111111,
              "#46039f"
             ],
             [
              0.2222222222222222,
              "#7201a8"
             ],
             [
              0.3333333333333333,
              "#9c179e"
             ],
             [
              0.4444444444444444,
              "#bd3786"
             ],
             [
              0.5555555555555556,
              "#d8576b"
             ],
             [
              0.6666666666666666,
              "#ed7953"
             ],
             [
              0.7777777777777778,
              "#fb9f3a"
             ],
             [
              0.8888888888888888,
              "#fdca26"
             ],
             [
              1,
              "#f0f921"
             ]
            ],
            "type": "surface"
           }
          ],
          "table": [
           {
            "cells": {
             "fill": {
              "color": "#EBF0F8"
             },
             "line": {
              "color": "white"
             }
            },
            "header": {
             "fill": {
              "color": "#C8D4E3"
             },
             "line": {
              "color": "white"
             }
            },
            "type": "table"
           }
          ]
         },
         "layout": {
          "annotationdefaults": {
           "arrowcolor": "#2a3f5f",
           "arrowhead": 0,
           "arrowwidth": 1
          },
          "coloraxis": {
           "colorbar": {
            "outlinewidth": 0,
            "ticks": ""
           }
          },
          "colorscale": {
           "diverging": [
            [
             0,
             "#8e0152"
            ],
            [
             0.1,
             "#c51b7d"
            ],
            [
             0.2,
             "#de77ae"
            ],
            [
             0.3,
             "#f1b6da"
            ],
            [
             0.4,
             "#fde0ef"
            ],
            [
             0.5,
             "#f7f7f7"
            ],
            [
             0.6,
             "#e6f5d0"
            ],
            [
             0.7,
             "#b8e186"
            ],
            [
             0.8,
             "#7fbc41"
            ],
            [
             0.9,
             "#4d9221"
            ],
            [
             1,
             "#276419"
            ]
           ],
           "sequential": [
            [
             0,
             "#0d0887"
            ],
            [
             0.1111111111111111,
             "#46039f"
            ],
            [
             0.2222222222222222,
             "#7201a8"
            ],
            [
             0.3333333333333333,
             "#9c179e"
            ],
            [
             0.4444444444444444,
             "#bd3786"
            ],
            [
             0.5555555555555556,
             "#d8576b"
            ],
            [
             0.6666666666666666,
             "#ed7953"
            ],
            [
             0.7777777777777778,
             "#fb9f3a"
            ],
            [
             0.8888888888888888,
             "#fdca26"
            ],
            [
             1,
             "#f0f921"
            ]
           ],
           "sequentialminus": [
            [
             0,
             "#0d0887"
            ],
            [
             0.1111111111111111,
             "#46039f"
            ],
            [
             0.2222222222222222,
             "#7201a8"
            ],
            [
             0.3333333333333333,
             "#9c179e"
            ],
            [
             0.4444444444444444,
             "#bd3786"
            ],
            [
             0.5555555555555556,
             "#d8576b"
            ],
            [
             0.6666666666666666,
             "#ed7953"
            ],
            [
             0.7777777777777778,
             "#fb9f3a"
            ],
            [
             0.8888888888888888,
             "#fdca26"
            ],
            [
             1,
             "#f0f921"
            ]
           ]
          },
          "colorway": [
           "#636efa",
           "#EF553B",
           "#00cc96",
           "#ab63fa",
           "#FFA15A",
           "#19d3f3",
           "#FF6692",
           "#B6E880",
           "#FF97FF",
           "#FECB52"
          ],
          "font": {
           "color": "#2a3f5f"
          },
          "geo": {
           "bgcolor": "white",
           "lakecolor": "white",
           "landcolor": "#E5ECF6",
           "showlakes": true,
           "showland": true,
           "subunitcolor": "white"
          },
          "hoverlabel": {
           "align": "left"
          },
          "hovermode": "closest",
          "mapbox": {
           "style": "light"
          },
          "paper_bgcolor": "white",
          "plot_bgcolor": "#E5ECF6",
          "polar": {
           "angularaxis": {
            "gridcolor": "white",
            "linecolor": "white",
            "ticks": ""
           },
           "bgcolor": "#E5ECF6",
           "radialaxis": {
            "gridcolor": "white",
            "linecolor": "white",
            "ticks": ""
           }
          },
          "scene": {
           "xaxis": {
            "backgroundcolor": "#E5ECF6",
            "gridcolor": "white",
            "gridwidth": 2,
            "linecolor": "white",
            "showbackground": true,
            "ticks": "",
            "zerolinecolor": "white"
           },
           "yaxis": {
            "backgroundcolor": "#E5ECF6",
            "gridcolor": "white",
            "gridwidth": 2,
            "linecolor": "white",
            "showbackground": true,
            "ticks": "",
            "zerolinecolor": "white"
           },
           "zaxis": {
            "backgroundcolor": "#E5ECF6",
            "gridcolor": "white",
            "gridwidth": 2,
            "linecolor": "white",
            "showbackground": true,
            "ticks": "",
            "zerolinecolor": "white"
           }
          },
          "shapedefaults": {
           "line": {
            "color": "#2a3f5f"
           }
          },
          "ternary": {
           "aaxis": {
            "gridcolor": "white",
            "linecolor": "white",
            "ticks": ""
           },
           "baxis": {
            "gridcolor": "white",
            "linecolor": "white",
            "ticks": ""
           },
           "bgcolor": "#E5ECF6",
           "caxis": {
            "gridcolor": "white",
            "linecolor": "white",
            "ticks": ""
           }
          },
          "title": {
           "x": 0.05
          },
          "xaxis": {
           "automargin": true,
           "gridcolor": "white",
           "linecolor": "white",
           "ticks": "",
           "title": {
            "standoff": 15
           },
           "zerolinecolor": "white",
           "zerolinewidth": 2
          },
          "yaxis": {
           "automargin": true,
           "gridcolor": "white",
           "linecolor": "white",
           "ticks": "",
           "title": {
            "standoff": 15
           },
           "zerolinecolor": "white",
           "zerolinewidth": 2
          }
         }
        },
        "width": 600,
        "xaxis": {
         "range": [
          0,
          100
         ],
         "title": {
          "text": "epoch"
         }
        },
        "yaxis": {
         "range": [
          -6,
          0
         ],
         "type": "log"
        }
       }
      },
      "text/html": [
       "<div>\n",
       "        \n",
       "        \n",
       "            <div id=\"2bf8b6b7-aa3c-429e-93cb-13237eb75477\" class=\"plotly-graph-div\" style=\"height:525px; width:600px;\"></div>\n",
       "            <script type=\"text/javascript\">\n",
       "                require([\"plotly\"], function(Plotly) {\n",
       "                    window.PLOTLYENV=window.PLOTLYENV || {};\n",
       "                    \n",
       "                if (document.getElementById(\"2bf8b6b7-aa3c-429e-93cb-13237eb75477\")) {\n",
       "                    Plotly.newPlot(\n",
       "                        '2bf8b6b7-aa3c-429e-93cb-13237eb75477',\n",
       "                        [{\"name\": \"error training\", \"type\": \"scatter\", \"y\": [0.1298343986272812, 0.004344930872321129, 0.0008668301161378622, 0.00016227172454819083, 4.354885459179059e-05, 2.539156594139058e-05, 2.083195977320429e-05, 2.1807592929690145e-05, 1.9657605662359856e-05, 2.0488909285631962e-05, 1.87053137779003e-05, 1.8543221813160926e-05, 1.9042736312258057e-05, 1.8502818420529366e-05, 1.751792660797946e-05, 1.772179894032888e-05, 1.745417102938518e-05, 1.660350062593352e-05, 1.6284793673548847e-05, 1.5652090951334685e-05, 1.708415220491588e-05, 1.571177017467562e-05, 1.5253422134264838e-05, 1.5040866855997592e-05, 1.541056735732127e-05, 1.6369296645279974e-05, 1.431404052709695e-05, 1.4007378013047855e-05, 1.3898709767090622e-05, 1.3385525562625844e-05, 1.3410365681920666e-05, 1.3674442925548647e-05, 1.2966389476787299e-05, 1.2793041605618782e-05, 1.2520404197857715e-05, 1.2476349183998536e-05, 1.2585871445480734e-05, 1.178332149720518e-05, 1.1797756087617017e-05, 1.1626833838818129e-05, 1.1550779163371772e-05, 1.22740584629355e-05, 1.1262548468948808e-05, 1.091523517970927e-05, 1.1576093129406217e-05, 1.1270389222772792e-05, 1.0363130968471523e-05, 1.0750381989055313e-05, 1.0436540833325125e-05, 1.0363701221649535e-05, 1.0104683497047517e-05, 9.855050848273095e-06, 9.970539394998923e-06, 9.487494025961496e-06, 9.341902114101686e-06, 1.0108877177117392e-05, 9.29347334022168e-06, 1.0036970707005821e-05, 8.908631571102887e-06, 8.766022801864892e-06, 8.787996193859726e-06, 9.560444595990703e-06, 8.833547326503322e-06, 8.476061339024454e-06, 8.334795893460978e-06, 8.343466106452979e-06, 8.273562343674712e-06, 8.135076313919853e-06, 8.222280484915245e-06, 7.861869562475476e-06, 8.20447712612804e-06, 8.11185145721538e-06, 7.808517693774775e-06, 8.021976100280881e-06, 7.753832505841274e-06, 8.589200660935603e-06, 7.642004675290082e-06, 7.382701824099058e-06, 7.240565537358634e-06, 7.53907215766958e-06, 7.264313353516627e-06, 6.8131485022604465e-06, 7.561353868368315e-06, 6.944918823137414e-06, 7.131340680643916e-06, 6.799177754146513e-06, 6.836931788711809e-06, 7.0584424065600615e-06, 6.93818628860754e-06, 6.748266059730668e-06, 6.681456852675183e-06, 6.447974556067493e-06, 6.753835350536974e-06, 7.030254437268013e-06, 6.345065230561886e-06, 6.5034337239922024e-06, 6.264850526349619e-06, 6.8015051510883495e-06, 6.377609679475427e-06, 6.174410373205319e-06]}, {\"name\": \"error validation\", \"type\": \"scatter\", \"y\": [0.008530872873961926, 0.00200083339586854, 0.00030065045575611293, 6.369007314788178e-05, 3.425492832320742e-05, 2.1229094272712246e-05, 1.987156065297313e-05, 1.920811519084964e-05, 1.8776889191940427e-05, 1.8421564163872972e-05, 1.8341852410230786e-05, 1.8013019143836573e-05, 1.7422387827537023e-05, 1.728896859276574e-05, 1.6851652617333457e-05, 1.6560887161176652e-05, 1.624115429876838e-05, 1.6528591004316695e-05, 1.5987861843314022e-05, 1.6702422726666555e-05, 1.5117447219381575e-05, 1.580991920491215e-05, 1.675203748163767e-05, 1.4466902939602733e-05, 1.4187568922352511e-05, 1.3931975445302669e-05, 1.3763647075393237e-05, 1.4260475836636033e-05, 1.3266004316392355e-05, 1.3026803571847267e-05, 1.3538920029532164e-05, 1.2880162103101611e-05, 1.3141798262950033e-05, 1.302016698900843e-05, 1.2075733138772193e-05, 1.2018147572234739e-05, 1.2454525858629495e-05, 1.166727815871127e-05, 1.1333839211147279e-05, 1.1854298463731539e-05, 1.2308481927902903e-05, 1.2080011401849333e-05, 1.1115231245639734e-05, 1.0749126886366867e-05, 1.0744540304585826e-05, 1.0317014130123425e-05, 1.011902804748388e-05, 1.0954333447443787e-05, 1.1157330845890101e-05, 9.749213859322481e-06, 9.642159056966193e-06, 9.634628440835513e-06, 9.620682249078527e-06, 9.351679182145745e-06, 9.438994311494753e-06, 1.0040418601420242e-05, 8.915684702515136e-06, 8.872209946275689e-06, 8.687793524586596e-06, 8.856252861733083e-06, 8.48727813718142e-06, 8.438275472144596e-06, 9.924257028615102e-06, 8.306789823109284e-06, 8.232644177041948e-06, 8.560880814911798e-06, 8.33209833217552e-06, 8.240683200710919e-06, 7.796960744599346e-06, 8.06363550509559e-06, 8.793739652901422e-06, 7.676313543925062e-06, 7.50358867662726e-06, 7.3830451583489776e-06, 7.792938049533404e-06, 8.130764399538748e-06, 7.529991762567079e-06, 7.513866421504645e-06, 7.147410542529542e-06, 7.004436156421434e-06, 6.932165888429154e-06, 7.029859261820093e-06, 7.071394065860659e-06, 7.162038855312858e-06, 6.786984158679843e-06, 6.690768259431934e-06, 7.396987257379806e-06, 6.656896403001156e-06, 6.486646270786878e-06, 7.352462944254512e-06, 6.3845477598079015e-06, 6.799892162234755e-06, 6.545224096043967e-06, 6.47674687570543e-06, 6.2284320847538766e-06, 6.193883109517628e-06, 6.990686870267382e-06, 6.072436008253135e-06, 6.037629646016285e-06, 6.0729939832526725e-06]}],\n",
       "                        {\"template\": {\"data\": {\"bar\": [{\"error_x\": {\"color\": \"#2a3f5f\"}, \"error_y\": {\"color\": \"#2a3f5f\"}, \"marker\": {\"line\": {\"color\": \"#E5ECF6\", \"width\": 0.5}}, \"type\": \"bar\"}], \"barpolar\": [{\"marker\": {\"line\": {\"color\": \"#E5ECF6\", \"width\": 0.5}}, \"type\": \"barpolar\"}], \"carpet\": [{\"aaxis\": {\"endlinecolor\": \"#2a3f5f\", \"gridcolor\": \"white\", \"linecolor\": \"white\", \"minorgridcolor\": \"white\", \"startlinecolor\": \"#2a3f5f\"}, \"baxis\": {\"endlinecolor\": \"#2a3f5f\", \"gridcolor\": \"white\", \"linecolor\": \"white\", \"minorgridcolor\": \"white\", \"startlinecolor\": \"#2a3f5f\"}, \"type\": \"carpet\"}], \"choropleth\": [{\"colorbar\": {\"outlinewidth\": 0, \"ticks\": \"\"}, \"type\": \"choropleth\"}], \"contour\": [{\"colorbar\": {\"outlinewidth\": 0, \"ticks\": \"\"}, \"colorscale\": [[0.0, \"#0d0887\"], [0.1111111111111111, \"#46039f\"], [0.2222222222222222, \"#7201a8\"], [0.3333333333333333, \"#9c179e\"], [0.4444444444444444, \"#bd3786\"], [0.5555555555555556, \"#d8576b\"], [0.6666666666666666, \"#ed7953\"], [0.7777777777777778, \"#fb9f3a\"], [0.8888888888888888, \"#fdca26\"], [1.0, \"#f0f921\"]], \"type\": \"contour\"}], \"contourcarpet\": [{\"colorbar\": {\"outlinewidth\": 0, \"ticks\": \"\"}, \"type\": \"contourcarpet\"}], \"heatmap\": [{\"colorbar\": {\"outlinewidth\": 0, \"ticks\": \"\"}, \"colorscale\": [[0.0, \"#0d0887\"], [0.1111111111111111, \"#46039f\"], [0.2222222222222222, \"#7201a8\"], [0.3333333333333333, \"#9c179e\"], [0.4444444444444444, \"#bd3786\"], [0.5555555555555556, \"#d8576b\"], [0.6666666666666666, \"#ed7953\"], [0.7777777777777778, \"#fb9f3a\"], [0.8888888888888888, \"#fdca26\"], [1.0, \"#f0f921\"]], \"type\": \"heatmap\"}], \"heatmapgl\": [{\"colorbar\": {\"outlinewidth\": 0, \"ticks\": \"\"}, \"colorscale\": [[0.0, \"#0d0887\"], [0.1111111111111111, \"#46039f\"], [0.2222222222222222, \"#7201a8\"], [0.3333333333333333, \"#9c179e\"], [0.4444444444444444, \"#bd3786\"], [0.5555555555555556, \"#d8576b\"], [0.6666666666666666, \"#ed7953\"], [0.7777777777777778, \"#fb9f3a\"], [0.8888888888888888, \"#fdca26\"], [1.0, \"#f0f921\"]], \"type\": \"heatmapgl\"}], \"histogram\": [{\"marker\": {\"colorbar\": {\"outlinewidth\": 0, \"ticks\": \"\"}}, \"type\": \"histogram\"}], \"histogram2d\": [{\"colorbar\": {\"outlinewidth\": 0, \"ticks\": \"\"}, \"colorscale\": [[0.0, \"#0d0887\"], [0.1111111111111111, \"#46039f\"], [0.2222222222222222, \"#7201a8\"], [0.3333333333333333, \"#9c179e\"], [0.4444444444444444, \"#bd3786\"], [0.5555555555555556, \"#d8576b\"], [0.6666666666666666, \"#ed7953\"], [0.7777777777777778, \"#fb9f3a\"], [0.8888888888888888, \"#fdca26\"], [1.0, \"#f0f921\"]], \"type\": \"histogram2d\"}], \"histogram2dcontour\": [{\"colorbar\": {\"outlinewidth\": 0, \"ticks\": \"\"}, \"colorscale\": [[0.0, \"#0d0887\"], [0.1111111111111111, \"#46039f\"], [0.2222222222222222, \"#7201a8\"], [0.3333333333333333, \"#9c179e\"], [0.4444444444444444, \"#bd3786\"], [0.5555555555555556, \"#d8576b\"], [0.6666666666666666, \"#ed7953\"], [0.7777777777777778, \"#fb9f3a\"], [0.8888888888888888, \"#fdca26\"], [1.0, \"#f0f921\"]], \"type\": \"histogram2dcontour\"}], \"mesh3d\": [{\"colorbar\": {\"outlinewidth\": 0, \"ticks\": \"\"}, \"type\": \"mesh3d\"}], \"parcoords\": [{\"line\": {\"colorbar\": {\"outlinewidth\": 0, \"ticks\": \"\"}}, \"type\": \"parcoords\"}], \"pie\": [{\"automargin\": true, \"type\": \"pie\"}], \"scatter\": [{\"marker\": {\"colorbar\": {\"outlinewidth\": 0, \"ticks\": \"\"}}, \"type\": \"scatter\"}], \"scatter3d\": [{\"line\": {\"colorbar\": {\"outlinewidth\": 0, \"ticks\": \"\"}}, \"marker\": {\"colorbar\": {\"outlinewidth\": 0, \"ticks\": \"\"}}, \"type\": \"scatter3d\"}], \"scattercarpet\": [{\"marker\": {\"colorbar\": {\"outlinewidth\": 0, \"ticks\": \"\"}}, \"type\": \"scattercarpet\"}], \"scattergeo\": [{\"marker\": {\"colorbar\": {\"outlinewidth\": 0, \"ticks\": \"\"}}, \"type\": \"scattergeo\"}], \"scattergl\": [{\"marker\": {\"colorbar\": {\"outlinewidth\": 0, \"ticks\": \"\"}}, \"type\": \"scattergl\"}], \"scattermapbox\": [{\"marker\": {\"colorbar\": {\"outlinewidth\": 0, \"ticks\": \"\"}}, \"type\": \"scattermapbox\"}], \"scatterpolar\": [{\"marker\": {\"colorbar\": {\"outlinewidth\": 0, \"ticks\": \"\"}}, \"type\": \"scatterpolar\"}], \"scatterpolargl\": [{\"marker\": {\"colorbar\": {\"outlinewidth\": 0, \"ticks\": \"\"}}, \"type\": \"scatterpolargl\"}], \"scatterternary\": [{\"marker\": {\"colorbar\": {\"outlinewidth\": 0, \"ticks\": \"\"}}, \"type\": \"scatterternary\"}], \"surface\": [{\"colorbar\": {\"outlinewidth\": 0, \"ticks\": \"\"}, \"colorscale\": [[0.0, \"#0d0887\"], [0.1111111111111111, \"#46039f\"], [0.2222222222222222, \"#7201a8\"], [0.3333333333333333, \"#9c179e\"], [0.4444444444444444, \"#bd3786\"], [0.5555555555555556, \"#d8576b\"], [0.6666666666666666, \"#ed7953\"], [0.7777777777777778, \"#fb9f3a\"], [0.8888888888888888, \"#fdca26\"], [1.0, \"#f0f921\"]], \"type\": \"surface\"}], \"table\": [{\"cells\": {\"fill\": {\"color\": \"#EBF0F8\"}, \"line\": {\"color\": \"white\"}}, \"header\": {\"fill\": {\"color\": \"#C8D4E3\"}, \"line\": {\"color\": \"white\"}}, \"type\": \"table\"}]}, \"layout\": {\"annotationdefaults\": {\"arrowcolor\": \"#2a3f5f\", \"arrowhead\": 0, \"arrowwidth\": 1}, \"coloraxis\": {\"colorbar\": {\"outlinewidth\": 0, \"ticks\": \"\"}}, \"colorscale\": {\"diverging\": [[0, \"#8e0152\"], [0.1, \"#c51b7d\"], [0.2, \"#de77ae\"], [0.3, \"#f1b6da\"], [0.4, \"#fde0ef\"], [0.5, \"#f7f7f7\"], [0.6, \"#e6f5d0\"], [0.7, \"#b8e186\"], [0.8, \"#7fbc41\"], [0.9, \"#4d9221\"], [1, \"#276419\"]], \"sequential\": [[0.0, \"#0d0887\"], [0.1111111111111111, \"#46039f\"], [0.2222222222222222, \"#7201a8\"], [0.3333333333333333, \"#9c179e\"], [0.4444444444444444, \"#bd3786\"], [0.5555555555555556, \"#d8576b\"], [0.6666666666666666, \"#ed7953\"], [0.7777777777777778, \"#fb9f3a\"], [0.8888888888888888, \"#fdca26\"], [1.0, \"#f0f921\"]], \"sequentialminus\": [[0.0, \"#0d0887\"], [0.1111111111111111, \"#46039f\"], [0.2222222222222222, \"#7201a8\"], [0.3333333333333333, \"#9c179e\"], [0.4444444444444444, \"#bd3786\"], [0.5555555555555556, \"#d8576b\"], [0.6666666666666666, \"#ed7953\"], [0.7777777777777778, \"#fb9f3a\"], [0.8888888888888888, \"#fdca26\"], [1.0, \"#f0f921\"]]}, \"colorway\": [\"#636efa\", \"#EF553B\", \"#00cc96\", \"#ab63fa\", \"#FFA15A\", \"#19d3f3\", \"#FF6692\", \"#B6E880\", \"#FF97FF\", \"#FECB52\"], \"font\": {\"color\": \"#2a3f5f\"}, \"geo\": {\"bgcolor\": \"white\", \"lakecolor\": \"white\", \"landcolor\": \"#E5ECF6\", \"showlakes\": true, \"showland\": true, \"subunitcolor\": \"white\"}, \"hoverlabel\": {\"align\": \"left\"}, \"hovermode\": \"closest\", \"mapbox\": {\"style\": \"light\"}, \"paper_bgcolor\": \"white\", \"plot_bgcolor\": \"#E5ECF6\", \"polar\": {\"angularaxis\": {\"gridcolor\": \"white\", \"linecolor\": \"white\", \"ticks\": \"\"}, \"bgcolor\": \"#E5ECF6\", \"radialaxis\": {\"gridcolor\": \"white\", \"linecolor\": \"white\", \"ticks\": \"\"}}, \"scene\": {\"xaxis\": {\"backgroundcolor\": \"#E5ECF6\", \"gridcolor\": \"white\", \"gridwidth\": 2, \"linecolor\": \"white\", \"showbackground\": true, \"ticks\": \"\", \"zerolinecolor\": \"white\"}, \"yaxis\": {\"backgroundcolor\": \"#E5ECF6\", \"gridcolor\": \"white\", \"gridwidth\": 2, \"linecolor\": \"white\", \"showbackground\": true, \"ticks\": \"\", \"zerolinecolor\": \"white\"}, \"zaxis\": {\"backgroundcolor\": \"#E5ECF6\", \"gridcolor\": \"white\", \"gridwidth\": 2, \"linecolor\": \"white\", \"showbackground\": true, \"ticks\": \"\", \"zerolinecolor\": \"white\"}}, \"shapedefaults\": {\"line\": {\"color\": \"#2a3f5f\"}}, \"ternary\": {\"aaxis\": {\"gridcolor\": \"white\", \"linecolor\": \"white\", \"ticks\": \"\"}, \"baxis\": {\"gridcolor\": \"white\", \"linecolor\": \"white\", \"ticks\": \"\"}, \"bgcolor\": \"#E5ECF6\", \"caxis\": {\"gridcolor\": \"white\", \"linecolor\": \"white\", \"ticks\": \"\"}}, \"title\": {\"x\": 0.05}, \"xaxis\": {\"automargin\": true, \"gridcolor\": \"white\", \"linecolor\": \"white\", \"ticks\": \"\", \"title\": {\"standoff\": 15}, \"zerolinecolor\": \"white\", \"zerolinewidth\": 2}, \"yaxis\": {\"automargin\": true, \"gridcolor\": \"white\", \"linecolor\": \"white\", \"ticks\": \"\", \"title\": {\"standoff\": 15}, \"zerolinecolor\": \"white\", \"zerolinewidth\": 2}}}, \"width\": 600, \"xaxis\": {\"range\": [0, 100], \"title\": {\"text\": \"epoch\"}}, \"yaxis\": {\"range\": [-6, 0], \"type\": \"log\"}},\n",
       "                        {\"responsive\": true}\n",
       "                    ).then(function(){\n",
       "                            \n",
       "var gd = document.getElementById('2bf8b6b7-aa3c-429e-93cb-13237eb75477');\n",
       "var x = new MutationObserver(function (mutations, observer) {{\n",
       "        var display = window.getComputedStyle(gd).display;\n",
       "        if (!display || display === 'none') {{\n",
       "            console.log([gd, 'removed!']);\n",
       "            Plotly.purge(gd);\n",
       "            observer.disconnect();\n",
       "        }}\n",
       "}});\n",
       "\n",
       "// Listen for the removal of the full notebook cells\n",
       "var notebookContainer = gd.closest('#notebook-container');\n",
       "if (notebookContainer) {{\n",
       "    x.observe(notebookContainer, {childList: true});\n",
       "}}\n",
       "\n",
       "// Listen for the clearing of the current output cell\n",
       "var outputEl = gd.closest('.output');\n",
       "if (outputEl) {{\n",
       "    x.observe(outputEl, {childList: true});\n",
       "}}\n",
       "\n",
       "                        })\n",
       "                };\n",
       "                });\n",
       "            </script>\n",
       "        </div>"
      ]
     },
     "metadata": {},
     "output_type": "display_data"
    }
   ],
   "source": [
    "fig = go.Figure()\n",
    "plot_history(fig, history)\n",
    "fig.show()"
   ]
  },
  {
   "cell_type": "code",
   "execution_count": 212,
   "metadata": {},
   "outputs": [
    {
     "data": {
      "application/vnd.plotly.v1+json": {
       "config": {
        "plotlyServerURL": "https://plot.ly"
       },
       "data": [
        {
         "type": "scatter",
         "x": [
          0,
          0.007874015748031496,
          0.015748031496062992,
          0.023622047244094488,
          0.031496062992125984,
          0.03937007874015748,
          0.047244094488188976,
          0.05511811023622047,
          0.06299212598425197,
          0.07086614173228346,
          0.07874015748031496,
          0.08661417322834646,
          0.09448818897637795,
          0.10236220472440945,
          0.11023622047244094,
          0.11811023622047244,
          0.12598425196850394,
          0.13385826771653542,
          0.14173228346456693,
          0.14960629921259844,
          0.15748031496062992,
          0.1653543307086614,
          0.1732283464566929,
          0.18110236220472442,
          0.1889763779527559,
          0.19685039370078738,
          0.2047244094488189,
          0.2125984251968504,
          0.2204724409448819,
          0.22834645669291337,
          0.23622047244094488,
          0.2440944881889764,
          0.25196850393700787,
          0.25984251968503935,
          0.26771653543307083,
          0.2755905511811024,
          0.28346456692913385,
          0.29133858267716534,
          0.2992125984251969,
          0.30708661417322836,
          0.31496062992125984,
          0.3228346456692913,
          0.3307086614173228,
          0.33858267716535434,
          0.3464566929133858,
          0.3543307086614173,
          0.36220472440944884,
          0.3700787401574803,
          0.3779527559055118,
          0.3858267716535433,
          0.39370078740157477,
          0.4015748031496063,
          0.4094488188976378,
          0.41732283464566927,
          0.4251968503937008,
          0.4330708661417323,
          0.4409448818897638,
          0.44881889763779526,
          0.45669291338582674,
          0.4645669291338583,
          0.47244094488188976,
          0.48031496062992124,
          0.4881889763779528,
          0.49606299212598426,
          0.5039370078740157,
          0.5118110236220472,
          0.5196850393700787,
          0.5275590551181102,
          0.5354330708661417,
          0.5433070866141733,
          0.5511811023622047,
          0.5590551181102362,
          0.5669291338582677,
          0.5748031496062992,
          0.5826771653543307,
          0.5905511811023622,
          0.5984251968503937,
          0.6062992125984252,
          0.6141732283464567,
          0.6220472440944882,
          0.6299212598425197,
          0.6377952755905512,
          0.6456692913385826,
          0.6535433070866141,
          0.6614173228346456,
          0.6692913385826772,
          0.6771653543307087,
          0.6850393700787402,
          0.6929133858267716,
          0.7007874015748031,
          0.7086614173228346,
          0.7165354330708661,
          0.7244094488188977,
          0.7322834645669292,
          0.7401574803149606,
          0.7480314960629921,
          0.7559055118110236,
          0.7637795275590551,
          0.7716535433070866,
          0.7795275590551181,
          0.7874015748031495,
          0.7952755905511811,
          0.8031496062992126,
          0.8110236220472441,
          0.8188976377952756,
          0.8267716535433071,
          0.8346456692913385,
          0.84251968503937,
          0.8503937007874016,
          0.8582677165354331,
          0.8661417322834646,
          0.8740157480314961,
          0.8818897637795275,
          0.889763779527559,
          0.8976377952755905,
          0.905511811023622,
          0.9133858267716535,
          0.9212598425196851,
          0.9291338582677166,
          0.937007874015748,
          0.9448818897637795,
          0.952755905511811,
          0.9606299212598425,
          0.968503937007874,
          0.9763779527559056,
          0.984251968503937,
          0.9921259842519685,
          1
         ],
         "y": [
          0.0025101304054260254,
          0.0024986192593277057,
          0.0024644895627893293,
          0.002407939176397478,
          0.0023293174505603087,
          0.002229840054109977,
          0.0021097406343966174,
          0.0019703562172134204,
          0.001813172605741098,
          0.0016394060603781568,
          0.0014505384956904344,
          0.0012484352918772368,
          0.001034807306908525,
          0.0008119244431553652,
          0.0005817197511972516,
          0.00034602589051513366,
          0.0001074671163259211,
          0.00013209264219460337,
          0.0003702407918468875,
          0.0006046741423713087,
          0.0008330822091937584,
          0.001053626650992734,
          0.0012638114622828267,
          0.0014617970287764681,
          0.001645508875071866,
          0.001813236584423783,
          0.0019629810687084026,
          0.0020937092265479462,
          0.0022036284005656492,
          0.0022919775319927282,
          0.002357361261237978,
          0.0023993026868441847,
          0.0024171735200285704,
          0.0024107931618188028,
          0.002379478044788441,
          0.002324130790113066,
          0.0022447397787567214,
          0.0021419914085696323,
          0.0020168557528216224,
          0.0018701721723626274,
          0.0017029501317458173,
          0.0015172660049597164,
          0.001314537215244882,
          0.0010960612855109853,
          0.0008645084931717673,
          0.0006213613356002012,
          0.0003690626857116852,
          0.00010994521699692061,
          0.00015382597477875404,
          0.00041971478794178285,
          0.0006854081059162187,
          0.0009487542250674608,
          0.0012069861159564876,
          0.0014579117279241993,
          0.001699197035694655,
          0.001928543246612735,
          0.0021442217267459984,
          0.0023438804830507864,
          0.0025256157123197953,
          0.0026879705560869382,
          0.0028291590837707936,
          0.002947959293346347,
          0.0030427584541653507,
          0.003112625092318466,
          0.0031567717335280188,
          0.0031742561457374086,
          0.0031645767305256145,
          0.0031274335265725206,
          0.003062489288017445,
          0.002969607472590896,
          0.00284932871858945,
          0.002701440041055103,
          0.002526583930202553,
          0.0023254833268990804,
          0.0020990607281080598,
          0.0018483189314705273,
          0.0015740430210855472,
          0.0012780521265970402,
          0.0009617690232250897,
          0.0006272931742679067,
          0.00027668567910021924,
          8.773245754722936e-05,
          0.0004627243886080601,
          0.0008452099850159156,
          0.0012312521984896296,
          0.001616175879943782,
          0.0019948653815022865,
          0.002361287270047807,
          0.002708609061312428,
          0.0030284834651589376,
          0.003312120748474534,
          0.003549334520396963,
          0.0037288391972568613,
          0.003838487846894223,
          0.00386533120484045,
          0.0037963323290969297,
          0.003618723616183317,
          0.003321138668269441,
          0.002894684547856019,
          0.002334550467872454,
          0.0016412588488726731,
          0.0008229892560841501,
          0.00010275331717235492,
          0.0011079470046090334,
          0.002153040436341125,
          0.0031875494329499654,
          0.00415202460471098,
          0.004981449459728005,
          0.005610843880524019,
          0.005981761666120522,
          0.006050039766749338,
          0.005792832257249025,
          0.00521326011846901,
          0.004344166942233163,
          0.0032454969320174776,
          0.0020002423843814565,
          0.0007075301392448496,
          0.0005290603500167634,
          0.0016089470256478444,
          0.002446465592212843,
          0.002975100893663263,
          0.003154340904565567,
          0.0029692589646632683,
          0.002430692070070073,
          0.0015719025007525644,
          0.00044327250519282657,
          0.0008921069347230803,
          0.002363860607147217
         ]
        }
       ],
       "layout": {
        "template": {
         "data": {
          "bar": [
           {
            "error_x": {
             "color": "#2a3f5f"
            },
            "error_y": {
             "color": "#2a3f5f"
            },
            "marker": {
             "line": {
              "color": "#E5ECF6",
              "width": 0.5
             }
            },
            "type": "bar"
           }
          ],
          "barpolar": [
           {
            "marker": {
             "line": {
              "color": "#E5ECF6",
              "width": 0.5
             }
            },
            "type": "barpolar"
           }
          ],
          "carpet": [
           {
            "aaxis": {
             "endlinecolor": "#2a3f5f",
             "gridcolor": "white",
             "linecolor": "white",
             "minorgridcolor": "white",
             "startlinecolor": "#2a3f5f"
            },
            "baxis": {
             "endlinecolor": "#2a3f5f",
             "gridcolor": "white",
             "linecolor": "white",
             "minorgridcolor": "white",
             "startlinecolor": "#2a3f5f"
            },
            "type": "carpet"
           }
          ],
          "choropleth": [
           {
            "colorbar": {
             "outlinewidth": 0,
             "ticks": ""
            },
            "type": "choropleth"
           }
          ],
          "contour": [
           {
            "colorbar": {
             "outlinewidth": 0,
             "ticks": ""
            },
            "colorscale": [
             [
              0,
              "#0d0887"
             ],
             [
              0.1111111111111111,
              "#46039f"
             ],
             [
              0.2222222222222222,
              "#7201a8"
             ],
             [
              0.3333333333333333,
              "#9c179e"
             ],
             [
              0.4444444444444444,
              "#bd3786"
             ],
             [
              0.5555555555555556,
              "#d8576b"
             ],
             [
              0.6666666666666666,
              "#ed7953"
             ],
             [
              0.7777777777777778,
              "#fb9f3a"
             ],
             [
              0.8888888888888888,
              "#fdca26"
             ],
             [
              1,
              "#f0f921"
             ]
            ],
            "type": "contour"
           }
          ],
          "contourcarpet": [
           {
            "colorbar": {
             "outlinewidth": 0,
             "ticks": ""
            },
            "type": "contourcarpet"
           }
          ],
          "heatmap": [
           {
            "colorbar": {
             "outlinewidth": 0,
             "ticks": ""
            },
            "colorscale": [
             [
              0,
              "#0d0887"
             ],
             [
              0.1111111111111111,
              "#46039f"
             ],
             [
              0.2222222222222222,
              "#7201a8"
             ],
             [
              0.3333333333333333,
              "#9c179e"
             ],
             [
              0.4444444444444444,
              "#bd3786"
             ],
             [
              0.5555555555555556,
              "#d8576b"
             ],
             [
              0.6666666666666666,
              "#ed7953"
             ],
             [
              0.7777777777777778,
              "#fb9f3a"
             ],
             [
              0.8888888888888888,
              "#fdca26"
             ],
             [
              1,
              "#f0f921"
             ]
            ],
            "type": "heatmap"
           }
          ],
          "heatmapgl": [
           {
            "colorbar": {
             "outlinewidth": 0,
             "ticks": ""
            },
            "colorscale": [
             [
              0,
              "#0d0887"
             ],
             [
              0.1111111111111111,
              "#46039f"
             ],
             [
              0.2222222222222222,
              "#7201a8"
             ],
             [
              0.3333333333333333,
              "#9c179e"
             ],
             [
              0.4444444444444444,
              "#bd3786"
             ],
             [
              0.5555555555555556,
              "#d8576b"
             ],
             [
              0.6666666666666666,
              "#ed7953"
             ],
             [
              0.7777777777777778,
              "#fb9f3a"
             ],
             [
              0.8888888888888888,
              "#fdca26"
             ],
             [
              1,
              "#f0f921"
             ]
            ],
            "type": "heatmapgl"
           }
          ],
          "histogram": [
           {
            "marker": {
             "colorbar": {
              "outlinewidth": 0,
              "ticks": ""
             }
            },
            "type": "histogram"
           }
          ],
          "histogram2d": [
           {
            "colorbar": {
             "outlinewidth": 0,
             "ticks": ""
            },
            "colorscale": [
             [
              0,
              "#0d0887"
             ],
             [
              0.1111111111111111,
              "#46039f"
             ],
             [
              0.2222222222222222,
              "#7201a8"
             ],
             [
              0.3333333333333333,
              "#9c179e"
             ],
             [
              0.4444444444444444,
              "#bd3786"
             ],
             [
              0.5555555555555556,
              "#d8576b"
             ],
             [
              0.6666666666666666,
              "#ed7953"
             ],
             [
              0.7777777777777778,
              "#fb9f3a"
             ],
             [
              0.8888888888888888,
              "#fdca26"
             ],
             [
              1,
              "#f0f921"
             ]
            ],
            "type": "histogram2d"
           }
          ],
          "histogram2dcontour": [
           {
            "colorbar": {
             "outlinewidth": 0,
             "ticks": ""
            },
            "colorscale": [
             [
              0,
              "#0d0887"
             ],
             [
              0.1111111111111111,
              "#46039f"
             ],
             [
              0.2222222222222222,
              "#7201a8"
             ],
             [
              0.3333333333333333,
              "#9c179e"
             ],
             [
              0.4444444444444444,
              "#bd3786"
             ],
             [
              0.5555555555555556,
              "#d8576b"
             ],
             [
              0.6666666666666666,
              "#ed7953"
             ],
             [
              0.7777777777777778,
              "#fb9f3a"
             ],
             [
              0.8888888888888888,
              "#fdca26"
             ],
             [
              1,
              "#f0f921"
             ]
            ],
            "type": "histogram2dcontour"
           }
          ],
          "mesh3d": [
           {
            "colorbar": {
             "outlinewidth": 0,
             "ticks": ""
            },
            "type": "mesh3d"
           }
          ],
          "parcoords": [
           {
            "line": {
             "colorbar": {
              "outlinewidth": 0,
              "ticks": ""
             }
            },
            "type": "parcoords"
           }
          ],
          "pie": [
           {
            "automargin": true,
            "type": "pie"
           }
          ],
          "scatter": [
           {
            "marker": {
             "colorbar": {
              "outlinewidth": 0,
              "ticks": ""
             }
            },
            "type": "scatter"
           }
          ],
          "scatter3d": [
           {
            "line": {
             "colorbar": {
              "outlinewidth": 0,
              "ticks": ""
             }
            },
            "marker": {
             "colorbar": {
              "outlinewidth": 0,
              "ticks": ""
             }
            },
            "type": "scatter3d"
           }
          ],
          "scattercarpet": [
           {
            "marker": {
             "colorbar": {
              "outlinewidth": 0,
              "ticks": ""
             }
            },
            "type": "scattercarpet"
           }
          ],
          "scattergeo": [
           {
            "marker": {
             "colorbar": {
              "outlinewidth": 0,
              "ticks": ""
             }
            },
            "type": "scattergeo"
           }
          ],
          "scattergl": [
           {
            "marker": {
             "colorbar": {
              "outlinewidth": 0,
              "ticks": ""
             }
            },
            "type": "scattergl"
           }
          ],
          "scattermapbox": [
           {
            "marker": {
             "colorbar": {
              "outlinewidth": 0,
              "ticks": ""
             }
            },
            "type": "scattermapbox"
           }
          ],
          "scatterpolar": [
           {
            "marker": {
             "colorbar": {
              "outlinewidth": 0,
              "ticks": ""
             }
            },
            "type": "scatterpolar"
           }
          ],
          "scatterpolargl": [
           {
            "marker": {
             "colorbar": {
              "outlinewidth": 0,
              "ticks": ""
             }
            },
            "type": "scatterpolargl"
           }
          ],
          "scatterternary": [
           {
            "marker": {
             "colorbar": {
              "outlinewidth": 0,
              "ticks": ""
             }
            },
            "type": "scatterternary"
           }
          ],
          "surface": [
           {
            "colorbar": {
             "outlinewidth": 0,
             "ticks": ""
            },
            "colorscale": [
             [
              0,
              "#0d0887"
             ],
             [
              0.1111111111111111,
              "#46039f"
             ],
             [
              0.2222222222222222,
              "#7201a8"
             ],
             [
              0.3333333333333333,
              "#9c179e"
             ],
             [
              0.4444444444444444,
              "#bd3786"
             ],
             [
              0.5555555555555556,
              "#d8576b"
             ],
             [
              0.6666666666666666,
              "#ed7953"
             ],
             [
              0.7777777777777778,
              "#fb9f3a"
             ],
             [
              0.8888888888888888,
              "#fdca26"
             ],
             [
              1,
              "#f0f921"
             ]
            ],
            "type": "surface"
           }
          ],
          "table": [
           {
            "cells": {
             "fill": {
              "color": "#EBF0F8"
             },
             "line": {
              "color": "white"
             }
            },
            "header": {
             "fill": {
              "color": "#C8D4E3"
             },
             "line": {
              "color": "white"
             }
            },
            "type": "table"
           }
          ]
         },
         "layout": {
          "annotationdefaults": {
           "arrowcolor": "#2a3f5f",
           "arrowhead": 0,
           "arrowwidth": 1
          },
          "coloraxis": {
           "colorbar": {
            "outlinewidth": 0,
            "ticks": ""
           }
          },
          "colorscale": {
           "diverging": [
            [
             0,
             "#8e0152"
            ],
            [
             0.1,
             "#c51b7d"
            ],
            [
             0.2,
             "#de77ae"
            ],
            [
             0.3,
             "#f1b6da"
            ],
            [
             0.4,
             "#fde0ef"
            ],
            [
             0.5,
             "#f7f7f7"
            ],
            [
             0.6,
             "#e6f5d0"
            ],
            [
             0.7,
             "#b8e186"
            ],
            [
             0.8,
             "#7fbc41"
            ],
            [
             0.9,
             "#4d9221"
            ],
            [
             1,
             "#276419"
            ]
           ],
           "sequential": [
            [
             0,
             "#0d0887"
            ],
            [
             0.1111111111111111,
             "#46039f"
            ],
            [
             0.2222222222222222,
             "#7201a8"
            ],
            [
             0.3333333333333333,
             "#9c179e"
            ],
            [
             0.4444444444444444,
             "#bd3786"
            ],
            [
             0.5555555555555556,
             "#d8576b"
            ],
            [
             0.6666666666666666,
             "#ed7953"
            ],
            [
             0.7777777777777778,
             "#fb9f3a"
            ],
            [
             0.8888888888888888,
             "#fdca26"
            ],
            [
             1,
             "#f0f921"
            ]
           ],
           "sequentialminus": [
            [
             0,
             "#0d0887"
            ],
            [
             0.1111111111111111,
             "#46039f"
            ],
            [
             0.2222222222222222,
             "#7201a8"
            ],
            [
             0.3333333333333333,
             "#9c179e"
            ],
            [
             0.4444444444444444,
             "#bd3786"
            ],
            [
             0.5555555555555556,
             "#d8576b"
            ],
            [
             0.6666666666666666,
             "#ed7953"
            ],
            [
             0.7777777777777778,
             "#fb9f3a"
            ],
            [
             0.8888888888888888,
             "#fdca26"
            ],
            [
             1,
             "#f0f921"
            ]
           ]
          },
          "colorway": [
           "#636efa",
           "#EF553B",
           "#00cc96",
           "#ab63fa",
           "#FFA15A",
           "#19d3f3",
           "#FF6692",
           "#B6E880",
           "#FF97FF",
           "#FECB52"
          ],
          "font": {
           "color": "#2a3f5f"
          },
          "geo": {
           "bgcolor": "white",
           "lakecolor": "white",
           "landcolor": "#E5ECF6",
           "showlakes": true,
           "showland": true,
           "subunitcolor": "white"
          },
          "hoverlabel": {
           "align": "left"
          },
          "hovermode": "closest",
          "mapbox": {
           "style": "light"
          },
          "paper_bgcolor": "white",
          "plot_bgcolor": "#E5ECF6",
          "polar": {
           "angularaxis": {
            "gridcolor": "white",
            "linecolor": "white",
            "ticks": ""
           },
           "bgcolor": "#E5ECF6",
           "radialaxis": {
            "gridcolor": "white",
            "linecolor": "white",
            "ticks": ""
           }
          },
          "scene": {
           "xaxis": {
            "backgroundcolor": "#E5ECF6",
            "gridcolor": "white",
            "gridwidth": 2,
            "linecolor": "white",
            "showbackground": true,
            "ticks": "",
            "zerolinecolor": "white"
           },
           "yaxis": {
            "backgroundcolor": "#E5ECF6",
            "gridcolor": "white",
            "gridwidth": 2,
            "linecolor": "white",
            "showbackground": true,
            "ticks": "",
            "zerolinecolor": "white"
           },
           "zaxis": {
            "backgroundcolor": "#E5ECF6",
            "gridcolor": "white",
            "gridwidth": 2,
            "linecolor": "white",
            "showbackground": true,
            "ticks": "",
            "zerolinecolor": "white"
           }
          },
          "shapedefaults": {
           "line": {
            "color": "#2a3f5f"
           }
          },
          "ternary": {
           "aaxis": {
            "gridcolor": "white",
            "linecolor": "white",
            "ticks": ""
           },
           "baxis": {
            "gridcolor": "white",
            "linecolor": "white",
            "ticks": ""
           },
           "bgcolor": "#E5ECF6",
           "caxis": {
            "gridcolor": "white",
            "linecolor": "white",
            "ticks": ""
           }
          },
          "title": {
           "x": 0.05
          },
          "xaxis": {
           "automargin": true,
           "gridcolor": "white",
           "linecolor": "white",
           "ticks": "",
           "title": {
            "standoff": 15
           },
           "zerolinecolor": "white",
           "zerolinewidth": 2
          },
          "yaxis": {
           "automargin": true,
           "gridcolor": "white",
           "linecolor": "white",
           "ticks": "",
           "title": {
            "standoff": 15
           },
           "zerolinecolor": "white",
           "zerolinewidth": 2
          }
         }
        },
        "width": 600,
        "yaxis": {
         "type": "log"
        }
       }
      },
      "text/html": [
       "<div>\n",
       "        \n",
       "        \n",
       "            <div id=\"0c2feafb-2402-40f2-ad0f-a7d78f8b426a\" class=\"plotly-graph-div\" style=\"height:525px; width:600px;\"></div>\n",
       "            <script type=\"text/javascript\">\n",
       "                require([\"plotly\"], function(Plotly) {\n",
       "                    window.PLOTLYENV=window.PLOTLYENV || {};\n",
       "                    \n",
       "                if (document.getElementById(\"0c2feafb-2402-40f2-ad0f-a7d78f8b426a\")) {\n",
       "                    Plotly.newPlot(\n",
       "                        '0c2feafb-2402-40f2-ad0f-a7d78f8b426a',\n",
       "                        [{\"type\": \"scatter\", \"x\": [0.0, 0.007874015748031496, 0.015748031496062992, 0.023622047244094488, 0.031496062992125984, 0.03937007874015748, 0.047244094488188976, 0.05511811023622047, 0.06299212598425197, 0.07086614173228346, 0.07874015748031496, 0.08661417322834646, 0.09448818897637795, 0.10236220472440945, 0.11023622047244094, 0.11811023622047244, 0.12598425196850394, 0.13385826771653542, 0.14173228346456693, 0.14960629921259844, 0.15748031496062992, 0.1653543307086614, 0.1732283464566929, 0.18110236220472442, 0.1889763779527559, 0.19685039370078738, 0.2047244094488189, 0.2125984251968504, 0.2204724409448819, 0.22834645669291337, 0.23622047244094488, 0.2440944881889764, 0.25196850393700787, 0.25984251968503935, 0.26771653543307083, 0.2755905511811024, 0.28346456692913385, 0.29133858267716534, 0.2992125984251969, 0.30708661417322836, 0.31496062992125984, 0.3228346456692913, 0.3307086614173228, 0.33858267716535434, 0.3464566929133858, 0.3543307086614173, 0.36220472440944884, 0.3700787401574803, 0.3779527559055118, 0.3858267716535433, 0.39370078740157477, 0.4015748031496063, 0.4094488188976378, 0.41732283464566927, 0.4251968503937008, 0.4330708661417323, 0.4409448818897638, 0.44881889763779526, 0.45669291338582674, 0.4645669291338583, 0.47244094488188976, 0.48031496062992124, 0.4881889763779528, 0.49606299212598426, 0.5039370078740157, 0.5118110236220472, 0.5196850393700787, 0.5275590551181102, 0.5354330708661417, 0.5433070866141733, 0.5511811023622047, 0.5590551181102362, 0.5669291338582677, 0.5748031496062992, 0.5826771653543307, 0.5905511811023622, 0.5984251968503937, 0.6062992125984252, 0.6141732283464567, 0.6220472440944882, 0.6299212598425197, 0.6377952755905512, 0.6456692913385826, 0.6535433070866141, 0.6614173228346456, 0.6692913385826772, 0.6771653543307087, 0.6850393700787402, 0.6929133858267716, 0.7007874015748031, 0.7086614173228346, 0.7165354330708661, 0.7244094488188977, 0.7322834645669292, 0.7401574803149606, 0.7480314960629921, 0.7559055118110236, 0.7637795275590551, 0.7716535433070866, 0.7795275590551181, 0.7874015748031495, 0.7952755905511811, 0.8031496062992126, 0.8110236220472441, 0.8188976377952756, 0.8267716535433071, 0.8346456692913385, 0.84251968503937, 0.8503937007874016, 0.8582677165354331, 0.8661417322834646, 0.8740157480314961, 0.8818897637795275, 0.889763779527559, 0.8976377952755905, 0.905511811023622, 0.9133858267716535, 0.9212598425196851, 0.9291338582677166, 0.937007874015748, 0.9448818897637795, 0.952755905511811, 0.9606299212598425, 0.968503937007874, 0.9763779527559056, 0.984251968503937, 0.9921259842519685, 1.0], \"y\": [0.0025101304054260254, 0.0024986192593277057, 0.0024644895627893293, 0.002407939176397478, 0.0023293174505603087, 0.002229840054109977, 0.0021097406343966174, 0.0019703562172134204, 0.001813172605741098, 0.0016394060603781568, 0.0014505384956904344, 0.0012484352918772368, 0.001034807306908525, 0.0008119244431553652, 0.0005817197511972516, 0.00034602589051513366, 0.0001074671163259211, 0.00013209264219460337, 0.0003702407918468875, 0.0006046741423713087, 0.0008330822091937584, 0.001053626650992734, 0.0012638114622828267, 0.0014617970287764681, 0.001645508875071866, 0.001813236584423783, 0.0019629810687084026, 0.0020937092265479462, 0.0022036284005656492, 0.0022919775319927282, 0.002357361261237978, 0.0023993026868441847, 0.0024171735200285704, 0.0024107931618188028, 0.002379478044788441, 0.002324130790113066, 0.0022447397787567214, 0.0021419914085696323, 0.0020168557528216224, 0.0018701721723626274, 0.0017029501317458173, 0.0015172660049597164, 0.001314537215244882, 0.0010960612855109853, 0.0008645084931717673, 0.0006213613356002012, 0.0003690626857116852, 0.00010994521699692061, 0.00015382597477875404, 0.00041971478794178285, 0.0006854081059162187, 0.0009487542250674608, 0.0012069861159564876, 0.0014579117279241993, 0.001699197035694655, 0.001928543246612735, 0.0021442217267459984, 0.0023438804830507864, 0.0025256157123197953, 0.0026879705560869382, 0.0028291590837707936, 0.002947959293346347, 0.0030427584541653507, 0.003112625092318466, 0.0031567717335280188, 0.0031742561457374086, 0.0031645767305256145, 0.0031274335265725206, 0.003062489288017445, 0.002969607472590896, 0.00284932871858945, 0.002701440041055103, 0.002526583930202553, 0.0023254833268990804, 0.0020990607281080598, 0.0018483189314705273, 0.0015740430210855472, 0.0012780521265970402, 0.0009617690232250897, 0.0006272931742679067, 0.00027668567910021924, 8.773245754722936e-05, 0.0004627243886080601, 0.0008452099850159156, 0.0012312521984896296, 0.001616175879943782, 0.0019948653815022865, 0.002361287270047807, 0.002708609061312428, 0.0030284834651589376, 0.003312120748474534, 0.003549334520396963, 0.0037288391972568613, 0.003838487846894223, 0.00386533120484045, 0.0037963323290969297, 0.003618723616183317, 0.003321138668269441, 0.002894684547856019, 0.002334550467872454, 0.0016412588488726731, 0.0008229892560841501, 0.00010275331717235492, 0.0011079470046090334, 0.002153040436341125, 0.0031875494329499654, 0.00415202460471098, 0.004981449459728005, 0.005610843880524019, 0.005981761666120522, 0.006050039766749338, 0.005792832257249025, 0.00521326011846901, 0.004344166942233163, 0.0032454969320174776, 0.0020002423843814565, 0.0007075301392448496, 0.0005290603500167634, 0.0016089470256478444, 0.002446465592212843, 0.002975100893663263, 0.003154340904565567, 0.0029692589646632683, 0.002430692070070073, 0.0015719025007525644, 0.00044327250519282657, 0.0008921069347230803, 0.002363860607147217]}],\n",
       "                        {\"template\": {\"data\": {\"bar\": [{\"error_x\": {\"color\": \"#2a3f5f\"}, \"error_y\": {\"color\": \"#2a3f5f\"}, \"marker\": {\"line\": {\"color\": \"#E5ECF6\", \"width\": 0.5}}, \"type\": \"bar\"}], \"barpolar\": [{\"marker\": {\"line\": {\"color\": \"#E5ECF6\", \"width\": 0.5}}, \"type\": \"barpolar\"}], \"carpet\": [{\"aaxis\": {\"endlinecolor\": \"#2a3f5f\", \"gridcolor\": \"white\", \"linecolor\": \"white\", \"minorgridcolor\": \"white\", \"startlinecolor\": \"#2a3f5f\"}, \"baxis\": {\"endlinecolor\": \"#2a3f5f\", \"gridcolor\": \"white\", \"linecolor\": \"white\", \"minorgridcolor\": \"white\", \"startlinecolor\": \"#2a3f5f\"}, \"type\": \"carpet\"}], \"choropleth\": [{\"colorbar\": {\"outlinewidth\": 0, \"ticks\": \"\"}, \"type\": \"choropleth\"}], \"contour\": [{\"colorbar\": {\"outlinewidth\": 0, \"ticks\": \"\"}, \"colorscale\": [[0.0, \"#0d0887\"], [0.1111111111111111, \"#46039f\"], [0.2222222222222222, \"#7201a8\"], [0.3333333333333333, \"#9c179e\"], [0.4444444444444444, \"#bd3786\"], [0.5555555555555556, \"#d8576b\"], [0.6666666666666666, \"#ed7953\"], [0.7777777777777778, \"#fb9f3a\"], [0.8888888888888888, \"#fdca26\"], [1.0, \"#f0f921\"]], \"type\": \"contour\"}], \"contourcarpet\": [{\"colorbar\": {\"outlinewidth\": 0, \"ticks\": \"\"}, \"type\": \"contourcarpet\"}], \"heatmap\": [{\"colorbar\": {\"outlinewidth\": 0, \"ticks\": \"\"}, \"colorscale\": [[0.0, \"#0d0887\"], [0.1111111111111111, \"#46039f\"], [0.2222222222222222, \"#7201a8\"], [0.3333333333333333, \"#9c179e\"], [0.4444444444444444, \"#bd3786\"], [0.5555555555555556, \"#d8576b\"], [0.6666666666666666, \"#ed7953\"], [0.7777777777777778, \"#fb9f3a\"], [0.8888888888888888, \"#fdca26\"], [1.0, \"#f0f921\"]], \"type\": \"heatmap\"}], \"heatmapgl\": [{\"colorbar\": {\"outlinewidth\": 0, \"ticks\": \"\"}, \"colorscale\": [[0.0, \"#0d0887\"], [0.1111111111111111, \"#46039f\"], [0.2222222222222222, \"#7201a8\"], [0.3333333333333333, \"#9c179e\"], [0.4444444444444444, \"#bd3786\"], [0.5555555555555556, \"#d8576b\"], [0.6666666666666666, \"#ed7953\"], [0.7777777777777778, \"#fb9f3a\"], [0.8888888888888888, \"#fdca26\"], [1.0, \"#f0f921\"]], \"type\": \"heatmapgl\"}], \"histogram\": [{\"marker\": {\"colorbar\": {\"outlinewidth\": 0, \"ticks\": \"\"}}, \"type\": \"histogram\"}], \"histogram2d\": [{\"colorbar\": {\"outlinewidth\": 0, \"ticks\": \"\"}, \"colorscale\": [[0.0, \"#0d0887\"], [0.1111111111111111, \"#46039f\"], [0.2222222222222222, \"#7201a8\"], [0.3333333333333333, \"#9c179e\"], [0.4444444444444444, \"#bd3786\"], [0.5555555555555556, \"#d8576b\"], [0.6666666666666666, \"#ed7953\"], [0.7777777777777778, \"#fb9f3a\"], [0.8888888888888888, \"#fdca26\"], [1.0, \"#f0f921\"]], \"type\": \"histogram2d\"}], \"histogram2dcontour\": [{\"colorbar\": {\"outlinewidth\": 0, \"ticks\": \"\"}, \"colorscale\": [[0.0, \"#0d0887\"], [0.1111111111111111, \"#46039f\"], [0.2222222222222222, \"#7201a8\"], [0.3333333333333333, \"#9c179e\"], [0.4444444444444444, \"#bd3786\"], [0.5555555555555556, \"#d8576b\"], [0.6666666666666666, \"#ed7953\"], [0.7777777777777778, \"#fb9f3a\"], [0.8888888888888888, \"#fdca26\"], [1.0, \"#f0f921\"]], \"type\": \"histogram2dcontour\"}], \"mesh3d\": [{\"colorbar\": {\"outlinewidth\": 0, \"ticks\": \"\"}, \"type\": \"mesh3d\"}], \"parcoords\": [{\"line\": {\"colorbar\": {\"outlinewidth\": 0, \"ticks\": \"\"}}, \"type\": \"parcoords\"}], \"pie\": [{\"automargin\": true, \"type\": \"pie\"}], \"scatter\": [{\"marker\": {\"colorbar\": {\"outlinewidth\": 0, \"ticks\": \"\"}}, \"type\": \"scatter\"}], \"scatter3d\": [{\"line\": {\"colorbar\": {\"outlinewidth\": 0, \"ticks\": \"\"}}, \"marker\": {\"colorbar\": {\"outlinewidth\": 0, \"ticks\": \"\"}}, \"type\": \"scatter3d\"}], \"scattercarpet\": [{\"marker\": {\"colorbar\": {\"outlinewidth\": 0, \"ticks\": \"\"}}, \"type\": \"scattercarpet\"}], \"scattergeo\": [{\"marker\": {\"colorbar\": {\"outlinewidth\": 0, \"ticks\": \"\"}}, \"type\": \"scattergeo\"}], \"scattergl\": [{\"marker\": {\"colorbar\": {\"outlinewidth\": 0, \"ticks\": \"\"}}, \"type\": \"scattergl\"}], \"scattermapbox\": [{\"marker\": {\"colorbar\": {\"outlinewidth\": 0, \"ticks\": \"\"}}, \"type\": \"scattermapbox\"}], \"scatterpolar\": [{\"marker\": {\"colorbar\": {\"outlinewidth\": 0, \"ticks\": \"\"}}, \"type\": \"scatterpolar\"}], \"scatterpolargl\": [{\"marker\": {\"colorbar\": {\"outlinewidth\": 0, \"ticks\": \"\"}}, \"type\": \"scatterpolargl\"}], \"scatterternary\": [{\"marker\": {\"colorbar\": {\"outlinewidth\": 0, \"ticks\": \"\"}}, \"type\": \"scatterternary\"}], \"surface\": [{\"colorbar\": {\"outlinewidth\": 0, \"ticks\": \"\"}, \"colorscale\": [[0.0, \"#0d0887\"], [0.1111111111111111, \"#46039f\"], [0.2222222222222222, \"#7201a8\"], [0.3333333333333333, \"#9c179e\"], [0.4444444444444444, \"#bd3786\"], [0.5555555555555556, \"#d8576b\"], [0.6666666666666666, \"#ed7953\"], [0.7777777777777778, \"#fb9f3a\"], [0.8888888888888888, \"#fdca26\"], [1.0, \"#f0f921\"]], \"type\": \"surface\"}], \"table\": [{\"cells\": {\"fill\": {\"color\": \"#EBF0F8\"}, \"line\": {\"color\": \"white\"}}, \"header\": {\"fill\": {\"color\": \"#C8D4E3\"}, \"line\": {\"color\": \"white\"}}, \"type\": \"table\"}]}, \"layout\": {\"annotationdefaults\": {\"arrowcolor\": \"#2a3f5f\", \"arrowhead\": 0, \"arrowwidth\": 1}, \"coloraxis\": {\"colorbar\": {\"outlinewidth\": 0, \"ticks\": \"\"}}, \"colorscale\": {\"diverging\": [[0, \"#8e0152\"], [0.1, \"#c51b7d\"], [0.2, \"#de77ae\"], [0.3, \"#f1b6da\"], [0.4, \"#fde0ef\"], [0.5, \"#f7f7f7\"], [0.6, \"#e6f5d0\"], [0.7, \"#b8e186\"], [0.8, \"#7fbc41\"], [0.9, \"#4d9221\"], [1, \"#276419\"]], \"sequential\": [[0.0, \"#0d0887\"], [0.1111111111111111, \"#46039f\"], [0.2222222222222222, \"#7201a8\"], [0.3333333333333333, \"#9c179e\"], [0.4444444444444444, \"#bd3786\"], [0.5555555555555556, \"#d8576b\"], [0.6666666666666666, \"#ed7953\"], [0.7777777777777778, \"#fb9f3a\"], [0.8888888888888888, \"#fdca26\"], [1.0, \"#f0f921\"]], \"sequentialminus\": [[0.0, \"#0d0887\"], [0.1111111111111111, \"#46039f\"], [0.2222222222222222, \"#7201a8\"], [0.3333333333333333, \"#9c179e\"], [0.4444444444444444, \"#bd3786\"], [0.5555555555555556, \"#d8576b\"], [0.6666666666666666, \"#ed7953\"], [0.7777777777777778, \"#fb9f3a\"], [0.8888888888888888, \"#fdca26\"], [1.0, \"#f0f921\"]]}, \"colorway\": [\"#636efa\", \"#EF553B\", \"#00cc96\", \"#ab63fa\", \"#FFA15A\", \"#19d3f3\", \"#FF6692\", \"#B6E880\", \"#FF97FF\", \"#FECB52\"], \"font\": {\"color\": \"#2a3f5f\"}, \"geo\": {\"bgcolor\": \"white\", \"lakecolor\": \"white\", \"landcolor\": \"#E5ECF6\", \"showlakes\": true, \"showland\": true, \"subunitcolor\": \"white\"}, \"hoverlabel\": {\"align\": \"left\"}, \"hovermode\": \"closest\", \"mapbox\": {\"style\": \"light\"}, \"paper_bgcolor\": \"white\", \"plot_bgcolor\": \"#E5ECF6\", \"polar\": {\"angularaxis\": {\"gridcolor\": \"white\", \"linecolor\": \"white\", \"ticks\": \"\"}, \"bgcolor\": \"#E5ECF6\", \"radialaxis\": {\"gridcolor\": \"white\", \"linecolor\": \"white\", \"ticks\": \"\"}}, \"scene\": {\"xaxis\": {\"backgroundcolor\": \"#E5ECF6\", \"gridcolor\": \"white\", \"gridwidth\": 2, \"linecolor\": \"white\", \"showbackground\": true, \"ticks\": \"\", \"zerolinecolor\": \"white\"}, \"yaxis\": {\"backgroundcolor\": \"#E5ECF6\", \"gridcolor\": \"white\", \"gridwidth\": 2, \"linecolor\": \"white\", \"showbackground\": true, \"ticks\": \"\", \"zerolinecolor\": \"white\"}, \"zaxis\": {\"backgroundcolor\": \"#E5ECF6\", \"gridcolor\": \"white\", \"gridwidth\": 2, \"linecolor\": \"white\", \"showbackground\": true, \"ticks\": \"\", \"zerolinecolor\": \"white\"}}, \"shapedefaults\": {\"line\": {\"color\": \"#2a3f5f\"}}, \"ternary\": {\"aaxis\": {\"gridcolor\": \"white\", \"linecolor\": \"white\", \"ticks\": \"\"}, \"baxis\": {\"gridcolor\": \"white\", \"linecolor\": \"white\", \"ticks\": \"\"}, \"bgcolor\": \"#E5ECF6\", \"caxis\": {\"gridcolor\": \"white\", \"linecolor\": \"white\", \"ticks\": \"\"}}, \"title\": {\"x\": 0.05}, \"xaxis\": {\"automargin\": true, \"gridcolor\": \"white\", \"linecolor\": \"white\", \"ticks\": \"\", \"title\": {\"standoff\": 15}, \"zerolinecolor\": \"white\", \"zerolinewidth\": 2}, \"yaxis\": {\"automargin\": true, \"gridcolor\": \"white\", \"linecolor\": \"white\", \"ticks\": \"\", \"title\": {\"standoff\": 15}, \"zerolinecolor\": \"white\", \"zerolinewidth\": 2}}}, \"width\": 600, \"yaxis\": {\"type\": \"log\"}},\n",
       "                        {\"responsive\": true}\n",
       "                    ).then(function(){\n",
       "                            \n",
       "var gd = document.getElementById('0c2feafb-2402-40f2-ad0f-a7d78f8b426a');\n",
       "var x = new MutationObserver(function (mutations, observer) {{\n",
       "        var display = window.getComputedStyle(gd).display;\n",
       "        if (!display || display === 'none') {{\n",
       "            console.log([gd, 'removed!']);\n",
       "            Plotly.purge(gd);\n",
       "            observer.disconnect();\n",
       "        }}\n",
       "}});\n",
       "\n",
       "// Listen for the removal of the full notebook cells\n",
       "var notebookContainer = gd.closest('#notebook-container');\n",
       "if (notebookContainer) {{\n",
       "    x.observe(notebookContainer, {childList: true});\n",
       "}}\n",
       "\n",
       "// Listen for the clearing of the current output cell\n",
       "var outputEl = gd.closest('.output');\n",
       "if (outputEl) {{\n",
       "    x.observe(outputEl, {childList: true});\n",
       "}}\n",
       "\n",
       "                        })\n",
       "                };\n",
       "                });\n",
       "            </script>\n",
       "        </div>"
      ]
     },
     "metadata": {},
     "output_type": "display_data"
    }
   ],
   "source": [
    "fig = go.Figure()\n",
    "y_pred = np.array( model.predict( multi_input(X_test) ) ).flatten()\n",
    "fig.add_trace(go.Scatter(x = X_test, y = abs(y_test-y_pred)))\n",
    "fig.update_layout(width=600, yaxis_type=\"log\")\n",
    "fig.show()"
   ]
  }
 ],
 "metadata": {
  "kernelspec": {
   "display_name": "Python 3",
   "language": "python",
   "name": "python3"
  },
  "language_info": {
   "codemirror_mode": {
    "name": "ipython",
    "version": 3
   },
   "file_extension": ".py",
   "mimetype": "text/x-python",
   "name": "python",
   "nbconvert_exporter": "python",
   "pygments_lexer": "ipython3",
   "version": "3.7.6"
  }
 },
 "nbformat": 4,
 "nbformat_minor": 4
}
