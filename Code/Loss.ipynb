{
 "cells": [
  {
   "cell_type": "code",
   "execution_count": null,
   "metadata": {},
   "outputs": [],
   "source": [
    "import plotly.graph_objects as go\n",
    "import numpy as np\n",
    "from numpy import ndarray\n",
    "\n",
    "def save_figure_to_file(fig, path, file_name):\n",
    "    # Comment this line if you get an error\n",
    "    fig.write_image(path + '/' + file_name + '.svg')"
   ]
  },
  {
   "cell_type": "code",
   "execution_count": null,
   "metadata": {},
   "outputs": [],
   "source": [
    "x = np.arange(-10,4,1e-2)\n",
    "\n",
    "fig = go.Figure()\n",
    "fig.add_trace(go.Scatter(x=x, y= np.log(1 + np.exp(x)), name='softplus'))\n",
    "fig.update_layout(width=600, title='softplus function')\n",
    "fig.show()"
   ]
  },
  {
   "cell_type": "code",
   "execution_count": null,
   "metadata": {},
   "outputs": [],
   "source": [
    "save_figure_to_file(fig, '../Slides/Deep_Learning', 'fig1')"
   ]
  },
  {
   "cell_type": "code",
   "execution_count": null,
   "metadata": {},
   "outputs": [],
   "source": [
    "def huber(x, delta):\n",
    "    return np.where(np.absolute(x) < delta, \n",
    "                0.5*x**2,\n",
    "                delta * (np.absolute(x) - delta/2))\n",
    "\n",
    "x = np.arange(-2,2,1e-2)\n",
    "    \n",
    "fig = go.Figure()\n",
    "fig.add_trace(go.Scatter(x=x, y= huber(x,1), name='Huber'))\n",
    "fig.update_layout(width=600, title='Huber function')\n",
    "fig.show()"
   ]
  },
  {
   "cell_type": "code",
   "execution_count": null,
   "metadata": {},
   "outputs": [],
   "source": [
    "save_figure_to_file(fig, '../Slides/Deep_Learning', 'fig2')"
   ]
  }
 ],
 "metadata": {
  "kernelspec": {
   "display_name": "Python 3",
   "language": "python",
   "name": "python3"
  },
  "language_info": {
   "codemirror_mode": {
    "name": "ipython",
    "version": 3
   },
   "file_extension": ".py",
   "mimetype": "text/x-python",
   "name": "python",
   "nbconvert_exporter": "python",
   "pygments_lexer": "ipython3",
   "version": "3.7.6"
  }
 },
 "nbformat": 4,
 "nbformat_minor": 4
}
